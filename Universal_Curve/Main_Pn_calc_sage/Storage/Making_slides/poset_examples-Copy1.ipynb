{
 "cells": [
  {
   "cell_type": "markdown",
   "metadata": {
    "slideshow": {
     "slide_type": "slide"
    }
   },
   "source": [
    "# given the vertexs need the relations between then (red or green arrow)"
   ]
  },
  {
   "cell_type": "markdown",
   "metadata": {
    "slideshow": {
     "slide_type": "slide"
    }
   },
   "source": [
    "Want to record the graph poset on the powerset from $f\\in\\tilde{P}_{n}$ to get extendsions using epsilons.\n",
    "\n",
    "Given a selection of \"starting nodes\" want to get all nodes \"above\" in the poset. \n",
    "\n",
    "First get poset examples to see how they are constructed in this.\n"
   ]
  },
  {
   "cell_type": "markdown",
   "metadata": {
    "slideshow": {
     "slide_type": "slide"
    }
   },
   "source": [
    "# Examples of posets\n"
   ]
  },
  {
   "cell_type": "code",
   "execution_count": 31,
   "metadata": {
    "slideshow": {
     "slide_type": "slide"
    }
   },
   "outputs": [
    {
     "data": {
      "image/png": "[encoded data removed]",
      "text/plain": [
       "Graphics object consisting of 10 graphics primitives"
      ]
     },
     "execution_count": 31,
     "metadata": {},
     "output_type": "execute_result"
    }
   ],
   "source": [
    "# P = Poset(DiGraph({'a':['b'],'b':['c'],'c':['d']}), facade=False)\n",
    "# P = Poset({0: [2], 1: [2], 2: [3, 4], 3: [], 4: []})\n",
    "# P = Poset([[1,5], [2,6], [3], [4], [], [6,3], [4]]) # Q why is this a poset?\n",
    "\n",
    "# D = DiGraph({'a':['b','c']})\n",
    "# P = Poset(D)\n",
    "\n",
    "# P=Poset([[1,2,3],[4],[4],[4],[]])\n",
    "\n",
    "# P = posets.ChainPoset(3)\n",
    "\n",
    "# X = (24).divisors()\n",
    "# R = [(a,b) for a in X for b in X if a.divides(b)]; R\n",
    "# P = Poset([X, R])\n",
    "\n",
    "plot(P)"
   ]
  },
  {
   "cell_type": "markdown",
   "metadata": {
    "slideshow": {
     "slide_type": "skip"
    }
   },
   "source": [
    "# To investigate\n"
   ]
  },
  {
   "cell_type": "code",
   "execution_count": null,
   "metadata": {},
   "outputs": [],
   "source": []
  },
  {
   "cell_type": "markdown",
   "metadata": {},
   "source": [
    "# Leftovers\n"
   ]
  },
  {
   "cell_type": "code",
   "execution_count": null,
   "metadata": {},
   "outputs": [],
   "source": [
    "level = D.level_sets()\n",
    "bottomhalf = sum([level[i] for i in range(3)], [])\n",
    "B = D.subposet(bottomhalf)\n",
    "B.plot()"
   ]
  }
 ],
 "metadata": {
  "celltoolbar": "Slideshow",
  "kernelspec": {
   "display_name": "SageMath 9.2",
   "language": "sage",
   "name": "sagemath"
  },
  "language_info": {
   "codemirror_mode": {
    "name": "ipython",
    "version": 3
   },
   "file_extension": ".py",
   "mimetype": "text/x-python",
   "name": "python",
   "nbconvert_exporter": "python",
   "pygments_lexer": "ipython3",
   "version": "3.7.7"
  }
 },
 "nbformat": 4,
 "nbformat_minor": 4
}
