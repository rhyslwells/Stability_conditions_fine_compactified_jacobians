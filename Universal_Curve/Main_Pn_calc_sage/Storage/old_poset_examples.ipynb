{
 "cells": [
  {
   "cell_type": "markdown",
   "metadata": {
    "slideshow": {
     "slide_type": "slide"
    }
   },
   "source": [
    "# given the vertexs need the relations between then (red or green arrow)"
   ]
  },
  {
   "cell_type": "markdown",
   "metadata": {
    "slideshow": {
     "slide_type": "slide"
    }
   },
   "source": [
    "Want to record the graph poset on the powerset from $f\\in\\tilde{P}_{n}$ to get extendsions using epsilons.\n",
    "\n",
    "Given a selection of \"starting nodes\" want to get all nodes \"above\" in the poset. \n",
    "\n",
    "First get poset examples to see how they are constructed in this.\n"
   ]
  },
  {
   "cell_type": "markdown",
   "metadata": {
    "slideshow": {
     "slide_type": "slide"
    }
   },
   "source": [
    "# Examples of posets\n"
   ]
  },
  {
   "cell_type": "code",
   "execution_count": 82,
   "metadata": {
    "slideshow": {
     "slide_type": "slide"
    }
   },
   "outputs": [
    {
     "data": {
      "image/png": "[encoded data removed]",
      "text/plain": [
       "Graphics object consisting of 6 graphics primitives"
      ]
     },
     "execution_count": 82,
     "metadata": {},
     "output_type": "execute_result"
    }
   ],
   "source": [
    "\n",
    "# P = Poset({\"1\": [\"12\"], \"2\": [\"12\"], \"12\": []})\n",
    "\n",
    "# From\n",
    "\n",
    "# Will focus of P_2 first to P_3\n",
    "\n",
    "# P = Poset({\"1\": [\"13\",], \"2\": [\"23\",],\"3\":[\"23\",\"12\",\"123\",] ,\"12\": [\"123\",], \"13\":[],\"23\":[],\"123\":[]})\n",
    "\n",
    "    #From f colour graph green and red keep natural powerset inclusion, reverse the direction of red arrows, \n",
    "    # fill in lists wrt directions from node. \n",
    "\n",
    "    # P = Poset({\"1\": [\"\"], \"2\": [\"12\"],\"3\":[] ,\"12\": [], \"13\":[],\"23\":[],\"123\":[]})\n",
    "\n",
    "P = Poset({\"1\": [\"12\"], \"2\": [\"12\"], \"12\": []})\n",
    "\n",
    "\n",
    "plot(P)"
   ]
  },
  {
   "cell_type": "markdown",
   "metadata": {
    "slideshow": {
     "slide_type": "skip"
    }
   },
   "source": [
    "# To investigate\n"
   ]
  },
  {
   "cell_type": "code",
   "execution_count": 84,
   "metadata": {},
   "outputs": [
    {
     "name": "stdout",
     "output_type": "stream",
     "text": [
      "['1', '12'] \n",
      "\n",
      "5\n",
      "[]\n",
      "['2', '12']\n",
      "['2', '1', '12']\n",
      "['1', '12']\n",
      "['12']\n"
     ]
    }
   ],
   "source": [
    "import numpy as np\n",
    "# Return the order filter generated by the elements of an iterable elements.\n",
    "\n",
    "# I is an order filter if, for any x in I and y such that y≥x, then y is in I. This is also called upper set or upset.\n",
    "\n",
    "X=P.order_filter([\"12\",\"1\" ]) #combinations of vertices.\n",
    "X\n",
    "\n",
    "print(P.order_filter([\"1\" ]),\"\\n\") #combinations of vertices.\n",
    "\n",
    "\n",
    "A=P.directed_subsets('up') # If direction is ‘up’, returns the order filters (upper sets).\n",
    "print(len(sorted(list(A))))\n",
    "\n",
    "for i in A:\n",
    "    print(i)\n",
    "\n",
    "# sorted_A=[list(sorted(x)) for x in A]\n",
    "# print(sorted_A)\n",
    "\n",
    "# print(len(np.unique(sorted_A)))\n",
    "\n",
    "# p=[[\"12\",\"4\",\"23\"],[\"3\",\"4\"]]\n",
    "# [sorted(x)for x in p]"
   ]
  },
  {
   "cell_type": "code",
   "execution_count": null,
   "metadata": {},
   "outputs": [],
   "source": []
  },
  {
   "cell_type": "code",
   "execution_count": null,
   "metadata": {},
   "outputs": [],
   "source": []
  },
  {
   "cell_type": "markdown",
   "metadata": {},
   "source": [
    "# Leftovers\n"
   ]
  },
  {
   "cell_type": "code",
   "execution_count": null,
   "metadata": {},
   "outputs": [],
   "source": [
    "# A chain in a poset P is a subset C ⊆ P such that any two elements in C are comparable (related by ordering)."
   ]
  },
  {
   "cell_type": "code",
   "execution_count": null,
   "metadata": {},
   "outputs": [],
   "source": [
    "#The following formats could work:\n",
    "\n",
    "# P = Poset({0: [2], 1: [2], 2: [3, 4], 3: [], 4: []})\n",
    "\n",
    "# P = Poset(DiGraph({'a':['b'],'b':['c','d']}), facade=False)\n",
    "\n",
    "# X = (24).divisors()\n",
    "# R = [(a,b) for a in X for b in X if a.divides(b)]; R\n",
    "# P = Poset([X, R])"
   ]
  },
  {
   "cell_type": "code",
   "execution_count": null,
   "metadata": {},
   "outputs": [],
   "source": [
    "#Leftover examples (not relevant)\n",
    "\n",
    "P = posets.ChainPoset(3)\n",
    "# P = Poset([[1,5], [2,6], [3], [4], [], [6,3], [4]]) # Q why is this a poset? #Possibly from cover relations\n",
    "# P=Poset([[1,2,3],[4],[4],[4],[]])\n"
   ]
  },
  {
   "cell_type": "code",
   "execution_count": null,
   "metadata": {},
   "outputs": [],
   "source": [
    "#Gets items above selected elemement\n",
    "\n",
    "# P.upper_covers(\"1\") #only works for single element"
   ]
  },
  {
   "cell_type": "code",
   "execution_count": 18,
   "metadata": {},
   "outputs": [
    {
     "name": "stdout",
     "output_type": "stream",
     "text": [
      "[]\n",
      "[1]\n",
      "[2]\n",
      "[1, 2]\n",
      "[3]\n",
      "[1, 3]\n",
      "[2, 3]\n",
      "[1, 2, 3]\n"
     ]
    }
   ],
   "source": [
    "#Powerset vertices\n",
    "\n",
    "S = Subsets([1, 2, 3]); S\n",
    "S.list()\n",
    "[list(s) for s in S.list()]\n",
    "# P = Posets([list(s) for s in S.list()])\n",
    "# plot(P)\n",
    "\n",
    "S=powerset([1,2,3])\n",
    "for i in S:\n",
    "    print(i)\n",
    "# P=posets(Digraph)\n",
    "# plot(P)"
   ]
  },
  {
   "cell_type": "markdown",
   "metadata": {},
   "source": [
    "Remember we don't actually want the powerset just the vertex."
   ]
  },
  {
   "cell_type": "code",
   "execution_count": 45,
   "metadata": {},
   "outputs": [],
   "source": [
    "# P=Posets(3)\n",
    "# plot(P)\n",
    "\n",
    "# P=posets.SetPartitions(3)\n",
    "# plot(P)\n",
    "\n",
    "# P2 = posets.PowerPoset(2); P2\n",
    "# plot(P2)\n",
    "\n",
    "# P=posets.BooleanLattice(2, use_subsets=True)\n",
    "\n",
    "posets.BooleanLattice(3)\n",
    "\n"
   ]
  }
 ],
 "metadata": {
  "kernelspec": {
   "display_name": "SageMath 9.2",
   "language": "sage",
   "name": "sagemath"
  },
  "language_info": {
   "codemirror_mode": {
    "name": "ipython",
    "version": 3
   },
   "file_extension": ".py",
   "mimetype": "text/x-python",
   "name": "python",
   "nbconvert_exporter": "python",
   "pygments_lexer": "ipython3",
   "version": "3.7.7"
  }
 },
 "nbformat": 4,
 "nbformat_minor": 4
}
