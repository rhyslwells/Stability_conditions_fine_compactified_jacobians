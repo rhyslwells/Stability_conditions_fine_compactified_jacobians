{
 "cells": [
  {
   "cell_type": "markdown",
   "metadata": {
    "slideshow": {
     "slide_type": "slide"
    }
   },
   "source": [
    "# What we want"
   ]
  },
  {
   "cell_type": "markdown",
   "metadata": {
    "slideshow": {
     "slide_type": "slide"
    }
   },
   "source": [
    "Using the graph poset from $f\\in\\tilde{P}_{n}$ we want the family of upper sets to get all extensions of $f$."
   ]
  },
  {
   "cell_type": "markdown",
   "metadata": {
    "slideshow": {
     "slide_type": "skip"
    },
    "tags": []
   },
   "source": [
    "## To investigate: Sage notation"
   ]
  },
  {
   "cell_type": "markdown",
   "metadata": {
    "jp-MarkdownHeadingCollapsed": true,
    "tags": []
   },
   "source": [
    "### Digraph"
   ]
  },
  {
   "cell_type": "code",
   "execution_count": 44,
   "metadata": {},
   "outputs": [],
   "source": [
    "D = DiGraph({0:[1, 2, 3], 4:[2, 5], 1:[8], 2:[7], 3:[7], 5:[6,7], 7:[8], 6:[9], 8:[10], 9:[10]})\n",
    "# # D.plot(layout='circular').show()\n",
    "# D.add_edge(7, 4)\n",
    "# D.is_directed_acyclic()\n",
    "# D.vertices()\n",
    "P=Poset(D)"
   ]
  },
  {
   "cell_type": "markdown",
   "metadata": {},
   "source": [
    "### Upper covers multiple elements"
   ]
  },
  {
   "cell_type": "code",
   "execution_count": 46,
   "metadata": {
    "collapsed": true,
    "jupyter": {
     "outputs_hidden": true
    }
   },
   "outputs": [
    {
     "ename": "TypeError",
     "evalue": "unhashable type: 'list'",
     "output_type": "error",
     "traceback": [
      "\u001b[0;31m---------------------------------------------------------------------------\u001b[0m",
      "\u001b[0;31mTypeError\u001b[0m                                 Traceback (most recent call last)",
      "\u001b[0;32m<ipython-input-46-d737028117fa>\u001b[0m in \u001b[0;36m<module>\u001b[0;34m\u001b[0m\n\u001b[1;32m      1\u001b[0m \u001b[0mP\u001b[0m \u001b[0;34m=\u001b[0m \u001b[0mPoset\u001b[0m\u001b[0;34m(\u001b[0m\u001b[0;34m[\u001b[0m\u001b[0;34m[\u001b[0m\u001b[0mInteger\u001b[0m\u001b[0;34m(\u001b[0m\u001b[0;36m1\u001b[0m\u001b[0;34m)\u001b[0m\u001b[0;34m,\u001b[0m\u001b[0mInteger\u001b[0m\u001b[0;34m(\u001b[0m\u001b[0;36m5\u001b[0m\u001b[0;34m)\u001b[0m\u001b[0;34m]\u001b[0m\u001b[0;34m,\u001b[0m \u001b[0;34m[\u001b[0m\u001b[0mInteger\u001b[0m\u001b[0;34m(\u001b[0m\u001b[0;36m2\u001b[0m\u001b[0;34m)\u001b[0m\u001b[0;34m,\u001b[0m\u001b[0mInteger\u001b[0m\u001b[0;34m(\u001b[0m\u001b[0;36m6\u001b[0m\u001b[0;34m)\u001b[0m\u001b[0;34m]\u001b[0m\u001b[0;34m,\u001b[0m \u001b[0;34m[\u001b[0m\u001b[0mInteger\u001b[0m\u001b[0;34m(\u001b[0m\u001b[0;36m3\u001b[0m\u001b[0;34m)\u001b[0m\u001b[0;34m]\u001b[0m\u001b[0;34m,\u001b[0m \u001b[0;34m[\u001b[0m\u001b[0mInteger\u001b[0m\u001b[0;34m(\u001b[0m\u001b[0;36m4\u001b[0m\u001b[0;34m)\u001b[0m\u001b[0;34m]\u001b[0m\u001b[0;34m,\u001b[0m \u001b[0;34m[\u001b[0m\u001b[0;34m]\u001b[0m\u001b[0;34m,\u001b[0m \u001b[0;34m[\u001b[0m\u001b[0mInteger\u001b[0m\u001b[0;34m(\u001b[0m\u001b[0;36m6\u001b[0m\u001b[0;34m)\u001b[0m\u001b[0;34m,\u001b[0m\u001b[0mInteger\u001b[0m\u001b[0;34m(\u001b[0m\u001b[0;36m3\u001b[0m\u001b[0;34m)\u001b[0m\u001b[0;34m]\u001b[0m\u001b[0;34m,\u001b[0m \u001b[0;34m[\u001b[0m\u001b[0mInteger\u001b[0m\u001b[0;34m(\u001b[0m\u001b[0;36m4\u001b[0m\u001b[0;34m)\u001b[0m\u001b[0;34m]\u001b[0m\u001b[0;34m]\u001b[0m\u001b[0;34m)\u001b[0m\u001b[0;34m\u001b[0m\u001b[0;34m\u001b[0m\u001b[0m\n\u001b[0;32m----> 2\u001b[0;31m \u001b[0mP\u001b[0m\u001b[0;34m.\u001b[0m\u001b[0mupper_covers\u001b[0m\u001b[0;34m(\u001b[0m\u001b[0;34m[\u001b[0m\u001b[0mInteger\u001b[0m\u001b[0;34m(\u001b[0m\u001b[0;36m1\u001b[0m\u001b[0;34m)\u001b[0m\u001b[0;34m,\u001b[0m\u001b[0mInteger\u001b[0m\u001b[0;34m(\u001b[0m\u001b[0;36m2\u001b[0m\u001b[0;34m)\u001b[0m\u001b[0;34m]\u001b[0m\u001b[0;34m)\u001b[0m\u001b[0;34m\u001b[0m\u001b[0;34m\u001b[0m\u001b[0m\n\u001b[0m",
      "\u001b[0;32m/opt/sagemath-9.2/local/lib/python3.7/site-packages/sage/combinat/posets/posets.py\u001b[0m in \u001b[0;36mupper_covers\u001b[0;34m(self, x)\u001b[0m\n\u001b[1;32m   3869\u001b[0m         \u001b[0;34m.\u001b[0m\u001b[0;34m.\u001b[0m \u001b[0mSEEALSO\u001b[0m\u001b[0;34m:\u001b[0m\u001b[0;34m:\u001b[0m \u001b[0;34m:\u001b[0m\u001b[0mmeth\u001b[0m\u001b[0;34m:\u001b[0m\u001b[0;31m`\u001b[0m\u001b[0mlower_covers\u001b[0m\u001b[0;31m`\u001b[0m\u001b[0;34m\u001b[0m\u001b[0;34m\u001b[0m\u001b[0m\n\u001b[1;32m   3870\u001b[0m         \"\"\"\n\u001b[0;32m-> 3871\u001b[0;31m         \u001b[0;32mreturn\u001b[0m \u001b[0;34m[\u001b[0m\u001b[0me\u001b[0m \u001b[0;32mfor\u001b[0m \u001b[0me\u001b[0m \u001b[0;32min\u001b[0m \u001b[0mself\u001b[0m\u001b[0;34m.\u001b[0m\u001b[0mupper_covers_iterator\u001b[0m\u001b[0;34m(\u001b[0m\u001b[0mx\u001b[0m\u001b[0;34m)\u001b[0m\u001b[0;34m]\u001b[0m\u001b[0;34m\u001b[0m\u001b[0;34m\u001b[0m\u001b[0m\n\u001b[0m\u001b[1;32m   3872\u001b[0m \u001b[0;34m\u001b[0m\u001b[0m\n\u001b[1;32m   3873\u001b[0m     \u001b[0;32mdef\u001b[0m \u001b[0mlower_covers_iterator\u001b[0m\u001b[0;34m(\u001b[0m\u001b[0mself\u001b[0m\u001b[0;34m,\u001b[0m \u001b[0mx\u001b[0m\u001b[0;34m)\u001b[0m\u001b[0;34m:\u001b[0m\u001b[0;34m\u001b[0m\u001b[0;34m\u001b[0m\u001b[0m\n",
      "\u001b[0;32m/opt/sagemath-9.2/local/lib/python3.7/site-packages/sage/combinat/posets/posets.py\u001b[0m in \u001b[0;36m<listcomp>\u001b[0;34m(.0)\u001b[0m\n\u001b[1;32m   3869\u001b[0m         \u001b[0;34m.\u001b[0m\u001b[0;34m.\u001b[0m \u001b[0mSEEALSO\u001b[0m\u001b[0;34m:\u001b[0m\u001b[0;34m:\u001b[0m \u001b[0;34m:\u001b[0m\u001b[0mmeth\u001b[0m\u001b[0;34m:\u001b[0m\u001b[0;31m`\u001b[0m\u001b[0mlower_covers\u001b[0m\u001b[0;31m`\u001b[0m\u001b[0;34m\u001b[0m\u001b[0;34m\u001b[0m\u001b[0m\n\u001b[1;32m   3870\u001b[0m         \"\"\"\n\u001b[0;32m-> 3871\u001b[0;31m         \u001b[0;32mreturn\u001b[0m \u001b[0;34m[\u001b[0m\u001b[0me\u001b[0m \u001b[0;32mfor\u001b[0m \u001b[0me\u001b[0m \u001b[0;32min\u001b[0m \u001b[0mself\u001b[0m\u001b[0;34m.\u001b[0m\u001b[0mupper_covers_iterator\u001b[0m\u001b[0;34m(\u001b[0m\u001b[0mx\u001b[0m\u001b[0;34m)\u001b[0m\u001b[0;34m]\u001b[0m\u001b[0;34m\u001b[0m\u001b[0;34m\u001b[0m\u001b[0m\n\u001b[0m\u001b[1;32m   3872\u001b[0m \u001b[0;34m\u001b[0m\u001b[0m\n\u001b[1;32m   3873\u001b[0m     \u001b[0;32mdef\u001b[0m \u001b[0mlower_covers_iterator\u001b[0m\u001b[0;34m(\u001b[0m\u001b[0mself\u001b[0m\u001b[0;34m,\u001b[0m \u001b[0mx\u001b[0m\u001b[0;34m)\u001b[0m\u001b[0;34m:\u001b[0m\u001b[0;34m\u001b[0m\u001b[0;34m\u001b[0m\u001b[0m\n",
      "\u001b[0;32m/opt/sagemath-9.2/local/lib/python3.7/site-packages/sage/combinat/posets/posets.py\u001b[0m in \u001b[0;36mupper_covers_iterator\u001b[0;34m(self, x)\u001b[0m\n\u001b[1;32m   3851\u001b[0m             \u001b[0;34m<\u001b[0m\u001b[0;34m...\u001b[0m \u001b[0;34m'generator'\u001b[0m\u001b[0;34m>\u001b[0m\u001b[0;34m\u001b[0m\u001b[0;34m\u001b[0m\u001b[0m\n\u001b[1;32m   3852\u001b[0m         \"\"\"\n\u001b[0;32m-> 3853\u001b[0;31m         \u001b[0;32mfor\u001b[0m \u001b[0me\u001b[0m \u001b[0;32min\u001b[0m \u001b[0mself\u001b[0m\u001b[0;34m.\u001b[0m\u001b[0m_hasse_diagram\u001b[0m\u001b[0;34m.\u001b[0m\u001b[0mneighbor_out_iterator\u001b[0m\u001b[0;34m(\u001b[0m\u001b[0mself\u001b[0m\u001b[0;34m.\u001b[0m\u001b[0m_element_to_vertex\u001b[0m\u001b[0;34m(\u001b[0m\u001b[0mx\u001b[0m\u001b[0;34m)\u001b[0m\u001b[0;34m)\u001b[0m\u001b[0;34m:\u001b[0m\u001b[0;34m\u001b[0m\u001b[0;34m\u001b[0m\u001b[0m\n\u001b[0m\u001b[1;32m   3854\u001b[0m             \u001b[0;32myield\u001b[0m \u001b[0mself\u001b[0m\u001b[0;34m.\u001b[0m\u001b[0m_vertex_to_element\u001b[0m\u001b[0;34m(\u001b[0m\u001b[0me\u001b[0m\u001b[0;34m)\u001b[0m\u001b[0;34m\u001b[0m\u001b[0;34m\u001b[0m\u001b[0m\n\u001b[1;32m   3855\u001b[0m \u001b[0;34m\u001b[0m\u001b[0m\n",
      "\u001b[0;32m/opt/sagemath-9.2/local/lib/python3.7/site-packages/sage/combinat/posets/posets.py\u001b[0m in \u001b[0;36m_element_to_vertex\u001b[0;34m(self, element)\u001b[0m\n\u001b[1;32m   1133\u001b[0m         \u001b[0;32melse\u001b[0m\u001b[0;34m:\u001b[0m\u001b[0;34m\u001b[0m\u001b[0;34m\u001b[0m\u001b[0m\n\u001b[1;32m   1134\u001b[0m             \u001b[0;32mtry\u001b[0m\u001b[0;34m:\u001b[0m\u001b[0;34m\u001b[0m\u001b[0;34m\u001b[0m\u001b[0m\n\u001b[0;32m-> 1135\u001b[0;31m                 \u001b[0;32mreturn\u001b[0m \u001b[0mself\u001b[0m\u001b[0;34m.\u001b[0m\u001b[0m_element_to_vertex_dict\u001b[0m\u001b[0;34m[\u001b[0m\u001b[0melement\u001b[0m\u001b[0;34m]\u001b[0m\u001b[0;34m\u001b[0m\u001b[0;34m\u001b[0m\u001b[0m\n\u001b[0m\u001b[1;32m   1136\u001b[0m             \u001b[0;32mexcept\u001b[0m \u001b[0mKeyError\u001b[0m\u001b[0;34m:\u001b[0m\u001b[0;34m\u001b[0m\u001b[0;34m\u001b[0m\u001b[0m\n\u001b[1;32m   1137\u001b[0m                 \u001b[0;32mraise\u001b[0m \u001b[0mValueError\u001b[0m\u001b[0;34m(\u001b[0m\u001b[0;34m\"element (=%s) not in poset\"\u001b[0m \u001b[0;34m%\u001b[0m \u001b[0melement\u001b[0m\u001b[0;34m)\u001b[0m\u001b[0;34m\u001b[0m\u001b[0;34m\u001b[0m\u001b[0m\n",
      "\u001b[0;31mTypeError\u001b[0m: unhashable type: 'list'"
     ]
    }
   ],
   "source": [
    "P = Poset([[1,5], [2,6], [3], [4], [], [6,3], [4]])\n",
    "P.upper_covers([1,2]) #Fails for multple elements."
   ]
  },
  {
   "cell_type": "markdown",
   "metadata": {},
   "source": [
    "### Hasse diagram"
   ]
  },
  {
   "cell_type": "code",
   "execution_count": 19,
   "metadata": {},
   "outputs": [
    {
     "data": {
      "text/plain": [
       "[[1, 2], [1, 3], [2, 4], [2, 6], [3, 6], [4, 12], [6, 12]]"
      ]
     },
     "execution_count": 19,
     "metadata": {},
     "output_type": "execute_result"
    }
   ],
   "source": [
    "# #Given poset returns directed graph.\n",
    "\n",
    "# P = posets.DivisorLattice(12)\n",
    "# plot(P)\n",
    "H = P.hasse_diagram(); H\n",
    "# plot(H)\n",
    "# # # Digraph on 6 vertices\n",
    "# P.cover_relations()\n",
    "# # [[1, 2], [1, 3], [2, 4], [2, 6], [3, 6], [4, 12], [6, 12]]\n",
    "# # H.edges(labels=False)\n",
    "# # [(1, 2), (1, 3), (2, 4), (2, 6), (3, 6), (4, 12), (6, 12)]"
   ]
  },
  {
   "cell_type": "markdown",
   "metadata": {},
   "source": [
    "### Loops"
   ]
  },
  {
   "cell_type": "code",
   "execution_count": 69,
   "metadata": {},
   "outputs": [
    {
     "data": {
      "text/plain": [
       "0"
      ]
     },
     "execution_count": 69,
     "metadata": {},
     "output_type": "execute_result"
    }
   ],
   "source": [
    "D = DiGraph(4, loops=True)\n",
    "D.add_edges([(0, 0), (2, 2), (3, 3), (2, 3)])\n",
    "D.number_of_loops()\n",
    "# D.edges(labels=False)\n",
    "# plot(D)\n",
    "# # [(0, 0), (1, 1), (2, 2), (2, 3), (3, 3)] #Self connecting loops\n",
    "# D.has_loops()\n",
    "# D.remove_loops()\n",
    "# D.number_of_loops()\n",
    "# D.has_loops()\n",
    "# plot(D)\n",
    "# D.edges(labels=False)\n",
    "# # [(2, 3)]\n",
    "# sage: D.allows_loops()\n",
    "# # True\n",
    "# sage: D.has_loops()\n",
    "# # False"
   ]
  },
  {
   "cell_type": "markdown",
   "metadata": {},
   "source": [
    "### Multiple edges"
   ]
  },
  {
   "cell_type": "code",
   "execution_count": 9,
   "metadata": {},
   "outputs": [
    {
     "data": {
      "image/png": "[encoded data removed]",
      "text/plain": [
       "Graphics object consisting of 7 graphics primitives"
      ]
     },
     "execution_count": 9,
     "metadata": {},
     "output_type": "execute_result"
    }
   ],
   "source": [
    "D = DiGraph(multiedges=True, sparse=True); D\n",
    "# plot(D)\n",
    "# Multi-digraph on 0 vertices\n",
    "# D.has_multiple_edges()\n",
    "# False\n",
    "# D.allows_multiple_edges()\n",
    "# # True\n",
    "D.add_edges([(0, 1)] * 3)\n",
    "# plot(D)\n",
    "# D.has_multiple_edges()\n",
    "# # True\n",
    "# D.multiple_edges()\n",
    "# [(0, 1, None), (0, 1, None), (0, 1, None)]\n",
    "# D.allow_multiple_edges(False); D\n",
    "# Digraph on 2 vertices\n",
    "# D.has_multiple_edges()\n",
    "# # False\n",
    "# D.edges()\n",
    "# [(0, 1, None)]"
   ]
  },
  {
   "cell_type": "markdown",
   "metadata": {},
   "source": [
    "### Investigating failed states: Cycles!"
   ]
  },
  {
   "cell_type": "code",
   "execution_count": 37,
   "metadata": {},
   "outputs": [
    {
     "data": {
      "text/plain": [
       "(False, [(1, 2, 3, 5), (2,), (2, 3, 4, 5), (3,)])"
      ]
     },
     "execution_count": 37,
     "metadata": {},
     "output_type": "execute_result"
    }
   ],
   "source": [
    "import numpy as np\n",
    "import pickle\n",
    "from sage.graphs.graph_input import from_dict_of_lists\n",
    "\n",
    "'''\n",
    "\n",
    "From the first 100 items in funct_graph_lst we have the following failed states:\n",
    "\n",
    "[51, 54, 58, 62, 63, 66, 72, 73, 75, 98, 99]\n",
    "\n",
    "'''\n",
    "\n",
    "#Get funct_graph_lst\n",
    "\n",
    "name=\"for_P6\" #! CHANGE ME\n",
    "\n",
    "path=f\"ins/{name}\"\n",
    "pickle_in = open(path, \"rb\")\n",
    "p_in = pickle.load(pickle_in)\n",
    "pickle_in.close()\n",
    "funct_graph_lst=p_in\n",
    "\n",
    "G=funct_graph_lst[51] \n",
    "\n",
    "# Can form a poset:\n",
    "\n",
    "# try:\n",
    "#     P=Poset(G) #Fails: # Check that the digraph does not contain loops, multiple edges\n",
    "# except ValueError:\n",
    "    \n",
    "\n",
    "# try:\n",
    "#     H=P.hasse_diagram()\n",
    "#     H.is_directed_acyclic()\n",
    "\n",
    "# except ValueError:\n",
    "    \n",
    "    \n",
    "g = DiGraph(loops=True)\n",
    "from_dict_of_lists(g, G,loops=True, multiedges=True)\n",
    "# # g.allows_loops() #True\n",
    "# g.allows_multiple_edges() #True\n",
    "\n",
    "# #Questions:\n",
    "\n",
    "#Loops\n",
    "# g.has_loops() #51: False\n",
    "# g.number_of_loops()# 0\n",
    "# g.has_multiple_edges() # false\n",
    "\n",
    "# g.is_directed_acyclic()\n",
    "g.is_directed_acyclic(certificate=True) #When certificate=True: If the graph is acyclic, returns a pair (True, ordering) where ordering is a list of the vertices such that u appears before v in ordering if u, v is an edge.Else, returns a pair (False, cycle) where cycle is a list of vertices representing a circuit in the graph.\n",
    "\n",
    "#51: (False, [(1, 2, 3, 5), (2,), (2, 3, 4, 5), (3,)])\n",
    "\n",
    "#What does this mean for this function: Is it MSA? how do we get this function\n",
    "\n",
    "#Why can't we form a poset with a cycle?\n",
    "\n",
    "# if we have a cycle can just take vertexs?\n",
    "\n",
    "# P=Poset(g)\n",
    "\n",
    "\n"
   ]
  },
  {
   "cell_type": "markdown",
   "metadata": {},
   "source": [
    "### Get $P_{n+1}$ "
   ]
  },
  {
   "cell_type": "code",
   "execution_count": 1,
   "metadata": {},
   "outputs": [
    {
     "name": "stdout",
     "output_type": "stream",
     "text": [
      "Function 51 fails as: Check that the digraph does not contain loops, multiple edges\n",
      "Function 54 fails as: Check that the digraph does not contain loops, multiple edges\n",
      "Function 58 fails as: Check that the digraph does not contain loops, multiple edges\n",
      "Function 62 fails as: Check that the digraph does not contain loops, multiple edges\n",
      "Function 63 fails as: Check that the digraph does not contain loops, multiple edges\n",
      "Function 66 fails as: Check that the digraph does not contain loops, multiple edges\n",
      "Function 72 fails as: Check that the digraph does not contain loops, multiple edges\n",
      "Function 73 fails as: Check that the digraph does not contain loops, multiple edges\n",
      "Function 75 fails as: Check that the digraph does not contain loops, multiple edges\n",
      "Function 98 fails as: Check that the digraph does not contain loops, multiple edges\n",
      "Function 99 fails as: Check that the digraph does not contain loops, multiple edges\n",
      "\n",
      " The total number of lists of extensions is: 95978\n",
      "\n",
      " [51, 54, 58, 62, 63, 66, 72, 73, 75, 98, 99] Of length: 11\n"
     ]
    }
   ],
   "source": [
    "import numpy as np\n",
    "import pickle\n",
    "from sage.graphs.graph_input import from_dict_of_lists\n",
    "\n",
    "\n",
    "#Get funct_graph_lst\n",
    "\n",
    "name=\"for_P6\" #! CHANGE ME\n",
    "\n",
    "path=f\"ins/{name}\"\n",
    "pickle_in = open(path, \"rb\")\n",
    "p_in = pickle.load(pickle_in)\n",
    "pickle_in.close()\n",
    "funct_graph_lst=p_in[:100] #CHANGE ME\n",
    "\n",
    "\n",
    "#information:\n",
    "    # Return all order filters generated by the elements of an iterable elements.\n",
    "    # I is an order filter if, for any x in I and y such that y≥x, then y is in I. This is also called upper set or upset.\n",
    "    #the format we have fun_g is {(1,): [(1, 2)], (2,): [(1, 2)], (1, 2): []}\n",
    "\n",
    "Up_lst=[]\n",
    "fail_lst_indexs=[]\n",
    "for fun_g in funct_graph_lst: #For P6 do in parts.\n",
    "\n",
    "    G=fun_g\n",
    "    g = DiGraph(loops=True)\n",
    "    from_dict_of_lists(g, G)\n",
    "    \n",
    "#     P=Poset(g)\n",
    "\n",
    "    try:\n",
    "        P=Poset(fun_g)\n",
    "    \n",
    "    except ValueError:\n",
    "        print(f\"Function {funct_graph_lst.index(fun_g)} fails as: Check that the digraph does not contain loops, multiple edges\")\n",
    "        fail_lst_indexs.append(funct_graph_lst.index(fun_g))\n",
    "#         continue\n",
    "\n",
    "    A=P.directed_subsets('up') # If direction is ‘up’, returns the order filters (upper sets).\n",
    "        \n",
    "    Up_lst.append(list(A))\n",
    "          \n",
    "counter=0\n",
    "for i in Up_lst: #\n",
    "    counter+=len(list(i))\n",
    "print(f\"\\n The total number of lists of extensions is: {counter}\")\n",
    "print(\"\\n\",fail_lst_indexs, f\"Of length: {len(fail_lst_indexs)}\")"
   ]
  },
  {
   "cell_type": "code",
   "execution_count": 5,
   "metadata": {
    "collapsed": true,
    "jupyter": {
     "outputs_hidden": true
    }
   },
   "outputs": [
    {
     "name": "stdout",
     "output_type": "stream",
     "text": [
      "[[], [(3,), (2, 3), (1, 3), (1, 2, 3)], [(3,), (2,), (2, 3), (1, 2), (1, 3), (1, 2, 3)], [(3,), (2,), (2, 3), (1,), (1, 2), (1, 3), (1, 2, 3)], [(3,), (2, 3), (1,), (1, 2), (1, 3), (1, 2, 3)], [(3,), (2, 3), (1, 2), (1, 3), (1, 2, 3)], [(2,), (2, 3), (1, 2), (1, 2, 3)], [(2,), (2, 3), (1,), (1, 2), (1, 3), (1, 2, 3)], [(2,), (2, 3), (1, 2), (1, 3), (1, 2, 3)], [(2, 3), (1, 2, 3)], [(2, 3), (1,), (1, 2), (1, 3), (1, 2, 3)], [(2, 3), (1, 2), (1, 2, 3)], [(2, 3), (1, 2), (1, 3), (1, 2, 3)], [(2, 3), (1, 3), (1, 2, 3)], [(1,), (1, 2), (1, 3), (1, 2, 3)], [(1, 2), (1, 2, 3)], [(1, 2), (1, 3), (1, 2, 3)], [(1, 3), (1, 2, 3)], [(1, 2, 3)]] \n",
      "\n",
      "[[], [(2, 3), (1, 2, 3), (2,), (1, 2), (3,), (1, 3)], [(2, 3), (1,), (1, 2, 3), (2,), (1, 2), (3,), (1, 3)], [(1,), (1, 2, 3), (2,), (1, 2), (3,), (1, 3)], [(1, 2, 3), (2,), (1, 2), (3,), (1, 3)], [(2,), (1, 2)], [(2,), (1, 2), (3,), (1, 3)], [(2,), (1, 2), (1, 3)], [(1, 2)], [(1, 2), (3,), (1, 3)], [(1, 2), (1, 3)], [(3,), (1, 3)], [(1, 3)]] \n",
      "\n",
      "[[], [(2, 3), (2,), (1, 2, 3), (1, 2), (3,)], [(2, 3), (2,), (1, 3), (1,), (1, 2, 3), (1, 2), (3,)], [(2, 3), (2,), (1,), (1, 2, 3), (1, 2), (3,)], [(2,), (1, 2, 3), (1, 2), (3,)], [(2,), (1, 3), (1,), (1, 2, 3), (1, 2), (3,)], [(2,), (1,), (1, 2, 3), (1, 2), (3,)], [(1, 3), (1,), (1, 2, 3), (1, 2), (3,)], [(1,), (1, 2, 3), (1, 2), (3,)], [(1, 2, 3), (1, 2), (3,)], [(1, 2)], [(1, 2), (3,)], [(3,)]] \n",
      "\n",
      "[[], [(2,), (1, 2, 3), (3,), (2, 3), (1,), (1, 2)], [(2,), (1, 3), (1, 2, 3), (3,), (2, 3), (1,), (1, 2)], [(1, 3), (1, 2, 3), (3,), (2, 3), (1,), (1, 2)], [(1, 2, 3), (3,), (2, 3), (1,), (1, 2)], [(3,), (2, 3)], [(3,), (2, 3), (1,), (1, 2)], [(3,), (2, 3), (1, 2)], [(2, 3)], [(2, 3), (1,), (1, 2)], [(2, 3), (1, 2)], [(1,), (1, 2)], [(1, 2)]] \n",
      "\n",
      "[[], [(1, 2, 3), (2,), (3,), (2, 3), (1,), (1, 2), (1, 3)], [(2,), (2, 3), (1, 2)], [(2,), (3,), (2, 3), (1, 2), (1, 3)], [(2,), (3,), (2, 3), (1,), (1, 2), (1, 3)], [(2,), (2, 3), (1,), (1, 2), (1, 3)], [(2,), (2, 3), (1, 2), (1, 3)], [(3,), (2, 3), (1, 3)], [(3,), (2, 3), (1,), (1, 2), (1, 3)], [(3,), (2, 3), (1, 2), (1, 3)], [(2, 3)], [(2, 3), (1,), (1, 2), (1, 3)], [(2, 3), (1, 2)], [(2, 3), (1, 2), (1, 3)], [(2, 3), (1, 3)], [(1,), (1, 2), (1, 3)], [(1, 2)], [(1, 2), (1, 3)], [(1, 3)]] \n",
      "\n",
      "[[], [(3,), (2, 3), (1, 3), (1, 2, 3)], [(3,), (1, 2), (2,), (2, 3), (1,), (1, 3), (1, 2, 3)], [(3,), (2,), (2, 3), (1, 3), (1, 2, 3)], [(3,), (2,), (2, 3), (1,), (1, 3), (1, 2, 3)], [(3,), (2, 3), (1,), (1, 3), (1, 2, 3)], [(1, 2), (2,), (2, 3), (1,), (1, 3), (1, 2, 3)], [(2,), (2, 3), (1, 2, 3)], [(2,), (2, 3), (1,), (1, 3), (1, 2, 3)], [(2,), (2, 3), (1, 3), (1, 2, 3)], [(2, 3), (1, 2, 3)], [(2, 3), (1,), (1, 3), (1, 2, 3)], [(2, 3), (1, 3), (1, 2, 3)], [(1,), (1, 3), (1, 2, 3)], [(1, 3), (1, 2, 3)], [(1, 2, 3)]] \n",
      "\n",
      "[[], [(1, 2, 3), (1, 3), (2, 3), (3,), (1, 2), (2,), (1,)], [(1, 3), (3,), (1,)], [(1, 3), (2, 3), (3,), (2,), (1,)], [(1, 3), (2, 3), (3,), (1, 2), (2,), (1,)], [(1, 3), (3,), (1, 2), (2,), (1,)], [(1, 3), (3,), (2,), (1,)], [(2, 3), (3,), (2,)], [(2, 3), (3,), (1, 2), (2,), (1,)], [(2, 3), (3,), (2,), (1,)], [(3,)], [(3,), (1, 2), (2,), (1,)], [(3,), (2,)], [(3,), (2,), (1,)], [(3,), (1,)], [(1, 2), (2,), (1,)], [(2,)], [(2,), (1,)], [(1,)]] \n",
      "\n",
      "[[], [(2, 3), (3,), (1, 2, 3), (1, 3), (2,)], [(2, 3), (3,), (1, 2), (1,), (1, 2, 3), (1, 3), (2,)], [(2, 3), (3,), (1,), (1, 2, 3), (1, 3), (2,)], [(3,), (1, 2, 3), (1, 3), (2,)], [(3,), (1, 2), (1,), (1, 2, 3), (1, 3), (2,)], [(3,), (1,), (1, 2, 3), (1, 3), (2,)], [(1, 2), (1,), (1, 2, 3), (1, 3), (2,)], [(1,), (1, 2, 3), (1, 3), (2,)], [(1, 2, 3), (1, 3), (2,)], [(1, 3)], [(1, 3), (2,)], [(2,)]] \n",
      "\n",
      "[[], [(2, 3), (3,), (2,), (1, 2, 3)], [(2, 3), (1, 3), (3,), (2,), (1,), (1, 2, 3)], [(2, 3), (1, 3), (3,), (1, 2), (2,), (1,), (1, 2, 3)], [(2, 3), (3,), (1, 2), (2,), (1,), (1, 2, 3)], [(2, 3), (3,), (2,), (1,), (1, 2, 3)], [(1, 3), (3,), (1,), (1, 2, 3)], [(1, 3), (3,), (1, 2), (2,), (1,), (1, 2, 3)], [(1, 3), (3,), (2,), (1,), (1, 2, 3)], [(3,), (1, 2, 3)], [(3,), (1, 2), (2,), (1,), (1, 2, 3)], [(3,), (2,), (1, 2, 3)], [(3,), (2,), (1,), (1, 2, 3)], [(3,), (1,), (1, 2, 3)], [(1, 2), (2,), (1,), (1, 2, 3)], [(2,), (1, 2, 3)], [(2,), (1,), (1, 2, 3)], [(1,), (1, 2, 3)], [(1, 2, 3)]] \n",
      "\n",
      "[[], [(1, 3), (3,), (1, 2, 3), (2, 3), (1,)], [(1, 3), (3,), (1, 2), (2,), (1, 2, 3), (2, 3), (1,)], [(1, 3), (3,), (2,), (1, 2, 3), (2, 3), (1,)], [(3,), (1, 2, 3), (2, 3), (1,)], [(3,), (1, 2), (2,), (1, 2, 3), (2, 3), (1,)], [(3,), (2,), (1, 2, 3), (2, 3), (1,)], [(1, 2), (2,), (1, 2, 3), (2, 3), (1,)], [(2,), (1, 2, 3), (2, 3), (1,)], [(1, 2, 3), (2, 3), (1,)], [(2, 3)], [(2, 3), (1,)], [(1,)]] \n",
      "\n"
     ]
    }
   ],
   "source": []
  },
  {
   "cell_type": "code",
   "execution_count": 20,
   "metadata": {},
   "outputs": [],
   "source": [
    "import csv\n",
    "\n",
    "with open('cvs_P6_1.csv', 'w') as f: #! CHANGE ME\n",
    "    # using csv.writer method from CSV package\n",
    "    write = csv.writer(f)\n",
    "    write.writerows(Up_lst)\n"
   ]
  },
  {
   "cell_type": "code",
   "execution_count": null,
   "metadata": {},
   "outputs": [],
   "source": []
  }
 ],
 "metadata": {
  "interpreter": {
   "hash": "8c751c5368d13050ce8c1acd6139b7884053f8d560bb44d30eb5396557ffa7ea"
  },
  "kernelspec": {
   "display_name": "Python 3 (ipykernel)",
   "language": "python",
   "name": "python3"
  },
  "language_info": {
   "codemirror_mode": {
    "name": "ipython",
    "version": 3
   },
   "file_extension": ".py",
   "mimetype": "text/x-python",
   "name": "python",
   "nbconvert_exporter": "python",
   "pygments_lexer": "ipython3",
   "version": "3.8.12"
  }
 },
 "nbformat": 4,
 "nbformat_minor": 4
}
