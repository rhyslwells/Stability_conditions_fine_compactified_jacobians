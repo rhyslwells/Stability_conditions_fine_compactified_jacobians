{
 "cells": [
  {
   "cell_type": "markdown",
   "metadata": {
    "tags": []
   },
   "source": [
    "### MAIN: Get $P_{n+1}$ "
   ]
  },
  {
   "cell_type": "code",
   "execution_count": 24,
   "metadata": {},
   "outputs": [
    {
     "name": "stdout",
     "output_type": "stream",
     "text": [
      "()\n",
      "((1,),)\n",
      "((2,),)\n",
      "((1, 2),)\n",
      "((1,), (2,))\n",
      "((1,), (1, 2))\n",
      "((2,), (1, 2))\n",
      "((1,), (2,), (1, 2))\n",
      "Number of combinations we are checking: 8\n",
      "\n",
      " The total number of lists of extensions is: 5\n"
     ]
    }
   ],
   "source": [
    "\"\"\" Get all extensions from the decorated graph (not a poset) of a function in Pn. These extensions are obtained by taking all combinatios\n",
    "of vertices, I, and obtaining the vertices reachable from I and including I. \"\"\"\n",
    "\n",
    "import numpy as np\n",
    "import pickle\n",
    "import networkx as nx\n",
    "from sage.graphs.graph_input import from_dict_of_lists\n",
    "import itertools\n",
    "from collections import OrderedDict\n",
    "\n",
    "name=\"for_P3\" #! CHANGE ME\n",
    "path=f\"ins/{name}\"\n",
    "pickle_in = open(path, \"rb\")\n",
    "p_in = pickle.load(pickle_in)\n",
    "pickle_in.close()\n",
    "# funct_graph_lst=p_in[:100] #For P6\n",
    "funct_graph_lst=p_in\n",
    "\n",
    "#Pick first graph and get combinations of vertices, so dont need to calc each time.\n",
    "G=funct_graph_lst[0]\n",
    "g=nx.DiGraph(G)\n",
    "verts=g.nodes\n",
    "combs=[]\n",
    "for L in range(0, len(verts)+1):\n",
    "    for subset in itertools.combinations(verts, L):\n",
    "        combs.append(list(subset))\n",
    "        print(subset)\n",
    "vert_len=len(verts)\n",
    "\n",
    "print(\"Number of combinations we are checking:\",len(combs))#: #for P3,P4,P5: 8,128,32768\n",
    "    \n",
    "Up_lst=[]\n",
    "fail_lst_indexs=[]\n",
    "for fun_g in [funct_graph_lst[0]]: #For P6 do in parts. #For P6 #CHANGEME\n",
    "    \n",
    "#     print(funct_graph_lst.index(fun_g))\n",
    "\n",
    "    extend_f=[]    \n",
    "    G=fun_g\n",
    "    g=nx.DiGraph(G)\n",
    "    \n",
    "    for I in combs:#Run through combos of verts.# Takes the most time.\n",
    "        setv=Set([])\n",
    "#         print(I)\n",
    "        for i in I: \n",
    "            nodes = list(nx.shortest_path(g,i).keys())\n",
    "            snodes=Set(nodes)\n",
    "            setv=setv|snodes\n",
    "#             print(len(setv))\n",
    "#             if len(setv)==vert_len:\n",
    "#                 break\n",
    "        extend_f.append(sorted(list(setv)))\n",
    "        \n",
    "    #Want to kill repeats in this indent: #When i want to remove repeats from a list of lists.\n",
    "    lst =extend_f\n",
    "    t_lst=[tuple([tuple(i) for i in x]) for x in lst]\n",
    "    no_repeats=list(OrderedDict.fromkeys(t_lst))#\n",
    "    no_reps_lst=[[list(i) for i in x] for x in no_repeats]\n",
    "    \n",
    "    Up_lst.append(no_reps_lst) #     Up_lst.append(extend_f)\n",
    "\n",
    "counter=0\n",
    "for i in Up_lst: #\n",
    "    counter+=len(list(i))\n",
    "print(f\"\\n The total number of lists of extensions is: {counter}\")\n"
   ]
  },
  {
   "cell_type": "markdown",
   "metadata": {
    "tags": []
   },
   "source": [
    "### Leftovers"
   ]
  },
  {
   "cell_type": "code",
   "execution_count": 27,
   "metadata": {},
   "outputs": [
    {
     "name": "stdout",
     "output_type": "stream",
     "text": [
      "{'G', 'B', 'L', 'C'}\n",
      "['G', 'B', 'L', 'C']\n"
     ]
    },
    {
     "data": {
      "image/png": "[encoded data removed]",
      "text/plain": [
       "<Figure size 432x288 with 1 Axes>"
      ]
     },
     "metadata": {},
     "output_type": "display_data"
    }
   ],
   "source": [
    "\"\"\" For combinations of vertices get reachable vertices.\n",
    "Source: https://sgyzetrov.github.io/Using_NetworkX_to_find_all_reachable_nodes_in_graph.html\n",
    "\"\"\"\n",
    "\n",
    "import networkx as nx # version 2.5\n",
    "\n",
    "# Example\n",
    "g = nx.DiGraph()\n",
    "nx.add_path(g, ['A','C','B'])\n",
    "# nx.add_path(g, ['C','A'])\n",
    "nx.add_path(g, ['E','F','A'])\n",
    "nx.add_path(g, ['E','G','L'])\n",
    "nx.draw(g, with_labels=True, node_color='yellow')\n",
    "\n",
    "#We have digraph frun fun_g\n",
    "\n",
    "#Rem to add current vertices to extension.  use +. # Looks like it already adds these verts.\n",
    "\n",
    "verts=['C','G'] # item from combs\n",
    "\n",
    "setv=Set([])\n",
    "# print(setv)\n",
    "for i in verts:\n",
    "    nodes = list(nx.shortest_path(g,i).keys())\n",
    "#     print(i)\n",
    "#     print(list(nodes))\n",
    "    snodes=Set(nodes)\n",
    "    setv=setv|snodes\n",
    "#     print(snodes)\n",
    "    \n",
    "print(setv)\n",
    "\n",
    "#------------------------\n",
    "# setv=Set([])\n",
    "# for i in verts:\n",
    "#     nodes = list(nx.shortest_path(g,i).keys())\n",
    "#     snodes=Set(nodes)\n",
    "#     setv=setv|snodes\n",
    "    \n",
    "# extensions.append(list(setv))\n"
   ]
  },
  {
   "cell_type": "code",
   "execution_count": null,
   "metadata": {},
   "outputs": [],
   "source": [
    "# Leftovers\n",
    "\n",
    "# What does shortest path do?# Okay i think itll do what i think.\n",
    "# g = net.DiGraph()\n",
    "# net.add_path(g, ['A','B','C'])\n",
    "# net.add_path(g, ['A',\"D\"])\n",
    "# net.draw(g, with_labels=True, node_color='yellow')\n",
    "# nodes = net.shortest_path(g,\"A\").keys() # Starting node for path. If not specified, compute shortest paths for each possible starting node.\"\"\"\n",
    "# print(nodes)"
   ]
  },
  {
   "cell_type": "code",
   "execution_count": 20,
   "metadata": {},
   "outputs": [],
   "source": [
    "import csv\n",
    "\n",
    "with open('cvs_P3_nx.csv', 'w') as f: #! CHANGE ME\n",
    "    # using csv.writer method from CSV package\n",
    "    write = csv.writer(f)\n",
    "    write.writerows(Up_lst)\n"
   ]
  },
  {
   "cell_type": "markdown",
   "metadata": {},
   "source": []
  },
  {
   "cell_type": "code",
   "execution_count": null,
   "metadata": {},
   "outputs": [],
   "source": [
    "A = frozenset([1, 2, 3])\n",
    "B = frozenset([1,3,2])\n",
    "# A={1,2,3}\n",
    "# B={1,2,3}\n",
    "C=set([A,B])\n",
    "C"
   ]
  },
  {
   "cell_type": "code",
   "execution_count": null,
   "metadata": {},
   "outputs": [],
   "source": [
    "\"\"\" For combinations of vertices get reachable vertices.\n",
    "Source: https://sgyzetrov.github.io/Using_NetworkX_to_find_all_reachable_nodes_in_graph.html\n",
    "\"\"\"\n",
    "\n",
    "import networkx as net # version 2.5\n",
    "import matplotlib.pyplot as plt\n",
    "\n",
    "#----------------------------\n",
    "\n",
    "# Create a sample graph\n",
    "# g = net.DiGraph()\n",
    "# net.add_path(g, ['A','B','C'])\n",
    "# net.add_path(g, ['A','C','D'])\n",
    "# net.add_path(g, ['A','E','F'])\n",
    "# net.draw(g, with_labels=True, node_color='yellow')\n",
    "# nodes = net.shortest_path(g,'B').keys() # Starting node for path. If not specified, compute shortest paths for each possible starting node.\"\"\"\n",
    "\n",
    "\n",
    "#What is there is a loop? # seems to work.\n",
    "# g = net.DiGraph()\n",
    "# net.add_path(g, ['A','B','C'])\n",
    "# net.add_path(g, ['C','A'])\n",
    "# net.add_path(g, ['A','E','F'])\n",
    "# net.draw(g, with_labels=True, node_color='yellow')\n",
    "\n",
    "# verts=['C']\n",
    "\n",
    "# setv=Set([]).is_empty()\n",
    "# for i in verts:\n",
    "#     nodes = list(net.shortest_path(g,i).keys())\n",
    "# #     print(i)\n",
    "# #     print(list(nodes))\n",
    "#     snodes=Set(nodes)\n",
    "# #     setv.union(snodes)\n",
    "# #     print(snodes)\n",
    "    \n",
    "# print(snodes)\n",
    "\n"
   ]
  },
  {
   "cell_type": "code",
   "execution_count": null,
   "metadata": {},
   "outputs": [],
   "source": [
    "# Multiple-source reachability:\n",
    "    \n",
    "# traversal digraph \n",
    "\n",
    "# # https://ask.sagemath.org/question/38452/paths-beginning-with-a-certain-vertex/\n",
    "\n",
    "# def findAllPaths( G, startVertex, length ):\n",
    "\n",
    "#     vertices  = G.vertices()\n",
    "#     edges     = G.edges( labels=False )\n",
    "#     sim_edges = [ (k,j) for (j,k) in edges if j != k ]\n",
    "#     edges    += sim_edges\n",
    "\n",
    "#     edges . sort()\n",
    "\n",
    "#     paths = [ [ startVertex, ] ]\n",
    "#     L     = 0\n",
    "\n",
    "#     while L < length:\n",
    "#         paths = [ pat + [ vertex, ]\n",
    "#                   for pat in paths\n",
    "#                   for vertex in vertices\n",
    "#                   if ( pat[-1], vertex ) in edges ]\n",
    "#         L += 1\n",
    "#     return paths\n",
    "\n",
    "\n",
    "# G = graphs.OctahedralGraph()\n",
    "# pathsG7 = findAllPaths( G, 0, 7 )\n",
    "\n",
    "# for path in pathsG7:\n",
    "#     print ''.join( [ str(v) for v in path ] )"
   ]
  },
  {
   "cell_type": "code",
   "execution_count": null,
   "metadata": {},
   "outputs": [],
   "source": [
    "# # import networkx as nx\n",
    "\n",
    "# # Search: digraph subgraph generate on vertices\n",
    "# # https://networkx.org/documentation/stable/reference/classes/generated/networkx.Graph.subgraph.html\n",
    "\n",
    "# # G = nx.path_graph(4)  # or DiGraph, MultiGraph, MultiDiGraph, etc\n",
    "# # # nx.draw(G)\n",
    "\n",
    "# # # H = G.subgraph([0, 1, 2])\n",
    "\n",
    "# # list(H.edges)\n",
    "\n",
    "# #For non digraphs though.\n",
    "\n",
    "# # list(G.edges)\n",
    "# # [(0, 1), (1, 2)]\n",
    "\n",
    "# #-----------------------\n",
    "\n",
    "# G = nx.DiGraph()\n",
    "# G.add_edges_from([(1, 2), (1, 3),(3,4),(4,5)])\n",
    "# print(list(G.edges()))\n",
    "# # nx.draw(G)\n",
    "\n",
    "# H=G.subgraph([3])\n",
    "# # nx.draw(H)\n",
    "\n",
    "# list(H.edges())\n",
    "\n",
    "# # Doesnt get vertices along source vertices.\n",
    "\n",
    "# #The induced subgraph of the graph contains the nodes in nbunch and the edges between those nodes.\n",
    "\n"
   ]
  }
 ],
 "metadata": {
  "interpreter": {
   "hash": "8c751c5368d13050ce8c1acd6139b7884053f8d560bb44d30eb5396557ffa7ea"
  },
  "kernelspec": {
   "display_name": "Python 3 (ipykernel)",
   "language": "python",
   "name": "python3"
  },
  "language_info": {
   "codemirror_mode": {
    "name": "ipython",
    "version": 3
   },
   "file_extension": ".py",
   "mimetype": "text/x-python",
   "name": "python",
   "nbconvert_exporter": "python",
   "pygments_lexer": "ipython3",
   "version": "3.8.12"
  }
 },
 "nbformat": 4,
 "nbformat_minor": 4
}
