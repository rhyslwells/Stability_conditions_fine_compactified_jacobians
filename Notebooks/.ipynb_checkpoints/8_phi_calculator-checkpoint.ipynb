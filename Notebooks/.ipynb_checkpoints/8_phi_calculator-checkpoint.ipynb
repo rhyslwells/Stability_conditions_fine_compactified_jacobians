{
 "cells": [
  {
   "cell_type": "markdown",
   "metadata": {
    "toc-hr-collapsed": true
   },
   "source": [
    "# Overview"
   ]
  },
  {
   "cell_type": "markdown",
   "metadata": {},
   "source": [
    "Fix a graph $\\Gamma$ and recall the definition of a $\\phi$-stability condition as given in Section $2.2$ of the thesis."
   ]
  },
  {
   "cell_type": "markdown",
   "metadata": {},
   "source": [
    "Here we state a method which given $\\phi \\in V^{d}(\\Gamma)$ returns $\\sigma_{\\Gamma}^{\\phi} \\in \\Sigma_{\\Gamma}^{d}$ (provided $\\phi$ is non-degenerate). In particular this method return $A_{\\Gamma}:=\\sigma_{\\Gamma}^{\\phi}|_{\\mathcal{ST(\\Gamma)}}$ and $\\sigma_{\\Gamma}^{\\phi}(\\Gamma)$. "
   ]
  },
  {
   "cell_type": "markdown",
   "metadata": {},
   "source": [
    "## Method outline"
   ]
  },
  {
   "cell_type": "markdown",
   "metadata": {},
   "source": [
    "Given $\\phi$ we use the definition of $\\phi$-stability conditions to define $\\vec{d} \\in \\Sigma_{\\Gamma}^{\\phi}(T)$ for each $T \\in \\mathcal{ST}(\\Gamma)$. Let $\\Gamma^{'}$ be a elementary induced subgraph of $\\Gamma$. We do this by:\n",
    "\n",
    "1) First computing all the components to define the upper and lower bound for $\\vec{d}_{\\Gamma^{'}}$ as stated in the definition of $\\phi$-stability condition in the case of a tree $T$ and $\\Gamma^{'}$.\n",
    "\n",
    "2) We "
   ]
  },
  {
   "cell_type": "markdown",
   "metadata": {},
   "source": [
    "- Given $\\phi$ get bounds for $\\sum_{I} d_I$ where $I$ is given by the set of vertices for complete subgraphs used above.\n",
    "- Change upper and lower\n",
    "- Store as a dictionary of form: dic = {\"1\":[0,1,3], \"2\":[0,-1], \"12\":[0,4]}\n",
    "- Pass dictionary to solver to get unique $\\vec{d}$"
   ]
  },
  {
   "cell_type": "code",
   "execution_count": null,
   "metadata": {},
   "outputs": [],
   "source": []
  },
  {
   "cell_type": "markdown",
   "metadata": {
    "tags": []
   },
   "source": [
    "# Table of contents\n"
   ]
  },
  {
   "cell_type": "code",
   "execution_count": null,
   "metadata": {},
   "outputs": [],
   "source": [
    "1. [Functions](#s1)\n",
    "    1. [Cyclic graphs: genus 1](#s11)\n",
    "    2. [Genus 2 graphs with middle edges](#s12)\n",
    "2. [Examples](#s2)"
   ]
  },
  {
   "cell_type": "markdown",
   "metadata": {
    "tags": [],
    "toc-hr-collapsed": true
   },
   "source": [
    "# Functions"
   ]
  },
  {
   "cell_type": "markdown",
   "metadata": {},
   "source": [
    "## Used throughout"
   ]
  },
  {
   "cell_type": "code",
   "execution_count": 1,
   "metadata": {},
   "outputs": [],
   "source": [
    "import numpy as np\n",
    "import itertools\n",
    "import pickle\n",
    "from fractions import Fraction\n",
    "from collections import Counter\n",
    "import textwrap"
   ]
  },
  {
   "cell_type": "markdown",
   "metadata": {
    "tags": []
   },
   "source": [
    "## Get $\\sigma_{\\Gamma}^{\\phi}(\\Gamma)$"
   ]
  },
  {
   "cell_type": "markdown",
   "metadata": {},
   "source": [
    "We take the assignment induced datum $\\sigma_{\\Gamma}^{A_{\\Gamma}}$ for a given $A_{\\Gamma}$. See \"1_Assignment_induced_datum.ipynb\" for the description of the following functions"
   ]
  },
  {
   "cell_type": "code",
   "execution_count": 2,
   "metadata": {},
   "outputs": [],
   "source": [
    "# Assignment_datum_for_G for w_stability:\n",
    "def get_sp_trees(G): #Out: list of edges in spanning tree\n",
    "    all_trees=[]\n",
    "    for g in list(G.spanning_trees()):\n",
    "        all_trees.append(g.edges(sort=True, labels=False))\n",
    "    return all_trees\n",
    "def list_difference(a, b):\n",
    "    \"https://stackoverflow.com/questions/8106227/difference-between-two-lists-with-duplicates-in-python\"\n",
    "    count = Counter(a) # count items in a\n",
    "    count.subtract(b)  # subtract items that are in b\n",
    "    diff = []\n",
    "    for x in a:\n",
    "        if count[x] > 0:\n",
    "           count[x] -= 1\n",
    "           diff.append(x)\n",
    "    return diff\n",
    "\n",
    "def chip_adding(graph_t,tree,ass):\n",
    "    \"\"\"\n",
    "    Inputs:\n",
    "    graph: G_edges graph edges\n",
    "    tree : spanning tree of graph\n",
    "    ass : an n=vert(graph) tuple on the spanning tree.\n",
    "    \n",
    "    recursion idea: https://stackoverflow.com/questions/53638816/python-library-function-to-re-apply-a-function-to-its-own-output-until-output-re\n",
    "    \"\"\"\n",
    "    \n",
    "    edges=graph_t # just want the edges \n",
    "    \n",
    "#     print(\"Gp edges\",graph_t)\n",
    "#     print(\"tree edges\",tree)\n",
    "    \n",
    "    n=len(ass)\n",
    "    complement=list_difference(graph_t,tree) #edges in complement.\n",
    "    \n",
    "    def rec_funct(edge_l,inputs,n):\n",
    "        data=[]\n",
    "        edge=edge_l[0]\n",
    "        \n",
    "        for b in inputs:\n",
    "            delta_1=np.zeros(n)\n",
    "            delta_2=np.zeros(n)\n",
    "            \n",
    "            delta_1[int(edge[0])]=1 #we chip add at the first vertex. #### <- CHANGED as taking vertices 0,..,n-1 now\n",
    "            delta_2[int(edge[1])]=1 #we chip add at the second vertex.\n",
    "            \n",
    "            b1=b+delta_1\n",
    "            b2=b+delta_2\n",
    "            data=data+[b1,b2]\n",
    "        \n",
    "        return (edge_l,data,n)\n",
    "    \n",
    "    def recursion(edge_l,inputs,n):\n",
    "        \n",
    "        new_data=rec_funct(edge_l,inputs,n)\n",
    "        edge_l=edge_l[1:] #removeing first edge        \n",
    "        new_data=(edge_l,new_data[1],new_data[2])\n",
    "                \n",
    "        if len(edge_l)==0:\n",
    "            new_inputs=new_data[1]\n",
    "            return new_inputs\n",
    "        else:\n",
    "            return recursion(*new_data)\n",
    "        \n",
    "    breaks=recursion(complement,[np.zeros(n)],n)\n",
    "    breaks=np.unique(breaks, axis=0)\n",
    "    \n",
    "    patch=[]\n",
    "    for bbreak in breaks:\n",
    "        patch.append(ass+bbreak)\n",
    "    \n",
    "    return patch\n",
    "\n",
    "def w_stability(graph,Assignments):\n",
    "    \n",
    "    \"\"\"\n",
    "    #Graphs are labelled v0 to v_n-1\n",
    "    Inputs:\n",
    "        graph: Any smallish finite multigraph\n",
    "        Assignments: A list of (complexity of graph many) lists of length vert(graph).\n",
    "    \n",
    "    Outputs: a list of lists of length vert(graph) corresponding to liine bundle multidegrees obtained by chip adding.\n",
    "\n",
    "    \"\"\"\n",
    "    G=graph\n",
    "    \n",
    "    G_edges=G.edges(sort=True, labels=False)\n",
    "    tree_l=get_sp_trees(G)\n",
    "\n",
    "    lbm_patches=[] # the set of patches,which we'll take the union of. \n",
    "    for index,tree in enumerate(tree_l):    \n",
    "        ass=Assignments[index]    \n",
    "        patch=chip_adding(G_edges,tree,ass)  \n",
    "        \n",
    "#         print(\"Patch\",[x.astype(int).tolist() for x in patch],\"\\n\") #If want to see patches of lbm.\n",
    "        \n",
    "        lbm_patches.append(patch)\n",
    "    \n",
    "    sig=np.concatenate(lbm_patches, axis=0)\n",
    "    \n",
    "    sig=sig.astype('int32')\n",
    "    \n",
    "#     print(np.array(sig))\n",
    "    sig=np.unique(sig, axis=0)\n",
    "    \n",
    "    return sig\n",
    "\n",
    "def check_size(G,sigma):\n",
    "#     print(\"len(get_sp_trees(G))\",len(get_sp_trees(G)))\n",
    "#     print(\"len(sigma)\",len(sigma))\n",
    "    if len(sigma)==len(get_sp_trees(G)):\n",
    "        x=\"This choice of assignments -- gives -- a stability condition.\"\n",
    "        y=True\n",
    "    else: \n",
    "        x=\"This choice of assignments -- not give -- a stability condition.\"\n",
    "        y= False \n",
    "    return y,x"
   ]
  },
  {
   "cell_type": "markdown",
   "metadata": {
    "jp-MarkdownHeadingCollapsed": true,
    "tags": []
   },
   "source": [
    "## Get components to define $\\sigma_{\\Gamma}^{\\phi}$"
   ]
  },
  {
   "cell_type": "markdown",
   "metadata": {},
   "source": [
    "We now state the function to obtain all the components to define the upper and lower bound for $\\vec{d}_{\\Gamma^{'}}. See \"5_phi_analysis\" for a description of the following functions."
   ]
  },
  {
   "cell_type": "code",
   "execution_count": 3,
   "metadata": {},
   "outputs": [],
   "source": [
    "def get_pairs_con_subg(G):# for phi_tree_inequalities_data\n",
    "    \n",
    "    \"\"\"\n",
    "    Note: we are not working with multigraphs so connected_subgraph_iterator should give subgraphs with all edges between\n",
    "    \n",
    "    If Issue may be HERE due to this. \n",
    "    \n",
    "    Objective: Used to get cut info and total degree adjustment\n",
    "    Input:\n",
    "    Return: Pairs of complete subgraphs for V and V^{c} such that V scup V^{c}=V(G)\n",
    "    \"\"\"\n",
    "    \n",
    "    vert_G=G.vertices()\n",
    "    edges_G=G.edges()\n",
    "    \n",
    "    #get list of connected subgraphs:\n",
    "    \n",
    "    #Want to get pairs of complete subgraphs for pairs of vertices that is a is disjoint union of all verts\n",
    "    ll=list(G.connected_subgraph_iterator())\n",
    "\n",
    "    # put them into pairs, where vertices are a disjoint union of G.\n",
    "    pairs=[]\n",
    "    for i in ll:\n",
    "        a=i.vertices()\n",
    "        for j in ll:\n",
    "            b=j.vertices()\n",
    "            if sorted(a+b)==vert_G:\n",
    "                #May need to take complete graph here containing a, and for b. \n",
    "                pairs.append((i,j))\n",
    "                \n",
    "#                 \"\"\"\n",
    "#                 We only need one subgraph in the cut, the following step prevents us having both subg in a cut.\n",
    "#                 \"\"\"\n",
    "#                 if (i,j) in pairs:\n",
    "#                     continue\n",
    "#                 if (j,i) in pairs:\n",
    "#                     continue\n",
    "#                 else:\n",
    "#                     pairs.append((i,j))\n",
    "                    \n",
    "#     for i in get_pairs_con_subg(G):\n",
    "#         print(i[0].vertices(),i[1].vertices())\n",
    "    return pairs\n",
    "\n",
    "def get_cut_edges(G,pair): #for phi_tree_inequalities_data\n",
    "    \n",
    "    \"\"\"\n",
    "    Obj:Get list of the edges in a cut for a given pair, \n",
    "    for a pair of connected subgraphs that partitions the vertices of G.\n",
    "    \n",
    "    Return: list of edges in cut for a pair of connected subgraphs that partition the vertices of G \n",
    "    \"\"\"\n",
    "    a_edges=pair[0].edges()\n",
    "    b_edges=pair[1].edges()\n",
    "    total_edges=a_edges+b_edges\n",
    "    \n",
    "    edges_G=G.edges()\n",
    "\n",
    "    #Cut edges.\n",
    "    cut_edges=[ e for e in edges_G if e not in total_edges]\n",
    "    \n",
    "    return cut_edges\n",
    "\n",
    "def edges_cut_inandnotin_tree(cut_edges,tree):#Used in phi_tree_inequalities_data\n",
    "    \n",
    "    \"\"\"\n",
    "    \n",
    "    Obj: Consider cut_edges_G and ask if any of the edges of T are in cut_edges_G\n",
    "\n",
    "    Returns: Number of edges in tree, and not in tree\n",
    "    \"\"\"\n",
    "\n",
    "    tree_edges=tree.edges()\n",
    "\n",
    "    e_in_tree=[edge for edge in cut_edges if edge in tree_edges]\n",
    "    # print(\"edges of cut that belong to tree:\",tree_edges_cut)\n",
    "\n",
    "    e_notin_tree=[edge for edge in cut_edges if edge not in tree_edges]\n",
    "    # print(\"edges of cut that do not belong to tree:\",tree_comp_edges_cut)\n",
    "    \n",
    "    num_e_in_tree ,num_e_notin_tree=len(e_in_tree),len(e_notin_tree)\n",
    "    \n",
    "    return num_e_in_tree ,num_e_notin_tree\n",
    "\n",
    "def get_gamma0_missing_edges(G,T,complete_subg):\n",
    "    \"\"\"\n",
    "    Objective:find adjustment to degree of divisors, a number, to correct to the total degree.\n",
    "    given by the number of edges in complete subgrahp which are not in gamm0\n",
    "    Input: gamma0 (the tree), and the complete_subg\n",
    "    Return: number of edges complete_subg has over T (on one side of the  cut).\n",
    "    \n",
    "    \n",
    "    Want |E(gamma0^c) cap E(gamma')| where gamma' is the complete subgraph and gamma0 the connected spanning subg.\n",
    "    \"\"\"\n",
    "    \n",
    "    \n",
    "    gamma0_complement=[e for e in G.edges() if e not in T.edges()]\n",
    "    \n",
    "    gamma0_comp_inter_complete_subg=[e for e in gamma0_complement if e in complete_subg.edges()]\n",
    "    \n",
    "    return len(gamma0_comp_inter_complete_subg)\n",
    "\n",
    "def phi_tree_inequalities_data(G,T): #Main\n",
    "    \n",
    "    \"\"\"\n",
    "    Objective: Used in tree_poly\n",
    "    Inputs: \n",
    "    G: graph\n",
    "    T:graph of spanning tree (or any spanning connected subgraph)\n",
    "    \n",
    "    Return:dictionary of data used to define the phi-tree inequalties. \n",
    "    Returns phi_G\n",
    "\n",
    "    Dict contains the vertices of the cut : key\n",
    "    List of [e_in_tree ,e_notin_tree]: value\n",
    "    \n",
    "    Where num_e_in_tree = edges of cut the belong to tree\n",
    "         ,num_e_notin_tree= edges of cut that do not belong to tree\n",
    "         \n",
    "    terms=[num_e_in_tree ,num_e_notin_tree,gamma0_missing_edges]\n",
    "\n",
    "    \"\"\"\n",
    "    \n",
    "    #for main\n",
    "\n",
    "    pairs=get_pairs_con_subg(G)\n",
    "\n",
    "    inequ_data=[]\n",
    "    for pair in pairs: \n",
    "        \n",
    "        #As only care about one complete subg, we get the number of missing edges of T and complete_subg.\n",
    "        complete_subg=pair[0]\n",
    "        gamma0_missing_edges=get_gamma0_missing_edges(G,T,complete_subg)\n",
    "        \n",
    "        \n",
    "        #Would like to know the edges that G has in the cut. i.e. cut_edges_G\n",
    "        cut_edges=get_cut_edges(G,pair)\n",
    "\n",
    "        num_e_in_tree ,num_e_notin_tree=edges_cut_inandnotin_tree(cut_edges,T)\n",
    "\n",
    "        terms=[num_e_in_tree ,num_e_notin_tree,gamma0_missing_edges]\n",
    "        \n",
    "#         print(\"pair[0].vertices():\",pair[0].vertices(),\"pair[1].vertices():\",pair[1].vertices())\n",
    "#         print(\"[num_e_in_tree ,num_e_notin_tree]\",terms)\n",
    "\n",
    "\n",
    "        \"Do we need to add the data for both subg in pair?\"\n",
    "\n",
    "        #get vertices of subg in pair and turn to \"v1v2v3\" format.\n",
    "        subg1_l=pair[0].vertices()\n",
    "        subg1 = ''.join(subg1_l)\n",
    "        inequ_data.append((subg1,terms)) #subg1 is the indexor in phi_tree_formatted_hyperplanes\n",
    "\n",
    "#         print(\"(subg1,terms):\",(subg1,terms))\n",
    "#         subg2_l=pair[1].vertices()\n",
    "#         subg2 = ''.join(subg2_l)\n",
    "#         inequ_data.append((subg2,terms))\n",
    "\n",
    "\n",
    "    #Now join to phi-inequal data dict\n",
    "    phi_tree_iequal_dict = {t[0]: t[1] for t in inequ_data}\n",
    "\n",
    "    return phi_tree_iequal_dict\n",
    "\n",
    "def sum_comps(comp,indexor): #Done\n",
    "    \"\"\"returns the sum of the components of comp in the position by indexor\"\"\"\n",
    "    #for d and phi\n",
    "    sum_l=[comp[int(i)] for i in indexor] #Becuase of the vertex labeling of G having v_0....\n",
    "    return sum(sum_l)"
   ]
  },
  {
   "cell_type": "markdown",
   "metadata": {},
   "source": [
    "## Functions are specific to this notebook."
   ]
  },
  {
   "cell_type": "markdown",
   "metadata": {},
   "source": [
    "We modify the functions lower-part, upper-part, phi-tree-formatted-hyperplanes stated in \"5_phi_analysis\" (which worked to find a $\\phi$) to the context where the target is $\\vec{d}$."
   ]
  },
  {
   "cell_type": "code",
   "execution_count": 4,
   "metadata": {
    "tags": [
     "Function"
    ]
   },
   "outputs": [],
   "source": [
    "def get_lower_threshold(indexor,phi,num_e_in_tree,num_e_notin_tree,gamma0_missing_edges):\n",
    "    \n",
    "    \"\"\"\n",
    "    Objective: get lower constant bounding sum d_i\n",
    "    Input:\n",
    "    Returns: constant\n",
    "    \"\"\"\n",
    "\n",
    "    #get b term\n",
    "    T_term=num_e_in_tree*0.5\n",
    "    T_comp_term=num_e_notin_tree*0.5\n",
    "    phi_comp_sum=sum_comps(phi,indexor)\n",
    "    \n",
    "    B= T_comp_term+gamma0_missing_edges-phi_comp_sum\n",
    "    \n",
    "    lower_term=-T_term - B #See phi_tree_inequality_doc\n",
    "    \n",
    "        \n",
    "    return lower_term\n",
    "\n",
    "def get_upper_threshold(indexor,phi,num_e_in_tree,num_e_notin_tree,gamma0_missing_edges):\n",
    "    \n",
    "    \"\"\"\n",
    "    Objective: Get upper constant\n",
    "    Input:\n",
    "    Returns:constant\n",
    "    \"\"\"\n",
    "\n",
    "    #get b term\n",
    "    T_term=num_e_in_tree*0.5\n",
    "    T_comp_term=num_e_notin_tree*0.5\n",
    "    phi_comp_sum=sum_comps(phi,indexor)\n",
    "    \n",
    "    B= T_comp_term+gamma0_missing_edges-phi_comp_sum\n",
    "    \n",
    "    upper_term=T_term - B #See phi_tree_inequality_doc\n",
    "    \n",
    "        \n",
    "    return upper_term"
   ]
  },
  {
   "cell_type": "markdown",
   "metadata": {},
   "source": [
    "The next function is a modification of the function phi-tree-formatted-hyperplanes() (determining the bounds for for  $d_{\\Gamma^{'}}$ for each $\\Gamma^{'}$)."
   ]
  },
  {
   "cell_type": "code",
   "execution_count": 5,
   "metadata": {
    "tags": [
     "Function"
    ]
   },
   "outputs": [],
   "source": [
    "def divisor_bounds(G,phi_G, phi,int_range=10):\n",
    "    \n",
    "    \"\"\"\n",
    "        Obj: Returns bounds on elements of vec{d} and the relations to be passed to solve to find the unique assignment on T.   \n",
    "        Get the ranges for d_i +...+d_j where i ranges over complete subg of cut.\n",
    "\n",
    "        Inputs:\n",
    "        int_range:Simulates the integers increase size if fails.\n",
    "        phi_G =  A dictionary that records indexs of cuts as keys, and value=[num_e_in_tree,num_e_notin_tree]\n",
    "    \n",
    "        Returns: a dictionary of the form dic = {\"1\":[1], \"2\":[0],\"3\":[0],\"12\":[1],\"13\":[1],\"23\":[0]}\n",
    "        \n",
    "    \"\"\"\n",
    "    \n",
    "    # Generate a list of integers from 1 to 200\n",
    "    integers = range(-int_range-1, int_range+1)\n",
    "    \n",
    "    S=[] #Stored (key,values)\n",
    "\n",
    "    \n",
    "    #Add the sum to zero requirement: \n",
    "    #length of phi:\n",
    "    n=len(phi)\n",
    "    s = \"\".join([str(i) for i in range(n)])\n",
    "    # # We add the total degree equation to inequals for phi\n",
    "    # deg=0 #will be 0 for trees.\n",
    "    # tot_equ1=[-deg,]+ [1]*n\n",
    "    # tot_equ2=[deg,]+ [-1]*n\n",
    "    S.append((s,0))\n",
    "        \n",
    "    for indexor in list(phi_G.keys()):\n",
    "\n",
    "        num_e_in_tree,num_e_notin_tree,gamma0_missing_edges=phi_G[indexor] #value=[num_e_in_tree,num_e_notin_tree]    \n",
    "\n",
    "        upper_threshold=get_upper_threshold(indexor,phi,num_e_in_tree,num_e_notin_tree,gamma0_missing_edges)\n",
    "\n",
    "        lower_threshold=get_lower_threshold(indexor,phi,num_e_in_tree,num_e_notin_tree,gamma0_missing_edges)\n",
    "\n",
    "        # Use a list comprehension to filter out integers above the threshold\n",
    "        integers_between_threshold = [x for x in integers if upper_threshold>x > lower_threshold]\n",
    "\n",
    "        \n",
    "        S.append((indexor,integers_between_threshold))\n",
    "\n",
    "\n",
    "     #Turn S into dictionary.  \n",
    "    dic=dict(S)\n",
    "        \n",
    "    return dic"
   ]
  },
  {
   "cell_type": "markdown",
   "metadata": {},
   "source": [
    "Finally solver() returns $\\vec{d} \\in \\sigma_{\\Gamma}(T)$ from the range of values of $\\vec{d}_{\\Gamma^{'}}$ for each\n",
    "for each $\\Gamma^{'}$."
   ]
  },
  {
   "cell_type": "code",
   "execution_count": 6,
   "metadata": {
    "tags": [
     "Function"
    ]
   },
   "outputs": [],
   "source": [
    "def solver(dic):\n",
    "    \"\"\"\n",
    "    Objective: get \\vec{d} ass on trees from range of values of d_i and relations.\n",
    "    Input:dictionary for all values of vec{d} with relations which will determine d_i for singlton i.\n",
    "    Returns: vec{d} main\n",
    "    \"\"\"\n",
    "    \n",
    "    # Extract the values of d1 to d6 from the input dictionary\n",
    "    d_values = [dic[key] for key in sorted(dic.keys()) if len(key) == 1]\n",
    "\n",
    "    # Extract the sets of sums from the input dictionary\n",
    "    sum_sets = {}\n",
    "    for key in dic.keys():\n",
    "        if len(key) >1:\n",
    "            value = dic[key]\n",
    "            if isinstance(value, (list, tuple)):\n",
    "                sum_sets[key] = set(value)\n",
    "            else:\n",
    "                sum_sets[key] = set([value])\n",
    "#     print(\"sum_sets\",sum_sets)\n",
    "\n",
    "    # Initialize a list to store the values of d1 to d6 that satisfy the conditions\n",
    "    solutions = []\n",
    "\n",
    "    # Iterate through all possible combinations of d1 to d6\n",
    "    for d in itertools.product(*d_values):\n",
    "        \n",
    "#         print(d)\n",
    "        \n",
    "        # Check if all sums are in their respective sets\n",
    "        valid = True\n",
    "        for key, s in sum_sets.items():\n",
    "            indices = [int(i) for i in key]\n",
    "            if sum([d[i] for i in indices]) not in s:\n",
    "#                 print(\"key\",key,\"s\",s)\n",
    "                \n",
    "                valid = False\n",
    "                break\n",
    "        # If all sums are valid, add the solution\n",
    "        if valid:\n",
    "            solutions.append(d)\n",
    "\n",
    "    # Print the solutions\n",
    "    if len(solutions) == 0:\n",
    "        print(False,\"No solutions found\")\n",
    "        return False,\"No solutions found\"\n",
    "    if len(solutions) >1 :\n",
    "        return False,\"More than one solution found\"\n",
    "    else: #1 solution found\n",
    "        \n",
    "#         for d in solutions:\n",
    "#             print(\" \".join([f\"d{i} = {d[i-1]}\" for i in range(1, len(d_values)+1)]))\n",
    "        [d_tuple]=solutions\n",
    "        return list(d_tuple),\"Exactly one divisor\"\n",
    "\n",
    "def get_assignment_phi(G,T,phi):\n",
    "    \n",
    "    \"\"\"\n",
    "    Objective: by checking inequalities gt unique d_i components for vec{d}.\n",
    "    Input:\n",
    "    Returns: unique assignment divisor\n",
    "    \"\"\"\n",
    "    \n",
    "    #get data for inequalities for divisor_bounds\n",
    "    phi_G=phi_tree_inequalities_data(G,T)\n",
    "    \n",
    "    # bounds for vec{d}\n",
    "    dic=divisor_bounds(G,phi_G, phi,int_range=10)\n",
    "#     print(dic)\n",
    "    \n",
    "    \n",
    "    #Get divisor satisfying equations of dic\n",
    "    divisor=solver(dic)[0]\n",
    "    \n",
    "    return divisor"
   ]
  },
  {
   "cell_type": "markdown",
   "metadata": {},
   "source": [
    "The next function applies get_assignment_phi to each tree"
   ]
  },
  {
   "cell_type": "code",
   "execution_count": 7,
   "metadata": {
    "tags": [
     "Function"
    ]
   },
   "outputs": [],
   "source": [
    "def get_all_assignment_phi(phi,G):\n",
    "\n",
    "    \"\"\"\n",
    "    Objective: Given a phi gets the tree assignment\n",
    "    Input:\n",
    "    Returns: list of assignments for all trees i.e [(T,ass) for each T in G]\n",
    "    \"\"\"\n",
    "    spanning_trees=[tree for tree in G.spanning_trees(labels=true)] #incase have GM1 double edge graph\n",
    "\n",
    "    ass_l=[]\n",
    "    for T in spanning_trees:\n",
    "        \n",
    "        #Get unique assignment on tre\n",
    "        ass=get_assignment_phi(G,T,phi)\n",
    "        \n",
    "        #record\n",
    "        ass_l.append((T,ass))\n",
    "    \n",
    "    return ass_l"
   ]
  },
  {
   "cell_type": "code",
   "execution_count": 3,
   "metadata": {
    "tags": [
     "Function"
    ]
   },
   "outputs": [],
   "source": []
  },
  {
   "cell_type": "code",
   "execution_count": 8,
   "metadata": {},
   "outputs": [],
   "source": []
  },
  {
   "cell_type": "markdown",
   "metadata": {},
   "source": [
    "# Examples"
   ]
  },
  {
   "cell_type": "markdown",
   "metadata": {
    "tags": [],
    "toc-hr-collapsed": true
   },
   "source": [
    "## $3$-necklace"
   ]
  },
  {
   "cell_type": "markdown",
   "metadata": {},
   "source": [
    "Let $\\Gamma$ by the $3$-necklace graph."
   ]
  },
  {
   "cell_type": "code",
   "execution_count": 44,
   "metadata": {
    "tags": []
   },
   "outputs": [],
   "source": [
    "# graphname=\"G3\"\n",
    "G=Graph([(\"0\",\"1\"),(\"1\",\"2\"),(\"2\",\"0\")], multiedges=True)\n",
    "spanning_trees=[tree for tree in G.spanning_trees()]\n",
    "# plot(G, figsize=3)"
   ]
  },
  {
   "cell_type": "markdown",
   "metadata": {
    "tags": []
   },
   "source": [
    "### Trivial stability condition"
   ]
  },
  {
   "cell_type": "code",
   "execution_count": 49,
   "metadata": {
    "tags": []
   },
   "outputs": [
    {
     "data": {
      "text/plain": [
       "array([[0, 0, 1],\n",
       "       [0, 1, 0],\n",
       "       [1, 0, 0]], dtype=int32)"
      ]
     },
     "execution_count": 49,
     "metadata": {},
     "output_type": "execute_result"
    }
   ],
   "source": [
    "#known weak stability condition.\n",
    "# assignments=[(spanning_trees[0],[0,0,0]),(spanning_trees[1],[0,0,0]),(spanning_trees[2],[0,0,0])]\n",
    "Assignments=[[0,0,0],[0,0,0],[0,0,0]]\n",
    "w_stability(G,Assignments)"
   ]
  },
  {
   "cell_type": "markdown",
   "metadata": {},
   "source": [
    "Note that the assignments as list of integers need to be in the same ordering as the spanning trees graphs of G given by list(G.spanning_trees())"
   ]
  },
  {
   "cell_type": "markdown",
   "metadata": {},
   "source": [
    "Given a $\\phi$ we obtain $A_{\\Gamma}$"
   ]
  },
  {
   "cell_type": "code",
   "execution_count": 9,
   "metadata": {
    "tags": []
   },
   "outputs": [],
   "source": [
    "phi=(0.3,0.3,0.3)"
   ]
  },
  {
   "cell_type": "code",
   "execution_count": 48,
   "metadata": {
    "tags": []
   },
   "outputs": [
    {
     "name": "stdout",
     "output_type": "stream",
     "text": [
      "[0, 0, 0] [0, 0, 0] [0, 0, 0]\n"
     ]
    }
   ],
   "source": [
    "ass_1=get_assignment_phi(G,spanning_trees[0],phi)\n",
    "ass_2=get_assignment_phi(G,spanning_trees[1],phi)\n",
    "ass_3=get_assignment_phi(G,spanning_trees[2],phi)\n",
    "print(ass_1,ass_2,ass_3) #[0, 0, 0],[0, 0, 0],[0, 0, 0]"
   ]
  },
  {
   "cell_type": "markdown",
   "metadata": {},
   "source": [
    "Let us now take the chip-adding saturation and see that $A_{\\Gamma}$ give a $\\phi$-stability condition."
   ]
  },
  {
   "cell_type": "code",
   "execution_count": 46,
   "metadata": {},
   "outputs": [],
   "source": [
    "# assignments=[(spanning_trees[0],ass_1),(spanning_trees[1],ass_2),(spanning_trees[2],ass_3)]\n",
    "assignments=[ass_1,ass_2,ass_3]"
   ]
  },
  {
   "cell_type": "code",
   "execution_count": 47,
   "metadata": {},
   "outputs": [
    {
     "data": {
      "text/plain": [
       "array([[0, 0, 1],\n",
       "       [0, 1, 0],\n",
       "       [1, 0, 0]], dtype=int32)"
      ]
     },
     "execution_count": 47,
     "metadata": {},
     "output_type": "execute_result"
    }
   ],
   "source": [
    "w_stability(G,assignments)"
   ]
  },
  {
   "cell_type": "markdown",
   "metadata": {
    "tags": []
   },
   "source": [
    "### Non-trivial stability condition"
   ]
  },
  {
   "cell_type": "code",
   "execution_count": 12,
   "metadata": {
    "tags": []
   },
   "outputs": [],
   "source": [
    "#known weak stability condition.\n",
    "# assignments=[(spanning_trees[0],[0,0,0]),(spanning_trees[1],[0,1,-1]),(spanning_trees[2],[1,0,-1])]\n",
    "Assignments=[[0,0,0],[0,1,-1],[1,0,-1]]\n",
    "# w_stability(G,assignments)"
   ]
  },
  {
   "cell_type": "markdown",
   "metadata": {},
   "source": [
    "Given a $\\phi$ we obtain $A_{\\Gamma}$"
   ]
  },
  {
   "cell_type": "code",
   "execution_count": 9,
   "metadata": {
    "tags": []
   },
   "outputs": [],
   "source": [
    "phi=(0.6,0.6,-0.3)"
   ]
  },
  {
   "cell_type": "code",
   "execution_count": null,
   "metadata": {
    "tags": []
   },
   "outputs": [],
   "source": [
    "ass_1=get_assignment_phi(G,spanning_trees[0],phi)\n",
    "ass_2=get_assignment_phi(G,spanning_trees[1],phi)\n",
    "ass_3=get_assignment_phi(G,spanning_trees[2],phi)\n",
    "\n",
    "print(ass_1,ass_2,ass_3) #[0, 0, 0],[0, 0, 0],[0, 0, 0]"
   ]
  },
  {
   "cell_type": "markdown",
   "metadata": {},
   "source": [
    "Let us now take the chip-adding saturation and see that $A_{\\Gamma}$ give a $\\phi$-stability condition."
   ]
  },
  {
   "cell_type": "code",
   "execution_count": null,
   "metadata": {},
   "outputs": [],
   "source": [
    "assignments=[(spanning_trees[0],ass_1),(spanning_trees[1],ass_2),(spanning_trees[2],ass_3)]\n",
    "assignments=[ass_1,ass_2,ass_3]"
   ]
  },
  {
   "cell_type": "code",
   "execution_count": null,
   "metadata": {},
   "outputs": [],
   "source": [
    "w_stability(G,assignments)"
   ]
  },
  {
   "cell_type": "markdown",
   "metadata": {},
   "source": [
    "## Larger example"
   ]
  },
  {
   "cell_type": "code",
   "execution_count": 76,
   "metadata": {},
   "outputs": [
    {
     "data": {
      "image/png": "[encoded data removed]",
      "text/plain": [
       "Graphics object consisting of 10 graphics primitives"
      ]
     },
     "execution_count": 76,
     "metadata": {},
     "output_type": "execute_result"
    }
   ],
   "source": [
    "graphname=\"G4M2\"\n",
    "E=[('0', '1'), ('0', '2'), ('0', '3'), ('1', '2'), ('2', '3')] \n",
    "G=Graph(E, multiedges=True)\n",
    "spanning_trees=[tree for tree in G.spanning_trees()] #8\n",
    "plot(G, figsize=3)"
   ]
  },
  {
   "cell_type": "markdown",
   "metadata": {},
   "source": [
    "Let have $d=b_{1}(\\Gamma)=2$ here"
   ]
  },
  {
   "cell_type": "code",
   "execution_count": null,
   "metadata": {},
   "outputs": [],
   "source": [
    "#break divisor case:\n",
    "# phi=(0.75, 0.25, 0.75,0.25)\n",
    "\n",
    "#work\n",
    "phi=( 1.25, 0.5, 0.75,-0.5)\n",
    "\n",
    "phi=(0.75,0.5, 1.25, -0.5)\n",
    "\n",
    "phi=(0.25, 0.75, 0.25, 0.75)"
   ]
  },
  {
   "cell_type": "code",
   "execution_count": 131,
   "metadata": {},
   "outputs": [
    {
     "name": "stdout",
     "output_type": "stream",
     "text": [
      "False No solutions found\n",
      "False No solutions found\n",
      "False No solutions found\n",
      "False No solutions found\n",
      "False No solutions found\n",
      "False No solutions found\n",
      "False No solutions found\n",
      "False No solutions found\n",
      "False False False False False False False False\n"
     ]
    }
   ],
   "source": [
    "ass_1=get_assignment_phi(G,spanning_trees[0],phi)\n",
    "ass_2=get_assignment_phi(G,spanning_trees[1],phi)\n",
    "ass_3=get_assignment_phi(G,spanning_trees[2],phi)\n",
    "ass_4=get_assignment_phi(G,spanning_trees[3],phi)\n",
    "ass_5=get_assignment_phi(G,spanning_trees[4],phi)\n",
    "ass_6=get_assignment_phi(G,spanning_trees[5],phi)\n",
    "ass_7=get_assignment_phi(G,spanning_trees[6],phi)\n",
    "ass_8=get_assignment_phi(G,spanning_trees[7],phi)\n",
    "\n",
    "print(ass_1,ass_2,ass_3,ass_4,ass_5,ass_6,ass_7,ass_8) #[0, 0, 0],[0, 0, 0],[0, 0, 0]"
   ]
  },
  {
   "cell_type": "code",
   "execution_count": 111,
   "metadata": {},
   "outputs": [
    {
     "data": {
      "text/plain": [
       "array([[ 0,  0,  2,  0],\n",
       "       [ 0,  1,  1,  0],\n",
       "       [ 0,  1,  2, -1],\n",
       "       [ 1,  0,  1,  0],\n",
       "       [ 1,  0,  2, -1],\n",
       "       [ 1,  1,  0,  0],\n",
       "       [ 1,  1,  1, -1],\n",
       "       [ 2,  0,  1, -1]], dtype=int32)"
      ]
     },
     "execution_count": 111,
     "metadata": {},
     "output_type": "execute_result"
    }
   ],
   "source": [
    "assignments=[ass_1,ass_2,ass_3,ass_4,ass_5,ass_6,ass_7,ass_8]\n",
    "w_stability(G,assignments)"
   ]
  },
  {
   "cell_type": "markdown",
   "metadata": {},
   "source": [
    "## G4M2 results we know "
   ]
  },
  {
   "cell_type": "code",
   "execution_count": null,
   "metadata": {},
   "outputs": [],
   "source": [
    "#There is some rotation in the phi below so not exactly correct for above.\n",
    "\n",
    "Graph G:\n",
    "[('0', '1', 'e1'), ('0', '2', 'e0'), ('0', '3', 'e4'), ('1', '2', 'e2'), ('2', '3', 'e3')] \n",
    "\n",
    "-----------------------------------------\n",
    "\n",
    "Cycle: (1, 3, 4, 2)\n",
    "\n",
    "\n",
    "Assignment: (tree,assignment)\n",
    "(1, array([0., 0., 0., 0.]))\n",
    "(2, array([ 1.,  0., -1.,  0.]))\n",
    "(3, array([ 0.,  1., -1.,  0.]))\n",
    "(4, array([ 0.,  1., -1.,  0.]))\n",
    "(5, array([ 0.,  1., -1.,  0.]))\n",
    "(6, array([ 0.,  1., -1.,  0.]))\n",
    "(7, array([ 0.,  1., -1.,  0.]))\n",
    "(8, array([ 0.,  0., -1.,  1.]))\n",
    "\n",
    "\n",
    "Line bundle multidegrees:\n",
    "[ 0.  1. -1.  2.]\n",
    "[0. 1. 0. 1.]\n",
    "[ 0.  2. -1.  1.]\n",
    "[0. 2. 0. 0.]\n",
    "[1. 0. 0. 1.]\n",
    "[ 1.  1. -1.  1.]\n",
    "[1. 1. 0. 0.]\n",
    "[ 1.  2. -1.  0.]\n",
    "\n",
    "The phi (center of polytope): (0.5, 1.25, -0.5, 0.75) does not fail the phi-inequalities\n",
    "phi average is: [ 0.5   1.25 -0.5   0.75]\n",
    "\n",
    "----------------------------------------- \n",
    "\n",
    "Cycle: (1, 2, 3, 4)\n",
    "\n",
    "\n",
    "Assignment: (tree,assignment)\n",
    "(1, array([0., 0., 0., 0.]))\n",
    "(2, array([0., 0., 0., 0.]))\n",
    "(3, array([0., 0., 0., 0.]))\n",
    "(4, array([0., 0., 0., 0.]))\n",
    "(5, array([0., 0., 0., 0.]))\n",
    "(6, array([0., 0., 0., 0.]))\n",
    "(7, array([0., 0., 0., 0.]))\n",
    "(8, array([0., 0., 0., 0.]))\n",
    "\n",
    "\n",
    "Line bundle multidegrees:\n",
    "[0. 0. 0. 2.]\n",
    "[0. 0. 1. 1.]\n",
    "[0. 1. 0. 1.]\n",
    "[0. 1. 1. 0.]\n",
    "[0. 2. 0. 0.]\n",
    "[1. 0. 0. 1.]\n",
    "[1. 0. 1. 0.]\n",
    "[1. 1. 0. 0.]\n",
    "\n",
    "The phi (center of polytope): (0.25, 0.75, 0.25, 0.75) does not fail the phi-inequalities\n",
    "phi average is: [0.375 0.625 0.375 0.625]\n",
    "\n",
    "\n",
    "----------------------------------------- \n",
    "\n",
    "Cycle: (1, 2, 4, 3)\n",
    "\n",
    "\n",
    "Assignment: (tree,assignment)\n",
    "(1, array([0., 0., 0., 0.]))\n",
    "(2, array([0., 0., 0., 0.]))\n",
    "(3, array([ 1.,  0.,  0., -1.]))\n",
    "(4, array([ 0.,  0.,  1., -1.]))\n",
    "(5, array([ 0.,  1.,  0., -1.]))\n",
    "(6, array([0., 0., 0., 0.]))\n",
    "(7, array([0., 0., 0., 0.]))\n",
    "(8, array([0., 0., 0., 0.]))\n",
    "\n",
    "\n",
    "Line bundle multidegrees:\n",
    "[0. 0. 1. 1.]\n",
    "[0. 1. 0. 1.]\n",
    "[0. 1. 1. 0.]\n",
    "[0. 2. 0. 0.]\n",
    "[1. 0. 0. 1.]\n",
    "[1. 0. 1. 0.]\n",
    "[1. 1. 0. 0.]\n",
    "[ 1.  1.  1. -1.]\n",
    "\n",
    "The phi (center of polytope): (0.5, 0.75, 0.5, 0.25) does not fail the phi-inequalities\n",
    "phi average is: [0.5  0.75 0.5  0.25]\n",
    "----------------------------------------- \n",
    "\n",
    "Cycle: (1, 3, 2, 4)\n",
    "\n",
    "\n",
    "Assignment: (tree,assignment)\n",
    "(1, array([0., 0., 0., 0.]))\n",
    "(2, array([ 0.,  0., -1.,  1.]))\n",
    "(3, array([ 0.,  1., -1.,  0.]))\n",
    "(4, array([0., 0., 0., 0.]))\n",
    "(5, array([ 0.,  1., -1.,  0.]))\n",
    "(6, array([ 0.,  0., -1.,  1.]))\n",
    "(7, array([ 0.,  1., -1.,  0.]))\n",
    "(8, array([ 0.,  0., -1.,  1.]))\n",
    "\n",
    "\n",
    "Line bundle multidegrees:\n",
    "[0. 0. 0. 2.]\n",
    "[ 0.  1. -1.  2.]\n",
    "[0. 1. 0. 1.]\n",
    "[ 0.  2. -1.  1.]\n",
    "[0. 2. 0. 0.]\n",
    "[1. 0. 0. 1.]\n",
    "[ 1.  1. -1.  1.]\n",
    "[1. 1. 0. 0.]\n",
    "\n",
    "The phi (center of polytope): (0.25, 1.0, -0.25, 1.0) does not fail the phi-inequalities\n",
    "phi average is: [ 0.375  1.    -0.375  1.   ]\n",
    "----------------------------------------- \n",
    "\n",
    "Cycle: (1, 4, 2, 3)\n",
    "\n",
    "\n",
    "Assignment: (tree,assignment)\n",
    "(1, array([0., 0., 0., 0.]))\n",
    "(2, array([ 1.,  0.,  0., -1.]))\n",
    "(3, array([ 1.,  0.,  0., -1.]))\n",
    "(4, array([ 0.,  1.,  0., -1.]))\n",
    "(5, array([ 0.,  1.,  0., -1.]))\n",
    "(6, array([ 0.,  1.,  0., -1.]))\n",
    "(7, array([0., 0., 0., 0.]))\n",
    "(8, array([0., 0., 0., 0.]))\n",
    "\n",
    "\n",
    "Line bundle multidegrees:\n",
    "[0. 1. 0. 1.]\n",
    "[0. 1. 1. 0.]\n",
    "[0. 2. 0. 0.]\n",
    "[1. 0. 0. 1.]\n",
    "[1. 0. 1. 0.]\n",
    "[1. 1. 0. 0.]\n",
    "[ 1.  1.  1. -1.]\n",
    "[ 1.  2.  0. -1.]\n",
    "\n",
    "The phi (center of polytope): (0.75, 1.0, 0.25, 0.0) does not fail the phi-inequalities\n",
    "phi average is: [0.625 1.    0.375 0.   ]\n",
    "----------------------------------------- \n",
    "\n",
    "Cycle: (1, 4, 3, 2)\n",
    "\n",
    "\n",
    "Assignment: (tree,assignment)\n",
    "(1, array([0., 0., 0., 0.]))\n",
    "(2, array([ 1.,  0., -1.,  0.]))\n",
    "(3, array([ 1.,  1., -1., -1.]))\n",
    "(4, array([ 0.,  1.,  0., -1.]))\n",
    "(5, array([ 0.,  2., -1., -1.]))\n",
    "(6, array([ 0.,  1., -1.,  0.]))\n",
    "(7, array([ 0.,  1., -1.,  0.]))\n",
    "(8, array([ 0.,  0., -1.,  1.]))\n",
    "\n",
    "\n",
    "Line bundle multidegrees:\n",
    "[0. 1. 0. 1.]\n",
    "[ 0.  2. -1.  1.]\n",
    "[0. 2. 0. 0.]\n",
    "[1. 0. 0. 1.]\n",
    "[ 1.  1. -1.  1.]\n",
    "[1. 1. 0. 0.]\n",
    "[ 1.  2. -1.  0.]\n",
    "[ 1.  2.  0. -1.]\n",
    "\n",
    "The phi (center of polytope): (0.75, 1.25, -0.25, 0.25) does not fail the phi-inequalities\n",
    "phi average is: [ 0.625  1.375 -0.375  0.375]\n",
    "----------------------------------------- "
   ]
  },
  {
   "cell_type": "markdown",
   "metadata": {},
   "source": [
    "# Leftovers"
   ]
  },
  {
   "cell_type": "code",
   "execution_count": null,
   "metadata": {},
   "outputs": [],
   "source": [
    "def compare_assignment_l(ass_l1,ass_l2):\n",
    "\n",
    "    \"\"\"\n",
    "    Objective: Given a two lists of assignments asks is are equal by comparing ass for each tree.\n",
    "    Input:\n",
    "    Returns: True or False\n",
    "    \"\"\"\n",
    "    \n",
    "    #Make spanning trees in (T,ass) immutable\n",
    "    ass_l1=[(T.copy(immutable=True),ass) for (T,ass) in ass_l1]\n",
    "    ass_l2=[(T.copy(immutable=True),ass) for (T,ass) in ass_l2]\n",
    "    \n",
    "    #Put ass_l1,ass_l2 into the correct order.\n",
    "\n",
    "    # Create dictionaries to store the values in the lists\n",
    "    dict1 = dict(ass_l1)\n",
    "    dict2 = dict(ass_l2)\n",
    "\n",
    "    # Check if the values for each key in both dictionaries are the same\n",
    "    for key in dict1:\n",
    "        if key in dict2:\n",
    "            if dict1[key] == dict2[key]:\n",
    "                continue\n",
    "            else:\n",
    "                return False\n",
    "    return True"
   ]
  },
  {
   "cell_type": "code",
   "execution_count": 13,
   "metadata": {},
   "outputs": [],
   "source": [
    "# ## Get a phi in a polytope in a nice format.\n",
    "# def get_a_phi(poly):\n",
    "    \n",
    "#     \"\"\"\n",
    "#     Objective:Picks a representative phi from the polyope.\n",
    "#     Input:\n",
    "#     Return\n",
    "#     \"\"\"\n",
    "    \n",
    "# #     phi=poly.center()\n",
    "#     phi=poly.representative_point()\n",
    "#     phi=[round(i,3) for i in phi]\n",
    "#     return phi\n",
    "\n",
    "# def get_phi_frac(phi,limit=10):\n",
    "    \n",
    "#     \"\"\"\n",
    "#     Objective:>\n",
    "#     Input:\n",
    "#     Return: A list of strings of fraction.\n",
    "#     \"\"\"\n",
    "    \n",
    "#     phi=tuple([i.n() for i in phi])\n",
    "\n",
    "#     phi=tuple([i.nearby_rational(max_error=0.001) for i in phi]) # change from real to rational;\n",
    "    \n",
    "#     #Turn phi into a fraction.\n",
    "#     # frac_phi = tuple([str(i) for i in phi])\n",
    "#     frac_phi = tuple([i for i in phi])\n",
    "\n",
    "#     return frac_phi\n",
    "\n",
    "# def get_phi_av(lbm):\n",
    "    \n",
    "#     \"\"\"\n",
    "#     Objective: Gets the average of sigma_{gamma}(gamma) in fraction form.\n",
    "#     Input:\n",
    "#     Return:\n",
    "#     \"\"\" \n",
    "    \n",
    "#     num=len(lbm)\n",
    "    \n",
    "#     #lbm=given[[0,1,0],[1,0,0],[1,1,-1]] return the average [2/3,2/3,-1/3]\n",
    "#     arr=np.array(lbm).transpose()\n",
    "    \n",
    "#     phi=arr.sum(axis=1)\n",
    "\n",
    "#     phi_av=[Fraction(i,num) for i in list(phi)]\n",
    "    \n",
    "#     return phi_av\n",
    "\n",
    "# def phi_av_frac(phi_av):\n",
    "    \n",
    "#     formatted_fractions = []\n",
    "\n",
    "#     for fraction in phi_av:\n",
    "#         formatted_fraction = f\"{fraction.numerator}/{fraction.denominator}\"\n",
    "#         formatted_fractions.append(formatted_fraction)\n",
    "\n",
    "\n",
    "#     return formatted_fractions"
   ]
  }
 ],
 "metadata": {
  "kernelspec": {
   "display_name": "SageMath 9.2",
   "language": "sage",
   "name": "sagemath"
  },
  "language_info": {
   "codemirror_mode": {
    "name": "ipython",
    "version": 3
   },
   "file_extension": ".py",
   "mimetype": "text/x-python",
   "name": "python",
   "nbconvert_exporter": "python",
   "pygments_lexer": "ipython3",
   "version": "3.7.7"
  }
 },
 "nbformat": 4,
 "nbformat_minor": 5
}
