{
 "cells": [
  {
   "cell_type": "markdown",
   "id": "d0901f2b",
   "metadata": {
    "tags": []
   },
   "source": [
    "# Overview"
   ]
  },
  {
   "cell_type": "markdown",
   "id": "91f9f056",
   "metadata": {},
   "source": [
    "Let $\\Gamma$ be a graph (without separating edges or separating vertices), and fix a $T \\in \\mathcal{ST}(\\Gamma)$ and $D_{T} \\in \\operatorname{Div}^{d-b_{1}(\\Gamma)}(\\Gamma)$. In this notebook we use the Algorithim (*) outlined in Section $4.3$ to generate all $A_{\\Gamma} \\in \\mathcal{R}_{\\Gamma,T,D_{T}}^{d}$ and produce $\\Sigma_{\\Gamma,T,D_{T}}^{d}$ for $\\Gamma$ in the Introduction.\n"
   ]
  },
  {
   "cell_type": "markdown",
   "id": "784e1cbe",
   "metadata": {},
   "source": [
    "### Notebook Notes:\n"
   ]
  },
  {
   "cell_type": "markdown",
   "id": "2e22d12b",
   "metadata": {},
   "source": [
    "1) Note the process in this notebook can be applied to any graph subject to computation time.\n",
    "\n",
    "2) We store all ouptuts in the appropriate folder of \"\\Graph\\graph_stability_conditions\" as a text file \n",
    "   \n",
    "3) We also store the output as pkl file in \"\\Stability_Conditions\\Graph\\phi_investigation\\examples\" in order to determine $P_{ST}^{\\sigma_{\\Gamma}}$ for each $\\sigma_{\\Gamma} \\in \\Sigma_{\\Gamma,T,D_{T}}^{d}$.\n",
    "\n",
    "4) The data is also stored in .pkl format in Stability_Conditions\\Graph\\find_cycles\\examples\" if you are want to determine the $\\tau \\in C_{L|N(\\Gamma_0)}$ for $\\Gamma_0 \\in \\Gamma_{(1)}$."
   ]
  },
  {
   "cell_type": "markdown",
   "id": "4a57e82f",
   "metadata": {},
   "source": [
    "### Algorithim to determine $ \\mathcal{R}_{\\Gamma,T,D_{T}}^{d}$."
   ]
  },
  {
   "cell_type": "markdown",
   "id": "9a94a48d",
   "metadata": {},
   "source": [
    "LO:\n",
    "\n",
    "\n",
    "Let $G$ be a graph with no separating edges or vertices, and $\\tilde{G}$ be the set of subgraphs of $G$, \n",
    "\n",
    "\n",
    "of the the form $T \\cup e$ for $T \\in \\mathcal{ST}(G)$ and $e \\in G \\setminus T$. For any $T \\cup e$, we refer to the subnecklace of $T \\cup e$ as the the largest cyclic subgraph.\n",
    "\n",
    "\n",
    "\n",
    "The following method proceeds by exhuastively searching (by choosing an appropriate cycle for the subnecklace of some $T \\cup e$) and then adding assignments for each tree to a set of assignments we know which work. The output will be an assignment $M$ of the size $k_G$ and forwhich $|Ass(T)|=1$ for all $T$.\n",
    "\n",
    "\n"
   ]
  },
  {
   "cell_type": "markdown",
   "id": "6368f16e",
   "metadata": {},
   "source": [
    "Recall the Algorithim outlined in Section $4.3$. Algorithim (*) produces a single $A_{\\Gamma} \\in \\mathcal{R}_{\\Gamma,T,D_{T}}^{d}$. We now describe how we exhaustively run this arguement to generate all $A_{\\Gamma} \\in \\mathcal{R}_{\\Gamma,T,D_{T}}^{d}$.\n",
    "\n",
    "For a fixed $T$ and $D_{T}$\n",
    "\n",
    "Broadly speaking this algorithim determines $\\mathcal{R}_{\\Gamma,T,D_{T}}^{d}$ by determining all sets of compatible $\\{A_{\\Gamma_0}|A_{\\Gamma_0}(T)=D_{T} \\}_{\\Gamma_0 \\in \\Gamma_{(1)}}$ (recall each such set determine a $A_{\\Gamma}\\in \\mathcal{R}_{\\Gamma,T,D_{T}}^{d}$).\n"
   ]
  },
  {
   "cell_type": "markdown",
   "id": "aa24b9e7",
   "metadata": {},
   "source": [
    "For any set $A_{\\Gamma,B_{k-1}} :=\\{A_{\\Gamma_0}|A_{\\Gamma_0}(T)=D_{T} \\}_{\\Gamma_0 \\in B_{k-1}}=:\\mathcal{A}_{\\Gamma,B_{k-1}} $\n",
    "\n"
   ]
  },
  {
   "cell_type": "markdown",
   "id": "4cc4592f",
   "metadata": {},
   "source": [
    "\n",
    "at step $S_{k}(2)$ of Algorithim (*)\n",
    "\n"
   ]
  },
  {
   "cell_type": "markdown",
   "id": "d1762f42",
   "metadata": {},
   "source": [
    "### Algorithm"
   ]
  },
  {
   "cell_type": "markdown",
   "id": "1cf93822",
   "metadata": {},
   "source": [
    "Fix $\\Gamma$, $T_1$ and $D_{T_1}$.\n",
    "\n",
    "Let $P=\\emptyset$"
   ]
  },
  {
   "cell_type": "markdown",
   "id": "0ef1bd2f",
   "metadata": {},
   "source": [
    "step 1: Consider $\\Gamma_0 \\in B_{1}:=\\Gamma_{(1)}(T_1)$\n",
    "\n",
    "for each $\\tau \\in \n",
    "\n",
    "and $P=P \\cup \\mathcal{A}_{\\Gamma,B_{k-1}}$.\n",
    "\n",
    " \\item[$S_{1}(1)$] Define $B_{1}:=\\Gamma_{(1)}(T_1)$. For each $\\Gamma_0 \\in \\Gamma_{(1)}(T_1)$ choose a $(T_1,D_{T_1},\\tau)$ and construct $\\{A_{\\Gamma_0}\\}_{\\Gamma_0 \\in  \\Gamma_{(1)}(T_1)}$. If $\\{A_{\\Gamma_0}\\}_{\\Gamma_0 \\in B_{1}}$ is not compatible, make a different set of choices of $(T_1,D_{T_1},\\tau)$ for $\\Gamma_0 \\in \\Gamma_{(1)}(T_1)$, continue once $\\{A_{\\Gamma_0}\\}_{\\Gamma_0 \\in B_{1}}$ is    \n",
    "        compatible. If $\\bigcup_{\\Gamma_0 \\in B_{1}}\\mathcal{ST}(\\Gamma_0)\\ne \\mathcal{ST}(\\Gamma)$ then $\\{A_{\\Gamma_0}\\}_{\\Gamma_0 \\in\\Gamma_{(1)}}$ induces a $A_{\\Gamma}$. Return $A_{\\Gamma} \\in \\mathcal{R}_{\\Gamma,T_{1},D_{T_{1}}}^{d}$. If $|\\sigma_{\\Gamma}^{A_{\\Gamma}}(\\Gamma)|=k(\\Gamma)$, return $A_{\\Gamma} \\in \\mathcal{S}_{\\Gamma,T_{1},D_{T_1}}^{d}$$.\\\\\n",
    "        \\vdots\n",
    "\n",
    "Ensuring that \n",
    "\n",
    "1.1) Choose a tree T of G and let $Ass(T)=\\underline{0}$, add $(T,Ass(T))$ to $M$.\n"
   ]
  },
  {
   "cell_type": "markdown",
   "id": "bc20ba10",
   "metadata": {},
   "source": [
    "Fix a T' as in Sk(1) \n",
    "\n",
    "when we come to a $\\Gamma_0 \\in \\Gamma_{(1)}(T^{'})$ we can branch depending of the choice of $\\tau$ we choose. For each such choice we have a new $\\{A_{\\Gamma_0}\\}_{X} \\cup \\{A_{\\Gamma_0}\\}_{\\Gamma_0 \\text{contianing}T^{'}}$.\n",
    "\n"
   ]
  },
  {
   "cell_type": "markdown",
   "id": "c34cadf8",
   "metadata": {},
   "source": [
    "We focus on step $S_{k}(2)$ as the branching point of Algorithm (*)\n",
    "\n",
    "\\item[(2)]  For each $\\Gamma_0 \\in \\Gamma_{(1)}(T_k)$ choose a $(T_k,D_{T_k},\\tau )$ and construct $\\{A_{\\Gamma_0}\\}_{\\Gamma_0 \\in  \\Gamma_{(1)}(T_k)}$. In particular,\n",
    "\n",
    "$$\\{A_{\\Gamma_0}\\}_{\\Gamma_0 \\in B_{k}}:= \\{A_{\\Gamma_0}\\}_{\\Gamma_0 \\in B_{k-1}} \\cup \\{A_{\\Gamma_0}\\}_{\\Gamma_0 \\in  \\Gamma_{(1)}(T_k)}.$$ \n",
    "\n",
    "ddecompose Sk(2) per \\Gamma_0."
   ]
  },
  {
   "cell_type": "markdown",
   "id": "8232d593",
   "metadata": {},
   "source": [
    "For functions "
   ]
  },
  {
   "cell_type": "markdown",
   "id": "79091e7a",
   "metadata": {},
   "source": [
    "1) Consider (T_k,Ass(T')) in M (\\{A_{\\Gamma_0}\\}_{\\Gamma_0 \\in B_{k}})  S_k(1)\n",
    "\n",
    "$$T_{k} \\in \\left(\\bigcup_{\\Gamma_0 \\in B_{k-1}}\\mathcal{ST}(\\Gamma_0) \\right)\\setminus \\{T_1,\\dots,T_{k-1}\\}$$"
   ]
  },
  {
   "cell_type": "markdown",
   "id": "6e6d1841",
   "metadata": {},
   "source": [
    "1) Consider \\Gamma_{(1)}(T_k)."
   ]
  },
  {
   "cell_type": "markdown",
   "id": "8d2ed1fe",
   "metadata": {},
   "source": [
    "Consider $\\Gamma_0^{1} \\in \\Gamma_{(1)}(T_k)$\n",
    "\n",
    "3)Fix $G_0 \\in $ For each $G_0$ consider the subnecklace (The subnecklace can be modeled by In, we will use the genus 1 calculation).\n",
    "\n"
   ]
  },
  {
   "cell_type": "markdown",
   "id": "d55d4895",
   "metadata": {},
   "source": [
    "Define partial= \\{A_{\\Gamma_0}\\}_{\\Gamma_0 \\in B_{k}} \\cup \n",
    "\n",
    "define X_1=B_{k} \\cup {\\Gamma_0^{1}}\n",
    "                       \n",
    "and X_i=B_{k} \\cup {\\Gamma_0^{1}} \\cup \\cdots \\cup {\\Gamma_0^{i}}"
   ]
  },
  {
   "cell_type": "markdown",
   "id": "7f713ff8",
   "metadata": {},
   "source": [
    "1) Choose a cycle $\\tau$ for In (N(\\Gamma_0) (if it does not provide unique assignments return to this step).\n",
    "\n",
    "1) get Using $\\tau$ get $A_{\\Gamma_0}$ all (T,Ass(T)) pairs for In (genus $1$ method to calculate assignments).\n",
    "  \n",
    "2) Note the tree of In that is the same as T'(but without vertices outside of the subnecklace) will have Ass(T)=0.\n",
    "\n",
    "3) For T of In add back edges of $G_0$ not in the subnecklace. And then relabel T of In to T of the subnecklace of subg.\n",
    "\n",
    "4) Extend Ass(T) of $I_n$ to non-tranlsated Ass(T) on $G_0$ by adding 0 to the vertices of subg not in the subnecklace.\n",
    "\n",
    "5) Tranlsate the extended but non-tranlsated Ass(T), by Ass(T').\n",
    "\n",
    "check compatible with rest\n"
   ]
  },
  {
   "cell_type": "markdown",
   "id": "64ca1c13",
   "metadata": {},
   "source": [
    "if $\\{A_{\\Gamma_0}\\}_{\\Gamma_0 \\in X} \\cup \\{A_{\\Gamma_0}\\}$ is compatible\n",
    "\n",
    "where X is part way between B_{k-1} and B_{k}\n",
    "        \n",
    "1) Add (T,Ass(T)) to $M$.\n",
    "2) \n",
    "3)  Increasing the size of $|Ass(T)|$ if necessary.\n"
   ]
  },
  {
   "cell_type": "markdown",
   "id": "551318df",
   "metadata": {},
   "source": [
    "\n",
    "We then can continue to Sk(3) and (4).\n",
    "        \n",
    "            1) Check if, for $M$ we have $|Ass(T)|=1$ for all $T$ to which we know. If not choose another cycle.\n",
    "            \n",
    "    9)If $|M|=k(\\Gamma)$ end and return $M$.We end once we have set where of the form compatible $\\{A_{\\Gamma_0}\\}_{\\Gamma_0 \\in \\Gamma_{(1)}}$.\n",
    "    \n",
    "4)  Return to step 1) and choose a different tree in M.\n",
    "\n",
    "We take $\\sigma_{\\Gamma}^{A_{\\Gamma}}$ and check that $\\sigma_{\\Gamma}^{A_{\\Gamma}}(\\Gamma)=k(\\Gamma)$.\n"
   ]
  },
  {
   "cell_type": "markdown",
   "id": "93627256",
   "metadata": {},
   "source": [
    "\n",
    "\n",
    "We then record $A_{\\Gamma}$ and $\\sigma_{\\Gamma}^{A_{\\Gamma}}(\\Gamma)$.\n"
   ]
  },
  {
   "cell_type": "markdown",
   "id": "55fd155b",
   "metadata": {},
   "source": [
    "### Time saving measures"
   ]
  },
  {
   "cell_type": "markdown",
   "id": "e094e1b4",
   "metadata": {},
   "source": [
    "This computation is greedy by construction so we have implemented a sequence of time saving process which do not change the underlying math. But setting things up corrrecly and implement the right checks are the right time (asking what is necessary) we can remove redundanet cases and reduce the amount of exponential growth. \n",
    "\n",
    "1) Some trees are better than others.\n",
    "\n",
    "2) Every $A_{\\Gamma}$ and partial assignment must saturate to a weak stability codnition."
   ]
  },
  {
   "cell_type": "markdown",
   "id": "bf4de9ef-e84e-4ff6-bd1c-45ee74060b12",
   "metadata": {
    "tags": []
   },
   "source": [
    "# Table of contents"
   ]
  },
  {
   "cell_type": "markdown",
   "id": "dd01c86c-3de0-4e59-884f-e5ff60e66f8f",
   "metadata": {
    "tags": []
   },
   "source": [
    "1. [Finding all weak stability conditions for cases ](#s1)\n",
    "\n",
    "2. [Functions](#s2)\n",
    "    1. [Weak_stability_genus_1](#s21)\n",
    "    2. [Get_assignment_datum Functions](#s22)\n",
    "    3. [Exhaustive method functions](#s23)\n",
    "        1. [Initalisation functions](#s231)\n",
    "        2. [get_Extensions_M_by_T_subg ](#s232)\n",
    "        3. [Exhuastive Method](#s233)\n",
    "    4. [After obtaining assignments for G](#s24)"
   ]
  },
  {
   "cell_type": "markdown",
   "id": "7fde0bd5",
   "metadata": {},
   "source": [
    "## Function Notes"
   ]
  },
  {
   "cell_type": "markdown",
   "id": "c2f28122-ac3e-4958-a50d-c8010937d904",
   "metadata": {},
   "source": [
    "In function --- we iterate through all ---. \n",
    "\n",
    "Therefore for the graphs considered while there are $0$ cases which \"Do NOT produce a stability condition\" we show that $\\mathcal{R}_{\\Gamma,T,D_{T}}^{d}=\\mathcal{S}_{\\Gamma,T,D_{T}}^{d}$ providing evidence to the Conjecture $\\mathcal{R}_{\\Gamma,T,D_{T}}^{d}=\\mathcal{S}_{\\Gamma,T,D_{T}}^{d}$ is always true."
   ]
  },
  {
   "cell_type": "markdown",
   "id": "59d5e1c3",
   "metadata": {
    "tags": [],
    "toc-hr-collapsed": true
   },
   "source": [
    "# Functions <a name=\"s2\"></a>"
   ]
  },
  {
   "cell_type": "markdown",
   "id": "e73b23ee",
   "metadata": {},
   "source": [
    "## Used Throughout"
   ]
  },
  {
   "cell_type": "code",
   "execution_count": null,
   "id": "2aee1604",
   "metadata": {},
   "outputs": [],
   "source": [
    "import numpy as np\n",
    "import networkx as nx\n",
    "from collections import Counter\n",
    "import itertools \n",
    "import random\n",
    "from itertools import combinations, permutations\n",
    "import sys\n",
    "import pickle"
   ]
  },
  {
   "cell_type": "markdown",
   "id": "d6be5588",
   "metadata": {
    "jp-MarkdownHeadingCollapsed": true,
    "tags": []
   },
   "source": [
    "## Genus 1 methods <a name=\"s21\"></a>"
   ]
  },
  {
   "cell_type": "markdown",
   "id": "8ac8fa0b",
   "metadata": {},
   "source": [
    "See \"Notebooks\\2_Cycles_to_stability.ipynb\" for a description of the following functions."
   ]
  },
  {
   "cell_type": "code",
   "execution_count": 1,
   "id": "ea2dad57",
   "metadata": {
    "tags": []
   },
   "outputs": [],
   "source": [
    "#For change_to_get_trees, produces stability conditions for genus 1 graph given by a cycle.\n",
    "def head(n, prev_tree_edge):\n",
    "    \"\"\"\n",
    "    n= number of vertices in I_n\n",
    "    previous element of the cycle, ie tree_edge is j where e_j ={v_j,v_{j+1}} \n",
    "    \n",
    "    #Also used in chip adding on necklace curve\n",
    "    \"\"\"\n",
    "    head = np.zeros(n)\n",
    "\n",
    "    if prev_tree_edge == n:\n",
    "        head[0] = 1\n",
    "    else:\n",
    "        head[prev_tree_edge] = 1\n",
    "\n",
    "    return head\n",
    "def tail(n, current_tree_edge):\n",
    "    \"\"\"\n",
    "    n= number of vertices in I_n\n",
    "    tree_edge is j where e_j ={v_j,v_{j+1}}\n",
    "    i is previous element of the cycle, ie tree_edge\n",
    "    \"\"\"\n",
    "    tail = np.zeros(n)\n",
    "    # if current_tree_edge==n:\n",
    "    #     tail[0]=-1\n",
    "    tail[current_tree_edge - 1] = -1\n",
    "\n",
    "    return tail\n",
    "def tail_plus(n, current_tree_edge):  #for chip adding\n",
    "    \"\"\"\n",
    "    n= number of vertices in I_n\n",
    "    tree_edge is j where e_j ={v_j,v_{j+1}}\n",
    "    i is previous element of the cycle, ie tree_edge\n",
    "    \"\"\"\n",
    "    tail = np.zeros(n)\n",
    "    # if current_tree_edge==n:\n",
    "    #     tail[0]=-1\n",
    "    tail[current_tree_edge - 1] = 1\n",
    "\n",
    "    return tail\n",
    "\n",
    "def cycle_to_assignments(cycle):\n",
    "\n",
    "    #Main to get assingments from cycle\n",
    "\n",
    "    n = len(cycle)\n",
    "\n",
    "    # cycle=(1,3,4,2)\n",
    "    ass_0 = np.zeros(n)\n",
    "\n",
    "    M = [(1, ass_0)]  # Memory\n",
    "\n",
    "    for i in range(1, len(cycle)):\n",
    "\n",
    "        current_tree_edge = cycle[i]\n",
    "        tup = M[-1]  #pick last item of M\n",
    "\n",
    "        vtail = tail(n, current_tree_edge)\n",
    "        vhead = head(n, tup[0])\n",
    "        prev_ass = tup[1]\n",
    "\n",
    "        current_ass_t = prev_ass + vtail + vhead\n",
    "        M.append((current_tree_edge, current_ass_t))\n",
    "\n",
    "    # for i in M:\n",
    "    #     print(i)\n",
    "\n",
    "    return M\n",
    "\n",
    "def get_cycles(n):\n",
    "    lst = list(range(1, n + 1))\n",
    "    x = permutations(lst, n)\n",
    "    y = [i for i in x if i[0] == 1]\n",
    "\n",
    "    #Does:\n",
    "    # x=permutations([1,2,3,4,5],5)\n",
    "    # y=[i for i in x if i[0]==1]\n",
    "    # # print(len(y))\n",
    "    # for i in y:\n",
    "    #     print(i)\n",
    "\n",
    "    return y"
   ]
  },
  {
   "cell_type": "markdown",
   "id": "fc3fc777",
   "metadata": {},
   "source": [
    "See \"Notebooks\\3_assignments_11k3graphs.ipynb\" for a description of the following functions."
   ]
  },
  {
   "cell_type": "code",
   "execution_count": null,
   "id": "f16fcb4f",
   "metadata": {},
   "outputs": [],
   "source": [
    "def change_to_get_trees(cycle):\n",
    "    \n",
    "    #return trees where there was previously just numbers indicating edge to be removed.\n",
    "        # change: [(1, array([0., 0., 0., 0.])), (3, array([ 0.,  1., -1.,  0.])), (2, array([ 0.,  0., -1.,  1.])), (4, array([0., 0., 0., 0.]))]\n",
    "    # so first term is tree of In\n",
    "    # cycle=(1,3,2,4)\n",
    "\n",
    "    data_In=cycle_to_assignments(cycle) #<-----------------\n",
    "    data_In=sorted(data_In, key=lambda x: x[0]) # reordering to (1,),(2,) ect.. instead of being ordered by cycle.\n",
    "    \n",
    "    \"\"\"\n",
    "    Wish to order data_In by first term of tuple so that is (1, ),(2,) thus putting trees in order so that when we append to Memory M we have\n",
    "    M'[counter](0) = M[counter][0] when we are iterating through counters.\n",
    "    \"\"\"\n",
    "    \n",
    "    n=len(cycle)\n",
    "    G=graphs.CycleGraph(n)\n",
    "    \n",
    "    new_data_In=[]\n",
    "    for data in data_In:\n",
    "        #Get tree\n",
    "        tree_info=data[0]\n",
    "    #     print(tree_info)\n",
    "        if tree_info== len(data_In):\n",
    "            edge_tree=(tree_info-1,0)\n",
    "        else:\n",
    "            edge_tree=(tree_info-1,tree_info)\n",
    "    #     print(edge_tree)\n",
    "        tree=copy(G)\n",
    "        tree.delete_edge(edge_tree)\n",
    "\n",
    "        #Recompile data\n",
    "        new_data_In.append((tree,data[1]))\n",
    "\n",
    "    # plot(new_data_In[2][0]) #Have the correct trees.\n",
    "    \n",
    "    \"\"\"\n",
    "    Example:x=change_to_get_trees(cycle)\n",
    "\n",
    "    print(cycle)\n",
    "    for i in x:\n",
    "        print(i[0].edges())\n",
    "        \n",
    "        cycle=(1,3,2)\n",
    "    x=change_to_get_trees(cycle)\n",
    "    print([tup[0].edges() for tup in x])\n",
    "    \"\"\"\n",
    "    \n",
    "    return new_data_In"
   ]
  },
  {
   "cell_type": "markdown",
   "id": "413cd0ee",
   "metadata": {
    "jp-MarkdownHeadingCollapsed": true,
    "tags": []
   },
   "source": [
    "## Get_assignment_datum Functions <a name=\"s22\"></a>"
   ]
  },
  {
   "cell_type": "code",
   "execution_count": 3,
   "id": "ce3b0b3d",
   "metadata": {
    "tags": []
   },
   "outputs": [],
   "source": [
    "#For get_all_assingment_datum: produces all assignments for G.\n",
    "def get_subgraphs_gm1_Edgesmissing(G):\n",
    "    \n",
    "    #Get all spanning subgraphs, on row above trees specifically, $\\tilde{\\Gamma}_{g-1}$.\n",
    "    #returns a list of such subg\n",
    "    \n",
    "    edge_num_G=len(G.edges())\n",
    "    vert_num_G=len(G.vertices())\n",
    "    g=edge_num_G-vert_num_G+1\n",
    "    gm1=g-1\n",
    "\n",
    "    E=Set(G.edges()) #remeber possibly mulitgraph\n",
    "    V=G.vertices()\n",
    "\n",
    "    graphs_i_want=[]\n",
    "    for s in E.subsets():\n",
    "        if len(s)==edge_num_G-gm1: # edge_num_G-gm1number of edges of these subgraphs.\n",
    "            H=Graph(multiedges=True)\n",
    "            H.add_edges( s )\n",
    "            H.add_vertices( V )        # are interested only in spanning subgraphs\n",
    "            if H.is_connected(): #Want connected subgraphs\n",
    "                graphs_i_want.append(H)\n",
    "\n",
    "    return graphs_i_want\n",
    "\n",
    "def check_progress(i, k): #for get_all_assingment_datum\n",
    "    progress = (i + 1) / k * 100  # calculate the progress as a percentage\n",
    "    if round(progress) % 10 == 0 and round(progress) != 100:  # check if progress is at 10%, 20%, ..., 90%\n",
    "        print(f\"{i}:{k} Progress: {round(progress)}%\")\n",
    "    return   "
   ]
  },
  {
   "cell_type": "code",
   "execution_count": 4,
   "id": "6bd373b6",
   "metadata": {},
   "outputs": [],
   "source": [
    "##!!!\n",
    "def get_all_assingment_datum(G,T,starting_ass=None):\n",
    "    \n",
    "    \"\"\"\n",
    "    Returns:\n",
    "        a list of all assignment datum to be tested for size.\n",
    "    # Inputs:\n",
    "        # G #main graph\n",
    "        # T #fixed tree with assignment 0\n",
    "        #start_ass= is a np.array([a,b,..]) of length the number of vertices of G if none then takes all 0 assignment.\n",
    "    \"\"\"\n",
    "    \n",
    "    #Initalisation:\n",
    "    vert_num_G=len(G.vertices()) #subg is spanning so all verts of G\n",
    "    if starting_ass==None:\n",
    "        starting_ass=np.array([0]*vert_num_G)\n",
    "    subgraphs= get_subgraphs_gm1_Edgesmissing(G) #\\tilde{G} the subgraphs T\\cup e.\n",
    "    k_G=len(list(G.spanning_trees()))# number of spanning trees\n",
    "    M=[(T,[starting_ass])] #Memory <--- Starting case\n",
    "\n",
    "    print(\"Length of Assignments I WANT:\",k_G)\n",
    "\n",
    "    #Main loop\n",
    "    \"We now work to obtain the List of all assignments\"\n",
    "    partial_all_assignments=[M] #Main object we want to build, with starting case.\n",
    "    \n",
    "    #! Replace counter1 with a given T_base.\n",
    "    T_base=T # Runs over spanning trees to which we have assignments for, until $|M|=k(\\Gamma)$.\n",
    "    T_base_memory=[T_base]\n",
    "    ass_selector=0\n",
    "    \"\"\"Once we have all trees in the assingment we are done\"\"\"\n",
    "        \n",
    "    while len(partial_all_assignments[0])!=k_G: \n",
    "        \n",
    "        subg_l_contain_T=[subg for subg in subgraphs if T_base.is_subgraph(subg, induced=False)]   # subgraphs that contain T.\n",
    "\n",
    "        updated_partial_all_assignments=[]\n",
    "        for ind,M in enumerate(partial_all_assignments):\n",
    "            \n",
    "            #For when taking long: to measure\n",
    "            check_progress(ind, len(partial_all_assignments))   \n",
    "\n",
    "            \"\"\"we now obtain a list of all assignments obtained by extending assignment M by searching through subg containing T\n",
    "            for different cycles.\"\"\"\n",
    "            Extensions_M_by_T=Exhaustive_method(M,T_base,ass_selector,subg_l_contain_T) # A list of list=[(T,ass_t)| for some subset of trees]\n",
    "            print(ind)\n",
    "            updated_partial_all_assignments.extend(Extensions_M_by_T)\n",
    "            \n",
    "        print(f\"Finished iterating through the loop of {len(partial_all_assignments)} partial_all_assignments\")\n",
    "        \n",
    "#         \"\"\"We now update partial_all_assignments to updated_partial_all_assignments, which have assignments on new trees contained in subg containing T.\"\"\"\n",
    "        partial_all_assignments=updated_partial_all_assignments\n",
    "        \n",
    "        print(\"Number of partial assignments: Before:\",len(partial_all_assignments))\n",
    "\n",
    "        \n",
    "        #! we update T_base\n",
    "        #Take last item of first partial_assignment (for all partial assignment have the same last tree)\n",
    "        T_base,ass_selector=get_T_base(T_base_memory,partial_all_assignments[0],subgraphs)\n",
    "        T_base_memory.append(T_base)\n",
    "        \n",
    "        ##!! Apply condition that reduces the number of partial_all_assignments by checking that these are a wsc for the graph G_p containing the edges in the spanning trees.\n",
    "\n",
    "        #preamble\n",
    "        partial_ass=partial_all_assignments[0] #tale first one, all elements of partial_all_assignments have the same trees.\n",
    "        ST_partial = list({pair[0].copy(immutable=True) for pair in partial_ass})\n",
    "        \n",
    "        #------------------------------\n",
    "        \n",
    "        # Muiti condition #list of subgraphs # change 1 to 2 ect if below is zero.\n",
    "\n",
    "        i=get_i_level_G_p(G,ST_partial)\n",
    "        \n",
    "        subg_l_G_p=get_G_p(i,G,ST_partial) #list of subgraphs # change 1 to 2 ect if below is zero.\n",
    "        \n",
    "        print(f\"Number of G_p graphs: {len(subg_l_G_p)}\")\n",
    "\n",
    "        for ind,G_p in enumerate(subg_l_G_p):\n",
    "            \"\"\"\n",
    "            for the list of largest spanning connected subgraph of G contained in ST_partial, then take saturation \n",
    "            #this must be a stability condition, only take those assignments for which it is.\n",
    "            \"\"\"\n",
    "\n",
    "            #get G_p_ST_partial: is it necessary that G_p_ST_partial is appropriately ordered?\n",
    "            G_p_ST_partial=[t.copy(immutable=True) for t in G_p.spanning_trees()]\n",
    "\n",
    "            #Want to avoid when  G_p is G?\n",
    "            partial_all_assignments=reduced(G_p_ST_partial,G_p,partial_all_assignments)\n",
    "            print(f\"{ind}: Number of partial assignments: After refinement: {len(partial_all_assignments)}\")\n",
    "        #------------------------------\n",
    "\n",
    "            \n",
    "        print(\"Final: Number of partial assignments: After:\",len(partial_all_assignments),\"\\n\")\n",
    "\n",
    "        print(\"Length of assignments-----------------\",len(partial_ass))\n",
    "        \n",
    "        \n",
    "    return partial_all_assignments"
   ]
  },
  {
   "cell_type": "code",
   "execution_count": 5,
   "id": "eb1c9550",
   "metadata": {},
   "outputs": [],
   "source": [
    "# G_p=get_G_p(G,ST_partial) \n",
    "\n",
    "# \"\"\"\n",
    "# for the list of largest spanning connected subgraph of G contained in ST_partial, then take saturation \n",
    "# #this must be a stability condition, only take those assignments for which it is.\n",
    "# \"\"\"\n",
    "\n",
    "# #get G_p_ST_partial: is it necessary that G_p_ST_partial is appropriately ordered?\n",
    "# G_p_ST_partial=[t.copy(immutable=True) for t in G_p.spanning_trees()]\n",
    "\n",
    "\n",
    "# partial_all_assignments=reduced(G_p_ST_partial,G_p,partial_all_assignments)\n",
    "# print(f\"Number of partial assignments: After refinement: {len(partial_all_assignments)}\")"
   ]
  },
  {
   "cell_type": "code",
   "execution_count": 6,
   "id": "367d157f",
   "metadata": {},
   "outputs": [],
   "source": [
    "def get_i_level_G_p(G,ST_partial):#DFN #multi condition\n",
    "    \n",
    "    \"\"\"\n",
    "    Obj: Returns the level Gamma(i) for which there exists a Gp such that ST(G_p) is containied in ST_partial\n",
    "    \n",
    "    input: \n",
    "    ST_partial: list of spanning trees of partial_ass =[(T,ass),...]\n",
    "    G is total graph.\n",
    "    i=1 for Gamma(g-1) graphs\n",
    "    \n",
    "    returns\n",
    "    \"\"\"\n",
    "    #init:\n",
    "    edge_num_G=len(G.edges())\n",
    "    vert_num_G=len(G.vertices())\n",
    "    g=edge_num_G-vert_num_G+1\n",
    "    \n",
    "    set_ST_partial = set(ST_partial)\n",
    "\n",
    "    \n",
    "    for i in range(g-1,0,-1):\n",
    "        for subg in get_subgraphs_gmi_Edgesmissing(g-i,G):\n",
    "            subg_trees=set([ t.copy(immutable=True) for t in subg.spanning_trees()])\n",
    "            check=subg_trees.issubset(set_ST_partial)\n",
    "            if check==True:\n",
    "                return i"
   ]
  },
  {
   "cell_type": "code",
   "execution_count": 7,
   "id": "cb0ff215",
   "metadata": {},
   "outputs": [],
   "source": [
    "def get_G_p(i,G,ST_partial):#DFN #multi condition\n",
    "    \n",
    "    \"\"\"\n",
    "    Obj: Return the largest spanning connected subgraph of G, denoted by G_p, such that ST(G_p) is containied in ST_partial\n",
    "    \n",
    "    input: \n",
    "    ST_partial: list of spanning trees of partial_ass =[(T,ass),...]\n",
    "    G is total graph.\n",
    "    i=1 for Gamma(g-1) graphs\n",
    "    \n",
    "    returns\n",
    "    \"\"\"\n",
    "    #init:\n",
    "    edge_num_G=len(G.edges())\n",
    "    vert_num_G=len(G.vertices())\n",
    "    g=edge_num_G-vert_num_G+1\n",
    "    \n",
    "    \n",
    "    set_ST_partial = set(ST_partial)\n",
    "\n",
    "    subg_l=[]\n",
    "    for subg in get_subgraphs_gmi_Edgesmissing(g-i,G):\n",
    "        subg_trees=set([ t.copy(immutable=True) for t in subg.spanning_trees()])\n",
    "        check=subg_trees.issubset(set_ST_partial)\n",
    "        if check==True:\n",
    "            subg_l.append(subg)\n",
    "            \n",
    "    if len(subg_l)==0:\n",
    "        return None\n",
    "    else:   \n",
    "        return subg_l\n"
   ]
  },
  {
   "cell_type": "code",
   "execution_count": 8,
   "id": "80f35e7c",
   "metadata": {},
   "outputs": [],
   "source": [
    "# def get_G_p(G,ST_partial):#DFN\n",
    "    \n",
    "#     \"\"\"\n",
    "#     Obj: Return the largest spanning connected subgraph of G, denoted by G_p, such that ST(G_p) is containied in ST_partial\n",
    "    \n",
    "#     input: \n",
    "#     ST_partial: list of spanning trees of partial_ass =[(T,ass),...]\n",
    "#     G is total graph.\n",
    "    \n",
    "#     returns\n",
    "#     \"\"\"\n",
    "#     #init:\n",
    "#     edge_num_G=len(G.edges())\n",
    "#     vert_num_G=len(G.vertices())\n",
    "#     g=edge_num_G-vert_num_G+1\n",
    "    \n",
    "    \n",
    "#     set_ST_partial = set(ST_partial)\n",
    "    \n",
    "# #     print(g)\n",
    "#     for i in range(g-1,0,-1): #goes back from Gamma(g-1) graphs first to Gamma(1)\n",
    "#         #Start with maximal size first subgraph\n",
    "        \n",
    "# #         print(\"i\",i)\n",
    "\n",
    "#         for subg in get_subgraphs_gmi_Edgesmissing(i,G):\n",
    "# #             subg=subg.copy(immutable=True)\n",
    "            \n",
    "#             subg_trees=set([ t.copy(immutable=True) for t in subg.spanning_trees()])\n",
    "#             check=subg_trees.issubset(set_ST_partial)\n",
    "                           \n",
    "#             if check==True:\n",
    "#                 graph_p=subg\n",
    "#                 return graph_p\n",
    "#     return None\n",
    "    \n",
    "#     print(\"HELP NO SUB which is contained in all trees\")"
   ]
  },
  {
   "cell_type": "code",
   "execution_count": 9,
   "id": "e0ba2c26",
   "metadata": {},
   "outputs": [],
   "source": [
    "def get_subgraphs_gmi_Edgesmissing(i,G):\n",
    "    \n",
    "    \n",
    "    # Returns Gamma(i)\n",
    "    #i=0 gives trees, i=1 gives Gamma(1), and so on..\n",
    "    #1 le i le g-1\n",
    "        \n",
    "    edge_num_G=len(G.edges())\n",
    "    vert_num_G=len(G.vertices())\n",
    "    g=edge_num_G-vert_num_G+1\n",
    "    gm1=g-i\n",
    "\n",
    "    E=Set(G.edges()) #remeber possibly mulitgraph\n",
    "    V=G.vertices()\n",
    "\n",
    "    graphs_i_want=[]\n",
    "    for s in E.subsets():\n",
    "        if len(s)==edge_num_G-gm1: # edge_num_G-gm1number of edges of these subgraphs.\n",
    "            H=Graph(multiedges=True)\n",
    "            H.add_edges( s )\n",
    "            H.add_vertices( V )        # are interested only in spanning subgraphs\n",
    "            if H.is_connected(): #Want connected subgraphs\n",
    "                graphs_i_want.append(H)\n",
    "\n",
    "    return graphs_i_want"
   ]
  },
  {
   "cell_type": "code",
   "execution_count": null,
   "id": "9dec2b31",
   "metadata": {},
   "outputs": [],
   "source": []
  },
  {
   "cell_type": "code",
   "execution_count": 10,
   "id": "cab1ffc3",
   "metadata": {},
   "outputs": [],
   "source": [
    "def p_condition_checker(G_p_ST_partial,G_p,partial):# reduced(partial_all_assignments)\n",
    "    \n",
    "    \"\"\"\n",
    "    Obj:  Given a AssignmentdatumforG  #We record those that give a wsc\n",
    "\n",
    "    Input:\n",
    "    \n",
    "    partial_ass =[(T,ass),...] of length le ST(G).\n",
    "    \n",
    "    ST_partial= list of spanning trees in partial_ass\n",
    "    \n",
    "    Returns:partial_ass if is a choice of assignments for a wsc.\n",
    "    \"\"\"\n",
    "    \n",
    "    #From partial only want those (T,ass) for trees in G_p_ST_partial.\n",
    "\n",
    "    \n",
    "    G_p_partial = [pair for T in G_p_ST_partial for pair in partial if T == pair[0]]\n",
    "#     print(\"G_p_partial\",G_p_partial)\n",
    "    \n",
    "    \n",
    "\n",
    "    Assignments=get_assignment_ordered_for_wstab(G_p_partial,G_p_ST_partial)\n",
    "    \n",
    "#     print(\"Assignments\",Assignments)\n",
    "    #Want to reduce the number of calc so\n",
    "    \n",
    "    sigma=p_w_stability(G_p_ST_partial,G_p,Assignments) #\n",
    "    \n",
    "    x,y=check_size(G_p,sigma)\n",
    "\n",
    "    if x==True:\n",
    "        return partial #want to return whole even though checked part.\n",
    "    if x==False:\n",
    "        return None\n",
    "\n",
    "def reduced(G_p_ST_partial,G_p,partial_all_assignments): #Main condition to reduce assignments in get_all_assingment_datum\n",
    "    \n",
    "    \"\"\"\n",
    "    Obj: Total function to apply p_condition_checker to partial_all_assignments.\n",
    "    inputs: partial_all_assignments\n",
    "    returns: reduced list of partial_all_assignments for those that are wsc for G_p.\n",
    "    \"\"\"\n",
    "    red_partial_all_assignments=[]\n",
    "    \n",
    "    for partial in partial_all_assignments:\n",
    "        \n",
    "        check = p_condition_checker(G_p_ST_partial,G_p,partial)\n",
    "        \n",
    "#         print(\"here?1 \\n\\n\\n\")\n",
    "        \n",
    "        if check != None:\n",
    "            red_partial_all_assignments.append(check)\n",
    "            \n",
    "#     print(\"here?2\")\n",
    "\n",
    "    return red_partial_all_assignments\n",
    "\n",
    "    sigma=p_w_stability(G_p_ST_partial,G_p,Assignments) #\n",
    "\n",
    "def p_w_stability(G_p_ST_partial,G_p,Assignments):\n",
    "    \n",
    "    \"\"\"\n",
    "    #Graphs are labelled v0 to v_n-1\n",
    "    Inputs:\n",
    "        graph: Any smallish finite multigraph\n",
    "        Assignments: A list of (complexity of graph many) lists of length vert(graph).\n",
    "    \n",
    "    Outputs: a list of lists of length vert(graph) corresponding to liine bundle multidegrees obtained by chip adding.\n",
    "\n",
    "    \"\"\"\n",
    "    \n",
    "    G_edges=G_p.edges(sort=True, labels=False)\n",
    "#     print(\"G_edges\",G_edges)\n",
    "\n",
    "#     print(\"G_edges\",G_edges)\n",
    "    # ST_partial=get_sp_trees(G)\n",
    "\n",
    "    lbm_patches=[] # the set of patches,which we'll take the union of. \n",
    "    for index,tree in enumerate(G_p_ST_partial):    \n",
    "        ass=Assignments[index]  \n",
    "        \n",
    "#         print(\"ass\",ass)\n",
    "        \n",
    "        tree_e=tree.edges(sort=True, labels=False)\n",
    "        \n",
    "        patch=chip_adding(G_edges,tree_e,ass)  #!!!! <-Sort if taking long\n",
    "        \n",
    "#         print(\"tree\",tree.edges())\n",
    "#         print(np.unique(patch, axis=0),\"\\n\")\n",
    "                \n",
    "        lbm_patches.append(patch)\n",
    "    \n",
    "    sig=np.concatenate(lbm_patches, axis=0)\n",
    "    \n",
    "    sig=sig.astype('int32')\n",
    "    \n",
    "#     print(np.array(sig))\n",
    "    sig=np.unique(sig, axis=0)\n",
    "\n",
    "#     print(\"sig\",len(sig),sig)\n",
    "\n",
    "    return sig"
   ]
  },
  {
   "cell_type": "code",
   "execution_count": 11,
   "id": "84763dd9",
   "metadata": {},
   "outputs": [],
   "source": [
    "def get_T_base(T_base_memory, partial_ass, subgraphs):\n",
    "    \"\"\"\n",
    "    Objective: Return the tree 'T_baser' and 'ass_select' that will give subgraphs containing 'T_baser',\n",
    "               which will maximize the number of new trees to extend our partial assignment by.\n",
    "    Inputs:\n",
    "        T_base_memory: Set of trees selected in previous iterations\n",
    "        partial_ass: [(T, ass), ..., (T, ass)] # List of trees and assignments\n",
    "        subgraphs: [subg, ..., subg] # List of subgraphs\n",
    "    \n",
    "    Returns:\n",
    "        T_baser: Tree with maximum new extensions\n",
    "        ass_select: Index of the assignment corresponding to 'T_baser'\n",
    "    \"\"\"\n",
    "    \n",
    "    ST_partial = {pair[0].copy(immutable=True) for pair in partial_ass}\n",
    "\n",
    "    size_inter_prev_min = float('inf')\n",
    "    T_baser = None\n",
    "    \n",
    "    for T in ST_partial:\n",
    "        if T in T_base_memory:\n",
    "            continue\n",
    "        \n",
    "        # Get subgraphs containing T\n",
    "        subg_l_contain_T = [subg for subg in subgraphs if T.is_subgraph(subg, induced=False)]\n",
    "\n",
    "        # Collect their trees\n",
    "        union_trees_T = set()\n",
    "        for subg in subg_l_contain_T:\n",
    "            t_l = {tree.copy(immutable=True) for tree in subg.spanning_trees()}\n",
    "            union_trees_T.update(t_l)\n",
    "\n",
    "        # Consider the intersection.\n",
    "        inter_T = ST_partial.intersection(union_trees_T)\n",
    "\n",
    "        size_inter_T = len(inter_T)\n",
    "        \n",
    "#         print(\"size_inter_T\", size_inter_T)\n",
    "\n",
    "        # Determine a minimum size of intersection for a given tree.\n",
    "        if size_inter_T < size_inter_prev_min:\n",
    "            T_baser = T\n",
    "            size_inter_prev_min = size_inter_T\n",
    "\n",
    "#     print(\"size_inter_prev_min\", size_inter_prev_min)\n",
    "    \n",
    "    ass_select = None\n",
    "    for idx, (T, ass) in enumerate(partial_ass):\n",
    "        if T == T_baser:\n",
    "            ass_select = idx\n",
    "            break\n",
    "            \n",
    "    return T_baser, ass_select\n"
   ]
  },
  {
   "cell_type": "code",
   "execution_count": 12,
   "id": "6198589a",
   "metadata": {
    "tags": []
   },
   "outputs": [],
   "source": [
    "# # old and for conjecture\n",
    "\n",
    "# def get_all_assingment_datum(G,T,starting_ass=None): #draft2\n",
    "    \n",
    "#     \"\"\"\n",
    "#     Returns:\n",
    "#         a list of all assignment datum to be tested for size.\n",
    "#     # Inputs:\n",
    "#         # G #main graph\n",
    "#         # T #fixed tree with assignment 0\n",
    "#         #start_ass= is a np.array([a,b,..]) of length the number of vertices of G if none then takes all 0 assignment.\n",
    "#     \"\"\"\n",
    "    \n",
    "#     #Initalisation:\n",
    "#     vert_num_G=len(G.vertices()) #subg is spanning so all verts of G\n",
    "#     if starting_ass==None:\n",
    "#         starting_ass=np.array([0]*vert_num_G)\n",
    "#     subgraphs= get_subgraphs_gm1_Edgesmissing(G) #\\tilde{G} the subgraphs T\\cup e.\n",
    "#     k_G=len(list(G.spanning_trees()))# number of spanning trees\n",
    "#     M=[(T,[starting_ass])] #Memory <--- Starting case\n",
    "\n",
    "#     print(\"Length of Assignments I WANT:\",k_G)\n",
    "\n",
    "#     #Main loop\n",
    "#     \"We now work to obtain the List of all assignments\"\n",
    "#     partial_all_assignments=[M] #Main object we want to build, with starting case.\n",
    "    \n",
    "#     for counter1 in range(k_G):# Runs over spanning trees to which we have assignments for, until $|M|=k(\\Gamma)$.        \n",
    "#         updated_partial_all_assignments=[]\n",
    "        \n",
    "\n",
    "#         for ind,M in enumerate(partial_all_assignments):\n",
    "            \n",
    "#             ######## TESTING ############################################################\n",
    "#             #For when taking long: to measure\n",
    "#             check_progress(ind, len(partial_all_assignments))   \n",
    "#             ######## TESTING ############################################################\n",
    "\n",
    "#             \"\"\"we now obtain a list of all assignments obtained by extending assignment M by searching through subg containing T\n",
    "#             for different cycles.\"\"\"\n",
    "#             Extensions_M_by_T=Exhaustive_method(M,counter1,subgraphs) # A list of list=[(T,ass_t)| for some subset of trees]\n",
    "            \n",
    "#             updated_partial_all_assignments.extend(Extensions_M_by_T)\n",
    "#             print(ind)\n",
    "            \n",
    "            \n",
    "#         print(f\"Finished iterating through the loop of {len(partial_all_assignments)} partial_all_assignments\")\n",
    "\n",
    "# #         \"\"\"We now update partial_all_assignments to updated_partial_all_assignments, which have assignments on new trees contained in subg containing T.\"\"\"\n",
    "#         partial_all_assignments=updated_partial_all_assignments\n",
    "        \n",
    "#         print(\"Number of partial assignments:\",len(partial_all_assignments))\n",
    "#         print(\"Length of assignments-----------------\",len(partial_all_assignments[0]))\n",
    "        \n",
    "#         \"\"\"Once we have all trees in the assingment we are done\"\"\"\n",
    "        \n",
    "        \n",
    "#         \"\"\"for conjecture: We want to check compatibileity of Agamma0 for all subgraphs.\"\"\"\n",
    "# #         if len(partial_all_assignments[0])==k_G: #it is enough to check the first element as number of extra trees added is constant\n",
    "# #             break   \n",
    "\n",
    "#         \"\"\"for reducing nubmer of assingments for FV_example\"\"\"\n",
    "#         if len(partial_all_assignments[0])==k_G: #it is enough to check the first element as number of extra trees added is constant\n",
    "#             break  \n",
    "        \n",
    "\n",
    "#     return partial_all_assignments"
   ]
  },
  {
   "cell_type": "markdown",
   "id": "fc17b859",
   "metadata": {
    "jp-MarkdownHeadingCollapsed": true,
    "tags": [],
    "toc-hr-collapsed": true
   },
   "source": [
    "## Exhaustive method functions <a name=\"s23\"></a>"
   ]
  },
  {
   "cell_type": "markdown",
   "id": "8ec9df51",
   "metadata": {},
   "source": [
    "The function Exhaustive method is composed of parts.\n",
    "These are chrologically given below."
   ]
  },
  {
   "cell_type": "markdown",
   "id": "dca0a7de",
   "metadata": {
    "tags": []
   },
   "source": [
    "### Initalisation functions <a name=\"s231\"></a>"
   ]
  },
  {
   "cell_type": "code",
   "execution_count": 14,
   "id": "8e2fa461",
   "metadata": {
    "tags": []
   },
   "outputs": [],
   "source": [
    "#for subg in subg_l_contain_T: loop\n",
    "def get_tails(subg):\n",
    "    #tails = edges with vertices outside of subnecklace. \n",
    "    #return multigraph of tails after removing edges of subnecklace.\n",
    "\n",
    "    subg_edges=subg.edges()\n",
    "    #Subnecklace edges\n",
    "    [edges_subnecklace]=subg.cycle_basis(output='edge')\n",
    "\n",
    "    #Get tails\n",
    "    tails_subg=copy(subg)\n",
    "    tails_subg.delete_edges(edges_subnecklace) #order of the edges must matter.\n",
    "\n",
    "    return tails_subg\n"
   ]
  },
  {
   "cell_type": "code",
   "execution_count": null,
   "id": "11d4b812",
   "metadata": {},
   "outputs": [],
   "source": [
    "\n",
    "# def skipping_subg_we_know(subg,pre_M):\n",
    "#     #Skipping subg if its trees are already in pre_M\n",
    "#     check=all(tree in [tup[0] for tup in pre_M] for tree in list(subg.spanning_trees()))\n",
    "#     return check"
   ]
  },
  {
   "cell_type": "markdown",
   "id": "34850a6e",
   "metadata": {
    "tags": []
   },
   "source": [
    "### get_Extensions_M_by_T_subg <a name=\"s232\"></a>"
   ]
  },
  {
   "cell_type": "code",
   "execution_count": 16,
   "id": "7f96bdad",
   "metadata": {
    "tags": []
   },
   "outputs": [],
   "source": [
    "def get_Extensions_M_by_T_subg(pre_M,common_tree,common_tree_assingment,subg,n,tails):\n",
    "    \"\"\"\n",
    "    Returns: a list of all (different) extensions of M (a list of tuples) (used to obtain Extensions_M_by_T) compatible with T=M[counter][0] iterating over a single subgraph. \n",
    "    By considering all cycles that work with M and labeling of In both ways.\n",
    "\n",
    "    Returns a list of objects the form:\n",
    "    [(T,Ass_T) for pre_M, (T,Ass_T) for cycle where we take cycles that work]\n",
    "    and [(T,Ass_T) for pre_M, (T,Ass_T) for cycle where we take cycles that work] for taking the oppositie labeling for In.\n",
    "    \"\"\"\n",
    "\n",
    "    Extensions_M_by_T_subg=[]\n",
    "    relabler=get_relabler(subg,common_tree)\n",
    "    valid_M1=running_cycles(pre_M,n,relabler,tails,common_tree_assingment,change_relabler=False)\n",
    "    if valid_M1!=None:\n",
    "        Extensions_M_by_T_subg.extend(valid_M1) #valid_M1 is a list\n",
    "        return Extensions_M_by_T_subg\n",
    "    \n",
    "    if valid_M1==None:\n",
    "        return None"
   ]
  },
  {
   "cell_type": "code",
   "execution_count": null,
   "id": "d98d0cbc",
   "metadata": {},
   "outputs": [],
   "source": []
  },
  {
   "cell_type": "markdown",
   "id": "9ca58f20",
   "metadata": {
    "tags": []
   },
   "source": [
    "#### For running_cycles:"
   ]
  },
  {
   "cell_type": "code",
   "execution_count": 17,
   "id": "830b320a",
   "metadata": {
    "scrolled": true,
    "tags": []
   },
   "outputs": [],
   "source": [
    "def put_assignments_together(M, new_data): #for append_to_list\n",
    "    \"\"\"\n",
    "    Returns: A list of (T,Ass_T) where Ass_T may have duplicates.\n",
    "    \"\"\"\n",
    "    \n",
    "    mapping = {t.copy(immutable=True): ass_l for (t, ass_l) in M} #ass_l is a list\n",
    "    for (t_dif, ass) in new_data:\n",
    "        #if have same tree in new data, record assignments by adding to mapping\n",
    "        if t_dif.copy(immutable=True) in mapping:\n",
    "            mapping[t_dif.copy(immutable=True)] = mapping[t_dif.copy(immutable=True)] + [ass] #mapping[t] and  ass will be list of assingments.\n",
    "        # If have tree not originally in mapping, add key,value pair.\n",
    "        else:\n",
    "            mapping[t_dif.copy(immutable=True)] = [ass]\n",
    "    \n",
    "    #Put mapping into list format\n",
    "    ass_gamma_all=[(t.copy(immutable=False), ass_l) for t, ass_l in mapping.items()] #possible duplicates in list ass\n",
    "    \"\"\"I have changed tree back to mutable objects.\"\"\"\n",
    "    # \"\"\"mapping.items() does not sort the lists see change_to_trees.\"\"\"\n",
    "    return ass_gamma_all\n",
    "def selector(l,k): #for append_to_list\n",
    "    #Returns the tup of l (a list of 2-tuples) for which tup[0] in k\n",
    "    t=[]\n",
    "    for tup in l:\n",
    "        if tup[0] in k:\n",
    "            t.append(tup)\n",
    "    return t\n",
    "def remove_duplicates(ass_gamma_all): #for append_to_list\n",
    "    #removing duplicates assingments (np.arrays()) treats the list as a set.\n",
    "    ass_gamma_uni=[] \n",
    "    for pair in ass_gamma_all:\n",
    "        l_unique, index = np.unique(pair[1], return_index=True, axis=0)\n",
    "        rows=[np.array(row) for row in l_unique]\n",
    "        ass_gamma_uni.append((pair[0],rows))\n",
    "    return ass_gamma_uni\n",
    "\n",
    "def append_to_list(M, new_data,change_relabler): # For running_cycles:\n",
    "    \"\"\"\n",
    "    Inputs:new_data a list of (T,assT) for subg trees and cycle.\n",
    "    Returns\n",
    "    \"\"\"\n",
    "    #Glue together both lists of data.\n",
    "    ass_gamma_all=put_assignments_together(M, new_data)\n",
    "    \n",
    "    \"\"\"\n",
    "    We now need to put the (t,Ass_T) into the order of tree for M + new_data respectiting common trees.\n",
    "    \"\"\"\n",
    "    M_trees=[m[0] for m in M]\n",
    "    new_data_trees=[m[0] for m in new_data] #All trees in new data including common_tree.\n",
    "    \n",
    "    #We remove trees that are in M_tree from new_data_trees.\n",
    "    common_trees =[item for item in M_trees if item in new_data_trees] #trees that are common to both.\n",
    "    new_data_trees_not_common_trees= [tree for tree in new_data_trees if tree not in common_trees]\n",
    "\n",
    "    \"\"\"We take the part of ass_gamma_all that has trees in M_trees and then order them according to M_trees.\n",
    "    Similar for new_data_trees_not_common_tree\"\"\"\n",
    "    \n",
    "    M_part_ass_gamma_all=selector(ass_gamma_all,M_trees)        \n",
    "    new_data_part_ass_gamma_all=selector(ass_gamma_all,new_data_trees_not_common_trees)\n",
    "    \n",
    "    \"\"\"ISSUE:\n",
    "    From new_data_part_ass_gamma_all want to remove the tuple for trees we have already in M_trees.\n",
    "    see: new_data_trees_not_common_tree above.\n",
    "    \"\"\"\n",
    "    \n",
    "    \"\"\"It is important we have the correct order for assignments of trees. In particular new_data.\"\"\"\n",
    "    \n",
    "    ass_gamma_all=M_part_ass_gamma_all+new_data_part_ass_gamma_all\n",
    "    ass_gamma_uni=remove_duplicates(ass_gamma_all)\n",
    "    return ass_gamma_uni\n",
    "def check_tuple_size(lst): # For running_cycles\n",
    "    \"\"\"\n",
    "     \"Check if, for $M$ we have $|Ass(T)|=1$ for all $T$.\"\n",
    "    \"\"\"\n",
    "    for tup in lst:\n",
    "        if len(tup[1]) != 1:\n",
    "            return False\n",
    "    return True\n",
    "\n",
    "def running_cycles(M,n,relabler,tails,common_tree_assingment,change_relabler): # For Exhaustive method function.\n",
    "\n",
    "    \"\"\"\n",
    "    Obj: Run through all cycles for this subnecklace (genus $1$ method to calculate assignments)\n",
    "    Then compare these new assignments (for trees in subg) to previous assignment datum M and check size is 1. \n",
    "    Returns:A list the extensions of an assignment M, for a given subgraph.\n",
    "    \"\"\"\n",
    "    valid_M=[]\n",
    "    for cycle in get_cycles(int(n)):\n",
    "\n",
    "        data_subg=get_ass_trees_subg(cycle,relabler,tails,common_tree_assingment)\n",
    "\n",
    "        \"\"\"append data_subg to $M$ Increasing the size of $|Ass(T^{'})|$ if necessary. \n",
    "        The below code may (see append_to_list) (Think this is fixed now) inadvertantly result in M[counter][0] \\ne M'[counter][0] see change_to_get_trees. \n",
    "        We only appends to assignments data for trees which we knoe in M and keep tree same, we append new (T,ass_T).\"\"\"\n",
    "        \n",
    "        if change_relabler==True:\n",
    "            result = append_to_list(copy(M), data_subg,change_relabler=True) \n",
    "        else:\n",
    "            result = append_to_list(copy(M), data_subg,change_relabler=False) \n",
    "\n",
    "        \"Check if, for $M$ we have $|Ass(T)|=1$ for all $T$.\"\n",
    "        if check_tuple_size(result)==True:\n",
    "            valid_M.append(result)\n",
    "            \n",
    "    if len(valid_M)>0:\n",
    "        return valid_M \n",
    "    \n",
    "    return None"
   ]
  },
  {
   "cell_type": "code",
   "execution_count": 18,
   "id": "8d3f02ca",
   "metadata": {},
   "outputs": [],
   "source": [
    "# x=[put_assignments_together,append_to_list,remove_duplicates,selector,running_cycles]\n",
    "# find_functions_used_l(x)"
   ]
  },
  {
   "cell_type": "markdown",
   "id": "eb308b5b",
   "metadata": {
    "jp-MarkdownHeadingCollapsed": true,
    "tags": []
   },
   "source": [
    "##### For get_ass_trees_subg:"
   ]
  },
  {
   "cell_type": "code",
   "execution_count": 19,
   "id": "7ee83f7f",
   "metadata": {
    "tags": []
   },
   "outputs": [],
   "source": [
    "def find_leaves(spanning_tree):#For get_ass_trees_subg\n",
    "    \"\"\"\n",
    "    Obj: to get relabeler, need to define a start and end for the path \n",
    "    in the subnecklace of of subg wrt common_tree (specifically fixed)\n",
    "    where spanning_tree = In_common_tree\n",
    "    #returns the leaves of tree in subnecklace.i.e [start,end]\n",
    "    \"\"\"\n",
    "    nodes=spanning_tree.vertices()\n",
    "    leaves = []\n",
    "    for node in nodes:\n",
    "        edges = [x for x in spanning_tree.edges() if node in x]\n",
    "        if len(edges) == 1:\n",
    "            leaves.append(node)\n",
    "    return leaves\n",
    "def get_relabler(subg,common_tree,leave_order=None):#For get_ass_trees_subg\n",
    "    \"\"\"\n",
    "    Obj: Get relabling, that is given the path in subnecklace we need a method to \n",
    "    relabel the vertices of trees of I_n to the appropriate ones in the subnecklace of sugb.to get relabling we use\n",
    "    common tree in subg (acting as 0 assignment).\n",
    "    #returns a dictionary mapping the vertices of the subnecklace to In. \n",
    "    \n",
    "    The specific choose of leave_order does not mather.\n",
    "    \n",
    "    Returns a mapping of vertices of In to vertices of subnecklace.\n",
    "    i.e a dictionary for mapping.\n",
    "    \"\"\"\n",
    "    \n",
    "    #remove tails from common_tree.\n",
    "    tails=get_tails(subg) #tails\n",
    "    In_common_tree=copy(common_tree) #with labeling of subg\n",
    "    In_common_tree.delete_edges(tails.edges()) #to put into subnecklace form.\n",
    "    \n",
    "    [start,end]=find_leaves(In_common_tree)\n",
    "    [path]=In_common_tree.all_paths(start, end) #of the form [[0, 5, 1, 4, 2, 3]]\n",
    "\n",
    "    relabler={}    \n",
    "    for i in range(len(path)):\n",
    "        \"\"\"\n",
    "        The End of the subnecklace should map to v_0 of In\n",
    "        The Start of the subnecklace should be v_1.\n",
    "        \"\"\"\n",
    "        relabler[i]=path[i-1]\n",
    "    return relabler\n",
    "def get_temp_data(relabler,data):#For get_ass_trees_subg\n",
    "    \"\"\"\n",
    "    Obj:Apply relabler: to get trees of subgnecklace from trees of In\n",
    "    Returns:data but with trees relabled.\n",
    "    \"\"\"\n",
    "    temp_data =[] # temp_data for subnecklace.\n",
    "    for d in data: #data of In assignments (tree,ass) pairs\n",
    "        tree_In=copy(d[0])\n",
    "        tree_In.relabel(relabler)\n",
    "        temp_data.append((tree_In,d[1]))\n",
    "    return temp_data\n",
    "def extend_trees_subnecklace_to_tails(temp_data,tails):#For get_ass_trees_subg\n",
    "    \n",
    "    \"\"\"\n",
    "    Obj: Extend the tree of new_data to tails only (dont bother assingments yet).\n",
    "    \"\"\"\n",
    "    extendtails_temp_data =[] # temp_data for subnecklace.\n",
    "    for d in temp_data: #data of In assignments (tree,ass) pairs\n",
    "        tree_In=copy(d[0])\n",
    "        tree_In.add_edges(tails.edges())\n",
    "        extendtails_temp_data.append((tree_In,d[1]))\n",
    "    return extendtails_temp_data\n",
    "\n",
    "def build_list(l, relabeling,vert_num_G):#For Extend_relabel_assignments\n",
    "    \n",
    "\n",
    "    \"\"\"Obj: Given a assignment on a tree of In with the relabling relabel_dict={0:4,1:0,2:5,3:1}\n",
    "    we give the assoicated assignment on the subnecklace of subg, where we put 0's on the tails.\n",
    "    \n",
    "    More explicitly:\n",
    "    - By changing these assignments to ones on the correct vertices of subg using relabel_dict\n",
    "    - Then extend temp_ass to include the vertices of the tails of subg with value (0).\n",
    "    \n",
    "    Inputs:    \n",
    "        # l #assignment on tree from In\n",
    "        # relabel_dict #from subgraph\n",
    "    Returns: Non-tranlated assignment on T in G.\n",
    "    \"\"\"\n",
    "    \n",
    "    result = [0] * vert_num_G # number of vertices of $G$.\n",
    "\n",
    "    for i, value in enumerate(l):\n",
    "        result[int(relabeling[i])] = value\n",
    "    return result\n",
    "def Extend_relabel_assignments(data,common_tree_ass,relabler):#For get_ass_trees_subg\n",
    "    \n",
    "    \"\"\"\n",
    "    Obj:  Relabel,Extend to tail vertices and Tranlsated $Ass(T^{'})$ by $Ass(T)$ for common_tree.\n",
    "    where  extending and relabeling ass for In to tempoary ass for G.\n",
    "    Returns: a [(T,Ass_T) | .. ] where T is a tree of G.\n",
    "    \"\"\"\n",
    "    vert_num_G=len(common_tree_ass)\n",
    "    temp_data=[]\n",
    "    for d in data:\n",
    "        assignment=d[1]\n",
    "        temp_ass=build_list(assignment, relabler,vert_num_G)\n",
    "        temp_data.append((d[0],temp_ass))\n",
    "    \n",
    "    #Now translate by the assingmnet of the common tree.\n",
    "    final_data= [(tree, arr + common_tree_ass) for tree, arr in temp_data]\n",
    "    return final_data\n",
    "\n",
    "def get_ass_trees_subg(cycle,relabler,tails,common_tree_assingment): #For running_cycles\n",
    "    \n",
    "    \"\"\"\n",
    "    #Obj: Using a cycle to get all tranlsated $Ass(T^{'})$ for all $T^{'}$ in a specific subg.\n",
    "    #return: list of $(T^{'},Ass(T^{'}))$ for subg\n",
    "    \"\"\"\n",
    "    data=change_to_get_trees(cycle) #get assingment data for In graph first\n",
    "\n",
    "    #relabel tree of In to trees of subnecklace of subg.\n",
    "    temp_data=get_temp_data(relabler,data)\n",
    "\n",
    "    \"\"\"For the trees we add back the tails of the subgraph relative to the subnecklace.\"\"\"\n",
    "    #Now extend the tree of temp_data to tails only (dont bother assingments yet).\n",
    "    extendtails_temp_data=extend_trees_subnecklace_to_tails(temp_data,tails)\n",
    "\n",
    "    \"\"\"#6) Extend and Tranlsated $Ass(T^{'})$ by $Ass(T)$ (a generalisation of $\\theta_{i}$ in genus $2$)\"\"\"\n",
    "    final_data=Extend_relabel_assignments(extendtails_temp_data,common_tree_assingment,relabler)\n",
    "    data_subg=final_data #list of data for subg that we wish to glue onto M\n",
    "\n",
    "    return data_subg"
   ]
  },
  {
   "cell_type": "code",
   "execution_count": 20,
   "id": "431c1b0b",
   "metadata": {},
   "outputs": [],
   "source": [
    "# x=[find_leaves,Extend_relabel_assignments,extend_trees_subnecklace_to_tails,get_temp_data,get_ass_trees_subg]\n",
    "# find_functions_used_l(x)"
   ]
  },
  {
   "cell_type": "markdown",
   "id": "d94ccfa3",
   "metadata": {
    "tags": []
   },
   "source": [
    "### Exhuastive Method <a name=\"s233\"></a>"
   ]
  },
  {
   "cell_type": "code",
   "execution_count": 21,
   "id": "c64ccfa6",
   "metadata": {},
   "outputs": [],
   "source": [
    "# ##!!! \n",
    "#with T_base\n",
    "def Exhaustive_method(M,T_base,ass_selector,subg_l_contain_T):#draft2\n",
    "    \n",
    "    \"\"\"\n",
    "    #Main function for get_all_assingment_datum.\n",
    "    \n",
    "    Inputs: M is a list of tuples (T,Ass_T) ie a partial_assignment M.\n",
    "    Returns: All extensions of M (Extensions_M_by_T) compatible with T=M[counter][0] iterating over all subgraphs.\n",
    "    i.e. A list of lists of the form [(T,ass_T)| for some subset of T's]\n",
    "    \"\"\"\n",
    "    \n",
    "    #Initialisation:\n",
    "    \n",
    "    pair=M[ass_selector]\n",
    "    common_tree=T_base\n",
    "    [common_tree_assingment]=pair[1] #this is a list,ass there can be multiple assingmnets so need to unpack\n",
    "\n",
    "    \"\"\"We now build the extensions of M per subgraph\"\"\"\n",
    "\n",
    "    pre_Extensions_M_by_T=[M] #Initial case for building updated_pre_Extensions_M_by_T\n",
    "    for subg in subg_l_contain_T:\n",
    "        #Initailisation:\n",
    "        vert_num_G=len(list(subg.vertices()))\n",
    "        tails=get_tails(subg)\n",
    "        [edges_subnecklace]=subg.cycle_basis(output='edge') #return cycle of subgnecklace\n",
    "        n=len(edges_subnecklace)#length of subnecklace\n",
    "        \n",
    "        if len(pre_Extensions_M_by_T)==0:\n",
    "            break\n",
    "            \n",
    "#         if skipping_subg_we_know(subg,pre_Extensions_M_by_T[0]): #if we already know the assingments for all trees in subg\n",
    "#             continue\n",
    "\n",
    "        updated_pre_Extensions_M_by_T=[]\n",
    "        for pre_M in pre_Extensions_M_by_T:\n",
    "\n",
    "            Extensions_M_by_T_subg=get_Extensions_M_by_T_subg(pre_M,common_tree,common_tree_assingment,subg,n,tails)\n",
    "            \n",
    "            if Extensions_M_by_T_subg==None:\n",
    "                updated_pre_Extensions_M_by_T=updated_pre_Extensions_M_by_T\n",
    "            else:\n",
    "                updated_pre_Extensions_M_by_T=updated_pre_Extensions_M_by_T+Extensions_M_by_T_subg\n",
    "\n",
    "        pre_Extensions_M_by_T=updated_pre_Extensions_M_by_T #Overriding existing, so have updated pre_Extensions_M_by_T for next subgraph.\n",
    "\n",
    "    \"\"\"After iterating through all subgraphs we have the list of all extensions of M from T.\"\"\"\n",
    "    Extensions_M_by_T=pre_Extensions_M_by_T \n",
    "\n",
    "    \n",
    "    return Extensions_M_by_T"
   ]
  },
  {
   "cell_type": "code",
   "execution_count": 22,
   "id": "0aa7cd80",
   "metadata": {
    "tags": []
   },
   "outputs": [],
   "source": [
    "# #with counter1\n",
    "# def Exhaustive_method(M,counter1,subgraphs):#draft2\n",
    "    \n",
    "#     \"\"\"\n",
    "#     #Main function for get_all_assingment_datum.\n",
    "    \n",
    "#     Inputs: M is a list of tuples (T,Ass_T) ie a partial_assignment M.\n",
    "#     Returns: All extensions of M (Extensions_M_by_T) compatible with T=M[counter][0] iterating over all subgraphs.\n",
    "#     i.e. A list of lists of the form [(T,ass_T)| for some subset of T's]\n",
    "#     \"\"\"\n",
    "    \n",
    "#     #Initialisation:\n",
    "#     pair=M[counter1] #some (T,ass_t), will move along M as counter increases.\n",
    "#     common_tree=pair[0]\n",
    "#     [common_tree_assingment]=pair[1] #this is a list,ass there can be multiple assingmnets so need to unpack\n",
    "#     subg_l_contain_T=[subg for subg in subgraphs if common_tree.is_subgraph(subg, induced=False)]   # subgraphs that contain T.\n",
    "\n",
    "#     \"\"\"We now build the extensions of M per subgraph\"\"\"\n",
    "\n",
    "#     pre_Extensions_M_by_T=[M] #Initial case for building updated_pre_Extensions_M_by_T\n",
    "#     for subg in subg_l_contain_T:\n",
    "#         #Initailisation:\n",
    "#         vert_num_G=len(list(subg.vertices()))\n",
    "#         tails=get_tails(subg)\n",
    "#         [edges_subnecklace]=subg.cycle_basis(output='edge') #return cycle of subgnecklace\n",
    "#         n=len(edges_subnecklace)#length of subnecklace\n",
    "        \n",
    "#         if len(pre_Extensions_M_by_T)==0:\n",
    "#             break\n",
    "            \n",
    "# #         if skipping_subg_we_know(subg,pre_Extensions_M_by_T[0]): #if we already know the assingments for all trees in subg\n",
    "# #             continue\n",
    "\n",
    "#         updated_pre_Extensions_M_by_T=[]\n",
    "#         for pre_M in pre_Extensions_M_by_T:\n",
    "\n",
    "#             Extensions_M_by_T_subg=get_Extensions_M_by_T_subg(pre_M,common_tree,common_tree_assingment,subg,n,tails)\n",
    "            \n",
    "#             if Extensions_M_by_T_subg==None:\n",
    "#                 updated_pre_Extensions_M_by_T=updated_pre_Extensions_M_by_T\n",
    "#             else:\n",
    "#                 updated_pre_Extensions_M_by_T=updated_pre_Extensions_M_by_T+Extensions_M_by_T_subg\n",
    "\n",
    "#         pre_Extensions_M_by_T=updated_pre_Extensions_M_by_T #Overriding existing, so have updated pre_Extensions_M_by_T for next subgraph.\n",
    "\n",
    "#     \"\"\"After iterating through all subgraphs we have the list of all extensions of M from T.\"\"\"\n",
    "#     Extensions_M_by_T=pre_Extensions_M_by_T \n",
    "\n",
    "#     return Extensions_M_by_T"
   ]
  },
  {
   "cell_type": "code",
   "execution_count": 23,
   "id": "1e3502e0",
   "metadata": {},
   "outputs": [
    {
     "ename": "NameError",
     "evalue": "name 'find_functions_used_l' is not defined",
     "output_type": "error",
     "traceback": [
      "\u001b[0;31m---------------------------------------------------------------------------\u001b[0m",
      "\u001b[0;31mNameError\u001b[0m                                 Traceback (most recent call last)",
      "\u001b[0;32m<ipython-input-23-6e7fb8ab38e0>\u001b[0m in \u001b[0;36m<module>\u001b[0;34m\u001b[0m\n\u001b[1;32m      1\u001b[0m \u001b[0mx\u001b[0m\u001b[0;34m=\u001b[0m\u001b[0;34m[\u001b[0m\u001b[0mExhaustive_method\u001b[0m\u001b[0;34m]\u001b[0m\u001b[0;34m\u001b[0m\u001b[0;34m\u001b[0m\u001b[0m\n\u001b[0;32m----> 2\u001b[0;31m \u001b[0mfind_functions_used_l\u001b[0m\u001b[0;34m(\u001b[0m\u001b[0mx\u001b[0m\u001b[0;34m)\u001b[0m\u001b[0;34m\u001b[0m\u001b[0;34m\u001b[0m\u001b[0m\n\u001b[0m",
      "\u001b[0;31mNameError\u001b[0m: name 'find_functions_used_l' is not defined"
     ]
    }
   ],
   "source": [
    "x=[Exhaustive_method]\n",
    "find_functions_used_l(x)"
   ]
  },
  {
   "cell_type": "markdown",
   "id": "74dd384d",
   "metadata": {
    "jp-MarkdownHeadingCollapsed": true,
    "tags": []
   },
   "source": [
    "## After obtaining assignments for G <a name=\"s24\"></a>"
   ]
  },
  {
   "cell_type": "markdown",
   "id": "b4cd71ac",
   "metadata": {},
   "source": [
    "See \"Notebooks\\1_Assignment_induced_datum.ipynb\" for a description of the following functions."
   ]
  },
  {
   "cell_type": "code",
   "execution_count": 23,
   "id": "819bcd1c",
   "metadata": {
    "tags": []
   },
   "outputs": [],
   "source": [
    "# Assignment_datum_for_G for w_stability:\n",
    "def get_sp_trees(G): #Out: list of edges in spanning tree\n",
    "    all_trees=[]\n",
    "    for g in list(G.spanning_trees()):\n",
    "        all_trees.append(g.edges(sort=True, labels=False))\n",
    "    return all_trees\n",
    "def list_difference(a, b):\n",
    "    \"https://stackoverflow.com/questions/8106227/difference-between-two-lists-with-duplicates-in-python\"\n",
    "    count = Counter(a) # count items in a\n",
    "    count.subtract(b)  # subtract items that are in b\n",
    "    diff = []\n",
    "    for x in a:\n",
    "        if count[x] > 0:\n",
    "           count[x] -= 1\n",
    "           diff.append(x)\n",
    "    return diff\n",
    "\n",
    "def chip_adding(graph_t,tree,ass):\n",
    "    \"\"\"\n",
    "    Inputs:\n",
    "    graph: G_edges graph edges\n",
    "    tree : spanning tree of graph\n",
    "    ass : an n=vert(graph) tuple on the spanning tree.\n",
    "    \n",
    "    recursion idea: https://stackoverflow.com/questions/53638816/python-library-function-to-re-apply-a-function-to-its-own-output-until-output-re\n",
    "    \"\"\"\n",
    "    \n",
    "    edges=graph_t # just want the edges \n",
    "    \n",
    "#     print(\"Gp edges\",graph_t)\n",
    "#     print(\"tree edges\",tree)\n",
    "    \n",
    "    n=len(ass)\n",
    "    complement=list_difference(graph_t,tree) #edges in complement.\n",
    "    \n",
    "    def rec_funct(edge_l,inputs,n):\n",
    "        data=[]\n",
    "        edge=edge_l[0]\n",
    "        \n",
    "        for b in inputs:\n",
    "            delta_1=np.zeros(n)\n",
    "            delta_2=np.zeros(n)\n",
    "            \n",
    "            delta_1[int(edge[0])]=1 #we chip add at the first vertex. #### <- CHANGED as taking vertices 0,..,n-1 now\n",
    "            delta_2[int(edge[1])]=1 #we chip add at the second vertex.\n",
    "            \n",
    "            b1=b+delta_1\n",
    "            b2=b+delta_2\n",
    "            data=data+[b1,b2]\n",
    "        \n",
    "        return (edge_l,data,n)\n",
    "    \n",
    "    def recursion(edge_l,inputs,n):\n",
    "        \n",
    "        new_data=rec_funct(edge_l,inputs,n)\n",
    "        edge_l=edge_l[1:] #removeing first edge        \n",
    "        new_data=(edge_l,new_data[1],new_data[2])\n",
    "                \n",
    "        if len(edge_l)==0:\n",
    "            new_inputs=new_data[1]\n",
    "            return new_inputs\n",
    "        else:\n",
    "            return recursion(*new_data)\n",
    "        \n",
    "    breaks=recursion(complement,[np.zeros(n)],n)\n",
    "    breaks=np.unique(breaks, axis=0)\n",
    "    \n",
    "    patch=[]\n",
    "    for bbreak in breaks:\n",
    "        patch.append(ass+bbreak)\n",
    "    \n",
    "    return patch\n",
    "\n",
    "def w_stability(graph,Assignments):\n",
    "    \n",
    "    \"\"\"\n",
    "    #Graphs are labelled v0 to v_n-1\n",
    "    Inputs:\n",
    "        graph: Any smallish finite multigraph\n",
    "        Assignments: A list of (complexity of graph many) lists of length vert(graph).\n",
    "    \n",
    "    Outputs: a list of lists of length vert(graph) corresponding to liine bundle multidegrees obtained by chip adding.\n",
    "\n",
    "    \"\"\"\n",
    "    G=graph\n",
    "    \n",
    "    G_edges=G.edges(sort=True, labels=False)\n",
    "    tree_l=get_sp_trees(G)\n",
    "\n",
    "    lbm_patches=[] # the set of patches,which we'll take the union of. \n",
    "    for index,tree in enumerate(tree_l):    \n",
    "        ass=Assignments[index]    \n",
    "        patch=chip_adding(G_edges,tree,ass)  \n",
    "        \n",
    "#         print(\"Patch\",[x.astype(int).tolist() for x in patch],\"\\n\") #If want to see patches of lbm.\n",
    "        \n",
    "        lbm_patches.append(patch)\n",
    "    \n",
    "    sig=np.concatenate(lbm_patches, axis=0)\n",
    "    \n",
    "    sig=sig.astype('int32')\n",
    "    \n",
    "#     print(np.array(sig))\n",
    "    sig=np.unique(sig, axis=0)\n",
    "    \n",
    "    return sig\n",
    "\n",
    "def check_size(G,sigma):\n",
    "#     print(\"len(get_sp_trees(G))\",len(get_sp_trees(G)))\n",
    "#     print(\"len(sigma)\",len(sigma))\n",
    "    if len(sigma)==len(get_sp_trees(G)):\n",
    "        x=\"This choice of assignments -- gives -- a stability condition.\"\n",
    "        y=True\n",
    "    else: \n",
    "        x=\"This choice of assignments -- not give -- a stability condition.\"\n",
    "        y= False \n",
    "    return y,x"
   ]
  },
  {
   "cell_type": "code",
   "execution_count": null,
   "id": "bbb2dc86",
   "metadata": {},
   "outputs": [],
   "source": []
  },
  {
   "cell_type": "code",
   "execution_count": 25,
   "id": "b818a820",
   "metadata": {
    "tags": []
   },
   "outputs": [],
   "source": [
    "#Given a Assignment_datum_for_G \n",
    "def analyse_specific_assignment(N):\n",
    "    #Returns assignments and trees.\n",
    "    for pair in N:\n",
    "        print(f\"tree: {pair[0].edges()}\")\n",
    "        [assingment_at_tree]=pair[1]\n",
    "        print(assingment_at_tree.tolist())\n",
    "        print(\"\\n\")      \n",
    "    return\n",
    "\n",
    "def get_ordered_list(M, ordering_trees):# for get_assignment_ordered_for_wstab\n",
    "\n",
    "    #Given M produce a list of assignments whose ordering is dependant on a specified ordering of trees ordering_trees.\n",
    "    #M: memory for storing pairs (T,Ass_T).\n",
    "    #returns list of assignments ordered wrt ordering_trees. \n",
    "    P = []\n",
    "    mapping = {t.copy(immutable=True): ass for (t, ass) in M}\n",
    "    for t in ordering_trees:\n",
    "        P.append(mapping[t.copy(immutable=True)])\n",
    "    return P\n",
    "\n",
    "#After obtaining assignments: Putting into the correct format in order to apply w_stability\n",
    "\n",
    "def get_assignment_ordered_for_wstab(M,ordering_trees):\n",
    "    #produce a list of assignments (only) whose ordering is dependant on a specified ordering of trees ordering_trees.\n",
    "    #Puts into correct form\n",
    "    N = get_ordered_list(M, ordering_trees) \n",
    "    N=[list(x) for x in N] #turn each on arrays to lists.\n",
    "#     then put in the correct form:\n",
    "    result = [] \n",
    "    for elem in N:\n",
    "        l=elem[0].astype(int)\n",
    "        result.append(l.tolist())\n",
    "    return result\n",
    "\n",
    "def condition_checker(M): ##Given a Assignment_datum_for_G \n",
    "    #We record the number that work and don't work\n",
    "    N_that_work=[]\n",
    "    N_that_do_not_work=[]\n",
    "\n",
    "    for N in M:\n",
    "        N=[(pair[0].copy(immutable=True),pair[1]) for pair in N]\n",
    "        Assignments=get_assignment_ordered_for_wstab(N,ordering_trees)\n",
    "        sigma=w_stability(G,Assignments)\n",
    "        x,y=check_size(G,sigma)\n",
    "\n",
    "        if x==True:\n",
    "            N_that_work.append((Assignments,sigma))\n",
    "        if x==False:\n",
    "            N_that_do_not_work.append((Assignments,sigma))\n",
    "\n",
    "    print(f\"Of the {len(M)} assignment datums: \\n {len(N_that_work)}: Produce a stability condition \\n {len(N_that_do_not_work)}: Do NOT produce a stability condition\")\n",
    "    return N_that_work,N_that_do_not_work"
   ]
  },
  {
   "cell_type": "code",
   "execution_count": 26,
   "id": "824215ab",
   "metadata": {},
   "outputs": [],
   "source": [
    "# x=[analyse_specific_assignment,get_ordered_list,get_assignment_ordered_for_wstab,condition_checker]\n",
    "# find_functions_used_l(x)"
   ]
  },
  {
   "cell_type": "markdown",
   "id": "c255be41",
   "metadata": {
    "tags": []
   },
   "source": [
    "## Storing files <a name=\"s25\"></a>\n"
   ]
  },
  {
   "cell_type": "markdown",
   "id": "6349278a",
   "metadata": {},
   "source": [
    "The following functions allow us to store this data as a text file and a pkl file.\n",
    "\n",
    "1) We store all ouptuts in the appropriate folder of \"\\Graph\\graph_stability_conditions\" as a text file \n",
    "   \n",
    "2) We also store the output as pkl file in \"\\Stability_Conditions\\Graph\\phi_investigation\\examples\" in order to determine $P_{ST}^{\\sigma_{\\Gamma}}$ for each $\\sigma_{\\Gamma} \\in \\Sigma_{\\Gamma,T,D_{T}}^{d}$.\n",
    "\n",
    "3) The data is also stored in .pkl format in Stability_Conditions\\Graph\\find_cycles\\examples\" if you are want to determine the $\\tau \\in C_{L|N(\\Gamma_0)}$ for $\\Gamma_0 \\in \\Gamma_{(1)}$."
   ]
  },
  {
   "cell_type": "code",
   "execution_count": null,
   "id": "69a80a5f",
   "metadata": {},
   "outputs": [],
   "source": [
    "def output_to_file(G,assignment_datum,ordering_trees):#in text files\n",
    "    stabs=assignment_datum[0] #Those that work\n",
    "\n",
    "\n",
    "    print(f\"Information: Here are all stability conditions for the graph G\")\n",
    "    print(f\"Graph: {G.edges()} \\n\")\n",
    "    \n",
    "    print(f\"There are {len(stabs)} stability conditions for G. \\n\")\n",
    "    print(f\"The spanning trees of G are ordered as follows:\")\n",
    "    for index,tree in enumerate(ordering_trees):\n",
    "        print(f\"Tree {index+1}: {tree.edges()}\" )\n",
    "\n",
    "    print(\"\\n We will now list all stabilty conditions. The data will be presented in two lines:\")\n",
    "    print(\"   1. The assignment datum on trees the order of which will be given by the Tree order,\")\n",
    "    print(\"   2. The union of sets of the form assignment datum of T + the set of break divisors for T. \\n\" )          \n",
    "\n",
    "    for pair in stabs:\n",
    "        print(pair[0]) #assignment datum\n",
    "        #Put sigma to list format\n",
    "        print(pair[1].tolist()) #lbm\n",
    "        print(\"\\n\")\n",
    "    \n",
    "    return\n",
    "def store_data(G,assignment_datum,ordering_trees,graphname=\"test\"):\n",
    "    name=f\"{graphname}.txt\"\n",
    "    with open(name, \"w\") as f:\n",
    "        sys.stdout = f\n",
    "\n",
    "        output_to_file(G,assignment_datum,ordering_trees)\n",
    "\n",
    "        sys.stdout = sys.__stdout__\n",
    "    return\n",
    "\n",
    "def pickle_assignment_datum(graphname,assignment_datum):\n",
    "    # Pickle the list\n",
    "    filename=f\"{graphname}.pkl\"\n",
    "    data=assignment_datum[0]\n",
    "    with open(filename, 'wb') as f:\n",
    "        pickle.dump(data, f)\n",
    "    return\n",
    "\n",
    "def pickle_assignment_datum_non(graphname,assignment_datum):\n",
    "    # Pickle the list\n",
    "    filename=f\"{graphname}_non.pkl\"\n",
    "    data=assignment_datum[1]\n",
    "    with open(filename, 'wb') as f:\n",
    "        pickle.dump(data, f)\n",
    "    return\n",
    "\n",
    "def unpickle_assignment_datum(graphname):\n",
    "    # Unpickle the list\n",
    "    filename=f\"{graphname}.pkl\"\n",
    "    with open(filename, 'rb') as f:\n",
    "        unpickled_list = pickle.load(f)\n",
    "    return unpickled_list"
   ]
  },
  {
   "cell_type": "code",
   "execution_count": 29,
   "id": "80a36fde",
   "metadata": {
    "tags": []
   },
   "outputs": [],
   "source": []
  },
  {
   "cell_type": "markdown",
   "id": "bb7db60b",
   "metadata": {},
   "source": [
    "## Describer functions"
   ]
  },
  {
   "cell_type": "code",
   "execution_count": 21,
   "id": "bf1b42df-0ca9-48cd-92b5-2ec68af6835b",
   "metadata": {
    "tags": []
   },
   "outputs": [],
   "source": [
    "#Functions used to help with documentation: please ignore.\n",
    "\n",
    "import ast\n",
    "import inspect\n",
    "\n",
    "def find_functions_used(func):\n",
    "    \n",
    "    \"\"\"Add print Objective.\"\"\"\n",
    "    \n",
    "    functions_used = set()\n",
    "    tree = ast.parse(inspect.getsource(func))\n",
    "    for node in ast.walk(tree):\n",
    "        if isinstance(node, ast.Call) and isinstance(node.func, ast.Name):\n",
    "            functions_used.add(node.func.id)\n",
    "    return functions_used\n",
    "\n",
    "def extract_objective(func):\n",
    "    \"\"\"\n",
    "    Extracts the string of the line containing \"Objective\" from the docstring of a given function.\n",
    "\n",
    "    Args:\n",
    "        func: The function to extract the objective from.\n",
    "\n",
    "    Returns:\n",
    "        A string containing the objective.\n",
    "    \"\"\"\n",
    "    \n",
    "    \"\"\"\n",
    "        def f():\n",
    "\n",
    "        \n",
    "            Objective: This is a test\n",
    "            Input:\n",
    "            Return\n",
    "        \n",
    "\n",
    "        x=33\n",
    "\n",
    "        return\n",
    "        extract_objective(f)\n",
    "    \"\"\"\n",
    "    docstring = inspect.getdoc(func)\n",
    "    if docstring is None:\n",
    "        return None\n",
    "    lines = docstring.split('\\n')\n",
    "    for line in lines:\n",
    "        if 'Objective' in line:\n",
    "            return line.strip()\n",
    "    return None\n",
    "\n",
    "def find_functions_used_l(l,flag=False):\n",
    "    for func in l:\n",
    "        functions_used = find_functions_used(func)\n",
    "        if flag==True:\n",
    "            print(f\"{func.__name__}:\\n{extract_objective(func)}\\n{functions_used} \\n\")\n",
    "        if flag==False:\n",
    "            print(f\"{func.__name__}:\\n{functions_used} \\n\")\n",
    "            \n",
    "# l = [f1, f2, f3]\n",
    "# find_functions_used_l(l)"
   ]
  },
  {
   "cell_type": "markdown",
   "id": "e0934f75",
   "metadata": {
    "jp-MarkdownHeadingCollapsed": true,
    "tags": [],
    "toc-hr-collapsed": true
   },
   "source": [
    "# Determining $\\Sigma_{\\Gamma,T,D_{T}}^{d}$ for $\\Gamma$ in thesis <a name=\"s1\"></a>"
   ]
  },
  {
   "cell_type": "markdown",
   "id": "2b9f41a4",
   "metadata": {},
   "source": [
    "We determine $\\Sigma_{\\Gamma,T,D_{T}}^{d}$ with $D_{T}= \\vec{0}$ for the following cases."
   ]
  },
  {
   "cell_type": "markdown",
   "id": "987c15f0",
   "metadata": {
    "jp-MarkdownHeadingCollapsed": true,
    "tags": []
   },
   "source": [
    "## Stability conditions for $n$-necklace graphs for $3 \\le n \\le 7$"
   ]
  },
  {
   "cell_type": "markdown",
   "id": "15a89b73",
   "metadata": {},
   "source": [
    "### $3$-necklace"
   ]
  },
  {
   "cell_type": "code",
   "execution_count": null,
   "id": "1ea7346c",
   "metadata": {
    "tags": []
   },
   "outputs": [],
   "source": [
    "graphname=\"G3\"\n",
    "G=Graph([(\"0\",\"1\"),(\"1\",\"2\"),(\"2\",\"0\")], multiedges=True)\n",
    "ordering_trees=list(G.spanning_trees())\n",
    "T=ordering_trees[0]\n",
    "M=get_all_assingment_datum(G,T)\n",
    "assignment_datum=condition_checker(M)\n",
    "# store_data(G,assignment_datum,ordering_trees,graphname)\n",
    "# pickle_assignment_datum(graphname,assignment_datum)\n",
    "\n",
    "# Of the 2 assignment datums: \n",
    "#  2: Produce a stability condition \n",
    "#  0: Do NOT produce a stability condition"
   ]
  },
  {
   "cell_type": "markdown",
   "id": "27ed2fe2",
   "metadata": {},
   "source": [
    "### $4$-necklace"
   ]
  },
  {
   "cell_type": "code",
   "execution_count": null,
   "id": "09fdfb20",
   "metadata": {
    "tags": []
   },
   "outputs": [],
   "source": [
    "graphname=\"G4\"\n",
    "G=Graph([(\"0\",\"1\"),(\"1\",\"2\"),(\"2\",\"3\"),(\"3\",\"0\")], multiedges=True)\n",
    "ordering_trees=list(G.spanning_trees())\n",
    "T=ordering_trees[0]\n",
    "M=get_all_assingment_datum(G,T)\n",
    "assignment_datum=condition_checker(M)\n",
    "# store_data(G,assignment_datum,ordering_trees,graphname)\n",
    "# pickle_assignment_datum(graphname,assignment_datum)\n",
    "\n",
    "# Of the 6 assignment datums:\n",
    "#  6: Produce a stability condition\n",
    "#  0: Do NOT produce a stability condition"
   ]
  },
  {
   "cell_type": "markdown",
   "id": "c1f182c5",
   "metadata": {},
   "source": [
    "### $5$-necklace"
   ]
  },
  {
   "cell_type": "code",
   "execution_count": null,
   "id": "6d1404af",
   "metadata": {
    "tags": []
   },
   "outputs": [],
   "source": [
    "graphname=\"G5\"\n",
    "G=Graph([(\"0\",\"1\"),(\"1\",\"2\"),(\"2\",\"3\"),(\"3\",\"4\"),(\"4\",\"0\")], multiedges=True)\n",
    "ordering_trees=list(G.spanning_trees())\n",
    "T=ordering_trees[0]\n",
    "M=get_all_assingment_datum(G,T)\n",
    "assignment_datum=condition_checker(M)\n",
    "# store_data(G,assignment_datum,ordering_trees,graphname)\n",
    "# pickle_assignment_datum(graphname,assignment_datum)\n",
    "\n",
    "# Of the 24 assignment datums:\n",
    "#  24: Produce a stability condition\n",
    "#  0: Do NOT produce a stability condition"
   ]
  },
  {
   "cell_type": "markdown",
   "id": "ca87f35c",
   "metadata": {},
   "source": [
    "### $6$-necklace"
   ]
  },
  {
   "cell_type": "code",
   "execution_count": 14,
   "id": "d6aac416",
   "metadata": {
    "tags": []
   },
   "outputs": [],
   "source": [
    "graphname=\"G6\"\n",
    "G=Graph([(\"0\",\"1\"),(\"1\",\"2\"),(\"2\",\"3\"),(\"3\",\"4\"),(\"4\",\"5\"),(\"5\",\"0\")], multiedges=True)\n",
    "ordering_trees=list(G.spanning_trees())\n",
    "T=ordering_trees[0]\n",
    "M=get_all_assingment_datum(G,T)\n",
    "assignment_datum=condition_checker(M)\n",
    "store_data(G,assignment_datum,ordering_trees,graphname)\n",
    "pickle_assignment_datum(graphname,assignment_datum)\n",
    "\n",
    "# Of the 120 assignment datums:\n",
    "#  120: Produce a stability condition\n",
    "#  0: Do NOT produce a stability condition"
   ]
  },
  {
   "cell_type": "markdown",
   "id": "87329e03",
   "metadata": {},
   "source": [
    "### $7$-necklace"
   ]
  },
  {
   "cell_type": "code",
   "execution_count": null,
   "id": "c2ff4472",
   "metadata": {},
   "outputs": [],
   "source": [
    "graphname=\"G7\"\n",
    "G=Graph([(\"0\",\"1\"),(\"1\",\"2\"),(\"2\",\"3\"),(\"3\",\"4\"),(\"4\",\"5\"),(\"5\",\"6\"),(\"6\",\"0\")], multiedges=True)\n",
    "ordering_trees=list(G.spanning_trees())\n",
    "T=ordering_trees[0]\n",
    "M=get_all_assingment_datum(G,T)\n",
    "assignment_datum=condition_checker(M)\n",
    "store_data(G,assignment_datum,ordering_trees,graphname)\n",
    "pickle_assignment_datum(graphname,assignment_datum)\n"
   ]
  },
  {
   "cell_type": "markdown",
   "id": "4e892ef0",
   "metadata": {
    "jp-MarkdownHeadingCollapsed": true,
    "tags": []
   },
   "source": [
    "## Stability conditions for $\\Gamma_{k_1 k_2 k_3}$ with $k_1=1$ and $k_2\\ge 2$"
   ]
  },
  {
   "cell_type": "markdown",
   "id": "cf90ca27-3a37-4e6f-9d3b-e84ca87a63c5",
   "metadata": {},
   "source": [
    "We now get apply the algorithim outline above to obtain $\\Sigma_{\\Gamma,T,D_{T}}^{d}$ for graphs  $\\Gamma:=\\Gamma_{k_1 k_2 k_3}$ with $(k_1,k_2,k_3)=\\{(1,2,2),(1,2,3),(1,2,4),(1,3,3),(1,2,5),(1,3,4)\\}$."
   ]
  },
  {
   "cell_type": "markdown",
   "id": "8eea4c8b",
   "metadata": {
    "tags": []
   },
   "source": [
    "### $(k_1,k_2,k_3)=(1,2,2)$"
   ]
  },
  {
   "cell_type": "code",
   "execution_count": null,
   "id": "eb556e78",
   "metadata": {},
   "outputs": [],
   "source": [
    "graphname=\"G4M2\"\n",
    "G=Graph([(\"0\",\"1\"),(\"1\",\"2\"),(\"2\",\"3\"),(\"3\",\"0\"),(\"0\",\"2\")], multiedges=True)\n",
    "ordering_trees=list(G.spanning_trees())\n",
    "T=ordering_trees[0]\n",
    "M=get_all_assingment_datum(G,T)\n",
    "assignment_datum=condition_checker(M)\n",
    "# store_data(G,assignment_datum,ordering_trees,graphname)\n",
    "# pickle_assignment_datum(graphname,assignment_datum)\n",
    "\n",
    "# Of the 6 assignment datums:\n",
    "#  6: Produce a stability condition\n",
    "#  0: Do NOT produce a stability condition"
   ]
  },
  {
   "cell_type": "markdown",
   "id": "6cb84697",
   "metadata": {
    "scrolled": true,
    "tags": []
   },
   "source": [
    "### $(k_1,k_2,k_3)=(1,2,3)$\n"
   ]
  },
  {
   "cell_type": "code",
   "execution_count": null,
   "id": "7b9f524f",
   "metadata": {},
   "outputs": [],
   "source": [
    "graphname=\"G5M2\"\n",
    "G=Graph([(\"0\",\"1\"),(\"1\",\"2\"),(\"2\",\"3\"),(\"3\",\"4\"),(\"4\",\"0\"),(\"0\",\"2\")], multiedges=True)\n",
    "ordering_trees=list(G.spanning_trees())\n",
    "T=ordering_trees[0]\n",
    "M=get_all_assingment_datum(G,T)\n",
    "assignment_datum=condition_checker(M)\n",
    "# store_data(G,assignment_datum,ordering_trees,graphname)\n",
    "# pickle_assignment_datum(graphname,assignment_datum)\n",
    "\n",
    "# Of the 24 assignment datums:\n",
    "#  24: Produce a stability condition\n",
    "#  0: Do NOT produce a stability condition"
   ]
  },
  {
   "cell_type": "markdown",
   "id": "48909e1b",
   "metadata": {
    "tags": []
   },
   "source": [
    "### $(k_1,k_2,k_3)=(1,2,4)$\n"
   ]
  },
  {
   "cell_type": "code",
   "execution_count": null,
   "id": "9d9a620c",
   "metadata": {},
   "outputs": [],
   "source": [
    "\n",
    "graphname=\"G6M2\"\n",
    "G=Graph([(\"0\",\"1\"),(\"1\",\"2\"),(\"2\",\"3\"),(\"3\",\"4\"),(\"4\",\"5\"),(\"5\",\"0\"),(\"0\",\"2\")], multiedges=True)\n",
    "ordering_trees=list(G.spanning_trees())\n",
    "T=ordering_trees[0]\n",
    "M=get_all_assingment_datum(G,T)\n",
    "assignment_datum=condition_checker(M)\n",
    "# store_data(G,assignment_datum,ordering_trees,graphname)\n",
    "# pickle_assignment_datum(graphname,assignment_datum)\n",
    "\n",
    "# Of the 120 assignment datums:\n",
    "#  120: Produce a stability condition\n",
    "#  0: Do NOT produce a stability condition"
   ]
  },
  {
   "cell_type": "markdown",
   "id": "4ca2f113",
   "metadata": {
    "collapsed": true,
    "jupyter": {
     "outputs_hidden": true
    },
    "scrolled": true
   },
   "source": [
    "### $(k_1,k_2,k_3)=(1,3,3)$\n"
   ]
  },
  {
   "cell_type": "code",
   "execution_count": null,
   "id": "b3ec9c9b",
   "metadata": {},
   "outputs": [],
   "source": [
    "graphname=\"G6M3\"  \n",
    "G=Graph([(\"0\",\"1\"),(\"1\",\"2\"),(\"2\",\"3\"),(\"3\",\"4\"),(\"4\",\"5\"),(\"5\",\"0\"),(\"0\",\"3\")], multiedges=True)\n",
    "ordering_trees=list(G.spanning_trees())\n",
    "T=ordering_trees[0]\n",
    "M=get_all_assingment_datum(G,T)\n",
    "assignment_datum=condition_checker(M)\n",
    "# store_data(G,assignment_datum,ordering_trees,graphname)\n",
    "# pickle_assignment_datum(graphname,assignment_datum)\n",
    "\n",
    "# Of the 120 assignment datums: \n",
    "#  120: Produce a stability condition \n",
    "#  0: Do NOT produce a stability condition"
   ]
  },
  {
   "cell_type": "markdown",
   "id": "32545c7a-a776-4868-9b0a-c25aafda43ca",
   "metadata": {},
   "source": [
    "### $(k_1,k_2,k_3)=(1,2,5)$\n"
   ]
  },
  {
   "cell_type": "code",
   "execution_count": null,
   "id": "224ea2eb",
   "metadata": {},
   "outputs": [],
   "source": [
    "graphname=\"G7M02\"\n",
    "G=Graph([(\"0\",\"1\"),(\"1\",\"2\"),(\"2\",\"3\"),(\"3\",\"4\"),(\"4\",\"5\"),(\"5\",\"6\"),(\"6\",\"0\"),(\"0\",\"2\")], multiedges=True)\n",
    "ordering_trees=list(G.spanning_trees())\n",
    "T=ordering_trees[0]\n",
    "M=get_all_assingment_datum(G,T)\n",
    "assignment_datum=condition_checker(M)\n",
    "# store_data(G,assignment_datum,ordering_trees,graphname)\n",
    "# pickle_assignment_datum(graphname,assignment_datum)"
   ]
  },
  {
   "cell_type": "markdown",
   "id": "c66d721a-a49c-48a2-9b92-4c2a16039a0b",
   "metadata": {},
   "source": [
    "### $(k_1,k_2,k_3)=(1,3,4)$\n"
   ]
  },
  {
   "cell_type": "code",
   "execution_count": null,
   "id": "37f39a93",
   "metadata": {},
   "outputs": [],
   "source": [
    "\n",
    "graphname=\"G7M03\"\n",
    "G=Graph([(\"0\",\"1\"),(\"1\",\"2\"),(\"2\",\"3\"),(\"3\",\"4\"),(\"4\",\"5\"),(\"5\",\"6\"),(\"6\",\"0\"),(\"0\",\"3\")], multiedges=True)\n",
    "ordering_trees=list(G.spanning_trees())\n",
    "T=ordering_trees[0]\n",
    "M=get_all_assingment_datum(G,T)\n",
    "assignment_datum=condition_checker(M)\n",
    "# store_data(G,assignment_datum,ordering_trees,graphname)\n",
    "# pickle_assignment_datum(graphname,assignment_datum)"
   ]
  },
  {
   "cell_type": "markdown",
   "id": "e1f444b1",
   "metadata": {
    "jp-MarkdownHeadingCollapsed": true,
    "tags": []
   },
   "source": [
    "## Stability conditions for $\\Gamma_{k_1 k_2 k_3}$ with $k_1 \\ge 2$"
   ]
  },
  {
   "cell_type": "markdown",
   "id": "c09341cc-86e9-4c73-83b3-350b89f9d657",
   "metadata": {},
   "source": [
    "We now get apply the algorithim outline above to obtain $\\Sigma_{\\Gamma,T,D_{T}}^{d}$ for graphs $\\Gamma:=\\Gamma_{k_1 k_2 k_3}$ with $(k_1,k_2,k_3)=\\{(2,2,2),(2,2,3),(2,2,4), (2,3,3)\\}$."
   ]
  },
  {
   "cell_type": "markdown",
   "id": "4eefd39e",
   "metadata": {},
   "source": [
    "### $(k_1,k_2,k_3)=(2,2,2)$\n"
   ]
  },
  {
   "cell_type": "code",
   "execution_count": null,
   "id": "37202ec6",
   "metadata": {
    "scrolled": true,
    "tags": []
   },
   "outputs": [],
   "source": [
    "graphname=\"V_222\"\n",
    "G=Graph([(\"0\",\"1\"),(\"1\",\"2\"),(\"2\",\"3\"),(\"3\",\"0\"),(\"0\",\"4\"),(\"4\",\"2\")], multiedges=True)\n",
    "ordering_trees=list(G.spanning_trees())\n",
    "T=ordering_trees[0]\n",
    "M=get_all_assingment_datum(G,T)\n",
    "assignment_datum=condition_checker(M)\n",
    "# store_data(G,assignment_datum,ordering_trees,graphname)\n",
    "# pickle_assignment_datum(graphname,assignment_datum)\n",
    "\n",
    "# Of the 38 assignment datums: \n",
    "#  38: Produce a stability condition \n",
    "#  0: Do NOT produce a stability condition"
   ]
  },
  {
   "cell_type": "markdown",
   "id": "7a8e5e57",
   "metadata": {},
   "source": [
    "\n",
    "### $(k_1,k_2,k_3)=(2,2,3)$\n"
   ]
  },
  {
   "cell_type": "code",
   "execution_count": null,
   "id": "3ac6c486",
   "metadata": {
    "scrolled": true,
    "tags": []
   },
   "outputs": [],
   "source": [
    "graphname=\"V_223\"\n",
    "G=Graph([(\"0\",\"1\"),(\"1\",\"2\"),(\"2\",\"3\"),(\"3\",\"4\"),(\"4\",\"0\"),(\"0\",\"5\"),(\"5\",\"2\")], multiedges=True)\n",
    "ordering_trees=list(G.spanning_trees())\n",
    "T=ordering_trees[0]\n",
    "M=get_all_assingment_datum(G,T)\n",
    "assignment_datum=condition_checker(M)\n",
    "# store_data(G,assignment_datum,ordering_trees,graphname)\n",
    "# pickle_assignment_datum(graphname,assignment_datum)\n",
    "\n",
    "# Length of assignments----------------- 16\n",
    "# Of the 1100 assignment datums: \n",
    "#  264: Produce a stability condition \n",
    "#  836: Do NOT produce a stability condition #Needs to be redone."
   ]
  },
  {
   "cell_type": "markdown",
   "id": "a4a18d67",
   "metadata": {},
   "source": [
    "\n",
    "### $(k_1,k_2,k_3)=(2,2,4)$\n"
   ]
  },
  {
   "cell_type": "code",
   "execution_count": null,
   "id": "8b7d6aed",
   "metadata": {
    "tags": []
   },
   "outputs": [],
   "source": [
    "graphname=\"V_224\"\n",
    "G=Graph([(\"0\",\"1\"),(\"1\",\"2\"),(\"2\",\"3\"),(\"3\",\"4\"),(\"4\",\"5\"),(\"5\",\"0\"),(\"0\",\"6\"),(\"6\",\"2\")], multiedges=True)\n",
    "ordering_trees=list(G.spanning_trees())\n",
    "T=ordering_trees[0]\n",
    "M=get_all_assingment_datum(G,T)\n",
    "assignment_datum=condition_checker(M)\n",
    "# store_data(G,assignment_datum,ordering_trees,graphname)\n",
    "# pickle_assignment_datum(graphname,assignment_datum)"
   ]
  },
  {
   "cell_type": "markdown",
   "id": "eb03d5e9",
   "metadata": {},
   "source": [
    "\n",
    "### $(k_1,k_2,k_3)=(2,3,3)$"
   ]
  },
  {
   "cell_type": "code",
   "execution_count": null,
   "id": "86849ea3",
   "metadata": {
    "tags": []
   },
   "outputs": [],
   "source": [
    "graphname=\"V_233\"\n",
    "G=Graph([(\"0\",\"1\"),(\"1\",\"2\"),(\"2\",\"3\"),(\"3\",\"4\"),(\"4\",\"5\"),(\"5\",\"0\"),(\"0\",\"6\"),(\"6\",\"3\")], multiedges=True)\n",
    "ordering_trees=list(G.spanning_trees())\n",
    "T=ordering_trees[0]\n",
    "M=get_all_assingment_datum(G,T)\n",
    "assignment_datum=condition_checker(M)\n",
    "# store_data(G,assignment_datum,ordering_trees,graphname)\n",
    "# pickle_assignment_datum(graphname,assignment_datum)"
   ]
  },
  {
   "cell_type": "markdown",
   "id": "0337321d",
   "metadata": {
    "jp-MarkdownHeadingCollapsed": true,
    "tags": [],
    "toc-hr-collapsed": true
   },
   "source": [
    "## Stability conditions for $G_1,G_2,G_3$ and $F$"
   ]
  },
  {
   "cell_type": "markdown",
   "id": "fe9845fa",
   "metadata": {},
   "source": [
    "### $G_1$"
   ]
  },
  {
   "cell_type": "code",
   "execution_count": 82,
   "id": "c258048a",
   "metadata": {
    "collapsed": true,
    "jupyter": {
     "outputs_hidden": true
    }
   },
   "outputs": [],
   "source": [
    "#graph G_1\n",
    "\n",
    "graphname=\"G4M02M13\"\n",
    "G=Graph([(\"0\",\"1\"),(\"1\",\"2\"),(\"2\",\"3\"),(\"3\",\"0\"),(\"0\",\"2\"),(\"1\",\"3\")], multiedges=True)\n",
    "ordering_trees=list(G.spanning_trees())\n",
    "T=ordering_trees[0]\n",
    "M=get_all_assingment_datum(G,T)\n",
    "assignment_datum=condition_checker(M)\n",
    "# store_data(G,assignment_datum,ordering_trees,graphname)\n",
    "# pickle_assignment_datum(graphname,assignment_datum)\n",
    "\n",
    "# Of the 10 assignment datums: \n",
    "#  10: Produce a stability condition \n",
    "#  0: Do NOT produce a stability condition"
   ]
  },
  {
   "cell_type": "code",
   "execution_count": null,
   "id": "671edeb8",
   "metadata": {
    "tags": []
   },
   "outputs": [],
   "source": [
    "#graph G_2\n",
    "\n",
    "graphname=\"G5M02M03\"\n",
    "G=Graph([(\"0\",\"1\"),(\"1\",\"2\"),(\"2\",\"3\"),(\"3\",\"4\"),(\"4\",\"0\"),(\"0\",\"2\"),(\"0\",\"3\")], multiedges=True)\n",
    "ordering_trees=list(G.spanning_trees())\n",
    "T=ordering_trees[0]\n",
    "M=get_all_assingment_datum(G,T)\n",
    "assignment_datum=condition_checker(M)\n",
    "# store_data(G,assignment_datum,ordering_trees,graphname)\n",
    "# pickle_assignment_datum(graphname,assignment_datum)\n",
    "\n",
    "# Of the 24 assignment datums: \n",
    "#  24: Produce a stability condition \n",
    "#  0: Do NOT produce a stability condition "
   ]
  },
  {
   "cell_type": "code",
   "execution_count": null,
   "id": "fbf16be3",
   "metadata": {
    "tags": []
   },
   "outputs": [],
   "source": [
    "#graph G_3\n",
    "\n",
    "graphname=\"G5M02M03M14\"\n",
    "G=Graph([(\"0\",\"1\"),(\"1\",\"2\"),(\"2\",\"3\"),(\"3\",\"4\"),(\"4\",\"0\"),(\"0\",\"2\"),(\"0\",\"3\"),(\"1\",\"4\")], multiedges=True)\n",
    "ordering_trees=list(G.spanning_trees())\n",
    "\n",
    "T=ordering_trees[2]\n",
    "\n",
    "M=get_all_assingment_datum(G,T)\n",
    "assignment_datum=condition_checker(M)\n",
    "store_data(G,assignment_datum,ordering_trees,graphname)\n",
    "pickle_assignment_datum(graphname,assignment_datum)\n",
    "\n",
    "# Of the 82 assignment datums: \n",
    "#  82: Produce a stability condition\n",
    "#  0: Do NOT produce a stability condition"
   ]
  },
  {
   "cell_type": "markdown",
   "id": "0415eacd-0907-46f9-8117-6d4bc17fb3f3",
   "metadata": {},
   "source": [
    "We finally arrive at the graph given by Filippo Viviani."
   ]
  },
  {
   "cell_type": "code",
   "execution_count": 62,
   "id": "052f0545",
   "metadata": {
    "collapsed": true,
    "jupyter": {
     "outputs_hidden": true
    },
    "tags": []
   },
   "outputs": [
    {
     "name": "stdout",
     "output_type": "stream",
     "text": [
      "Length of Assignments I WANT: 36\n",
      "0\n",
      "Finished iterating through the loop of 1 partial_all_assignments\n",
      "Number of partial assignments: Before: 216\n",
      "Number of G_p graphs: 3\n",
      "0: Number of partial assignments: After refinement: 216\n",
      "1: Number of partial assignments: After refinement: 216\n",
      "2: Number of partial assignments: After refinement: 216\n",
      "Final: Number of partial assignments: After: 216 \n",
      "\n",
      "Length of assignments----------------- 10\n",
      "0:216 Progress: 0%\n",
      "0\n",
      "1\n",
      "2\n",
      "3\n"
     ]
    },
    {
     "ename": "KeyboardInterrupt",
     "evalue": "",
     "output_type": "error",
     "traceback": [
      "\u001b[0;31m---------------------------------------------------------------------------\u001b[0m",
      "\u001b[0;31mKeyboardInterrupt\u001b[0m                         Traceback (most recent call last)",
      "\u001b[0;32m<ipython-input-62-3bc96a842299>\u001b[0m in \u001b[0;36m<module>\u001b[0;34m\u001b[0m\n\u001b[1;32m      3\u001b[0m \u001b[0mordering_trees\u001b[0m\u001b[0;34m=\u001b[0m\u001b[0mlist\u001b[0m\u001b[0;34m(\u001b[0m\u001b[0mG\u001b[0m\u001b[0;34m.\u001b[0m\u001b[0mspanning_trees\u001b[0m\u001b[0;34m(\u001b[0m\u001b[0;34m)\u001b[0m\u001b[0;34m)\u001b[0m\u001b[0;34m\u001b[0m\u001b[0;34m\u001b[0m\u001b[0m\n\u001b[1;32m      4\u001b[0m \u001b[0mT\u001b[0m\u001b[0;34m=\u001b[0m\u001b[0mordering_trees\u001b[0m\u001b[0;34m[\u001b[0m\u001b[0mInteger\u001b[0m\u001b[0;34m(\u001b[0m\u001b[0;36m0\u001b[0m\u001b[0;34m)\u001b[0m\u001b[0;34m]\u001b[0m\u001b[0;34m\u001b[0m\u001b[0;34m\u001b[0m\u001b[0m\n\u001b[0;32m----> 5\u001b[0;31m \u001b[0mM\u001b[0m\u001b[0;34m=\u001b[0m\u001b[0mget_all_assingment_datum\u001b[0m\u001b[0;34m(\u001b[0m\u001b[0mG\u001b[0m\u001b[0;34m,\u001b[0m\u001b[0mT\u001b[0m\u001b[0;34m)\u001b[0m\u001b[0;34m\u001b[0m\u001b[0;34m\u001b[0m\u001b[0m\n\u001b[0m\u001b[1;32m      6\u001b[0m \u001b[0massignment_datum\u001b[0m\u001b[0;34m=\u001b[0m\u001b[0mcondition_checker\u001b[0m\u001b[0;34m(\u001b[0m\u001b[0mM\u001b[0m\u001b[0;34m)\u001b[0m\u001b[0;34m\u001b[0m\u001b[0;34m\u001b[0m\u001b[0m\n\u001b[1;32m      7\u001b[0m \u001b[0;34m\u001b[0m\u001b[0m\n",
      "\u001b[0;32m<ipython-input-35-232558eeea6e>\u001b[0m in \u001b[0;36mget_all_assingment_datum\u001b[0;34m(G, T, starting_ass)\u001b[0m\n\u001b[1;32m     43\u001b[0m             \"\"\"we now obtain a list of all assignments obtained by extending assignment M by searching through subg containing T\n\u001b[1;32m     44\u001b[0m             for different cycles.\"\"\"\n\u001b[0;32m---> 45\u001b[0;31m             \u001b[0mExtensions_M_by_T\u001b[0m\u001b[0;34m=\u001b[0m\u001b[0mExhaustive_method\u001b[0m\u001b[0;34m(\u001b[0m\u001b[0mM\u001b[0m\u001b[0;34m,\u001b[0m\u001b[0mT_base\u001b[0m\u001b[0;34m,\u001b[0m\u001b[0mass_selector\u001b[0m\u001b[0;34m,\u001b[0m\u001b[0msubg_l_contain_T\u001b[0m\u001b[0;34m)\u001b[0m \u001b[0;31m# A list of list=[(T,ass_t)| for some subset of trees]\u001b[0m\u001b[0;34m\u001b[0m\u001b[0;34m\u001b[0m\u001b[0m\n\u001b[0m\u001b[1;32m     46\u001b[0m             \u001b[0mprint\u001b[0m\u001b[0;34m(\u001b[0m\u001b[0mind\u001b[0m\u001b[0;34m)\u001b[0m\u001b[0;34m\u001b[0m\u001b[0;34m\u001b[0m\u001b[0m\n\u001b[1;32m     47\u001b[0m             \u001b[0mupdated_partial_all_assignments\u001b[0m\u001b[0;34m.\u001b[0m\u001b[0mextend\u001b[0m\u001b[0;34m(\u001b[0m\u001b[0mExtensions_M_by_T\u001b[0m\u001b[0;34m)\u001b[0m\u001b[0;34m\u001b[0m\u001b[0;34m\u001b[0m\u001b[0m\n",
      "\u001b[0;32m<ipython-input-52-26ec595549f3>\u001b[0m in \u001b[0;36mExhaustive_method\u001b[0;34m(M, T_base, ass_selector, subg_l_contain_T)\u001b[0m\n\u001b[1;32m     36\u001b[0m         \u001b[0;32mfor\u001b[0m \u001b[0mpre_M\u001b[0m \u001b[0;32min\u001b[0m \u001b[0mpre_Extensions_M_by_T\u001b[0m\u001b[0;34m:\u001b[0m\u001b[0;34m\u001b[0m\u001b[0;34m\u001b[0m\u001b[0m\n\u001b[1;32m     37\u001b[0m \u001b[0;34m\u001b[0m\u001b[0m\n\u001b[0;32m---> 38\u001b[0;31m             \u001b[0mExtensions_M_by_T_subg\u001b[0m\u001b[0;34m=\u001b[0m\u001b[0mget_Extensions_M_by_T_subg\u001b[0m\u001b[0;34m(\u001b[0m\u001b[0mpre_M\u001b[0m\u001b[0;34m,\u001b[0m\u001b[0mcommon_tree\u001b[0m\u001b[0;34m,\u001b[0m\u001b[0mcommon_tree_assingment\u001b[0m\u001b[0;34m,\u001b[0m\u001b[0msubg\u001b[0m\u001b[0;34m,\u001b[0m\u001b[0mn\u001b[0m\u001b[0;34m,\u001b[0m\u001b[0mtails\u001b[0m\u001b[0;34m)\u001b[0m\u001b[0;34m\u001b[0m\u001b[0;34m\u001b[0m\u001b[0m\n\u001b[0m\u001b[1;32m     39\u001b[0m \u001b[0;34m\u001b[0m\u001b[0m\n\u001b[1;32m     40\u001b[0m             \u001b[0;32mif\u001b[0m \u001b[0mExtensions_M_by_T_subg\u001b[0m\u001b[0;34m==\u001b[0m\u001b[0;32mNone\u001b[0m\u001b[0;34m:\u001b[0m\u001b[0;34m\u001b[0m\u001b[0;34m\u001b[0m\u001b[0m\n",
      "\u001b[0;32m<ipython-input-47-47ed93780ce9>\u001b[0m in \u001b[0;36mget_Extensions_M_by_T_subg\u001b[0;34m(pre_M, common_tree, common_tree_assingment, subg, n, tails)\u001b[0m\n\u001b[1;32m     11\u001b[0m     \u001b[0mExtensions_M_by_T_subg\u001b[0m\u001b[0;34m=\u001b[0m\u001b[0;34m[\u001b[0m\u001b[0;34m]\u001b[0m\u001b[0;34m\u001b[0m\u001b[0;34m\u001b[0m\u001b[0m\n\u001b[1;32m     12\u001b[0m     \u001b[0mrelabler\u001b[0m\u001b[0;34m=\u001b[0m\u001b[0mget_relabler\u001b[0m\u001b[0;34m(\u001b[0m\u001b[0msubg\u001b[0m\u001b[0;34m,\u001b[0m\u001b[0mcommon_tree\u001b[0m\u001b[0;34m)\u001b[0m\u001b[0;34m\u001b[0m\u001b[0;34m\u001b[0m\u001b[0m\n\u001b[0;32m---> 13\u001b[0;31m     \u001b[0mvalid_M1\u001b[0m\u001b[0;34m=\u001b[0m\u001b[0mrunning_cycles\u001b[0m\u001b[0;34m(\u001b[0m\u001b[0mpre_M\u001b[0m\u001b[0;34m,\u001b[0m\u001b[0mn\u001b[0m\u001b[0;34m,\u001b[0m\u001b[0mrelabler\u001b[0m\u001b[0;34m,\u001b[0m\u001b[0mtails\u001b[0m\u001b[0;34m,\u001b[0m\u001b[0mcommon_tree_assingment\u001b[0m\u001b[0;34m,\u001b[0m\u001b[0mchange_relabler\u001b[0m\u001b[0;34m=\u001b[0m\u001b[0;32mFalse\u001b[0m\u001b[0;34m)\u001b[0m\u001b[0;34m\u001b[0m\u001b[0;34m\u001b[0m\u001b[0m\n\u001b[0m\u001b[1;32m     14\u001b[0m     \u001b[0;32mif\u001b[0m \u001b[0mvalid_M1\u001b[0m\u001b[0;34m!=\u001b[0m\u001b[0;32mNone\u001b[0m\u001b[0;34m:\u001b[0m\u001b[0;34m\u001b[0m\u001b[0;34m\u001b[0m\u001b[0m\n\u001b[1;32m     15\u001b[0m         \u001b[0mExtensions_M_by_T_subg\u001b[0m\u001b[0;34m.\u001b[0m\u001b[0mextend\u001b[0m\u001b[0;34m(\u001b[0m\u001b[0mvalid_M1\u001b[0m\u001b[0;34m)\u001b[0m \u001b[0;31m#valid_M1 is a list\u001b[0m\u001b[0;34m\u001b[0m\u001b[0;34m\u001b[0m\u001b[0m\n",
      "\u001b[0;32m<ipython-input-48-24716b10e77b>\u001b[0m in \u001b[0;36mrunning_cycles\u001b[0;34m(M, n, relabler, tails, common_tree_assingment, change_relabler)\u001b[0m\n\u001b[1;32m     96\u001b[0m             \u001b[0mresult\u001b[0m \u001b[0;34m=\u001b[0m \u001b[0mappend_to_list\u001b[0m\u001b[0;34m(\u001b[0m\u001b[0mcopy\u001b[0m\u001b[0;34m(\u001b[0m\u001b[0mM\u001b[0m\u001b[0;34m)\u001b[0m\u001b[0;34m,\u001b[0m \u001b[0mdata_subg\u001b[0m\u001b[0;34m,\u001b[0m\u001b[0mchange_relabler\u001b[0m\u001b[0;34m=\u001b[0m\u001b[0;32mTrue\u001b[0m\u001b[0;34m)\u001b[0m\u001b[0;34m\u001b[0m\u001b[0;34m\u001b[0m\u001b[0m\n\u001b[1;32m     97\u001b[0m         \u001b[0;32melse\u001b[0m\u001b[0;34m:\u001b[0m\u001b[0;34m\u001b[0m\u001b[0;34m\u001b[0m\u001b[0m\n\u001b[0;32m---> 98\u001b[0;31m             \u001b[0mresult\u001b[0m \u001b[0;34m=\u001b[0m \u001b[0mappend_to_list\u001b[0m\u001b[0;34m(\u001b[0m\u001b[0mcopy\u001b[0m\u001b[0;34m(\u001b[0m\u001b[0mM\u001b[0m\u001b[0;34m)\u001b[0m\u001b[0;34m,\u001b[0m \u001b[0mdata_subg\u001b[0m\u001b[0;34m,\u001b[0m\u001b[0mchange_relabler\u001b[0m\u001b[0;34m=\u001b[0m\u001b[0;32mFalse\u001b[0m\u001b[0;34m)\u001b[0m\u001b[0;34m\u001b[0m\u001b[0;34m\u001b[0m\u001b[0m\n\u001b[0m\u001b[1;32m     99\u001b[0m \u001b[0;34m\u001b[0m\u001b[0m\n\u001b[1;32m    100\u001b[0m         \u001b[0;34m\"Check if, for $M$ we have $|Ass(T)|=1$ for all $T$.\"\u001b[0m\u001b[0;34m\u001b[0m\u001b[0;34m\u001b[0m\u001b[0m\n",
      "\u001b[0;32m<ipython-input-48-24716b10e77b>\u001b[0m in \u001b[0;36mappend_to_list\u001b[0;34m(M, new_data, change_relabler)\u001b[0m\n\u001b[1;32m     40\u001b[0m     \"\"\"\n\u001b[1;32m     41\u001b[0m     \u001b[0;31m#Glue together both lists of data.\u001b[0m\u001b[0;34m\u001b[0m\u001b[0;34m\u001b[0m\u001b[0;34m\u001b[0m\u001b[0m\n\u001b[0;32m---> 42\u001b[0;31m     \u001b[0mass_gamma_all\u001b[0m\u001b[0;34m=\u001b[0m\u001b[0mput_assignments_together\u001b[0m\u001b[0;34m(\u001b[0m\u001b[0mM\u001b[0m\u001b[0;34m,\u001b[0m \u001b[0mnew_data\u001b[0m\u001b[0;34m)\u001b[0m\u001b[0;34m\u001b[0m\u001b[0;34m\u001b[0m\u001b[0m\n\u001b[0m\u001b[1;32m     43\u001b[0m \u001b[0;34m\u001b[0m\u001b[0m\n\u001b[1;32m     44\u001b[0m     \"\"\"\n",
      "\u001b[0;32m<ipython-input-48-24716b10e77b>\u001b[0m in \u001b[0;36mput_assignments_together\u001b[0;34m(M, new_data)\u001b[0m\n\u001b[1;32m      4\u001b[0m     \"\"\"\n\u001b[1;32m      5\u001b[0m \u001b[0;34m\u001b[0m\u001b[0m\n\u001b[0;32m----> 6\u001b[0;31m     \u001b[0mmapping\u001b[0m \u001b[0;34m=\u001b[0m \u001b[0;34m{\u001b[0m\u001b[0mt\u001b[0m\u001b[0;34m.\u001b[0m\u001b[0mcopy\u001b[0m\u001b[0;34m(\u001b[0m\u001b[0mimmutable\u001b[0m\u001b[0;34m=\u001b[0m\u001b[0;32mTrue\u001b[0m\u001b[0;34m)\u001b[0m\u001b[0;34m:\u001b[0m \u001b[0mass_l\u001b[0m \u001b[0;32mfor\u001b[0m \u001b[0;34m(\u001b[0m\u001b[0mt\u001b[0m\u001b[0;34m,\u001b[0m \u001b[0mass_l\u001b[0m\u001b[0;34m)\u001b[0m \u001b[0;32min\u001b[0m \u001b[0mM\u001b[0m\u001b[0;34m}\u001b[0m \u001b[0;31m#ass_l is a list\u001b[0m\u001b[0;34m\u001b[0m\u001b[0;34m\u001b[0m\u001b[0m\n\u001b[0m\u001b[1;32m      7\u001b[0m     \u001b[0;32mfor\u001b[0m \u001b[0;34m(\u001b[0m\u001b[0mt_dif\u001b[0m\u001b[0;34m,\u001b[0m \u001b[0mass\u001b[0m\u001b[0;34m)\u001b[0m \u001b[0;32min\u001b[0m \u001b[0mnew_data\u001b[0m\u001b[0;34m:\u001b[0m\u001b[0;34m\u001b[0m\u001b[0;34m\u001b[0m\u001b[0m\n\u001b[1;32m      8\u001b[0m         \u001b[0;31m#if have same tree in new data, record assignments by adding to mapping\u001b[0m\u001b[0;34m\u001b[0m\u001b[0;34m\u001b[0m\u001b[0;34m\u001b[0m\u001b[0m\n",
      "\u001b[0;32m<ipython-input-48-24716b10e77b>\u001b[0m in \u001b[0;36m<dictcomp>\u001b[0;34m(.0)\u001b[0m\n\u001b[1;32m      4\u001b[0m     \"\"\"\n\u001b[1;32m      5\u001b[0m \u001b[0;34m\u001b[0m\u001b[0m\n\u001b[0;32m----> 6\u001b[0;31m     \u001b[0mmapping\u001b[0m \u001b[0;34m=\u001b[0m \u001b[0;34m{\u001b[0m\u001b[0mt\u001b[0m\u001b[0;34m.\u001b[0m\u001b[0mcopy\u001b[0m\u001b[0;34m(\u001b[0m\u001b[0mimmutable\u001b[0m\u001b[0;34m=\u001b[0m\u001b[0;32mTrue\u001b[0m\u001b[0;34m)\u001b[0m\u001b[0;34m:\u001b[0m \u001b[0mass_l\u001b[0m \u001b[0;32mfor\u001b[0m \u001b[0;34m(\u001b[0m\u001b[0mt\u001b[0m\u001b[0;34m,\u001b[0m \u001b[0mass_l\u001b[0m\u001b[0;34m)\u001b[0m \u001b[0;32min\u001b[0m \u001b[0mM\u001b[0m\u001b[0;34m}\u001b[0m \u001b[0;31m#ass_l is a list\u001b[0m\u001b[0;34m\u001b[0m\u001b[0;34m\u001b[0m\u001b[0m\n\u001b[0m\u001b[1;32m      7\u001b[0m     \u001b[0;32mfor\u001b[0m \u001b[0;34m(\u001b[0m\u001b[0mt_dif\u001b[0m\u001b[0;34m,\u001b[0m \u001b[0mass\u001b[0m\u001b[0;34m)\u001b[0m \u001b[0;32min\u001b[0m \u001b[0mnew_data\u001b[0m\u001b[0;34m:\u001b[0m\u001b[0;34m\u001b[0m\u001b[0;34m\u001b[0m\u001b[0m\n\u001b[1;32m      8\u001b[0m         \u001b[0;31m#if have same tree in new data, record assignments by adding to mapping\u001b[0m\u001b[0;34m\u001b[0m\u001b[0;34m\u001b[0m\u001b[0;34m\u001b[0m\u001b[0m\n",
      "\u001b[0;32m/opt/sagemath-9.2/local/lib/python3.7/site-packages/sage/graphs/generic_graph.py\u001b[0m in \u001b[0;36mcopy\u001b[0;34m(self, weighted, data_structure, sparse, immutable)\u001b[0m\n\u001b[1;32m   1212\u001b[0m         G = self.__class__(self, name=self.name(), pos=copy(self._pos),\n\u001b[1;32m   1213\u001b[0m                            \u001b[0mweighted\u001b[0m\u001b[0;34m=\u001b[0m\u001b[0mweighted\u001b[0m\u001b[0;34m,\u001b[0m\u001b[0;34m\u001b[0m\u001b[0;34m\u001b[0m\u001b[0m\n\u001b[0;32m-> 1214\u001b[0;31m                            data_structure=data_structure)\n\u001b[0m\u001b[1;32m   1215\u001b[0m \u001b[0;34m\u001b[0m\u001b[0m\n\u001b[1;32m   1216\u001b[0m         \u001b[0mattributes_to_copy\u001b[0m \u001b[0;34m=\u001b[0m \u001b[0;34m(\u001b[0m\u001b[0;34m'_assoc'\u001b[0m\u001b[0;34m,\u001b[0m \u001b[0;34m'_embedding'\u001b[0m\u001b[0;34m)\u001b[0m\u001b[0;34m\u001b[0m\u001b[0;34m\u001b[0m\u001b[0m\n",
      "\u001b[0;32m/opt/sagemath-9.2/local/lib/python3.7/site-packages/sage/graphs/graph.py\u001b[0m in \u001b[0;36m__init__\u001b[0;34m(self, data, pos, loops, format, weighted, data_structure, vertex_labels, name, multiedges, convert_empty_dict_labels_to_None, sparse, immutable)\u001b[0m\n\u001b[1;32m   1182\u001b[0m             \u001b[0;32mif\u001b[0m \u001b[0mdata\u001b[0m\u001b[0;34m.\u001b[0m\u001b[0mget_pos\u001b[0m\u001b[0;34m(\u001b[0m\u001b[0;34m)\u001b[0m \u001b[0;32mis\u001b[0m \u001b[0;32mnot\u001b[0m \u001b[0;32mNone\u001b[0m\u001b[0;34m:\u001b[0m\u001b[0;34m\u001b[0m\u001b[0;34m\u001b[0m\u001b[0m\n\u001b[1;32m   1183\u001b[0m                 \u001b[0mpos\u001b[0m \u001b[0;34m=\u001b[0m \u001b[0mdata\u001b[0m\u001b[0;34m.\u001b[0m\u001b[0mget_pos\u001b[0m\u001b[0;34m(\u001b[0m\u001b[0;34m)\u001b[0m\u001b[0;34m\u001b[0m\u001b[0;34m\u001b[0m\u001b[0m\n\u001b[0;32m-> 1184\u001b[0;31m             \u001b[0mself\u001b[0m\u001b[0;34m.\u001b[0m\u001b[0mname\u001b[0m\u001b[0;34m(\u001b[0m\u001b[0mdata\u001b[0m\u001b[0;34m.\u001b[0m\u001b[0mname\u001b[0m\u001b[0;34m(\u001b[0m\u001b[0;34m)\u001b[0m\u001b[0;34m)\u001b[0m\u001b[0;34m\u001b[0m\u001b[0;34m\u001b[0m\u001b[0m\n\u001b[0m\u001b[1;32m   1185\u001b[0m             \u001b[0mself\u001b[0m\u001b[0;34m.\u001b[0m\u001b[0madd_vertices\u001b[0m\u001b[0;34m(\u001b[0m\u001b[0mdata\u001b[0m\u001b[0;34m.\u001b[0m\u001b[0mvertex_iterator\u001b[0m\u001b[0;34m(\u001b[0m\u001b[0;34m)\u001b[0m\u001b[0;34m)\u001b[0m\u001b[0;34m\u001b[0m\u001b[0;34m\u001b[0m\u001b[0m\n\u001b[1;32m   1186\u001b[0m             \u001b[0mself\u001b[0m\u001b[0;34m.\u001b[0m\u001b[0mset_vertices\u001b[0m\u001b[0;34m(\u001b[0m\u001b[0mdata\u001b[0m\u001b[0;34m.\u001b[0m\u001b[0mget_vertices\u001b[0m\u001b[0;34m(\u001b[0m\u001b[0;34m)\u001b[0m\u001b[0;34m)\u001b[0m\u001b[0;34m\u001b[0m\u001b[0;34m\u001b[0m\u001b[0m\n",
      "\u001b[0;32m/opt/sagemath-9.2/local/lib/python3.7/site-packages/sage/graphs/generic_graph.py\u001b[0m in \u001b[0;36mname\u001b[0;34m(self, new)\u001b[0m\n\u001b[1;32m   3257\u001b[0m             \u001b[0;32mraise\u001b[0m \u001b[0mNotImplementedError\u001b[0m\u001b[0;34m(\u001b[0m\u001b[0;34m\"an immutable graph does not change name\"\u001b[0m\u001b[0;34m)\u001b[0m\u001b[0;34m\u001b[0m\u001b[0;34m\u001b[0m\u001b[0m\n\u001b[1;32m   3258\u001b[0m \u001b[0;34m\u001b[0m\u001b[0m\n\u001b[0;32m-> 3259\u001b[0;31m         \u001b[0mself\u001b[0m\u001b[0;34m.\u001b[0m\u001b[0m_name\u001b[0m \u001b[0;34m=\u001b[0m \u001b[0mstr\u001b[0m\u001b[0;34m(\u001b[0m\u001b[0mnew\u001b[0m\u001b[0;34m)\u001b[0m\u001b[0;34m\u001b[0m\u001b[0;34m\u001b[0m\u001b[0m\n\u001b[0m\u001b[1;32m   3260\u001b[0m \u001b[0;34m\u001b[0m\u001b[0m\n\u001b[1;32m   3261\u001b[0m     \u001b[0;32mdef\u001b[0m \u001b[0mget_pos\u001b[0m\u001b[0;34m(\u001b[0m\u001b[0mself\u001b[0m\u001b[0;34m,\u001b[0m \u001b[0mdim\u001b[0m\u001b[0;34m=\u001b[0m\u001b[0;36m2\u001b[0m\u001b[0;34m)\u001b[0m\u001b[0;34m:\u001b[0m\u001b[0;34m\u001b[0m\u001b[0;34m\u001b[0m\u001b[0m\n",
      "\u001b[0;32msrc/cysignals/signals.pyx\u001b[0m in \u001b[0;36mcysignals.signals.python_check_interrupt\u001b[0;34m()\u001b[0m\n",
      "\u001b[0;31mKeyboardInterrupt\u001b[0m: "
     ]
    }
   ],
   "source": [
    "#graph F\n",
    "graphname=\"FV_G6M3M14\"  \n",
    "G=Graph([(\"0\",\"1\"),(\"1\",\"2\"),(\"2\",\"3\"),(\"3\",\"4\"),(\"4\",\"5\"),(\"5\",\"0\"),(\"0\",\"3\"),(\"1\",\"4\")], multiedges=True)\n",
    "ordering_trees=list(G.spanning_trees())\n",
    "T=ordering_trees[0]\n",
    "M=get_all_assingment_datum(G,T)\n",
    "assignment_datum=condition_checker(M)\n",
    "\n",
    "# store_data(G,assignment_datum,ordering_trees,graphname)\n",
    "# pickle_assignment_datum(graphname,assignment_datum)"
   ]
  },
  {
   "cell_type": "markdown",
   "id": "004bcd60",
   "metadata": {
    "jp-MarkdownHeadingCollapsed": true,
    "tags": []
   },
   "source": [
    "# Leftovers"
   ]
  }
 ],
 "metadata": {
  "kernelspec": {
   "display_name": "Python 3 (ipykernel)",
   "language": "python",
   "name": "python3"
  },
  "language_info": {
   "codemirror_mode": {
    "name": "ipython",
    "version": 3
   },
   "file_extension": ".py",
   "mimetype": "text/x-python",
   "name": "python",
   "nbconvert_exporter": "python",
   "pygments_lexer": "ipython3",
   "version": "3.10.8"
  }
 },
 "nbformat": 4,
 "nbformat_minor": 5
}
