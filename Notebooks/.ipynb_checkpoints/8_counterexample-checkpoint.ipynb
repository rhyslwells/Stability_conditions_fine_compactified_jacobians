{
 "cells": [
  {
   "cell_type": "markdown",
   "metadata": {},
   "source": [
    "# Overview"
   ]
  },
  {
   "cell_type": "markdown",
   "metadata": {},
   "source": [
    "Let $\\sigma_{\\Gamma}\\in \\Sigma_{\\Gamma}^{d}$ (where $d=b_{1}(\\Gamma)$) and define $f_{\\sigma_{\\Gamma}}$ to be the map\n",
    "\n",
    "$$\\Gamma^{'} \\mapsto \\operatorname{Min}\\left\\{\\sum_{v \\in \\Gamma^{'}} \\vec{d} \\mid \\vec{d} \\in \\sigma_{\\Gamma}(\\Gamma)\\right\\}$$\n",
    "\n",
    "where $\\Gamma^{'}$ is an elementary induced subgraph of $\\Gamma$ (completely determined by its vertices).\n",
    "\n",
    "Let $\\Gamma$ be the graph $F$ described in the thesis (Filippo Viviani graph) and let $D$ be the set of  $\\sigma_{\\Gamma}\\in \\Sigma_{\\Gamma,T,D_T}$ (for $D_T=\\vec{0}$ and $T$ I have fixed earlier) which are not induced by a $\\phi \\in V^{d}(\\Gamma)$ (16 in total).\n",
    "\n",
    "In this notebook we return $f_{\\sigma_{\\Gamma}}$ for a $\\sigma_{\\Gamma}\\in D$ as stated in the thesis. We use $f_{\\sigma_{\\Gamma}}$ to give the example in Section 4.2.\n",
    "\n",
    "We show that $f_{\\sigma_{\\Gamma}}(\\Gamma^{'})+f_{\\sigma_{\\Gamma}}(\\Gamma^{'c}) = d- |\\#E(\\Gamma) \\setminus (E(\\Gamma^{'} \\cup E(\\Gamma^{'c})|+1$ for all elementtary induced subgraphs $\\Gamma^{'}$."
   ]
  },
  {
   "cell_type": "markdown",
   "metadata": {},
   "source": [
    "# Table of contents"
   ]
  },
  {
   "cell_type": "markdown",
   "metadata": {},
   "source": [
    "1. [Functions](#s1)\n",
    "2. [$f_{\\sigma_{\\Gamma}}$ for $\\sigma_{\\Gamma} \\in D$](#s2)\n"
   ]
  },
  {
   "cell_type": "markdown",
   "metadata": {
    "jp-MarkdownHeadingCollapsed": true,
    "tags": []
   },
   "source": [
    "# Functions <a name=\"s1\"></a>"
   ]
  },
  {
   "cell_type": "code",
   "execution_count": 1,
   "metadata": {},
   "outputs": [],
   "source": [
    "import pickle\n",
    "import numpy as np"
   ]
  },
  {
   "cell_type": "code",
   "execution_count": 2,
   "metadata": {},
   "outputs": [],
   "source": [
    "def get_first_betti_number(G):\n",
    "    #for if the degree of divisors on trees is 0, the degree of lbm is this.\n",
    "    return len(G.edges())-len(G.vertices())+1"
   ]
  },
  {
   "cell_type": "markdown",
   "metadata": {},
   "source": [
    "The next functions allows one to define $f_{\\sigma_{\\Gamma}}$ by taking the minimum of the sum of $I$ vertices."
   ]
  },
  {
   "cell_type": "code",
   "execution_count": 3,
   "metadata": {},
   "outputs": [],
   "source": [
    "def sum_comps(comp,indexor): #Done\n",
    "    \"\"\"returns the sum of the components of comp in the position by indexor\"\"\"\n",
    "    #for d and phi\n",
    "    sum_l=[comp[int(i)] for i in indexor] #Becuase of the vertex labeling of G having v_0....\n",
    "    return sum(sum_l)"
   ]
  },
  {
   "cell_type": "code",
   "execution_count": 4,
   "metadata": {},
   "outputs": [],
   "source": [
    "def get_min_val(indexor, sig_lst):\n",
    "    \"\"\"\n",
    "    Calculate the minimum value of sums in a list.\n",
    "\n",
    "    Input:\n",
    "    indexor: A string representing positions in the list, e.g., \"0243\".\n",
    "    sig_lst: A list of lists, e.g., [0, 6, 2, 4, 6].\n",
    "    \"\"\"\n",
    "\n",
    "    x = set()\n",
    "    for divisor in sig_lst:\n",
    "        divisor_comp_sum = sum_comps(divisor, indexor)\n",
    "        x.add(divisor_comp_sum)\n",
    "\n",
    "    min_val = min(x)  # Calculate the minimum value in the set\n",
    "\n",
    "    return min_val"
   ]
  },
  {
   "cell_type": "markdown",
   "metadata": {},
   "source": [
    "The next function gives all pairs $(\\Gamma^{'},\\Gamma^{'c})$ corresponding to elementary cuts."
   ]
  },
  {
   "cell_type": "code",
   "execution_count": 5,
   "metadata": {},
   "outputs": [],
   "source": [
    "def get_pairs_con_subg(G):# for phi_tree_inequalities_data\n",
    "    \n",
    "    \"\"\"\n",
    "    Note: we are not working with multigraphs so connected_subgraph_iterator should give subgraphs with all edges between    \n",
    "    Objective: Used to get cut info and total degree adjustment\n",
    "    Input:\n",
    "    Return: Pairs of complete subgraphs for V and V^{c} such that V scup V^{c}=V(G)\n",
    "    \"\"\"\n",
    "    \n",
    "    vert_G=G.vertices()\n",
    "    edges_G=G.edges()\n",
    "    \n",
    "    #get list of connected subgraphs:\n",
    "    \n",
    "    #Want to get pairs of complete subgraphs for pairs of vertices that is a is disjoint union of all verts\n",
    "    ll=list(G.connected_subgraph_iterator())\n",
    "\n",
    "    # put them into pairs, where vertices are a disjoint union of G.\n",
    "    pairs=[]\n",
    "    for i in ll:\n",
    "        a=i.vertices()\n",
    "        for j in ll:\n",
    "            b=j.vertices()\n",
    "            if sorted(a+b)==vert_G:\n",
    "                #May need to take complete graph here containing a, and for b. \n",
    "                if (j,i) in pairs: # If we have (\\Gamma^{'},\\Gamma^{'c}) in pairs we dont need (\\Gamma^{'c},\\Gamma^{'})\n",
    "                    continue\n",
    "                else:\n",
    "                    pairs.append((i,j))\n",
    "    return pairs"
   ]
  },
  {
   "cell_type": "markdown",
   "metadata": {},
   "source": [
    "The next function gives us the cut information with respect to a pair of vertices corresponding to $(\\Gamma^{'},\\Gamma^{'c})$."
   ]
  },
  {
   "cell_type": "code",
   "execution_count": 7,
   "metadata": {},
   "outputs": [],
   "source": [
    "def get_cut_edges(G,pair): #for phi_tree_inequalities_data\n",
    "    \n",
    "    \"\"\"\n",
    "    Obj:Get list of the edges in a cut for a given pair, \n",
    "    for a pair of connected subgraphs that partitions the vertices of G.\n",
    "    \n",
    "    Return: list of edges in cut for a pair of connected subgraphs that partition the vertices of G \n",
    "    \"\"\"\n",
    "    a_edges=pair[0].edges()\n",
    "    b_edges=pair[1].edges()\n",
    "    total_edges=a_edges+b_edges\n",
    "    \n",
    "    edges_G=G.edges()\n",
    "\n",
    "    #Cut edges.\n",
    "    cut_edges=[ e for e in edges_G if e not in total_edges]\n",
    "    \n",
    "    return cut_edges"
   ]
  },
  {
   "cell_type": "markdown",
   "metadata": {},
   "source": [
    "I return $f_{\\sigma_{\\Gamma}}$ as a dictionary with keys recording the elementary induced subgraphs $(\\Gamma^{'},\\Gamma^{'c})$ with values recording $f_{\\sigma_{\\Gamma}}(\\Gamma^{'}),f_{\\sigma_{\\Gamma}}(\\Gamma^{'c}),$ the number of edgess in the cut of $(\\Gamma^{'},\\Gamma^{'c})$ and a True or False statement if the pair satisfies,\n",
    "\n",
    "$$f_{\\sigma_{\\Gamma}}(\\Gamma^{'})+f_{\\sigma_{\\Gamma}}(\\Gamma^{'c}) = d- |\\#E(\\Gamma) \\setminus (E(\\Gamma^{'} \\cup E(\\Gamma^{'c})|+1.$$"
   ]
  },
  {
   "cell_type": "markdown",
   "metadata": {},
   "source": [
    "The following checks the above condition."
   ]
  },
  {
   "cell_type": "code",
   "execution_count": 25,
   "metadata": {},
   "outputs": [],
   "source": [
    "def degree_statment(val_1,val_2,deg,cut_edges):\n",
    "    x=f\"{val_1}+{val_2}={deg}-{cut_edges}+1\"\n",
    "    if val_1+val_2==deg-cut_edges+1:\n",
    "        return True,x\n",
    "    else:\n",
    "        return False,x"
   ]
  },
  {
   "cell_type": "markdown",
   "metadata": {},
   "source": [
    "The following gives the values of $f_{\\sigma_{\\Gamma}}$."
   ]
  },
  {
   "cell_type": "code",
   "execution_count": 9,
   "metadata": {},
   "outputs": [],
   "source": [
    "def alpha_sig_gamma(G, sig_lst):\n",
    "    \"\"\"\n",
    "    Objective: Obtains the min of d in sigma{Gamma}(Gamma) for each elementary induced subgraph\n",
    "    \n",
    "    Inputs:\n",
    "    G: graph\n",
    "    sig_lst: the set sigma{Gamma}(Gamma) as a list of lists of divisors\n",
    "    \n",
    "    Returns phi_G as a\n",
    "    Dict contains the vertices elementary induced subg: key\n",
    "    and value: min value of d summed over subg\n",
    "    \"\"\"\n",
    "\n",
    "    deg = get_first_betti_number(G)\n",
    "\n",
    "    pairs = get_pairs_con_subg(G) #elementary induced subgraphs\n",
    "\n",
    "    phi_G = {} #alpha function\n",
    "    for pair in pairs:\n",
    "        \n",
    "        \n",
    "        edges_cut=len(get_cut_edges(G,pair))\n",
    "        \n",
    "        # Get vertices of subg in pair and turn to \"v1v2v3\" format.\n",
    "        subg1_l = pair[0].vertices()\n",
    "        elem_ind_subg_v1 = ''.join(subg1_l)\n",
    "        min_val1 = get_min_val(elem_ind_subg_v1, sig_lst)\n",
    "        \n",
    "        # Get vertices of subg in pair and turn to \"v1v2v3\" format.\n",
    "        subg2_l = pair[1].vertices()\n",
    "        elem_ind_subg_v2 = ''.join(subg2_l)\n",
    "        min_val2 = get_min_val(elem_ind_subg_v2, sig_lst)\n",
    "\n",
    "        \n",
    "        #Additional want so smallest induce subg is first, change key and value to correct\n",
    "        if len(elem_ind_subg_v1)>len(elem_ind_subg_v2):\n",
    "            \n",
    "            statement=degree_statment(min_val1,min_val2,deg,edges_cut)\n",
    "            key=(elem_ind_subg_v2,elem_ind_subg_v1)\n",
    "            \n",
    "            \n",
    "#             val=(min_val2,min_val1,edges_cut,statement)\n",
    "            a='%g'%((edges_cut*0.5)+min_val1-1) #marco\n",
    "            b='%g'%((edges_cut*0.5)+min_val1)\n",
    "\n",
    "\n",
    "\n",
    "            e='%g'%((edges_cut*0.5)+min_val2-1)\n",
    "            f='%g'%((edges_cut*0.5)+min_val2)\n",
    "\n",
    "\n",
    "#             val=((elem_ind_subg_v2,[(e,f),(g,h)]),(elem_ind_subg_v1,[(a,b),(c,d)]))\n",
    "            val=((elem_ind_subg_v2,[(e,f),(min_val2,statement)]),(elem_ind_subg_v1,[(a,b),(min_val1,statement)]))\n",
    "#             val=((elem_ind_subg_v2,min_val2),(elem_ind_subg_v1,min_val1))\n",
    "\n",
    "\n",
    "            \n",
    "            # Add key:value pair # {[('0','12345'): (0,1,3,True)]}\n",
    "            phi_G[key] = val  # Use dictionary notation to add key:value pairs\n",
    "            continue\n",
    "        \n",
    "        \n",
    "        statement=degree_statment(min_val1,min_val2,deg,edges_cut)\n",
    "        \n",
    "        \n",
    "        key=(elem_ind_subg_v1,elem_ind_subg_v2)\n",
    "        \n",
    "        a='%g'%((edges_cut*0.5)+min_val1-1) #marco\n",
    "        b='%g'%((edges_cut*0.5)+min_val1)\n",
    "        \n",
    "\n",
    "        \n",
    "        e='%g'%((edges_cut*0.5)+min_val2-1)\n",
    "        f='%g'%((edges_cut*0.5)+min_val2)\n",
    "        \n",
    "        \n",
    "#         val=((elem_ind_subg_v1,[(a,b),(c,d)]),(elem_ind_subg_v2,[(e,f),(g,h)]))\n",
    "        val=((elem_ind_subg_v1,[(a,b),(min_val1,statement)]),(elem_ind_subg_v2,[(e,f),(min_val2,statement)]))\n",
    "#         val=((elem_ind_subg_v1,min_val1),(elem_ind_subg_v2,min_val2))\n",
    "\n",
    "#         val=(min_val1,min_val2,edges_cut,statement)\n",
    "        \n",
    "        # Add key:value pair # {[('0','12345'): (0,1,3,True)]}\n",
    "        phi_G[key] = val  # Use dictionary notation to add key:value pairs\n",
    "\n",
    "    return phi_G"
   ]
  },
  {
   "cell_type": "markdown",
   "metadata": {
    "tags": []
   },
   "source": [
    "# $f_{\\sigma_{\\Gamma}}$ for $\\sigma_{\\Gamma} \\in D$ <a name=\"s2\"></a>"
   ]
  },
  {
   "cell_type": "markdown",
   "metadata": {},
   "source": [
    "Note the graph $F$ here have vertices starting from 0 to $5$, whereas in the Example in the thesis we have labeled the vertices $1$ to $6$. Therefore it is necessary to map everything accordingly."
   ]
  },
  {
   "cell_type": "code",
   "execution_count": 10,
   "metadata": {},
   "outputs": [],
   "source": [
    "graphname=\"FV_G6M3M14\" \n",
    "G=Graph([(\"0\",\"1\"),(\"1\",\"2\"),(\"2\",\"3\"),(\"3\",\"4\"),(\"4\",\"5\"),(\"5\",\"0\"),(\"0\",\"3\"),(\"1\",\"4\")], multiedges=True)"
   ]
  },
  {
   "cell_type": "markdown",
   "metadata": {},
   "source": [
    "We load the set $D$."
   ]
  },
  {
   "cell_type": "code",
   "execution_count": 20,
   "metadata": {},
   "outputs": [],
   "source": [
    "pickle_in = open(r\"FV_G6M3M14_degen.pkl\", \"rb\")\n",
    "# \"FV_G6M3M14\\FV_G6M3M14_degen.pkl\"\n",
    "data = pickle.load(pickle_in)\n",
    "pickle_in.close()"
   ]
  },
  {
   "cell_type": "markdown",
   "metadata": {},
   "source": [
    "Let $\\sigma_{\\Gamma} \\in D $ (we take the first one in the list as an example) and consider $\\sigma_{\\Gamma}(\\Gamma)$. The divisors of this set are of the form $\\vec{d}=[d_0v_0,d_1 v_1,d_2 v_2,d_3v_3,d_4v_4,d_5v_5]$"
   ]
  },
  {
   "cell_type": "code",
   "execution_count": 21,
   "metadata": {
    "collapsed": true,
    "jupyter": {
     "outputs_hidden": true
    },
    "tags": []
   },
   "outputs": [
    {
     "data": {
      "text/plain": [
       "[[0, 0, 1, 1, 0, 1],\n",
       " [0, 1, 0, 1, 0, 1],\n",
       " [0, 1, 1, 0, 0, 1],\n",
       " [0, 1, 1, 0, 1, 0],\n",
       " [0, 1, 1, 1, -1, 1],\n",
       " [0, 1, 1, 1, 0, 0],\n",
       " [0, 2, 0, 0, 0, 1],\n",
       " [0, 2, 0, 0, 1, 0],\n",
       " [0, 2, 0, 1, -1, 1],\n",
       " [0, 2, 0, 1, 0, 0],\n",
       " [0, 2, 1, 0, -1, 1],\n",
       " [0, 2, 1, 0, 0, 0],\n",
       " [1, 0, 1, 0, 0, 1],\n",
       " [1, 0, 1, 0, 1, 0],\n",
       " [1, 0, 1, 1, 0, 0],\n",
       " [1, 1, 0, 0, 0, 1],\n",
       " [1, 1, 0, 0, 1, 0],\n",
       " [1, 1, 0, 1, -1, 1],\n",
       " [1, 1, 0, 1, 0, 0],\n",
       " [1, 1, 1, -1, 0, 1],\n",
       " [1, 1, 1, -1, 1, 0],\n",
       " [1, 1, 1, 0, -1, 1],\n",
       " [1, 1, 1, 0, 0, 0],\n",
       " [1, 1, 1, 1, -1, 0],\n",
       " [1, 2, 0, 0, -1, 1],\n",
       " [1, 2, 0, 0, 0, 0],\n",
       " [1, 2, 0, 1, -1, 0],\n",
       " [1, 2, 1, -1, -1, 1],\n",
       " [1, 2, 1, -1, 0, 0],\n",
       " [1, 2, 1, 0, -1, 0],\n",
       " [2, 0, 1, -1, 1, 0],\n",
       " [2, 0, 1, 0, 0, 0],\n",
       " [2, 1, 0, 0, 0, 0],\n",
       " [2, 1, 0, 1, -1, 0],\n",
       " [2, 1, 1, -1, 0, 0],\n",
       " [2, 1, 1, 0, -1, 0]]"
      ]
     },
     "execution_count": 21,
     "metadata": {},
     "output_type": "execute_result"
    }
   ],
   "source": [
    "sc_1=data[0]\n",
    "sc_1g=sc_1[1].tolist() #the set \\sigma_{\\Gamma}(\\Gamma) as a list of lists of divisors\n",
    "# sc_1g\n",
    "sc_1gnp=sc_1[1]\n",
    "# sc_1gnp #for viewing purposes\n",
    "sc_1g"
   ]
  },
  {
   "cell_type": "code",
   "execution_count": 17,
   "metadata": {
    "tags": []
   },
   "outputs": [],
   "source": [
    "# # marco likes it translated for ease\n",
    "# sc_1g=[list(np.array(x)+np.array([0,0,0,1,1,0])) for x in sc_1g]\n",
    "# sc_1g"
   ]
  },
  {
   "cell_type": "markdown",
   "metadata": {},
   "source": [
    "For each $\\Gamma^{'}_{I}$ (elementary induced subgraph) we consider the region of $\\phi_{I}$ wrt the following inequality."
   ]
  },
  {
   "cell_type": "markdown",
   "metadata": {},
   "source": [
    "$$f_{\\sigma_{\\Gamma}}({I})-1+cut_I< \\phi_{I} < f_{\\sigma_{\\Gamma}}({I})+cut_I.$$"
   ]
  },
  {
   "cell_type": "code",
   "execution_count": 26,
   "metadata": {
    "collapsed": true,
    "jupyter": {
     "outputs_hidden": true
    },
    "tags": []
   },
   "outputs": [
    {
     "name": "stdout",
     "output_type": "stream",
     "text": [
      "(('0', [('0.5', '1.5'), (0, (True, '0+1=3-3+1'))]), ('12345', [('1.5', '2.5'), (1, (True, '0+1=3-3+1'))])) \n",
      "\n",
      "(('01', [('1', '2'), (0, (True, '0+0=3-4+1'))]), ('2345', [('1', '2'), (0, (True, '0+0=3-4+1'))])) \n",
      "\n",
      "(('012', [('2', '3'), (1, (True, '1+-1=3-4+1'))]), ('345', [('0', '1'), (-1, (True, '1+-1=3-4+1'))])) \n",
      "\n",
      "(('45', [('-0.5', '0.5'), (-1, (True, '2+-1=3-3+1'))]), ('0123', [('2.5', '3.5'), (2, (True, '2+-1=3-3+1'))])) \n",
      "\n",
      "(('5', [('0', '1'), (0, (True, '2+0=3-2+1'))]), ('01234', [('2', '3'), (2, (True, '2+0=3-2+1'))])) \n",
      "\n",
      "(('4', [('-0.5', '0.5'), (-1, (True, '2+-1=3-3+1'))]), ('01235', [('2.5', '3.5'), (2, (True, '2+-1=3-3+1'))])) \n",
      "\n",
      "(('3', [('-0.5', '0.5'), (-1, (True, '2+-1=3-3+1'))]), ('01245', [('2.5', '3.5'), (2, (True, '2+-1=3-3+1'))])) \n",
      "\n",
      "(('34', [('-1', '0'), (-2, (True, '2+-2=3-4+1'))]), ('0125', [('3', '4'), (2, (True, '2+-2=3-4+1'))])) \n",
      "\n",
      "(('2', [('0', '1'), (0, (True, '2+0=3-2+1'))]), ('01345', [('2', '3'), (2, (True, '2+0=3-2+1'))])) \n",
      "\n",
      "(('23', [('0.5', '1.5'), (0, (True, '1+0=3-3+1'))]), ('0145', [('1.5', '2.5'), (1, (True, '1+0=3-3+1'))])) \n",
      "\n",
      "(('015', [('2', '3'), (1, (True, '1+-1=3-4+1'))]), ('234', [('0', '1'), (-1, (True, '1+-1=3-4+1'))])) \n",
      "\n",
      "(('03', [('1', '2'), (0, (True, '0+0=3-4+1'))]), ('1245', [('1', '2'), (0, (True, '0+0=3-4+1'))])) \n",
      "\n",
      "(('023', [('1', '2'), (0, (True, '0+0=3-4+1'))]), ('145', [('1', '2'), (0, (True, '0+0=3-4+1'))])) \n",
      "\n",
      "(('1', [('0.5', '1.5'), (0, (True, '1+0=3-3+1'))]), ('02345', [('1.5', '2.5'), (1, (True, '1+0=3-3+1'))])) \n",
      "\n",
      "(('14', [('1', '2'), (0, (True, '0+0=3-4+1'))]), ('0235', [('1', '2'), (0, (True, '0+0=3-4+1'))])) \n",
      "\n",
      "(('12', [('1.5', '2.5'), (1, (True, '0+1=3-3+1'))]), ('0345', [('0.5', '1.5'), (0, (True, '0+1=3-3+1'))])) \n",
      "\n",
      "(('035', [('1', '2'), (0, (True, '0+0=3-4+1'))]), ('124', [('1', '2'), (0, (True, '0+0=3-4+1'))])) \n",
      "\n",
      "(('05', [('0.5', '1.5'), (0, (True, '0+1=3-3+1'))]), ('1234', [('1.5', '2.5'), (1, (True, '0+1=3-3+1'))])) \n",
      "\n",
      "(('045', [('1', '2'), (0, (True, '0+0=3-4+1'))]), ('123', [('1', '2'), (0, (True, '0+0=3-4+1'))])) \n",
      "\n"
     ]
    }
   ],
   "source": [
    "# elem_ind_subg\n",
    "asg=alpha_sig_gamma(G,sc_1g)\n",
    "asg\n",
    "\n",
    "l=[]\n",
    "for i in asg.values():\n",
    "    print(i,\"\\n\")\n",
    "    for j in i:\n",
    "        l.append(j)"
   ]
  },
  {
   "cell_type": "markdown",
   "metadata": {},
   "source": [
    "For example:('0', [('0.5', '1.5'), (0, (True, '0+1=3-3+1'))]) means that."
   ]
  },
  {
   "cell_type": "markdown",
   "metadata": {},
   "source": [
    "On $\\Gamma_{I}^{'}$ with $I=\\{v_{0}\\}$ we have that,\n",
    "\n",
    "$$0.5< \\phi_{I} < 1.5.$$\n",
    "\n",
    "that $f_{\\sigma_{\\Gamma}}({I})=0$ and \n",
    "\n",
    "$$f_{\\sigma_{\\Gamma}}({I})-1+cut_I< \\phi_{I} < f_{\\sigma_{\\Gamma}}({I})+cut_I.$$\n",
    "\n",
    "and for this case we have:\n",
    "\n",
    "$$f_{\\sigma_{\\Gamma}}(\\Gamma^{'})+f_{\\sigma_{\\Gamma}}(\\Gamma^{'c}) = d- |\\#E(\\Gamma) \\setminus (E(\\Gamma^{'} \\cup E(\\Gamma^{'c})|+1.$$\n",
    "\n",
    "is equivelent to $0+1=3-3+1$."
   ]
  },
  {
   "cell_type": "markdown",
   "metadata": {},
   "source": [
    "# On genus $1$ subgraphs"
   ]
  },
  {
   "cell_type": "markdown",
   "metadata": {},
   "source": [
    "In this section I would like to determine the genus $1$ stability conditions which I conjecture determine the stability condition. In particular I want to see that all other cycles are determined by identification and restriction."
   ]
  },
  {
   "cell_type": "code",
   "execution_count": null,
   "metadata": {},
   "outputs": [],
   "source": [
    "As always we consider the same stability condition which fails to be induced by a polarisation."
   ]
  },
  {
   "cell_type": "code",
   "execution_count": null,
   "metadata": {},
   "outputs": [],
   "source": [
    "pickle_in = open(r\"FV_G6M3M14_degen.pkl\", \"rb\")\n",
    "# \"FV_G6M3M14\\FV_G6M3M14_degen.pkl\"\n",
    "data = pickle.load(pickle_in)\n",
    "pickle_in.close()"
   ]
  },
  {
   "cell_type": "code",
   "execution_count": null,
   "metadata": {},
   "outputs": [],
   "source": [
    "sc_1=data[0]\n",
    "sc_1g=sc_1[1].tolist() #the set \\sigma_{\\Gamma}(\\Gamma) as a list of lists of divisors\n",
    "# sc_1g"
   ]
  },
  {
   "cell_type": "code",
   "execution_count": null,
   "metadata": {},
   "outputs": [],
   "source": [
    "sc_1gnp=sc_1[1]\n",
    "# sc_1gnp #for viewing purposes\n",
    "sc_1g"
   ]
  },
  {
   "cell_type": "markdown",
   "metadata": {},
   "source": [
    "Which maximal spanning subgraph are we on and what are the cycles?\n",
    "\n",
    "Subgraph 6: [('0', '1', 'e1'), ('0', '5', 'e6'), ('1', '2', 'e2'), ('2', '3', 'e3'), ('3', '4', 'e4'), ('4', '5', 'e5')]\n",
    "((1, 4, 6, 2, 3, 5), [('0', '5', None), ('1', '2', None), ('2', '3', None), ('3', '4', None), ('4', '5', None)]),\n",
    "Tree 2\n",
    "assignment [0, 0, 1, -1, 0, 0]\n",
    "\n",
    "Subgraph 15: [('0', '3', 'e7'), ('0', '5', 'e6'), ('1', '2', 'e2'), ('1', '4', 'e8'), ('2', '3', 'e3'), ('4', '5', 'e5')]\n",
    "((7, 8, 3, 6, 5, 2), [('0', '5', None), ('1', '2', None), ('1', '4', None), ('2', '3', None), ('4', '5', None)]),\n",
    "tree 4\n",
    "assignment [0, 0, 1, -1, 0, 0]"
   ]
  },
  {
   "cell_type": "markdown",
   "metadata": {},
   "source": [
    "[[0, 0, 0, 0, 0, 0], [0, 0, 1, -1, 0, 0], [0, 1, 0, -1, 0, 0], [0, 0, 1, -1, 0, 0], [0, 0, 0, 0, 0, 0], [0, 0, 1, 0, -1, 0], [0, 1, 0, 0, -1, 0], [0, 1, 0, 0, -1, 0], [0, 0, 0, 0, 0, 0], [0, 0, 0, 0, 0, 0], [1, 0, 1, -1, -1, 0], [0, 0, 1, 0, -1, 0], [1, 1, 0, -1, -1, 0], [0, 1, 0, 0, -1, 0], [0, 1, 0, 0, -1, 0], [0, 0, 0, 0, 0, 0], [0, 0, 1, 0, -1, 0], [0, 1, 0, -1, 0, 0], [0, 1, 1, -1, -1, 0], [0, 0, 0, 0, -1, 1], [0, 1, 0, 0, -1, 0], [0, 1, 0, -1, -1, 1], [1, 0, 1, -1, -1, 0], [0, 1, 1, -1, -1, 0], [0, 2, 0, -1, -1, 0], [0, 1, 1, -1, -1, 0], [0, 0, 0, 1, -1, 0], [0, 1, 0, 0, -1, 0], [0, 1, 0, 0, -1, 0], [1, 1, 0, -1, -1, 0], [1, 0, 0, 0, -1, 0], [1, 0, 0, 0, -1, 0], [0, 1, 0, 0, -1, 0], [1, 1, 0, -1, -1, 0], [1, 1, 0, -1, -1, 0], [1, 1, 0, -1, -1, 0]]\n",
    "\n",
    "[[0, 0, 1, 1, 0, 1], [0, 1, 0, 1, 0, 1], [0, 1, 1, 0, 0, 1], [0, 1, 1, 0, 1, 0], [0, 1, 1, 1, -1, 1], [0, 1, 1, 1, 0, 0], [0, 2, 0, 0, 0, 1], [0, 2, 0, 0, 1, 0], [0, 2, 0, 1, -1, 1], [0, 2, 0, 1, 0, 0], [0, 2, 1, 0, -1, 1], [0, 2, 1, 0, 0, 0], [1, 0, 1, 0, 0, 1], [1, 0, 1, 0, 1, 0], [1, 0, 1, 1, 0, 0], [1, 1, 0, 0, 0, 1], [1, 1, 0, 0, 1, 0], [1, 1, 0, 1, -1, 1], [1, 1, 0, 1, 0, 0], [1, 1, 1, -1, 0, 1], [1, 1, 1, -1, 1, 0], [1, 1, 1, 0, -1, 1], [1, 1, 1, 0, 0, 0], [1, 1, 1, 1, -1, 0], [1, 2, 0, 0, -1, 1], [1, 2, 0, 0, 0, 0], [1, 2, 0, 1, -1, 0], [1, 2, 1, -1, -1, 1], [1, 2, 1, -1, 0, 0], [1, 2, 1, 0, -1, 0], [2, 0, 1, -1, 1, 0], [2, 0, 1, 0, 0, 0], [2, 1, 0, 0, 0, 0], [2, 1, 0, 1, -1, 0], [2, 1, 1, -1, 0, 0], [2, 1, 1, 0, -1, 0]]\n",
    "\n",
    "[((1, 4, 7, 8), [('0', '3', None), ('1', '2', None), ('1', '4', None), ('3', '4', None), ('4', '5', None)])\n",
    ", ((7, 5, 4, 6), [('0', '1', None), ('0', '5', None), ('1', '2', None), ('3', '4', None), ('4', '5', None)])\n",
    ", ((1, 7, 2, 3), [('0', '3', None), ('1', '2', None), ('2', '3', None), ('3', '4', None), ('4', '5', None)]),\n",
    "((1, 6, 8, 5), [('0', '5', None), ('1', '2', None), ('1', '4', None), ('3', '4', None), ('4', '5', None)]),\n",
    "((2, 3, 4, 8), [('0', '1', None), ('1', '4', None), ('2', '3', None), ('3', '4', None), ('4', '5', None)]),\n",
    "((1, 4, 6, 2, 3, 5), [('0', '5', None), ('1', '2', None), ('2', '3', None), ('3', '4', None), ('4', '5', None)]),\n",
    "((7, 4, 6, 5), [('0', '5', None), ('1', '2', None), ('1', '4', None), ('3', '4', None), ('4', '5', None)]),\n",
    "((2, 4, 3, 8), [('0', '3', None), ('1', '4', None), ('2', '3', None), ('3', '4', None), ('4', '5', None)]),\n",
    "((7, 4, 6, 5), [('0', '5', None), ('1', '2', None), ('2', '3', None), ('3', '4', None), ('4', '5', None)]),\n",
    "((2, 3, 8, 4), [('0', '5', None), ('1', '4', None), ('2', '3', None), ('3', '4', None), ('4', '5', None)]),\n",
    "((1, 6, 5, 8), [('0', '3', None), ('0', '5', None), ('1', '2', None), ('1', '4', None), ('4', '5', None)]),\n",
    "((1, 3, 7, 2), [('0', '3', None), ('1', '2', None), ('1', '4', None), ('2', '3', None), ('4', '5', None)]),\n",
    "((1, 7, 2, 3), [('0', '3', None), ('0', '5', None), ('1', '2', None), ('2', '3', None), ('4', '5', None)]),\n",
    "((1, 8, 6, 5), [('0', '5', None), ('1', '2', None), ('1', '4', None), ('2', '3', None), ('4', '5', None)]),\n",
    "((7, 8, 3, 6, 5, 2), [('0', '5', None), ('1', '2', None), ('1', '4', None), ('2', '3', None), ('4', '5', None)]),\n",
    "((1, 7, 8, 4), [('0', '3', None), ('1', '4', None), ('2', '3', None), ('3', '4', None), ('4', '5', None)]),\n",
    "((7, 5, 4, 6), [('0', '1', None), ('0', '5', None), ('2', '3', None), ('3', '4', None), ('4', '5', None)]),\n",
    "((1, 6, 8, 5), [('0', '5', None), ('1', '4', None), ('2', '3', None), ('3', '4', None), ('4', '5', None)]),\n",
    "((7, 6, 5, 4), [('0', '5', None), ('1', '4', None), ('2', '3', None), ('3', '4', None), ('4', '5', None)]), \n",
    "((1, 8, 6, 5), [('0', '3', None), ('0', '5', None), ('1', '4', None), ('2', '3', None), ('4', '5', None)]),\n",
    "((1, 4, 8, 7), [('0', '3', None), ('0', '5', None), ('1', '2', None), ('1', '4', None), ('3', '4', None)]),\n",
    "((1, 2, 3, 7), [('0', '3', None), ('0', '5', None), ('1', '2', None), ('2', '3', None), ('3', '4', None)]),\n",
    "((2, 3, 8, 4), [('0', '1', None), ('0', '5', None), ('1', '4', None), ('2', '3', None), ('3', '4', None)]),\n",
    "((2, 4, 3, 8), [('0', '3', None), ('0', '5', None), ('1', '4', None), ('2', '3', None), ('3', '4', None)]),\n",
    "((1, 3, 7, 2), [('0', '3', None), ('0', '5', None), ('1', '2', None), ('1', '4', None), ('2', '3', None)]),\n",
    "((1, 8, 7, 4), [('0', '3', None), ('0', '5', None), ('1', '4', None), ('2', '3', None), ('3', '4', None)])]"
   ]
  },
  {
   "cell_type": "markdown",
   "metadata": {
    "jp-MarkdownHeadingCollapsed": true,
    "tags": [],
    "toc-hr-collapsed": true
   },
   "source": [
    "# Leftovers"
   ]
  },
  {
   "cell_type": "markdown",
   "metadata": {
    "jp-MarkdownHeadingCollapsed": true,
    "tags": []
   },
   "source": [
    "## Counterexample"
   ]
  },
  {
   "cell_type": "code",
   "execution_count": null,
   "metadata": {},
   "outputs": [],
   "source": [
    "determine a counterexample to show fails existence of phi"
   ]
  },
  {
   "cell_type": "code",
   "execution_count": 19,
   "metadata": {},
   "outputs": [],
   "source": [
    "def summer(data,columns_to_sum,val):\n",
    "    # Use numpy.sum along axis=1 to sum the specified columns for each row\n",
    "    sums = np.sum(data[:, columns_to_sum], axis=1)\n",
    "\n",
    "    result_list = []\n",
    "\n",
    "    for i, s in enumerate(sums):\n",
    "        if s == val:\n",
    "            result_list.append(s)\n",
    "        else:\n",
    "            result_list.append(None)\n",
    "\n",
    "    for i,t in enumerate(result_list):\n",
    "        if t==None:\n",
    "            continue\n",
    "        print(f\"{columns_to_sum}::{i+1}: {t}\")"
   ]
  },
  {
   "cell_type": "code",
   "execution_count": 20,
   "metadata": {},
   "outputs": [],
   "source": [
    "# Assuming your array is named 'data'\n",
    "data = sc_1gnp\n",
    "#consider values -1,3 only"
   ]
  },
  {
   "cell_type": "code",
   "execution_count": 27,
   "metadata": {},
   "outputs": [],
   "source": [
    "# for x in [[2,3,4,5],[1,2,4,5],[1,2,4],[2,3,4]]:\n",
    "#     columns_to_sum = x # not in v_1,..,v_6 format but v_0,..,v_5 format\n",
    "#     val=1\n",
    "#     summer(data,columns_to_sum,val)\n",
    "#     print(\"---\")\n"
   ]
  },
  {
   "cell_type": "code",
   "execution_count": 28,
   "metadata": {},
   "outputs": [],
   "source": [
    "# for x in [[0,1,2],[0,1,5],[0,2,3],[0,3,5],[0,4,5],[3,4,5],[2,3,4],[1,4,5],[1,2,5],[1,2,3]]:\n",
    "#     columns_to_sum = x # not in v_1,..,v_6 format but v_0,..,v_5 format\n",
    "#     val=3\n",
    "#     summer(data,columns_to_sum,val)\n",
    "#     print(\"---\")\n"
   ]
  },
  {
   "cell_type": "code",
   "execution_count": 29,
   "metadata": {},
   "outputs": [],
   "source": [
    "# for x in [[0,1],[0,3],[3,4],[1,4]]:\n",
    "#     columns_to_sum = x # not in v_1,..,v_6 format but v_0,..,v_5 format\n",
    "#     val=-1\n",
    "#     summer(data,columns_to_sum,val)\n",
    "#     print(\"---\")\n"
   ]
  },
  {
   "cell_type": "code",
   "execution_count": 30,
   "metadata": {},
   "outputs": [],
   "source": [
    "# for x in [[0,1],[0,3],[3,4],[1,4]]:\n",
    "#     columns_to_sum = x # not in v_1,..,v_6 format but v_0,..,v_5 format\n",
    "#     val=3\n",
    "#     summer(data,columns_to_sum,val)\n",
    "#     print(\"---\")\n"
   ]
  },
  {
   "cell_type": "code",
   "execution_count": 31,
   "metadata": {},
   "outputs": [],
   "source": [
    "# for x in [[0,2,3,5],[1,2,4,5],[0,1,2,5],[2,3,4,5]]:\n",
    "#     columns_to_sum = x # not in v_1,..,v_6 format but v_0,..,v_5 format\n",
    "#     val=3\n",
    "#     summer(data,columns_to_sum,val)\n",
    "#     print(\"---\")\n"
   ]
  },
  {
   "cell_type": "code",
   "execution_count": 32,
   "metadata": {},
   "outputs": [],
   "source": [
    "# # Specify the indices of the columns you want to sum (1, 3, 4 in this case)\n",
    "\n",
    "# columns_to_sum = [1,2,4] # not in v_1,..,v_6 format but v_0,..,v_5 format\n",
    "# val=3\n",
    "# summer(data,columns_to_sum,val)\n",
    "# print(\"---\")\n",
    "\n",
    "# columns_to_sum = [2,3,4] # not in v_1,..,v_6 format but v_0,..,v_5 format\n",
    "# val=-1\n",
    "# summer(data,columns_to_sum,val)\n",
    "# print(\"---\")\n"
   ]
  },
  {
   "cell_type": "code",
   "execution_count": 122,
   "metadata": {},
   "outputs": [
    {
     "name": "stdout",
     "output_type": "stream",
     "text": [
      "---\n",
      "---\n"
     ]
    }
   ],
   "source": [
    "columns_to_sum = [2,3,4] # not in v_1,..,v_6 format but v_0,..,v_5 format\n",
    "val=3\n",
    "summer(data,columns_to_sum,val)\n",
    "print(\"---\")\n",
    "\n",
    "\n",
    "columns_to_sum = [1,4,5] # not in v_1,..,v_6 format but v_0,..,v_5 format\n",
    "val=-1\n",
    "summer(data,columns_to_sum,val)\n",
    "print(\"---\")"
   ]
  },
  {
   "cell_type": "markdown",
   "metadata": {
    "jp-MarkdownHeadingCollapsed": true,
    "tags": []
   },
   "source": [
    "## leftovers"
   ]
  },
  {
   "cell_type": "code",
   "execution_count": 59,
   "metadata": {},
   "outputs": [],
   "source": [
    "data=l"
   ]
  },
  {
   "cell_type": "code",
   "execution_count": 125,
   "metadata": {},
   "outputs": [
    {
     "name": "stdout",
     "output_type": "stream",
     "text": [
      "Pair 1: None\n",
      "Pair 2: None\n"
     ]
    }
   ],
   "source": [
    "def get_pairs_with_one_difference_and_specific_digits(data, digit1, digit2):\n",
    "    # Extract tuples with strings that are different by only one term and contain specific digits\n",
    "    pair1 = None\n",
    "    pair2 = None\n",
    "\n",
    "    for i in range(len(data)):\n",
    "        for j in range(i + 1, len(data)):\n",
    "            str1, str2 = data[i][0], data[j][0]\n",
    "            val1, val2 = data[i][1], data[j][1]\n",
    "            if (\n",
    "                len(str1) == len(str2)\n",
    "                and val1 != val2\n",
    "                and sum(1 for a, b in zip(str1, str2) if a != b) == 1\n",
    "                and digit1 in str1 and digit2 in str2\n",
    "            ):\n",
    "                intersection_set = set(str1) & set(str2)\n",
    "                difference_set = set([digit1, digit2])\n",
    "                \n",
    "                # Exclude pairs where intersection and difference have a common element\n",
    "                if not intersection_set & difference_set:\n",
    "                    if pair1 is None:\n",
    "                        pair1 = {'pair': [data[i], data[j]], 'difference': difference_set, 'intersection': intersection_set}\n",
    "                    elif pair2 is None:\n",
    "                        pair2 = {'pair': [data[j], data[i]], 'difference': difference_set, 'intersection': intersection_set}\n",
    "                    else:\n",
    "                        break\n",
    "\n",
    "    return pair1, pair2\n",
    "\n",
    "# Example usage with your data, looking for pairs with '1' in one and '4' in the other\n",
    "pair1, pair2 = get_pairs_with_one_difference_and_specific_digits(data, '1', '3')\n",
    "print(\"Pair 1:\", pair1)\n",
    "print(\"Pair 2:\", pair2)\n"
   ]
  },
  {
   "cell_type": "code",
   "execution_count": 124,
   "metadata": {},
   "outputs": [
    {
     "name": "stdout",
     "output_type": "stream",
     "text": [
      "Pair 1 for 1 and 3: {'pair': [('0145', 1), ('0345', 0)], 'difference': {'3', '1'}, 'intersection': {'0', '4', '5'}}\n",
      "Pair 2 for 1 and 3: {'pair': [('035', 0), ('015', 1)], 'difference': {'3', '1'}, 'intersection': {'0', '5'}}\n",
      "\n",
      "\n",
      "Pair 1 for 3 and 1: {'pair': [('345', -1), ('145', 0)], 'difference': {'3', '1'}, 'intersection': {'4', '5'}}\n",
      "Pair 2 for 3 and 1: {'pair': [('1', 0), ('3', -1)], 'difference': {'3', '1'}, 'intersection': set()}\n",
      "\n",
      "\n",
      "Pair 1 for 4 and 2: {'pair': [('4', -1), ('2', 0)], 'difference': {'2', '4'}, 'intersection': set()}\n",
      "Pair 2 for 4 and 2: {'pair': [('12', 1), ('14', 0)], 'difference': {'2', '4'}, 'intersection': {'1'}}\n",
      "\n",
      "\n"
     ]
    }
   ],
   "source": [
    "digits = [1, 2, 3, 4, 5]\n",
    "\n",
    "for digit1 in digits:\n",
    "    for digit2 in digits:\n",
    "        # Skip cases where digit1 and digit2 are the same\n",
    "        if digit1 == digit2:\n",
    "            continue\n",
    "\n",
    "        # Example usage with your data, looking for pairs with digit1 in one and digit2 in the other\n",
    "        pair1, pair2 = get_pairs_with_one_difference_and_specific_digits(data, str(digit1), str(digit2))\n",
    "\n",
    "        # Check if both pairs are not None\n",
    "        if pair1 is not None and pair2 is not None:\n",
    "            print(f\"Pair 1 for {digit1} and {digit2}:\", pair1)\n",
    "            print(f\"Pair 2 for {digit1} and {digit2}:\", pair2)\n",
    "            print(\"\\n\")\n",
    "            \n"
   ]
  },
  {
   "cell_type": "code",
   "execution_count": 107,
   "metadata": {},
   "outputs": [
    {
     "name": "stdout",
     "output_type": "stream",
     "text": [
      "Pair 1: {'pair': [('0125', 2), ('0145', 1)], 'difference': {'1', '5'}}\n",
      "Pair 2: {'pair': [('01345', 2), ('02345', 1)], 'difference': {'1', '5'}}\n"
     ]
    }
   ],
   "source": [
    "# Example usage with your data, looking for pairs with '1' in one and '4' in the other\n",
    "pair1, pair2 = get_pairs_with_one_difference_and_specific_digits(data, '1', '5')\n",
    "print(\"Pair 1:\", pair1)\n",
    "print(\"Pair 2:\", pair2)"
   ]
  },
  {
   "cell_type": "code",
   "execution_count": null,
   "metadata": {},
   "outputs": [],
   "source": []
  },
  {
   "cell_type": "code",
   "execution_count": null,
   "metadata": {},
   "outputs": [],
   "source": [
    "get_pairs_with_one_difference"
   ]
  },
  {
   "cell_type": "markdown",
   "metadata": {},
   "source": [
    "Recall $f_{\\sigma_{\\Gamma}}$ as a dictionary with keys recording the elementary induced subgraphs $(\\Gamma^{'},\\Gamma^{'c})$ with values recording $\\alpha_{\\sigma_{\\Gamma}}(\\Gamma^{'}),\\alpha_{\\sigma_{\\Gamma}}(\\Gamma^{'c}),$ the number of edgess in the cut of $(\\Gamma^{'},\\Gamma^{'c})$ and a True or False statement if the pair satisfies,\n",
    "\n",
    "$$\\alpha_{\\sigma_{\\Gamma}}(\\Gamma^{'})+\\alpha_{\\sigma_{\\Gamma}}(\\Gamma^{'c}) = d- |\\#E(\\Gamma) \\setminus (E(\\Gamma^{'} \\cup E(\\Gamma^{'c})|+1.$$"
   ]
  }
 ],
 "metadata": {
  "kernelspec": {
   "display_name": "Python 3 (ipykernel)",
   "language": "python",
   "name": "python3"
  },
  "language_info": {
   "codemirror_mode": {
    "name": "ipython",
    "version": 3
   },
   "file_extension": ".py",
   "mimetype": "text/x-python",
   "name": "python",
   "nbconvert_exporter": "python",
   "pygments_lexer": "ipython3",
   "version": "3.10.8"
  }
 },
 "nbformat": 4,
 "nbformat_minor": 4
}
