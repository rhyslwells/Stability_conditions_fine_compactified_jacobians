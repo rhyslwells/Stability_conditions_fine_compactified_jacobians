{
 "cells": [
  {
   "cell_type": "markdown",
   "metadata": {},
   "source": [
    "# Overview"
   ]
  },
  {
   "cell_type": "markdown",
   "metadata": {},
   "source": [
    "The purpose of this file is to show that the $16$ weak stability conditions that are not given by a $\\phi$ for the graph $F$ (given by Filippo Viviani) in the thesis are strong stability conditions."
   ]
  },
  {
   "cell_type": "markdown",
   "metadata": {},
   "source": [
    "# Table of contents"
   ]
  },
  {
   "cell_type": "markdown",
   "metadata": {},
   "source": [
    "1. [Functions](#s1)\n",
    "2. [Triangle graph example](#s2)\n",
    "3. [For $F$ weak stability conditions which are not classical are strong](#s3)"
   ]
  },
  {
   "cell_type": "markdown",
   "metadata": {
    "jp-MarkdownHeadingCollapsed": true,
    "tags": []
   },
   "source": [
    "# Functions <a name=\"s1\"></a>"
   ]
  },
  {
   "cell_type": "code",
   "execution_count": 1,
   "metadata": {},
   "outputs": [],
   "source": [
    "import pickle\n",
    "import numpy as np"
   ]
  },
  {
   "cell_type": "markdown",
   "metadata": {},
   "source": [
    "The following function take a graph $G$ (actually the sandpile group for graph) and a set of divisors (usually $\\sigma_{\\Gamma}^{A_{\\G}}(G)$) and puts the set of divisors into dictionary format so we can apply is_linearly_equivalent()."
   ]
  },
  {
   "cell_type": "code",
   "execution_count": 98,
   "metadata": {},
   "outputs": [],
   "source": [
    "def get_sig_lst(S,lbm):\n",
    "    \n",
    "    \"\"\"\n",
    "    Objective:Get divisors of sigma_{\\Gamma}(\\Gamma) into the correct format to apply is_linearly_equivalent\n",
    "    \n",
    "    Input:\n",
    "    S:sandpile group for graph\n",
    "    lbm: the list of divisors [d1,...,dn] in sigma_{\\Gamma}(\\Gamma)\n",
    "    \n",
    "    Returns: the list of divisors in sigma_{\\Gamma}(\\Gamma) in the form d={0: 0, 2: 0, 3: 1, 4: 0, 5: 0, 6: 0, 7: 1}\n",
    "    \"\"\"\n",
    "    \n",
    "    sig_lst=[]\n",
    "    for d in lbm:\n",
    "        ld=[int(x) for x in d] # change numpy float to list of ints\n",
    "        n=len(ld)\n",
    "\n",
    "        dict_pairs=[] #to build dict for sandpiledivisors\n",
    "        for i in range(1,n+1):\n",
    "            if i ==1:\n",
    "                dict_pairs.append((i-1,ld[i-1]))\n",
    "            else:\n",
    "                dict_pairs.append((i,ld[i-1]))\n",
    "\n",
    "        d_dict=dict(dict_pairs)\n",
    "\n",
    "        sig_lst.append(SandpileDivisor(S,d_dict))\n",
    "    return sig_lst"
   ]
  },
  {
   "cell_type": "code",
   "execution_count": 99,
   "metadata": {},
   "outputs": [],
   "source": [
    "def return_to_list(d):\n",
    "    \n",
    "    \"\"\"\n",
    "    Objective:\n",
    "    Input: \n",
    "    d: a divisor of the form d={0: 0, 2: 0, 3: 1, 4: 0, 5: 0, 6: 0, 7: 1}\n",
    "    \n",
    "    Returns:\n",
    "    return divisor for sandpile back to list so can check those that are linearly equivelent.\n",
    "\n",
    "    \"\"\"\n",
    "        \n",
    "    \n",
    "#     d={0: 0, 2: 0, 3: 1, 4: 0, 5: 0, 6: 0, 7: 1}\n",
    "    n=len(d)\n",
    "    ld_first=[d[0]]\n",
    "    ld_top=[d[i] for i in range(2,n+1)]\n",
    "    ld=ld_first+ld_top\n",
    "    return ld"
   ]
  },
  {
   "cell_type": "markdown",
   "metadata": {},
   "source": [
    "THe following function considers every pair of divisors in the set of divisors and asks if they are chip-firing linearly independant."
   ]
  },
  {
   "cell_type": "code",
   "execution_count": 118,
   "metadata": {},
   "outputs": [],
   "source": [
    "def lbm_csr(sig_lst):\n",
    "    \"\"\"\n",
    "    Objective: Check which if each pair of items in chip firing depenedand or independant.\n",
    "    \n",
    "    Input:\n",
    "    sig_lst: the list of divisors sigma_{\\Gamma}(\\Gamma).\n",
    "    \n",
    "    Returns:\n",
    "    whether the list of divisors of sigma_{\\Gamma}(\\Gamma) are Independant or Dependant and the list of those that are chip-firing dependnat.\n",
    "    \"\"\"\n",
    "    \n",
    "    \n",
    "    lst=set([])\n",
    "    equivlent_pairs=[]\n",
    "    for item1 in sig_lst:\n",
    "        for item2 in sig_lst:\n",
    "            if item1==item2:\n",
    "                pass\n",
    "            else:\n",
    "#                 print(f\"item1: {item1}, item2: {item2}\")\n",
    "#                 print(\"equiv?\",item1.is_linearly_equivalent(item2))\n",
    "                lst.add(item1.is_linearly_equivalent(item2))\n",
    "                if item1.is_linearly_equivalent(item2)==True:\n",
    "                    equivlent_pairs.append((return_to_list(item1),return_to_list(item2)))\n",
    "    #     print(\"All elements are chip-firing independant if only false below, else there exists a linearly dependant pair.\")\n",
    "    \n",
    "#     we record those pairs that are equivlent\n",
    "\n",
    "    rem_same_pairs_equivlent_pairs=[] # elements of equivlent_pairs that are same up to ordering\n",
    "    for i in equivlent_pairs:\n",
    "        if (i[1],i[0]) in rem_same_pairs_equivlent_pairs:\n",
    "            continue\n",
    "        else:\n",
    "            rem_same_pairs_equivlent_pairs.append(i)\n",
    "\n",
    "#     print(lst)\n",
    "    if len(lst)<2:\n",
    "        x=\"Independant\"\n",
    "    else:\n",
    "        x=\"Dependant\"\n",
    "    \n",
    "    if len(rem_same_pairs_equivlent_pairs)>0:\n",
    "        print(\"The following are terms which are chip-firing equivelent\")\n",
    "        for i in rem_same_pairs_equivlent_pairs:\n",
    "            print(i)\n",
    "    \n",
    "    return x,rem_same_pairs_equivlent_pairs"
   ]
  },
  {
   "cell_type": "markdown",
   "metadata": {},
   "source": [
    "The function main repeats lbm_csr() for a list of sets of divisors."
   ]
  },
  {
   "cell_type": "code",
   "execution_count": 121,
   "metadata": {},
   "outputs": [],
   "source": [
    "def main(S,data):\n",
    "    \n",
    "    \"\"\"\n",
    "    Objective:\n",
    "    \n",
    "    Given a list of stability conditions checks if each is a  complete set of representatives for chip-firing action\n",
    "    \n",
    "    Input:\n",
    "    S: sandpile group for the graph.\n",
    "    data: List of stability conditions to be checked\n",
    "    \n",
    "    Returns:\n",
    "    \n",
    "    Prints \n",
    "    Total number of cases \n",
    "    Number of cases that are Dependant\n",
    "    Number of cases that are Independant \n",
    "    \"\"\"\n",
    "        \n",
    "\n",
    "    Indys=[]\n",
    "    Dependors=[]\n",
    "\n",
    "    for index,lbm in enumerate(data):\n",
    "        print(f\"WSC: {index} Complete\")\n",
    "        #put into sandpiledivisors form\n",
    "        sig_lst=get_sig_lst(S,lbm)\n",
    "#         print(sig_lst[0])\n",
    "        \n",
    "        #check if indy or dependant\n",
    "        check=lbm_csr(sig_lst)\n",
    "        check=check[0]\n",
    "    #     print(index,check)\n",
    "\n",
    "        if check==\"Dependant\":\n",
    "            Dependors.append(index)\n",
    "        elif check==\"Independant\":\n",
    "            Indys.append(index)\n",
    "\n",
    "    print(f\"Total number of cases {len(data)}\")\n",
    "    print(f\"Number of cases that are Dependant {len(Dependors)}\")\n",
    "    print(f\"Number of cases that are Independant {len(Indys)}\")\n",
    "    return"
   ]
  },
  {
   "cell_type": "markdown",
   "metadata": {
    "jp-MarkdownHeadingCollapsed": true,
    "tags": []
   },
   "source": [
    "# Triangle graph example <a name=\"s2\"></a>"
   ]
  },
  {
   "cell_type": "markdown",
   "metadata": {},
   "source": [
    "Before we consider the stability conditions not given by a $\\phi$, let us first set that the stability conditions, $\\sigma_{\\Gamma}$, for the triangle graph $\\Gamma:=I_3$ are strong stability conditions. In order to show this we show that pairwise $\\vec{d} \\in \\sigma_{\\Gamma}(\\Gamma)$ are chip-firing independent."
   ]
  },
  {
   "cell_type": "markdown",
   "metadata": {},
   "source": [
    "Consider the graph $\\Gamma:=I_3$"
   ]
  },
  {
   "cell_type": "code",
   "execution_count": null,
   "metadata": {},
   "outputs": [],
   "source": [
    "## I3 test for depenant\n",
    "\n",
    "g={0:{2:1,3:1},2:{0:1,3:1},3:{0:1,2:1}}\n",
    "S=Sandpile(g,0)\n",
    "# S.show(figsize=3, edge_labels=true)\n",
    "S.show(figsize=3)"
   ]
  },
  {
   "cell_type": "markdown",
   "metadata": {},
   "source": [
    "Here are the two sets of $\\sigma_{\\Gamma}(\\Gamma)$ up to translation, and a chip-firing dependant case."
   ]
  },
  {
   "cell_type": "code",
   "execution_count": 59,
   "metadata": {},
   "outputs": [],
   "source": [
    "# I3_data=[[[0,0,0],[-1,0,1],[-1,0,1]]]\n",
    "\n",
    "# I3_data=[[[1,0,0],[0,0,1],[0,1,0]]]\n",
    "\n",
    "#List chip-firing dependant divisors.\n",
    "# I3_data=[[[0,0,0],[2,-1,-1],[-1,0,1]]] #chip firing equiv"
   ]
  },
  {
   "cell_type": "code",
   "execution_count": 60,
   "metadata": {},
   "outputs": [
    {
     "name": "stdout",
     "output_type": "stream",
     "text": [
      "The following are terms which are chip-firing equivelent\n",
      "([0, 0, 0], [2, -1, -1])\n",
      "Total number of cases 1\n",
      "Number of cases that are Dependant 1\n",
      "Number of cases that are Independant 0\n"
     ]
    }
   ],
   "source": [
    "check=main(I3_data)"
   ]
  },
  {
   "cell_type": "markdown",
   "metadata": {
    "tags": []
   },
   "source": [
    "# For $F$ weak stability conditions which are not classical are strong <a name=\"s3\"></a>"
   ]
  },
  {
   "cell_type": "markdown",
   "metadata": {},
   "source": [
    "Let $\\Gamma$ be the graph $F$ given in the thesis.\n",
    "\n",
    "We now apply the same process to each of the $16$ (weak) stability conditions $\\sigma_{\\Gamma}$. \n",
    "\n",
    "We will see that each $\\sigma_{\\Gamma}(\\Gamma)$ is a complete set of representatives for the chip-firing action, and so each $\\sigma_{\\Gamma}$ is a strong stability condition."
   ]
  },
  {
   "cell_type": "code",
   "execution_count": 112,
   "metadata": {},
   "outputs": [
    {
     "data": {
      "image/png": "[encoded data removed]",
      "text/plain": [
       "Graphics object consisting of 15 graphics primitives"
      ]
     },
     "metadata": {},
     "output_type": "display_data"
    }
   ],
   "source": [
    "#Graph of FV examples\n",
    "#For some reason the vertex 1 is vert 0 here, vert 1 is vert 2 and so on. I dont know why it has to be this way.\n",
    "\n",
    "g={0:{2:1,4:1,6:1},\n",
    "   \n",
    "   2:{0:1,3:1,5:1},\n",
    "   \n",
    "   3:{2:1,4:1},\n",
    "   \n",
    "   4:{0:1,3:1,5:1},\n",
    "   \n",
    "   5:{2:1,4:1,6:1},\n",
    "   \n",
    "   6:{5:1,0:1}}\n",
    "\n",
    "S=Sandpile(g,0)\n",
    "# S.show(figsize=3, edge_labels=true)\n",
    "S.show(figsize=3)"
   ]
  },
  {
   "cell_type": "code",
   "execution_count": 113,
   "metadata": {},
   "outputs": [],
   "source": [
    "pickle_in = open(r\"FV_G6M3M14_degen.pkl\", \"rb\")\n",
    "# \"FV_G6M3M14\\FV_G6M3M14_degen.pkl\"\n",
    "\n",
    "data = pickle.load(pickle_in)\n",
    "pickle_in.close()"
   ]
  },
  {
   "cell_type": "code",
   "execution_count": 115,
   "metadata": {},
   "outputs": [],
   "source": [
    "#get all the sigma data as a list of list of divisors on the top: sigma_G(G).\n",
    "sig_l=[]\n",
    "for i in data:\n",
    "    sig=i[1].tolist()\n",
    "    sig_l.append(sig)"
   ]
  },
  {
   "cell_type": "code",
   "execution_count": 122,
   "metadata": {},
   "outputs": [
    {
     "name": "stdout",
     "output_type": "stream",
     "text": [
      "WSC: 0 Complete\n",
      "WSC: 1 Complete\n",
      "WSC: 2 Complete\n",
      "WSC: 3 Complete\n",
      "WSC: 4 Complete\n",
      "WSC: 5 Complete\n",
      "WSC: 6 Complete\n",
      "WSC: 7 Complete\n",
      "WSC: 8 Complete\n",
      "WSC: 9 Complete\n",
      "WSC: 10 Complete\n",
      "WSC: 11 Complete\n",
      "WSC: 12 Complete\n",
      "WSC: 13 Complete\n",
      "WSC: 14 Complete\n",
      "WSC: 15 Complete\n",
      "Total number of cases 16\n",
      "Number of cases that are Dependant 0\n",
      "Number of cases that are Independant 16\n"
     ]
    }
   ],
   "source": [
    "check=main(S,sig_l)"
   ]
  }
 ],
 "metadata": {
  "kernelspec": {
   "display_name": "Python 3 (ipykernel)",
   "language": "python",
   "name": "python3"
  },
  "language_info": {
   "codemirror_mode": {
    "name": "ipython",
    "version": 3
   },
   "file_extension": ".py",
   "mimetype": "text/x-python",
   "name": "python",
   "nbconvert_exporter": "python",
   "pygments_lexer": "ipython3",
   "version": "3.10.8"
  }
 },
 "nbformat": 4,
 "nbformat_minor": 4
}
