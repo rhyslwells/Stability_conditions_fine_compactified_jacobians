{
 "cells": [
  {
   "cell_type": "markdown",
   "id": "f05c88b4",
   "metadata": {
    "tags": []
   },
   "source": [
    "# Overview"
   ]
  },
  {
   "cell_type": "markdown",
   "id": "6d4f6fa6",
   "metadata": {},
   "source": [
    "Let $\\Gamma$ be a graph (without separating edges or separating vertices), $d \\in \\mathbb{Z}$, $T \\in \\mathcal{ST}(\\Gamma)$ and $D_{T} \\in \\operatorname{Div}^{d-b_{1}(\\Gamma)}(\\Gamma)$.\n",
    "\n",
    "In this notebook we implement Algorithim $2$ outlined in Section $4.2$, and then generate $\\mathcal{R}_{\\Gamma,T,D_{T}}^{d}$ and $\\mathcal{S}_{\\Gamma,T,D_{T}}^{d}$ for $\\Gamma$ stated in Section $1.3.1$.\n",
    "\n",
    "\n",
    "Then from $\\mathcal{S}_{\\Gamma,T,D_{T}}^{d}$ we obtain $\\Sigma_{\\Gamma,T,D_{T}}^{d}$ and store this information. "
   ]
  },
  {
   "cell_type": "markdown",
   "id": "51872f22-dbdc-49eb-9efa-138c17293090",
   "metadata": {
    "jp-MarkdownHeadingCollapsed": true,
    "tags": [
     "unfinished"
    ]
   },
   "source": [
    "## Results"
   ]
  },
  {
   "cell_type": "markdown",
   "id": "e13e1bbf-23c9-4a8a-a7f4-587e8cb4c12b",
   "metadata": {
    "tags": [
     "unfinished"
    ]
   },
   "source": [
    "We see that for all graphs considered there are $0$ cases which \"Do NOT produce a stability condition\". Therefore in all cases $\\mathcal{R}_{\\Gamma,T,D_{T}}^{d}=\\mathcal{S}_{\\Gamma,T,D_{T}}^{d}$ providing evidence to the Conjecture $\\mathcal{R}_{\\Gamma,T,D_{T}}^{d}=\\mathcal{S}_{\\Gamma,T,D_{T}}^{d}$."
   ]
  },
  {
   "cell_type": "markdown",
   "id": "f2c3814d",
   "metadata": {
    "jp-MarkdownHeadingCollapsed": true,
    "tags": []
   },
   "source": [
    "## Notes:"
   ]
  },
  {
   "cell_type": "markdown",
   "id": "cf1a279c",
   "metadata": {},
   "source": [
    "0) We outline the implementation of Algorithm $2$ in #Functions and consider the cases in the next section.\n",
    "\n",
    "1) In all cases we let $d=b_{1}(\\Gamma)$.\n",
    "\n",
    "2) We store all ouptuts in the appropriate folder of \"\\Graph\\graph_stability_conditions\" as a text file.\n",
    "   \n",
    "3) We also store the output as pkl file in \"\\Stability_Conditions\\Graph\\phi_investigation\\examples\" in order to determine $P_{ST}^{\\sigma_{\\Gamma}}$ for each $\\sigma_{\\Gamma} \\in \\Sigma_{\\Gamma,T,D_{T}}^{d}$.\n",
    "\n",
    "4) The data is also stored in pkl format in \"\\Stability_Conditions\\Graph\\find_cycles\\examples\" if one wants to determine the $\\tau \\in C_{L|N(\\Gamma_0)}$ for each $\\Gamma_0 \\in \\Gamma_{(1)}$."
   ]
  },
  {
   "cell_type": "markdown",
   "id": "8fbbcd89",
   "metadata": {
    "tags": [
     "done"
    ]
   },
   "source": [
    "# Table of contents"
   ]
  },
  {
   "cell_type": "markdown",
   "id": "654a31e8-b59a-450b-b274-4034bc5e1656",
   "metadata": {
    "tags": []
   },
   "source": [
    "1. [Functions](#s2)\n",
    "    3. [Main Functions: Implmentation of Algorithm $2$](#s21)\n",
    "    4. [Secondary Fucntions](#s22)\n",
    "2. [Determining $\\Sigma_{\\Gamma,T,D_{T}}^{d}$ for $\\Gamma$ in thesis](#s1)\n",
    "    1. [Stability conditions for $n$-necklace graphs for $3 \\le n \\le 7$](#s11)\n",
    "    2. [Stability conditions for $\\Gamma_{k_1 k_2 k_3}$ with $k_1=1$ and $k_2\\ge 2$](#s12)\n",
    "    3. [Stability conditions for $\\Gamma_{k_1 k_2 k_3}$ with $k_1 \\ge 2$](#s13)\n",
    "    4. [Stability conditions for $G_1,G_2,G_3$ and $F$](#s14)"
   ]
  },
  {
   "cell_type": "markdown",
   "id": "51dec732",
   "metadata": {
    "tags": []
   },
   "source": [
    "# Functions <a name=\"s2\"></a>"
   ]
  },
  {
   "cell_type": "markdown",
   "id": "33689b53",
   "metadata": {
    "jp-MarkdownHeadingCollapsed": true,
    "tags": []
   },
   "source": [
    "## Used Throughout"
   ]
  },
  {
   "cell_type": "code",
   "execution_count": null,
   "id": "737213ae",
   "metadata": {
    "tags": []
   },
   "outputs": [],
   "source": [
    "import numpy as np\n",
    "import networkx as nx\n",
    "from collections import Counter\n",
    "import itertools \n",
    "import random\n",
    "from itertools import combinations, permutations\n",
    "import sys\n",
    "import pickle"
   ]
  },
  {
   "cell_type": "markdown",
   "id": "3e8499bd-93e8-4112-8798-755a2a3aed98",
   "metadata": {
    "tags": [],
    "toc-hr-collapsed": true
   },
   "source": [
    "## Main Functions: Implementation of Algo 2 <a name=\"s21\"></a>"
   ]
  },
  {
   "cell_type": "markdown",
   "id": "33b5487c-49fa-4d05-9173-be44b629c173",
   "metadata": {},
   "source": [
    "We now explain the implmentation of Algorithm $2$ focusing on the most important function. The main function which determines $\\mathcal{R}_{\\Gamma,T,D_{T}}^{d}$ is the following."
   ]
  },
  {
   "cell_type": "code",
   "execution_count": null,
   "id": "a7b1961a",
   "metadata": {
    "tags": [
     "unfinished"
    ]
   },
   "outputs": [],
   "source": [
    "def get_all_assingment_datum(G,T,starting_ass=None):\n",
    "    \n",
    "    \"\"\"\n",
    "    Returns:\n",
    "        a list of all assignment datum to be tested for size.\n",
    "    # Inputs:\n",
    "        # G #main graph\n",
    "        # T #fixed tree with assignment 0\n",
    "        #start_ass= is a np.array([a,b,..]) of length the number of vertices of G if none then takes all 0 assignment.\n",
    "    \"\"\"\n",
    "    \n",
    "    #Initalisation:\n",
    "    vert_num_G=len(G.vertices()) #subg is spanning so all verts of G\n",
    "    if starting_ass==None:\n",
    "        starting_ass=np.array([0]*vert_num_G)\n",
    "    subgraphs= get_subgraphs_gm1_Edgesmissing(G) #\\tilde{G} the subgraphs T\\cup e.\n",
    "    k_G=len(list(G.spanning_trees()))# number of spanning trees\n",
    "    M=[(T,[starting_ass])] #Memory <--- Starting case\n",
    "\n",
    "    print(\"Length of Assignments I WANT:\",k_G)\n",
    "\n",
    "    #Main loop\n",
    "    \"We now work to obtain the List of all assignments\"\n",
    "    partial_all_assignments=[M] #Main object we want to build, with starting case.\n",
    "    \n",
    "    #! Replace counter1 with a given T_base.\n",
    "    T_base=T # Runs over spanning trees to which we have assignments for, until $|M|=k(\\Gamma)$.\n",
    "    T_base_memory=[T_base]\n",
    "    ass_selector=0\n",
    "    \"\"\"Once we have all trees in the assingment we are done\"\"\"\n",
    "        \n",
    "    while len(partial_all_assignments[0])!=k_G: \n",
    "        \n",
    "        subg_l_contain_T=[subg for subg in subgraphs if T_base.is_subgraph(subg, induced=False)]   # subgraphs that contain T.\n",
    "\n",
    "        updated_partial_all_assignments=[]\n",
    "        for ind,M in enumerate(partial_all_assignments):\n",
    "            \n",
    "            #For when taking long: to measure\n",
    "            check_progress(ind, len(partial_all_assignments))   \n",
    "\n",
    "            \"\"\"we now obtain a list of all assignments obtained by extending assignment M by searching through subg containing T\n",
    "            for different cycles.\"\"\"\n",
    "            Extensions_M_by_T=Exhaustive_method(M,T_base,ass_selector,subg_l_contain_T) # A list of list=[(T,ass_t)| for some subset of trees]\n",
    "            print(ind)\n",
    "            updated_partial_all_assignments.extend(Extensions_M_by_T)\n",
    "            \n",
    "        print(f\"Finished iterating through the loop of {len(partial_all_assignments)} partial_all_assignments\")\n",
    "        \n",
    "#         \"\"\"We now update partial_all_assignments to updated_partial_all_assignments, which have assignments on new trees contained in subg containing T.\"\"\"\n",
    "        partial_all_assignments=updated_partial_all_assignments\n",
    "        \n",
    "        print(\"Number of partial assignments: Before:\",len(partial_all_assignments))\n",
    "\n",
    "        #---optimisation step 1\n",
    "\n",
    "        #! we update T_base\n",
    "        #Take last item of first partial_assignment (for all partial assignment have the same last tree)\n",
    "        T_base,ass_selector=get_T_base(T_base_memory,partial_all_assignments[0],subgraphs)\n",
    "        T_base_memory.append(T_base)\n",
    "        \n",
    "        ##!! Apply condition that reduces the number of partial_all_assignments by checking that these are a wsc for the graph G_p containing the edges in the spanning trees.\n",
    "\n",
    "        #preamble\n",
    "        partial_ass=partial_all_assignments[0] #tale first one, all elements of partial_all_assignments have the same trees.\n",
    "        ST_partial = list({pair[0].copy(immutable=True) for pair in partial_ass})\n",
    "        \n",
    "        #---optimisation step 2\n",
    "        \n",
    "        # Muiti condition #list of subgraphs # change 1 to 2 ect if below is zero.\n",
    "\n",
    "        i=get_i_level_G_p(G,ST_partial)\n",
    "        \n",
    "        subg_l_G_p=get_G_p(i,G,ST_partial) #list of subgraphs # change 1 to 2 ect if below is zero.\n",
    "        \n",
    "        print(f\"Number of G_p graphs: {len(subg_l_G_p)}\")\n",
    "\n",
    "        for ind,G_p in enumerate(subg_l_G_p):\n",
    "            \"\"\"\n",
    "            for the list of largest spanning connected subgraph of G contained in ST_partial, then take saturation \n",
    "            #this must be a stability condition, only take those assignments for which it is.\n",
    "            \"\"\"\n",
    "\n",
    "            #get G_p_ST_partial: is it necessary that G_p_ST_partial is appropriately ordered?\n",
    "            G_p_ST_partial=[t.copy(immutable=True) for t in G_p.spanning_trees()]\n",
    "\n",
    "            #Want to avoid when  G_p is G?\n",
    "            partial_all_assignments=reduced(G_p_ST_partial,G_p,partial_all_assignments)\n",
    "            print(f\"{ind}: Number of partial assignments: After refinement: {len(partial_all_assignments)}\")\n",
    "        #------------------------------\n",
    "\n",
    "            \n",
    "        print(\"Final: Number of partial assignments: After:\",len(partial_all_assignments),\"\\n\")\n",
    "\n",
    "        print(\"Length of assignments-----------------\",len(partial_ass))\n",
    "        \n",
    "        \n",
    "    return partial_all_assignments"
   ]
  },
  {
   "cell_type": "markdown",
   "id": "c0bc962b-6e8e-47e3-9d11-6f54b4fc31d6",
   "metadata": {},
   "source": [
    "The main subfunction of the above method is Exhaustive\\_method(). The inputs of which are:\n",
    "\n",
    "1. M, an element of the set $\\mathcal{R}_{k-1}$ i.e. a compatible set $ R=\\{A_{\\Gamma_0}\\}_{\\Gamma_0 \\in B_{k-1}}$ (seen as a single induced function). We think of  $R$ as a \"partial tree assignment\".\n",
    "\n",
    "2. T\\_base is the fixed T of step $S_{k}(1)$ of Algorithm $2$, ass\\_selector is the index of T\\_base in the partial tree assignment M.\n",
    "\n",
    "3. subg\\_l\\_contain\\_T is the set $\\Gamma_{(1)}(T)$."
   ]
  },
  {
   "cell_type": "code",
   "execution_count": null,
   "id": "b4379684-249a-421e-bf0b-155f6686d18f",
   "metadata": {
    "tags": []
   },
   "outputs": [],
   "source": [
    "def Exhaustive_method(M,T_base,ass_selector,subg_l_contain_T):#draft2\n",
    "    \n",
    "    \"\"\"\n",
    "    #Main function for get_all_assingment_datum.\n",
    "    \n",
    "    Inputs: M is a list of tuples (T,Ass_T) ie a partial_assignment M.\n",
    "    Returns: All extensions of M (Extensions_M_by_T) compatible with T=M[counter][0] iterating over all subgraphs.\n",
    "    i.e. A list of lists of the form [(T,ass_T)| for some subset of T's]\n",
    "    \"\"\"\n",
    "    \n",
    "    #Initialisation:\n",
    "    \n",
    "    pair=M[ass_selector]\n",
    "    common_tree=T_base\n",
    "    [common_tree_assingment]=pair[1] #this is a list,ass there can be multiple assingmnets so need to unpack\n",
    "\n",
    "    \"\"\"We now build the extensions of M per subgraph\"\"\"\n",
    "\n",
    "    pre_Extensions_M_by_T=[M] #Initial case for building updated_pre_Extensions_M_by_T\n",
    "    \n",
    "    for subg in subg_l_contain_T:\n",
    "        #Initailisation:\n",
    "        vert_num_G=len(list(subg.vertices()))\n",
    "        tails=get_tails(subg)\n",
    "        [edges_subnecklace]=subg.cycle_basis(output='edge') #return cycle of subgnecklace\n",
    "        n=len(edges_subnecklace)#length of subnecklace\n",
    "        \n",
    "        if len(pre_Extensions_M_by_T)==0:\n",
    "            break\n",
    "            \n",
    "#         if skipping_subg_we_know(subg,pre_Extensions_M_by_T[0]): #if we already know the assingments for all trees in subg\n",
    "#             continue\n",
    "\n",
    "        updated_pre_Extensions_M_by_T=[]\n",
    "        for pre_M in pre_Extensions_M_by_T:\n",
    "\n",
    "            Extensions_M_by_T_subg=get_Extensions_M_by_T_subg(pre_M,common_tree,common_tree_assingment,subg,n,tails)\n",
    "            \n",
    "            if Extensions_M_by_T_subg==None:\n",
    "                updated_pre_Extensions_M_by_T=updated_pre_Extensions_M_by_T\n",
    "            else:\n",
    "                updated_pre_Extensions_M_by_T=updated_pre_Extensions_M_by_T+Extensions_M_by_T_subg\n",
    "\n",
    "        pre_Extensions_M_by_T=updated_pre_Extensions_M_by_T #Overriding existing, so have updated pre_Extensions_M_by_T for next subgraph.\n",
    "\n",
    "    \"\"\"After iterating through all subgraphs we have the list of all extensions of M from T.\"\"\"\n",
    "    Extensions_M_by_T=pre_Extensions_M_by_T \n",
    "\n",
    "    \n",
    "    return Extensions_M_by_T"
   ]
  },
  {
   "cell_type": "markdown",
   "id": "70c897dd-7086-44b7-822e-7ec35394a98c",
   "metadata": {},
   "source": [
    "The function Exhaustive\\_method does part of step $S_{k}(2)$ of algorithim $2$ for a particular $R \\in \\mathcal{R}_{k-1}$. In particular it determines via get_Extensions\\_M\\_by\\_T\\_subg, the set \n",
    "\n",
    "$$\\{\\text{compatible } R \\cup E \\mid E \\in \\mathcal{E}_{k-1} \\}$$\n",
    "\n",
    "it does so by recursively constructing compatible $R \\cup E$ by:\n",
    "\n",
    "A1) fixing $R$ (called pre\\_M) then with get_Extensions_M_by_T_subg() determines for a fixed $\\Gamma_0 \\in \\Gamma_{(1)}(T)$  the set of all $A_{\\Gamma_0}$  which are compatible with $R$.\n",
    "    it then determines the set of all $R \\cup \\{A_{\\Gamma_0}\\}$.\n",
    "\n",
    "A2) it repeats this process with $R \\cup \\{A_{\\Gamma_0}\\}$ instead of $R$ and so on until we have considered all $\\Gamma_0 \\in \\Gamma_{(1)}(T)$. It then returns\n",
    "\n",
    "$$\\{\\text{compatible } R \\cup E \\mid E \\in \\mathcal{E}_{k-1} \\}$$\n",
    "\n"
   ]
  },
  {
   "cell_type": "markdown",
   "id": "88f9572e-e705-49ff-a03d-fdf025932143",
   "metadata": {},
   "source": [
    "The function get\\_Extensions\\_M\\_by\\_T\\_subg main inputs are:\n",
    "\n",
    "1. pre_M : which in the case of A1) is $R$.\n",
    "2. common_tree is the fixed tree $T$ given by T\\_base.\n",
    "3. common_tree_assingment the value of $D_{T}$ given by considering $R$ on $T$.\n",
    "4. subg: a fixed $\\Gamma_0 \\in \\Gamma_{(1)}(T)$\n",
    "5. $n=|N(\\Gamma_0)|$.\n",
    "6. tails: the separating edges of $\\Gamma_0$."
   ]
  },
  {
   "cell_type": "code",
   "execution_count": null,
   "id": "0f613c36-744d-4e68-9038-d273ef6fcdc3",
   "metadata": {
    "tags": []
   },
   "outputs": [],
   "source": [
    "def get_Extensions_M_by_T_subg(pre_M,common_tree,common_tree_assingment,subg,n,tails):\n",
    "    \"\"\"\n",
    "    Returns: a list of all (different) extensions of M (a list of tuples) (used to obtain Extensions_M_by_T) compatible with T=M[counter][0] iterating over a single subgraph. \n",
    "    By considering all cycles that work with M and labeling of In both ways.\n",
    "\n",
    "    Returns a list of objects the form:\n",
    "    [(T,Ass_T) for pre_M, (T,Ass_T) for cycle where we take cycles that work]\n",
    "    and [(T,Ass_T) for pre_M, (T,Ass_T) for cycle where we take cycles that work] for taking the oppositie labeling for In.\n",
    "    \"\"\"\n",
    "\n",
    "    Extensions_M_by_T_subg=[]\n",
    "    relabler=get_relabler(subg,common_tree)\n",
    "    valid_M1=running_cycles(pre_M,n,relabler,tails,common_tree_assingment,change_relabler=False)\n",
    "    if valid_M1!=None:\n",
    "        Extensions_M_by_T_subg.extend(valid_M1) #valid_M1 is a list\n",
    "        return Extensions_M_by_T_subg\n",
    "    \n",
    "    if valid_M1==None:\n",
    "        return None"
   ]
  },
  {
   "cell_type": "markdown",
   "id": "80ad866a-6327-4882-933d-a6d063fc1507",
   "metadata": {},
   "source": [
    "The main function of get_Extensions_M_by_T_subg() is running_cycles().\n",
    "\n",
    "To understand this function let us consider A1. above, and fix a $\\Gamma_0 \\in \\Gamma_{(1)}(T)$. \n",
    "\n",
    "The function running_cycles() determines the set of compatibility of $R \\cup \\{A_{\\gamma_0}\\}$. By first determining the sets $R \\cup \\{A_{\\Gamma_0}\\}$ where each $A_{\\Gamma_0}$ is given by a $\\tau_{\\Gamma_0} \\in C_{L|_{N(\\Gamma_0)}}$ (where we use $T$ from T\\_base, and $D_{T}$ from $R$ on T\\_base) and then checks compatibility of $R \\cup \\{A_{\\Gamma_0}\\}$."
   ]
  },
  {
   "cell_type": "code",
   "execution_count": null,
   "id": "6efd9d78-6dfa-4577-8784-4dcf59971d18",
   "metadata": {},
   "outputs": [],
   "source": [
    "def running_cycles(M,n,relabler,tails,common_tree_assingment,change_relabler): # For Exhaustive method function.\n",
    "\n",
    "    \"\"\"\n",
    "    Obj: Run through all cycles for this subnecklace (genus $1$ method to calculate assignments)\n",
    "    Then compare these new assignments (for trees in subg) to previous assignment datum M and check size is 1. \n",
    "    Returns:A list the extensions of an assignment M, for a given subgraph.\n",
    "    \"\"\"\n",
    "    valid_M=[]\n",
    "    for cycle in get_cycles(int(n)):\n",
    "\n",
    "        data_subg=get_ass_trees_subg(cycle,relabler,tails,common_tree_assingment)\n",
    "\n",
    "        \"\"\"append data_subg to $M$ Increasing the size of $|Ass(T^{'})|$ if necessary. \n",
    "        The below code may (see append_to_list) (Think this is fixed now) inadvertantly result in M[counter][0] \\ne M'[counter][0] see change_to_get_trees. \n",
    "        We only appends to assignments data for trees which we knoe in M and keep tree same, we append new (T,ass_T).\"\"\"\n",
    "        \n",
    "        if change_relabler==True:\n",
    "            result = append_to_list(copy(M), data_subg,change_relabler=True) \n",
    "        else:\n",
    "            result = append_to_list(copy(M), data_subg,change_relabler=False) \n",
    "\n",
    "        \"Check if, for $M$ we have $|Ass(T)|=1$ for all $T$.\"\n",
    "        if check_tuple_size(result)==True:\n",
    "            valid_M.append(result)\n",
    "            \n",
    "    if len(valid_M)>0:\n",
    "        return valid_M \n",
    "    \n",
    "    return None"
   ]
  },
  {
   "cell_type": "markdown",
   "id": "0c0c4f18-9b8e-438d-b93f-467cb44d5a04",
   "metadata": {},
   "source": [
    "The main subfunction of running_cycles is get_ass_trees_subg which returns a $A_{\\Gamma_0}$ via the genus $1$ construction in Section $4.1$."
   ]
  },
  {
   "cell_type": "code",
   "execution_count": null,
   "id": "1b36afb3-39e2-4e3a-bef3-9dea7f768da5",
   "metadata": {
    "tags": []
   },
   "outputs": [],
   "source": [
    "def get_ass_trees_subg(cycle,relabler,tails,common_tree_assingment): #For running_cycles\n",
    "    \n",
    "    \"\"\"\n",
    "    #Obj: Using a cycle to get all tranlsated $Ass(T^{'})$ for all $T^{'}$ in a specific subg.\n",
    "    #return: list of $(T^{'},Ass(T^{'}))$ for subg\n",
    "    \"\"\"\n",
    "    data=change_to_get_trees(cycle) #get assingment data for In graph first\n",
    "\n",
    "    #relabel tree of In to trees of subnecklace of subg.\n",
    "    temp_data=get_temp_data(relabler,data)\n",
    "\n",
    "    \"\"\"For the trees we add back the tails of the subgraph relative to the subnecklace.\"\"\"\n",
    "    #Now extend the tree of temp_data to tails only (dont bother assingments yet).\n",
    "    extendtails_temp_data=extend_trees_subnecklace_to_tails(temp_data,tails)\n",
    "\n",
    "    \"\"\"#6) Extend and Tranlsated $Ass(T^{'})$ by $Ass(T)$ (a generalisation of $\\theta_{i}$ in genus $2$)\"\"\"\n",
    "    final_data=Extend_relabel_assignments(extendtails_temp_data,common_tree_assingment,relabler)\n",
    "    data_subg=final_data #list of data for subg that we wish to glue onto M\n",
    "\n",
    "    return data_subg"
   ]
  },
  {
   "cell_type": "markdown",
   "id": "2f57fb0e-7d5a-40ea-9d2c-758b6ec1ee6d",
   "metadata": {},
   "source": [
    "The above functions allow get\\_all\\_assingment\\_datum to return the set $\\mathcal{R}_{\\Gamma,T,D_{T}}^{d}$. Given the set $\\mathcal{R}_{\\Gamma,T,D_{T}}^{d}$ it remains to ask the following: is $\\mathcal{R}_{\\Gamma,T,D_{T}}^{d}=\\mathcal{S}_{\\Gamma,T,D_{T}}^{d}$? To do so we use condition\\_checker to check that if each $A_{\\Gamma} \\in \\mathcal{R}_{\\Gamma,T,D_{T}}^{d}$ is also a member of $\\mathcal{S}_{\\Gamma,T,D_{T}}^{d}$"
   ]
  },
  {
   "cell_type": "code",
   "execution_count": null,
   "id": "e7faa235-f185-4804-b44e-94fe332a7318",
   "metadata": {
    "tags": []
   },
   "outputs": [],
   "source": [
    "def condition_checker(M): ##Given a Assignment_datum_for_G \n",
    "    #We record the number that work and don't work\n",
    "    N_that_work=[]\n",
    "    N_that_do_not_work=[]\n",
    "\n",
    "    for N in M:\n",
    "        N=[(pair[0].copy(immutable=True),pair[1]) for pair in N]\n",
    "        Assignments=get_assignment_ordered_for_wstab(N,ordering_trees)\n",
    "        sigma=w_stability(G,Assignments)\n",
    "        x,y=check_size(G,sigma)\n",
    "\n",
    "        if x==True:\n",
    "            N_that_work.append((Assignments,sigma))\n",
    "        if x==False:\n",
    "            N_that_do_not_work.append((Assignments,sigma))\n",
    "\n",
    "    print(f\"Of the {len(M)} assignment datums: \\n {len(N_that_work)}: Produce a stability condition \\n {len(N_that_do_not_work)}: Do NOT produce a stability condition\")\n",
    "    return N_that_work,N_that_do_not_work"
   ]
  },
  {
   "cell_type": "markdown",
   "id": "a5b1337b-76e3-41d6-8ce7-2c265aae3c00",
   "metadata": {},
   "source": [
    "The main subfuctions of which is w\\_stability which determines the set $\\sigma_{\\Gamma}^{A_{\\Gamma}}(\\Gamma)$, and check\\_size which ask if $|\\sigma_{\\Gamma}^{A_{\\Gamma}}(\\Gamma)|=k(\\Gamma)$."
   ]
  },
  {
   "cell_type": "code",
   "execution_count": null,
   "id": "1a58e0a7-c62e-4dc3-86a7-06e4ee68f859",
   "metadata": {
    "tags": []
   },
   "outputs": [],
   "source": [
    "def w_stability(graph,Assignments):\n",
    "    \n",
    "    \"\"\"\n",
    "    #Graphs are labelled v0 to v_n-1\n",
    "    Inputs:\n",
    "        graph: Any smallish finite multigraph\n",
    "        Assignments: A list of (complexity of graph many) lists of length vert(graph).\n",
    "    \n",
    "    Outputs: a list of lists of length vert(graph) corresponding to liine bundle multidegrees obtained by chip adding.\n",
    "\n",
    "    \"\"\"\n",
    "    G=graph\n",
    "    \n",
    "    G_edges=G.edges(sort=True, labels=False)\n",
    "    tree_l=get_sp_trees(G)\n",
    "\n",
    "    lbm_patches=[] # the set of patches,which we'll take the union of. \n",
    "    for index,tree in enumerate(tree_l):    \n",
    "        ass=Assignments[index]    \n",
    "        patch=chip_adding(G_edges,tree,ass)  \n",
    "        \n",
    "#         print(\"Patch\",[x.astype(int).tolist() for x in patch],\"\\n\") #If want to see patches of lbm.\n",
    "        \n",
    "        lbm_patches.append(patch)\n",
    "    \n",
    "    sig=np.concatenate(lbm_patches, axis=0)\n",
    "    \n",
    "    sig=sig.astype('int32')\n",
    "    \n",
    "#     print(np.array(sig))\n",
    "    sig=np.unique(sig, axis=0)\n",
    "    \n",
    "    return sig"
   ]
  },
  {
   "cell_type": "code",
   "execution_count": null,
   "id": "ee3667a3-b48b-479c-b45f-6e4c299db98f",
   "metadata": {
    "tags": []
   },
   "outputs": [],
   "source": [
    "def check_size(G,sigma):\n",
    "#     print(\"len(get_sp_trees(G))\",len(get_sp_trees(G)))\n",
    "#     print(\"len(sigma)\",len(sigma))\n",
    "    if len(sigma)==len(get_sp_trees(G)):\n",
    "        x=\"This choice of assignments -- gives -- a stability condition.\"\n",
    "        y=True\n",
    "    else: \n",
    "        x=\"This choice of assignments -- not give -- a stability condition.\"\n",
    "        y= False \n",
    "    return y,x"
   ]
  },
  {
   "cell_type": "markdown",
   "id": "ceba0c3f-62aa-4d46-988a-01724651b3d1",
   "metadata": {
    "tags": [],
    "toc-hr-collapsed": true
   },
   "source": [
    "## Secondary Functions <a name=\"s22\"></a>"
   ]
  },
  {
   "cell_type": "markdown",
   "id": "cc6ca2b3-794d-452a-8940-42ae986dfa68",
   "metadata": {
    "jp-MarkdownHeadingCollapsed": true,
    "tags": [],
    "toc-hr-collapsed": true
   },
   "source": [
    "### For get\\_all\\_assingment\\_datum"
   ]
  },
  {
   "cell_type": "markdown",
   "id": "ce3e94db-ab4d-4a52-875d-42e838d60d93",
   "metadata": {},
   "source": [
    "The following function obtains the set $\\Gamma_{(1)}$ from $\\Gamma$."
   ]
  },
  {
   "cell_type": "code",
   "execution_count": null,
   "id": "493a096e-37da-4946-8ec2-984cb5450dab",
   "metadata": {
    "tags": []
   },
   "outputs": [],
   "source": [
    "#For get_all_assingment_datum: produces all assignments for G.\n",
    "def get_subgraphs_gm1_Edgesmissing(G):\n",
    "    \"\"\"\n",
    "    Objective: Obtains the set of all genus $1$ connected spanning subgraphs of \\Gamma; \\Gamma{(1)}\n",
    "    Input:\n",
    "    Returns: A list of subgraphs\n",
    "    \"\"\"\n",
    "    \n",
    "    edge_num_G=len(G.edges())\n",
    "    vert_num_G=len(G.vertices())\n",
    "    g=edge_num_G-vert_num_G+1\n",
    "    gm1=g-1\n",
    "\n",
    "    E=Set(G.edges()) #remeber possibly mulitgraph\n",
    "    V=G.vertices()\n",
    "\n",
    "    graphs_i_want=[]\n",
    "    for s in E.subsets():\n",
    "        if len(s)==edge_num_G-gm1: # edge_num_G-gm1number of edges of these subgraphs.\n",
    "            H=Graph(multiedges=True)\n",
    "            H.add_edges( s )\n",
    "            H.add_vertices( V )        # are interested only in spanning subgraphs\n",
    "            if H.is_connected(): #Want connected subgraphs\n",
    "                graphs_i_want.append(H)\n",
    "\n",
    "    return graphs_i_want"
   ]
  },
  {
   "cell_type": "markdown",
   "id": "ac8d09e1-a562-46f0-9de6-d6bd3b299d72",
   "metadata": {},
   "source": [
    "As Algorithm $2$ has a high computation time we measure the progress as it computes."
   ]
  },
  {
   "cell_type": "code",
   "execution_count": null,
   "id": "90997f16-d450-470e-9777-4d53db14dcc5",
   "metadata": {
    "tags": []
   },
   "outputs": [],
   "source": [
    "def check_progress(i, k): #for get_all_assingment_datum\n",
    "    progress = (i + 1) / k * 100  # calculate the progress as a percentage\n",
    "    if round(progress) % 10 == 0 and round(progress) != 100:  # check if progress is at 10%, 20%, ..., 90%\n",
    "        print(f\"{i}:{k} Progress: {round(progress)}%\")\n",
    "    return   "
   ]
  },
  {
   "cell_type": "markdown",
   "id": "ad1df965-f94e-4a57-8c5d-11989aab962c",
   "metadata": {
    "jp-MarkdownHeadingCollapsed": true,
    "tags": [
     "done"
    ]
   },
   "source": [
    "#### Optimisation step 1: (Choose optimal trees)"
   ]
  },
  {
   "cell_type": "markdown",
   "id": "ba26d814-cae7-4ee5-b58e-09ce8fc05a28",
   "metadata": {},
   "source": [
    "Recall Remark $4.2.11.$ part 1. The following function allow us to pick a $T_k$ for which $\\Gamma_{(1)}(T_k)$ has minimal intersection with $B_{k-1}$"
   ]
  },
  {
   "cell_type": "code",
   "execution_count": null,
   "id": "4bcdeece-5758-4a62-a84f-c6bd9ac8f183",
   "metadata": {},
   "outputs": [],
   "source": [
    "def get_T_base(T_base_memory, partial_ass, subgraphs):\n",
    "    \"\"\"\n",
    "    Objective: Return the tree 'T_baser' and 'ass_select' that will give subgraphs containing 'T_baser',\n",
    "               which will maximize the number of new trees to extend our partial assignment by.\n",
    "    Inputs:\n",
    "        T_base_memory: Set of trees selected in previous iterations(memorization)\n",
    "        partial_ass: [(T, ass), ..., (T, ass)] # List of trees and assignments\n",
    "        subgraphs: [subg, ..., subg] # List of subgraphs: B{k-1}\n",
    "    \n",
    "    Returns:\n",
    "        T_baser: Tree with maximum new extensions (min intesection)\n",
    "        ass_select: Index of the assignment corresponding to 'T_baser'\n",
    "    \"\"\"\n",
    "    \n",
    "    ST_partial = {pair[0].copy(immutable=True) for pair in partial_ass}\n",
    "\n",
    "    size_inter_prev_min = float('inf')\n",
    "    T_baser = None\n",
    "    \n",
    "    for T in ST_partial: # is never empty.\n",
    "        if T in T_base_memory:\n",
    "            continue\n",
    "        \n",
    "        # Get subgraphs containing T\n",
    "        subg_l_contain_T = [subg for subg in subgraphs if T.is_subgraph(subg, induced=False)] #Gamma_(1)(T_k)\n",
    "\n",
    "        # Collect their trees\n",
    "        union_trees_T = set()\n",
    "        for subg in subg_l_contain_T:\n",
    "            t_l = {tree.copy(immutable=True) for tree in subg.spanning_trees()}\n",
    "            union_trees_T.update(t_l)\n",
    "\n",
    "        # Consider the intersection of trees of #Gamma_(1)(T_k) and trees of B_{k-1} determined by partial tree assingmnet.\n",
    "        inter_T = ST_partial.intersection(union_trees_T) \n",
    "\n",
    "        size_inter_T = len(inter_T)\n",
    "        \n",
    "#         print(\"size_inter_T\", size_inter_T)\n",
    "\n",
    "        # Determine a minimum size of intersection for a given tree.\n",
    "        if size_inter_T < size_inter_prev_min:\n",
    "            T_baser = T\n",
    "            size_inter_prev_min = size_inter_T\n",
    "\n",
    "#     print(\"size_inter_prev_min\", size_inter_prev_min)\n",
    "    \n",
    "    ass_select = None\n",
    "    for idx, (T, ass) in enumerate(partial_ass):\n",
    "        if T == T_baser:\n",
    "            ass_select = idx\n",
    "            break\n",
    "            \n",
    "    return T_baser, ass_select"
   ]
  },
  {
   "cell_type": "markdown",
   "id": "9e9fda58-2f78-4c1c-b3cc-2de9b82a6b74",
   "metadata": {
    "jp-MarkdownHeadingCollapsed": true,
    "tags": [
     "done"
    ]
   },
   "source": [
    "#### Optimisation step 2: (Induced stability condition on subgraphs)"
   ]
  },
  {
   "cell_type": "markdown",
   "id": "4232dacd-ba02-4563-bb06-a98ca17e635a",
   "metadata": {},
   "source": [
    "Recall Remark $4.2.11.$ part 2. In get\\_all\\_assingment\\_datum to reduce the total number of partial tree assingments for the next iteration we use the function reduced, which takes only those partial tree assignments which are weak stability conditions on their (we use largest- one could consider all such subgraphs here and reduce the overall computation time) \n",
    "\n",
    "(1) connected spanning subgraphs $\\Gamma_0$ such that \n",
    "\n",
    "$$\\mathcal{ST}(\\Gamma_0)\\subseteq \\bigcup_{\\Gamma_0 \\in B_{k}}\\mathcal{ST}(\\Gamma_0)).$$\n",
    "\n",
    "The set $\\bigcup_{\\Gamma_0 \\in B_{k-1}}\\mathcal{ST}(\\Gamma_0))$ is the set of all trees of a partial tree assignment before moving onto step $S_{k+1}(1)$."
   ]
  },
  {
   "cell_type": "markdown",
   "id": "83653a6c-6de2-4b1c-93a3-e6f0ea98579f",
   "metadata": {},
   "source": [
    "Before we apply reduced we first obtain the set of connected spanning subgraphs to which it iterates over."
   ]
  },
  {
   "cell_type": "markdown",
   "id": "cd7529f2-205d-4efd-abde-d3373bf382ed",
   "metadata": {},
   "source": [
    "We don't consider all (1) we only consider the largest. We first the number of missing edges for one of the largest (1) and denote as $i$, and then consider the set of connected spanning subgraphs with $i$ edges removed from $\\Gamma$ and then select the set of largest (1)."
   ]
  },
  {
   "cell_type": "code",
   "execution_count": null,
   "id": "d0d0af64",
   "metadata": {
    "tags": []
   },
   "outputs": [],
   "source": [
    "def get_i_level_G_p(G,ST_partial):#DFN #multi condition\n",
    "    \n",
    "    \"\"\"\n",
    "    Obj: Returns the level Gamma(i) for which there exists a Gp such that ST(G_p) is containied in ST_partial\n",
    "    \n",
    "    input: \n",
    "    ST_partial: list of spanning trees of partial_ass =[(T,ass),...]\n",
    "    G is total graph.\n",
    "    i=1 for Gamma(g-1) graphs\n",
    "    \n",
    "    returns\n",
    "    \"\"\"\n",
    "    #init:\n",
    "    edge_num_G=len(G.edges())\n",
    "    vert_num_G=len(G.vertices())\n",
    "    g=edge_num_G-vert_num_G+1\n",
    "    \n",
    "    set_ST_partial = set(ST_partial)\n",
    "\n",
    "    \n",
    "    for i in range(g-1,0,-1):\n",
    "        for subg in get_subgraphs_gmi_Edgesmissing(g-i,G):\n",
    "            subg_trees=set([ t.copy(immutable=True) for t in subg.spanning_trees()])\n",
    "            check=subg_trees.issubset(set_ST_partial)\n",
    "            if check==True:\n",
    "                return i"
   ]
  },
  {
   "cell_type": "markdown",
   "id": "1a13a04b-7ea7-46af-bc8d-677269c5a0ea",
   "metadata": {},
   "source": [
    "We have the following function to determine the set of connected spanning subgraphs of $\\Gamma$ with $i$ missing edges."
   ]
  },
  {
   "cell_type": "code",
   "execution_count": null,
   "id": "99c694fc-444f-465a-b011-b0c291c823b1",
   "metadata": {
    "tags": []
   },
   "outputs": [],
   "source": [
    "def get_subgraphs_gmi_Edgesmissing(i,G):\n",
    "    \n",
    "    \n",
    "    # Returns Gamma(i)\n",
    "    #i=0 gives trees, i=1 gives Gamma(1), and so on..\n",
    "    #1 le i le g-1\n",
    "        \n",
    "    edge_num_G=len(G.edges())\n",
    "    vert_num_G=len(G.vertices())\n",
    "    g=edge_num_G-vert_num_G+1\n",
    "    gm1=g-i\n",
    "\n",
    "    E=Set(G.edges()) #remeber possibly mulitgraph\n",
    "    V=G.vertices()\n",
    "\n",
    "    graphs_i_want=[]\n",
    "    for s in E.subsets():\n",
    "        if len(s)==edge_num_G-gm1: # edge_num_G-gm1number of edges of these subgraphs.\n",
    "            H=Graph(multiedges=True)\n",
    "            H.add_edges( s )\n",
    "            H.add_vertices( V )        # are interested only in spanning subgraphs\n",
    "            if H.is_connected(): #Want connected subgraphs\n",
    "                graphs_i_want.append(H)\n",
    "\n",
    "    return graphs_i_want"
   ]
  },
  {
   "cell_type": "markdown",
   "id": "4ba7c960-6dc6-4dd9-bbf5-3f5ee288c9af",
   "metadata": {},
   "source": [
    "We have the following function to determine the set of connected spanning subgraphs of $\\Gamma$ with $i$ missing edges and\n",
    "\n",
    "$$\\mathcal{ST}(\\Gamma_0)\\subseteq \\bigcup_{\\Gamma_0 \\in B_{k-1}}\\mathcal{ST}(\\Gamma_0)).$$"
   ]
  },
  {
   "cell_type": "code",
   "execution_count": null,
   "id": "7811d42b",
   "metadata": {
    "tags": []
   },
   "outputs": [],
   "source": [
    "def get_G_p(i,G,ST_partial):#DFN #multi condition\n",
    "    \n",
    "    \"\"\"\n",
    "    Obj: Returns a list of e largest spanning connected subgraph of G, denoted by G_p, such that ST(G_p) is containied in ST_partial\n",
    "    \n",
    "    input: \n",
    "    ST_partial: list of spanning trees of partial_ass =[(T,ass),...], ie spanning trees of \\Gamma0 considered so far.\n",
    "    G is total graph.\n",
    "    i=1 for Gamma(g-1) graphs\n",
    "    \n",
    "    returns\n",
    "    \"\"\"\n",
    "    #init:\n",
    "    edge_num_G=len(G.edges())\n",
    "    vert_num_G=len(G.vertices())\n",
    "    g=edge_num_G-vert_num_G+1\n",
    "    \n",
    "    \n",
    "    set_ST_partial = set(ST_partial)\n",
    "\n",
    "    subg_l=[]\n",
    "    for subg in get_subgraphs_gmi_Edgesmissing(g-i,G):\n",
    "        subg_trees=set([ t.copy(immutable=True) for t in subg.spanning_trees()])\n",
    "        check=subg_trees.issubset(set_ST_partial)\n",
    "        if check==True:\n",
    "            subg_l.append(subg)\n",
    "            \n",
    "    if len(subg_l)==0:\n",
    "        return None\n",
    "    else:   \n",
    "        return subg_l"
   ]
  },
  {
   "cell_type": "markdown",
   "id": "602bc111-e97d-4001-95e4-54b986da6ec0",
   "metadata": {},
   "source": [
    "Now that we have the set of connected spanning subgraphs to which reduce is applied to we now discuss the function reduced.\n",
    "\n",
    "For each such subgraph $\\Gamma_0$ we obtain $\\mathcal{ST}(\\Gamma_0)$ and for all partial tree assignments we ask whether the partial tree assignment restricted to $\\mathcal{ST}(\\Gamma_0)$, denoted as $A_{\\Gamma_{0}}$ induces a weak stability condition on $\\Gamma_0$."
   ]
  },
  {
   "cell_type": "code",
   "execution_count": null,
   "id": "1a355b6f-d472-45a5-b736-28f6d59963e9",
   "metadata": {
    "tags": []
   },
   "outputs": [],
   "source": [
    "def reduced(G_p_ST_partial,G_p,partial_all_assignments): #Main condition to reduce assignments in get_all_assingment_datum\n",
    "    \n",
    "    \"\"\"\n",
    "    Obj: Total function to apply p_condition_checker to partial_all_assignments.\n",
    "    inputs: partial_all_assignments\n",
    "    returns: reduced list of partial_all_assignments for those that are wsc for G_p.\n",
    "    \"\"\"\n",
    "    red_partial_all_assignments=[]\n",
    "    \n",
    "    for partial in partial_all_assignments:\n",
    "        \n",
    "        check = p_condition_checker(G_p_ST_partial,G_p,partial)\n",
    "        \n",
    "#         print(\"here?1 \\n\\n\\n\")\n",
    "        \n",
    "        if check != None:\n",
    "            red_partial_all_assignments.append(check)\n",
    "            \n",
    "#     print(\"here?2\")\n",
    "\n",
    "    return red_partial_all_assignments\n",
    "\n",
    "    sigma=p_w_stability(G_p_ST_partial,G_p,Assignments) #"
   ]
  },
  {
   "cell_type": "markdown",
   "id": "1f88963d-a533-4ae0-9e5f-788a530abdf7",
   "metadata": {},
   "source": [
    "We do this in order to take the associated assingment induced datum and check that it is a stabiltiy condition."
   ]
  },
  {
   "cell_type": "markdown",
   "id": "8a165cc2-08e8-41bb-8601-292a17d31cc7",
   "metadata": {},
   "source": [
    "The following functions determine whether we have  $\\sigma_{\\Gamma}^{A_{\\Gamma_0}}(\\Gamma_0)|=k(\\Gamma_0)$ for each partial tree assignment."
   ]
  },
  {
   "cell_type": "code",
   "execution_count": null,
   "id": "ff1b4d17-2a33-41ba-b88b-9c5fb22be134",
   "metadata": {
    "tags": []
   },
   "outputs": [],
   "source": [
    "def p_condition_checker(G_p_ST_partial,G_p,partial):# reduced(partial_all_assignments)\n",
    "    \n",
    "    \"\"\"\n",
    "    Obj:  Given a AssignmentdatumforG  #We record those that give a wsc\n",
    "\n",
    "    Input:\n",
    "    \n",
    "    partial_ass =[(T,ass),...] of length le ST(G).\n",
    "    \n",
    "    ST_partial= list of spanning trees in partial_ass\n",
    "    \n",
    "    Returns:partial_ass if is a choice of assignments for a wsc.\n",
    "    \"\"\"\n",
    "    \n",
    "    #From partial only want those (T,ass) for trees in G_p_ST_partial.\n",
    "\n",
    "    \n",
    "    G_p_partial = [pair for T in G_p_ST_partial for pair in partial if T == pair[0]]\n",
    "#     print(\"G_p_partial\",G_p_partial)\n",
    "    \n",
    "    Assignments=get_assignment_ordered_for_wstab(G_p_partial,G_p_ST_partial)\n",
    "    \n",
    "#     print(\"Assignments\",Assignments)\n",
    "    #Want to reduce the number of calc so\n",
    "    \n",
    "    sigma=p_w_stability(G_p_ST_partial,G_p,Assignments) #\n",
    "    \n",
    "    x,y=check_size(G_p,sigma)\n",
    "\n",
    "    if x==True:\n",
    "        return partial #want to return whole even though checked part.\n",
    "    if x==False:\n",
    "        return None\n",
    "\n",
    "def p_w_stability(G_p_ST_partial,G_p,Assignments):\n",
    "    \n",
    "    \"\"\"\n",
    "    #Graphs are labelled v0 to v_n-1\n",
    "    Inputs:\n",
    "        graph: Any smallish finite multigraph\n",
    "        Assignments: A list of (complexity of graph many) lists of length vert(graph).\n",
    "    \n",
    "    Outputs: a list of lists of length vert(graph) corresponding to liine bundle multidegrees obtained by chip adding.\n",
    "\n",
    "    \"\"\"\n",
    "    \n",
    "    G_edges=G_p.edges(sort=True, labels=False)\n",
    "#     print(\"G_edges\",G_edges)\n",
    "\n",
    "#     print(\"G_edges\",G_edges)\n",
    "    # ST_partial=get_sp_trees(G)\n",
    "\n",
    "    lbm_patches=[] # the set of patches,which we'll take the union of. \n",
    "    for index,tree in enumerate(G_p_ST_partial):    \n",
    "        ass=Assignments[index]  \n",
    "        \n",
    "#         print(\"ass\",ass)\n",
    "        \n",
    "        tree_e=tree.edges(sort=True, labels=False)\n",
    "        \n",
    "        patch=chip_adding(G_edges,tree_e,ass)  #!!!! <-Sort if taking long\n",
    "        \n",
    "#         print(\"tree\",tree.edges())\n",
    "#         print(np.unique(patch, axis=0),\"\\n\")\n",
    "                \n",
    "        lbm_patches.append(patch)\n",
    "    \n",
    "    sig=np.concatenate(lbm_patches, axis=0)\n",
    "    \n",
    "    sig=sig.astype('int32')\n",
    "    \n",
    "#     print(np.array(sig))\n",
    "    sig=np.unique(sig, axis=0)\n",
    "\n",
    "#     print(\"sig\",len(sig),sig)\n",
    "\n",
    "    return sig"
   ]
  },
  {
   "cell_type": "markdown",
   "id": "0468792d-3db1-4745-834a-933e8828d962",
   "metadata": {},
   "source": [
    "### For Exhaustive\\_method"
   ]
  },
  {
   "cell_type": "markdown",
   "id": "aef0aa4a-b8f8-43b3-89b2-1d929930b14f",
   "metadata": {},
   "source": [
    "In Exhaustive\\_method, for a fixed $\\Gamma_0 \\in \\Gamma_{(1)}(T_k)$, to consider $C_{L|_{N(\\Gamma_0)}}$ we need $N(\\Gamma_0)$. Therefore we select the separating edges of $\\Gamma_0$ so we can remove them."
   ]
  },
  {
   "cell_type": "code",
   "execution_count": null,
   "id": "084a5a18-0255-4fee-b33d-3ffda698ef55",
   "metadata": {},
   "outputs": [],
   "source": [
    "#for subg in subg_l_contain_T: loop\n",
    "def get_tails(subg):\n",
    "    #tails = edges with vertices outside of subnecklace. \n",
    "    #return multigraph of tails after removing edges of subnecklace.\n",
    "\n",
    "    subg_edges=subg.edges()\n",
    "    #Subnecklace edges\n",
    "    [edges_subnecklace]=subg.cycle_basis(output='edge')\n",
    "\n",
    "    #Get tails\n",
    "    tails_subg=copy(subg)\n",
    "    tails_subg.delete_edges(edges_subnecklace) #order of the edges must matter.\n",
    "\n",
    "    return tails_subg"
   ]
  },
  {
   "cell_type": "markdown",
   "id": "c00308dc-be56-44f1-9c8a-4480ac754de0",
   "metadata": {
    "tags": []
   },
   "source": [
    "### For running_cycles"
   ]
  },
  {
   "cell_type": "markdown",
   "id": "95ae0e6c-ac64-40ef-8aa4-efeadb4b185c",
   "metadata": {},
   "source": [
    "To get all $\\tau_{\\Gamma_0} \\in C_{L_{N(\\Gamma_0)}}$ (in the setting of Section $4.1$) we use the following:"
   ]
  },
  {
   "cell_type": "code",
   "execution_count": 1,
   "id": "81890d8b-b52a-4a4c-9a11-c3cbb8e5192e",
   "metadata": {},
   "outputs": [],
   "source": [
    "def get_cycles(n):\n",
    "    lst = list(range(1, n + 1))\n",
    "    x = permutations(lst, n)\n",
    "    y = [i for i in x if i[0] == 1]\n",
    "\n",
    "    #Does:\n",
    "    # x=permutations([1,2,3,4,5],5)\n",
    "    # y=[i for i in x if i[0]==1]\n",
    "    # # print(len(y))\n",
    "    # for i in y:\n",
    "    #     print(i)\n",
    "\n",
    "    return y"
   ]
  },
  {
   "cell_type": "markdown",
   "id": "4c6e73c2-ec98-4fc4-aa99-a45432035200",
   "metadata": {},
   "source": [
    "In running\\_cycles given a partial tree assignment $R$ (in the case A1.) to glue a constructed $A_{\\Gamma_0}$ (obtained via get\\_ass\\_tree\\_subg) to $R$ we introduce the function append_to_list()."
   ]
  },
  {
   "cell_type": "code",
   "execution_count": null,
   "id": "d4069f49-4ff3-4787-b52a-ddfd9f89cfbf",
   "metadata": {},
   "outputs": [],
   "source": [
    "def put_assignments_together(M, new_data): #for append_to_list\n",
    "    \"\"\"\n",
    "    Returns: A list of (T,Ass_T) where Ass_T may have duplicates.\n",
    "    \"\"\"\n",
    "    \n",
    "    mapping = {t.copy(immutable=True): ass_l for (t, ass_l) in M} #ass_l is a list\n",
    "    for (t_dif, ass) in new_data:\n",
    "        #if have same tree in new data, record assignments by adding to mapping\n",
    "        if t_dif.copy(immutable=True) in mapping:\n",
    "            mapping[t_dif.copy(immutable=True)] = mapping[t_dif.copy(immutable=True)] + [ass] #mapping[t] and  ass will be list of assingments.\n",
    "        # If have tree not originally in mapping, add key,value pair.\n",
    "        else:\n",
    "            mapping[t_dif.copy(immutable=True)] = [ass]\n",
    "    \n",
    "    #Put mapping into list format\n",
    "    ass_gamma_all=[(t.copy(immutable=False), ass_l) for t, ass_l in mapping.items()] #possible duplicates in list ass\n",
    "    \"\"\"I have changed tree back to mutable objects.\"\"\"\n",
    "    # \"\"\"mapping.items() does not sort the lists see change_to_trees.\"\"\"\n",
    "    return ass_gamma_all\n",
    "def selector(l,k): #for append_to_list\n",
    "    #Returns the tup of l (a list of 2-tuples) for which tup[0] in k\n",
    "    t=[]\n",
    "    for tup in l:\n",
    "        if tup[0] in k:\n",
    "            t.append(tup)\n",
    "    return t\n",
    "def remove_duplicates(ass_gamma_all): #for append_to_list\n",
    "    #removing duplicates assingments (np.arrays()) treats the list as a set.\n",
    "    ass_gamma_uni=[] \n",
    "    for pair in ass_gamma_all:\n",
    "        l_unique, index = np.unique(pair[1], return_index=True, axis=0)\n",
    "        rows=[np.array(row) for row in l_unique]\n",
    "        ass_gamma_uni.append((pair[0],rows))\n",
    "    return ass_gamma_uni\n",
    "def append_to_list(M, new_data,change_relabler): # For running_cycles:\n",
    "    \"\"\"\n",
    "    Inputs:new_data a list of (T,assT) for subg trees and cycle.\n",
    "    Returns\n",
    "    \"\"\"\n",
    "    #Glue together both lists of data.\n",
    "    ass_gamma_all=put_assignments_together(M, new_data)\n",
    "    \n",
    "    \"\"\"\n",
    "    We now need to put the (t,Ass_T) into the order of tree for M + new_data respectiting common trees.\n",
    "    \"\"\"\n",
    "    M_trees=[m[0] for m in M]\n",
    "    new_data_trees=[m[0] for m in new_data] #All trees in new data including common_tree.\n",
    "    \n",
    "    #We remove trees that are in M_tree from new_data_trees.\n",
    "    common_trees =[item for item in M_trees if item in new_data_trees] #trees that are common to both.\n",
    "    new_data_trees_not_common_trees= [tree for tree in new_data_trees if tree not in common_trees]\n",
    "\n",
    "    \"\"\"We take the part of ass_gamma_all that has trees in M_trees and then order them according to M_trees.\n",
    "    Similar for new_data_trees_not_common_tree\"\"\"\n",
    "    \n",
    "    M_part_ass_gamma_all=selector(ass_gamma_all,M_trees)        \n",
    "    new_data_part_ass_gamma_all=selector(ass_gamma_all,new_data_trees_not_common_trees)\n",
    "    \n",
    "    \"\"\"ISSUE:\n",
    "    From new_data_part_ass_gamma_all want to remove the tuple for trees we have already in M_trees.\n",
    "    see: new_data_trees_not_common_tree above.\n",
    "    \"\"\"\n",
    "    \n",
    "    \"\"\"It is important we have the correct order for assignments of trees. In particular new_data.\"\"\"\n",
    "    \n",
    "    ass_gamma_all=M_part_ass_gamma_all+new_data_part_ass_gamma_all\n",
    "    ass_gamma_uni=remove_duplicates(ass_gamma_all)\n",
    "    return ass_gamma_uni"
   ]
  },
  {
   "cell_type": "markdown",
   "id": "f2047adf-4054-4c73-9698-83a4512fe951",
   "metadata": {},
   "source": [
    "To ensure compatibility of $R \\cup \\{A_{\\gamma_0}\\}$ we have the following."
   ]
  },
  {
   "cell_type": "code",
   "execution_count": null,
   "id": "1cf4da49-885b-489a-9027-206beb908884",
   "metadata": {},
   "outputs": [],
   "source": [
    "def check_tuple_size(lst): # For running_cycles\n",
    "    \"\"\"\n",
    "     \"Check if, for $M$ we have $|Ass(T)|=1$ for all $T$.\"\n",
    "    \"\"\"\n",
    "    for tup in lst:\n",
    "        if len(tup[1]) != 1:\n",
    "            return False\n",
    "    return True"
   ]
  },
  {
   "cell_type": "markdown",
   "id": "50823624-32c3-4b73-a9fb-ce4832e842c7",
   "metadata": {
    "tags": []
   },
   "source": [
    "### For get_ass_tree_subg"
   ]
  },
  {
   "cell_type": "markdown",
   "id": "a0ffa0a6-6cc0-4d82-a012-ed0c05bd7997",
   "metadata": {},
   "source": [
    "We will now explain how get\\_ass\\_tree\\_subg returns a $A_{\\Gamma_0}$. We use the construction given in the setting of Section $4.1$ to construct $A_{\\Gamma_0}$. That is for:\n",
    "\n",
    "1. $T^{'}$ obtained from $T$ (fixed in $\\Gamma_0$) by removing separating edges of $\\Gamma_0$ and fixed with the edge $e_{1}$ missing from $N(\\Gamma_0)$,\n",
    "2. $N(\\Gamma_0)$ is labled $1,\\dots,|N(\\Gamma_0)|$ anticlockwise with respect to $T^{'}$,\n",
    "3. $\\tau_{\\Gamma_0} \\in C_{L_{N(\\Gamma_0)}}$ in the labelling $1,\\dots,|N(\\Gamma_0)|$ given by the input of get\\_ass\\_tree\\_subg,\n",
    "4. and  $D_{T^{'}}=\\vec{0}$,\n",
    "\n",
    "given $(T^{'},D_{T^{'}},\\tau_{\\Gamma_0}^{'}  )$ we construct $A_{N(\\Gamma_0)}$ by constructing the stability condition $\\sigma_{\\Gamma_0}$ from $(T^{'},D_{T^{'}},\\tau_{\\Gamma_0}$, and taking $A_{N(\\Gamma_0)}=\\sigma_{N(\\Gamma_0)}|_{\\mathcal{ST}(N(\\Gamma_0))}$). And then extending and translating to $A_{\\Gamma_0}$ as we know the the separating edges of $\\Gamma_0$ and $D_{T}$.\n",
    "\n",
    "The following methods allow one to apply the ideas of the genus $1$ construction to obtain $A_{N(\\Gamma_0)}$. See \"Notebooks\\2_Cycles_to_stability.ipynb\" for a description of the following functions."
   ]
  },
  {
   "cell_type": "code",
   "execution_count": null,
   "id": "fc13aa09",
   "metadata": {
    "tags": []
   },
   "outputs": [],
   "source": [
    "#For change_to_get_trees, produces stability conditions for genus 1 graph given by a cycle.\n",
    "def head(n, prev_tree_edge):\n",
    "    \"\"\"\n",
    "    n= number of vertices in I_n\n",
    "    previous element of the cycle, ie tree_edge is j where e_j ={v_j,v_{j+1}} \n",
    "    \n",
    "    #Also used in chip adding on necklace curve\n",
    "    \"\"\"\n",
    "    head = np.zeros(n)\n",
    "\n",
    "    if prev_tree_edge == n:\n",
    "        head[0] = 1\n",
    "    else:\n",
    "        head[prev_tree_edge] = 1\n",
    "\n",
    "    return head\n",
    "def tail(n, current_tree_edge):\n",
    "    \"\"\"\n",
    "    n= number of vertices in I_n\n",
    "    tree_edge is j where e_j ={v_j,v_{j+1}}\n",
    "    i is previous element of the cycle, ie tree_edge\n",
    "    \"\"\"\n",
    "    tail = np.zeros(n)\n",
    "    # if current_tree_edge==n:\n",
    "    #     tail[0]=-1\n",
    "    tail[current_tree_edge - 1] = -1\n",
    "\n",
    "    return tail\n",
    "def tail_plus(n, current_tree_edge):  #for chip adding\n",
    "    \"\"\"\n",
    "    n= number of vertices in I_n\n",
    "    tree_edge is j where e_j ={v_j,v_{j+1}}\n",
    "    i is previous element of the cycle, ie tree_edge\n",
    "    \"\"\"\n",
    "    tail = np.zeros(n)\n",
    "    # if current_tree_edge==n:\n",
    "    #     tail[0]=-1\n",
    "    tail[current_tree_edge - 1] = 1\n",
    "\n",
    "    return tail\n",
    "def cycle_to_assignments(cycle):\n",
    "\n",
    "    #Main to get assingments from cycle\n",
    "\n",
    "    n = len(cycle)\n",
    "\n",
    "    # cycle=(1,3,4,2)\n",
    "    ass_0 = np.zeros(n)\n",
    "\n",
    "    M = [(1, ass_0)]  # Memory\n",
    "\n",
    "    for i in range(1, len(cycle)):\n",
    "\n",
    "        current_tree_edge = cycle[i]\n",
    "        tup = M[-1]  #pick last item of M\n",
    "\n",
    "        vtail = tail(n, current_tree_edge)\n",
    "        vhead = head(n, tup[0])\n",
    "        prev_ass = tup[1]\n",
    "\n",
    "        current_ass_t = prev_ass + vtail + vhead\n",
    "        M.append((current_tree_edge, current_ass_t))\n",
    "\n",
    "    # for i in M:\n",
    "    #     print(i)\n",
    "\n",
    "    return M"
   ]
  },
  {
   "cell_type": "markdown",
   "id": "e4926c8d-ac94-4a90-be66-61fe5c785b49",
   "metadata": {},
   "source": [
    "See \"Notebooks\\3_assignments_11k3graphs.ipynb\" for a description of the following functions."
   ]
  },
  {
   "cell_type": "code",
   "execution_count": null,
   "id": "a1310fb3",
   "metadata": {},
   "outputs": [],
   "source": [
    "def change_to_get_trees(cycle):\n",
    "    \n",
    "    #return trees where there was previously just numbers indicating edge to be removed.\n",
    "        # change: [(1, array([0., 0., 0., 0.])), (3, array([ 0.,  1., -1.,  0.])), (2, array([ 0.,  0., -1.,  1.])), (4, array([0., 0., 0., 0.]))]\n",
    "    # so first term is tree of In\n",
    "    # cycle=(1,3,2,4)\n",
    "\n",
    "    data_In=cycle_to_assignments(cycle) #<-----------------\n",
    "    data_In=sorted(data_In, key=lambda x: x[0]) # reordering to (1,),(2,) ect.. instead of being ordered by cycle.\n",
    "    \n",
    "    \"\"\"\n",
    "    Wish to order data_In by first term of tuple so that is (1, ),(2,) thus putting trees in order so that when we append to Memory M we have\n",
    "    M'[counter](0) = M[counter][0] when we are iterating through counters.\n",
    "    \"\"\"\n",
    "    \n",
    "    n=len(cycle)\n",
    "    G=graphs.CycleGraph(n)\n",
    "    \n",
    "    new_data_In=[]\n",
    "    for data in data_In:\n",
    "        #Get tree\n",
    "        tree_info=data[0]\n",
    "    #     print(tree_info)\n",
    "        if tree_info== len(data_In):\n",
    "            edge_tree=(tree_info-1,0)\n",
    "        else:\n",
    "            edge_tree=(tree_info-1,tree_info)\n",
    "    #     print(edge_tree)\n",
    "        tree=copy(G)\n",
    "        tree.delete_edge(edge_tree)\n",
    "\n",
    "        #Recompile data\n",
    "        new_data_In.append((tree,data[1]))\n",
    "\n",
    "    # plot(new_data_In[2][0]) #Have the correct trees.\n",
    "    \n",
    "    \"\"\"\n",
    "    Example:x=change_to_get_trees(cycle)\n",
    "\n",
    "    print(cycle)\n",
    "    for i in x:\n",
    "        print(i[0].edges())\n",
    "        \n",
    "        cycle=(1,3,2)\n",
    "    x=change_to_get_trees(cycle)\n",
    "    print([tup[0].edges() for tup in x])\n",
    "    \"\"\"\n",
    "    \n",
    "    return new_data_In"
   ]
  },
  {
   "cell_type": "markdown",
   "id": "b43816e2-64d2-4bbf-9882-bed5358f45a6",
   "metadata": {},
   "source": [
    "2) Now we have to change $A_{N(\\Gamma_0)}$ back to $A_{\\Gamma_0}$. We do this by mapping the trees of $N(\\Gamma_0)$,with missing edges labelled $1,\\dots,|N(\\Gamma_0)|$ to those of $\\Gamma_0$ with the labeling of $\\Gamma$ using the identification of $T$ and $T^{'}$ as our reference point. We do so with get\\_temp\\_data."
   ]
  },
  {
   "cell_type": "code",
   "execution_count": null,
   "id": "2442d2c1-f730-4191-ad5c-bf7db82d4c56",
   "metadata": {},
   "outputs": [],
   "source": [
    "def get_temp_data(relabler,data):#For get_ass_trees_subg\n",
    "    \"\"\"\n",
    "    Obj:Apply relabler: to get trees of subgnecklace from trees of In\n",
    "    Returns:data but with trees relabled.\n",
    "    \"\"\"\n",
    "    temp_data =[] # temp_data for subnecklace.\n",
    "    for d in data: #data of In assignments (tree,ass) pairs\n",
    "        tree_In=copy(d[0])\n",
    "        tree_In.relabel(relabler)\n",
    "        temp_data.append((tree_In,d[1]))\n",
    "    return temp_data"
   ]
  },
  {
   "cell_type": "markdown",
   "id": "6586a1b1-a692-4f9d-8d8d-e22496bb199d",
   "metadata": {},
   "source": [
    "To do the above one needs a mapping of missing edges of spanning trees."
   ]
  },
  {
   "cell_type": "code",
   "execution_count": null,
   "id": "fb4d496b-8223-4307-bd56-93995e0ba907",
   "metadata": {},
   "outputs": [],
   "source": [
    "def get_relabler(subg,common_tree,leave_order=None):#For get_ass_trees_subg\n",
    "    \"\"\"\n",
    "    Obj: Get relabling, that is given the path in subnecklace we need a method to \n",
    "    relabel the vertices of trees of I_n to the appropriate ones in the subnecklace of sugb.to get relabling we use\n",
    "    common tree in subg (acting as 0 assignment).\n",
    "    #returns a dictionary mapping the vertices of the subnecklace to In. \n",
    "    \n",
    "    The specific choose of leave_order does not mather.\n",
    "    \n",
    "    Returns a mapping of vertices of In to vertices of subnecklace.\n",
    "    i.e a dictionary for mapping.\n",
    "    \"\"\"\n",
    "    \n",
    "    #remove tails from common_tree.\n",
    "    tails=get_tails(subg) #tails\n",
    "    In_common_tree=copy(common_tree) #with labeling of subg\n",
    "    In_common_tree.delete_edges(tails.edges()) #to put into subnecklace form.\n",
    "    \n",
    "    [start,end]=find_leaves(In_common_tree)\n",
    "    [path]=In_common_tree.all_paths(start, end) #of the form [[0, 5, 1, 4, 2, 3]]\n",
    "\n",
    "    relabler={}    \n",
    "    for i in range(len(path)):\n",
    "        \"\"\"\n",
    "        The End of the subnecklace should map to v_0 of In\n",
    "        The Start of the subnecklace should be v_1.\n",
    "        \"\"\"\n",
    "        relabler[i]=path[i-1]\n",
    "    return relabler"
   ]
  },
  {
   "cell_type": "markdown",
   "id": "1551ac5d-f7b7-46ad-ad69-025e358dd7c7",
   "metadata": {},
   "source": [
    "For trees of $N(\\Gamma_0)$ we need to know the missing edge, to do so we use the following."
   ]
  },
  {
   "cell_type": "code",
   "execution_count": null,
   "id": "f225bc75-3d4f-45cc-9518-9819b17d76c9",
   "metadata": {},
   "outputs": [],
   "source": [
    "def find_leaves(spanning_tree):#For get_ass_trees_subg\n",
    "    \"\"\"\n",
    "    Obj: to get relabeler, need to define a start and end for the path \n",
    "    in the subnecklace of of subg wrt common_tree (specifically fixed)\n",
    "    where spanning_tree = In_common_tree\n",
    "    #returns the leaves of tree in subnecklace.i.e [start,end]\n",
    "    \"\"\"\n",
    "    nodes=spanning_tree.vertices()\n",
    "    leaves = []\n",
    "    for node in nodes:\n",
    "        edges = [x for x in spanning_tree.edges() if node in x]\n",
    "        if len(edges) == 1:\n",
    "            leaves.append(node)\n",
    "    return leaves"
   ]
  },
  {
   "cell_type": "markdown",
   "id": "57d3cd24-0fc9-4a73-8af2-db03ef61df7a",
   "metadata": {},
   "source": [
    "3) For the trees of $A_{N(\\Gamma_0)}$ (given by temp\\_data) we add back the separating edges (tails) of the $\\Gamma_0$ relative to the $N(\\Gamma_0)$."
   ]
  },
  {
   "cell_type": "code",
   "execution_count": null,
   "id": "58aa900e-c26f-4669-8064-1f91949feda5",
   "metadata": {},
   "outputs": [],
   "source": [
    "def extend_trees_subnecklace_to_tails(temp_data,tails):#For get_ass_trees_subg\n",
    "    \n",
    "    \"\"\"\n",
    "    Obj: Extend the tree of new_data to tails only (dont bother assingments yet).\n",
    "    \"\"\"\n",
    "    extendtails_temp_data =[] # temp_data for subnecklace.\n",
    "    for d in temp_data: #data of In assignments (tree,ass) pairs\n",
    "        tree_In=copy(d[0])\n",
    "        tree_In.add_edges(tails.edges())\n",
    "        extendtails_temp_data.append((tree_In,d[1]))\n",
    "    return extendtails_temp_data"
   ]
  },
  {
   "cell_type": "markdown",
   "id": "7477b74b-7b30-456a-af08-d26b861d45b8",
   "metadata": {},
   "source": [
    "4. We now extend (add 0 to the vertices of seperating edges we have added) and then tranlsate (by adding $D_{T}$, fixed initially, to all terms) the assignments of $A_{N(\\Gamma_0)}$ (still in the setting of Section $4.1$) to the correct format $A_{\\Gamma_0}$ with the following functions."
   ]
  },
  {
   "cell_type": "code",
   "execution_count": null,
   "id": "27083b42-b545-4f95-9894-ea9636cc6013",
   "metadata": {},
   "outputs": [],
   "source": [
    "def build_list(l, relabeling,vert_num_G):#For Extend_relabel_assignments\n",
    "    \n",
    "\n",
    "    \"\"\"Obj: Given a assignment on a tree of In with the relabling relabel_dict={0:4,1:0,2:5,3:1}\n",
    "    we give the assoicated assignment on the subnecklace of subg, where we put 0's on the tails.\n",
    "    \n",
    "    More explicitly:\n",
    "    - By changing these assignments to ones on the correct vertices of subg using relabel_dict\n",
    "    - Then extend temp_ass to include the vertices of the tails of subg with value (0).\n",
    "    \n",
    "    Inputs:    \n",
    "        # l #assignment on tree from In\n",
    "        # relabel_dict #from subgraph\n",
    "    Returns: Non-tranlated assignment on T in G.\n",
    "    \"\"\"\n",
    "    \n",
    "    result = [0] * vert_num_G # number of vertices of $G$.\n",
    "\n",
    "    for i, value in enumerate(l):\n",
    "        result[int(relabeling[i])] = value\n",
    "    return result\n",
    "def Extend_relabel_assignments(data,common_tree_ass,relabler):#For get_ass_trees_subg\n",
    "    \n",
    "    \"\"\"\n",
    "    Obj:  Relabel,Extend to tail vertices and Tranlsated $Ass(T^{'})$ by $Ass(T)$ for common_tree.\n",
    "    where  extending and relabeling ass for In to tempoary ass for G.\n",
    "    Returns: a [(T,Ass_T) | .. ] where T is a tree of G.\n",
    "    \"\"\"\n",
    "    vert_num_G=len(common_tree_ass)\n",
    "    temp_data=[]\n",
    "    for d in data:\n",
    "        assignment=d[1]\n",
    "        temp_ass=build_list(assignment, relabler,vert_num_G)\n",
    "        temp_data.append((d[0],temp_ass))\n",
    "    \n",
    "    #Now translate by the assingmnet of the common tree.\n",
    "    final_data= [(tree, arr + common_tree_ass) for tree, arr in temp_data]\n",
    "    return final_data"
   ]
  },
  {
   "cell_type": "markdown",
   "id": "3f96a913-4192-4b9f-8716-668c17c4ea8f",
   "metadata": {
    "jp-MarkdownHeadingCollapsed": true,
    "tags": []
   },
   "source": [
    "### For condition\\_checker"
   ]
  },
  {
   "cell_type": "markdown",
   "id": "ef0e8993-6b92-49e6-bcc5-1bc1c802ab01",
   "metadata": {},
   "source": [
    "As the data of $A_{\\Gamma}$ is stored as a list, the following functions ensure we have a consistent ordering to this list."
   ]
  },
  {
   "cell_type": "code",
   "execution_count": null,
   "id": "849bafb6-5149-44f2-a315-aa3cb9450361",
   "metadata": {
    "tags": []
   },
   "outputs": [],
   "source": [
    "def get_ordered_list(M, ordering_trees):# for get_assignment_ordered_for_wstab\n",
    "\n",
    "    #Given M produce a list of assignments whose ordering is dependant on a specified ordering of trees ordering_trees.\n",
    "    #M: memory for storing pairs (T,Ass_T).\n",
    "    #returns list of assignments ordered wrt ordering_trees. \n",
    "    P = []\n",
    "    mapping = {t.copy(immutable=True): ass for (t, ass) in M}\n",
    "    for t in ordering_trees:\n",
    "        P.append(mapping[t.copy(immutable=True)])\n",
    "    return P\n",
    "\n",
    "#After obtaining assignments: Putting into the correct format in order to apply w_stability\n",
    "\n",
    "def get_assignment_ordered_for_wstab(M,ordering_trees):\n",
    "    #produce a list of assignments (only) whose ordering is dependant on a specified ordering of trees ordering_trees.\n",
    "    #Puts into correct form\n",
    "    N = get_ordered_list(M, ordering_trees) \n",
    "    N=[list(x) for x in N] #turn each on arrays to lists.\n",
    "#     then put in the correct form:\n",
    "    result = [] \n",
    "    for elem in N:\n",
    "        l=elem[0].astype(int)\n",
    "        result.append(l.tolist())\n",
    "    return result"
   ]
  },
  {
   "cell_type": "markdown",
   "id": "358dd098-664c-4691-adce-717420acee81",
   "metadata": {
    "jp-MarkdownHeadingCollapsed": true,
    "tags": []
   },
   "source": [
    "### w\\_stability"
   ]
  },
  {
   "cell_type": "markdown",
   "id": "d02f8fd1-e19c-4809-a721-39aa8668979e",
   "metadata": {},
   "source": [
    "To state w\\_stability we refer to \"Notebooks\\1_Assignment_induced_datum.ipynb\" for a description of the following functions, which give w\\_stability.\n"
   ]
  },
  {
   "cell_type": "code",
   "execution_count": null,
   "id": "14d67066",
   "metadata": {
    "tags": []
   },
   "outputs": [],
   "source": [
    "# Assignment_datum_for_G for w_stability:\n",
    "def get_sp_trees(G): #Out: list of edges in spanning tree\n",
    "    all_trees=[]\n",
    "    for g in list(G.spanning_trees()):\n",
    "        all_trees.append(g.edges(sort=True, labels=False))\n",
    "    return all_trees\n",
    "def list_difference(a, b):\n",
    "    \"https://stackoverflow.com/questions/8106227/difference-between-two-lists-with-duplicates-in-python\"\n",
    "    count = Counter(a) # count items in a\n",
    "    count.subtract(b)  # subtract items that are in b\n",
    "    diff = []\n",
    "    for x in a:\n",
    "        if count[x] > 0:\n",
    "           count[x] -= 1\n",
    "           diff.append(x)\n",
    "    return diff\n",
    "def chip_adding(graph_t,tree,ass):\n",
    "    \"\"\"\n",
    "    Inputs:\n",
    "    graph: G_edges graph edges\n",
    "    tree : spanning tree of graph\n",
    "    ass : an n=vert(graph) tuple on the spanning tree.\n",
    "    \n",
    "    recursion idea: https://stackoverflow.com/questions/53638816/python-library-function-to-re-apply-a-function-to-its-own-output-until-output-re\n",
    "    \"\"\"\n",
    "    \n",
    "    edges=graph_t # just want the edges \n",
    "    \n",
    "#     print(\"Gp edges\",graph_t)\n",
    "#     print(\"tree edges\",tree)\n",
    "    \n",
    "    n=len(ass)\n",
    "    complement=list_difference(graph_t,tree) #edges in complement.\n",
    "    \n",
    "    def rec_funct(edge_l,inputs,n):\n",
    "        data=[]\n",
    "        edge=edge_l[0]\n",
    "        \n",
    "        for b in inputs:\n",
    "            delta_1=np.zeros(n)\n",
    "            delta_2=np.zeros(n)\n",
    "            \n",
    "            delta_1[int(edge[0])]=1 #we chip add at the first vertex. #### <- CHANGED as taking vertices 0,..,n-1 now\n",
    "            delta_2[int(edge[1])]=1 #we chip add at the second vertex.\n",
    "            \n",
    "            b1=b+delta_1\n",
    "            b2=b+delta_2\n",
    "            data=data+[b1,b2]\n",
    "        \n",
    "        return (edge_l,data,n)\n",
    "    \n",
    "    def recursion(edge_l,inputs,n):\n",
    "        \n",
    "        new_data=rec_funct(edge_l,inputs,n)\n",
    "        edge_l=edge_l[1:] #removeing first edge        \n",
    "        new_data=(edge_l,new_data[1],new_data[2])\n",
    "                \n",
    "        if len(edge_l)==0:\n",
    "            new_inputs=new_data[1]\n",
    "            return new_inputs\n",
    "        else:\n",
    "            return recursion(*new_data)\n",
    "        \n",
    "    breaks=recursion(complement,[np.zeros(n)],n)\n",
    "    breaks=np.unique(breaks, axis=0)\n",
    "    \n",
    "    patch=[]\n",
    "    for bbreak in breaks:\n",
    "        patch.append(ass+bbreak)\n",
    "    \n",
    "    return patch"
   ]
  },
  {
   "cell_type": "markdown",
   "id": "928cf6b0-870c-4093-9922-24fbe707e5f6",
   "metadata": {
    "tags": []
   },
   "source": [
    "## Storing and Loading data <a name=\"s25\"></a>"
   ]
  },
  {
   "cell_type": "markdown",
   "id": "3c8a7158-1b77-4a9c-a21d-74c8aa16550c",
   "metadata": {},
   "source": [
    "The following functions allow us to store the data of $\\Sigma_{\\Gamma,T,D_{T}}^{d}$ as a text file and a pkl file. I particular for each $\\sigma_{\\Gamma} \\in \\Sigma_{\\Gamma,T,D_{T}}^{d}$ we record $A_{\\Gamma}=\\sigma_{\\Gamma}|_{\\mathcal{ST}(\\Gamma)}$ and $\\sigma_{\\Gamma}(\\Gamma)$."
   ]
  },
  {
   "cell_type": "markdown",
   "id": "1fabdeb0-5205-4d6b-9cd7-a4e33d6def7d",
   "metadata": {},
   "source": [
    "We store each output of get\\_all\\_assingmen\\t_datum in the appropriate folder of \"\\Graph\\graph_stability_conditions\" as a text file with the following:"
   ]
  },
  {
   "cell_type": "code",
   "execution_count": null,
   "id": "866358da-eb05-46b0-ab76-b67c6eb02f53",
   "metadata": {
    "tags": []
   },
   "outputs": [],
   "source": [
    "def output_to_file(G,assignment_datum,ordering_trees):#in text files\n",
    "    stabs=assignment_datum[0] #Those that work\n",
    "\n",
    "\n",
    "    print(f\"Information: Here are all stability conditions for the graph G\")\n",
    "    print(f\"Graph: {G.edges()} \\n\")\n",
    "    \n",
    "    print(f\"There are {len(stabs)} stability conditions for G. \\n\")\n",
    "    print(f\"The spanning trees of G are ordered as follows:\")\n",
    "    for index,tree in enumerate(ordering_trees):\n",
    "        print(f\"Tree {index+1}: {tree.edges()}\" )\n",
    "\n",
    "    print(\"\\n We will now list all stabilty conditions. The data will be presented in two lines:\")\n",
    "    print(\"   1. The assignment datum on trees the order of which will be given by the Tree order,\")\n",
    "    print(\"   2. The union of sets of the form assignment datum of T + the set of break divisors for T. \\n\" )          \n",
    "\n",
    "    for pair in stabs:\n",
    "        print(pair[0]) #assignment datum\n",
    "        #Put sigma to list format\n",
    "        print(pair[1].tolist()) #lbm\n",
    "        print(\"\\n\")\n",
    "    \n",
    "    return\n",
    "def store_data(G,assignment_datum,ordering_trees,graphname=\"test\"):\n",
    "    name=f\"{graphname}.txt\"\n",
    "    with open(name, \"w\") as f:\n",
    "        sys.stdout = f\n",
    "\n",
    "        output_to_file(G,assignment_datum,ordering_trees)\n",
    "\n",
    "        sys.stdout = sys.__stdout__\n",
    "    return"
   ]
  },
  {
   "cell_type": "markdown",
   "id": "749e140e-e788-42ba-a061-7db218a670a3",
   "metadata": {},
   "source": [
    "We also store the outputs as pkl file in \"\\Stability_Conditions\\Graph\\phi_investigation\\examples\" in order to determine $P_{ST}^{\\sigma_{\\Gamma}}$ for each $\\sigma_{\\Gamma} \\in \\Sigma_{\\Gamma,T,D_{T}}^{d}$, and in \"Stability_Conditions\\Graph\\find_cycles\\examples\" if one wants to determine the $\\tau \\in C_{L|N(\\Gamma_0)}$ for $\\Gamma_0 \\in \\Gamma_{(1)}$."
   ]
  },
  {
   "cell_type": "code",
   "execution_count": null,
   "id": "011a56f5-af5e-49f7-9d0a-09b6191f98eb",
   "metadata": {
    "tags": []
   },
   "outputs": [],
   "source": [
    "def pickle_assignment_datum(graphname,assignment_datum):\n",
    "    # Pickle the list\n",
    "    filename=f\"{graphname}.pkl\"\n",
    "    data=assignment_datum[0]\n",
    "    with open(filename, 'wb') as f:\n",
    "        pickle.dump(data, f)\n",
    "    return"
   ]
  },
  {
   "cell_type": "markdown",
   "id": "d30638cc",
   "metadata": {
    "tags": [
     "DFN"
    ],
    "toc-hr-collapsed": true
   },
   "source": [
    "# Determining $\\Sigma_{\\Gamma,T,D_{T}}^{d}$ for $\\Gamma$ in thesis <a name=\"s1\"></a>"
   ]
  },
  {
   "cell_type": "markdown",
   "id": "1168f8fb",
   "metadata": {},
   "source": [
    "We determine $\\Sigma_{\\Gamma,T,D_{T}}^{d}$ with $d=b_{1}(\\Gamma)$, a choosen $T$ and $D_{T}= \\vec{0}$ for the following cases."
   ]
  },
  {
   "cell_type": "markdown",
   "id": "db438e45",
   "metadata": {
    "tags": [],
    "toc-hr-collapsed": true
   },
   "source": [
    "## Stability conditions for $n$-necklace graphs for $3 \\le n \\le 7$ <a name=\"s11\"></a>"
   ]
  },
  {
   "cell_type": "markdown",
   "id": "2a986ae3",
   "metadata": {},
   "source": [
    "### $3$-necklace"
   ]
  },
  {
   "cell_type": "code",
   "execution_count": null,
   "id": "0af127df",
   "metadata": {
    "tags": []
   },
   "outputs": [],
   "source": [
    "%%time\n",
    "graphname=\"G3\"\n",
    "G=Graph([(\"0\",\"1\"),(\"1\",\"2\"),(\"2\",\"0\")], multiedges=True)\n",
    "ordering_trees=list(G.spanning_trees())\n",
    "T=ordering_trees[0]\n",
    "M=get_all_assingment_datum(G,T)\n",
    "assignment_datum=condition_checker(M)\n",
    "# store_data(G,assignment_datum,ordering_trees,graphname)\n",
    "# pickle_assignment_datum(graphname,assignment_datum)\n",
    "\n",
    "# Of the 2 assignment datums: \n",
    "#  2: Produce a stability condition \n",
    "#  0: Do NOT produce a stability condition"
   ]
  },
  {
   "cell_type": "markdown",
   "id": "ecaa7393",
   "metadata": {},
   "source": [
    "### $4$-necklace"
   ]
  },
  {
   "cell_type": "code",
   "execution_count": null,
   "id": "bdd63f69",
   "metadata": {
    "tags": []
   },
   "outputs": [],
   "source": [
    "%%time\n",
    "graphname=\"G4\"\n",
    "G=Graph([(\"0\",\"1\"),(\"1\",\"2\"),(\"2\",\"3\"),(\"3\",\"0\")], multiedges=True)\n",
    "ordering_trees=list(G.spanning_trees())\n",
    "T=ordering_trees[0]\n",
    "M=get_all_assingment_datum(G,T)\n",
    "assignment_datum=condition_checker(M)\n",
    "# store_data(G,assignment_datum,ordering_trees,graphname)\n",
    "# pickle_assignment_datum(graphname,assignment_datum)\n",
    "\n",
    "# Of the 6 assignment datums:\n",
    "#  6: Produce a stability condition\n",
    "#  0: Do NOT produce a stability condition"
   ]
  },
  {
   "cell_type": "markdown",
   "id": "1b8a3838",
   "metadata": {},
   "source": [
    "### $5$-necklace"
   ]
  },
  {
   "cell_type": "code",
   "execution_count": null,
   "id": "4e3dc5ec",
   "metadata": {
    "tags": []
   },
   "outputs": [],
   "source": [
    "%%time\n",
    "graphname=\"G5\"\n",
    "G=Graph([(\"0\",\"1\"),(\"1\",\"2\"),(\"2\",\"3\"),(\"3\",\"4\"),(\"4\",\"0\")], multiedges=True)\n",
    "ordering_trees=list(G.spanning_trees())\n",
    "T=ordering_trees[0]\n",
    "M=get_all_assingment_datum(G,T)\n",
    "assignment_datum=condition_checker(M)\n",
    "# store_data(G,assignment_datum,ordering_trees,graphname)\n",
    "# pickle_assignment_datum(graphname,assignment_datum)\n",
    "\n",
    "# Of the 24 assignment datums:\n",
    "#  24: Produce a stability condition\n",
    "#  0: Do NOT produce a stability condition"
   ]
  },
  {
   "cell_type": "markdown",
   "id": "554c1def",
   "metadata": {},
   "source": [
    "### $6$-necklace"
   ]
  },
  {
   "cell_type": "code",
   "execution_count": null,
   "id": "fa1a3aa9",
   "metadata": {
    "tags": []
   },
   "outputs": [],
   "source": [
    "%%time\n",
    "graphname=\"G6\"\n",
    "G=Graph([(\"0\",\"1\"),(\"1\",\"2\"),(\"2\",\"3\"),(\"3\",\"4\"),(\"4\",\"5\"),(\"5\",\"0\")], multiedges=True)\n",
    "ordering_trees=list(G.spanning_trees())\n",
    "T=ordering_trees[0]\n",
    "M=get_all_assingment_datum(G,T)\n",
    "assignment_datum=condition_checker(M)\n",
    "store_data(G,assignment_datum,ordering_trees,graphname)\n",
    "pickle_assignment_datum(graphname,assignment_datum)\n",
    "\n",
    "# Of the 120 assignment datums:\n",
    "#  120: Produce a stability condition\n",
    "#  0: Do NOT produce a stability condition"
   ]
  },
  {
   "cell_type": "markdown",
   "id": "8630cbdc",
   "metadata": {},
   "source": [
    "### $7$-necklace"
   ]
  },
  {
   "cell_type": "code",
   "execution_count": null,
   "id": "8d9b836d",
   "metadata": {},
   "outputs": [],
   "source": [
    "%%time\n",
    "graphname=\"G7\"\n",
    "G=Graph([(\"0\",\"1\"),(\"1\",\"2\"),(\"2\",\"3\"),(\"3\",\"4\"),(\"4\",\"5\"),(\"5\",\"6\"),(\"6\",\"0\")], multiedges=True)\n",
    "ordering_trees=list(G.spanning_trees())\n",
    "T=ordering_trees[0]\n",
    "M=get_all_assingment_datum(G,T)\n",
    "assignment_datum=condition_checker(M)\n",
    "store_data(G,assignment_datum,ordering_trees,graphname)\n",
    "pickle_assignment_datum(graphname,assignment_datum)\n"
   ]
  },
  {
   "cell_type": "markdown",
   "id": "e6e8d95c",
   "metadata": {
    "tags": [],
    "toc-hr-collapsed": true
   },
   "source": [
    "## Stability conditions for $\\Gamma_{k_1 k_2 k_3}$ with $k_1=1$ and $k_2\\ge 2$ <a name=\"s12\"></a>"
   ]
  },
  {
   "cell_type": "markdown",
   "id": "54b333a3",
   "metadata": {},
   "source": [
    "We now get apply the algorithim outline above to obtain $\\Sigma_{\\Gamma,T,D_{T}}^{d}$ for graphs  $\\Gamma:=\\Gamma_{k_1 k_2 k_3}$ with $(k_1,k_2,k_3)=\\{(1,2,2),(1,2,3),(1,2,4),(1,3,3),(1,2,5),(1,3,4)\\}$."
   ]
  },
  {
   "cell_type": "markdown",
   "id": "81f7f3e5",
   "metadata": {
    "tags": []
   },
   "source": [
    "### $(k_1,k_2,k_3)=(1,2,2)$"
   ]
  },
  {
   "cell_type": "code",
   "execution_count": null,
   "id": "1db58954",
   "metadata": {},
   "outputs": [],
   "source": [
    "%%time\n",
    "graphname=\"G4M2\"\n",
    "G=Graph([(\"0\",\"1\"),(\"1\",\"2\"),(\"2\",\"3\"),(\"3\",\"0\"),(\"0\",\"2\")], multiedges=True)\n",
    "ordering_trees=list(G.spanning_trees())\n",
    "T=ordering_trees[0]\n",
    "M=get_all_assingment_datum(G,T)\n",
    "assignment_datum=condition_checker(M)\n",
    "# store_data(G,assignment_datum,ordering_trees,graphname)\n",
    "# pickle_assignment_datum(graphname,assignment_datum)\n",
    "\n",
    "# Of the 6 assignment datums:\n",
    "#  6: Produce a stability condition\n",
    "#  0: Do NOT produce a stability condition"
   ]
  },
  {
   "cell_type": "markdown",
   "id": "9c8c071f",
   "metadata": {
    "tags": []
   },
   "source": [
    "### $(k_1,k_2,k_3)=(1,2,3)$\n"
   ]
  },
  {
   "cell_type": "code",
   "execution_count": null,
   "id": "6fb1654e",
   "metadata": {},
   "outputs": [],
   "source": [
    "%%time\n",
    "graphname=\"G5M2\"\n",
    "G=Graph([(\"0\",\"1\"),(\"1\",\"2\"),(\"2\",\"3\"),(\"3\",\"4\"),(\"4\",\"0\"),(\"0\",\"2\")], multiedges=True)\n",
    "ordering_trees=list(G.spanning_trees())\n",
    "T=ordering_trees[0]\n",
    "M=get_all_assingment_datum(G,T)\n",
    "assignment_datum=condition_checker(M)\n",
    "# store_data(G,assignment_datum,ordering_trees,graphname)\n",
    "# pickle_assignment_datum(graphname,assignment_datum)\n",
    "\n",
    "# Of the 24 assignment datums:\n",
    "#  24: Produce a stability condition\n",
    "#  0: Do NOT produce a stability condition"
   ]
  },
  {
   "cell_type": "markdown",
   "id": "600df2e4",
   "metadata": {
    "tags": []
   },
   "source": [
    "### $(k_1,k_2,k_3)=(1,2,4)$\n"
   ]
  },
  {
   "cell_type": "code",
   "execution_count": null,
   "id": "f646274c",
   "metadata": {},
   "outputs": [],
   "source": [
    "%%time\n",
    "graphname=\"G6M2\"\n",
    "G=Graph([(\"0\",\"1\"),(\"1\",\"2\"),(\"2\",\"3\"),(\"3\",\"4\"),(\"4\",\"5\"),(\"5\",\"0\"),(\"0\",\"2\")], multiedges=True)\n",
    "ordering_trees=list(G.spanning_trees())\n",
    "T=ordering_trees[0]\n",
    "M=get_all_assingment_datum(G,T)\n",
    "assignment_datum=condition_checker(M)\n",
    "# store_data(G,assignment_datum,ordering_trees,graphname)\n",
    "# pickle_assignment_datum(graphname,assignment_datum)\n",
    "\n",
    "# Of the 120 assignment datums:\n",
    "#  120: Produce a stability condition\n",
    "#  0: Do NOT produce a stability condition"
   ]
  },
  {
   "cell_type": "markdown",
   "id": "e90bf4db",
   "metadata": {
    "jupyter": {
     "outputs_hidden": true
    }
   },
   "source": [
    "### $(k_1,k_2,k_3)=(1,3,3)$\n"
   ]
  },
  {
   "cell_type": "code",
   "execution_count": null,
   "id": "4b5062b1",
   "metadata": {},
   "outputs": [],
   "source": [
    "%%time\n",
    "graphname=\"G6M3\"  \n",
    "G=Graph([(\"0\",\"1\"),(\"1\",\"2\"),(\"2\",\"3\"),(\"3\",\"4\"),(\"4\",\"5\"),(\"5\",\"0\"),(\"0\",\"3\")], multiedges=True)\n",
    "ordering_trees=list(G.spanning_trees())\n",
    "T=ordering_trees[0]\n",
    "M=get_all_assingment_datum(G,T)\n",
    "assignment_datum=condition_checker(M)\n",
    "# store_data(G,assignment_datum,ordering_trees,graphname)\n",
    "# pickle_assignment_datum(graphname,assignment_datum)\n",
    "\n",
    "# Of the 120 assignment datums: \n",
    "#  120: Produce a stability condition \n",
    "#  0: Do NOT produce a stability condition"
   ]
  },
  {
   "cell_type": "markdown",
   "id": "67f210d2",
   "metadata": {},
   "source": [
    "### $(k_1,k_2,k_3)=(1,2,5)$\n"
   ]
  },
  {
   "cell_type": "code",
   "execution_count": null,
   "id": "654a114b",
   "metadata": {},
   "outputs": [],
   "source": [
    "%%time\n",
    "graphname=\"G7M02\"\n",
    "G=Graph([(\"0\",\"1\"),(\"1\",\"2\"),(\"2\",\"3\"),(\"3\",\"4\"),(\"4\",\"5\"),(\"5\",\"6\"),(\"6\",\"0\"),(\"0\",\"2\")], multiedges=True)\n",
    "ordering_trees=list(G.spanning_trees())\n",
    "T=ordering_trees[0]\n",
    "M=get_all_assingment_datum(G,T)\n",
    "assignment_datum=condition_checker(M)\n",
    "# store_data(G,assignment_datum,ordering_trees,graphname)\n",
    "# pickle_assignment_datum(graphname,assignment_datum)"
   ]
  },
  {
   "cell_type": "markdown",
   "id": "01a2d625",
   "metadata": {},
   "source": [
    "### $(k_1,k_2,k_3)=(1,3,4)$\n"
   ]
  },
  {
   "cell_type": "code",
   "execution_count": null,
   "id": "04c74f31",
   "metadata": {},
   "outputs": [],
   "source": [
    "%%time\n",
    "graphname=\"G7M03\"\n",
    "G=Graph([(\"0\",\"1\"),(\"1\",\"2\"),(\"2\",\"3\"),(\"3\",\"4\"),(\"4\",\"5\"),(\"5\",\"6\"),(\"6\",\"0\"),(\"0\",\"3\")], multiedges=True)\n",
    "ordering_trees=list(G.spanning_trees())\n",
    "T=ordering_trees[0]\n",
    "M=get_all_assingment_datum(G,T)\n",
    "assignment_datum=condition_checker(M)\n",
    "# store_data(G,assignment_datum,ordering_trees,graphname)\n",
    "# pickle_assignment_datum(graphname,assignment_datum)"
   ]
  },
  {
   "cell_type": "markdown",
   "id": "885bb3f8",
   "metadata": {
    "tags": [],
    "toc-hr-collapsed": true
   },
   "source": [
    "## Stability conditions for $\\Gamma_{k_1 k_2 k_3}$ with $k_1 \\ge 2$ <a name=\"s13\"></a>"
   ]
  },
  {
   "cell_type": "markdown",
   "id": "33450686",
   "metadata": {},
   "source": [
    "We now get apply the algorithim outline above to obtain $\\Sigma_{\\Gamma,T,D_{T}}^{d}$ for graphs $\\Gamma:=\\Gamma_{k_1 k_2 k_3}$ with $(k_1,k_2,k_3)=\\{(2,2,2),(2,2,3),(2,2,4), (2,3,3)\\}$."
   ]
  },
  {
   "cell_type": "markdown",
   "id": "1d4be7a5",
   "metadata": {},
   "source": [
    "### $(k_1,k_2,k_3)=(2,2,2)$\n"
   ]
  },
  {
   "cell_type": "code",
   "execution_count": null,
   "id": "c3a6f0f1",
   "metadata": {
    "scrolled": true,
    "tags": []
   },
   "outputs": [],
   "source": [
    "%%time\n",
    "graphname=\"V_222\"\n",
    "G=Graph([(\"0\",\"1\"),(\"1\",\"2\"),(\"2\",\"3\"),(\"3\",\"0\"),(\"0\",\"4\"),(\"4\",\"2\")], multiedges=True)\n",
    "ordering_trees=list(G.spanning_trees())\n",
    "T=ordering_trees[0]\n",
    "M=get_all_assingment_datum(G,T)\n",
    "assignment_datum=condition_checker(M)\n",
    "# store_data(G,assignment_datum,ordering_trees,graphname)\n",
    "# pickle_assignment_datum(graphname,assignment_datum)\n",
    "\n",
    "# Of the 38 assignment datums: \n",
    "#  38: Produce a stability condition \n",
    "#  0: Do NOT produce a stability condition"
   ]
  },
  {
   "cell_type": "markdown",
   "id": "3ac09feb",
   "metadata": {},
   "source": [
    "\n",
    "### $(k_1,k_2,k_3)=(2,2,3)$\n"
   ]
  },
  {
   "cell_type": "code",
   "execution_count": null,
   "id": "d318755f",
   "metadata": {
    "scrolled": true,
    "tags": []
   },
   "outputs": [],
   "source": [
    "%%time\n",
    "graphname=\"V_223\"\n",
    "G=Graph([(\"0\",\"1\"),(\"1\",\"2\"),(\"2\",\"3\"),(\"3\",\"4\"),(\"4\",\"0\"),(\"0\",\"5\"),(\"5\",\"2\")], multiedges=True)\n",
    "ordering_trees=list(G.spanning_trees())\n",
    "T=ordering_trees[0]\n",
    "M=get_all_assingment_datum(G,T)\n",
    "assignment_datum=condition_checker(M)\n",
    "# store_data(G,assignment_datum,ordering_trees,graphname)\n",
    "# pickle_assignment_datum(graphname,assignment_datum)\n",
    "\n",
    "# Length of assignments----------------- 16\n",
    "# Of the 1100 assignment datums: \n",
    "#  264: Produce a stability condition \n",
    "#  0: Do NOT produce a stability condition #Needs to be redone."
   ]
  },
  {
   "cell_type": "markdown",
   "id": "0f9fad87",
   "metadata": {},
   "source": [
    "\n",
    "### $(k_1,k_2,k_3)=(2,2,4)$\n"
   ]
  },
  {
   "cell_type": "code",
   "execution_count": null,
   "id": "578035ab",
   "metadata": {
    "tags": []
   },
   "outputs": [],
   "source": [
    "%%time\n",
    "graphname=\"V_224\"\n",
    "G=Graph([(\"0\",\"1\"),(\"1\",\"2\"),(\"2\",\"3\"),(\"3\",\"4\"),(\"4\",\"5\"),(\"5\",\"0\"),(\"0\",\"6\"),(\"6\",\"2\")], multiedges=True)\n",
    "ordering_trees=list(G.spanning_trees())\n",
    "T=ordering_trees[0]\n",
    "M=get_all_assingment_datum(G,T)\n",
    "assignment_datum=condition_checker(M)\n",
    "# store_data(G,assignment_datum,ordering_trees,graphname)\n",
    "# pickle_assignment_datum(graphname,assignment_datum)"
   ]
  },
  {
   "cell_type": "markdown",
   "id": "870481ee",
   "metadata": {},
   "source": [
    "\n",
    "### $(k_1,k_2,k_3)=(2,3,3)$"
   ]
  },
  {
   "cell_type": "code",
   "execution_count": null,
   "id": "e583a334",
   "metadata": {
    "tags": []
   },
   "outputs": [],
   "source": [
    "%%time\n",
    "graphname=\"V_233\"\n",
    "G=Graph([(\"0\",\"1\"),(\"1\",\"2\"),(\"2\",\"3\"),(\"3\",\"4\"),(\"4\",\"5\"),(\"5\",\"0\"),(\"0\",\"6\"),(\"6\",\"3\")], multiedges=True)\n",
    "ordering_trees=list(G.spanning_trees())\n",
    "T=ordering_trees[0]\n",
    "M=get_all_assingment_datum(G,T)\n",
    "assignment_datum=condition_checker(M)\n",
    "# store_data(G,assignment_datum,ordering_trees,graphname)\n",
    "# pickle_assignment_datum(graphname,assignment_datum)"
   ]
  },
  {
   "cell_type": "markdown",
   "id": "344cbd39",
   "metadata": {
    "tags": []
   },
   "source": [
    "## Stability conditions for $G_1,G_2,G_3$ and $F$ <a name=\"s14\"></a>"
   ]
  },
  {
   "cell_type": "markdown",
   "id": "0852d248",
   "metadata": {
    "tags": []
   },
   "source": [
    "### $G_1$"
   ]
  },
  {
   "cell_type": "code",
   "execution_count": null,
   "id": "59c38980",
   "metadata": {
    "tags": []
   },
   "outputs": [],
   "source": [
    "%%time\n",
    "#graph G_1\n",
    "\n",
    "graphname=\"G4M02M13\"\n",
    "G=Graph([(\"0\",\"1\"),(\"1\",\"2\"),(\"2\",\"3\"),(\"3\",\"0\"),(\"0\",\"2\"),(\"1\",\"3\")], multiedges=True)\n",
    "ordering_trees=list(G.spanning_trees())\n",
    "T=ordering_trees[0]\n",
    "M=get_all_assingment_datum(G,T)\n",
    "assignment_datum=condition_checker(M)\n",
    "# store_data(G,assignment_datum,ordering_trees,graphname)\n",
    "# pickle_assignment_datum(graphname,assignment_datum)\n",
    "\n",
    "# Of the 10 assignment datums: \n",
    "#  10: Produce a stability condition \n",
    "#  0: Do NOT produce a stability condition"
   ]
  },
  {
   "cell_type": "markdown",
   "id": "e12430ca-bb3a-433d-9b11-3efa00b75752",
   "metadata": {
    "tags": []
   },
   "source": [
    "### $G_{2}$"
   ]
  },
  {
   "cell_type": "code",
   "execution_count": null,
   "id": "808edcc1",
   "metadata": {
    "tags": []
   },
   "outputs": [],
   "source": [
    "%%time\n",
    "#graph G_2\n",
    "\n",
    "graphname=\"G5M02M03\"\n",
    "G=Graph([(\"0\",\"1\"),(\"1\",\"2\"),(\"2\",\"3\"),(\"3\",\"4\"),(\"4\",\"0\"),(\"0\",\"2\"),(\"0\",\"3\")], multiedges=True)\n",
    "ordering_trees=list(G.spanning_trees())\n",
    "T=ordering_trees[0]\n",
    "M=get_all_assingment_datum(G,T)\n",
    "assignment_datum=condition_checker(M)\n",
    "# store_data(G,assignment_datum,ordering_trees,graphname)\n",
    "# pickle_assignment_datum(graphname,assignment_datum)\n",
    "\n",
    "# Of the 24 assignment datums: \n",
    "#  24: Produce a stability condition \n",
    "#  0: Do NOT produce a stability condition "
   ]
  },
  {
   "cell_type": "markdown",
   "id": "5327f5c6-1a89-4641-9d65-226c292bea25",
   "metadata": {
    "tags": []
   },
   "source": [
    "### $G_{3}$"
   ]
  },
  {
   "cell_type": "code",
   "execution_count": null,
   "id": "2e48054a",
   "metadata": {
    "tags": []
   },
   "outputs": [],
   "source": [
    "%%time\n",
    "#graph G_3\n",
    "graphname=\"G5M02M03M14\"\n",
    "G=Graph([(\"0\",\"1\"),(\"1\",\"2\"),(\"2\",\"3\"),(\"3\",\"4\"),(\"4\",\"0\"),(\"0\",\"2\"),(\"0\",\"3\"),(\"1\",\"4\")], multiedges=True)\n",
    "ordering_trees=list(G.spanning_trees())\n",
    "\n",
    "T=ordering_trees[2]\n",
    "\n",
    "M=get_all_assingment_datum(G,T)\n",
    "assignment_datum=condition_checker(M)\n",
    "store_data(G,assignment_datum,ordering_trees,graphname)\n",
    "pickle_assignment_datum(graphname,assignment_datum)\n",
    "\n",
    "# Of the 82 assignment datums: \n",
    "#  82: Produce a stability condition\n",
    "#  0: Do NOT produce a stability condition"
   ]
  },
  {
   "cell_type": "markdown",
   "id": "7d66cde7-01fe-4b87-8cad-5ef37104af5c",
   "metadata": {
    "tags": []
   },
   "source": [
    "### $F$"
   ]
  },
  {
   "cell_type": "markdown",
   "id": "3357db94",
   "metadata": {},
   "source": [
    "We finally arrive at the graph given by Filippo Viviani."
   ]
  },
  {
   "cell_type": "code",
   "execution_count": null,
   "id": "c8c4336b",
   "metadata": {
    "tags": []
   },
   "outputs": [],
   "source": [
    "%%time\n",
    "#graph F\n",
    "graphname=\"FV_G6M3M14\"  \n",
    "G=Graph([(\"0\",\"1\"),(\"1\",\"2\"),(\"2\",\"3\"),(\"3\",\"4\"),(\"4\",\"5\"),(\"5\",\"0\"),(\"0\",\"3\"),(\"1\",\"4\")], multiedges=True)\n",
    "ordering_trees=list(G.spanning_trees())\n",
    "T=ordering_trees[0]\n",
    "M=get_all_assingment_datum(G,T)\n",
    "assignment_datum=condition_checker(M)\n",
    "\n",
    "# store_data(G,assignment_datum,ordering_trees,graphname)\n",
    "# pickle_assignment_datum(graphname,assignment_datum)"
   ]
  },
  {
   "cell_type": "markdown",
   "id": "98bf9edf",
   "metadata": {
    "tags": []
   },
   "source": [
    "# Leftovers"
   ]
  },
  {
   "cell_type": "code",
   "execution_count": null,
   "id": "9a1c6df1-4cb0-4776-8c07-830c4a026b62",
   "metadata": {},
   "outputs": [],
   "source": [
    "# def unpickle_assignment_datum(graphname):\n",
    "#     # Unpickle the list\n",
    "#     filename=f\"{graphname}.pkl\"\n",
    "#     with open(filename, 'rb') as f:\n",
    "#         unpickled_list = pickle.load(f)\n",
    "#     return unpickled_list"
   ]
  },
  {
   "cell_type": "code",
   "execution_count": null,
   "id": "05a8d080-ad38-48f5-9dc8-bc11aebe739d",
   "metadata": {},
   "outputs": [],
   "source": [
    "# def pickle_assignment_datum_non(graphname,assignment_datum):\n",
    "#     # Pickle the list\n",
    "#     filename=f\"{graphname}_non.pkl\"\n",
    "#     data=assignment_datum[1]\n",
    "#     with open(filename, 'wb') as f:\n",
    "#         pickle.dump(data, f)\n",
    "#     return"
   ]
  },
  {
   "cell_type": "code",
   "execution_count": null,
   "id": "578af159-7fff-4037-a280-db9946510168",
   "metadata": {},
   "outputs": [],
   "source": [
    "# # old and for conjecture\n",
    "\n",
    "# def get_all_assingment_datum(G,T,starting_ass=None): #draft2\n",
    "    \n",
    "#     \"\"\"\n",
    "#     Returns:\n",
    "#         a list of all assignment datum to be tested for size.\n",
    "#     # Inputs:\n",
    "#         # G #main graph\n",
    "#         # T #fixed tree with assignment 0\n",
    "#         #start_ass= is a np.array([a,b,..]) of length the number of vertices of G if none then takes all 0 assignment.\n",
    "#     \"\"\"\n",
    "    \n",
    "#     #Initalisation:\n",
    "#     vert_num_G=len(G.vertices()) #subg is spanning so all verts of G\n",
    "#     if starting_ass==None:\n",
    "#         starting_ass=np.array([0]*vert_num_G)\n",
    "#     subgraphs= get_subgraphs_gm1_Edgesmissing(G) #\\tilde{G} the subgraphs T\\cup e.\n",
    "#     k_G=len(list(G.spanning_trees()))# number of spanning trees\n",
    "#     M=[(T,[starting_ass])] #Memory <--- Starting case\n",
    "\n",
    "#     print(\"Length of Assignments I WANT:\",k_G)\n",
    "\n",
    "#     #Main loop\n",
    "#     \"We now work to obtain the List of all assignments\"\n",
    "#     partial_all_assignments=[M] #Main object we want to build, with starting case.\n",
    "    \n",
    "#     for counter1 in range(k_G):# Runs over spanning trees to which we have assignments for, until $|M|=k(\\Gamma)$.        \n",
    "#         updated_partial_all_assignments=[]\n",
    "        \n",
    "\n",
    "#         for ind,M in enumerate(partial_all_assignments):\n",
    "            \n",
    "#             ######## TESTING ############################################################\n",
    "#             #For when taking long: to measure\n",
    "#             check_progress(ind, len(partial_all_assignments))   \n",
    "#             ######## TESTING ############################################################\n",
    "\n",
    "#             \"\"\"we now obtain a list of all assignments obtained by extending assignment M by searching through subg containing T\n",
    "#             for different cycles.\"\"\"\n",
    "#             Extensions_M_by_T=Exhaustive_method(M,counter1,subgraphs) # A list of list=[(T,ass_t)| for some subset of trees]\n",
    "            \n",
    "#             updated_partial_all_assignments.extend(Extensions_M_by_T)\n",
    "#             print(ind)\n",
    "            \n",
    "            \n",
    "#         print(f\"Finished iterating through the loop of {len(partial_all_assignments)} partial_all_assignments\")\n",
    "\n",
    "# #         \"\"\"We now update partial_all_assignments to updated_partial_all_assignments, which have assignments on new trees contained in subg containing T.\"\"\"\n",
    "#         partial_all_assignments=updated_partial_all_assignments\n",
    "        \n",
    "#         print(\"Number of partial assignments:\",len(partial_all_assignments))\n",
    "#         print(\"Length of assignments-----------------\",len(partial_all_assignments[0]))\n",
    "        \n",
    "#         \"\"\"Once we have all trees in the assingment we are done\"\"\"\n",
    "        \n",
    "        \n",
    "#         \"\"\"for conjecture: We want to check compatibileity of Agamma0 for all subgraphs.\"\"\"\n",
    "# #         if len(partial_all_assignments[0])==k_G: #it is enough to check the first element as number of extra trees added is constant\n",
    "# #             break   \n",
    "\n",
    "#         \"\"\"for reducing nubmer of assingments for FV_example\"\"\"\n",
    "#         if len(partial_all_assignments[0])==k_G: #it is enough to check the first element as number of extra trees added is constant\n",
    "#             break  \n",
    "        \n",
    "\n",
    "#     return partial_all_assignments"
   ]
  },
  {
   "cell_type": "code",
   "execution_count": null,
   "id": "48a931d9-a692-4ce2-9c50-b04871292a64",
   "metadata": {},
   "outputs": [],
   "source": [
    "# def get_G_p(G,ST_partial):#DFN\n",
    "    \n",
    "#     \"\"\"\n",
    "#     Obj: Return the largest spanning connected subgraph of G, denoted by G_p, such that ST(G_p) is containied in ST_partial\n",
    "    \n",
    "#     input: \n",
    "#     ST_partial: list of spanning trees of partial_ass =[(T,ass),...]\n",
    "#     G is total graph.\n",
    "    \n",
    "#     returns\n",
    "#     \"\"\"\n",
    "#     #init:\n",
    "#     edge_num_G=len(G.edges())\n",
    "#     vert_num_G=len(G.vertices())\n",
    "#     g=edge_num_G-vert_num_G+1\n",
    "    \n",
    "    \n",
    "#     set_ST_partial = set(ST_partial)\n",
    "    \n",
    "# #     print(g)\n",
    "#     for i in range(g-1,0,-1): #goes back from Gamma(g-1) graphs first to Gamma(1)\n",
    "#         #Start with maximal size first subgraph\n",
    "        \n",
    "# #         print(\"i\",i)\n",
    "\n",
    "#         for subg in get_subgraphs_gmi_Edgesmissing(i,G):\n",
    "# #             subg=subg.copy(immutable=True)\n",
    "            \n",
    "#             subg_trees=set([ t.copy(immutable=True) for t in subg.spanning_trees()])\n",
    "#             check=subg_trees.issubset(set_ST_partial)\n",
    "                           \n",
    "#             if check==True:\n",
    "#                 graph_p=subg\n",
    "#                 return graph_p\n",
    "#     return None\n",
    "    \n",
    "#     print(\"HELP NO SUB which is contained in all trees\")"
   ]
  },
  {
   "cell_type": "code",
   "execution_count": null,
   "id": "6efaaef7-6c3e-4cfb-9533-8b30a1f1f406",
   "metadata": {},
   "outputs": [],
   "source": [
    "# G_p=get_G_p(G,ST_partial) \n",
    "\n",
    "# \"\"\"\n",
    "# for the list of largest spanning connected subgraph of G contained in ST_partial, then take saturation \n",
    "# #this must be a stability condition, only take those assignments for which it is.\n",
    "# \"\"\"\n",
    "\n",
    "# #get G_p_ST_partial: is it necessary that G_p_ST_partial is appropriately ordered?\n",
    "# G_p_ST_partial=[t.copy(immutable=True) for t in G_p.spanning_trees()]\n",
    "\n",
    "\n",
    "# partial_all_assignments=reduced(G_p_ST_partial,G_p,partial_all_assignments)\n",
    "# print(f\"Number of partial assignments: After refinement: {len(partial_all_assignments)}\")"
   ]
  },
  {
   "cell_type": "code",
   "execution_count": null,
   "id": "300412df-a9c9-4942-9003-cfe21569a1a4",
   "metadata": {},
   "outputs": [],
   "source": [
    "# #with counter1\n",
    "# def Exhaustive_method(M,counter1,subgraphs):#draft2\n",
    "    \n",
    "#     \"\"\"\n",
    "#     #Main function for get_all_assingment_datum.\n",
    "    \n",
    "#     Inputs: M is a list of tuples (T,Ass_T) ie a partial_assignment M.\n",
    "#     Returns: All extensions of M (Extensions_M_by_T) compatible with T=M[counter][0] iterating over all subgraphs.\n",
    "#     i.e. A list of lists of the form [(T,ass_T)| for some subset of T's]\n",
    "#     \"\"\"\n",
    "    \n",
    "#     #Initialisation:\n",
    "#     pair=M[counter1] #some (T,ass_t), will move along M as counter increases.\n",
    "#     common_tree=pair[0]\n",
    "#     [common_tree_assingment]=pair[1] #this is a list,ass there can be multiple assingmnets so need to unpack\n",
    "#     subg_l_contain_T=[subg for subg in subgraphs if common_tree.is_subgraph(subg, induced=False)]   # subgraphs that contain T.\n",
    "\n",
    "#     \"\"\"We now build the extensions of M per subgraph\"\"\"\n",
    "\n",
    "#     pre_Extensions_M_by_T=[M] #Initial case for building updated_pre_Extensions_M_by_T\n",
    "#     for subg in subg_l_contain_T:\n",
    "#         #Initailisation:\n",
    "#         vert_num_G=len(list(subg.vertices()))\n",
    "#         tails=get_tails(subg)\n",
    "#         [edges_subnecklace]=subg.cycle_basis(output='edge') #return cycle of subgnecklace\n",
    "#         n=len(edges_subnecklace)#length of subnecklace\n",
    "        \n",
    "#         if len(pre_Extensions_M_by_T)==0:\n",
    "#             break\n",
    "            \n",
    "# #         if skipping_subg_we_know(subg,pre_Extensions_M_by_T[0]): #if we already know the assingments for all trees in subg\n",
    "# #             continue\n",
    "\n",
    "#         updated_pre_Extensions_M_by_T=[]\n",
    "#         for pre_M in pre_Extensions_M_by_T:\n",
    "\n",
    "#             Extensions_M_by_T_subg=get_Extensions_M_by_T_subg(pre_M,common_tree,common_tree_assingment,subg,n,tails)\n",
    "            \n",
    "#             if Extensions_M_by_T_subg==None:\n",
    "#                 updated_pre_Extensions_M_by_T=updated_pre_Extensions_M_by_T\n",
    "#             else:\n",
    "#                 updated_pre_Extensions_M_by_T=updated_pre_Extensions_M_by_T+Extensions_M_by_T_subg\n",
    "\n",
    "#         pre_Extensions_M_by_T=updated_pre_Extensions_M_by_T #Overriding existing, so have updated pre_Extensions_M_by_T for next subgraph.\n",
    "\n",
    "#     \"\"\"After iterating through all subgraphs we have the list of all extensions of M from T.\"\"\"\n",
    "#     Extensions_M_by_T=pre_Extensions_M_by_T \n",
    "\n",
    "#     return Extensions_M_by_T"
   ]
  }
 ],
 "metadata": {
  "kernelspec": {
   "display_name": "Python 3 (ipykernel)",
   "language": "python",
   "name": "python3"
  },
  "language_info": {
   "codemirror_mode": {
    "name": "ipython",
    "version": 3
   },
   "file_extension": ".py",
   "mimetype": "text/x-python",
   "name": "python",
   "nbconvert_exporter": "python",
   "pygments_lexer": "ipython3",
   "version": "3.10.8"
  },
  "toc-autonumbering": true,
  "toc-showcode": false,
  "toc-showmarkdowntxt": false,
  "toc-showtags": true
 },
 "nbformat": 4,
 "nbformat_minor": 5
}
