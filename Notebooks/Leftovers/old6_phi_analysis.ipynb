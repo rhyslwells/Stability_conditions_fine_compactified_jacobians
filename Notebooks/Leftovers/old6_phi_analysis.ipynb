{
 "cells": [
  {
   "cell_type": "markdown",
   "id": "c370e30c",
   "metadata": {
    "tags": [],
    "toc-hr-collapsed": true
   },
   "source": [
    "# Overview"
   ]
  },
  {
   "cell_type": "markdown",
   "id": "a305172b-901f-4eb8-91f2-e449725153d5",
   "metadata": {},
   "source": [
    "Recall the definition of $P_{ST}^{\\sigma_{\\Gamma}}$ in Section $2.4$ of the thesis.\n",
    "\n",
    "In this notebook we consider the graphs of Section $1.3$ of the thesis, and for a given graph $\\Gamma$, determine whether the convex region $P_{ST}^{\\sigma_{\\Gamma}}$ is empty or not for all $\\sigma_{\\Gamma} \\in \\Sigma_{\\Gamma,T,D_{T}}^{d}$ (obtained via 4\\_assignments.ipynb and 5_assignments\\_11k3graphs.ipynb), and therefore conclude the existence/non-existence of a numerical polarisation for each $\\sigma_{\\Gamma}$."
   ]
  },
  {
   "cell_type": "markdown",
   "id": "19fddcff-c15f-4753-a0e2-09768a3f56c7",
   "metadata": {},
   "source": [
    "As $P_{ST}^{\\sigma_{\\Gamma}}$ is a convex region if $P_{ST}^{\\sigma_{\\Gamma}}$ has dimension $|V(\\Gamma)|-1$ then $P_{ST}^{\\sigma_{\\Gamma}} \\ne \\emptyset$ and if $P_{ST}^{\\sigma_{\\Gamma}}$ has dimension strictly less than $|V(\\Gamma)|-1$ then $P_{ST}^{\\sigma_{\\Gamma}} = \\emptyset$.\n",
    "\n",
    "Our method to show $P_{ST}^{\\sigma_{\\Gamma}} \\ne \\emptyset$ is to modify the definition of $P_{ST}^{\\sigma_{\\Gamma}}$ and swap $<$ with $\\le$. This modification allows us to utilize the Sage function `Polyhedron()` to construct $P_{ST}^{\\sigma_{\\Gamma}}$ and determine its dimension. We can then ascertain whether, with the modified inequality ($\\le$), the dimension of $P_{ST}^{\\sigma_{\\Gamma}}$ is strictly less than $|V(\\Gamma)|-1$, which implies that $P_{ST}^{\\sigma_{\\Gamma}}$ is indeed an empty set."
   ]
  },
  {
   "cell_type": "markdown",
   "id": "064f72ac",
   "metadata": {
    "tags": []
   },
   "source": [
    "### Results"
   ]
  },
  {
   "cell_type": "markdown",
   "id": "4407d52f",
   "metadata": {},
   "source": [
    "We see that all graphs consider in the Section $1.3$, with the expection of $F$ given by Filippo Viviani have $P_{ST}^{\\sigma_{\\Gamma}} \\ne \\emptyset$ for all $\\sigma_{\\Gamma} \\in \\Sigma_{\\Gamma,T,D_{T}}^{d}$. For the graph $F$ there are $16$ stability conditions $\\sigma_{\\Gamma} \\in \\Sigma_{\\Gamma,T,D_{T}}^{d}$ such that $P_{ST}^{\\sigma_{\\Gamma}} = \\emptyset$. It remains to show that these $16$ are in fact strong stability conditions, we do this in \"7_strong_stability_check.ipynb\"."
   ]
  },
  {
   "cell_type": "markdown",
   "id": "12f24392",
   "metadata": {
    "tags": []
   },
   "source": [
    "### Notes\n"
   ]
  },
  {
   "cell_type": "markdown",
   "id": "7b4ff322",
   "metadata": {},
   "source": [
    "1) For each of the graphs in #Cases we load $\\Sigma_{\\Gamma,T,D_{T}}^{d}$ from \"\\Stability_Conditions\\Graph\\phi_investigation\\examples\\{graphname}\".\n",
    "\n",
    "2) We store the results as a list in \"\\Stability_Conditions\\Graph\\phi_investigation\\examples\\{graphname}\\phi_analysis\""
   ]
  },
  {
   "cell_type": "markdown",
   "id": "11f20772",
   "metadata": {
    "jp-MarkdownHeadingCollapsed": true,
    "tags": [
     "not",
     "done"
    ],
    "toc-hr-collapsed": true
   },
   "source": [
    "# Table of contents"
   ]
  },
  {
   "cell_type": "markdown",
   "id": "4940b5bd",
   "metadata": {
    "tags": [],
    "toc-hr-collapsed": true
   },
   "source": [
    "1. [Functions](#s1)\n",
    "    1. [Main Functions](#s11)\n",
    "    2. [Secondary Functions](#s12)\n",
    "    3. [Loading and storing](#s13)\n",
    "2. [Example](#s3)    \n",
    "3. [Cases](#s2)\n",
    "    1. [$n$-necklace graphs $n \\le 5$](#s21)\n",
    "    2. [$\\Gamma:=\\Gamma_{1 1 k_3}$ for $2 \\le k_3 \\le 6$](#s22)\n",
    "    3. [$\\Gamma:=\\Gamma_{1 k_2 k_3}$ for $k_2\\ge 2$](#s23)\n",
    "    4. [$\\Gamma:=\\Gamma_{k_1 k_2 k_3}$ for $k_1\\ge 2$](#s24)\n",
    "    5. [$\\Gamma \\in \\{ G_1,G_2,G_3,F\\}$](#s25)"
   ]
  },
  {
   "cell_type": "markdown",
   "id": "ae05fafb",
   "metadata": {
    "tags": []
   },
   "source": [
    "# Functions <a name=\"s1\"></a>"
   ]
  },
  {
   "cell_type": "markdown",
   "id": "9c19e609",
   "metadata": {
    "jp-MarkdownHeadingCollapsed": true,
    "tags": []
   },
   "source": [
    "## Used throughout\n"
   ]
  },
  {
   "cell_type": "code",
   "execution_count": null,
   "id": "e8760b0f",
   "metadata": {},
   "outputs": [],
   "source": [
    "import numpy as np\n",
    "import itertools\n",
    "import pickle\n",
    "from fractions import Fraction\n",
    "from collections import Counter\n",
    "import textwrap"
   ]
  },
  {
   "cell_type": "markdown",
   "id": "c95aa339-3257-4521-a9e0-f7ecc0b872c7",
   "metadata": {
    "tags": []
   },
   "source": [
    "## Main functions <a name=\"s11\"></a>"
   ]
  },
  {
   "cell_type": "markdown",
   "id": "ef08b923-65f4-4fcf-9c70-559696e55ab4",
   "metadata": {},
   "source": [
    "We now determine for each $\\sigma_{\\Gamma} \\in \\Sigma_{\\Gamma,T,D_{T}}^{d}$ the dimension of $P_{ST}^{\\sigma_{\\Gamma}}$. The inputs for which are the graph $G$ and the set $\\Sigma_{\\Gamma,T,D_{T}}^{d}$ as data."
   ]
  },
  {
   "cell_type": "code",
   "execution_count": null,
   "id": "c962124c",
   "metadata": {},
   "outputs": [],
   "source": [
    "def analyse_graphname(G,data,start=0,terminator=False): #general not FV example\n",
    "    \"\"\"\n",
    "    Obj: Measure for each stability condition the dimension of P_{ST}^{\\sigma_{\\Gamma}}\n",
    "    #inputs:   \n",
    "    \n",
    "    size: number of vertices of graph minus 1.\n",
    "    graphname:name in folder to load the data\n",
    "    G=Graph([(\"0\",\"1\"),(\"1\",\"2\"),(\"2\",\"0\")], multiedges=True)\n",
    "    #     start: the ith term 1,...,k you want to start the computation from.\n",
    "    #     terminator = is a number 1,...,k, the nth to which we calculate upo to so \n",
    "    not to have to calc all cases (used for examples).\n",
    "    \n",
    "    Returns: a list of dictionaries of the form {\"Dimension of tree-poly\":dim_tree_poly}\n",
    "    where tree-poly is the region P_{ST}^{\\sigma_{\\Gamma}} for each stability codnition\n",
    "    and dim_tree_poly is its dimension.\n",
    "    \"\"\"\n",
    "    \n",
    "    dic_l=[]\n",
    "    top_dim=[] # record those with top dim poly\n",
    "    degen=[] #record wsc with degen poly.\n",
    "    \n",
    "    for term,wsc in enumerate(data):\n",
    "        \n",
    "        #Use start to skip to the case you want to study.\n",
    "        if term<start-1:\n",
    "            continue\n",
    "        \n",
    "        print(\"Start=\",start,\"----\",term,\"----terminator:\",terminator)\n",
    "        \n",
    "        #for Tree_poly\n",
    "        assignments=wsc[2] #[(Graph on 3 vertices, [0, 0, 0]),(Graph on 3 vertices, [0, 0, 0]),(Graph on 3 vertices, [0, 0, 0])]\n",
    "        tree_poly=get_intersection_tree_poly(G,assignments)\n",
    "        dic={\"Dimension of tree-poly\":dim(tree_poly)}\n",
    "        dic_l.append(dic)\n",
    "\n",
    "    \n",
    "    return dic_l"
   ]
  },
  {
   "cell_type": "markdown",
   "id": "24d5c52b-0ae1-44c1-b4dc-fddb4fc3f34c",
   "metadata": {},
   "source": [
    "Recall the definition of $P_{ST}^{\\sigma_{\\Gamma}}$ as $P_{ST}^{\\sigma_{\\Gamma}}= \\bigcap_{T \\in \\mathcal{ST}(\\Gamma)}P_{T}^{\\sigma_{\\Gamma}}$, given in Section $2.4$ of the thesis. The main subfunction of analyse\\_graphname is get\\_intersection\\_tree\\_poly which gives the region $P_{ST}^{\\sigma_{\\Gamma}}$ "
   ]
  },
  {
   "cell_type": "code",
   "execution_count": null,
   "id": "85eb7ff7",
   "metadata": {
    "tags": [
     "Function"
    ]
   },
   "outputs": [],
   "source": [
    "def get_intersection_tree_poly(G,assignments):\n",
    "\n",
    "    \"\"\"\n",
    "    Objective: get P_{ST}^{\\sigma_{\\Gamma}}\n",
    "    Input: \n",
    "    assignments: the tree assignment A_{\\Gamma} for \\sigma_{\\Gamma} as a list of pairs (Tree,divisor).\n",
    "    Returns: P_{ST}^{\\sigma_{\\Gamma}} as a polyhedron (with \\le)\n",
    "    \"\"\"\n",
    "    \n",
    "    #Build and record polytopes.\n",
    "    poly_l=[]\n",
    "    for ass in assignments:\n",
    "    \n",
    "        T,divisor=ass[0],ass[1]\n",
    "    \n",
    "        P=get_tree_poly(G,T,divisor)\n",
    "        \n",
    "        poly_l.append(P)\n",
    "\n",
    "    #Take intersection of polytopes for trees\n",
    "    inter=poly_l[0]\n",
    "    for P in poly_l[1:]:\n",
    "        inter=inter.intersection(P)\n",
    "\n",
    "    return inter"
   ]
  },
  {
   "cell_type": "markdown",
   "id": "49cbf35e-a729-46dc-b966-0d6a6f52a144",
   "metadata": {},
   "source": [
    "Let $\\sigma_\\Gamma \\in \\Sigma_{\\Gamma}^{d}$. To construct $P_{ST}^{\\sigma_{\\Gamma}}$, it is necessary to take the intersection of $P_{T}^{\\sigma_{\\Gamma}}$ for all $T \\in \\mathcal{\\Gamma}$. The following function get\\_tree\\_poly gives $P_{T}^{\\sigma_{\\Gamma}}$ for a $T \\in \\mathcal{ST}(\\Gamma)$ and $\\vec{d} \\in \\sigma_\\Gamma(T)$."
   ]
  },
  {
   "cell_type": "code",
   "execution_count": null,
   "id": "54a7b9fd",
   "metadata": {
    "tags": [
     "Function"
    ]
   },
   "outputs": [],
   "source": [
    "def get_tree_poly(G,T,divisor):#Main\n",
    "    \n",
    "    \"\"\"\n",
    "    Objective:Get P_{T}^{\\sigma_{\\Gamma}} for a tree using the phi-tree-inequalties.\n",
    "    Input: \n",
    "    divisor: d given by \\sigma_{\\Gamma}(T)\n",
    "    T: Spanning tree of \\Gamma\n",
    "    G is graph\n",
    "    Returns: Polyhedron P_{T}^{\\sigma_{\\Gamma}} (with \\le)\n",
    "    \"\"\"\n",
    "\n",
    "    # get list of phi_tree_inequalities_data(G,T) for each trees.(dictionary)\n",
    "    phi_G=phi_tree_inequalities_data(G,T)\n",
    "\n",
    "    hyperp=phi_tree_formatted_hyperplanes(divisor,phi_G,G)\n",
    "\n",
    "    #build a polytope.\n",
    "    tree_poly=Polyhedron(ieqs=hyperp)\n",
    "\n",
    "    return tree_poly"
   ]
  },
  {
   "cell_type": "markdown",
   "id": "02a638aa-2f55-429c-8fdd-9348be59927e",
   "metadata": {},
   "source": [
    "To state $P_{T}^{\\sigma_{\\Gamma}}$ it is necessary to have the hyperplanes which give $P_{T}^{\\sigma_{\\Gamma}}$."
   ]
  },
  {
   "cell_type": "code",
   "execution_count": null,
   "id": "67564178",
   "metadata": {
    "tags": [
     "Function"
    ]
   },
   "outputs": [],
   "source": [
    "def phi_tree_formatted_hyperplanes(divisor,phi_G,G):\n",
    "    \n",
    "    \"\"\"\n",
    "    Objective: Get list of inquality data to feed into Sages Polyhedron function\n",
    "    https://doc.sagemath.org/html/en/reference/discrete_geometry/sage/geometry/polyhedron/constructor.html\n",
    "    \n",
    "    Polyhedron(ieqs=[(0,1,0),(0,0,1),(1,-1,-1)]).Hrepresentation()\n",
    "    (An inequality (-1, -1) x + 1 >= 0,\n",
    "     An inequality (1, 0) x + 0 >= 0,\n",
    "     An inequality (0, 1) x + 0 >= 0)\n",
    "     \n",
    "    to add the total degree inequality x+y+z..=degree.\n",
    "    \n",
    "    Ax=b\n",
    "    \n",
    "    Further Notes:    \n",
    "    Here divisor is a single divisor. Not for all divisors in a set.\n",
    "    \n",
    "    Inputs:\n",
    "    phi_G =  A dictionary that records indexs (vertices of \\Gamma^{'}) of cuts (\\Gamma^{'},\\Gamma^{'c}) as keys, \n",
    "    and value=[num_e_in_tree,num_e_notin_tree]\n",
    "    divisor= divisor in stability condition for tree ie. sigma_{\\Gamma}(T)\n",
    "    \n",
    "    Returns: list of inequalities in the correct format to pass to Polyhedron as above.\n",
    "\n",
    "    \"\"\"\n",
    "    \n",
    "    #length of divisor:\n",
    "    n=len(divisor)\n",
    "    \n",
    "    # We add the total degree equation to inequals for phi\n",
    "    deg=get_first_betti_number(G) #will be 0 for trees.\n",
    "    tot_equ1=[-deg,]+ [1]*n\n",
    "    tot_equ2=[deg,]+ [-1]*n\n",
    "    \n",
    "    #List of inequalities we wish to return\n",
    "    inequals=[tot_equ1,tot_equ2]     \n",
    "        \n",
    "    for indexor in list(phi_G.keys()):\n",
    "\n",
    "        num_e_in_tree,num_e_notin_tree,gamma0_missing_edges=phi_G[indexor] #value=[num_e_in_tree,num_e_notin_tree]    \n",
    "\n",
    "        res_upper=upper_part(indexor,n,divisor,num_e_in_tree,num_e_notin_tree,gamma0_missing_edges)\n",
    "\n",
    "        res_lower=lower_part(indexor,n,divisor,num_e_in_tree,num_e_notin_tree,gamma0_missing_edges)\n",
    "\n",
    "        res_combined= [res_lower,res_upper]\n",
    "\n",
    "        inequals=inequals+res_combined\n",
    "    return inequals"
   ]
  },
  {
   "cell_type": "markdown",
   "id": "6eaf9bb7-6834-430a-a4ce-88d1dc150fc1",
   "metadata": {},
   "source": [
    "In phi\\_tree\\_formatted\\_hyperplanes the main subfunctions of which are:\n",
    "\n",
    "1) get\\_first\\_betti\\_number\n",
    "2) lower\\_part and upper\\_part.\n",
    "\n",
    "The data of phi\\_G is given by phi\\_tree\\_inequalities\\_data (which stores the cut information for all induced elemenart subgraphs)."
   ]
  },
  {
   "cell_type": "markdown",
   "id": "f49be38e-5e0b-4ba9-96fb-c35441183f47",
   "metadata": {},
   "source": [
    "We state how we determine 1). We take $d=b_{1}(\\Gamma)$ to be the first betti number of the graph.\n",
    "As a consequence we have that for $\\vec{d} \\in \\sigma_{\\Gamma}(T)$ we have $deg(\\vec{d})=0$ for any spanning tree $T$."
   ]
  },
  {
   "cell_type": "code",
   "execution_count": null,
   "id": "16b75131",
   "metadata": {
    "tags": [
     "Function"
    ]
   },
   "outputs": [],
   "source": [
    "def get_first_betti_number(G):\n",
    "    #for if the degree of divisors on trees is 0, the degree of lbm is this.\n",
    "    return len(G.edges())-len(G.vertices())+1"
   ]
  },
  {
   "cell_type": "markdown",
   "id": "a9607b8a-b608-4829-be91-20fa7c734f22",
   "metadata": {},
   "source": [
    "We state how we determine 2)."
   ]
  },
  {
   "cell_type": "markdown",
   "id": "5c160358-9b19-4c4d-be13-a5b4769e42f4",
   "metadata": {},
   "source": [
    "For $\\vec{d} \\in \\sigma_{\\Gamma}(\\Gamma_0)$ for $\\Gamma_0$ any connected spanning subgraph or $\\phi \\in V^{d}(\\Gamma)$, the following function allow one to determine $d_{\\Gamma^{'}}= \\sum_{v \\in V\\left(\\Gamma^{\\prime}\\right)}\\vec{d}(v)$ and $\\phi_{\\Gamma^{'}}= \\sum_{v \\in V\\left(\\Gamma^{\\prime}\\right)}\\phi(v)$ for $\\Gamma^{'}$ an induced elementary subgraph.\n",
    "\n"
   ]
  },
  {
   "cell_type": "code",
   "execution_count": null,
   "id": "d1c14f38",
   "metadata": {
    "tags": [
     "Function"
    ]
   },
   "outputs": [],
   "source": [
    "def sum_comps(comp,indexor): #Done\n",
    "    \"\"\"returns the sum of the components of comp in the position by indexor\"\"\"\n",
    "    #for d and phi\n",
    "    sum_l=[comp[int(i)] for i in indexor] #Becuase of the vertex labeling of G having v_0....\n",
    "    return sum(sum_l)"
   ]
  },
  {
   "cell_type": "markdown",
   "id": "354f6a68-6041-4488-82c2-c8bc7dbffb71",
   "metadata": {
    "tags": []
   },
   "source": [
    "Recall for each  elementary induced subgraph $\\Gamma^{'}$ defines two hyperplanes that give the bounds for $\\phi_{\\Gamma^{'}}$ that is is $L_{\\Gamma_0,\\Gamma^{'}}+ \\vec{d}_{\\Gamma^{'}}< \\phi_{\\Gamma^{'}}  <U_{\\Gamma_0,\\Gamma^{'}}+ \\vec{d}_{\\Gamma^{'}}$ (given by lower\\_part and upper\\_part).\n",
    "\n",
    "Let $\\vec{d} \\in \\sigma_{\\Gamma}(\\Gamma_0)$ and consider the pair of inequalities,\n",
    "\n",
    "$$L_{\\Gamma_0,\\Gamma^{'}}< \\phi_{\\Gamma^{'}} - \\vec{d}_{\\Gamma^{'}} <U_{\\Gamma_0,\\Gamma^{'}}$$\n",
    "\n",
    "The function lower\\_part allows one to calculate \n",
    "\n",
    "$$\\phi_{\\Gamma^{'}} <U_{\\Gamma_0,\\Gamma^{'}} + \\vec{d}_{\\Gamma^{'}} .$$\n",
    "\n",
    "\n",
    "and the function upper\\_part allows one to calculate ($L_{\\Gamma_0,\\Gamma^{'}}+ \\vec{d}_{\\Gamma^{'}}< \\phi_{\\Gamma^{'}}$) but we write it in the following method so we can take the inequality in the same direction,\n",
    "\n",
    "$$-\\phi_{\\Gamma^{'}}<-L_{\\Gamma_0,\\Gamma^{'}}- \\vec{d}_{\\Gamma^{'}}$$"
   ]
  },
  {
   "cell_type": "markdown",
   "id": "b4002f57-7f61-4256-8e23-048418e5007c",
   "metadata": {
    "tags": []
   },
   "source": [
    "For the functions lower part and upper part the following terms correspond to:\n",
    "\n",
    "1) T\\_term:\n",
    "    \n",
    "$$\\frac{\\left|\\operatorname{E}\\left(\\Gamma_0\\right) \\backslash\\left(\\operatorname{E}\\left(\\Gamma^{\\prime}\\right) \\cup \\operatorname{E}\\left(\\Gamma^{\\prime c}\\right)\\right)\\right|}{2}$$\n",
    "    "
   ]
  },
  {
   "cell_type": "markdown",
   "id": "734e4909-029e-4b6d-a1ef-46dde382b807",
   "metadata": {
    "tags": []
   },
   "source": [
    "2) T\\_comp\\_term:\n",
    "    \n",
    "$$\\frac{\\left|\\operatorname{E}\\left(\\Gamma_0^c\\right) \\backslash (\\operatorname{E}\\left(\\Gamma^{\\prime}\\right) \\cup \\operatorname{E}\\left(\\Gamma^{\\prime c}\\right))\\right|}{2}$$\n",
    "    \n",
    "3) divisor\\_comp\\_sum:\n",
    "    \n",
    "$$d_{\\Gamma^{'}}= \\sum_{v \\in V\\left(\\Gamma^{\\prime}\\right)}\\vec{d}(v)$$\n",
    "    \n",
    "4) totaldeg\\_divisor\\_comp\\_sum:\n",
    "    \n",
    "$$d_{\\Gamma^{'}}+\\left|\\operatorname{E}\\left(\\Gamma_0^c\\right) \\cap \\operatorname{E}\\left(\\Gamma^{\\prime}\\right)\\right|$$\n",
    "    \n",
    "    \n",
    "\n",
    "5) bterm:\n",
    "    \n",
    "    i) for lower\\_part is\n",
    "\n",
    "$$d_{\\Gamma^{'}}+\\left|\\operatorname{E}\\left(\\Gamma_0^c\\right) \\cap \\operatorname{E}\\left(\\Gamma^{\\prime}\\right)\\right|+\\frac{\\left|\\operatorname{E}\\left(\\Gamma_0\\right) \\backslash\\left(\\operatorname{E}\\left(\\Gamma^{\\prime}\\right) \\cup \\operatorname{E}\\left(\\Gamma^{\\prime c}\\right)\\right)\\right|}{2} +\\frac{\\left|\\operatorname{E}\\left(\\Gamma_0^c\\right) \\backslash (\\operatorname{E}\\left(\\Gamma^{\\prime}\\right) \\cup \\operatorname{E}\\left(\\Gamma^{\\prime c}\\right))\\right|}{2}$$     \n",
    "\n",
    "5) bterm:\n",
    "    \n",
    "    i) for upper\\_part is\n",
    "\n",
    "$$-d_{\\Gamma^{'}}-\\left|\\operatorname{E}\\left(\\Gamma_0^c\\right) \\cap \\operatorname{E}\\left(\\Gamma^{\\prime}\\right)\\right|+\\frac{\\left|\\operatorname{E}\\left(\\Gamma_0\\right) \\backslash\\left(\\operatorname{E}\\left(\\Gamma^{\\prime}\\right) \\cup \\operatorname{E}\\left(\\Gamma^{\\prime c}\\right)\\right)\\right|}{2} -\\frac{\\left|\\operatorname{E}\\left(\\Gamma_0^c\\right) \\backslash (\\operatorname{E}\\left(\\Gamma^{\\prime}\\right) \\cup \\operatorname{E}\\left(\\Gamma^{\\prime c}\\right))\\right|}{2}$$     "
   ]
  },
  {
   "cell_type": "code",
   "execution_count": null,
   "id": "ad2cfa1c",
   "metadata": {
    "tags": [
     "Function"
    ]
   },
   "outputs": [],
   "source": [
    "def lower_part(indexor,n,divisor,num_e_in_tree,num_e_notin_tree,gamma0_missing_edges):\n",
    "\n",
    "    #get b term\n",
    "    T_term=num_e_in_tree*0.5\n",
    "    \n",
    "    T_comp_term=num_e_notin_tree*0.5\n",
    "    \n",
    "    divisor_comp_sum=sum_comps(divisor,indexor)\n",
    "    \n",
    "    totaldeg_divisor_comp_sum=divisor_comp_sum+gamma0_missing_edges#Corrected to total degree\n",
    "    \n",
    "    bterm=[totaldeg_divisor_comp_sum+T_term+T_comp_term] #See phi_tree_inequality_doc\n",
    "    \n",
    "    base=np.zeros(n)\n",
    "    \n",
    "    \"\"\"\n",
    "    It is very important whether its (1,i) or (-1,i) below in l\n",
    "    \"\"\"\n",
    "    l=[(-1,i) for i in indexor] # put -1 in the ith position given be indexor. \n",
    "\n",
    "    for item in l:\n",
    "        ipos = int(item[1]) # ith position\n",
    "        val=item[0]\n",
    "        base[ipos]=val\n",
    "\n",
    "    xyz=base\n",
    "\n",
    "    ineq=bterm+list(xyz) # [b,x,y,z...] want to concat                \n",
    "    return ineq\n",
    "\n",
    "def upper_part(indexor,n,divisor,num_e_in_tree,num_e_notin_tree,gamma0_missing_edges):\n",
    "\n",
    "    #Remember upper part of modulus inequality.\n",
    "\n",
    "    #get b term\n",
    "    T_term=num_e_in_tree*0.5\n",
    "    T_comp_term=num_e_notin_tree*0.5\n",
    "    divisor_comp_sum=sum_comps(divisor,indexor)\n",
    "    totaldeg_divisor_comp_sum=divisor_comp_sum+gamma0_missing_edges#Corrected to total degree\n",
    "\n",
    "    bterm=[-totaldeg_divisor_comp_sum+T_term-T_comp_term] #See phi_tree_inequality_doc\n",
    "\n",
    "    #get x,y,z term\n",
    "    base=np.zeros(n)\n",
    "    l=[(1,i) for i in indexor] # put -1 in the ith position given be indexor.\n",
    "\n",
    "    for item in l:\n",
    "        ipos = int(item[1]) # ith position\n",
    "        val=item[0]\n",
    "        base[ipos]=val\n",
    "\n",
    "    xyz=base\n",
    "\n",
    "    ineq=bterm+list(xyz) # [b,x,y,z...] want to concat\n",
    "\n",
    "    return ineq"
   ]
  },
  {
   "cell_type": "markdown",
   "id": "5d394dfd-cdb7-4652-8dea-83d37e60605e",
   "metadata": {},
   "source": [
    "We now state the information required for upper\\_part and upper\\_part."
   ]
  },
  {
   "cell_type": "markdown",
   "id": "5900a5d7-2ad0-4c4f-b64c-5962abc13a10",
   "metadata": {},
   "source": [
    "Let $\\Gamma^{'}$ be a induced elementary subgraph of $\\Gamma$, and $\\Gamma_0=T \\in \\mathcal{ST}(\\Gamma)$ (also works for connected spanning subgraphs).\n",
    "\n",
    "The data of phi\\_G is given by the following function phi\\_tree\\_inequalities\\_data stores the cut information for all induced elementary subgraphs. In particular it returns a dictionary of keys of vertices of each induced elementary subgraph of $\\Gamma$, with values being a list of the \n",
    "\n",
    "1) the number of edges in $\\Gamma^{'}$ and $\\Gamma_0$\n",
    "\n",
    "2) the number of edges not in $\\Gamma^{'}$ and $\\Gamma_0$\n",
    "\n",
    "3) the number of edges $\\left|\\operatorname{E}\\left(\\Gamma_0^c\\right) \\cap \\operatorname{E}\\left(\\Gamma^{\\prime}\\right)\\right|$."
   ]
  },
  {
   "cell_type": "code",
   "execution_count": null,
   "id": "f00176d9",
   "metadata": {
    "tags": [
     "Function"
    ]
   },
   "outputs": [],
   "source": [
    "def phi_tree_inequalities_data(G,T): #Main\n",
    "    \n",
    "    \"\"\"\n",
    "    Objective: Used in tree_poly\n",
    "    Inputs: \n",
    "    G: graph\n",
    "    T:graph of spanning tree (or any spanning connected subgraph)\n",
    "    \n",
    "    Return:dictionary of data used to define the phi-tree inequalties. \n",
    "    Returns phi_G\n",
    "\n",
    "    Dict contains the vertices of the cut : key\n",
    "    List of [e_in_tree ,e_notin_tree]: value\n",
    "    \n",
    "    Where num_e_in_tree = edges of cut the belong to tree\n",
    "         ,num_e_notin_tree= edges of cut that do not belong to tree\n",
    "         \n",
    "    terms=[num_e_in_tree ,num_e_notin_tree,gamma0_missing_edges]\n",
    "\n",
    "    \"\"\"\n",
    "    \n",
    "    #for main\n",
    "\n",
    "    pairs=get_pairs_con_subg(G)\n",
    "\n",
    "    inequ_data=[]\n",
    "    for pair in pairs: \n",
    "        \n",
    "        #As only care about one complete subg, we get the number of missing edges of T and complete_subg.\n",
    "        complete_subg=pair[0]\n",
    "        gamma0_missing_edges=get_gamma0_missing_edges(G,T,complete_subg)\n",
    "        \n",
    "        \n",
    "        #Would like to know the edges that G has in the cut. i.e. cut_edges_G\n",
    "        cut_edges=get_cut_edges(G,pair)\n",
    "\n",
    "        num_e_in_tree ,num_e_notin_tree=edges_cut_inandnotin_tree(cut_edges,T)\n",
    "\n",
    "        terms=[num_e_in_tree ,num_e_notin_tree,gamma0_missing_edges]\n",
    "        \n",
    "#         print(\"pair[0].vertices():\",pair[0].vertices(),\"pair[1].vertices():\",pair[1].vertices())\n",
    "#         print(\"[num_e_in_tree ,num_e_notin_tree]\",terms)\n",
    "\n",
    "\n",
    "        \"Do we need to add the data for both subg in pair?\"\n",
    "\n",
    "        #get vertices of subg in pair and turn to \"v1v2v3\" format.\n",
    "        subg1_l=pair[0].vertices()\n",
    "        subg1 = ''.join(subg1_l)\n",
    "        inequ_data.append((subg1,terms)) #subg1 is the indexor in phi_tree_formatted_hyperplanes\n",
    "\n",
    "#         print(\"(subg1,terms):\",(subg1,terms))\n",
    "#         subg2_l=pair[1].vertices()\n",
    "#         subg2 = ''.join(subg2_l)\n",
    "#         inequ_data.append((subg2,terms))\n",
    "\n",
    "\n",
    "    #Now join to phi-inequal data dict\n",
    "    phi_tree_iequal_dict = {t[0]: t[1] for t in inequ_data}\n",
    "\n",
    "    return phi_tree_iequal_dict"
   ]
  },
  {
   "cell_type": "markdown",
   "id": "b8c5efa1",
   "metadata": {},
   "source": [
    "We first need to determine the set of all elementary induced subgraphs $(\\Gamma^{'},\\Gamma^{'c})$."
   ]
  },
  {
   "cell_type": "code",
   "execution_count": null,
   "id": "9e3799fe",
   "metadata": {
    "tags": [
     "Function"
    ]
   },
   "outputs": [],
   "source": [
    "def get_pairs_con_subg(G):# for phi_tree_inequalities_data\n",
    "    \n",
    "    \"\"\"\n",
    "    Note: we are not working with multigraphs so connected_subgraph_iterator should give subgraphs with all edges between    \n",
    "    Objective: Used to get cut info and total degree adjustment\n",
    "    Input:\n",
    "    Return: Pairs of complete subgraphs for V and V^{c} such that V scup V^{c}=V(G)\n",
    "    \"\"\"\n",
    "    \n",
    "    vert_G=G.vertices()\n",
    "    edges_G=G.edges()\n",
    "    \n",
    "    #get list of connected subgraphs:\n",
    "    \n",
    "    #Want to get pairs of complete subgraphs for pairs of vertices that is a is disjoint union of all verts\n",
    "    ll=list(G.connected_subgraph_iterator())\n",
    "\n",
    "    # put them into pairs, where vertices are a disjoint union of G.\n",
    "    pairs=[]\n",
    "    for i in ll:\n",
    "        a=i.vertices()\n",
    "        for j in ll:\n",
    "            b=j.vertices()\n",
    "            if sorted(a+b)==vert_G:\n",
    "                #May need to take complete graph here containing a, and for b. \n",
    "                pairs.append((i,j))\n",
    "                \n",
    "#                 \"\"\"\n",
    "#                 We only need one subgraph in the cut, the following step prevents us having both subg in a cut.\n",
    "#                 \"\"\"\n",
    "#                 if (i,j) in pairs:\n",
    "#                     continue\n",
    "#                 if (j,i) in pairs:\n",
    "#                     continue\n",
    "#                 else:\n",
    "#                     pairs.append((i,j))\n",
    "                    \n",
    "#     for i in get_pairs_con_subg(G):\n",
    "#         print(i[0].vertices(),i[1].vertices())\n",
    "    return pairs"
   ]
  },
  {
   "cell_type": "markdown",
   "id": "48f6c69e",
   "metadata": {
    "tags": []
   },
   "source": [
    "Let $\\Gamma_0 :=T$. The next functions allow us to determine:\n",
    "\n",
    " the number of edges in a given cut $(\\Gamma^{'},\\Gamma^{'c})$ belonging to the tree and in particular\n",
    "\n",
    "   $$\\frac{\\left|\\operatorname{E}\\left(\\Gamma_0^c\\right) \\backslash (\\operatorname{E}\\left(\\Gamma^{\\prime}\\right) \\cup \\operatorname{E}\\left(\\Gamma^{\\prime c}\\right))\\right|}{2}$$\n",
    "   \n",
    "  the number of edges in a given cut $(\\Gamma^{'},\\Gamma^{'c})$ belonging to $\\Gamma \\setminus \\Gamma_0$ and in particular\n",
    "  \n",
    "  $$\\frac{\\left|\\operatorname{E}\\left(\\Gamma_0\\right) \\backslash\\left(\\operatorname{E}\\left(\\Gamma^{\\prime}\\right) \\cup \\operatorname{E}\\left(\\Gamma^{\\prime c}\\right)\\right)\\right|}{2}.$$\n",
    "\n",
    "\n",
    "  "
   ]
  },
  {
   "cell_type": "code",
   "execution_count": null,
   "id": "440774b8",
   "metadata": {
    "tags": [
     "Function"
    ]
   },
   "outputs": [],
   "source": [
    "def get_cut_edges(G,pair): #for phi_tree_inequalities_data\n",
    "    \n",
    "    \"\"\"\n",
    "    Obj:Get list of the edges in a cut for a given pair, \n",
    "    for a pair of connected subgraphs that partitions the vertices of G.\n",
    "    \n",
    "    Return: list of edges in cut for a pair of connected subgraphs that partition the vertices of G \n",
    "    \"\"\"\n",
    "    a_edges=pair[0].edges()\n",
    "    b_edges=pair[1].edges()\n",
    "    total_edges=a_edges+b_edges\n",
    "    \n",
    "    edges_G=G.edges()\n",
    "\n",
    "    #Cut edges.\n",
    "    cut_edges=[ e for e in edges_G if e not in total_edges]\n",
    "    \n",
    "    return cut_edges\n",
    "\n",
    "def edges_cut_inandnotin_tree(cut_edges,tree):#Used in phi_tree_inequalities_data\n",
    "    \n",
    "    \"\"\"\n",
    "    \n",
    "    Obj: Consider cut_edges_G and ask if any of the edges of T are in cut_edges_G\n",
    "\n",
    "    Returns: Number of edges in tree, and not in tree\n",
    "    \"\"\"\n",
    "\n",
    "    tree_edges=tree.edges()\n",
    "\n",
    "    e_in_tree=[edge for edge in cut_edges if edge in tree_edges]\n",
    "    # print(\"edges of cut that belong to tree:\",tree_edges_cut)\n",
    "\n",
    "    e_notin_tree=[edge for edge in cut_edges if edge not in tree_edges]\n",
    "    # print(\"edges of cut that do not belong to tree:\",tree_comp_edges_cut)\n",
    "    \n",
    "    num_e_in_tree ,num_e_notin_tree=len(e_in_tree),len(e_notin_tree)\n",
    "    \n",
    "    return num_e_in_tree ,num_e_notin_tree"
   ]
  },
  {
   "cell_type": "markdown",
   "id": "92ab33a3-9178-4483-9a14-c09c5ddaa457",
   "metadata": {},
   "source": [
    "Finally the last function llows us to calculate the number of edges $\\left|\\operatorname{E}\\left(\\Gamma_0^c\\right) \\cap \\operatorname{E}\\left(\\Gamma^{\\prime}\\right)\\right|$."
   ]
  },
  {
   "cell_type": "code",
   "execution_count": null,
   "id": "dccab7ac",
   "metadata": {
    "tags": [
     "Function"
    ]
   },
   "outputs": [],
   "source": [
    "def get_gamma0_missing_edges(G,T,complete_subg):\n",
    "    \"\"\"\n",
    "    Objective:find adjustment to degree of divisors, a number, to correct to the total degree.\n",
    "    given by the number of edges in complete subgraph which are not in gamm0\n",
    "    Input: gamma0 (the tree), and the complete_subg\n",
    "    Return: number of edges complete_subg has over T (on one side of the  cut).\n",
    "    \n",
    "    \n",
    "    Want |E(gamma0^c) cap E(gamma')| where gamma' is the complete subgraph and gamma0 the connected spanning subg.\n",
    "    \"\"\"\n",
    "    \n",
    "    \n",
    "    gamma0_complement=[e for e in G.edges() if e not in T.edges()]\n",
    "    \n",
    "    gamma0_comp_inter_complete_subg=[e for e in gamma0_complement if e in complete_subg.edges()]\n",
    "    \n",
    "    return len(gamma0_comp_inter_complete_subg)"
   ]
  },
  {
   "cell_type": "markdown",
   "id": "71d29d53",
   "metadata": {
    "jp-MarkdownHeadingCollapsed": true,
    "tags": []
   },
   "source": [
    "## Secondary Functions <a name=\"s12\"></a>"
   ]
  },
  {
   "cell_type": "markdown",
   "id": "80a8a7e5-224c-4022-93af-da99ae8023f9",
   "metadata": {},
   "source": [
    "As the graph $F$ is known to have $\\sigma_{\\Gamma} \\in \\Sigma_{\\Gamma,T,D_{T}}^{d}$ where the dimension of $P_{ST}^{\\sigma_{\\Gamma}}$ is strictly less than $|V(\\Gamma)|-1$, we therefore use following function, which is analogous to analyse\\_graphname, where we record those cases where $P_{ST}^{\\sigma_{\\Gamma}}$ the dimension is less than $|V(\\Gamma)|-1$, and those that have dimension $|V(\\Gamma)|-1$."
   ]
  },
  {
   "cell_type": "code",
   "execution_count": null,
   "id": "86411e32",
   "metadata": {},
   "outputs": [],
   "source": [
    "def analyse_graphname_FV(size,graphname,G,data,start=0,terminator=False): \n",
    "    \"\"\"\n",
    "    Obj: Create a table of results for the graph F: \n",
    "    As it has fail cases when dim_tree_poly< |V(\\Gamma)|-1\n",
    "\n",
    "    #inputs:    \n",
    "    size: number of vertices of graph minus 1.\n",
    "    graphname:name in folder to load the data\n",
    "    G=Graph([(\"0\",\"1\"),(\"1\",\"2\"),(\"2\",\"0\")], multiedges=True)\n",
    "    #     start: the ith term 1,...,k you want to start the computation from.\n",
    "    #     terminator = is a number 1,...,k, the nth to which we calculate upo to so \n",
    "    not to have to calc all cases (used for examples).\n",
    "    \n",
    "    Returns: a list of dictionaries of the form {\"Dimension of tree-poly\":dim_tree_poly}\n",
    "    where tree-poly is the region P_{ST}^{\\sigma_{\\Gamma}} for each stability codnition\n",
    "    and dim_tree_poly is its dimension.\n",
    "\n",
    "    \"\"\"\n",
    "    dic_l=[]\n",
    "    top_dim=[] # record those with top dim poly\n",
    "    degen=[] #record wsc with degen poly.\n",
    "    \n",
    "    for term,wsc in enumerate(data):\n",
    "        \n",
    "        #Use start to skip to the case you want to study.\n",
    "        if term<start-1:\n",
    "            continue\n",
    "        print(\"Start=\",start,\"----\",term,\"----terminator:\",terminator)\n",
    "        \n",
    "        #for Tree_poly\n",
    "        assignments=wsc[2] #[(Graph on 3 vertices, [0, 0, 0]),(Graph on 3 vertices, [0, 0, 0]),(Graph on 3 vertices, [0, 0, 0])]\n",
    "        tree_poly=get_intersection_tree_poly(G,assignments)\n",
    "        dim_tree_poly=dim(tree_poly)\n",
    "        \n",
    "        print(\"dim_tree_poly:\",dim_tree_poly)\n",
    "        dic={\"Dimension of tree-poly\":dim_tree_poly}\n",
    "        dic_l.append(dic)\n",
    "        \n",
    "        if dim_tree_poly==size:\n",
    "            top_dim.append(wsc)\n",
    "        else:\n",
    "            print(f\"{term}: WSC not phi: \\n\",wsc)\n",
    "            degen.append(wsc)\n",
    "            \n",
    "    #Store those wsc that fail and those that are top dim poly.\n",
    "    wsc_ex=data[0] #example wsc to get assignment to get trees in order.\n",
    "    ass_ex=wsc_ex[2] # [(T,ass),...]\n",
    "    ordering_trees=[pair[0] for pair in ass_ex]\n",
    "    \n",
    "    #We store the data\n",
    "    pickle_subset_true(graphname,top_dim)\n",
    "    store_data_top_dim(G,top_dim,ordering_trees,graphname)\n",
    "    pickle_subset_false(graphname,degen)\n",
    "    store_data_degen(G,degen,ordering_trees,graphname)\n",
    "    \n",
    "    return dic_l"
   ]
  },
  {
   "cell_type": "markdown",
   "id": "3ccf4750",
   "metadata": {},
   "source": [
    "The following function returns a summary the results of analyse\\_graphname and analyse\\_graphname_FV."
   ]
  },
  {
   "cell_type": "code",
   "execution_count": null,
   "id": "4ce21504",
   "metadata": {},
   "outputs": [],
   "source": [
    "def analyse_table(dic_l):\n",
    "    \n",
    "    \"\"\"\n",
    "    Objective: Give a summary of results\n",
    "    Input: list of dic={\"Dimension of tree-poly\":dim(tree_poly) }  \n",
    "    Return:Summary text of results\n",
    "    \"\"\"\n",
    "    \n",
    "    num_wsc=[]#number of wsc\n",
    "    dim_value_counts=[]\n",
    "\n",
    "    for dic in dic_l:\n",
    "    \n",
    "        num_wsc.append(dic[\"Dimension of tree-poly\"])\n",
    "        dim_value_counts.append(dic[\"Dimension of tree-poly\"])\n",
    "\n",
    "    dim_value_counts_dict=dict(Counter(dim_value_counts)) # dictionary of number of terms of a given dim    \n",
    "    print(textwrap.dedent(f'''\\\n",
    "        Total number of stability conditions {len(num_wsc)}\n",
    "        Number of polytopes of a given (dimension:number of at dim): {dim_value_counts_dict}\n",
    "    '''))\n",
    "    return "
   ]
  },
  {
   "cell_type": "markdown",
   "id": "ee1702e2",
   "metadata": {
    "jp-MarkdownHeadingCollapsed": true,
    "tags": [],
    "toc-hr-collapsed": true
   },
   "source": [
    "## Loading and Storing data <a name=\"s13\"></a>"
   ]
  },
  {
   "cell_type": "markdown",
   "id": "c06ac059-58c1-463a-9545-ac9221df7294",
   "metadata": {},
   "source": [
    "The following functions load the pkl file stored in \"examples/{graphname}/{graphname}.pkl\" depending on the graphname choosen."
   ]
  },
  {
   "cell_type": "code",
   "execution_count": null,
   "id": "d0b678b8-7e92-48b4-92f2-8ed4c24aa8da",
   "metadata": {},
   "outputs": [],
   "source": [
    "def unpickle(graphname):\n",
    "    # Unpickle the list\n",
    "    filename=f\"examples/{graphname}/{graphname}.pkl\"\n",
    "    with open(filename, 'rb') as f:\n",
    "        unpickled_list = pickle.load(f)\n",
    "    return unpickled_list"
   ]
  },
  {
   "cell_type": "markdown",
   "id": "0887debd-7e3e-4d31-a7e2-12e2bd50b26b",
   "metadata": {},
   "source": [
    "The following function stores the dictionry output of analyse\\_graphname. Which states how many stability conditions are of which dimension."
   ]
  },
  {
   "cell_type": "code",
   "execution_count": null,
   "id": "14938845-68b0-4095-902c-f55c6a33fb86",
   "metadata": {},
   "outputs": [],
   "source": [
    "def pickle_dic_l(graphname,dic_l):\n",
    "    # Pickle the list\n",
    "    filename=f\"examples/{graphname}/phi_analysis/dic_l.pkl\"\n",
    "    with open(filename, 'wb') as f:\n",
    "        pickle.dump(dic_l, f)\n",
    "    return"
   ]
  },
  {
   "cell_type": "markdown",
   "id": "e4d57285-a92d-4baf-8b19-14c05335f99e",
   "metadata": {},
   "source": [
    "In the case of the graph $F$ the following functions store the pkl files of the output of the function analyse\\_graphname\\_FV. The first stores those with polytope which has dimension $|V(\\Gamma) |-1$ the second those which do not."
   ]
  },
  {
   "cell_type": "code",
   "execution_count": null,
   "id": "9488b307-0698-463e-ae8d-30e5f4e81ba1",
   "metadata": {},
   "outputs": [],
   "source": [
    "def pickle_subset_true(graphname,l):\n",
    "    # Pickle the list\n",
    "    filename=f\"{graphname}_top_dim.pkl\"\n",
    "    with open(filename, 'wb') as f:\n",
    "        pickle.dump(l, f)\n",
    "    f.close()  # Close the file after writing\n",
    "\n",
    "    return\n",
    "\n",
    "def pickle_subset_false(graphname,l):\n",
    "    # Pickle the list\n",
    "    filename=f\"{graphname}_degen.pkl\"\n",
    "    with open(filename, 'wb') as f:\n",
    "        pickle.dump(l, f)\n",
    "    f.close()  # Close the file after writing\n",
    "\n",
    "    return"
   ]
  },
  {
   "cell_type": "markdown",
   "id": "ec43d9a2-7160-4050-82e9-6548fb33d9b4",
   "metadata": {},
   "source": [
    "The following functions save a text description of the output of analyse\\_graphname. In particular a description of each stability condition of either those with a polytope which has dimension $|V(\\Gamma) |-1, or those that do not."
   ]
  },
  {
   "cell_type": "code",
   "execution_count": null,
   "id": "4d60ddc8",
   "metadata": {},
   "outputs": [],
   "source": [
    "#Storing files \n",
    "def output_to_file(G,total_data,ordering_trees):#in text files\n",
    "    \"\"\"\n",
    "    Objective: GEt text file descibing stability conditions\n",
    "    Input: total_data is a set of stability conditions.\n",
    "    ordering_trees is a list of spanning trees described by edges.\n",
    "    Returns: text file\n",
    "    \n",
    "    Return to text file:\n",
    "    - add list of subgraphs under trees.\n",
    "    - record list of cycles for subg, after lbm. \n",
    "    \"\"\"\n",
    "\n",
    "    print(f\"Information: Here are all stability conditions for the graph G\")\n",
    "    print(f\"Graph: {G.edges()} \\n\")\n",
    "    \n",
    "    print(f\"There are {len(total_data)} stability conditions for G. \\n\")\n",
    "    \n",
    "    print(f\"The spanning trees of G are ordered as follows:\")\n",
    "    for index,tree in enumerate(ordering_trees):\n",
    "        print(f\"Tree {index+1}: {tree.edges()}\" )\n",
    "        \n",
    "    print(f\"\\n The spanning subgraphs of G of the for T cup e are ordered as follows:\")\n",
    "    \n",
    "    \"\"\"\n",
    "    Fix order of subg printed:\n",
    "    \n",
    "    Here get_subgraphs_gm1_Edgesmissing does not reflect the ordering of subg in subg_cycle_l=tup[3]\n",
    "    subgraphs= get_subgraphs_gm1_Edgesmissing(G) #Get #\\tilde{G} the subgraphs Tcup e.-D\n",
    "\n",
    "    #Assuming subg_cycle_l for each element of total_data is ordered the same subg.\n",
    "    \"\"\"\n",
    "\n",
    "    tup_example=total_data[0]\n",
    "    subg_cycle_l=tup_example[3]\n",
    "    subg_ll=[pair[0] for pair in subg_cycle_l]\n",
    "\n",
    "    for index,subg in enumerate(subg_ll):\n",
    "        print(f\"Subgraph {index+1}: {subg.edges()}\" )\n",
    "    \n",
    "\n",
    "    print(\"\\n We will now list all stabilty conditions. The data will be presented in three lines:\")\n",
    "    print(\"   1. The assignment datum on trees the order of which will be given by the Tree order,\")\n",
    "    print(\"   2. The union of sets of the form assignment datum of T + the set of break divisors for T, \" )          \n",
    "    print(\"   3. The cycle used with th subgraph to obtain the assignments on trees (ordered by subgraphs above).\\n\")\n",
    "\n",
    "    for tup in total_data:\n",
    "        \n",
    "        print(tup[0]) #assignment datum\n",
    "        \n",
    "        #Put sigma to list format\n",
    "        print(tup[1].tolist()) #lbm\n",
    "        \n",
    "        subg_cycle_l=tup[3]\n",
    "        l_cycles=[(x[1],x[2].edges()) for x in subg_cycle_l] #records cycle and tree for sub.\n",
    "        print(l_cycles)\n",
    "        \n",
    "        print(\"\\n\")\n",
    "    \n",
    "    return"
   ]
  },
  {
   "cell_type": "code",
   "execution_count": null,
   "id": "63e9f245-96a0-451c-ab4e-7479523d5b27",
   "metadata": {},
   "outputs": [],
   "source": [
    "def store_data_top_dim(G,total_data,ordering_trees,graphname=\"test\"):\n",
    "    name=f\"{graphname}_top_dim.txt\"\n",
    "    print(name)\n",
    "    with open(name, \"w\") as f:\n",
    "        sys.stdout = f\n",
    "#         print(\"before output\")\n",
    "        output_to_file(G,total_data,ordering_trees)\n",
    "#         print(\"after output\")\n",
    "        \n",
    "        sys.stdout = sys.__stdout__\n",
    "#         print(\"here closes??\")\n",
    "    f.close()  # Close the file after writing\n",
    "#     print(\"does it close????\")\n",
    "    return\n",
    "\n",
    "def store_data_degen(G,total_data,ordering_trees,graphname=\"test\"):\n",
    "    name=f\"{graphname}_degen.txt\"\n",
    "    print(name)\n",
    "    with open(name, \"w\") as f:\n",
    "        sys.stdout = f\n",
    "\n",
    "        output_to_file(G,total_data,ordering_trees)\n",
    "\n",
    "        sys.stdout = sys.__stdout__\n",
    "    f.close()  # Close the file after writing\n",
    "\n",
    "    return"
   ]
  },
  {
   "cell_type": "markdown",
   "id": "0bbb424d-4873-48e8-b59e-21a61b9570f8",
   "metadata": {
    "tags": []
   },
   "source": [
    "# Example <a name=\"s3\"></a>"
   ]
  },
  {
   "cell_type": "markdown",
   "id": "363956e2-54ad-4b96-ae0e-94ceabe4c174",
   "metadata": {},
   "source": [
    "To help us understand the above functions let us fix $\\Gamma$ to be the $3$-necklace graph."
   ]
  },
  {
   "cell_type": "code",
   "execution_count": null,
   "id": "3f945906-97c3-4136-afb6-7ae94ef5bdc0",
   "metadata": {},
   "outputs": [],
   "source": [
    "# graphname=\"G3\"\n",
    "G=Graph([(\"0\",\"1\"),(\"1\",\"2\"),(\"2\",\"0\")], multiedges=True)\n",
    "spanning_trees=[tree for tree in G.spanning_trees()]\n",
    "T=spanning_trees[0]\n",
    "# plot(G, figsize=3)"
   ]
  },
  {
   "cell_type": "markdown",
   "id": "5aa26688-1e33-43b2-8f98-5850f399ce6e",
   "metadata": {},
   "source": [
    "We see we can obtain all pair of elementary induced graphs"
   ]
  },
  {
   "cell_type": "code",
   "execution_count": null,
   "id": "e394971b-e822-475d-bb18-6491de917e3d",
   "metadata": {},
   "outputs": [],
   "source": [
    "get_pairs_con_subg(G)"
   ]
  },
  {
   "cell_type": "markdown",
   "id": "c7bd9117-81f8-4677-8f60-239e15db1d6b",
   "metadata": {},
   "source": [
    "For both unique stability conditions for the $3$-necklace graph we see that $P_{ST}^{\\sigma_{\\Gamma}}$ has dimension $2$."
   ]
  },
  {
   "cell_type": "code",
   "execution_count": null,
   "id": "9b593b8c",
   "metadata": {
    "tags": []
   },
   "outputs": [],
   "source": [
    "#Trivial I3 example\n",
    "assignments=[(spanning_trees[0],[0,0,0]),(spanning_trees[1],[0,0,0]),(spanning_trees[2],[0,0,0])]\n",
    "inter_triv=get_intersection_tree_poly(G,assignments)\n",
    "print(dim(inter_triv))"
   ]
  },
  {
   "cell_type": "code",
   "execution_count": null,
   "id": "989a8e73",
   "metadata": {
    "tags": []
   },
   "outputs": [],
   "source": [
    "#Non-trivial I3 example\n",
    "assignments=[(spanning_trees[0],[0,0,0]),(spanning_trees[1],[0,1,-1]),(spanning_trees[2],[1,0,-1])]\n",
    "inter_nontriv=get_intersection_tree_poly(G,assignments)\n",
    "print(dim(inter_nontriv))"
   ]
  },
  {
   "cell_type": "markdown",
   "id": "2eeab92c",
   "metadata": {
    "jp-MarkdownHeadingCollapsed": true,
    "tags": [],
    "toc-hr-collapsed": true
   },
   "source": [
    "# Cases <a name=\"s2\"></a>"
   ]
  },
  {
   "cell_type": "markdown",
   "id": "0643c0de-dd38-438c-ab7b-fee13684bb7c",
   "metadata": {},
   "source": [
    "We now determine for the graphs of Section $1.3$ of the thesis whether each graph $\\Gamma$, the convex region $P_{ST}^{\\sigma_{\\Gamma}}$ is empty or not for all $\\sigma_{\\Gamma} \\in \\Sigma_{\\Gamma,T,D_{T}}^{d}$ (obtained via 4\\_assignments.ipynb and 5_assignments\\_11k3graphs.ipynb),"
   ]
  },
  {
   "cell_type": "markdown",
   "id": "77d8865c",
   "metadata": {
    "jp-MarkdownHeadingCollapsed": true,
    "tags": [],
    "toc-hr-collapsed": true
   },
   "source": [
    "## $n$-necklace graphs $n \\le 5$ <a name=\"s21\"></a>"
   ]
  },
  {
   "cell_type": "markdown",
   "id": "c23eb79d",
   "metadata": {},
   "source": [
    "Even though we know by Section $3.1$ that for every genus $1$ graph, every stability conditions is given by a numerical polatisation, we check the first few cases to ensure the methods are correct."
   ]
  },
  {
   "cell_type": "markdown",
   "id": "4287ad8c",
   "metadata": {
    "jp-MarkdownHeadingCollapsed": true,
    "tags": []
   },
   "source": [
    "### $3$-necklace"
   ]
  },
  {
   "cell_type": "code",
   "execution_count": null,
   "id": "09d66fdb",
   "metadata": {},
   "outputs": [],
   "source": [
    "%%time\n",
    "graphname=\"G3\"\n",
    "G=Graph([(\"0\",\"1\"),(\"1\",\"2\"),(\"2\",\"0\")], multiedges=True)\n",
    "\n",
    "data=unpickle(graphname) #Size=2\n",
    "\n",
    "dic_l=analyse_graphname(G,data)\n",
    "\n",
    "#Store list of dictionaries\n",
    "# pickle_dic_l(graphname,dic_l)"
   ]
  },
  {
   "cell_type": "code",
   "execution_count": null,
   "id": "e38140b0",
   "metadata": {},
   "outputs": [],
   "source": [
    "analyse_table(dic_l)"
   ]
  },
  {
   "cell_type": "markdown",
   "id": "4769dd90",
   "metadata": {
    "jp-MarkdownHeadingCollapsed": true,
    "tags": []
   },
   "source": [
    "### $4$-necklace"
   ]
  },
  {
   "cell_type": "code",
   "execution_count": null,
   "id": "4442e6dc",
   "metadata": {},
   "outputs": [],
   "source": [
    "%%time\n",
    "graphname=\"G4\"\n",
    "G=Graph([(\"0\",\"1\"),(\"1\",\"2\"),(\"2\",\"3\"),(\"3\",\"0\")], multiedges=True)\n",
    "\n",
    "data=unpickle(graphname) #Size=6\n",
    "\n",
    "dic_l=analyse_graphname(G,data)\n",
    "\n",
    "#Store list of dictionaries\n",
    "# pickle_dic_l(graphname,dic_l)"
   ]
  },
  {
   "cell_type": "code",
   "execution_count": null,
   "id": "11a17794",
   "metadata": {},
   "outputs": [],
   "source": [
    "analyse_table(dic_l)"
   ]
  },
  {
   "cell_type": "markdown",
   "id": "bae28156",
   "metadata": {
    "jp-MarkdownHeadingCollapsed": true,
    "tags": []
   },
   "source": [
    "### $5$-necklace"
   ]
  },
  {
   "cell_type": "code",
   "execution_count": null,
   "id": "52fdcb0d",
   "metadata": {
    "tags": []
   },
   "outputs": [],
   "source": [
    "%%time\n",
    "graphname=\"G5\"\n",
    "G=Graph([(\"0\",\"1\"),(\"1\",\"2\"),(\"2\",\"3\"),(\"3\",\"4\"),(\"4\",\"0\")], multiedges=True)\n",
    "\n",
    "data=unpickle(graphname) #Size=24\n",
    "\n",
    "dic_l=analyse_graphname(G,data)\n",
    "\n",
    "#Store list of dictionaries\n",
    "# pickle_dic_l(graphname,dic_l)"
   ]
  },
  {
   "cell_type": "code",
   "execution_count": null,
   "id": "d1873828",
   "metadata": {},
   "outputs": [],
   "source": [
    "analyse_table(dic_l)"
   ]
  },
  {
   "cell_type": "markdown",
   "id": "5243ab9e",
   "metadata": {
    "jp-MarkdownHeadingCollapsed": true,
    "tags": [],
    "toc-hr-collapsed": true
   },
   "source": [
    "## $\\Gamma:=\\Gamma_{1 1 k_3}$ for $2 \\le k_3 \\le 6$  <a name=\"s22\"></a>"
   ]
  },
  {
   "cell_type": "markdown",
   "id": "d30bfac9",
   "metadata": {},
   "source": [
    "We now consider the dimension of $P_{ST}^{\\sigma_{\\Gamma}}$ for $ \\sigma_{\\Gamma} \\in \\Sigma_{\\Gamma,T,D_{T}}^{d}$ for graphs  \n",
    "$\\Gamma:=\\Gamma_{k_1 k_2 k_3}$ with $(k_1,k_2,k_3)=\\{(1,1,2),(1,1,3),(1,1,4),(1,1,5),(1,1,6)\\}$. "
   ]
  },
  {
   "cell_type": "markdown",
   "id": "86302fe2",
   "metadata": {
    "jp-MarkdownHeadingCollapsed": true,
    "tags": []
   },
   "source": [
    "### $(k_1,k_2,k_3)=(1,1,2)$"
   ]
  },
  {
   "cell_type": "code",
   "execution_count": null,
   "id": "d0a80f76",
   "metadata": {},
   "outputs": [],
   "source": [
    "%%time\n",
    "graphname=\"G3M1\" \n",
    "G=Graph([(\"0\",\"1\",\"e11\"),(\"1\",\"2\",\"e2\"),(\"2\",\"0\",\"e3\"),(\"0\",\"1\",\"e12\")], multiedges=True)\n",
    "\n",
    "data=unpickle(graphname) #Size=2\n",
    "\n",
    "dic_l=analyse_graphname(G,data)\n",
    "\n",
    "#Store list of dictionaries\n",
    "# pickle_dic_l(graphname,dic_l)"
   ]
  },
  {
   "cell_type": "code",
   "execution_count": null,
   "id": "814785f6",
   "metadata": {},
   "outputs": [],
   "source": [
    "analyse_table(dic_l)"
   ]
  },
  {
   "cell_type": "markdown",
   "id": "321e513f",
   "metadata": {
    "jp-MarkdownHeadingCollapsed": true,
    "tags": []
   },
   "source": [
    "### $(k_1,k_2,k_3)=(1,1,3)$"
   ]
  },
  {
   "cell_type": "code",
   "execution_count": null,
   "id": "24316b0d",
   "metadata": {},
   "outputs": [],
   "source": [
    "%%time\n",
    "graphname=\"G4M1\" \n",
    "G=Graph([(\"0\",\"1\",\"e11\"),(\"1\",\"2\",\"e2\"),(\"2\",\"3\",\"e3\"),(\"3\",\"0\",\"e4\"),(\"0\",\"1\",\"e12\")], multiedges=True)\n",
    "\n",
    "data=unpickle(graphname) #Size=6\n",
    "\n",
    "dic_l=analyse_graphname(G,data)\n",
    "\n",
    "#Store list of dictionaries\n",
    "# pickle_dic_l(graphname,dic_l)"
   ]
  },
  {
   "cell_type": "code",
   "execution_count": null,
   "id": "a92680af",
   "metadata": {},
   "outputs": [],
   "source": [
    "analyse_table(dic_l)"
   ]
  },
  {
   "cell_type": "markdown",
   "id": "47b5a629",
   "metadata": {
    "jp-MarkdownHeadingCollapsed": true,
    "tags": []
   },
   "source": [
    "### $(k_1,k_2,k_3)=(1,1,4)$"
   ]
  },
  {
   "cell_type": "code",
   "execution_count": null,
   "id": "3b57566e",
   "metadata": {
    "tags": []
   },
   "outputs": [],
   "source": [
    "%%time\n",
    "graphname=\"G5M1\" \n",
    "G=Graph([(\"0\",\"1\",\"e11\"),(\"1\",\"2\",\"e2\"),(\"2\",\"3\",\"e3\"),(\"3\",\"4\",\"e4\"),(\"4\",\"0\",\"e5\"),(\"0\",\"1\",\"e12\")], multiedges=True)\n",
    "\n",
    "data=unpickle(graphname) #Size=24\n",
    "\n",
    "dic_l=analyse_graphname(G,data)\n",
    "\n",
    "#Store list of dictionaries\n",
    "# pickle_dic_l(graphname,dic_l)"
   ]
  },
  {
   "cell_type": "code",
   "execution_count": null,
   "id": "c1685a51",
   "metadata": {},
   "outputs": [],
   "source": [
    "analyse_table(dic_l)"
   ]
  },
  {
   "cell_type": "markdown",
   "id": "f8329147",
   "metadata": {
    "jp-MarkdownHeadingCollapsed": true,
    "tags": []
   },
   "source": [
    "### $(k_1,k_2,k_3)=(1,1,5)$"
   ]
  },
  {
   "cell_type": "code",
   "execution_count": null,
   "id": "4d0d3db3-fed5-41a5-ad39-584f583e1976",
   "metadata": {
    "tags": []
   },
   "outputs": [],
   "source": [
    "%%time\n",
    "graphname=\"G6M1\" \n",
    "G=Graph([(\"0\",\"1\",\"e11\"),(\"1\",\"2\",\"e2\"),(\"2\",\"3\",\"e3\"),(\"3\",\"4\",\"e4\"),(\"4\",\"5\",\"e5\"),(\"5\",\"0\",\"e6\"),(\"0\",\"1\",\"e12\")], multiedges=True)\n",
    "\n",
    "data=unpickle(graphname) #Size=120\n",
    "\n",
    "dic_l=analyse_graphname(G,data)\n",
    "\n",
    "#Store list of dictionaries\n",
    "# pickle_dic_l(graphname,dic_l)"
   ]
  },
  {
   "cell_type": "code",
   "execution_count": null,
   "id": "7f239b3f-d769-419f-9e64-56f34904d60f",
   "metadata": {},
   "outputs": [],
   "source": [
    "analyse_table(dic_l)"
   ]
  },
  {
   "cell_type": "markdown",
   "id": "d37f1e62",
   "metadata": {
    "jp-MarkdownHeadingCollapsed": true,
    "tags": []
   },
   "source": [
    "### $(k_1,k_2,k_3)=(1,1,6)$"
   ]
  },
  {
   "cell_type": "code",
   "execution_count": null,
   "id": "e0ce52e5-030e-4911-968c-4bd4b25effd2",
   "metadata": {
    "tags": []
   },
   "outputs": [],
   "source": [
    "%%time\n",
    "graphname=\"G7M1\" \n",
    "G=Graph([(\"0\",\"1\",\"e11\"),(\"1\",\"2\",\"e2\"),(\"2\",\"3\",\"e3\"),(\"3\",\"4\",\"e4\"),(\"4\",\"5\",\"e5\"),(\"5\",\"6\",\"e6\"),(\"6\",\"0\",\"e7\"),(\"0\",\"1\",\"e12\")], multiedges=True)\n",
    "\n",
    "data=unpickle(graphname) #Size=720\n",
    "\n",
    "dic_l=analyse_graphname(G,data)\n",
    "\n",
    "#Store list of dictionaries\n",
    "# pickle_dic_l(graphname,dic_l)"
   ]
  },
  {
   "cell_type": "code",
   "execution_count": null,
   "id": "4054bd8d-80ae-41ea-a907-76a5309aa8ca",
   "metadata": {},
   "outputs": [],
   "source": [
    "analyse_table(dic_l)"
   ]
  },
  {
   "cell_type": "markdown",
   "id": "9c120c53",
   "metadata": {
    "jp-MarkdownHeadingCollapsed": true,
    "tags": [],
    "toc-hr-collapsed": true
   },
   "source": [
    "## $\\Gamma:=\\Gamma_{1 k_2 k_3}$ for $k_2\\ge 2$  <a name=\"s23\"></a>"
   ]
  },
  {
   "cell_type": "markdown",
   "id": "2b54ded7",
   "metadata": {},
   "source": [
    "We now consider the dimension of $P_{ST}^{\\sigma_{\\Gamma}}$ for $ \\sigma_{\\Gamma} \\in \\Sigma_{\\Gamma,T,D_{T}}^{d}$ for graphs   $\\Gamma:=\\Gamma_{k_1 k_2 k_3}$ with $(k_1,k_2,k_3)=\\{(1,2,2),(1,2,3),(1,2,4),(1,3,3),(1,2,5),(1,3,4)\\}$. "
   ]
  },
  {
   "cell_type": "markdown",
   "id": "8c0e621c",
   "metadata": {
    "tags": []
   },
   "source": [
    "### $(k_1,k_2,k_3)=(1,2,2)$"
   ]
  },
  {
   "cell_type": "code",
   "execution_count": null,
   "id": "3ebd1781",
   "metadata": {
    "tags": []
   },
   "outputs": [],
   "source": [
    "%%time\n",
    "graphname=\"G4M2\" \n",
    "G=Graph([(\"0\",\"1\"),(\"1\",\"2\"),(\"2\",\"3\"),(\"3\",\"0\"),(\"0\",\"2\")], multiedges=True)\n",
    "\n",
    "data=unpickle(graphname) #Size=6\n",
    "\n",
    "dic_l=analyse_graphname(G,data)"
   ]
  },
  {
   "cell_type": "code",
   "execution_count": null,
   "id": "36e7c3e6",
   "metadata": {
    "tags": []
   },
   "outputs": [],
   "source": [
    "#Store list of dictionaries\n",
    "# pickle_dic_l(graphname,dic_l)"
   ]
  },
  {
   "cell_type": "code",
   "execution_count": null,
   "id": "cdb79701",
   "metadata": {
    "tags": []
   },
   "outputs": [],
   "source": [
    "analyse_table(dic_l)"
   ]
  },
  {
   "cell_type": "markdown",
   "id": "c73b2f08",
   "metadata": {
    "jp-MarkdownHeadingCollapsed": true,
    "tags": []
   },
   "source": [
    "### $(k_1,k_2,k_3)=(1,2,3)$"
   ]
  },
  {
   "cell_type": "code",
   "execution_count": null,
   "id": "8a752d0c",
   "metadata": {
    "tags": []
   },
   "outputs": [],
   "source": [
    "%%time\n",
    "graphname=\"G5M2\"\n",
    "G=Graph([(\"0\",\"1\"),(\"1\",\"2\"),(\"2\",\"3\"),(\"3\",\"4\"),(\"4\",\"0\"),(\"0\",\"2\")], multiedges=True)\n",
    "\n",
    "data=unpickle(graphname) #Size=24\n",
    "\n",
    "dic_l=analyse_graphname(G,data)"
   ]
  },
  {
   "cell_type": "code",
   "execution_count": null,
   "id": "034aeadf",
   "metadata": {
    "tags": []
   },
   "outputs": [],
   "source": [
    "#Store list of dictionaries\n",
    "# pickle_dic_l(graphname,dic_l)"
   ]
  },
  {
   "cell_type": "code",
   "execution_count": null,
   "id": "2af0ac39",
   "metadata": {},
   "outputs": [],
   "source": [
    "analyse_table(dic_l)"
   ]
  },
  {
   "cell_type": "markdown",
   "id": "d3022987",
   "metadata": {
    "jp-MarkdownHeadingCollapsed": true,
    "tags": []
   },
   "source": [
    "### $(k_1,k_2,k_3)=(1,2,4)$"
   ]
  },
  {
   "cell_type": "code",
   "execution_count": null,
   "id": "6817fdfb",
   "metadata": {
    "tags": []
   },
   "outputs": [],
   "source": [
    "%%time\n",
    "graphname=\"G6M2\"\n",
    "G=Graph([(\"0\",\"1\"),(\"1\",\"2\"),(\"2\",\"3\"),(\"3\",\"4\"),(\"4\",\"5\"),(\"5\",\"0\"),(\"0\",\"2\")], multiedges=True)\n",
    "\n",
    "data=unpickle(graphname) #Size=120\n",
    "\n",
    "dic_l=analyse_graphname(G,data)"
   ]
  },
  {
   "cell_type": "code",
   "execution_count": null,
   "id": "ed6ff000",
   "metadata": {
    "tags": []
   },
   "outputs": [],
   "source": [
    "#Store list of dictionaries\n",
    "# pickle_dic_l(graphname,dic_l)"
   ]
  },
  {
   "cell_type": "code",
   "execution_count": null,
   "id": "05c35e2d",
   "metadata": {},
   "outputs": [],
   "source": [
    "analyse_table(dic_l)"
   ]
  },
  {
   "cell_type": "markdown",
   "id": "70eaa04a",
   "metadata": {
    "jp-MarkdownHeadingCollapsed": true,
    "tags": []
   },
   "source": [
    "### $(k_1,k_2,k_3)=(1,3,3)$"
   ]
  },
  {
   "cell_type": "code",
   "execution_count": null,
   "id": "1fd9160a",
   "metadata": {
    "tags": []
   },
   "outputs": [],
   "source": [
    "%%time\n",
    "graphname=\"G6M3\"  \n",
    "G=Graph([(\"0\",\"1\"),(\"1\",\"2\"),(\"2\",\"3\"),(\"3\",\"4\"),(\"4\",\"5\"),(\"5\",\"0\"),(\"0\",\"3\")], multiedges=True)\n",
    "\n",
    "data=unpickle(graphname) #Size=120\n",
    "\n",
    "dic_l=analyse_graphname(G,data)"
   ]
  },
  {
   "cell_type": "code",
   "execution_count": null,
   "id": "75f0cef2",
   "metadata": {
    "tags": []
   },
   "outputs": [],
   "source": [
    "#Store list of dictionaries\n",
    "# pickle_dic_l(graphname,dic_l)"
   ]
  },
  {
   "cell_type": "code",
   "execution_count": null,
   "id": "1a838d03",
   "metadata": {},
   "outputs": [],
   "source": [
    "analyse_table(dic_l)"
   ]
  },
  {
   "cell_type": "markdown",
   "id": "2722581e",
   "metadata": {
    "jp-MarkdownHeadingCollapsed": true,
    "tags": []
   },
   "source": [
    "### $(k_1,k_2,k_3)=(1,2,5)$"
   ]
  },
  {
   "cell_type": "code",
   "execution_count": null,
   "id": "fa7ee27d-edbc-4e51-b6a4-d500146f6792",
   "metadata": {},
   "outputs": [],
   "source": [
    "%%time\n",
    "graphname=\"G7M02\"\n",
    "G=Graph([(\"0\",\"1\"),(\"1\",\"2\"),(\"2\",\"3\"),(\"3\",\"4\"),(\"4\",\"5\"),(\"5\",\"6\"),(\"6\",\"0\"),(\"0\",\"2\")], multiedges=True)\n",
    "\n",
    "data=unpickle(graphname) \n",
    "\n",
    "dic_l=analyse_graphname(G,data)\n",
    "\n",
    "#Store list of dictionaries\n",
    "# pickle_dic_l(graphname,dic_l)"
   ]
  },
  {
   "cell_type": "code",
   "execution_count": null,
   "id": "919b1e45-c22d-4ca9-bc92-24f1e0268a01",
   "metadata": {},
   "outputs": [],
   "source": [
    "analyse_table(dic_l)"
   ]
  },
  {
   "cell_type": "markdown",
   "id": "3d2ce580",
   "metadata": {
    "jp-MarkdownHeadingCollapsed": true,
    "tags": []
   },
   "source": [
    "### $(k_1,k_2,k_3)=(1,3,4)$"
   ]
  },
  {
   "cell_type": "code",
   "execution_count": null,
   "id": "21489ce2-1246-4879-a142-8e9b13c1431c",
   "metadata": {},
   "outputs": [],
   "source": [
    "%%time\n",
    "graphname=\"G7M03\"\n",
    "G=Graph([(\"0\",\"1\"),(\"1\",\"2\"),(\"2\",\"3\"),(\"3\",\"4\"),(\"4\",\"5\"),(\"5\",\"6\"),(\"6\",\"0\"),(\"0\",\"3\")], multiedges=True)\n",
    "\n",
    "data=unpickle(graphname) \n",
    "\n",
    "dic_l=analyse_graphname(G,data)\n",
    "\n",
    "#Store list of dictionaries\n",
    "# pickle_dic_l(graphname,dic_l)"
   ]
  },
  {
   "cell_type": "code",
   "execution_count": null,
   "id": "3f578f15-d3a3-4441-8b1d-8aa6a140acbf",
   "metadata": {},
   "outputs": [],
   "source": [
    "analyse_table(dic_l)"
   ]
  },
  {
   "cell_type": "markdown",
   "id": "1525a490",
   "metadata": {
    "jp-MarkdownHeadingCollapsed": true,
    "tags": [],
    "toc-hr-collapsed": true
   },
   "source": [
    "## $\\Gamma:=\\Gamma_{k_1 k_2 k_3}$ for $k_1\\ge 2$  <a name=\"s24\"></a>"
   ]
  },
  {
   "cell_type": "markdown",
   "id": "cbcbc28f",
   "metadata": {},
   "source": [
    "We now consider the dimension of $P_{ST}^{\\sigma_{\\Gamma}}$ for $ \\sigma_{\\Gamma} \\in \\Sigma_{\\Gamma,T,D_{T}}^{d}$ for graphs   $\\Gamma:=\\Gamma_{k_1 k_2 k_3}$ with  $(k_1,k_2,k_3)=\\{(2,2,2),(2,2,3),(2,2,4),(2,3,3)\\}$. "
   ]
  },
  {
   "cell_type": "markdown",
   "id": "e5e1825f",
   "metadata": {
    "jp-MarkdownHeadingCollapsed": true,
    "tags": []
   },
   "source": [
    "### $(k_1,k_2,k_3)=(2,2,2)$\n"
   ]
  },
  {
   "cell_type": "code",
   "execution_count": null,
   "id": "1e3ef563-1ecc-4c74-bd44-036c8077e643",
   "metadata": {},
   "outputs": [],
   "source": [
    "%%time\n",
    "graphname=\"V_222\"\n",
    "G=Graph([(\"0\",\"1\"),(\"1\",\"2\"),(\"2\",\"3\"),(\"3\",\"0\"),(\"0\",\"4\"),(\"4\",\"2\")], multiedges=True)\n",
    "\n",
    "data=unpickle(graphname) \n",
    "\n",
    "dic_l=analyse_graphname(G,data)\n",
    "\n",
    "#Store list of dictionaries\n",
    "# pickle_dic_l(graphname,dic_l)"
   ]
  },
  {
   "cell_type": "code",
   "execution_count": null,
   "id": "cbd61184-818a-45f2-b977-85b1a3e8493f",
   "metadata": {},
   "outputs": [],
   "source": [
    "analyse_table(dic_l)"
   ]
  },
  {
   "cell_type": "markdown",
   "id": "692c58f2",
   "metadata": {
    "jp-MarkdownHeadingCollapsed": true,
    "tags": []
   },
   "source": [
    "\n",
    "### $(k_1,k_2,k_3)=(2,2,3)$\n"
   ]
  },
  {
   "cell_type": "code",
   "execution_count": null,
   "id": "2425afea-ec0e-4e00-a54e-c0a0367c0aab",
   "metadata": {},
   "outputs": [],
   "source": [
    "%%time\n",
    "graphname=\"V_223\"\n",
    "G=Graph([(\"0\",\"1\"),(\"1\",\"2\"),(\"2\",\"3\"),(\"3\",\"4\"),(\"4\",\"0\"),(\"0\",\"5\"),(\"5\",\"2\")], multiedges=True)\n",
    "\n",
    "data=unpickle(graphname) \n",
    "\n",
    "dic_l=analyse_graphname(G,data)\n",
    "\n",
    "#Store list of dictionaries\n",
    "# pickle_dic_l(graphname,dic_l)"
   ]
  },
  {
   "cell_type": "code",
   "execution_count": null,
   "id": "d2e25e6c-4f31-4d52-86c6-91ddc82cb269",
   "metadata": {},
   "outputs": [],
   "source": [
    "analyse_table(dic_l)"
   ]
  },
  {
   "cell_type": "markdown",
   "id": "2ac9b728",
   "metadata": {
    "jp-MarkdownHeadingCollapsed": true,
    "tags": []
   },
   "source": [
    "\n",
    "### $(k_1,k_2,k_3)=(2,2,4)$\n"
   ]
  },
  {
   "cell_type": "code",
   "execution_count": null,
   "id": "27727e6a-ec51-43e9-b7bf-87d20dee2f46",
   "metadata": {},
   "outputs": [],
   "source": [
    "%%time\n",
    "graphname=\"V_224\"\n",
    "G=Graph([(\"0\",\"1\"),(\"1\",\"2\"),(\"2\",\"3\"),(\"3\",\"4\"),(\"4\",\"5\"),(\"5\",\"0\"),(\"0\",\"6\"),(\"6\",\"2\")], multiedges=True)\n",
    "\n",
    "data=unpickle(graphname) \n",
    "\n",
    "dic_l=analyse_graphname(G,data)\n",
    "\n",
    "#Store list of dictionaries\n",
    "# pickle_dic_l(graphname,dic_l)"
   ]
  },
  {
   "cell_type": "code",
   "execution_count": null,
   "id": "4c2ed92f-9458-4fe1-9eca-90687095d8b4",
   "metadata": {},
   "outputs": [],
   "source": [
    "analyse_table(dic_l)"
   ]
  },
  {
   "cell_type": "markdown",
   "id": "fe7991d0",
   "metadata": {
    "jp-MarkdownHeadingCollapsed": true,
    "tags": []
   },
   "source": [
    "\n",
    "### $(k_1,k_2,k_3)=(2,3,3)$"
   ]
  },
  {
   "cell_type": "code",
   "execution_count": null,
   "id": "85a2f9fd-293b-4db5-9289-32216ce980bb",
   "metadata": {},
   "outputs": [],
   "source": [
    "%%time\n",
    "graphname=\"V_233\"\n",
    "G=Graph([(\"0\",\"1\"),(\"1\",\"2\"),(\"2\",\"3\"),(\"3\",\"4\"),(\"4\",\"5\"),(\"5\",\"0\"),(\"0\",\"6\"),(\"6\",\"3\")], multiedges=True)\n",
    "\n",
    "data=unpickle(graphname) \n",
    "\n",
    "dic_l=analyse_graphname(G,data)\n",
    "\n",
    "#Store list of dictionaries\n",
    "# pickle_dic_l(graphname,dic_l)"
   ]
  },
  {
   "cell_type": "code",
   "execution_count": null,
   "id": "f98c0315-0eb3-4c92-9af5-a6bf7ed4cce3",
   "metadata": {},
   "outputs": [],
   "source": [
    "analyse_table(dic_l)"
   ]
  },
  {
   "cell_type": "markdown",
   "id": "7d3f05ca",
   "metadata": {
    "tags": [],
    "toc-hr-collapsed": true
   },
   "source": [
    "## $\\Gamma \\in \\{ G_1,G_2,G_3,F\\}$ <a name=\"s25\"></a>"
   ]
  },
  {
   "cell_type": "markdown",
   "id": "47a9a1ad",
   "metadata": {},
   "source": [
    "We now consider the dimension of $P_{ST}^{\\sigma_{\\Gamma}}$ for $ \\sigma_{\\Gamma} \\in \\Sigma_{\\Gamma,T,D_{T}}^{d}$ for graphs   $\\Gamma\\in \\{G_1,G_2,G_3,F\\}$."
   ]
  },
  {
   "cell_type": "markdown",
   "id": "e000b5df",
   "metadata": {
    "jp-MarkdownHeadingCollapsed": true,
    "tags": []
   },
   "source": [
    "### $G_1$"
   ]
  },
  {
   "cell_type": "code",
   "execution_count": null,
   "id": "f6c6e98e",
   "metadata": {
    "tags": []
   },
   "outputs": [],
   "source": [
    "%%time\n",
    "graphname=\"G4M02M13\"\n",
    "G=Graph([(\"0\",\"1\"),(\"1\",\"2\"),(\"2\",\"3\"),(\"3\",\"0\"),(\"0\",\"2\"),(\"1\",\"3\")], multiedges=True)\n",
    "\n",
    "data=unpickle(graphname) #Size=10\n",
    "\n",
    "dic_l=analyse_graphname(G,data)"
   ]
  },
  {
   "cell_type": "code",
   "execution_count": null,
   "id": "03ab9af6",
   "metadata": {
    "tags": []
   },
   "outputs": [],
   "source": [
    "#Store list of dictionaries\n",
    "# pickle_dic_l(graphname,dic_l)"
   ]
  },
  {
   "cell_type": "code",
   "execution_count": null,
   "id": "254a0b82",
   "metadata": {
    "tags": []
   },
   "outputs": [],
   "source": [
    "analyse_table(dic_l)"
   ]
  },
  {
   "cell_type": "markdown",
   "id": "9fbe8a9a",
   "metadata": {
    "jp-MarkdownHeadingCollapsed": true,
    "tags": []
   },
   "source": [
    "### $G_2$"
   ]
  },
  {
   "cell_type": "code",
   "execution_count": null,
   "id": "94ad7833",
   "metadata": {
    "tags": []
   },
   "outputs": [],
   "source": [
    "%%time\n",
    "graphname=\"G5M02M03\"\n",
    "G=Graph([(\"0\",\"1\"),(\"1\",\"2\"),(\"2\",\"3\"),(\"3\",\"4\"),(\"4\",\"0\"),(\"0\",\"2\"),(\"0\",\"3\")], multiedges=True)\n",
    "\n",
    "data=unpickle(graphname) #Size=24\n",
    "\n",
    "dic_l=analyse_graphname(G,data)"
   ]
  },
  {
   "cell_type": "code",
   "execution_count": null,
   "id": "e016442e",
   "metadata": {
    "tags": []
   },
   "outputs": [],
   "source": [
    "#Store list of dictionaries\n",
    "pickle_dic_l(graphname,dic_l)"
   ]
  },
  {
   "cell_type": "code",
   "execution_count": null,
   "id": "dccfae44",
   "metadata": {},
   "outputs": [],
   "source": [
    "analyse_table(dic_l)"
   ]
  },
  {
   "cell_type": "markdown",
   "id": "830b1e5e",
   "metadata": {
    "jp-MarkdownHeadingCollapsed": true,
    "tags": []
   },
   "source": [
    "### $G_3$"
   ]
  },
  {
   "cell_type": "code",
   "execution_count": null,
   "id": "c16a2c50",
   "metadata": {
    "tags": []
   },
   "outputs": [],
   "source": [
    "%%time\n",
    "graphname=\"G5M02M03M14\"\n",
    "G=Graph([(\"0\",\"1\"),(\"1\",\"2\"),(\"2\",\"3\"),(\"3\",\"4\"),(\"4\",\"0\"),(\"0\",\"2\"),(\"0\",\"3\"),(\"1\",\"4\")], multiedges=True)\n",
    "\n",
    "data=unpickle(graphname) #Size=82\n",
    "\n",
    "dic_l=analyse_graphname(G,data)"
   ]
  },
  {
   "cell_type": "code",
   "execution_count": null,
   "id": "cd40128b",
   "metadata": {
    "tags": []
   },
   "outputs": [],
   "source": [
    "#Store list of dictionaries\n",
    "pickle_dic_l(graphname,dic_l)"
   ]
  },
  {
   "cell_type": "code",
   "execution_count": null,
   "id": "e3824427",
   "metadata": {},
   "outputs": [],
   "source": [
    "analyse_table(dic_l)"
   ]
  },
  {
   "cell_type": "markdown",
   "id": "4d8698df-7cf1-4b04-bad5-f63846e21194",
   "metadata": {
    "tags": []
   },
   "source": [
    "### $F$"
   ]
  },
  {
   "cell_type": "markdown",
   "id": "7804983f-cef3-467f-b8e7-4af47d69dac2",
   "metadata": {},
   "source": [
    "Unlike the other cases when we run analyse\\_graphname we have $\\sigma_{\\Gamma}$ such that $P_{ST}^{\\sigma_{\\Gamma}}$ has dimension less than $|V(\\Gamma)|-1=5$ which by the discussion in the introduction implies that $P_{ST}^{\\sigma_{\\Gamma}} = \\emptyset$. We have therefore modified analyse\\_graphname to analyse_graphname\\_FV to parse the cases of $\\sigma_{\\Gamma} \\in \\Sigma_{\\Gamma,T,D_{T}}^{d}$ with $P_{ST}^{\\sigma_{\\Gamma}} \\ne \\emptyset$ and those with $P_{ST}^{\\sigma_{\\Gamma}} = \\emptyset$."
   ]
  },
  {
   "cell_type": "code",
   "execution_count": null,
   "id": "7e2bc581",
   "metadata": {},
   "outputs": [],
   "source": [
    "%%time\n",
    "graphname=\"FV_G6M3M14\"  \n",
    "G=Graph([(\"0\",\"1\"),(\"1\",\"2\"),(\"2\",\"3\"),(\"3\",\"4\"),(\"4\",\"5\"),(\"5\",\"0\"),(\"0\",\"3\"),(\"1\",\"4\")], multiedges=True)\n",
    "\n",
    "data=unpickle(graphname) #Size=504"
   ]
  },
  {
   "cell_type": "code",
   "execution_count": null,
   "id": "35a1044a",
   "metadata": {
    "tags": []
   },
   "outputs": [],
   "source": [
    "dim_size=5 #number of vertices minus 1.\n",
    "dic_l=analyse_graphname_FV(dim_size,graphname,G,data)"
   ]
  },
  {
   "cell_type": "markdown",
   "id": "563b9a3c-e66d-49eb-a86e-18689b881645",
   "metadata": {},
   "source": [
    "# Leftovers"
   ]
  },
  {
   "cell_type": "code",
   "execution_count": null,
   "id": "cbfd6ea3-991d-4e3e-85f4-ff05db0ad0a9",
   "metadata": {},
   "outputs": [],
   "source": [
    "# def unpickle_dic_l(graphname):\n",
    "#     # Unpickle the list\n",
    "#     filename=f\"examples/{graphname}/phi_analysis/dic_l.pkl\"\n",
    "#     with open(filename, 'rb') as f:\n",
    "#         unpickled_list = pickle.load(f)\n",
    "#     return unpickled_list"
   ]
  }
 ],
 "metadata": {
  "kernelspec": {
   "display_name": "Python 3 (ipykernel)",
   "language": "python",
   "name": "python3"
  },
  "language_info": {
   "codemirror_mode": {
    "name": "ipython",
    "version": 3
   },
   "file_extension": ".py",
   "mimetype": "text/x-python",
   "name": "python",
   "nbconvert_exporter": "python",
   "pygments_lexer": "ipython3",
   "version": "3.10.8"
  },
  "toc-autonumbering": true,
  "toc-showcode": false,
  "toc-showmarkdowntxt": false,
  "toc-showtags": false
 },
 "nbformat": 4,
 "nbformat_minor": 5
}
