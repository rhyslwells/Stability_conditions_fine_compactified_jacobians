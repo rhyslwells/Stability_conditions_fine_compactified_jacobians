{
 "cells": [
  {
   "cell_type": "markdown",
   "id": "c370e30c",
   "metadata": {
    "tags": [],
    "toc-hr-collapsed": true
   },
   "source": [
    "# Overview"
   ]
  },
  {
   "cell_type": "markdown",
   "id": "9f8ac8d6",
   "metadata": {},
   "source": [
    "We consider all graphs in Section $1.3$. For a given graph $\\Gamma$, we determine whether the convex region $P_{ST}^{\\sigma_{\\Gamma}}$ is empty or not for all $\\sigma_{\\Gamma} \\in \\Sigma_{\\Gamma,T,D_{T}}^{d}$ (obtain via assignments.ipynb)."
   ]
  },
  {
   "cell_type": "markdown",
   "id": "2976355f",
   "metadata": {},
   "source": [
    "Note that if $P_{ST}^{\\sigma_{\\Gamma}}$ has dimension $|V(\\Gamma)|-1$ (as it is a convex region-see definition) then $P_{ST}^{\\sigma_{\\Gamma}} \\ne \\emptyset$ and if $P_{ST}^{\\sigma_{\\Gamma}}$ has dimension strictly less than $|V(\\Gamma)|-1$ then $P_{ST}^{\\sigma_{\\Gamma}} = \\emptyset$."
   ]
  },
  {
   "cell_type": "markdown",
   "id": "10a1b89c",
   "metadata": {},
   "source": [
    "In our methods, to show $P_{ST}^{\\sigma_{\\Gamma}} \\ne \\emptyset$ we modify the definition of $P_{ST}^{\\sigma_{\\Gamma}}$ with $<$ to $\\le$, we do this in order to make use of the Sage function Polyhedron(). \n",
    "\n",
    "Mathematically we can still conclude that $P_{ST}^{\\sigma_{\\Gamma}} = \\emptyset$ (with $<$) if $P_{ST}^{\\sigma_{\\Gamma}}$  (with $\\le$) has dimension strictly less than $|V(\\Gamma)|-1$. For each $\\sigma_{\\Gamma}$ we therefore determine the dimension $P_{ST}^{\\sigma_{\\Gamma}} \\ne \\emptyset$  (with $\\le$) to conclude the existence/ non-existence of a numerical polarisation."
   ]
  },
  {
   "cell_type": "markdown",
   "id": "064f72ac",
   "metadata": {
    "jp-MarkdownHeadingCollapsed": true,
    "tags": []
   },
   "source": [
    "### Results"
   ]
  },
  {
   "cell_type": "markdown",
   "id": "4407d52f",
   "metadata": {},
   "source": [
    "We see that all graphs consider in the Section $1.3$, with the expection of $F$ given by Filippo Viviani have $P_{ST}^{\\sigma_{\\Gamma}} \\ne \\emptyset$ for all $\\sigma_{\\Gamma} \\in \\Sigma_{\\Gamma,T,D_{T}}^{d}$. For the graph $F$ there are $16$ stability conditions $\\sigma_{\\Gamma} \\in \\Sigma_{\\Gamma,T,D_{T}}^{d}$ such that $P_{ST}^{\\sigma_{\\Gamma}} = \\emptyset$. It remains to show that these $16$ are in fact strong stability conditions, we do this in \"6_strong_stability_check.ipynb\"."
   ]
  },
  {
   "cell_type": "markdown",
   "id": "12f24392",
   "metadata": {
    "jp-MarkdownHeadingCollapsed": true,
    "tags": []
   },
   "source": [
    "### Notes\n"
   ]
  },
  {
   "cell_type": "markdown",
   "id": "7b4ff322",
   "metadata": {},
   "source": [
    "For a description of how we construct $P_{ST}^{\\sigma_{\\Gamma}}$ see Section \"Functions/Construct $P_{ST}^{\\sigma_{\\Gamma}}$\".\n",
    "\n",
    "For each of the graphs in #Cases we load $\\Sigma_{G,T,D_{T}}$ from \"\\Stability_Conditions\\Graph\\phi_investigation\\examples\\{graphname}\".\n",
    "\n",
    "We store the results as a list in \"\\Stability_Conditions\\Graph\\phi_investigation\\examples\\{graphname}\\phi_analysis\""
   ]
  },
  {
   "cell_type": "markdown",
   "id": "11f20772",
   "metadata": {
    "jp-MarkdownHeadingCollapsed": true,
    "tags": [
     "not",
     "done"
    ],
    "toc-hr-collapsed": true
   },
   "source": [
    "# Table of contents"
   ]
  },
  {
   "cell_type": "markdown",
   "id": "4940b5bd",
   "metadata": {
    "tags": [],
    "toc-hr-collapsed": true
   },
   "source": [
    "1. [Functions](#s1)\n",
    "    1. [Used throughout](#s11)\n",
    "    2. [Construct $P_{ST}^{\\sigma_{\\Gamma}}$](#s12)\n",
    "    3. [Loading and storing](#s13)\n",
    "    4. [Analysis](#s14)\n",
    "    5. [Describer functions](#s15)\n",
    "\n",
    "2. [Cases](#s2)\n",
    "    1. [Genus 1 $n$-necklace graphs $n \\le 5$](#s21)\n",
    "    2. [$\\Gamma:=\\Gamma_{1 1 k_3}$ for $2 \\le k_3 \\le 6$](#s22)\n",
    "    3. [$\\Gamma:=\\Gamma_{1 k_2 k_3}$ for $k_2\\ge 2$](#s23)\n",
    "    4. [$\\Gamma:=\\Gamma_{k_1 k_2 k_3}$ for $k_1\\ge 2$](#s24)\n",
    "    5. [$\\Gamma \\in \\{ G_1,G_2,G_3,F\\}$](#s25)"
   ]
  },
  {
   "cell_type": "markdown",
   "id": "ae05fafb",
   "metadata": {
    "tags": []
   },
   "source": [
    "# Functions <a name=\"s1\"></a>"
   ]
  },
  {
   "cell_type": "markdown",
   "id": "9c19e609",
   "metadata": {
    "jp-MarkdownHeadingCollapsed": true,
    "tags": []
   },
   "source": [
    "## Used throughout <a name=\"s11\"></a>\n"
   ]
  },
  {
   "cell_type": "code",
   "execution_count": null,
   "id": "e8760b0f",
   "metadata": {},
   "outputs": [],
   "source": [
    "import numpy as np\n",
    "import itertools\n",
    "import pickle\n",
    "from fractions import Fraction\n",
    "from collections import Counter\n",
    "import textwrap"
   ]
  },
  {
   "cell_type": "markdown",
   "id": "fc501a8f",
   "metadata": {
    "tags": [
     "title"
    ],
    "toc-hr-collapsed": true
   },
   "source": [
    "## Construct $P_{ST}^{\\sigma_{\\Gamma}}$ <a name=\"s12\"></a>"
   ]
  },
  {
   "cell_type": "markdown",
   "id": "c65abf97",
   "metadata": {},
   "source": [
    "Given $\\sigma_\\Gamma \\in \\Sigma_{\\Gamma}^{d}$ we follow the definition of $P_{ST}^{\\sigma_{\\Gamma}}$ given in Section $2.4$ of the thesis and give a method to construct $P_{ST}^{\\sigma_{\\Gamma}}$. Following this definition it is necessary to determine $P_{T}^{\\sigma_{\\Gamma}}$ for all $T \\in \\mathcal{ST}(\\Gamma)$."
   ]
  },
  {
   "cell_type": "markdown",
   "id": "4b0e1e46",
   "metadata": {},
   "source": [
    "The main function of this section is get_intersection_tree_poly(), which gives the region $P_{ST}^{\\sigma_{\\Gamma}}$. We will now show how we arrive at this function:\n",
    "\n",
    "1) First we record the information to necessary to state the set of inequalities of $P_{T}^{\\sigma_{\\Gamma}}$ for $T \\in \\mathcal{ST}(\\Gamma)$ we do this with the function phi_tree_inequalities_data(). \n",
    "\n",
    "2) Next we construct the hyperplanes which give $P_{T}^{\\sigma_{\\Gamma}}$ for $T \\in \\mathcal{ST}(\\Gamma)$ we do this with the function phi_tree_formatted_hyperplanes(). \n",
    "\n",
    "3) We then constuct $P_{T}^{\\sigma_{\\Gamma}}$ for each $T \\in \\mathcal{ST}(\\Gamma)$ using get_tree_poly().\n",
    "\n",
    "4) Then we take $P_{ST}^{\\sigma_{\\Gamma}}= \\bigcap_{T \\in \\mathcal{ST}(\\Gamma)}P_{T}^{\\sigma_{\\Gamma}}$ using get_intersection_tree_poly()."
   ]
  },
  {
   "cell_type": "markdown",
   "id": "f4331439",
   "metadata": {},
   "source": [
    "To help us understand the functions let us fix $\\Gamma$ to be the $3$-necklace graph."
   ]
  },
  {
   "cell_type": "code",
   "execution_count": null,
   "id": "89f603ec",
   "metadata": {},
   "outputs": [],
   "source": [
    "# graphname=\"G3\"\n",
    "G=Graph([(\"0\",\"1\"),(\"1\",\"2\"),(\"2\",\"0\")], multiedges=True)\n",
    "spanning_trees=[tree for tree in G.spanning_trees()]\n",
    "T=spanning_trees[0]\n",
    "# plot(G, figsize=3)"
   ]
  },
  {
   "cell_type": "markdown",
   "id": "086d908d",
   "metadata": {
    "tags": []
   },
   "source": [
    "### Part 1: phi_tree_inequalities_data()"
   ]
  },
  {
   "cell_type": "markdown",
   "id": "d22e57b2",
   "metadata": {},
   "source": [
    "We now define the functions which will allow us to state the function phi_tree_inequalities_data which calculates the necessary components to produce $P_{T}^{\\sigma_{\\Gamma}}$."
   ]
  },
  {
   "cell_type": "markdown",
   "id": "b8c5efa1",
   "metadata": {},
   "source": [
    "We first need to determine the set of all elementary induced subgraphs $(\\Gamma^{'},\\Gamma^{'c})$."
   ]
  },
  {
   "cell_type": "code",
   "execution_count": 16,
   "id": "9e3799fe",
   "metadata": {
    "tags": [
     "Function"
    ]
   },
   "outputs": [],
   "source": [
    "def get_pairs_con_subg(G):# for phi_tree_inequalities_data\n",
    "    \n",
    "    \"\"\"\n",
    "    Note: we are not working with multigraphs so connected_subgraph_iterator should give subgraphs with all edges between    \n",
    "    Objective: Used to get cut info and total degree adjustment\n",
    "    Input:\n",
    "    Return: Pairs of complete subgraphs for V and V^{c} such that V scup V^{c}=V(G)\n",
    "    \"\"\"\n",
    "    \n",
    "    vert_G=G.vertices()\n",
    "    edges_G=G.edges()\n",
    "    \n",
    "    #get list of connected subgraphs:\n",
    "    \n",
    "    #Want to get pairs of complete subgraphs for pairs of vertices that is a is disjoint union of all verts\n",
    "    ll=list(G.connected_subgraph_iterator())\n",
    "\n",
    "    # put them into pairs, where vertices are a disjoint union of G.\n",
    "    pairs=[]\n",
    "    for i in ll:\n",
    "        a=i.vertices()\n",
    "        for j in ll:\n",
    "            b=j.vertices()\n",
    "            if sorted(a+b)==vert_G:\n",
    "                #May need to take complete graph here containing a, and for b. \n",
    "                pairs.append((i,j))\n",
    "                \n",
    "#                 \"\"\"\n",
    "#                 We only need one subgraph in the cut, the following step prevents us having both subg in a cut.\n",
    "#                 \"\"\"\n",
    "#                 if (i,j) in pairs:\n",
    "#                     continue\n",
    "#                 if (j,i) in pairs:\n",
    "#                     continue\n",
    "#                 else:\n",
    "#                     pairs.append((i,j))\n",
    "                    \n",
    "#     for i in get_pairs_con_subg(G):\n",
    "#         print(i[0].vertices(),i[1].vertices())\n",
    "    return pairs"
   ]
  },
  {
   "cell_type": "code",
   "execution_count": null,
   "id": "46efc24c",
   "metadata": {},
   "outputs": [],
   "source": [
    "#We see this gives all pair of elementary induced graphs\n",
    "get_pairs_con_subg(G)"
   ]
  },
  {
   "cell_type": "markdown",
   "id": "48f6c69e",
   "metadata": {},
   "source": [
    "Let $\\Gamma_0 :=T$. The next functions allow us to determine:\n",
    "\n",
    " the number of edges in a given cut $(\\Gamma^{'},\\Gamma^{'c})$ belonging to the tree and in particular\n",
    "\n",
    "   $$\\frac{\\left|\\operatorname{E}\\left(\\Gamma_0^c\\right) \\backslash (\\operatorname{E}\\left(\\Gamma^{\\prime}\\right) \\cup \\operatorname{E}\\left(\\Gamma^{\\prime c}\\right))\\right|}{2}$$\n",
    "   \n",
    "  the number of edges in a given cut $(\\Gamma^{'},\\Gamma^{'c})$ belonging to $\\Gamma \\setminus \\Gamma_0$ and in particular\n",
    "  \n",
    "  $$\\frac{\\left|\\operatorname{E}\\left(\\Gamma_0\\right) \\backslash\\left(\\operatorname{E}\\left(\\Gamma^{\\prime}\\right) \\cup \\operatorname{E}\\left(\\Gamma^{\\prime c}\\right)\\right)\\right|}{2}.$$\n",
    "\n",
    "\n",
    "  "
   ]
  },
  {
   "cell_type": "code",
   "execution_count": 16,
   "id": "440774b8",
   "metadata": {
    "tags": [
     "Function"
    ]
   },
   "outputs": [],
   "source": [
    "def get_cut_edges(G,pair): #for phi_tree_inequalities_data\n",
    "    \n",
    "    \"\"\"\n",
    "    Obj:Get list of the edges in a cut for a given pair, \n",
    "    for a pair of connected subgraphs that partitions the vertices of G.\n",
    "    \n",
    "    Return: list of edges in cut for a pair of connected subgraphs that partition the vertices of G \n",
    "    \"\"\"\n",
    "    a_edges=pair[0].edges()\n",
    "    b_edges=pair[1].edges()\n",
    "    total_edges=a_edges+b_edges\n",
    "    \n",
    "    edges_G=G.edges()\n",
    "\n",
    "    #Cut edges.\n",
    "    cut_edges=[ e for e in edges_G if e not in total_edges]\n",
    "    \n",
    "    return cut_edges\n",
    "\n",
    "def edges_cut_inandnotin_tree(cut_edges,tree):#Used in phi_tree_inequalities_data\n",
    "    \n",
    "    \"\"\"\n",
    "    \n",
    "    Obj: Consider cut_edges_G and ask if any of the edges of T are in cut_edges_G\n",
    "\n",
    "    Returns: Number of edges in tree, and not in tree\n",
    "    \"\"\"\n",
    "\n",
    "    tree_edges=tree.edges()\n",
    "\n",
    "    e_in_tree=[edge for edge in cut_edges if edge in tree_edges]\n",
    "    # print(\"edges of cut that belong to tree:\",tree_edges_cut)\n",
    "\n",
    "    e_notin_tree=[edge for edge in cut_edges if edge not in tree_edges]\n",
    "    # print(\"edges of cut that do not belong to tree:\",tree_comp_edges_cut)\n",
    "    \n",
    "    num_e_in_tree ,num_e_notin_tree=len(e_in_tree),len(e_notin_tree)\n",
    "    \n",
    "    return num_e_in_tree ,num_e_notin_tree"
   ]
  },
  {
   "cell_type": "code",
   "execution_count": 16,
   "id": "dccab7ac",
   "metadata": {
    "tags": [
     "Function"
    ]
   },
   "outputs": [],
   "source": [
    "def get_gamma0_missing_edges(G,T,complete_subg):\n",
    "    \"\"\"\n",
    "    Objective:find adjustment to degree of divisors, a number, to correct to the total degree.\n",
    "    given by the number of edges in complete subgraph which are not in gamm0\n",
    "    Input: gamma0 (the tree), and the complete_subg\n",
    "    Return: number of edges complete_subg has over T (on one side of the  cut).\n",
    "    \n",
    "    \n",
    "    Want |E(gamma0^c) cap E(gamma')| where gamma' is the complete subgraph and gamma0 the connected spanning subg.\n",
    "    \"\"\"\n",
    "    \n",
    "    \n",
    "    gamma0_complement=[e for e in G.edges() if e not in T.edges()]\n",
    "    \n",
    "    gamma0_comp_inter_complete_subg=[e for e in gamma0_complement if e in complete_subg.edges()]\n",
    "    \n",
    "    return len(gamma0_comp_inter_complete_subg)"
   ]
  },
  {
   "cell_type": "markdown",
   "id": "1d1b0f6a",
   "metadata": {},
   "source": [
    "\n",
    "We now arrive at the first main function: phi_tree_inequalities_data which takes a tree T and returns a dictionary which records for each set of vertices of $\\Gamma^{'}$ an elementary induced subgraphs $\\Gamma^{'}$ the\n",
    " \n",
    " num_e_in_tree:\n",
    " the number of edges in the cut belonging to the tree\n",
    " \n",
    " num_e_notin_tree:\n",
    "  the number of edges in the cut belonging to \\Gamma \\setminus tree\n",
    "\n",
    " gamma0_missing_edges:\n",
    "  number of edges in $\\Gamma^{'}$ which are not in $T$, that is $\\left|\\operatorname{E}\\left(\\Gamma_0^c\\right) \\cap \\operatorname{E}\\left(\\Gamma^{\\prime}\\right)\\right|$ for $\\Gamma_0 =T$.\n",
    " "
   ]
  },
  {
   "cell_type": "code",
   "execution_count": 16,
   "id": "f00176d9",
   "metadata": {
    "tags": [
     "Function"
    ]
   },
   "outputs": [],
   "source": [
    "def phi_tree_inequalities_data(G,T): #Main\n",
    "    \n",
    "    \"\"\"\n",
    "    Objective: Used in tree_poly\n",
    "    Inputs: \n",
    "    G: graph\n",
    "    T:graph of spanning tree (or any spanning connected subgraph)\n",
    "    \n",
    "    Return:dictionary of data used to define the phi-tree inequalties. \n",
    "    Returns phi_G\n",
    "\n",
    "    Dict contains the vertices of the cut : key\n",
    "    List of [e_in_tree ,e_notin_tree]: value\n",
    "    \n",
    "    Where num_e_in_tree = edges of cut the belong to tree\n",
    "         ,num_e_notin_tree= edges of cut that do not belong to tree\n",
    "         \n",
    "    terms=[num_e_in_tree ,num_e_notin_tree,gamma0_missing_edges]\n",
    "\n",
    "    \"\"\"\n",
    "    \n",
    "    #for main\n",
    "\n",
    "    pairs=get_pairs_con_subg(G)\n",
    "\n",
    "    inequ_data=[]\n",
    "    for pair in pairs: \n",
    "        \n",
    "        #As only care about one complete subg, we get the number of missing edges of T and complete_subg.\n",
    "        complete_subg=pair[0]\n",
    "        gamma0_missing_edges=get_gamma0_missing_edges(G,T,complete_subg)\n",
    "        \n",
    "        \n",
    "        #Would like to know the edges that G has in the cut. i.e. cut_edges_G\n",
    "        cut_edges=get_cut_edges(G,pair)\n",
    "\n",
    "        num_e_in_tree ,num_e_notin_tree=edges_cut_inandnotin_tree(cut_edges,T)\n",
    "\n",
    "        terms=[num_e_in_tree ,num_e_notin_tree,gamma0_missing_edges]\n",
    "        \n",
    "#         print(\"pair[0].vertices():\",pair[0].vertices(),\"pair[1].vertices():\",pair[1].vertices())\n",
    "#         print(\"[num_e_in_tree ,num_e_notin_tree]\",terms)\n",
    "\n",
    "\n",
    "        \"Do we need to add the data for both subg in pair?\"\n",
    "\n",
    "        #get vertices of subg in pair and turn to \"v1v2v3\" format.\n",
    "        subg1_l=pair[0].vertices()\n",
    "        subg1 = ''.join(subg1_l)\n",
    "        inequ_data.append((subg1,terms)) #subg1 is the indexor in phi_tree_formatted_hyperplanes\n",
    "\n",
    "#         print(\"(subg1,terms):\",(subg1,terms))\n",
    "#         subg2_l=pair[1].vertices()\n",
    "#         subg2 = ''.join(subg2_l)\n",
    "#         inequ_data.append((subg2,terms))\n",
    "\n",
    "\n",
    "    #Now join to phi-inequal data dict\n",
    "    phi_tree_iequal_dict = {t[0]: t[1] for t in inequ_data}\n",
    "\n",
    "    return phi_tree_iequal_dict"
   ]
  },
  {
   "cell_type": "markdown",
   "id": "f90f4b42",
   "metadata": {
    "tags": []
   },
   "source": [
    "### Part 2: phi_tree_formatted_hyperplanes()"
   ]
  },
  {
   "cell_type": "markdown",
   "id": "9a01c0fd",
   "metadata": {},
   "source": [
    "We now take the components of phi_tree_inequalities_data() and state phi_tree_formatted_hyperplanes(), which directly allows the construction of $P_{T}^{\\sigma_{\\Gamma}}$ for any $T \\in \\mathcal{ST}(\\Gamma)$ using Polyhedron(). Before doing so we need the following functions to shorten the code."
   ]
  },
  {
   "cell_type": "markdown",
   "id": "494960ee",
   "metadata": {},
   "source": [
    "For $\\sigma_{\\Gamma}^{d}$ we take $d=b_{1}(\\Gamma)$ to be the first betti number of the graph.\n",
    "As a consequence we have that for $\\vec{d} \\in \\sigma_{\\Gamma}(T)$ we have $deg(\\vec{d})=0$ for any spanning tree $T$."
   ]
  },
  {
   "cell_type": "code",
   "execution_count": 17,
   "id": "16b75131",
   "metadata": {
    "tags": [
     "Function"
    ]
   },
   "outputs": [],
   "source": [
    "def get_first_betti_number(G):\n",
    "    #for if the degree of divisors on trees is 0, the degree of lbm is this.\n",
    "    return len(G.edges())-len(G.vertices())+1"
   ]
  },
  {
   "cell_type": "markdown",
   "id": "00cc84d6",
   "metadata": {},
   "source": [
    "For $\\vec{d} \\in \\sigma_{\\Gamma}(\\Gamma_0)$ for any connected spanning tree or $\\phi \\in V^{d}(\\Gamma)$, the following functions allows one to determine $d_{\\Gamma^{'}}= \\sum_{v \\in V\\left(\\Gamma^{\\prime}\\right)}\\vec{d}(v)$ and $\\phi_{\\Gamma^{'}}= \\sum_{v \\in V\\left(\\Gamma^{\\prime}\\right)}\\phi(v)$.\n",
    "\n"
   ]
  },
  {
   "cell_type": "code",
   "execution_count": 17,
   "id": "d1c14f38",
   "metadata": {
    "tags": [
     "Function"
    ]
   },
   "outputs": [],
   "source": [
    "def sum_comps(comp,indexor): #Done\n",
    "    \"\"\"returns the sum of the components of comp in the position by indexor\"\"\"\n",
    "    #for d and phi\n",
    "    sum_l=[comp[int(i)] for i in indexor] #Becuase of the vertex labeling of G having v_0....\n",
    "    return sum(sum_l)"
   ]
  },
  {
   "cell_type": "markdown",
   "id": "339f6d58",
   "metadata": {},
   "source": [
    "Recall for each  elementary induced subgraph $\\Gamma^{'}$ defines two hyperplanes that give the bounds for $\\phi_{\\Gamma^{'}}$ that is is $L_{\\Gamma_0,\\Gamma^{'}}+ \\vec{d}_{\\Gamma^{'}}< \\phi_{\\Gamma^{'}}  <U_{\\Gamma_0,\\Gamma^{'}}+ \\vec{d}_{\\Gamma^{'}}$ (given by lower_part and upper_part)."
   ]
  },
  {
   "cell_type": "markdown",
   "id": "d4dcde11",
   "metadata": {},
   "source": [
    "Let $\\vec{d} \\in \\sigma_{\\Gamma}(\\Gamma_0)$ and consider the pair of inequalities,\n",
    "\n",
    "$$L_{\\Gamma_0,\\Gamma^{'}}< \\phi_{\\Gamma^{'}} - \\vec{d}_{\\Gamma^{'}} <U_{\\Gamma_0,\\Gamma^{'}}$$\n",
    "\n",
    "The function lower_part() allows one to calculate \n",
    "\n",
    "$$\\phi_{\\Gamma^{'}} <U_{\\Gamma_0,\\Gamma^{'}} + \\vec{d}_{\\Gamma^{'}} .$$\n",
    "\n",
    "\n",
    "and the function upper_part() allows one to calculate ($L_{\\Gamma_0,\\Gamma^{'}}+ \\vec{d}_{\\Gamma^{'}}< \\phi_{\\Gamma^{'}}$) but we write it in the following method so we can take the inequality in the same direction,\n",
    "\n",
    "$$\\phi_{\\Gamma^{'}}<-L_{\\Gamma_0,\\Gamma^{'}}- \\vec{d}_{\\Gamma^{'}}$$\n",
    "\n"
   ]
  },
  {
   "cell_type": "markdown",
   "id": "c4789613",
   "metadata": {},
   "source": [
    "For the functions lower_part and upper_part the following terms correspond to:\n",
    "\n",
    "1) T_term:\n",
    "    \n",
    "    $$\\frac{\\left|\\operatorname{E}\\left(\\Gamma_0\\right) \\backslash\\left(\\operatorname{E}\\left(\\Gamma^{\\prime}\\right) \\cup \\operatorname{E}\\left(\\Gamma^{\\prime c}\\right)\\right)\\right|}{2}$$\n",
    "    \n",
    "2) T_comp_term:\n",
    "    \n",
    "    $$\\frac{\\left|\\operatorname{E}\\left(\\Gamma_0^c\\right) \\backslash (\\operatorname{E}\\left(\\Gamma^{\\prime}\\right) \\cup \\operatorname{E}\\left(\\Gamma^{\\prime c}\\right))\\right|}{2}$$\n",
    "    \n",
    "3) divisor_comp_sum:\n",
    "    \n",
    "    $$d_{\\Gamma^{'}}= \\sum_{v \\in V\\left(\\Gamma^{\\prime}\\right)}\\vec{d}(v)$$\n",
    "    \n",
    "4) totaldeg_divisor_comp_sum:\n",
    "    \n",
    "    $$d_{\\Gamma^{'}}+\\left|\\operatorname{E}\\left(\\Gamma_0^c\\right) \\cap \\operatorname{E}\\left(\\Gamma^{\\prime}\\right)\\right|$$\n",
    "    \n",
    "    "
   ]
  },
  {
   "cell_type": "markdown",
   "id": "419ff6bd",
   "metadata": {},
   "source": [
    "5) bterm:\n",
    "    \n",
    "    i) for lower_part is\n",
    "\n",
    "    $$d_{\\Gamma^{'}}+\\left|\\operatorname{E}\\left(\\Gamma_0^c\\right) \\cap \\operatorname{E}\\left(\\Gamma^{\\prime}\\right)\\right|+\\frac{\\left|\\operatorname{E}\\left(\\Gamma_0\\right) \\backslash\\left(\\operatorname{E}\\left(\\Gamma^{\\prime}\\right) \\cup \\operatorname{E}\\left(\\Gamma^{\\prime c}\\right)\\right)\\right|}{2} +\\frac{\\left|\\operatorname{E}\\left(\\Gamma_0^c\\right) \\backslash (\\operatorname{E}\\left(\\Gamma^{\\prime}\\right) \\cup \\operatorname{E}\\left(\\Gamma^{\\prime c}\\right))\\right|}{2}$$     "
   ]
  },
  {
   "cell_type": "markdown",
   "id": "5364bd86",
   "metadata": {},
   "source": [
    "5) bterm:\n",
    "    \n",
    "    i) for upper_part is\n",
    "\n",
    "    $$-d_{\\Gamma^{'}}-\\left|\\operatorname{E}\\left(\\Gamma_0^c\\right) \\cap \\operatorname{E}\\left(\\Gamma^{\\prime}\\right)\\right|+\\frac{\\left|\\operatorname{E}\\left(\\Gamma_0\\right) \\backslash\\left(\\operatorname{E}\\left(\\Gamma^{\\prime}\\right) \\cup \\operatorname{E}\\left(\\Gamma^{\\prime c}\\right)\\right)\\right|}{2} -\\frac{\\left|\\operatorname{E}\\left(\\Gamma_0^c\\right) \\backslash (\\operatorname{E}\\left(\\Gamma^{\\prime}\\right) \\cup \\operatorname{E}\\left(\\Gamma^{\\prime c}\\right))\\right|}{2}$$     "
   ]
  },
  {
   "cell_type": "code",
   "execution_count": 17,
   "id": "ad2cfa1c",
   "metadata": {
    "tags": [
     "Function"
    ]
   },
   "outputs": [],
   "source": [
    "def lower_part(indexor,n,divisor,num_e_in_tree,num_e_notin_tree,gamma0_missing_edges):\n",
    "\n",
    "    #get b term\n",
    "    T_term=num_e_in_tree*0.5\n",
    "    \n",
    "    T_comp_term=num_e_notin_tree*0.5\n",
    "    \n",
    "    divisor_comp_sum=sum_comps(divisor,indexor)\n",
    "    \n",
    "    totaldeg_divisor_comp_sum=divisor_comp_sum+gamma0_missing_edges#Corrected to total degree\n",
    "    \n",
    "    bterm=[totaldeg_divisor_comp_sum+T_term+T_comp_term] #See phi_tree_inequality_doc\n",
    "    \n",
    "    base=np.zeros(n)\n",
    "    \n",
    "    \"\"\"\n",
    "    It is very important whether its (1,i) or (-1,i) below in l\n",
    "    \"\"\"\n",
    "    l=[(-1,i) for i in indexor] # put -1 in the ith position given be indexor. \n",
    "\n",
    "    for item in l:\n",
    "        ipos = int(item[1]) # ith position\n",
    "        val=item[0]\n",
    "        base[ipos]=val\n",
    "\n",
    "    xyz=base\n",
    "\n",
    "    ineq=bterm+list(xyz) # [b,x,y,z...] want to concat                \n",
    "    return ineq\n",
    "\n",
    "def upper_part(indexor,n,divisor,num_e_in_tree,num_e_notin_tree,gamma0_missing_edges):\n",
    "\n",
    "    #Remember upper part of modulus inequality.\n",
    "\n",
    "    #get b term\n",
    "    T_term=num_e_in_tree*0.5\n",
    "    T_comp_term=num_e_notin_tree*0.5\n",
    "    divisor_comp_sum=sum_comps(divisor,indexor)\n",
    "    totaldeg_divisor_comp_sum=divisor_comp_sum+gamma0_missing_edges#Corrected to total degree\n",
    "\n",
    "    bterm=[-totaldeg_divisor_comp_sum+T_term-T_comp_term] #See phi_tree_inequality_doc\n",
    "\n",
    "    #get x,y,z term\n",
    "    base=np.zeros(n)\n",
    "    l=[(1,i) for i in indexor] # put -1 in the ith position given be indexor.\n",
    "\n",
    "    for item in l:\n",
    "        ipos = int(item[1]) # ith position\n",
    "        val=item[0]\n",
    "        base[ipos]=val\n",
    "\n",
    "    xyz=base\n",
    "\n",
    "    ineq=bterm+list(xyz) # [b,x,y,z...] want to concat\n",
    "\n",
    "    return ineq"
   ]
  },
  {
   "cell_type": "markdown",
   "id": "ee08e8f2",
   "metadata": {},
   "source": [
    "We can now define the function phi_tree_formatted_hyperplanes() which returns the set of hyperplanes used to define $P_{T}^{\\sigma_{\\Gamma}}$."
   ]
  },
  {
   "cell_type": "code",
   "execution_count": 1,
   "id": "67564178",
   "metadata": {
    "tags": [
     "Function"
    ]
   },
   "outputs": [],
   "source": [
    "def phi_tree_formatted_hyperplanes(divisor,phi_G,G):\n",
    "    \n",
    "    \"\"\"\n",
    "    Objective: Get list of inquality data to feed into Sages Polyhedron function\n",
    "    https://doc.sagemath.org/html/en/reference/discrete_geometry/sage/geometry/polyhedron/constructor.html\n",
    "    \n",
    "    Polyhedron(ieqs=[(0,1,0),(0,0,1),(1,-1,-1)]).Hrepresentation()\n",
    "    (An inequality (-1, -1) x + 1 >= 0,\n",
    "     An inequality (1, 0) x + 0 >= 0,\n",
    "     An inequality (0, 1) x + 0 >= 0)\n",
    "     \n",
    "    to add the total degree inequality x+y+z..=degree.\n",
    "    \n",
    "    Ax=b\n",
    "    \n",
    "    Further Notes:    \n",
    "    Here divisor is a single divisor. Not for all divisors in a set.\n",
    "    \n",
    "    Inputs:\n",
    "    phi_G =  A dictionary that records indexs (vertices of \\Gamma^{'}) of cuts (\\Gamma^{'},\\Gamma^{'c}) as keys, \n",
    "    and value=[num_e_in_tree,num_e_notin_tree]\n",
    "    divisor= divisor in stability condition for tree ie. sigma_{\\Gamma}(T)\n",
    "    \n",
    "    Returns: list of inequalities in the correct format to pass to Polyhedron as above.\n",
    "\n",
    "    \"\"\"\n",
    "    \n",
    "    #length of divisor:\n",
    "    n=len(divisor)\n",
    "    \n",
    "    # We add the total degree equation to inequals for phi\n",
    "    deg=get_first_betti_number(G) #will be 0 for trees.\n",
    "    tot_equ1=[-deg,]+ [1]*n\n",
    "    tot_equ2=[deg,]+ [-1]*n\n",
    "    \n",
    "    #List of inequalities we wish to return\n",
    "    inequals=[tot_equ1,tot_equ2]     \n",
    "        \n",
    "    for indexor in list(phi_G.keys()):\n",
    "\n",
    "        num_e_in_tree,num_e_notin_tree,gamma0_missing_edges=phi_G[indexor] #value=[num_e_in_tree,num_e_notin_tree]    \n",
    "\n",
    "        res_upper=upper_part(indexor,n,divisor,num_e_in_tree,num_e_notin_tree,gamma0_missing_edges)\n",
    "\n",
    "        res_lower=lower_part(indexor,n,divisor,num_e_in_tree,num_e_notin_tree,gamma0_missing_edges)\n",
    "\n",
    "        res_combined= [res_lower,res_upper]\n",
    "\n",
    "        inequals=inequals+res_combined\n",
    "    return inequals"
   ]
  },
  {
   "cell_type": "markdown",
   "id": "9630ca83",
   "metadata": {
    "tags": []
   },
   "source": [
    "### Part 3: get_tree_poly()"
   ]
  },
  {
   "cell_type": "markdown",
   "id": "1742c938",
   "metadata": {},
   "source": [
    "The following function determine $P_{T}^{\\sigma_{\\Gamma}}$ using the information given by phi_tree_formatted_hyperplanes()."
   ]
  },
  {
   "cell_type": "code",
   "execution_count": 17,
   "id": "54a7b9fd",
   "metadata": {
    "tags": [
     "Function"
    ]
   },
   "outputs": [],
   "source": [
    "def get_tree_poly(G,T,divisor):#Main\n",
    "    \n",
    "    \"\"\"\n",
    "    Objective:Get P_{T}^{\\sigma_{\\Gamma}} for a tree using the phi-tree-inequalties.\n",
    "    Input: \n",
    "    divisor: d given by \\sigma_{\\Gamma}(T)\n",
    "    T: Spanning tree of \\Gamma\n",
    "    G is graph\n",
    "    Returns: Polyhedron P_{T}^{\\sigma_{\\Gamma}} (with \\le)\n",
    "    \"\"\"\n",
    "\n",
    "    # get list of phi_tree_inequalities_data(G,T) for each trees.(dictionary)\n",
    "    phi_G=phi_tree_inequalities_data(G,T)\n",
    "\n",
    "    hyperp=phi_tree_formatted_hyperplanes(divisor,phi_G,G)\n",
    "\n",
    "    #build a polytope.\n",
    "    tree_poly=Polyhedron(ieqs=hyperp)\n",
    "\n",
    "    return tree_poly"
   ]
  },
  {
   "cell_type": "code",
   "execution_count": null,
   "id": "0ddf034d",
   "metadata": {},
   "outputs": [],
   "source": [
    "#Tree_poly for G3 graph\n",
    "\n",
    "#trivial tree assignment\n",
    "assignments=[(spanning_trees[0],[0,0,0]),(spanning_trees[1],[0,0,0]),(spanning_trees[2],[0,0,0])]\n",
    "tree_poly=get_tree_poly(G,T,assignments)\n",
    "\n",
    "#Non-trivial tree assignment\n",
    "assignments=[(spanning_trees[0],[0,0,0]),(spanning_trees[1],[0,1,-1]),(spanning_trees[2],[1,0,-1])]\n",
    "tree_poly=get_tree_poly(G,T,assignments)"
   ]
  },
  {
   "cell_type": "markdown",
   "id": "7d229dcb",
   "metadata": {
    "jp-MarkdownHeadingCollapsed": true,
    "tags": []
   },
   "source": [
    "### Part 4: get_intersection_tree_poly()"
   ]
  },
  {
   "cell_type": "markdown",
   "id": "fbca20b2",
   "metadata": {},
   "source": [
    "The following function takes the intersection of $P_{T}^{\\sigma_{\\Gamma}}$ for all $T \\in \\mathcal{\\Gamma}$  to give $P_{ST}^{\\sigma_{\\Gamma}}$."
   ]
  },
  {
   "cell_type": "code",
   "execution_count": 17,
   "id": "85eb7ff7",
   "metadata": {
    "tags": [
     "Function"
    ]
   },
   "outputs": [],
   "source": [
    "def get_intersection_tree_poly(G,assignments):\n",
    "\n",
    "    \"\"\"\n",
    "    Objective: get P_{ST}^{\\sigma_{\\Gamma}}\n",
    "    Input: \n",
    "    assignments: the tree assignment A_{\\Gamma} for \\sigma_{\\Gamma} as a list of pairs (Tree,divisor).\n",
    "    Returns: P_{ST}^{\\sigma_{\\Gamma}} as a polyhedron (with \\le)\n",
    "    \"\"\"\n",
    "    \n",
    "    #Build and record polytopes.\n",
    "    poly_l=[]\n",
    "    for ass in assignments:\n",
    "    \n",
    "        T,divisor=ass[0],ass[1]\n",
    "    \n",
    "        P=get_tree_poly(G,T,divisor)\n",
    "        \n",
    "        poly_l.append(P)\n",
    "\n",
    "    #Take intersection of polytopes for trees\n",
    "    inter=poly_l[0]\n",
    "    for P in poly_l[1:]:\n",
    "        inter=inter.intersection(P)\n",
    "\n",
    "    return inter"
   ]
  },
  {
   "cell_type": "markdown",
   "id": "b69efa04",
   "metadata": {},
   "source": [
    "For both unique stability conditions for the $3$-necklace graph we see that $P_{ST}^{\\sigma_{\\Gamma}}$ has dimension $2$."
   ]
  },
  {
   "cell_type": "code",
   "execution_count": 3,
   "id": "9b593b8c",
   "metadata": {
    "tags": []
   },
   "outputs": [],
   "source": [
    "#Trivial I3 example\n",
    "assignments=[(spanning_trees[0],[0,0,0]),(spanning_trees[1],[0,0,0]),(spanning_trees[2],[0,0,0])]\n",
    "inter_triv=get_intersection_tree_poly(G,assignments)\n",
    "print(dim(inter_triv))"
   ]
  },
  {
   "cell_type": "code",
   "execution_count": 3,
   "id": "989a8e73",
   "metadata": {
    "tags": []
   },
   "outputs": [],
   "source": [
    "#Non-trivial I3 example\n",
    "assignments=[(spanning_trees[0],[0,0,0]),(spanning_trees[1],[0,1,-1]),(spanning_trees[2],[1,0,-1])]\n",
    "inter_nontriv=get_intersection_tree_poly(G,assignments)\n",
    "print(dim(inter_nontriv))"
   ]
  },
  {
   "cell_type": "markdown",
   "id": "ee1702e2",
   "metadata": {
    "jp-MarkdownHeadingCollapsed": true,
    "tags": [],
    "toc-hr-collapsed": true
   },
   "source": [
    "## Loading and storing <a name=\"s13\"></a>\n"
   ]
  },
  {
   "cell_type": "markdown",
   "id": "2453147c",
   "metadata": {},
   "source": [
    "The following functions load the pkl file stored in \"examples/{graphname}/{graphname}.pkl\" depending on the graphname choosen. Pickle_dic_l saves the output after we apply analyse_graphname() (see next section)."
   ]
  },
  {
   "cell_type": "code",
   "execution_count": null,
   "id": "5f6a3f91",
   "metadata": {},
   "outputs": [],
   "source": [
    "def unpickle(graphname):\n",
    "    # Unpickle the list\n",
    "    filename=f\"examples/{graphname}/{graphname}.pkl\"\n",
    "    with open(filename, 'rb') as f:\n",
    "        unpickled_list = pickle.load(f)\n",
    "    return unpickled_list\n",
    "\n",
    "def pickle_dic_l(graphname,dic_l):\n",
    "    # Pickle the list\n",
    "    filename=f\"examples/{graphname}/phi_analysis/dic_l.pkl\"\n",
    "    with open(filename, 'wb') as f:\n",
    "        pickle.dump(dic_l, f)\n",
    "    return\n",
    "\n",
    "# def unpickle_dic_l(graphname):\n",
    "#     # Unpickle the list\n",
    "#     filename=f\"examples/{graphname}/phi_analysis/dic_l.pkl\"\n",
    "#     with open(filename, 'rb') as f:\n",
    "#         unpickled_list = pickle.load(f)\n",
    "#     return unpickled_list"
   ]
  },
  {
   "cell_type": "markdown",
   "id": "a7498ce9",
   "metadata": {},
   "source": [
    "The following function allows one to store a set of stability conditions and describe each as a txt file. "
   ]
  },
  {
   "cell_type": "code",
   "execution_count": null,
   "id": "4d60ddc8",
   "metadata": {},
   "outputs": [],
   "source": [
    "#Storing files \n",
    "def output_to_file(G,total_data,ordering_trees):#in text files\n",
    "    \"\"\"\n",
    "    Objective: GEt text file descibing stability conditions\n",
    "    Input: total_data is a set of stability conditions.\n",
    "    ordering_trees is a list of spanning trees described by edges.\n",
    "    Returns: text file\n",
    "    \n",
    "    Return to text file:\n",
    "    - add list of subgraphs under trees.\n",
    "    - record list of cycles for subg, after lbm. \n",
    "    \"\"\"\n",
    "\n",
    "    print(f\"Information: Here are all stability conditions for the graph G\")\n",
    "    print(f\"Graph: {G.edges()} \\n\")\n",
    "    \n",
    "    print(f\"There are {len(total_data)} stability conditions for G. \\n\")\n",
    "    \n",
    "    print(f\"The spanning trees of G are ordered as follows:\")\n",
    "    for index,tree in enumerate(ordering_trees):\n",
    "        print(f\"Tree {index+1}: {tree.edges()}\" )\n",
    "        \n",
    "    print(f\"\\n The spanning subgraphs of G of the for T cup e are ordered as follows:\")\n",
    "    \n",
    "    \"\"\"\n",
    "    Fix order of subg printed:\n",
    "    \n",
    "    Here get_subgraphs_gm1_Edgesmissing does not reflect the ordering of subg in subg_cycle_l=tup[3]\n",
    "    subgraphs= get_subgraphs_gm1_Edgesmissing(G) #Get #\\tilde{G} the subgraphs Tcup e.-D\n",
    "\n",
    "    #Assuming subg_cycle_l for each element of total_data is ordered the same subg.\n",
    "    \"\"\"\n",
    "\n",
    "    tup_example=total_data[0]\n",
    "    subg_cycle_l=tup_example[3]\n",
    "    subg_ll=[pair[0] for pair in subg_cycle_l]\n",
    "\n",
    "    for index,subg in enumerate(subg_ll):\n",
    "        print(f\"Subgraph {index+1}: {subg.edges()}\" )\n",
    "    \n",
    "\n",
    "    print(\"\\n We will now list all stabilty conditions. The data will be presented in three lines:\")\n",
    "    print(\"   1. The assignment datum on trees the order of which will be given by the Tree order,\")\n",
    "    print(\"   2. The union of sets of the form assignment datum of T + the set of break divisors for T, \" )          \n",
    "    print(\"   3. The cycle used with th subgraph to obtain the assignments on trees (ordered by subgraphs above).\\n\")\n",
    "\n",
    "    for tup in total_data:\n",
    "        \n",
    "        print(tup[0]) #assignment datum\n",
    "        \n",
    "        #Put sigma to list format\n",
    "        print(tup[1].tolist()) #lbm\n",
    "        \n",
    "        subg_cycle_l=tup[3]\n",
    "        l_cycles=[(x[1],x[2].edges()) for x in subg_cycle_l] #records cycle and tree for sub.\n",
    "        print(l_cycles)\n",
    "        \n",
    "        print(\"\\n\")\n",
    "    \n",
    "    return"
   ]
  },
  {
   "cell_type": "markdown",
   "id": "e5064cf9",
   "metadata": {},
   "source": [
    "The following function are specific to the storing of a text description and pkl file of the output of the function analyse_graphname_FV()"
   ]
  },
  {
   "cell_type": "code",
   "execution_count": null,
   "id": "4e6f7ef0",
   "metadata": {},
   "outputs": [],
   "source": [
    "def pickle_subset_true(graphname,l):\n",
    "    # Pickle the list\n",
    "    filename=f\"{graphname}_top_dim.pkl\"\n",
    "    with open(filename, 'wb') as f:\n",
    "        pickle.dump(l, f)\n",
    "    f.close()  # Close the file after writing\n",
    "\n",
    "    return\n",
    "\n",
    "def pickle_subset_false(graphname,l):\n",
    "    # Pickle the list\n",
    "    filename=f\"{graphname}_degen.pkl\"\n",
    "    with open(filename, 'wb') as f:\n",
    "        pickle.dump(l, f)\n",
    "    f.close()  # Close the file after writing\n",
    "\n",
    "    return\n",
    "\n",
    "def store_data_top_dim(G,total_data,ordering_trees,graphname=\"test\"):\n",
    "    name=f\"{graphname}_top_dim.txt\"\n",
    "    print(name)\n",
    "    with open(name, \"w\") as f:\n",
    "        sys.stdout = f\n",
    "#         print(\"before output\")\n",
    "        output_to_file(G,total_data,ordering_trees)\n",
    "#         print(\"after output\")\n",
    "        \n",
    "        sys.stdout = sys.__stdout__\n",
    "#         print(\"here closes??\")\n",
    "    f.close()  # Close the file after writing\n",
    "#     print(\"does it close????\")\n",
    "    return\n",
    "\n",
    "def store_data_degen(G,total_data,ordering_trees,graphname=\"test\"):\n",
    "    name=f\"{graphname}_degen.txt\"\n",
    "    print(name)\n",
    "    with open(name, \"w\") as f:\n",
    "        sys.stdout = f\n",
    "\n",
    "        output_to_file(G,total_data,ordering_trees)\n",
    "\n",
    "        sys.stdout = sys.__stdout__\n",
    "    f.close()  # Close the file after writing\n",
    "\n",
    "    return"
   ]
  },
  {
   "cell_type": "markdown",
   "id": "71d29d53",
   "metadata": {
    "jp-MarkdownHeadingCollapsed": true,
    "tags": []
   },
   "source": [
    "## Analysis <a name=\"s14\"></a>"
   ]
  },
  {
   "cell_type": "markdown",
   "id": "c98b012e",
   "metadata": {},
   "source": [
    "We now determine for each stability condition the dimension of $P_{ST}^{\\sigma_{\\Gamma}}$.\n",
    "using get_intersection_tree_poly()"
   ]
  },
  {
   "cell_type": "code",
   "execution_count": null,
   "id": "c962124c",
   "metadata": {},
   "outputs": [],
   "source": [
    "def analyse_graphname(G,data,start=0,terminator=False,ind_breaks=0): #general not FV example\n",
    "    \"\"\"\n",
    "    Obj: Measure for each stability condition the dimension of P_{ST}^{\\sigma_{\\Gamma}}\n",
    "    #inputs:   \n",
    "    \n",
    "    size: number of vertices of graph minus 1.\n",
    "    graphname:name in folder to load the data\n",
    "    G=Graph([(\"0\",\"1\"),(\"1\",\"2\"),(\"2\",\"0\")], multiedges=True)\n",
    "    #     start: the ith term 1,...,k you want to start the computation from.\n",
    "    #     terminator = is a number 1,...,k, the nth to which we calculate upo to so \n",
    "    not to have to calc all cases (used for examples).\n",
    "    \n",
    "    Returns: a list of dictionaries of the form {\"Dimension of tree-poly\":dim_tree_poly}\n",
    "    where tree-poly is the region P_{ST}^{\\sigma_{\\Gamma}} for each stability codnition\n",
    "    and dim_tree_poly is its dimension.\n",
    "    \"\"\"\n",
    "    \n",
    "    dic_l=[]\n",
    "    top_dim=[] # record those with top dim poly\n",
    "    degen=[] #record wsc with degen poly.\n",
    "    \n",
    "    for term,wsc in enumerate(data):\n",
    "        \n",
    "        #Use start to skip to the case you want to study.\n",
    "        if term<start-1:\n",
    "            continue\n",
    "        \n",
    "        print(\"Start=\",start,\"----\",term,\"----terminator:\",terminator)\n",
    "        \n",
    "        #for Tree_poly\n",
    "        assignments=wsc[2] #[(Graph on 3 vertices, [0, 0, 0]),(Graph on 3 vertices, [0, 0, 0]),(Graph on 3 vertices, [0, 0, 0])]\n",
    "        tree_poly=get_intersection_tree_poly(G,assignments)\n",
    "        dic={\"Dimension of tree-poly\":dim(tree_poly)}\n",
    "        dic_l.append(dic)\n",
    "\n",
    "    \n",
    "    return dic_l"
   ]
  },
  {
   "cell_type": "markdown",
   "id": "216ac9a7",
   "metadata": {},
   "source": [
    "As the graph $F$ is known to have cases where the dimension of $P_{ST}^{\\sigma_{\\Gamma}}$ is strictly less than $|V(\\Gamma)|-1$ we record those cases."
   ]
  },
  {
   "cell_type": "code",
   "execution_count": null,
   "id": "e301c1c6",
   "metadata": {},
   "outputs": [],
   "source": [
    "def analyse_graphname_FV(size,graphname,G,data,start=0,terminator=False): \n",
    "    \"\"\"\n",
    "    Obj: Measure for each stability condition the dimension of P_{ST}^{\\sigma_{\\Gamma}}\n",
    "    As it has fail cases when dim_tree_poly< |V(\\Gamma)|-1\n",
    "\n",
    "    #inputs:    \n",
    "    size: number of vertices of graph minus 1.\n",
    "    graphname:name in folder to load the data\n",
    "    G=Graph([(\"0\",\"1\"),(\"1\",\"2\"),(\"2\",\"0\")], multiedges=True)\n",
    "    #     start: the ith term 1,...,k you want to start the computation from.\n",
    "    #     terminator = is a number 1,...,k, the nth to which we calculate upo to so \n",
    "    not to have to calc all cases (used for examples).\n",
    "    \n",
    "    Returns: a list of dictionaries of the form {\"Dimension of tree-poly\":dim_tree_poly}\n",
    "    where tree-poly is the region P_{ST}^{\\sigma_{\\Gamma}} for each stability codnition\n",
    "    and dim_tree_poly is its dimension.\n",
    "\n",
    "    \"\"\"\n",
    "    dic_l=[]\n",
    "    top_dim=[] # record those with top dim poly\n",
    "    degen=[] #record wsc with degen poly.\n",
    "    \n",
    "    for term,wsc in enumerate(data):\n",
    "        \n",
    "        #Use start to skip to the case you want to study.\n",
    "        if term<start-1:\n",
    "            continue\n",
    "        print(\"Start=\",start,\"----\",term,\"----terminator:\",terminator)\n",
    "        \n",
    "        #for Tree_poly\n",
    "        assignments=wsc[2] #[(Graph on 3 vertices, [0, 0, 0]),(Graph on 3 vertices, [0, 0, 0]),(Graph on 3 vertices, [0, 0, 0])]\n",
    "        tree_poly=get_intersection_tree_poly(G,assignments)\n",
    "        dim_tree_poly=dim(tree_poly)\n",
    "        \n",
    "        print(\"dim_tree_poly:\",dim_tree_poly)\n",
    "        dic={\"Dimension of tree-poly\":dim_tree_poly}\n",
    "        dic_l.append(dic)\n",
    "        \n",
    "        if dim_tree_poly==size:\n",
    "            top_dim.append(wsc)\n",
    "        else:\n",
    "            print(f\"{term}: WSC not phi: \\n\",wsc)\n",
    "            degen.append(wsc)\n",
    "            \n",
    "    #Store those wsc that fail and those that are top dim poly.\n",
    "    wsc_ex=data[0] #example wsc to get assignment to get trees in order.\n",
    "    ass_ex=wsc_ex[2] # [(T,ass),...]\n",
    "    ordering_trees=[pair[0] for pair in ass_ex]\n",
    "    pickle_subset_true(graphname,top_dim)\n",
    "    store_data_top_dim(G,top_dim,ordering_trees,graphname)\n",
    "    pickle_subset_false(graphname,degen)\n",
    "    store_data_degen(G,degen,ordering_trees,graphname)\n",
    "    \n",
    "    return dic_l"
   ]
  },
  {
   "cell_type": "markdown",
   "id": "a2fa537f",
   "metadata": {},
   "source": [
    "The following function is analogous to analyse_graphname() expect we record those cases where $P_{ST}^{\\sigma_{\\Gamma}}$ the dimension is less than $|V(\\Gamma)|-1$, and those that have dimension $|V(\\Gamma)|-1$."
   ]
  },
  {
   "cell_type": "code",
   "execution_count": null,
   "id": "86411e32",
   "metadata": {},
   "outputs": [],
   "source": [
    "def analyse_graphname_FV(size,graphname,G,data,start=0,terminator=False): \n",
    "    \"\"\"\n",
    "    Obj: Create a table of results for the graph F: \n",
    "    As it has fail cases when dim_tree_poly< |V(\\Gamma)|-1\n",
    "\n",
    "    #inputs:    \n",
    "    size: number of vertices of graph minus 1.\n",
    "    graphname:name in folder to load the data\n",
    "    G=Graph([(\"0\",\"1\"),(\"1\",\"2\"),(\"2\",\"0\")], multiedges=True)\n",
    "    #     start: the ith term 1,...,k you want to start the computation from.\n",
    "    #     terminator = is a number 1,...,k, the nth to which we calculate upo to so \n",
    "    not to have to calc all cases (used for examples).\n",
    "    \n",
    "    Returns: a list of dictionaries of the form {\"Dimension of tree-poly\":dim_tree_poly}\n",
    "    where tree-poly is the region P_{ST}^{\\sigma_{\\Gamma}} for each stability codnition\n",
    "    and dim_tree_poly is its dimension.\n",
    "\n",
    "    \"\"\"\n",
    "    dic_l=[]\n",
    "    top_dim=[] # record those with top dim poly\n",
    "    degen=[] #record wsc with degen poly.\n",
    "    \n",
    "    for term,wsc in enumerate(data):\n",
    "        \n",
    "        #Use start to skip to the case you want to study.\n",
    "        if term<start-1:\n",
    "            continue\n",
    "        print(\"Start=\",start,\"----\",term,\"----terminator:\",terminator)\n",
    "        \n",
    "        #for Tree_poly\n",
    "        assignments=wsc[2] #[(Graph on 3 vertices, [0, 0, 0]),(Graph on 3 vertices, [0, 0, 0]),(Graph on 3 vertices, [0, 0, 0])]\n",
    "        tree_poly=get_intersection_tree_poly(G,assignments)\n",
    "        dim_tree_poly=dim(tree_poly)\n",
    "        \n",
    "        print(\"dim_tree_poly:\",dim_tree_poly)\n",
    "        dic={\"Dimension of tree-poly\":dim_tree_poly}\n",
    "        dic_l.append(dic)\n",
    "        \n",
    "        if dim_tree_poly==size:\n",
    "            top_dim.append(wsc)\n",
    "        else:\n",
    "            print(f\"{term}: WSC not phi: \\n\",wsc)\n",
    "            degen.append(wsc)\n",
    "            \n",
    "    #Store those wsc that fail and those that are top dim poly.\n",
    "    wsc_ex=data[0] #example wsc to get assignment to get trees in order.\n",
    "    ass_ex=wsc_ex[2] # [(T,ass),...]\n",
    "    ordering_trees=[pair[0] for pair in ass_ex]\n",
    "    \n",
    "    #We store the data\n",
    "    pickle_subset_true(graphname,top_dim)\n",
    "    store_data_top_dim(G,top_dim,ordering_trees,graphname)\n",
    "    pickle_subset_false(graphname,degen)\n",
    "    store_data_degen(G,degen,ordering_trees,graphname)\n",
    "    \n",
    "    return dic_l"
   ]
  },
  {
   "cell_type": "markdown",
   "id": "3ccf4750",
   "metadata": {},
   "source": [
    "The following function returns a summary the results of analyse_graphname() and analyse_graphname_FV()."
   ]
  },
  {
   "cell_type": "code",
   "execution_count": null,
   "id": "4ce21504",
   "metadata": {},
   "outputs": [],
   "source": [
    "def analyse_table(dic_l):\n",
    "    \n",
    "    \"\"\"\n",
    "    Objective: Give a summary of results\n",
    "    Input: list of dic={\"Dimension of tree-poly\":dim(tree_poly) }  \n",
    "    Return:Summary text of results\n",
    "    \"\"\"\n",
    "    \n",
    "    num_wsc=[]#number of wsc\n",
    "    dim_value_counts=[]\n",
    "\n",
    "    for dic in dic_l:\n",
    "    \n",
    "        num_wsc.append(dic[\"Dimension of tree-poly\"])\n",
    "        dim_value_counts.append(dic[\"Dimension of tree-poly\"])\n",
    "\n",
    "    dim_value_counts_dict=dict(Counter(dim_value_counts)) # dictionary of number of terms of a given dim    \n",
    "    print(textwrap.dedent(f'''\\\n",
    "        Total number of stability conditions {len(num_wsc)}\n",
    "        Number of polytopes of a given (dimension:number of at dim): {dim_value_counts_dict}\n",
    "    '''))\n",
    "    return "
   ]
  },
  {
   "cell_type": "markdown",
   "id": "0944edd8",
   "metadata": {
    "jp-MarkdownHeadingCollapsed": true,
    "tags": [],
    "toc-hr-collapsed": true
   },
   "source": [
    "## Describer functions <a name=\"s15\"></a>\n"
   ]
  },
  {
   "cell_type": "markdown",
   "id": "b3748f6c",
   "metadata": {},
   "source": [
    "The following functions help with documentation, please ignore."
   ]
  },
  {
   "cell_type": "code",
   "execution_count": null,
   "id": "f4f1b5a4",
   "metadata": {},
   "outputs": [],
   "source": [
    "import warnings\n",
    "warnings.filterwarnings(\"ignore\", category=DeprecationWarning) \n",
    "\n",
    "import ast\n",
    "import inspect\n",
    "\n",
    "def find_functions_used(func):\n",
    "    \n",
    "    \"\"\"Add print Objective.\"\"\"\n",
    "    \n",
    "    functions_used = set()\n",
    "    tree = ast.parse(inspect.getsource(func))\n",
    "    for node in ast.walk(tree):\n",
    "        if isinstance(node, ast.Call) and isinstance(node.func, ast.Name):\n",
    "            functions_used.add(node.func.id)\n",
    "    return functions_used\n",
    "\n",
    "def find_functions_used_l(l):\n",
    "    for func in l:\n",
    "        functions_used = find_functions_used(func)\n",
    "        print(f\"{func.__name__}:{functions_used} \\n\")\n",
    "\n",
    "# l = [f1, f2, f3]\n",
    "# find_functions_used_l(l)"
   ]
  },
  {
   "cell_type": "markdown",
   "id": "2eeab92c",
   "metadata": {
    "tags": []
   },
   "source": [
    "# Cases <a name=\"s2\"></a>"
   ]
  },
  {
   "cell_type": "markdown",
   "id": "77d8865c",
   "metadata": {
    "tags": [],
    "toc-hr-collapsed": true
   },
   "source": [
    "## Genus 1 $n$-necklace graphs $n \\le 5$ <a name=\"s21\"></a>"
   ]
  },
  {
   "cell_type": "markdown",
   "id": "c23eb79d",
   "metadata": {},
   "source": [
    "Even though we know by Section $3.1$ that every genus $1$ graphs every stability conditions is given by a numerical polatisation, we check the first few cases to ensure the methods are correct."
   ]
  },
  {
   "cell_type": "markdown",
   "id": "4287ad8c",
   "metadata": {
    "tags": []
   },
   "source": [
    "### $3$-necklace"
   ]
  },
  {
   "cell_type": "code",
   "execution_count": 29,
   "id": "09d66fdb",
   "metadata": {},
   "outputs": [],
   "source": [
    "graphname=\"G3\"\n",
    "G=Graph([(\"0\",\"1\"),(\"1\",\"2\"),(\"2\",\"0\")], multiedges=True)\n",
    "\n",
    "data=unpickle(graphname) #Size=2"
   ]
  },
  {
   "cell_type": "code",
   "execution_count": 30,
   "id": "ba90a6c9",
   "metadata": {},
   "outputs": [
    {
     "name": "stdout",
     "output_type": "stream",
     "text": [
      "[([[0, 0, 0], [0, 0, 0], [0, 0, 0]], array([[0, 0, 1],\n",
      "       [0, 1, 0],\n",
      "       [1, 0, 0]], dtype=int32), [(Graph on 3 vertices, [0, 0, 0]), (Graph on 3 vertices, [0, 0, 0]), (Graph on 3 vertices, [0, 0, 0])], [(Multi-graph on 3 vertices, (1, 3, 2), Multi-graph on 3 vertices)]), ([[0, 0, 0], [0, 1, -1], [1, 0, -1]], array([[ 0,  1,  0],\n",
      "       [ 1,  0,  0],\n",
      "       [ 1,  1, -1]], dtype=int32), [(Graph on 3 vertices, [0, 0, 0]), (Graph on 3 vertices, [0, 1, -1]), (Graph on 3 vertices, [1, 0, -1])], [(Multi-graph on 3 vertices, (1, 2, 3), Multi-graph on 3 vertices)])]\n"
     ]
    }
   ],
   "source": [
    "print(data)"
   ]
  },
  {
   "cell_type": "code",
   "execution_count": 31,
   "id": "5a8b756e",
   "metadata": {},
   "outputs": [
    {
     "name": "stdout",
     "output_type": "stream",
     "text": [
      "Start= 0 ---- 0 ----terminator: False\n",
      "Start= 0 ---- 1 ----terminator: False\n"
     ]
    }
   ],
   "source": [
    "dic_l=analyse_graphname(G,data)\n",
    "\n",
    "#Store list of dictionaries\n",
    "# pickle_dic_l(graphname,dic_l)"
   ]
  },
  {
   "cell_type": "code",
   "execution_count": 32,
   "id": "e38140b0",
   "metadata": {},
   "outputs": [
    {
     "name": "stdout",
     "output_type": "stream",
     "text": [
      "Total number of wsc 2\n",
      "Number of polytopes of a given (dimension:number of at dim): {2: 2}\n",
      "Number of wsc that are/are not generated by phi_av: {True: 2}\n",
      "Number of wsc that are/are not generated by phi_can: None\n",
      "\n"
     ]
    }
   ],
   "source": [
    "analyse_table(dic_l,f=False)"
   ]
  },
  {
   "cell_type": "markdown",
   "id": "4769dd90",
   "metadata": {
    "tags": []
   },
   "source": [
    "### $4$-necklace"
   ]
  },
  {
   "cell_type": "code",
   "execution_count": 78,
   "id": "4442e6dc",
   "metadata": {},
   "outputs": [
    {
     "name": "stdout",
     "output_type": "stream",
     "text": [
      "Start= 0 ---- 0 ----terminator: False\n",
      "Start= 0 ---- 1 ----terminator: False\n",
      "Start= 0 ---- 2 ----terminator: False\n",
      "Start= 0 ---- 3 ----terminator: False\n",
      "Start= 0 ---- 4 ----terminator: False\n",
      "Start= 0 ---- 5 ----terminator: False\n"
     ]
    }
   ],
   "source": [
    "graphname=\"G4\"\n",
    "G=Graph([(\"0\",\"1\"),(\"1\",\"2\"),(\"2\",\"3\"),(\"3\",\"0\")], multiedges=True)\n",
    "\n",
    "data=unpickle(graphname) #Size=6\n",
    "\n",
    "dic_l=analyse_graphname(G,data)\n",
    "\n",
    "#Store list of dictionaries\n",
    "# pickle_dic_l(graphname,dic_l)"
   ]
  },
  {
   "cell_type": "code",
   "execution_count": 81,
   "id": "11a17794",
   "metadata": {},
   "outputs": [
    {
     "name": "stdout",
     "output_type": "stream",
     "text": [
      "Total number of wsc 6\n",
      "Number of wsc that do/do not satisfy graph poly == tree poly: {True: 6}\n",
      "Number of polytopes of a given (dimension:number of at dim): {3: 6}\n",
      "Number of wsc that are/are not generated by phi_rep: {True: 6}\n",
      "Number of wsc that are/are not generated by phi_av: {True: 6}\n",
      "Number of wsc that are/are not generated by phi_can: None\n",
      "Number of wsc that are/are not generated by phi_av_translated1: None\n",
      "Number of wsc that are/are not generated by phi_av_translated2: None\n",
      "\n"
     ]
    }
   ],
   "source": [
    "analyse_table(dic_l,f=False)"
   ]
  },
  {
   "cell_type": "markdown",
   "id": "bae28156",
   "metadata": {
    "tags": []
   },
   "source": [
    "### $5$-necklace"
   ]
  },
  {
   "cell_type": "code",
   "execution_count": 82,
   "id": "52fdcb0d",
   "metadata": {
    "collapsed": true,
    "jupyter": {
     "outputs_hidden": true
    },
    "tags": []
   },
   "outputs": [
    {
     "name": "stdout",
     "output_type": "stream",
     "text": [
      "Start= 0 ---- 0 ----terminator: False\n",
      "Start= 0 ---- 1 ----terminator: False\n",
      "Start= 0 ---- 2 ----terminator: False\n",
      "Start= 0 ---- 3 ----terminator: False\n",
      "Start= 0 ---- 4 ----terminator: False\n",
      "Start= 0 ---- 5 ----terminator: False\n",
      "Start= 0 ---- 6 ----terminator: False\n",
      "Start= 0 ---- 7 ----terminator: False\n",
      "Start= 0 ---- 8 ----terminator: False\n",
      "Start= 0 ---- 9 ----terminator: False\n",
      "Start= 0 ---- 10 ----terminator: False\n",
      "Start= 0 ---- 11 ----terminator: False\n",
      "Start= 0 ---- 12 ----terminator: False\n",
      "Start= 0 ---- 13 ----terminator: False\n",
      "Start= 0 ---- 14 ----terminator: False\n",
      "Start= 0 ---- 15 ----terminator: False\n",
      "Start= 0 ---- 16 ----terminator: False\n",
      "Start= 0 ---- 17 ----terminator: False\n",
      "Start= 0 ---- 18 ----terminator: False\n",
      "Start= 0 ---- 19 ----terminator: False\n",
      "Start= 0 ---- 20 ----terminator: False\n",
      "Start= 0 ---- 21 ----terminator: False\n",
      "Start= 0 ---- 22 ----terminator: False\n",
      "Start= 0 ---- 23 ----terminator: False\n"
     ]
    }
   ],
   "source": [
    "graphname=\"G5\"\n",
    "G=Graph([(\"0\",\"1\"),(\"1\",\"2\"),(\"2\",\"3\"),(\"3\",\"4\"),(\"4\",\"0\")], multiedges=True)\n",
    "\n",
    "data=unpickle(graphname) #Size=24\n",
    "\n",
    "dic_l=analyse_graphname(G,data)\n",
    "\n",
    "#Store list of dictionaries\n",
    "# pickle_dic_l(graphname,dic_l)"
   ]
  },
  {
   "cell_type": "code",
   "execution_count": 83,
   "id": "d1873828",
   "metadata": {},
   "outputs": [
    {
     "name": "stdout",
     "output_type": "stream",
     "text": [
      "Total number of wsc 24\n",
      "Number of wsc that do/do not satisfy graph poly == tree poly: {True: 24}\n",
      "Number of polytopes of a given (dimension:number of at dim): {4: 24}\n",
      "Number of wsc that are/are not generated by phi_rep: {True: 24}\n",
      "Number of wsc that are/are not generated by phi_av: {True: 24}\n",
      "Number of wsc that are/are not generated by phi_can: None\n",
      "Number of wsc that are/are not generated by phi_av_translated1: None\n",
      "Number of wsc that are/are not generated by phi_av_translated2: None\n",
      "\n"
     ]
    }
   ],
   "source": [
    "analyse_table(dic_l,f=False)"
   ]
  },
  {
   "cell_type": "markdown",
   "id": "5243ab9e",
   "metadata": {
    "tags": [],
    "toc-hr-collapsed": true
   },
   "source": [
    "## $\\Gamma:=\\Gamma_{1 1 k_3}$ for $2 \\le k_3 \\le 6$  <a name=\"s22\"></a>"
   ]
  },
  {
   "cell_type": "markdown",
   "id": "d30bfac9",
   "metadata": {},
   "source": [
    "We now consider the dimension of $P_{ST}^{\\sigma_{\\Gamma}}$ for $ \\sigma_{\\Gamma} \\in \\Sigma_{\\Gamma,T,D_{T}}^{d}$ for graphs  \n",
    "\n",
    "$\\Gamma:=\\Gamma_{k_1 k_2 k_3}$ with $(k_1,k_2,k_3)=\\{(1,1,2),(1,1,3),(1,1,4),(1,1,5),(1,1,6)\\}$. "
   ]
  },
  {
   "cell_type": "markdown",
   "id": "86302fe2",
   "metadata": {},
   "source": [
    "### $(k_1,k_2,k_3)=(1,1,2)$"
   ]
  },
  {
   "cell_type": "code",
   "execution_count": 17,
   "id": "d0a80f76",
   "metadata": {},
   "outputs": [
    {
     "name": "stdout",
     "output_type": "stream",
     "text": [
      "Start= 0 ---- 0 ----terminator: False\n",
      "Start= 0 ---- 1 ----terminator: False\n"
     ]
    }
   ],
   "source": [
    "graphname=\"G3M1\" \n",
    "G=Graph([(\"0\",\"1\",\"e11\"),(\"1\",\"2\",\"e2\"),(\"2\",\"0\",\"e3\"),(\"0\",\"1\",\"e12\")], multiedges=True)\n",
    "# spanning_trees_e=[tree for tree in GM1e.spanning_trees(labels=True)]\n",
    "\n",
    "data=unpickle(graphname) #Size=2\n",
    "\n",
    "dic_l=analyse_graphname(G,data)"
   ]
  },
  {
   "cell_type": "code",
   "execution_count": 18,
   "id": "814785f6",
   "metadata": {},
   "outputs": [
    {
     "name": "stdout",
     "output_type": "stream",
     "text": [
      "Total number of wsc 2\n",
      "Number of wsc that do/do not satisfy graph poly == tree poly: {True: 2}\n",
      "Number of polytopes of a given (dimension:number of at dim): {2: 2}\n",
      "Number of wsc that are/are not generated by phi_rep: {True: 2}\n",
      "Number of wsc that are/are not generated by phi_av: {True: 2}\n",
      "Number of wsc that are/are not generated by phi_can: {True: 1, False: 1}\n",
      "Number of wsc that are/are not generated by phi_av_translated1: {True: 2}\n",
      "Number of wsc that are/are not generated by phi_av_translated2: {True: 2}\n",
      "\n"
     ]
    }
   ],
   "source": [
    "analyse_table(dic_l,f=True)"
   ]
  },
  {
   "cell_type": "code",
   "execution_count": 19,
   "id": "4320a5a8",
   "metadata": {},
   "outputs": [],
   "source": [
    "# pickle_dic_l(graphname,dic_l)"
   ]
  },
  {
   "cell_type": "markdown",
   "id": "321e513f",
   "metadata": {},
   "source": [
    "### $(k_1,k_2,k_3)=(1,1,3)$"
   ]
  },
  {
   "cell_type": "code",
   "execution_count": 22,
   "id": "24316b0d",
   "metadata": {},
   "outputs": [
    {
     "name": "stdout",
     "output_type": "stream",
     "text": [
      "Start= 0 ---- 0 ----terminator: False\n",
      "Start= 0 ---- 1 ----terminator: False\n",
      "Start= 0 ---- 2 ----terminator: False\n",
      "Start= 0 ---- 3 ----terminator: False\n",
      "Start= 0 ---- 4 ----terminator: False\n",
      "Start= 0 ---- 5 ----terminator: False\n"
     ]
    }
   ],
   "source": [
    "graphname=\"G4M1\" \n",
    "G=Graph([(\"0\",\"1\",\"e11\"),(\"1\",\"2\",\"e2\"),(\"2\",\"3\",\"e3\"),(\"3\",\"0\",\"e4\"),(\"0\",\"1\",\"e12\")], multiedges=True)\n",
    "\n",
    "data=unpickle(graphname) #Size=6\n",
    "\n",
    "dic_l=analyse_graphname(G,data)"
   ]
  },
  {
   "cell_type": "code",
   "execution_count": 23,
   "id": "a92680af",
   "metadata": {},
   "outputs": [
    {
     "name": "stdout",
     "output_type": "stream",
     "text": [
      "Total number of wsc 6\n",
      "Number of wsc that do/do not satisfy graph poly == tree poly: {True: 6}\n",
      "Number of polytopes of a given (dimension:number of at dim): {3: 6}\n",
      "Number of wsc that are/are not generated by phi_rep: {True: 6}\n",
      "Number of wsc that are/are not generated by phi_av: {True: 6}\n",
      "Number of wsc that are/are not generated by phi_can: {True: 1, False: 5}\n",
      "Number of wsc that are/are not generated by phi_av_translated1: {True: 6}\n",
      "Number of wsc that are/are not generated by phi_av_translated2: {True: 6}\n",
      "\n"
     ]
    }
   ],
   "source": [
    "analyse_table(dic_l,f=True)"
   ]
  },
  {
   "cell_type": "code",
   "execution_count": 24,
   "id": "ad5043a2",
   "metadata": {},
   "outputs": [],
   "source": [
    "pickle_dic_l(graphname,dic_l)"
   ]
  },
  {
   "cell_type": "markdown",
   "id": "47b5a629",
   "metadata": {},
   "source": [
    "### $(k_1,k_2,k_3)=(1,1,4)$"
   ]
  },
  {
   "cell_type": "code",
   "execution_count": 25,
   "id": "3b57566e",
   "metadata": {
    "collapsed": true,
    "jupyter": {
     "outputs_hidden": true
    },
    "tags": []
   },
   "outputs": [
    {
     "name": "stdout",
     "output_type": "stream",
     "text": [
      "Start= 0 ---- 0 ----terminator: False\n",
      "Start= 0 ---- 1 ----terminator: False\n",
      "Start= 0 ---- 2 ----terminator: False\n",
      "Start= 0 ---- 3 ----terminator: False\n",
      "Start= 0 ---- 4 ----terminator: False\n",
      "Start= 0 ---- 5 ----terminator: False\n",
      "Start= 0 ---- 6 ----terminator: False\n",
      "Start= 0 ---- 7 ----terminator: False\n",
      "Start= 0 ---- 8 ----terminator: False\n",
      "Start= 0 ---- 9 ----terminator: False\n",
      "Start= 0 ---- 10 ----terminator: False\n",
      "Start= 0 ---- 11 ----terminator: False\n",
      "Start= 0 ---- 12 ----terminator: False\n",
      "Start= 0 ---- 13 ----terminator: False\n",
      "Start= 0 ---- 14 ----terminator: False\n",
      "Start= 0 ---- 15 ----terminator: False\n",
      "Start= 0 ---- 16 ----terminator: False\n",
      "Start= 0 ---- 17 ----terminator: False\n",
      "Start= 0 ---- 18 ----terminator: False\n",
      "Start= 0 ---- 19 ----terminator: False\n",
      "Start= 0 ---- 20 ----terminator: False\n",
      "Start= 0 ---- 21 ----terminator: False\n",
      "Start= 0 ---- 22 ----terminator: False\n",
      "Start= 0 ---- 23 ----terminator: False\n"
     ]
    }
   ],
   "source": [
    "graphname=\"G5M1\" \n",
    "G=Graph([(\"0\",\"1\",\"e11\"),(\"1\",\"2\",\"e2\"),(\"2\",\"3\",\"e3\"),(\"3\",\"4\",\"e4\"),(\"4\",\"0\",\"e5\"),(\"0\",\"1\",\"e12\")], multiedges=True)\n",
    "\n",
    "data=unpickle(graphname) #Size=24\n",
    "\n",
    "dic_l=analyse_graphname(G,data)"
   ]
  },
  {
   "cell_type": "code",
   "execution_count": 32,
   "id": "c1685a51",
   "metadata": {},
   "outputs": [
    {
     "name": "stdout",
     "output_type": "stream",
     "text": [
      "Total number of wsc 24\n",
      "Number of wsc that do/do not satisfy graph poly == tree poly: {True: 24}\n",
      "Number of polytopes of a given (dimension:number of at dim): {4: 24}\n",
      "Number of wsc that are/are not generated by phi_rep: {True: 24}\n",
      "Number of wsc that are/are not generated by phi_av: {True: 24}\n",
      "Number of wsc that are/are not generated by phi_can: {True: 1, False: 23}\n",
      "Number of wsc that are/are not generated by phi_av_translated1: {True: 24}\n",
      "Number of wsc that are/are not generated by phi_av_translated2: {True: 24}\n",
      "\n"
     ]
    }
   ],
   "source": [
    "analyse_table(dic_l,f=True)"
   ]
  },
  {
   "cell_type": "code",
   "execution_count": 27,
   "id": "e9cf2ec1",
   "metadata": {},
   "outputs": [],
   "source": [
    "pickle_dic_l(graphname,dic_l)"
   ]
  },
  {
   "cell_type": "markdown",
   "id": "f8329147",
   "metadata": {
    "tags": []
   },
   "source": [
    "### $(k_1,k_2,k_3)=(1,1,5)$"
   ]
  },
  {
   "cell_type": "markdown",
   "id": "d37f1e62",
   "metadata": {
    "jp-MarkdownHeadingCollapsed": true,
    "tags": []
   },
   "source": [
    "### $(k_1,k_2,k_3)=(1,1,6)$"
   ]
  },
  {
   "cell_type": "markdown",
   "id": "9c120c53",
   "metadata": {
    "tags": [],
    "toc-hr-collapsed": true
   },
   "source": [
    "## $\\Gamma:=\\Gamma_{1 k_2 k_3}$ for $k_2\\ge 2$  <a name=\"s23\"></a>"
   ]
  },
  {
   "cell_type": "markdown",
   "id": "2b54ded7",
   "metadata": {},
   "source": [
    "We now consider the dimension of $P_{ST}^{\\sigma_{\\Gamma}}$ for $ \\sigma_{\\Gamma} \\in \\Sigma_{\\Gamma,T,D_{T}}^{d}$ for graphs   $\\Gamma:=\\Gamma_{k_1 k_2 k_3}$ with $(k_1,k_2,k_3)=\\{(1,2,2),(1,2,3),(1,2,4),(1,3,3),(1,2,5),(1,3,4)\\}$. "
   ]
  },
  {
   "cell_type": "markdown",
   "id": "8c0e621c",
   "metadata": {},
   "source": [
    "### $(k_1,k_2,k_3)=(1,2,2)$"
   ]
  },
  {
   "cell_type": "code",
   "execution_count": 43,
   "id": "3ebd1781",
   "metadata": {
    "collapsed": true,
    "jupyter": {
     "outputs_hidden": true
    },
    "tags": []
   },
   "outputs": [
    {
     "name": "stdout",
     "output_type": "stream",
     "text": [
      "Start= 0 ---- 0 ----terminator: False\n",
      "Start= 0 ---- 1 ----terminator: False\n",
      "Start= 0 ---- 2 ----terminator: False\n",
      "Start= 0 ---- 3 ----terminator: False\n",
      "Start= 0 ---- 4 ----terminator: False\n",
      "Start= 0 ---- 5 ----terminator: False\n"
     ]
    }
   ],
   "source": [
    "graphname=\"G4M2\" \n",
    "G=Graph([(\"0\",\"1\"),(\"1\",\"2\"),(\"2\",\"3\"),(\"3\",\"0\"),(\"0\",\"2\")], multiedges=True)\n",
    "\n",
    "data=unpickle(graphname) #Size=6\n",
    "\n",
    "dic_l=analyse_graphname(G,data)"
   ]
  },
  {
   "cell_type": "code",
   "execution_count": 70,
   "id": "36e7c3e6",
   "metadata": {
    "tags": []
   },
   "outputs": [],
   "source": [
    "#Store list of dictionaries\n",
    "# pickle_dic_l(graphname,dic_l)"
   ]
  },
  {
   "cell_type": "code",
   "execution_count": 49,
   "id": "cdb79701",
   "metadata": {
    "collapsed": true,
    "jupyter": {
     "outputs_hidden": true
    },
    "tags": []
   },
   "outputs": [
    {
     "name": "stdout",
     "output_type": "stream",
     "text": [
      "Total number of wsc 6\n",
      "Number of polytopes of a given (dimension:number of at dim): {3: 6}\n",
      "Number of wsc that are/are not generated by phi_av: {True: 6}\n",
      "Number of wsc that are/are not generated by phi_can: {True: 1, False: 5}\n",
      "Number of wsc that are/are not generated by phi_av_translated1: {False: 6}\n",
      "Number of wsc that are/are not generated by phi_av_translated2: {False: 1, True: 5}\n",
      "Number of wsc that are/are not generated by phi_av_translated3: {True: 5, False: 1}\n",
      "Number of wsc that are/are not generated by phi_av_translated4: {True: 1, False: 5}\n",
      "Number of wsc that are/are not generated by phi_av_translated5: {False: 6}\n",
      "Number of wsc that are/are not generated by phi_av_translated6: {False: 6}\n",
      "Number of wsc that are/are not generated by phi_av_translated7: {False: 6}\n",
      "Number of wsc that are/are not generated by phi_av_translated8: {False: 6}        \n",
      "\n",
      "\n"
     ]
    }
   ],
   "source": [
    "analyse_table(dic_l,f=True)"
   ]
  },
  {
   "cell_type": "markdown",
   "id": "c73b2f08",
   "metadata": {
    "tags": []
   },
   "source": [
    "### $(k_1,k_2,k_3)=(1,2,3)$"
   ]
  },
  {
   "cell_type": "code",
   "execution_count": 86,
   "id": "8a752d0c",
   "metadata": {
    "collapsed": true,
    "jupyter": {
     "outputs_hidden": true
    },
    "tags": []
   },
   "outputs": [
    {
     "name": "stdout",
     "output_type": "stream",
     "text": [
      "Start= 0 ---- 0 ----terminator: False\n",
      "Start= 0 ---- 1 ----terminator: False\n",
      "Start= 0 ---- 2 ----terminator: False\n",
      "Start= 0 ---- 3 ----terminator: False\n",
      "Start= 0 ---- 4 ----terminator: False\n",
      "Start= 0 ---- 5 ----terminator: False\n",
      "Start= 0 ---- 6 ----terminator: False\n",
      "Start= 0 ---- 7 ----terminator: False\n",
      "Start= 0 ---- 8 ----terminator: False\n",
      "Start= 0 ---- 9 ----terminator: False\n",
      "Start= 0 ---- 10 ----terminator: False\n",
      "Start= 0 ---- 11 ----terminator: False\n",
      "Start= 0 ---- 12 ----terminator: False\n",
      "Start= 0 ---- 13 ----terminator: False\n",
      "Start= 0 ---- 14 ----terminator: False\n",
      "Start= 0 ---- 15 ----terminator: False\n",
      "Start= 0 ---- 16 ----terminator: False\n",
      "Start= 0 ---- 17 ----terminator: False\n",
      "Start= 0 ---- 18 ----terminator: False\n",
      "Start= 0 ---- 19 ----terminator: False\n",
      "Start= 0 ---- 20 ----terminator: False\n",
      "Start= 0 ---- 21 ----terminator: False\n",
      "Start= 0 ---- 22 ----terminator: False\n",
      "Start= 0 ---- 23 ----terminator: False\n"
     ]
    }
   ],
   "source": [
    "graphname=\"G5M2\"\n",
    "G=Graph([(\"0\",\"1\"),(\"1\",\"2\"),(\"2\",\"3\"),(\"3\",\"4\"),(\"4\",\"0\"),(\"0\",\"2\")], multiedges=True)\n",
    "\n",
    "data=unpickle(graphname) #Size=24\n",
    "\n",
    "dic_l=analyse_graphname(G,data)"
   ]
  },
  {
   "cell_type": "code",
   "execution_count": 87,
   "id": "034aeadf",
   "metadata": {
    "tags": []
   },
   "outputs": [],
   "source": [
    "#Store list of dictionaries\n",
    "# pickle_dic_l(graphname,dic_l)"
   ]
  },
  {
   "cell_type": "code",
   "execution_count": 88,
   "id": "2af0ac39",
   "metadata": {
    "collapsed": true,
    "jupyter": {
     "outputs_hidden": true
    }
   },
   "outputs": [
    {
     "name": "stdout",
     "output_type": "stream",
     "text": [
      "Total number of wsc 24\n",
      "Number of wsc that do/do not satisfy graph poly == tree poly: {True: 24}\n",
      "Number of polytopes of a given (dimension:number of at dim): {4: 24}\n",
      "Number of wsc that are/are not generated by phi_rep: {True: 24}\n",
      "Number of wsc that are/are not generated by phi_av: {True: 24}\n",
      "Number of wsc that are/are not generated by phi_can: {True: 1, False: 23}\n",
      "Number of wsc that are/are not generated by phi_av_translated1: {True: 16, False: 8}\n",
      "Number of wsc that are/are not generated by phi_av_translated2: {False: 8, True: 16}\n",
      "\n"
     ]
    }
   ],
   "source": [
    "analyse_table(dic_l,f=True)"
   ]
  },
  {
   "cell_type": "markdown",
   "id": "d3022987",
   "metadata": {
    "tags": []
   },
   "source": [
    "### $(k_1,k_2,k_3)=(1,2,4)$"
   ]
  },
  {
   "cell_type": "code",
   "execution_count": 90,
   "id": "6817fdfb",
   "metadata": {
    "tags": []
   },
   "outputs": [
    {
     "name": "stdout",
     "output_type": "stream",
     "text": [
      "Start= 0 ---- 0 ----terminator: 1\n",
      "Start= 0 ---- 1 ----terminator: 1\n"
     ]
    }
   ],
   "source": [
    "graphname=\"G6M2\"\n",
    "G=Graph([(\"0\",\"1\"),(\"1\",\"2\"),(\"2\",\"3\"),(\"3\",\"4\"),(\"4\",\"5\"),(\"5\",\"0\"),(\"0\",\"2\")], multiedges=True)\n",
    "\n",
    "data=unpickle(graphname) #Size=120\n",
    "\n",
    "\n",
    "dic_l=analyse_graphname(G,data)"
   ]
  },
  {
   "cell_type": "code",
   "execution_count": null,
   "id": "ed6ff000",
   "metadata": {
    "tags": []
   },
   "outputs": [],
   "source": [
    "#Store list of dictionaries\n",
    "# pickle_dic_l(graphname,dic_l)"
   ]
  },
  {
   "cell_type": "code",
   "execution_count": null,
   "id": "05c35e2d",
   "metadata": {},
   "outputs": [],
   "source": [
    "analyse_table(dic_l,f=True)"
   ]
  },
  {
   "cell_type": "markdown",
   "id": "70eaa04a",
   "metadata": {
    "tags": []
   },
   "source": [
    "### $(k_1,k_2,k_3)=(1,3,3)$"
   ]
  },
  {
   "cell_type": "code",
   "execution_count": 25,
   "id": "1fd9160a",
   "metadata": {
    "collapsed": true,
    "jupyter": {
     "outputs_hidden": true
    },
    "tags": []
   },
   "outputs": [
    {
     "name": "stdout",
     "output_type": "stream",
     "text": [
      "Start= 0 ---- 0 ----terminator: False\n"
     ]
    },
    {
     "ename": "KeyboardInterrupt",
     "evalue": "",
     "output_type": "error",
     "traceback": [
      "\u001b[0;31m---------------------------------------------------------------------------\u001b[0m",
      "\u001b[0;31mKeyboardInterrupt\u001b[0m                         Traceback (most recent call last)",
      "\u001b[0;32m<ipython-input-25-8864e86294cf>\u001b[0m in \u001b[0;36m<module>\u001b[0;34m\u001b[0m\n\u001b[1;32m     10\u001b[0m \u001b[0;31m#     print(i)\u001b[0m\u001b[0;34m\u001b[0m\u001b[0;34m\u001b[0m\u001b[0;34m\u001b[0m\u001b[0m\n\u001b[1;32m     11\u001b[0m \u001b[0;34m\u001b[0m\u001b[0m\n\u001b[0;32m---> 12\u001b[0;31m \u001b[0mdic_l\u001b[0m\u001b[0;34m=\u001b[0m\u001b[0manalyse_graphname\u001b[0m\u001b[0;34m(\u001b[0m\u001b[0mG\u001b[0m\u001b[0;34m,\u001b[0m\u001b[0mdata\u001b[0m\u001b[0;34m,\u001b[0m\u001b[0mind_breaks\u001b[0m\u001b[0;34m=\u001b[0m\u001b[0mInteger\u001b[0m\u001b[0;34m(\u001b[0m\u001b[0;36m0\u001b[0m\u001b[0;34m)\u001b[0m\u001b[0;34m)\u001b[0m\u001b[0;34m\u001b[0m\u001b[0;34m\u001b[0m\u001b[0m\n\u001b[0m",
      "\u001b[0;32m<ipython-input-20-8f882a0f3e92>\u001b[0m in \u001b[0;36manalyse_graphname\u001b[0;34m(G, data, start, terminator, ind_breaks)\u001b[0m\n\u001b[1;32m     42\u001b[0m         \u001b[0mdiv_l\u001b[0m\u001b[0;34m=\u001b[0m\u001b[0mdata\u001b[0m\u001b[0;34m[\u001b[0m\u001b[0mterm\u001b[0m\u001b[0;34m]\u001b[0m\u001b[0;34m[\u001b[0m\u001b[0mInteger\u001b[0m\u001b[0;34m(\u001b[0m\u001b[0;36m1\u001b[0m\u001b[0;34m)\u001b[0m\u001b[0;34m]\u001b[0m\u001b[0;34m.\u001b[0m\u001b[0mtolist\u001b[0m\u001b[0;34m(\u001b[0m\u001b[0;34m)\u001b[0m \u001b[0;31m#lbm [[0, 0, 1], [0, 1, 0], [1, 0, 0]]\u001b[0m\u001b[0;34m\u001b[0m\u001b[0;34m\u001b[0m\u001b[0m\n\u001b[1;32m     43\u001b[0m \u001b[0;34m\u001b[0m\u001b[0m\n\u001b[0;32m---> 44\u001b[0;31m         \u001b[0mtree_poly\u001b[0m\u001b[0;34m=\u001b[0m\u001b[0mget_intersection_tree_poly\u001b[0m\u001b[0;34m(\u001b[0m\u001b[0mG\u001b[0m\u001b[0;34m,\u001b[0m\u001b[0massignments\u001b[0m\u001b[0;34m)\u001b[0m\u001b[0;34m\u001b[0m\u001b[0;34m\u001b[0m\u001b[0m\n\u001b[0m\u001b[1;32m     45\u001b[0m \u001b[0;34m\u001b[0m\u001b[0m\n\u001b[1;32m     46\u001b[0m         \u001b[0;34m\"We see this is always true so we done check\"\u001b[0m\u001b[0;34m\u001b[0m\u001b[0;34m\u001b[0m\u001b[0m\n",
      "\u001b[0;32m<ipython-input-9-a70ae6feffcf>\u001b[0m in \u001b[0;36mget_intersection_tree_poly\u001b[0;34m(G, assignments)\u001b[0m\n\u001b[1;32m    163\u001b[0m         \u001b[0mT\u001b[0m\u001b[0;34m,\u001b[0m\u001b[0mdivisor\u001b[0m\u001b[0;34m=\u001b[0m\u001b[0mass\u001b[0m\u001b[0;34m[\u001b[0m\u001b[0mInteger\u001b[0m\u001b[0;34m(\u001b[0m\u001b[0;36m0\u001b[0m\u001b[0;34m)\u001b[0m\u001b[0;34m]\u001b[0m\u001b[0;34m,\u001b[0m\u001b[0mass\u001b[0m\u001b[0;34m[\u001b[0m\u001b[0mInteger\u001b[0m\u001b[0;34m(\u001b[0m\u001b[0;36m1\u001b[0m\u001b[0;34m)\u001b[0m\u001b[0;34m]\u001b[0m\u001b[0;34m\u001b[0m\u001b[0;34m\u001b[0m\u001b[0m\n\u001b[1;32m    164\u001b[0m \u001b[0;34m\u001b[0m\u001b[0m\n\u001b[0;32m--> 165\u001b[0;31m         \u001b[0mP\u001b[0m\u001b[0;34m=\u001b[0m\u001b[0mget_tree_poly\u001b[0m\u001b[0;34m(\u001b[0m\u001b[0mG\u001b[0m\u001b[0;34m,\u001b[0m\u001b[0mT\u001b[0m\u001b[0;34m,\u001b[0m\u001b[0mdivisor\u001b[0m\u001b[0;34m)\u001b[0m\u001b[0;34m\u001b[0m\u001b[0;34m\u001b[0m\u001b[0m\n\u001b[0m\u001b[1;32m    166\u001b[0m \u001b[0;34m\u001b[0m\u001b[0m\n\u001b[1;32m    167\u001b[0m         \u001b[0mpoly_l\u001b[0m\u001b[0;34m.\u001b[0m\u001b[0mappend\u001b[0m\u001b[0;34m(\u001b[0m\u001b[0mP\u001b[0m\u001b[0;34m)\u001b[0m\u001b[0;34m\u001b[0m\u001b[0;34m\u001b[0m\u001b[0m\n",
      "\u001b[0;32m<ipython-input-9-a70ae6feffcf>\u001b[0m in \u001b[0;36mget_tree_poly\u001b[0;34m(G, T, divisor)\u001b[0m\n\u001b[1;32m    145\u001b[0m \u001b[0;34m\u001b[0m\u001b[0m\n\u001b[1;32m    146\u001b[0m     \u001b[0;31m#build a polytope.\u001b[0m\u001b[0;34m\u001b[0m\u001b[0;34m\u001b[0m\u001b[0;34m\u001b[0m\u001b[0m\n\u001b[0;32m--> 147\u001b[0;31m     \u001b[0mtree_poly\u001b[0m\u001b[0;34m=\u001b[0m\u001b[0mPolyhedron\u001b[0m\u001b[0;34m(\u001b[0m\u001b[0mieqs\u001b[0m\u001b[0;34m=\u001b[0m\u001b[0mhyperp\u001b[0m\u001b[0;34m)\u001b[0m\u001b[0;34m\u001b[0m\u001b[0;34m\u001b[0m\u001b[0m\n\u001b[0m\u001b[1;32m    148\u001b[0m \u001b[0;34m\u001b[0m\u001b[0m\n\u001b[1;32m    149\u001b[0m     \u001b[0;32mreturn\u001b[0m \u001b[0mtree_poly\u001b[0m\u001b[0;34m\u001b[0m\u001b[0;34m\u001b[0m\u001b[0m\n",
      "\u001b[0;32m/opt/sagemath-9.2/local/lib/python3.7/site-packages/sage/misc/lazy_import.pyx\u001b[0m in \u001b[0;36msage.misc.lazy_import.LazyImport.__call__ (build/cythonized/sage/misc/lazy_import.c:4027)\u001b[0;34m()\u001b[0m\n\u001b[1;32m    359\u001b[0m             \u001b[0;32mTrue\u001b[0m\u001b[0;34m\u001b[0m\u001b[0;34m\u001b[0m\u001b[0m\n\u001b[1;32m    360\u001b[0m         \"\"\"\n\u001b[0;32m--> 361\u001b[0;31m         \u001b[0;32mreturn\u001b[0m \u001b[0mself\u001b[0m\u001b[0;34m.\u001b[0m\u001b[0mget_object\u001b[0m\u001b[0;34m(\u001b[0m\u001b[0;34m)\u001b[0m\u001b[0;34m(\u001b[0m\u001b[0;34m*\u001b[0m\u001b[0margs\u001b[0m\u001b[0;34m,\u001b[0m \u001b[0;34m**\u001b[0m\u001b[0mkwds\u001b[0m\u001b[0;34m)\u001b[0m\u001b[0;34m\u001b[0m\u001b[0;34m\u001b[0m\u001b[0m\n\u001b[0m\u001b[1;32m    362\u001b[0m \u001b[0;34m\u001b[0m\u001b[0m\n\u001b[1;32m    363\u001b[0m     \u001b[0;32mdef\u001b[0m \u001b[0m__repr__\u001b[0m\u001b[0;34m(\u001b[0m\u001b[0mself\u001b[0m\u001b[0;34m)\u001b[0m\u001b[0;34m:\u001b[0m\u001b[0;34m\u001b[0m\u001b[0;34m\u001b[0m\u001b[0m\n",
      "\u001b[0;32m/opt/sagemath-9.2/local/lib/python3.7/site-packages/sage/geometry/polyhedron/constructor.py\u001b[0m in \u001b[0;36mPolyhedron\u001b[0;34m(vertices, rays, lines, ieqs, eqns, ambient_dim, base_ring, minimize, verbose, backend)\u001b[0m\n\u001b[1;32m    660\u001b[0m     \u001b[0;32mif\u001b[0m \u001b[0mgot_Vrep\u001b[0m\u001b[0;34m:\u001b[0m\u001b[0;34m\u001b[0m\u001b[0;34m\u001b[0m\u001b[0m\n\u001b[1;32m    661\u001b[0m         \u001b[0mVrep\u001b[0m \u001b[0;34m=\u001b[0m \u001b[0;34m[\u001b[0m\u001b[0mvertices\u001b[0m\u001b[0;34m,\u001b[0m \u001b[0mrays\u001b[0m\u001b[0;34m,\u001b[0m \u001b[0mlines\u001b[0m\u001b[0;34m]\u001b[0m\u001b[0;34m\u001b[0m\u001b[0;34m\u001b[0m\u001b[0m\n\u001b[0;32m--> 662\u001b[0;31m     \u001b[0;32mreturn\u001b[0m \u001b[0mparent\u001b[0m\u001b[0;34m(\u001b[0m\u001b[0mVrep\u001b[0m\u001b[0;34m,\u001b[0m \u001b[0mHrep\u001b[0m\u001b[0;34m,\u001b[0m \u001b[0mconvert\u001b[0m\u001b[0;34m=\u001b[0m\u001b[0mconvert\u001b[0m\u001b[0;34m,\u001b[0m \u001b[0mverbose\u001b[0m\u001b[0;34m=\u001b[0m\u001b[0mverbose\u001b[0m\u001b[0;34m)\u001b[0m\u001b[0;34m\u001b[0m\u001b[0;34m\u001b[0m\u001b[0m\n\u001b[0m",
      "\u001b[0;32m/opt/sagemath-9.2/local/lib/python3.7/site-packages/sage/structure/parent.pyx\u001b[0m in \u001b[0;36msage.structure.parent.Parent.__call__ (build/cythonized/sage/structure/parent.c:9364)\u001b[0;34m()\u001b[0m\n\u001b[1;32m    900\u001b[0m                 \u001b[0;32mreturn\u001b[0m \u001b[0mmor\u001b[0m\u001b[0;34m.\u001b[0m\u001b[0m_call_\u001b[0m\u001b[0;34m(\u001b[0m\u001b[0mx\u001b[0m\u001b[0;34m)\u001b[0m\u001b[0;34m\u001b[0m\u001b[0;34m\u001b[0m\u001b[0m\n\u001b[1;32m    901\u001b[0m             \u001b[0;32melse\u001b[0m\u001b[0;34m:\u001b[0m\u001b[0;34m\u001b[0m\u001b[0;34m\u001b[0m\u001b[0m\n\u001b[0;32m--> 902\u001b[0;31m                 \u001b[0;32mreturn\u001b[0m \u001b[0mmor\u001b[0m\u001b[0;34m.\u001b[0m\u001b[0m_call_with_args\u001b[0m\u001b[0;34m(\u001b[0m\u001b[0mx\u001b[0m\u001b[0;34m,\u001b[0m \u001b[0margs\u001b[0m\u001b[0;34m,\u001b[0m \u001b[0mkwds\u001b[0m\u001b[0;34m)\u001b[0m\u001b[0;34m\u001b[0m\u001b[0;34m\u001b[0m\u001b[0m\n\u001b[0m\u001b[1;32m    903\u001b[0m \u001b[0;34m\u001b[0m\u001b[0m\n\u001b[1;32m    904\u001b[0m         \u001b[0;32mraise\u001b[0m \u001b[0mTypeError\u001b[0m\u001b[0;34m(\u001b[0m\u001b[0m_LazyString\u001b[0m\u001b[0;34m(\u001b[0m\u001b[0m_lazy_format\u001b[0m\u001b[0;34m,\u001b[0m \u001b[0;34m(\u001b[0m\u001b[0;34m\"No conversion defined from %s to %s\"\u001b[0m\u001b[0;34m,\u001b[0m \u001b[0mR\u001b[0m\u001b[0;34m,\u001b[0m \u001b[0mself\u001b[0m\u001b[0;34m)\u001b[0m\u001b[0;34m,\u001b[0m \u001b[0;34m{\u001b[0m\u001b[0;34m}\u001b[0m\u001b[0;34m)\u001b[0m\u001b[0;34m)\u001b[0m\u001b[0;34m\u001b[0m\u001b[0;34m\u001b[0m\u001b[0m\n",
      "\u001b[0;32m/opt/sagemath-9.2/local/lib/python3.7/site-packages/sage/structure/coerce_maps.pyx\u001b[0m in \u001b[0;36msage.structure.coerce_maps.DefaultConvertMap_unique._call_with_args (build/cythonized/sage/structure/coerce_maps.c:5042)\u001b[0;34m()\u001b[0m\n\u001b[1;32m    173\u001b[0m                     \u001b[0;32mreturn\u001b[0m \u001b[0mC\u001b[0m\u001b[0;34m.\u001b[0m\u001b[0m_element_constructor\u001b[0m\u001b[0;34m(\u001b[0m\u001b[0mx\u001b[0m\u001b[0;34m,\u001b[0m \u001b[0;34m*\u001b[0m\u001b[0margs\u001b[0m\u001b[0;34m)\u001b[0m\u001b[0;34m\u001b[0m\u001b[0;34m\u001b[0m\u001b[0m\n\u001b[1;32m    174\u001b[0m                 \u001b[0;32melse\u001b[0m\u001b[0;34m:\u001b[0m\u001b[0;34m\u001b[0m\u001b[0;34m\u001b[0m\u001b[0m\n\u001b[0;32m--> 175\u001b[0;31m                     \u001b[0;32mreturn\u001b[0m \u001b[0mC\u001b[0m\u001b[0;34m.\u001b[0m\u001b[0m_element_constructor\u001b[0m\u001b[0;34m(\u001b[0m\u001b[0mx\u001b[0m\u001b[0;34m,\u001b[0m \u001b[0;34m*\u001b[0m\u001b[0margs\u001b[0m\u001b[0;34m,\u001b[0m \u001b[0;34m**\u001b[0m\u001b[0mkwds\u001b[0m\u001b[0;34m)\u001b[0m\u001b[0;34m\u001b[0m\u001b[0;34m\u001b[0m\u001b[0m\n\u001b[0m\u001b[1;32m    176\u001b[0m         \u001b[0;32mexcept\u001b[0m \u001b[0mException\u001b[0m\u001b[0;34m:\u001b[0m\u001b[0;34m\u001b[0m\u001b[0;34m\u001b[0m\u001b[0m\n\u001b[1;32m    177\u001b[0m             \u001b[0;32mif\u001b[0m \u001b[0mprint_warnings\u001b[0m\u001b[0;34m:\u001b[0m\u001b[0;34m\u001b[0m\u001b[0;34m\u001b[0m\u001b[0m\n",
      "\u001b[0;32m/opt/sagemath-9.2/local/lib/python3.7/site-packages/sage/geometry/polyhedron/parent.py\u001b[0m in \u001b[0;36m_element_constructor_\u001b[0;34m(self, *args, **kwds)\u001b[0m\n\u001b[1;32m    596\u001b[0m             \u001b[0;32mif\u001b[0m \u001b[0mconvert\u001b[0m \u001b[0;32mand\u001b[0m \u001b[0mVrep\u001b[0m\u001b[0;34m:\u001b[0m\u001b[0;34m\u001b[0m\u001b[0;34m\u001b[0m\u001b[0m\n\u001b[1;32m    597\u001b[0m                 \u001b[0mVrep\u001b[0m \u001b[0;34m=\u001b[0m \u001b[0;34m[\u001b[0m\u001b[0mconvert_base_ring\u001b[0m\u001b[0;34m(\u001b[0m\u001b[0m_\u001b[0m\u001b[0;34m)\u001b[0m \u001b[0;32mfor\u001b[0m \u001b[0m_\u001b[0m \u001b[0;32min\u001b[0m \u001b[0mVrep\u001b[0m\u001b[0;34m]\u001b[0m\u001b[0;34m\u001b[0m\u001b[0;34m\u001b[0m\u001b[0m\n\u001b[0;32m--> 598\u001b[0;31m             \u001b[0;32mreturn\u001b[0m \u001b[0mself\u001b[0m\u001b[0;34m.\u001b[0m\u001b[0melement_class\u001b[0m\u001b[0;34m(\u001b[0m\u001b[0mself\u001b[0m\u001b[0;34m,\u001b[0m \u001b[0mVrep\u001b[0m\u001b[0;34m,\u001b[0m \u001b[0mHrep\u001b[0m\u001b[0;34m,\u001b[0m \u001b[0;34m**\u001b[0m\u001b[0mkwds\u001b[0m\u001b[0;34m)\u001b[0m\u001b[0;34m\u001b[0m\u001b[0;34m\u001b[0m\u001b[0m\n\u001b[0m\u001b[1;32m    599\u001b[0m         \u001b[0;32mif\u001b[0m \u001b[0mnargs\u001b[0m \u001b[0;34m==\u001b[0m \u001b[0;36m1\u001b[0m \u001b[0;32mand\u001b[0m \u001b[0mis_Polyhedron\u001b[0m\u001b[0;34m(\u001b[0m\u001b[0margs\u001b[0m\u001b[0;34m[\u001b[0m\u001b[0;36m0\u001b[0m\u001b[0;34m]\u001b[0m\u001b[0;34m)\u001b[0m\u001b[0;34m:\u001b[0m\u001b[0;34m\u001b[0m\u001b[0;34m\u001b[0m\u001b[0m\n\u001b[1;32m    600\u001b[0m             \u001b[0mpolyhedron\u001b[0m \u001b[0;34m=\u001b[0m \u001b[0margs\u001b[0m\u001b[0;34m[\u001b[0m\u001b[0;36m0\u001b[0m\u001b[0;34m]\u001b[0m\u001b[0;34m\u001b[0m\u001b[0;34m\u001b[0m\u001b[0m\n",
      "\u001b[0;32m/opt/sagemath-9.2/local/lib/python3.7/site-packages/sage/geometry/polyhedron/backend_cdd.py\u001b[0m in \u001b[0;36m__init__\u001b[0;34m(self, parent, Vrep, Hrep, **kwds)\u001b[0m\n\u001b[1;32m    518\u001b[0m             \u001b[0msage\u001b[0m\u001b[0;34m:\u001b[0m \u001b[0mTestSuite\u001b[0m\u001b[0;34m(\u001b[0m\u001b[0mp\u001b[0m\u001b[0;34m)\u001b[0m\u001b[0;34m.\u001b[0m\u001b[0mrun\u001b[0m\u001b[0;34m(\u001b[0m\u001b[0;34m)\u001b[0m\u001b[0;34m\u001b[0m\u001b[0;34m\u001b[0m\u001b[0m\n\u001b[1;32m    519\u001b[0m         \"\"\"\n\u001b[0;32m--> 520\u001b[0;31m         \u001b[0mPolyhedron_cdd\u001b[0m\u001b[0;34m.\u001b[0m\u001b[0m__init__\u001b[0m\u001b[0;34m(\u001b[0m\u001b[0mself\u001b[0m\u001b[0;34m,\u001b[0m \u001b[0mparent\u001b[0m\u001b[0;34m,\u001b[0m \u001b[0mVrep\u001b[0m\u001b[0;34m,\u001b[0m \u001b[0mHrep\u001b[0m\u001b[0;34m,\u001b[0m \u001b[0;34m**\u001b[0m\u001b[0mkwds\u001b[0m\u001b[0;34m)\u001b[0m\u001b[0;34m\u001b[0m\u001b[0;34m\u001b[0m\u001b[0m\n\u001b[0m\u001b[1;32m    521\u001b[0m \u001b[0;34m\u001b[0m\u001b[0m\n\u001b[1;32m    522\u001b[0m     \u001b[0;32mdef\u001b[0m \u001b[0m_init_from_Vrepresentation_and_Hrepresentation\u001b[0m\u001b[0;34m(\u001b[0m\u001b[0mself\u001b[0m\u001b[0;34m,\u001b[0m \u001b[0mVrep\u001b[0m\u001b[0;34m,\u001b[0m \u001b[0mHrep\u001b[0m\u001b[0;34m,\u001b[0m \u001b[0mverbose\u001b[0m\u001b[0;34m=\u001b[0m\u001b[0;32mFalse\u001b[0m\u001b[0;34m)\u001b[0m\u001b[0;34m:\u001b[0m\u001b[0;34m\u001b[0m\u001b[0;34m\u001b[0m\u001b[0m\n",
      "\u001b[0;32m/opt/sagemath-9.2/local/lib/python3.7/site-packages/sage/geometry/polyhedron/base.py\u001b[0m in \u001b[0;36m__init__\u001b[0;34m(self, parent, Vrep, Hrep, Vrep_minimal, Hrep_minimal, pref_rep, **kwds)\u001b[0m\n\u001b[1;32m    252\u001b[0m         \u001b[0;32melif\u001b[0m \u001b[0mHrep\u001b[0m \u001b[0;32mis\u001b[0m \u001b[0;32mnot\u001b[0m \u001b[0;32mNone\u001b[0m\u001b[0;34m:\u001b[0m\u001b[0;34m\u001b[0m\u001b[0;34m\u001b[0m\u001b[0m\n\u001b[1;32m    253\u001b[0m             \u001b[0mieqs\u001b[0m\u001b[0;34m,\u001b[0m \u001b[0meqns\u001b[0m \u001b[0;34m=\u001b[0m \u001b[0mHrep\u001b[0m\u001b[0;34m\u001b[0m\u001b[0;34m\u001b[0m\u001b[0m\n\u001b[0;32m--> 254\u001b[0;31m             \u001b[0mself\u001b[0m\u001b[0;34m.\u001b[0m\u001b[0m_init_from_Hrepresentation\u001b[0m\u001b[0;34m(\u001b[0m\u001b[0mieqs\u001b[0m\u001b[0;34m,\u001b[0m \u001b[0meqns\u001b[0m\u001b[0;34m,\u001b[0m \u001b[0;34m**\u001b[0m\u001b[0mkwds\u001b[0m\u001b[0;34m)\u001b[0m\u001b[0;34m\u001b[0m\u001b[0;34m\u001b[0m\u001b[0m\n\u001b[0m\u001b[1;32m    255\u001b[0m         \u001b[0;32melse\u001b[0m\u001b[0;34m:\u001b[0m\u001b[0;34m\u001b[0m\u001b[0;34m\u001b[0m\u001b[0m\n\u001b[1;32m    256\u001b[0m             \u001b[0mself\u001b[0m\u001b[0;34m.\u001b[0m\u001b[0m_init_empty_polyhedron\u001b[0m\u001b[0;34m(\u001b[0m\u001b[0;34m)\u001b[0m\u001b[0;34m\u001b[0m\u001b[0;34m\u001b[0m\u001b[0m\n",
      "\u001b[0;32m/opt/sagemath-9.2/local/lib/python3.7/site-packages/sage/geometry/polyhedron/backend_cdd.py\u001b[0m in \u001b[0;36m_init_from_Hrepresentation\u001b[0;34m(self, ieqs, eqns, verbose)\u001b[0m\n\u001b[1;32m    123\u001b[0m         \u001b[0ms\u001b[0m \u001b[0;34m=\u001b[0m \u001b[0mcdd_Hrepresentation\u001b[0m\u001b[0;34m(\u001b[0m\u001b[0mself\u001b[0m\u001b[0;34m.\u001b[0m\u001b[0m_cdd_type\u001b[0m\u001b[0;34m,\u001b[0m \u001b[0mieqs\u001b[0m\u001b[0;34m,\u001b[0m \u001b[0meqns\u001b[0m\u001b[0;34m)\u001b[0m\u001b[0;34m\u001b[0m\u001b[0;34m\u001b[0m\u001b[0m\n\u001b[1;32m    124\u001b[0m         \u001b[0ms\u001b[0m \u001b[0;34m=\u001b[0m \u001b[0mself\u001b[0m\u001b[0;34m.\u001b[0m\u001b[0m_run_cdd\u001b[0m\u001b[0;34m(\u001b[0m\u001b[0ms\u001b[0m\u001b[0;34m,\u001b[0m \u001b[0;34m'--redcheck'\u001b[0m\u001b[0;34m,\u001b[0m \u001b[0mverbose\u001b[0m\u001b[0;34m=\u001b[0m\u001b[0mverbose\u001b[0m\u001b[0;34m)\u001b[0m\u001b[0;34m\u001b[0m\u001b[0;34m\u001b[0m\u001b[0m\n\u001b[0;32m--> 125\u001b[0;31m         \u001b[0ms\u001b[0m \u001b[0;34m=\u001b[0m \u001b[0mself\u001b[0m\u001b[0;34m.\u001b[0m\u001b[0m_run_cdd\u001b[0m\u001b[0;34m(\u001b[0m\u001b[0ms\u001b[0m\u001b[0;34m,\u001b[0m \u001b[0;34m'--repall'\u001b[0m\u001b[0;34m,\u001b[0m \u001b[0mverbose\u001b[0m\u001b[0;34m=\u001b[0m\u001b[0mverbose\u001b[0m\u001b[0;34m)\u001b[0m\u001b[0;34m\u001b[0m\u001b[0;34m\u001b[0m\u001b[0m\n\u001b[0m\u001b[1;32m    126\u001b[0m         \u001b[0mself\u001b[0m\u001b[0;34m.\u001b[0m\u001b[0m_init_from_cdd_output\u001b[0m\u001b[0;34m(\u001b[0m\u001b[0ms\u001b[0m\u001b[0;34m)\u001b[0m\u001b[0;34m\u001b[0m\u001b[0;34m\u001b[0m\u001b[0m\n\u001b[1;32m    127\u001b[0m         \u001b[0;32mif\u001b[0m \u001b[0;32mnot\u001b[0m \u001b[0mself\u001b[0m\u001b[0;34m.\u001b[0m\u001b[0mbase_ring\u001b[0m\u001b[0;34m(\u001b[0m\u001b[0;34m)\u001b[0m\u001b[0;34m.\u001b[0m\u001b[0mis_exact\u001b[0m\u001b[0;34m(\u001b[0m\u001b[0;34m)\u001b[0m\u001b[0;34m:\u001b[0m\u001b[0;34m\u001b[0m\u001b[0;34m\u001b[0m\u001b[0m\n",
      "\u001b[0;32m/opt/sagemath-9.2/local/lib/python3.7/site-packages/sage/geometry/polyhedron/backend_cdd.py\u001b[0m in \u001b[0;36m_run_cdd\u001b[0;34m(self, cdd_input_string, cmdline_arg, verbose)\u001b[0m\n\u001b[1;32m    160\u001b[0m                          \u001b[0mstdin\u001b[0m\u001b[0;34m=\u001b[0m\u001b[0mPIPE\u001b[0m\u001b[0;34m,\u001b[0m \u001b[0mstdout\u001b[0m\u001b[0;34m=\u001b[0m\u001b[0mPIPE\u001b[0m\u001b[0;34m,\u001b[0m \u001b[0mstderr\u001b[0m\u001b[0;34m=\u001b[0m\u001b[0mPIPE\u001b[0m\u001b[0;34m,\u001b[0m\u001b[0;34m\u001b[0m\u001b[0;34m\u001b[0m\u001b[0m\n\u001b[1;32m    161\u001b[0m                          encoding='latin-1')\n\u001b[0;32m--> 162\u001b[0;31m         \u001b[0mans\u001b[0m\u001b[0;34m,\u001b[0m \u001b[0merr\u001b[0m \u001b[0;34m=\u001b[0m \u001b[0mcdd_proc\u001b[0m\u001b[0;34m.\u001b[0m\u001b[0mcommunicate\u001b[0m\u001b[0;34m(\u001b[0m\u001b[0minput\u001b[0m\u001b[0;34m=\u001b[0m\u001b[0mcdd_input_string\u001b[0m\u001b[0;34m)\u001b[0m\u001b[0;34m\u001b[0m\u001b[0;34m\u001b[0m\u001b[0m\n\u001b[0m\u001b[1;32m    163\u001b[0m \u001b[0;34m\u001b[0m\u001b[0m\n\u001b[1;32m    164\u001b[0m         \u001b[0;32mif\u001b[0m \u001b[0mverbose\u001b[0m\u001b[0;34m:\u001b[0m\u001b[0;34m\u001b[0m\u001b[0;34m\u001b[0m\u001b[0m\n",
      "\u001b[0;32m/usr/lib/python3.7/subprocess.py\u001b[0m in \u001b[0;36mcommunicate\u001b[0;34m(self, input, timeout)\u001b[0m\n\u001b[1;32m    962\u001b[0m \u001b[0;34m\u001b[0m\u001b[0m\n\u001b[1;32m    963\u001b[0m             \u001b[0;32mtry\u001b[0m\u001b[0;34m:\u001b[0m\u001b[0;34m\u001b[0m\u001b[0;34m\u001b[0m\u001b[0m\n\u001b[0;32m--> 964\u001b[0;31m                 \u001b[0mstdout\u001b[0m\u001b[0;34m,\u001b[0m \u001b[0mstderr\u001b[0m \u001b[0;34m=\u001b[0m \u001b[0mself\u001b[0m\u001b[0;34m.\u001b[0m\u001b[0m_communicate\u001b[0m\u001b[0;34m(\u001b[0m\u001b[0minput\u001b[0m\u001b[0;34m,\u001b[0m \u001b[0mendtime\u001b[0m\u001b[0;34m,\u001b[0m \u001b[0mtimeout\u001b[0m\u001b[0;34m)\u001b[0m\u001b[0;34m\u001b[0m\u001b[0;34m\u001b[0m\u001b[0m\n\u001b[0m\u001b[1;32m    965\u001b[0m             \u001b[0;32mexcept\u001b[0m \u001b[0mKeyboardInterrupt\u001b[0m\u001b[0;34m:\u001b[0m\u001b[0;34m\u001b[0m\u001b[0;34m\u001b[0m\u001b[0m\n\u001b[1;32m    966\u001b[0m                 \u001b[0;31m# https://bugs.python.org/issue25942\u001b[0m\u001b[0;34m\u001b[0m\u001b[0;34m\u001b[0m\u001b[0;34m\u001b[0m\u001b[0m\n",
      "\u001b[0;32m/usr/lib/python3.7/subprocess.py\u001b[0m in \u001b[0;36m_communicate\u001b[0;34m(self, input, endtime, orig_timeout)\u001b[0m\n\u001b[1;32m   1713\u001b[0m                             'failed to raise TimeoutExpired.')\n\u001b[1;32m   1714\u001b[0m \u001b[0;34m\u001b[0m\u001b[0m\n\u001b[0;32m-> 1715\u001b[0;31m                     \u001b[0mready\u001b[0m \u001b[0;34m=\u001b[0m \u001b[0mselector\u001b[0m\u001b[0;34m.\u001b[0m\u001b[0mselect\u001b[0m\u001b[0;34m(\u001b[0m\u001b[0mtimeout\u001b[0m\u001b[0;34m)\u001b[0m\u001b[0;34m\u001b[0m\u001b[0;34m\u001b[0m\u001b[0m\n\u001b[0m\u001b[1;32m   1716\u001b[0m                     \u001b[0mself\u001b[0m\u001b[0;34m.\u001b[0m\u001b[0m_check_timeout\u001b[0m\u001b[0;34m(\u001b[0m\u001b[0mendtime\u001b[0m\u001b[0;34m,\u001b[0m \u001b[0morig_timeout\u001b[0m\u001b[0;34m,\u001b[0m \u001b[0mstdout\u001b[0m\u001b[0;34m,\u001b[0m \u001b[0mstderr\u001b[0m\u001b[0;34m)\u001b[0m\u001b[0;34m\u001b[0m\u001b[0;34m\u001b[0m\u001b[0m\n\u001b[1;32m   1717\u001b[0m \u001b[0;34m\u001b[0m\u001b[0m\n",
      "\u001b[0;32m/usr/lib/python3.7/selectors.py\u001b[0m in \u001b[0;36mselect\u001b[0;34m(self, timeout)\u001b[0m\n\u001b[1;32m    413\u001b[0m         \u001b[0mready\u001b[0m \u001b[0;34m=\u001b[0m \u001b[0;34m[\u001b[0m\u001b[0;34m]\u001b[0m\u001b[0;34m\u001b[0m\u001b[0;34m\u001b[0m\u001b[0m\n\u001b[1;32m    414\u001b[0m         \u001b[0;32mtry\u001b[0m\u001b[0;34m:\u001b[0m\u001b[0;34m\u001b[0m\u001b[0;34m\u001b[0m\u001b[0m\n\u001b[0;32m--> 415\u001b[0;31m             \u001b[0mfd_event_list\u001b[0m \u001b[0;34m=\u001b[0m \u001b[0mself\u001b[0m\u001b[0;34m.\u001b[0m\u001b[0m_selector\u001b[0m\u001b[0;34m.\u001b[0m\u001b[0mpoll\u001b[0m\u001b[0;34m(\u001b[0m\u001b[0mtimeout\u001b[0m\u001b[0;34m)\u001b[0m\u001b[0;34m\u001b[0m\u001b[0;34m\u001b[0m\u001b[0m\n\u001b[0m\u001b[1;32m    416\u001b[0m         \u001b[0;32mexcept\u001b[0m \u001b[0mInterruptedError\u001b[0m\u001b[0;34m:\u001b[0m\u001b[0;34m\u001b[0m\u001b[0;34m\u001b[0m\u001b[0m\n\u001b[1;32m    417\u001b[0m             \u001b[0;32mreturn\u001b[0m \u001b[0mready\u001b[0m\u001b[0;34m\u001b[0m\u001b[0;34m\u001b[0m\u001b[0m\n",
      "\u001b[0;32msrc/cysignals/signals.pyx\u001b[0m in \u001b[0;36mcysignals.signals.python_check_interrupt\u001b[0;34m()\u001b[0m\n",
      "\u001b[0;31mKeyboardInterrupt\u001b[0m: "
     ]
    }
   ],
   "source": [
    "graphname=\"G6M3\"  \n",
    "G=Graph([(\"0\",\"1\"),(\"1\",\"2\"),(\"2\",\"3\"),(\"3\",\"4\"),(\"4\",\"5\"),(\"5\",\"0\"),(\"0\",\"3\")], multiedges=True)\n",
    "\n",
    "data=unpickle(graphname) #Size=120\n",
    "\n",
    "dic_l=analyse_graphname(G,data)"
   ]
  },
  {
   "cell_type": "code",
   "execution_count": null,
   "id": "75f0cef2",
   "metadata": {
    "tags": []
   },
   "outputs": [],
   "source": [
    "#Store list of dictionaries\n",
    "# pickle_dic_l(graphname,dic_l)"
   ]
  },
  {
   "cell_type": "code",
   "execution_count": null,
   "id": "1a838d03",
   "metadata": {},
   "outputs": [],
   "source": [
    "analyse_table(dic_l,f=True)"
   ]
  },
  {
   "cell_type": "markdown",
   "id": "2722581e",
   "metadata": {
    "tags": []
   },
   "source": [
    "### $(k_1,k_2,k_3)=(1,2,5)$"
   ]
  },
  {
   "cell_type": "markdown",
   "id": "3d2ce580",
   "metadata": {
    "tags": []
   },
   "source": [
    "### $(k_1,k_2,k_3)=(1,3,4)$"
   ]
  },
  {
   "cell_type": "markdown",
   "id": "1525a490",
   "metadata": {
    "tags": [],
    "toc-hr-collapsed": true
   },
   "source": [
    "## $\\Gamma:=\\Gamma_{k_1 k_2 k_3}$ for $k_1\\ge 2$  <a name=\"s24\"></a>"
   ]
  },
  {
   "cell_type": "markdown",
   "id": "cbcbc28f",
   "metadata": {},
   "source": [
    "We now consider the dimension of $P_{ST}^{\\sigma_{\\Gamma}}$ for $ \\sigma_{\\Gamma} \\in \\Sigma_{\\Gamma,T,D_{T}}^{d}$ for graphs   $\\Gamma:=\\Gamma_{k_1 k_2 k_3}$ with  $(k_1,k_2,k_3)=\\{(2,2,2),(2,2,3),(2,2,4),(2,3,3)\\}$. "
   ]
  },
  {
   "cell_type": "markdown",
   "id": "e5e1825f",
   "metadata": {
    "tags": []
   },
   "source": [
    "### $(k_1,k_2,k_3)=(2,2,2)$\n"
   ]
  },
  {
   "cell_type": "markdown",
   "id": "692c58f2",
   "metadata": {
    "tags": []
   },
   "source": [
    "\n",
    "### $(k_1,k_2,k_3)=(2,2,3)$\n"
   ]
  },
  {
   "cell_type": "markdown",
   "id": "2ac9b728",
   "metadata": {
    "tags": []
   },
   "source": [
    "\n",
    "### $(k_1,k_2,k_3)=(2,2,4)$\n"
   ]
  },
  {
   "cell_type": "markdown",
   "id": "fe7991d0",
   "metadata": {},
   "source": [
    "\n",
    "### $(k_1,k_2,k_3)=(2,3,3)$"
   ]
  },
  {
   "cell_type": "markdown",
   "id": "7d3f05ca",
   "metadata": {
    "tags": [],
    "toc-hr-collapsed": true
   },
   "source": [
    "## $\\Gamma \\in \\{ G_1,G_2,G_3,F\\}$ <a name=\"s25\"></a>"
   ]
  },
  {
   "cell_type": "markdown",
   "id": "47a9a1ad",
   "metadata": {},
   "source": [
    "We now consider the dimension of $P_{ST}^{\\sigma_{\\Gamma}}$ for $ \\sigma_{\\Gamma} \\in \\Sigma_{\\Gamma,T,D_{T}}^{d}$ for graphs   $\\Gamma\\in \\{G_1,G_2,G_3,F\\}$."
   ]
  },
  {
   "cell_type": "markdown",
   "id": "1b905331",
   "metadata": {},
   "source": [
    "### $F$"
   ]
  },
  {
   "cell_type": "code",
   "execution_count": 26,
   "id": "7e2bc581",
   "metadata": {},
   "outputs": [],
   "source": [
    "graphname=\"FV_G6M3M14\"  \n",
    "G=Graph([(\"0\",\"1\"),(\"1\",\"2\"),(\"2\",\"3\"),(\"3\",\"4\"),(\"4\",\"5\"),(\"5\",\"0\"),(\"0\",\"3\"),(\"1\",\"4\")], multiedges=True)\n",
    "\n",
    "data=unpickle(graphname) #Size=504\n",
    "\n",
    "# dic_l=analyse_graphname(G,data,ind_breaks=0)\n"
   ]
  },
  {
   "cell_type": "code",
   "execution_count": 29,
   "id": "35a1044a",
   "metadata": {
    "collapsed": true,
    "jupyter": {
     "outputs_hidden": true
    },
    "tags": []
   },
   "outputs": [
    {
     "name": "stdout",
     "output_type": "stream",
     "text": [
      "Start= 0 ---- 0 ----terminator: False\n",
      "dim_tree_poly: 5\n",
      "Start= 0 ---- 1 ----terminator: False\n",
      "dim_tree_poly: 5\n",
      "Start= 0 ---- 2 ----terminator: False\n",
      "dim_tree_poly: 5\n",
      "Start= 0 ---- 3 ----terminator: False\n",
      "dim_tree_poly: 5\n",
      "Start= 0 ---- 4 ----terminator: False\n",
      "dim_tree_poly: 5\n",
      "Start= 0 ---- 5 ----terminator: False\n",
      "dim_tree_poly: 5\n",
      "Start= 0 ---- 6 ----terminator: False\n",
      "dim_tree_poly: 5\n",
      "Start= 0 ---- 7 ----terminator: False\n",
      "dim_tree_poly: 5\n",
      "Start= 0 ---- 8 ----terminator: False\n",
      "dim_tree_poly: 5\n",
      "Start= 0 ---- 9 ----terminator: False\n",
      "dim_tree_poly: 5\n",
      "Start= 0 ---- 10 ----terminator: False\n",
      "dim_tree_poly: 5\n",
      "Start= 0 ---- 11 ----terminator: False\n",
      "dim_tree_poly: 5\n",
      "Start= 0 ---- 12 ----terminator: False\n",
      "dim_tree_poly: 5\n",
      "Start= 0 ---- 13 ----terminator: False\n",
      "dim_tree_poly: 5\n",
      "Start= 0 ---- 14 ----terminator: False\n",
      "dim_tree_poly: 5\n",
      "Start= 0 ---- 15 ----terminator: False\n",
      "dim_tree_poly: 5\n",
      "Start= 0 ---- 16 ----terminator: False\n",
      "dim_tree_poly: 5\n",
      "Start= 0 ---- 17 ----terminator: False\n",
      "dim_tree_poly: 5\n",
      "Start= 0 ---- 18 ----terminator: False\n",
      "dim_tree_poly: 5\n",
      "Start= 0 ---- 19 ----terminator: False\n",
      "dim_tree_poly: 5\n",
      "Start= 0 ---- 20 ----terminator: False\n",
      "dim_tree_poly: 5\n",
      "Start= 0 ---- 21 ----terminator: False\n",
      "dim_tree_poly: 5\n",
      "Start= 0 ---- 22 ----terminator: False\n",
      "dim_tree_poly: 5\n",
      "Start= 0 ---- 23 ----terminator: False\n",
      "dim_tree_poly: 5\n",
      "Start= 0 ---- 24 ----terminator: False\n",
      "dim_tree_poly: 5\n",
      "Start= 0 ---- 25 ----terminator: False\n",
      "dim_tree_poly: 5\n",
      "Start= 0 ---- 26 ----terminator: False\n",
      "dim_tree_poly: 5\n",
      "Start= 0 ---- 27 ----terminator: False\n",
      "dim_tree_poly: 5\n",
      "Start= 0 ---- 28 ----terminator: False\n",
      "dim_tree_poly: 5\n",
      "Start= 0 ---- 29 ----terminator: False\n",
      "dim_tree_poly: 5\n",
      "Start= 0 ---- 30 ----terminator: False\n",
      "dim_tree_poly: 5\n",
      "Start= 0 ---- 31 ----terminator: False\n",
      "dim_tree_poly: 5\n",
      "Start= 0 ---- 32 ----terminator: False\n",
      "dim_tree_poly: 5\n",
      "Start= 0 ---- 33 ----terminator: False\n",
      "dim_tree_poly: 5\n",
      "Start= 0 ---- 34 ----terminator: False\n",
      "dim_tree_poly: 5\n",
      "Start= 0 ---- 35 ----terminator: False\n",
      "dim_tree_poly: 5\n",
      "Start= 0 ---- 36 ----terminator: False\n",
      "dim_tree_poly: 5\n",
      "Start= 0 ---- 37 ----terminator: False\n",
      "dim_tree_poly: 5\n",
      "Start= 0 ---- 38 ----terminator: False\n",
      "dim_tree_poly: 5\n",
      "Start= 0 ---- 39 ----terminator: False\n",
      "dim_tree_poly: 5\n",
      "Start= 0 ---- 40 ----terminator: False\n",
      "dim_tree_poly: 5\n",
      "Start= 0 ---- 41 ----terminator: False\n",
      "dim_tree_poly: 5\n",
      "Start= 0 ---- 42 ----terminator: False\n",
      "dim_tree_poly: 5\n",
      "Start= 0 ---- 43 ----terminator: False\n",
      "dim_tree_poly: 5\n",
      "Start= 0 ---- 44 ----terminator: False\n",
      "dim_tree_poly: 5\n",
      "Start= 0 ---- 45 ----terminator: False\n",
      "dim_tree_poly: 5\n",
      "Start= 0 ---- 46 ----terminator: False\n",
      "dim_tree_poly: 5\n",
      "Start= 0 ---- 47 ----terminator: False\n",
      "dim_tree_poly: 5\n",
      "Start= 0 ---- 48 ----terminator: False\n",
      "dim_tree_poly: 5\n",
      "Start= 0 ---- 49 ----terminator: False\n",
      "dim_tree_poly: 5\n",
      "Start= 0 ---- 50 ----terminator: False\n",
      "dim_tree_poly: 5\n",
      "Start= 0 ---- 51 ----terminator: False\n",
      "dim_tree_poly: 5\n",
      "Start= 0 ---- 52 ----terminator: False\n",
      "dim_tree_poly: 5\n",
      "Start= 0 ---- 53 ----terminator: False\n",
      "dim_tree_poly: 5\n",
      "Start= 0 ---- 54 ----terminator: False\n",
      "dim_tree_poly: 2\n",
      "54: WSC not phi: \n",
      " ([[0, 0, 0, 0, 0, 0], [0, 0, 1, -1, 0, 0], [0, 1, 0, -1, 0, 0], [0, 0, 1, -1, 0, 0], [0, 0, 0, 0, 0, 0], [0, 0, 1, 0, -1, 0], [0, 1, 0, 0, -1, 0], [0, 1, 0, 0, -1, 0], [0, 0, 0, 0, 0, 0], [0, 0, 0, 0, 0, 0], [1, 0, 1, -1, -1, 0], [0, 0, 1, 0, -1, 0], [1, 1, 0, -1, -1, 0], [0, 1, 0, 0, -1, 0], [0, 1, 0, 0, -1, 0], [0, 0, 0, 0, 0, 0], [0, 0, 1, 0, -1, 0], [0, 1, 0, -1, 0, 0], [0, 1, 1, -1, -1, 0], [0, 0, 0, 0, -1, 1], [0, 1, 0, 0, -1, 0], [0, 1, 0, -1, -1, 1], [1, 0, 1, -1, -1, 0], [0, 1, 1, -1, -1, 0], [0, 2, 0, -1, -1, 0], [0, 1, 1, -1, -1, 0], [0, 0, 0, 1, -1, 0], [0, 1, 0, 0, -1, 0], [0, 1, 0, 0, -1, 0], [1, 1, 0, -1, -1, 0], [1, 0, 0, 0, -1, 0], [1, 0, 0, 0, -1, 0], [0, 1, 0, 0, -1, 0], [1, 1, 0, -1, -1, 0], [1, 1, 0, -1, -1, 0], [1, 1, 0, -1, -1, 0]], array([[ 0,  0,  1,  1,  0,  1],\n",
      "       [ 0,  1,  0,  1,  0,  1],\n",
      "       [ 0,  1,  1,  0,  0,  1],\n",
      "       [ 0,  1,  1,  0,  1,  0],\n",
      "       [ 0,  1,  1,  1, -1,  1],\n",
      "       [ 0,  1,  1,  1,  0,  0],\n",
      "       [ 0,  2,  0,  0,  0,  1],\n",
      "       [ 0,  2,  0,  0,  1,  0],\n",
      "       [ 0,  2,  0,  1, -1,  1],\n",
      "       [ 0,  2,  0,  1,  0,  0],\n",
      "       [ 0,  2,  1,  0, -1,  1],\n",
      "       [ 0,  2,  1,  0,  0,  0],\n",
      "       [ 1,  0,  1,  0,  0,  1],\n",
      "       [ 1,  0,  1,  0,  1,  0],\n",
      "       [ 1,  0,  1,  1,  0,  0],\n",
      "       [ 1,  1,  0,  0,  0,  1],\n",
      "       [ 1,  1,  0,  0,  1,  0],\n",
      "       [ 1,  1,  0,  1, -1,  1],\n",
      "       [ 1,  1,  0,  1,  0,  0],\n",
      "       [ 1,  1,  1, -1,  0,  1],\n",
      "       [ 1,  1,  1, -1,  1,  0],\n",
      "       [ 1,  1,  1,  0, -1,  1],\n",
      "       [ 1,  1,  1,  0,  0,  0],\n",
      "       [ 1,  1,  1,  1, -1,  0],\n",
      "       [ 1,  2,  0,  0, -1,  1],\n",
      "       [ 1,  2,  0,  0,  0,  0],\n",
      "       [ 1,  2,  0,  1, -1,  0],\n",
      "       [ 1,  2,  1, -1, -1,  1],\n",
      "       [ 1,  2,  1, -1,  0,  0],\n",
      "       [ 1,  2,  1,  0, -1,  0],\n",
      "       [ 2,  0,  1, -1,  1,  0],\n",
      "       [ 2,  0,  1,  0,  0,  0],\n",
      "       [ 2,  1,  0,  0,  0,  0],\n",
      "       [ 2,  1,  0,  1, -1,  0],\n",
      "       [ 2,  1,  1, -1,  0,  0],\n",
      "       [ 2,  1,  1,  0, -1,  0]], dtype=int32), [(Graph on 6 vertices, [0, 0, 0, 0, 0, 0]), (Graph on 6 vertices, [0, 0, 1, -1, 0, 0]), (Graph on 6 vertices, [0, 1, 0, -1, 0, 0]), (Graph on 6 vertices, [0, 0, 1, -1, 0, 0]), (Graph on 6 vertices, [0, 0, 0, 0, 0, 0]), (Graph on 6 vertices, [0, 0, 1, 0, -1, 0]), (Graph on 6 vertices, [0, 1, 0, 0, -1, 0]), (Graph on 6 vertices, [0, 1, 0, 0, -1, 0]), (Graph on 6 vertices, [0, 0, 0, 0, 0, 0]), (Graph on 6 vertices, [0, 0, 0, 0, 0, 0]), (Graph on 6 vertices, [1, 0, 1, -1, -1, 0]), (Graph on 6 vertices, [0, 0, 1, 0, -1, 0]), (Graph on 6 vertices, [1, 1, 0, -1, -1, 0]), (Graph on 6 vertices, [0, 1, 0, 0, -1, 0]), (Graph on 6 vertices, [0, 1, 0, 0, -1, 0]), (Graph on 6 vertices, [0, 0, 0, 0, 0, 0]), (Graph on 6 vertices, [0, 0, 1, 0, -1, 0]), (Graph on 6 vertices, [0, 1, 0, -1, 0, 0]), (Graph on 6 vertices, [0, 1, 1, -1, -1, 0]), (Graph on 6 vertices, [0, 0, 0, 0, -1, 1]), (Graph on 6 vertices, [0, 1, 0, 0, -1, 0]), (Graph on 6 vertices, [0, 1, 0, -1, -1, 1]), (Graph on 6 vertices, [1, 0, 1, -1, -1, 0]), (Graph on 6 vertices, [0, 1, 1, -1, -1, 0]), (Graph on 6 vertices, [0, 2, 0, -1, -1, 0]), (Graph on 6 vertices, [0, 1, 1, -1, -1, 0]), (Graph on 6 vertices, [0, 0, 0, 1, -1, 0]), (Graph on 6 vertices, [0, 1, 0, 0, -1, 0]), (Graph on 6 vertices, [0, 1, 0, 0, -1, 0]), (Graph on 6 vertices, [1, 1, 0, -1, -1, 0]), (Graph on 6 vertices, [1, 0, 0, 0, -1, 0]), (Graph on 6 vertices, [1, 0, 0, 0, -1, 0]), (Graph on 6 vertices, [0, 1, 0, 0, -1, 0]), (Graph on 6 vertices, [1, 1, 0, -1, -1, 0]), (Graph on 6 vertices, [1, 1, 0, -1, -1, 0]), (Graph on 6 vertices, [1, 1, 0, -1, -1, 0])], [(Multi-graph on 6 vertices, (1, 4, 7, 8), Multi-graph on 6 vertices), (Multi-graph on 6 vertices, (7, 5, 4, 6), Multi-graph on 6 vertices), (Multi-graph on 6 vertices, (1, 7, 2, 3), Multi-graph on 6 vertices), (Multi-graph on 6 vertices, (1, 6, 8, 5), Multi-graph on 6 vertices), (Multi-graph on 6 vertices, (2, 3, 4, 8), Multi-graph on 6 vertices), (Multi-graph on 6 vertices, (1, 4, 6, 2, 3, 5), Multi-graph on 6 vertices), (Multi-graph on 6 vertices, (7, 4, 6, 5), Multi-graph on 6 vertices), (Multi-graph on 6 vertices, (2, 4, 3, 8), Multi-graph on 6 vertices), (Multi-graph on 6 vertices, (7, 4, 6, 5), Multi-graph on 6 vertices), (Multi-graph on 6 vertices, (2, 3, 8, 4), Multi-graph on 6 vertices), (Multi-graph on 6 vertices, (1, 6, 5, 8), Multi-graph on 6 vertices), (Multi-graph on 6 vertices, (1, 3, 7, 2), Multi-graph on 6 vertices), (Multi-graph on 6 vertices, (1, 7, 2, 3), Multi-graph on 6 vertices), (Multi-graph on 6 vertices, (1, 8, 6, 5), Multi-graph on 6 vertices), (Multi-graph on 6 vertices, (7, 8, 3, 6, 5, 2), Multi-graph on 6 vertices), (Multi-graph on 6 vertices, (1, 7, 8, 4), Multi-graph on 6 vertices), (Multi-graph on 6 vertices, (7, 5, 4, 6), Multi-graph on 6 vertices), (Multi-graph on 6 vertices, (1, 6, 8, 5), Multi-graph on 6 vertices), (Multi-graph on 6 vertices, (7, 6, 5, 4), Multi-graph on 6 vertices), (Multi-graph on 6 vertices, (1, 8, 6, 5), Multi-graph on 6 vertices), (Multi-graph on 6 vertices, (1, 4, 8, 7), Multi-graph on 6 vertices), (Multi-graph on 6 vertices, (1, 2, 3, 7), Multi-graph on 6 vertices), (Multi-graph on 6 vertices, (2, 3, 8, 4), Multi-graph on 6 vertices), (Multi-graph on 6 vertices, (2, 4, 3, 8), Multi-graph on 6 vertices), (Multi-graph on 6 vertices, (1, 3, 7, 2), Multi-graph on 6 vertices), (Multi-graph on 6 vertices, (1, 8, 7, 4), Multi-graph on 6 vertices)])\n",
      "Start= 0 ---- 55 ----terminator: False\n",
      "dim_tree_poly: 5\n",
      "Start= 0 ---- 56 ----terminator: False\n",
      "dim_tree_poly: 5\n",
      "Start= 0 ---- 57 ----terminator: False\n",
      "dim_tree_poly: 5\n",
      "Start= 0 ---- 58 ----terminator: False\n",
      "dim_tree_poly: 5\n",
      "Start= 0 ---- 59 ----terminator: False\n",
      "dim_tree_poly: 5\n",
      "Start= 0 ---- 60 ----terminator: False\n",
      "dim_tree_poly: 5\n",
      "Start= 0 ---- 61 ----terminator: False\n",
      "dim_tree_poly: 5\n",
      "Start= 0 ---- 62 ----terminator: False\n",
      "dim_tree_poly: 5\n",
      "Start= 0 ---- 63 ----terminator: False\n",
      "dim_tree_poly: 5\n",
      "Start= 0 ---- 64 ----terminator: False\n",
      "dim_tree_poly: 5\n",
      "Start= 0 ---- 65 ----terminator: False\n",
      "dim_tree_poly: 5\n",
      "Start= 0 ---- 66 ----terminator: False\n",
      "dim_tree_poly: 5\n",
      "Start= 0 ---- 67 ----terminator: False\n",
      "dim_tree_poly: 5\n",
      "Start= 0 ---- 68 ----terminator: False\n",
      "dim_tree_poly: 5\n",
      "Start= 0 ---- 69 ----terminator: False\n",
      "dim_tree_poly: 5\n",
      "Start= 0 ---- 70 ----terminator: False\n",
      "dim_tree_poly: 5\n",
      "Start= 0 ---- 71 ----terminator: False\n",
      "dim_tree_poly: 5\n",
      "Start= 0 ---- 72 ----terminator: False\n",
      "dim_tree_poly: 2\n",
      "72: WSC not phi: \n",
      " ([[0, 0, 0, 0, 0, 0], [0, 0, 1, 0, -1, 0], [0, 1, 0, -1, 0, 0], [0, 1, 1, -1, -1, 0], [0, 0, 0, 0, 0, 0], [0, 0, 1, 0, -1, 0], [0, 1, 0, 0, -1, 0], [0, 1, 0, 0, -1, 0], [0, 0, 0, 0, 0, 0], [0, 0, 0, 0, 0, 0], [0, 0, 1, 0, -1, 0], [0, 0, 1, 0, -1, 0], [1, 1, 0, -1, -1, 0], [0, 1, 0, 0, -1, 0], [0, 1, 0, 0, -1, 0], [0, 0, 0, 0, 0, 0], [0, 0, 1, 0, -1, 0], [0, 1, 0, -1, 0, 0], [0, 1, 1, -1, -1, 0], [0, 0, 0, 0, -1, 1], [0, 1, 0, 0, -1, 0], [0, 1, 0, -1, -1, 1], [0, 1, 1, -1, -1, 0], [0, 1, 1, -1, -1, 0], [0, 2, 0, -1, -1, 0], [0, 1, 1, -1, -1, 0], [0, 0, 0, 1, -1, 0], [0, 1, 0, 0, -1, 0], [0, 1, 0, 0, -1, 0], [1, 1, 0, -1, -1, 0], [1, 0, 0, 0, -1, 0], [1, 0, 0, 0, -1, 0], [0, 1, 0, 0, -1, 0], [1, 1, 0, -1, -1, 0], [1, 1, 0, -1, -1, 0], [1, 1, 0, -1, -1, 0]], array([[ 0,  0,  1,  1,  0,  1],\n",
      "       [ 0,  1,  0,  1,  0,  1],\n",
      "       [ 0,  1,  1,  0,  0,  1],\n",
      "       [ 0,  1,  1,  0,  1,  0],\n",
      "       [ 0,  1,  1,  1, -1,  1],\n",
      "       [ 0,  1,  1,  1,  0,  0],\n",
      "       [ 0,  2,  0,  0,  0,  1],\n",
      "       [ 0,  2,  0,  0,  1,  0],\n",
      "       [ 0,  2,  0,  1, -1,  1],\n",
      "       [ 0,  2,  0,  1,  0,  0],\n",
      "       [ 0,  2,  1,  0, -1,  1],\n",
      "       [ 0,  2,  1,  0,  0,  0],\n",
      "       [ 0,  2,  1,  1, -1,  0],\n",
      "       [ 1,  0,  1,  0,  0,  1],\n",
      "       [ 1,  0,  1,  0,  1,  0],\n",
      "       [ 1,  0,  1,  1,  0,  0],\n",
      "       [ 1,  1,  0,  0,  0,  1],\n",
      "       [ 1,  1,  0,  0,  1,  0],\n",
      "       [ 1,  1,  0,  1, -1,  1],\n",
      "       [ 1,  1,  0,  1,  0,  0],\n",
      "       [ 1,  1,  1, -1,  0,  1],\n",
      "       [ 1,  1,  1, -1,  1,  0],\n",
      "       [ 1,  1,  1,  0, -1,  1],\n",
      "       [ 1,  1,  1,  0,  0,  0],\n",
      "       [ 1,  1,  1,  1, -1,  0],\n",
      "       [ 1,  2,  0,  0, -1,  1],\n",
      "       [ 1,  2,  0,  0,  0,  0],\n",
      "       [ 1,  2,  0,  1, -1,  0],\n",
      "       [ 1,  2,  1, -1, -1,  1],\n",
      "       [ 1,  2,  1, -1,  0,  0],\n",
      "       [ 1,  2,  1,  0, -1,  0],\n",
      "       [ 2,  0,  1,  0,  0,  0],\n",
      "       [ 2,  1,  0,  0,  0,  0],\n",
      "       [ 2,  1,  0,  1, -1,  0],\n",
      "       [ 2,  1,  1, -1,  0,  0],\n",
      "       [ 2,  1,  1,  0, -1,  0]], dtype=int32), [(Graph on 6 vertices, [0, 0, 0, 0, 0, 0]), (Graph on 6 vertices, [0, 0, 1, 0, -1, 0]), (Graph on 6 vertices, [0, 1, 0, -1, 0, 0]), (Graph on 6 vertices, [0, 1, 1, -1, -1, 0]), (Graph on 6 vertices, [0, 0, 0, 0, 0, 0]), (Graph on 6 vertices, [0, 0, 1, 0, -1, 0]), (Graph on 6 vertices, [0, 1, 0, 0, -1, 0]), (Graph on 6 vertices, [0, 1, 0, 0, -1, 0]), (Graph on 6 vertices, [0, 0, 0, 0, 0, 0]), (Graph on 6 vertices, [0, 0, 0, 0, 0, 0]), (Graph on 6 vertices, [0, 0, 1, 0, -1, 0]), (Graph on 6 vertices, [0, 0, 1, 0, -1, 0]), (Graph on 6 vertices, [1, 1, 0, -1, -1, 0]), (Graph on 6 vertices, [0, 1, 0, 0, -1, 0]), (Graph on 6 vertices, [0, 1, 0, 0, -1, 0]), (Graph on 6 vertices, [0, 0, 0, 0, 0, 0]), (Graph on 6 vertices, [0, 0, 1, 0, -1, 0]), (Graph on 6 vertices, [0, 1, 0, -1, 0, 0]), (Graph on 6 vertices, [0, 1, 1, -1, -1, 0]), (Graph on 6 vertices, [0, 0, 0, 0, -1, 1]), (Graph on 6 vertices, [0, 1, 0, 0, -1, 0]), (Graph on 6 vertices, [0, 1, 0, -1, -1, 1]), (Graph on 6 vertices, [0, 1, 1, -1, -1, 0]), (Graph on 6 vertices, [0, 1, 1, -1, -1, 0]), (Graph on 6 vertices, [0, 2, 0, -1, -1, 0]), (Graph on 6 vertices, [0, 1, 1, -1, -1, 0]), (Graph on 6 vertices, [0, 0, 0, 1, -1, 0]), (Graph on 6 vertices, [0, 1, 0, 0, -1, 0]), (Graph on 6 vertices, [0, 1, 0, 0, -1, 0]), (Graph on 6 vertices, [1, 1, 0, -1, -1, 0]), (Graph on 6 vertices, [1, 0, 0, 0, -1, 0]), (Graph on 6 vertices, [1, 0, 0, 0, -1, 0]), (Graph on 6 vertices, [0, 1, 0, 0, -1, 0]), (Graph on 6 vertices, [1, 1, 0, -1, -1, 0]), (Graph on 6 vertices, [1, 1, 0, -1, -1, 0]), (Graph on 6 vertices, [1, 1, 0, -1, -1, 0])], [(Multi-graph on 6 vertices, (1, 4, 7, 8), Multi-graph on 6 vertices), (Multi-graph on 6 vertices, (7, 5, 4, 6), Multi-graph on 6 vertices), (Multi-graph on 6 vertices, (1, 7, 2, 3), Multi-graph on 6 vertices), (Multi-graph on 6 vertices, (1, 6, 8, 5), Multi-graph on 6 vertices), (Multi-graph on 6 vertices, (2, 3, 4, 8), Multi-graph on 6 vertices), (Multi-graph on 6 vertices, (1, 6, 2, 3, 5, 4), Multi-graph on 6 vertices), (Multi-graph on 6 vertices, (7, 4, 6, 5), Multi-graph on 6 vertices), (Multi-graph on 6 vertices, (2, 4, 3, 8), Multi-graph on 6 vertices), (Multi-graph on 6 vertices, (7, 6, 5, 4), Multi-graph on 6 vertices), (Multi-graph on 6 vertices, (2, 3, 4, 8), Multi-graph on 6 vertices), (Multi-graph on 6 vertices, (1, 6, 5, 8), Multi-graph on 6 vertices), (Multi-graph on 6 vertices, (1, 3, 7, 2), Multi-graph on 6 vertices), (Multi-graph on 6 vertices, (1, 2, 3, 7), Multi-graph on 6 vertices), (Multi-graph on 6 vertices, (1, 6, 5, 8), Multi-graph on 6 vertices), (Multi-graph on 6 vertices, (7, 3, 6, 5, 2, 8), Multi-graph on 6 vertices), (Multi-graph on 6 vertices, (1, 7, 8, 4), Multi-graph on 6 vertices), (Multi-graph on 6 vertices, (7, 5, 4, 6), Multi-graph on 6 vertices), (Multi-graph on 6 vertices, (1, 6, 8, 5), Multi-graph on 6 vertices), (Multi-graph on 6 vertices, (7, 6, 5, 4), Multi-graph on 6 vertices), (Multi-graph on 6 vertices, (1, 8, 6, 5), Multi-graph on 6 vertices), (Multi-graph on 6 vertices, (1, 4, 8, 7), Multi-graph on 6 vertices), (Multi-graph on 6 vertices, (1, 2, 3, 7), Multi-graph on 6 vertices), (Multi-graph on 6 vertices, (2, 3, 8, 4), Multi-graph on 6 vertices), (Multi-graph on 6 vertices, (2, 4, 3, 8), Multi-graph on 6 vertices), (Multi-graph on 6 vertices, (1, 3, 7, 2), Multi-graph on 6 vertices), (Multi-graph on 6 vertices, (1, 8, 7, 4), Multi-graph on 6 vertices)])\n",
      "Start= 0 ---- 73 ----terminator: False\n",
      "dim_tree_poly: 5\n",
      "Start= 0 ---- 74 ----terminator: False\n",
      "dim_tree_poly: 5\n",
      "Start= 0 ---- 75 ----terminator: False\n",
      "dim_tree_poly: 5\n",
      "Start= 0 ---- 76 ----terminator: False\n",
      "dim_tree_poly: 5\n",
      "Start= 0 ---- 77 ----terminator: False\n",
      "dim_tree_poly: 5\n",
      "Start= 0 ---- 78 ----terminator: False\n",
      "dim_tree_poly: 5\n",
      "Start= 0 ---- 79 ----terminator: False\n",
      "dim_tree_poly: 5\n",
      "Start= 0 ---- 80 ----terminator: False\n",
      "dim_tree_poly: 5\n",
      "Start= 0 ---- 81 ----terminator: False\n",
      "dim_tree_poly: 5\n",
      "Start= 0 ---- 82 ----terminator: False\n",
      "dim_tree_poly: 5\n",
      "Start= 0 ---- 83 ----terminator: False\n",
      "dim_tree_poly: 5\n",
      "Start= 0 ---- 84 ----terminator: False\n",
      "dim_tree_poly: 5\n",
      "Start= 0 ---- 85 ----terminator: False\n",
      "dim_tree_poly: 5\n",
      "Start= 0 ---- 86 ----terminator: False\n",
      "dim_tree_poly: 5\n",
      "Start= 0 ---- 87 ----terminator: False\n",
      "dim_tree_poly: 5\n",
      "Start= 0 ---- 88 ----terminator: False\n",
      "dim_tree_poly: 5\n",
      "Start= 0 ---- 89 ----terminator: False\n",
      "dim_tree_poly: 5\n",
      "Start= 0 ---- 90 ----terminator: False\n",
      "dim_tree_poly: 5\n",
      "Start= 0 ---- 91 ----terminator: False\n",
      "dim_tree_poly: 2\n",
      "91: WSC not phi: \n",
      " ([[0, 0, 0, 0, 0, 0], [0, 0, 0, 0, 0, 0], [0, 0, 0, 0, 0, 0], [0, 0, 0, 0, 0, 0], [0, 0, 0, 0, 0, 0], [0, 0, 0, 1, -1, 0], [0, 0, 0, 0, 0, 0], [0, 1, 0, 0, -1, 0], [0, 0, 0, 0, -1, 1], [0, 0, 0, 1, -1, 0], [1, 0, 0, 0, -1, 0], [0, 0, 0, 1, -1, 0], [0, 0, 0, 0, -1, 1], [0, 0, 0, 1, -1, 0], [0, 0, 0, 1, -1, 0], [0, 0, 0, 0, 0, 0], [0, 0, 1, 0, -1, 0], [0, 1, 0, 0, -1, 0], [0, 1, 0, 0, -1, 0], [0, 0, 0, 0, 0, 0], [0, 0, 0, 0, 0, 0], [1, 0, 0, 0, -1, 0], [1, 0, 0, 0, -1, 0], [0, 0, 1, 0, -1, 0], [0, 1, 0, 0, -1, 0], [0, 1, 0, 0, -1, 0], [0, 0, 0, 1, -1, 0], [0, 1, 0, 0, -1, 0], [1, 0, 0, 0, -1, 0], [0, 1, 0, 0, -1, 0], [1, 0, 0, 0, -1, 0], [0, 0, 0, 1, -1, 0], [1, 0, 0, 0, -1, 0], [1, 0, 0, 0, -1, 0], [1, 0, 0, 0, -1, 0], [1, 0, 0, 0, -1, 0]], array([[ 0,  0,  1,  1,  0,  1],\n",
      "       [ 0,  0,  1,  1,  1,  0],\n",
      "       [ 0,  1,  0,  1,  0,  1],\n",
      "       [ 0,  1,  0,  1,  1,  0],\n",
      "       [ 0,  1,  0,  2, -1,  1],\n",
      "       [ 0,  1,  0,  2,  0,  0],\n",
      "       [ 0,  1,  1,  0,  0,  1],\n",
      "       [ 0,  1,  1,  1, -1,  1],\n",
      "       [ 0,  1,  1,  1,  0,  0],\n",
      "       [ 0,  2,  0,  0,  0,  1],\n",
      "       [ 0,  2,  0,  1, -1,  1],\n",
      "       [ 0,  2,  0,  1,  0,  0],\n",
      "       [ 1,  0,  0,  1,  0,  1],\n",
      "       [ 1,  0,  0,  1,  1,  0],\n",
      "       [ 1,  0,  0,  2, -1,  1],\n",
      "       [ 1,  0,  0,  2,  0,  0],\n",
      "       [ 1,  0,  1,  0,  0,  1],\n",
      "       [ 1,  0,  1,  0,  1,  0],\n",
      "       [ 1,  0,  1,  1, -1,  1],\n",
      "       [ 1,  0,  1,  1,  0,  0],\n",
      "       [ 1,  1,  0,  0,  0,  1],\n",
      "       [ 1,  1,  0,  0,  1,  0],\n",
      "       [ 1,  1,  0,  1, -1,  1],\n",
      "       [ 1,  1,  0,  1,  0,  0],\n",
      "       [ 1,  1,  0,  2, -1,  0],\n",
      "       [ 1,  1,  1,  0, -1,  1],\n",
      "       [ 1,  1,  1,  0,  0,  0],\n",
      "       [ 1,  1,  1,  1, -1,  0],\n",
      "       [ 1,  2,  0,  0,  0,  0],\n",
      "       [ 1,  2,  0,  1, -1,  0],\n",
      "       [ 2,  0,  0,  0,  1,  0],\n",
      "       [ 2,  0,  0,  1,  0,  0],\n",
      "       [ 2,  0,  1,  0,  0,  0],\n",
      "       [ 2,  1,  0,  0,  0,  0],\n",
      "       [ 2,  1,  0,  1, -1,  0],\n",
      "       [ 2,  1,  1,  0, -1,  0]], dtype=int32), [(Graph on 6 vertices, [0, 0, 0, 0, 0, 0]), (Graph on 6 vertices, [0, 0, 0, 0, 0, 0]), (Graph on 6 vertices, [0, 0, 0, 0, 0, 0]), (Graph on 6 vertices, [0, 0, 0, 0, 0, 0]), (Graph on 6 vertices, [0, 0, 0, 0, 0, 0]), (Graph on 6 vertices, [0, 0, 0, 1, -1, 0]), (Graph on 6 vertices, [0, 0, 0, 0, 0, 0]), (Graph on 6 vertices, [0, 1, 0, 0, -1, 0]), (Graph on 6 vertices, [0, 0, 0, 0, -1, 1]), (Graph on 6 vertices, [0, 0, 0, 1, -1, 0]), (Graph on 6 vertices, [1, 0, 0, 0, -1, 0]), (Graph on 6 vertices, [0, 0, 0, 1, -1, 0]), (Graph on 6 vertices, [0, 0, 0, 0, -1, 1]), (Graph on 6 vertices, [0, 0, 0, 1, -1, 0]), (Graph on 6 vertices, [0, 0, 0, 1, -1, 0]), (Graph on 6 vertices, [0, 0, 0, 0, 0, 0]), (Graph on 6 vertices, [0, 0, 1, 0, -1, 0]), (Graph on 6 vertices, [0, 1, 0, 0, -1, 0]), (Graph on 6 vertices, [0, 1, 0, 0, -1, 0]), (Graph on 6 vertices, [0, 0, 0, 0, 0, 0]), (Graph on 6 vertices, [0, 0, 0, 0, 0, 0]), (Graph on 6 vertices, [1, 0, 0, 0, -1, 0]), (Graph on 6 vertices, [1, 0, 0, 0, -1, 0]), (Graph on 6 vertices, [0, 0, 1, 0, -1, 0]), (Graph on 6 vertices, [0, 1, 0, 0, -1, 0]), (Graph on 6 vertices, [0, 1, 0, 0, -1, 0]), (Graph on 6 vertices, [0, 0, 0, 1, -1, 0]), (Graph on 6 vertices, [0, 1, 0, 0, -1, 0]), (Graph on 6 vertices, [1, 0, 0, 0, -1, 0]), (Graph on 6 vertices, [0, 1, 0, 0, -1, 0]), (Graph on 6 vertices, [1, 0, 0, 0, -1, 0]), (Graph on 6 vertices, [0, 0, 0, 1, -1, 0]), (Graph on 6 vertices, [1, 0, 0, 0, -1, 0]), (Graph on 6 vertices, [1, 0, 0, 0, -1, 0]), (Graph on 6 vertices, [1, 0, 0, 0, -1, 0]), (Graph on 6 vertices, [1, 0, 0, 0, -1, 0])], [(Multi-graph on 6 vertices, (1, 8, 7, 4), Multi-graph on 6 vertices), (Multi-graph on 6 vertices, (7, 6, 5, 4), Multi-graph on 6 vertices), (Multi-graph on 6 vertices, (1, 3, 7, 2), Multi-graph on 6 vertices), (Multi-graph on 6 vertices, (1, 8, 6, 5), Multi-graph on 6 vertices), (Multi-graph on 6 vertices, (2, 4, 3, 8), Multi-graph on 6 vertices), (Multi-graph on 6 vertices, (1, 4, 3, 6, 5, 2), Multi-graph on 6 vertices), (Multi-graph on 6 vertices, (7, 6, 4, 5), Multi-graph on 6 vertices), (Multi-graph on 6 vertices, (2, 4, 8, 3), Multi-graph on 6 vertices), (Multi-graph on 6 vertices, (7, 4, 6, 5), Multi-graph on 6 vertices), (Multi-graph on 6 vertices, (2, 8, 4, 3), Multi-graph on 6 vertices), (Multi-graph on 6 vertices, (1, 5, 8, 6), Multi-graph on 6 vertices), (Multi-graph on 6 vertices, (1, 7, 3, 2), Multi-graph on 6 vertices), (Multi-graph on 6 vertices, (1, 7, 3, 2), Multi-graph on 6 vertices), (Multi-graph on 6 vertices, (1, 8, 6, 5), Multi-graph on 6 vertices), (Multi-graph on 6 vertices, (7, 8, 6, 2, 3, 5), Multi-graph on 6 vertices), (Multi-graph on 6 vertices, (1, 7, 8, 4), Multi-graph on 6 vertices), (Multi-graph on 6 vertices, (7, 4, 6, 5), Multi-graph on 6 vertices), (Multi-graph on 6 vertices, (1, 6, 5, 8), Multi-graph on 6 vertices), (Multi-graph on 6 vertices, (7, 6, 4, 5), Multi-graph on 6 vertices), (Multi-graph on 6 vertices, (1, 5, 8, 6), Multi-graph on 6 vertices), (Multi-graph on 6 vertices, (1, 4, 8, 7), Multi-graph on 6 vertices), (Multi-graph on 6 vertices, (1, 3, 7, 2), Multi-graph on 6 vertices), (Multi-graph on 6 vertices, (2, 4, 3, 8), Multi-graph on 6 vertices), (Multi-graph on 6 vertices, (2, 8, 4, 3), Multi-graph on 6 vertices), (Multi-graph on 6 vertices, (1, 3, 2, 7), Multi-graph on 6 vertices), (Multi-graph on 6 vertices, (1, 4, 7, 8), Multi-graph on 6 vertices)])\n",
      "Start= 0 ---- 92 ----terminator: False\n",
      "dim_tree_poly: 5\n",
      "Start= 0 ---- 93 ----terminator: False\n",
      "dim_tree_poly: 5\n",
      "Start= 0 ---- 94 ----terminator: False\n",
      "dim_tree_poly: 5\n",
      "Start= 0 ---- 95 ----terminator: False\n",
      "dim_tree_poly: 5\n",
      "Start= 0 ---- 96 ----terminator: False\n",
      "dim_tree_poly: 5\n",
      "Start= 0 ---- 97 ----terminator: False\n",
      "dim_tree_poly: 5\n",
      "Start= 0 ---- 98 ----terminator: False\n",
      "dim_tree_poly: 5\n",
      "Start= 0 ---- 99 ----terminator: False\n",
      "dim_tree_poly: 5\n",
      "Start= 0 ---- 100 ----terminator: False\n",
      "dim_tree_poly: 5\n",
      "Start= 0 ---- 101 ----terminator: False\n",
      "dim_tree_poly: 5\n",
      "Start= 0 ---- 102 ----terminator: False\n",
      "dim_tree_poly: 5\n",
      "Start= 0 ---- 103 ----terminator: False\n",
      "dim_tree_poly: 5\n",
      "Start= 0 ---- 104 ----terminator: False\n",
      "dim_tree_poly: 5\n",
      "Start= 0 ---- 105 ----terminator: False\n",
      "dim_tree_poly: 5\n",
      "Start= 0 ---- 106 ----terminator: False\n",
      "dim_tree_poly: 5\n",
      "Start= 0 ---- 107 ----terminator: False\n",
      "dim_tree_poly: 5\n",
      "Start= 0 ---- 108 ----terminator: False\n",
      "dim_tree_poly: 5\n",
      "Start= 0 ---- 109 ----terminator: False\n",
      "dim_tree_poly: 5\n",
      "Start= 0 ---- 110 ----terminator: False\n",
      "dim_tree_poly: 5\n",
      "Start= 0 ---- 111 ----terminator: False\n",
      "dim_tree_poly: 5\n",
      "Start= 0 ---- 112 ----terminator: False\n",
      "dim_tree_poly: 5\n",
      "Start= 0 ---- 113 ----terminator: False\n",
      "dim_tree_poly: 5\n",
      "Start= 0 ---- 114 ----terminator: False\n",
      "dim_tree_poly: 5\n",
      "Start= 0 ---- 115 ----terminator: False\n",
      "dim_tree_poly: 5\n",
      "Start= 0 ---- 116 ----terminator: False\n",
      "dim_tree_poly: 2\n",
      "116: WSC not phi: \n",
      " ([[0, 0, 0, 0, 0, 0], [0, 0, 0, 1, -1, 0], [0, 0, 0, 0, 0, 0], [0, 1, 0, 0, -1, 0], [0, 0, 0, 0, 0, 0], [0, 0, 0, 1, -1, 0], [0, 0, 0, 0, 0, 0], [0, 1, 0, 0, -1, 0], [0, 0, 0, 0, -1, 1], [0, 0, 0, 1, -1, 0], [0, 0, 0, 1, -1, 0], [0, 0, 0, 1, -1, 0], [0, 0, 0, 0, -1, 1], [0, 0, 0, 1, -1, 0], [0, 0, 0, 1, -1, 0], [0, 0, 0, 0, 0, 0], [0, 0, 1, 0, -1, 0], [0, 1, 0, 0, -1, 0], [0, 1, 0, 0, -1, 0], [0, 0, 0, 0, 0, 0], [0, 0, 0, 0, 0, 0], [1, 0, 0, 0, -1, 0], [0, 1, 0, 0, -1, 0], [0, 0, 1, 0, -1, 0], [0, 1, 0, 0, -1, 0], [0, 1, 0, 0, -1, 0], [0, 0, 0, 1, -1, 0], [0, 1, 0, 0, -1, 0], [1, 0, 0, 0, -1, 0], [0, 1, 0, 0, -1, 0], [1, 0, 0, 0, -1, 0], [0, 0, 0, 1, -1, 0], [1, 0, 0, 0, -1, 0], [1, 0, 0, 0, -1, 0], [1, 0, 0, 0, -1, 0], [1, 0, 0, 0, -1, 0]], array([[ 0,  0,  1,  1,  0,  1],\n",
      "       [ 0,  0,  1,  1,  1,  0],\n",
      "       [ 0,  1,  0,  1,  0,  1],\n",
      "       [ 0,  1,  0,  1,  1,  0],\n",
      "       [ 0,  1,  0,  2, -1,  1],\n",
      "       [ 0,  1,  0,  2,  0,  0],\n",
      "       [ 0,  1,  1,  0,  0,  1],\n",
      "       [ 0,  1,  1,  1, -1,  1],\n",
      "       [ 0,  1,  1,  1,  0,  0],\n",
      "       [ 0,  2,  0,  0,  0,  1],\n",
      "       [ 0,  2,  0,  1, -1,  1],\n",
      "       [ 0,  2,  0,  1,  0,  0],\n",
      "       [ 0,  2,  0,  2, -1,  0],\n",
      "       [ 1,  0,  0,  1,  0,  1],\n",
      "       [ 1,  0,  0,  1,  1,  0],\n",
      "       [ 1,  0,  0,  2, -1,  1],\n",
      "       [ 1,  0,  0,  2,  0,  0],\n",
      "       [ 1,  0,  1,  0,  0,  1],\n",
      "       [ 1,  0,  1,  0,  1,  0],\n",
      "       [ 1,  0,  1,  1, -1,  1],\n",
      "       [ 1,  0,  1,  1,  0,  0],\n",
      "       [ 1,  1,  0,  0,  0,  1],\n",
      "       [ 1,  1,  0,  0,  1,  0],\n",
      "       [ 1,  1,  0,  1, -1,  1],\n",
      "       [ 1,  1,  0,  1,  0,  0],\n",
      "       [ 1,  1,  0,  2, -1,  0],\n",
      "       [ 1,  1,  1,  0, -1,  1],\n",
      "       [ 1,  1,  1,  0,  0,  0],\n",
      "       [ 1,  1,  1,  1, -1,  0],\n",
      "       [ 1,  2,  0,  0,  0,  0],\n",
      "       [ 1,  2,  0,  1, -1,  0],\n",
      "       [ 2,  0,  0,  1,  0,  0],\n",
      "       [ 2,  0,  1,  0,  0,  0],\n",
      "       [ 2,  1,  0,  0,  0,  0],\n",
      "       [ 2,  1,  0,  1, -1,  0],\n",
      "       [ 2,  1,  1,  0, -1,  0]], dtype=int32), [(Graph on 6 vertices, [0, 0, 0, 0, 0, 0]), (Graph on 6 vertices, [0, 0, 0, 1, -1, 0]), (Graph on 6 vertices, [0, 0, 0, 0, 0, 0]), (Graph on 6 vertices, [0, 1, 0, 0, -1, 0]), (Graph on 6 vertices, [0, 0, 0, 0, 0, 0]), (Graph on 6 vertices, [0, 0, 0, 1, -1, 0]), (Graph on 6 vertices, [0, 0, 0, 0, 0, 0]), (Graph on 6 vertices, [0, 1, 0, 0, -1, 0]), (Graph on 6 vertices, [0, 0, 0, 0, -1, 1]), (Graph on 6 vertices, [0, 0, 0, 1, -1, 0]), (Graph on 6 vertices, [0, 0, 0, 1, -1, 0]), (Graph on 6 vertices, [0, 0, 0, 1, -1, 0]), (Graph on 6 vertices, [0, 0, 0, 0, -1, 1]), (Graph on 6 vertices, [0, 0, 0, 1, -1, 0]), (Graph on 6 vertices, [0, 0, 0, 1, -1, 0]), (Graph on 6 vertices, [0, 0, 0, 0, 0, 0]), (Graph on 6 vertices, [0, 0, 1, 0, -1, 0]), (Graph on 6 vertices, [0, 1, 0, 0, -1, 0]), (Graph on 6 vertices, [0, 1, 0, 0, -1, 0]), (Graph on 6 vertices, [0, 0, 0, 0, 0, 0]), (Graph on 6 vertices, [0, 0, 0, 0, 0, 0]), (Graph on 6 vertices, [1, 0, 0, 0, -1, 0]), (Graph on 6 vertices, [0, 1, 0, 0, -1, 0]), (Graph on 6 vertices, [0, 0, 1, 0, -1, 0]), (Graph on 6 vertices, [0, 1, 0, 0, -1, 0]), (Graph on 6 vertices, [0, 1, 0, 0, -1, 0]), (Graph on 6 vertices, [0, 0, 0, 1, -1, 0]), (Graph on 6 vertices, [0, 1, 0, 0, -1, 0]), (Graph on 6 vertices, [1, 0, 0, 0, -1, 0]), (Graph on 6 vertices, [0, 1, 0, 0, -1, 0]), (Graph on 6 vertices, [1, 0, 0, 0, -1, 0]), (Graph on 6 vertices, [0, 0, 0, 1, -1, 0]), (Graph on 6 vertices, [1, 0, 0, 0, -1, 0]), (Graph on 6 vertices, [1, 0, 0, 0, -1, 0]), (Graph on 6 vertices, [1, 0, 0, 0, -1, 0]), (Graph on 6 vertices, [1, 0, 0, 0, -1, 0])], [(Multi-graph on 6 vertices, (1, 8, 7, 4), Multi-graph on 6 vertices), (Multi-graph on 6 vertices, (7, 6, 5, 4), Multi-graph on 6 vertices), (Multi-graph on 6 vertices, (1, 3, 7, 2), Multi-graph on 6 vertices), (Multi-graph on 6 vertices, (1, 8, 6, 5), Multi-graph on 6 vertices), (Multi-graph on 6 vertices, (2, 4, 3, 8), Multi-graph on 6 vertices), (Multi-graph on 6 vertices, (1, 3, 6, 5, 2, 4), Multi-graph on 6 vertices), (Multi-graph on 6 vertices, (7, 6, 4, 5), Multi-graph on 6 vertices), (Multi-graph on 6 vertices, (2, 4, 8, 3), Multi-graph on 6 vertices), (Multi-graph on 6 vertices, (7, 6, 5, 4), Multi-graph on 6 vertices), (Multi-graph on 6 vertices, (2, 4, 8, 3), Multi-graph on 6 vertices), (Multi-graph on 6 vertices, (1, 5, 8, 6), Multi-graph on 6 vertices), (Multi-graph on 6 vertices, (1, 7, 3, 2), Multi-graph on 6 vertices), (Multi-graph on 6 vertices, (1, 3, 2, 7), Multi-graph on 6 vertices), (Multi-graph on 6 vertices, (1, 6, 5, 8), Multi-graph on 6 vertices), (Multi-graph on 6 vertices, (7, 6, 2, 3, 5, 8), Multi-graph on 6 vertices), (Multi-graph on 6 vertices, (1, 7, 8, 4), Multi-graph on 6 vertices), (Multi-graph on 6 vertices, (7, 4, 6, 5), Multi-graph on 6 vertices), (Multi-graph on 6 vertices, (1, 6, 5, 8), Multi-graph on 6 vertices), (Multi-graph on 6 vertices, (7, 6, 4, 5), Multi-graph on 6 vertices), (Multi-graph on 6 vertices, (1, 5, 8, 6), Multi-graph on 6 vertices), (Multi-graph on 6 vertices, (1, 4, 8, 7), Multi-graph on 6 vertices), (Multi-graph on 6 vertices, (1, 3, 7, 2), Multi-graph on 6 vertices), (Multi-graph on 6 vertices, (2, 4, 3, 8), Multi-graph on 6 vertices), (Multi-graph on 6 vertices, (2, 8, 4, 3), Multi-graph on 6 vertices), (Multi-graph on 6 vertices, (1, 3, 2, 7), Multi-graph on 6 vertices), (Multi-graph on 6 vertices, (1, 4, 7, 8), Multi-graph on 6 vertices)])\n",
      "Start= 0 ---- 117 ----terminator: False\n",
      "dim_tree_poly: 5\n",
      "Start= 0 ---- 118 ----terminator: False\n",
      "dim_tree_poly: 5\n",
      "Start= 0 ---- 119 ----terminator: False\n",
      "dim_tree_poly: 5\n",
      "Start= 0 ---- 120 ----terminator: False\n",
      "dim_tree_poly: 5\n",
      "Start= 0 ---- 121 ----terminator: False\n",
      "dim_tree_poly: 5\n",
      "Start= 0 ---- 122 ----terminator: False\n",
      "dim_tree_poly: 5\n",
      "Start= 0 ---- 123 ----terminator: False\n",
      "dim_tree_poly: 5\n",
      "Start= 0 ---- 124 ----terminator: False\n",
      "dim_tree_poly: 5\n",
      "Start= 0 ---- 125 ----terminator: False\n",
      "dim_tree_poly: 5\n",
      "Start= 0 ---- 126 ----terminator: False\n",
      "dim_tree_poly: 5\n",
      "Start= 0 ---- 127 ----terminator: False\n",
      "dim_tree_poly: 5\n",
      "Start= 0 ---- 128 ----terminator: False\n",
      "dim_tree_poly: 5\n",
      "Start= 0 ---- 129 ----terminator: False\n",
      "dim_tree_poly: 5\n",
      "Start= 0 ---- 130 ----terminator: False\n",
      "dim_tree_poly: 5\n",
      "Start= 0 ---- 131 ----terminator: False\n",
      "dim_tree_poly: 5\n",
      "Start= 0 ---- 132 ----terminator: False\n",
      "dim_tree_poly: 5\n",
      "Start= 0 ---- 133 ----terminator: False\n",
      "dim_tree_poly: 5\n",
      "Start= 0 ---- 134 ----terminator: False\n",
      "dim_tree_poly: 5\n",
      "Start= 0 ---- 135 ----terminator: False\n",
      "dim_tree_poly: 5\n",
      "Start= 0 ---- 136 ----terminator: False\n",
      "dim_tree_poly: 5\n",
      "Start= 0 ---- 137 ----terminator: False\n",
      "dim_tree_poly: 5\n",
      "Start= 0 ---- 138 ----terminator: False\n",
      "dim_tree_poly: 5\n",
      "Start= 0 ---- 139 ----terminator: False\n",
      "dim_tree_poly: 5\n",
      "Start= 0 ---- 140 ----terminator: False\n",
      "dim_tree_poly: 5\n",
      "Start= 0 ---- 141 ----terminator: False\n",
      "dim_tree_poly: 5\n",
      "Start= 0 ---- 142 ----terminator: False\n",
      "dim_tree_poly: 5\n",
      "Start= 0 ---- 143 ----terminator: False\n",
      "dim_tree_poly: 5\n",
      "Start= 0 ---- 144 ----terminator: False\n",
      "dim_tree_poly: 5\n",
      "Start= 0 ---- 145 ----terminator: False\n",
      "dim_tree_poly: 5\n",
      "Start= 0 ---- 146 ----terminator: False\n",
      "dim_tree_poly: 2\n",
      "146: WSC not phi: \n",
      " ([[0, 0, 0, 0, 0, 0], [0, 0, 1, -1, 0, 0], [0, 1, 0, -1, 0, 0], [0, 0, 1, -1, 0, 0], [0, 0, 0, 0, 0, 0], [0, 0, 1, 0, -1, 0], [0, 1, 0, -1, 0, 0], [0, 1, 1, -1, -1, 0], [0, 0, 0, 0, -1, 1], [0, 0, 0, 1, -1, 0], [1, 0, 1, -1, -1, 0], [0, 0, 1, 0, -1, 0], [0, 1, 0, -1, -1, 1], [0, 1, 0, 0, -1, 0], [0, 0, 1, 0, -1, 0], [0, 1, 0, 0, -1, 0], [0, 1, 0, 0, -1, 0], [0, 1, 0, -1, 0, 0], [0, 1, 1, -1, -1, 0], [1, 0, 0, 0, -1, 0], [0, 1, 0, 0, -1, 0], [0, 1, 0, -1, 0, 0], [1, 0, 1, -1, -1, 0], [0, 1, 0, 0, -1, 0], [0, 1, 0, -1, 0, 0], [0, 1, 1, -1, -1, 0], [1, 0, 0, 0, -1, 0], [0, 1, 0, 0, -1, 0], [0, 1, 0, 0, -1, 0], [0, 2, 0, -1, -1, 0], [1, 0, 0, 0, -1, 0], [1, 0, 0, 0, -1, 0], [1, 0, 0, 0, -1, 0], [1, 1, 0, -1, -1, 0], [0, 1, 0, 0, -1, 0], [1, 1, 0, -1, -1, 0]], array([[ 0,  1,  0,  1,  0,  1],\n",
      "       [ 0,  1,  0,  1,  1,  0],\n",
      "       [ 0,  1,  1,  0,  0,  1],\n",
      "       [ 0,  1,  1,  0,  1,  0],\n",
      "       [ 0,  1,  1,  1, -1,  1],\n",
      "       [ 0,  1,  1,  1,  0,  0],\n",
      "       [ 0,  2,  0,  0,  0,  1],\n",
      "       [ 0,  2,  0,  1, -1,  1],\n",
      "       [ 0,  2,  0,  1,  0,  0],\n",
      "       [ 0,  2,  1, -1,  0,  1],\n",
      "       [ 0,  2,  1,  0, -1,  1],\n",
      "       [ 0,  2,  1,  0,  0,  0],\n",
      "       [ 1,  0,  1,  0,  0,  1],\n",
      "       [ 1,  0,  1,  0,  1,  0],\n",
      "       [ 1,  0,  1,  1, -1,  1],\n",
      "       [ 1,  0,  1,  1,  0,  0],\n",
      "       [ 1,  1,  0,  0,  0,  1],\n",
      "       [ 1,  1,  0,  0,  1,  0],\n",
      "       [ 1,  1,  0,  1, -1,  1],\n",
      "       [ 1,  1,  0,  1,  0,  0],\n",
      "       [ 1,  1,  1, -1,  0,  1],\n",
      "       [ 1,  1,  1, -1,  1,  0],\n",
      "       [ 1,  1,  1,  0, -1,  1],\n",
      "       [ 1,  1,  1,  0,  0,  0],\n",
      "       [ 1,  1,  1,  1, -1,  0],\n",
      "       [ 1,  2,  0,  0, -1,  1],\n",
      "       [ 1,  2,  0,  0,  0,  0],\n",
      "       [ 1,  2,  0,  1, -1,  0],\n",
      "       [ 1,  2,  1, -1,  0,  0],\n",
      "       [ 1,  2,  1,  0, -1,  0],\n",
      "       [ 2,  0,  1, -1,  1,  0],\n",
      "       [ 2,  0,  1,  0,  0,  0],\n",
      "       [ 2,  1,  0,  0,  0,  0],\n",
      "       [ 2,  1,  1, -1,  0,  0],\n",
      "       [ 2,  1,  1,  0, -1,  0],\n",
      "       [ 2,  2,  0,  0, -1,  0]], dtype=int32), [(Graph on 6 vertices, [0, 0, 0, 0, 0, 0]), (Graph on 6 vertices, [0, 0, 1, -1, 0, 0]), (Graph on 6 vertices, [0, 1, 0, -1, 0, 0]), (Graph on 6 vertices, [0, 0, 1, -1, 0, 0]), (Graph on 6 vertices, [0, 0, 0, 0, 0, 0]), (Graph on 6 vertices, [0, 0, 1, 0, -1, 0]), (Graph on 6 vertices, [0, 1, 0, -1, 0, 0]), (Graph on 6 vertices, [0, 1, 1, -1, -1, 0]), (Graph on 6 vertices, [0, 0, 0, 0, -1, 1]), (Graph on 6 vertices, [0, 0, 0, 1, -1, 0]), (Graph on 6 vertices, [1, 0, 1, -1, -1, 0]), (Graph on 6 vertices, [0, 0, 1, 0, -1, 0]), (Graph on 6 vertices, [0, 1, 0, -1, -1, 1]), (Graph on 6 vertices, [0, 1, 0, 0, -1, 0]), (Graph on 6 vertices, [0, 0, 1, 0, -1, 0]), (Graph on 6 vertices, [0, 1, 0, 0, -1, 0]), (Graph on 6 vertices, [0, 1, 0, 0, -1, 0]), (Graph on 6 vertices, [0, 1, 0, -1, 0, 0]), (Graph on 6 vertices, [0, 1, 1, -1, -1, 0]), (Graph on 6 vertices, [1, 0, 0, 0, -1, 0]), (Graph on 6 vertices, [0, 1, 0, 0, -1, 0]), (Graph on 6 vertices, [0, 1, 0, -1, 0, 0]), (Graph on 6 vertices, [1, 0, 1, -1, -1, 0]), (Graph on 6 vertices, [0, 1, 0, 0, -1, 0]), (Graph on 6 vertices, [0, 1, 0, -1, 0, 0]), (Graph on 6 vertices, [0, 1, 1, -1, -1, 0]), (Graph on 6 vertices, [1, 0, 0, 0, -1, 0]), (Graph on 6 vertices, [0, 1, 0, 0, -1, 0]), (Graph on 6 vertices, [0, 1, 0, 0, -1, 0]), (Graph on 6 vertices, [0, 2, 0, -1, -1, 0]), (Graph on 6 vertices, [1, 0, 0, 0, -1, 0]), (Graph on 6 vertices, [1, 0, 0, 0, -1, 0]), (Graph on 6 vertices, [1, 0, 0, 0, -1, 0]), (Graph on 6 vertices, [1, 1, 0, -1, -1, 0]), (Graph on 6 vertices, [0, 1, 0, 0, -1, 0]), (Graph on 6 vertices, [1, 1, 0, -1, -1, 0])], [(Multi-graph on 6 vertices, (1, 7, 8, 4), Multi-graph on 6 vertices), (Multi-graph on 6 vertices, (7, 4, 6, 5), Multi-graph on 6 vertices), (Multi-graph on 6 vertices, (1, 2, 7, 3), Multi-graph on 6 vertices), (Multi-graph on 6 vertices, (1, 6, 5, 8), Multi-graph on 6 vertices), (Multi-graph on 6 vertices, (2, 8, 3, 4), Multi-graph on 6 vertices), (Multi-graph on 6 vertices, (1, 4, 2, 6, 5, 3), Multi-graph on 6 vertices), (Multi-graph on 6 vertices, (7, 6, 4, 5), Multi-graph on 6 vertices), (Multi-graph on 6 vertices, (2, 3, 4, 8), Multi-graph on 6 vertices), (Multi-graph on 6 vertices, (7, 4, 6, 5), Multi-graph on 6 vertices), (Multi-graph on 6 vertices, (2, 3, 8, 4), Multi-graph on 6 vertices), (Multi-graph on 6 vertices, (1, 5, 8, 6), Multi-graph on 6 vertices), (Multi-graph on 6 vertices, (1, 7, 2, 3), Multi-graph on 6 vertices), (Multi-graph on 6 vertices, (1, 7, 2, 3), Multi-graph on 6 vertices), (Multi-graph on 6 vertices, (1, 8, 6, 5), Multi-graph on 6 vertices), (Multi-graph on 6 vertices, (7, 8, 6, 3, 2, 5), Multi-graph on 6 vertices), (Multi-graph on 6 vertices, (1, 8, 7, 4), Multi-graph on 6 vertices), (Multi-graph on 6 vertices, (7, 6, 5, 4), Multi-graph on 6 vertices), (Multi-graph on 6 vertices, (1, 8, 6, 5), Multi-graph on 6 vertices), (Multi-graph on 6 vertices, (7, 6, 4, 5), Multi-graph on 6 vertices), (Multi-graph on 6 vertices, (1, 5, 8, 6), Multi-graph on 6 vertices), (Multi-graph on 6 vertices, (1, 4, 7, 8), Multi-graph on 6 vertices), (Multi-graph on 6 vertices, (1, 2, 7, 3), Multi-graph on 6 vertices), (Multi-graph on 6 vertices, (2, 8, 3, 4), Multi-graph on 6 vertices), (Multi-graph on 6 vertices, (2, 3, 8, 4), Multi-graph on 6 vertices), (Multi-graph on 6 vertices, (1, 2, 3, 7), Multi-graph on 6 vertices), (Multi-graph on 6 vertices, (1, 4, 8, 7), Multi-graph on 6 vertices)])\n",
      "Start= 0 ---- 147 ----terminator: False\n",
      "dim_tree_poly: 5\n",
      "Start= 0 ---- 148 ----terminator: False\n",
      "dim_tree_poly: 5\n",
      "Start= 0 ---- 149 ----terminator: False\n",
      "dim_tree_poly: 5\n",
      "Start= 0 ---- 150 ----terminator: False\n",
      "dim_tree_poly: 5\n",
      "Start= 0 ---- 151 ----terminator: False\n",
      "dim_tree_poly: 5\n",
      "Start= 0 ---- 152 ----terminator: False\n",
      "dim_tree_poly: 5\n",
      "Start= 0 ---- 153 ----terminator: False\n",
      "dim_tree_poly: 5\n",
      "Start= 0 ---- 154 ----terminator: False\n",
      "dim_tree_poly: 5\n",
      "Start= 0 ---- 155 ----terminator: False\n",
      "dim_tree_poly: 5\n",
      "Start= 0 ---- 156 ----terminator: False\n",
      "dim_tree_poly: 5\n",
      "Start= 0 ---- 157 ----terminator: False\n",
      "dim_tree_poly: 5\n",
      "Start= 0 ---- 158 ----terminator: False\n",
      "dim_tree_poly: 5\n",
      "Start= 0 ---- 159 ----terminator: False\n",
      "dim_tree_poly: 5\n",
      "Start= 0 ---- 160 ----terminator: False\n",
      "dim_tree_poly: 2\n",
      "160: WSC not phi: \n",
      " ([[0, 0, 0, 0, 0, 0], [0, 0, 1, 0, -1, 0], [0, 1, 0, -1, 0, 0], [0, 1, 1, -1, -1, 0], [0, 0, 0, 0, 0, 0], [0, 0, 1, 0, -1, 0], [0, 1, 0, -1, 0, 0], [0, 1, 1, -1, -1, 0], [0, 0, 0, 0, -1, 1], [0, 0, 0, 1, -1, 0], [0, 0, 1, 0, -1, 0], [0, 0, 1, 0, -1, 0], [0, 1, 0, -1, -1, 1], [0, 1, 0, 0, -1, 0], [0, 0, 1, 0, -1, 0], [0, 1, 0, 0, -1, 0], [0, 1, 0, 0, -1, 0], [0, 1, 0, -1, 0, 0], [0, 1, 1, -1, -1, 0], [1, 0, 0, 0, -1, 0], [0, 1, 0, 0, -1, 0], [0, 1, 0, -1, 0, 0], [0, 1, 1, -1, -1, 0], [0, 1, 0, 0, -1, 0], [0, 1, 0, -1, 0, 0], [0, 1, 1, -1, -1, 0], [1, 0, 0, 0, -1, 0], [0, 1, 0, 0, -1, 0], [0, 1, 0, 0, -1, 0], [0, 2, 0, -1, -1, 0], [1, 0, 0, 0, -1, 0], [1, 0, 0, 0, -1, 0], [1, 0, 0, 0, -1, 0], [1, 1, 0, -1, -1, 0], [0, 1, 0, 0, -1, 0], [1, 1, 0, -1, -1, 0]], array([[ 0,  1,  0,  1,  0,  1],\n",
      "       [ 0,  1,  0,  1,  1,  0],\n",
      "       [ 0,  1,  1,  0,  0,  1],\n",
      "       [ 0,  1,  1,  0,  1,  0],\n",
      "       [ 0,  1,  1,  1, -1,  1],\n",
      "       [ 0,  1,  1,  1,  0,  0],\n",
      "       [ 0,  2,  0,  0,  0,  1],\n",
      "       [ 0,  2,  0,  1, -1,  1],\n",
      "       [ 0,  2,  0,  1,  0,  0],\n",
      "       [ 0,  2,  1, -1,  0,  1],\n",
      "       [ 0,  2,  1,  0, -1,  1],\n",
      "       [ 0,  2,  1,  0,  0,  0],\n",
      "       [ 0,  2,  1,  1, -1,  0],\n",
      "       [ 1,  0,  1,  0,  0,  1],\n",
      "       [ 1,  0,  1,  0,  1,  0],\n",
      "       [ 1,  0,  1,  1, -1,  1],\n",
      "       [ 1,  0,  1,  1,  0,  0],\n",
      "       [ 1,  1,  0,  0,  0,  1],\n",
      "       [ 1,  1,  0,  0,  1,  0],\n",
      "       [ 1,  1,  0,  1, -1,  1],\n",
      "       [ 1,  1,  0,  1,  0,  0],\n",
      "       [ 1,  1,  1, -1,  0,  1],\n",
      "       [ 1,  1,  1, -1,  1,  0],\n",
      "       [ 1,  1,  1,  0, -1,  1],\n",
      "       [ 1,  1,  1,  0,  0,  0],\n",
      "       [ 1,  1,  1,  1, -1,  0],\n",
      "       [ 1,  2,  0,  0, -1,  1],\n",
      "       [ 1,  2,  0,  0,  0,  0],\n",
      "       [ 1,  2,  0,  1, -1,  0],\n",
      "       [ 1,  2,  1, -1,  0,  0],\n",
      "       [ 1,  2,  1,  0, -1,  0],\n",
      "       [ 2,  0,  1,  0,  0,  0],\n",
      "       [ 2,  1,  0,  0,  0,  0],\n",
      "       [ 2,  1,  1, -1,  0,  0],\n",
      "       [ 2,  1,  1,  0, -1,  0],\n",
      "       [ 2,  2,  0,  0, -1,  0]], dtype=int32), [(Graph on 6 vertices, [0, 0, 0, 0, 0, 0]), (Graph on 6 vertices, [0, 0, 1, 0, -1, 0]), (Graph on 6 vertices, [0, 1, 0, -1, 0, 0]), (Graph on 6 vertices, [0, 1, 1, -1, -1, 0]), (Graph on 6 vertices, [0, 0, 0, 0, 0, 0]), (Graph on 6 vertices, [0, 0, 1, 0, -1, 0]), (Graph on 6 vertices, [0, 1, 0, -1, 0, 0]), (Graph on 6 vertices, [0, 1, 1, -1, -1, 0]), (Graph on 6 vertices, [0, 0, 0, 0, -1, 1]), (Graph on 6 vertices, [0, 0, 0, 1, -1, 0]), (Graph on 6 vertices, [0, 0, 1, 0, -1, 0]), (Graph on 6 vertices, [0, 0, 1, 0, -1, 0]), (Graph on 6 vertices, [0, 1, 0, -1, -1, 1]), (Graph on 6 vertices, [0, 1, 0, 0, -1, 0]), (Graph on 6 vertices, [0, 0, 1, 0, -1, 0]), (Graph on 6 vertices, [0, 1, 0, 0, -1, 0]), (Graph on 6 vertices, [0, 1, 0, 0, -1, 0]), (Graph on 6 vertices, [0, 1, 0, -1, 0, 0]), (Graph on 6 vertices, [0, 1, 1, -1, -1, 0]), (Graph on 6 vertices, [1, 0, 0, 0, -1, 0]), (Graph on 6 vertices, [0, 1, 0, 0, -1, 0]), (Graph on 6 vertices, [0, 1, 0, -1, 0, 0]), (Graph on 6 vertices, [0, 1, 1, -1, -1, 0]), (Graph on 6 vertices, [0, 1, 0, 0, -1, 0]), (Graph on 6 vertices, [0, 1, 0, -1, 0, 0]), (Graph on 6 vertices, [0, 1, 1, -1, -1, 0]), (Graph on 6 vertices, [1, 0, 0, 0, -1, 0]), (Graph on 6 vertices, [0, 1, 0, 0, -1, 0]), (Graph on 6 vertices, [0, 1, 0, 0, -1, 0]), (Graph on 6 vertices, [0, 2, 0, -1, -1, 0]), (Graph on 6 vertices, [1, 0, 0, 0, -1, 0]), (Graph on 6 vertices, [1, 0, 0, 0, -1, 0]), (Graph on 6 vertices, [1, 0, 0, 0, -1, 0]), (Graph on 6 vertices, [1, 1, 0, -1, -1, 0]), (Graph on 6 vertices, [0, 1, 0, 0, -1, 0]), (Graph on 6 vertices, [1, 1, 0, -1, -1, 0])], [(Multi-graph on 6 vertices, (1, 7, 8, 4), Multi-graph on 6 vertices), (Multi-graph on 6 vertices, (7, 4, 6, 5), Multi-graph on 6 vertices), (Multi-graph on 6 vertices, (1, 2, 7, 3), Multi-graph on 6 vertices), (Multi-graph on 6 vertices, (1, 6, 5, 8), Multi-graph on 6 vertices), (Multi-graph on 6 vertices, (2, 8, 3, 4), Multi-graph on 6 vertices), (Multi-graph on 6 vertices, (1, 2, 6, 5, 3, 4), Multi-graph on 6 vertices), (Multi-graph on 6 vertices, (7, 6, 4, 5), Multi-graph on 6 vertices), (Multi-graph on 6 vertices, (2, 3, 4, 8), Multi-graph on 6 vertices), (Multi-graph on 6 vertices, (7, 6, 5, 4), Multi-graph on 6 vertices), (Multi-graph on 6 vertices, (2, 3, 4, 8), Multi-graph on 6 vertices), (Multi-graph on 6 vertices, (1, 5, 8, 6), Multi-graph on 6 vertices), (Multi-graph on 6 vertices, (1, 7, 2, 3), Multi-graph on 6 vertices), (Multi-graph on 6 vertices, (1, 2, 3, 7), Multi-graph on 6 vertices), (Multi-graph on 6 vertices, (1, 6, 5, 8), Multi-graph on 6 vertices), (Multi-graph on 6 vertices, (7, 6, 3, 2, 5, 8), Multi-graph on 6 vertices), (Multi-graph on 6 vertices, (1, 8, 7, 4), Multi-graph on 6 vertices), (Multi-graph on 6 vertices, (7, 6, 5, 4), Multi-graph on 6 vertices), (Multi-graph on 6 vertices, (1, 8, 6, 5), Multi-graph on 6 vertices), (Multi-graph on 6 vertices, (7, 6, 4, 5), Multi-graph on 6 vertices), (Multi-graph on 6 vertices, (1, 5, 8, 6), Multi-graph on 6 vertices), (Multi-graph on 6 vertices, (1, 4, 7, 8), Multi-graph on 6 vertices), (Multi-graph on 6 vertices, (1, 2, 7, 3), Multi-graph on 6 vertices), (Multi-graph on 6 vertices, (2, 8, 3, 4), Multi-graph on 6 vertices), (Multi-graph on 6 vertices, (2, 3, 8, 4), Multi-graph on 6 vertices), (Multi-graph on 6 vertices, (1, 2, 3, 7), Multi-graph on 6 vertices), (Multi-graph on 6 vertices, (1, 4, 8, 7), Multi-graph on 6 vertices)])\n",
      "Start= 0 ---- 161 ----terminator: False\n",
      "dim_tree_poly: 5\n",
      "Start= 0 ---- 162 ----terminator: False\n",
      "dim_tree_poly: 5\n",
      "Start= 0 ---- 163 ----terminator: False\n",
      "dim_tree_poly: 5\n",
      "Start= 0 ---- 164 ----terminator: False\n",
      "dim_tree_poly: 5\n",
      "Start= 0 ---- 165 ----terminator: False\n",
      "dim_tree_poly: 5\n",
      "Start= 0 ---- 166 ----terminator: False\n",
      "dim_tree_poly: 5\n",
      "Start= 0 ---- 167 ----terminator: False\n",
      "dim_tree_poly: 5\n",
      "Start= 0 ---- 168 ----terminator: False\n",
      "dim_tree_poly: 5\n",
      "Start= 0 ---- 169 ----terminator: False\n",
      "dim_tree_poly: 5\n",
      "Start= 0 ---- 170 ----terminator: False\n",
      "dim_tree_poly: 5\n",
      "Start= 0 ---- 171 ----terminator: False\n",
      "dim_tree_poly: 5\n",
      "Start= 0 ---- 172 ----terminator: False\n",
      "dim_tree_poly: 5\n",
      "Start= 0 ---- 173 ----terminator: False\n",
      "dim_tree_poly: 5\n",
      "Start= 0 ---- 174 ----terminator: False\n",
      "dim_tree_poly: 5\n",
      "Start= 0 ---- 175 ----terminator: False\n",
      "dim_tree_poly: 5\n",
      "Start= 0 ---- 176 ----terminator: False\n",
      "dim_tree_poly: 5\n",
      "Start= 0 ---- 177 ----terminator: False\n",
      "dim_tree_poly: 5\n",
      "Start= 0 ---- 178 ----terminator: False\n",
      "dim_tree_poly: 5\n",
      "Start= 0 ---- 179 ----terminator: False\n",
      "dim_tree_poly: 5\n",
      "Start= 0 ---- 180 ----terminator: False\n",
      "dim_tree_poly: 5\n",
      "Start= 0 ---- 181 ----terminator: False\n",
      "dim_tree_poly: 5\n",
      "Start= 0 ---- 182 ----terminator: False\n",
      "dim_tree_poly: 5\n",
      "Start= 0 ---- 183 ----terminator: False\n",
      "dim_tree_poly: 5\n",
      "Start= 0 ---- 184 ----terminator: False\n",
      "dim_tree_poly: 5\n",
      "Start= 0 ---- 185 ----terminator: False\n",
      "dim_tree_poly: 5\n",
      "Start= 0 ---- 186 ----terminator: False\n",
      "dim_tree_poly: 5\n",
      "Start= 0 ---- 187 ----terminator: False\n",
      "dim_tree_poly: 5\n",
      "Start= 0 ---- 188 ----terminator: False\n",
      "dim_tree_poly: 5\n",
      "Start= 0 ---- 189 ----terminator: False\n",
      "dim_tree_poly: 5\n",
      "Start= 0 ---- 190 ----terminator: False\n",
      "dim_tree_poly: 5\n",
      "Start= 0 ---- 191 ----terminator: False\n",
      "dim_tree_poly: 5\n",
      "Start= 0 ---- 192 ----terminator: False\n",
      "dim_tree_poly: 5\n",
      "Start= 0 ---- 193 ----terminator: False\n",
      "dim_tree_poly: 5\n",
      "Start= 0 ---- 194 ----terminator: False\n",
      "dim_tree_poly: 5\n",
      "Start= 0 ---- 195 ----terminator: False\n",
      "dim_tree_poly: 5\n",
      "Start= 0 ---- 196 ----terminator: False\n",
      "dim_tree_poly: 5\n",
      "Start= 0 ---- 197 ----terminator: False\n",
      "dim_tree_poly: 5\n",
      "Start= 0 ---- 198 ----terminator: False\n",
      "dim_tree_poly: 5\n",
      "Start= 0 ---- 199 ----terminator: False\n",
      "dim_tree_poly: 5\n",
      "Start= 0 ---- 200 ----terminator: False\n",
      "dim_tree_poly: 5\n",
      "Start= 0 ---- 201 ----terminator: False\n",
      "dim_tree_poly: 5\n",
      "Start= 0 ---- 202 ----terminator: False\n",
      "dim_tree_poly: 5\n",
      "Start= 0 ---- 203 ----terminator: False\n",
      "dim_tree_poly: 5\n",
      "Start= 0 ---- 204 ----terminator: False\n",
      "dim_tree_poly: 5\n",
      "Start= 0 ---- 205 ----terminator: False\n",
      "dim_tree_poly: 5\n",
      "Start= 0 ---- 206 ----terminator: False\n",
      "dim_tree_poly: 5\n",
      "Start= 0 ---- 207 ----terminator: False\n",
      "dim_tree_poly: 5\n",
      "Start= 0 ---- 208 ----terminator: False\n",
      "dim_tree_poly: 5\n",
      "Start= 0 ---- 209 ----terminator: False\n",
      "dim_tree_poly: 5\n",
      "Start= 0 ---- 210 ----terminator: False\n",
      "dim_tree_poly: 5\n",
      "Start= 0 ---- 211 ----terminator: False\n",
      "dim_tree_poly: 5\n",
      "Start= 0 ---- 212 ----terminator: False\n",
      "dim_tree_poly: 5\n",
      "Start= 0 ---- 213 ----terminator: False\n",
      "dim_tree_poly: 5\n",
      "Start= 0 ---- 214 ----terminator: False\n",
      "dim_tree_poly: 5\n",
      "Start= 0 ---- 215 ----terminator: False\n",
      "dim_tree_poly: 5\n",
      "Start= 0 ---- 216 ----terminator: False\n",
      "dim_tree_poly: 5\n",
      "Start= 0 ---- 217 ----terminator: False\n",
      "dim_tree_poly: 5\n",
      "Start= 0 ---- 218 ----terminator: False\n",
      "dim_tree_poly: 5\n",
      "Start= 0 ---- 219 ----terminator: False\n",
      "dim_tree_poly: 5\n",
      "Start= 0 ---- 220 ----terminator: False\n",
      "dim_tree_poly: 5\n",
      "Start= 0 ---- 221 ----terminator: False\n",
      "dim_tree_poly: 5\n",
      "Start= 0 ---- 222 ----terminator: False\n",
      "dim_tree_poly: 5\n",
      "Start= 0 ---- 223 ----terminator: False\n",
      "dim_tree_poly: 5\n",
      "Start= 0 ---- 224 ----terminator: False\n",
      "dim_tree_poly: 2\n",
      "224: WSC not phi: \n",
      " ([[0, 0, 0, 0, 0, 0], [0, 0, 1, -1, 0, 0], [0, 1, 0, -1, 0, 0], [0, 0, 1, -1, 0, 0], [0, 0, 0, 0, 1, -1], [0, 0, 1, 0, 0, -1], [0, 1, 0, 0, 0, -1], [0, 1, 0, 0, 0, -1], [0, 0, 0, 0, 0, 0], [1, 0, 0, 0, 0, -1], [1, 0, 1, -1, -1, 0], [1, 0, 1, 0, -1, -1], [1, 1, 0, -1, -1, 0], [1, 1, 0, 0, -1, -1], [1, 1, 0, 0, -1, -1], [0, 1, 0, 0, 0, -1], [0, 1, 1, -1, 0, -1], [0, 2, 0, -1, 0, -1], [0, 1, 1, -1, 0, -1], [1, 0, 0, 0, 0, -1], [1, 0, 0, 0, 0, -1], [1, 1, 0, -1, 0, -1], [1, 0, 1, -1, -1, 0], [1, 0, 1, 0, -1, -1], [1, 1, 0, -1, 0, -1], [1, 1, 1, -1, -1, -1], [1, 0, 0, 0, 0, -1], [0, 1, 0, 0, 0, -1], [1, 1, 0, -1, 0, -1], [1, 1, 0, -1, 0, -1], [1, 0, 0, 0, -1, 0], [1, 0, 0, 1, -1, -1], [1, 1, 0, 0, -1, -1], [1, 1, 0, -1, -1, 0], [1, 1, 0, 0, -1, -1], [2, 1, 0, -1, -1, -1]], array([[ 0,  1,  1,  0,  1,  0],\n",
      "       [ 0,  1,  1,  1,  0,  0],\n",
      "       [ 0,  2,  0,  0,  1,  0],\n",
      "       [ 0,  2,  0,  1,  0,  0],\n",
      "       [ 0,  2,  1,  0,  0,  0],\n",
      "       [ 1,  0,  1,  0,  1,  0],\n",
      "       [ 1,  0,  1,  1,  0,  0],\n",
      "       [ 1,  0,  1,  1,  1, -1],\n",
      "       [ 1,  1,  0,  0,  1,  0],\n",
      "       [ 1,  1,  0,  1,  0,  0],\n",
      "       [ 1,  1,  0,  1,  1, -1],\n",
      "       [ 1,  1,  1, -1,  1,  0],\n",
      "       [ 1,  1,  1,  0,  0,  0],\n",
      "       [ 1,  1,  1,  0,  1, -1],\n",
      "       [ 1,  1,  1,  1, -1,  0],\n",
      "       [ 1,  1,  1,  1,  0, -1],\n",
      "       [ 1,  2,  0,  0,  0,  0],\n",
      "       [ 1,  2,  0,  0,  1, -1],\n",
      "       [ 1,  2,  0,  1, -1,  0],\n",
      "       [ 1,  2,  0,  1,  0, -1],\n",
      "       [ 1,  2,  1, -1,  0,  0],\n",
      "       [ 1,  2,  1,  0, -1,  0],\n",
      "       [ 1,  2,  1,  0,  0, -1],\n",
      "       [ 2,  0,  1, -1,  1,  0],\n",
      "       [ 2,  0,  1,  0,  0,  0],\n",
      "       [ 2,  0,  1,  0,  1, -1],\n",
      "       [ 2,  1,  0,  0,  0,  0],\n",
      "       [ 2,  1,  0,  0,  1, -1],\n",
      "       [ 2,  1,  0,  1, -1,  0],\n",
      "       [ 2,  1,  0,  1,  0, -1],\n",
      "       [ 2,  1,  1, -1,  0,  0],\n",
      "       [ 2,  1,  1, -1,  1, -1],\n",
      "       [ 2,  1,  1,  0, -1,  0],\n",
      "       [ 2,  1,  1,  0,  0, -1],\n",
      "       [ 2,  2,  0,  0,  0, -1],\n",
      "       [ 2,  2,  1, -1,  0, -1]], dtype=int32), [(Graph on 6 vertices, [0, 0, 0, 0, 0, 0]), (Graph on 6 vertices, [0, 0, 1, -1, 0, 0]), (Graph on 6 vertices, [0, 1, 0, -1, 0, 0]), (Graph on 6 vertices, [0, 0, 1, -1, 0, 0]), (Graph on 6 vertices, [0, 0, 0, 0, 1, -1]), (Graph on 6 vertices, [0, 0, 1, 0, 0, -1]), (Graph on 6 vertices, [0, 1, 0, 0, 0, -1]), (Graph on 6 vertices, [0, 1, 0, 0, 0, -1]), (Graph on 6 vertices, [0, 0, 0, 0, 0, 0]), (Graph on 6 vertices, [1, 0, 0, 0, 0, -1]), (Graph on 6 vertices, [1, 0, 1, -1, -1, 0]), (Graph on 6 vertices, [1, 0, 1, 0, -1, -1]), (Graph on 6 vertices, [1, 1, 0, -1, -1, 0]), (Graph on 6 vertices, [1, 1, 0, 0, -1, -1]), (Graph on 6 vertices, [1, 1, 0, 0, -1, -1]), (Graph on 6 vertices, [0, 1, 0, 0, 0, -1]), (Graph on 6 vertices, [0, 1, 1, -1, 0, -1]), (Graph on 6 vertices, [0, 2, 0, -1, 0, -1]), (Graph on 6 vertices, [0, 1, 1, -1, 0, -1]), (Graph on 6 vertices, [1, 0, 0, 0, 0, -1]), (Graph on 6 vertices, [1, 0, 0, 0, 0, -1]), (Graph on 6 vertices, [1, 1, 0, -1, 0, -1]), (Graph on 6 vertices, [1, 0, 1, -1, -1, 0]), (Graph on 6 vertices, [1, 0, 1, 0, -1, -1]), (Graph on 6 vertices, [1, 1, 0, -1, 0, -1]), (Graph on 6 vertices, [1, 1, 1, -1, -1, -1]), (Graph on 6 vertices, [1, 0, 0, 0, 0, -1]), (Graph on 6 vertices, [0, 1, 0, 0, 0, -1]), (Graph on 6 vertices, [1, 1, 0, -1, 0, -1]), (Graph on 6 vertices, [1, 1, 0, -1, 0, -1]), (Graph on 6 vertices, [1, 0, 0, 0, -1, 0]), (Graph on 6 vertices, [1, 0, 0, 1, -1, -1]), (Graph on 6 vertices, [1, 1, 0, 0, -1, -1]), (Graph on 6 vertices, [1, 1, 0, -1, -1, 0]), (Graph on 6 vertices, [1, 1, 0, 0, -1, -1]), (Graph on 6 vertices, [2, 1, 0, -1, -1, -1])], [(Multi-graph on 6 vertices, (1, 4, 8, 7), Multi-graph on 6 vertices), (Multi-graph on 6 vertices, (7, 6, 4, 5), Multi-graph on 6 vertices), (Multi-graph on 6 vertices, (1, 2, 3, 7), Multi-graph on 6 vertices), (Multi-graph on 6 vertices, (1, 5, 8, 6), Multi-graph on 6 vertices), (Multi-graph on 6 vertices, (2, 3, 8, 4), Multi-graph on 6 vertices), (Multi-graph on 6 vertices, (1, 4, 5, 2, 3, 6), Multi-graph on 6 vertices), (Multi-graph on 6 vertices, (7, 4, 5, 6), Multi-graph on 6 vertices), (Multi-graph on 6 vertices, (2, 4, 3, 8), Multi-graph on 6 vertices), (Multi-graph on 6 vertices, (7, 4, 5, 6), Multi-graph on 6 vertices), (Multi-graph on 6 vertices, (2, 3, 8, 4), Multi-graph on 6 vertices), (Multi-graph on 6 vertices, (1, 5, 6, 8), Multi-graph on 6 vertices), (Multi-graph on 6 vertices, (1, 3, 7, 2), Multi-graph on 6 vertices), (Multi-graph on 6 vertices, (1, 7, 2, 3), Multi-graph on 6 vertices), (Multi-graph on 6 vertices, (1, 8, 5, 6), Multi-graph on 6 vertices), (Multi-graph on 6 vertices, (7, 8, 3, 5, 6, 2), Multi-graph on 6 vertices), (Multi-graph on 6 vertices, (1, 8, 7, 4), Multi-graph on 6 vertices), (Multi-graph on 6 vertices, (7, 6, 4, 5), Multi-graph on 6 vertices), (Multi-graph on 6 vertices, (1, 5, 8, 6), Multi-graph on 6 vertices), (Multi-graph on 6 vertices, (7, 5, 6, 4), Multi-graph on 6 vertices), (Multi-graph on 6 vertices, (1, 8, 5, 6), Multi-graph on 6 vertices), (Multi-graph on 6 vertices, (1, 4, 7, 8), Multi-graph on 6 vertices), (Multi-graph on 6 vertices, (1, 7, 2, 3), Multi-graph on 6 vertices), (Multi-graph on 6 vertices, (2, 3, 4, 8), Multi-graph on 6 vertices), (Multi-graph on 6 vertices, (2, 4, 3, 8), Multi-graph on 6 vertices), (Multi-graph on 6 vertices, (1, 3, 7, 2), Multi-graph on 6 vertices), (Multi-graph on 6 vertices, (1, 7, 8, 4), Multi-graph on 6 vertices)])\n",
      "Start= 0 ---- 225 ----terminator: False\n",
      "dim_tree_poly: 5\n",
      "Start= 0 ---- 226 ----terminator: False\n",
      "dim_tree_poly: 5\n",
      "Start= 0 ---- 227 ----terminator: False\n",
      "dim_tree_poly: 5\n",
      "Start= 0 ---- 228 ----terminator: False\n",
      "dim_tree_poly: 5\n",
      "Start= 0 ---- 229 ----terminator: False\n",
      "dim_tree_poly: 5\n",
      "Start= 0 ---- 230 ----terminator: False\n",
      "dim_tree_poly: 5\n",
      "Start= 0 ---- 231 ----terminator: False\n",
      "dim_tree_poly: 5\n",
      "Start= 0 ---- 232 ----terminator: False\n",
      "dim_tree_poly: 5\n",
      "Start= 0 ---- 233 ----terminator: False\n",
      "dim_tree_poly: 5\n",
      "Start= 0 ---- 234 ----terminator: False\n",
      "dim_tree_poly: 5\n",
      "Start= 0 ---- 235 ----terminator: False\n",
      "dim_tree_poly: 5\n",
      "Start= 0 ---- 236 ----terminator: False\n",
      "dim_tree_poly: 5\n",
      "Start= 0 ---- 237 ----terminator: False\n",
      "dim_tree_poly: 5\n",
      "Start= 0 ---- 238 ----terminator: False\n",
      "dim_tree_poly: 5\n",
      "Start= 0 ---- 239 ----terminator: False\n",
      "dim_tree_poly: 5\n",
      "Start= 0 ---- 240 ----terminator: False\n",
      "dim_tree_poly: 5\n",
      "Start= 0 ---- 241 ----terminator: False\n",
      "dim_tree_poly: 5\n",
      "Start= 0 ---- 242 ----terminator: False\n",
      "dim_tree_poly: 2\n",
      "242: WSC not phi: \n",
      " ([[0, 0, 0, 0, 0, 0], [0, 0, 1, 0, -1, 0], [0, 1, 0, -1, 0, 0], [0, 1, 1, -1, -1, 0], [0, 0, 0, 0, 1, -1], [0, 0, 1, 0, 0, -1], [0, 1, 0, 0, 0, -1], [0, 1, 0, 0, 0, -1], [0, 0, 0, 0, 0, 0], [1, 0, 0, 0, 0, -1], [0, 0, 1, 0, -1, 0], [1, 0, 1, 0, -1, -1], [1, 1, 0, -1, -1, 0], [1, 1, 0, 0, -1, -1], [1, 1, 0, 0, -1, -1], [0, 1, 0, 0, 0, -1], [0, 1, 1, -1, 0, -1], [0, 2, 0, -1, 0, -1], [0, 1, 1, -1, 0, -1], [1, 0, 0, 0, 0, -1], [1, 0, 0, 0, 0, -1], [1, 1, 0, -1, 0, -1], [0, 1, 1, -1, -1, 0], [1, 0, 1, 0, -1, -1], [1, 1, 0, -1, 0, -1], [1, 1, 1, -1, -1, -1], [1, 0, 0, 0, 0, -1], [0, 1, 0, 0, 0, -1], [1, 1, 0, -1, 0, -1], [1, 1, 0, -1, 0, -1], [1, 0, 0, 0, -1, 0], [1, 0, 0, 1, -1, -1], [1, 1, 0, 0, -1, -1], [1, 1, 0, -1, -1, 0], [1, 1, 0, 0, -1, -1], [2, 1, 0, -1, -1, -1]], array([[ 0,  1,  1,  0,  1,  0],\n",
      "       [ 0,  1,  1,  1,  0,  0],\n",
      "       [ 0,  2,  0,  0,  1,  0],\n",
      "       [ 0,  2,  0,  1,  0,  0],\n",
      "       [ 0,  2,  1,  0,  0,  0],\n",
      "       [ 0,  2,  1,  1, -1,  0],\n",
      "       [ 1,  0,  1,  0,  1,  0],\n",
      "       [ 1,  0,  1,  1,  0,  0],\n",
      "       [ 1,  0,  1,  1,  1, -1],\n",
      "       [ 1,  1,  0,  0,  1,  0],\n",
      "       [ 1,  1,  0,  1,  0,  0],\n",
      "       [ 1,  1,  0,  1,  1, -1],\n",
      "       [ 1,  1,  1, -1,  1,  0],\n",
      "       [ 1,  1,  1,  0,  0,  0],\n",
      "       [ 1,  1,  1,  0,  1, -1],\n",
      "       [ 1,  1,  1,  1, -1,  0],\n",
      "       [ 1,  1,  1,  1,  0, -1],\n",
      "       [ 1,  2,  0,  0,  0,  0],\n",
      "       [ 1,  2,  0,  0,  1, -1],\n",
      "       [ 1,  2,  0,  1, -1,  0],\n",
      "       [ 1,  2,  0,  1,  0, -1],\n",
      "       [ 1,  2,  1, -1,  0,  0],\n",
      "       [ 1,  2,  1,  0, -1,  0],\n",
      "       [ 1,  2,  1,  0,  0, -1],\n",
      "       [ 2,  0,  1,  0,  0,  0],\n",
      "       [ 2,  0,  1,  0,  1, -1],\n",
      "       [ 2,  1,  0,  0,  0,  0],\n",
      "       [ 2,  1,  0,  0,  1, -1],\n",
      "       [ 2,  1,  0,  1, -1,  0],\n",
      "       [ 2,  1,  0,  1,  0, -1],\n",
      "       [ 2,  1,  1, -1,  0,  0],\n",
      "       [ 2,  1,  1, -1,  1, -1],\n",
      "       [ 2,  1,  1,  0, -1,  0],\n",
      "       [ 2,  1,  1,  0,  0, -1],\n",
      "       [ 2,  2,  0,  0,  0, -1],\n",
      "       [ 2,  2,  1, -1,  0, -1]], dtype=int32), [(Graph on 6 vertices, [0, 0, 0, 0, 0, 0]), (Graph on 6 vertices, [0, 0, 1, 0, -1, 0]), (Graph on 6 vertices, [0, 1, 0, -1, 0, 0]), (Graph on 6 vertices, [0, 1, 1, -1, -1, 0]), (Graph on 6 vertices, [0, 0, 0, 0, 1, -1]), (Graph on 6 vertices, [0, 0, 1, 0, 0, -1]), (Graph on 6 vertices, [0, 1, 0, 0, 0, -1]), (Graph on 6 vertices, [0, 1, 0, 0, 0, -1]), (Graph on 6 vertices, [0, 0, 0, 0, 0, 0]), (Graph on 6 vertices, [1, 0, 0, 0, 0, -1]), (Graph on 6 vertices, [0, 0, 1, 0, -1, 0]), (Graph on 6 vertices, [1, 0, 1, 0, -1, -1]), (Graph on 6 vertices, [1, 1, 0, -1, -1, 0]), (Graph on 6 vertices, [1, 1, 0, 0, -1, -1]), (Graph on 6 vertices, [1, 1, 0, 0, -1, -1]), (Graph on 6 vertices, [0, 1, 0, 0, 0, -1]), (Graph on 6 vertices, [0, 1, 1, -1, 0, -1]), (Graph on 6 vertices, [0, 2, 0, -1, 0, -1]), (Graph on 6 vertices, [0, 1, 1, -1, 0, -1]), (Graph on 6 vertices, [1, 0, 0, 0, 0, -1]), (Graph on 6 vertices, [1, 0, 0, 0, 0, -1]), (Graph on 6 vertices, [1, 1, 0, -1, 0, -1]), (Graph on 6 vertices, [0, 1, 1, -1, -1, 0]), (Graph on 6 vertices, [1, 0, 1, 0, -1, -1]), (Graph on 6 vertices, [1, 1, 0, -1, 0, -1]), (Graph on 6 vertices, [1, 1, 1, -1, -1, -1]), (Graph on 6 vertices, [1, 0, 0, 0, 0, -1]), (Graph on 6 vertices, [0, 1, 0, 0, 0, -1]), (Graph on 6 vertices, [1, 1, 0, -1, 0, -1]), (Graph on 6 vertices, [1, 1, 0, -1, 0, -1]), (Graph on 6 vertices, [1, 0, 0, 0, -1, 0]), (Graph on 6 vertices, [1, 0, 0, 1, -1, -1]), (Graph on 6 vertices, [1, 1, 0, 0, -1, -1]), (Graph on 6 vertices, [1, 1, 0, -1, -1, 0]), (Graph on 6 vertices, [1, 1, 0, 0, -1, -1]), (Graph on 6 vertices, [2, 1, 0, -1, -1, -1])], [(Multi-graph on 6 vertices, (1, 4, 8, 7), Multi-graph on 6 vertices), (Multi-graph on 6 vertices, (7, 6, 4, 5), Multi-graph on 6 vertices), (Multi-graph on 6 vertices, (1, 2, 3, 7), Multi-graph on 6 vertices), (Multi-graph on 6 vertices, (1, 5, 8, 6), Multi-graph on 6 vertices), (Multi-graph on 6 vertices, (2, 3, 8, 4), Multi-graph on 6 vertices), (Multi-graph on 6 vertices, (1, 5, 2, 3, 6, 4), Multi-graph on 6 vertices), (Multi-graph on 6 vertices, (7, 4, 5, 6), Multi-graph on 6 vertices), (Multi-graph on 6 vertices, (2, 4, 3, 8), Multi-graph on 6 vertices), (Multi-graph on 6 vertices, (7, 5, 6, 4), Multi-graph on 6 vertices), (Multi-graph on 6 vertices, (2, 3, 4, 8), Multi-graph on 6 vertices), (Multi-graph on 6 vertices, (1, 5, 6, 8), Multi-graph on 6 vertices), (Multi-graph on 6 vertices, (1, 3, 7, 2), Multi-graph on 6 vertices), (Multi-graph on 6 vertices, (1, 2, 3, 7), Multi-graph on 6 vertices), (Multi-graph on 6 vertices, (1, 5, 6, 8), Multi-graph on 6 vertices), (Multi-graph on 6 vertices, (7, 3, 5, 6, 2, 8), Multi-graph on 6 vertices), (Multi-graph on 6 vertices, (1, 8, 7, 4), Multi-graph on 6 vertices), (Multi-graph on 6 vertices, (7, 6, 4, 5), Multi-graph on 6 vertices), (Multi-graph on 6 vertices, (1, 5, 8, 6), Multi-graph on 6 vertices), (Multi-graph on 6 vertices, (7, 5, 6, 4), Multi-graph on 6 vertices), (Multi-graph on 6 vertices, (1, 8, 5, 6), Multi-graph on 6 vertices), (Multi-graph on 6 vertices, (1, 4, 7, 8), Multi-graph on 6 vertices), (Multi-graph on 6 vertices, (1, 7, 2, 3), Multi-graph on 6 vertices), (Multi-graph on 6 vertices, (2, 3, 4, 8), Multi-graph on 6 vertices), (Multi-graph on 6 vertices, (2, 4, 3, 8), Multi-graph on 6 vertices), (Multi-graph on 6 vertices, (1, 3, 7, 2), Multi-graph on 6 vertices), (Multi-graph on 6 vertices, (1, 7, 8, 4), Multi-graph on 6 vertices)])\n",
      "Start= 0 ---- 243 ----terminator: False\n",
      "dim_tree_poly: 5\n",
      "Start= 0 ---- 244 ----terminator: False\n",
      "dim_tree_poly: 5\n",
      "Start= 0 ---- 245 ----terminator: False\n",
      "dim_tree_poly: 5\n",
      "Start= 0 ---- 246 ----terminator: False\n",
      "dim_tree_poly: 5\n",
      "Start= 0 ---- 247 ----terminator: False\n",
      "dim_tree_poly: 5\n",
      "Start= 0 ---- 248 ----terminator: False\n",
      "dim_tree_poly: 5\n",
      "Start= 0 ---- 249 ----terminator: False\n",
      "dim_tree_poly: 5\n",
      "Start= 0 ---- 250 ----terminator: False\n",
      "dim_tree_poly: 5\n",
      "Start= 0 ---- 251 ----terminator: False\n",
      "dim_tree_poly: 5\n",
      "Start= 0 ---- 252 ----terminator: False\n",
      "dim_tree_poly: 5\n",
      "Start= 0 ---- 253 ----terminator: False\n",
      "dim_tree_poly: 5\n",
      "Start= 0 ---- 254 ----terminator: False\n",
      "dim_tree_poly: 5\n",
      "Start= 0 ---- 255 ----terminator: False\n",
      "dim_tree_poly: 5\n",
      "Start= 0 ---- 256 ----terminator: False\n",
      "dim_tree_poly: 5\n",
      "Start= 0 ---- 257 ----terminator: False\n",
      "dim_tree_poly: 5\n",
      "Start= 0 ---- 258 ----terminator: False\n",
      "dim_tree_poly: 5\n",
      "Start= 0 ---- 259 ----terminator: False\n",
      "dim_tree_poly: 5\n",
      "Start= 0 ---- 260 ----terminator: False\n",
      "dim_tree_poly: 5\n",
      "Start= 0 ---- 261 ----terminator: False\n",
      "dim_tree_poly: 2\n",
      "261: WSC not phi: \n",
      " ([[0, 0, 0, 0, 0, 0], [0, 0, 0, 0, 0, 0], [0, 0, 0, 0, 0, 0], [0, 0, 0, 0, 0, 0], [0, 0, 0, 1, 0, -1], [0, 0, 0, 1, 0, -1], [0, 0, 0, 1, 0, -1], [0, 0, 0, 1, 0, -1], [1, 0, 0, 0, 0, -1], [1, 0, 0, 0, 0, -1], [1, 0, 0, 0, -1, 0], [1, 0, 0, 1, -1, -1], [1, 0, 0, 0, 0, -1], [1, 0, 0, 0, 0, -1], [1, 1, 0, 0, -1, -1], [0, 0, 0, 0, 1, -1], [0, 0, 1, 0, 0, -1], [0, 1, 0, 0, 0, -1], [0, 1, 0, 0, 0, -1], [0, 0, 0, 0, 0, 0], [1, 0, 0, 0, 0, -1], [1, 0, 0, 0, -1, 0], [1, 0, 0, 0, -1, 0], [1, 0, 1, 0, -1, -1], [1, 1, 0, 0, -1, -1], [1, 1, 0, 0, -1, -1], [0, 0, 0, 1, 0, -1], [1, 0, 0, 0, 0, -1], [1, 0, 0, 0, 0, -1], [1, 0, 0, 0, 0, -1], [1, 0, 0, 0, -1, 0], [1, 0, 0, 1, -1, -1], [1, 1, 0, 0, -1, -1], [1, 0, 0, 0, -1, 0], [2, 0, 0, 0, -1, -1], [1, 1, 0, 0, -1, -1]], array([[ 0,  0,  1,  1,  1,  0],\n",
      "       [ 0,  1,  0,  1,  1,  0],\n",
      "       [ 0,  1,  0,  2,  0,  0],\n",
      "       [ 0,  1,  1,  1,  0,  0],\n",
      "       [ 0,  2,  0,  1,  0,  0],\n",
      "       [ 1,  0,  0,  1,  1,  0],\n",
      "       [ 1,  0,  0,  2,  0,  0],\n",
      "       [ 1,  0,  1,  0,  1,  0],\n",
      "       [ 1,  0,  1,  1,  0,  0],\n",
      "       [ 1,  0,  1,  1,  1, -1],\n",
      "       [ 1,  1,  0,  0,  1,  0],\n",
      "       [ 1,  1,  0,  1,  0,  0],\n",
      "       [ 1,  1,  0,  1,  1, -1],\n",
      "       [ 1,  1,  0,  2, -1,  0],\n",
      "       [ 1,  1,  0,  2,  0, -1],\n",
      "       [ 1,  1,  1,  0,  0,  0],\n",
      "       [ 1,  1,  1,  0,  1, -1],\n",
      "       [ 1,  1,  1,  1, -1,  0],\n",
      "       [ 1,  1,  1,  1,  0, -1],\n",
      "       [ 1,  2,  0,  0,  0,  0],\n",
      "       [ 1,  2,  0,  0,  1, -1],\n",
      "       [ 1,  2,  0,  1, -1,  0],\n",
      "       [ 1,  2,  0,  1,  0, -1],\n",
      "       [ 2,  0,  0,  0,  1,  0],\n",
      "       [ 2,  0,  0,  1,  0,  0],\n",
      "       [ 2,  0,  0,  1,  1, -1],\n",
      "       [ 2,  0,  0,  2,  0, -1],\n",
      "       [ 2,  0,  1,  0,  0,  0],\n",
      "       [ 2,  0,  1,  0,  1, -1],\n",
      "       [ 2,  0,  1,  1,  0, -1],\n",
      "       [ 2,  1,  0,  0,  0,  0],\n",
      "       [ 2,  1,  0,  0,  1, -1],\n",
      "       [ 2,  1,  0,  1, -1,  0],\n",
      "       [ 2,  1,  0,  1,  0, -1],\n",
      "       [ 2,  1,  1,  0, -1,  0],\n",
      "       [ 2,  1,  1,  0,  0, -1]], dtype=int32), [(Graph on 6 vertices, [0, 0, 0, 0, 0, 0]), (Graph on 6 vertices, [0, 0, 0, 0, 0, 0]), (Graph on 6 vertices, [0, 0, 0, 0, 0, 0]), (Graph on 6 vertices, [0, 0, 0, 0, 0, 0]), (Graph on 6 vertices, [0, 0, 0, 1, 0, -1]), (Graph on 6 vertices, [0, 0, 0, 1, 0, -1]), (Graph on 6 vertices, [0, 0, 0, 1, 0, -1]), (Graph on 6 vertices, [0, 0, 0, 1, 0, -1]), (Graph on 6 vertices, [1, 0, 0, 0, 0, -1]), (Graph on 6 vertices, [1, 0, 0, 0, 0, -1]), (Graph on 6 vertices, [1, 0, 0, 0, -1, 0]), (Graph on 6 vertices, [1, 0, 0, 1, -1, -1]), (Graph on 6 vertices, [1, 0, 0, 0, 0, -1]), (Graph on 6 vertices, [1, 0, 0, 0, 0, -1]), (Graph on 6 vertices, [1, 1, 0, 0, -1, -1]), (Graph on 6 vertices, [0, 0, 0, 0, 1, -1]), (Graph on 6 vertices, [0, 0, 1, 0, 0, -1]), (Graph on 6 vertices, [0, 1, 0, 0, 0, -1]), (Graph on 6 vertices, [0, 1, 0, 0, 0, -1]), (Graph on 6 vertices, [0, 0, 0, 0, 0, 0]), (Graph on 6 vertices, [1, 0, 0, 0, 0, -1]), (Graph on 6 vertices, [1, 0, 0, 0, -1, 0]), (Graph on 6 vertices, [1, 0, 0, 0, -1, 0]), (Graph on 6 vertices, [1, 0, 1, 0, -1, -1]), (Graph on 6 vertices, [1, 1, 0, 0, -1, -1]), (Graph on 6 vertices, [1, 1, 0, 0, -1, -1]), (Graph on 6 vertices, [0, 0, 0, 1, 0, -1]), (Graph on 6 vertices, [1, 0, 0, 0, 0, -1]), (Graph on 6 vertices, [1, 0, 0, 0, 0, -1]), (Graph on 6 vertices, [1, 0, 0, 0, 0, -1]), (Graph on 6 vertices, [1, 0, 0, 0, -1, 0]), (Graph on 6 vertices, [1, 0, 0, 1, -1, -1]), (Graph on 6 vertices, [1, 1, 0, 0, -1, -1]), (Graph on 6 vertices, [1, 0, 0, 0, -1, 0]), (Graph on 6 vertices, [2, 0, 0, 0, -1, -1]), (Graph on 6 vertices, [1, 1, 0, 0, -1, -1])], [(Multi-graph on 6 vertices, (1, 4, 8, 7), Multi-graph on 6 vertices), (Multi-graph on 6 vertices, (7, 5, 6, 4), Multi-graph on 6 vertices), (Multi-graph on 6 vertices, (1, 3, 7, 2), Multi-graph on 6 vertices), (Multi-graph on 6 vertices, (1, 8, 5, 6), Multi-graph on 6 vertices), (Multi-graph on 6 vertices, (2, 4, 3, 8), Multi-graph on 6 vertices), (Multi-graph on 6 vertices, (1, 4, 3, 5, 6, 2), Multi-graph on 6 vertices), (Multi-graph on 6 vertices, (7, 5, 4, 6), Multi-graph on 6 vertices), (Multi-graph on 6 vertices, (2, 8, 4, 3), Multi-graph on 6 vertices), (Multi-graph on 6 vertices, (7, 4, 5, 6), Multi-graph on 6 vertices), (Multi-graph on 6 vertices, (2, 8, 4, 3), Multi-graph on 6 vertices), (Multi-graph on 6 vertices, (1, 6, 8, 5), Multi-graph on 6 vertices), (Multi-graph on 6 vertices, (1, 3, 2, 7), Multi-graph on 6 vertices), (Multi-graph on 6 vertices, (1, 7, 3, 2), Multi-graph on 6 vertices), (Multi-graph on 6 vertices, (1, 8, 5, 6), Multi-graph on 6 vertices), (Multi-graph on 6 vertices, (7, 8, 5, 2, 3, 6), Multi-graph on 6 vertices), (Multi-graph on 6 vertices, (1, 4, 7, 8), Multi-graph on 6 vertices), (Multi-graph on 6 vertices, (7, 4, 5, 6), Multi-graph on 6 vertices), (Multi-graph on 6 vertices, (1, 5, 6, 8), Multi-graph on 6 vertices), (Multi-graph on 6 vertices, (7, 5, 4, 6), Multi-graph on 6 vertices), (Multi-graph on 6 vertices, (1, 6, 8, 5), Multi-graph on 6 vertices), (Multi-graph on 6 vertices, (1, 8, 7, 4), Multi-graph on 6 vertices), (Multi-graph on 6 vertices, (1, 3, 7, 2), Multi-graph on 6 vertices), (Multi-graph on 6 vertices, (2, 4, 3, 8), Multi-graph on 6 vertices), (Multi-graph on 6 vertices, (2, 4, 8, 3), Multi-graph on 6 vertices), (Multi-graph on 6 vertices, (1, 7, 3, 2), Multi-graph on 6 vertices), (Multi-graph on 6 vertices, (1, 7, 8, 4), Multi-graph on 6 vertices)])\n",
      "Start= 0 ---- 262 ----terminator: False\n",
      "dim_tree_poly: 5\n",
      "Start= 0 ---- 263 ----terminator: False\n",
      "dim_tree_poly: 5\n",
      "Start= 0 ---- 264 ----terminator: False\n",
      "dim_tree_poly: 5\n",
      "Start= 0 ---- 265 ----terminator: False\n",
      "dim_tree_poly: 5\n",
      "Start= 0 ---- 266 ----terminator: False\n",
      "dim_tree_poly: 5\n",
      "Start= 0 ---- 267 ----terminator: False\n",
      "dim_tree_poly: 5\n",
      "Start= 0 ---- 268 ----terminator: False\n",
      "dim_tree_poly: 5\n",
      "Start= 0 ---- 269 ----terminator: False\n",
      "dim_tree_poly: 5\n",
      "Start= 0 ---- 270 ----terminator: False\n",
      "dim_tree_poly: 5\n",
      "Start= 0 ---- 271 ----terminator: False\n",
      "dim_tree_poly: 5\n",
      "Start= 0 ---- 272 ----terminator: False\n",
      "dim_tree_poly: 5\n",
      "Start= 0 ---- 273 ----terminator: False\n",
      "dim_tree_poly: 5\n",
      "Start= 0 ---- 274 ----terminator: False\n",
      "dim_tree_poly: 5\n",
      "Start= 0 ---- 275 ----terminator: False\n",
      "dim_tree_poly: 5\n",
      "Start= 0 ---- 276 ----terminator: False\n",
      "dim_tree_poly: 5\n",
      "Start= 0 ---- 277 ----terminator: False\n",
      "dim_tree_poly: 5\n",
      "Start= 0 ---- 278 ----terminator: False\n",
      "dim_tree_poly: 5\n",
      "Start= 0 ---- 279 ----terminator: False\n",
      "dim_tree_poly: 5\n",
      "Start= 0 ---- 280 ----terminator: False\n",
      "dim_tree_poly: 5\n",
      "Start= 0 ---- 281 ----terminator: False\n",
      "dim_tree_poly: 5\n",
      "Start= 0 ---- 282 ----terminator: False\n",
      "dim_tree_poly: 5\n",
      "Start= 0 ---- 283 ----terminator: False\n",
      "dim_tree_poly: 5\n",
      "Start= 0 ---- 284 ----terminator: False\n",
      "dim_tree_poly: 5\n",
      "Start= 0 ---- 285 ----terminator: False\n",
      "dim_tree_poly: 5\n",
      "Start= 0 ---- 286 ----terminator: False\n",
      "dim_tree_poly: 2\n",
      "286: WSC not phi: \n",
      " ([[0, 0, 0, 0, 0, 0], [0, 0, 0, 1, -1, 0], [0, 0, 0, 0, 0, 0], [0, 1, 0, 0, -1, 0], [0, 0, 0, 1, 0, -1], [0, 0, 0, 1, 0, -1], [0, 0, 0, 1, 0, -1], [0, 0, 0, 1, 0, -1], [1, 0, 0, 0, 0, -1], [1, 0, 0, 0, 0, -1], [0, 0, 0, 1, -1, 0], [1, 0, 0, 1, -1, -1], [1, 0, 0, 0, 0, -1], [1, 0, 0, 0, 0, -1], [1, 1, 0, 0, -1, -1], [0, 0, 0, 0, 1, -1], [0, 0, 1, 0, 0, -1], [0, 1, 0, 0, 0, -1], [0, 1, 0, 0, 0, -1], [0, 0, 0, 0, 0, 0], [1, 0, 0, 0, 0, -1], [1, 0, 0, 0, -1, 0], [0, 1, 0, 0, -1, 0], [1, 0, 1, 0, -1, -1], [1, 1, 0, 0, -1, -1], [1, 1, 0, 0, -1, -1], [0, 0, 0, 1, 0, -1], [1, 0, 0, 0, 0, -1], [1, 0, 0, 0, 0, -1], [1, 0, 0, 0, 0, -1], [1, 0, 0, 0, -1, 0], [1, 0, 0, 1, -1, -1], [1, 1, 0, 0, -1, -1], [1, 0, 0, 0, -1, 0], [2, 0, 0, 0, -1, -1], [1, 1, 0, 0, -1, -1]], array([[ 0,  0,  1,  1,  1,  0],\n",
      "       [ 0,  1,  0,  1,  1,  0],\n",
      "       [ 0,  1,  0,  2,  0,  0],\n",
      "       [ 0,  1,  1,  1,  0,  0],\n",
      "       [ 0,  2,  0,  1,  0,  0],\n",
      "       [ 0,  2,  0,  2, -1,  0],\n",
      "       [ 1,  0,  0,  1,  1,  0],\n",
      "       [ 1,  0,  0,  2,  0,  0],\n",
      "       [ 1,  0,  1,  0,  1,  0],\n",
      "       [ 1,  0,  1,  1,  0,  0],\n",
      "       [ 1,  0,  1,  1,  1, -1],\n",
      "       [ 1,  1,  0,  0,  1,  0],\n",
      "       [ 1,  1,  0,  1,  0,  0],\n",
      "       [ 1,  1,  0,  1,  1, -1],\n",
      "       [ 1,  1,  0,  2, -1,  0],\n",
      "       [ 1,  1,  0,  2,  0, -1],\n",
      "       [ 1,  1,  1,  0,  0,  0],\n",
      "       [ 1,  1,  1,  0,  1, -1],\n",
      "       [ 1,  1,  1,  1, -1,  0],\n",
      "       [ 1,  1,  1,  1,  0, -1],\n",
      "       [ 1,  2,  0,  0,  0,  0],\n",
      "       [ 1,  2,  0,  0,  1, -1],\n",
      "       [ 1,  2,  0,  1, -1,  0],\n",
      "       [ 1,  2,  0,  1,  0, -1],\n",
      "       [ 2,  0,  0,  1,  0,  0],\n",
      "       [ 2,  0,  0,  1,  1, -1],\n",
      "       [ 2,  0,  0,  2,  0, -1],\n",
      "       [ 2,  0,  1,  0,  0,  0],\n",
      "       [ 2,  0,  1,  0,  1, -1],\n",
      "       [ 2,  0,  1,  1,  0, -1],\n",
      "       [ 2,  1,  0,  0,  0,  0],\n",
      "       [ 2,  1,  0,  0,  1, -1],\n",
      "       [ 2,  1,  0,  1, -1,  0],\n",
      "       [ 2,  1,  0,  1,  0, -1],\n",
      "       [ 2,  1,  1,  0, -1,  0],\n",
      "       [ 2,  1,  1,  0,  0, -1]], dtype=int32), [(Graph on 6 vertices, [0, 0, 0, 0, 0, 0]), (Graph on 6 vertices, [0, 0, 0, 1, -1, 0]), (Graph on 6 vertices, [0, 0, 0, 0, 0, 0]), (Graph on 6 vertices, [0, 1, 0, 0, -1, 0]), (Graph on 6 vertices, [0, 0, 0, 1, 0, -1]), (Graph on 6 vertices, [0, 0, 0, 1, 0, -1]), (Graph on 6 vertices, [0, 0, 0, 1, 0, -1]), (Graph on 6 vertices, [0, 0, 0, 1, 0, -1]), (Graph on 6 vertices, [1, 0, 0, 0, 0, -1]), (Graph on 6 vertices, [1, 0, 0, 0, 0, -1]), (Graph on 6 vertices, [0, 0, 0, 1, -1, 0]), (Graph on 6 vertices, [1, 0, 0, 1, -1, -1]), (Graph on 6 vertices, [1, 0, 0, 0, 0, -1]), (Graph on 6 vertices, [1, 0, 0, 0, 0, -1]), (Graph on 6 vertices, [1, 1, 0, 0, -1, -1]), (Graph on 6 vertices, [0, 0, 0, 0, 1, -1]), (Graph on 6 vertices, [0, 0, 1, 0, 0, -1]), (Graph on 6 vertices, [0, 1, 0, 0, 0, -1]), (Graph on 6 vertices, [0, 1, 0, 0, 0, -1]), (Graph on 6 vertices, [0, 0, 0, 0, 0, 0]), (Graph on 6 vertices, [1, 0, 0, 0, 0, -1]), (Graph on 6 vertices, [1, 0, 0, 0, -1, 0]), (Graph on 6 vertices, [0, 1, 0, 0, -1, 0]), (Graph on 6 vertices, [1, 0, 1, 0, -1, -1]), (Graph on 6 vertices, [1, 1, 0, 0, -1, -1]), (Graph on 6 vertices, [1, 1, 0, 0, -1, -1]), (Graph on 6 vertices, [0, 0, 0, 1, 0, -1]), (Graph on 6 vertices, [1, 0, 0, 0, 0, -1]), (Graph on 6 vertices, [1, 0, 0, 0, 0, -1]), (Graph on 6 vertices, [1, 0, 0, 0, 0, -1]), (Graph on 6 vertices, [1, 0, 0, 0, -1, 0]), (Graph on 6 vertices, [1, 0, 0, 1, -1, -1]), (Graph on 6 vertices, [1, 1, 0, 0, -1, -1]), (Graph on 6 vertices, [1, 0, 0, 0, -1, 0]), (Graph on 6 vertices, [2, 0, 0, 0, -1, -1]), (Graph on 6 vertices, [1, 1, 0, 0, -1, -1])], [(Multi-graph on 6 vertices, (1, 4, 8, 7), Multi-graph on 6 vertices), (Multi-graph on 6 vertices, (7, 5, 6, 4), Multi-graph on 6 vertices), (Multi-graph on 6 vertices, (1, 3, 7, 2), Multi-graph on 6 vertices), (Multi-graph on 6 vertices, (1, 8, 5, 6), Multi-graph on 6 vertices), (Multi-graph on 6 vertices, (2, 4, 3, 8), Multi-graph on 6 vertices), (Multi-graph on 6 vertices, (1, 3, 5, 6, 2, 4), Multi-graph on 6 vertices), (Multi-graph on 6 vertices, (7, 5, 4, 6), Multi-graph on 6 vertices), (Multi-graph on 6 vertices, (2, 8, 4, 3), Multi-graph on 6 vertices), (Multi-graph on 6 vertices, (7, 5, 6, 4), Multi-graph on 6 vertices), (Multi-graph on 6 vertices, (2, 4, 8, 3), Multi-graph on 6 vertices), (Multi-graph on 6 vertices, (1, 6, 8, 5), Multi-graph on 6 vertices), (Multi-graph on 6 vertices, (1, 3, 2, 7), Multi-graph on 6 vertices), (Multi-graph on 6 vertices, (1, 3, 2, 7), Multi-graph on 6 vertices), (Multi-graph on 6 vertices, (1, 5, 6, 8), Multi-graph on 6 vertices), (Multi-graph on 6 vertices, (7, 5, 2, 3, 6, 8), Multi-graph on 6 vertices), (Multi-graph on 6 vertices, (1, 4, 7, 8), Multi-graph on 6 vertices), (Multi-graph on 6 vertices, (7, 4, 5, 6), Multi-graph on 6 vertices), (Multi-graph on 6 vertices, (1, 5, 6, 8), Multi-graph on 6 vertices), (Multi-graph on 6 vertices, (7, 5, 4, 6), Multi-graph on 6 vertices), (Multi-graph on 6 vertices, (1, 6, 8, 5), Multi-graph on 6 vertices), (Multi-graph on 6 vertices, (1, 8, 7, 4), Multi-graph on 6 vertices), (Multi-graph on 6 vertices, (1, 3, 7, 2), Multi-graph on 6 vertices), (Multi-graph on 6 vertices, (2, 4, 3, 8), Multi-graph on 6 vertices), (Multi-graph on 6 vertices, (2, 4, 8, 3), Multi-graph on 6 vertices), (Multi-graph on 6 vertices, (1, 7, 3, 2), Multi-graph on 6 vertices), (Multi-graph on 6 vertices, (1, 7, 8, 4), Multi-graph on 6 vertices)])\n",
      "Start= 0 ---- 287 ----terminator: False\n",
      "dim_tree_poly: 5\n",
      "Start= 0 ---- 288 ----terminator: False\n",
      "dim_tree_poly: 5\n",
      "Start= 0 ---- 289 ----terminator: False\n",
      "dim_tree_poly: 5\n",
      "Start= 0 ---- 290 ----terminator: False\n",
      "dim_tree_poly: 5\n",
      "Start= 0 ---- 291 ----terminator: False\n",
      "dim_tree_poly: 5\n",
      "Start= 0 ---- 292 ----terminator: False\n",
      "dim_tree_poly: 5\n",
      "Start= 0 ---- 293 ----terminator: False\n",
      "dim_tree_poly: 5\n",
      "Start= 0 ---- 294 ----terminator: False\n",
      "dim_tree_poly: 5\n",
      "Start= 0 ---- 295 ----terminator: False\n",
      "dim_tree_poly: 5\n",
      "Start= 0 ---- 296 ----terminator: False\n",
      "dim_tree_poly: 5\n",
      "Start= 0 ---- 297 ----terminator: False\n",
      "dim_tree_poly: 5\n",
      "Start= 0 ---- 298 ----terminator: False\n",
      "dim_tree_poly: 5\n",
      "Start= 0 ---- 299 ----terminator: False\n",
      "dim_tree_poly: 5\n",
      "Start= 0 ---- 300 ----terminator: False\n",
      "dim_tree_poly: 5\n",
      "Start= 0 ---- 301 ----terminator: False\n",
      "dim_tree_poly: 5\n",
      "Start= 0 ---- 302 ----terminator: False\n",
      "dim_tree_poly: 5\n",
      "Start= 0 ---- 303 ----terminator: False\n",
      "dim_tree_poly: 5\n",
      "Start= 0 ---- 304 ----terminator: False\n",
      "dim_tree_poly: 5\n",
      "Start= 0 ---- 305 ----terminator: False\n",
      "dim_tree_poly: 5\n",
      "Start= 0 ---- 306 ----terminator: False\n",
      "dim_tree_poly: 5\n",
      "Start= 0 ---- 307 ----terminator: False\n",
      "dim_tree_poly: 5\n",
      "Start= 0 ---- 308 ----terminator: False\n",
      "dim_tree_poly: 5\n",
      "Start= 0 ---- 309 ----terminator: False\n",
      "dim_tree_poly: 5\n",
      "Start= 0 ---- 310 ----terminator: False\n",
      "dim_tree_poly: 5\n",
      "Start= 0 ---- 311 ----terminator: False\n",
      "dim_tree_poly: 5\n",
      "Start= 0 ---- 312 ----terminator: False\n",
      "dim_tree_poly: 5\n",
      "Start= 0 ---- 313 ----terminator: False\n",
      "dim_tree_poly: 5\n",
      "Start= 0 ---- 314 ----terminator: False\n",
      "dim_tree_poly: 5\n",
      "Start= 0 ---- 315 ----terminator: False\n",
      "dim_tree_poly: 5\n",
      "Start= 0 ---- 316 ----terminator: False\n",
      "dim_tree_poly: 2\n",
      "316: WSC not phi: \n",
      " ([[0, 0, 0, 0, 0, 0], [0, 0, 1, -1, 0, 0], [0, 1, 0, -1, 0, 0], [0, 0, 1, -1, 0, 0], [0, 0, 0, 1, 0, -1], [0, 0, 1, 0, 0, -1], [0, 1, 0, 0, 0, -1], [0, 0, 1, 0, 0, -1], [1, 0, 0, 0, 0, -1], [1, 0, 0, 0, 0, -1], [1, 0, 1, -1, -1, 0], [1, 0, 1, 0, -1, -1], [1, 1, 0, -1, 0, -1], [1, 1, 0, -1, 0, -1], [1, 1, 1, -1, -1, -1], [0, 1, 0, 0, 0, -1], [0, 1, 0, 0, 0, -1], [0, 1, 0, -1, 1, -1], [0, 1, 1, -1, 0, -1], [1, 0, 0, 0, -1, 0], [1, 1, 0, 0, -1, -1], [0, 1, 0, -1, 0, 0], [1, 0, 1, -1, -1, 0], [1, 1, 0, 0, -1, -1], [1, 1, 0, -1, 0, -1], [1, 1, 1, -1, -1, -1], [1, 0, 0, 0, 0, -1], [1, 0, 0, 0, 0, -1], [0, 1, 0, 0, 0, -1], [1, 1, 0, -1, 0, -1], [1, 0, 0, 0, -1, 0], [2, 0, 0, 0, -1, -1], [1, 1, 0, 0, -1, -1], [1, 1, 0, -1, -1, 0], [1, 1, 0, 0, -1, -1], [1, 2, 0, -1, -1, -1]], array([[ 0,  1,  0,  1,  1,  0],\n",
      "       [ 0,  1,  1,  0,  1,  0],\n",
      "       [ 0,  1,  1,  1,  0,  0],\n",
      "       [ 0,  2,  0,  1,  0,  0],\n",
      "       [ 0,  2,  1,  0,  0,  0],\n",
      "       [ 1,  0,  1,  0,  1,  0],\n",
      "       [ 1,  0,  1,  1,  0,  0],\n",
      "       [ 1,  1,  0,  0,  1,  0],\n",
      "       [ 1,  1,  0,  1,  0,  0],\n",
      "       [ 1,  1,  0,  1,  1, -1],\n",
      "       [ 1,  1,  1, -1,  1,  0],\n",
      "       [ 1,  1,  1,  0,  0,  0],\n",
      "       [ 1,  1,  1,  0,  1, -1],\n",
      "       [ 1,  1,  1,  1, -1,  0],\n",
      "       [ 1,  1,  1,  1,  0, -1],\n",
      "       [ 1,  2,  0,  0,  0,  0],\n",
      "       [ 1,  2,  0,  0,  1, -1],\n",
      "       [ 1,  2,  0,  1, -1,  0],\n",
      "       [ 1,  2,  0,  1,  0, -1],\n",
      "       [ 1,  2,  1, -1,  0,  0],\n",
      "       [ 1,  2,  1, -1,  1, -1],\n",
      "       [ 1,  2,  1,  0, -1,  0],\n",
      "       [ 1,  2,  1,  0,  0, -1],\n",
      "       [ 2,  0,  1, -1,  1,  0],\n",
      "       [ 2,  0,  1,  0,  0,  0],\n",
      "       [ 2,  0,  1,  0,  1, -1],\n",
      "       [ 2,  0,  1,  1,  0, -1],\n",
      "       [ 2,  1,  0,  0,  0,  0],\n",
      "       [ 2,  1,  0,  0,  1, -1],\n",
      "       [ 2,  1,  0,  1,  0, -1],\n",
      "       [ 2,  1,  1, -1,  0,  0],\n",
      "       [ 2,  1,  1, -1,  1, -1],\n",
      "       [ 2,  1,  1,  0, -1,  0],\n",
      "       [ 2,  1,  1,  0,  0, -1],\n",
      "       [ 2,  2,  0,  0, -1,  0],\n",
      "       [ 2,  2,  0,  0,  0, -1]], dtype=int32), [(Graph on 6 vertices, [0, 0, 0, 0, 0, 0]), (Graph on 6 vertices, [0, 0, 1, -1, 0, 0]), (Graph on 6 vertices, [0, 1, 0, -1, 0, 0]), (Graph on 6 vertices, [0, 0, 1, -1, 0, 0]), (Graph on 6 vertices, [0, 0, 0, 1, 0, -1]), (Graph on 6 vertices, [0, 0, 1, 0, 0, -1]), (Graph on 6 vertices, [0, 1, 0, 0, 0, -1]), (Graph on 6 vertices, [0, 0, 1, 0, 0, -1]), (Graph on 6 vertices, [1, 0, 0, 0, 0, -1]), (Graph on 6 vertices, [1, 0, 0, 0, 0, -1]), (Graph on 6 vertices, [1, 0, 1, -1, -1, 0]), (Graph on 6 vertices, [1, 0, 1, 0, -1, -1]), (Graph on 6 vertices, [1, 1, 0, -1, 0, -1]), (Graph on 6 vertices, [1, 1, 0, -1, 0, -1]), (Graph on 6 vertices, [1, 1, 1, -1, -1, -1]), (Graph on 6 vertices, [0, 1, 0, 0, 0, -1]), (Graph on 6 vertices, [0, 1, 0, 0, 0, -1]), (Graph on 6 vertices, [0, 1, 0, -1, 1, -1]), (Graph on 6 vertices, [0, 1, 1, -1, 0, -1]), (Graph on 6 vertices, [1, 0, 0, 0, -1, 0]), (Graph on 6 vertices, [1, 1, 0, 0, -1, -1]), (Graph on 6 vertices, [0, 1, 0, -1, 0, 0]), (Graph on 6 vertices, [1, 0, 1, -1, -1, 0]), (Graph on 6 vertices, [1, 1, 0, 0, -1, -1]), (Graph on 6 vertices, [1, 1, 0, -1, 0, -1]), (Graph on 6 vertices, [1, 1, 1, -1, -1, -1]), (Graph on 6 vertices, [1, 0, 0, 0, 0, -1]), (Graph on 6 vertices, [1, 0, 0, 0, 0, -1]), (Graph on 6 vertices, [0, 1, 0, 0, 0, -1]), (Graph on 6 vertices, [1, 1, 0, -1, 0, -1]), (Graph on 6 vertices, [1, 0, 0, 0, -1, 0]), (Graph on 6 vertices, [2, 0, 0, 0, -1, -1]), (Graph on 6 vertices, [1, 1, 0, 0, -1, -1]), (Graph on 6 vertices, [1, 1, 0, -1, -1, 0]), (Graph on 6 vertices, [1, 1, 0, 0, -1, -1]), (Graph on 6 vertices, [1, 2, 0, -1, -1, -1])], [(Multi-graph on 6 vertices, (1, 4, 7, 8), Multi-graph on 6 vertices), (Multi-graph on 6 vertices, (7, 4, 5, 6), Multi-graph on 6 vertices), (Multi-graph on 6 vertices, (1, 2, 7, 3), Multi-graph on 6 vertices), (Multi-graph on 6 vertices, (1, 5, 6, 8), Multi-graph on 6 vertices), (Multi-graph on 6 vertices, (2, 8, 3, 4), Multi-graph on 6 vertices), (Multi-graph on 6 vertices, (1, 4, 2, 5, 6, 3), Multi-graph on 6 vertices), (Multi-graph on 6 vertices, (7, 5, 4, 6), Multi-graph on 6 vertices), (Multi-graph on 6 vertices, (2, 3, 8, 4), Multi-graph on 6 vertices), (Multi-graph on 6 vertices, (7, 4, 5, 6), Multi-graph on 6 vertices), (Multi-graph on 6 vertices, (2, 3, 8, 4), Multi-graph on 6 vertices), (Multi-graph on 6 vertices, (1, 6, 8, 5), Multi-graph on 6 vertices), (Multi-graph on 6 vertices, (1, 2, 3, 7), Multi-graph on 6 vertices), (Multi-graph on 6 vertices, (1, 7, 2, 3), Multi-graph on 6 vertices), (Multi-graph on 6 vertices, (1, 8, 5, 6), Multi-graph on 6 vertices), (Multi-graph on 6 vertices, (7, 8, 5, 3, 2, 6), Multi-graph on 6 vertices), (Multi-graph on 6 vertices, (1, 4, 8, 7), Multi-graph on 6 vertices), (Multi-graph on 6 vertices, (7, 5, 6, 4), Multi-graph on 6 vertices), (Multi-graph on 6 vertices, (1, 8, 5, 6), Multi-graph on 6 vertices), (Multi-graph on 6 vertices, (7, 5, 4, 6), Multi-graph on 6 vertices), (Multi-graph on 6 vertices, (1, 6, 8, 5), Multi-graph on 6 vertices), (Multi-graph on 6 vertices, (1, 7, 8, 4), Multi-graph on 6 vertices), (Multi-graph on 6 vertices, (1, 2, 7, 3), Multi-graph on 6 vertices), (Multi-graph on 6 vertices, (2, 8, 3, 4), Multi-graph on 6 vertices), (Multi-graph on 6 vertices, (2, 3, 4, 8), Multi-graph on 6 vertices), (Multi-graph on 6 vertices, (1, 7, 2, 3), Multi-graph on 6 vertices), (Multi-graph on 6 vertices, (1, 8, 7, 4), Multi-graph on 6 vertices)])\n",
      "Start= 0 ---- 317 ----terminator: False\n",
      "dim_tree_poly: 5\n",
      "Start= 0 ---- 318 ----terminator: False\n",
      "dim_tree_poly: 5\n",
      "Start= 0 ---- 319 ----terminator: False\n",
      "dim_tree_poly: 5\n",
      "Start= 0 ---- 320 ----terminator: False\n",
      "dim_tree_poly: 5\n",
      "Start= 0 ---- 321 ----terminator: False\n",
      "dim_tree_poly: 5\n",
      "Start= 0 ---- 322 ----terminator: False\n",
      "dim_tree_poly: 5\n",
      "Start= 0 ---- 323 ----terminator: False\n",
      "dim_tree_poly: 5\n",
      "Start= 0 ---- 324 ----terminator: False\n",
      "dim_tree_poly: 5\n",
      "Start= 0 ---- 325 ----terminator: False\n",
      "dim_tree_poly: 5\n",
      "Start= 0 ---- 326 ----terminator: False\n",
      "dim_tree_poly: 5\n",
      "Start= 0 ---- 327 ----terminator: False\n",
      "dim_tree_poly: 5\n",
      "Start= 0 ---- 328 ----terminator: False\n",
      "dim_tree_poly: 5\n",
      "Start= 0 ---- 329 ----terminator: False\n",
      "dim_tree_poly: 5\n",
      "Start= 0 ---- 330 ----terminator: False\n",
      "dim_tree_poly: 2\n",
      "330: WSC not phi: \n",
      " ([[0, 0, 0, 0, 0, 0], [0, 0, 1, 0, -1, 0], [0, 1, 0, -1, 0, 0], [0, 1, 1, -1, -1, 0], [0, 0, 0, 1, 0, -1], [0, 0, 1, 0, 0, -1], [0, 1, 0, 0, 0, -1], [0, 0, 1, 0, 0, -1], [1, 0, 0, 0, 0, -1], [1, 0, 0, 0, 0, -1], [0, 0, 1, 0, -1, 0], [1, 0, 1, 0, -1, -1], [1, 1, 0, -1, 0, -1], [1, 1, 0, -1, 0, -1], [1, 1, 1, -1, -1, -1], [0, 1, 0, 0, 0, -1], [0, 1, 0, 0, 0, -1], [0, 1, 0, -1, 1, -1], [0, 1, 1, -1, 0, -1], [1, 0, 0, 0, -1, 0], [1, 1, 0, 0, -1, -1], [0, 1, 0, -1, 0, 0], [0, 1, 1, -1, -1, 0], [1, 1, 0, 0, -1, -1], [1, 1, 0, -1, 0, -1], [1, 1, 1, -1, -1, -1], [1, 0, 0, 0, 0, -1], [1, 0, 0, 0, 0, -1], [0, 1, 0, 0, 0, -1], [1, 1, 0, -1, 0, -1], [1, 0, 0, 0, -1, 0], [2, 0, 0, 0, -1, -1], [1, 1, 0, 0, -1, -1], [1, 1, 0, -1, -1, 0], [1, 1, 0, 0, -1, -1], [1, 2, 0, -1, -1, -1]], array([[ 0,  1,  0,  1,  1,  0],\n",
      "       [ 0,  1,  1,  0,  1,  0],\n",
      "       [ 0,  1,  1,  1,  0,  0],\n",
      "       [ 0,  2,  0,  1,  0,  0],\n",
      "       [ 0,  2,  1,  0,  0,  0],\n",
      "       [ 0,  2,  1,  1, -1,  0],\n",
      "       [ 1,  0,  1,  0,  1,  0],\n",
      "       [ 1,  0,  1,  1,  0,  0],\n",
      "       [ 1,  1,  0,  0,  1,  0],\n",
      "       [ 1,  1,  0,  1,  0,  0],\n",
      "       [ 1,  1,  0,  1,  1, -1],\n",
      "       [ 1,  1,  1, -1,  1,  0],\n",
      "       [ 1,  1,  1,  0,  0,  0],\n",
      "       [ 1,  1,  1,  0,  1, -1],\n",
      "       [ 1,  1,  1,  1, -1,  0],\n",
      "       [ 1,  1,  1,  1,  0, -1],\n",
      "       [ 1,  2,  0,  0,  0,  0],\n",
      "       [ 1,  2,  0,  0,  1, -1],\n",
      "       [ 1,  2,  0,  1, -1,  0],\n",
      "       [ 1,  2,  0,  1,  0, -1],\n",
      "       [ 1,  2,  1, -1,  0,  0],\n",
      "       [ 1,  2,  1, -1,  1, -1],\n",
      "       [ 1,  2,  1,  0, -1,  0],\n",
      "       [ 1,  2,  1,  0,  0, -1],\n",
      "       [ 2,  0,  1,  0,  0,  0],\n",
      "       [ 2,  0,  1,  0,  1, -1],\n",
      "       [ 2,  0,  1,  1,  0, -1],\n",
      "       [ 2,  1,  0,  0,  0,  0],\n",
      "       [ 2,  1,  0,  0,  1, -1],\n",
      "       [ 2,  1,  0,  1,  0, -1],\n",
      "       [ 2,  1,  1, -1,  0,  0],\n",
      "       [ 2,  1,  1, -1,  1, -1],\n",
      "       [ 2,  1,  1,  0, -1,  0],\n",
      "       [ 2,  1,  1,  0,  0, -1],\n",
      "       [ 2,  2,  0,  0, -1,  0],\n",
      "       [ 2,  2,  0,  0,  0, -1]], dtype=int32), [(Graph on 6 vertices, [0, 0, 0, 0, 0, 0]), (Graph on 6 vertices, [0, 0, 1, 0, -1, 0]), (Graph on 6 vertices, [0, 1, 0, -1, 0, 0]), (Graph on 6 vertices, [0, 1, 1, -1, -1, 0]), (Graph on 6 vertices, [0, 0, 0, 1, 0, -1]), (Graph on 6 vertices, [0, 0, 1, 0, 0, -1]), (Graph on 6 vertices, [0, 1, 0, 0, 0, -1]), (Graph on 6 vertices, [0, 0, 1, 0, 0, -1]), (Graph on 6 vertices, [1, 0, 0, 0, 0, -1]), (Graph on 6 vertices, [1, 0, 0, 0, 0, -1]), (Graph on 6 vertices, [0, 0, 1, 0, -1, 0]), (Graph on 6 vertices, [1, 0, 1, 0, -1, -1]), (Graph on 6 vertices, [1, 1, 0, -1, 0, -1]), (Graph on 6 vertices, [1, 1, 0, -1, 0, -1]), (Graph on 6 vertices, [1, 1, 1, -1, -1, -1]), (Graph on 6 vertices, [0, 1, 0, 0, 0, -1]), (Graph on 6 vertices, [0, 1, 0, 0, 0, -1]), (Graph on 6 vertices, [0, 1, 0, -1, 1, -1]), (Graph on 6 vertices, [0, 1, 1, -1, 0, -1]), (Graph on 6 vertices, [1, 0, 0, 0, -1, 0]), (Graph on 6 vertices, [1, 1, 0, 0, -1, -1]), (Graph on 6 vertices, [0, 1, 0, -1, 0, 0]), (Graph on 6 vertices, [0, 1, 1, -1, -1, 0]), (Graph on 6 vertices, [1, 1, 0, 0, -1, -1]), (Graph on 6 vertices, [1, 1, 0, -1, 0, -1]), (Graph on 6 vertices, [1, 1, 1, -1, -1, -1]), (Graph on 6 vertices, [1, 0, 0, 0, 0, -1]), (Graph on 6 vertices, [1, 0, 0, 0, 0, -1]), (Graph on 6 vertices, [0, 1, 0, 0, 0, -1]), (Graph on 6 vertices, [1, 1, 0, -1, 0, -1]), (Graph on 6 vertices, [1, 0, 0, 0, -1, 0]), (Graph on 6 vertices, [2, 0, 0, 0, -1, -1]), (Graph on 6 vertices, [1, 1, 0, 0, -1, -1]), (Graph on 6 vertices, [1, 1, 0, -1, -1, 0]), (Graph on 6 vertices, [1, 1, 0, 0, -1, -1]), (Graph on 6 vertices, [1, 2, 0, -1, -1, -1])], [(Multi-graph on 6 vertices, (1, 4, 7, 8), Multi-graph on 6 vertices), (Multi-graph on 6 vertices, (7, 4, 5, 6), Multi-graph on 6 vertices), (Multi-graph on 6 vertices, (1, 2, 7, 3), Multi-graph on 6 vertices), (Multi-graph on 6 vertices, (1, 5, 6, 8), Multi-graph on 6 vertices), (Multi-graph on 6 vertices, (2, 8, 3, 4), Multi-graph on 6 vertices), (Multi-graph on 6 vertices, (1, 2, 5, 6, 3, 4), Multi-graph on 6 vertices), (Multi-graph on 6 vertices, (7, 5, 4, 6), Multi-graph on 6 vertices), (Multi-graph on 6 vertices, (2, 3, 8, 4), Multi-graph on 6 vertices), (Multi-graph on 6 vertices, (7, 5, 6, 4), Multi-graph on 6 vertices), (Multi-graph on 6 vertices, (2, 3, 4, 8), Multi-graph on 6 vertices), (Multi-graph on 6 vertices, (1, 6, 8, 5), Multi-graph on 6 vertices), (Multi-graph on 6 vertices, (1, 2, 3, 7), Multi-graph on 6 vertices), (Multi-graph on 6 vertices, (1, 2, 3, 7), Multi-graph on 6 vertices), (Multi-graph on 6 vertices, (1, 5, 6, 8), Multi-graph on 6 vertices), (Multi-graph on 6 vertices, (7, 5, 3, 2, 6, 8), Multi-graph on 6 vertices), (Multi-graph on 6 vertices, (1, 4, 8, 7), Multi-graph on 6 vertices), (Multi-graph on 6 vertices, (7, 5, 6, 4), Multi-graph on 6 vertices), (Multi-graph on 6 vertices, (1, 8, 5, 6), Multi-graph on 6 vertices), (Multi-graph on 6 vertices, (7, 5, 4, 6), Multi-graph on 6 vertices), (Multi-graph on 6 vertices, (1, 6, 8, 5), Multi-graph on 6 vertices), (Multi-graph on 6 vertices, (1, 7, 8, 4), Multi-graph on 6 vertices), (Multi-graph on 6 vertices, (1, 2, 7, 3), Multi-graph on 6 vertices), (Multi-graph on 6 vertices, (2, 8, 3, 4), Multi-graph on 6 vertices), (Multi-graph on 6 vertices, (2, 3, 4, 8), Multi-graph on 6 vertices), (Multi-graph on 6 vertices, (1, 7, 2, 3), Multi-graph on 6 vertices), (Multi-graph on 6 vertices, (1, 8, 7, 4), Multi-graph on 6 vertices)])\n",
      "Start= 0 ---- 331 ----terminator: False\n",
      "dim_tree_poly: 5\n",
      "Start= 0 ---- 332 ----terminator: False\n",
      "dim_tree_poly: 5\n",
      "Start= 0 ---- 333 ----terminator: False\n",
      "dim_tree_poly: 5\n",
      "Start= 0 ---- 334 ----terminator: False\n",
      "dim_tree_poly: 5\n",
      "Start= 0 ---- 335 ----terminator: False\n",
      "dim_tree_poly: 5\n",
      "Start= 0 ---- 336 ----terminator: False\n",
      "dim_tree_poly: 5\n",
      "Start= 0 ---- 337 ----terminator: False\n",
      "dim_tree_poly: 5\n",
      "Start= 0 ---- 338 ----terminator: False\n",
      "dim_tree_poly: 5\n",
      "Start= 0 ---- 339 ----terminator: False\n",
      "dim_tree_poly: 5\n",
      "Start= 0 ---- 340 ----terminator: False\n",
      "dim_tree_poly: 5\n",
      "Start= 0 ---- 341 ----terminator: False\n",
      "dim_tree_poly: 5\n",
      "Start= 0 ---- 342 ----terminator: False\n",
      "dim_tree_poly: 5\n",
      "Start= 0 ---- 343 ----terminator: False\n",
      "dim_tree_poly: 5\n",
      "Start= 0 ---- 344 ----terminator: False\n",
      "dim_tree_poly: 5\n",
      "Start= 0 ---- 345 ----terminator: False\n",
      "dim_tree_poly: 5\n",
      "Start= 0 ---- 346 ----terminator: False\n",
      "dim_tree_poly: 5\n",
      "Start= 0 ---- 347 ----terminator: False\n",
      "dim_tree_poly: 5\n",
      "Start= 0 ---- 348 ----terminator: False\n",
      "dim_tree_poly: 5\n",
      "Start= 0 ---- 349 ----terminator: False\n",
      "dim_tree_poly: 2\n",
      "349: WSC not phi: \n",
      " ([[0, 0, 0, 0, 0, 0], [0, 0, 0, 0, 0, 0], [0, 0, 0, 0, 0, 0], [0, 0, 0, 0, 0, 0], [0, 0, 0, 1, -1, 0], [0, 0, 0, 1, -1, 0], [0, 0, 0, 0, 0, 0], [0, 0, 1, 0, -1, 0], [1, 0, 0, 0, -1, 0], [0, 0, 0, 1, -1, 0], [1, 0, 0, 0, -1, 0], [0, 0, 0, 1, -1, 0], [0, 0, 0, 0, 0, 0], [0, 0, 0, 0, 0, 0], [0, 0, 1, 0, -1, 0], [0, 0, 0, 0, 0, 0], [0, 0, 0, 1, -1, 0], [0, 0, 0, 0, 0, 0], [0, 1, 0, 0, -1, 0], [0, 0, 0, 0, -1, 1], [0, 1, 0, 0, -1, 0], [0, 0, 0, 0, -1, 1], [1, 0, 0, 0, -1, 0], [0, 1, 0, 0, -1, 0], [0, 1, 0, 0, -1, 0], [0, 1, 0, 0, -1, 0], [0, 0, 0, 1, -1, 0], [1, 0, 0, 0, -1, 0], [0, 0, 0, 1, -1, 0], [0, 1, 0, 0, -1, 0], [1, 0, 0, 0, -1, 0], [1, 0, 0, 0, -1, 0], [1, 0, 0, 0, -1, 0], [1, 0, 0, 0, -1, 0], [1, 0, 0, 0, -1, 0], [0, 1, 0, 0, -1, 0]], array([[ 0,  0,  0,  2,  0,  1],\n",
      "       [ 0,  0,  1,  1,  0,  1],\n",
      "       [ 0,  1,  0,  1,  0,  1],\n",
      "       [ 0,  1,  0,  1,  1,  0],\n",
      "       [ 0,  1,  0,  2, -1,  1],\n",
      "       [ 0,  1,  0,  2,  0,  0],\n",
      "       [ 0,  1,  1,  0,  0,  1],\n",
      "       [ 0,  1,  1,  0,  1,  0],\n",
      "       [ 0,  1,  1,  1, -1,  1],\n",
      "       [ 0,  1,  1,  1,  0,  0],\n",
      "       [ 0,  2,  0,  1, -1,  1],\n",
      "       [ 0,  2,  0,  1,  0,  0],\n",
      "       [ 1,  0,  0,  1,  0,  1],\n",
      "       [ 1,  0,  0,  1,  1,  0],\n",
      "       [ 1,  0,  0,  2,  0,  0],\n",
      "       [ 1,  0,  1,  0,  0,  1],\n",
      "       [ 1,  0,  1,  0,  1,  0],\n",
      "       [ 1,  0,  1,  1, -1,  1],\n",
      "       [ 1,  0,  1,  1,  0,  0],\n",
      "       [ 1,  1,  0,  0,  0,  1],\n",
      "       [ 1,  1,  0,  0,  1,  0],\n",
      "       [ 1,  1,  0,  1, -1,  1],\n",
      "       [ 1,  1,  0,  1,  0,  0],\n",
      "       [ 1,  1,  0,  2, -1,  0],\n",
      "       [ 1,  1,  1,  0, -1,  1],\n",
      "       [ 1,  1,  1,  0,  0,  0],\n",
      "       [ 1,  1,  1,  1, -1,  0],\n",
      "       [ 1,  2,  0,  0, -1,  1],\n",
      "       [ 1,  2,  0,  0,  0,  0],\n",
      "       [ 1,  2,  0,  1, -1,  0],\n",
      "       [ 2,  0,  0,  0,  1,  0],\n",
      "       [ 2,  0,  0,  1,  0,  0],\n",
      "       [ 2,  0,  1,  0,  0,  0],\n",
      "       [ 2,  0,  1,  1, -1,  0],\n",
      "       [ 2,  1,  0,  0,  0,  0],\n",
      "       [ 2,  1,  0,  1, -1,  0]], dtype=int32), [(Graph on 6 vertices, [0, 0, 0, 0, 0, 0]), (Graph on 6 vertices, [0, 0, 0, 0, 0, 0]), (Graph on 6 vertices, [0, 0, 0, 0, 0, 0]), (Graph on 6 vertices, [0, 0, 0, 0, 0, 0]), (Graph on 6 vertices, [0, 0, 0, 1, -1, 0]), (Graph on 6 vertices, [0, 0, 0, 1, -1, 0]), (Graph on 6 vertices, [0, 0, 0, 0, 0, 0]), (Graph on 6 vertices, [0, 0, 1, 0, -1, 0]), (Graph on 6 vertices, [1, 0, 0, 0, -1, 0]), (Graph on 6 vertices, [0, 0, 0, 1, -1, 0]), (Graph on 6 vertices, [1, 0, 0, 0, -1, 0]), (Graph on 6 vertices, [0, 0, 0, 1, -1, 0]), (Graph on 6 vertices, [0, 0, 0, 0, 0, 0]), (Graph on 6 vertices, [0, 0, 0, 0, 0, 0]), (Graph on 6 vertices, [0, 0, 1, 0, -1, 0]), (Graph on 6 vertices, [0, 0, 0, 0, 0, 0]), (Graph on 6 vertices, [0, 0, 0, 1, -1, 0]), (Graph on 6 vertices, [0, 0, 0, 0, 0, 0]), (Graph on 6 vertices, [0, 1, 0, 0, -1, 0]), (Graph on 6 vertices, [0, 0, 0, 0, -1, 1]), (Graph on 6 vertices, [0, 1, 0, 0, -1, 0]), (Graph on 6 vertices, [0, 0, 0, 0, -1, 1]), (Graph on 6 vertices, [1, 0, 0, 0, -1, 0]), (Graph on 6 vertices, [0, 1, 0, 0, -1, 0]), (Graph on 6 vertices, [0, 1, 0, 0, -1, 0]), (Graph on 6 vertices, [0, 1, 0, 0, -1, 0]), (Graph on 6 vertices, [0, 0, 0, 1, -1, 0]), (Graph on 6 vertices, [1, 0, 0, 0, -1, 0]), (Graph on 6 vertices, [0, 0, 0, 1, -1, 0]), (Graph on 6 vertices, [0, 1, 0, 0, -1, 0]), (Graph on 6 vertices, [1, 0, 0, 0, -1, 0]), (Graph on 6 vertices, [1, 0, 0, 0, -1, 0]), (Graph on 6 vertices, [1, 0, 0, 0, -1, 0]), (Graph on 6 vertices, [1, 0, 0, 0, -1, 0]), (Graph on 6 vertices, [1, 0, 0, 0, -1, 0]), (Graph on 6 vertices, [0, 1, 0, 0, -1, 0])], [(Multi-graph on 6 vertices, (1, 7, 8, 4), Multi-graph on 6 vertices), (Multi-graph on 6 vertices, (7, 5, 4, 6), Multi-graph on 6 vertices), (Multi-graph on 6 vertices, (1, 7, 3, 2), Multi-graph on 6 vertices), (Multi-graph on 6 vertices, (1, 6, 8, 5), Multi-graph on 6 vertices), (Multi-graph on 6 vertices, (2, 4, 8, 3), Multi-graph on 6 vertices), (Multi-graph on 6 vertices, (1, 4, 6, 3, 2, 5), Multi-graph on 6 vertices), (Multi-graph on 6 vertices, (7, 6, 5, 4), Multi-graph on 6 vertices), (Multi-graph on 6 vertices, (2, 8, 3, 4), Multi-graph on 6 vertices), (Multi-graph on 6 vertices, (7, 4, 6, 5), Multi-graph on 6 vertices), (Multi-graph on 6 vertices, (2, 8, 4, 3), Multi-graph on 6 vertices), (Multi-graph on 6 vertices, (1, 8, 6, 5), Multi-graph on 6 vertices), (Multi-graph on 6 vertices, (1, 2, 7, 3), Multi-graph on 6 vertices), (Multi-graph on 6 vertices, (1, 7, 3, 2), Multi-graph on 6 vertices), (Multi-graph on 6 vertices, (1, 8, 6, 5), Multi-graph on 6 vertices), (Multi-graph on 6 vertices, (7, 8, 2, 6, 5, 3), Multi-graph on 6 vertices), (Multi-graph on 6 vertices, (1, 4, 7, 8), Multi-graph on 6 vertices), (Multi-graph on 6 vertices, (7, 5, 4, 6), Multi-graph on 6 vertices), (Multi-graph on 6 vertices, (1, 6, 8, 5), Multi-graph on 6 vertices), (Multi-graph on 6 vertices, (7, 4, 6, 5), Multi-graph on 6 vertices), (Multi-graph on 6 vertices, (1, 6, 5, 8), Multi-graph on 6 vertices), (Multi-graph on 6 vertices, (1, 8, 7, 4), Multi-graph on 6 vertices), (Multi-graph on 6 vertices, (1, 3, 2, 7), Multi-graph on 6 vertices), (Multi-graph on 6 vertices, (2, 8, 4, 3), Multi-graph on 6 vertices), (Multi-graph on 6 vertices, (2, 8, 3, 4), Multi-graph on 6 vertices), (Multi-graph on 6 vertices, (1, 2, 7, 3), Multi-graph on 6 vertices), (Multi-graph on 6 vertices, (1, 4, 8, 7), Multi-graph on 6 vertices)])\n",
      "Start= 0 ---- 350 ----terminator: False\n",
      "dim_tree_poly: 5\n",
      "Start= 0 ---- 351 ----terminator: False\n",
      "dim_tree_poly: 5\n",
      "Start= 0 ---- 352 ----terminator: False\n",
      "dim_tree_poly: 5\n",
      "Start= 0 ---- 353 ----terminator: False\n",
      "dim_tree_poly: 5\n",
      "Start= 0 ---- 354 ----terminator: False\n",
      "dim_tree_poly: 5\n",
      "Start= 0 ---- 355 ----terminator: False\n",
      "dim_tree_poly: 5\n",
      "Start= 0 ---- 356 ----terminator: False\n",
      "dim_tree_poly: 5\n",
      "Start= 0 ---- 357 ----terminator: False\n",
      "dim_tree_poly: 5\n",
      "Start= 0 ---- 358 ----terminator: False\n",
      "dim_tree_poly: 5\n",
      "Start= 0 ---- 359 ----terminator: False\n",
      "dim_tree_poly: 5\n",
      "Start= 0 ---- 360 ----terminator: False\n",
      "dim_tree_poly: 5\n",
      "Start= 0 ---- 361 ----terminator: False\n",
      "dim_tree_poly: 5\n",
      "Start= 0 ---- 362 ----terminator: False\n",
      "dim_tree_poly: 5\n",
      "Start= 0 ---- 363 ----terminator: False\n",
      "dim_tree_poly: 5\n",
      "Start= 0 ---- 364 ----terminator: False\n",
      "dim_tree_poly: 5\n",
      "Start= 0 ---- 365 ----terminator: False\n",
      "dim_tree_poly: 5\n",
      "Start= 0 ---- 366 ----terminator: False\n",
      "dim_tree_poly: 5\n",
      "Start= 0 ---- 367 ----terminator: False\n",
      "dim_tree_poly: 5\n",
      "Start= 0 ---- 368 ----terminator: False\n",
      "dim_tree_poly: 5\n",
      "Start= 0 ---- 369 ----terminator: False\n",
      "dim_tree_poly: 5\n",
      "Start= 0 ---- 370 ----terminator: False\n",
      "dim_tree_poly: 2\n",
      "370: WSC not phi: \n",
      " ([[0, 0, 0, 0, 0, 0], [0, 0, 0, 1, -1, 0], [0, 0, 0, 0, 0, 0], [0, 1, 0, 0, -1, 0], [0, 0, 0, 1, -1, 0], [0, 0, 0, 1, -1, 0], [0, 0, 0, 0, 0, 0], [0, 0, 1, 0, -1, 0], [1, 0, 0, 0, -1, 0], [0, 0, 0, 1, -1, 0], [0, 0, 0, 1, -1, 0], [0, 0, 0, 1, -1, 0], [0, 0, 0, 0, 0, 0], [0, 0, 0, 0, 0, 0], [0, 0, 1, 0, -1, 0], [0, 0, 0, 0, 0, 0], [0, 0, 0, 1, -1, 0], [0, 0, 0, 0, 0, 0], [0, 1, 0, 0, -1, 0], [0, 0, 0, 0, -1, 1], [0, 1, 0, 0, -1, 0], [0, 0, 0, 0, -1, 1], [0, 1, 0, 0, -1, 0], [0, 1, 0, 0, -1, 0], [0, 1, 0, 0, -1, 0], [0, 1, 0, 0, -1, 0], [0, 0, 0, 1, -1, 0], [1, 0, 0, 0, -1, 0], [0, 0, 0, 1, -1, 0], [0, 1, 0, 0, -1, 0], [1, 0, 0, 0, -1, 0], [1, 0, 0, 0, -1, 0], [1, 0, 0, 0, -1, 0], [1, 0, 0, 0, -1, 0], [1, 0, 0, 0, -1, 0], [0, 1, 0, 0, -1, 0]], array([[ 0,  0,  0,  2,  0,  1],\n",
      "       [ 0,  0,  1,  1,  0,  1],\n",
      "       [ 0,  1,  0,  1,  0,  1],\n",
      "       [ 0,  1,  0,  1,  1,  0],\n",
      "       [ 0,  1,  0,  2, -1,  1],\n",
      "       [ 0,  1,  0,  2,  0,  0],\n",
      "       [ 0,  1,  1,  0,  0,  1],\n",
      "       [ 0,  1,  1,  0,  1,  0],\n",
      "       [ 0,  1,  1,  1, -1,  1],\n",
      "       [ 0,  1,  1,  1,  0,  0],\n",
      "       [ 0,  2,  0,  1, -1,  1],\n",
      "       [ 0,  2,  0,  1,  0,  0],\n",
      "       [ 0,  2,  0,  2, -1,  0],\n",
      "       [ 1,  0,  0,  1,  0,  1],\n",
      "       [ 1,  0,  0,  1,  1,  0],\n",
      "       [ 1,  0,  0,  2,  0,  0],\n",
      "       [ 1,  0,  1,  0,  0,  1],\n",
      "       [ 1,  0,  1,  0,  1,  0],\n",
      "       [ 1,  0,  1,  1, -1,  1],\n",
      "       [ 1,  0,  1,  1,  0,  0],\n",
      "       [ 1,  1,  0,  0,  0,  1],\n",
      "       [ 1,  1,  0,  0,  1,  0],\n",
      "       [ 1,  1,  0,  1, -1,  1],\n",
      "       [ 1,  1,  0,  1,  0,  0],\n",
      "       [ 1,  1,  0,  2, -1,  0],\n",
      "       [ 1,  1,  1,  0, -1,  1],\n",
      "       [ 1,  1,  1,  0,  0,  0],\n",
      "       [ 1,  1,  1,  1, -1,  0],\n",
      "       [ 1,  2,  0,  0, -1,  1],\n",
      "       [ 1,  2,  0,  0,  0,  0],\n",
      "       [ 1,  2,  0,  1, -1,  0],\n",
      "       [ 2,  0,  0,  1,  0,  0],\n",
      "       [ 2,  0,  1,  0,  0,  0],\n",
      "       [ 2,  0,  1,  1, -1,  0],\n",
      "       [ 2,  1,  0,  0,  0,  0],\n",
      "       [ 2,  1,  0,  1, -1,  0]], dtype=int32), [(Graph on 6 vertices, [0, 0, 0, 0, 0, 0]), (Graph on 6 vertices, [0, 0, 0, 1, -1, 0]), (Graph on 6 vertices, [0, 0, 0, 0, 0, 0]), (Graph on 6 vertices, [0, 1, 0, 0, -1, 0]), (Graph on 6 vertices, [0, 0, 0, 1, -1, 0]), (Graph on 6 vertices, [0, 0, 0, 1, -1, 0]), (Graph on 6 vertices, [0, 0, 0, 0, 0, 0]), (Graph on 6 vertices, [0, 0, 1, 0, -1, 0]), (Graph on 6 vertices, [1, 0, 0, 0, -1, 0]), (Graph on 6 vertices, [0, 0, 0, 1, -1, 0]), (Graph on 6 vertices, [0, 0, 0, 1, -1, 0]), (Graph on 6 vertices, [0, 0, 0, 1, -1, 0]), (Graph on 6 vertices, [0, 0, 0, 0, 0, 0]), (Graph on 6 vertices, [0, 0, 0, 0, 0, 0]), (Graph on 6 vertices, [0, 0, 1, 0, -1, 0]), (Graph on 6 vertices, [0, 0, 0, 0, 0, 0]), (Graph on 6 vertices, [0, 0, 0, 1, -1, 0]), (Graph on 6 vertices, [0, 0, 0, 0, 0, 0]), (Graph on 6 vertices, [0, 1, 0, 0, -1, 0]), (Graph on 6 vertices, [0, 0, 0, 0, -1, 1]), (Graph on 6 vertices, [0, 1, 0, 0, -1, 0]), (Graph on 6 vertices, [0, 0, 0, 0, -1, 1]), (Graph on 6 vertices, [0, 1, 0, 0, -1, 0]), (Graph on 6 vertices, [0, 1, 0, 0, -1, 0]), (Graph on 6 vertices, [0, 1, 0, 0, -1, 0]), (Graph on 6 vertices, [0, 1, 0, 0, -1, 0]), (Graph on 6 vertices, [0, 0, 0, 1, -1, 0]), (Graph on 6 vertices, [1, 0, 0, 0, -1, 0]), (Graph on 6 vertices, [0, 0, 0, 1, -1, 0]), (Graph on 6 vertices, [0, 1, 0, 0, -1, 0]), (Graph on 6 vertices, [1, 0, 0, 0, -1, 0]), (Graph on 6 vertices, [1, 0, 0, 0, -1, 0]), (Graph on 6 vertices, [1, 0, 0, 0, -1, 0]), (Graph on 6 vertices, [1, 0, 0, 0, -1, 0]), (Graph on 6 vertices, [1, 0, 0, 0, -1, 0]), (Graph on 6 vertices, [0, 1, 0, 0, -1, 0])], [(Multi-graph on 6 vertices, (1, 7, 8, 4), Multi-graph on 6 vertices), (Multi-graph on 6 vertices, (7, 5, 4, 6), Multi-graph on 6 vertices), (Multi-graph on 6 vertices, (1, 7, 3, 2), Multi-graph on 6 vertices), (Multi-graph on 6 vertices, (1, 6, 8, 5), Multi-graph on 6 vertices), (Multi-graph on 6 vertices, (2, 4, 8, 3), Multi-graph on 6 vertices), (Multi-graph on 6 vertices, (1, 6, 3, 2, 5, 4), Multi-graph on 6 vertices), (Multi-graph on 6 vertices, (7, 6, 5, 4), Multi-graph on 6 vertices), (Multi-graph on 6 vertices, (2, 8, 3, 4), Multi-graph on 6 vertices), (Multi-graph on 6 vertices, (7, 6, 5, 4), Multi-graph on 6 vertices), (Multi-graph on 6 vertices, (2, 4, 8, 3), Multi-graph on 6 vertices), (Multi-graph on 6 vertices, (1, 8, 6, 5), Multi-graph on 6 vertices), (Multi-graph on 6 vertices, (1, 2, 7, 3), Multi-graph on 6 vertices), (Multi-graph on 6 vertices, (1, 3, 2, 7), Multi-graph on 6 vertices), (Multi-graph on 6 vertices, (1, 6, 5, 8), Multi-graph on 6 vertices), (Multi-graph on 6 vertices, (7, 2, 6, 5, 3, 8), Multi-graph on 6 vertices), (Multi-graph on 6 vertices, (1, 4, 7, 8), Multi-graph on 6 vertices), (Multi-graph on 6 vertices, (7, 5, 4, 6), Multi-graph on 6 vertices), (Multi-graph on 6 vertices, (1, 6, 8, 5), Multi-graph on 6 vertices), (Multi-graph on 6 vertices, (7, 4, 6, 5), Multi-graph on 6 vertices), (Multi-graph on 6 vertices, (1, 6, 5, 8), Multi-graph on 6 vertices), (Multi-graph on 6 vertices, (1, 8, 7, 4), Multi-graph on 6 vertices), (Multi-graph on 6 vertices, (1, 3, 2, 7), Multi-graph on 6 vertices), (Multi-graph on 6 vertices, (2, 8, 4, 3), Multi-graph on 6 vertices), (Multi-graph on 6 vertices, (2, 8, 3, 4), Multi-graph on 6 vertices), (Multi-graph on 6 vertices, (1, 2, 7, 3), Multi-graph on 6 vertices), (Multi-graph on 6 vertices, (1, 4, 8, 7), Multi-graph on 6 vertices)])\n",
      "Start= 0 ---- 371 ----terminator: False\n",
      "dim_tree_poly: 5\n",
      "Start= 0 ---- 372 ----terminator: False\n",
      "dim_tree_poly: 5\n",
      "Start= 0 ---- 373 ----terminator: False\n",
      "dim_tree_poly: 5\n",
      "Start= 0 ---- 374 ----terminator: False\n",
      "dim_tree_poly: 5\n",
      "Start= 0 ---- 375 ----terminator: False\n",
      "dim_tree_poly: 5\n",
      "Start= 0 ---- 376 ----terminator: False\n",
      "dim_tree_poly: 5\n",
      "Start= 0 ---- 377 ----terminator: False\n",
      "dim_tree_poly: 5\n",
      "Start= 0 ---- 378 ----terminator: False\n",
      "dim_tree_poly: 5\n",
      "Start= 0 ---- 379 ----terminator: False\n",
      "dim_tree_poly: 5\n",
      "Start= 0 ---- 380 ----terminator: False\n",
      "dim_tree_poly: 5\n",
      "Start= 0 ---- 381 ----terminator: False\n",
      "dim_tree_poly: 5\n",
      "Start= 0 ---- 382 ----terminator: False\n",
      "dim_tree_poly: 5\n",
      "Start= 0 ---- 383 ----terminator: False\n",
      "dim_tree_poly: 5\n",
      "Start= 0 ---- 384 ----terminator: False\n",
      "dim_tree_poly: 5\n",
      "Start= 0 ---- 385 ----terminator: False\n",
      "dim_tree_poly: 5\n",
      "Start= 0 ---- 386 ----terminator: False\n",
      "dim_tree_poly: 5\n",
      "Start= 0 ---- 387 ----terminator: False\n",
      "dim_tree_poly: 5\n",
      "Start= 0 ---- 388 ----terminator: False\n",
      "dim_tree_poly: 5\n",
      "Start= 0 ---- 389 ----terminator: False\n",
      "dim_tree_poly: 5\n",
      "Start= 0 ---- 390 ----terminator: False\n",
      "dim_tree_poly: 5\n",
      "Start= 0 ---- 391 ----terminator: False\n",
      "dim_tree_poly: 5\n",
      "Start= 0 ---- 392 ----terminator: False\n",
      "dim_tree_poly: 5\n",
      "Start= 0 ---- 393 ----terminator: False\n",
      "dim_tree_poly: 5\n",
      "Start= 0 ---- 394 ----terminator: False\n",
      "dim_tree_poly: 5\n",
      "Start= 0 ---- 395 ----terminator: False\n",
      "dim_tree_poly: 5\n",
      "Start= 0 ---- 396 ----terminator: False\n",
      "dim_tree_poly: 5\n",
      "Start= 0 ---- 397 ----terminator: False\n",
      "dim_tree_poly: 5\n",
      "Start= 0 ---- 398 ----terminator: False\n",
      "dim_tree_poly: 5\n",
      "Start= 0 ---- 399 ----terminator: False\n",
      "dim_tree_poly: 5\n",
      "Start= 0 ---- 400 ----terminator: False\n",
      "dim_tree_poly: 5\n",
      "Start= 0 ---- 401 ----terminator: False\n",
      "dim_tree_poly: 5\n",
      "Start= 0 ---- 402 ----terminator: False\n",
      "dim_tree_poly: 5\n",
      "Start= 0 ---- 403 ----terminator: False\n",
      "dim_tree_poly: 5\n",
      "Start= 0 ---- 404 ----terminator: False\n",
      "dim_tree_poly: 5\n",
      "Start= 0 ---- 405 ----terminator: False\n",
      "dim_tree_poly: 5\n",
      "Start= 0 ---- 406 ----terminator: False\n",
      "dim_tree_poly: 5\n",
      "Start= 0 ---- 407 ----terminator: False\n",
      "dim_tree_poly: 5\n",
      "Start= 0 ---- 408 ----terminator: False\n",
      "dim_tree_poly: 5\n",
      "Start= 0 ---- 409 ----terminator: False\n",
      "dim_tree_poly: 5\n",
      "Start= 0 ---- 410 ----terminator: False\n",
      "dim_tree_poly: 5\n",
      "Start= 0 ---- 411 ----terminator: False\n",
      "dim_tree_poly: 5\n",
      "Start= 0 ---- 412 ----terminator: False\n",
      "dim_tree_poly: 5\n",
      "Start= 0 ---- 413 ----terminator: False\n",
      "dim_tree_poly: 5\n",
      "Start= 0 ---- 414 ----terminator: False\n",
      "dim_tree_poly: 5\n",
      "Start= 0 ---- 415 ----terminator: False\n",
      "dim_tree_poly: 5\n",
      "Start= 0 ---- 416 ----terminator: False\n",
      "dim_tree_poly: 5\n",
      "Start= 0 ---- 417 ----terminator: False\n",
      "dim_tree_poly: 5\n",
      "Start= 0 ---- 418 ----terminator: False\n",
      "dim_tree_poly: 5\n",
      "Start= 0 ---- 419 ----terminator: False\n",
      "dim_tree_poly: 5\n",
      "Start= 0 ---- 420 ----terminator: False\n",
      "dim_tree_poly: 5\n",
      "Start= 0 ---- 421 ----terminator: False\n",
      "dim_tree_poly: 5\n",
      "Start= 0 ---- 422 ----terminator: False\n",
      "dim_tree_poly: 5\n",
      "Start= 0 ---- 423 ----terminator: False\n",
      "dim_tree_poly: 5\n",
      "Start= 0 ---- 424 ----terminator: False\n",
      "dim_tree_poly: 5\n",
      "Start= 0 ---- 425 ----terminator: False\n",
      "dim_tree_poly: 5\n",
      "Start= 0 ---- 426 ----terminator: False\n",
      "dim_tree_poly: 5\n",
      "Start= 0 ---- 427 ----terminator: False\n",
      "dim_tree_poly: 5\n",
      "Start= 0 ---- 428 ----terminator: False\n",
      "dim_tree_poly: 5\n",
      "Start= 0 ---- 429 ----terminator: False\n",
      "dim_tree_poly: 5\n",
      "Start= 0 ---- 430 ----terminator: False\n",
      "dim_tree_poly: 5\n",
      "Start= 0 ---- 431 ----terminator: False\n",
      "dim_tree_poly: 2\n",
      "431: WSC not phi: \n",
      " ([[0, 0, 0, 0, 0, 0], [0, 0, 0, 0, 0, 0], [0, 0, 0, 0, 0, 0], [0, 0, 0, 0, 0, 0], [0, 0, 0, 1, 0, -1], [0, 0, 0, 1, 0, -1], [0, 0, 0, 0, 1, -1], [0, 0, 1, 0, 0, -1], [1, 0, 0, 0, -1, 0], [1, 0, 0, 1, -1, -1], [1, 0, 0, 0, -1, 0], [1, 0, 0, 1, -1, -1], [0, 0, 0, 0, 0, 0], [1, 0, 0, 0, 0, -1], [1, 0, 1, 0, -1, -1], [0, 1, 0, 0, 0, -1], [0, 1, 0, 0, 0, -1], [0, 1, 0, 0, 0, -1], [0, 1, 0, 0, 0, -1], [1, 0, 0, 0, 0, -1], [1, 0, 0, 0, 0, -1], [1, 0, 0, 0, 0, -1], [1, 0, 0, 0, -1, 0], [1, 0, 0, 1, -1, -1], [1, 0, 0, 0, 0, -1], [1, 1, 0, 0, -1, -1], [1, 0, 0, 0, 0, -1], [1, 0, 0, 0, 0, -1], [1, 0, 0, 0, 0, -1], [0, 1, 0, 0, 0, -1], [1, 0, 0, 0, -1, 0], [1, 0, 0, 1, -1, -1], [2, 0, 0, 0, -1, -1], [1, 0, 0, 0, -1, 0], [1, 0, 0, 1, -1, -1], [1, 1, 0, 0, -1, -1]], array([[ 0,  1,  0,  1,  1,  0],\n",
      "       [ 0,  1,  0,  2,  0,  0],\n",
      "       [ 0,  1,  1,  0,  1,  0],\n",
      "       [ 0,  1,  1,  1,  0,  0],\n",
      "       [ 0,  2,  0,  1,  0,  0],\n",
      "       [ 1,  0,  0,  1,  1,  0],\n",
      "       [ 1,  0,  0,  2,  0,  0],\n",
      "       [ 1,  0,  0,  2,  1, -1],\n",
      "       [ 1,  0,  1,  0,  1,  0],\n",
      "       [ 1,  0,  1,  1,  0,  0],\n",
      "       [ 1,  0,  1,  1,  1, -1],\n",
      "       [ 1,  1,  0,  0,  1,  0],\n",
      "       [ 1,  1,  0,  1,  0,  0],\n",
      "       [ 1,  1,  0,  1,  1, -1],\n",
      "       [ 1,  1,  0,  2, -1,  0],\n",
      "       [ 1,  1,  0,  2,  0, -1],\n",
      "       [ 1,  1,  1,  0,  0,  0],\n",
      "       [ 1,  1,  1,  0,  1, -1],\n",
      "       [ 1,  1,  1,  1, -1,  0],\n",
      "       [ 1,  1,  1,  1,  0, -1],\n",
      "       [ 1,  2,  0,  0,  0,  0],\n",
      "       [ 1,  2,  0,  1, -1,  0],\n",
      "       [ 1,  2,  0,  1,  0, -1],\n",
      "       [ 2,  0,  0,  0,  1,  0],\n",
      "       [ 2,  0,  0,  1,  0,  0],\n",
      "       [ 2,  0,  0,  1,  1, -1],\n",
      "       [ 2,  0,  1,  0,  0,  0],\n",
      "       [ 2,  0,  1,  0,  1, -1],\n",
      "       [ 2,  0,  1,  1, -1,  0],\n",
      "       [ 2,  0,  1,  1,  0, -1],\n",
      "       [ 2,  1,  0,  0,  0,  0],\n",
      "       [ 2,  1,  0,  0,  1, -1],\n",
      "       [ 2,  1,  0,  1, -1,  0],\n",
      "       [ 2,  1,  0,  1,  0, -1],\n",
      "       [ 2,  1,  1,  0,  0, -1],\n",
      "       [ 2,  2,  0,  0,  0, -1]], dtype=int32), [(Graph on 6 vertices, [0, 0, 0, 0, 0, 0]), (Graph on 6 vertices, [0, 0, 0, 0, 0, 0]), (Graph on 6 vertices, [0, 0, 0, 0, 0, 0]), (Graph on 6 vertices, [0, 0, 0, 0, 0, 0]), (Graph on 6 vertices, [0, 0, 0, 1, 0, -1]), (Graph on 6 vertices, [0, 0, 0, 1, 0, -1]), (Graph on 6 vertices, [0, 0, 0, 0, 1, -1]), (Graph on 6 vertices, [0, 0, 1, 0, 0, -1]), (Graph on 6 vertices, [1, 0, 0, 0, -1, 0]), (Graph on 6 vertices, [1, 0, 0, 1, -1, -1]), (Graph on 6 vertices, [1, 0, 0, 0, -1, 0]), (Graph on 6 vertices, [1, 0, 0, 1, -1, -1]), (Graph on 6 vertices, [0, 0, 0, 0, 0, 0]), (Graph on 6 vertices, [1, 0, 0, 0, 0, -1]), (Graph on 6 vertices, [1, 0, 1, 0, -1, -1]), (Graph on 6 vertices, [0, 1, 0, 0, 0, -1]), (Graph on 6 vertices, [0, 1, 0, 0, 0, -1]), (Graph on 6 vertices, [0, 1, 0, 0, 0, -1]), (Graph on 6 vertices, [0, 1, 0, 0, 0, -1]), (Graph on 6 vertices, [1, 0, 0, 0, 0, -1]), (Graph on 6 vertices, [1, 0, 0, 0, 0, -1]), (Graph on 6 vertices, [1, 0, 0, 0, 0, -1]), (Graph on 6 vertices, [1, 0, 0, 0, -1, 0]), (Graph on 6 vertices, [1, 0, 0, 1, -1, -1]), (Graph on 6 vertices, [1, 0, 0, 0, 0, -1]), (Graph on 6 vertices, [1, 1, 0, 0, -1, -1]), (Graph on 6 vertices, [1, 0, 0, 0, 0, -1]), (Graph on 6 vertices, [1, 0, 0, 0, 0, -1]), (Graph on 6 vertices, [1, 0, 0, 0, 0, -1]), (Graph on 6 vertices, [0, 1, 0, 0, 0, -1]), (Graph on 6 vertices, [1, 0, 0, 0, -1, 0]), (Graph on 6 vertices, [1, 0, 0, 1, -1, -1]), (Graph on 6 vertices, [2, 0, 0, 0, -1, -1]), (Graph on 6 vertices, [1, 0, 0, 0, -1, 0]), (Graph on 6 vertices, [1, 0, 0, 1, -1, -1]), (Graph on 6 vertices, [1, 1, 0, 0, -1, -1])], [(Multi-graph on 6 vertices, (1, 8, 7, 4), Multi-graph on 6 vertices), (Multi-graph on 6 vertices, (7, 6, 4, 5), Multi-graph on 6 vertices), (Multi-graph on 6 vertices, (1, 3, 2, 7), Multi-graph on 6 vertices), (Multi-graph on 6 vertices, (1, 5, 8, 6), Multi-graph on 6 vertices), (Multi-graph on 6 vertices, (2, 8, 4, 3), Multi-graph on 6 vertices), (Multi-graph on 6 vertices, (1, 4, 5, 3, 2, 6), Multi-graph on 6 vertices), (Multi-graph on 6 vertices, (7, 5, 6, 4), Multi-graph on 6 vertices), (Multi-graph on 6 vertices, (2, 8, 3, 4), Multi-graph on 6 vertices), (Multi-graph on 6 vertices, (7, 4, 5, 6), Multi-graph on 6 vertices), (Multi-graph on 6 vertices, (2, 8, 4, 3), Multi-graph on 6 vertices), (Multi-graph on 6 vertices, (1, 8, 5, 6), Multi-graph on 6 vertices), (Multi-graph on 6 vertices, (1, 2, 7, 3), Multi-graph on 6 vertices), (Multi-graph on 6 vertices, (1, 7, 3, 2), Multi-graph on 6 vertices), (Multi-graph on 6 vertices, (1, 8, 5, 6), Multi-graph on 6 vertices), (Multi-graph on 6 vertices, (7, 8, 2, 5, 6, 3), Multi-graph on 6 vertices), (Multi-graph on 6 vertices, (1, 4, 8, 7), Multi-graph on 6 vertices), (Multi-graph on 6 vertices, (7, 6, 4, 5), Multi-graph on 6 vertices), (Multi-graph on 6 vertices, (1, 5, 8, 6), Multi-graph on 6 vertices), (Multi-graph on 6 vertices, (7, 4, 5, 6), Multi-graph on 6 vertices), (Multi-graph on 6 vertices, (1, 5, 6, 8), Multi-graph on 6 vertices), (Multi-graph on 6 vertices, (1, 7, 8, 4), Multi-graph on 6 vertices), (Multi-graph on 6 vertices, (1, 7, 3, 2), Multi-graph on 6 vertices), (Multi-graph on 6 vertices, (2, 4, 8, 3), Multi-graph on 6 vertices), (Multi-graph on 6 vertices, (2, 8, 3, 4), Multi-graph on 6 vertices), (Multi-graph on 6 vertices, (1, 2, 7, 3), Multi-graph on 6 vertices), (Multi-graph on 6 vertices, (1, 4, 7, 8), Multi-graph on 6 vertices)])\n",
      "Start= 0 ---- 432 ----terminator: False\n",
      "dim_tree_poly: 5\n",
      "Start= 0 ---- 433 ----terminator: False\n",
      "dim_tree_poly: 5\n",
      "Start= 0 ---- 434 ----terminator: False\n",
      "dim_tree_poly: 5\n",
      "Start= 0 ---- 435 ----terminator: False\n",
      "dim_tree_poly: 5\n",
      "Start= 0 ---- 436 ----terminator: False\n",
      "dim_tree_poly: 5\n",
      "Start= 0 ---- 437 ----terminator: False\n",
      "dim_tree_poly: 5\n",
      "Start= 0 ---- 438 ----terminator: False\n",
      "dim_tree_poly: 5\n",
      "Start= 0 ---- 439 ----terminator: False\n",
      "dim_tree_poly: 5\n",
      "Start= 0 ---- 440 ----terminator: False\n",
      "dim_tree_poly: 5\n",
      "Start= 0 ---- 441 ----terminator: False\n",
      "dim_tree_poly: 5\n",
      "Start= 0 ---- 442 ----terminator: False\n",
      "dim_tree_poly: 5\n",
      "Start= 0 ---- 443 ----terminator: False\n",
      "dim_tree_poly: 5\n",
      "Start= 0 ---- 444 ----terminator: False\n",
      "dim_tree_poly: 5\n",
      "Start= 0 ---- 445 ----terminator: False\n",
      "dim_tree_poly: 5\n",
      "Start= 0 ---- 446 ----terminator: False\n",
      "dim_tree_poly: 5\n",
      "Start= 0 ---- 447 ----terminator: False\n",
      "dim_tree_poly: 5\n",
      "Start= 0 ---- 448 ----terminator: False\n",
      "dim_tree_poly: 5\n",
      "Start= 0 ---- 449 ----terminator: False\n",
      "dim_tree_poly: 5\n",
      "Start= 0 ---- 450 ----terminator: False\n",
      "dim_tree_poly: 5\n",
      "Start= 0 ---- 451 ----terminator: False\n",
      "dim_tree_poly: 5\n",
      "Start= 0 ---- 452 ----terminator: False\n",
      "dim_tree_poly: 2\n",
      "452: WSC not phi: \n",
      " ([[0, 0, 0, 0, 0, 0], [0, 0, 0, 1, -1, 0], [0, 0, 0, 0, 0, 0], [0, 1, 0, 0, -1, 0], [0, 0, 0, 1, 0, -1], [0, 0, 0, 1, 0, -1], [0, 0, 0, 0, 1, -1], [0, 0, 1, 0, 0, -1], [1, 0, 0, 0, -1, 0], [1, 0, 0, 1, -1, -1], [0, 0, 0, 1, -1, 0], [1, 0, 0, 1, -1, -1], [0, 0, 0, 0, 0, 0], [1, 0, 0, 0, 0, -1], [1, 0, 1, 0, -1, -1], [0, 1, 0, 0, 0, -1], [0, 1, 0, 0, 0, -1], [0, 1, 0, 0, 0, -1], [0, 1, 0, 0, 0, -1], [1, 0, 0, 0, 0, -1], [1, 0, 0, 0, 0, -1], [1, 0, 0, 0, 0, -1], [0, 1, 0, 0, -1, 0], [1, 0, 0, 1, -1, -1], [1, 0, 0, 0, 0, -1], [1, 1, 0, 0, -1, -1], [1, 0, 0, 0, 0, -1], [1, 0, 0, 0, 0, -1], [1, 0, 0, 0, 0, -1], [0, 1, 0, 0, 0, -1], [1, 0, 0, 0, -1, 0], [1, 0, 0, 1, -1, -1], [2, 0, 0, 0, -1, -1], [1, 0, 0, 0, -1, 0], [1, 0, 0, 1, -1, -1], [1, 1, 0, 0, -1, -1]], array([[ 0,  1,  0,  1,  1,  0],\n",
      "       [ 0,  1,  0,  2,  0,  0],\n",
      "       [ 0,  1,  1,  0,  1,  0],\n",
      "       [ 0,  1,  1,  1,  0,  0],\n",
      "       [ 0,  2,  0,  1,  0,  0],\n",
      "       [ 0,  2,  0,  2, -1,  0],\n",
      "       [ 1,  0,  0,  1,  1,  0],\n",
      "       [ 1,  0,  0,  2,  0,  0],\n",
      "       [ 1,  0,  0,  2,  1, -1],\n",
      "       [ 1,  0,  1,  0,  1,  0],\n",
      "       [ 1,  0,  1,  1,  0,  0],\n",
      "       [ 1,  0,  1,  1,  1, -1],\n",
      "       [ 1,  1,  0,  0,  1,  0],\n",
      "       [ 1,  1,  0,  1,  0,  0],\n",
      "       [ 1,  1,  0,  1,  1, -1],\n",
      "       [ 1,  1,  0,  2, -1,  0],\n",
      "       [ 1,  1,  0,  2,  0, -1],\n",
      "       [ 1,  1,  1,  0,  0,  0],\n",
      "       [ 1,  1,  1,  0,  1, -1],\n",
      "       [ 1,  1,  1,  1, -1,  0],\n",
      "       [ 1,  1,  1,  1,  0, -1],\n",
      "       [ 1,  2,  0,  0,  0,  0],\n",
      "       [ 1,  2,  0,  1, -1,  0],\n",
      "       [ 1,  2,  0,  1,  0, -1],\n",
      "       [ 2,  0,  0,  1,  0,  0],\n",
      "       [ 2,  0,  0,  1,  1, -1],\n",
      "       [ 2,  0,  1,  0,  0,  0],\n",
      "       [ 2,  0,  1,  0,  1, -1],\n",
      "       [ 2,  0,  1,  1, -1,  0],\n",
      "       [ 2,  0,  1,  1,  0, -1],\n",
      "       [ 2,  1,  0,  0,  0,  0],\n",
      "       [ 2,  1,  0,  0,  1, -1],\n",
      "       [ 2,  1,  0,  1, -1,  0],\n",
      "       [ 2,  1,  0,  1,  0, -1],\n",
      "       [ 2,  1,  1,  0,  0, -1],\n",
      "       [ 2,  2,  0,  0,  0, -1]], dtype=int32), [(Graph on 6 vertices, [0, 0, 0, 0, 0, 0]), (Graph on 6 vertices, [0, 0, 0, 1, -1, 0]), (Graph on 6 vertices, [0, 0, 0, 0, 0, 0]), (Graph on 6 vertices, [0, 1, 0, 0, -1, 0]), (Graph on 6 vertices, [0, 0, 0, 1, 0, -1]), (Graph on 6 vertices, [0, 0, 0, 1, 0, -1]), (Graph on 6 vertices, [0, 0, 0, 0, 1, -1]), (Graph on 6 vertices, [0, 0, 1, 0, 0, -1]), (Graph on 6 vertices, [1, 0, 0, 0, -1, 0]), (Graph on 6 vertices, [1, 0, 0, 1, -1, -1]), (Graph on 6 vertices, [0, 0, 0, 1, -1, 0]), (Graph on 6 vertices, [1, 0, 0, 1, -1, -1]), (Graph on 6 vertices, [0, 0, 0, 0, 0, 0]), (Graph on 6 vertices, [1, 0, 0, 0, 0, -1]), (Graph on 6 vertices, [1, 0, 1, 0, -1, -1]), (Graph on 6 vertices, [0, 1, 0, 0, 0, -1]), (Graph on 6 vertices, [0, 1, 0, 0, 0, -1]), (Graph on 6 vertices, [0, 1, 0, 0, 0, -1]), (Graph on 6 vertices, [0, 1, 0, 0, 0, -1]), (Graph on 6 vertices, [1, 0, 0, 0, 0, -1]), (Graph on 6 vertices, [1, 0, 0, 0, 0, -1]), (Graph on 6 vertices, [1, 0, 0, 0, 0, -1]), (Graph on 6 vertices, [0, 1, 0, 0, -1, 0]), (Graph on 6 vertices, [1, 0, 0, 1, -1, -1]), (Graph on 6 vertices, [1, 0, 0, 0, 0, -1]), (Graph on 6 vertices, [1, 1, 0, 0, -1, -1]), (Graph on 6 vertices, [1, 0, 0, 0, 0, -1]), (Graph on 6 vertices, [1, 0, 0, 0, 0, -1]), (Graph on 6 vertices, [1, 0, 0, 0, 0, -1]), (Graph on 6 vertices, [0, 1, 0, 0, 0, -1]), (Graph on 6 vertices, [1, 0, 0, 0, -1, 0]), (Graph on 6 vertices, [1, 0, 0, 1, -1, -1]), (Graph on 6 vertices, [2, 0, 0, 0, -1, -1]), (Graph on 6 vertices, [1, 0, 0, 0, -1, 0]), (Graph on 6 vertices, [1, 0, 0, 1, -1, -1]), (Graph on 6 vertices, [1, 1, 0, 0, -1, -1])], [(Multi-graph on 6 vertices, (1, 8, 7, 4), Multi-graph on 6 vertices), (Multi-graph on 6 vertices, (7, 6, 4, 5), Multi-graph on 6 vertices), (Multi-graph on 6 vertices, (1, 3, 2, 7), Multi-graph on 6 vertices), (Multi-graph on 6 vertices, (1, 5, 8, 6), Multi-graph on 6 vertices), (Multi-graph on 6 vertices, (2, 8, 4, 3), Multi-graph on 6 vertices), (Multi-graph on 6 vertices, (1, 5, 3, 2, 6, 4), Multi-graph on 6 vertices), (Multi-graph on 6 vertices, (7, 5, 6, 4), Multi-graph on 6 vertices), (Multi-graph on 6 vertices, (2, 8, 3, 4), Multi-graph on 6 vertices), (Multi-graph on 6 vertices, (7, 5, 6, 4), Multi-graph on 6 vertices), (Multi-graph on 6 vertices, (2, 4, 8, 3), Multi-graph on 6 vertices), (Multi-graph on 6 vertices, (1, 8, 5, 6), Multi-graph on 6 vertices), (Multi-graph on 6 vertices, (1, 2, 7, 3), Multi-graph on 6 vertices), (Multi-graph on 6 vertices, (1, 3, 2, 7), Multi-graph on 6 vertices), (Multi-graph on 6 vertices, (1, 5, 6, 8), Multi-graph on 6 vertices), (Multi-graph on 6 vertices, (7, 2, 5, 6, 3, 8), Multi-graph on 6 vertices), (Multi-graph on 6 vertices, (1, 4, 8, 7), Multi-graph on 6 vertices), (Multi-graph on 6 vertices, (7, 6, 4, 5), Multi-graph on 6 vertices), (Multi-graph on 6 vertices, (1, 5, 8, 6), Multi-graph on 6 vertices), (Multi-graph on 6 vertices, (7, 4, 5, 6), Multi-graph on 6 vertices), (Multi-graph on 6 vertices, (1, 5, 6, 8), Multi-graph on 6 vertices), (Multi-graph on 6 vertices, (1, 7, 8, 4), Multi-graph on 6 vertices), (Multi-graph on 6 vertices, (1, 7, 3, 2), Multi-graph on 6 vertices), (Multi-graph on 6 vertices, (2, 4, 8, 3), Multi-graph on 6 vertices), (Multi-graph on 6 vertices, (2, 8, 3, 4), Multi-graph on 6 vertices), (Multi-graph on 6 vertices, (1, 2, 7, 3), Multi-graph on 6 vertices), (Multi-graph on 6 vertices, (1, 4, 7, 8), Multi-graph on 6 vertices)])\n",
      "Start= 0 ---- 453 ----terminator: False\n",
      "dim_tree_poly: 5\n",
      "Start= 0 ---- 454 ----terminator: False\n",
      "dim_tree_poly: 5\n",
      "Start= 0 ---- 455 ----terminator: False\n",
      "dim_tree_poly: 5\n",
      "Start= 0 ---- 456 ----terminator: False\n",
      "dim_tree_poly: 5\n",
      "Start= 0 ---- 457 ----terminator: False\n",
      "dim_tree_poly: 5\n",
      "Start= 0 ---- 458 ----terminator: False\n",
      "dim_tree_poly: 5\n",
      "Start= 0 ---- 459 ----terminator: False\n",
      "dim_tree_poly: 5\n",
      "Start= 0 ---- 460 ----terminator: False\n",
      "dim_tree_poly: 5\n",
      "Start= 0 ---- 461 ----terminator: False\n",
      "dim_tree_poly: 5\n",
      "Start= 0 ---- 462 ----terminator: False\n",
      "dim_tree_poly: 5\n",
      "Start= 0 ---- 463 ----terminator: False\n",
      "dim_tree_poly: 5\n",
      "Start= 0 ---- 464 ----terminator: False\n",
      "dim_tree_poly: 5\n",
      "Start= 0 ---- 465 ----terminator: False\n",
      "dim_tree_poly: 5\n",
      "Start= 0 ---- 466 ----terminator: False\n",
      "dim_tree_poly: 5\n",
      "Start= 0 ---- 467 ----terminator: False\n",
      "dim_tree_poly: 5\n",
      "Start= 0 ---- 468 ----terminator: False\n",
      "dim_tree_poly: 5\n",
      "Start= 0 ---- 469 ----terminator: False\n",
      "dim_tree_poly: 5\n",
      "Start= 0 ---- 470 ----terminator: False\n",
      "dim_tree_poly: 5\n",
      "Start= 0 ---- 471 ----terminator: False\n",
      "dim_tree_poly: 5\n",
      "Start= 0 ---- 472 ----terminator: False\n",
      "dim_tree_poly: 5\n",
      "Start= 0 ---- 473 ----terminator: False\n",
      "dim_tree_poly: 5\n",
      "Start= 0 ---- 474 ----terminator: False\n",
      "dim_tree_poly: 5\n",
      "Start= 0 ---- 475 ----terminator: False\n",
      "dim_tree_poly: 5\n",
      "Start= 0 ---- 476 ----terminator: False\n",
      "dim_tree_poly: 5\n",
      "Start= 0 ---- 477 ----terminator: False\n",
      "dim_tree_poly: 5\n",
      "Start= 0 ---- 478 ----terminator: False\n",
      "dim_tree_poly: 5\n",
      "Start= 0 ---- 479 ----terminator: False\n",
      "dim_tree_poly: 5\n",
      "Start= 0 ---- 480 ----terminator: False\n",
      "dim_tree_poly: 5\n",
      "Start= 0 ---- 481 ----terminator: False\n",
      "dim_tree_poly: 5\n",
      "Start= 0 ---- 482 ----terminator: False\n",
      "dim_tree_poly: 5\n",
      "Start= 0 ---- 483 ----terminator: False\n",
      "dim_tree_poly: 5\n",
      "Start= 0 ---- 484 ----terminator: False\n",
      "dim_tree_poly: 5\n",
      "Start= 0 ---- 485 ----terminator: False\n",
      "dim_tree_poly: 5\n",
      "Start= 0 ---- 486 ----terminator: False\n",
      "dim_tree_poly: 5\n",
      "Start= 0 ---- 487 ----terminator: False\n",
      "dim_tree_poly: 5\n",
      "Start= 0 ---- 488 ----terminator: False\n",
      "dim_tree_poly: 5\n",
      "Start= 0 ---- 489 ----terminator: False\n",
      "dim_tree_poly: 5\n",
      "Start= 0 ---- 490 ----terminator: False\n",
      "dim_tree_poly: 5\n",
      "Start= 0 ---- 491 ----terminator: False\n",
      "dim_tree_poly: 5\n",
      "Start= 0 ---- 492 ----terminator: False\n",
      "dim_tree_poly: 5\n",
      "Start= 0 ---- 493 ----terminator: False\n",
      "dim_tree_poly: 5\n",
      "Start= 0 ---- 494 ----terminator: False\n",
      "dim_tree_poly: 5\n",
      "Start= 0 ---- 495 ----terminator: False\n",
      "dim_tree_poly: 5\n",
      "Start= 0 ---- 496 ----terminator: False\n",
      "dim_tree_poly: 5\n",
      "Start= 0 ---- 497 ----terminator: False\n",
      "dim_tree_poly: 5\n",
      "Start= 0 ---- 498 ----terminator: False\n",
      "dim_tree_poly: 5\n",
      "Start= 0 ---- 499 ----terminator: False\n",
      "dim_tree_poly: 5\n",
      "Start= 0 ---- 500 ----terminator: False\n",
      "dim_tree_poly: 5\n",
      "Start= 0 ---- 501 ----terminator: False\n",
      "dim_tree_poly: 5\n",
      "Start= 0 ---- 502 ----terminator: False\n",
      "dim_tree_poly: 5\n",
      "Start= 0 ---- 503 ----terminator: False\n",
      "dim_tree_poly: 5\n",
      "FV_G6M3M14_top_dim.txt\n"
     ]
    }
   ],
   "source": [
    "dic_l=analyse_graphname_FV(5,graphname,G,data,ind_breaks=0)"
   ]
  },
  {
   "cell_type": "markdown",
   "id": "e000b5df",
   "metadata": {
    "tags": []
   },
   "source": [
    "### $G_1$"
   ]
  },
  {
   "cell_type": "code",
   "execution_count": 26,
   "id": "f6c6e98e",
   "metadata": {
    "collapsed": true,
    "jupyter": {
     "outputs_hidden": true
    },
    "tags": []
   },
   "outputs": [
    {
     "name": "stdout",
     "output_type": "stream",
     "text": [
      "Start= 0 ---- 0 ----terminator: False\n",
      "Start= 0 ---- 1 ----terminator: False\n",
      "Start= 0 ---- 2 ----terminator: False\n",
      "Start= 0 ---- 3 ----terminator: False\n",
      "Start= 0 ---- 4 ----terminator: False\n"
     ]
    },
    {
     "ename": "KeyboardInterrupt",
     "evalue": "",
     "output_type": "error",
     "traceback": [
      "\u001b[0;31m---------------------------------------------------------------------------\u001b[0m",
      "\u001b[0;31mKeyboardInterrupt\u001b[0m                         Traceback (most recent call last)",
      "\u001b[0;32m<ipython-input-26-ffd7bf4dc0bc>\u001b[0m in \u001b[0;36m<module>\u001b[0;34m\u001b[0m\n\u001b[1;32m      9\u001b[0m \u001b[0;31m#     print(i)\u001b[0m\u001b[0;34m\u001b[0m\u001b[0;34m\u001b[0m\u001b[0;34m\u001b[0m\u001b[0m\n\u001b[1;32m     10\u001b[0m \u001b[0;34m\u001b[0m\u001b[0m\n\u001b[0;32m---> 11\u001b[0;31m \u001b[0mdic_l\u001b[0m\u001b[0;34m=\u001b[0m\u001b[0manalyse_graphname\u001b[0m\u001b[0;34m(\u001b[0m\u001b[0mG\u001b[0m\u001b[0;34m,\u001b[0m\u001b[0mdata\u001b[0m\u001b[0;34m,\u001b[0m\u001b[0mind_breaks\u001b[0m\u001b[0;34m=\u001b[0m\u001b[0mInteger\u001b[0m\u001b[0;34m(\u001b[0m\u001b[0;36m0\u001b[0m\u001b[0;34m)\u001b[0m\u001b[0;34m)\u001b[0m\u001b[0;34m\u001b[0m\u001b[0;34m\u001b[0m\u001b[0m\n\u001b[0m",
      "\u001b[0;32m<ipython-input-20-8f882a0f3e92>\u001b[0m in \u001b[0;36manalyse_graphname\u001b[0;34m(G, data, start, terminator, ind_breaks)\u001b[0m\n\u001b[1;32m     42\u001b[0m         \u001b[0mdiv_l\u001b[0m\u001b[0;34m=\u001b[0m\u001b[0mdata\u001b[0m\u001b[0;34m[\u001b[0m\u001b[0mterm\u001b[0m\u001b[0;34m]\u001b[0m\u001b[0;34m[\u001b[0m\u001b[0mInteger\u001b[0m\u001b[0;34m(\u001b[0m\u001b[0;36m1\u001b[0m\u001b[0;34m)\u001b[0m\u001b[0;34m]\u001b[0m\u001b[0;34m.\u001b[0m\u001b[0mtolist\u001b[0m\u001b[0;34m(\u001b[0m\u001b[0;34m)\u001b[0m \u001b[0;31m#lbm [[0, 0, 1], [0, 1, 0], [1, 0, 0]]\u001b[0m\u001b[0;34m\u001b[0m\u001b[0;34m\u001b[0m\u001b[0m\n\u001b[1;32m     43\u001b[0m \u001b[0;34m\u001b[0m\u001b[0m\n\u001b[0;32m---> 44\u001b[0;31m         \u001b[0mtree_poly\u001b[0m\u001b[0;34m=\u001b[0m\u001b[0mget_intersection_tree_poly\u001b[0m\u001b[0;34m(\u001b[0m\u001b[0mG\u001b[0m\u001b[0;34m,\u001b[0m\u001b[0massignments\u001b[0m\u001b[0;34m)\u001b[0m\u001b[0;34m\u001b[0m\u001b[0;34m\u001b[0m\u001b[0m\n\u001b[0m\u001b[1;32m     45\u001b[0m \u001b[0;34m\u001b[0m\u001b[0m\n\u001b[1;32m     46\u001b[0m         \u001b[0;34m\"We see this is always true so we done check\"\u001b[0m\u001b[0;34m\u001b[0m\u001b[0;34m\u001b[0m\u001b[0m\n",
      "\u001b[0;32m<ipython-input-9-a70ae6feffcf>\u001b[0m in \u001b[0;36mget_intersection_tree_poly\u001b[0;34m(G, assignments)\u001b[0m\n\u001b[1;32m    163\u001b[0m         \u001b[0mT\u001b[0m\u001b[0;34m,\u001b[0m\u001b[0mdivisor\u001b[0m\u001b[0;34m=\u001b[0m\u001b[0mass\u001b[0m\u001b[0;34m[\u001b[0m\u001b[0mInteger\u001b[0m\u001b[0;34m(\u001b[0m\u001b[0;36m0\u001b[0m\u001b[0;34m)\u001b[0m\u001b[0;34m]\u001b[0m\u001b[0;34m,\u001b[0m\u001b[0mass\u001b[0m\u001b[0;34m[\u001b[0m\u001b[0mInteger\u001b[0m\u001b[0;34m(\u001b[0m\u001b[0;36m1\u001b[0m\u001b[0;34m)\u001b[0m\u001b[0;34m]\u001b[0m\u001b[0;34m\u001b[0m\u001b[0;34m\u001b[0m\u001b[0m\n\u001b[1;32m    164\u001b[0m \u001b[0;34m\u001b[0m\u001b[0m\n\u001b[0;32m--> 165\u001b[0;31m         \u001b[0mP\u001b[0m\u001b[0;34m=\u001b[0m\u001b[0mget_tree_poly\u001b[0m\u001b[0;34m(\u001b[0m\u001b[0mG\u001b[0m\u001b[0;34m,\u001b[0m\u001b[0mT\u001b[0m\u001b[0;34m,\u001b[0m\u001b[0mdivisor\u001b[0m\u001b[0;34m)\u001b[0m\u001b[0;34m\u001b[0m\u001b[0;34m\u001b[0m\u001b[0m\n\u001b[0m\u001b[1;32m    166\u001b[0m \u001b[0;34m\u001b[0m\u001b[0m\n\u001b[1;32m    167\u001b[0m         \u001b[0mpoly_l\u001b[0m\u001b[0;34m.\u001b[0m\u001b[0mappend\u001b[0m\u001b[0;34m(\u001b[0m\u001b[0mP\u001b[0m\u001b[0;34m)\u001b[0m\u001b[0;34m\u001b[0m\u001b[0;34m\u001b[0m\u001b[0m\n",
      "\u001b[0;32m<ipython-input-9-a70ae6feffcf>\u001b[0m in \u001b[0;36mget_tree_poly\u001b[0;34m(G, T, divisor)\u001b[0m\n\u001b[1;32m    145\u001b[0m \u001b[0;34m\u001b[0m\u001b[0m\n\u001b[1;32m    146\u001b[0m     \u001b[0;31m#build a polytope.\u001b[0m\u001b[0;34m\u001b[0m\u001b[0;34m\u001b[0m\u001b[0;34m\u001b[0m\u001b[0m\n\u001b[0;32m--> 147\u001b[0;31m     \u001b[0mtree_poly\u001b[0m\u001b[0;34m=\u001b[0m\u001b[0mPolyhedron\u001b[0m\u001b[0;34m(\u001b[0m\u001b[0mieqs\u001b[0m\u001b[0;34m=\u001b[0m\u001b[0mhyperp\u001b[0m\u001b[0;34m)\u001b[0m\u001b[0;34m\u001b[0m\u001b[0;34m\u001b[0m\u001b[0m\n\u001b[0m\u001b[1;32m    148\u001b[0m \u001b[0;34m\u001b[0m\u001b[0m\n\u001b[1;32m    149\u001b[0m     \u001b[0;32mreturn\u001b[0m \u001b[0mtree_poly\u001b[0m\u001b[0;34m\u001b[0m\u001b[0;34m\u001b[0m\u001b[0m\n",
      "\u001b[0;32m/opt/sagemath-9.2/local/lib/python3.7/site-packages/sage/misc/lazy_import.pyx\u001b[0m in \u001b[0;36msage.misc.lazy_import.LazyImport.__call__ (build/cythonized/sage/misc/lazy_import.c:4027)\u001b[0;34m()\u001b[0m\n\u001b[1;32m    359\u001b[0m             \u001b[0;32mTrue\u001b[0m\u001b[0;34m\u001b[0m\u001b[0;34m\u001b[0m\u001b[0m\n\u001b[1;32m    360\u001b[0m         \"\"\"\n\u001b[0;32m--> 361\u001b[0;31m         \u001b[0;32mreturn\u001b[0m \u001b[0mself\u001b[0m\u001b[0;34m.\u001b[0m\u001b[0mget_object\u001b[0m\u001b[0;34m(\u001b[0m\u001b[0;34m)\u001b[0m\u001b[0;34m(\u001b[0m\u001b[0;34m*\u001b[0m\u001b[0margs\u001b[0m\u001b[0;34m,\u001b[0m \u001b[0;34m**\u001b[0m\u001b[0mkwds\u001b[0m\u001b[0;34m)\u001b[0m\u001b[0;34m\u001b[0m\u001b[0;34m\u001b[0m\u001b[0m\n\u001b[0m\u001b[1;32m    362\u001b[0m \u001b[0;34m\u001b[0m\u001b[0m\n\u001b[1;32m    363\u001b[0m     \u001b[0;32mdef\u001b[0m \u001b[0m__repr__\u001b[0m\u001b[0;34m(\u001b[0m\u001b[0mself\u001b[0m\u001b[0;34m)\u001b[0m\u001b[0;34m:\u001b[0m\u001b[0;34m\u001b[0m\u001b[0;34m\u001b[0m\u001b[0m\n",
      "\u001b[0;32m/opt/sagemath-9.2/local/lib/python3.7/site-packages/sage/geometry/polyhedron/constructor.py\u001b[0m in \u001b[0;36mPolyhedron\u001b[0;34m(vertices, rays, lines, ieqs, eqns, ambient_dim, base_ring, minimize, verbose, backend)\u001b[0m\n\u001b[1;32m    660\u001b[0m     \u001b[0;32mif\u001b[0m \u001b[0mgot_Vrep\u001b[0m\u001b[0;34m:\u001b[0m\u001b[0;34m\u001b[0m\u001b[0;34m\u001b[0m\u001b[0m\n\u001b[1;32m    661\u001b[0m         \u001b[0mVrep\u001b[0m \u001b[0;34m=\u001b[0m \u001b[0;34m[\u001b[0m\u001b[0mvertices\u001b[0m\u001b[0;34m,\u001b[0m \u001b[0mrays\u001b[0m\u001b[0;34m,\u001b[0m \u001b[0mlines\u001b[0m\u001b[0;34m]\u001b[0m\u001b[0;34m\u001b[0m\u001b[0;34m\u001b[0m\u001b[0m\n\u001b[0;32m--> 662\u001b[0;31m     \u001b[0;32mreturn\u001b[0m \u001b[0mparent\u001b[0m\u001b[0;34m(\u001b[0m\u001b[0mVrep\u001b[0m\u001b[0;34m,\u001b[0m \u001b[0mHrep\u001b[0m\u001b[0;34m,\u001b[0m \u001b[0mconvert\u001b[0m\u001b[0;34m=\u001b[0m\u001b[0mconvert\u001b[0m\u001b[0;34m,\u001b[0m \u001b[0mverbose\u001b[0m\u001b[0;34m=\u001b[0m\u001b[0mverbose\u001b[0m\u001b[0;34m)\u001b[0m\u001b[0;34m\u001b[0m\u001b[0;34m\u001b[0m\u001b[0m\n\u001b[0m",
      "\u001b[0;32m/opt/sagemath-9.2/local/lib/python3.7/site-packages/sage/structure/parent.pyx\u001b[0m in \u001b[0;36msage.structure.parent.Parent.__call__ (build/cythonized/sage/structure/parent.c:9364)\u001b[0;34m()\u001b[0m\n\u001b[1;32m    900\u001b[0m                 \u001b[0;32mreturn\u001b[0m \u001b[0mmor\u001b[0m\u001b[0;34m.\u001b[0m\u001b[0m_call_\u001b[0m\u001b[0;34m(\u001b[0m\u001b[0mx\u001b[0m\u001b[0;34m)\u001b[0m\u001b[0;34m\u001b[0m\u001b[0;34m\u001b[0m\u001b[0m\n\u001b[1;32m    901\u001b[0m             \u001b[0;32melse\u001b[0m\u001b[0;34m:\u001b[0m\u001b[0;34m\u001b[0m\u001b[0;34m\u001b[0m\u001b[0m\n\u001b[0;32m--> 902\u001b[0;31m                 \u001b[0;32mreturn\u001b[0m \u001b[0mmor\u001b[0m\u001b[0;34m.\u001b[0m\u001b[0m_call_with_args\u001b[0m\u001b[0;34m(\u001b[0m\u001b[0mx\u001b[0m\u001b[0;34m,\u001b[0m \u001b[0margs\u001b[0m\u001b[0;34m,\u001b[0m \u001b[0mkwds\u001b[0m\u001b[0;34m)\u001b[0m\u001b[0;34m\u001b[0m\u001b[0;34m\u001b[0m\u001b[0m\n\u001b[0m\u001b[1;32m    903\u001b[0m \u001b[0;34m\u001b[0m\u001b[0m\n\u001b[1;32m    904\u001b[0m         \u001b[0;32mraise\u001b[0m \u001b[0mTypeError\u001b[0m\u001b[0;34m(\u001b[0m\u001b[0m_LazyString\u001b[0m\u001b[0;34m(\u001b[0m\u001b[0m_lazy_format\u001b[0m\u001b[0;34m,\u001b[0m \u001b[0;34m(\u001b[0m\u001b[0;34m\"No conversion defined from %s to %s\"\u001b[0m\u001b[0;34m,\u001b[0m \u001b[0mR\u001b[0m\u001b[0;34m,\u001b[0m \u001b[0mself\u001b[0m\u001b[0;34m)\u001b[0m\u001b[0;34m,\u001b[0m \u001b[0;34m{\u001b[0m\u001b[0;34m}\u001b[0m\u001b[0;34m)\u001b[0m\u001b[0;34m)\u001b[0m\u001b[0;34m\u001b[0m\u001b[0;34m\u001b[0m\u001b[0m\n",
      "\u001b[0;32m/opt/sagemath-9.2/local/lib/python3.7/site-packages/sage/structure/coerce_maps.pyx\u001b[0m in \u001b[0;36msage.structure.coerce_maps.DefaultConvertMap_unique._call_with_args (build/cythonized/sage/structure/coerce_maps.c:5042)\u001b[0;34m()\u001b[0m\n\u001b[1;32m    173\u001b[0m                     \u001b[0;32mreturn\u001b[0m \u001b[0mC\u001b[0m\u001b[0;34m.\u001b[0m\u001b[0m_element_constructor\u001b[0m\u001b[0;34m(\u001b[0m\u001b[0mx\u001b[0m\u001b[0;34m,\u001b[0m \u001b[0;34m*\u001b[0m\u001b[0margs\u001b[0m\u001b[0;34m)\u001b[0m\u001b[0;34m\u001b[0m\u001b[0;34m\u001b[0m\u001b[0m\n\u001b[1;32m    174\u001b[0m                 \u001b[0;32melse\u001b[0m\u001b[0;34m:\u001b[0m\u001b[0;34m\u001b[0m\u001b[0;34m\u001b[0m\u001b[0m\n\u001b[0;32m--> 175\u001b[0;31m                     \u001b[0;32mreturn\u001b[0m \u001b[0mC\u001b[0m\u001b[0;34m.\u001b[0m\u001b[0m_element_constructor\u001b[0m\u001b[0;34m(\u001b[0m\u001b[0mx\u001b[0m\u001b[0;34m,\u001b[0m \u001b[0;34m*\u001b[0m\u001b[0margs\u001b[0m\u001b[0;34m,\u001b[0m \u001b[0;34m**\u001b[0m\u001b[0mkwds\u001b[0m\u001b[0;34m)\u001b[0m\u001b[0;34m\u001b[0m\u001b[0;34m\u001b[0m\u001b[0m\n\u001b[0m\u001b[1;32m    176\u001b[0m         \u001b[0;32mexcept\u001b[0m \u001b[0mException\u001b[0m\u001b[0;34m:\u001b[0m\u001b[0;34m\u001b[0m\u001b[0;34m\u001b[0m\u001b[0m\n\u001b[1;32m    177\u001b[0m             \u001b[0;32mif\u001b[0m \u001b[0mprint_warnings\u001b[0m\u001b[0;34m:\u001b[0m\u001b[0;34m\u001b[0m\u001b[0;34m\u001b[0m\u001b[0m\n",
      "\u001b[0;32m/opt/sagemath-9.2/local/lib/python3.7/site-packages/sage/geometry/polyhedron/parent.py\u001b[0m in \u001b[0;36m_element_constructor_\u001b[0;34m(self, *args, **kwds)\u001b[0m\n\u001b[1;32m    596\u001b[0m             \u001b[0;32mif\u001b[0m \u001b[0mconvert\u001b[0m \u001b[0;32mand\u001b[0m \u001b[0mVrep\u001b[0m\u001b[0;34m:\u001b[0m\u001b[0;34m\u001b[0m\u001b[0;34m\u001b[0m\u001b[0m\n\u001b[1;32m    597\u001b[0m                 \u001b[0mVrep\u001b[0m \u001b[0;34m=\u001b[0m \u001b[0;34m[\u001b[0m\u001b[0mconvert_base_ring\u001b[0m\u001b[0;34m(\u001b[0m\u001b[0m_\u001b[0m\u001b[0;34m)\u001b[0m \u001b[0;32mfor\u001b[0m \u001b[0m_\u001b[0m \u001b[0;32min\u001b[0m \u001b[0mVrep\u001b[0m\u001b[0;34m]\u001b[0m\u001b[0;34m\u001b[0m\u001b[0;34m\u001b[0m\u001b[0m\n\u001b[0;32m--> 598\u001b[0;31m             \u001b[0;32mreturn\u001b[0m \u001b[0mself\u001b[0m\u001b[0;34m.\u001b[0m\u001b[0melement_class\u001b[0m\u001b[0;34m(\u001b[0m\u001b[0mself\u001b[0m\u001b[0;34m,\u001b[0m \u001b[0mVrep\u001b[0m\u001b[0;34m,\u001b[0m \u001b[0mHrep\u001b[0m\u001b[0;34m,\u001b[0m \u001b[0;34m**\u001b[0m\u001b[0mkwds\u001b[0m\u001b[0;34m)\u001b[0m\u001b[0;34m\u001b[0m\u001b[0;34m\u001b[0m\u001b[0m\n\u001b[0m\u001b[1;32m    599\u001b[0m         \u001b[0;32mif\u001b[0m \u001b[0mnargs\u001b[0m \u001b[0;34m==\u001b[0m \u001b[0;36m1\u001b[0m \u001b[0;32mand\u001b[0m \u001b[0mis_Polyhedron\u001b[0m\u001b[0;34m(\u001b[0m\u001b[0margs\u001b[0m\u001b[0;34m[\u001b[0m\u001b[0;36m0\u001b[0m\u001b[0;34m]\u001b[0m\u001b[0;34m)\u001b[0m\u001b[0;34m:\u001b[0m\u001b[0;34m\u001b[0m\u001b[0;34m\u001b[0m\u001b[0m\n\u001b[1;32m    600\u001b[0m             \u001b[0mpolyhedron\u001b[0m \u001b[0;34m=\u001b[0m \u001b[0margs\u001b[0m\u001b[0;34m[\u001b[0m\u001b[0;36m0\u001b[0m\u001b[0;34m]\u001b[0m\u001b[0;34m\u001b[0m\u001b[0;34m\u001b[0m\u001b[0m\n",
      "\u001b[0;32m/opt/sagemath-9.2/local/lib/python3.7/site-packages/sage/geometry/polyhedron/backend_cdd.py\u001b[0m in \u001b[0;36m__init__\u001b[0;34m(self, parent, Vrep, Hrep, **kwds)\u001b[0m\n\u001b[1;32m    518\u001b[0m             \u001b[0msage\u001b[0m\u001b[0;34m:\u001b[0m \u001b[0mTestSuite\u001b[0m\u001b[0;34m(\u001b[0m\u001b[0mp\u001b[0m\u001b[0;34m)\u001b[0m\u001b[0;34m.\u001b[0m\u001b[0mrun\u001b[0m\u001b[0;34m(\u001b[0m\u001b[0;34m)\u001b[0m\u001b[0;34m\u001b[0m\u001b[0;34m\u001b[0m\u001b[0m\n\u001b[1;32m    519\u001b[0m         \"\"\"\n\u001b[0;32m--> 520\u001b[0;31m         \u001b[0mPolyhedron_cdd\u001b[0m\u001b[0;34m.\u001b[0m\u001b[0m__init__\u001b[0m\u001b[0;34m(\u001b[0m\u001b[0mself\u001b[0m\u001b[0;34m,\u001b[0m \u001b[0mparent\u001b[0m\u001b[0;34m,\u001b[0m \u001b[0mVrep\u001b[0m\u001b[0;34m,\u001b[0m \u001b[0mHrep\u001b[0m\u001b[0;34m,\u001b[0m \u001b[0;34m**\u001b[0m\u001b[0mkwds\u001b[0m\u001b[0;34m)\u001b[0m\u001b[0;34m\u001b[0m\u001b[0;34m\u001b[0m\u001b[0m\n\u001b[0m\u001b[1;32m    521\u001b[0m \u001b[0;34m\u001b[0m\u001b[0m\n\u001b[1;32m    522\u001b[0m     \u001b[0;32mdef\u001b[0m \u001b[0m_init_from_Vrepresentation_and_Hrepresentation\u001b[0m\u001b[0;34m(\u001b[0m\u001b[0mself\u001b[0m\u001b[0;34m,\u001b[0m \u001b[0mVrep\u001b[0m\u001b[0;34m,\u001b[0m \u001b[0mHrep\u001b[0m\u001b[0;34m,\u001b[0m \u001b[0mverbose\u001b[0m\u001b[0;34m=\u001b[0m\u001b[0;32mFalse\u001b[0m\u001b[0;34m)\u001b[0m\u001b[0;34m:\u001b[0m\u001b[0;34m\u001b[0m\u001b[0;34m\u001b[0m\u001b[0m\n",
      "\u001b[0;32m/opt/sagemath-9.2/local/lib/python3.7/site-packages/sage/geometry/polyhedron/base.py\u001b[0m in \u001b[0;36m__init__\u001b[0;34m(self, parent, Vrep, Hrep, Vrep_minimal, Hrep_minimal, pref_rep, **kwds)\u001b[0m\n\u001b[1;32m    252\u001b[0m         \u001b[0;32melif\u001b[0m \u001b[0mHrep\u001b[0m \u001b[0;32mis\u001b[0m \u001b[0;32mnot\u001b[0m \u001b[0;32mNone\u001b[0m\u001b[0;34m:\u001b[0m\u001b[0;34m\u001b[0m\u001b[0;34m\u001b[0m\u001b[0m\n\u001b[1;32m    253\u001b[0m             \u001b[0mieqs\u001b[0m\u001b[0;34m,\u001b[0m \u001b[0meqns\u001b[0m \u001b[0;34m=\u001b[0m \u001b[0mHrep\u001b[0m\u001b[0;34m\u001b[0m\u001b[0;34m\u001b[0m\u001b[0m\n\u001b[0;32m--> 254\u001b[0;31m             \u001b[0mself\u001b[0m\u001b[0;34m.\u001b[0m\u001b[0m_init_from_Hrepresentation\u001b[0m\u001b[0;34m(\u001b[0m\u001b[0mieqs\u001b[0m\u001b[0;34m,\u001b[0m \u001b[0meqns\u001b[0m\u001b[0;34m,\u001b[0m \u001b[0;34m**\u001b[0m\u001b[0mkwds\u001b[0m\u001b[0;34m)\u001b[0m\u001b[0;34m\u001b[0m\u001b[0;34m\u001b[0m\u001b[0m\n\u001b[0m\u001b[1;32m    255\u001b[0m         \u001b[0;32melse\u001b[0m\u001b[0;34m:\u001b[0m\u001b[0;34m\u001b[0m\u001b[0;34m\u001b[0m\u001b[0m\n\u001b[1;32m    256\u001b[0m             \u001b[0mself\u001b[0m\u001b[0;34m.\u001b[0m\u001b[0m_init_empty_polyhedron\u001b[0m\u001b[0;34m(\u001b[0m\u001b[0;34m)\u001b[0m\u001b[0;34m\u001b[0m\u001b[0;34m\u001b[0m\u001b[0m\n",
      "\u001b[0;32m/opt/sagemath-9.2/local/lib/python3.7/site-packages/sage/geometry/polyhedron/backend_cdd.py\u001b[0m in \u001b[0;36m_init_from_Hrepresentation\u001b[0;34m(self, ieqs, eqns, verbose)\u001b[0m\n\u001b[1;32m    123\u001b[0m         \u001b[0ms\u001b[0m \u001b[0;34m=\u001b[0m \u001b[0mcdd_Hrepresentation\u001b[0m\u001b[0;34m(\u001b[0m\u001b[0mself\u001b[0m\u001b[0;34m.\u001b[0m\u001b[0m_cdd_type\u001b[0m\u001b[0;34m,\u001b[0m \u001b[0mieqs\u001b[0m\u001b[0;34m,\u001b[0m \u001b[0meqns\u001b[0m\u001b[0;34m)\u001b[0m\u001b[0;34m\u001b[0m\u001b[0;34m\u001b[0m\u001b[0m\n\u001b[1;32m    124\u001b[0m         \u001b[0ms\u001b[0m \u001b[0;34m=\u001b[0m \u001b[0mself\u001b[0m\u001b[0;34m.\u001b[0m\u001b[0m_run_cdd\u001b[0m\u001b[0;34m(\u001b[0m\u001b[0ms\u001b[0m\u001b[0;34m,\u001b[0m \u001b[0;34m'--redcheck'\u001b[0m\u001b[0;34m,\u001b[0m \u001b[0mverbose\u001b[0m\u001b[0;34m=\u001b[0m\u001b[0mverbose\u001b[0m\u001b[0;34m)\u001b[0m\u001b[0;34m\u001b[0m\u001b[0;34m\u001b[0m\u001b[0m\n\u001b[0;32m--> 125\u001b[0;31m         \u001b[0ms\u001b[0m \u001b[0;34m=\u001b[0m \u001b[0mself\u001b[0m\u001b[0;34m.\u001b[0m\u001b[0m_run_cdd\u001b[0m\u001b[0;34m(\u001b[0m\u001b[0ms\u001b[0m\u001b[0;34m,\u001b[0m \u001b[0;34m'--repall'\u001b[0m\u001b[0;34m,\u001b[0m \u001b[0mverbose\u001b[0m\u001b[0;34m=\u001b[0m\u001b[0mverbose\u001b[0m\u001b[0;34m)\u001b[0m\u001b[0;34m\u001b[0m\u001b[0;34m\u001b[0m\u001b[0m\n\u001b[0m\u001b[1;32m    126\u001b[0m         \u001b[0mself\u001b[0m\u001b[0;34m.\u001b[0m\u001b[0m_init_from_cdd_output\u001b[0m\u001b[0;34m(\u001b[0m\u001b[0ms\u001b[0m\u001b[0;34m)\u001b[0m\u001b[0;34m\u001b[0m\u001b[0;34m\u001b[0m\u001b[0m\n\u001b[1;32m    127\u001b[0m         \u001b[0;32mif\u001b[0m \u001b[0;32mnot\u001b[0m \u001b[0mself\u001b[0m\u001b[0;34m.\u001b[0m\u001b[0mbase_ring\u001b[0m\u001b[0;34m(\u001b[0m\u001b[0;34m)\u001b[0m\u001b[0;34m.\u001b[0m\u001b[0mis_exact\u001b[0m\u001b[0;34m(\u001b[0m\u001b[0;34m)\u001b[0m\u001b[0;34m:\u001b[0m\u001b[0;34m\u001b[0m\u001b[0;34m\u001b[0m\u001b[0m\n",
      "\u001b[0;32m/opt/sagemath-9.2/local/lib/python3.7/site-packages/sage/geometry/polyhedron/backend_cdd.py\u001b[0m in \u001b[0;36m_run_cdd\u001b[0;34m(self, cdd_input_string, cmdline_arg, verbose)\u001b[0m\n\u001b[1;32m    159\u001b[0m         cdd_proc = Popen([self._cdd_executable, cmdline_arg],\n\u001b[1;32m    160\u001b[0m                          \u001b[0mstdin\u001b[0m\u001b[0;34m=\u001b[0m\u001b[0mPIPE\u001b[0m\u001b[0;34m,\u001b[0m \u001b[0mstdout\u001b[0m\u001b[0;34m=\u001b[0m\u001b[0mPIPE\u001b[0m\u001b[0;34m,\u001b[0m \u001b[0mstderr\u001b[0m\u001b[0;34m=\u001b[0m\u001b[0mPIPE\u001b[0m\u001b[0;34m,\u001b[0m\u001b[0;34m\u001b[0m\u001b[0;34m\u001b[0m\u001b[0m\n\u001b[0;32m--> 161\u001b[0;31m                          encoding='latin-1')\n\u001b[0m\u001b[1;32m    162\u001b[0m         \u001b[0mans\u001b[0m\u001b[0;34m,\u001b[0m \u001b[0merr\u001b[0m \u001b[0;34m=\u001b[0m \u001b[0mcdd_proc\u001b[0m\u001b[0;34m.\u001b[0m\u001b[0mcommunicate\u001b[0m\u001b[0;34m(\u001b[0m\u001b[0minput\u001b[0m\u001b[0;34m=\u001b[0m\u001b[0mcdd_input_string\u001b[0m\u001b[0;34m)\u001b[0m\u001b[0;34m\u001b[0m\u001b[0;34m\u001b[0m\u001b[0m\n\u001b[1;32m    163\u001b[0m \u001b[0;34m\u001b[0m\u001b[0m\n",
      "\u001b[0;32m/usr/lib/python3.7/subprocess.py\u001b[0m in \u001b[0;36m__init__\u001b[0;34m(self, args, bufsize, executable, stdin, stdout, stderr, preexec_fn, close_fds, shell, cwd, env, universal_newlines, startupinfo, creationflags, restore_signals, start_new_session, pass_fds, encoding, errors, text)\u001b[0m\n\u001b[1;32m    798\u001b[0m                                 \u001b[0mc2pread\u001b[0m\u001b[0;34m,\u001b[0m \u001b[0mc2pwrite\u001b[0m\u001b[0;34m,\u001b[0m\u001b[0;34m\u001b[0m\u001b[0;34m\u001b[0m\u001b[0m\n\u001b[1;32m    799\u001b[0m                                 \u001b[0merrread\u001b[0m\u001b[0;34m,\u001b[0m \u001b[0merrwrite\u001b[0m\u001b[0;34m,\u001b[0m\u001b[0;34m\u001b[0m\u001b[0;34m\u001b[0m\u001b[0m\n\u001b[0;32m--> 800\u001b[0;31m                                 restore_signals, start_new_session)\n\u001b[0m\u001b[1;32m    801\u001b[0m         \u001b[0;32mexcept\u001b[0m\u001b[0;34m:\u001b[0m\u001b[0;34m\u001b[0m\u001b[0;34m\u001b[0m\u001b[0m\n\u001b[1;32m    802\u001b[0m             \u001b[0;31m# Cleanup if the child failed starting.\u001b[0m\u001b[0;34m\u001b[0m\u001b[0;34m\u001b[0m\u001b[0;34m\u001b[0m\u001b[0m\n",
      "\u001b[0;32m/usr/lib/python3.7/subprocess.py\u001b[0m in \u001b[0;36m_execute_child\u001b[0;34m(self, args, executable, preexec_fn, close_fds, pass_fds, cwd, env, startupinfo, creationflags, shell, p2cread, p2cwrite, c2pread, c2pwrite, errread, errwrite, restore_signals, start_new_session)\u001b[0m\n\u001b[1;32m   1480\u001b[0m                             \u001b[0merrread\u001b[0m\u001b[0;34m,\u001b[0m \u001b[0merrwrite\u001b[0m\u001b[0;34m,\u001b[0m\u001b[0;34m\u001b[0m\u001b[0;34m\u001b[0m\u001b[0m\n\u001b[1;32m   1481\u001b[0m                             \u001b[0merrpipe_read\u001b[0m\u001b[0;34m,\u001b[0m \u001b[0merrpipe_write\u001b[0m\u001b[0;34m,\u001b[0m\u001b[0;34m\u001b[0m\u001b[0;34m\u001b[0m\u001b[0m\n\u001b[0;32m-> 1482\u001b[0;31m                             restore_signals, start_new_session, preexec_fn)\n\u001b[0m\u001b[1;32m   1483\u001b[0m                     \u001b[0mself\u001b[0m\u001b[0;34m.\u001b[0m\u001b[0m_child_created\u001b[0m \u001b[0;34m=\u001b[0m \u001b[0;32mTrue\u001b[0m\u001b[0;34m\u001b[0m\u001b[0;34m\u001b[0m\u001b[0m\n\u001b[1;32m   1484\u001b[0m                 \u001b[0;32mfinally\u001b[0m\u001b[0;34m:\u001b[0m\u001b[0;34m\u001b[0m\u001b[0;34m\u001b[0m\u001b[0m\n",
      "\u001b[0;32msrc/cysignals/signals.pyx\u001b[0m in \u001b[0;36mcysignals.signals.python_check_interrupt\u001b[0;34m()\u001b[0m\n",
      "\u001b[0;31mKeyboardInterrupt\u001b[0m: "
     ]
    }
   ],
   "source": [
    "graphname=\"G4M02M13\"\n",
    "G=Graph([(\"0\",\"1\"),(\"1\",\"2\"),(\"2\",\"3\"),(\"3\",\"0\"),(\"0\",\"2\"),(\"1\",\"3\")], multiedges=True)\n",
    "\n",
    "data=unpickle(graphname) #Size=10\n",
    "\n",
    "dic_l=analyse_graphname(G,data,ind_breaks=0)"
   ]
  },
  {
   "cell_type": "code",
   "execution_count": 93,
   "id": "03ab9af6",
   "metadata": {
    "tags": []
   },
   "outputs": [],
   "source": [
    "# #Store list of dictionaries\n",
    "# pickle_dic_l(graphname,dic_l)"
   ]
  },
  {
   "cell_type": "code",
   "execution_count": 94,
   "id": "254a0b82",
   "metadata": {
    "collapsed": true,
    "jupyter": {
     "outputs_hidden": true
    },
    "tags": []
   },
   "outputs": [
    {
     "name": "stdout",
     "output_type": "stream",
     "text": [
      "Total number of wsc 10\n",
      "Number of wsc that do/do not satisfy graph poly == tree poly: {True: 10}\n",
      "Number of polytopes of a given (dimension:number of at dim): {3: 10}\n",
      "Number of wsc that are/are not generated by phi_rep: {True: 10}\n",
      "Number of wsc that are/are not generated by phi_av: {True: 10}\n",
      "Number of wsc that are/are not generated by phi_can: {True: 1, False: 9}\n",
      "Number of wsc that are/are not generated by phi_av_translated1: {True: 10}\n",
      "Number of wsc that are/are not generated by phi_av_translated2: {True: 10}\n",
      "\n"
     ]
    }
   ],
   "source": [
    "analyse_table(dic_l,f=True)"
   ]
  },
  {
   "cell_type": "markdown",
   "id": "9fbe8a9a",
   "metadata": {},
   "source": [
    "### $G_2$"
   ]
  },
  {
   "cell_type": "code",
   "execution_count": null,
   "id": "94ad7833",
   "metadata": {
    "tags": []
   },
   "outputs": [],
   "source": [
    "graphname=\"G5M02M03\"\n",
    "G=Graph([(\"0\",\"1\"),(\"1\",\"2\"),(\"2\",\"3\"),(\"3\",\"4\"),(\"4\",\"0\"),(\"0\",\"2\"),(\"0\",\"3\")], multiedges=True)\n",
    "\n",
    "data=unpickle(graphname) #Size=24\n",
    "\n",
    "dic_l=analyse_graphname(G,data,ind_breaks=0)"
   ]
  },
  {
   "cell_type": "code",
   "execution_count": null,
   "id": "e016442e",
   "metadata": {
    "tags": []
   },
   "outputs": [],
   "source": [
    "#Store list of dictionaries\n",
    "pickle_dic_l(graphname,dic_l)"
   ]
  },
  {
   "cell_type": "code",
   "execution_count": null,
   "id": "dccfae44",
   "metadata": {},
   "outputs": [],
   "source": [
    "analyse_table(dic_l,f=True)"
   ]
  },
  {
   "cell_type": "markdown",
   "id": "830b1e5e",
   "metadata": {
    "jp-MarkdownHeadingCollapsed": true,
    "tags": []
   },
   "source": [
    "### $G_3$"
   ]
  },
  {
   "cell_type": "code",
   "execution_count": null,
   "id": "c16a2c50",
   "metadata": {
    "tags": []
   },
   "outputs": [],
   "source": [
    "graphname=\"G5M02M03M14\"\n",
    "G=Graph([(\"0\",\"1\"),(\"1\",\"2\"),(\"2\",\"3\"),(\"3\",\"4\"),(\"4\",\"0\"),(\"0\",\"2\"),(\"0\",\"3\"),(\"1\",\"4\")], multiedges=True)\n",
    "\n",
    "data=unpickle(graphname) #Size=82\n",
    "\n",
    "dic_l=analyse_graphname(G,data,ind_breaks=0)"
   ]
  },
  {
   "cell_type": "code",
   "execution_count": null,
   "id": "cd40128b",
   "metadata": {
    "tags": []
   },
   "outputs": [],
   "source": [
    "#Store list of dictionaries\n",
    "pickle_dic_l(graphname,dic_l)"
   ]
  },
  {
   "cell_type": "code",
   "execution_count": null,
   "id": "e3824427",
   "metadata": {},
   "outputs": [],
   "source": [
    "analyse_table(dic_l,f=True)"
   ]
  }
 ],
 "metadata": {
  "kernelspec": {
   "display_name": "Python 3 (ipykernel)",
   "language": "python",
   "name": "python3"
  },
  "language_info": {
   "codemirror_mode": {
    "name": "ipython",
    "version": 3
   },
   "file_extension": ".py",
   "mimetype": "text/x-python",
   "name": "python",
   "nbconvert_exporter": "python",
   "pygments_lexer": "ipython3",
   "version": "3.10.8"
  },
  "toc-autonumbering": true,
  "toc-showcode": false,
  "toc-showmarkdowntxt": false,
  "toc-showtags": false
 },
 "nbformat": 4,
 "nbformat_minor": 5
}
