{
 "cells": [
  {
   "cell_type": "markdown",
   "id": "ba0e80f8-88ce-4c66-98d9-dbd28d971ef9",
   "metadata": {
    "jp-MarkdownHeadingCollapsed": true,
    "tags": []
   },
   "source": [
    "# Overview"
   ]
  },
  {
   "cell_type": "markdown",
   "id": "952b68ef-59e7-4cf3-9dd9-da1f065f42fd",
   "metadata": {},
   "source": [
    "# Table of contents\n",
    "1. [section](#sum)\n"
   ]
  },
  {
   "cell_type": "markdown",
   "id": "f5fa49e7-374e-4074-9305-3146c4689794",
   "metadata": {
    "tags": []
   },
   "source": [
    "# section <a name=\"sec\"></a>\n",
    "\n",
    "## Focus Functions\n",
    "\n",
    "## Functions"
   ]
  },
  {
   "cell_type": "markdown",
   "id": "0480d4ff-332f-4005-846f-ea6f167d4d4a",
   "metadata": {
    "tags": []
   },
   "source": [
    "# Used Throughout"
   ]
  },
  {
   "cell_type": "code",
   "execution_count": 12,
   "id": "d1ad0c8c-81e5-44d0-a3c5-2411cd6abd99",
   "metadata": {},
   "outputs": [
    {
     "data": {
      "text/plain": [
       "'Objective: This is a test'"
      ]
     },
     "execution_count": 12,
     "metadata": {},
     "output_type": "execute_result"
    }
   ],
   "source": [
    "import ast\n",
    "import inspect"
   ]
  },
  {
   "cell_type": "code",
   "execution_count": 31,
   "id": "f408d426-f641-4b50-9c67-d039d5931df5",
   "metadata": {},
   "outputs": [],
   "source": [
    "def find_functions_used(func):\n",
    "    \n",
    "    \"\"\"Add print Objective.\"\"\"\n",
    "    \n",
    "    functions_used = set()\n",
    "    tree = ast.parse(inspect.getsource(func))\n",
    "    for node in ast.walk(tree):\n",
    "        if isinstance(node, ast.Call) and isinstance(node.func, ast.Name):\n",
    "            functions_used.add(node.func.id)\n",
    "    return functions_used\n",
    "\n",
    "def extract_objective(func):\n",
    "    \"\"\"\n",
    "    Extracts the string of the line containing \"Objective\" from the docstring of a given function.\n",
    "\n",
    "    Args:\n",
    "        func: The function to extract the objective from.\n",
    "\n",
    "    Returns:\n",
    "        A string containing the objective.\n",
    "    \"\"\"\n",
    "    \n",
    "    \"\"\"\n",
    "        def f():\n",
    "\n",
    "        \n",
    "            Objective: This is a test\n",
    "            Input:\n",
    "            Return\n",
    "        \n",
    "\n",
    "        x=33\n",
    "\n",
    "        return\n",
    "        extract_objective(f)\n",
    "    \"\"\"\n",
    "    docstring = inspect.getdoc(func)\n",
    "    if docstring is None:\n",
    "        return None\n",
    "    lines = docstring.split('\\n')\n",
    "    for line in lines:\n",
    "        if 'Objective' in line:\n",
    "            return line.strip()\n",
    "    return None\n",
    "\n",
    "def find_functions_used_l(l,flag=False):\n",
    "    for func in l:\n",
    "        functions_used = find_functions_used(func)\n",
    "        if flag==True:\n",
    "            print(f\"{func.__name__}:\\n{extract_objective(func)}\\n{functions_used} \\n\")\n",
    "        if flag=False:\n",
    "            print(f\"{func.__name__}:\\n{functions_used} \\n\")\n"
   ]
  },
  {
   "cell_type": "code",
   "execution_count": null,
   "id": "b7724ff9-ed23-43b4-93db-ee81cd6456b8",
   "metadata": {},
   "outputs": [],
   "source": [
    "# l = [f1, f2, f3]\n",
    "# find_functions_used_l(l)"
   ]
  },
  {
   "cell_type": "markdown",
   "id": "b41eced2-fec8-4c79-a41d-e186009900b3",
   "metadata": {},
   "source": [
    "# Leftovers"
   ]
  }
 ],
 "metadata": {
  "kernelspec": {
   "display_name": "Python 3 (ipykernel)",
   "language": "python",
   "name": "python3"
  },
  "language_info": {
   "codemirror_mode": {
    "name": "ipython",
    "version": 3
   },
   "file_extension": ".py",
   "mimetype": "text/x-python",
   "name": "python",
   "nbconvert_exporter": "python",
   "pygments_lexer": "ipython3",
   "version": "3.10.8"
  }
 },
 "nbformat": 4,
 "nbformat_minor": 5
}
