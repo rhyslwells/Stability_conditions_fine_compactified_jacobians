{
 "cells": [
  {
   "cell_type": "markdown",
   "id": "6507d77e-58f6-4ab9-907a-1434d38e4615",
   "metadata": {},
   "source": [
    "# Outline"
   ]
  },
  {
   "cell_type": "markdown",
   "id": "82043bd0-f116-4945-8f3b-c293e64d94e6",
   "metadata": {},
   "source": [
    "In this Notebook we consider graph $\\Gamma$ a $n$-necklace labelled by $L=[n]$, $T= \\Gamma \\setminus e_{1} $ and $D_{T}= \\vec{0}$, and provide a implementation of Theorem 4.1.4  to calculate for any cycle $\\tau \\in C_{L}$ the corresponding $\\sigma_{\\Gamma} \\in \\Sigma_{\\Gamma}^{d}$ as the list of elements of $\\sigma_{\\Gamma}(\\Gamma)$ and a list of elements of $\\sigma_{\\Gamma}(T^{'})$ for all $T^{'} \\in \\mathcal{ST}(\\Gamma)$."
   ]
  },
  {
   "cell_type": "markdown",
   "id": "afbe12e8-584a-421b-9448-554af7c5cd79",
   "metadata": {},
   "source": [
    "Notes:\n",
    "\n",
    "0) Please run #Functions before going to #Example.\n",
    "\n",
    "1) The construction here is general and one can enter any n-cycle to obtain the assoicated stability condtion for the $n$ -necklace graph.\n",
    "\n",
    "2) The orientation of the cycle is incorporated into its implementation here."
   ]
  },
  {
   "cell_type": "markdown",
   "id": "3295f20f-e2d2-4686-877c-88e8fc020d9c",
   "metadata": {
    "tags": []
   },
   "source": [
    "# Table of contents"
   ]
  },
  {
   "cell_type": "markdown",
   "id": "f13f9add-bce7-4619-8c00-a43ade8d7ab9",
   "metadata": {},
   "source": [
    "1. [Functions](#s1)\n",
    "2. [Example](#s2)"
   ]
  },
  {
   "cell_type": "markdown",
   "id": "b4fd2b09-7730-4306-85f0-07e37916454d",
   "metadata": {
    "tags": []
   },
   "source": [
    "# Functions <a name=\"s1\"></a>"
   ]
  },
  {
   "cell_type": "markdown",
   "id": "8e101dad",
   "metadata": {},
   "source": [
    "We will explain the main functions and leave the subfunctions. See the docstring for a description of specific functions."
   ]
  },
  {
   "cell_type": "code",
   "execution_count": 4,
   "id": "7b4d928c",
   "metadata": {},
   "outputs": [],
   "source": [
    "from itertools import combinations,permutations\n",
    "import numpy as np"
   ]
  },
  {
   "cell_type": "markdown",
   "id": "1fdd2b57",
   "metadata": {},
   "source": [
    "The next series of functions allow one to compute\n",
    "\n",
    "$$\\Delta^{\\tau}_{l_i}:=\\delta_{h\\left( e_{l_{i}} \\right)}-\\delta_{t\\left(e_{l_{i+1}}\\right)} \\quad \\text{and} \\quad \\Delta^{\\tau}_{l_k:{l_k^{\\prime}}}:=\\sum_{k \\leq i < k^{\\prime}} \\Delta^{\\tau}_{l_i}.$$\n",
    "\n",
    "in particular $\\sigma_{\\Gamma}(T_{l_k})=\\{\\vec{d}_{T_{l_k}}\\}$ where $\\vec{d}_{T_{l_{1}}}:=D_T$, $\\vec{d}_{T_{l_k}}:= D_T+ \\Delta_{l_1:l_k}^{\\tau}$ for $1 \\le k\\le n$."
   ]
  },
  {
   "cell_type": "code",
   "execution_count": 7,
   "id": "e84aaed6",
   "metadata": {
    "code_folding": [
     0,
     16,
     29
    ]
   },
   "outputs": [],
   "source": [
    "def head(n, prev_tree_edge):\n",
    "    \"\"\"\n",
    "    n= number of vertices in \\Gamma\n",
    "    \n",
    "    previous element of the cycle, ie tree_edge is j where e_j ={v_j,v_{j+1}} \n",
    "    \"\"\"\n",
    "    head = np.zeros(n)\n",
    "\n",
    "    if prev_tree_edge == n:\n",
    "        head[0] = 1\n",
    "    else:\n",
    "        head[prev_tree_edge] = 1\n",
    "\n",
    "    return head\n",
    "\n",
    "\n",
    "def tail(n, current_tree_edge):\n",
    "    \"\"\"\n",
    "    n= number of vertices in I_n\n",
    "    tree_edge is j where e_j ={v_j,v_{j+1}}\n",
    "    i is previous element of the cycle, ie tree_edge\n",
    "    \"\"\"\n",
    "    tail = np.zeros(n)\n",
    "    # if current_tree_edge==n:\n",
    "    #     tail[0]=-1\n",
    "    tail[current_tree_edge - 1] = -1\n",
    "\n",
    "    return tail"
   ]
  },
  {
   "cell_type": "markdown",
   "id": "9fb386e3",
   "metadata": {},
   "source": [
    "The next main function is cycle_to_assignments(). For a fixed cycle $\\tau \\in C_{L}$ the function cycle_to_assignments() returns $A_{\\Gamma}$, following Theorem 4.1.4 (genus 1 theorem)."
   ]
  },
  {
   "cell_type": "code",
   "execution_count": 5,
   "id": "ccb4a456",
   "metadata": {
    "code_folding": [
     0
    ]
   },
   "outputs": [],
   "source": [
    "def get_cycles(n):\n",
    "    \"\"\"\n",
    "    Objective: Gets a list of all possible length n cycles (permutations) beginning with 1\n",
    "    Input: n an integer.\n",
    "    Returns: a list of all possible length n cycles (permutations) beginning with 1\n",
    "    \"\"\"\n",
    "\n",
    "    lst = list(range(1, n + 1))\n",
    "    x = permutations(lst, n)\n",
    "    y = [i for i in x if i[0] == 1]\n",
    "\n",
    "    #Does:\n",
    "    # x=permutations([1,2,3,4,5],5)\n",
    "    # y=[i for i in x if i[0]==1]\n",
    "    # # print(len(y))\n",
    "    # for i in y:\n",
    "    #     print(i)\n",
    "\n",
    "    return y"
   ]
  },
  {
   "cell_type": "code",
   "execution_count": 6,
   "id": "a0d3f08d",
   "metadata": {
    "code_folding": [
     1
    ]
   },
   "outputs": [],
   "source": [
    "#Main to get assingments from cycle\n",
    "def cycle_to_assignments(cycle):\n",
    "    \"\"\"\n",
    "    Objective: Get the assoicated A_{\\Gamma} for the given cycle.\n",
    "    \n",
    "    Input:\n",
    "    cycle: is a length n cycle corresponding to the permutation of [1,...,n]\n",
    "    \n",
    "    Returns:\n",
    "    A list of (i,assignment) where i is the label of the missing edge and\n",
    "    defines the tree $T= \\Gamma \\setminus e_i$ for which the assignment is on, and the assignment is $A_{\\Gamma}(T)$.\n",
    "    \"\"\"\n",
    "\n",
    "    n = len(cycle)  # cycle=(1,3,4,2)\n",
    "\n",
    "    ass_0 = np.zeros(n)\n",
    "\n",
    "    M = [(1, ass_0)]  # Memory\n",
    "\n",
    "    for i in range(1, len(cycle)):\n",
    "\n",
    "        current_tree_edge = cycle[i]\n",
    "        tup = M[-1]  #pick last item of M\n",
    "\n",
    "        vtail = tail(n, current_tree_edge)\n",
    "        vhead = head(n, tup[0])\n",
    "        prev_ass = tup[1]\n",
    "\n",
    "        current_ass_t = prev_ass + vtail + vhead\n",
    "        M.append((current_tree_edge, current_ass_t))\n",
    "\n",
    "    # for i in M:\n",
    "    #     print(i)\n",
    "\n",
    "    return M"
   ]
  },
  {
   "cell_type": "markdown",
   "id": "a59515c2",
   "metadata": {},
   "source": [
    "\n",
    "The final function allows one to determine $\\sigma_{\\Gamma}(\\Gamma)=\\{\\vec{d}_{l_1},\\dots,\\vec{d}_{l_n}\\}$ and $\\vec{d}_{l_k}:= \\vec{d}_{T_{l_k}}+ \\delta_{h(e_{l_k})}$ for $1 \\le k\\le n$. \n",
    "\n",
    "    \n"
   ]
  },
  {
   "cell_type": "code",
   "execution_count": null,
   "id": "a34919bb",
   "metadata": {},
   "outputs": [],
   "source": [
    "def tail_plus(n, current_tree_edge):  #for chip adding\n",
    "    \"\"\"\n",
    "    n= number of vertices in I_n\n",
    "    tree_edge is j where e_j ={v_j,v_{j+1}}\n",
    "    i is previous element of the cycle, ie tree_edge\n",
    "    \"\"\"\n",
    "    tail = np.zeros(n)\n",
    "    # if current_tree_edge==n:\n",
    "    #     tail[0]=-1\n",
    "    tail[current_tree_edge - 1] = 1\n",
    "\n",
    "    return tail"
   ]
  },
  {
   "cell_type": "markdown",
   "id": "5bd0bedb",
   "metadata": {
    "tags": []
   },
   "source": [
    "# Example <a name=\"s2\"></a>"
   ]
  },
  {
   "cell_type": "markdown",
   "id": "095818ca-e708-497c-b88c-5896b5d15e14",
   "metadata": {},
   "source": [
    "Given a $n$ cycle we can obtain the tree assignment $A_{\\Gamma}$. The output will be a list of $(T,D_{T})$ where $T=\\Gamma \\setminus e_{i}$ for example in (4, array([ 0.,  1.,  0., -1.]) we have the tree with missing edge $e_{4}$ and divisor  $(0 v_{0},  1v_{1},  0v_{2}, -1v_{3})$."
   ]
  },
  {
   "cell_type": "code",
   "execution_count": 8,
   "id": "7bd09ab0-0238-461b-a8cf-af6b4007d2f1",
   "metadata": {},
   "outputs": [
    {
     "name": "stdout",
     "output_type": "stream",
     "text": [
      "[(1, array([0., 0., 0., 0.])), (4, array([ 0.,  1.,  0., -1.])), (2, array([ 1.,  0.,  0., -1.])), (3, array([ 1.,  0.,  0., -1.]))]\n"
     ]
    }
   ],
   "source": [
    "cycle=(1,4,2,3) #<--- Enter any cycle (begining with 1) here to compute the assoicated stability condition\n",
    "M=cycle_to_assignments(cycle)\n",
    "n=len(cycle)\n",
    "print(M)\n",
    "\n",
    "# Output:\n",
    "\n",
    "# [(1, array([0., 0., 0., 0.])),\n",
    "#  (4, array([ 0.,  1.,  0., -1.])),\n",
    "#  (2, array([ 1.,  0.,  0., -1.])),\n",
    "#  (3, array([ 1.,  0.,  0., -1.]))]"
   ]
  },
  {
   "cell_type": "markdown",
   "id": "5e426d3e-eb3c-4da3-9a71-87e3e597e1d1",
   "metadata": {},
   "source": [
    "From $A_{\\Gamma}$ we can take $\\sigma_{\\Gamma}^{A_{\\Gamma}}(\\Gamma)$ by taking the union of $C_{\\Gamma}(\\sigma_{\\Gamma}^{A_{\\Gamma}}(T))$ for each $T$."
   ]
  },
  {
   "cell_type": "code",
   "execution_count": 10,
   "id": "c99ef55e-1e0f-42ce-8eaf-d3dc22cb3ae9",
   "metadata": {},
   "outputs": [],
   "source": [
    "#Get break div for trees\n",
    "\n",
    "lbm=[]\n",
    "\n",
    "for data in M: \n",
    "    index=data[0]\n",
    "    ass=data[1]\n",
    "    vhead=head(n,index)\n",
    "    vtail=tail_plus(n,index)\n",
    "\n",
    "    lbm.append(ass+vhead)\n",
    "    lbm.append(ass+vtail)\n",
    "\n",
    "#check size:\n",
    "\n",
    "lbm=np.unique(lbm,axis=0)"
   ]
  },
  {
   "cell_type": "code",
   "execution_count": 11,
   "id": "35b9d1ce-c65b-4da2-99cb-aaf04584230e",
   "metadata": {},
   "outputs": [
    {
     "name": "stdout",
     "output_type": "stream",
     "text": [
      "[[ 0.  1.  0.  0.]\n",
      " [ 1.  0.  0.  0.]\n",
      " [ 1.  0.  1. -1.]\n",
      " [ 1.  1.  0. -1.]]\n",
      "4\n"
     ]
    }
   ],
   "source": [
    "print(lbm)\n",
    "# [[ 0.  1.  0.  0.]\n",
    "#  [ 1.  0.  0.  0.]\n",
    "#  [ 1.  0.  1. -1.]\n",
    "#  [ 1.  1.  0. -1.]]"
   ]
  }
 ],
 "metadata": {
  "hide_input": false,
  "kernelspec": {
   "display_name": "Python 3 (ipykernel)",
   "language": "python",
   "name": "python3"
  },
  "language_info": {
   "codemirror_mode": {
    "name": "ipython",
    "version": 3
   },
   "file_extension": ".py",
   "mimetype": "text/x-python",
   "name": "python",
   "nbconvert_exporter": "python",
   "pygments_lexer": "ipython3",
   "version": "3.10.8"
  },
  "latex_envs": {
   "LaTeX_envs_menu_present": true,
   "autoclose": false,
   "autocomplete": true,
   "bibliofile": "biblio.bib",
   "cite_by": "apalike",
   "current_citInitial": 1,
   "eqLabelWithNumbers": true,
   "eqNumInitial": 1,
   "hotkeys": {
    "equation": "Ctrl-E",
    "itemize": "Ctrl-I"
   },
   "labels_anchors": false,
   "latex_user_defs": false,
   "report_style_numbering": false,
   "user_envs_cfg": false
  },
  "toc": {
   "base_numbering": 1,
   "nav_menu": {},
   "number_sections": true,
   "sideBar": true,
   "skip_h1_title": false,
   "title_cell": "Table of Contents",
   "title_sidebar": "Contents",
   "toc_cell": false,
   "toc_position": {},
   "toc_section_display": true,
   "toc_window_display": false
  }
 },
 "nbformat": 4,
 "nbformat_minor": 5
}
