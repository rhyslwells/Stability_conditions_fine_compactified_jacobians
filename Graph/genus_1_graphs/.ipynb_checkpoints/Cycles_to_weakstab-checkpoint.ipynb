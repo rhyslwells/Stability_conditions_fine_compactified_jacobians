{
 "cells": [
  {
   "cell_type": "markdown",
   "id": "6fa5f5e8",
   "metadata": {},
   "source": [
    "# Outline"
   ]
  },
  {
   "cell_type": "markdown",
   "id": "53d4f7f7-d139-4439-ae42-64e2005ce904",
   "metadata": {},
   "source": [
    "In this file we present an example of the computation use to obtain a weak stability condition on a necklace graph with $\\vec{d}_{T}= \\vec{0}$ for some tree (Tree with $e_1$ missing) from a cycle.\n",
    "\n",
    "Note: The construction here is general and one can enter any n-cycle to obtain the assoicated weak stability condtion."
   ]
  },
  {
   "cell_type": "markdown",
   "id": "3fbf7cf4-ece7-4aff-96ca-e0df23dd55b7",
   "metadata": {},
   "source": [
    "Consider the $n$-necklace (orienation clockwise) with vertices labeled $v_1,\\dots,v_n$. Recall the theorem,"
   ]
  },
  {
   "cell_type": "markdown",
   "id": "0fb3ec50-58b8-445c-a745-c010fcb9faff",
   "metadata": {},
   "source": [
    "\\begin{align*}\n",
    "    \\theta:C_n \\times Div^{d-b_1(\\Gamma)}(\\Gamma)&\\xrightarrow{} \\Sigma_{\\Gamma}  \\\\\n",
    "    (\\sigma,\\vec{d}_{T}) &\\mapsto \\sigma_\\Gamma^{A}\n",
    "\\end{align*}\n",
    "for $A$, a choice of assignments such that  $\\vec{d}_{T_{\\sigma_{1}}}:=\\vec{d}_{T} \\in A$, and $  \\vec{d}_{T_{\\sigma_{i}}} := \\vec{d}_{T_{\\sigma_{i-1}}}+ \\Delta^{\\sigma}_{i-1} \\in A$ for all $i \\in [n]$, is well defined."
   ]
  },
  {
   "cell_type": "markdown",
   "id": "26c53d2a-b95e-409c-a9c9-202d5774bf02",
   "metadata": {},
   "source": [
    "In particular given a $n$ cycle we can obtain the set choice of assignments $A$. One can then take the chip-adding saturation to obtain $\\sigma_{\\Gamma}(\\Gamma)$."
   ]
  },
  {
   "cell_type": "markdown",
   "id": "c20c788e-3407-43a9-8404-cc4082484264",
   "metadata": {},
   "source": [
    "Note: The orientation of the cycle will be baked into its implementation here."
   ]
  },
  {
   "cell_type": "markdown",
   "id": "b4fd2b09-7730-4306-85f0-07e37916454d",
   "metadata": {
    "tags": []
   },
   "source": [
    "# Functions"
   ]
  },
  {
   "cell_type": "code",
   "execution_count": 4,
   "id": "7b4d928c",
   "metadata": {},
   "outputs": [],
   "source": [
    "from itertools import combinations,permutations\n",
    "import numpy as np"
   ]
  },
  {
   "cell_type": "code",
   "execution_count": 5,
   "id": "ccb4a456",
   "metadata": {
    "code_folding": [
     0
    ]
   },
   "outputs": [],
   "source": [
    "def get_cycles(n):\n",
    "    lst=list(range(1,n+1))\n",
    "    x=permutations(lst,n)\n",
    "    y=[i for i in x if i[0]==1]\n",
    "    \n",
    "        #Does:\n",
    "    # x=permutations([1,2,3,4,5],5)\n",
    "    # y=[i for i in x if i[0]==1]\n",
    "    # # print(len(y))\n",
    "    # for i in y:\n",
    "    #     print(i)\n",
    "             \n",
    "    return y "
   ]
  },
  {
   "cell_type": "code",
   "execution_count": 6,
   "id": "a0d3f08d",
   "metadata": {
    "code_folding": [
     1
    ]
   },
   "outputs": [],
   "source": [
    "#Main to get assingments from cycle\n",
    "def cycle_to_assignments(cycle):\n",
    "    \n",
    "    n=len(cycle)\n",
    "    \n",
    "        # cycle=(1,3,4,2)\n",
    "    ass_0= np.zeros(n)\n",
    "\n",
    "    M=[(1,ass_0)] # Memory\n",
    "\n",
    "    for i in range(1,len(cycle)):\n",
    "\n",
    "        current_tree_edge=cycle[i]\n",
    "        tup=M[-1]#pick last item of M\n",
    "\n",
    "        vtail=tail(n,current_tree_edge)\n",
    "        vhead=head(n,tup[0]) \n",
    "        prev_ass=tup[1]\n",
    "\n",
    "        current_ass_t= prev_ass+vtail+vhead\n",
    "        M.append((current_tree_edge,current_ass_t))\n",
    "\n",
    "    # for i in M:\n",
    "    #     print(i)\n",
    "    \n",
    "    return M"
   ]
  },
  {
   "cell_type": "code",
   "execution_count": 7,
   "id": "e84aaed6",
   "metadata": {
    "code_folding": [
     0,
     16,
     29
    ]
   },
   "outputs": [],
   "source": [
    "def head(n,prev_tree_edge):\n",
    "    \"\"\"\n",
    "    n= number of vertices in I_n\n",
    "    previous element of the cycle, ie tree_edge is j where e_j ={v_j,v_{j+1}} \n",
    "    \n",
    "    #Also used in chip adding on necklace curve\n",
    "    \"\"\"\n",
    "    head=np.zeros(n)\n",
    "  \n",
    "    if prev_tree_edge==n:\n",
    "        head[0]=1 \n",
    "    else:\n",
    "        head[prev_tree_edge]=1\n",
    "    \n",
    "    return head\n",
    "\n",
    "def tail(n,current_tree_edge):\n",
    "    \"\"\"\n",
    "    n= number of vertices in I_n\n",
    "    tree_edge is j where e_j ={v_j,v_{j+1}}\n",
    "    i is previous element of the cycle, ie tree_edge\n",
    "    \"\"\"\n",
    "    tail=np.zeros(n)\n",
    "    # if current_tree_edge==n:\n",
    "    #     tail[0]=-1 \n",
    "    tail[current_tree_edge-1]=-1\n",
    "        \n",
    "    return tail\n",
    "\n",
    "def tail_plus(n,current_tree_edge): #for chip adding\n",
    "    \"\"\"\n",
    "    n= number of vertices in I_n\n",
    "    tree_edge is j where e_j ={v_j,v_{j+1}}\n",
    "    i is previous element of the cycle, ie tree_edge\n",
    "    \"\"\"\n",
    "    tail=np.zeros(n)\n",
    "    # if current_tree_edge==n:\n",
    "    #     tail[0]=-1 \n",
    "    tail[current_tree_edge-1]=1\n",
    "        \n",
    "    return tail"
   ]
  },
  {
   "cell_type": "markdown",
   "id": "5bd0bedb",
   "metadata": {
    "tags": []
   },
   "source": [
    "# Example to produce $\\sigma_{I_n}$\n"
   ]
  },
  {
   "cell_type": "code",
   "execution_count": 8,
   "id": "7bd09ab0-0238-461b-a8cf-af6b4007d2f1",
   "metadata": {},
   "outputs": [],
   "source": [
    "cycle=(1,4,2,3)\n",
    "M=cycle_to_assignments(cycle)\n",
    "n=len(cycle)\n",
    "print(M)"
   ]
  },
  {
   "cell_type": "code",
   "execution_count": 8,
   "id": "ae10cd69-4b9e-41fd-bbb3-6fa2be74f69f",
   "metadata": {},
   "outputs": [],
   "source": [
    "# Output:\n",
    "\n",
    "# [(1, array([0., 0., 0., 0.])),\n",
    "#  (4, array([ 0.,  1.,  0., -1.])),\n",
    "#  (2, array([ 1.,  0.,  0., -1.])),\n",
    "#  (3, array([ 1.,  0.,  0., -1.]))]\n",
    "    "
   ]
  },
  {
   "cell_type": "markdown",
   "id": "ed7dc814-b05d-4f3b-b11b-6c789897a24b",
   "metadata": {},
   "source": [
    "The first term of each corresponds to the tree which is $T= \\Gamma \\setminus e_i$\n",
    "    "
   ]
  },
  {
   "cell_type": "markdown",
   "id": "9bf30e33-f567-4cb3-ab46-bc3792c4a112",
   "metadata": {},
   "source": [
    "We then take the chip-adding saturation to show $\\sigma_{\\Gamma}^{A}$ is a weak stability condition. That is $\\sigma_{\\Gamma}^{A}(\\Gamma)=k(\\Gammma)$."
   ]
  },
  {
   "cell_type": "code",
   "execution_count": 9,
   "id": "8cc5e736-c7e8-49df-a834-176655b4514f",
   "metadata": {},
   "outputs": [
    {
     "name": "stdout",
     "output_type": "stream",
     "text": [
      "4\n"
     ]
    }
   ],
   "source": [
    "#Get break div for trees\n",
    "\n",
    "lbm=[]\n",
    "\n",
    "for data in M: \n",
    "    index=data[0]\n",
    "    ass=data[1]\n",
    "    vhead=head(n,index)\n",
    "    vtail=tail_plus(n,index)\n",
    "\n",
    "    lbm.append(ass+vhead)\n",
    "    lbm.append(ass+vtail)\n",
    "\n",
    "#check size:\n",
    "\n",
    "lbm=np.unique(lbm,axis=0)\n",
    "print(len(lbm))"
   ]
  }
 ],
 "metadata": {
  "hide_input": false,
  "kernelspec": {
   "display_name": "Python 3 (ipykernel)",
   "language": "python",
   "name": "python3"
  },
  "language_info": {
   "codemirror_mode": {
    "name": "ipython",
    "version": 3
   },
   "file_extension": ".py",
   "mimetype": "text/x-python",
   "name": "python",
   "nbconvert_exporter": "python",
   "pygments_lexer": "ipython3",
   "version": "3.10.8"
  },
  "latex_envs": {
   "LaTeX_envs_menu_present": true,
   "autoclose": false,
   "autocomplete": true,
   "bibliofile": "biblio.bib",
   "cite_by": "apalike",
   "current_citInitial": 1,
   "eqLabelWithNumbers": true,
   "eqNumInitial": 1,
   "hotkeys": {
    "equation": "Ctrl-E",
    "itemize": "Ctrl-I"
   },
   "labels_anchors": false,
   "latex_user_defs": false,
   "report_style_numbering": false,
   "user_envs_cfg": false
  },
  "toc": {
   "base_numbering": 1,
   "nav_menu": {},
   "number_sections": true,
   "sideBar": true,
   "skip_h1_title": false,
   "title_cell": "Table of Contents",
   "title_sidebar": "Contents",
   "toc_cell": false,
   "toc_position": {},
   "toc_section_display": true,
   "toc_window_display": false
  }
 },
 "nbformat": 4,
 "nbformat_minor": 5
}
