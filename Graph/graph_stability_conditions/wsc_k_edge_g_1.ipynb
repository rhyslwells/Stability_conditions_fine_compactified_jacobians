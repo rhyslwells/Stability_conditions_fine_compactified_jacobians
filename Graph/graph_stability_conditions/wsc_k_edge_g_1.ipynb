{
 "cells": [
  {
   "cell_type": "markdown",
   "id": "a913356e",
   "metadata": {
    "tags": []
   },
   "source": [
    "# Overview"
   ]
  },
  {
   "cell_type": "markdown",
   "id": "17a70aee",
   "metadata": {},
   "source": [
    "Recall for the $k$-dollar graph, there is exactly one assignment up to translation. We can use this fact to construct any genus $2$ graph with $k_1=1,k_2=1,k_3$ from a genus $1$ necklace with $k_3$. In particular for the two trees with the same missing edge, the assignment on the trees is the same. Therefore we can inherit the assignments from the corresponding the weak stability of the genus $1$ graph.\n",
    "\n",
    "This idea extends to any necklace graph where for a given edge $\\{v,w\\}$ we take $k$ edges joining $\\{v,w\\}$."
   ]
  },
  {
   "cell_type": "markdown",
   "id": "90110240",
   "metadata": {
    "tags": []
   },
   "source": [
    "## Remarks"
   ]
  },
  {
   "cell_type": "markdown",
   "id": "c62ca48c",
   "metadata": {
    "tags": []
   },
   "source": [
    "In particular given a cycle we can can return the weak stability condition.\n",
    "\n",
    "We can then investigate the phi that work wrt the cycle in phi_analysis."
   ]
  },
  {
   "cell_type": "markdown",
   "id": "d5bc72bd",
   "metadata": {
    "tags": []
   },
   "source": [
    "## Notes"
   ]
  },
  {
   "cell_type": "markdown",
   "id": "dbf4f210",
   "metadata": {},
   "source": [
    "Where graphs must have vertex 0 up to n-1\n",
    "\n",
    "We store all ouptuts in the appropriate folder of \\Graph\\graph_stability_conditions as a text file.\n",
    "\n",
    "We call these graphs GNkM1 where N is the size of the necklace and k is the number of multedges and M1 is where the multedge occurs \"v0\"-\"v1\".\n",
    "\n",
    "Later want to investigate phi for these wsc.\n",
    "\n",
    "Desktop/For github/Stability_Conditions/Graph/phi_investigation/examples\n"
   ]
  },
  {
   "cell_type": "markdown",
   "id": "3fdcb610",
   "metadata": {
    "tags": [],
    "toc-hr-collapsed": true
   },
   "source": [
    "# Table of contents\n",
    "1. [Functions](#s1)\n",
    "    1. [Genus 1 methods ](#s11)\n",
    "    1. [Extending assignments from genus 1 graphs to GNkM1](#s12)\n",
    "    1. [Constructing wsc's for graphs GNkM1](#s13)\n",
    "    1. [Given a cycle returns extended wsc for GNkM1](#s14)\n",
    "    1. [Storing files](#s15)\n",
    "2. [Weak stability conditions for $k_1=1,k_2=1,k_3$ graphs](#s2)\n",
    "3. [Calc cases: Weak stability conditions for GNkM1 graphs](#s3)\n",
    "3. [Cycle on $G$ to associted wsc for $GNkM1$](#s4)"
   ]
  },
  {
   "cell_type": "markdown",
   "id": "b237cb20",
   "metadata": {
    "tags": [],
    "toc-hr-collapsed": true
   },
   "source": [
    "# Functions <a name=\"s1\"></a>"
   ]
  },
  {
   "cell_type": "markdown",
   "id": "dc72a123",
   "metadata": {
    "tags": [],
    "toc-hr-collapsed": true
   },
   "source": [
    "## Genus 1 methods <a name=\"s11\"></a>"
   ]
  },
  {
   "cell_type": "code",
   "execution_count": 1,
   "id": "077a7180",
   "metadata": {
    "tags": []
   },
   "outputs": [],
   "source": [
    "#For change_to_get_trees, produces stability conditions for genus 1 graph given by a cycle.\n",
    "def head(n, prev_tree_edge):\n",
    "    \"\"\"\n",
    "    n= number of vertices in I_n\n",
    "    previous element of the cycle, ie tree_edge is j where e_j ={v_j,v_{j+1}} \n",
    "    \n",
    "    #Also used in chip adding on necklace curve\n",
    "    \"\"\"\n",
    "    head = np.zeros(n)\n",
    "\n",
    "    if prev_tree_edge == n:\n",
    "        head[0] = 1\n",
    "    else:\n",
    "        head[prev_tree_edge] = 1\n",
    "\n",
    "    return head\n",
    "def tail(n, current_tree_edge):\n",
    "    \"\"\"\n",
    "    n= number of vertices in I_n\n",
    "    tree_edge is j where e_j ={v_j,v_{j+1}}\n",
    "    i is previous element of the cycle, ie tree_edge\n",
    "    \"\"\"\n",
    "    tail = np.zeros(n)\n",
    "    # if current_tree_edge==n:\n",
    "    #     tail[0]=-1\n",
    "    tail[current_tree_edge - 1] = -1\n",
    "\n",
    "    return tail\n",
    "def tail_plus(n, current_tree_edge):  #for chip adding\n",
    "    \"\"\"\n",
    "    n= number of vertices in I_n\n",
    "    tree_edge is j where e_j ={v_j,v_{j+1}}\n",
    "    i is previous element of the cycle, ie tree_edge\n",
    "    \"\"\"\n",
    "    tail = np.zeros(n)\n",
    "    # if current_tree_edge==n:\n",
    "    #     tail[0]=-1\n",
    "    tail[current_tree_edge - 1] = 1\n",
    "\n",
    "    return tail\n",
    "\n",
    "def cycle_to_assignments(cycle):\n",
    "    #Main to get assingments from cycle\n",
    "\n",
    "    n = len(cycle)\n",
    "\n",
    "    # cycle=(1,3,4,2)\n",
    "    ass_0 = np.zeros(n)\n",
    "\n",
    "    M = [(1, ass_0)]  # Memory\n",
    "\n",
    "    for i in range(1, len(cycle)):\n",
    "\n",
    "        current_tree_edge = cycle[i]\n",
    "        tup = M[-1]  #pick last item of M\n",
    "\n",
    "        vtail = tail(n, current_tree_edge)\n",
    "        vhead = head(n, tup[0])\n",
    "        prev_ass = tup[1]\n",
    "\n",
    "        current_ass_t = prev_ass + vtail + vhead\n",
    "        M.append((current_tree_edge, current_ass_t))\n",
    "\n",
    "    # for i in M:\n",
    "    #     print(i)\n",
    "\n",
    "    return M\n",
    "def change_to_get_trees(cycle):\n",
    "    \n",
    "    \"\"\"\n",
    "    Objective:Given a cycle gets a list of assignments (tree,assignment).\n",
    "    Input:\n",
    "    Returns\n",
    "    \"\"\"\n",
    "    \n",
    "    #return trees where there was previously just numbers indicating edge to be removed.\n",
    "        # change: [(1, array([0., 0., 0., 0.])), (3, array([ 0.,  1., -1.,  0.])), (2, array([ 0.,  0., -1.,  1.])), (4, array([0., 0., 0., 0.]))]\n",
    "    # so first term is tree of In\n",
    "    # cycle=(1,3,2,4)\n",
    "\n",
    "    data_In=cycle_to_assignments(cycle) #<-----------------\n",
    "    data_In=sorted(data_In, key=lambda x: x[0]) # reordering to (1,),(2,) ect.. instead of being ordered by cycle.\n",
    "    \n",
    "    \"\"\"\n",
    "    Wish to order data_In by first term of tuple so that is (1, ),(2,) thus putting trees in order so that when we append to Memory M we have\n",
    "    M'[counter](0) = M[counter][0] when we are iterating through counters.\n",
    "    \"\"\"\n",
    "    \n",
    "    n=len(cycle)\n",
    "    G=graphs.CycleGraph(n)\n",
    "    \n",
    "    new_data_In=[]\n",
    "    for data in data_In:\n",
    "        #Get tree\n",
    "        tree_info=data[0]\n",
    "    #     print(tree_info)\n",
    "        if tree_info== len(data_In):\n",
    "            edge_tree=(tree_info-1,0)\n",
    "        else:\n",
    "            edge_tree=(tree_info-1,tree_info)\n",
    "    #     print(edge_tree)\n",
    "        tree=copy(G)\n",
    "        tree.delete_edge(edge_tree)\n",
    "\n",
    "        #Recompile data\n",
    "        new_data_In.append((tree,data[1]))\n",
    "\n",
    "    # plot(new_data_In[2][0]) #Have the correct trees.\n",
    "    \n",
    "    \"\"\"\n",
    "    Example:x=change_to_get_trees(cycle)\n",
    "\n",
    "    print(cycle)\n",
    "    for i in x:\n",
    "        print(i[0].edges())\n",
    "        \n",
    "        cycle=(1,3,2)\n",
    "    x=change_to_get_trees(cycle)\n",
    "    print([tup[0].edges() for tup in x])\n",
    "    \"\"\"\n",
    "    \n",
    "    return new_data_In\n",
    "\n",
    "def get_cycles(n):\n",
    "    \"\"\"\n",
    "    Objective:gets all cycles of length n.\n",
    "    Input:\n",
    "    Returns\n",
    "    \"\"\"\n",
    "    lst = list(range(1, n + 1))\n",
    "    x = permutations(lst, n)\n",
    "    y = [i for i in x if i[0] == 1]\n",
    "\n",
    "    #Does:\n",
    "    # x=permutations([1,2,3,4,5],5)\n",
    "    # y=[i for i in x if i[0]==1]\n",
    "    # # print(len(y))\n",
    "    # for i in y:\n",
    "    #     print(i)\n",
    "\n",
    "    return y"
   ]
  },
  {
   "cell_type": "markdown",
   "id": "1916d471",
   "metadata": {
    "tags": []
   },
   "source": [
    "## Extending assignments from genus 1 graphs to GNkM1 <a name=\"s12\"></a>"
   ]
  },
  {
   "cell_type": "code",
   "execution_count": 2,
   "id": "3023d68b",
   "metadata": {},
   "outputs": [],
   "source": [
    "def get_ass_repts(G_ass,trees_GM1):\n",
    "    \n",
    "    \"\"\"\n",
    "    Objective: Given assignments for genus 1 graph,give multiple assignement on graph with k-multiedge.\n",
    "    G_ass: Assignment (T,ass) on cyclic graph G (no labeling of edges)\n",
    "    trees_GM1: list of spanning trees for GM1 graph (with labeling of edges)\n",
    "    \"\"\"\n",
    "    \n",
    "    repeated_ass=[]      \n",
    "    for t in trees_GM1:\n",
    "        for pair in G_ass:\n",
    "            if t==pair[0]:\n",
    "                repeated_ass.append((t,pair[1])) # neccesray as trees_GM1 has labels and we want these.\n",
    "    \n",
    "    return repeated_ass"
   ]
  },
  {
   "cell_type": "markdown",
   "id": "5120fcc6",
   "metadata": {
    "tags": [],
    "toc-hr-collapsed": true
   },
   "source": [
    "## Constructing wsc's for graphs GNkM1 <a name=\"s13\"></a>"
   ]
  },
  {
   "cell_type": "code",
   "execution_count": 3,
   "id": "dc63b452",
   "metadata": {
    "tags": []
   },
   "outputs": [],
   "source": [
    "# Assignment_datum_for_G for w_stability:\n",
    "def get_sp_trees(G): #Out: list of edges in spanning tree\n",
    "    all_trees=[]\n",
    "    for g in list(G.spanning_trees(labels=True)):\n",
    "        all_trees.append(g.edges(sort=True, labels=True))\n",
    "    return all_trees\n",
    "def list_difference(a, b):\n",
    "    \"\"\"\n",
    "    Objective:Takes the difference of removing the 2nd term from the 1st.\n",
    "    \"\"\"\n",
    "    \n",
    "    \"https://stackoverflow.com/questions/8106227/difference-between-two-lists-with-duplicates-in-python\"\n",
    "    count = Counter(a) # count items in a\n",
    "    count.subtract(b)  # subtract items that are in b\n",
    "    diff = []\n",
    "    for x in a:\n",
    "        if count[x] > 0:\n",
    "           count[x] -= 1\n",
    "           diff.append(x)\n",
    "    return diff\n",
    "\n",
    "def chip_adding(graph,tree,ass): #new\n",
    "    \"\"\"\n",
    "    Objective:Chip-adds\n",
    "    Inputs:\n",
    "    graph: G_edges graph edges\n",
    "    tree : spanning tree of graph\n",
    "    ass : an n=vert(graph) tuple on the spanning tree.\n",
    "    \n",
    "    recursion idea: https://stackoverflow.com/questions/53638816/python-library-function-to-re-apply-a-function-to-its-own-output-until-output-re\n",
    "    \"\"\"\n",
    "    \n",
    "    edges=graph # just want the edges \n",
    "    n=len(ass)\n",
    "    complement=list_difference(graph,tree) #edges in complement.\n",
    "    \n",
    "    def rec_funct(edge_l,inputs,n):\n",
    "        data=[]\n",
    "        edge=edge_l[0]\n",
    "        \n",
    "        for b in inputs:\n",
    "            delta_1=np.zeros(n)\n",
    "            delta_2=np.zeros(n)\n",
    "            \n",
    "            delta_1[int(edge[0])]=1 #we chip add at the first vertex. #### <- CHANGED as taking vertices 0,..,n-1 now\n",
    "            delta_2[int(edge[1])]=1 #we chip add at the second vertex.\n",
    "            \n",
    "            b1=b+delta_1\n",
    "            b2=b+delta_2\n",
    "            data=data+[b1,b2]\n",
    "        \n",
    "        return (edge_l,data,n)\n",
    "    \n",
    "    def recursion(edge_l,inputs,n):\n",
    "        \n",
    "        new_data=rec_funct(edge_l,inputs,n)\n",
    "        edge_l=edge_l[1:] #removeing first edge        \n",
    "        new_data=(edge_l,new_data[1],new_data[2])\n",
    "                \n",
    "        if len(edge_l)==0:\n",
    "            new_inputs=new_data[1]\n",
    "            return new_inputs\n",
    "        else:\n",
    "            return recursion(*new_data)\n",
    "        \n",
    "    breaks=recursion(complement,[np.zeros(n)],n)\n",
    "    breaks=np.unique(breaks, axis=0)\n",
    "    \n",
    "    patch=[]\n",
    "    for bbreak in breaks:\n",
    "        patch.append(ass+bbreak)\n",
    "    \n",
    "    return patch\n",
    "\n",
    "def w_stability(graph,Assignments): #Newest\n",
    "    \n",
    "    \"\"\"\n",
    "    Objective:Takes the chip-adding saturation of the assignments.\n",
    "    \n",
    "    #Graphs are labelled v0 to v_n-1\n",
    "    Inputs:\n",
    "        graph: Any smallish finite multigraph\n",
    "        \n",
    "        Assignments= list of (T,ass) tree and assignment pairs.\n",
    "    \n",
    "    Outputs: a list of lists of length vert(graph) corresponding to line bundle multidegrees obtained by chip adding.\n",
    "    \"\"\"\n",
    "    G=graph\n",
    "    \n",
    "    G_edges=G.edges(sort=True, labels=True)\n",
    "    \n",
    "    lbm_patches=[] # the set of patches,which we'll take the union of. \n",
    "\n",
    "    for pair in Assignments:\n",
    "        tree_edges=pair[0].edges()\n",
    "        ass=pair[1]    \n",
    "        patch=chip_adding(G_edges,tree_edges,ass)              \n",
    "        lbm_patches.append(patch)\n",
    "    \n",
    "    sig=np.concatenate(lbm_patches, axis=0)\n",
    "    sig=sig.astype('int32')    \n",
    "    sig=np.unique(sig, axis=0)\n",
    "\n",
    "    return sig\n",
    "\n",
    "def extend_wsc(Ge,old_wsc=None,cycle_ass=False):\n",
    "            \n",
    "    \"\"\"\n",
    "    Objective: Turns a wsc for a genus graph into the associated wsc for genus \"1\" graph with k multiedge  \n",
    "    Input:\n",
    "    \n",
    "    Ge=labeled edge graph  genus \"1\" graph with k multiedge i.e.\n",
    "    Ge=Graph([(\"0\",\"1\",\"e11\"),(\"1\",\"2\",\"e2\"),(\"2\",\"0\",\"e3\"),(\"0\",\"1\",\"e12\")], multiedges=True)\n",
    "    \n",
    "    old_wsc is a weak stabiltiy condition where\n",
    "    \n",
    "    wsc= \n",
    "    ([[0, 0, 0], [0, 0, 0], [0, 0, 0]],\n",
    "     array([[0, 0, 1],\n",
    "            [0, 1, 0],\n",
    "            [1, 0, 0]], dtype=int32),\n",
    "     [(Graph on 3 vertices, [0, 0, 0]),\n",
    "      (Graph on 3 vertices, [0, 0, 0]),\n",
    "      (Graph on 3 vertices, [0, 0, 0])],\n",
    "     [(Multi-graph on 3 vertices, (1, 3, 2), Multi-graph on 3 vertices)])\n",
    "    \n",
    "    Returns a the approprate wsc for the graph with k multiedge.\n",
    "    \"\"\"\n",
    "    \n",
    "    spanning_trees_e=[tree for tree in Ge.spanning_trees(labels=True)]\n",
    "    \n",
    "    \n",
    "    #Assignments only\n",
    "\n",
    "    if cycle_ass!=False:\n",
    "        old_ass=cycle_ass\n",
    "    else:    \n",
    "        old_ass=old_wsc[2] #with tree graphs (T,div) #!! DONT have trees yet.\n",
    "        \n",
    "#     print(\"cycle_ass\",cycle_ass)\n",
    "#     print(old_ass)\n",
    "\n",
    "    #Get assignments with trees\n",
    "    assignments=get_ass_repts(old_ass,spanning_trees_e) #old ass doesnt have labels correct get_ass_repts\n",
    "    \n",
    "#     print(\"assignments\",assignments)\n",
    "    \n",
    "    lbm=w_stability(Ge,assignments)\n",
    "\n",
    "    ass_l=[p[1] for p in assignments]\n",
    "    \n",
    "    data=[ass_l,lbm,assignments]\n",
    "    \n",
    "    return data\n",
    "\n",
    "def extend_wsc_all(Ge,old_data_l):\n",
    "    \n",
    "    \"\"\"\n",
    "    Objective: Turns all wsc for a genus graph into the associated wsc for genus \"1\" graph with k multiedge  \n",
    "\n",
    "    Input: old_data_l:A list of wsc for the genus 1 graph.\n",
    "    \n",
    "    Ge=labeled edge graph  genus \"1\" graph with k multiedge i.e.\n",
    "    Ge=Graph([(\"0\",\"1\",\"e11\"),(\"1\",\"2\",\"e2\"),(\"2\",\"0\",\"e3\"),(\"0\",\"1\",\"e12\")], multiedges=True)\n",
    "    \n",
    "    Returns: a list of wsc\n",
    "    \"\"\" \n",
    "    \n",
    "    new_data=[]\n",
    "    for old_wsc in old_data_l:\n",
    "        new_data.append(extend_wsc(Ge,old_wsc))\n",
    "    return new_data"
   ]
  },
  {
   "cell_type": "code",
   "execution_count": 4,
   "id": "8a3bc771",
   "metadata": {},
   "outputs": [],
   "source": [
    "# l = [get_sp_trees,extend_wsc,chip_adding,list_difference,extend_wsc_all]\n",
    "# find_functions_used_l(l,True)"
   ]
  },
  {
   "cell_type": "markdown",
   "id": "df4b350e",
   "metadata": {
    "tags": [],
    "toc-hr-collapsed": true
   },
   "source": [
    "## Given a cycle returns extended wsc for GNkM1 <a name=\"s14\"></a>"
   ]
  },
  {
   "cell_type": "code",
   "execution_count": 5,
   "id": "fd3fc821",
   "metadata": {},
   "outputs": [],
   "source": [
    "def extend_cycle_wsc(Ge,cycle):\n",
    "\n",
    "    \"\"\"\n",
    "    Objective: Turns the cycle wsc for a genus graph into the associated wsc for genus \"1\" graph with k multiedge  \n",
    "    Input:\n",
    "    \n",
    "    cycle=(1,3,2)\n",
    "\n",
    "    \n",
    "    Ge=labeled edge graph  genus \"1\" graph with k multiedge i.e.\n",
    "    Ge=Graph([(\"0\",\"1\",\"e11\"),(\"1\",\"2\",\"e2\"),(\"2\",\"0\",\"e3\"),(\"0\",\"1\",\"e12\")], multiedges=True)\n",
    "        \n",
    "    Note: Builds on extend_wsc\n",
    "    \n",
    "    Returns a the approprate wsc for the graph with k multiedge.\n",
    "    \"\"\"\n",
    "\n",
    "    cycle_ass=change_to_get_trees(cycle) #assighnments (Tree,ass) form\n",
    "\n",
    "    n=len(cycle)\n",
    "    relabeler={i: str(i) for i in range(n)}\n",
    "\n",
    "    for pair in cycle_ass:\n",
    "\n",
    "        tree=pair[0]\n",
    "        tree.relabel(relabeler)\n",
    "\n",
    "    # tree_ex=cycle_ass[0][0]\n",
    "    # t=tree_ex.edges()  #the vertices are ins we want string format.\n",
    "    # t\n",
    "\n",
    "    cycle_ass=[(pair[0],list(pair[1].astype(int))) for pair in cycle_ass]\n",
    "\n",
    "    data=extend_wsc(Ge,None,cycle_ass)\n",
    "\n",
    "    return data"
   ]
  },
  {
   "cell_type": "code",
   "execution_count": null,
   "id": "2cd6473b",
   "metadata": {},
   "outputs": [],
   "source": []
  },
  {
   "cell_type": "markdown",
   "id": "20451abc",
   "metadata": {
    "tags": [],
    "toc-hr-collapsed": true
   },
   "source": [
    "## Storing files <a name=\"s15\"></a>"
   ]
  },
  {
   "cell_type": "code",
   "execution_count": 13,
   "id": "cf12a786",
   "metadata": {
    "tags": []
   },
   "outputs": [],
   "source": [
    "def output_to_file(G,data):#in text files\n",
    "    \n",
    "    \"\"\"\n",
    "    Objective:prints the data to a text file.\n",
    "    Input:data is a list of e.g.\n",
    "    \n",
    "        [[[0, 0, 0], [0, 0, 0], [0, 0, 0], [0, 0, 0], [0, 0, 0]],\n",
    "     array([[0, 1, 1],\n",
    "            [0, 2, 0],\n",
    "            [1, 0, 1],\n",
    "            [1, 1, 0],\n",
    "            [2, 0, 0]], dtype=int32),\n",
    "     [(Graph on 3 vertices, [0, 0, 0]),\n",
    "      (Graph on 3 vertices, [0, 0, 0]),\n",
    "      (Graph on 3 vertices, [0, 0, 0]),\n",
    "      (Graph on 3 vertices, [0, 0, 0]),\n",
    "      (Graph on 3 vertices, [0, 0, 0])]]\n",
    "    \n",
    "    Returns\n",
    "    \"\"\"\n",
    "    \n",
    "    \n",
    "    ordering_trees=[t for t in G.spanning_trees(labels=True)]\n",
    "\n",
    "\n",
    "    print(f\"Information: Here are all stability conditions for the graph G\")\n",
    "    print(f\"Graph: {G.edges()} \\n\")\n",
    "    \n",
    "    print(f\"There are {len(data)} stability conditions for G. \\n\")\n",
    "    print(f\"The spanning trees of G are ordered as follows:\")\n",
    "    for index,tree in enumerate(ordering_trees):\n",
    "        print(f\"Tree {index+1}: {tree.edges()}\" )\n",
    "\n",
    "    print(\"\\n We will now list all stabilty conditions. The data will be presented in two lines:\")\n",
    "    print(\"   1. The assignment datum on trees the order of which will be given by the Tree order,\")\n",
    "    print(\"   2. The union of sets of the form assignment datum of T + the set of break divisors for T. \\n\" )          \n",
    "\n",
    "    for wsc in data:\n",
    "        print(wsc[0]) #assignment datum\n",
    "        #Put sigma to list format\n",
    "        print(wsc[1].tolist()) #lbm\n",
    "        print(\"\\n\")\n",
    "    \n",
    "    return\n",
    "\n",
    "def store_data(G,data,graphname=\"test\"):\n",
    "    name=f\"genus_2_graphs_with_middle_edges/GNkM1/{graphname}.txt\"\n",
    "    with open(name, \"w\") as f:\n",
    "        sys.stdout = f\n",
    "        output_to_file(G,data)\n",
    "        sys.stdout = sys.__stdout__\n",
    "    return\n",
    "\n",
    "\n",
    "\n",
    "def pickle_data(graphname,data):\n",
    "    # Pickle the list\n",
    "    filename=f\"genus_2_graphs_with_middle_edges/GNkM1/{graphname}.pkl\"\n",
    "    with open(filename, 'wb') as f:\n",
    "        pickle.dump(data, f)\n",
    "    return\n",
    "\n",
    "def unpickle(graphname):\n",
    "    # Unpickle the list\n",
    "#     filename=f\"../find_cycles/examples/{graphname}/{graphname}.pkl\"\n",
    "    \n",
    "    filename=f\"../find_cycles/Done_examples/{graphname}/{graphname}.pkl\"\n",
    "    with open(filename, 'rb') as f:\n",
    "        unpickled_list = pickle.load(f)\n",
    "    return unpickled_list"
   ]
  },
  {
   "cell_type": "markdown",
   "id": "e825c507",
   "metadata": {
    "jp-MarkdownHeadingCollapsed": true,
    "tags": []
   },
   "source": [
    "# Calc cases: Weak stability conditions for $k_1=1,k_2=1,k_3$ graphs <a name=\"s2\"></a>"
   ]
  },
  {
   "cell_type": "code",
   "execution_count": 14,
   "id": "f2a95a12",
   "metadata": {},
   "outputs": [],
   "source": [
    "graphname=\"G3\"\n",
    "G=Graph([(\"0\",\"1\"),(\"1\",\"2\"),(\"2\",\"0\")], multiedges=True)\n",
    "old_data_l=unpickle(graphname) #Size=2\n",
    "\n",
    "extend_graphname=\"G3M1\"\n",
    "Ge=Graph([(\"0\",\"1\",\"e11\"),(\"1\",\"2\",\"e2\"),(\"2\",\"0\",\"e3\"),(\"0\",\"1\",\"e12\")], multiedges=True)\n",
    "\n",
    "data=extend_wsc_all(Ge,old_data_l)\n",
    "\n",
    "#store pkl file\n",
    "pickle_data(extend_graphname,data)\n",
    "\n",
    "#store text file\n",
    "store_data(Ge,data,graphname=extend_graphname)"
   ]
  },
  {
   "cell_type": "code",
   "execution_count": 15,
   "id": "bc69c031",
   "metadata": {},
   "outputs": [],
   "source": [
    "graphname=\"G4\"\n",
    "# G=Graph([(\"0\",\"1\"),(\"1\",\"2\"),(\"2\",\"3\"),(\"3\",\"0\")], multiedges=True)\n",
    "old_data_l=unpickle(graphname) #Size=2\n",
    "\n",
    "extend_graphname=\"G4M1\" \n",
    "Ge=Graph([(\"0\",\"1\",\"e11\"),(\"1\",\"2\",\"e2\"),(\"2\",\"3\",\"e3\"),(\"3\",\"0\",\"e4\"),(\"0\",\"1\",\"e12\")], multiedges=True)\n",
    "\n",
    "data=extend_wsc_all(Ge,old_data_l)\n",
    "\n",
    "#store pkl file\n",
    "pickle_data(extend_graphname,data)\n",
    "\n",
    "#store text file\n",
    "store_data(Ge,data,graphname=extend_graphname)"
   ]
  },
  {
   "cell_type": "code",
   "execution_count": 16,
   "id": "8549cbc9",
   "metadata": {},
   "outputs": [],
   "source": [
    "graphname=\"G5\"\n",
    "G=Graph([(\"0\",\"1\"),(\"1\",\"2\"),(\"2\",\"3\"),(\"3\",\"4\"),(\"4\",\"0\")], multiedges=True)\n",
    "old_data_l=unpickle(graphname) #Size=2\n",
    "\n",
    "extend_graphname=\"G5M1\" \n",
    "Ge=Graph([(\"0\",\"1\",\"e11\"),(\"1\",\"2\",\"e2\"),(\"2\",\"3\",\"e3\"),(\"3\",\"4\",\"e4\"),(\"4\",\"0\",\"e5\"),(\"0\",\"1\",\"e12\")], multiedges=True)\n",
    "\n",
    "data=extend_wsc_all(Ge,old_data_l)\n",
    "\n",
    "#store pkl file\n",
    "pickle_data(extend_graphname,data)\n",
    "\n",
    "#store text file\n",
    "store_data(Ge,data,graphname=extend_graphname)"
   ]
  },
  {
   "cell_type": "code",
   "execution_count": 17,
   "id": "463b8ea1",
   "metadata": {},
   "outputs": [],
   "source": [
    "graphname=\"G6\"\n",
    "G=Graph([(\"0\",\"1\"),(\"1\",\"2\"),(\"2\",\"3\"),(\"3\",\"4\"),(\"4\",\"5\"),(\"5\",\"0\")], multiedges=True)\n",
    "old_data_l=unpickle(graphname) #Size=120\n",
    "\n",
    "extend_graphname=\"G6M1\" \n",
    "Ge=Graph([(\"0\",\"1\",\"e11\"),(\"1\",\"2\",\"e2\"),(\"2\",\"3\",\"e3\"),(\"3\",\"4\",\"e4\"),(\"4\",\"5\",\"e5\"),(\"5\",\"0\",\"e6\"),(\"0\",\"1\",\"e12\")], multiedges=True)\n",
    "\n",
    "data=extend_wsc_all(Ge,old_data_l)\n",
    "\n",
    "#store pkl file\n",
    "pickle_data(extend_graphname,data)\n",
    "\n",
    "#store text file\n",
    "store_data(Ge,data,graphname=extend_graphname)"
   ]
  },
  {
   "cell_type": "markdown",
   "id": "7d03f111",
   "metadata": {},
   "source": [
    "# Calc cases: Weak stability conditions for GNkM1 graphs <a name=\"s3\"></a>"
   ]
  },
  {
   "cell_type": "code",
   "execution_count": 24,
   "id": "87019052",
   "metadata": {},
   "outputs": [],
   "source": [
    "#\"G33M1\"\n",
    "graphname=\"G3\"\n",
    "G=Graph([(\"0\",\"1\"),(\"1\",\"2\"),(\"2\",\"0\")], multiedges=True)\n",
    "old_data_l=unpickle(graphname) #Size=2\n",
    "\n",
    "extend_graphname=\"G33M1\"\n",
    "Ge=Graph([(\"0\",\"1\",\"e11\"),(\"1\",\"2\",\"e2\"),(\"2\",\"0\",\"e3\"),(\"0\",\"1\",\"e12\"),(\"0\",\"1\",\"e13\")], multiedges=True)\n",
    "\n",
    "data=extend_wsc_all(Ge,old_data_l)\n",
    "\n",
    "#store pkl file\n",
    "pickle_data(extend_graphname,data)\n",
    "\n",
    "#store text file\n",
    "store_data(Ge,data,graphname=extend_graphname)"
   ]
  },
  {
   "cell_type": "code",
   "execution_count": 21,
   "id": "6a48fc5d",
   "metadata": {},
   "outputs": [],
   "source": [
    "#\"G34M1\"\n",
    "\n",
    "extend_graphname=\"G34M1\"\n",
    "Ge=Graph([(\"0\",\"1\",\"e11\"),(\"1\",\"2\",\"e2\"),(\"2\",\"0\",\"e3\"),(\"0\",\"1\",\"e12\"),(\"0\",\"1\",\"e13\"),(\"0\",\"1\",\"e14\")], multiedges=True)\n",
    "\n",
    "data=extend_wsc_all(Ge,old_data_l)\n",
    "\n",
    "#store pkl file\n",
    "pickle_data(extend_graphname,data)\n",
    "\n",
    "#store text file\n",
    "store_data(Ge,data,graphname=extend_graphname)"
   ]
  },
  {
   "cell_type": "code",
   "execution_count": 22,
   "id": "97892e01",
   "metadata": {},
   "outputs": [],
   "source": [
    "graphname=\"G4\"\n",
    "# G=Graph([(\"0\",\"1\"),(\"1\",\"2\"),(\"2\",\"3\"),(\"3\",\"0\")], multiedges=True)\n",
    "old_data_l=unpickle(graphname) #Size=2\n",
    "\n",
    "extend_graphname=\"G43M1\" \n",
    "Ge=Graph([(\"0\",\"1\",\"e11\"),(\"1\",\"2\",\"e2\"),(\"2\",\"3\",\"e3\"),(\"3\",\"0\",\"e4\"),(\"0\",\"1\",\"e12\"),(\"0\",\"1\",\"e13\")], multiedges=True)\n",
    "\n",
    "data=extend_wsc_all(Ge,old_data_l)\n",
    "\n",
    "#store pkl file\n",
    "pickle_data(extend_graphname,data)\n",
    "\n",
    "#store text file\n",
    "store_data(Ge,data,graphname=extend_graphname)"
   ]
  },
  {
   "cell_type": "code",
   "execution_count": 23,
   "id": "c015f5e8",
   "metadata": {},
   "outputs": [],
   "source": [
    "extend_graphname=\"G44M1\" \n",
    "Ge=Graph([(\"0\",\"1\",\"e11\"),(\"1\",\"2\",\"e2\"),(\"2\",\"3\",\"e3\"),(\"3\",\"0\",\"e4\"),(\"0\",\"1\",\"e12\"),(\"0\",\"1\",\"e13\"),(\"0\",\"1\",\"e14\")], multiedges=True)\n",
    "\n",
    "data=extend_wsc_all(Ge,old_data_l)\n",
    "\n",
    "#store pkl file\n",
    "pickle_data(extend_graphname,data)\n",
    "\n",
    "#store text file\n",
    "store_data(Ge,data,graphname=extend_graphname)"
   ]
  },
  {
   "cell_type": "markdown",
   "id": "13c19b17",
   "metadata": {
    "tags": []
   },
   "source": [
    "# Cycle on $G$ to associted wsc for $GNkM1$ <a name=\"s4\"></a>"
   ]
  },
  {
   "cell_type": "markdown",
   "id": "0d047b82",
   "metadata": {},
   "source": [
    "## G3"
   ]
  },
  {
   "cell_type": "markdown",
   "id": "a50ccedf",
   "metadata": {},
   "source": [
    "Here we take the data for the cycle (1,3,2) for the graphs, G3,G3M1,G33M1,G34M1 in ordder to analyse the effect on phi."
   ]
  },
  {
   "cell_type": "code",
   "execution_count": 26,
   "id": "62b6e9e0",
   "metadata": {},
   "outputs": [],
   "source": [
    "cycle=(1,3,2)"
   ]
  },
  {
   "cell_type": "code",
   "execution_count": 27,
   "id": "98b1c86f",
   "metadata": {},
   "outputs": [],
   "source": [
    "graphname=\"G3\"\n",
    "G=Graph([(\"0\",\"1\"),(\"1\",\"2\"),(\"2\",\"0\")], multiedges=True)\n",
    "old_data_l=unpickle(graphname) #Size=2"
   ]
  },
  {
   "cell_type": "code",
   "execution_count": 28,
   "id": "e80537f7",
   "metadata": {},
   "outputs": [],
   "source": [
    "#G3\n",
    "d1=extend_cycle_wsc(G,cycle)"
   ]
  },
  {
   "cell_type": "code",
   "execution_count": 29,
   "id": "8262f71f",
   "metadata": {},
   "outputs": [],
   "source": [
    "# extend_graphname=\"G3M1\"\n",
    "Ge=Graph([(\"0\",\"1\",\"e11\"),(\"1\",\"2\",\"e2\"),(\"2\",\"0\",\"e3\"),(\"0\",\"1\",\"e12\")], multiedges=True)\n",
    "d2=extend_cycle_wsc(Ge,cycle)"
   ]
  },
  {
   "cell_type": "code",
   "execution_count": 30,
   "id": "ceac1a52",
   "metadata": {},
   "outputs": [],
   "source": [
    "# extend_graphname=\"G33M1\"\n",
    "Ge=Graph([(\"0\",\"1\",\"e11\"),(\"1\",\"2\",\"e2\"),(\"2\",\"0\",\"e3\"),(\"0\",\"1\",\"e12\"),(\"0\",\"1\",\"e13\")], multiedges=True)\n",
    "d3=extend_cycle_wsc(Ge,cycle)"
   ]
  },
  {
   "cell_type": "code",
   "execution_count": 31,
   "id": "2a266e32",
   "metadata": {},
   "outputs": [],
   "source": [
    "# extend_graphname=\"G34M1\"\n",
    "Ge=Graph([(\"0\",\"1\",\"e11\"),(\"1\",\"2\",\"e2\"),(\"2\",\"0\",\"e3\"),(\"0\",\"1\",\"e12\"),(\"0\",\"1\",\"e13\"),(\"0\",\"1\",\"e14\")], multiedges=True)\n",
    "d4=extend_cycle_wsc(Ge,cycle)"
   ]
  },
  {
   "cell_type": "code",
   "execution_count": 33,
   "id": "c82c97e4",
   "metadata": {},
   "outputs": [],
   "source": [
    "data=[d1,d2,d3,d4]\n",
    "# data"
   ]
  },
  {
   "cell_type": "code",
   "execution_count": 34,
   "id": "4d58cd26",
   "metadata": {},
   "outputs": [],
   "source": [
    "#store pkl file\n",
    "pickle_data(\"132_G3kM1\",data)"
   ]
  },
  {
   "cell_type": "markdown",
   "id": "e2ca9ba8",
   "metadata": {},
   "source": [
    "# G4"
   ]
  },
  {
   "cell_type": "code",
   "execution_count": 35,
   "id": "0a03c9d3",
   "metadata": {},
   "outputs": [],
   "source": [
    "cycle=(1,3,4,2)"
   ]
  },
  {
   "cell_type": "code",
   "execution_count": 36,
   "id": "2c6d9b7d",
   "metadata": {},
   "outputs": [],
   "source": [
    "graphname=\"G4\"\n",
    "G=Graph([(\"0\",\"1\"),(\"1\",\"2\"),(\"2\",\"3\"),(\"3\",\"0\")], multiedges=True)\n",
    "old_data_l=unpickle(graphname) #Size=6"
   ]
  },
  {
   "cell_type": "code",
   "execution_count": 37,
   "id": "f56b4a5e",
   "metadata": {},
   "outputs": [],
   "source": [
    "#G4\n",
    "d1=extend_cycle_wsc(G,cycle)"
   ]
  },
  {
   "cell_type": "code",
   "execution_count": 38,
   "id": "80bdf3d0",
   "metadata": {},
   "outputs": [],
   "source": [
    "# extend_graphname=\"G4M1\"\n",
    "Ge=Graph([(\"0\",\"1\",\"e11\"),(\"1\",\"2\",\"e2\"),(\"2\",\"3\",\"e3\"),(\"3\",\"0\",\"e4\"),(\"0\",\"1\",\"e12\")], multiedges=True)\n",
    "d2=extend_cycle_wsc(Ge,cycle)"
   ]
  },
  {
   "cell_type": "code",
   "execution_count": 39,
   "id": "19ca4793",
   "metadata": {},
   "outputs": [],
   "source": [
    "# extend_graphname=\"G43M1\" \n",
    "Ge=Graph([(\"0\",\"1\",\"e11\"),(\"1\",\"2\",\"e2\"),(\"2\",\"3\",\"e3\"),(\"3\",\"0\",\"e4\"),(\"0\",\"1\",\"e12\"),(\"0\",\"1\",\"e13\")], multiedges=True)\n",
    "\n",
    "d3=extend_cycle_wsc(Ge,cycle)"
   ]
  },
  {
   "cell_type": "code",
   "execution_count": 40,
   "id": "525a1968",
   "metadata": {},
   "outputs": [],
   "source": [
    "# extend_graphname=\"G44M1\" \n",
    "Ge=Graph([(\"0\",\"1\",\"e11\"),(\"1\",\"2\",\"e2\"),(\"2\",\"3\",\"e3\"),(\"3\",\"0\",\"e4\"),(\"0\",\"1\",\"e12\"),(\"0\",\"1\",\"e13\"),(\"0\",\"1\",\"e14\")], multiedges=True)\n",
    "d4=extend_cycle_wsc(Ge,cycle)"
   ]
  },
  {
   "cell_type": "code",
   "execution_count": 42,
   "id": "3b09d1ed",
   "metadata": {},
   "outputs": [],
   "source": [
    "data=[d1,d2,d3,d4] # num of assignmets 4,7,10,13\n",
    "# data"
   ]
  },
  {
   "cell_type": "code",
   "execution_count": 43,
   "id": "86719daf",
   "metadata": {},
   "outputs": [],
   "source": [
    "#store pkl file\n",
    "pickle_data(\"1342_G4kM1\",data)"
   ]
  },
  {
   "cell_type": "markdown",
   "id": "312c447e",
   "metadata": {
    "tags": []
   },
   "source": [
    "# Used Throughout"
   ]
  },
  {
   "cell_type": "code",
   "execution_count": 8,
   "id": "00e48535",
   "metadata": {
    "tags": []
   },
   "outputs": [],
   "source": [
    "import numpy as np\n",
    "import networkx as nx\n",
    "from collections import Counter\n",
    "import itertools \n",
    "import random\n",
    "from itertools import combinations, permutations\n",
    "import sys\n",
    "import pickle"
   ]
  },
  {
   "cell_type": "code",
   "execution_count": 9,
   "id": "1a394060",
   "metadata": {
    "tags": []
   },
   "outputs": [],
   "source": [
    "import ast\n",
    "import inspect"
   ]
  },
  {
   "cell_type": "code",
   "execution_count": 10,
   "id": "5ae2b392",
   "metadata": {
    "tags": []
   },
   "outputs": [],
   "source": [
    "def find_functions_used(func):\n",
    "    \n",
    "    \"\"\"Add print Objective.\"\"\"\n",
    "    \n",
    "    functions_used = set()\n",
    "    tree = ast.parse(inspect.getsource(func))\n",
    "    for node in ast.walk(tree):\n",
    "        if isinstance(node, ast.Call) and isinstance(node.func, ast.Name):\n",
    "            functions_used.add(node.func.id)\n",
    "    return functions_used\n",
    "\n",
    "def extract_objective(func):\n",
    "    \"\"\"\n",
    "    Extracts the string of the line containing \"Objective\" from the docstring of a given function.\n",
    "\n",
    "    Args:\n",
    "        func: The function to extract the objective from.\n",
    "\n",
    "    Returns:\n",
    "        A string containing the objective.\n",
    "    \"\"\"\n",
    "    \n",
    "    \"\"\"\n",
    "        def f():\n",
    "\n",
    "        \n",
    "            Objective: This is a test\n",
    "            Input:\n",
    "            Return\n",
    "        \n",
    "\n",
    "        x=33\n",
    "\n",
    "        return\n",
    "        extract_objective(f)\n",
    "    \"\"\"\n",
    "    docstring = inspect.getdoc(func)\n",
    "    if docstring is None:\n",
    "        return None\n",
    "    lines = docstring.split('\\n')\n",
    "    for line in lines:\n",
    "        if 'Objective' in line:\n",
    "            return line.strip()\n",
    "    return None\n",
    "\n",
    "\n",
    "def find_functions_used_l(l,flag=False):\n",
    "    for func in l:\n",
    "        functions_used = find_functions_used(func)\n",
    "        if flag==True:\n",
    "            print(f\"{func.__name__}:\\n{extract_objective(func)}\\n{functions_used} \\n\")\n",
    "        if flag==False:\n",
    "            print(f\"{func.__name__}:\\n{functions_used} \\n\")"
   ]
  },
  {
   "cell_type": "code",
   "execution_count": null,
   "id": "60ba4f58",
   "metadata": {
    "collapsed": true,
    "jupyter": {
     "outputs_hidden": true
    }
   },
   "outputs": [],
   "source": [
    "# l = [f1, f2, f3]\n",
    "# find_functions_used_l(l,True)"
   ]
  }
 ],
 "metadata": {
  "kernelspec": {
   "display_name": "Python 3 (ipykernel)",
   "language": "python",
   "name": "python3"
  },
  "language_info": {
   "codemirror_mode": {
    "name": "ipython",
    "version": 3
   },
   "file_extension": ".py",
   "mimetype": "text/x-python",
   "name": "python",
   "nbconvert_exporter": "python",
   "pygments_lexer": "ipython3",
   "version": "3.10.8"
  }
 },
 "nbformat": 4,
 "nbformat_minor": 5
}
