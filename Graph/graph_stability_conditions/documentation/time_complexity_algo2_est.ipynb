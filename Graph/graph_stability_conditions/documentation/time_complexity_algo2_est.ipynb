{
 "cells": [
  {
   "cell_type": "markdown",
   "metadata": {},
   "source": [
    "This file allows one to determine for any graph $\\Gamma$ the size of \n",
    "\n",
    "$$   T_{\\Gamma}= \\sum_{\\Gamma_0 \\in \\Gamma_{(1)}} (k(N(\\Gamma_0))-1)!$$\n",
    "\n",
    "to approximate the time complexity of the algorithm used to determine $\\Sigma_{\\Gamma,T,D_{T}}^{d}$."
   ]
  },
  {
   "cell_type": "markdown",
   "metadata": {},
   "source": [
    "## Functions"
   ]
  },
  {
   "cell_type": "code",
   "execution_count": 18,
   "metadata": {},
   "outputs": [],
   "source": [
    "import math"
   ]
  },
  {
   "cell_type": "code",
   "execution_count": 52,
   "metadata": {},
   "outputs": [],
   "source": [
    "def tf_function(G):\n",
    "    #Calculates Tf\n",
    "    subg=get_subgraphs_gm1_Edgesmissing(G)\n",
    "\n",
    "    print(f\"Gamma(1) size is: {len(subg)}\")\n",
    "    prod=1\n",
    "    for s in subg:\n",
    "        #get the length of necklace\n",
    "            x=s.cycle_basis(output='edge')\n",
    "            [le]=x\n",
    "            size=len(le)\n",
    "\n",
    "            term=math.factorial(size-1)\n",
    "    #         print(term)\n",
    "            prod*=term\n",
    "    prod     \n",
    "    print(f\"T_Gamma is {prod}\")"
   ]
  },
  {
   "cell_type": "code",
   "execution_count": 1,
   "metadata": {},
   "outputs": [],
   "source": [
    "#For get_all_assingment_datum: produces all assignments for G.\n",
    "def get_subgraphs_gm1_Edgesmissing(G):\n",
    "    #gets all gamma_(1) subgraphs\n",
    "         #returns a list of such subg\n",
    "    \n",
    "    edge_num_G=len(G.edges())\n",
    "    vert_num_G=len(G.vertices())\n",
    "    g=edge_num_G-vert_num_G+1\n",
    "    gm1=g-1\n",
    "\n",
    "    E=Set(G.edges()) #remeber possibly mulitgraph\n",
    "    V=G.vertices()\n",
    "\n",
    "    graphs_i_want=[]\n",
    "    for s in E.subsets():\n",
    "        if len(s)==edge_num_G-gm1: # edge_num_G-gm1number of edges of these subgraphs.\n",
    "            H=Graph(multiedges=True)\n",
    "            H.add_edges( s )\n",
    "            H.add_vertices( V )        # are interested only in spanning subgraphs\n",
    "            if H.is_connected(): #Want connected subgraphs\n",
    "                graphs_i_want.append(H)\n",
    "\n",
    "    return graphs_i_want"
   ]
  },
  {
   "cell_type": "markdown",
   "metadata": {},
   "source": [
    "## Cases"
   ]
  },
  {
   "cell_type": "code",
   "execution_count": 54,
   "metadata": {},
   "outputs": [
    {
     "name": "stdout",
     "output_type": "stream",
     "text": [
      "Gamma(1) size is: 1\n",
      "T_Gamma is 2\n"
     ]
    }
   ],
   "source": [
    "graphname=\"G3\"\n",
    "G=Graph([(\"0\",\"1\"),(\"1\",\"2\"),(\"2\",\"0\")], multiedges=True)\n",
    "tf_function(G)"
   ]
  },
  {
   "cell_type": "code",
   "execution_count": 55,
   "metadata": {},
   "outputs": [
    {
     "name": "stdout",
     "output_type": "stream",
     "text": [
      "Gamma(1) size is: 1\n",
      "T_Gamma is 6\n"
     ]
    }
   ],
   "source": [
    "graphname=\"G4\"\n",
    "G=Graph([(\"0\",\"1\"),(\"1\",\"2\"),(\"2\",\"3\"),(\"3\",\"0\")], multiedges=True)\n",
    "tf_function(G)"
   ]
  },
  {
   "cell_type": "code",
   "execution_count": 56,
   "metadata": {},
   "outputs": [
    {
     "name": "stdout",
     "output_type": "stream",
     "text": [
      "Gamma(1) size is: 1\n",
      "T_Gamma is 24\n"
     ]
    }
   ],
   "source": [
    "graphname=\"G5\"\n",
    "G=Graph([(\"0\",\"1\"),(\"1\",\"2\"),(\"2\",\"3\"),(\"3\",\"4\"),(\"4\",\"0\")], multiedges=True)\n",
    "tf_function(G)"
   ]
  },
  {
   "cell_type": "code",
   "execution_count": 57,
   "metadata": {},
   "outputs": [
    {
     "name": "stdout",
     "output_type": "stream",
     "text": [
      "Gamma(1) size is: 1\n",
      "T_Gamma is 120\n"
     ]
    }
   ],
   "source": [
    "graphname=\"G6\"\n",
    "G=Graph([(\"0\",\"1\"),(\"1\",\"2\"),(\"2\",\"3\"),(\"3\",\"4\"),(\"4\",\"5\"),(\"5\",\"0\")], multiedges=True)\n",
    "tf_function(G)"
   ]
  },
  {
   "cell_type": "code",
   "execution_count": 58,
   "metadata": {},
   "outputs": [
    {
     "name": "stdout",
     "output_type": "stream",
     "text": [
      "Gamma(1) size is: 1\n",
      "T_Gamma is 720\n"
     ]
    }
   ],
   "source": [
    "graphname=\"G7\"\n",
    "G=Graph([(\"0\",\"1\"),(\"1\",\"2\"),(\"2\",\"3\"),(\"3\",\"4\"),(\"4\",\"5\"),(\"5\",\"6\"),(\"6\",\"0\")], multiedges=True)\n",
    "tf_function(G)"
   ]
  },
  {
   "cell_type": "code",
   "execution_count": 59,
   "metadata": {},
   "outputs": [
    {
     "name": "stdout",
     "output_type": "stream",
     "text": [
      "Gamma(1) size is: 5\n",
      "T_Gamma is 96\n"
     ]
    }
   ],
   "source": [
    "graphname=\"G4M2\"#122\n",
    "G=Graph([(\"0\",\"1\"),(\"1\",\"2\"),(\"2\",\"3\"),(\"3\",\"0\"),(\"0\",\"2\")], multiedges=True)\n",
    "tf_function(G)"
   ]
  },
  {
   "cell_type": "code",
   "execution_count": 60,
   "metadata": {},
   "outputs": [
    {
     "name": "stdout",
     "output_type": "stream",
     "text": [
      "Gamma(1) size is: 6\n",
      "T_Gamma is 6912\n"
     ]
    }
   ],
   "source": [
    "graphname=\"G5M2\"#123\n",
    "G=Graph([(\"0\",\"1\"),(\"1\",\"2\"),(\"2\",\"3\"),(\"3\",\"4\"),(\"4\",\"0\"),(\"0\",\"2\")], multiedges=True)\n",
    "tf_function(G)"
   ]
  },
  {
   "cell_type": "code",
   "execution_count": 61,
   "metadata": {},
   "outputs": [
    {
     "name": "stdout",
     "output_type": "stream",
     "text": [
      "Gamma(1) size is: 7\n",
      "T_Gamma is 1105920\n"
     ]
    }
   ],
   "source": [
    "graphname=\"G6M2\"#124\n",
    "G=Graph([(\"0\",\"1\"),(\"1\",\"2\"),(\"2\",\"3\"),(\"3\",\"4\"),(\"4\",\"5\"),(\"5\",\"0\"),(\"0\",\"2\")], multiedges=True)\n",
    "tf_function(G)"
   ]
  },
  {
   "cell_type": "code",
   "execution_count": 62,
   "metadata": {},
   "outputs": [
    {
     "name": "stdout",
     "output_type": "stream",
     "text": [
      "Gamma(1) size is: 7\n",
      "T_Gamma is 5598720\n"
     ]
    }
   ],
   "source": [
    "graphname=\"G6M3\"  #133\n",
    "G=Graph([(\"0\",\"1\"),(\"1\",\"2\"),(\"2\",\"3\"),(\"3\",\"4\"),(\"4\",\"5\"),(\"5\",\"0\"),(\"0\",\"3\")], multiedges=True)\n",
    "tf_function(G)"
   ]
  },
  {
   "cell_type": "code",
   "execution_count": 63,
   "metadata": {},
   "outputs": [
    {
     "name": "stdout",
     "output_type": "stream",
     "text": [
      "Gamma(1) size is: 8\n",
      "T_Gamma is 331776000\n"
     ]
    }
   ],
   "source": [
    "graphname=\"G7M02\"#125\n",
    "G=Graph([(\"0\",\"1\"),(\"1\",\"2\"),(\"2\",\"3\"),(\"3\",\"4\"),(\"4\",\"5\"),(\"5\",\"6\"),(\"6\",\"0\"),(\"0\",\"2\")], multiedges=True)\n",
    "tf_function(G)"
   ]
  },
  {
   "cell_type": "code",
   "execution_count": 64,
   "metadata": {},
   "outputs": [
    {
     "name": "stdout",
     "output_type": "stream",
     "text": [
      "Gamma(1) size is: 8\n",
      "T_Gamma is 12899450880\n"
     ]
    }
   ],
   "source": [
    "graphname=\"G7M03\"#134\n",
    "G=Graph([(\"0\",\"1\"),(\"1\",\"2\"),(\"2\",\"3\"),(\"3\",\"4\"),(\"4\",\"5\"),(\"5\",\"6\"),(\"6\",\"0\"),(\"0\",\"3\")], multiedges=True)\n",
    "tf_function(G)"
   ]
  },
  {
   "cell_type": "code",
   "execution_count": 65,
   "metadata": {},
   "outputs": [
    {
     "name": "stdout",
     "output_type": "stream",
     "text": [
      "Gamma(1) size is: 6\n",
      "T_Gamma is 46656\n"
     ]
    }
   ],
   "source": [
    "graphname=\"V_222\"\n",
    "G=Graph([(\"0\",\"1\"),(\"1\",\"2\"),(\"2\",\"3\"),(\"3\",\"0\"),(\"0\",\"4\"),(\"4\",\"2\")], multiedges=True)\n",
    "tf_function(G)"
   ]
  },
  {
   "cell_type": "code",
   "execution_count": 66,
   "metadata": {},
   "outputs": [
    {
     "name": "stdout",
     "output_type": "stream",
     "text": [
      "Gamma(1) size is: 7\n",
      "T_Gamma is 71663616\n"
     ]
    }
   ],
   "source": [
    "graphname=\"V_223\"\n",
    "G=Graph([(\"0\",\"1\"),(\"1\",\"2\"),(\"2\",\"3\"),(\"3\",\"4\"),(\"4\",\"0\"),(\"0\",\"5\"),(\"5\",\"2\")], multiedges=True)\n",
    "tf_function(G)"
   ]
  },
  {
   "cell_type": "code",
   "execution_count": 67,
   "metadata": {},
   "outputs": [
    {
     "name": "stdout",
     "output_type": "stream",
     "text": [
      "Gamma(1) size is: 8\n",
      "T_Gamma is 268738560000\n"
     ]
    }
   ],
   "source": [
    "graphname=\"V_224\"\n",
    "G=Graph([(\"0\",\"1\"),(\"1\",\"2\"),(\"2\",\"3\"),(\"3\",\"4\"),(\"4\",\"5\"),(\"5\",\"0\"),(\"0\",\"6\"),(\"6\",\"2\")], multiedges=True)\n",
    "tf_function(G)"
   ]
  },
  {
   "cell_type": "code",
   "execution_count": 69,
   "metadata": {},
   "outputs": [
    {
     "name": "stdout",
     "output_type": "stream",
     "text": [
      "Gamma(1) size is: 8\n",
      "T_Gamma is 2751882854400\n"
     ]
    }
   ],
   "source": [
    "graphname=\"V_233\"\n",
    "G=Graph([(\"0\",\"1\"),(\"1\",\"2\"),(\"2\",\"3\"),(\"3\",\"4\"),(\"4\",\"5\"),(\"5\",\"0\"),(\"0\",\"6\"),(\"6\",\"3\")], multiedges=True)\n",
    "tf_function(G)"
   ]
  },
  {
   "cell_type": "code",
   "execution_count": 70,
   "metadata": {},
   "outputs": [
    {
     "name": "stdout",
     "output_type": "stream",
     "text": [
      "Gamma(1) size is: 15\n",
      "T_Gamma is 884736\n"
     ]
    }
   ],
   "source": [
    "graphname=\"G4M02M13\"#g1\n",
    "G=Graph([(\"0\",\"1\"),(\"1\",\"2\"),(\"2\",\"3\"),(\"3\",\"0\"),(\"0\",\"2\"),(\"1\",\"3\")], multiedges=True)\n",
    "tf_function(G)"
   ]
  },
  {
   "cell_type": "code",
   "execution_count": 71,
   "metadata": {},
   "outputs": [
    {
     "name": "stdout",
     "output_type": "stream",
     "text": [
      "Gamma(1) size is: 19\n",
      "T_Gamma is 509607936\n"
     ]
    }
   ],
   "source": [
    "graphname=\"G5M02M03\"#g2\n",
    "G=Graph([(\"0\",\"1\"),(\"1\",\"2\"),(\"2\",\"3\"),(\"3\",\"4\"),(\"4\",\"0\"),(\"0\",\"2\"),(\"0\",\"3\")], multiedges=True)\n",
    "tf_function(G)"
   ]
  },
  {
   "cell_type": "code",
   "execution_count": 72,
   "metadata": {},
   "outputs": [
    {
     "name": "stdout",
     "output_type": "stream",
     "text": [
      "Gamma(1) size is: 52\n",
      "T_Gamma is 4019988717840603673710821376\n"
     ]
    }
   ],
   "source": [
    "graphname=\"G5M02M03M14\"#g3\n",
    "G=Graph([(\"0\",\"1\"),(\"1\",\"2\"),(\"2\",\"3\"),(\"3\",\"4\"),(\"4\",\"0\"),(\"0\",\"2\"),(\"0\",\"3\"),(\"1\",\"4\")], multiedges=True)\n",
    "tf_function(G)"
   ]
  },
  {
   "cell_type": "code",
   "execution_count": 74,
   "metadata": {},
   "outputs": [
    {
     "name": "stdout",
     "output_type": "stream",
     "text": [
      "Gamma(1) size is: 26\n",
      "T_Gamma is 68232691271831283302400\n"
     ]
    }
   ],
   "source": [
    "graphname=\"FV_G6M3M14\"  \n",
    "G=Graph([(\"0\",\"1\"),(\"1\",\"2\"),(\"2\",\"3\"),(\"3\",\"4\"),(\"4\",\"5\"),(\"5\",\"0\"),(\"0\",\"3\"),(\"1\",\"4\")], multiedges=True)\n",
    "tf_function(G)"
   ]
  },
  {
   "cell_type": "code",
   "execution_count": null,
   "metadata": {},
   "outputs": [],
   "source": []
  }
 ],
 "metadata": {
  "kernelspec": {
   "display_name": "SageMath 9.2",
   "language": "sage",
   "name": "sagemath"
  },
  "language_info": {
   "codemirror_mode": {
    "name": "ipython",
    "version": 3
   },
   "file_extension": ".py",
   "mimetype": "text/x-python",
   "name": "python",
   "nbconvert_exporter": "python",
   "pygments_lexer": "ipython3",
   "version": "3.7.7"
  }
 },
 "nbformat": 4,
 "nbformat_minor": 4
}
