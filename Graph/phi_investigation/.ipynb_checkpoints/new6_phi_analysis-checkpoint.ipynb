{
 "cells": [
  {
   "cell_type": "markdown",
   "metadata": {
    "tags": [],
    "toc-hr-collapsed": true
   },
   "source": [
    "# Overview"
   ]
  },
  {
   "cell_type": "markdown",
   "metadata": {},
   "source": [
    "Recall the definition of $P_{ST}^{\\sigma_{\\Gamma}}$ in Section $2.4$ of the thesis.\n",
    "\n",
    "In this notebook we consider the graphs of Section $1.3$ of the thesis, and for a given graph $\\Gamma$, determine whether the convex region $P_{ST}^{\\sigma_{\\Gamma}}$ is empty or not for all $\\sigma_{\\Gamma} \\in \\Sigma_{\\Gamma,T,D_{T}}^{d}$ (obtained via 4\\_assignments.ipynb and 5_assignments\\_11k3graphs.ipynb), and therefore conclude the existence/non-existence of a numerical polarisation for each $\\sigma_{\\Gamma}$."
   ]
  },
  {
   "cell_type": "markdown",
   "metadata": {},
   "source": [
    "As $P_{ST}^{\\sigma_{\\Gamma}}$ is a convex region if $P_{ST}^{\\sigma_{\\Gamma}}$ has dimension $|V(\\Gamma)|-1$ then $P_{ST}^{\\sigma_{\\Gamma}} \\ne \\emptyset$ and if $P_{ST}^{\\sigma_{\\Gamma}}$ has dimension strictly less than $|V(\\Gamma)|-1$ then $P_{ST}^{\\sigma_{\\Gamma}} = \\emptyset$.\n",
    "\n",
    "Our method to show $P_{ST}^{\\sigma_{\\Gamma}} \\ne \\emptyset$ is to modify the definition of $P_{ST}^{\\sigma_{\\Gamma}}$ and swap $<$ with $\\le$. This modification allows us to utilize the Sage function `Polyhedron()` to construct $P_{ST}^{\\sigma_{\\Gamma}}$ and determine its dimension. We can then ascertain whether, with the modified inequality ($\\le$), the dimension of $P_{ST}^{\\sigma_{\\Gamma}}$ is strictly less than $|V(\\Gamma)|-1$, which implies that $P_{ST}^{\\sigma_{\\Gamma}}$ is indeed an empty set."
   ]
  },
  {
   "cell_type": "markdown",
   "metadata": {
    "tags": []
   },
   "source": [
    "### Results"
   ]
  },
  {
   "cell_type": "markdown",
   "metadata": {},
   "source": [
    "We see that all graphs consider in the Section $1.3$, with the expection of $F$ given by Filippo Viviani have $P_{ST}^{\\sigma_{\\Gamma}} \\ne \\emptyset$ for all $\\sigma_{\\Gamma} \\in \\Sigma_{\\Gamma,T,D_{T}}^{d}$. For the graph $F$ there are $16$ stability conditions $\\sigma_{\\Gamma} \\in \\Sigma_{\\Gamma,T,D_{T}}^{d}$ such that $P_{ST}^{\\sigma_{\\Gamma}} = \\emptyset$. It remains to show that these $16$ are in fact strong stability conditions, we do this in \"7_strong_stability_check.ipynb\"."
   ]
  },
  {
   "cell_type": "markdown",
   "metadata": {
    "tags": []
   },
   "source": [
    "### Notes\n"
   ]
  },
  {
   "cell_type": "markdown",
   "metadata": {},
   "source": [
    "1) For each of the graphs in #Cases we load $\\Sigma_{\\Gamma,T,D_{T}}^{d}$ from \"\\Stability_Conditions\\Graph\\phi_investigation\\examples\\{graphname}\".\n",
    "\n",
    "2) We store the results as a list in \"\\Stability_Conditions\\Graph\\phi_investigation\\examples\\{graphname}\\phi_analysis\""
   ]
  },
  {
   "cell_type": "markdown",
   "metadata": {
    "jp-MarkdownHeadingCollapsed": true,
    "tags": [
     "not",
     "done"
    ],
    "toc-hr-collapsed": true
   },
   "source": [
    "# Table of contents"
   ]
  },
  {
   "cell_type": "markdown",
   "metadata": {
    "tags": [],
    "toc-hr-collapsed": true
   },
   "source": [
    "1. [Functions](#s1)\n",
    "    1. [Main Functions](#s11)\n",
    "    2. [Secondary Functions](#s12)\n",
    "    3. [Loading and storing](#s13)\n",
    "2. [Example](#s3)    \n",
    "3. [Cases](#s2)\n",
    "    1. [$n$-necklace graphs $n \\le 5$](#s21)\n",
    "    2. [$\\Gamma:=\\Gamma_{1 1 k_3}$ for $2 \\le k_3 \\le 6$](#s22)\n",
    "    3. [$\\Gamma:=\\Gamma_{1 k_2 k_3}$ for $k_2\\ge 2$](#s23)\n",
    "    4. [$\\Gamma:=\\Gamma_{k_1 k_2 k_3}$ for $k_1\\ge 2$](#s24)\n",
    "    5. [$\\Gamma \\in \\{ G_1,G_2,G_3,F\\}$](#s25)"
   ]
  },
  {
   "cell_type": "markdown",
   "metadata": {
    "tags": []
   },
   "source": [
    "# Functions <a name=\"s1\"></a>"
   ]
  },
  {
   "cell_type": "markdown",
   "metadata": {
    "jp-MarkdownHeadingCollapsed": true,
    "tags": []
   },
   "source": [
    "## Used throughout\n"
   ]
  },
  {
   "cell_type": "code",
   "execution_count": 1,
   "metadata": {},
   "outputs": [],
   "source": [
    "import numpy as np\n",
    "import itertools\n",
    "import pickle\n",
    "from fractions import Fraction\n",
    "from collections import Counter\n",
    "import textwrap"
   ]
  },
  {
   "cell_type": "markdown",
   "metadata": {
    "tags": []
   },
   "source": [
    "## Main functions <a name=\"s11\"></a>"
   ]
  },
  {
   "cell_type": "markdown",
   "metadata": {},
   "source": [
    "We now determine for each $\\sigma_{\\Gamma} \\in \\Sigma_{\\Gamma,T,D_{T}}^{d}$ the dimension of $P_{ST}^{\\sigma_{\\Gamma}}$. The inputs for which are the graph $G$ and the set $\\Sigma_{\\Gamma,T,D_{T}}^{d}$ as data."
   ]
  },
  {
   "cell_type": "code",
   "execution_count": 2,
   "metadata": {},
   "outputs": [
    {
     "name": "stderr",
     "output_type": "stream",
     "text": [
      "<>:16: DeprecationWarning: invalid escape sequence \\s\n",
      "<>:16: DeprecationWarning: invalid escape sequence \\s\n",
      "<>:16: DeprecationWarning: invalid escape sequence \\s\n",
      "<ipython-input-2-ac40bbaf2843>:16: DeprecationWarning: invalid escape sequence \\s\n",
      "  \"\"\"\n"
     ]
    }
   ],
   "source": [
    "def analyse_graphname(G,data,start=0,terminator=False): #general not FV example\n",
    "    \"\"\"\n",
    "    Obj: Measure for each stability condition the dimension of P_{ST}^{\\sigma_{\\Gamma}}\n",
    "    #inputs:   \n",
    "    \n",
    "    size: number of vertices of graph minus 1.\n",
    "    graphname:name in folder to load the data\n",
    "    G=Graph([(\"0\",\"1\"),(\"1\",\"2\"),(\"2\",\"0\")], multiedges=True)\n",
    "    #     start: the ith term 1,...,k you want to start the computation from.\n",
    "    #     terminator = is a number 1,...,k, the nth to which we calculate upo to so \n",
    "    not to have to calc all cases (used for examples).\n",
    "    \n",
    "    Returns: a list of dictionaries of the form {\"Dimension of tree-poly\":dim_tree_poly}\n",
    "    where tree-poly is the region P_{ST}^{\\sigma_{\\Gamma}} for each stability codnition\n",
    "    and dim_tree_poly is its dimension.\n",
    "    \"\"\"\n",
    "    \n",
    "    dic_l=[]\n",
    "    top_dim=[] # record those with top dim poly\n",
    "    degen=[] #record wsc with degen poly.\n",
    "    \n",
    "    for term,wsc in enumerate(data):\n",
    "        \n",
    "        #Use start to skip to the case you want to study.\n",
    "        if term<start-1:\n",
    "            continue\n",
    "        \n",
    "        \n",
    "        #for Tree_poly\n",
    "        assignments=wsc[2] #[(Graph on 3 vertices, [0, 0, 0]),(Graph on 3 vertices, [0, 0, 0]),(Graph on 3 vertices, [0, 0, 0])]\n",
    "        tree_poly=get_intersection_tree_poly(G,assignments)\n",
    "        dim_treepoly=dim(tree_poly)\n",
    "        dic={\"Dimension of tree-poly\":dim_treepoly}\n",
    "        dic_l.append(dic)\n",
    "\n",
    "        print(\"Start=\",start,\"----\",term,\"----tree_poly:\",dim_treepoly)\n",
    "\n",
    "    return dic_l"
   ]
  },
  {
   "cell_type": "markdown",
   "metadata": {},
   "source": [
    "Recall the definition of $P_{ST}^{\\sigma_{\\Gamma}}$ as $P_{ST}^{\\sigma_{\\Gamma}}= \\bigcap_{T \\in \\mathcal{ST}(\\Gamma)}P_{T}^{\\sigma_{\\Gamma}}$, given in Section $2.4$ of the thesis. The main subfunction of analyse\\_graphname is get\\_intersection\\_tree\\_poly which gives the region $P_{ST}^{\\sigma_{\\Gamma}}$ "
   ]
  },
  {
   "cell_type": "code",
   "execution_count": 3,
   "metadata": {
    "tags": [
     "Function"
    ]
   },
   "outputs": [
    {
     "name": "stderr",
     "output_type": "stream",
     "text": [
      "<>:8: DeprecationWarning: invalid escape sequence \\s\n",
      "<>:8: DeprecationWarning: invalid escape sequence \\s\n",
      "<>:8: DeprecationWarning: invalid escape sequence \\s\n",
      "<ipython-input-3-f376ae1c955b>:8: DeprecationWarning: invalid escape sequence \\s\n",
      "  \"\"\"\n"
     ]
    }
   ],
   "source": [
    "def get_intersection_tree_poly(G,assignments):\n",
    "\n",
    "    \"\"\"\n",
    "    Objective: get P_{ST}^{\\sigma_{\\Gamma}}\n",
    "    Input: \n",
    "    assignments: the tree assignment A_{\\Gamma} for \\sigma_{\\Gamma} as a list of pairs (Tree,divisor).\n",
    "    Returns: P_{ST}^{\\sigma_{\\Gamma}} as a polyhedron (with \\le)\n",
    "    \"\"\"\n",
    "    \n",
    "    #Build and record polytopes.\n",
    "    poly_l=[]\n",
    "    for ass in assignments:\n",
    "    \n",
    "        T,divisor=ass[0],ass[1]\n",
    "    \n",
    "        P=get_tree_poly(G,T,divisor)\n",
    "        \n",
    "        poly_l.append(P)\n",
    "\n",
    "    #Take intersection of polytopes for trees\n",
    "    inter=poly_l[0]\n",
    "    for P in poly_l[1:]:\n",
    "        inter=inter.intersection(P)\n",
    "\n",
    "    return inter"
   ]
  },
  {
   "cell_type": "markdown",
   "metadata": {},
   "source": [
    "Let $\\sigma_\\Gamma \\in \\Sigma_{\\Gamma}^{d}$. To construct $P_{ST}^{\\sigma_{\\Gamma}}$, it is necessary to take the intersection of $P_{T}^{\\sigma_{\\Gamma}}$ for all $T \\in \\mathcal{\\Gamma}$. The following function get\\_tree\\_poly gives $P_{T}^{\\sigma_{\\Gamma}}$ for a $T \\in \\mathcal{ST}(\\Gamma)$ and $\\vec{d} \\in \\sigma_\\Gamma(T)$."
   ]
  },
  {
   "cell_type": "code",
   "execution_count": 4,
   "metadata": {
    "tags": [
     "Function"
    ]
   },
   "outputs": [
    {
     "name": "stderr",
     "output_type": "stream",
     "text": [
      "<>:10: DeprecationWarning: invalid escape sequence \\s\n",
      "<>:10: DeprecationWarning: invalid escape sequence \\s\n",
      "<>:10: DeprecationWarning: invalid escape sequence \\s\n",
      "<ipython-input-4-cdaafe9c157c>:10: DeprecationWarning: invalid escape sequence \\s\n",
      "  \"\"\"\n"
     ]
    }
   ],
   "source": [
    "def get_tree_poly(G,T,divisor):#Main\n",
    "    \n",
    "    \"\"\"\n",
    "    Objective:Get P_{T}^{\\sigma_{\\Gamma}} for a tree using the phi-tree-inequalties.\n",
    "    Input: \n",
    "    divisor: d given by \\sigma_{\\Gamma}(T)\n",
    "    T: Spanning tree of \\Gamma\n",
    "    G is graph\n",
    "    Returns: Polyhedron P_{T}^{\\sigma_{\\Gamma}} (with \\le)\n",
    "    \"\"\"\n",
    "\n",
    "    # get list of phi_tree_inequalities_data(G,T) for each trees.(dictionary)\n",
    "    phi_G=phi_tree_inequalities_data(G,T)\n",
    "\n",
    "    hyperp=phi_tree_formatted_hyperplanes(divisor,phi_G,G)\n",
    "\n",
    "    #build a polytope.\n",
    "    tree_poly=Polyhedron(ieqs=hyperp)\n",
    "\n",
    "    return tree_poly"
   ]
  },
  {
   "cell_type": "markdown",
   "metadata": {},
   "source": [
    "To state $P_{T}^{\\sigma_{\\Gamma}}$ it is necessary to have the hyperplanes which give $P_{T}^{\\sigma_{\\Gamma}}$."
   ]
  },
  {
   "cell_type": "code",
   "execution_count": 5,
   "metadata": {
    "tags": [
     "Function"
    ]
   },
   "outputs": [
    {
     "name": "stderr",
     "output_type": "stream",
     "text": [
      "<>:26: DeprecationWarning: invalid escape sequence \\G\n",
      "<>:26: DeprecationWarning: invalid escape sequence \\G\n",
      "<>:26: DeprecationWarning: invalid escape sequence \\G\n",
      "<ipython-input-5-a3682a15f081>:26: DeprecationWarning: invalid escape sequence \\G\n",
      "  \"\"\"\n"
     ]
    }
   ],
   "source": [
    "def phi_tree_formatted_hyperplanes(divisor,phi_G,G):\n",
    "    \n",
    "    \"\"\"\n",
    "    Objective: Get list of inquality data to feed into Sages Polyhedron function\n",
    "    https://doc.sagemath.org/html/en/reference/discrete_geometry/sage/geometry/polyhedron/constructor.html\n",
    "    \n",
    "    Polyhedron(ieqs=[(0,1,0),(0,0,1),(1,-1,-1)]).Hrepresentation()\n",
    "    (An inequality (-1, -1) x + 1 >= 0,\n",
    "     An inequality (1, 0) x + 0 >= 0,\n",
    "     An inequality (0, 1) x + 0 >= 0)\n",
    "     \n",
    "    to add the total degree inequality x+y+z..=degree.\n",
    "    \n",
    "    Ax=b\n",
    "    \n",
    "    Further Notes:    \n",
    "    Here divisor is a single divisor. Not for all divisors in a set.\n",
    "    \n",
    "    Inputs:\n",
    "    phi_G =  A dictionary that records indexs (vertices of \\Gamma^{'}) of cuts (\\Gamma^{'},\\Gamma^{'c}) as keys, \n",
    "    and value=[num_e_in_tree,num_e_notin_tree]\n",
    "    divisor= divisor in stability condition for tree ie. sigma_{\\Gamma}(T)\n",
    "    \n",
    "    Returns: list of inequalities in the correct format to pass to Polyhedron as above.\n",
    "\n",
    "    \"\"\"\n",
    "    \n",
    "    #length of divisor:\n",
    "    n=len(divisor)\n",
    "    \n",
    "    # We add the total degree equation to inequals for phi\n",
    "    deg=get_first_betti_number(G) #will be 0 for trees.\n",
    "    tot_equ1=[-deg,]+ [1]*n\n",
    "    tot_equ2=[deg,]+ [-1]*n\n",
    "    \n",
    "    #List of inequalities we wish to return\n",
    "    inequals=[tot_equ1,tot_equ2]     \n",
    "        \n",
    "    for indexor in list(phi_G.keys()):\n",
    "\n",
    "        num_e_in_tree,num_e_notin_tree,gamma0_missing_edges=phi_G[indexor] #value=[num_e_in_tree,num_e_notin_tree]    \n",
    "\n",
    "        res_upper=upper_part(indexor,n,divisor,num_e_in_tree,num_e_notin_tree,gamma0_missing_edges)\n",
    "\n",
    "        res_lower=lower_part(indexor,n,divisor,num_e_in_tree,num_e_notin_tree,gamma0_missing_edges)\n",
    "\n",
    "        res_combined= [res_lower,res_upper]\n",
    "\n",
    "        inequals=inequals+res_combined\n",
    "    return inequals"
   ]
  },
  {
   "cell_type": "markdown",
   "metadata": {},
   "source": [
    "In phi\\_tree\\_formatted\\_hyperplanes the main subfunctions of which are:\n",
    "\n",
    "1) get\\_first\\_betti\\_number\n",
    "2) lower\\_part and upper\\_part.\n",
    "\n",
    "The data of phi\\_G is given by phi\\_tree\\_inequalities\\_data (which stores the cut information for all induced elemenart subgraphs)."
   ]
  },
  {
   "cell_type": "markdown",
   "metadata": {},
   "source": [
    "We state how we determine 1). We take $d=b_{1}(\\Gamma)$ to be the first betti number of the graph.\n",
    "As a consequence we have that for $\\vec{d} \\in \\sigma_{\\Gamma}(T)$ we have $deg(\\vec{d})=0$ for any spanning tree $T$."
   ]
  },
  {
   "cell_type": "code",
   "execution_count": 6,
   "metadata": {
    "tags": [
     "Function"
    ]
   },
   "outputs": [],
   "source": [
    "def get_first_betti_number(G):\n",
    "    #for if the degree of divisors on trees is 0, the degree of lbm is this.\n",
    "    return len(G.edges())-len(G.vertices())+1"
   ]
  },
  {
   "cell_type": "markdown",
   "metadata": {},
   "source": [
    "We state how we determine 2)."
   ]
  },
  {
   "cell_type": "markdown",
   "metadata": {},
   "source": [
    "For $\\vec{d} \\in \\sigma_{\\Gamma}(\\Gamma_0)$ for $\\Gamma_0$ any connected spanning subgraph or $\\phi \\in V^{d}(\\Gamma)$, the following function allow one to determine $d_{\\Gamma^{'}}= \\sum_{v \\in V\\left(\\Gamma^{\\prime}\\right)}\\vec{d}(v)$ and $\\phi_{\\Gamma^{'}}= \\sum_{v \\in V\\left(\\Gamma^{\\prime}\\right)}\\phi(v)$ for $\\Gamma^{'}$ an induced elementary subgraph.\n",
    "\n"
   ]
  },
  {
   "cell_type": "code",
   "execution_count": 7,
   "metadata": {
    "tags": [
     "Function"
    ]
   },
   "outputs": [],
   "source": [
    "def sum_comps(comp,indexor): #Done\n",
    "    \"\"\"returns the sum of the components of comp in the position by indexor\"\"\"\n",
    "    #for d and phi\n",
    "    sum_l=[comp[int(i)] for i in indexor] #Becuase of the vertex labeling of G having v_0....\n",
    "    return sum(sum_l)"
   ]
  },
  {
   "cell_type": "markdown",
   "metadata": {
    "tags": []
   },
   "source": [
    "Recall for each  elementary induced subgraph $\\Gamma^{'}$ defines two hyperplanes that give the bounds for $\\phi_{\\Gamma^{'}}$ that is is $L_{\\Gamma_0,\\Gamma^{'}}+ \\vec{d}_{\\Gamma^{'}}< \\phi_{\\Gamma^{'}}  <U_{\\Gamma_0,\\Gamma^{'}}+ \\vec{d}_{\\Gamma^{'}}$ (given by lower\\_part and upper\\_part).\n",
    "\n",
    "Let $\\vec{d} \\in \\sigma_{\\Gamma}(\\Gamma_0)$ and consider the pair of inequalities,\n",
    "\n",
    "$$L_{\\Gamma_0,\\Gamma^{'}}< \\phi_{\\Gamma^{'}} - \\vec{d}_{\\Gamma^{'}} <U_{\\Gamma_0,\\Gamma^{'}}$$\n",
    "\n",
    "The function lower\\_part allows one to calculate \n",
    "\n",
    "$$\\phi_{\\Gamma^{'}} <U_{\\Gamma_0,\\Gamma^{'}} + \\vec{d}_{\\Gamma^{'}} .$$\n",
    "\n",
    "\n",
    "and the function upper\\_part allows one to calculate ($L_{\\Gamma_0,\\Gamma^{'}}+ \\vec{d}_{\\Gamma^{'}}< \\phi_{\\Gamma^{'}}$) but we write it in the following method so we can take the inequality in the same direction,\n",
    "\n",
    "$$-\\phi_{\\Gamma^{'}}<-L_{\\Gamma_0,\\Gamma^{'}}- \\vec{d}_{\\Gamma^{'}}$$"
   ]
  },
  {
   "cell_type": "markdown",
   "metadata": {
    "tags": []
   },
   "source": [
    "For the functions lower part and upper part the following terms correspond to:\n",
    "\n",
    "1) T\\_term:\n",
    "    \n",
    "$$\\frac{\\left|\\operatorname{E}\\left(\\Gamma_0\\right) \\backslash\\left(\\operatorname{E}\\left(\\Gamma^{\\prime}\\right) \\cup \\operatorname{E}\\left(\\Gamma^{\\prime c}\\right)\\right)\\right|}{2}$$\n",
    "    "
   ]
  },
  {
   "cell_type": "markdown",
   "metadata": {
    "tags": []
   },
   "source": [
    "2) T\\_comp\\_term:\n",
    "    \n",
    "$$\\frac{\\left|\\operatorname{E}\\left(\\Gamma_0^c\\right) \\backslash (\\operatorname{E}\\left(\\Gamma^{\\prime}\\right) \\cup \\operatorname{E}\\left(\\Gamma^{\\prime c}\\right))\\right|}{2}$$\n",
    "    \n",
    "3) divisor\\_comp\\_sum:\n",
    "    \n",
    "$$d_{\\Gamma^{'}}= \\sum_{v \\in V\\left(\\Gamma^{\\prime}\\right)}\\vec{d}(v)$$\n",
    "    \n",
    "4) totaldeg\\_divisor\\_comp\\_sum:\n",
    "    \n",
    "$$d_{\\Gamma^{'}}+\\left|\\operatorname{E}\\left(\\Gamma_0^c\\right) \\cap \\operatorname{E}\\left(\\Gamma^{\\prime}\\right)\\right|$$\n",
    "    \n",
    "    \n",
    "\n",
    "5) bterm:\n",
    "    \n",
    "    i) for lower\\_part is\n",
    "\n",
    "$$d_{\\Gamma^{'}}+\\left|\\operatorname{E}\\left(\\Gamma_0^c\\right) \\cap \\operatorname{E}\\left(\\Gamma^{\\prime}\\right)\\right|+\\frac{\\left|\\operatorname{E}\\left(\\Gamma_0\\right) \\backslash\\left(\\operatorname{E}\\left(\\Gamma^{\\prime}\\right) \\cup \\operatorname{E}\\left(\\Gamma^{\\prime c}\\right)\\right)\\right|}{2} +\\frac{\\left|\\operatorname{E}\\left(\\Gamma_0^c\\right) \\backslash (\\operatorname{E}\\left(\\Gamma^{\\prime}\\right) \\cup \\operatorname{E}\\left(\\Gamma^{\\prime c}\\right))\\right|}{2}$$     \n",
    "\n",
    "5) bterm:\n",
    "    \n",
    "    i) for upper\\_part is\n",
    "\n",
    "$$-d_{\\Gamma^{'}}-\\left|\\operatorname{E}\\left(\\Gamma_0^c\\right) \\cap \\operatorname{E}\\left(\\Gamma^{\\prime}\\right)\\right|+\\frac{\\left|\\operatorname{E}\\left(\\Gamma_0\\right) \\backslash\\left(\\operatorname{E}\\left(\\Gamma^{\\prime}\\right) \\cup \\operatorname{E}\\left(\\Gamma^{\\prime c}\\right)\\right)\\right|}{2} -\\frac{\\left|\\operatorname{E}\\left(\\Gamma_0^c\\right) \\backslash (\\operatorname{E}\\left(\\Gamma^{\\prime}\\right) \\cup \\operatorname{E}\\left(\\Gamma^{\\prime c}\\right))\\right|}{2}$$     "
   ]
  },
  {
   "cell_type": "code",
   "execution_count": 8,
   "metadata": {
    "tags": [
     "Function"
    ]
   },
   "outputs": [],
   "source": [
    "def lower_part(indexor,n,divisor,num_e_in_tree,num_e_notin_tree,gamma0_missing_edges):\n",
    "\n",
    "    #get b term\n",
    "    T_term=num_e_in_tree*0.5\n",
    "    \n",
    "    T_comp_term=num_e_notin_tree*0.5\n",
    "    \n",
    "    divisor_comp_sum=sum_comps(divisor,indexor)\n",
    "    \n",
    "    totaldeg_divisor_comp_sum=divisor_comp_sum+gamma0_missing_edges#Corrected to total degree\n",
    "    \n",
    "    bterm=[totaldeg_divisor_comp_sum+T_term+T_comp_term] #See phi_tree_inequality_doc\n",
    "    \n",
    "    base=np.zeros(n)\n",
    "    \n",
    "    \"\"\"\n",
    "    It is very important whether its (1,i) or (-1,i) below in l\n",
    "    \"\"\"\n",
    "    l=[(-1,i) for i in indexor] # put -1 in the ith position given be indexor. \n",
    "\n",
    "    for item in l:\n",
    "        ipos = int(item[1]) # ith position\n",
    "        val=item[0]\n",
    "        base[ipos]=val\n",
    "\n",
    "    xyz=base\n",
    "\n",
    "    ineq=bterm+list(xyz) # [b,x,y,z...] want to concat                \n",
    "    return ineq\n",
    "\n",
    "def upper_part(indexor,n,divisor,num_e_in_tree,num_e_notin_tree,gamma0_missing_edges):\n",
    "\n",
    "    #Remember upper part of modulus inequality.\n",
    "\n",
    "    #get b term\n",
    "    T_term=num_e_in_tree*0.5\n",
    "    T_comp_term=num_e_notin_tree*0.5\n",
    "    divisor_comp_sum=sum_comps(divisor,indexor)\n",
    "    totaldeg_divisor_comp_sum=divisor_comp_sum+gamma0_missing_edges#Corrected to total degree\n",
    "\n",
    "    bterm=[-totaldeg_divisor_comp_sum+T_term-T_comp_term] #See phi_tree_inequality_doc\n",
    "\n",
    "    #get x,y,z term\n",
    "    base=np.zeros(n)\n",
    "    l=[(1,i) for i in indexor] # put -1 in the ith position given be indexor.\n",
    "\n",
    "    for item in l:\n",
    "        ipos = int(item[1]) # ith position\n",
    "        val=item[0]\n",
    "        base[ipos]=val\n",
    "\n",
    "    xyz=base\n",
    "\n",
    "    ineq=bterm+list(xyz) # [b,x,y,z...] want to concat\n",
    "\n",
    "    return ineq"
   ]
  },
  {
   "cell_type": "markdown",
   "metadata": {},
   "source": [
    "We now state the information required for upper\\_part and upper\\_part."
   ]
  },
  {
   "cell_type": "markdown",
   "metadata": {},
   "source": [
    "Let $\\Gamma^{'}$ be a induced elementary subgraph of $\\Gamma$, and $\\Gamma_0=T \\in \\mathcal{ST}(\\Gamma)$ (also works for connected spanning subgraphs).\n",
    "\n",
    "The data of phi\\_G is given by the following function phi\\_tree\\_inequalities\\_data stores the cut information for all induced elementary subgraphs. In particular it returns a dictionary of keys of vertices of each induced elementary subgraph of $\\Gamma$, with values being a list of the \n",
    "\n",
    "1) the number of edges in $\\Gamma^{'}$ and $\\Gamma_0$\n",
    "\n",
    "2) the number of edges not in $\\Gamma^{'}$ and $\\Gamma_0$\n",
    "\n",
    "3) the number of edges $\\left|\\operatorname{E}\\left(\\Gamma_0^c\\right) \\cap \\operatorname{E}\\left(\\Gamma^{\\prime}\\right)\\right|$."
   ]
  },
  {
   "cell_type": "code",
   "execution_count": 9,
   "metadata": {
    "tags": [
     "Function"
    ]
   },
   "outputs": [],
   "source": [
    "def phi_tree_inequalities_data(G,T): #Main\n",
    "    \n",
    "    \"\"\"\n",
    "    Objective: Used in tree_poly\n",
    "    Inputs: \n",
    "    G: graph\n",
    "    T:graph of spanning tree (or any spanning connected subgraph)\n",
    "    \n",
    "    Return:dictionary of data used to define the phi-tree inequalties. \n",
    "    Returns phi_G\n",
    "\n",
    "    Dict contains the vertices of the cut : key\n",
    "    List of [e_in_tree ,e_notin_tree]: value\n",
    "    \n",
    "    Where num_e_in_tree = edges of cut the belong to tree\n",
    "         ,num_e_notin_tree= edges of cut that do not belong to tree\n",
    "         \n",
    "    terms=[num_e_in_tree ,num_e_notin_tree,gamma0_missing_edges]\n",
    "\n",
    "    \"\"\"\n",
    "    \n",
    "    #for main\n",
    "\n",
    "    pairs=get_pairs_con_subg(G)\n",
    "\n",
    "    inequ_data=[]\n",
    "    for pair in pairs: \n",
    "        \n",
    "        #As only care about one complete subg, we get the number of missing edges of T and complete_subg.\n",
    "        complete_subg=pair[0]\n",
    "        gamma0_missing_edges=get_gamma0_missing_edges(G,T,complete_subg)\n",
    "        \n",
    "        \n",
    "        #Would like to know the edges that G has in the cut. i.e. cut_edges_G\n",
    "        cut_edges=get_cut_edges(G,pair)\n",
    "\n",
    "        num_e_in_tree ,num_e_notin_tree=edges_cut_inandnotin_tree(cut_edges,T)\n",
    "\n",
    "        terms=[num_e_in_tree ,num_e_notin_tree,gamma0_missing_edges]\n",
    "        \n",
    "#         print(\"pair[0].vertices():\",pair[0].vertices(),\"pair[1].vertices():\",pair[1].vertices())\n",
    "#         print(\"[num_e_in_tree ,num_e_notin_tree]\",terms)\n",
    "\n",
    "\n",
    "        \"Do we need to add the data for both subg in pair?\"\n",
    "\n",
    "        #get vertices of subg in pair and turn to \"v1v2v3\" format.\n",
    "        subg1_l=pair[0].vertices()\n",
    "        subg1 = ''.join(subg1_l)\n",
    "        inequ_data.append((subg1,terms)) #subg1 is the indexor in phi_tree_formatted_hyperplanes\n",
    "\n",
    "#         print(\"(subg1,terms):\",(subg1,terms))\n",
    "#         subg2_l=pair[1].vertices()\n",
    "#         subg2 = ''.join(subg2_l)\n",
    "#         inequ_data.append((subg2,terms))\n",
    "\n",
    "\n",
    "    #Now join to phi-inequal data dict\n",
    "    phi_tree_iequal_dict = {t[0]: t[1] for t in inequ_data}\n",
    "\n",
    "    return phi_tree_iequal_dict"
   ]
  },
  {
   "cell_type": "markdown",
   "metadata": {},
   "source": [
    "We first need to determine the set of all elementary induced subgraphs $(\\Gamma^{'},\\Gamma^{'c})$."
   ]
  },
  {
   "cell_type": "code",
   "execution_count": 10,
   "metadata": {
    "tags": [
     "Function"
    ]
   },
   "outputs": [],
   "source": [
    "def get_pairs_con_subg(G):# for phi_tree_inequalities_data\n",
    "    \n",
    "    \"\"\"\n",
    "    Note: we are not working with multigraphs so connected_subgraph_iterator should give subgraphs with all edges between    \n",
    "    Objective: Used to get cut info and total degree adjustment\n",
    "    Input:\n",
    "    Return: Pairs of complete subgraphs for V and V^{c} such that V scup V^{c}=V(G)\n",
    "    \"\"\"\n",
    "    \n",
    "    vert_G=G.vertices()\n",
    "    edges_G=G.edges()\n",
    "    \n",
    "    #get list of connected subgraphs:\n",
    "    \n",
    "    #Want to get pairs of complete subgraphs for pairs of vertices that is a is disjoint union of all verts\n",
    "    ll=list(G.connected_subgraph_iterator())\n",
    "\n",
    "    # put them into pairs, where vertices are a disjoint union of G.\n",
    "    pairs=[]\n",
    "    for i in ll:\n",
    "        a=i.vertices()\n",
    "        for j in ll:\n",
    "            b=j.vertices()\n",
    "            if sorted(a+b)==vert_G:\n",
    "                #May need to take complete graph here containing a, and for b. \n",
    "                pairs.append((i,j))\n",
    "                \n",
    "#                 \"\"\"\n",
    "#                 We only need one subgraph in the cut, the following step prevents us having both subg in a cut.\n",
    "#                 \"\"\"\n",
    "#                 if (i,j) in pairs:\n",
    "#                     continue\n",
    "#                 if (j,i) in pairs:\n",
    "#                     continue\n",
    "#                 else:\n",
    "#                     pairs.append((i,j))\n",
    "                    \n",
    "#     for i in get_pairs_con_subg(G):\n",
    "#         print(i[0].vertices(),i[1].vertices())\n",
    "    return pairs"
   ]
  },
  {
   "cell_type": "markdown",
   "metadata": {
    "tags": []
   },
   "source": [
    "Let $\\Gamma_0 :=T$. The next functions allow us to determine:\n",
    "\n",
    " the number of edges in a given cut $(\\Gamma^{'},\\Gamma^{'c})$ belonging to the tree and in particular\n",
    "\n",
    "   $$\\frac{\\left|\\operatorname{E}\\left(\\Gamma_0^c\\right) \\backslash (\\operatorname{E}\\left(\\Gamma^{\\prime}\\right) \\cup \\operatorname{E}\\left(\\Gamma^{\\prime c}\\right))\\right|}{2}$$\n",
    "   \n",
    "  the number of edges in a given cut $(\\Gamma^{'},\\Gamma^{'c})$ belonging to $\\Gamma \\setminus \\Gamma_0$ and in particular\n",
    "  \n",
    "  $$\\frac{\\left|\\operatorname{E}\\left(\\Gamma_0\\right) \\backslash\\left(\\operatorname{E}\\left(\\Gamma^{\\prime}\\right) \\cup \\operatorname{E}\\left(\\Gamma^{\\prime c}\\right)\\right)\\right|}{2}.$$\n",
    "\n",
    "\n",
    "  "
   ]
  },
  {
   "cell_type": "code",
   "execution_count": 11,
   "metadata": {
    "tags": [
     "Function"
    ]
   },
   "outputs": [],
   "source": [
    "def get_cut_edges(G,pair): #for phi_tree_inequalities_data\n",
    "    \n",
    "    \"\"\"\n",
    "    Obj:Get list of the edges in a cut for a given pair, \n",
    "    for a pair of connected subgraphs that partitions the vertices of G.\n",
    "    \n",
    "    Return: list of edges in cut for a pair of connected subgraphs that partition the vertices of G \n",
    "    \"\"\"\n",
    "    a_edges=pair[0].edges()\n",
    "    b_edges=pair[1].edges()\n",
    "    total_edges=a_edges+b_edges\n",
    "    \n",
    "    edges_G=G.edges()\n",
    "\n",
    "    #Cut edges.\n",
    "    cut_edges=[ e for e in edges_G if e not in total_edges]\n",
    "    \n",
    "    return cut_edges\n",
    "\n",
    "def edges_cut_inandnotin_tree(cut_edges,tree):#Used in phi_tree_inequalities_data\n",
    "    \n",
    "    \"\"\"\n",
    "    \n",
    "    Obj: Consider cut_edges_G and ask if any of the edges of T are in cut_edges_G\n",
    "\n",
    "    Returns: Number of edges in tree, and not in tree\n",
    "    \"\"\"\n",
    "\n",
    "    tree_edges=tree.edges()\n",
    "\n",
    "    e_in_tree=[edge for edge in cut_edges if edge in tree_edges]\n",
    "    # print(\"edges of cut that belong to tree:\",tree_edges_cut)\n",
    "\n",
    "    e_notin_tree=[edge for edge in cut_edges if edge not in tree_edges]\n",
    "    # print(\"edges of cut that do not belong to tree:\",tree_comp_edges_cut)\n",
    "    \n",
    "    num_e_in_tree ,num_e_notin_tree=len(e_in_tree),len(e_notin_tree)\n",
    "    \n",
    "    return num_e_in_tree ,num_e_notin_tree"
   ]
  },
  {
   "cell_type": "markdown",
   "metadata": {},
   "source": [
    "Finally the last function llows us to calculate the number of edges $\\left|\\operatorname{E}\\left(\\Gamma_0^c\\right) \\cap \\operatorname{E}\\left(\\Gamma^{\\prime}\\right)\\right|$."
   ]
  },
  {
   "cell_type": "code",
   "execution_count": 12,
   "metadata": {
    "tags": [
     "Function"
    ]
   },
   "outputs": [],
   "source": [
    "def get_gamma0_missing_edges(G,T,complete_subg):\n",
    "    \"\"\"\n",
    "    Objective:find adjustment to degree of divisors, a number, to correct to the total degree.\n",
    "    given by the number of edges in complete subgraph which are not in gamm0\n",
    "    Input: gamma0 (the tree), and the complete_subg\n",
    "    Return: number of edges complete_subg has over T (on one side of the  cut).\n",
    "    \n",
    "    \n",
    "    Want |E(gamma0^c) cap E(gamma')| where gamma' is the complete subgraph and gamma0 the connected spanning subg.\n",
    "    \"\"\"\n",
    "    \n",
    "    \n",
    "    gamma0_complement=[e for e in G.edges() if e not in T.edges()]\n",
    "    \n",
    "    gamma0_comp_inter_complete_subg=[e for e in gamma0_complement if e in complete_subg.edges()]\n",
    "    \n",
    "    return len(gamma0_comp_inter_complete_subg)"
   ]
  },
  {
   "cell_type": "markdown",
   "metadata": {
    "jp-MarkdownHeadingCollapsed": true,
    "tags": []
   },
   "source": [
    "## Secondary Functions <a name=\"s12\"></a>"
   ]
  },
  {
   "cell_type": "markdown",
   "metadata": {},
   "source": [
    "As the graph $F$ is known to have $\\sigma_{\\Gamma} \\in \\Sigma_{\\Gamma,T,D_{T}}^{d}$ where the dimension of $P_{ST}^{\\sigma_{\\Gamma}}$ is strictly less than $|V(\\Gamma)|-1$, we therefore use following function, which is analogous to analyse\\_graphname, where we record those cases where $P_{ST}^{\\sigma_{\\Gamma}}$ the dimension is less than $|V(\\Gamma)|-1$, and those that have dimension $|V(\\Gamma)|-1$."
   ]
  },
  {
   "cell_type": "code",
   "execution_count": 13,
   "metadata": {},
   "outputs": [
    {
     "name": "stderr",
     "output_type": "stream",
     "text": [
      "<>:18: DeprecationWarning: invalid escape sequence \\G\n",
      "<>:18: DeprecationWarning: invalid escape sequence \\G\n",
      "<>:18: DeprecationWarning: invalid escape sequence \\G\n",
      "<ipython-input-13-b2e34de1b143>:18: DeprecationWarning: invalid escape sequence \\G\n",
      "  \"\"\"\n"
     ]
    }
   ],
   "source": [
    "def analyse_graphname_FV(size,graphname,G,data,start=0,terminator=False): \n",
    "    \"\"\"\n",
    "    Obj: Create a table of results for the graph F: \n",
    "    As it has fail cases when dim_tree_poly< |V(\\Gamma)|-1\n",
    "\n",
    "    #inputs:    \n",
    "    size: number of vertices of graph minus 1.\n",
    "    graphname:name in folder to load the data\n",
    "    G=Graph([(\"0\",\"1\"),(\"1\",\"2\"),(\"2\",\"0\")], multiedges=True)\n",
    "    #     start: the ith term 1,...,k you want to start the computation from.\n",
    "    #     terminator = is a number 1,...,k, the nth to which we calculate upo to so \n",
    "    not to have to calc all cases (used for examples).\n",
    "    \n",
    "    Returns: a list of dictionaries of the form {\"Dimension of tree-poly\":dim_tree_poly}\n",
    "    where tree-poly is the region P_{ST}^{\\sigma_{\\Gamma}} for each stability codnition\n",
    "    and dim_tree_poly is its dimension.\n",
    "\n",
    "    \"\"\"\n",
    "    dic_l=[]\n",
    "    top_dim=[] # record those with top dim poly\n",
    "    degen=[] #record wsc with degen poly.\n",
    "    \n",
    "    for term,wsc in enumerate(data):\n",
    "        \n",
    "        #Use start to skip to the case you want to study.\n",
    "        if term<start-1:\n",
    "            continue\n",
    "        print(\"Start=\",start,\"----\",term,\"----terminator:\",terminator)\n",
    "        \n",
    "        #for Tree_poly\n",
    "        assignments=wsc[2] #[(Graph on 3 vertices, [0, 0, 0]),(Graph on 3 vertices, [0, 0, 0]),(Graph on 3 vertices, [0, 0, 0])]\n",
    "        tree_poly=get_intersection_tree_poly(G,assignments)\n",
    "        dim_tree_poly=dim(tree_poly)\n",
    "        \n",
    "        print(\"dim_tree_poly:\",dim_tree_poly)\n",
    "        dic={\"Dimension of tree-poly\":dim_tree_poly}\n",
    "        dic_l.append(dic)\n",
    "        \n",
    "        if dim_tree_poly==size:\n",
    "            top_dim.append(wsc)\n",
    "        else:\n",
    "            print(f\"{term}: WSC not phi: \\n\",wsc)\n",
    "            degen.append(wsc)\n",
    "            \n",
    "    #Store those wsc that fail and those that are top dim poly.\n",
    "    wsc_ex=data[0] #example wsc to get assignment to get trees in order.\n",
    "    ass_ex=wsc_ex[2] # [(T,ass),...]\n",
    "    ordering_trees=[pair[0] for pair in ass_ex]\n",
    "    \n",
    "    #We store the data\n",
    "    pickle_subset_true(graphname,top_dim)\n",
    "    store_data_top_dim(G,top_dim,ordering_trees,graphname)\n",
    "    pickle_subset_false(graphname,degen)\n",
    "    store_data_degen(G,degen,ordering_trees,graphname)\n",
    "    \n",
    "    return dic_l"
   ]
  },
  {
   "cell_type": "markdown",
   "metadata": {},
   "source": [
    "The following function returns a summary the results of analyse\\_graphname and analyse\\_graphname_FV."
   ]
  },
  {
   "cell_type": "code",
   "execution_count": 14,
   "metadata": {},
   "outputs": [],
   "source": [
    "def analyse_table(dic_l):\n",
    "    \n",
    "    \"\"\"\n",
    "    Objective: Give a summary of results\n",
    "    Input: list of dic={\"Dimension of tree-poly\":dim(tree_poly) }  \n",
    "    Return:Summary text of results\n",
    "    \"\"\"\n",
    "    \n",
    "    num_wsc=[]#number of wsc\n",
    "    dim_value_counts=[]\n",
    "\n",
    "    for dic in dic_l:\n",
    "    \n",
    "        num_wsc.append(dic[\"Dimension of tree-poly\"])\n",
    "        dim_value_counts.append(dic[\"Dimension of tree-poly\"])\n",
    "\n",
    "    dim_value_counts_dict=dict(Counter(dim_value_counts)) # dictionary of number of terms of a given dim    \n",
    "    print(textwrap.dedent(f'''\\\n",
    "        Total number of stability conditions {len(num_wsc)}\n",
    "        Number of polytopes of a given (dimension:number of at dim): {dim_value_counts_dict}\n",
    "    '''))\n",
    "    return "
   ]
  },
  {
   "cell_type": "markdown",
   "metadata": {
    "jp-MarkdownHeadingCollapsed": true,
    "tags": [],
    "toc-hr-collapsed": true
   },
   "source": [
    "## Loading and Storing data <a name=\"s13\"></a>"
   ]
  },
  {
   "cell_type": "markdown",
   "metadata": {},
   "source": [
    "The following functions load the pkl file stored in \"examples/{graphname}/{graphname}.pkl\" depending on the graphname choosen."
   ]
  },
  {
   "cell_type": "code",
   "execution_count": 15,
   "metadata": {},
   "outputs": [],
   "source": [
    "def unpickle(graphname):\n",
    "    # Unpickle the list\n",
    "    filename=f\"examples/{graphname}/{graphname}.pkl\"\n",
    "    with open(filename, 'rb') as f:\n",
    "        unpickled_list = pickle.load(f)\n",
    "    return unpickled_list"
   ]
  },
  {
   "cell_type": "markdown",
   "metadata": {},
   "source": [
    "The following function stores the dictionry output of analyse\\_graphname. Which states how many stability conditions are of which dimension."
   ]
  },
  {
   "cell_type": "code",
   "execution_count": 16,
   "metadata": {},
   "outputs": [],
   "source": [
    "def pickle_dic_l(graphname,dic_l):\n",
    "    # Pickle the list\n",
    "    filename=f\"examples/{graphname}/phi_analysis/dic_l.pkl\"\n",
    "    with open(filename, 'wb') as f:\n",
    "        pickle.dump(dic_l, f)\n",
    "    return"
   ]
  },
  {
   "cell_type": "markdown",
   "metadata": {},
   "source": [
    "In the case of the graph $F$ the following functions store the pkl files of the output of the function analyse\\_graphname\\_FV. The first stores those with polytope which has dimension $|V(\\Gamma) |-1$ the second those which do not."
   ]
  },
  {
   "cell_type": "code",
   "execution_count": 17,
   "metadata": {},
   "outputs": [],
   "source": [
    "def pickle_subset_true(graphname,l):\n",
    "    # Pickle the list\n",
    "    filename=f\"{graphname}_top_dim.pkl\"\n",
    "    with open(filename, 'wb') as f:\n",
    "        pickle.dump(l, f)\n",
    "    f.close()  # Close the file after writing\n",
    "\n",
    "    return\n",
    "\n",
    "def pickle_subset_false(graphname,l):\n",
    "    # Pickle the list\n",
    "    filename=f\"{graphname}_degen.pkl\"\n",
    "    with open(filename, 'wb') as f:\n",
    "        pickle.dump(l, f)\n",
    "    f.close()  # Close the file after writing\n",
    "\n",
    "    return"
   ]
  },
  {
   "cell_type": "markdown",
   "metadata": {},
   "source": [
    "The following functions save a text description of the output of analyse\\_graphname. In particular a description of each stability condition of either those with a polytope which has dimension $|V(\\Gamma) |-1, or those that do not."
   ]
  },
  {
   "cell_type": "code",
   "execution_count": 18,
   "metadata": {},
   "outputs": [],
   "source": [
    "#Storing files \n",
    "def output_to_file(G,total_data,ordering_trees):#in text files\n",
    "    \"\"\"\n",
    "    Objective: GEt text file descibing stability conditions\n",
    "    Input: total_data is a set of stability conditions.\n",
    "    ordering_trees is a list of spanning trees described by edges.\n",
    "    Returns: text file\n",
    "    \n",
    "    Return to text file:\n",
    "    - add list of subgraphs under trees.\n",
    "    - record list of cycles for subg, after lbm. \n",
    "    \"\"\"\n",
    "\n",
    "    print(f\"Information: Here are all stability conditions for the graph G\")\n",
    "    print(f\"Graph: {G.edges()} \\n\")\n",
    "    \n",
    "    print(f\"There are {len(total_data)} stability conditions for G. \\n\")\n",
    "    \n",
    "    print(f\"The spanning trees of G are ordered as follows:\")\n",
    "    for index,tree in enumerate(ordering_trees):\n",
    "        print(f\"Tree {index+1}: {tree.edges()}\" )\n",
    "        \n",
    "    print(f\"\\n The spanning subgraphs of G of the for T cup e are ordered as follows:\")\n",
    "    \n",
    "    \"\"\"\n",
    "    Fix order of subg printed:\n",
    "    \n",
    "    Here get_subgraphs_gm1_Edgesmissing does not reflect the ordering of subg in subg_cycle_l=tup[3]\n",
    "    subgraphs= get_subgraphs_gm1_Edgesmissing(G) #Get #\\tilde{G} the subgraphs Tcup e.-D\n",
    "\n",
    "    #Assuming subg_cycle_l for each element of total_data is ordered the same subg.\n",
    "    \"\"\"\n",
    "\n",
    "    tup_example=total_data[0]\n",
    "    subg_cycle_l=tup_example[3]\n",
    "    subg_ll=[pair[0] for pair in subg_cycle_l]\n",
    "\n",
    "    for index,subg in enumerate(subg_ll):\n",
    "        print(f\"Subgraph {index+1}: {subg.edges()}\" )\n",
    "    \n",
    "\n",
    "    print(\"\\n We will now list all stabilty conditions. The data will be presented in three lines:\")\n",
    "    print(\"   1. The assignment datum on trees the order of which will be given by the Tree order,\")\n",
    "    print(\"   2. The union of sets of the form assignment datum of T + the set of break divisors for T, \" )          \n",
    "    print(\"   3. The cycle used with th subgraph to obtain the assignments on trees (ordered by subgraphs above).\\n\")\n",
    "\n",
    "    for tup in total_data:\n",
    "        \n",
    "        print(tup[0]) #assignment datum\n",
    "        \n",
    "        #Put sigma to list format\n",
    "        print(tup[1].tolist()) #lbm\n",
    "        \n",
    "        subg_cycle_l=tup[3]\n",
    "        l_cycles=[(x[1],x[2].edges()) for x in subg_cycle_l] #records cycle and tree for sub.\n",
    "        print(l_cycles)\n",
    "        \n",
    "        print(\"\\n\")\n",
    "    \n",
    "    return"
   ]
  },
  {
   "cell_type": "code",
   "execution_count": 19,
   "metadata": {},
   "outputs": [],
   "source": [
    "def store_data_top_dim(G,total_data,ordering_trees,graphname=\"test\"):\n",
    "    name=f\"{graphname}_top_dim.txt\"\n",
    "    print(name)\n",
    "    with open(name, \"w\") as f:\n",
    "        sys.stdout = f\n",
    "#         print(\"before output\")\n",
    "        output_to_file(G,total_data,ordering_trees)\n",
    "#         print(\"after output\")\n",
    "        \n",
    "        sys.stdout = sys.__stdout__\n",
    "#         print(\"here closes??\")\n",
    "    f.close()  # Close the file after writing\n",
    "#     print(\"does it close????\")\n",
    "    return\n",
    "\n",
    "def store_data_degen(G,total_data,ordering_trees,graphname=\"test\"):\n",
    "    name=f\"{graphname}_degen.txt\"\n",
    "    print(name)\n",
    "    with open(name, \"w\") as f:\n",
    "        sys.stdout = f\n",
    "\n",
    "        output_to_file(G,total_data,ordering_trees)\n",
    "\n",
    "        sys.stdout = sys.__stdout__\n",
    "    f.close()  # Close the file after writing\n",
    "\n",
    "    return"
   ]
  },
  {
   "cell_type": "markdown",
   "metadata": {
    "tags": []
   },
   "source": [
    "# Example <a name=\"s3\"></a>"
   ]
  },
  {
   "cell_type": "markdown",
   "metadata": {},
   "source": [
    "To help us understand the above functions let us fix $\\Gamma$ to be the $3$-necklace graph."
   ]
  },
  {
   "cell_type": "code",
   "execution_count": 20,
   "metadata": {},
   "outputs": [],
   "source": [
    "# graphname=\"G3\"\n",
    "G=Graph([(\"0\",\"1\"),(\"1\",\"2\"),(\"2\",\"0\")], multiedges=True)\n",
    "spanning_trees=[tree for tree in G.spanning_trees()]\n",
    "T=spanning_trees[0]\n",
    "# plot(G, figsize=3)"
   ]
  },
  {
   "cell_type": "markdown",
   "metadata": {},
   "source": [
    "We see we can obtain all pair of elementary induced graphs"
   ]
  },
  {
   "cell_type": "code",
   "execution_count": 21,
   "metadata": {},
   "outputs": [
    {
     "data": {
      "text/plain": [
       "[(Subgraph of (): Multi-graph on 1 vertex,\n",
       "  Subgraph of (): Multi-graph on 2 vertices),\n",
       " (Subgraph of (): Multi-graph on 2 vertices,\n",
       "  Subgraph of (): Multi-graph on 1 vertex),\n",
       " (Subgraph of (): Multi-graph on 2 vertices,\n",
       "  Subgraph of (): Multi-graph on 1 vertex),\n",
       " (Subgraph of (): Multi-graph on 1 vertex,\n",
       "  Subgraph of (): Multi-graph on 2 vertices),\n",
       " (Subgraph of (): Multi-graph on 2 vertices,\n",
       "  Subgraph of (): Multi-graph on 1 vertex),\n",
       " (Subgraph of (): Multi-graph on 1 vertex,\n",
       "  Subgraph of (): Multi-graph on 2 vertices)]"
      ]
     },
     "execution_count": 21,
     "metadata": {},
     "output_type": "execute_result"
    }
   ],
   "source": [
    "get_pairs_con_subg(G)"
   ]
  },
  {
   "cell_type": "markdown",
   "metadata": {},
   "source": [
    "For both unique stability conditions for the $3$-necklace graph we see that $P_{ST}^{\\sigma_{\\Gamma}}$ has dimension $2$."
   ]
  },
  {
   "cell_type": "code",
   "execution_count": 22,
   "metadata": {
    "tags": []
   },
   "outputs": [
    {
     "name": "stdout",
     "output_type": "stream",
     "text": [
      "2\n"
     ]
    }
   ],
   "source": [
    "#Trivial I3 example\n",
    "assignments=[(spanning_trees[0],[0,0,0]),(spanning_trees[1],[0,0,0]),(spanning_trees[2],[0,0,0])]\n",
    "inter_triv=get_intersection_tree_poly(G,assignments)\n",
    "print(dim(inter_triv))"
   ]
  },
  {
   "cell_type": "code",
   "execution_count": 23,
   "metadata": {
    "tags": []
   },
   "outputs": [
    {
     "name": "stdout",
     "output_type": "stream",
     "text": [
      "2\n"
     ]
    }
   ],
   "source": [
    "#Non-trivial I3 example\n",
    "assignments=[(spanning_trees[0],[0,0,0]),(spanning_trees[1],[0,1,-1]),(spanning_trees[2],[1,0,-1])]\n",
    "inter_nontriv=get_intersection_tree_poly(G,assignments)\n",
    "print(dim(inter_nontriv))"
   ]
  },
  {
   "cell_type": "markdown",
   "metadata": {
    "jp-MarkdownHeadingCollapsed": true,
    "tags": [],
    "toc-hr-collapsed": true
   },
   "source": [
    "# Cases <a name=\"s2\"></a>"
   ]
  },
  {
   "cell_type": "markdown",
   "metadata": {},
   "source": [
    "We now determine for the graphs of Section $1.3$ of the thesis whether each graph $\\Gamma$, the convex region $P_{ST}^{\\sigma_{\\Gamma}}$ is empty or not for all $\\sigma_{\\Gamma} \\in \\Sigma_{\\Gamma,T,D_{T}}^{d}$ (obtained via 4\\_assignments.ipynb and 5_assignments\\_11k3graphs.ipynb),"
   ]
  },
  {
   "cell_type": "markdown",
   "metadata": {
    "jp-MarkdownHeadingCollapsed": true,
    "tags": [],
    "toc-hr-collapsed": true
   },
   "source": [
    "## $n$-necklace graphs $n \\le 5$ <a name=\"s21\"></a>"
   ]
  },
  {
   "cell_type": "markdown",
   "metadata": {},
   "source": [
    "Even though we know by Section $3.1$ that for every genus $1$ graph, every stability conditions is given by a numerical polatisation, we check the first few cases to ensure the methods are correct."
   ]
  },
  {
   "cell_type": "markdown",
   "metadata": {
    "jp-MarkdownHeadingCollapsed": true,
    "tags": []
   },
   "source": [
    "### $3$-necklace"
   ]
  },
  {
   "cell_type": "code",
   "execution_count": null,
   "metadata": {},
   "outputs": [],
   "source": [
    "%%time\n",
    "graphname=\"G3\"\n",
    "G=Graph([(\"0\",\"1\"),(\"1\",\"2\"),(\"2\",\"0\")], multiedges=True)\n",
    "\n",
    "data=unpickle(graphname) #Size=2\n",
    "\n",
    "dic_l=analyse_graphname(G,data)\n",
    "\n",
    "#Store list of dictionaries\n",
    "# pickle_dic_l(graphname,dic_l)"
   ]
  },
  {
   "cell_type": "code",
   "execution_count": null,
   "metadata": {},
   "outputs": [],
   "source": [
    "analyse_table(dic_l)"
   ]
  },
  {
   "cell_type": "markdown",
   "metadata": {
    "jp-MarkdownHeadingCollapsed": true,
    "tags": []
   },
   "source": [
    "### $4$-necklace"
   ]
  },
  {
   "cell_type": "code",
   "execution_count": null,
   "metadata": {},
   "outputs": [],
   "source": [
    "%%time\n",
    "graphname=\"G4\"\n",
    "G=Graph([(\"0\",\"1\"),(\"1\",\"2\"),(\"2\",\"3\"),(\"3\",\"0\")], multiedges=True)\n",
    "\n",
    "data=unpickle(graphname) #Size=6\n",
    "\n",
    "dic_l=analyse_graphname(G,data)\n",
    "\n",
    "#Store list of dictionaries\n",
    "# pickle_dic_l(graphname,dic_l)"
   ]
  },
  {
   "cell_type": "code",
   "execution_count": null,
   "metadata": {},
   "outputs": [],
   "source": [
    "analyse_table(dic_l)"
   ]
  },
  {
   "cell_type": "markdown",
   "metadata": {
    "jp-MarkdownHeadingCollapsed": true,
    "tags": []
   },
   "source": [
    "### $5$-necklace"
   ]
  },
  {
   "cell_type": "code",
   "execution_count": null,
   "metadata": {
    "tags": []
   },
   "outputs": [],
   "source": [
    "%%time\n",
    "graphname=\"G5\"\n",
    "G=Graph([(\"0\",\"1\"),(\"1\",\"2\"),(\"2\",\"3\"),(\"3\",\"4\"),(\"4\",\"0\")], multiedges=True)\n",
    "\n",
    "data=unpickle(graphname) #Size=24\n",
    "\n",
    "dic_l=analyse_graphname(G,data)\n",
    "\n",
    "#Store list of dictionaries\n",
    "# pickle_dic_l(graphname,dic_l)"
   ]
  },
  {
   "cell_type": "code",
   "execution_count": null,
   "metadata": {},
   "outputs": [],
   "source": [
    "analyse_table(dic_l)"
   ]
  },
  {
   "cell_type": "markdown",
   "metadata": {
    "jp-MarkdownHeadingCollapsed": true,
    "tags": [],
    "toc-hr-collapsed": true
   },
   "source": [
    "## $\\Gamma:=\\Gamma_{1 1 k_3}$ for $2 \\le k_3 \\le 6$  <a name=\"s22\"></a>"
   ]
  },
  {
   "cell_type": "markdown",
   "metadata": {},
   "source": [
    "We now consider the dimension of $P_{ST}^{\\sigma_{\\Gamma}}$ for $ \\sigma_{\\Gamma} \\in \\Sigma_{\\Gamma,T,D_{T}}^{d}$ for graphs  \n",
    "$\\Gamma:=\\Gamma_{k_1 k_2 k_3}$ with $(k_1,k_2,k_3)=\\{(1,1,2),(1,1,3),(1,1,4),(1,1,5),(1,1,6)\\}$. "
   ]
  },
  {
   "cell_type": "markdown",
   "metadata": {
    "jp-MarkdownHeadingCollapsed": true,
    "tags": []
   },
   "source": [
    "### $(k_1,k_2,k_3)=(1,1,2)$"
   ]
  },
  {
   "cell_type": "code",
   "execution_count": 24,
   "metadata": {},
   "outputs": [
    {
     "name": "stdout",
     "output_type": "stream",
     "text": [
      "Start= 0 ---- 0 ----terminator: False\n",
      "Start= 0 ---- 1 ----terminator: False\n",
      "CPU times: user 31 ms, sys: 328 ms, total: 359 ms\n",
      "Wall time: 26.4 s\n"
     ]
    }
   ],
   "source": [
    "%%time\n",
    "graphname=\"G3M1\" \n",
    "G=Graph([(\"0\",\"1\",\"e11\"),(\"1\",\"2\",\"e2\"),(\"2\",\"0\",\"e3\"),(\"0\",\"1\",\"e12\")], multiedges=True)\n",
    "\n",
    "data=unpickle(graphname) #Size=2\n",
    "\n",
    "dic_l=analyse_graphname(G,data)\n",
    "\n",
    "#Store list of dictionaries\n",
    "# pickle_dic_l(graphname,dic_l)"
   ]
  },
  {
   "cell_type": "code",
   "execution_count": 25,
   "metadata": {},
   "outputs": [
    {
     "name": "stdout",
     "output_type": "stream",
     "text": [
      "Total number of stability conditions 2\n",
      "Number of polytopes of a given (dimension:number of at dim): {2: 2}\n",
      "\n"
     ]
    }
   ],
   "source": [
    "analyse_table(dic_l)"
   ]
  },
  {
   "cell_type": "markdown",
   "metadata": {
    "jp-MarkdownHeadingCollapsed": true,
    "tags": []
   },
   "source": [
    "### $(k_1,k_2,k_3)=(1,1,3)$"
   ]
  },
  {
   "cell_type": "code",
   "execution_count": null,
   "metadata": {},
   "outputs": [],
   "source": [
    "%%time\n",
    "graphname=\"G4M1\" \n",
    "G=Graph([(\"0\",\"1\",\"e11\"),(\"1\",\"2\",\"e2\"),(\"2\",\"3\",\"e3\"),(\"3\",\"0\",\"e4\"),(\"0\",\"1\",\"e12\")], multiedges=True)\n",
    "\n",
    "data=unpickle(graphname) #Size=6\n",
    "\n",
    "dic_l=analyse_graphname(G,data)\n",
    "\n",
    "#Store list of dictionaries\n",
    "# pickle_dic_l(graphname,dic_l)"
   ]
  },
  {
   "cell_type": "code",
   "execution_count": null,
   "metadata": {},
   "outputs": [],
   "source": [
    "analyse_table(dic_l)"
   ]
  },
  {
   "cell_type": "markdown",
   "metadata": {
    "jp-MarkdownHeadingCollapsed": true,
    "tags": []
   },
   "source": [
    "### $(k_1,k_2,k_3)=(1,1,4)$"
   ]
  },
  {
   "cell_type": "code",
   "execution_count": null,
   "metadata": {
    "tags": []
   },
   "outputs": [],
   "source": [
    "%%time\n",
    "graphname=\"G5M1\" \n",
    "G=Graph([(\"0\",\"1\",\"e11\"),(\"1\",\"2\",\"e2\"),(\"2\",\"3\",\"e3\"),(\"3\",\"4\",\"e4\"),(\"4\",\"0\",\"e5\"),(\"0\",\"1\",\"e12\")], multiedges=True)\n",
    "\n",
    "data=unpickle(graphname) #Size=24\n",
    "\n",
    "dic_l=analyse_graphname(G,data)\n",
    "\n",
    "#Store list of dictionaries\n",
    "# pickle_dic_l(graphname,dic_l)"
   ]
  },
  {
   "cell_type": "code",
   "execution_count": null,
   "metadata": {},
   "outputs": [],
   "source": [
    "analyse_table(dic_l)"
   ]
  },
  {
   "cell_type": "markdown",
   "metadata": {
    "jp-MarkdownHeadingCollapsed": true,
    "tags": []
   },
   "source": [
    "### $(k_1,k_2,k_3)=(1,1,5)$"
   ]
  },
  {
   "cell_type": "code",
   "execution_count": null,
   "metadata": {
    "tags": []
   },
   "outputs": [],
   "source": [
    "%%time\n",
    "graphname=\"G6M1\" \n",
    "G=Graph([(\"0\",\"1\",\"e11\"),(\"1\",\"2\",\"e2\"),(\"2\",\"3\",\"e3\"),(\"3\",\"4\",\"e4\"),(\"4\",\"5\",\"e5\"),(\"5\",\"0\",\"e6\"),(\"0\",\"1\",\"e12\")], multiedges=True)\n",
    "\n",
    "data=unpickle(graphname) #Size=120\n",
    "\n",
    "dic_l=analyse_graphname(G,data)\n",
    "\n",
    "#Store list of dictionaries\n",
    "# pickle_dic_l(graphname,dic_l)"
   ]
  },
  {
   "cell_type": "code",
   "execution_count": null,
   "metadata": {},
   "outputs": [],
   "source": [
    "analyse_table(dic_l)"
   ]
  },
  {
   "cell_type": "markdown",
   "metadata": {
    "jp-MarkdownHeadingCollapsed": true,
    "tags": []
   },
   "source": [
    "### $(k_1,k_2,k_3)=(1,1,6)$"
   ]
  },
  {
   "cell_type": "code",
   "execution_count": 26,
   "metadata": {
    "tags": []
   },
   "outputs": [
    {
     "name": "stdout",
     "output_type": "stream",
     "text": [
      "Start= 0 ---- 0 ----terminator: False\n",
      "Start= 0 ---- 1 ----terminator: False\n",
      "Start= 0 ---- 2 ----terminator: False\n",
      "Start= 0 ---- 3 ----terminator: False\n",
      "Start= 0 ---- 4 ----terminator: False\n",
      "Start= 0 ---- 5 ----terminator: False\n",
      "Start= 0 ---- 6 ----terminator: False\n",
      "Start= 0 ---- 7 ----terminator: False\n",
      "Start= 0 ---- 8 ----terminator: False\n",
      "Start= 0 ---- 9 ----terminator: False\n",
      "Start= 0 ---- 10 ----terminator: False\n",
      "Start= 0 ---- 11 ----terminator: False\n",
      "Start= 0 ---- 12 ----terminator: False\n",
      "Start= 0 ---- 13 ----terminator: False\n",
      "Start= 0 ---- 14 ----terminator: False\n",
      "Start= 0 ---- 15 ----terminator: False\n",
      "Start= 0 ---- 16 ----terminator: False\n",
      "Start= 0 ---- 17 ----terminator: False\n",
      "Start= 0 ---- 18 ----terminator: False\n",
      "Start= 0 ---- 19 ----terminator: False\n",
      "Start= 0 ---- 20 ----terminator: False\n",
      "Start= 0 ---- 21 ----terminator: False\n",
      "Start= 0 ---- 22 ----terminator: False\n",
      "Start= 0 ---- 23 ----terminator: False\n",
      "Start= 0 ---- 24 ----terminator: False\n",
      "Start= 0 ---- 25 ----terminator: False\n",
      "Start= 0 ---- 26 ----terminator: False\n",
      "Start= 0 ---- 27 ----terminator: False\n",
      "Start= 0 ---- 28 ----terminator: False\n",
      "Start= 0 ---- 29 ----terminator: False\n",
      "Start= 0 ---- 30 ----terminator: False\n",
      "Start= 0 ---- 31 ----terminator: False\n",
      "Start= 0 ---- 32 ----terminator: False\n",
      "Start= 0 ---- 33 ----terminator: False\n",
      "Start= 0 ---- 34 ----terminator: False\n",
      "Start= 0 ---- 35 ----terminator: False\n",
      "Start= 0 ---- 36 ----terminator: False\n",
      "Start= 0 ---- 37 ----terminator: False\n",
      "Start= 0 ---- 38 ----terminator: False\n",
      "Start= 0 ---- 39 ----terminator: False\n",
      "Start= 0 ---- 40 ----terminator: False\n",
      "Start= 0 ---- 41 ----terminator: False\n",
      "Start= 0 ---- 42 ----terminator: False\n",
      "Start= 0 ---- 43 ----terminator: False\n",
      "Start= 0 ---- 44 ----terminator: False\n",
      "Start= 0 ---- 45 ----terminator: False\n",
      "Start= 0 ---- 46 ----terminator: False\n",
      "Start= 0 ---- 47 ----terminator: False\n",
      "Start= 0 ---- 48 ----terminator: False\n",
      "Start= 0 ---- 49 ----terminator: False\n",
      "Start= 0 ---- 50 ----terminator: False\n",
      "Start= 0 ---- 51 ----terminator: False\n",
      "Start= 0 ---- 52 ----terminator: False\n",
      "Start= 0 ---- 53 ----terminator: False\n",
      "Start= 0 ---- 54 ----terminator: False\n",
      "Start= 0 ---- 55 ----terminator: False\n",
      "Start= 0 ---- 56 ----terminator: False\n",
      "Start= 0 ---- 57 ----terminator: False\n",
      "Start= 0 ---- 58 ----terminator: False\n",
      "Start= 0 ---- 59 ----terminator: False\n",
      "Start= 0 ---- 60 ----terminator: False\n",
      "Start= 0 ---- 61 ----terminator: False\n",
      "Start= 0 ---- 62 ----terminator: False\n",
      "Start= 0 ---- 63 ----terminator: False\n",
      "Start= 0 ---- 64 ----terminator: False\n",
      "Start= 0 ---- 65 ----terminator: False\n",
      "Start= 0 ---- 66 ----terminator: False\n",
      "Start= 0 ---- 67 ----terminator: False\n",
      "Start= 0 ---- 68 ----terminator: False\n",
      "Start= 0 ---- 69 ----terminator: False\n",
      "Start= 0 ---- 70 ----terminator: False\n",
      "Start= 0 ---- 71 ----terminator: False\n",
      "Start= 0 ---- 72 ----terminator: False\n",
      "Start= 0 ---- 73 ----terminator: False\n",
      "Start= 0 ---- 74 ----terminator: False\n",
      "Start= 0 ---- 75 ----terminator: False\n",
      "Start= 0 ---- 76 ----terminator: False\n",
      "Start= 0 ---- 77 ----terminator: False\n",
      "Start= 0 ---- 78 ----terminator: False\n",
      "Start= 0 ---- 79 ----terminator: False\n",
      "Start= 0 ---- 80 ----terminator: False\n",
      "Start= 0 ---- 81 ----terminator: False\n",
      "Start= 0 ---- 82 ----terminator: False\n",
      "Start= 0 ---- 83 ----terminator: False\n",
      "Start= 0 ---- 84 ----terminator: False\n",
      "Start= 0 ---- 85 ----terminator: False\n",
      "Start= 0 ---- 86 ----terminator: False\n",
      "Start= 0 ---- 87 ----terminator: False\n",
      "Start= 0 ---- 88 ----terminator: False\n",
      "Start= 0 ---- 89 ----terminator: False\n",
      "Start= 0 ---- 90 ----terminator: False\n",
      "Start= 0 ---- 91 ----terminator: False\n",
      "Start= 0 ---- 92 ----terminator: False\n",
      "Start= 0 ---- 93 ----terminator: False\n",
      "Start= 0 ---- 94 ----terminator: False\n",
      "Start= 0 ---- 95 ----terminator: False\n",
      "Start= 0 ---- 96 ----terminator: False\n",
      "Start= 0 ---- 97 ----terminator: False\n",
      "Start= 0 ---- 98 ----terminator: False\n",
      "Start= 0 ---- 99 ----terminator: False\n",
      "Start= 0 ---- 100 ----terminator: False\n",
      "Start= 0 ---- 101 ----terminator: False\n",
      "Start= 0 ---- 102 ----terminator: False\n",
      "Start= 0 ---- 103 ----terminator: False\n",
      "Start= 0 ---- 104 ----terminator: False\n",
      "Start= 0 ---- 105 ----terminator: False\n",
      "Start= 0 ---- 106 ----terminator: False\n",
      "Start= 0 ---- 107 ----terminator: False\n",
      "Start= 0 ---- 108 ----terminator: False\n",
      "Start= 0 ---- 109 ----terminator: False\n",
      "Start= 0 ---- 110 ----terminator: False\n",
      "Start= 0 ---- 111 ----terminator: False\n",
      "Start= 0 ---- 112 ----terminator: False\n",
      "Start= 0 ---- 113 ----terminator: False\n",
      "Start= 0 ---- 114 ----terminator: False\n",
      "Start= 0 ---- 115 ----terminator: False\n",
      "Start= 0 ---- 116 ----terminator: False\n",
      "Start= 0 ---- 117 ----terminator: False\n",
      "Start= 0 ---- 118 ----terminator: False\n",
      "Start= 0 ---- 119 ----terminator: False\n",
      "Start= 0 ---- 120 ----terminator: False\n",
      "Start= 0 ---- 121 ----terminator: False\n",
      "Start= 0 ---- 122 ----terminator: False\n",
      "Start= 0 ---- 123 ----terminator: False\n",
      "Start= 0 ---- 124 ----terminator: False\n",
      "Start= 0 ---- 125 ----terminator: False\n",
      "Start= 0 ---- 126 ----terminator: False\n",
      "Start= 0 ---- 127 ----terminator: False\n",
      "Start= 0 ---- 128 ----terminator: False\n",
      "Start= 0 ---- 129 ----terminator: False\n",
      "Start= 0 ---- 130 ----terminator: False\n",
      "Start= 0 ---- 131 ----terminator: False\n",
      "Start= 0 ---- 132 ----terminator: False\n",
      "Start= 0 ---- 133 ----terminator: False\n",
      "Start= 0 ---- 134 ----terminator: False\n",
      "Start= 0 ---- 135 ----terminator: False\n",
      "Start= 0 ---- 136 ----terminator: False\n",
      "Start= 0 ---- 137 ----terminator: False\n",
      "Start= 0 ---- 138 ----terminator: False\n",
      "Start= 0 ---- 139 ----terminator: False\n",
      "Start= 0 ---- 140 ----terminator: False\n",
      "Start= 0 ---- 141 ----terminator: False\n",
      "Start= 0 ---- 142 ----terminator: False\n",
      "Start= 0 ---- 143 ----terminator: False\n",
      "Start= 0 ---- 144 ----terminator: False\n",
      "Start= 0 ---- 145 ----terminator: False\n",
      "Start= 0 ---- 146 ----terminator: False\n",
      "Start= 0 ---- 147 ----terminator: False\n",
      "Start= 0 ---- 148 ----terminator: False\n",
      "Start= 0 ---- 149 ----terminator: False\n",
      "Start= 0 ---- 150 ----terminator: False\n",
      "Start= 0 ---- 151 ----terminator: False\n",
      "Start= 0 ---- 152 ----terminator: False\n",
      "Start= 0 ---- 153 ----terminator: False\n",
      "Start= 0 ---- 154 ----terminator: False\n",
      "Start= 0 ---- 155 ----terminator: False\n",
      "Start= 0 ---- 156 ----terminator: False\n",
      "Start= 0 ---- 157 ----terminator: False\n",
      "Start= 0 ---- 158 ----terminator: False\n",
      "Start= 0 ---- 159 ----terminator: False\n",
      "Start= 0 ---- 160 ----terminator: False\n",
      "Start= 0 ---- 161 ----terminator: False\n",
      "Start= 0 ---- 162 ----terminator: False\n",
      "Start= 0 ---- 163 ----terminator: False\n",
      "Start= 0 ---- 164 ----terminator: False\n",
      "Start= 0 ---- 165 ----terminator: False\n",
      "Start= 0 ---- 166 ----terminator: False\n",
      "Start= 0 ---- 167 ----terminator: False\n",
      "Start= 0 ---- 168 ----terminator: False\n",
      "Start= 0 ---- 169 ----terminator: False\n",
      "Start= 0 ---- 170 ----terminator: False\n",
      "Start= 0 ---- 171 ----terminator: False\n",
      "Start= 0 ---- 172 ----terminator: False\n",
      "Start= 0 ---- 173 ----terminator: False\n",
      "Start= 0 ---- 174 ----terminator: False\n",
      "Start= 0 ---- 175 ----terminator: False\n",
      "Start= 0 ---- 176 ----terminator: False\n",
      "Start= 0 ---- 177 ----terminator: False\n",
      "Start= 0 ---- 178 ----terminator: False\n",
      "Start= 0 ---- 179 ----terminator: False\n",
      "Start= 0 ---- 180 ----terminator: False\n",
      "Start= 0 ---- 181 ----terminator: False\n",
      "Start= 0 ---- 182 ----terminator: False\n",
      "Start= 0 ---- 183 ----terminator: False\n",
      "Start= 0 ---- 184 ----terminator: False\n",
      "Start= 0 ---- 185 ----terminator: False\n",
      "Start= 0 ---- 186 ----terminator: False\n",
      "Start= 0 ---- 187 ----terminator: False\n",
      "Start= 0 ---- 188 ----terminator: False\n",
      "Start= 0 ---- 189 ----terminator: False\n",
      "Start= 0 ---- 190 ----terminator: False\n",
      "Start= 0 ---- 191 ----terminator: False\n",
      "Start= 0 ---- 192 ----terminator: False\n",
      "Start= 0 ---- 193 ----terminator: False\n",
      "Start= 0 ---- 194 ----terminator: False\n",
      "Start= 0 ---- 195 ----terminator: False\n",
      "Start= 0 ---- 196 ----terminator: False\n",
      "Start= 0 ---- 197 ----terminator: False\n",
      "Start= 0 ---- 198 ----terminator: False\n",
      "Start= 0 ---- 199 ----terminator: False\n",
      "Start= 0 ---- 200 ----terminator: False\n",
      "Start= 0 ---- 201 ----terminator: False\n",
      "Start= 0 ---- 202 ----terminator: False\n",
      "Start= 0 ---- 203 ----terminator: False\n",
      "Start= 0 ---- 204 ----terminator: False\n",
      "Start= 0 ---- 205 ----terminator: False\n",
      "Start= 0 ---- 206 ----terminator: False\n",
      "Start= 0 ---- 207 ----terminator: False\n"
     ]
    },
    {
     "name": "stdout",
     "output_type": "stream",
     "text": [
      "Start= 0 ---- 208 ----terminator: False\n",
      "Start= 0 ---- 209 ----terminator: False\n",
      "Start= 0 ---- 210 ----terminator: False\n",
      "Start= 0 ---- 211 ----terminator: False\n",
      "Start= 0 ---- 212 ----terminator: False\n",
      "Start= 0 ---- 213 ----terminator: False\n",
      "Start= 0 ---- 214 ----terminator: False\n",
      "Start= 0 ---- 215 ----terminator: False\n",
      "Start= 0 ---- 216 ----terminator: False\n",
      "Start= 0 ---- 217 ----terminator: False\n",
      "Start= 0 ---- 218 ----terminator: False\n",
      "Start= 0 ---- 219 ----terminator: False\n",
      "Start= 0 ---- 220 ----terminator: False\n",
      "Start= 0 ---- 221 ----terminator: False\n",
      "Start= 0 ---- 222 ----terminator: False\n",
      "Start= 0 ---- 223 ----terminator: False\n",
      "Start= 0 ---- 224 ----terminator: False\n",
      "Start= 0 ---- 225 ----terminator: False\n",
      "Start= 0 ---- 226 ----terminator: False\n",
      "Start= 0 ---- 227 ----terminator: False\n",
      "Start= 0 ---- 228 ----terminator: False\n",
      "Start= 0 ---- 229 ----terminator: False\n",
      "Start= 0 ---- 230 ----terminator: False\n",
      "Start= 0 ---- 231 ----terminator: False\n",
      "Start= 0 ---- 232 ----terminator: False\n",
      "Start= 0 ---- 233 ----terminator: False\n",
      "Start= 0 ---- 234 ----terminator: False\n",
      "Start= 0 ---- 235 ----terminator: False\n",
      "Start= 0 ---- 236 ----terminator: False\n",
      "Start= 0 ---- 237 ----terminator: False\n",
      "Start= 0 ---- 238 ----terminator: False\n",
      "Start= 0 ---- 239 ----terminator: False\n",
      "Start= 0 ---- 240 ----terminator: False\n",
      "Start= 0 ---- 241 ----terminator: False\n",
      "Start= 0 ---- 242 ----terminator: False\n",
      "Start= 0 ---- 243 ----terminator: False\n",
      "Start= 0 ---- 244 ----terminator: False\n",
      "Start= 0 ---- 245 ----terminator: False\n",
      "Start= 0 ---- 246 ----terminator: False\n",
      "Start= 0 ---- 247 ----terminator: False\n",
      "Start= 0 ---- 248 ----terminator: False\n",
      "Start= 0 ---- 249 ----terminator: False\n",
      "Start= 0 ---- 250 ----terminator: False\n",
      "Start= 0 ---- 251 ----terminator: False\n",
      "Start= 0 ---- 252 ----terminator: False\n",
      "Start= 0 ---- 253 ----terminator: False\n",
      "Start= 0 ---- 254 ----terminator: False\n",
      "Start= 0 ---- 255 ----terminator: False\n",
      "Start= 0 ---- 256 ----terminator: False\n",
      "Start= 0 ---- 257 ----terminator: False\n",
      "Start= 0 ---- 258 ----terminator: False\n",
      "Start= 0 ---- 259 ----terminator: False\n",
      "Start= 0 ---- 260 ----terminator: False\n",
      "Start= 0 ---- 261 ----terminator: False\n",
      "Start= 0 ---- 262 ----terminator: False\n",
      "Start= 0 ---- 263 ----terminator: False\n",
      "Start= 0 ---- 264 ----terminator: False\n",
      "Start= 0 ---- 265 ----terminator: False\n",
      "Start= 0 ---- 266 ----terminator: False\n",
      "Start= 0 ---- 267 ----terminator: False\n",
      "Start= 0 ---- 268 ----terminator: False\n",
      "Start= 0 ---- 269 ----terminator: False\n",
      "Start= 0 ---- 270 ----terminator: False\n",
      "Start= 0 ---- 271 ----terminator: False\n",
      "Start= 0 ---- 272 ----terminator: False\n",
      "Start= 0 ---- 273 ----terminator: False\n",
      "Start= 0 ---- 274 ----terminator: False\n",
      "Start= 0 ---- 275 ----terminator: False\n",
      "Start= 0 ---- 276 ----terminator: False\n",
      "Start= 0 ---- 277 ----terminator: False\n",
      "Start= 0 ---- 278 ----terminator: False\n",
      "Start= 0 ---- 279 ----terminator: False\n",
      "Start= 0 ---- 280 ----terminator: False\n",
      "Start= 0 ---- 281 ----terminator: False\n",
      "Start= 0 ---- 282 ----terminator: False\n",
      "Start= 0 ---- 283 ----terminator: False\n",
      "Start= 0 ---- 284 ----terminator: False\n",
      "Start= 0 ---- 285 ----terminator: False\n",
      "Start= 0 ---- 286 ----terminator: False\n",
      "Start= 0 ---- 287 ----terminator: False\n",
      "Start= 0 ---- 288 ----terminator: False\n",
      "Start= 0 ---- 289 ----terminator: False\n",
      "Start= 0 ---- 290 ----terminator: False\n",
      "Start= 0 ---- 291 ----terminator: False\n",
      "Start= 0 ---- 292 ----terminator: False\n",
      "Start= 0 ---- 293 ----terminator: False\n",
      "Start= 0 ---- 294 ----terminator: False\n",
      "Start= 0 ---- 295 ----terminator: False\n",
      "Start= 0 ---- 296 ----terminator: False\n",
      "Start= 0 ---- 297 ----terminator: False\n",
      "Start= 0 ---- 298 ----terminator: False\n",
      "Start= 0 ---- 299 ----terminator: False\n",
      "Start= 0 ---- 300 ----terminator: False\n",
      "Start= 0 ---- 301 ----terminator: False\n",
      "Start= 0 ---- 302 ----terminator: False\n",
      "Start= 0 ---- 303 ----terminator: False\n",
      "Start= 0 ---- 304 ----terminator: False\n",
      "Start= 0 ---- 305 ----terminator: False\n",
      "Start= 0 ---- 306 ----terminator: False\n",
      "Start= 0 ---- 307 ----terminator: False\n",
      "Start= 0 ---- 308 ----terminator: False\n",
      "Start= 0 ---- 309 ----terminator: False\n",
      "Start= 0 ---- 310 ----terminator: False\n",
      "Start= 0 ---- 311 ----terminator: False\n",
      "Start= 0 ---- 312 ----terminator: False\n",
      "Start= 0 ---- 313 ----terminator: False\n",
      "Start= 0 ---- 314 ----terminator: False\n",
      "Start= 0 ---- 315 ----terminator: False\n",
      "Start= 0 ---- 316 ----terminator: False\n",
      "Start= 0 ---- 317 ----terminator: False\n",
      "Start= 0 ---- 318 ----terminator: False\n",
      "Start= 0 ---- 319 ----terminator: False\n",
      "Start= 0 ---- 320 ----terminator: False\n",
      "Start= 0 ---- 321 ----terminator: False\n",
      "Start= 0 ---- 322 ----terminator: False\n",
      "Start= 0 ---- 323 ----terminator: False\n",
      "Start= 0 ---- 324 ----terminator: False\n",
      "Start= 0 ---- 325 ----terminator: False\n",
      "Start= 0 ---- 326 ----terminator: False\n",
      "Start= 0 ---- 327 ----terminator: False\n",
      "Start= 0 ---- 328 ----terminator: False\n",
      "Start= 0 ---- 329 ----terminator: False\n",
      "Start= 0 ---- 330 ----terminator: False\n",
      "Start= 0 ---- 331 ----terminator: False\n",
      "Start= 0 ---- 332 ----terminator: False\n",
      "Start= 0 ---- 333 ----terminator: False\n",
      "Start= 0 ---- 334 ----terminator: False\n",
      "Start= 0 ---- 335 ----terminator: False\n",
      "Start= 0 ---- 336 ----terminator: False\n",
      "Start= 0 ---- 337 ----terminator: False\n",
      "Start= 0 ---- 338 ----terminator: False\n",
      "Start= 0 ---- 339 ----terminator: False\n",
      "Start= 0 ---- 340 ----terminator: False\n",
      "Start= 0 ---- 341 ----terminator: False\n",
      "Start= 0 ---- 342 ----terminator: False\n",
      "Start= 0 ---- 343 ----terminator: False\n",
      "Start= 0 ---- 344 ----terminator: False\n",
      "Start= 0 ---- 345 ----terminator: False\n",
      "Start= 0 ---- 346 ----terminator: False\n",
      "Start= 0 ---- 347 ----terminator: False\n",
      "Start= 0 ---- 348 ----terminator: False\n",
      "Start= 0 ---- 349 ----terminator: False\n",
      "Start= 0 ---- 350 ----terminator: False\n",
      "Start= 0 ---- 351 ----terminator: False\n",
      "Start= 0 ---- 352 ----terminator: False\n",
      "Start= 0 ---- 353 ----terminator: False\n",
      "Start= 0 ---- 354 ----terminator: False\n",
      "Start= 0 ---- 355 ----terminator: False\n",
      "Start= 0 ---- 356 ----terminator: False\n",
      "Start= 0 ---- 357 ----terminator: False\n",
      "Start= 0 ---- 358 ----terminator: False\n",
      "Start= 0 ---- 359 ----terminator: False\n",
      "Start= 0 ---- 360 ----terminator: False\n",
      "Start= 0 ---- 361 ----terminator: False\n",
      "Start= 0 ---- 362 ----terminator: False\n",
      "Start= 0 ---- 363 ----terminator: False\n",
      "Start= 0 ---- 364 ----terminator: False\n",
      "Start= 0 ---- 365 ----terminator: False\n",
      "Start= 0 ---- 366 ----terminator: False\n",
      "Start= 0 ---- 367 ----terminator: False\n",
      "Start= 0 ---- 368 ----terminator: False\n",
      "Start= 0 ---- 369 ----terminator: False\n",
      "Start= 0 ---- 370 ----terminator: False\n",
      "Start= 0 ---- 371 ----terminator: False\n",
      "Start= 0 ---- 372 ----terminator: False\n",
      "Start= 0 ---- 373 ----terminator: False\n",
      "Start= 0 ---- 374 ----terminator: False\n",
      "Start= 0 ---- 375 ----terminator: False\n",
      "Start= 0 ---- 376 ----terminator: False\n",
      "Start= 0 ---- 377 ----terminator: False\n",
      "Start= 0 ---- 378 ----terminator: False\n",
      "Start= 0 ---- 379 ----terminator: False\n",
      "Start= 0 ---- 380 ----terminator: False\n",
      "Start= 0 ---- 381 ----terminator: False\n",
      "Start= 0 ---- 382 ----terminator: False\n",
      "Start= 0 ---- 383 ----terminator: False\n",
      "Start= 0 ---- 384 ----terminator: False\n",
      "Start= 0 ---- 385 ----terminator: False\n",
      "Start= 0 ---- 386 ----terminator: False\n",
      "Start= 0 ---- 387 ----terminator: False\n",
      "Start= 0 ---- 388 ----terminator: False\n",
      "Start= 0 ---- 389 ----terminator: False\n",
      "Start= 0 ---- 390 ----terminator: False\n",
      "Start= 0 ---- 391 ----terminator: False\n",
      "Start= 0 ---- 392 ----terminator: False\n",
      "Start= 0 ---- 393 ----terminator: False\n",
      "Start= 0 ---- 394 ----terminator: False\n",
      "Start= 0 ---- 395 ----terminator: False\n",
      "Start= 0 ---- 396 ----terminator: False\n",
      "Start= 0 ---- 397 ----terminator: False\n",
      "Start= 0 ---- 398 ----terminator: False\n",
      "Start= 0 ---- 399 ----terminator: False\n",
      "Start= 0 ---- 400 ----terminator: False\n",
      "Start= 0 ---- 401 ----terminator: False\n",
      "Start= 0 ---- 402 ----terminator: False\n",
      "Start= 0 ---- 403 ----terminator: False\n",
      "Start= 0 ---- 404 ----terminator: False\n",
      "Start= 0 ---- 405 ----terminator: False\n",
      "Start= 0 ---- 406 ----terminator: False\n",
      "Start= 0 ---- 407 ----terminator: False\n",
      "Start= 0 ---- 408 ----terminator: False\n",
      "Start= 0 ---- 409 ----terminator: False\n",
      "Start= 0 ---- 410 ----terminator: False\n",
      "Start= 0 ---- 411 ----terminator: False\n",
      "Start= 0 ---- 412 ----terminator: False\n"
     ]
    },
    {
     "name": "stdout",
     "output_type": "stream",
     "text": [
      "Start= 0 ---- 413 ----terminator: False\n",
      "Start= 0 ---- 414 ----terminator: False\n",
      "Start= 0 ---- 415 ----terminator: False\n",
      "Start= 0 ---- 416 ----terminator: False\n",
      "Start= 0 ---- 417 ----terminator: False\n",
      "Start= 0 ---- 418 ----terminator: False\n",
      "Start= 0 ---- 419 ----terminator: False\n",
      "Start= 0 ---- 420 ----terminator: False\n",
      "Start= 0 ---- 421 ----terminator: False\n",
      "Start= 0 ---- 422 ----terminator: False\n",
      "Start= 0 ---- 423 ----terminator: False\n",
      "Start= 0 ---- 424 ----terminator: False\n",
      "Start= 0 ---- 425 ----terminator: False\n",
      "Start= 0 ---- 426 ----terminator: False\n",
      "Start= 0 ---- 427 ----terminator: False\n",
      "Start= 0 ---- 428 ----terminator: False\n",
      "Start= 0 ---- 429 ----terminator: False\n",
      "Start= 0 ---- 430 ----terminator: False\n",
      "Start= 0 ---- 431 ----terminator: False\n",
      "Start= 0 ---- 432 ----terminator: False\n",
      "Start= 0 ---- 433 ----terminator: False\n",
      "Start= 0 ---- 434 ----terminator: False\n",
      "Start= 0 ---- 435 ----terminator: False\n",
      "Start= 0 ---- 436 ----terminator: False\n",
      "Start= 0 ---- 437 ----terminator: False\n",
      "Start= 0 ---- 438 ----terminator: False\n",
      "Start= 0 ---- 439 ----terminator: False\n",
      "Start= 0 ---- 440 ----terminator: False\n",
      "Start= 0 ---- 441 ----terminator: False\n",
      "Start= 0 ---- 442 ----terminator: False\n",
      "Start= 0 ---- 443 ----terminator: False\n",
      "Start= 0 ---- 444 ----terminator: False\n",
      "Start= 0 ---- 445 ----terminator: False\n",
      "Start= 0 ---- 446 ----terminator: False\n",
      "Start= 0 ---- 447 ----terminator: False\n",
      "Start= 0 ---- 448 ----terminator: False\n",
      "Start= 0 ---- 449 ----terminator: False\n",
      "Start= 0 ---- 450 ----terminator: False\n",
      "Start= 0 ---- 451 ----terminator: False\n",
      "Start= 0 ---- 452 ----terminator: False\n",
      "Start= 0 ---- 453 ----terminator: False\n",
      "Start= 0 ---- 454 ----terminator: False\n",
      "Start= 0 ---- 455 ----terminator: False\n",
      "Start= 0 ---- 456 ----terminator: False\n",
      "Start= 0 ---- 457 ----terminator: False\n",
      "Start= 0 ---- 458 ----terminator: False\n",
      "Start= 0 ---- 459 ----terminator: False\n",
      "Start= 0 ---- 460 ----terminator: False\n",
      "Start= 0 ---- 461 ----terminator: False\n",
      "Start= 0 ---- 462 ----terminator: False\n",
      "Start= 0 ---- 463 ----terminator: False\n",
      "Start= 0 ---- 464 ----terminator: False\n",
      "Start= 0 ---- 465 ----terminator: False\n",
      "Start= 0 ---- 466 ----terminator: False\n",
      "Start= 0 ---- 467 ----terminator: False\n",
      "Start= 0 ---- 468 ----terminator: False\n",
      "Start= 0 ---- 469 ----terminator: False\n",
      "Start= 0 ---- 470 ----terminator: False\n",
      "Start= 0 ---- 471 ----terminator: False\n",
      "Start= 0 ---- 472 ----terminator: False\n",
      "Start= 0 ---- 473 ----terminator: False\n",
      "Start= 0 ---- 474 ----terminator: False\n",
      "Start= 0 ---- 475 ----terminator: False\n",
      "Start= 0 ---- 476 ----terminator: False\n",
      "Start= 0 ---- 477 ----terminator: False\n",
      "Start= 0 ---- 478 ----terminator: False\n",
      "Start= 0 ---- 479 ----terminator: False\n",
      "Start= 0 ---- 480 ----terminator: False\n",
      "Start= 0 ---- 481 ----terminator: False\n",
      "Start= 0 ---- 482 ----terminator: False\n",
      "Start= 0 ---- 483 ----terminator: False\n",
      "Start= 0 ---- 484 ----terminator: False\n",
      "Start= 0 ---- 485 ----terminator: False\n",
      "Start= 0 ---- 486 ----terminator: False\n",
      "Start= 0 ---- 487 ----terminator: False\n",
      "Start= 0 ---- 488 ----terminator: False\n",
      "Start= 0 ---- 489 ----terminator: False\n",
      "Start= 0 ---- 490 ----terminator: False\n",
      "Start= 0 ---- 491 ----terminator: False\n",
      "Start= 0 ---- 492 ----terminator: False\n",
      "Start= 0 ---- 493 ----terminator: False\n",
      "Start= 0 ---- 494 ----terminator: False\n",
      "Start= 0 ---- 495 ----terminator: False\n",
      "Start= 0 ---- 496 ----terminator: False\n",
      "Start= 0 ---- 497 ----terminator: False\n",
      "Start= 0 ---- 498 ----terminator: False\n",
      "Start= 0 ---- 499 ----terminator: False\n",
      "Start= 0 ---- 500 ----terminator: False\n",
      "Start= 0 ---- 501 ----terminator: False\n",
      "Start= 0 ---- 502 ----terminator: False\n",
      "Start= 0 ---- 503 ----terminator: False\n",
      "Start= 0 ---- 504 ----terminator: False\n",
      "Start= 0 ---- 505 ----terminator: False\n",
      "Start= 0 ---- 506 ----terminator: False\n",
      "Start= 0 ---- 507 ----terminator: False\n",
      "Start= 0 ---- 508 ----terminator: False\n",
      "Start= 0 ---- 509 ----terminator: False\n",
      "Start= 0 ---- 510 ----terminator: False\n",
      "Start= 0 ---- 511 ----terminator: False\n",
      "Start= 0 ---- 512 ----terminator: False\n",
      "Start= 0 ---- 513 ----terminator: False\n",
      "Start= 0 ---- 514 ----terminator: False\n",
      "Start= 0 ---- 515 ----terminator: False\n",
      "Start= 0 ---- 516 ----terminator: False\n",
      "Start= 0 ---- 517 ----terminator: False\n",
      "Start= 0 ---- 518 ----terminator: False\n",
      "Start= 0 ---- 519 ----terminator: False\n",
      "Start= 0 ---- 520 ----terminator: False\n",
      "Start= 0 ---- 521 ----terminator: False\n",
      "Start= 0 ---- 522 ----terminator: False\n",
      "Start= 0 ---- 523 ----terminator: False\n",
      "Start= 0 ---- 524 ----terminator: False\n",
      "Start= 0 ---- 525 ----terminator: False\n",
      "Start= 0 ---- 526 ----terminator: False\n",
      "Start= 0 ---- 527 ----terminator: False\n",
      "Start= 0 ---- 528 ----terminator: False\n",
      "Start= 0 ---- 529 ----terminator: False\n",
      "Start= 0 ---- 530 ----terminator: False\n",
      "Start= 0 ---- 531 ----terminator: False\n",
      "Start= 0 ---- 532 ----terminator: False\n",
      "Start= 0 ---- 533 ----terminator: False\n",
      "Start= 0 ---- 534 ----terminator: False\n",
      "Start= 0 ---- 535 ----terminator: False\n",
      "Start= 0 ---- 536 ----terminator: False\n",
      "Start= 0 ---- 537 ----terminator: False\n",
      "Start= 0 ---- 538 ----terminator: False\n",
      "Start= 0 ---- 539 ----terminator: False\n",
      "Start= 0 ---- 540 ----terminator: False\n",
      "Start= 0 ---- 541 ----terminator: False\n",
      "Start= 0 ---- 542 ----terminator: False\n",
      "Start= 0 ---- 543 ----terminator: False\n",
      "Start= 0 ---- 544 ----terminator: False\n",
      "Start= 0 ---- 545 ----terminator: False\n",
      "Start= 0 ---- 546 ----terminator: False\n",
      "Start= 0 ---- 547 ----terminator: False\n",
      "Start= 0 ---- 548 ----terminator: False\n",
      "Start= 0 ---- 549 ----terminator: False\n",
      "Start= 0 ---- 550 ----terminator: False\n",
      "Start= 0 ---- 551 ----terminator: False\n",
      "Start= 0 ---- 552 ----terminator: False\n",
      "Start= 0 ---- 553 ----terminator: False\n",
      "Start= 0 ---- 554 ----terminator: False\n",
      "Start= 0 ---- 555 ----terminator: False\n",
      "Start= 0 ---- 556 ----terminator: False\n",
      "Start= 0 ---- 557 ----terminator: False\n",
      "Start= 0 ---- 558 ----terminator: False\n",
      "Start= 0 ---- 559 ----terminator: False\n",
      "Start= 0 ---- 560 ----terminator: False\n",
      "Start= 0 ---- 561 ----terminator: False\n",
      "Start= 0 ---- 562 ----terminator: False\n",
      "Start= 0 ---- 563 ----terminator: False\n",
      "Start= 0 ---- 564 ----terminator: False\n",
      "Start= 0 ---- 565 ----terminator: False\n",
      "Start= 0 ---- 566 ----terminator: False\n",
      "Start= 0 ---- 567 ----terminator: False\n",
      "Start= 0 ---- 568 ----terminator: False\n",
      "Start= 0 ---- 569 ----terminator: False\n",
      "Start= 0 ---- 570 ----terminator: False\n",
      "Start= 0 ---- 571 ----terminator: False\n",
      "Start= 0 ---- 572 ----terminator: False\n",
      "Start= 0 ---- 573 ----terminator: False\n",
      "Start= 0 ---- 574 ----terminator: False\n",
      "Start= 0 ---- 575 ----terminator: False\n",
      "Start= 0 ---- 576 ----terminator: False\n",
      "Start= 0 ---- 577 ----terminator: False\n",
      "Start= 0 ---- 578 ----terminator: False\n",
      "Start= 0 ---- 579 ----terminator: False\n",
      "Start= 0 ---- 580 ----terminator: False\n",
      "Start= 0 ---- 581 ----terminator: False\n",
      "Start= 0 ---- 582 ----terminator: False\n",
      "Start= 0 ---- 583 ----terminator: False\n",
      "Start= 0 ---- 584 ----terminator: False\n",
      "Start= 0 ---- 585 ----terminator: False\n",
      "Start= 0 ---- 586 ----terminator: False\n",
      "Start= 0 ---- 587 ----terminator: False\n",
      "Start= 0 ---- 588 ----terminator: False\n",
      "Start= 0 ---- 589 ----terminator: False\n",
      "Start= 0 ---- 590 ----terminator: False\n",
      "Start= 0 ---- 591 ----terminator: False\n",
      "Start= 0 ---- 592 ----terminator: False\n",
      "Start= 0 ---- 593 ----terminator: False\n",
      "Start= 0 ---- 594 ----terminator: False\n",
      "Start= 0 ---- 595 ----terminator: False\n",
      "Start= 0 ---- 596 ----terminator: False\n",
      "Start= 0 ---- 597 ----terminator: False\n",
      "Start= 0 ---- 598 ----terminator: False\n",
      "Start= 0 ---- 599 ----terminator: False\n",
      "Start= 0 ---- 600 ----terminator: False\n",
      "Start= 0 ---- 601 ----terminator: False\n",
      "Start= 0 ---- 602 ----terminator: False\n",
      "Start= 0 ---- 603 ----terminator: False\n",
      "Start= 0 ---- 604 ----terminator: False\n",
      "Start= 0 ---- 605 ----terminator: False\n",
      "Start= 0 ---- 606 ----terminator: False\n",
      "Start= 0 ---- 607 ----terminator: False\n",
      "Start= 0 ---- 608 ----terminator: False\n",
      "Start= 0 ---- 609 ----terminator: False\n",
      "Start= 0 ---- 610 ----terminator: False\n",
      "Start= 0 ---- 611 ----terminator: False\n",
      "Start= 0 ---- 612 ----terminator: False\n",
      "Start= 0 ---- 613 ----terminator: False\n",
      "Start= 0 ---- 614 ----terminator: False\n",
      "Start= 0 ---- 615 ----terminator: False\n",
      "Start= 0 ---- 616 ----terminator: False\n",
      "Start= 0 ---- 617 ----terminator: False\n"
     ]
    },
    {
     "name": "stdout",
     "output_type": "stream",
     "text": [
      "Start= 0 ---- 618 ----terminator: False\n",
      "Start= 0 ---- 619 ----terminator: False\n",
      "Start= 0 ---- 620 ----terminator: False\n",
      "Start= 0 ---- 621 ----terminator: False\n",
      "Start= 0 ---- 622 ----terminator: False\n",
      "Start= 0 ---- 623 ----terminator: False\n",
      "Start= 0 ---- 624 ----terminator: False\n",
      "Start= 0 ---- 625 ----terminator: False\n",
      "Start= 0 ---- 626 ----terminator: False\n",
      "Start= 0 ---- 627 ----terminator: False\n",
      "Start= 0 ---- 628 ----terminator: False\n",
      "Start= 0 ---- 629 ----terminator: False\n",
      "Start= 0 ---- 630 ----terminator: False\n",
      "Start= 0 ---- 631 ----terminator: False\n",
      "Start= 0 ---- 632 ----terminator: False\n",
      "Start= 0 ---- 633 ----terminator: False\n",
      "Start= 0 ---- 634 ----terminator: False\n",
      "Start= 0 ---- 635 ----terminator: False\n",
      "Start= 0 ---- 636 ----terminator: False\n",
      "Start= 0 ---- 637 ----terminator: False\n",
      "Start= 0 ---- 638 ----terminator: False\n",
      "Start= 0 ---- 639 ----terminator: False\n",
      "Start= 0 ---- 640 ----terminator: False\n",
      "Start= 0 ---- 641 ----terminator: False\n",
      "Start= 0 ---- 642 ----terminator: False\n",
      "Start= 0 ---- 643 ----terminator: False\n",
      "Start= 0 ---- 644 ----terminator: False\n",
      "Start= 0 ---- 645 ----terminator: False\n",
      "Start= 0 ---- 646 ----terminator: False\n",
      "Start= 0 ---- 647 ----terminator: False\n",
      "Start= 0 ---- 648 ----terminator: False\n",
      "Start= 0 ---- 649 ----terminator: False\n",
      "Start= 0 ---- 650 ----terminator: False\n",
      "Start= 0 ---- 651 ----terminator: False\n",
      "Start= 0 ---- 652 ----terminator: False\n",
      "Start= 0 ---- 653 ----terminator: False\n",
      "Start= 0 ---- 654 ----terminator: False\n",
      "Start= 0 ---- 655 ----terminator: False\n",
      "Start= 0 ---- 656 ----terminator: False\n",
      "Start= 0 ---- 657 ----terminator: False\n",
      "Start= 0 ---- 658 ----terminator: False\n",
      "Start= 0 ---- 659 ----terminator: False\n",
      "Start= 0 ---- 660 ----terminator: False\n",
      "Start= 0 ---- 661 ----terminator: False\n",
      "Start= 0 ---- 662 ----terminator: False\n",
      "Start= 0 ---- 663 ----terminator: False\n",
      "Start= 0 ---- 664 ----terminator: False\n",
      "Start= 0 ---- 665 ----terminator: False\n",
      "Start= 0 ---- 666 ----terminator: False\n",
      "Start= 0 ---- 667 ----terminator: False\n",
      "Start= 0 ---- 668 ----terminator: False\n",
      "Start= 0 ---- 669 ----terminator: False\n",
      "Start= 0 ---- 670 ----terminator: False\n",
      "Start= 0 ---- 671 ----terminator: False\n",
      "Start= 0 ---- 672 ----terminator: False\n",
      "Start= 0 ---- 673 ----terminator: False\n",
      "Start= 0 ---- 674 ----terminator: False\n",
      "Start= 0 ---- 675 ----terminator: False\n",
      "Start= 0 ---- 676 ----terminator: False\n",
      "Start= 0 ---- 677 ----terminator: False\n",
      "Start= 0 ---- 678 ----terminator: False\n",
      "Start= 0 ---- 679 ----terminator: False\n",
      "Start= 0 ---- 680 ----terminator: False\n",
      "Start= 0 ---- 681 ----terminator: False\n",
      "Start= 0 ---- 682 ----terminator: False\n",
      "Start= 0 ---- 683 ----terminator: False\n",
      "Start= 0 ---- 684 ----terminator: False\n",
      "Start= 0 ---- 685 ----terminator: False\n",
      "Start= 0 ---- 686 ----terminator: False\n",
      "Start= 0 ---- 687 ----terminator: False\n",
      "Start= 0 ---- 688 ----terminator: False\n",
      "Start= 0 ---- 689 ----terminator: False\n",
      "Start= 0 ---- 690 ----terminator: False\n",
      "Start= 0 ---- 691 ----terminator: False\n",
      "Start= 0 ---- 692 ----terminator: False\n",
      "Start= 0 ---- 693 ----terminator: False\n",
      "Start= 0 ---- 694 ----terminator: False\n",
      "Start= 0 ---- 695 ----terminator: False\n",
      "Start= 0 ---- 696 ----terminator: False\n",
      "Start= 0 ---- 697 ----terminator: False\n",
      "Start= 0 ---- 698 ----terminator: False\n",
      "Start= 0 ---- 699 ----terminator: False\n",
      "Start= 0 ---- 700 ----terminator: False\n",
      "Start= 0 ---- 701 ----terminator: False\n",
      "Start= 0 ---- 702 ----terminator: False\n",
      "Start= 0 ---- 703 ----terminator: False\n",
      "Start= 0 ---- 704 ----terminator: False\n",
      "Start= 0 ---- 705 ----terminator: False\n",
      "Start= 0 ---- 706 ----terminator: False\n",
      "Start= 0 ---- 707 ----terminator: False\n",
      "Start= 0 ---- 708 ----terminator: False\n",
      "Start= 0 ---- 709 ----terminator: False\n",
      "Start= 0 ---- 710 ----terminator: False\n",
      "Start= 0 ---- 711 ----terminator: False\n",
      "Start= 0 ---- 712 ----terminator: False\n",
      "Start= 0 ---- 713 ----terminator: False\n",
      "Start= 0 ---- 714 ----terminator: False\n",
      "Start= 0 ---- 715 ----terminator: False\n",
      "Start= 0 ---- 716 ----terminator: False\n",
      "Start= 0 ---- 717 ----terminator: False\n",
      "Start= 0 ---- 718 ----terminator: False\n",
      "Start= 0 ---- 719 ----terminator: False\n"
     ]
    },
    {
     "ename": "FileNotFoundError",
     "evalue": "[Errno 2] No such file or directory: 'examples/G7M1/phi_analysis/dic_l.pkl'",
     "output_type": "error",
     "traceback": [
      "\u001b[0;31m---------------------------------------------------------------------------\u001b[0m",
      "\u001b[0;31mFileNotFoundError\u001b[0m                         Traceback (most recent call last)",
      "\u001b[0;32m<timed exec>\u001b[0m in \u001b[0;36m<module>\u001b[0;34m\u001b[0m\n",
      "\u001b[0;32m<ipython-input-16-6bfda285666a>\u001b[0m in \u001b[0;36mpickle_dic_l\u001b[0;34m(graphname, dic_l)\u001b[0m\n\u001b[1;32m      2\u001b[0m     \u001b[0;31m# Pickle the list\u001b[0m\u001b[0;34m\u001b[0m\u001b[0;34m\u001b[0m\u001b[0;34m\u001b[0m\u001b[0m\n\u001b[1;32m      3\u001b[0m     \u001b[0mfilename\u001b[0m\u001b[0;34m=\u001b[0m\u001b[0;34mf\"examples/{graphname}/phi_analysis/dic_l.pkl\"\u001b[0m\u001b[0;34m\u001b[0m\u001b[0;34m\u001b[0m\u001b[0m\n\u001b[0;32m----> 4\u001b[0;31m     \u001b[0;32mwith\u001b[0m \u001b[0mopen\u001b[0m\u001b[0;34m(\u001b[0m\u001b[0mfilename\u001b[0m\u001b[0;34m,\u001b[0m \u001b[0;34m'wb'\u001b[0m\u001b[0;34m)\u001b[0m \u001b[0;32mas\u001b[0m \u001b[0mf\u001b[0m\u001b[0;34m:\u001b[0m\u001b[0;34m\u001b[0m\u001b[0;34m\u001b[0m\u001b[0m\n\u001b[0m\u001b[1;32m      5\u001b[0m         \u001b[0mpickle\u001b[0m\u001b[0;34m.\u001b[0m\u001b[0mdump\u001b[0m\u001b[0;34m(\u001b[0m\u001b[0mdic_l\u001b[0m\u001b[0;34m,\u001b[0m \u001b[0mf\u001b[0m\u001b[0;34m)\u001b[0m\u001b[0;34m\u001b[0m\u001b[0;34m\u001b[0m\u001b[0m\n\u001b[1;32m      6\u001b[0m     \u001b[0;32mreturn\u001b[0m\u001b[0;34m\u001b[0m\u001b[0;34m\u001b[0m\u001b[0m\n",
      "\u001b[0;31mFileNotFoundError\u001b[0m: [Errno 2] No such file or directory: 'examples/G7M1/phi_analysis/dic_l.pkl'"
     ]
    }
   ],
   "source": [
    "%%time\n",
    "graphname=\"G7M1\" \n",
    "G=Graph([(\"0\",\"1\",\"e11\"),(\"1\",\"2\",\"e2\"),(\"2\",\"3\",\"e3\"),(\"3\",\"4\",\"e4\"),(\"4\",\"5\",\"e5\"),(\"5\",\"6\",\"e6\"),(\"6\",\"0\",\"e7\"),(\"0\",\"1\",\"e12\")], multiedges=True)\n",
    "\n",
    "data=unpickle(graphname) #Size=720\n",
    "\n",
    "dic_l=analyse_graphname(G,data)\n",
    "\n",
    "# Store list of dictionaries\n",
    "pickle_dic_l(graphname,dic_l)"
   ]
  },
  {
   "cell_type": "code",
   "execution_count": 27,
   "metadata": {},
   "outputs": [
    {
     "name": "stdout",
     "output_type": "stream",
     "text": [
      "Total number of stability conditions 720\n",
      "Number of polytopes of a given (dimension:number of at dim): {6: 720}\n",
      "\n"
     ]
    }
   ],
   "source": [
    "analyse_table(dic_l)"
   ]
  },
  {
   "cell_type": "markdown",
   "metadata": {
    "jp-MarkdownHeadingCollapsed": true,
    "tags": [],
    "toc-hr-collapsed": true
   },
   "source": [
    "## $\\Gamma:=\\Gamma_{1 k_2 k_3}$ for $k_2\\ge 2$  <a name=\"s23\"></a>"
   ]
  },
  {
   "cell_type": "markdown",
   "metadata": {},
   "source": [
    "We now consider the dimension of $P_{ST}^{\\sigma_{\\Gamma}}$ for $ \\sigma_{\\Gamma} \\in \\Sigma_{\\Gamma,T,D_{T}}^{d}$ for graphs   $\\Gamma:=\\Gamma_{k_1 k_2 k_3}$ with $(k_1,k_2,k_3)=\\{(1,2,2),(1,2,3),(1,2,4),(1,3,3),(1,2,5),(1,3,4)\\}$. "
   ]
  },
  {
   "cell_type": "markdown",
   "metadata": {
    "tags": []
   },
   "source": [
    "### $(k_1,k_2,k_3)=(1,2,2)$"
   ]
  },
  {
   "cell_type": "code",
   "execution_count": null,
   "metadata": {
    "tags": []
   },
   "outputs": [],
   "source": [
    "%%time\n",
    "graphname=\"G4M2\" \n",
    "G=Graph([(\"0\",\"1\"),(\"1\",\"2\"),(\"2\",\"3\"),(\"3\",\"0\"),(\"0\",\"2\")], multiedges=True)\n",
    "\n",
    "data=unpickle(graphname) #Size=6\n",
    "\n",
    "dic_l=analyse_graphname(G,data)"
   ]
  },
  {
   "cell_type": "code",
   "execution_count": null,
   "metadata": {
    "tags": []
   },
   "outputs": [],
   "source": [
    "#Store list of dictionaries\n",
    "# pickle_dic_l(graphname,dic_l)"
   ]
  },
  {
   "cell_type": "code",
   "execution_count": null,
   "metadata": {
    "tags": []
   },
   "outputs": [],
   "source": [
    "analyse_table(dic_l)"
   ]
  },
  {
   "cell_type": "markdown",
   "metadata": {
    "jp-MarkdownHeadingCollapsed": true,
    "tags": []
   },
   "source": [
    "### $(k_1,k_2,k_3)=(1,2,3)$"
   ]
  },
  {
   "cell_type": "code",
   "execution_count": null,
   "metadata": {
    "tags": []
   },
   "outputs": [],
   "source": [
    "%%time\n",
    "graphname=\"G5M2\"\n",
    "G=Graph([(\"0\",\"1\"),(\"1\",\"2\"),(\"2\",\"3\"),(\"3\",\"4\"),(\"4\",\"0\"),(\"0\",\"2\")], multiedges=True)\n",
    "\n",
    "data=unpickle(graphname) #Size=24\n",
    "\n",
    "dic_l=analyse_graphname(G,data)"
   ]
  },
  {
   "cell_type": "code",
   "execution_count": null,
   "metadata": {
    "tags": []
   },
   "outputs": [],
   "source": [
    "#Store list of dictionaries\n",
    "# pickle_dic_l(graphname,dic_l)"
   ]
  },
  {
   "cell_type": "code",
   "execution_count": null,
   "metadata": {},
   "outputs": [],
   "source": [
    "analyse_table(dic_l)"
   ]
  },
  {
   "cell_type": "markdown",
   "metadata": {
    "jp-MarkdownHeadingCollapsed": true,
    "tags": []
   },
   "source": [
    "### $(k_1,k_2,k_3)=(1,2,4)$"
   ]
  },
  {
   "cell_type": "code",
   "execution_count": null,
   "metadata": {
    "tags": []
   },
   "outputs": [],
   "source": [
    "%%time\n",
    "graphname=\"G6M2\"\n",
    "G=Graph([(\"0\",\"1\"),(\"1\",\"2\"),(\"2\",\"3\"),(\"3\",\"4\"),(\"4\",\"5\"),(\"5\",\"0\"),(\"0\",\"2\")], multiedges=True)\n",
    "\n",
    "data=unpickle(graphname) #Size=120\n",
    "\n",
    "dic_l=analyse_graphname(G,data)"
   ]
  },
  {
   "cell_type": "code",
   "execution_count": null,
   "metadata": {
    "tags": []
   },
   "outputs": [],
   "source": [
    "#Store list of dictionaries\n",
    "# pickle_dic_l(graphname,dic_l)"
   ]
  },
  {
   "cell_type": "code",
   "execution_count": null,
   "metadata": {},
   "outputs": [],
   "source": [
    "analyse_table(dic_l)"
   ]
  },
  {
   "cell_type": "markdown",
   "metadata": {
    "jp-MarkdownHeadingCollapsed": true,
    "tags": []
   },
   "source": [
    "### $(k_1,k_2,k_3)=(1,3,3)$"
   ]
  },
  {
   "cell_type": "code",
   "execution_count": null,
   "metadata": {
    "tags": []
   },
   "outputs": [],
   "source": [
    "%%time\n",
    "graphname=\"G6M3\"  \n",
    "G=Graph([(\"0\",\"1\"),(\"1\",\"2\"),(\"2\",\"3\"),(\"3\",\"4\"),(\"4\",\"5\"),(\"5\",\"0\"),(\"0\",\"3\")], multiedges=True)\n",
    "\n",
    "data=unpickle(graphname) #Size=120\n",
    "\n",
    "dic_l=analyse_graphname(G,data)"
   ]
  },
  {
   "cell_type": "code",
   "execution_count": null,
   "metadata": {},
   "outputs": [],
   "source": []
  },
  {
   "cell_type": "code",
   "execution_count": null,
   "metadata": {
    "tags": []
   },
   "outputs": [],
   "source": [
    "#Store list of dictionaries\n",
    "# pickle_dic_l(graphname,dic_l)"
   ]
  },
  {
   "cell_type": "code",
   "execution_count": null,
   "metadata": {},
   "outputs": [],
   "source": [
    "analyse_table(dic_l)"
   ]
  },
  {
   "cell_type": "markdown",
   "metadata": {
    "jp-MarkdownHeadingCollapsed": true,
    "tags": []
   },
   "source": [
    "### $(k_1,k_2,k_3)=(1,2,5)$"
   ]
  },
  {
   "cell_type": "code",
   "execution_count": 23,
   "metadata": {
    "scrolled": true
   },
   "outputs": [
    {
     "name": "stdout",
     "output_type": "stream",
     "text": [
      "Start= 0 ---- 0 ----terminator: False\n",
      "Start= 0 ---- 1 ----terminator: False\n",
      "Start= 0 ---- 2 ----terminator: False\n",
      "Start= 0 ---- 3 ----terminator: False\n",
      "Start= 0 ---- 4 ----terminator: False\n",
      "Start= 0 ---- 5 ----terminator: False\n",
      "Start= 0 ---- 6 ----terminator: False\n",
      "Start= 0 ---- 7 ----terminator: False\n",
      "Start= 0 ---- 8 ----terminator: False\n",
      "Start= 0 ---- 9 ----terminator: False\n",
      "Start= 0 ---- 10 ----terminator: False\n",
      "Start= 0 ---- 11 ----terminator: False\n",
      "Start= 0 ---- 12 ----terminator: False\n",
      "Start= 0 ---- 13 ----terminator: False\n",
      "Start= 0 ---- 14 ----terminator: False\n",
      "Start= 0 ---- 15 ----terminator: False\n",
      "Start= 0 ---- 16 ----terminator: False\n",
      "Start= 0 ---- 17 ----terminator: False\n",
      "Start= 0 ---- 18 ----terminator: False\n",
      "Start= 0 ---- 19 ----terminator: False\n",
      "Start= 0 ---- 20 ----terminator: False\n",
      "Start= 0 ---- 21 ----terminator: False\n",
      "Start= 0 ---- 22 ----terminator: False\n",
      "Start= 0 ---- 23 ----terminator: False\n",
      "Start= 0 ---- 24 ----terminator: False\n",
      "Start= 0 ---- 25 ----terminator: False\n",
      "Start= 0 ---- 26 ----terminator: False\n",
      "Start= 0 ---- 27 ----terminator: False\n",
      "Start= 0 ---- 28 ----terminator: False\n",
      "Start= 0 ---- 29 ----terminator: False\n",
      "Start= 0 ---- 30 ----terminator: False\n",
      "Start= 0 ---- 31 ----terminator: False\n",
      "Start= 0 ---- 32 ----terminator: False\n",
      "Start= 0 ---- 33 ----terminator: False\n",
      "Start= 0 ---- 34 ----terminator: False\n",
      "Start= 0 ---- 35 ----terminator: False\n",
      "Start= 0 ---- 36 ----terminator: False\n",
      "Start= 0 ---- 37 ----terminator: False\n",
      "Start= 0 ---- 38 ----terminator: False\n",
      "Start= 0 ---- 39 ----terminator: False\n",
      "Start= 0 ---- 40 ----terminator: False\n",
      "Start= 0 ---- 41 ----terminator: False\n",
      "Start= 0 ---- 42 ----terminator: False\n",
      "Start= 0 ---- 43 ----terminator: False\n",
      "Start= 0 ---- 44 ----terminator: False\n",
      "Start= 0 ---- 45 ----terminator: False\n",
      "Start= 0 ---- 46 ----terminator: False\n",
      "Start= 0 ---- 47 ----terminator: False\n",
      "Start= 0 ---- 48 ----terminator: False\n",
      "Start= 0 ---- 49 ----terminator: False\n",
      "Start= 0 ---- 50 ----terminator: False\n",
      "Start= 0 ---- 51 ----terminator: False\n",
      "Start= 0 ---- 52 ----terminator: False\n",
      "Start= 0 ---- 53 ----terminator: False\n",
      "Start= 0 ---- 54 ----terminator: False\n",
      "Start= 0 ---- 55 ----terminator: False\n",
      "Start= 0 ---- 56 ----terminator: False\n",
      "Start= 0 ---- 57 ----terminator: False\n",
      "Start= 0 ---- 58 ----terminator: False\n",
      "Start= 0 ---- 59 ----terminator: False\n",
      "Start= 0 ---- 60 ----terminator: False\n",
      "Start= 0 ---- 61 ----terminator: False\n",
      "Start= 0 ---- 62 ----terminator: False\n",
      "Start= 0 ---- 63 ----terminator: False\n",
      "Start= 0 ---- 64 ----terminator: False\n",
      "Start= 0 ---- 65 ----terminator: False\n",
      "Start= 0 ---- 66 ----terminator: False\n",
      "Start= 0 ---- 67 ----terminator: False\n",
      "Start= 0 ---- 68 ----terminator: False\n",
      "Start= 0 ---- 69 ----terminator: False\n",
      "Start= 0 ---- 70 ----terminator: False\n",
      "Start= 0 ---- 71 ----terminator: False\n",
      "Start= 0 ---- 72 ----terminator: False\n",
      "Start= 0 ---- 73 ----terminator: False\n",
      "Start= 0 ---- 74 ----terminator: False\n",
      "Start= 0 ---- 75 ----terminator: False\n",
      "Start= 0 ---- 76 ----terminator: False\n",
      "Start= 0 ---- 77 ----terminator: False\n",
      "Start= 0 ---- 78 ----terminator: False\n",
      "Start= 0 ---- 79 ----terminator: False\n",
      "Start= 0 ---- 80 ----terminator: False\n",
      "Start= 0 ---- 81 ----terminator: False\n",
      "Start= 0 ---- 82 ----terminator: False\n",
      "Start= 0 ---- 83 ----terminator: False\n",
      "Start= 0 ---- 84 ----terminator: False\n",
      "Start= 0 ---- 85 ----terminator: False\n",
      "Start= 0 ---- 86 ----terminator: False\n",
      "Start= 0 ---- 87 ----terminator: False\n",
      "Start= 0 ---- 88 ----terminator: False\n",
      "Start= 0 ---- 89 ----terminator: False\n",
      "Start= 0 ---- 90 ----terminator: False\n",
      "Start= 0 ---- 91 ----terminator: False\n",
      "Start= 0 ---- 92 ----terminator: False\n",
      "Start= 0 ---- 93 ----terminator: False\n",
      "Start= 0 ---- 94 ----terminator: False\n",
      "Start= 0 ---- 95 ----terminator: False\n",
      "Start= 0 ---- 96 ----terminator: False\n",
      "Start= 0 ---- 97 ----terminator: False\n",
      "Start= 0 ---- 98 ----terminator: False\n",
      "Start= 0 ---- 99 ----terminator: False\n",
      "Start= 0 ---- 100 ----terminator: False\n",
      "Start= 0 ---- 101 ----terminator: False\n",
      "Start= 0 ---- 102 ----terminator: False\n",
      "Start= 0 ---- 103 ----terminator: False\n",
      "Start= 0 ---- 104 ----terminator: False\n",
      "Start= 0 ---- 105 ----terminator: False\n",
      "Start= 0 ---- 106 ----terminator: False\n",
      "Start= 0 ---- 107 ----terminator: False\n",
      "Start= 0 ---- 108 ----terminator: False\n",
      "Start= 0 ---- 109 ----terminator: False\n",
      "Start= 0 ---- 110 ----terminator: False\n",
      "Start= 0 ---- 111 ----terminator: False\n",
      "Start= 0 ---- 112 ----terminator: False\n",
      "Start= 0 ---- 113 ----terminator: False\n",
      "Start= 0 ---- 114 ----terminator: False\n",
      "Start= 0 ---- 115 ----terminator: False\n",
      "Start= 0 ---- 116 ----terminator: False\n",
      "Start= 0 ---- 117 ----terminator: False\n",
      "Start= 0 ---- 118 ----terminator: False\n",
      "Start= 0 ---- 119 ----terminator: False\n",
      "Start= 0 ---- 120 ----terminator: False\n",
      "Start= 0 ---- 121 ----terminator: False\n",
      "Start= 0 ---- 122 ----terminator: False\n",
      "Start= 0 ---- 123 ----terminator: False\n",
      "Start= 0 ---- 124 ----terminator: False\n",
      "Start= 0 ---- 125 ----terminator: False\n",
      "Start= 0 ---- 126 ----terminator: False\n",
      "Start= 0 ---- 127 ----terminator: False\n",
      "Start= 0 ---- 128 ----terminator: False\n",
      "Start= 0 ---- 129 ----terminator: False\n",
      "Start= 0 ---- 130 ----terminator: False\n",
      "Start= 0 ---- 131 ----terminator: False\n",
      "Start= 0 ---- 132 ----terminator: False\n",
      "Start= 0 ---- 133 ----terminator: False\n",
      "Start= 0 ---- 134 ----terminator: False\n",
      "Start= 0 ---- 135 ----terminator: False\n",
      "Start= 0 ---- 136 ----terminator: False\n",
      "Start= 0 ---- 137 ----terminator: False\n",
      "Start= 0 ---- 138 ----terminator: False\n",
      "Start= 0 ---- 139 ----terminator: False\n",
      "Start= 0 ---- 140 ----terminator: False\n",
      "Start= 0 ---- 141 ----terminator: False\n",
      "Start= 0 ---- 142 ----terminator: False\n",
      "Start= 0 ---- 143 ----terminator: False\n",
      "Start= 0 ---- 144 ----terminator: False\n",
      "Start= 0 ---- 145 ----terminator: False\n",
      "Start= 0 ---- 146 ----terminator: False\n",
      "Start= 0 ---- 147 ----terminator: False\n",
      "Start= 0 ---- 148 ----terminator: False\n",
      "Start= 0 ---- 149 ----terminator: False\n",
      "Start= 0 ---- 150 ----terminator: False\n",
      "Start= 0 ---- 151 ----terminator: False\n",
      "Start= 0 ---- 152 ----terminator: False\n",
      "Start= 0 ---- 153 ----terminator: False\n",
      "Start= 0 ---- 154 ----terminator: False\n",
      "Start= 0 ---- 155 ----terminator: False\n",
      "Start= 0 ---- 156 ----terminator: False\n",
      "Start= 0 ---- 157 ----terminator: False\n",
      "Start= 0 ---- 158 ----terminator: False\n",
      "Start= 0 ---- 159 ----terminator: False\n",
      "Start= 0 ---- 160 ----terminator: False\n",
      "Start= 0 ---- 161 ----terminator: False\n",
      "Start= 0 ---- 162 ----terminator: False\n",
      "Start= 0 ---- 163 ----terminator: False\n",
      "Start= 0 ---- 164 ----terminator: False\n",
      "Start= 0 ---- 165 ----terminator: False\n",
      "Start= 0 ---- 166 ----terminator: False\n",
      "Start= 0 ---- 167 ----terminator: False\n",
      "Start= 0 ---- 168 ----terminator: False\n",
      "Start= 0 ---- 169 ----terminator: False\n",
      "Start= 0 ---- 170 ----terminator: False\n",
      "Start= 0 ---- 171 ----terminator: False\n",
      "Start= 0 ---- 172 ----terminator: False\n",
      "Start= 0 ---- 173 ----terminator: False\n",
      "Start= 0 ---- 174 ----terminator: False\n",
      "Start= 0 ---- 175 ----terminator: False\n",
      "Start= 0 ---- 176 ----terminator: False\n",
      "Start= 0 ---- 177 ----terminator: False\n",
      "Start= 0 ---- 178 ----terminator: False\n",
      "Start= 0 ---- 179 ----terminator: False\n",
      "Start= 0 ---- 180 ----terminator: False\n",
      "Start= 0 ---- 181 ----terminator: False\n",
      "Start= 0 ---- 182 ----terminator: False\n",
      "Start= 0 ---- 183 ----terminator: False\n",
      "Start= 0 ---- 184 ----terminator: False\n",
      "Start= 0 ---- 185 ----terminator: False\n",
      "Start= 0 ---- 186 ----terminator: False\n",
      "Start= 0 ---- 187 ----terminator: False\n",
      "Start= 0 ---- 188 ----terminator: False\n",
      "Start= 0 ---- 189 ----terminator: False\n",
      "Start= 0 ---- 190 ----terminator: False\n",
      "Start= 0 ---- 191 ----terminator: False\n",
      "Start= 0 ---- 192 ----terminator: False\n",
      "Start= 0 ---- 193 ----terminator: False\n",
      "Start= 0 ---- 194 ----terminator: False\n",
      "Start= 0 ---- 195 ----terminator: False\n",
      "Start= 0 ---- 196 ----terminator: False\n",
      "Start= 0 ---- 197 ----terminator: False\n",
      "Start= 0 ---- 198 ----terminator: False\n",
      "Start= 0 ---- 199 ----terminator: False\n",
      "Start= 0 ---- 200 ----terminator: False\n",
      "Start= 0 ---- 201 ----terminator: False\n",
      "Start= 0 ---- 202 ----terminator: False\n",
      "Start= 0 ---- 203 ----terminator: False\n",
      "Start= 0 ---- 204 ----terminator: False\n",
      "Start= 0 ---- 205 ----terminator: False\n",
      "Start= 0 ---- 206 ----terminator: False\n",
      "Start= 0 ---- 207 ----terminator: False\n"
     ]
    },
    {
     "name": "stdout",
     "output_type": "stream",
     "text": [
      "Start= 0 ---- 208 ----terminator: False\n",
      "Start= 0 ---- 209 ----terminator: False\n",
      "Start= 0 ---- 210 ----terminator: False\n",
      "Start= 0 ---- 211 ----terminator: False\n",
      "Start= 0 ---- 212 ----terminator: False\n",
      "Start= 0 ---- 213 ----terminator: False\n",
      "Start= 0 ---- 214 ----terminator: False\n",
      "Start= 0 ---- 215 ----terminator: False\n",
      "Start= 0 ---- 216 ----terminator: False\n",
      "Start= 0 ---- 217 ----terminator: False\n",
      "Start= 0 ---- 218 ----terminator: False\n",
      "Start= 0 ---- 219 ----terminator: False\n",
      "Start= 0 ---- 220 ----terminator: False\n",
      "Start= 0 ---- 221 ----terminator: False\n",
      "Start= 0 ---- 222 ----terminator: False\n",
      "Start= 0 ---- 223 ----terminator: False\n",
      "Start= 0 ---- 224 ----terminator: False\n",
      "Start= 0 ---- 225 ----terminator: False\n",
      "Start= 0 ---- 226 ----terminator: False\n",
      "Start= 0 ---- 227 ----terminator: False\n",
      "Start= 0 ---- 228 ----terminator: False\n",
      "Start= 0 ---- 229 ----terminator: False\n",
      "Start= 0 ---- 230 ----terminator: False\n",
      "Start= 0 ---- 231 ----terminator: False\n",
      "Start= 0 ---- 232 ----terminator: False\n",
      "Start= 0 ---- 233 ----terminator: False\n",
      "Start= 0 ---- 234 ----terminator: False\n",
      "Start= 0 ---- 235 ----terminator: False\n",
      "Start= 0 ---- 236 ----terminator: False\n",
      "Start= 0 ---- 237 ----terminator: False\n",
      "Start= 0 ---- 238 ----terminator: False\n",
      "Start= 0 ---- 239 ----terminator: False\n",
      "Start= 0 ---- 240 ----terminator: False\n",
      "Start= 0 ---- 241 ----terminator: False\n",
      "Start= 0 ---- 242 ----terminator: False\n",
      "Start= 0 ---- 243 ----terminator: False\n",
      "Start= 0 ---- 244 ----terminator: False\n",
      "Start= 0 ---- 245 ----terminator: False\n",
      "Start= 0 ---- 246 ----terminator: False\n",
      "Start= 0 ---- 247 ----terminator: False\n",
      "Start= 0 ---- 248 ----terminator: False\n",
      "Start= 0 ---- 249 ----terminator: False\n",
      "Start= 0 ---- 250 ----terminator: False\n",
      "Start= 0 ---- 251 ----terminator: False\n",
      "Start= 0 ---- 252 ----terminator: False\n",
      "Start= 0 ---- 253 ----terminator: False\n",
      "Start= 0 ---- 254 ----terminator: False\n",
      "Start= 0 ---- 255 ----terminator: False\n",
      "Start= 0 ---- 256 ----terminator: False\n",
      "Start= 0 ---- 257 ----terminator: False\n",
      "Start= 0 ---- 258 ----terminator: False\n",
      "Start= 0 ---- 259 ----terminator: False\n",
      "Start= 0 ---- 260 ----terminator: False\n",
      "Start= 0 ---- 261 ----terminator: False\n",
      "Start= 0 ---- 262 ----terminator: False\n",
      "Start= 0 ---- 263 ----terminator: False\n",
      "Start= 0 ---- 264 ----terminator: False\n",
      "Start= 0 ---- 265 ----terminator: False\n",
      "Start= 0 ---- 266 ----terminator: False\n",
      "Start= 0 ---- 267 ----terminator: False\n",
      "Start= 0 ---- 268 ----terminator: False\n",
      "Start= 0 ---- 269 ----terminator: False\n",
      "Start= 0 ---- 270 ----terminator: False\n",
      "Start= 0 ---- 271 ----terminator: False\n",
      "Start= 0 ---- 272 ----terminator: False\n",
      "Start= 0 ---- 273 ----terminator: False\n",
      "Start= 0 ---- 274 ----terminator: False\n",
      "Start= 0 ---- 275 ----terminator: False\n",
      "Start= 0 ---- 276 ----terminator: False\n",
      "Start= 0 ---- 277 ----terminator: False\n",
      "Start= 0 ---- 278 ----terminator: False\n",
      "Start= 0 ---- 279 ----terminator: False\n",
      "Start= 0 ---- 280 ----terminator: False\n",
      "Start= 0 ---- 281 ----terminator: False\n",
      "Start= 0 ---- 282 ----terminator: False\n",
      "Start= 0 ---- 283 ----terminator: False\n",
      "Start= 0 ---- 284 ----terminator: False\n",
      "Start= 0 ---- 285 ----terminator: False\n",
      "Start= 0 ---- 286 ----terminator: False\n",
      "Start= 0 ---- 287 ----terminator: False\n",
      "Start= 0 ---- 288 ----terminator: False\n",
      "Start= 0 ---- 289 ----terminator: False\n",
      "Start= 0 ---- 290 ----terminator: False\n",
      "Start= 0 ---- 291 ----terminator: False\n",
      "Start= 0 ---- 292 ----terminator: False\n",
      "Start= 0 ---- 293 ----terminator: False\n",
      "Start= 0 ---- 294 ----terminator: False\n",
      "Start= 0 ---- 295 ----terminator: False\n",
      "Start= 0 ---- 296 ----terminator: False\n",
      "Start= 0 ---- 297 ----terminator: False\n",
      "Start= 0 ---- 298 ----terminator: False\n",
      "Start= 0 ---- 299 ----terminator: False\n",
      "Start= 0 ---- 300 ----terminator: False\n",
      "Start= 0 ---- 301 ----terminator: False\n",
      "Start= 0 ---- 302 ----terminator: False\n",
      "Start= 0 ---- 303 ----terminator: False\n",
      "Start= 0 ---- 304 ----terminator: False\n",
      "Start= 0 ---- 305 ----terminator: False\n",
      "Start= 0 ---- 306 ----terminator: False\n",
      "Start= 0 ---- 307 ----terminator: False\n",
      "Start= 0 ---- 308 ----terminator: False\n",
      "Start= 0 ---- 309 ----terminator: False\n",
      "Start= 0 ---- 310 ----terminator: False\n",
      "Start= 0 ---- 311 ----terminator: False\n",
      "Start= 0 ---- 312 ----terminator: False\n",
      "Start= 0 ---- 313 ----terminator: False\n",
      "Start= 0 ---- 314 ----terminator: False\n",
      "Start= 0 ---- 315 ----terminator: False\n",
      "Start= 0 ---- 316 ----terminator: False\n",
      "Start= 0 ---- 317 ----terminator: False\n",
      "Start= 0 ---- 318 ----terminator: False\n",
      "Start= 0 ---- 319 ----terminator: False\n",
      "Start= 0 ---- 320 ----terminator: False\n",
      "Start= 0 ---- 321 ----terminator: False\n",
      "Start= 0 ---- 322 ----terminator: False\n",
      "Start= 0 ---- 323 ----terminator: False\n",
      "Start= 0 ---- 324 ----terminator: False\n",
      "Start= 0 ---- 325 ----terminator: False\n",
      "Start= 0 ---- 326 ----terminator: False\n",
      "Start= 0 ---- 327 ----terminator: False\n",
      "Start= 0 ---- 328 ----terminator: False\n",
      "Start= 0 ---- 329 ----terminator: False\n",
      "Start= 0 ---- 330 ----terminator: False\n",
      "Start= 0 ---- 331 ----terminator: False\n",
      "Start= 0 ---- 332 ----terminator: False\n",
      "Start= 0 ---- 333 ----terminator: False\n",
      "Start= 0 ---- 334 ----terminator: False\n",
      "Start= 0 ---- 335 ----terminator: False\n",
      "Start= 0 ---- 336 ----terminator: False\n",
      "Start= 0 ---- 337 ----terminator: False\n",
      "Start= 0 ---- 338 ----terminator: False\n",
      "Start= 0 ---- 339 ----terminator: False\n",
      "Start= 0 ---- 340 ----terminator: False\n",
      "Start= 0 ---- 341 ----terminator: False\n",
      "Start= 0 ---- 342 ----terminator: False\n",
      "Start= 0 ---- 343 ----terminator: False\n",
      "Start= 0 ---- 344 ----terminator: False\n",
      "Start= 0 ---- 345 ----terminator: False\n",
      "Start= 0 ---- 346 ----terminator: False\n",
      "Start= 0 ---- 347 ----terminator: False\n",
      "Start= 0 ---- 348 ----terminator: False\n",
      "Start= 0 ---- 349 ----terminator: False\n",
      "Start= 0 ---- 350 ----terminator: False\n",
      "Start= 0 ---- 351 ----terminator: False\n",
      "Start= 0 ---- 352 ----terminator: False\n",
      "Start= 0 ---- 353 ----terminator: False\n",
      "Start= 0 ---- 354 ----terminator: False\n",
      "Start= 0 ---- 355 ----terminator: False\n",
      "Start= 0 ---- 356 ----terminator: False\n",
      "Start= 0 ---- 357 ----terminator: False\n",
      "Start= 0 ---- 358 ----terminator: False\n",
      "Start= 0 ---- 359 ----terminator: False\n",
      "Start= 0 ---- 360 ----terminator: False\n",
      "Start= 0 ---- 361 ----terminator: False\n",
      "Start= 0 ---- 362 ----terminator: False\n",
      "Start= 0 ---- 363 ----terminator: False\n",
      "Start= 0 ---- 364 ----terminator: False\n",
      "Start= 0 ---- 365 ----terminator: False\n",
      "Start= 0 ---- 366 ----terminator: False\n",
      "Start= 0 ---- 367 ----terminator: False\n",
      "Start= 0 ---- 368 ----terminator: False\n",
      "Start= 0 ---- 369 ----terminator: False\n",
      "Start= 0 ---- 370 ----terminator: False\n",
      "Start= 0 ---- 371 ----terminator: False\n",
      "Start= 0 ---- 372 ----terminator: False\n",
      "Start= 0 ---- 373 ----terminator: False\n",
      "Start= 0 ---- 374 ----terminator: False\n",
      "Start= 0 ---- 375 ----terminator: False\n",
      "Start= 0 ---- 376 ----terminator: False\n",
      "Start= 0 ---- 377 ----terminator: False\n",
      "Start= 0 ---- 378 ----terminator: False\n",
      "Start= 0 ---- 379 ----terminator: False\n",
      "Start= 0 ---- 380 ----terminator: False\n",
      "Start= 0 ---- 381 ----terminator: False\n",
      "Start= 0 ---- 382 ----terminator: False\n",
      "Start= 0 ---- 383 ----terminator: False\n",
      "Start= 0 ---- 384 ----terminator: False\n",
      "Start= 0 ---- 385 ----terminator: False\n",
      "Start= 0 ---- 386 ----terminator: False\n",
      "Start= 0 ---- 387 ----terminator: False\n",
      "Start= 0 ---- 388 ----terminator: False\n",
      "Start= 0 ---- 389 ----terminator: False\n",
      "Start= 0 ---- 390 ----terminator: False\n",
      "Start= 0 ---- 391 ----terminator: False\n",
      "Start= 0 ---- 392 ----terminator: False\n",
      "Start= 0 ---- 393 ----terminator: False\n",
      "Start= 0 ---- 394 ----terminator: False\n",
      "Start= 0 ---- 395 ----terminator: False\n",
      "Start= 0 ---- 396 ----terminator: False\n",
      "Start= 0 ---- 397 ----terminator: False\n",
      "Start= 0 ---- 398 ----terminator: False\n",
      "Start= 0 ---- 399 ----terminator: False\n",
      "Start= 0 ---- 400 ----terminator: False\n",
      "Start= 0 ---- 401 ----terminator: False\n",
      "Start= 0 ---- 402 ----terminator: False\n",
      "Start= 0 ---- 403 ----terminator: False\n",
      "Start= 0 ---- 404 ----terminator: False\n",
      "Start= 0 ---- 405 ----terminator: False\n",
      "Start= 0 ---- 406 ----terminator: False\n",
      "Start= 0 ---- 407 ----terminator: False\n",
      "Start= 0 ---- 408 ----terminator: False\n",
      "Start= 0 ---- 409 ----terminator: False\n",
      "Start= 0 ---- 410 ----terminator: False\n",
      "Start= 0 ---- 411 ----terminator: False\n",
      "Start= 0 ---- 412 ----terminator: False\n"
     ]
    },
    {
     "name": "stdout",
     "output_type": "stream",
     "text": [
      "Start= 0 ---- 413 ----terminator: False\n",
      "Start= 0 ---- 414 ----terminator: False\n",
      "Start= 0 ---- 415 ----terminator: False\n",
      "Start= 0 ---- 416 ----terminator: False\n",
      "Start= 0 ---- 417 ----terminator: False\n",
      "Start= 0 ---- 418 ----terminator: False\n",
      "Start= 0 ---- 419 ----terminator: False\n",
      "Start= 0 ---- 420 ----terminator: False\n",
      "Start= 0 ---- 421 ----terminator: False\n",
      "Start= 0 ---- 422 ----terminator: False\n",
      "Start= 0 ---- 423 ----terminator: False\n",
      "Start= 0 ---- 424 ----terminator: False\n",
      "Start= 0 ---- 425 ----terminator: False\n",
      "Start= 0 ---- 426 ----terminator: False\n",
      "Start= 0 ---- 427 ----terminator: False\n",
      "Start= 0 ---- 428 ----terminator: False\n",
      "Start= 0 ---- 429 ----terminator: False\n",
      "Start= 0 ---- 430 ----terminator: False\n",
      "Start= 0 ---- 431 ----terminator: False\n",
      "Start= 0 ---- 432 ----terminator: False\n",
      "Start= 0 ---- 433 ----terminator: False\n",
      "Start= 0 ---- 434 ----terminator: False\n",
      "Start= 0 ---- 435 ----terminator: False\n",
      "Start= 0 ---- 436 ----terminator: False\n",
      "Start= 0 ---- 437 ----terminator: False\n",
      "Start= 0 ---- 438 ----terminator: False\n",
      "Start= 0 ---- 439 ----terminator: False\n",
      "Start= 0 ---- 440 ----terminator: False\n",
      "Start= 0 ---- 441 ----terminator: False\n",
      "Start= 0 ---- 442 ----terminator: False\n",
      "Start= 0 ---- 443 ----terminator: False\n",
      "Start= 0 ---- 444 ----terminator: False\n",
      "Start= 0 ---- 445 ----terminator: False\n",
      "Start= 0 ---- 446 ----terminator: False\n",
      "Start= 0 ---- 447 ----terminator: False\n",
      "Start= 0 ---- 448 ----terminator: False\n",
      "Start= 0 ---- 449 ----terminator: False\n",
      "Start= 0 ---- 450 ----terminator: False\n",
      "Start= 0 ---- 451 ----terminator: False\n",
      "Start= 0 ---- 452 ----terminator: False\n",
      "Start= 0 ---- 453 ----terminator: False\n",
      "Start= 0 ---- 454 ----terminator: False\n",
      "Start= 0 ---- 455 ----terminator: False\n",
      "Start= 0 ---- 456 ----terminator: False\n",
      "Start= 0 ---- 457 ----terminator: False\n",
      "Start= 0 ---- 458 ----terminator: False\n",
      "Start= 0 ---- 459 ----terminator: False\n",
      "Start= 0 ---- 460 ----terminator: False\n",
      "Start= 0 ---- 461 ----terminator: False\n",
      "Start= 0 ---- 462 ----terminator: False\n",
      "Start= 0 ---- 463 ----terminator: False\n",
      "Start= 0 ---- 464 ----terminator: False\n",
      "Start= 0 ---- 465 ----terminator: False\n",
      "Start= 0 ---- 466 ----terminator: False\n",
      "Start= 0 ---- 467 ----terminator: False\n",
      "Start= 0 ---- 468 ----terminator: False\n",
      "Start= 0 ---- 469 ----terminator: False\n",
      "Start= 0 ---- 470 ----terminator: False\n",
      "Start= 0 ---- 471 ----terminator: False\n",
      "Start= 0 ---- 472 ----terminator: False\n",
      "Start= 0 ---- 473 ----terminator: False\n",
      "Start= 0 ---- 474 ----terminator: False\n",
      "Start= 0 ---- 475 ----terminator: False\n",
      "Start= 0 ---- 476 ----terminator: False\n",
      "Start= 0 ---- 477 ----terminator: False\n",
      "Start= 0 ---- 478 ----terminator: False\n",
      "Start= 0 ---- 479 ----terminator: False\n",
      "Start= 0 ---- 480 ----terminator: False\n",
      "Start= 0 ---- 481 ----terminator: False\n",
      "Start= 0 ---- 482 ----terminator: False\n",
      "Start= 0 ---- 483 ----terminator: False\n",
      "Start= 0 ---- 484 ----terminator: False\n",
      "Start= 0 ---- 485 ----terminator: False\n",
      "Start= 0 ---- 486 ----terminator: False\n",
      "Start= 0 ---- 487 ----terminator: False\n",
      "Start= 0 ---- 488 ----terminator: False\n",
      "Start= 0 ---- 489 ----terminator: False\n",
      "Start= 0 ---- 490 ----terminator: False\n",
      "Start= 0 ---- 491 ----terminator: False\n",
      "Start= 0 ---- 492 ----terminator: False\n",
      "Start= 0 ---- 493 ----terminator: False\n",
      "Start= 0 ---- 494 ----terminator: False\n",
      "Start= 0 ---- 495 ----terminator: False\n",
      "Start= 0 ---- 496 ----terminator: False\n",
      "Start= 0 ---- 497 ----terminator: False\n",
      "Start= 0 ---- 498 ----terminator: False\n",
      "Start= 0 ---- 499 ----terminator: False\n",
      "Start= 0 ---- 500 ----terminator: False\n",
      "Start= 0 ---- 501 ----terminator: False\n",
      "Start= 0 ---- 502 ----terminator: False\n",
      "Start= 0 ---- 503 ----terminator: False\n",
      "Start= 0 ---- 504 ----terminator: False\n",
      "Start= 0 ---- 505 ----terminator: False\n",
      "Start= 0 ---- 506 ----terminator: False\n",
      "Start= 0 ---- 507 ----terminator: False\n",
      "Start= 0 ---- 508 ----terminator: False\n",
      "Start= 0 ---- 509 ----terminator: False\n",
      "Start= 0 ---- 510 ----terminator: False\n",
      "Start= 0 ---- 511 ----terminator: False\n",
      "Start= 0 ---- 512 ----terminator: False\n",
      "Start= 0 ---- 513 ----terminator: False\n",
      "Start= 0 ---- 514 ----terminator: False\n",
      "Start= 0 ---- 515 ----terminator: False\n",
      "Start= 0 ---- 516 ----terminator: False\n",
      "Start= 0 ---- 517 ----terminator: False\n",
      "Start= 0 ---- 518 ----terminator: False\n",
      "Start= 0 ---- 519 ----terminator: False\n",
      "Start= 0 ---- 520 ----terminator: False\n",
      "Start= 0 ---- 521 ----terminator: False\n",
      "Start= 0 ---- 522 ----terminator: False\n",
      "Start= 0 ---- 523 ----terminator: False\n",
      "Start= 0 ---- 524 ----terminator: False\n",
      "Start= 0 ---- 525 ----terminator: False\n",
      "Start= 0 ---- 526 ----terminator: False\n",
      "Start= 0 ---- 527 ----terminator: False\n",
      "Start= 0 ---- 528 ----terminator: False\n",
      "Start= 0 ---- 529 ----terminator: False\n",
      "Start= 0 ---- 530 ----terminator: False\n",
      "Start= 0 ---- 531 ----terminator: False\n",
      "Start= 0 ---- 532 ----terminator: False\n",
      "Start= 0 ---- 533 ----terminator: False\n",
      "Start= 0 ---- 534 ----terminator: False\n",
      "Start= 0 ---- 535 ----terminator: False\n",
      "Start= 0 ---- 536 ----terminator: False\n",
      "Start= 0 ---- 537 ----terminator: False\n",
      "Start= 0 ---- 538 ----terminator: False\n",
      "Start= 0 ---- 539 ----terminator: False\n",
      "Start= 0 ---- 540 ----terminator: False\n",
      "Start= 0 ---- 541 ----terminator: False\n",
      "Start= 0 ---- 542 ----terminator: False\n",
      "Start= 0 ---- 543 ----terminator: False\n",
      "Start= 0 ---- 544 ----terminator: False\n",
      "Start= 0 ---- 545 ----terminator: False\n",
      "Start= 0 ---- 546 ----terminator: False\n",
      "Start= 0 ---- 547 ----terminator: False\n",
      "Start= 0 ---- 548 ----terminator: False\n",
      "Start= 0 ---- 549 ----terminator: False\n",
      "Start= 0 ---- 550 ----terminator: False\n",
      "Start= 0 ---- 551 ----terminator: False\n",
      "Start= 0 ---- 552 ----terminator: False\n",
      "Start= 0 ---- 553 ----terminator: False\n",
      "Start= 0 ---- 554 ----terminator: False\n",
      "Start= 0 ---- 555 ----terminator: False\n",
      "Start= 0 ---- 556 ----terminator: False\n",
      "Start= 0 ---- 557 ----terminator: False\n",
      "Start= 0 ---- 558 ----terminator: False\n",
      "Start= 0 ---- 559 ----terminator: False\n",
      "Start= 0 ---- 560 ----terminator: False\n",
      "Start= 0 ---- 561 ----terminator: False\n",
      "Start= 0 ---- 562 ----terminator: False\n",
      "Start= 0 ---- 563 ----terminator: False\n",
      "Start= 0 ---- 564 ----terminator: False\n",
      "Start= 0 ---- 565 ----terminator: False\n",
      "Start= 0 ---- 566 ----terminator: False\n",
      "Start= 0 ---- 567 ----terminator: False\n",
      "Start= 0 ---- 568 ----terminator: False\n",
      "Start= 0 ---- 569 ----terminator: False\n",
      "Start= 0 ---- 570 ----terminator: False\n",
      "Start= 0 ---- 571 ----terminator: False\n",
      "Start= 0 ---- 572 ----terminator: False\n",
      "Start= 0 ---- 573 ----terminator: False\n",
      "Start= 0 ---- 574 ----terminator: False\n",
      "Start= 0 ---- 575 ----terminator: False\n",
      "Start= 0 ---- 576 ----terminator: False\n",
      "Start= 0 ---- 577 ----terminator: False\n",
      "Start= 0 ---- 578 ----terminator: False\n",
      "Start= 0 ---- 579 ----terminator: False\n",
      "Start= 0 ---- 580 ----terminator: False\n",
      "Start= 0 ---- 581 ----terminator: False\n",
      "Start= 0 ---- 582 ----terminator: False\n",
      "Start= 0 ---- 583 ----terminator: False\n",
      "Start= 0 ---- 584 ----terminator: False\n",
      "Start= 0 ---- 585 ----terminator: False\n",
      "Start= 0 ---- 586 ----terminator: False\n",
      "Start= 0 ---- 587 ----terminator: False\n",
      "Start= 0 ---- 588 ----terminator: False\n",
      "Start= 0 ---- 589 ----terminator: False\n",
      "Start= 0 ---- 590 ----terminator: False\n",
      "Start= 0 ---- 591 ----terminator: False\n",
      "Start= 0 ---- 592 ----terminator: False\n",
      "Start= 0 ---- 593 ----terminator: False\n",
      "Start= 0 ---- 594 ----terminator: False\n",
      "Start= 0 ---- 595 ----terminator: False\n",
      "Start= 0 ---- 596 ----terminator: False\n",
      "Start= 0 ---- 597 ----terminator: False\n",
      "Start= 0 ---- 598 ----terminator: False\n",
      "Start= 0 ---- 599 ----terminator: False\n",
      "Start= 0 ---- 600 ----terminator: False\n",
      "Start= 0 ---- 601 ----terminator: False\n",
      "Start= 0 ---- 602 ----terminator: False\n",
      "Start= 0 ---- 603 ----terminator: False\n",
      "Start= 0 ---- 604 ----terminator: False\n",
      "Start= 0 ---- 605 ----terminator: False\n",
      "Start= 0 ---- 606 ----terminator: False\n",
      "Start= 0 ---- 607 ----terminator: False\n",
      "Start= 0 ---- 608 ----terminator: False\n",
      "Start= 0 ---- 609 ----terminator: False\n",
      "Start= 0 ---- 610 ----terminator: False\n",
      "Start= 0 ---- 611 ----terminator: False\n",
      "Start= 0 ---- 612 ----terminator: False\n",
      "Start= 0 ---- 613 ----terminator: False\n",
      "Start= 0 ---- 614 ----terminator: False\n",
      "Start= 0 ---- 615 ----terminator: False\n",
      "Start= 0 ---- 616 ----terminator: False\n",
      "Start= 0 ---- 617 ----terminator: False\n"
     ]
    },
    {
     "name": "stdout",
     "output_type": "stream",
     "text": [
      "Start= 0 ---- 618 ----terminator: False\n",
      "Start= 0 ---- 619 ----terminator: False\n",
      "Start= 0 ---- 620 ----terminator: False\n",
      "Start= 0 ---- 621 ----terminator: False\n",
      "Start= 0 ---- 622 ----terminator: False\n",
      "Start= 0 ---- 623 ----terminator: False\n",
      "Start= 0 ---- 624 ----terminator: False\n",
      "Start= 0 ---- 625 ----terminator: False\n",
      "Start= 0 ---- 626 ----terminator: False\n",
      "Start= 0 ---- 627 ----terminator: False\n",
      "Start= 0 ---- 628 ----terminator: False\n",
      "Start= 0 ---- 629 ----terminator: False\n",
      "Start= 0 ---- 630 ----terminator: False\n",
      "Start= 0 ---- 631 ----terminator: False\n",
      "Start= 0 ---- 632 ----terminator: False\n",
      "Start= 0 ---- 633 ----terminator: False\n",
      "Start= 0 ---- 634 ----terminator: False\n",
      "Start= 0 ---- 635 ----terminator: False\n",
      "Start= 0 ---- 636 ----terminator: False\n",
      "Start= 0 ---- 637 ----terminator: False\n",
      "Start= 0 ---- 638 ----terminator: False\n",
      "Start= 0 ---- 639 ----terminator: False\n",
      "Start= 0 ---- 640 ----terminator: False\n",
      "Start= 0 ---- 641 ----terminator: False\n",
      "Start= 0 ---- 642 ----terminator: False\n",
      "Start= 0 ---- 643 ----terminator: False\n",
      "Start= 0 ---- 644 ----terminator: False\n",
      "Start= 0 ---- 645 ----terminator: False\n",
      "Start= 0 ---- 646 ----terminator: False\n",
      "Start= 0 ---- 647 ----terminator: False\n",
      "Start= 0 ---- 648 ----terminator: False\n",
      "Start= 0 ---- 649 ----terminator: False\n",
      "Start= 0 ---- 650 ----terminator: False\n",
      "Start= 0 ---- 651 ----terminator: False\n",
      "Start= 0 ---- 652 ----terminator: False\n",
      "Start= 0 ---- 653 ----terminator: False\n",
      "Start= 0 ---- 654 ----terminator: False\n",
      "Start= 0 ---- 655 ----terminator: False\n",
      "Start= 0 ---- 656 ----terminator: False\n",
      "Start= 0 ---- 657 ----terminator: False\n",
      "Start= 0 ---- 658 ----terminator: False\n",
      "Start= 0 ---- 659 ----terminator: False\n",
      "Start= 0 ---- 660 ----terminator: False\n",
      "Start= 0 ---- 661 ----terminator: False\n",
      "Start= 0 ---- 662 ----terminator: False\n",
      "Start= 0 ---- 663 ----terminator: False\n",
      "Start= 0 ---- 664 ----terminator: False\n",
      "Start= 0 ---- 665 ----terminator: False\n",
      "Start= 0 ---- 666 ----terminator: False\n",
      "Start= 0 ---- 667 ----terminator: False\n",
      "Start= 0 ---- 668 ----terminator: False\n",
      "Start= 0 ---- 669 ----terminator: False\n",
      "Start= 0 ---- 670 ----terminator: False\n",
      "Start= 0 ---- 671 ----terminator: False\n",
      "Start= 0 ---- 672 ----terminator: False\n",
      "Start= 0 ---- 673 ----terminator: False\n",
      "Start= 0 ---- 674 ----terminator: False\n",
      "Start= 0 ---- 675 ----terminator: False\n",
      "Start= 0 ---- 676 ----terminator: False\n",
      "Start= 0 ---- 677 ----terminator: False\n",
      "Start= 0 ---- 678 ----terminator: False\n",
      "Start= 0 ---- 679 ----terminator: False\n",
      "Start= 0 ---- 680 ----terminator: False\n",
      "Start= 0 ---- 681 ----terminator: False\n",
      "Start= 0 ---- 682 ----terminator: False\n",
      "Start= 0 ---- 683 ----terminator: False\n",
      "Start= 0 ---- 684 ----terminator: False\n",
      "Start= 0 ---- 685 ----terminator: False\n",
      "Start= 0 ---- 686 ----terminator: False\n",
      "Start= 0 ---- 687 ----terminator: False\n",
      "Start= 0 ---- 688 ----terminator: False\n",
      "Start= 0 ---- 689 ----terminator: False\n",
      "Start= 0 ---- 690 ----terminator: False\n",
      "Start= 0 ---- 691 ----terminator: False\n",
      "Start= 0 ---- 692 ----terminator: False\n",
      "Start= 0 ---- 693 ----terminator: False\n",
      "Start= 0 ---- 694 ----terminator: False\n",
      "Start= 0 ---- 695 ----terminator: False\n",
      "Start= 0 ---- 696 ----terminator: False\n",
      "Start= 0 ---- 697 ----terminator: False\n",
      "Start= 0 ---- 698 ----terminator: False\n",
      "Start= 0 ---- 699 ----terminator: False\n",
      "Start= 0 ---- 700 ----terminator: False\n",
      "Start= 0 ---- 701 ----terminator: False\n",
      "Start= 0 ---- 702 ----terminator: False\n",
      "Start= 0 ---- 703 ----terminator: False\n",
      "Start= 0 ---- 704 ----terminator: False\n",
      "Start= 0 ---- 705 ----terminator: False\n",
      "Start= 0 ---- 706 ----terminator: False\n",
      "Start= 0 ---- 707 ----terminator: False\n",
      "Start= 0 ---- 708 ----terminator: False\n",
      "Start= 0 ---- 709 ----terminator: False\n",
      "Start= 0 ---- 710 ----terminator: False\n",
      "Start= 0 ---- 711 ----terminator: False\n",
      "Start= 0 ---- 712 ----terminator: False\n",
      "Start= 0 ---- 713 ----terminator: False\n",
      "Start= 0 ---- 714 ----terminator: False\n",
      "Start= 0 ---- 715 ----terminator: False\n",
      "Start= 0 ---- 716 ----terminator: False\n",
      "Start= 0 ---- 717 ----terminator: False\n",
      "Start= 0 ---- 718 ----terminator: False\n",
      "Start= 0 ---- 719 ----terminator: False\n",
      "CPU times: user 2min 29s, sys: 19min 32s, total: 22min 1s\n",
      "Wall time: 10h 26min 16s\n"
     ]
    }
   ],
   "source": [
    "%%time\n",
    "graphname=\"G7M02\"\n",
    "G=Graph([(\"0\",\"1\"),(\"1\",\"2\"),(\"2\",\"3\"),(\"3\",\"4\"),(\"4\",\"5\"),(\"5\",\"6\"),(\"6\",\"0\"),(\"0\",\"2\")], multiedges=True)\n",
    "\n",
    "data=unpickle(graphname) \n",
    "\n",
    "dic_l=analyse_graphname(G,data)\n",
    "# Total number of stability conditions 720\n",
    "# Number of polytopes of a given (dimension:number of at dim): {6: 720}"
   ]
  },
  {
   "cell_type": "code",
   "execution_count": 24,
   "metadata": {},
   "outputs": [
    {
     "ename": "FileNotFoundError",
     "evalue": "[Errno 2] No such file or directory: 'examples/G7M02/phi_analysis/dic_l.pkl'",
     "output_type": "error",
     "traceback": [
      "\u001b[0;31m---------------------------------------------------------------------------\u001b[0m",
      "\u001b[0;31mFileNotFoundError\u001b[0m                         Traceback (most recent call last)",
      "\u001b[0;32m<ipython-input-24-7a52799412d9>\u001b[0m in \u001b[0;36m<module>\u001b[0;34m\u001b[0m\n\u001b[1;32m      1\u001b[0m \u001b[0;31m#Store list of dictionaries\u001b[0m\u001b[0;34m\u001b[0m\u001b[0;34m\u001b[0m\u001b[0;34m\u001b[0m\u001b[0m\n\u001b[0;32m----> 2\u001b[0;31m \u001b[0mpickle_dic_l\u001b[0m\u001b[0;34m(\u001b[0m\u001b[0mgraphname\u001b[0m\u001b[0;34m,\u001b[0m\u001b[0mdic_l\u001b[0m\u001b[0;34m)\u001b[0m\u001b[0;34m\u001b[0m\u001b[0;34m\u001b[0m\u001b[0m\n\u001b[0m",
      "\u001b[0;32m<ipython-input-16-6bfda285666a>\u001b[0m in \u001b[0;36mpickle_dic_l\u001b[0;34m(graphname, dic_l)\u001b[0m\n\u001b[1;32m      2\u001b[0m     \u001b[0;31m# Pickle the list\u001b[0m\u001b[0;34m\u001b[0m\u001b[0;34m\u001b[0m\u001b[0;34m\u001b[0m\u001b[0m\n\u001b[1;32m      3\u001b[0m     \u001b[0mfilename\u001b[0m\u001b[0;34m=\u001b[0m\u001b[0;34mf\"examples/{graphname}/phi_analysis/dic_l.pkl\"\u001b[0m\u001b[0;34m\u001b[0m\u001b[0;34m\u001b[0m\u001b[0m\n\u001b[0;32m----> 4\u001b[0;31m     \u001b[0;32mwith\u001b[0m \u001b[0mopen\u001b[0m\u001b[0;34m(\u001b[0m\u001b[0mfilename\u001b[0m\u001b[0;34m,\u001b[0m \u001b[0;34m'wb'\u001b[0m\u001b[0;34m)\u001b[0m \u001b[0;32mas\u001b[0m \u001b[0mf\u001b[0m\u001b[0;34m:\u001b[0m\u001b[0;34m\u001b[0m\u001b[0;34m\u001b[0m\u001b[0m\n\u001b[0m\u001b[1;32m      5\u001b[0m         \u001b[0mpickle\u001b[0m\u001b[0;34m.\u001b[0m\u001b[0mdump\u001b[0m\u001b[0;34m(\u001b[0m\u001b[0mdic_l\u001b[0m\u001b[0;34m,\u001b[0m \u001b[0mf\u001b[0m\u001b[0;34m)\u001b[0m\u001b[0;34m\u001b[0m\u001b[0;34m\u001b[0m\u001b[0m\n\u001b[1;32m      6\u001b[0m     \u001b[0;32mreturn\u001b[0m\u001b[0;34m\u001b[0m\u001b[0;34m\u001b[0m\u001b[0m\n",
      "\u001b[0;31mFileNotFoundError\u001b[0m: [Errno 2] No such file or directory: 'examples/G7M02/phi_analysis/dic_l.pkl'"
     ]
    }
   ],
   "source": [
    "#Store list of dictionaries\n",
    "pickle_dic_l(graphname,dic_l)"
   ]
  },
  {
   "cell_type": "code",
   "execution_count": 25,
   "metadata": {},
   "outputs": [
    {
     "name": "stdout",
     "output_type": "stream",
     "text": [
      "Total number of stability conditions 720\n",
      "Number of polytopes of a given (dimension:number of at dim): {6: 720}\n",
      "\n"
     ]
    }
   ],
   "source": [
    "analyse_table(dic_l)"
   ]
  },
  {
   "cell_type": "markdown",
   "metadata": {
    "jp-MarkdownHeadingCollapsed": true,
    "tags": []
   },
   "source": [
    "### $(k_1,k_2,k_3)=(1,3,4)$"
   ]
  },
  {
   "cell_type": "code",
   "execution_count": 26,
   "metadata": {},
   "outputs": [
    {
     "name": "stdout",
     "output_type": "stream",
     "text": [
      "Start= 0 ---- 0 ----terminator: False\n",
      "Start= 0 ---- 1 ----terminator: False\n",
      "Start= 0 ---- 2 ----terminator: False\n",
      "Start= 0 ---- 3 ----terminator: False\n",
      "Start= 0 ---- 4 ----terminator: False\n",
      "Start= 0 ---- 5 ----terminator: False\n",
      "Start= 0 ---- 6 ----terminator: False\n",
      "Start= 0 ---- 7 ----terminator: False\n",
      "Start= 0 ---- 8 ----terminator: False\n",
      "Start= 0 ---- 9 ----terminator: False\n",
      "Start= 0 ---- 10 ----terminator: False\n",
      "Start= 0 ---- 11 ----terminator: False\n",
      "Start= 0 ---- 12 ----terminator: False\n",
      "Start= 0 ---- 13 ----terminator: False\n",
      "Start= 0 ---- 14 ----terminator: False\n",
      "Start= 0 ---- 15 ----terminator: False\n",
      "Start= 0 ---- 16 ----terminator: False\n",
      "Start= 0 ---- 17 ----terminator: False\n",
      "Start= 0 ---- 18 ----terminator: False\n",
      "Start= 0 ---- 19 ----terminator: False\n",
      "Start= 0 ---- 20 ----terminator: False\n",
      "Start= 0 ---- 21 ----terminator: False\n",
      "Start= 0 ---- 22 ----terminator: False\n",
      "Start= 0 ---- 23 ----terminator: False\n",
      "Start= 0 ---- 24 ----terminator: False\n",
      "Start= 0 ---- 25 ----terminator: False\n",
      "Start= 0 ---- 26 ----terminator: False\n",
      "Start= 0 ---- 27 ----terminator: False\n",
      "Start= 0 ---- 28 ----terminator: False\n",
      "Start= 0 ---- 29 ----terminator: False\n",
      "Start= 0 ---- 30 ----terminator: False\n",
      "Start= 0 ---- 31 ----terminator: False\n",
      "Start= 0 ---- 32 ----terminator: False\n",
      "Start= 0 ---- 33 ----terminator: False\n",
      "Start= 0 ---- 34 ----terminator: False\n",
      "Start= 0 ---- 35 ----terminator: False\n",
      "Start= 0 ---- 36 ----terminator: False\n",
      "Start= 0 ---- 37 ----terminator: False\n",
      "Start= 0 ---- 38 ----terminator: False\n",
      "Start= 0 ---- 39 ----terminator: False\n",
      "Start= 0 ---- 40 ----terminator: False\n",
      "Start= 0 ---- 41 ----terminator: False\n",
      "Start= 0 ---- 42 ----terminator: False\n",
      "Start= 0 ---- 43 ----terminator: False\n",
      "Start= 0 ---- 44 ----terminator: False\n",
      "Start= 0 ---- 45 ----terminator: False\n",
      "Start= 0 ---- 46 ----terminator: False\n",
      "Start= 0 ---- 47 ----terminator: False\n",
      "Start= 0 ---- 48 ----terminator: False\n",
      "Start= 0 ---- 49 ----terminator: False\n",
      "Start= 0 ---- 50 ----terminator: False\n",
      "Start= 0 ---- 51 ----terminator: False\n",
      "Start= 0 ---- 52 ----terminator: False\n",
      "Start= 0 ---- 53 ----terminator: False\n",
      "Start= 0 ---- 54 ----terminator: False\n",
      "Start= 0 ---- 55 ----terminator: False\n",
      "Start= 0 ---- 56 ----terminator: False\n",
      "Start= 0 ---- 57 ----terminator: False\n",
      "Start= 0 ---- 58 ----terminator: False\n",
      "Start= 0 ---- 59 ----terminator: False\n",
      "Start= 0 ---- 60 ----terminator: False\n",
      "Start= 0 ---- 61 ----terminator: False\n",
      "Start= 0 ---- 62 ----terminator: False\n",
      "Start= 0 ---- 63 ----terminator: False\n",
      "Start= 0 ---- 64 ----terminator: False\n",
      "Start= 0 ---- 65 ----terminator: False\n",
      "Start= 0 ---- 66 ----terminator: False\n",
      "Start= 0 ---- 67 ----terminator: False\n",
      "Start= 0 ---- 68 ----terminator: False\n",
      "Start= 0 ---- 69 ----terminator: False\n",
      "Start= 0 ---- 70 ----terminator: False\n",
      "Start= 0 ---- 71 ----terminator: False\n",
      "Start= 0 ---- 72 ----terminator: False\n",
      "Start= 0 ---- 73 ----terminator: False\n",
      "Start= 0 ---- 74 ----terminator: False\n",
      "Start= 0 ---- 75 ----terminator: False\n",
      "Start= 0 ---- 76 ----terminator: False\n",
      "Start= 0 ---- 77 ----terminator: False\n",
      "Start= 0 ---- 78 ----terminator: False\n",
      "Start= 0 ---- 79 ----terminator: False\n",
      "Start= 0 ---- 80 ----terminator: False\n",
      "Start= 0 ---- 81 ----terminator: False\n",
      "Start= 0 ---- 82 ----terminator: False\n",
      "Start= 0 ---- 83 ----terminator: False\n",
      "Start= 0 ---- 84 ----terminator: False\n",
      "Start= 0 ---- 85 ----terminator: False\n",
      "Start= 0 ---- 86 ----terminator: False\n",
      "Start= 0 ---- 87 ----terminator: False\n",
      "Start= 0 ---- 88 ----terminator: False\n",
      "Start= 0 ---- 89 ----terminator: False\n",
      "Start= 0 ---- 90 ----terminator: False\n",
      "Start= 0 ---- 91 ----terminator: False\n",
      "Start= 0 ---- 92 ----terminator: False\n",
      "Start= 0 ---- 93 ----terminator: False\n",
      "Start= 0 ---- 94 ----terminator: False\n",
      "Start= 0 ---- 95 ----terminator: False\n",
      "Start= 0 ---- 96 ----terminator: False\n",
      "Start= 0 ---- 97 ----terminator: False\n",
      "Start= 0 ---- 98 ----terminator: False\n",
      "Start= 0 ---- 99 ----terminator: False\n",
      "Start= 0 ---- 100 ----terminator: False\n",
      "Start= 0 ---- 101 ----terminator: False\n",
      "Start= 0 ---- 102 ----terminator: False\n",
      "Start= 0 ---- 103 ----terminator: False\n",
      "Start= 0 ---- 104 ----terminator: False\n",
      "Start= 0 ---- 105 ----terminator: False\n",
      "Start= 0 ---- 106 ----terminator: False\n",
      "Start= 0 ---- 107 ----terminator: False\n",
      "Start= 0 ---- 108 ----terminator: False\n",
      "Start= 0 ---- 109 ----terminator: False\n",
      "Start= 0 ---- 110 ----terminator: False\n",
      "Start= 0 ---- 111 ----terminator: False\n",
      "Start= 0 ---- 112 ----terminator: False\n",
      "Start= 0 ---- 113 ----terminator: False\n",
      "Start= 0 ---- 114 ----terminator: False\n",
      "Start= 0 ---- 115 ----terminator: False\n",
      "Start= 0 ---- 116 ----terminator: False\n",
      "Start= 0 ---- 117 ----terminator: False\n",
      "Start= 0 ---- 118 ----terminator: False\n",
      "Start= 0 ---- 119 ----terminator: False\n",
      "Start= 0 ---- 120 ----terminator: False\n",
      "Start= 0 ---- 121 ----terminator: False\n",
      "Start= 0 ---- 122 ----terminator: False\n",
      "Start= 0 ---- 123 ----terminator: False\n",
      "Start= 0 ---- 124 ----terminator: False\n",
      "Start= 0 ---- 125 ----terminator: False\n",
      "Start= 0 ---- 126 ----terminator: False\n",
      "Start= 0 ---- 127 ----terminator: False\n",
      "Start= 0 ---- 128 ----terminator: False\n",
      "Start= 0 ---- 129 ----terminator: False\n",
      "Start= 0 ---- 130 ----terminator: False\n",
      "Start= 0 ---- 131 ----terminator: False\n",
      "Start= 0 ---- 132 ----terminator: False\n",
      "Start= 0 ---- 133 ----terminator: False\n",
      "Start= 0 ---- 134 ----terminator: False\n",
      "Start= 0 ---- 135 ----terminator: False\n",
      "Start= 0 ---- 136 ----terminator: False\n",
      "Start= 0 ---- 137 ----terminator: False\n",
      "Start= 0 ---- 138 ----terminator: False\n",
      "Start= 0 ---- 139 ----terminator: False\n",
      "Start= 0 ---- 140 ----terminator: False\n",
      "Start= 0 ---- 141 ----terminator: False\n",
      "Start= 0 ---- 142 ----terminator: False\n",
      "Start= 0 ---- 143 ----terminator: False\n",
      "Start= 0 ---- 144 ----terminator: False\n",
      "Start= 0 ---- 145 ----terminator: False\n",
      "Start= 0 ---- 146 ----terminator: False\n",
      "Start= 0 ---- 147 ----terminator: False\n",
      "Start= 0 ---- 148 ----terminator: False\n",
      "Start= 0 ---- 149 ----terminator: False\n",
      "Start= 0 ---- 150 ----terminator: False\n",
      "Start= 0 ---- 151 ----terminator: False\n",
      "Start= 0 ---- 152 ----terminator: False\n",
      "Start= 0 ---- 153 ----terminator: False\n",
      "Start= 0 ---- 154 ----terminator: False\n",
      "Start= 0 ---- 155 ----terminator: False\n",
      "Start= 0 ---- 156 ----terminator: False\n",
      "Start= 0 ---- 157 ----terminator: False\n",
      "Start= 0 ---- 158 ----terminator: False\n",
      "Start= 0 ---- 159 ----terminator: False\n",
      "Start= 0 ---- 160 ----terminator: False\n",
      "Start= 0 ---- 161 ----terminator: False\n",
      "Start= 0 ---- 162 ----terminator: False\n",
      "Start= 0 ---- 163 ----terminator: False\n",
      "Start= 0 ---- 164 ----terminator: False\n",
      "Start= 0 ---- 165 ----terminator: False\n",
      "Start= 0 ---- 166 ----terminator: False\n",
      "Start= 0 ---- 167 ----terminator: False\n",
      "Start= 0 ---- 168 ----terminator: False\n",
      "Start= 0 ---- 169 ----terminator: False\n",
      "Start= 0 ---- 170 ----terminator: False\n",
      "Start= 0 ---- 171 ----terminator: False\n",
      "Start= 0 ---- 172 ----terminator: False\n",
      "Start= 0 ---- 173 ----terminator: False\n",
      "Start= 0 ---- 174 ----terminator: False\n",
      "Start= 0 ---- 175 ----terminator: False\n",
      "Start= 0 ---- 176 ----terminator: False\n",
      "Start= 0 ---- 177 ----terminator: False\n",
      "Start= 0 ---- 178 ----terminator: False\n",
      "Start= 0 ---- 179 ----terminator: False\n",
      "Start= 0 ---- 180 ----terminator: False\n",
      "Start= 0 ---- 181 ----terminator: False\n",
      "Start= 0 ---- 182 ----terminator: False\n",
      "Start= 0 ---- 183 ----terminator: False\n",
      "Start= 0 ---- 184 ----terminator: False\n",
      "Start= 0 ---- 185 ----terminator: False\n",
      "Start= 0 ---- 186 ----terminator: False\n",
      "Start= 0 ---- 187 ----terminator: False\n",
      "Start= 0 ---- 188 ----terminator: False\n",
      "Start= 0 ---- 189 ----terminator: False\n",
      "Start= 0 ---- 190 ----terminator: False\n",
      "Start= 0 ---- 191 ----terminator: False\n",
      "Start= 0 ---- 192 ----terminator: False\n",
      "Start= 0 ---- 193 ----terminator: False\n",
      "Start= 0 ---- 194 ----terminator: False\n",
      "Start= 0 ---- 195 ----terminator: False\n",
      "Start= 0 ---- 196 ----terminator: False\n",
      "Start= 0 ---- 197 ----terminator: False\n",
      "Start= 0 ---- 198 ----terminator: False\n",
      "Start= 0 ---- 199 ----terminator: False\n",
      "Start= 0 ---- 200 ----terminator: False\n",
      "Start= 0 ---- 201 ----terminator: False\n",
      "Start= 0 ---- 202 ----terminator: False\n",
      "Start= 0 ---- 203 ----terminator: False\n",
      "Start= 0 ---- 204 ----terminator: False\n",
      "Start= 0 ---- 205 ----terminator: False\n",
      "Start= 0 ---- 206 ----terminator: False\n",
      "Start= 0 ---- 207 ----terminator: False\n"
     ]
    },
    {
     "name": "stdout",
     "output_type": "stream",
     "text": [
      "Start= 0 ---- 208 ----terminator: False\n",
      "Start= 0 ---- 209 ----terminator: False\n",
      "Start= 0 ---- 210 ----terminator: False\n",
      "Start= 0 ---- 211 ----terminator: False\n",
      "Start= 0 ---- 212 ----terminator: False\n",
      "Start= 0 ---- 213 ----terminator: False\n",
      "Start= 0 ---- 214 ----terminator: False\n",
      "Start= 0 ---- 215 ----terminator: False\n",
      "Start= 0 ---- 216 ----terminator: False\n",
      "Start= 0 ---- 217 ----terminator: False\n",
      "Start= 0 ---- 218 ----terminator: False\n",
      "Start= 0 ---- 219 ----terminator: False\n",
      "Start= 0 ---- 220 ----terminator: False\n",
      "Start= 0 ---- 221 ----terminator: False\n",
      "Start= 0 ---- 222 ----terminator: False\n",
      "Start= 0 ---- 223 ----terminator: False\n",
      "Start= 0 ---- 224 ----terminator: False\n",
      "Start= 0 ---- 225 ----terminator: False\n",
      "Start= 0 ---- 226 ----terminator: False\n",
      "Start= 0 ---- 227 ----terminator: False\n",
      "Start= 0 ---- 228 ----terminator: False\n",
      "Start= 0 ---- 229 ----terminator: False\n",
      "Start= 0 ---- 230 ----terminator: False\n",
      "Start= 0 ---- 231 ----terminator: False\n",
      "Start= 0 ---- 232 ----terminator: False\n",
      "Start= 0 ---- 233 ----terminator: False\n",
      "Start= 0 ---- 234 ----terminator: False\n",
      "Start= 0 ---- 235 ----terminator: False\n",
      "Start= 0 ---- 236 ----terminator: False\n",
      "Start= 0 ---- 237 ----terminator: False\n",
      "Start= 0 ---- 238 ----terminator: False\n",
      "Start= 0 ---- 239 ----terminator: False\n",
      "Start= 0 ---- 240 ----terminator: False\n",
      "Start= 0 ---- 241 ----terminator: False\n",
      "Start= 0 ---- 242 ----terminator: False\n",
      "Start= 0 ---- 243 ----terminator: False\n",
      "Start= 0 ---- 244 ----terminator: False\n",
      "Start= 0 ---- 245 ----terminator: False\n",
      "Start= 0 ---- 246 ----terminator: False\n",
      "Start= 0 ---- 247 ----terminator: False\n",
      "Start= 0 ---- 248 ----terminator: False\n",
      "Start= 0 ---- 249 ----terminator: False\n",
      "Start= 0 ---- 250 ----terminator: False\n",
      "Start= 0 ---- 251 ----terminator: False\n",
      "Start= 0 ---- 252 ----terminator: False\n",
      "Start= 0 ---- 253 ----terminator: False\n",
      "Start= 0 ---- 254 ----terminator: False\n",
      "Start= 0 ---- 255 ----terminator: False\n",
      "Start= 0 ---- 256 ----terminator: False\n",
      "Start= 0 ---- 257 ----terminator: False\n",
      "Start= 0 ---- 258 ----terminator: False\n",
      "Start= 0 ---- 259 ----terminator: False\n",
      "Start= 0 ---- 260 ----terminator: False\n",
      "Start= 0 ---- 261 ----terminator: False\n",
      "Start= 0 ---- 262 ----terminator: False\n",
      "Start= 0 ---- 263 ----terminator: False\n",
      "Start= 0 ---- 264 ----terminator: False\n",
      "Start= 0 ---- 265 ----terminator: False\n",
      "Start= 0 ---- 266 ----terminator: False\n",
      "Start= 0 ---- 267 ----terminator: False\n",
      "Start= 0 ---- 268 ----terminator: False\n",
      "Start= 0 ---- 269 ----terminator: False\n",
      "Start= 0 ---- 270 ----terminator: False\n",
      "Start= 0 ---- 271 ----terminator: False\n",
      "Start= 0 ---- 272 ----terminator: False\n",
      "Start= 0 ---- 273 ----terminator: False\n",
      "Start= 0 ---- 274 ----terminator: False\n",
      "Start= 0 ---- 275 ----terminator: False\n",
      "Start= 0 ---- 276 ----terminator: False\n",
      "Start= 0 ---- 277 ----terminator: False\n",
      "Start= 0 ---- 278 ----terminator: False\n",
      "Start= 0 ---- 279 ----terminator: False\n",
      "Start= 0 ---- 280 ----terminator: False\n",
      "Start= 0 ---- 281 ----terminator: False\n",
      "Start= 0 ---- 282 ----terminator: False\n",
      "Start= 0 ---- 283 ----terminator: False\n",
      "Start= 0 ---- 284 ----terminator: False\n",
      "Start= 0 ---- 285 ----terminator: False\n",
      "Start= 0 ---- 286 ----terminator: False\n",
      "Start= 0 ---- 287 ----terminator: False\n",
      "Start= 0 ---- 288 ----terminator: False\n",
      "Start= 0 ---- 289 ----terminator: False\n",
      "Start= 0 ---- 290 ----terminator: False\n",
      "Start= 0 ---- 291 ----terminator: False\n",
      "Start= 0 ---- 292 ----terminator: False\n",
      "Start= 0 ---- 293 ----terminator: False\n",
      "Start= 0 ---- 294 ----terminator: False\n",
      "Start= 0 ---- 295 ----terminator: False\n",
      "Start= 0 ---- 296 ----terminator: False\n",
      "Start= 0 ---- 297 ----terminator: False\n",
      "Start= 0 ---- 298 ----terminator: False\n",
      "Start= 0 ---- 299 ----terminator: False\n",
      "Start= 0 ---- 300 ----terminator: False\n",
      "Start= 0 ---- 301 ----terminator: False\n",
      "Start= 0 ---- 302 ----terminator: False\n",
      "Start= 0 ---- 303 ----terminator: False\n",
      "Start= 0 ---- 304 ----terminator: False\n",
      "Start= 0 ---- 305 ----terminator: False\n",
      "Start= 0 ---- 306 ----terminator: False\n",
      "Start= 0 ---- 307 ----terminator: False\n",
      "Start= 0 ---- 308 ----terminator: False\n",
      "Start= 0 ---- 309 ----terminator: False\n",
      "Start= 0 ---- 310 ----terminator: False\n",
      "Start= 0 ---- 311 ----terminator: False\n",
      "Start= 0 ---- 312 ----terminator: False\n",
      "Start= 0 ---- 313 ----terminator: False\n",
      "Start= 0 ---- 314 ----terminator: False\n",
      "Start= 0 ---- 315 ----terminator: False\n",
      "Start= 0 ---- 316 ----terminator: False\n",
      "Start= 0 ---- 317 ----terminator: False\n",
      "Start= 0 ---- 318 ----terminator: False\n",
      "Start= 0 ---- 319 ----terminator: False\n",
      "Start= 0 ---- 320 ----terminator: False\n",
      "Start= 0 ---- 321 ----terminator: False\n",
      "Start= 0 ---- 322 ----terminator: False\n",
      "Start= 0 ---- 323 ----terminator: False\n",
      "Start= 0 ---- 324 ----terminator: False\n",
      "Start= 0 ---- 325 ----terminator: False\n",
      "Start= 0 ---- 326 ----terminator: False\n",
      "Start= 0 ---- 327 ----terminator: False\n",
      "Start= 0 ---- 328 ----terminator: False\n",
      "Start= 0 ---- 329 ----terminator: False\n",
      "Start= 0 ---- 330 ----terminator: False\n",
      "Start= 0 ---- 331 ----terminator: False\n",
      "Start= 0 ---- 332 ----terminator: False\n",
      "Start= 0 ---- 333 ----terminator: False\n",
      "Start= 0 ---- 334 ----terminator: False\n",
      "Start= 0 ---- 335 ----terminator: False\n",
      "Start= 0 ---- 336 ----terminator: False\n",
      "Start= 0 ---- 337 ----terminator: False\n",
      "Start= 0 ---- 338 ----terminator: False\n",
      "Start= 0 ---- 339 ----terminator: False\n",
      "Start= 0 ---- 340 ----terminator: False\n",
      "Start= 0 ---- 341 ----terminator: False\n",
      "Start= 0 ---- 342 ----terminator: False\n",
      "Start= 0 ---- 343 ----terminator: False\n",
      "Start= 0 ---- 344 ----terminator: False\n",
      "Start= 0 ---- 345 ----terminator: False\n",
      "Start= 0 ---- 346 ----terminator: False\n",
      "Start= 0 ---- 347 ----terminator: False\n",
      "Start= 0 ---- 348 ----terminator: False\n",
      "Start= 0 ---- 349 ----terminator: False\n",
      "Start= 0 ---- 350 ----terminator: False\n",
      "Start= 0 ---- 351 ----terminator: False\n",
      "Start= 0 ---- 352 ----terminator: False\n",
      "Start= 0 ---- 353 ----terminator: False\n",
      "Start= 0 ---- 354 ----terminator: False\n",
      "Start= 0 ---- 355 ----terminator: False\n",
      "Start= 0 ---- 356 ----terminator: False\n",
      "Start= 0 ---- 357 ----terminator: False\n",
      "Start= 0 ---- 358 ----terminator: False\n",
      "Start= 0 ---- 359 ----terminator: False\n",
      "Start= 0 ---- 360 ----terminator: False\n",
      "Start= 0 ---- 361 ----terminator: False\n",
      "Start= 0 ---- 362 ----terminator: False\n",
      "Start= 0 ---- 363 ----terminator: False\n",
      "Start= 0 ---- 364 ----terminator: False\n",
      "Start= 0 ---- 365 ----terminator: False\n",
      "Start= 0 ---- 366 ----terminator: False\n",
      "Start= 0 ---- 367 ----terminator: False\n",
      "Start= 0 ---- 368 ----terminator: False\n",
      "Start= 0 ---- 369 ----terminator: False\n",
      "Start= 0 ---- 370 ----terminator: False\n",
      "Start= 0 ---- 371 ----terminator: False\n",
      "Start= 0 ---- 372 ----terminator: False\n",
      "Start= 0 ---- 373 ----terminator: False\n",
      "Start= 0 ---- 374 ----terminator: False\n",
      "Start= 0 ---- 375 ----terminator: False\n",
      "Start= 0 ---- 376 ----terminator: False\n",
      "Start= 0 ---- 377 ----terminator: False\n",
      "Start= 0 ---- 378 ----terminator: False\n",
      "Start= 0 ---- 379 ----terminator: False\n",
      "Start= 0 ---- 380 ----terminator: False\n",
      "Start= 0 ---- 381 ----terminator: False\n",
      "Start= 0 ---- 382 ----terminator: False\n",
      "Start= 0 ---- 383 ----terminator: False\n",
      "Start= 0 ---- 384 ----terminator: False\n",
      "Start= 0 ---- 385 ----terminator: False\n",
      "Start= 0 ---- 386 ----terminator: False\n",
      "Start= 0 ---- 387 ----terminator: False\n",
      "Start= 0 ---- 388 ----terminator: False\n",
      "Start= 0 ---- 389 ----terminator: False\n",
      "Start= 0 ---- 390 ----terminator: False\n",
      "Start= 0 ---- 391 ----terminator: False\n",
      "Start= 0 ---- 392 ----terminator: False\n",
      "Start= 0 ---- 393 ----terminator: False\n",
      "Start= 0 ---- 394 ----terminator: False\n",
      "Start= 0 ---- 395 ----terminator: False\n",
      "Start= 0 ---- 396 ----terminator: False\n",
      "Start= 0 ---- 397 ----terminator: False\n",
      "Start= 0 ---- 398 ----terminator: False\n",
      "Start= 0 ---- 399 ----terminator: False\n",
      "Start= 0 ---- 400 ----terminator: False\n",
      "Start= 0 ---- 401 ----terminator: False\n",
      "Start= 0 ---- 402 ----terminator: False\n",
      "Start= 0 ---- 403 ----terminator: False\n",
      "Start= 0 ---- 404 ----terminator: False\n",
      "Start= 0 ---- 405 ----terminator: False\n",
      "Start= 0 ---- 406 ----terminator: False\n",
      "Start= 0 ---- 407 ----terminator: False\n",
      "Start= 0 ---- 408 ----terminator: False\n",
      "Start= 0 ---- 409 ----terminator: False\n",
      "Start= 0 ---- 410 ----terminator: False\n",
      "Start= 0 ---- 411 ----terminator: False\n",
      "Start= 0 ---- 412 ----terminator: False\n"
     ]
    },
    {
     "name": "stdout",
     "output_type": "stream",
     "text": [
      "Start= 0 ---- 413 ----terminator: False\n",
      "Start= 0 ---- 414 ----terminator: False\n",
      "Start= 0 ---- 415 ----terminator: False\n",
      "Start= 0 ---- 416 ----terminator: False\n",
      "Start= 0 ---- 417 ----terminator: False\n",
      "Start= 0 ---- 418 ----terminator: False\n",
      "Start= 0 ---- 419 ----terminator: False\n",
      "Start= 0 ---- 420 ----terminator: False\n",
      "Start= 0 ---- 421 ----terminator: False\n",
      "Start= 0 ---- 422 ----terminator: False\n",
      "Start= 0 ---- 423 ----terminator: False\n",
      "Start= 0 ---- 424 ----terminator: False\n",
      "Start= 0 ---- 425 ----terminator: False\n",
      "Start= 0 ---- 426 ----terminator: False\n",
      "Start= 0 ---- 427 ----terminator: False\n",
      "Start= 0 ---- 428 ----terminator: False\n",
      "Start= 0 ---- 429 ----terminator: False\n",
      "Start= 0 ---- 430 ----terminator: False\n",
      "Start= 0 ---- 431 ----terminator: False\n",
      "Start= 0 ---- 432 ----terminator: False\n",
      "Start= 0 ---- 433 ----terminator: False\n",
      "Start= 0 ---- 434 ----terminator: False\n",
      "Start= 0 ---- 435 ----terminator: False\n",
      "Start= 0 ---- 436 ----terminator: False\n",
      "Start= 0 ---- 437 ----terminator: False\n",
      "Start= 0 ---- 438 ----terminator: False\n",
      "Start= 0 ---- 439 ----terminator: False\n",
      "Start= 0 ---- 440 ----terminator: False\n",
      "Start= 0 ---- 441 ----terminator: False\n",
      "Start= 0 ---- 442 ----terminator: False\n",
      "Start= 0 ---- 443 ----terminator: False\n",
      "Start= 0 ---- 444 ----terminator: False\n",
      "Start= 0 ---- 445 ----terminator: False\n",
      "Start= 0 ---- 446 ----terminator: False\n",
      "Start= 0 ---- 447 ----terminator: False\n",
      "Start= 0 ---- 448 ----terminator: False\n",
      "Start= 0 ---- 449 ----terminator: False\n",
      "Start= 0 ---- 450 ----terminator: False\n",
      "Start= 0 ---- 451 ----terminator: False\n",
      "Start= 0 ---- 452 ----terminator: False\n",
      "Start= 0 ---- 453 ----terminator: False\n",
      "Start= 0 ---- 454 ----terminator: False\n",
      "Start= 0 ---- 455 ----terminator: False\n",
      "Start= 0 ---- 456 ----terminator: False\n",
      "Start= 0 ---- 457 ----terminator: False\n",
      "Start= 0 ---- 458 ----terminator: False\n",
      "Start= 0 ---- 459 ----terminator: False\n",
      "Start= 0 ---- 460 ----terminator: False\n",
      "Start= 0 ---- 461 ----terminator: False\n",
      "Start= 0 ---- 462 ----terminator: False\n",
      "Start= 0 ---- 463 ----terminator: False\n",
      "Start= 0 ---- 464 ----terminator: False\n",
      "Start= 0 ---- 465 ----terminator: False\n",
      "Start= 0 ---- 466 ----terminator: False\n",
      "Start= 0 ---- 467 ----terminator: False\n",
      "Start= 0 ---- 468 ----terminator: False\n",
      "Start= 0 ---- 469 ----terminator: False\n",
      "Start= 0 ---- 470 ----terminator: False\n",
      "Start= 0 ---- 471 ----terminator: False\n",
      "Start= 0 ---- 472 ----terminator: False\n",
      "Start= 0 ---- 473 ----terminator: False\n",
      "Start= 0 ---- 474 ----terminator: False\n",
      "Start= 0 ---- 475 ----terminator: False\n",
      "Start= 0 ---- 476 ----terminator: False\n",
      "Start= 0 ---- 477 ----terminator: False\n",
      "Start= 0 ---- 478 ----terminator: False\n",
      "Start= 0 ---- 479 ----terminator: False\n",
      "Start= 0 ---- 480 ----terminator: False\n",
      "Start= 0 ---- 481 ----terminator: False\n",
      "Start= 0 ---- 482 ----terminator: False\n",
      "Start= 0 ---- 483 ----terminator: False\n",
      "Start= 0 ---- 484 ----terminator: False\n",
      "Start= 0 ---- 485 ----terminator: False\n",
      "Start= 0 ---- 486 ----terminator: False\n",
      "Start= 0 ---- 487 ----terminator: False\n",
      "Start= 0 ---- 488 ----terminator: False\n",
      "Start= 0 ---- 489 ----terminator: False\n",
      "Start= 0 ---- 490 ----terminator: False\n",
      "Start= 0 ---- 491 ----terminator: False\n",
      "Start= 0 ---- 492 ----terminator: False\n",
      "Start= 0 ---- 493 ----terminator: False\n",
      "Start= 0 ---- 494 ----terminator: False\n",
      "Start= 0 ---- 495 ----terminator: False\n",
      "Start= 0 ---- 496 ----terminator: False\n",
      "Start= 0 ---- 497 ----terminator: False\n",
      "Start= 0 ---- 498 ----terminator: False\n",
      "Start= 0 ---- 499 ----terminator: False\n",
      "Start= 0 ---- 500 ----terminator: False\n",
      "Start= 0 ---- 501 ----terminator: False\n",
      "Start= 0 ---- 502 ----terminator: False\n",
      "Start= 0 ---- 503 ----terminator: False\n",
      "Start= 0 ---- 504 ----terminator: False\n",
      "Start= 0 ---- 505 ----terminator: False\n",
      "Start= 0 ---- 506 ----terminator: False\n",
      "Start= 0 ---- 507 ----terminator: False\n",
      "Start= 0 ---- 508 ----terminator: False\n",
      "Start= 0 ---- 509 ----terminator: False\n",
      "Start= 0 ---- 510 ----terminator: False\n",
      "Start= 0 ---- 511 ----terminator: False\n",
      "Start= 0 ---- 512 ----terminator: False\n",
      "Start= 0 ---- 513 ----terminator: False\n",
      "Start= 0 ---- 514 ----terminator: False\n",
      "Start= 0 ---- 515 ----terminator: False\n",
      "Start= 0 ---- 516 ----terminator: False\n",
      "Start= 0 ---- 517 ----terminator: False\n",
      "Start= 0 ---- 518 ----terminator: False\n",
      "Start= 0 ---- 519 ----terminator: False\n",
      "Start= 0 ---- 520 ----terminator: False\n",
      "Start= 0 ---- 521 ----terminator: False\n",
      "Start= 0 ---- 522 ----terminator: False\n",
      "Start= 0 ---- 523 ----terminator: False\n",
      "Start= 0 ---- 524 ----terminator: False\n",
      "Start= 0 ---- 525 ----terminator: False\n",
      "Start= 0 ---- 526 ----terminator: False\n",
      "Start= 0 ---- 527 ----terminator: False\n",
      "Start= 0 ---- 528 ----terminator: False\n",
      "Start= 0 ---- 529 ----terminator: False\n",
      "Start= 0 ---- 530 ----terminator: False\n",
      "Start= 0 ---- 531 ----terminator: False\n",
      "Start= 0 ---- 532 ----terminator: False\n",
      "Start= 0 ---- 533 ----terminator: False\n",
      "Start= 0 ---- 534 ----terminator: False\n",
      "Start= 0 ---- 535 ----terminator: False\n",
      "Start= 0 ---- 536 ----terminator: False\n",
      "Start= 0 ---- 537 ----terminator: False\n",
      "Start= 0 ---- 538 ----terminator: False\n",
      "Start= 0 ---- 539 ----terminator: False\n",
      "Start= 0 ---- 540 ----terminator: False\n",
      "Start= 0 ---- 541 ----terminator: False\n",
      "Start= 0 ---- 542 ----terminator: False\n",
      "Start= 0 ---- 543 ----terminator: False\n",
      "Start= 0 ---- 544 ----terminator: False\n",
      "Start= 0 ---- 545 ----terminator: False\n",
      "Start= 0 ---- 546 ----terminator: False\n",
      "Start= 0 ---- 547 ----terminator: False\n",
      "Start= 0 ---- 548 ----terminator: False\n",
      "Start= 0 ---- 549 ----terminator: False\n",
      "Start= 0 ---- 550 ----terminator: False\n",
      "Start= 0 ---- 551 ----terminator: False\n",
      "Start= 0 ---- 552 ----terminator: False\n",
      "Start= 0 ---- 553 ----terminator: False\n",
      "Start= 0 ---- 554 ----terminator: False\n",
      "Start= 0 ---- 555 ----terminator: False\n",
      "Start= 0 ---- 556 ----terminator: False\n",
      "Start= 0 ---- 557 ----terminator: False\n",
      "Start= 0 ---- 558 ----terminator: False\n",
      "Start= 0 ---- 559 ----terminator: False\n",
      "Start= 0 ---- 560 ----terminator: False\n",
      "Start= 0 ---- 561 ----terminator: False\n",
      "Start= 0 ---- 562 ----terminator: False\n",
      "Start= 0 ---- 563 ----terminator: False\n",
      "Start= 0 ---- 564 ----terminator: False\n",
      "Start= 0 ---- 565 ----terminator: False\n",
      "Start= 0 ---- 566 ----terminator: False\n",
      "Start= 0 ---- 567 ----terminator: False\n",
      "Start= 0 ---- 568 ----terminator: False\n",
      "Start= 0 ---- 569 ----terminator: False\n",
      "Start= 0 ---- 570 ----terminator: False\n",
      "Start= 0 ---- 571 ----terminator: False\n",
      "Start= 0 ---- 572 ----terminator: False\n",
      "Start= 0 ---- 573 ----terminator: False\n",
      "Start= 0 ---- 574 ----terminator: False\n",
      "Start= 0 ---- 575 ----terminator: False\n",
      "Start= 0 ---- 576 ----terminator: False\n",
      "Start= 0 ---- 577 ----terminator: False\n",
      "Start= 0 ---- 578 ----terminator: False\n",
      "Start= 0 ---- 579 ----terminator: False\n",
      "Start= 0 ---- 580 ----terminator: False\n",
      "Start= 0 ---- 581 ----terminator: False\n",
      "Start= 0 ---- 582 ----terminator: False\n",
      "Start= 0 ---- 583 ----terminator: False\n",
      "Start= 0 ---- 584 ----terminator: False\n",
      "Start= 0 ---- 585 ----terminator: False\n",
      "Start= 0 ---- 586 ----terminator: False\n",
      "Start= 0 ---- 587 ----terminator: False\n",
      "Start= 0 ---- 588 ----terminator: False\n",
      "Start= 0 ---- 589 ----terminator: False\n",
      "Start= 0 ---- 590 ----terminator: False\n",
      "Start= 0 ---- 591 ----terminator: False\n",
      "Start= 0 ---- 592 ----terminator: False\n",
      "Start= 0 ---- 593 ----terminator: False\n",
      "Start= 0 ---- 594 ----terminator: False\n",
      "Start= 0 ---- 595 ----terminator: False\n",
      "Start= 0 ---- 596 ----terminator: False\n",
      "Start= 0 ---- 597 ----terminator: False\n",
      "Start= 0 ---- 598 ----terminator: False\n",
      "Start= 0 ---- 599 ----terminator: False\n",
      "Start= 0 ---- 600 ----terminator: False\n",
      "Start= 0 ---- 601 ----terminator: False\n",
      "Start= 0 ---- 602 ----terminator: False\n",
      "Start= 0 ---- 603 ----terminator: False\n",
      "Start= 0 ---- 604 ----terminator: False\n",
      "Start= 0 ---- 605 ----terminator: False\n",
      "Start= 0 ---- 606 ----terminator: False\n",
      "Start= 0 ---- 607 ----terminator: False\n",
      "Start= 0 ---- 608 ----terminator: False\n",
      "Start= 0 ---- 609 ----terminator: False\n",
      "Start= 0 ---- 610 ----terminator: False\n",
      "Start= 0 ---- 611 ----terminator: False\n",
      "Start= 0 ---- 612 ----terminator: False\n",
      "Start= 0 ---- 613 ----terminator: False\n",
      "Start= 0 ---- 614 ----terminator: False\n",
      "Start= 0 ---- 615 ----terminator: False\n",
      "Start= 0 ---- 616 ----terminator: False\n",
      "Start= 0 ---- 617 ----terminator: False\n"
     ]
    },
    {
     "name": "stdout",
     "output_type": "stream",
     "text": [
      "Start= 0 ---- 618 ----terminator: False\n",
      "Start= 0 ---- 619 ----terminator: False\n",
      "Start= 0 ---- 620 ----terminator: False\n",
      "Start= 0 ---- 621 ----terminator: False\n",
      "Start= 0 ---- 622 ----terminator: False\n",
      "Start= 0 ---- 623 ----terminator: False\n",
      "Start= 0 ---- 624 ----terminator: False\n",
      "Start= 0 ---- 625 ----terminator: False\n",
      "Start= 0 ---- 626 ----terminator: False\n",
      "Start= 0 ---- 627 ----terminator: False\n",
      "Start= 0 ---- 628 ----terminator: False\n",
      "Start= 0 ---- 629 ----terminator: False\n",
      "Start= 0 ---- 630 ----terminator: False\n",
      "Start= 0 ---- 631 ----terminator: False\n",
      "Start= 0 ---- 632 ----terminator: False\n",
      "Start= 0 ---- 633 ----terminator: False\n",
      "Start= 0 ---- 634 ----terminator: False\n",
      "Start= 0 ---- 635 ----terminator: False\n",
      "Start= 0 ---- 636 ----terminator: False\n",
      "Start= 0 ---- 637 ----terminator: False\n",
      "Start= 0 ---- 638 ----terminator: False\n",
      "Start= 0 ---- 639 ----terminator: False\n",
      "Start= 0 ---- 640 ----terminator: False\n",
      "Start= 0 ---- 641 ----terminator: False\n",
      "Start= 0 ---- 642 ----terminator: False\n",
      "Start= 0 ---- 643 ----terminator: False\n",
      "Start= 0 ---- 644 ----terminator: False\n",
      "Start= 0 ---- 645 ----terminator: False\n",
      "Start= 0 ---- 646 ----terminator: False\n",
      "Start= 0 ---- 647 ----terminator: False\n",
      "Start= 0 ---- 648 ----terminator: False\n",
      "Start= 0 ---- 649 ----terminator: False\n",
      "Start= 0 ---- 650 ----terminator: False\n",
      "Start= 0 ---- 651 ----terminator: False\n",
      "Start= 0 ---- 652 ----terminator: False\n",
      "Start= 0 ---- 653 ----terminator: False\n",
      "Start= 0 ---- 654 ----terminator: False\n",
      "Start= 0 ---- 655 ----terminator: False\n",
      "Start= 0 ---- 656 ----terminator: False\n",
      "Start= 0 ---- 657 ----terminator: False\n",
      "Start= 0 ---- 658 ----terminator: False\n",
      "Start= 0 ---- 659 ----terminator: False\n",
      "Start= 0 ---- 660 ----terminator: False\n",
      "Start= 0 ---- 661 ----terminator: False\n",
      "Start= 0 ---- 662 ----terminator: False\n",
      "Start= 0 ---- 663 ----terminator: False\n",
      "Start= 0 ---- 664 ----terminator: False\n",
      "Start= 0 ---- 665 ----terminator: False\n",
      "Start= 0 ---- 666 ----terminator: False\n",
      "Start= 0 ---- 667 ----terminator: False\n",
      "Start= 0 ---- 668 ----terminator: False\n",
      "Start= 0 ---- 669 ----terminator: False\n",
      "Start= 0 ---- 670 ----terminator: False\n",
      "Start= 0 ---- 671 ----terminator: False\n",
      "Start= 0 ---- 672 ----terminator: False\n",
      "Start= 0 ---- 673 ----terminator: False\n",
      "Start= 0 ---- 674 ----terminator: False\n",
      "Start= 0 ---- 675 ----terminator: False\n",
      "Start= 0 ---- 676 ----terminator: False\n",
      "Start= 0 ---- 677 ----terminator: False\n",
      "Start= 0 ---- 678 ----terminator: False\n",
      "Start= 0 ---- 679 ----terminator: False\n",
      "Start= 0 ---- 680 ----terminator: False\n",
      "Start= 0 ---- 681 ----terminator: False\n",
      "Start= 0 ---- 682 ----terminator: False\n",
      "Start= 0 ---- 683 ----terminator: False\n",
      "Start= 0 ---- 684 ----terminator: False\n",
      "Start= 0 ---- 685 ----terminator: False\n",
      "Start= 0 ---- 686 ----terminator: False\n",
      "Start= 0 ---- 687 ----terminator: False\n",
      "Start= 0 ---- 688 ----terminator: False\n",
      "Start= 0 ---- 689 ----terminator: False\n",
      "Start= 0 ---- 690 ----terminator: False\n",
      "Start= 0 ---- 691 ----terminator: False\n",
      "Start= 0 ---- 692 ----terminator: False\n",
      "Start= 0 ---- 693 ----terminator: False\n",
      "Start= 0 ---- 694 ----terminator: False\n",
      "Start= 0 ---- 695 ----terminator: False\n",
      "Start= 0 ---- 696 ----terminator: False\n",
      "Start= 0 ---- 697 ----terminator: False\n",
      "Start= 0 ---- 698 ----terminator: False\n",
      "Start= 0 ---- 699 ----terminator: False\n",
      "Start= 0 ---- 700 ----terminator: False\n",
      "Start= 0 ---- 701 ----terminator: False\n",
      "Start= 0 ---- 702 ----terminator: False\n",
      "Start= 0 ---- 703 ----terminator: False\n",
      "Start= 0 ---- 704 ----terminator: False\n",
      "Start= 0 ---- 705 ----terminator: False\n",
      "Start= 0 ---- 706 ----terminator: False\n",
      "Start= 0 ---- 707 ----terminator: False\n",
      "Start= 0 ---- 708 ----terminator: False\n",
      "Start= 0 ---- 709 ----terminator: False\n",
      "Start= 0 ---- 710 ----terminator: False\n",
      "Start= 0 ---- 711 ----terminator: False\n",
      "Start= 0 ---- 712 ----terminator: False\n",
      "Start= 0 ---- 713 ----terminator: False\n",
      "Start= 0 ---- 714 ----terminator: False\n",
      "Start= 0 ---- 715 ----terminator: False\n",
      "Start= 0 ---- 716 ----terminator: False\n",
      "Start= 0 ---- 717 ----terminator: False\n",
      "Start= 0 ---- 718 ----terminator: False\n",
      "Start= 0 ---- 719 ----terminator: False\n",
      "CPU times: user 3min 39s, sys: 18min 58s, total: 22min 37s\n",
      "Wall time: 12h 4min 54s\n"
     ]
    }
   ],
   "source": [
    "%%time\n",
    "graphname=\"G7M03\"\n",
    "G=Graph([(\"0\",\"1\"),(\"1\",\"2\"),(\"2\",\"3\"),(\"3\",\"4\"),(\"4\",\"5\"),(\"5\",\"6\"),(\"6\",\"0\"),(\"0\",\"3\")], multiedges=True)\n",
    "\n",
    "data=unpickle(graphname) \n",
    "\n",
    "dic_l=analyse_graphname(G,data)\n",
    "# CPU times: user 3min 39s, sys: 18min 58s, total: 22min 37s\n",
    "# Wall time: 12h 4min 54s"
   ]
  },
  {
   "cell_type": "code",
   "execution_count": null,
   "metadata": {},
   "outputs": [],
   "source": [
    "#Store list of dictionaries\n",
    "# pickle_dic_l(graphname,dic_l)"
   ]
  },
  {
   "cell_type": "code",
   "execution_count": 27,
   "metadata": {},
   "outputs": [
    {
     "name": "stdout",
     "output_type": "stream",
     "text": [
      "Total number of stability conditions 720\n",
      "Number of polytopes of a given (dimension:number of at dim): {6: 720}\n",
      "\n"
     ]
    }
   ],
   "source": [
    "analyse_table(dic_l)"
   ]
  },
  {
   "cell_type": "markdown",
   "metadata": {
    "jp-MarkdownHeadingCollapsed": true,
    "tags": [],
    "toc-hr-collapsed": true
   },
   "source": [
    "## $\\Gamma:=\\Gamma_{k_1 k_2 k_3}$ for $k_1\\ge 2$  <a name=\"s24\"></a>"
   ]
  },
  {
   "cell_type": "markdown",
   "metadata": {},
   "source": [
    "We now consider the dimension of $P_{ST}^{\\sigma_{\\Gamma}}$ for $ \\sigma_{\\Gamma} \\in \\Sigma_{\\Gamma,T,D_{T}}^{d}$ for graphs   $\\Gamma:=\\Gamma_{k_1 k_2 k_3}$ with  $(k_1,k_2,k_3)=\\{(2,2,2),(2,2,3),(2,2,4),(2,3,3)\\}$. "
   ]
  },
  {
   "cell_type": "markdown",
   "metadata": {
    "jp-MarkdownHeadingCollapsed": true,
    "tags": []
   },
   "source": [
    "### $(k_1,k_2,k_3)=(2,2,2)$\n"
   ]
  },
  {
   "cell_type": "code",
   "execution_count": null,
   "metadata": {},
   "outputs": [],
   "source": [
    "%%time\n",
    "graphname=\"V_222\"\n",
    "G=Graph([(\"0\",\"1\"),(\"1\",\"2\"),(\"2\",\"3\"),(\"3\",\"0\"),(\"0\",\"4\"),(\"4\",\"2\")], multiedges=True)\n",
    "\n",
    "data=unpickle(graphname) \n",
    "\n",
    "dic_l=analyse_graphname(G,data)\n",
    "\n",
    "#Store list of dictionaries\n",
    "# pickle_dic_l(graphname,dic_l)"
   ]
  },
  {
   "cell_type": "code",
   "execution_count": null,
   "metadata": {},
   "outputs": [],
   "source": [
    "analyse_table(dic_l)"
   ]
  },
  {
   "cell_type": "markdown",
   "metadata": {
    "jp-MarkdownHeadingCollapsed": true,
    "tags": []
   },
   "source": [
    "\n",
    "### $(k_1,k_2,k_3)=(2,2,3)$\n"
   ]
  },
  {
   "cell_type": "code",
   "execution_count": null,
   "metadata": {},
   "outputs": [],
   "source": [
    "%%time\n",
    "graphname=\"V_223\"\n",
    "G=Graph([(\"0\",\"1\"),(\"1\",\"2\"),(\"2\",\"3\"),(\"3\",\"4\"),(\"4\",\"0\"),(\"0\",\"5\"),(\"5\",\"2\")], multiedges=True)\n",
    "\n",
    "data=unpickle(graphname) \n",
    "\n",
    "dic_l=analyse_graphname(G,data)\n",
    "\n",
    "#Store list of dictionaries\n",
    "# pickle_dic_l(graphname,dic_l)"
   ]
  },
  {
   "cell_type": "code",
   "execution_count": null,
   "metadata": {},
   "outputs": [],
   "source": [
    "analyse_table(dic_l)"
   ]
  },
  {
   "cell_type": "markdown",
   "metadata": {
    "jp-MarkdownHeadingCollapsed": true,
    "tags": []
   },
   "source": [
    "\n",
    "### $(k_1,k_2,k_3)=(2,2,4)$\n"
   ]
  },
  {
   "cell_type": "code",
   "execution_count": null,
   "metadata": {},
   "outputs": [],
   "source": [
    "%%time\n",
    "graphname=\"V_224\"\n",
    "G=Graph([(\"0\",\"1\"),(\"1\",\"2\"),(\"2\",\"3\"),(\"3\",\"4\"),(\"4\",\"5\"),(\"5\",\"0\"),(\"0\",\"6\"),(\"6\",\"2\")], multiedges=True)\n",
    "\n",
    "data=unpickle(graphname) \n",
    "\n",
    "dic_l=analyse_graphname(G,data)\n",
    "\n",
    "#Store list of dictionaries\n",
    "# pickle_dic_l(graphname,dic_l)"
   ]
  },
  {
   "cell_type": "code",
   "execution_count": null,
   "metadata": {},
   "outputs": [],
   "source": [
    "analyse_table(dic_l)"
   ]
  },
  {
   "cell_type": "markdown",
   "metadata": {
    "jp-MarkdownHeadingCollapsed": true,
    "tags": []
   },
   "source": [
    "\n",
    "### $(k_1,k_2,k_3)=(2,3,3)$"
   ]
  },
  {
   "cell_type": "code",
   "execution_count": null,
   "metadata": {},
   "outputs": [],
   "source": [
    "%%time\n",
    "graphname=\"V_233\"\n",
    "G=Graph([(\"0\",\"1\"),(\"1\",\"2\"),(\"2\",\"3\"),(\"3\",\"4\"),(\"4\",\"5\"),(\"5\",\"0\"),(\"0\",\"6\"),(\"6\",\"3\")], multiedges=True)\n",
    "\n",
    "data=unpickle(graphname) \n",
    "\n",
    "dic_l=analyse_graphname(G,data)\n",
    "\n",
    "#Store list of dictionaries\n",
    "# pickle_dic_l(graphname,dic_l)"
   ]
  },
  {
   "cell_type": "code",
   "execution_count": null,
   "metadata": {},
   "outputs": [],
   "source": [
    "analyse_table(dic_l)"
   ]
  },
  {
   "cell_type": "markdown",
   "metadata": {
    "tags": [],
    "toc-hr-collapsed": true
   },
   "source": [
    "## $\\Gamma \\in \\{ G_1,G_2,G_3,F\\}$ <a name=\"s25\"></a>"
   ]
  },
  {
   "cell_type": "markdown",
   "metadata": {},
   "source": [
    "We now consider the dimension of $P_{ST}^{\\sigma_{\\Gamma}}$ for $ \\sigma_{\\Gamma} \\in \\Sigma_{\\Gamma,T,D_{T}}^{d}$ for graphs   $\\Gamma\\in \\{G_1,G_2,G_3,F\\}$."
   ]
  },
  {
   "cell_type": "markdown",
   "metadata": {
    "jp-MarkdownHeadingCollapsed": true,
    "tags": []
   },
   "source": [
    "### $G_1$"
   ]
  },
  {
   "cell_type": "code",
   "execution_count": null,
   "metadata": {
    "tags": []
   },
   "outputs": [],
   "source": [
    "%%time\n",
    "graphname=\"G4M02M13\"\n",
    "G=Graph([(\"0\",\"1\"),(\"1\",\"2\"),(\"2\",\"3\"),(\"3\",\"0\"),(\"0\",\"2\"),(\"1\",\"3\")], multiedges=True)\n",
    "\n",
    "data=unpickle(graphname) #Size=10\n",
    "\n",
    "dic_l=analyse_graphname(G,data)"
   ]
  },
  {
   "cell_type": "code",
   "execution_count": null,
   "metadata": {
    "tags": []
   },
   "outputs": [],
   "source": [
    "#Store list of dictionaries\n",
    "# pickle_dic_l(graphname,dic_l)"
   ]
  },
  {
   "cell_type": "code",
   "execution_count": null,
   "metadata": {
    "tags": []
   },
   "outputs": [],
   "source": [
    "analyse_table(dic_l)"
   ]
  },
  {
   "cell_type": "markdown",
   "metadata": {
    "jp-MarkdownHeadingCollapsed": true,
    "tags": []
   },
   "source": [
    "### $G_2$"
   ]
  },
  {
   "cell_type": "code",
   "execution_count": null,
   "metadata": {
    "tags": []
   },
   "outputs": [],
   "source": [
    "%%time\n",
    "graphname=\"G5M02M03\"\n",
    "G=Graph([(\"0\",\"1\"),(\"1\",\"2\"),(\"2\",\"3\"),(\"3\",\"4\"),(\"4\",\"0\"),(\"0\",\"2\"),(\"0\",\"3\")], multiedges=True)\n",
    "\n",
    "data=unpickle(graphname) #Size=24\n",
    "\n",
    "dic_l=analyse_graphname(G,data)"
   ]
  },
  {
   "cell_type": "code",
   "execution_count": null,
   "metadata": {
    "tags": []
   },
   "outputs": [],
   "source": [
    "#Store list of dictionaries\n",
    "pickle_dic_l(graphname,dic_l)"
   ]
  },
  {
   "cell_type": "code",
   "execution_count": null,
   "metadata": {},
   "outputs": [],
   "source": [
    "analyse_table(dic_l)"
   ]
  },
  {
   "cell_type": "markdown",
   "metadata": {
    "jp-MarkdownHeadingCollapsed": true,
    "tags": []
   },
   "source": [
    "### $G_3$"
   ]
  },
  {
   "cell_type": "code",
   "execution_count": null,
   "metadata": {
    "tags": []
   },
   "outputs": [],
   "source": [
    "%%time\n",
    "graphname=\"G5M02M03M14\"\n",
    "G=Graph([(\"0\",\"1\"),(\"1\",\"2\"),(\"2\",\"3\"),(\"3\",\"4\"),(\"4\",\"0\"),(\"0\",\"2\"),(\"0\",\"3\"),(\"1\",\"4\")], multiedges=True)\n",
    "\n",
    "data=unpickle(graphname) #Size=82\n",
    "\n",
    "dic_l=analyse_graphname(G,data)"
   ]
  },
  {
   "cell_type": "code",
   "execution_count": null,
   "metadata": {
    "tags": []
   },
   "outputs": [],
   "source": [
    "#Store list of dictionaries\n",
    "pickle_dic_l(graphname,dic_l)"
   ]
  },
  {
   "cell_type": "code",
   "execution_count": null,
   "metadata": {},
   "outputs": [],
   "source": [
    "analyse_table(dic_l)"
   ]
  },
  {
   "cell_type": "markdown",
   "metadata": {
    "tags": []
   },
   "source": [
    "### $F$"
   ]
  },
  {
   "cell_type": "markdown",
   "metadata": {},
   "source": [
    "Unlike the other cases when we run analyse\\_graphname we have $\\sigma_{\\Gamma}$ such that $P_{ST}^{\\sigma_{\\Gamma}}$ has dimension less than $|V(\\Gamma)|-1=5$ which by the discussion in the introduction implies that $P_{ST}^{\\sigma_{\\Gamma}} = \\emptyset$. We have therefore modified analyse\\_graphname to analyse_graphname\\_FV to parse the cases of $\\sigma_{\\Gamma} \\in \\Sigma_{\\Gamma,T,D_{T}}^{d}$ with $P_{ST}^{\\sigma_{\\Gamma}} \\ne \\emptyset$ and those with $P_{ST}^{\\sigma_{\\Gamma}} = \\emptyset$."
   ]
  },
  {
   "cell_type": "code",
   "execution_count": null,
   "metadata": {},
   "outputs": [],
   "source": [
    "%%time\n",
    "graphname=\"FV_G6M3M14\"  \n",
    "G=Graph([(\"0\",\"1\"),(\"1\",\"2\"),(\"2\",\"3\"),(\"3\",\"4\"),(\"4\",\"5\"),(\"5\",\"0\"),(\"0\",\"3\"),(\"1\",\"4\")], multiedges=True)\n",
    "\n",
    "data=unpickle(graphname) #Size=504"
   ]
  },
  {
   "cell_type": "code",
   "execution_count": null,
   "metadata": {
    "tags": []
   },
   "outputs": [],
   "source": [
    "dim_size=5 #number of vertices minus 1.\n",
    "dic_l=analyse_graphname_FV(dim_size,graphname,G,data)"
   ]
  },
  {
   "cell_type": "markdown",
   "metadata": {},
   "source": [
    "# Leftovers"
   ]
  },
  {
   "cell_type": "code",
   "execution_count": null,
   "metadata": {},
   "outputs": [],
   "source": [
    "# def unpickle_dic_l(graphname):\n",
    "#     # Unpickle the list\n",
    "#     filename=f\"examples/{graphname}/phi_analysis/dic_l.pkl\"\n",
    "#     with open(filename, 'rb') as f:\n",
    "#         unpickled_list = pickle.load(f)\n",
    "#     return unpickled_list"
   ]
  }
 ],
 "metadata": {
  "kernelspec": {
   "display_name": "SageMath 9.2",
   "language": "sage",
   "name": "sagemath"
  },
  "language_info": {
   "codemirror_mode": {
    "name": "ipython",
    "version": 3
   },
   "file_extension": ".py",
   "mimetype": "text/x-python",
   "name": "python",
   "nbconvert_exporter": "python",
   "pygments_lexer": "ipython3",
   "version": "3.7.7"
  },
  "toc-autonumbering": true,
  "toc-showcode": false,
  "toc-showmarkdowntxt": false,
  "toc-showtags": false
 },
 "nbformat": 4,
 "nbformat_minor": 5
}
