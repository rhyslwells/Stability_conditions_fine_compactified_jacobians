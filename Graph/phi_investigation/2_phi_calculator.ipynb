{
 "cells": [
  {
   "cell_type": "markdown",
   "id": "ba61b176",
   "metadata": {
    "tags": [],
    "toc-hr-collapsed": true
   },
   "source": [
    "# Overview"
   ]
  },
  {
   "cell_type": "markdown",
   "id": "8fbed6d9",
   "metadata": {},
   "source": [
    "Fix a graph $\\Gamma$ and let $d= b_{1}(\\Gamma)$. Recall the definition of a $\\phi$-stability condition as given in Section $2.2$ of the thesis. Here we state a method which for a given $\\phi \\in V^{d}(\\Gamma)$ returns $\\sigma_{\\Gamma}^{\\phi} \\in \\mathcal{C}\\Sigma_{\\Gamma}^{d}$ (provided $\\phi$ is non-degenerate). In particular this method returns $A_{\\Gamma}:=\\sigma_{\\Gamma}^{\\phi}|_{\\mathcal{ST(\\Gamma)}}$ and $\\sigma_{\\Gamma}^{\\phi}(\\Gamma)$. "
   ]
  },
  {
   "cell_type": "markdown",
   "id": "ecfd8c88",
   "metadata": {
    "jp-MarkdownHeadingCollapsed": true,
    "tags": []
   },
   "source": [
    "## Method outline"
   ]
  },
  {
   "cell_type": "markdown",
   "id": "f2846863-8b57-42ef-834f-59c33ee4849b",
   "metadata": {},
   "source": [
    "Given a $\\phi \\in V^{d}(\\Gamma)$ to obtain $\\sigma_{\\Gamma}^{\\phi}$ it is enough to state $\\vec{d} \\in \\sigma^{\\phi}_{\\Gamma}(T)$ for each $T \\in \\mathcal{ST}(\\Gamma)$, and give $A_{\\Gamma}:=\\sigma_{\\Gamma}^{\\phi}|_{\\mathcal{ST(\\Gamma)}}$, one can then take $\\sigma_{\\Gamma}^{\\phi}=\\sigma_{\\Gamma}^{A_{\\Gamma}}$."
   ]
  },
  {
   "cell_type": "markdown",
   "id": "3e25e20f-9e42-4cee-98fd-1f3a8f8e80c9",
   "metadata": {},
   "source": [
    "Let $\\Gamma^{'}_{I}$ denote a elementary induced subgraph of $\\Gamma$ (where $I$ is the set of verties that determine $\\Gamma^{'}_{I}$), and $T \\in \\mathcal{ST}(\\Gamma)$. To determine $\\vec{d} \\in \\sigma_{\\Gamma}^{\\phi}(T)$ (and hence $A_{\\Gamma}$) we iterate over all $\\Gamma^{'}_{I}$ to obtain upper and lower bounds for $\\vec{d}_{I}:=\\sum_{v \\in V(\\Gamma^{'}_{I})}\\vec{d}(v)$ (similarly for $\\phi$) using the pair of inequalities"
   ]
  },
  {
   "cell_type": "markdown",
   "id": "24da8012-1f85-40c8-957d-f9bf33d6fd92",
   "metadata": {
    "tags": []
   },
   "source": [
    "$$ \\left|\\frac{\\left|\\operatorname{E}\\left(T^c\\right) \\backslash (\\operatorname{E}\\left(\\Gamma^{\\prime}\\right) \\cup \\operatorname{E}\\left(\\Gamma^{\\prime c}\\right))\\right|}{2}+\\left|\\operatorname{E}\\left(T^c\\right) \\cap \\operatorname{E}\\left(\\Gamma^{\\prime}\\right)\\right|+\\vec{d}_{I}-\\phi_{I} \\right| \n",
    "        <\\frac{\\left|\\operatorname{E}\\left(T\\right) \\backslash\\left(\\operatorname{E}\\left(\\Gamma^{\\prime}\\right) \\cup \\operatorname{E}\\left(\\Gamma^{\\prime c}\\right)\\right)\\right|}{2} \\nonumber$$"
   ]
  },
  {
   "cell_type": "markdown",
   "id": "2c62da29-0ad8-4f7a-b7b3-fc1cc6e209a2",
   "metadata": {
    "tags": []
   },
   "source": [
    "Let \n",
    "$$U_{T,\\Gamma^{'}_{I}} =\\frac{\\left|\\operatorname{E}\\left(T\\right) \\backslash\\left(\\operatorname{E}\\left(\\Gamma^{\\prime}\\right) \\cup \\operatorname{E}\\left(\\Gamma^{\\prime c}\\right)\\right)\\right|}{2}-\\frac{\\left|\\operatorname{E}\\left(T^c\\right) \\backslash (\\operatorname{E}\\left(\\Gamma^{\\prime}\\right) \\cup \\operatorname{E}\\left(\\Gamma^{\\prime c}\\right))\\right|}{2}-\\left|\\operatorname{E}\\left(T^c\\right) \\cap \\operatorname{E}\\left(\\Gamma^{\\prime}\\right)\\right|$$\n",
    "\n",
    "and \n",
    "\n",
    "$$L_{T,\\Gamma^{'}_{I}} =-\\frac{\\left|\\operatorname{E}\\left(T\\right) \\backslash\\left(\\operatorname{E}\\left(\\Gamma^{\\prime}\\right) \\cup \\operatorname{E}\\left(\\Gamma^{\\prime c}\\right)\\right)\\right|}{2}-\\frac{\\left|\\operatorname{E}\\left(T^c\\right) \\backslash (\\operatorname{E}\\left(\\Gamma^{\\prime}\\right) \\cup \\operatorname{E}\\left(\\Gamma^{\\prime c}\\right))\\right|}{2}-\\left|\\operatorname{E}\\left(T^c\\right) \\cap \\operatorname{E}\\left(\\Gamma^{\\prime}\\right)\\right|\n",
    "$$\n",
    "\n",
    "In particular we have a range of values for $\\vec{d}_{I}$,\n",
    "\n",
    "$$L_{T,\\Gamma^{'}_{I}} + \\phi_{I} <\\vec{d}_{I}<U_{T,\\Gamma^{'}_{I}} + \\phi_{I} .$$"
   ]
  },
  {
   "cell_type": "markdown",
   "id": "bf923c78-8c47-49de-89c4-1eb655ff49ef",
   "metadata": {
    "tags": []
   },
   "source": [
    "To determine $\\vec{d}=A_{\\Gamma}(T)$ we use the function solver to return the $\\vec{d}$ that satisfies, $L_{T,\\Gamma^{'}_{I}} + \\phi_{I} <\\vec{d}_{I}<U_{T,\\Gamma^{'}_{I}} + \\phi_{I}$ for all $\\Gamma_{I}^{'}$."
   ]
  },
  {
   "cell_type": "markdown",
   "id": "fc4c9800",
   "metadata": {
    "jp-MarkdownHeadingCollapsed": true,
    "tags": []
   },
   "source": [
    "# Table of contents\n"
   ]
  },
  {
   "cell_type": "markdown",
   "id": "42eda8ce",
   "metadata": {},
   "source": [
    "1. [Functions](#s1)\n",
    "    1. [Main Functions](#s11)\n",
    "    2. [Secondary Fucntions](#s12)\n",
    "2. [Examples](#s2)\n",
    "    1. [$3$-necklace](#s21)\n",
    "    2. [$\\Gamma_{122}$](#s22)"
   ]
  },
  {
   "cell_type": "markdown",
   "id": "8dbba860",
   "metadata": {
    "jp-MarkdownHeadingCollapsed": true,
    "tags": [],
    "toc-hr-collapsed": true
   },
   "source": [
    "# Functions <a name=\"s1\"></a>"
   ]
  },
  {
   "cell_type": "markdown",
   "id": "c60107b3",
   "metadata": {
    "jp-MarkdownHeadingCollapsed": true,
    "tags": []
   },
   "source": [
    "## Used throughout"
   ]
  },
  {
   "cell_type": "code",
   "execution_count": 14,
   "id": "34a396c6",
   "metadata": {},
   "outputs": [],
   "source": [
    "import numpy as np\n",
    "import itertools\n",
    "import pickle\n",
    "from fractions import Fraction\n",
    "from collections import Counter\n",
    "import textwrap"
   ]
  },
  {
   "cell_type": "markdown",
   "id": "44e9a389-48ec-45cd-8e53-58249bd8a9d7",
   "metadata": {
    "tags": []
   },
   "source": [
    "## Main Fucntions <a name=\"s11\"></a>"
   ]
  },
  {
   "cell_type": "markdown",
   "id": "c9a0898b-f677-4a5e-9961-afa7611e2cdc",
   "metadata": {},
   "source": [
    "The main function which returns from $\\phi$ the assignment $A_{\\Gamma}:=\\sigma_{\\Gamma}^{\\phi}|_{\\mathcal{ST(\\Gamma)}}$ is the following."
   ]
  },
  {
   "cell_type": "code",
   "execution_count": 22,
   "id": "cea22e2d",
   "metadata": {
    "tags": [
     "Function"
    ]
   },
   "outputs": [],
   "source": [
    "def get_all_assignment_phi(phi,G):\n",
    "\n",
    "    \"\"\"\n",
    "    Objective: Given a phi gets the tree assignment\n",
    "    Input:\n",
    "    Returns: list of assignments for all trees i.e [(T,ass) for each T in G]\n",
    "    \"\"\"\n",
    "    spanning_trees=[tree for tree in G.spanning_trees(labels=true)] #incase have GM1 double edge graph\n",
    "\n",
    "    ass_l=[]\n",
    "    for T in spanning_trees:\n",
    "        \n",
    "        #Get unique assignment on tre\n",
    "        ass=get_assignment_phi(G,T,phi)\n",
    "        \n",
    "        #record\n",
    "        ass_l.append((T,ass))\n",
    "    \n",
    "    return ass_l"
   ]
  },
  {
   "cell_type": "markdown",
   "id": "93cfa8c6-7d84-4d73-ae9b-7257485d6913",
   "metadata": {},
   "source": [
    "The above function applies get\\_assignment\\_phi to a $T\\in \\mathcal{ST}(\\Gamma)$ to determine $A_{\\Gamma}(T)$ (may be false is $\\phi$ degenerate)."
   ]
  },
  {
   "cell_type": "code",
   "execution_count": 21,
   "id": "ccaaeec8",
   "metadata": {
    "tags": [
     "Function"
    ]
   },
   "outputs": [],
   "source": [
    "def get_assignment_phi(G,T,phi):\n",
    "    \n",
    "    \"\"\"\n",
    "    Objective: by checking inequalities gt unique d_i components for vec{d}.\n",
    "    Input:\n",
    "    Returns: unique assignment divisor\n",
    "    \"\"\"\n",
    "    \n",
    "    #get data for inequalities for divisor_bounds\n",
    "    phi_G=phi_tree_inequalities_data(G,T)\n",
    "    \n",
    "    # bounds for vec{d}\n",
    "    dic=divisor_bounds(G,phi_G, phi,int_range=10)\n",
    "#     print(dic)\n",
    "    \n",
    "    \n",
    "    #Get divisor satisfying equations of dic\n",
    "    divisor=solver(dic)[0]\n",
    "    \n",
    "    return divisor"
   ]
  },
  {
   "cell_type": "markdown",
   "id": "d3657b3d-bd0e-4f00-ac6f-7bbcf421ffc3",
   "metadata": {},
   "source": [
    "As seen in the Method outlined, to determine $\\vec{d} \\in \\sigma_{\\Gamma}^{\\phi}(T)$ we use solver. Solver returns a $\\vec{d}$ which satisfies\n",
    "\n",
    "$$lower < \\vec{d}_{I}<upper$$\n",
    "\n",
    "for each $\\Gamma^{'}_{I}$ i.e $\\vec{d} \\in \\sigma_{\\Gamma}^{\\phi}(T)$.\n",
    " "
   ]
  },
  {
   "cell_type": "code",
   "execution_count": 20,
   "id": "7916437d",
   "metadata": {
    "tags": [
     "Function"
    ]
   },
   "outputs": [],
   "source": [
    "def solver(dic):\n",
    "    \"\"\"\n",
    "    Objective: get \\vec{d} ass on trees from range of values of d_i and relations.\n",
    "    Input:dictionary for all values of vec{d} with relations which will determine d_i for singlton i.\n",
    "    Returns: vec{d} main\n",
    "    \"\"\"\n",
    "    \n",
    "    # Extract the values of d1 to d6 from the input dictionary\n",
    "    d_values = [dic[key] for key in sorted(dic.keys()) if len(key) == 1]\n",
    "\n",
    "    # Extract the sets of sums from the input dictionary\n",
    "    sum_sets = {}\n",
    "    for key in dic.keys():\n",
    "        if len(key) >1:\n",
    "            value = dic[key]\n",
    "            if isinstance(value, (list, tuple)):\n",
    "                sum_sets[key] = set(value)\n",
    "            else:\n",
    "                sum_sets[key] = set([value])\n",
    "#     print(\"sum_sets\",sum_sets)\n",
    "\n",
    "    # Initialize a list to store the values of d1 to d6 that satisfy the conditions\n",
    "    solutions = []\n",
    "\n",
    "    # Iterate through all possible combinations of d1 to d6\n",
    "    for d in itertools.product(*d_values):\n",
    "        \n",
    "#         print(d)\n",
    "        \n",
    "        # Check if all sums are in their respective sets\n",
    "        valid = True\n",
    "        for key, s in sum_sets.items():\n",
    "            indices = [int(i) for i in key]\n",
    "            if sum([d[i] for i in indices]) not in s:\n",
    "#                 print(\"key\",key,\"s\",s)\n",
    "                \n",
    "                valid = False\n",
    "                break\n",
    "        # If all sums are valid, add the solution\n",
    "        if valid:\n",
    "            solutions.append(d)\n",
    "\n",
    "    # Print the solutions\n",
    "    if len(solutions) == 0:\n",
    "        print(False,\"No solutions found\")\n",
    "        return False,\"No solutions found\"\n",
    "    if len(solutions) >1 :\n",
    "        return False,\"More than one solution found\"\n",
    "    else: #1 solution found\n",
    "        \n",
    "#         for d in solutions:\n",
    "#             print(\" \".join([f\"d{i} = {d[i-1]}\" for i in range(1, len(d_values)+1)]))\n",
    "        [d_tuple]=solutions\n",
    "        return list(d_tuple),\"Exactly one divisor\""
   ]
  },
  {
   "cell_type": "markdown",
   "id": "315c6f07-aeae-4017-879f-663ffe32d591",
   "metadata": {},
   "source": [
    "The input for solver is a dictionary which carries the range of values of $\\vec{d}_{I}$ satisfying,\n",
    "\n",
    "$$lower bound< \\vec{d}_{I}<upper bound$$\n",
    "\n",
    "for each $\\Gamma^{'}_{I}$. To obtain this dictionary we use the following (note the integer range, change if worknig with very large graphs, or significanty away from $\\vec{0}$)."
   ]
  },
  {
   "cell_type": "code",
   "execution_count": 19,
   "id": "4e3eee20",
   "metadata": {
    "tags": [
     "Function"
    ]
   },
   "outputs": [],
   "source": [
    "def divisor_bounds(G,phi_G, phi,int_range=10):\n",
    "    \n",
    "    \"\"\"\n",
    "        Obj: Returns bounds on elements of vec{d} and the relations to be passed to solve to find the unique assignment on T.   \n",
    "        Get the ranges for d_i +...+d_j where i ranges over complete subg of cut.\n",
    "\n",
    "        Inputs:\n",
    "        int_range:Simulates the integers increase size if fails.\n",
    "        phi_G =  A dictionary that records indexs of cuts as keys, and value=[num_e_in_tree,num_e_notin_tree]\n",
    "    \n",
    "        Returns: a dictionary of the form dic = {\"1\":[1], \"2\":[0],\"3\":[0],\"12\":[1],\"13\":[1],\"23\":[0]}\n",
    "        \n",
    "    \"\"\"\n",
    "    \n",
    "    # Generate a list of integers from 1 to 200\n",
    "    integers = range(-int_range-1, int_range+1)\n",
    "    \n",
    "    S=[] #Stored (key,values)\n",
    "\n",
    "    \n",
    "    #Add the sum to zero requirement: \n",
    "    #length of phi:\n",
    "    n=len(phi)\n",
    "    s = \"\".join([str(i) for i in range(n)])\n",
    "    # # We add the total degree equation to inequals for phi\n",
    "    # deg=0 #will be 0 for trees.\n",
    "    # tot_equ1=[-deg,]+ [1]*n\n",
    "    # tot_equ2=[deg,]+ [-1]*n\n",
    "    S.append((s,0))\n",
    "        \n",
    "    for indexor in list(phi_G.keys()):\n",
    "\n",
    "        num_e_in_tree,num_e_notin_tree,gamma0_missing_edges=phi_G[indexor] #value=[num_e_in_tree,num_e_notin_tree]    \n",
    "\n",
    "        upper_threshold=get_upper_threshold(indexor,phi,num_e_in_tree,num_e_notin_tree,gamma0_missing_edges)\n",
    "\n",
    "        lower_threshold=get_lower_threshold(indexor,phi,num_e_in_tree,num_e_notin_tree,gamma0_missing_edges)\n",
    "\n",
    "        # Use a list comprehension to filter out integers above the threshold\n",
    "        integers_between_threshold = [x for x in integers if upper_threshold>x > lower_threshold]\n",
    "\n",
    "        \n",
    "        S.append((indexor,integers_between_threshold))\n",
    "\n",
    "\n",
    "     #Turn S into dictionary.  \n",
    "    dic=dict(S)\n",
    "        \n",
    "    return dic"
   ]
  },
  {
   "cell_type": "markdown",
   "id": "b674b91b-892a-404c-b07b-7007d1548504",
   "metadata": {
    "tags": []
   },
   "source": [
    "For a fixed $\\phi \\in V^{d}(\\Gamma)$, $T$, elementary induced subgraph $\\Gamma^{'}_{I}$ and $\\vec{d} \\in \\sigma_{\\Gamma}(T)$ to obtain the lower and upper bounds for a given $\\vec{d}_{I}$ we have the functions get_lower_threshold and get_upper_threshold that give the lower and upper bound of,\n",
    "\n",
    "$$L_{T,\\Gamma^{'}_{I}} + \\phi_{I} <\\vec{d}_{I}<U_{T,\\Gamma^{'}_{I}} + \\phi_{I} .$$\n"
   ]
  },
  {
   "cell_type": "code",
   "execution_count": 18,
   "id": "8724698e-91a9-4495-9850-53326d497b36",
   "metadata": {
    "tags": [
     "Function"
    ]
   },
   "outputs": [],
   "source": [
    "def get_lower_threshold(indexor,phi,num_e_in_tree,num_e_notin_tree,gamma0_missing_edges):\n",
    "    \n",
    "    \"\"\"\n",
    "    Objective: get lower constant bounding sum d_i\n",
    "    Input:\n",
    "    indexor = is the set of vertices which determine the elementary induced subgraph of a given cut.\n",
    "    Returns: constant\n",
    "    \"\"\"\n",
    "\n",
    "    #get b term\n",
    "    T_term=num_e_in_tree*0.5\n",
    "    T_comp_term=num_e_notin_tree*0.5\n",
    "    phi_comp_sum=sum_comps(phi,indexor)\n",
    "            \n",
    "    lower_term=-T_term  -T_comp_term-gamma0_missing_edges+phi_comp_sum\n",
    "\n",
    "    return lower_term"
   ]
  },
  {
   "cell_type": "code",
   "execution_count": 18,
   "id": "2770d0f9-e9a8-4e98-9ffb-68492c94a5bc",
   "metadata": {
    "tags": [
     "Function"
    ]
   },
   "outputs": [],
   "source": [
    "def get_upper_threshold(indexor,phi,num_e_in_tree,num_e_notin_tree,gamma0_missing_edges):\n",
    "    \n",
    "    \"\"\"\n",
    "    Objective: Get upper constant\n",
    "    Input:\n",
    "    Returns:constant\n",
    "    \"\"\"\n",
    "\n",
    "    #get b term\n",
    "    T_term=num_e_in_tree*0.5\n",
    "    T_comp_term=num_e_notin_tree*0.5\n",
    "    phi_comp_sum=sum_comps(phi,indexor)\n",
    "    \n",
    "    upper_term=T_term  -T_comp_term-gamma0_missing_edges+phi_comp_sum\n",
    "\n",
    "\n",
    "    return upper_term"
   ]
  },
  {
   "cell_type": "markdown",
   "id": "caf729fe-9bf6-494d-85b8-9dcacb804f8a",
   "metadata": {
    "tags": []
   },
   "source": [
    "For the functions lower\\_part and upper\\_part the following terms correspond to:\n",
    "\n",
    "1) T\\_term:\n",
    "    \n",
    "$$\\frac{\\left|\\operatorname{E}\\left(T\\right) \\backslash\\left(\\operatorname{E}\\left(\\Gamma^{\\prime}_{I}\\right) \\cup \\operatorname{E}\\left(\\Gamma^{\\prime c}_{I^c}\\right)\\right)\\right|}{2}$$\n",
    "\n",
    "2) T\\_comp\\_term:\n",
    "    \n",
    "$$\\frac{\\left|\\operatorname{E}\\left(T^c\\right) \\backslash (\\operatorname{E}\\left(\\Gamma^{\\prime}\\right) \\cup \\operatorname{E}\\left(\\Gamma^{\\prime c}\\right))\\right|}{2}$$\n",
    "    \n",
    "3) phi\\_comp\\_sum:\n",
    "    \n",
    "$$\\phi_{I}= \\sum_{v \\in V\\left(\\Gamma^{\\prime}_{I}\\right)}\\phi(v)$$\n",
    "    \n"
   ]
  },
  {
   "cell_type": "markdown",
   "id": "46a3f45b-4c06-42ed-bd3b-e74c5478800e",
   "metadata": {},
   "source": [
    "For a fixed $T \\in \\mathcal{ST}(\\Gamma)$ to obtain the inputs necessary for the upper and lower bounds we use phi\\_tree\\_inequalities\\_data which records for each $I$ of $\\Gamma^{'}_{I}$ the conditions,\n",
    "\n",
    "1) The number of edges in a given cut $\\operatorname{E}\\left(\\Gamma^{\\prime}_{I}\\right) \\cup \\operatorname{E}\\left(\\Gamma^{\\prime c}_{I^c}\\right)$\n",
    "\n",
    "2) the number of edges in a cut that are also in $T$\n",
    "\n",
    "3) the number of edges in a cut that are not in $T$\n",
    "\n",
    "3) the number of edges $\\left|\\operatorname{E}\\left(T^c\\right) \\cap \\operatorname{E}\\left(\\Gamma^{\\prime}_{I}\\right)\\right|$."
   ]
  },
  {
   "cell_type": "code",
   "execution_count": 16,
   "id": "fb74d7e0-8ffa-4f5c-b4ef-d525818bd998",
   "metadata": {},
   "outputs": [],
   "source": [
    "def phi_tree_inequalities_data(G,T): #Main\n",
    "    \n",
    "    \"\"\"\n",
    "    Objective: Used in tree_poly\n",
    "    Inputs: \n",
    "    G: graph\n",
    "    T:graph of spanning tree (or any spanning connected subgraph)\n",
    "    \n",
    "    Return:dictionary of data used to define the phi-tree inequalties. \n",
    "    Returns phi_G\n",
    "\n",
    "    Dict contains the vertices of the cut : key\n",
    "    List of [e_in_tree ,e_notin_tree]: value\n",
    "    \n",
    "    Where num_e_in_tree = edges of cut the belong to tree\n",
    "         ,num_e_notin_tree= edges of cut that do not belong to tree\n",
    "         \n",
    "    terms=[num_e_in_tree ,num_e_notin_tree,gamma0_missing_edges]\n",
    "\n",
    "    \"\"\"\n",
    "    \n",
    "    #for main\n",
    "\n",
    "    pairs=get_pairs_con_subg(G)\n",
    "\n",
    "    inequ_data=[]\n",
    "    for pair in pairs: \n",
    "        \n",
    "        #As only care about one complete subg, we get the number of missing edges of T and complete_subg.\n",
    "        complete_subg=pair[0]\n",
    "        gamma0_missing_edges=get_gamma0_missing_edges(G,T,complete_subg)\n",
    "        \n",
    "        \n",
    "        #Would like to know the edges that G has in the cut. i.e. cut_edges_G\n",
    "        cut_edges=get_cut_edges(G,pair)\n",
    "\n",
    "        num_e_in_tree ,num_e_notin_tree=edges_cut_inandnotin_tree(cut_edges,T)\n",
    "\n",
    "        terms=[num_e_in_tree ,num_e_notin_tree,gamma0_missing_edges]\n",
    "        \n",
    "#         print(\"pair[0].vertices():\",pair[0].vertices(),\"pair[1].vertices():\",pair[1].vertices())\n",
    "#         print(\"[num_e_in_tree ,num_e_notin_tree]\",terms)\n",
    "\n",
    "\n",
    "        \"Do we need to add the data for both subg in pair?\"\n",
    "\n",
    "        #get vertices of subg in pair and turn to \"v1v2v3\" format.\n",
    "        subg1_l=pair[0].vertices()\n",
    "        subg1 = ''.join(subg1_l)\n",
    "        inequ_data.append((subg1,terms)) #subg1 is the indexor in phi_tree_formatted_hyperplanes\n",
    "\n",
    "#         print(\"(subg1,terms):\",(subg1,terms))\n",
    "#         subg2_l=pair[1].vertices()\n",
    "#         subg2 = ''.join(subg2_l)\n",
    "#         inequ_data.append((subg2,terms))\n",
    "\n",
    "\n",
    "    #Now join to phi-inequal data dict\n",
    "    phi_tree_iequal_dict = {t[0]: t[1] for t in inequ_data}\n",
    "\n",
    "    return phi_tree_iequal_dict"
   ]
  },
  {
   "cell_type": "markdown",
   "id": "26a61181-c09b-45cd-bd72-2d873c740cbb",
   "metadata": {
    "tags": []
   },
   "source": [
    "We now describe the functions which give 1)-4). First we must determine the number of edges in a given cut $(\\Gamma^{'}_{I},\\Gamma^{'c}_{I^c})$"
   ]
  },
  {
   "cell_type": "code",
   "execution_count": null,
   "id": "e1fa82e9-201f-402b-ab86-0aabd465172a",
   "metadata": {
    "tags": [
     "Function"
    ]
   },
   "outputs": [],
   "source": [
    "def get_cut_edges(G,pair): #for phi_tree_inequalities_data\n",
    "    \n",
    "    \"\"\"\n",
    "    Obj:Get list of the edges in a cut for a given pair, \n",
    "    for a pair of connected subgraphs that partitions the vertices of G.\n",
    "    \n",
    "    Return: list of edges in cut for a pair of connected subgraphs that partition the vertices of G \n",
    "    \"\"\"\n",
    "    a_edges=pair[0].edges()\n",
    "    b_edges=pair[1].edges()\n",
    "    total_edges=a_edges+b_edges\n",
    "    \n",
    "    edges_G=G.edges()\n",
    "\n",
    "    #Cut edges.\n",
    "    cut_edges=[ e for e in edges_G if e not in total_edges]\n",
    "    \n",
    "    return cut_edges"
   ]
  },
  {
   "cell_type": "markdown",
   "id": "c7dec754-3499-4b52-9376-10eb3bbc2de6",
   "metadata": {
    "tags": []
   },
   "source": [
    "The next function determines the number of edges of a given cut belonging to the tree and in particulari.e. $\\left|\\operatorname{E}\\left(T^c\\right) \\backslash (\\operatorname{E}\\left(\\Gamma^{\\prime}_{I}\\right) \\cup \\operatorname{E}\\left(\\Gamma^{\\prime c}_{I^c}\\right))\\right|,$ and the number of edges in a given cut $(\\Gamma^{'},\\Gamma^{'c})$ belonging to $\\Gamma \\setminus T$ i.e. $\\left|\\operatorname{E}\\left(T\\right) \\backslash\\left(\\operatorname{E}\\left(\\Gamma^{\\prime}_{I}\\right) \\cup \\operatorname{E}\\left(\\Gamma^{\\prime c}_{I^c}\\right)\\right)\\right|.$\n",
    "\n",
    "\n",
    "  "
   ]
  },
  {
   "cell_type": "code",
   "execution_count": null,
   "id": "c0759f48-5ac1-4ad6-b1dd-e06bcde62896",
   "metadata": {
    "tags": [
     "Function"
    ]
   },
   "outputs": [],
   "source": [
    "def edges_cut_inandnotin_tree(cut_edges,tree):#Used in phi_tree_inequalities_data\n",
    "    \n",
    "    \"\"\"\n",
    "    \n",
    "    Obj: Consider cut_edges_G and ask if any of the edges of T are in cut_edges_G\n",
    "\n",
    "    Returns: Number of edges in tree, and not in tree\n",
    "    \"\"\"\n",
    "\n",
    "    tree_edges=tree.edges()\n",
    "\n",
    "    e_in_tree=[edge for edge in cut_edges if edge in tree_edges]\n",
    "    # print(\"edges of cut that belong to tree:\",tree_edges_cut)\n",
    "\n",
    "    e_notin_tree=[edge for edge in cut_edges if edge not in tree_edges]\n",
    "    # print(\"edges of cut that do not belong to tree:\",tree_comp_edges_cut)\n",
    "    \n",
    "    num_e_in_tree ,num_e_notin_tree=len(e_in_tree),len(e_notin_tree)\n",
    "    \n",
    "    return num_e_in_tree ,num_e_notin_tree"
   ]
  },
  {
   "cell_type": "markdown",
   "id": "491e6d29-06db-4e3b-b3e9-b2d6e2cadbb9",
   "metadata": {},
   "source": [
    "Finally the last function llows us to calculate the number of edges $\\left|\\operatorname{E}\\left(T^c\\right) \\cap \\operatorname{E}\\left(\\Gamma^{\\prime}_{I}\\right)\\right|$."
   ]
  },
  {
   "cell_type": "code",
   "execution_count": 16,
   "id": "3353f072-191e-4d51-9fdd-2d0763dfb152",
   "metadata": {},
   "outputs": [],
   "source": [
    "def get_gamma0_missing_edges(G,T,complete_subg):\n",
    "    \"\"\"\n",
    "    Objective:find adjustment to degree of divisors, a number, to correct to the total degree.\n",
    "    given by the number of edges in complete subgrahp which are not in gamm0\n",
    "    Input: gamma0 (the tree), and the complete_subg\n",
    "    Return: number of edges complete_subg has over T (on one side of the  cut).\n",
    "    \n",
    "    \n",
    "    Want |E(gamma0^c) cap E(gamma')| where gamma' is the complete subgraph and gamma0 the connected spanning subg.\n",
    "    \"\"\"\n",
    "    \n",
    "    \n",
    "    gamma0_complement=[e for e in G.edges() if e not in T.edges()]\n",
    "    \n",
    "    gamma0_comp_inter_complete_subg=[e for e in gamma0_complement if e in complete_subg.edges()]\n",
    "    \n",
    "    return len(gamma0_comp_inter_complete_subg)"
   ]
  },
  {
   "cell_type": "markdown",
   "id": "cf8e18bb-541f-4b48-899a-9f765f84b418",
   "metadata": {
    "jp-MarkdownHeadingCollapsed": true,
    "tags": []
   },
   "source": [
    "## Secondary Functions <a name=\"s12\"></a>"
   ]
  },
  {
   "cell_type": "markdown",
   "id": "a677a41f",
   "metadata": {
    "jp-MarkdownHeadingCollapsed": true,
    "tags": []
   },
   "source": [
    "### Get $\\sigma_{\\Gamma}^{\\phi}(\\Gamma)$ <a name=\"s11\"></a>"
   ]
  },
  {
   "cell_type": "markdown",
   "id": "bd6c296f-0cb3-4c88-a17b-3d8f98d79c99",
   "metadata": {},
   "source": [
    "Given $A_{\\Gamma}$ to obtain   $\\sigma_{\\Gamma}^{A_{\\Gamma}}(\\Gamma)$ we use w\\_stability. See \"1_Assignment_induced_datum.ipynb\" for the description of the following functions"
   ]
  },
  {
   "cell_type": "code",
   "execution_count": 15,
   "id": "c6d639f4-348c-46e8-8aea-aeecd1357416",
   "metadata": {},
   "outputs": [],
   "source": [
    "# Assignment_datum_for_G for w_stability:\n",
    "def get_sp_trees(G): #Out: list of edges in spanning tree\n",
    "    all_trees=[]\n",
    "    for g in list(G.spanning_trees()):\n",
    "        all_trees.append(g.edges(sort=True, labels=False))\n",
    "    return all_trees\n",
    "def list_difference(a, b):\n",
    "    \"https://stackoverflow.com/questions/8106227/difference-between-two-lists-with-duplicates-in-python\"\n",
    "    count = Counter(a) # count items in a\n",
    "    count.subtract(b)  # subtract items that are in b\n",
    "    diff = []\n",
    "    for x in a:\n",
    "        if count[x] > 0:\n",
    "           count[x] -= 1\n",
    "           diff.append(x)\n",
    "    return diff\n",
    "\n",
    "def chip_adding(graph_t,tree,ass):\n",
    "    \"\"\"\n",
    "    Inputs:\n",
    "    graph: G_edges graph edges\n",
    "    tree : spanning tree of graph\n",
    "    ass : an n=vert(graph) tuple on the spanning tree.\n",
    "    \n",
    "    recursion idea: https://stackoverflow.com/questions/53638816/python-library-function-to-re-apply-a-function-to-its-own-output-until-output-re\n",
    "    \"\"\"\n",
    "    \n",
    "    edges=graph_t # just want the edges \n",
    "    \n",
    "#     print(\"Gp edges\",graph_t)\n",
    "#     print(\"tree edges\",tree)\n",
    "    \n",
    "    n=len(ass)\n",
    "    complement=list_difference(graph_t,tree) #edges in complement.\n",
    "    \n",
    "    def rec_funct(edge_l,inputs,n):\n",
    "        data=[]\n",
    "        edge=edge_l[0]\n",
    "        \n",
    "        for b in inputs:\n",
    "            delta_1=np.zeros(n)\n",
    "            delta_2=np.zeros(n)\n",
    "            \n",
    "            delta_1[int(edge[0])]=1 #we chip add at the first vertex. #### <- CHANGED as taking vertices 0,..,n-1 now\n",
    "            delta_2[int(edge[1])]=1 #we chip add at the second vertex.\n",
    "            \n",
    "            b1=b+delta_1\n",
    "            b2=b+delta_2\n",
    "            data=data+[b1,b2]\n",
    "        \n",
    "        return (edge_l,data,n)\n",
    "    \n",
    "    def recursion(edge_l,inputs,n):\n",
    "        \n",
    "        new_data=rec_funct(edge_l,inputs,n)\n",
    "        edge_l=edge_l[1:] #removeing first edge        \n",
    "        new_data=(edge_l,new_data[1],new_data[2])\n",
    "                \n",
    "        if len(edge_l)==0:\n",
    "            new_inputs=new_data[1]\n",
    "            return new_inputs\n",
    "        else:\n",
    "            return recursion(*new_data)\n",
    "        \n",
    "    breaks=recursion(complement,[np.zeros(n)],n)\n",
    "    breaks=np.unique(breaks, axis=0)\n",
    "    \n",
    "    patch=[]\n",
    "    for bbreak in breaks:\n",
    "        patch.append(ass+bbreak)\n",
    "    \n",
    "    return patch\n",
    "\n",
    "def w_stability(graph,Assignments):\n",
    "    \n",
    "    \"\"\"\n",
    "    #Graphs are labelled v0 to v_n-1\n",
    "    Inputs:\n",
    "        graph: Any smallish finite multigraph\n",
    "        Assignments: A list of (complexity of graph many) lists of length vert(graph).\n",
    "    \n",
    "    Outputs: a list of lists of length vert(graph) corresponding to liine bundle multidegrees obtained by chip adding.\n",
    "\n",
    "    \"\"\"\n",
    "    G=graph\n",
    "    \n",
    "    G_edges=G.edges(sort=True, labels=False)\n",
    "    tree_l=get_sp_trees(G)\n",
    "\n",
    "    lbm_patches=[] # the set of patches,which we'll take the union of. \n",
    "    for index,tree in enumerate(tree_l):    \n",
    "        ass=Assignments[index]    \n",
    "        patch=chip_adding(G_edges,tree,ass)  \n",
    "        \n",
    "#         print(\"Patch\",[x.astype(int).tolist() for x in patch],\"\\n\") #If want to see patches of lbm.\n",
    "        \n",
    "        lbm_patches.append(patch)\n",
    "    \n",
    "    sig=np.concatenate(lbm_patches, axis=0)\n",
    "    \n",
    "    sig=sig.astype('int32')\n",
    "    \n",
    "#     print(np.array(sig))\n",
    "    sig=np.unique(sig, axis=0)\n",
    "    \n",
    "    return sig"
   ]
  },
  {
   "cell_type": "markdown",
   "id": "e568a18a-0bad-4cd3-80f1-1e6a209df6f6",
   "metadata": {},
   "source": [
    "To check that $\\sigma_{\\Gamma}^{A_{\\Gamma}}(\\Gamma)|=k(\\Gamma)$ we use the following. "
   ]
  },
  {
   "cell_type": "code",
   "execution_count": 15,
   "id": "616ba7b8-0bd7-43a8-8663-7c20dbb16740",
   "metadata": {},
   "outputs": [],
   "source": [
    "def check_size(G,sigma):\n",
    "#     print(\"len(get_sp_trees(G))\",len(get_sp_trees(G)))\n",
    "#     print(\"len(sigma)\",len(sigma))\n",
    "    if len(sigma)==len(get_sp_trees(G)):\n",
    "        x=\"This choice of assignments -- gives -- a stability condition.\"\n",
    "        y=True\n",
    "    else: \n",
    "        x=\"This choice of assignments -- not give -- a stability condition.\"\n",
    "        y= False \n",
    "    return y,x"
   ]
  },
  {
   "cell_type": "markdown",
   "id": "5e252cc9-9240-4361-8eef-48a1b991feaf",
   "metadata": {
    "tags": []
   },
   "source": [
    "### Elementary induced subgraphs $\\Gamma_{I}^{'}$"
   ]
  },
  {
   "cell_type": "markdown",
   "id": "639742aa-ed4b-4dad-baa4-eae4ea26bd9f",
   "metadata": {},
   "source": [
    "We obtain the set of all pairs of elementary induced subgraphs $\\Gamma_{I}^{'},\\Gamma_{I}^{'c}$ with the following."
   ]
  },
  {
   "cell_type": "code",
   "execution_count": 16,
   "id": "3f817795-3a57-40e8-9058-485fd43571e9",
   "metadata": {},
   "outputs": [],
   "source": [
    "def get_pairs_con_subg(G):# for phi_tree_inequalities_data\n",
    "    \n",
    "    \"\"\"\n",
    "    Note: we are not working with multigraphs so connected_subgraph_iterator should give subgraphs with all edges between\n",
    "    \n",
    "    If Issue may be HERE due to this. \n",
    "    \n",
    "    Objective: Used to get cut info and total degree adjustment\n",
    "    Input:\n",
    "    Return: Pairs of complete subgraphs for V and V^{c} such that V scup V^{c}=V(G)\n",
    "    \"\"\"\n",
    "    \n",
    "    vert_G=G.vertices()\n",
    "    edges_G=G.edges()\n",
    "    \n",
    "    #get list of connected subgraphs:\n",
    "    \n",
    "    #Want to get pairs of complete subgraphs for pairs of vertices that is a is disjoint union of all verts\n",
    "    ll=list(G.connected_subgraph_iterator())\n",
    "\n",
    "    # put them into pairs, where vertices are a disjoint union of G.\n",
    "    pairs=[]\n",
    "    for i in ll:\n",
    "        a=i.vertices()\n",
    "        for j in ll:\n",
    "            b=j.vertices()\n",
    "            if sorted(a+b)==vert_G:\n",
    "                #May need to take complete graph here containing a, and for b. \n",
    "                pairs.append((i,j))\n",
    "                \n",
    "#                 \"\"\"\n",
    "#                 We only need one subgraph in the cut, the following step prevents us having both subg in a cut.\n",
    "#                 \"\"\"\n",
    "#                 if (i,j) in pairs:\n",
    "#                     continue\n",
    "#                 if (j,i) in pairs:\n",
    "#                     continue\n",
    "#                 else:\n",
    "#                     pairs.append((i,j))\n",
    "                    \n",
    "#     for i in get_pairs_con_subg(G):\n",
    "#         print(i[0].vertices(),i[1].vertices())\n",
    "    return pairs"
   ]
  },
  {
   "cell_type": "markdown",
   "id": "0546e2b3-944e-46e5-a9e9-29aebdde4d2b",
   "metadata": {},
   "source": [
    "Given a elementary induced subgraphs $\\Gamma_{I}^{'}$ and $\\vec{d} \\in \\mathbb{Z}^{V(\\Gamma)}$, to obtain$\\vec{d}_{I}$ we use the following."
   ]
  },
  {
   "cell_type": "code",
   "execution_count": 16,
   "id": "cff374d1-2c80-4d3d-9689-fa56fa36a859",
   "metadata": {},
   "outputs": [],
   "source": [
    "def sum_comps(comp,indexor): #Done\n",
    "    \"\"\"returns the sum of the components of comp in the position by indexor\"\"\"\n",
    "    #for d and phi\n",
    "    sum_l=[comp[int(i)] for i in indexor] #Becuase of the vertex labeling of G having v_0....\n",
    "    return sum(sum_l)"
   ]
  },
  {
   "cell_type": "markdown",
   "id": "4005b9c7",
   "metadata": {
    "jp-MarkdownHeadingCollapsed": true,
    "tags": []
   },
   "source": [
    "# Examples <a name=\"s2\"></a>"
   ]
  },
  {
   "cell_type": "markdown",
   "id": "16d585ee",
   "metadata": {
    "jp-MarkdownHeadingCollapsed": true,
    "tags": [],
    "toc-hr-collapsed": true
   },
   "source": [
    "## $3$-necklace <a name=\"s21\"></a>"
   ]
  },
  {
   "cell_type": "markdown",
   "id": "dacc8c07",
   "metadata": {},
   "source": [
    "Let $\\Gamma$ by the $3$-necklace graph."
   ]
  },
  {
   "cell_type": "code",
   "execution_count": 23,
   "id": "d0310419",
   "metadata": {
    "tags": []
   },
   "outputs": [],
   "source": [
    "# graphname=\"G3\"\n",
    "G=Graph([(\"0\",\"1\"),(\"1\",\"2\"),(\"2\",\"0\")], multiedges=True)\n",
    "spanning_trees=[tree for tree in G.spanning_trees()]\n",
    "# plot(G, figsize=3)"
   ]
  },
  {
   "cell_type": "markdown",
   "id": "c223690e",
   "metadata": {
    "tags": []
   },
   "source": [
    "### Trivial stability condition"
   ]
  },
  {
   "cell_type": "markdown",
   "id": "7121d5c6",
   "metadata": {},
   "source": [
    "First recall the well know stability condition with the following tree assignment (note that we give the assignments as list of integers, these need to be in the same ordering as the spanning trees graphs of G given by list(G.spanning_trees()))."
   ]
  },
  {
   "cell_type": "code",
   "execution_count": 30,
   "id": "904e7c50",
   "metadata": {
    "tags": []
   },
   "outputs": [],
   "source": [
    "#known weak stability condition.\n",
    "# assignments=[(spanning_trees[0],[0,0,0]),(spanning_trees[1],[0,0,0]),(spanning_trees[2],[0,0,0])]\n",
    "Assignments=[[0,0,0],[0,0,0],[0,0,0]]"
   ]
  },
  {
   "cell_type": "markdown",
   "id": "cc0604c5",
   "metadata": {},
   "source": [
    "Taking the assignment induced datum we obtain $\\sigma_{\\Gamma}^{A_{\\Gamma}}(\\Gamma)$."
   ]
  },
  {
   "cell_type": "code",
   "execution_count": 31,
   "id": "c5d5612c",
   "metadata": {
    "tags": []
   },
   "outputs": [
    {
     "data": {
      "text/plain": [
       "array([[0, 0, 1],\n",
       "       [0, 1, 0],\n",
       "       [1, 0, 0]], dtype=int32)"
      ]
     },
     "execution_count": 31,
     "metadata": {},
     "output_type": "execute_result"
    }
   ],
   "source": [
    "w_stability(G,Assignments)"
   ]
  },
  {
   "cell_type": "markdown",
   "id": "1de633a6",
   "metadata": {},
   "source": [
    "Given a $\\phi$ we can reobtain obtain $A_{\\Gamma}:=\\sigma_{\\Gamma}^{\\phi}|_{\\mathcal{ST(\\Gamma)}}$. We use get_assignment_phi() to do this for each tree here."
   ]
  },
  {
   "cell_type": "code",
   "execution_count": 33,
   "id": "bdd618ff",
   "metadata": {
    "tags": []
   },
   "outputs": [],
   "source": [
    "phi=(0.3,0.3,0.3)"
   ]
  },
  {
   "cell_type": "code",
   "execution_count": 34,
   "id": "a8f79fb3",
   "metadata": {
    "tags": []
   },
   "outputs": [
    {
     "name": "stdout",
     "output_type": "stream",
     "text": [
      "[0, 0, 0] [0, 0, 0] [0, 0, 0]\n"
     ]
    }
   ],
   "source": [
    "ass_1=get_assignment_phi(G,spanning_trees[0],phi)\n",
    "ass_2=get_assignment_phi(G,spanning_trees[1],phi)\n",
    "ass_3=get_assignment_phi(G,spanning_trees[2],phi)\n",
    "print(ass_1,ass_2,ass_3) #[0, 0, 0],[0, 0, 0],[0, 0, 0]"
   ]
  },
  {
   "cell_type": "markdown",
   "id": "91888639",
   "metadata": {},
   "source": [
    "Alternatively we can do this as follows."
   ]
  },
  {
   "cell_type": "code",
   "execution_count": 35,
   "id": "e8070834",
   "metadata": {},
   "outputs": [
    {
     "data": {
      "text/plain": [
       "[(Graph on 3 vertices, [0, 0, 0]),\n",
       " (Graph on 3 vertices, [0, 0, 0]),\n",
       " (Graph on 3 vertices, [0, 0, 0])]"
      ]
     },
     "execution_count": 35,
     "metadata": {},
     "output_type": "execute_result"
    }
   ],
   "source": [
    "get_all_assignment_phi(phi,G)"
   ]
  },
  {
   "cell_type": "markdown",
   "id": "f181ad9e",
   "metadata": {},
   "source": [
    "Let us now take the assignment induced datum and see that $A_{\\Gamma}$ determined by $\\phi$ gives the previous stability condition."
   ]
  },
  {
   "cell_type": "code",
   "execution_count": 38,
   "id": "39f2a03e",
   "metadata": {},
   "outputs": [],
   "source": [
    "# assignments=[(spanning_trees[0],ass_1),(spanning_trees[1],ass_2),(spanning_trees[2],ass_3)]\n",
    "assignments=[ass_1,ass_2,ass_3]"
   ]
  },
  {
   "cell_type": "code",
   "execution_count": 39,
   "id": "309187ff",
   "metadata": {},
   "outputs": [
    {
     "data": {
      "text/plain": [
       "array([[0, 0, 1],\n",
       "       [0, 1, 0],\n",
       "       [1, 0, 0]], dtype=int32)"
      ]
     },
     "execution_count": 39,
     "metadata": {},
     "output_type": "execute_result"
    }
   ],
   "source": [
    "w_stability(G,assignments)"
   ]
  },
  {
   "cell_type": "markdown",
   "id": "e5fff988",
   "metadata": {
    "tags": []
   },
   "source": [
    "### Non-trivial stability condition"
   ]
  },
  {
   "cell_type": "markdown",
   "id": "8b73c2d6",
   "metadata": {},
   "source": [
    "Let us do this for the non-trivial example. Consider the tree assignment $A_{\\Gamma}$ and $\\sigma_{\\Gamma}^{A_{\\Gamma}}(\\Gamma)$."
   ]
  },
  {
   "cell_type": "code",
   "execution_count": 41,
   "id": "91ce6512",
   "metadata": {
    "tags": []
   },
   "outputs": [
    {
     "data": {
      "text/plain": [
       "array([[ 0,  1,  0],\n",
       "       [ 1,  0,  0],\n",
       "       [ 1,  1, -1]], dtype=int32)"
      ]
     },
     "execution_count": 41,
     "metadata": {},
     "output_type": "execute_result"
    }
   ],
   "source": [
    "#known weak stability condition.\n",
    "# assignments=[(spanning_trees[0],[0,0,0]),(spanning_trees[1],[0,1,-1]),(spanning_trees[2],[1,0,-1])]\n",
    "assignments=[[0,0,0],[0,1,-1],[1,0,-1]]\n",
    "w_stability(G,assignments)"
   ]
  },
  {
   "cell_type": "markdown",
   "id": "92f03b2a",
   "metadata": {},
   "source": [
    "Given a $\\phi$ we reobtain $A_{\\Gamma}$."
   ]
  },
  {
   "cell_type": "code",
   "execution_count": 42,
   "id": "16c8ccaf",
   "metadata": {
    "tags": []
   },
   "outputs": [],
   "source": [
    "phi=(0.6,0.6,-0.3)"
   ]
  },
  {
   "cell_type": "code",
   "execution_count": 43,
   "id": "eb745d1b",
   "metadata": {
    "tags": []
   },
   "outputs": [
    {
     "name": "stdout",
     "output_type": "stream",
     "text": [
      "[0, 0, 0] [0, 1, -1] [1, 0, -1]\n"
     ]
    }
   ],
   "source": [
    "ass_1=get_assignment_phi(G,spanning_trees[0],phi)\n",
    "ass_2=get_assignment_phi(G,spanning_trees[1],phi)\n",
    "ass_3=get_assignment_phi(G,spanning_trees[2],phi)\n",
    "\n",
    "print(ass_1,ass_2,ass_3) #[0, 0, 0],[0, 0, 0],[0, 0, 0]"
   ]
  },
  {
   "cell_type": "markdown",
   "id": "b60d9620",
   "metadata": {},
   "source": [
    "Let us now take the assignment induced datum and see that $A_{\\Gamma}$ determinedd by $\\phi$ gives the previous stability condition."
   ]
  },
  {
   "cell_type": "code",
   "execution_count": 46,
   "id": "99fd1f7a",
   "metadata": {},
   "outputs": [],
   "source": [
    "assignments=[(spanning_trees[0],ass_1),(spanning_trees[1],ass_2),(spanning_trees[2],ass_3)]\n",
    "assignments=[ass_1,ass_2,ass_3]"
   ]
  },
  {
   "cell_type": "code",
   "execution_count": 47,
   "id": "eff2a119",
   "metadata": {},
   "outputs": [
    {
     "data": {
      "text/plain": [
       "array([[ 0,  1,  0],\n",
       "       [ 1,  0,  0],\n",
       "       [ 1,  1, -1]], dtype=int32)"
      ]
     },
     "execution_count": 47,
     "metadata": {},
     "output_type": "execute_result"
    }
   ],
   "source": [
    "w_stability(G,assignments)"
   ]
  },
  {
   "cell_type": "markdown",
   "id": "9d5c6d70",
   "metadata": {},
   "source": [
    "## $\\Gamma_{122}$ <a name=\"s22\"></a>"
   ]
  },
  {
   "cell_type": "markdown",
   "id": "bea6b0de",
   "metadata": {},
   "source": [
    "Consider the following graph and let $d=b_{1}(\\Gamma)=2$."
   ]
  },
  {
   "cell_type": "code",
   "execution_count": 48,
   "id": "ff6cd54c",
   "metadata": {},
   "outputs": [
    {
     "data": {
      "image/png": "[encoded data removed]",
      "text/plain": [
       "Graphics object consisting of 10 graphics primitives"
      ]
     },
     "execution_count": 48,
     "metadata": {},
     "output_type": "execute_result"
    }
   ],
   "source": [
    "graphname=\"G4M2\"\n",
    "E=[('0', '1'), ('0', '2'), ('0', '3'), ('1', '2'), ('2', '3')] \n",
    "G=Graph(E, multiedges=True)\n",
    "spanning_trees=[tree for tree in G.spanning_trees()] #8\n",
    "plot(G, figsize=3)"
   ]
  },
  {
   "cell_type": "markdown",
   "id": "76cfbf7c",
   "metadata": {},
   "source": [
    "Consider the following $\\phi$."
   ]
  },
  {
   "cell_type": "code",
   "execution_count": 54,
   "id": "1b3d9b79",
   "metadata": {},
   "outputs": [],
   "source": [
    "#break divisor case:\n",
    "# phi=(0.75, 0.25, 0.75,0.25)\n",
    "\n",
    "#work\n",
    "# phi=( 1.25, 0.5, 0.75,-0.5)\n",
    "\n",
    "phi=(0.75,0.5, 1.25, -0.5)\n",
    "\n",
    "# phi=(0.25, 0.75, 0.25, 0.75)"
   ]
  },
  {
   "cell_type": "markdown",
   "id": "8ab4b832",
   "metadata": {},
   "source": [
    "Let us take the $A_{\\Gamma}$ given by the above $\\phi$."
   ]
  },
  {
   "cell_type": "code",
   "execution_count": 55,
   "id": "d94fe719",
   "metadata": {},
   "outputs": [
    {
     "name": "stdout",
     "output_type": "stream",
     "text": [
      "[0, 0, 1, -1] [0, 0, 1, -1] [0, 0, 1, -1] [0, 0, 1, -1] [0, 0, 0, 0] [0, 1, 0, -1] [0, 0, 1, -1] [1, 0, 0, -1]\n"
     ]
    }
   ],
   "source": [
    "ass_1=get_assignment_phi(G,spanning_trees[0],phi)\n",
    "ass_2=get_assignment_phi(G,spanning_trees[1],phi)\n",
    "ass_3=get_assignment_phi(G,spanning_trees[2],phi)\n",
    "ass_4=get_assignment_phi(G,spanning_trees[3],phi)\n",
    "ass_5=get_assignment_phi(G,spanning_trees[4],phi)\n",
    "ass_6=get_assignment_phi(G,spanning_trees[5],phi)\n",
    "ass_7=get_assignment_phi(G,spanning_trees[6],phi)\n",
    "ass_8=get_assignment_phi(G,spanning_trees[7],phi)\n",
    "\n",
    "print(ass_1,ass_2,ass_3,ass_4,ass_5,ass_6,ass_7,ass_8) #[0, 0, 0],[0, 0, 0],[0, 0, 0]"
   ]
  },
  {
   "cell_type": "markdown",
   "id": "4aafa64d",
   "metadata": {},
   "source": [
    "This $A_{\\Gamma}$ gives the following $\\sigma_{\\Gamma}^{A_{\\Gamma}}(\\Gamma)$."
   ]
  },
  {
   "cell_type": "code",
   "execution_count": 56,
   "id": "ddbf867e",
   "metadata": {},
   "outputs": [
    {
     "data": {
      "text/plain": [
       "array([[ 0,  0,  2,  0],\n",
       "       [ 0,  1,  1,  0],\n",
       "       [ 0,  1,  2, -1],\n",
       "       [ 1,  0,  1,  0],\n",
       "       [ 1,  0,  2, -1],\n",
       "       [ 1,  1,  0,  0],\n",
       "       [ 1,  1,  1, -1],\n",
       "       [ 2,  0,  1, -1]], dtype=int32)"
      ]
     },
     "execution_count": 56,
     "metadata": {},
     "output_type": "execute_result"
    }
   ],
   "source": [
    "assignments=[ass_1,ass_2,ass_3,ass_4,ass_5,ass_6,ass_7,ass_8]\n",
    "w_stability(G,assignments)"
   ]
  },
  {
   "cell_type": "markdown",
   "id": "c138ce40",
   "metadata": {
    "jp-MarkdownHeadingCollapsed": true,
    "tags": []
   },
   "source": [
    "# Leftovers"
   ]
  },
  {
   "cell_type": "code",
   "execution_count": null,
   "id": "b8cf66fe",
   "metadata": {},
   "outputs": [],
   "source": [
    "# def compare_assignment_l(ass_l1,ass_l2):\n",
    "\n",
    "#     \"\"\"\n",
    "#     Objective: Given a two lists of assignments asks is are equal by comparing ass for each tree.\n",
    "#     Input:\n",
    "#     Returns: True or False\n",
    "#     \"\"\"\n",
    "    \n",
    "#     #Make spanning trees in (T,ass) immutable\n",
    "#     ass_l1=[(T.copy(immutable=True),ass) for (T,ass) in ass_l1]\n",
    "#     ass_l2=[(T.copy(immutable=True),ass) for (T,ass) in ass_l2]\n",
    "    \n",
    "#     #Put ass_l1,ass_l2 into the correct order.\n",
    "\n",
    "#     # Create dictionaries to store the values in the lists\n",
    "#     dict1 = dict(ass_l1)\n",
    "#     dict2 = dict(ass_l2)\n",
    "\n",
    "#     # Check if the values for each key in both dictionaries are the same\n",
    "#     for key in dict1:\n",
    "#         if key in dict2:\n",
    "#             if dict1[key] == dict2[key]:\n",
    "#                 continue\n",
    "#             else:\n",
    "#                 return False\n",
    "#     return True"
   ]
  },
  {
   "cell_type": "code",
   "execution_count": 13,
   "id": "d53caa25",
   "metadata": {},
   "outputs": [],
   "source": [
    "# ## Get a phi in a polytope in a nice format.\n",
    "# def get_a_phi(poly):\n",
    "    \n",
    "#     \"\"\"\n",
    "#     Objective:Picks a representative phi from the polyope.\n",
    "#     Input:\n",
    "#     Return\n",
    "#     \"\"\"\n",
    "    \n",
    "# #     phi=poly.center()\n",
    "#     phi=poly.representative_point()\n",
    "#     phi=[round(i,3) for i in phi]\n",
    "#     return phi\n",
    "\n",
    "# def get_phi_frac(phi,limit=10):\n",
    "    \n",
    "#     \"\"\"\n",
    "#     Objective:>\n",
    "#     Input:\n",
    "#     Return: A list of strings of fraction.\n",
    "#     \"\"\"\n",
    "    \n",
    "#     phi=tuple([i.n() for i in phi])\n",
    "\n",
    "#     phi=tuple([i.nearby_rational(max_error=0.001) for i in phi]) # change from real to rational;\n",
    "    \n",
    "#     #Turn phi into a fraction.\n",
    "#     # frac_phi = tuple([str(i) for i in phi])\n",
    "#     frac_phi = tuple([i for i in phi])\n",
    "\n",
    "#     return frac_phi\n",
    "\n",
    "# def get_phi_av(lbm):\n",
    "    \n",
    "#     \"\"\"\n",
    "#     Objective: Gets the average of sigma_{gamma}(gamma) in fraction form.\n",
    "#     Input:\n",
    "#     Return:\n",
    "#     \"\"\" \n",
    "    \n",
    "#     num=len(lbm)\n",
    "    \n",
    "#     #lbm=given[[0,1,0],[1,0,0],[1,1,-1]] return the average [2/3,2/3,-1/3]\n",
    "#     arr=np.array(lbm).transpose()\n",
    "    \n",
    "#     phi=arr.sum(axis=1)\n",
    "\n",
    "#     phi_av=[Fraction(i,num) for i in list(phi)]\n",
    "    \n",
    "#     return phi_av\n",
    "\n",
    "# def phi_av_frac(phi_av):\n",
    "    \n",
    "#     formatted_fractions = []\n",
    "\n",
    "#     for fraction in phi_av:\n",
    "#         formatted_fraction = f\"{fraction.numerator}/{fraction.denominator}\"\n",
    "#         formatted_fractions.append(formatted_fraction)\n",
    "\n",
    "\n",
    "#     return formatted_fractions"
   ]
  }
 ],
 "metadata": {
  "kernelspec": {
   "display_name": "Python 3 (ipykernel)",
   "language": "python",
   "name": "python3"
  },
  "language_info": {
   "codemirror_mode": {
    "name": "ipython",
    "version": 3
   },
   "file_extension": ".py",
   "mimetype": "text/x-python",
   "name": "python",
   "nbconvert_exporter": "python",
   "pygments_lexer": "ipython3",
   "version": "3.10.8"
  }
 },
 "nbformat": 4,
 "nbformat_minor": 5
}
