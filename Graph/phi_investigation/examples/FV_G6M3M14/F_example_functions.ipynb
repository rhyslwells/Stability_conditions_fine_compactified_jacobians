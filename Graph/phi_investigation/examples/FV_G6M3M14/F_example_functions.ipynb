{
 "cells": [
  {
   "cell_type": "markdown",
   "metadata": {},
   "source": [
    "# Overview"
   ]
  },
  {
   "cell_type": "markdown",
   "metadata": {},
   "source": [
    "Let $\\sigma_{\\Gamma}\\in \\Sigma_{\\Gamma}^{d}$ (where $d=b_{1}(\\Gamma)$) and define $\\alpha_{\\sigma_{\\Gamma}}$ to be the map\n",
    "\n",
    "$$\\Gamma^{'} \\mapsto \\operatorname{Min}\\left\\{\\sum_{v \\in \\Gamma^{'}} \\vec{d} \\mid \\vec{d} \\in \\sigma_{\\Gamma}(\\Gamma)\\right\\}$$\n",
    "\n",
    "where $\\Gamma^{'}$ is an elementary induced subgraph of $\\Gamma$ (completely determined by its vertices)."
   ]
  },
  {
   "cell_type": "markdown",
   "metadata": {},
   "source": [
    "Let $\\Gamma$ be the graph $F$ described in the thesis (Filippo Viviani graph) and let $D$ be the set of  $\\sigma_{\\Gamma}\\in \\Sigma_{\\Gamma,T,D_T}$ (for $D_T=\\vec{0}$ and $T$ I have fixed earlier) which are not induced by a $\\phi \\in V^{d}(\\Gamma)$ (16 in total).\n",
    "\n",
    "In this notebook we return $\\alpha_{\\sigma_{\\Gamma}}$ for a $\\sigma_{\\Gamma}\\in D$.\n",
    "\n",
    "We hope that this might give us insight into proving that every stabiltiy condition given by a genus $2$ graph is induced by a $\\phi \\in V^{d}(\\Gamma)$.\n",
    "\n",
    "\n"
   ]
  },
  {
   "cell_type": "markdown",
   "metadata": {},
   "source": [
    "### Notes"
   ]
  },
  {
   "cell_type": "markdown",
   "metadata": {},
   "source": [
    "1) I could use what has been stated here to give an written example in the thesis (with an formula as in universal case) as to why a $\\sigma_{\\Gamma}\\in D$ is not induced by a $\\phi$.\n",
    "\n",
    "2) It is true that $\\alpha_{\\sigma_{\\Gamma}}(\\Gamma^{'})+\\alpha_{\\sigma_{\\Gamma}}(\\Gamma^{'c}) = d- |\\#E(\\Gamma) \\setminus (E(\\Gamma^{'} \\cup E(\\Gamma^{'c})|+1$ (Yes for example).\n"
   ]
  },
  {
   "cell_type": "markdown",
   "metadata": {},
   "source": [
    "# Table of contents"
   ]
  },
  {
   "cell_type": "markdown",
   "metadata": {},
   "source": [
    "1. [Functions](#s1)\n",
    "2. [$\\alpha_{\\sigma_{\\Gamma}}$](#s2)\n"
   ]
  },
  {
   "cell_type": "markdown",
   "metadata": {
    "tags": []
   },
   "source": [
    "# Functions <a name=\"s1\"></a>"
   ]
  },
  {
   "cell_type": "code",
   "execution_count": 1,
   "metadata": {},
   "outputs": [],
   "source": [
    "import pickle\n",
    "import numpy as np"
   ]
  },
  {
   "cell_type": "code",
   "execution_count": 2,
   "metadata": {},
   "outputs": [],
   "source": [
    "def get_first_betti_number(G):\n",
    "    #for if the degree of divisors on trees is 0, the degree of lbm is this.\n",
    "    return len(G.edges())-len(G.vertices())+1"
   ]
  },
  {
   "cell_type": "code",
   "execution_count": 3,
   "metadata": {},
   "outputs": [],
   "source": [
    "def sum_comps(comp,indexor): #Done\n",
    "    \"\"\"returns the sum of the components of comp in the position by indexor\"\"\"\n",
    "    #for d and phi\n",
    "    sum_l=[comp[int(i)] for i in indexor] #Becuase of the vertex labeling of G having v_0....\n",
    "    return sum(sum_l)"
   ]
  },
  {
   "cell_type": "code",
   "execution_count": 4,
   "metadata": {},
   "outputs": [],
   "source": [
    "def get_min_val(indexor, sig_lst):\n",
    "    \"\"\"\n",
    "    Calculate the minimum value of sums in a list.\n",
    "\n",
    "    Input:\n",
    "    indexor: A string representing positions in the list, e.g., \"0243\".\n",
    "    sig_lst: A list of lists, e.g., [0, 6, 2, 4, 6].\n",
    "    \"\"\"\n",
    "\n",
    "    x = set()\n",
    "    for divisor in sig_lst:\n",
    "        divisor_comp_sum = sum_comps(divisor, indexor)\n",
    "        x.add(divisor_comp_sum)\n",
    "\n",
    "    min_val = min(x)  # Calculate the minimum value in the set\n",
    "\n",
    "    return min_val"
   ]
  },
  {
   "cell_type": "code",
   "execution_count": 5,
   "metadata": {},
   "outputs": [],
   "source": [
    "def get_pairs_con_subg(G):# for phi_tree_inequalities_data\n",
    "    \n",
    "    \"\"\"\n",
    "    Note: we are not working with multigraphs so connected_subgraph_iterator should give subgraphs with all edges between    \n",
    "    Objective: Used to get cut info and total degree adjustment\n",
    "    Input:\n",
    "    Return: Pairs of complete subgraphs for V and V^{c} such that V scup V^{c}=V(G)\n",
    "    \"\"\"\n",
    "    \n",
    "    vert_G=G.vertices()\n",
    "    edges_G=G.edges()\n",
    "    \n",
    "    #get list of connected subgraphs:\n",
    "    \n",
    "    #Want to get pairs of complete subgraphs for pairs of vertices that is a is disjoint union of all verts\n",
    "    ll=list(G.connected_subgraph_iterator())\n",
    "\n",
    "    # put them into pairs, where vertices are a disjoint union of G.\n",
    "    pairs=[]\n",
    "    for i in ll:\n",
    "        a=i.vertices()\n",
    "        for j in ll:\n",
    "            b=j.vertices()\n",
    "            if sorted(a+b)==vert_G:\n",
    "                #May need to take complete graph here containing a, and for b. \n",
    "                if (j,i) in pairs: # If we have (\\Gamma^{'},\\Gamma^{'c}) in pairs we dont need (\\Gamma^{'c},\\Gamma^{'})\n",
    "                    continue\n",
    "                else:\n",
    "                    pairs.append((i,j))\n",
    "    return pairs"
   ]
  },
  {
   "cell_type": "code",
   "execution_count": 6,
   "metadata": {},
   "outputs": [],
   "source": [
    "def get_cut_edges(G,pair): #for phi_tree_inequalities_data\n",
    "    \n",
    "    \"\"\"\n",
    "    Obj:Get list of the edges in a cut for a given pair, \n",
    "    for a pair of connected subgraphs that partitions the vertices of G.\n",
    "    \n",
    "    Return: list of edges in cut for a pair of connected subgraphs that partition the vertices of G \n",
    "    \"\"\"\n",
    "    a_edges=pair[0].edges()\n",
    "    b_edges=pair[1].edges()\n",
    "    total_edges=a_edges+b_edges\n",
    "    \n",
    "    edges_G=G.edges()\n",
    "\n",
    "    #Cut edges.\n",
    "    cut_edges=[ e for e in edges_G if e not in total_edges]\n",
    "    \n",
    "    return cut_edges"
   ]
  },
  {
   "cell_type": "markdown",
   "metadata": {},
   "source": [
    "I return $\\alpha_{\\sigma_{\\Gamma}}$ as a dictionary with keys recording the elementary induced subgraphs $(\\Gamma^{'},\\Gamma^{'c})$ with values recording $\\alpha_{\\sigma_{\\Gamma}}(\\Gamma^{'}),\\alpha_{\\sigma_{\\Gamma}}(\\Gamma^{'c}),$ the number of edgess in the cut of $(\\Gamma^{'},\\Gamma^{'c})$ and a True or False statement if the pair satisfies,\n",
    "\n",
    "$$\\alpha_{\\sigma_{\\Gamma}}(\\Gamma^{'})+\\alpha_{\\sigma_{\\Gamma}}(\\Gamma^{'c}) = d- |\\#E(\\Gamma) \\setminus (E(\\Gamma^{'} \\cup E(\\Gamma^{'c})|+1.$$"
   ]
  },
  {
   "cell_type": "code",
   "execution_count": 7,
   "metadata": {},
   "outputs": [],
   "source": [
    "def degree_statment(val_1,val_2,deg,cut_edges):\n",
    "    if val_1+val_2==deg-cut_edges+1:\n",
    "        return True\n",
    "    else:\n",
    "        return False"
   ]
  },
  {
   "cell_type": "code",
   "execution_count": 8,
   "metadata": {},
   "outputs": [],
   "source": [
    "def alpha_sig_gamma(G, sig_lst):\n",
    "    \"\"\"\n",
    "    Objective: Obtains the min of d in sigma{Gamma}(Gamma) for each elementary induced subgraph\n",
    "    \n",
    "    Inputs:\n",
    "    G: graph\n",
    "    sig_lst: the set sigma{Gamma}(Gamma) as a list of lists of divisors\n",
    "    \n",
    "    Returns phi_G as a\n",
    "    Dict contains the vertices elementary induced subg: key\n",
    "    and value: min value of d summed over subg\n",
    "    \"\"\"\n",
    "\n",
    "    deg = get_first_betti_number(G)\n",
    "\n",
    "    pairs = get_pairs_con_subg(G) #elementary induced subgraphs\n",
    "\n",
    "    phi_G = {} #alpha function\n",
    "    for pair in pairs:\n",
    "        \n",
    "        \n",
    "        edges_cut=len(get_cut_edges(G,pair))\n",
    "        \n",
    "        # Get vertices of subg in pair and turn to \"v1v2v3\" format.\n",
    "        subg1_l = pair[0].vertices()\n",
    "        elem_ind_subg_v1 = ''.join(subg1_l)\n",
    "        min_val1 = get_min_val(elem_ind_subg_v1, sig_lst)\n",
    "        \n",
    "        # Get vertices of subg in pair and turn to \"v1v2v3\" format.\n",
    "        subg2_l = pair[1].vertices()\n",
    "        elem_ind_subg_v2 = ''.join(subg2_l)\n",
    "        min_val2 = get_min_val(elem_ind_subg_v2, sig_lst)\n",
    "        \n",
    "        #Additional want so smallest induce subg is first, change key and value to correct\n",
    "        if len(elem_ind_subg_v1)>len(elem_ind_subg_v2):\n",
    "            \n",
    "            statement=degree_statment(min_val1,min_val2,deg,edges_cut)\n",
    "            key=(elem_ind_subg_v2,elem_ind_subg_v1)\n",
    "            val=(min_val2,min_val1,edges_cut,statement)\n",
    "            # Add key:value pair # {[('0','12345'): (0,1,3,True)]}\n",
    "            phi_G[key] = val  # Use dictionary notation to add key:value pairs\n",
    "            continue\n",
    "        \n",
    "        \n",
    "        statement=degree_statment(min_val1,min_val2,deg,edges_cut)\n",
    "        key=(elem_ind_subg_v1,elem_ind_subg_v2)\n",
    "        val=(min_val1,min_val2,edges_cut,statement)\n",
    "        # Add key:value pair # {[('0','12345'): (0,1,3,True)]}\n",
    "        phi_G[key] = val  # Use dictionary notation to add key:value pairs\n",
    "\n",
    "    return phi_G\n"
   ]
  },
  {
   "cell_type": "markdown",
   "metadata": {
    "tags": []
   },
   "source": [
    "# $\\alpha_{\\sigma_{\\Gamma}}$ for $\\sigma_{\\Gamma} \\in D$ <a name=\"s2\"></a>"
   ]
  },
  {
   "cell_type": "code",
   "execution_count": 9,
   "metadata": {},
   "outputs": [],
   "source": [
    "graphname=\"FV_G6M3M14\" \n",
    "# E=[('0', '1', 'e1'), ('0', '3', 'e7'), ('0', '5', 'e6'), ('1', '2', 'e2'), ('1', '4', 'e8'), ('2', '3', 'e3'), ('3', '4', 'e4'), ('4', '5', 'e5')] \n",
    "G=Graph([(\"0\",\"1\"),(\"1\",\"2\"),(\"2\",\"3\"),(\"3\",\"4\"),(\"4\",\"5\"),(\"5\",\"0\"),(\"0\",\"3\"),(\"1\",\"4\")], multiedges=True)\n",
    "# G=Graph(E, multiedges=True) #with edge labels"
   ]
  },
  {
   "cell_type": "markdown",
   "metadata": {},
   "source": [
    "We load the set $D$."
   ]
  },
  {
   "cell_type": "code",
   "execution_count": 10,
   "metadata": {},
   "outputs": [],
   "source": [
    "pickle_in = open(r\"FV_G6M3M14_degen.pkl\", \"rb\")\n",
    "# \"FV_G6M3M14\\FV_G6M3M14_degen.pkl\"\n",
    "data = pickle.load(pickle_in)\n",
    "pickle_in.close()"
   ]
  },
  {
   "cell_type": "code",
   "execution_count": 14,
   "metadata": {},
   "outputs": [
    {
     "name": "stdout",
     "output_type": "stream",
     "text": [
      "[('0', '1', None), ('0', '3', None), ('0', '5', None), ('1', '2', None), ('1', '4', None), ('2', '3', None), ('3', '4', None), ('4', '5', None)]\n"
     ]
    }
   ],
   "source": [
    "print(G.edges())"
   ]
  },
  {
   "cell_type": "code",
   "execution_count": 20,
   "metadata": {},
   "outputs": [
    {
     "data": {
      "text/plain": [
       "[[0, 0, 0, 0, 0, 0],\n",
       " [0, 0, 1, -1, 0, 0],\n",
       " [0, 1, 0, -1, 0, 0],\n",
       " [0, 0, 1, -1, 0, 0],\n",
       " [0, 0, 0, 0, 0, 0],\n",
       " [0, 0, 1, 0, -1, 0],\n",
       " [0, 1, 0, 0, -1, 0],\n",
       " [0, 1, 0, 0, -1, 0],\n",
       " [0, 0, 0, 0, 0, 0],\n",
       " [0, 0, 0, 0, 0, 0],\n",
       " [1, 0, 1, -1, -1, 0],\n",
       " [0, 0, 1, 0, -1, 0],\n",
       " [1, 1, 0, -1, -1, 0],\n",
       " [0, 1, 0, 0, -1, 0],\n",
       " [0, 1, 0, 0, -1, 0],\n",
       " [0, 0, 0, 0, 0, 0],\n",
       " [0, 0, 1, 0, -1, 0],\n",
       " [0, 1, 0, -1, 0, 0],\n",
       " [0, 1, 1, -1, -1, 0],\n",
       " [0, 0, 0, 0, -1, 1],\n",
       " [0, 1, 0, 0, -1, 0],\n",
       " [0, 1, 0, -1, -1, 1],\n",
       " [1, 0, 1, -1, -1, 0],\n",
       " [0, 1, 1, -1, -1, 0],\n",
       " [0, 2, 0, -1, -1, 0],\n",
       " [0, 1, 1, -1, -1, 0],\n",
       " [0, 0, 0, 1, -1, 0],\n",
       " [0, 1, 0, 0, -1, 0],\n",
       " [0, 1, 0, 0, -1, 0],\n",
       " [1, 1, 0, -1, -1, 0],\n",
       " [1, 0, 0, 0, -1, 0],\n",
       " [1, 0, 0, 0, -1, 0],\n",
       " [0, 1, 0, 0, -1, 0],\n",
       " [1, 1, 0, -1, -1, 0],\n",
       " [1, 1, 0, -1, -1, 0],\n",
       " [1, 1, 0, -1, -1, 0]]"
      ]
     },
     "execution_count": 20,
     "metadata": {},
     "output_type": "execute_result"
    }
   ],
   "source": [
    "data[0][0]"
   ]
  },
  {
   "cell_type": "code",
   "execution_count": 19,
   "metadata": {},
   "outputs": [
    {
     "name": "stdout",
     "output_type": "stream",
     "text": [
      "Edges not in tree 0: [('0', '1', None), ('0', '3', None), ('1', '2', None)], the assignment is [0, 0, 0, 0, 0, 0] \n",
      "\n",
      "Edges not in tree 1: [('0', '1', None), ('0', '3', None), ('1', '4', None)], the assignment is [0, 0, 1, -1, 0, 0] \n",
      "\n",
      "Edges not in tree 2: [('0', '1', None), ('0', '3', None), ('2', '3', None)], the assignment is [0, 1, 0, -1, 0, 0] \n",
      "\n",
      "Edges not in tree 3: [('0', '1', None), ('0', '3', None), ('3', '4', None)], the assignment is [0, 0, 1, -1, 0, 0] \n",
      "\n",
      "Edges not in tree 4: [('0', '1', None), ('0', '5', None), ('1', '2', None)], the assignment is [0, 0, 0, 0, 0, 0] \n",
      "\n",
      "Edges not in tree 5: [('0', '1', None), ('0', '5', None), ('1', '4', None)], the assignment is [0, 0, 1, 0, -1, 0] \n",
      "\n",
      "Edges not in tree 6: [('0', '1', None), ('0', '5', None), ('2', '3', None)], the assignment is [0, 1, 0, 0, -1, 0] \n",
      "\n",
      "Edges not in tree 7: [('0', '1', None), ('0', '5', None), ('3', '4', None)], the assignment is [0, 1, 0, 0, -1, 0] \n",
      "\n",
      "Edges not in tree 8: [('0', '1', None), ('1', '2', None), ('3', '4', None)], the assignment is [0, 0, 0, 0, 0, 0] \n",
      "\n",
      "Edges not in tree 9: [('0', '1', None), ('1', '2', None), ('4', '5', None)], the assignment is [0, 0, 0, 0, 0, 0] \n",
      "\n",
      "Edges not in tree 10: [('0', '1', None), ('1', '4', None), ('3', '4', None)], the assignment is [1, 0, 1, -1, -1, 0] \n",
      "\n",
      "Edges not in tree 11: [('0', '1', None), ('1', '4', None), ('4', '5', None)], the assignment is [0, 0, 1, 0, -1, 0] \n",
      "\n",
      "Edges not in tree 12: [('0', '1', None), ('2', '3', None), ('3', '4', None)], the assignment is [1, 1, 0, -1, -1, 0] \n",
      "\n",
      "Edges not in tree 13: [('0', '1', None), ('2', '3', None), ('4', '5', None)], the assignment is [0, 1, 0, 0, -1, 0] \n",
      "\n",
      "Edges not in tree 14: [('0', '1', None), ('3', '4', None), ('4', '5', None)], the assignment is [0, 1, 0, 0, -1, 0] \n",
      "\n",
      "Edges not in tree 15: [('0', '3', None), ('0', '5', None), ('1', '2', None)], the assignment is [0, 0, 0, 0, 0, 0] \n",
      "\n",
      "Edges not in tree 16: [('0', '3', None), ('0', '5', None), ('1', '4', None)], the assignment is [0, 0, 1, 0, -1, 0] \n",
      "\n",
      "Edges not in tree 17: [('0', '3', None), ('0', '5', None), ('2', '3', None)], the assignment is [0, 1, 0, -1, 0, 0] \n",
      "\n",
      "Edges not in tree 18: [('0', '3', None), ('0', '5', None), ('3', '4', None)], the assignment is [0, 1, 1, -1, -1, 0] \n",
      "\n",
      "Edges not in tree 19: [('0', '3', None), ('1', '2', None), ('1', '4', None)], the assignment is [0, 0, 0, 0, -1, 1] \n",
      "\n",
      "Edges not in tree 20: [('0', '3', None), ('1', '2', None), ('4', '5', None)], the assignment is [0, 1, 0, 0, -1, 0] \n",
      "\n",
      "Edges not in tree 21: [('0', '3', None), ('1', '4', None), ('2', '3', None)], the assignment is [0, 1, 0, -1, -1, 1] \n",
      "\n",
      "Edges not in tree 22: [('0', '3', None), ('1', '4', None), ('3', '4', None)], the assignment is [1, 0, 1, -1, -1, 0] \n",
      "\n",
      "Edges not in tree 23: [('0', '3', None), ('1', '4', None), ('4', '5', None)], the assignment is [0, 1, 1, -1, -1, 0] \n",
      "\n",
      "Edges not in tree 24: [('0', '3', None), ('2', '3', None), ('4', '5', None)], the assignment is [0, 2, 0, -1, -1, 0] \n",
      "\n",
      "Edges not in tree 25: [('0', '3', None), ('3', '4', None), ('4', '5', None)], the assignment is [0, 1, 1, -1, -1, 0] \n",
      "\n",
      "Edges not in tree 26: [('0', '5', None), ('1', '2', None), ('1', '4', None)], the assignment is [0, 0, 0, 1, -1, 0] \n",
      "\n",
      "Edges not in tree 27: [('0', '5', None), ('1', '2', None), ('3', '4', None)], the assignment is [0, 1, 0, 0, -1, 0] \n",
      "\n",
      "Edges not in tree 28: [('0', '5', None), ('1', '4', None), ('2', '3', None)], the assignment is [0, 1, 0, 0, -1, 0] \n",
      "\n",
      "Edges not in tree 29: [('0', '5', None), ('2', '3', None), ('3', '4', None)], the assignment is [1, 1, 0, -1, -1, 0] \n",
      "\n",
      "Edges not in tree 30: [('1', '2', None), ('1', '4', None), ('3', '4', None)], the assignment is [1, 0, 0, 0, -1, 0] \n",
      "\n",
      "Edges not in tree 31: [('1', '2', None), ('1', '4', None), ('4', '5', None)], the assignment is [1, 0, 0, 0, -1, 0] \n",
      "\n",
      "Edges not in tree 32: [('1', '2', None), ('3', '4', None), ('4', '5', None)], the assignment is [0, 1, 0, 0, -1, 0] \n",
      "\n",
      "Edges not in tree 33: [('1', '4', None), ('2', '3', None), ('3', '4', None)], the assignment is [1, 1, 0, -1, -1, 0] \n",
      "\n",
      "Edges not in tree 34: [('1', '4', None), ('2', '3', None), ('4', '5', None)], the assignment is [1, 1, 0, -1, -1, 0] \n",
      "\n",
      "Edges not in tree 35: [('2', '3', None), ('3', '4', None), ('4', '5', None)], the assignment is [1, 1, 0, -1, -1, 0] \n",
      "\n"
     ]
    }
   ],
   "source": [
    "assignments= data[0][2]\n",
    "for index,ass in enumerate(assignments):\n",
    "    T=ass[0]\n",
    "    \n",
    "    ed=[e for e in G.edges() if e not in T.edges()]\n",
    "    \n",
    "    print(f\"Edges not in tree {index}: {ed}, the assignment is {ass[1]} \\n\")\n",
    "    "
   ]
  },
  {
   "cell_type": "markdown",
   "metadata": {},
   "source": [
    "Let $\\sigma_{\\Gamma} \\in D $ (we take the first one in the list as an example) and consider $\\sigma_{\\Gamma}(\\Gamma)$. The divisors of this set are of the form $\\vec{d}=[d_0v_0,d_1 v_1,d_2 v_2,d_3v_3,d_4v_4,d_5v_5]$"
   ]
  },
  {
   "cell_type": "code",
   "execution_count": 30,
   "metadata": {},
   "outputs": [
    {
     "data": {
      "text/plain": [
       "array([[ 0,  0,  1,  1,  0,  1],\n",
       "       [ 0,  1,  0,  1,  0,  1],\n",
       "       [ 0,  1,  1,  0,  0,  1],\n",
       "       [ 0,  1,  1,  0,  1,  0],\n",
       "       [ 0,  1,  1,  1, -1,  1],\n",
       "       [ 0,  1,  1,  1,  0,  0],\n",
       "       [ 0,  2,  0,  0,  0,  1],\n",
       "       [ 0,  2,  0,  0,  1,  0],\n",
       "       [ 0,  2,  0,  1, -1,  1],\n",
       "       [ 0,  2,  0,  1,  0,  0],\n",
       "       [ 0,  2,  1,  0, -1,  1],\n",
       "       [ 0,  2,  1,  0,  0,  0],\n",
       "       [ 1,  0,  1,  0,  0,  1],\n",
       "       [ 1,  0,  1,  0,  1,  0],\n",
       "       [ 1,  0,  1,  1,  0,  0],\n",
       "       [ 1,  1,  0,  0,  0,  1],\n",
       "       [ 1,  1,  0,  0,  1,  0],\n",
       "       [ 1,  1,  0,  1, -1,  1],\n",
       "       [ 1,  1,  0,  1,  0,  0],\n",
       "       [ 1,  1,  1, -1,  0,  1],\n",
       "       [ 1,  1,  1, -1,  1,  0],\n",
       "       [ 1,  1,  1,  0, -1,  1],\n",
       "       [ 1,  1,  1,  0,  0,  0],\n",
       "       [ 1,  1,  1,  1, -1,  0],\n",
       "       [ 1,  2,  0,  0, -1,  1],\n",
       "       [ 1,  2,  0,  0,  0,  0],\n",
       "       [ 1,  2,  0,  1, -1,  0],\n",
       "       [ 1,  2,  1, -1, -1,  1],\n",
       "       [ 1,  2,  1, -1,  0,  0],\n",
       "       [ 1,  2,  1,  0, -1,  0],\n",
       "       [ 2,  0,  1, -1,  1,  0],\n",
       "       [ 2,  0,  1,  0,  0,  0],\n",
       "       [ 2,  1,  0,  0,  0,  0],\n",
       "       [ 2,  1,  0,  1, -1,  0],\n",
       "       [ 2,  1,  1, -1,  0,  0],\n",
       "       [ 2,  1,  1,  0, -1,  0]], dtype=int32)"
      ]
     },
     "execution_count": 30,
     "metadata": {},
     "output_type": "execute_result"
    }
   ],
   "source": [
    "sc_1=data[0]\n",
    "sc_1g=sc_1[1].tolist() #the set \\sigma_{\\Gamma}(\\Gamma) as a list of lists of divisors\n",
    "# sc_1g\n",
    "sc_1gnp=sc_1[1]\n",
    "sc_1gnp #for viewing purposes"
   ]
  },
  {
   "cell_type": "code",
   "execution_count": 33,
   "metadata": {
    "jupyter": {
     "outputs_hidden": true
    },
    "tags": []
   },
   "outputs": [
    {
     "data": {
      "text/plain": [
       "{('0', '12345'): (0, 1, 3, True),\n",
       " ('01', '2345'): (0, 0, 4, True),\n",
       " ('012', '345'): (1, -1, 4, True),\n",
       " ('45', '0123'): (-1, 2, 3, True),\n",
       " ('5', '01234'): (0, 2, 2, True),\n",
       " ('4', '01235'): (-1, 2, 3, True),\n",
       " ('3', '01245'): (-1, 2, 3, True),\n",
       " ('34', '0125'): (-2, 2, 4, True),\n",
       " ('2', '01345'): (0, 2, 2, True),\n",
       " ('23', '0145'): (0, 1, 3, True),\n",
       " ('015', '234'): (1, -1, 4, True),\n",
       " ('03', '1245'): (0, 0, 4, True),\n",
       " ('023', '145'): (0, 0, 4, True),\n",
       " ('1', '02345'): (0, 1, 3, True),\n",
       " ('14', '0235'): (0, 0, 4, True),\n",
       " ('12', '0345'): (1, 0, 3, True),\n",
       " ('035', '124'): (0, 0, 4, True),\n",
       " ('05', '1234'): (0, 1, 3, True),\n",
       " ('045', '123'): (0, 0, 4, True)}"
      ]
     },
     "execution_count": 33,
     "metadata": {},
     "output_type": "execute_result"
    }
   ],
   "source": [
    "# elem_ind_subg\n",
    "asg=alpha_sig_gamma(G,sc_1g)\n",
    "asg"
   ]
  },
  {
   "cell_type": "markdown",
   "metadata": {},
   "source": [
    "Recall $\\alpha_{\\sigma_{\\Gamma}}$ as a dictionary with keys recording the elementary induced subgraphs $(\\Gamma^{'},\\Gamma^{'c})$ with values recording $\\alpha_{\\sigma_{\\Gamma}}(\\Gamma^{'}),\\alpha_{\\sigma_{\\Gamma}}(\\Gamma^{'c}),$ the number of edgess in the cut of $(\\Gamma^{'},\\Gamma^{'c})$ and a True or False statement if the pair satisfies,\n",
    "\n",
    "$$\\alpha_{\\sigma_{\\Gamma}}(\\Gamma^{'})+\\alpha_{\\sigma_{\\Gamma}}(\\Gamma^{'c}) = d- |\\#E(\\Gamma) \\setminus (E(\\Gamma^{'} \\cup E(\\Gamma^{'c})|+1.$$"
   ]
  }
 ],
 "metadata": {
  "kernelspec": {
   "display_name": "SageMath 9.2",
   "language": "sage",
   "name": "sagemath"
  },
  "language_info": {
   "codemirror_mode": {
    "name": "ipython",
    "version": 3
   },
   "file_extension": ".py",
   "mimetype": "text/x-python",
   "name": "python",
   "nbconvert_exporter": "python",
   "pygments_lexer": "ipython3",
   "version": "3.7.7"
  }
 },
 "nbformat": 4,
 "nbformat_minor": 4
}
