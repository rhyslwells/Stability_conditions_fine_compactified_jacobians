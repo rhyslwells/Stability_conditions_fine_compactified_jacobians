{
 "cells": [
  {
   "cell_type": "markdown",
   "id": "09b51c6d-fec6-4427-bd49-fb77b0cac8ec",
   "metadata": {},
   "source": [
    "# Overview"
   ]
  },
  {
   "cell_type": "markdown",
   "id": "99b2007e-cb95-4590-9e36-6e9ca629970d",
   "metadata": {},
   "source": [
    "Consider the graph $\\Gamma:=F$ and the set $S$ considting of $16$ stability conditions which are not induced by a $\\phi \\in V^{d}(\\Gamma)$."
   ]
  },
  {
   "cell_type": "markdown",
   "id": "7111d483-7bc2-444b-a8ab-ee50d1ad695d",
   "metadata": {},
   "source": [
    "Let $\\sigma_{\\Gamma}\\in S$. I want to put together a notebook so we can study the properties of $\\sigma_{\\Gamma}$.\n",
    "In particular we which to investigate the following questions:"
   ]
  },
  {
   "cell_type": "markdown",
   "id": "c787a6b9-9de2-45db-a38d-47c6c3fe975e",
   "metadata": {},
   "source": [
    "1) What are $\\sigma_{\\Gamma}(\\Gamma_0)$ for all $\\Gamma_0 \\in \\Gamma_{(1)}$?\n",
    "\n",
    "    1.1) What are the associated CMSA functions to each genus 1 stability conditions given by the restriction of \n",
    "    $\\sigma_{\\Gamma}$ to $\\Gamma_0 \\in \\Gamma_{(1)}$."
   ]
  },
  {
   "cell_type": "code",
   "execution_count": null,
   "id": "d2b4ad92-1c68-45ac-9b74-00b93ad5bf5b",
   "metadata": {},
   "outputs": [],
   "source": []
  }
 ],
 "metadata": {
  "kernelspec": {
   "display_name": "Python 3 (ipykernel)",
   "language": "python",
   "name": "python3"
  },
  "language_info": {
   "codemirror_mode": {
    "name": "ipython",
    "version": 3
   },
   "file_extension": ".py",
   "mimetype": "text/x-python",
   "name": "python",
   "nbconvert_exporter": "python",
   "pygments_lexer": "ipython3",
   "version": "3.10.8"
  }
 },
 "nbformat": 4,
 "nbformat_minor": 5
}
