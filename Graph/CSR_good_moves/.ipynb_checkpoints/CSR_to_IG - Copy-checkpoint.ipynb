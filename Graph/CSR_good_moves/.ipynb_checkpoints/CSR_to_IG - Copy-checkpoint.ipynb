{
 "cells": [
  {
   "cell_type": "markdown",
   "metadata": {},
   "source": [
    "# Working using an example"
   ]
  },
  {
   "cell_type": "markdown",
   "metadata": {},
   "source": [
    "figure ut what good CF are to give CSR that give Ig"
   ]
  },
  {
   "cell_type": "markdown",
   "metadata": {
    "tags": [],
    "toc-hr-collapsed": true
   },
   "source": [
    "## Inital"
   ]
  },
  {
   "cell_type": "markdown",
   "metadata": {},
   "source": [
    "Fix a graph and get the set of break divisors B."
   ]
  },
  {
   "cell_type": "code",
   "execution_count": 9,
   "metadata": {},
   "outputs": [],
   "source": [
    "#Example\n",
    "graphname=\"G3\"\n",
    "G=Graph([(\"0\",\"1\"),(\"1\",\"2\"),(\"2\",\"0\")], multiedges=True)"
   ]
  },
  {
   "cell_type": "code",
   "execution_count": 10,
   "metadata": {},
   "outputs": [],
   "source": [
    "n=len(G.vertices())\n",
    "\n",
    "zero_ass=[0]*n\n",
    "base_assignments=[(T,zero_ass) for T in list(G.spanning_trees()) ]\n",
    "\n",
    "#Break divisors:\n",
    "B=w_stability(G,base_assignments) # list\n",
    "\n",
    "#We will use w_stability again to check if a proposed IG gives our CSR."
   ]
  },
  {
   "cell_type": "code",
   "execution_count": 11,
   "metadata": {},
   "outputs": [
    {
     "data": {
      "text/plain": [
       "[[0, 0, 1], [0, 1, 0], [1, 0, 0]]"
      ]
     },
     "execution_count": 11,
     "metadata": {},
     "output_type": "execute_result"
    }
   ],
   "source": [
    "B=B.tolist()\n",
    "# # zero_ass\n",
    "B"
   ]
  },
  {
   "cell_type": "code",
   "execution_count": 63,
   "metadata": {},
   "outputs": [],
   "source": [
    "# for t in list(G.spanning_trees()):\n",
    "#     print(t.edges())"
   ]
  },
  {
   "cell_type": "markdown",
   "metadata": {
    "tags": []
   },
   "source": [
    "## Choose a CSR denoted by $S$"
   ]
  },
  {
   "cell_type": "markdown",
   "metadata": {},
   "source": [
    "For each $d \\in B$ make a choice of a chip-firing divisor $C \\in \\mathbb{Z}^{n}$.\n",
    "\n",
    "Take $S=\\{d+CF(C) | b \\in B\\}$. \n",
    "\n",
    "This is the proposed set we are interested to find $I_G$ for."
   ]
  },
  {
   "cell_type": "code",
   "execution_count": 12,
   "metadata": {},
   "outputs": [],
   "source": [
    "# #how we generate a new CSR.\n",
    "\n",
    "# #Make a choice of chip-firing divisors C's\n",
    "\n",
    "# #Example\n",
    "c1=[1,0,0]\n",
    "c2=c3=[0]*n\n",
    "\n",
    "CF=[c1,c2,c3]\n",
    "\n",
    "paired=zip(B,CF)\n",
    "# print(list(paired))\n",
    "\n",
    "#We build new csr.\n",
    "S=[]\n",
    "for D,C in paired:\n",
    "    s=chip_fire(G,D,C)\n",
    "    S.append(s)"
   ]
  },
  {
   "cell_type": "code",
   "execution_count": 13,
   "metadata": {},
   "outputs": [
    {
     "data": {
      "text/plain": [
       "[[-2, 1, 2], [0, 1, 0], [1, 0, 0]]"
      ]
     },
     "execution_count": 13,
     "metadata": {},
     "output_type": "execute_result"
    }
   ],
   "source": [
    "S"
   ]
  },
  {
   "cell_type": "code",
   "execution_count": 14,
   "metadata": {},
   "outputs": [],
   "source": [
    "# Take S that I know and check if get same Ig back\n",
    "# S=[[1,0,0],[0,1,0],[0,0,1]]\n",
    "S=[[1,0,0],[0,1,0],[1,1,-1]]\n",
    "\n",
    "S=[np.array(D) for D in S]"
   ]
  },
  {
   "cell_type": "markdown",
   "metadata": {},
   "source": [
    "## Chip-subtract to get $Ass_{G}$"
   ]
  },
  {
   "cell_type": "markdown",
   "metadata": {},
   "source": [
    "Generalising the idea of \"generates the divisors after specializing along one edge\".\n",
    "\n",
    "Let $Ass_{G}$ be the datum such that for each tree $T \\in \\mathcal{ST}(G)$, $Ass_{G}(T) \\subseteq Div(G)^{0}$ (this is the set of possible $I_G(T)$ values).\n",
    "\n",
    "Let $B_{T}$ be the set of break divisors of $G$ with respect to $T$."
   ]
  },
  {
   "cell_type": "code",
   "execution_count": 15,
   "metadata": {},
   "outputs": [],
   "source": [
    "# Get B_T for each T\n",
    "\n",
    "#dictionary?\n",
    "breaks_T={}\n",
    "\n",
    "G_edges=G.edges(sort=True, labels=True)\n",
    "\n",
    "for T in list(G.spanning_trees()):\n",
    "    B_T=chip_adding(G_edges,T.edges(),zero_ass) #list of break divisors for T.\n",
    "    \n",
    "    breaks_T[T.copy(immutable=True)]=B_T"
   ]
  },
  {
   "cell_type": "code",
   "execution_count": 16,
   "metadata": {},
   "outputs": [
    {
     "data": {
      "text/plain": [
       "{Graph on 3 vertices: [array([0., 1., 0.]), array([1., 0., 0.])],\n",
       " Graph on 3 vertices: [array([0., 0., 1.]), array([1., 0., 0.])],\n",
       " Graph on 3 vertices: [array([0., 0., 1.]), array([0., 1., 0.])]}"
      ]
     },
     "execution_count": 16,
     "metadata": {},
     "output_type": "execute_result"
    }
   ],
   "source": [
    "breaks_T"
   ]
  },
  {
   "cell_type": "markdown",
   "metadata": {},
   "source": [
    "We obtain $Ass_{G}(T)$ as follows,\n",
    "\n",
    "$$Ass_{G}(T)=\\bigcup_{D \\in S} \\{D-b | b\\in B_{T}\\}.$$"
   ]
  },
  {
   "cell_type": "markdown",
   "metadata": {},
   "source": [
    "\"and check that adding chips brings you back to the \"covering\" stability set\".\n",
    "\n",
    "For each $T$. Want to reduce the number of cases to check in $Ass_{G}(T)$. Therefore we ask for $E \\in Ass_{G}(T)$ if \n",
    "\n",
    "$$CA(E) = \\{E + b| b \\in B_{T}\\} \\subseteq S.$$\n",
    "\n",
    "If $CA(E) \\subseteq S$  we keep $E \\in Ass_{G}(T)$, if not we discard $E$ from $Ass_{G}(T)$."
   ]
  },
  {
   "cell_type": "code",
   "execution_count": 19,
   "metadata": {},
   "outputs": [],
   "source": [
    "#get $Ass_{G}(T)$\n",
    "\n",
    "Ass_G={}\n",
    "for T in list(G.spanning_trees()):\n",
    "    #get break divisors for G wrt to T\n",
    "    breaks=breaks_T[T.copy(immutable=True)]\n",
    "\n",
    "    #Get all possible Ig(T) values    \n",
    "    candidates=[]\n",
    "    for D in S:\n",
    "        for b in breaks:\n",
    "            candidates.append(D-b)\n",
    "\n",
    "    # Refine candidates to ensure CA(E) contained in S\n",
    "    refined_candidates=[]\n",
    "    for cand in candidates:\n",
    "\n",
    "        #Generate Ca(E)\n",
    "        check=set()\n",
    "        for b in breaks:\n",
    "            s=cand+b\n",
    "            check.add(tuple(s))\n",
    "\n",
    "        S=[tuple(s) for s in S]#S is a list of nparray\n",
    "        if check.issubset(S):\n",
    "            refined_candidates.append(cand)\n",
    "\n",
    "    Ass_G[T.copy(immutable=True)]=refined_candidates\n",
    "# We can get multiple repetitions in values for each tree as these are not sets.\n",
    "Ass_G_as_set = {k: np.unique(v, axis=0).tolist() for k, v in Ass_G.items()}"
   ]
  },
  {
   "cell_type": "code",
   "execution_count": 20,
   "metadata": {},
   "outputs": [
    {
     "data": {
      "text/plain": [
       "{Graph on 3 vertices: [[0.0, 0.0, 0.0]],\n",
       " Graph on 3 vertices: [[0.0, 1.0, -1.0]],\n",
       " Graph on 3 vertices: [[1.0, 0.0, -1.0]]}"
      ]
     },
     "execution_count": 20,
     "metadata": {},
     "output_type": "execute_result"
    }
   ],
   "source": [
    "Ass_G=Ass_G_as_set\n",
    "Ass_G"
   ]
  },
  {
   "cell_type": "markdown",
   "metadata": {},
   "source": [
    "## Compute $I_{G}$ from refined $Ass_{G}$"
   ]
  },
  {
   "cell_type": "markdown",
   "metadata": {},
   "source": [
    "Iterate through all possible $Ass_G(T)$ to get choices of assignments $A_G$ (Using itertools).\n",
    "\n",
    "And check if by taking the chip-adding saturation of $A$ returns $S$.\n",
    "\n",
    "Stop if does.\n",
    "\n",
    "Else try a new $S$ by taking a different choice of chip-firing divisors $C$ for each break divisor."
   ]
  },
  {
   "cell_type": "code",
   "execution_count": 21,
   "metadata": {},
   "outputs": [],
   "source": [
    "choices = []\n",
    "\n",
    "for combination in itertools.product(*Ass_G.values()):\n",
    "    choices.append([(key, value) for key, value in zip(Ass_G.keys(), combination)])"
   ]
  },
  {
   "cell_type": "code",
   "execution_count": 22,
   "metadata": {},
   "outputs": [
    {
     "name": "stdout",
     "output_type": "stream",
     "text": [
      "[(Graph on 3 vertices, [0.0, 0.0, 0.0]), (Graph on 3 vertices, [0.0, 1.0, -1.0]), (Graph on 3 vertices, [1.0, 0.0, -1.0])]\n"
     ]
    }
   ],
   "source": [
    "# print(result)\n",
    "for i in choices:\n",
    "    print(i)"
   ]
  },
  {
   "cell_type": "code",
   "execution_count": 23,
   "metadata": {},
   "outputs": [
    {
     "name": "stdout",
     "output_type": "stream",
     "text": [
      "[(Graph on 3 vertices, [0.0, 0.0, 0.0]), (Graph on 3 vertices, [0.0, 1.0, -1.0]), (Graph on 3 vertices, [1.0, 0.0, -1.0])]\n"
     ]
    }
   ],
   "source": [
    "for A in choices:\n",
    "    \n",
    "    #We now take the chip-adding saturation of A\n",
    "#   and check if A gives back S\n",
    "\n",
    "    S_better_form = np.array(S, dtype=np.int32)\n",
    "    CA_A=w_stability(G,A)\n",
    "        \n",
    "    #we put CA_A and S into a set of tuples format. \n",
    "\n",
    "    CA_A_set_t=set([tuple(i) for i in CA_A.tolist()])\n",
    "\n",
    "    S_set_t=set([tuple(i) for i in S])\n",
    "\n",
    "    if CA_A_set_t==S_set_t:\n",
    "        #if true returns A ie. IG function.\n",
    "        print(A)"
   ]
  },
  {
   "cell_type": "markdown",
   "metadata": {},
   "source": [
    "# Generalised into function format example"
   ]
  },
  {
   "cell_type": "code",
   "execution_count": 26,
   "metadata": {},
   "outputs": [],
   "source": [
    "#G4 #(1342) example\n",
    "G=Graph([(\"0\",\"1\"),(\"1\",\"2\"),(\"2\",\"3\"),(\"3\",\"0\")], multiedges=True)\n",
    "\n",
    "#break divisor case.\n",
    "# CF=[[0]*4,[0]*4,[0]*4,[0]*4]\n",
    "# S=get_new_CSR(G,CF)"
   ]
  },
  {
   "cell_type": "code",
   "execution_count": 27,
   "metadata": {},
   "outputs": [],
   "source": [
    "#Non-trivial 1342 case.\n",
    "S=[[0,1,0,0],[0,1,-1,1],[1,1,-1,0],[1,0,0,0]]\n",
    "\n",
    "# # choice of assignment i want \n",
    "\n",
    "# [(\"1\",\"2\"),(\"2\",\"3\"),(\"3\",\"0\"):[0,0,0,0],\n",
    "# (\"0\",\"1\"),(\"2\",\"3\"),(\"3\",\"0\"):[1,0,-1,0],\n",
    "# (\"0\",\"1\"),(\"1\",\"2\"),(\"3\",\"0\"):[0,1,-1,0],\n",
    "# (\"0\",\"1\"),(\"1\",\"2\"),(\"2\",\"3\"):[0,1,-1,0]]]"
   ]
  },
  {
   "cell_type": "code",
   "execution_count": 28,
   "metadata": {},
   "outputs": [],
   "source": [
    "breaks_T=get_breaks_T(G)"
   ]
  },
  {
   "cell_type": "code",
   "execution_count": 29,
   "metadata": {},
   "outputs": [
    {
     "data": {
      "text/plain": [
       "{Graph on 4 vertices: [array([0., 1., 0., 0.]), array([1., 0., 0., 0.])],\n",
       " Graph on 4 vertices: [array([0., 0., 0., 1.]), array([1., 0., 0., 0.])],\n",
       " Graph on 4 vertices: [array([0., 0., 1., 0.]), array([0., 1., 0., 0.])],\n",
       " Graph on 4 vertices: [array([0., 0., 0., 1.]), array([0., 0., 1., 0.])]}"
      ]
     },
     "execution_count": 29,
     "metadata": {},
     "output_type": "execute_result"
    }
   ],
   "source": [
    "breaks_T"
   ]
  },
  {
   "cell_type": "code",
   "execution_count": 30,
   "metadata": {},
   "outputs": [
    {
     "data": {
      "text/plain": [
       "{Graph on 4 vertices: [[0.0, 0.0, 0.0, 0.0]],\n",
       " Graph on 4 vertices: [[0.0, 1.0, -1.0, 0.0]],\n",
       " Graph on 4 vertices: [[1.0, 0.0, -1.0, 0.0]],\n",
       " Graph on 4 vertices: [[0.0, 1.0, -1.0, 0.0]]}"
      ]
     },
     "execution_count": 30,
     "metadata": {},
     "output_type": "execute_result"
    }
   ],
   "source": [
    "Ass_G=get_Ass_G(G,S,breaks_T)\n",
    "Ass_G"
   ]
  },
  {
   "cell_type": "code",
   "execution_count": 31,
   "metadata": {},
   "outputs": [],
   "source": [
    "choices=get_all_choices_of_assignments(Ass_G)\n",
    "Ig=get_Ig(choices)"
   ]
  },
  {
   "cell_type": "code",
   "execution_count": 32,
   "metadata": {},
   "outputs": [
    {
     "name": "stdout",
     "output_type": "stream",
     "text": [
      "([(Graph on 4 vertices, [0.0, 0.0, 0.0, 0.0]), (Graph on 4 vertices, [0.0, 1.0, -1.0, 0.0]), (Graph on 4 vertices, [1.0, 0.0, -1.0, 0.0]), (Graph on 4 vertices, [0.0, 1.0, -1.0, 0.0])], {(0, 1, -1, 1), (1, 0, 0, 0), (0, 1, 0, 0), (1, 1, -1, 0)})\n"
     ]
    }
   ],
   "source": [
    "print(Ig)"
   ]
  },
  {
   "cell_type": "markdown",
   "metadata": {},
   "source": [
    "# Searching for good CF to fire breaks by to get good CSR"
   ]
  },
  {
   "cell_type": "code",
   "execution_count": 39,
   "metadata": {},
   "outputs": [],
   "source": [
    "#G4 #(1342) example\n",
    "G=Graph([(\"0\",\"1\"),(\"1\",\"2\"),(\"2\",\"3\"),(\"3\",\"0\")], multiedges=True)\n",
    "\n",
    "#break divisor case.\n",
    "# CF=[[0,0,0,0],[0,0,0,0],[0,0,0,0],[0,0,0,0]]\n",
    "\n",
    "#See good move classes\n",
    "# non-trivial\n",
    "# CF=[[0,0,0,0],[0,0,0,0],[0,1,0,0],[0,0,0,0]]\n",
    "# ([(Graph on 4 vertices, [0.0, -1.0, 1.0, 0.0]), (Graph on 4 vertices, [0.0, 0.0, 0.0, 0.0]), (Graph on 4 vertices, [1.0, -1.0, 0.0, 0.0]), (Graph on 4 vertices, [0.0, 0.0, 0.0, 0.0])], {(0, 0, 0, 1), (1, 0, 0, 0), (0, 0, 1, 0), (1, -1, 1, 0)})"
   ]
  },
  {
   "cell_type": "code",
   "execution_count": 21,
   "metadata": {},
   "outputs": [
    {
     "data": {
      "text/plain": [
       "{Graph on 4 vertices: [array([0., 1., 0., 0.]), array([1., 0., 0., 0.])],\n",
       " Graph on 4 vertices: [array([0., 0., 0., 1.]), array([1., 0., 0., 0.])],\n",
       " Graph on 4 vertices: [array([0., 0., 1., 0.]), array([0., 1., 0., 0.])],\n",
       " Graph on 4 vertices: [array([0., 0., 0., 1.]), array([0., 0., 1., 0.])]}"
      ]
     },
     "execution_count": 21,
     "metadata": {},
     "output_type": "execute_result"
    }
   ],
   "source": [
    "S=get_new_CSR(G,CF)\n",
    "breaks_T=get_breaks_T(G)#independant of CF\n",
    "breaks_T"
   ]
  },
  {
   "cell_type": "code",
   "execution_count": 22,
   "metadata": {},
   "outputs": [
    {
     "data": {
      "text/plain": [
       "{Graph on 4 vertices: [[0.0, -1.0, 1.0, 0.0]],\n",
       " Graph on 4 vertices: [[0.0, 0.0, 0.0, 0.0]],\n",
       " Graph on 4 vertices: [[1.0, -1.0, 0.0, 0.0]],\n",
       " Graph on 4 vertices: [[0.0, 0.0, 0.0, 0.0]]}"
      ]
     },
     "execution_count": 22,
     "metadata": {},
     "output_type": "execute_result"
    }
   ],
   "source": [
    "Ass_G=get_Ass_G(G,S,breaks_T)\n",
    "Ass_G"
   ]
  },
  {
   "cell_type": "code",
   "execution_count": 23,
   "metadata": {},
   "outputs": [],
   "source": [
    "choices=get_all_choices_of_assignments(Ass_G)\n",
    "Ig=get_Ig(choices)"
   ]
  },
  {
   "cell_type": "code",
   "execution_count": 24,
   "metadata": {},
   "outputs": [
    {
     "name": "stdout",
     "output_type": "stream",
     "text": [
      "([(Graph on 4 vertices, [0.0, -1.0, 1.0, 0.0]), (Graph on 4 vertices, [0.0, 0.0, 0.0, 0.0]), (Graph on 4 vertices, [1.0, -1.0, 0.0, 0.0]), (Graph on 4 vertices, [0.0, 0.0, 0.0, 0.0])], {(0, 0, 0, 1), (1, 0, 0, 0), (0, 0, 1, 0), (1, -1, 1, 0)})\n"
     ]
    }
   ],
   "source": [
    "print(Ig)"
   ]
  },
  {
   "cell_type": "markdown",
   "metadata": {},
   "source": [
    "# Good move classes"
   ]
  },
  {
   "cell_type": "code",
   "execution_count": null,
   "metadata": {},
   "outputs": [],
   "source": [
    "Todo:\n",
    "\n",
    "- Get classes for break divisors case (in general any stability condition)."
   ]
  },
  {
   "cell_type": "code",
   "execution_count": null,
   "metadata": {},
   "outputs": [],
   "source": [
    "n=len(G.vertices())\n",
    "\n",
    "zero_ass=[0]*n\n",
    "base_assignments=[(T.copy(immutable=True),zero_ass) for T in list(G.spanning_trees()) ]\n",
    "\n",
    "#Break divisors:\n",
    "B=w_stability(G,base_assignments) # list\n",
    "csr=B.tolist() # [[0, 0, 0, 1], [0, 0, 1, 0], [0, 1, 0, 0], [1, 0, 0, 0]]\n",
    "\n",
    "b_sat_trees=get_break_ass_dic(csr,base_assignments)\n",
    "# gmclass"
   ]
  },
  {
   "cell_type": "code",
   "execution_count": null,
   "metadata": {},
   "outputs": [],
   "source": [
    "for each vertex ask what are the good move classes (value 0 for break not included but have to be careful wrt general working)."
   ]
  },
  {
   "cell_type": "code",
   "execution_count": null,
   "metadata": {},
   "outputs": [],
   "source": [
    "# csr\n",
    "\n",
    "# cf=[1,0,0,0]\n",
    "\n",
    "# gc_top=genbreaks_per_vert(csr,cf)\n",
    "# gc_top"
   ]
  },
  {
   "cell_type": "code",
   "execution_count": null,
   "metadata": {},
   "outputs": [],
   "source": [
    "For each item of gc. Ask what are good assignments that saturate to give atleast one item of the item (Are these assignments constant on the vertex cf?). "
   ]
  },
  {
   "cell_type": "code",
   "execution_count": null,
   "metadata": {},
   "outputs": [],
   "source": [
    "cf=[1,0,0,0]\n",
    "GM=good_move_class_per_vert(csr,cf)\n",
    "for t in GM:\n",
    "    print(t,\"\\n\")\n",
    "    \n",
    "#What are the assignments on those with value 1: are they correct?\n",
    "a=GM[1][2]\n",
    "a[0][0].edges() #[('0', '3', None), ('1', '2', None), ('2', '3', None)]\n",
    "a[1][0].edges() #[('0', '1', None), ('1', '2', None), ('2', '3', None)]"
   ]
  },
  {
   "cell_type": "code",
   "execution_count": null,
   "metadata": {},
   "outputs": [],
   "source": [
    "cf=[0,1,0,0]\n",
    "GM=good_move_class_per_vert(csr,cf)\n",
    "for t in GM:\n",
    "    print(t,\"\\n\")\n",
    "    \n",
    "#What are the assignments on those with value 1: are they correct?\n",
    "a=GM[1][2]\n",
    "# a[0][0].edges() #[('0', '3', None), ('1', '2', None), ('2', '3', None)]\n",
    "# a[1][0].edges() #[('0', '1', None), ('0', '3', None), ('2', '3', None)]"
   ]
  },
  {
   "cell_type": "code",
   "execution_count": null,
   "metadata": {},
   "outputs": [],
   "source": [
    "cf=[0,0,1,0]\n",
    "GM=good_move_class_per_vert(csr,cf)\n",
    "for t in GM:\n",
    "    print(t,\"\\n\")\n",
    "    \n",
    "#What are the assignments on those with value 1: are they correct?\n",
    "a=GM[1][2]\n",
    "# a[0][0].edges() #[('0', '1', None), ('0', '3', None), ('2', '3', None)]\n",
    "# a[1][0].edges() #[('0', '1', None), ('0', '3', None), ('1', '2', None)]"
   ]
  },
  {
   "cell_type": "code",
   "execution_count": null,
   "metadata": {},
   "outputs": [],
   "source": [
    "cf=[0,0,0,1]\n",
    "GM=good_move_class_per_vert(csr,cf)\n",
    "for t in GM:\n",
    "    print(t,\"\\n\")\n",
    "    \n",
    "#What are the assignments on those with value 1: are they correct?\n",
    "a=GM[1][2]\n",
    "# a[0][0].edges() #[('0', '1', None), ('1', '2', None), ('2', '3', None)]\n",
    "# a[1][0].edges() #[('0', '1', None), ('0', '3', None), ('1', '2', None)]"
   ]
  },
  {
   "cell_type": "code",
   "execution_count": null,
   "metadata": {},
   "outputs": [],
   "source": [
    "### Functions\n",
    "\n",
    "def genbreaks_per_vert(csr,cf):\n",
    "    \n",
    "    \"\"\"\n",
    "    description:\n",
    "    input: csr is the set of generalised break divs, cf is the chip firing on [0,0,1,0] on the vertex.\n",
    "    output: list of lists where each list contains b in csr with the value in values in position cf.\n",
    "    x=[[0,0,1],[1,0,0],[1,2,1]]\n",
    "\n",
    "    cf=[0,1,0]\n",
    "    i.e. [(0, [[0, 0, 1], [1, 0, 0]]), (2, [[1, 2, 1]])] increasing order of the value on the cf position.\n",
    "    Consider the first index the value and take the list of terms for the range of values ie\n",
    "    \"\"\"\n",
    "    \n",
    "    values=list(sorted(set(b[cf.index(1)] for b in csr )))\n",
    "\n",
    "    gclass=[]\n",
    "    for i in values:\n",
    "        t=[]\n",
    "        for y in csr:\n",
    "            if y[cf.index(1)]==i:\n",
    "                t.append(y)\n",
    "        gclass.append((i,t))\n",
    "\n",
    "    return gclass\n",
    "\n",
    "def saturation(graph,Assignment): #Newest\n",
    "    \n",
    "    \"\"\"\n",
    "    Objective:Takes the chip-adding saturation of a assignment (the saturation)\n",
    "    \n",
    "    #Graphs are labelled v0 to v_n-1\n",
    "    Inputs:\n",
    "        graph: Any smallish finite multigraph\n",
    "        \n",
    "        Assignment= (T,ass) tree and assignment pairs.\n",
    "    \n",
    "    Outputs: a list of lists of length vert(graph) corresponding to line bundle multidegrees obtained by chip adding.\n",
    "    \"\"\"\n",
    "    G=graph\n",
    "    \n",
    "    G_edges=G.edges(sort=True, labels=True)\n",
    "    \n",
    "    tree_edges=Assignment[0].edges()\n",
    "    ass=Assignment[1]    \n",
    "    patch=[chip_adding(G_edges,tree_edges,ass)]\n",
    "#     print(patch)\n",
    "    \n",
    "    sig=np.concatenate(patch, axis=0)\n",
    "    sig=sig.astype('int')    \n",
    "    sig=np.unique(sig, axis=0)\n",
    "\n",
    "    return sig.tolist()\n",
    "\n",
    "def get_break_ass_dic(csr,assignments):\n",
    "    \n",
    "    \"\"\"\n",
    "    desc: create dic where each key is each divisor in csr=sigma{Gamma}(Gamma)\n",
    "    where we get a list of (T,ass) which saturate to give b in csr\n",
    "    in: csr is gen break divisors, assignments the list of (T,ass).\n",
    "    csr is a list of lists\n",
    "    out: gmclass\n",
    "    \"\"\"\n",
    "    \n",
    "    gm_class=dict()\n",
    "\n",
    "    for b in csr:\n",
    "        asspairs_to_b=[]\n",
    "\n",
    "        for pair in assignments:\n",
    "            sat=saturation(G,pair)\n",
    "\n",
    "            if b in sat:\n",
    "                asspairs_to_b.append(pair)\n",
    "        gm_class[tuple(b)]=asspairs_to_b\n",
    "    return gm_class\n",
    "\n",
    "def good_move_class_per_vert(csr,cf):\n",
    "    \n",
    "    \"\"\"\n",
    "    desc: get the good move class.\n",
    "    in:csr is the complete set of reps  (gen breaks), cf is where we will be chip-firing i.e the vertex of interest.\n",
    "    out: Returns a list of terms of the form,\n",
    "            ([1, 0, 0, 0],\n",
    "         [(Graph on 4 vertices, [0, 0, 0, 0]), (Graph on 4 vertices, [0, 0, 0, 0])],\n",
    "         (1, [[1, 0, 0, 0]]))\n",
    "         \n",
    "     for each distinct value on vertex cf ranging over b in generalised breaks.\n",
    "    \"\"\"\n",
    "    \n",
    "    #gen breaks class for cf per value.\n",
    "    gb_c_top=genbreaks_per_vert(csr,cf)\n",
    "    \n",
    "#     print(\"gb_c_top\",gb_c_top)\n",
    "    \n",
    "    good_move_classes=[]\n",
    "    for v_gb_pair in gb_c_top:\n",
    "\n",
    "        value,g_breaks=v_gb_pair\n",
    "\n",
    "        #get assignments which chip add to give (atleast one of) these breaks.\n",
    "        \n",
    "        s=[]\n",
    "        for b in g_breaks:\n",
    "#             print(b_sat_trees[tuple(b)])\n",
    "            #Want to take the union of these assignments\n",
    "            s.extend(b_sat_trees[tuple(b)])\n",
    "        #take only unique assinments\n",
    "        ass_good_move_class=list(dict(s).items())\n",
    "\n",
    "        # if the value on the cf vertex does not change ie all assinments are the same? \n",
    "        \n",
    "        \"\"\"\n",
    "        not all classes generated in this way will give a new Ig function. But this method will exhaust them all.\n",
    "        So we just need to apply some conditions to those that do not. This is not an issue if we only focus\n",
    "        on break divisors, then we only consider cases where that value is greater that 0.\n",
    "        \"\"\"\n",
    "\n",
    "        good_move_class_per_val=(v_gb_pair,cf,ass_good_move_class)\n",
    "        \n",
    "        good_move_classes.append(good_move_class_per_val)\n",
    "\n",
    "    return good_move_classes"
   ]
  },
  {
   "cell_type": "code",
   "execution_count": null,
   "metadata": {},
   "outputs": [],
   "source": [
    "- Fire on assignments in class."
   ]
  },
  {
   "cell_type": "code",
   "execution_count": null,
   "metadata": {},
   "outputs": [],
   "source": [
    "- Build new I_G function."
   ]
  },
  {
   "cell_type": "code",
   "execution_count": null,
   "metadata": {},
   "outputs": [],
   "source": [
    "Now Given good move class, take the assignments in that \n",
    "and the cf and chip firing on these assignments, then take the reamaining assignments to finish IG.\n",
    "\n",
    "- Test new I_G, and get output."
   ]
  },
  {
   "cell_type": "code",
   "execution_count": null,
   "metadata": {},
   "outputs": [],
   "source": [
    "# <!-- def w_stability(graph,Assignments): #Newest -->\n",
    "then get IG with Cf all zeros. "
   ]
  },
  {
   "cell_type": "markdown",
   "metadata": {},
   "source": [
    "- Fire on assignments in class."
   ]
  },
  {
   "cell_type": "markdown",
   "metadata": {},
   "source": [
    "- Build new I_G function."
   ]
  },
  {
   "cell_type": "markdown",
   "metadata": {},
   "source": [
    "- Test new I_G, and get output."
   ]
  },
  {
   "cell_type": "markdown",
   "metadata": {},
   "source": [
    "## Example new $I_{G}$"
   ]
  },
  {
   "cell_type": "markdown",
   "metadata": {},
   "source": [
    "# Focus functions"
   ]
  },
  {
   "cell_type": "code",
   "execution_count": 1,
   "metadata": {},
   "outputs": [],
   "source": [
    "def chip_fire(G,D,C):\n",
    "    \n",
    "    \"\"\"\n",
    "    objective: chip-fire by C on D.\n",
    "    Input:D is our inital divisors, C is chip firing divisor.\n",
    "    returns: new divisor after chip-firing by C\n",
    "    \"\"\"\n",
    "\n",
    "    # Need to convert vertices to integers.\n",
    "\n",
    "    F=G.copy()\n",
    "    n=len(F.vertices())\n",
    "    F.relabel({str(i): int(i) for i in range(n)})\n",
    "    \n",
    "    S = Sandpile(F, 0)   # create the sandpile\n",
    "\n",
    "    D = np.array(D)\n",
    "\n",
    "    # https://doc.sagemath.org/html/en/thematic_tutorials/sandpile.html#betti-numbers-for-undirected-graphs\n",
    "\n",
    "    \"\"\"\n",
    "        # #Issue.\n",
    "\n",
    "        # #Get chips on sandpile for out initial break divisor.\n",
    "        # b = [0,0,1]\n",
    "        # break_chips = {int(index):int(value) for index, value in enumerate(b)}\n",
    "        # print(break_chips)\n",
    "\n",
    "\n",
    "        # # c = SandpileConfig(S, {0:0, 1:0, 2:1})\n",
    "        # # c = SandpileConfig(S, break_chips)\n",
    "        # # c = SandpileConfig(S, b)\n",
    "\n",
    "        # # c.fire_vertex(0)\n",
    "    \"\"\"\n",
    "\n",
    "    # work around\n",
    "\n",
    "    L=S.laplacian()\n",
    "\n",
    "    # given b firing the vertice 0, n times corresponds to subtracting the 0th element of L_l from b, n times\n",
    "\n",
    "    L_l=list(np.array(L))\n",
    "\n",
    "    #chip-firing\n",
    "    cf = sum(C[i] * L_l[i] for i in range(len(L_l)))\n",
    "\n",
    "    #result after chip-firing on \n",
    "    chip_fired_D=list(D-cf)\n",
    "\n",
    "    return chip_fired_D"
   ]
  },
  {
   "cell_type": "code",
   "execution_count": 2,
   "metadata": {},
   "outputs": [],
   "source": [
    "def get_new_CSR(G,CF):\n",
    "    \n",
    "    n=len(G.vertices())\n",
    "\n",
    "    zero_ass=[0]*n\n",
    "    base_assignments=[(T,zero_ass) for T in list(G.spanning_trees()) ]\n",
    "\n",
    "    #Break divisors:\n",
    "    B=w_stability(G,base_assignments).tolist() # list\n",
    "\n",
    "    #We will use w_stability again to check if a proposed IG gives our CSR.\n",
    "    \n",
    "    paired=zip(B,CF)\n",
    "    # print(list(paired))\n",
    "\n",
    "    #We build new csr.\n",
    "    S=[]\n",
    "    for D,C in paired:\n",
    "        s=chip_fire(G,D,C)\n",
    "        S.append(s)\n",
    "        \n",
    "    csr=S\n",
    "    \n",
    "    return csr"
   ]
  },
  {
   "cell_type": "code",
   "execution_count": 3,
   "metadata": {},
   "outputs": [],
   "source": [
    "def get_breaks_T(G):\n",
    "    \n",
    "    \"\"\"\n",
    "    Obj:Get the set of break divisors B_T for each T\n",
    "\n",
    "    Input:\n",
    "    Output: a dictionary of Tree:list of break divisors b where b is np.array\n",
    "    \n",
    "    {Graph on 3 vertices: [array([0., 1., 0.]), array([1., 0., 0.])],\n",
    "     Graph on 3 vertices: [array([0., 0., 1.]), array([1., 0., 0.])],\n",
    "     Graph on 3 vertices: [array([0., 0., 1.]), array([0., 1., 0.])]}\n",
    "    \"\"\"\n",
    "    n=len(G.vertices())\n",
    "    zero_ass=[0]*n\n",
    "    breaks_T={}\n",
    "\n",
    "    G_edges=G.edges(sort=True, labels=True)\n",
    "\n",
    "    for T in list(G.spanning_trees()):\n",
    "        B_T=chip_adding(G_edges,T.edges(),zero_ass) #list of break divisors for T.\n",
    "\n",
    "        breaks_T[T.copy(immutable=True)]=B_T\n",
    "    return breaks_T\n",
    "    "
   ]
  },
  {
   "cell_type": "code",
   "execution_count": 4,
   "metadata": {},
   "outputs": [],
   "source": [
    "def get_Ass_G(G,S,breaks_T):\n",
    "    \n",
    "    \"\"\"\n",
    "    Obj:\n",
    "    Input:\n",
    "    Returns: dictionary of \n",
    "    \"\"\"\n",
    "\n",
    "    #get $Ass_{G}(T)$\n",
    "    \n",
    "    #So we can use set notation.\n",
    "    S=[tuple(s) for s in S]#S is a list of nparray\n",
    "\n",
    "\n",
    "    Ass_G={}\n",
    "    for T in list(G.spanning_trees()):\n",
    "        #get break divisors for G wrt to T\n",
    "        breaks=breaks_T[T.copy(immutable=True)]\n",
    "        \n",
    "        #Get all possible Ig(T) values    \n",
    "        candidates=[]\n",
    "        for D in S:\n",
    "            for b in breaks:\n",
    "                candidates.append(D-b)\n",
    "\n",
    "        # Refine candidates to ensure CA(E) contained in S\n",
    "        refined_candidates=[]\n",
    "        for cand in candidates:\n",
    "\n",
    "            #Generate Ca(E)\n",
    "            check=set()\n",
    "            for b in breaks:\n",
    "                s=cand+b\n",
    "                check.add(tuple(s))\n",
    "                \n",
    "            if check.issubset(S):\n",
    "                refined_candidates.append(cand)\n",
    "\n",
    "        Ass_G[T.copy(immutable=True)]=refined_candidates\n",
    "    # We can get multiple repetitions in values for each tree as these are not sets.\n",
    "    Ass_G_as_set = {k: np.unique(v, axis=0).tolist() for k, v in Ass_G.items()}\n",
    "\n",
    "    return Ass_G_as_set"
   ]
  },
  {
   "cell_type": "code",
   "execution_count": 5,
   "metadata": {},
   "outputs": [],
   "source": [
    "def get_all_choices_of_assignments(Ass_G):\n",
    "\n",
    "    \"\"\"\n",
    "    Input: Ass_G is a dictionary of possible Ig values\n",
    "    May be large.\n",
    "    returns: possible a list of choices of assignments of the form \n",
    "    [(Graph on 3 vertices, [0.0, 0.0, 0.0]), (Graph on 3 vertices, [0.0, 1.0, -1.0]), (Graph on 3 vertices, [1.0, 0.0, -1.0])]\n",
    "    \"\"\"\n",
    "    choices = []\n",
    "\n",
    "    for combination in itertools.product(*Ass_G.values()):\n",
    "        choices.append([(key, value) for key, value in zip(Ass_G.keys(), combination)])\n",
    "    return choices"
   ]
  },
  {
   "cell_type": "code",
   "execution_count": 6,
   "metadata": {},
   "outputs": [],
   "source": [
    "def get_Ig(choices):\n",
    "    \n",
    "    \"\"\"\n",
    "    Obj:\n",
    "    Input:\n",
    "    Output:\n",
    "    A: the choice of assignments list of form (T,ass_t)\n",
    "    CA_A_set_t: a set of divisors of degree g i.e. S \n",
    "    \"\"\"\n",
    "    \n",
    "    for A in choices:\n",
    "\n",
    "        #We now take the chip-adding saturation of A\n",
    "    #   and check if A gives back S\n",
    "\n",
    "        S_better_form = np.array(S, dtype=np.int32)\n",
    "        CA_A=w_stability(G,A)\n",
    "\n",
    "        #we put CA_A and S into a set of tuples format. \n",
    "\n",
    "        CA_A_set_t=set([tuple(i) for i in CA_A.tolist()])\n",
    "        S_set_t=set([tuple(i) for i in S])\n",
    "\n",
    "        if CA_A_set_t==S_set_t:\n",
    "            #if true returns A ie. IG function.\n",
    "            return A,CA_A_set_t\n",
    "    return None"
   ]
  },
  {
   "cell_type": "markdown",
   "metadata": {
    "tags": []
   },
   "source": [
    "# Functions "
   ]
  },
  {
   "cell_type": "code",
   "execution_count": 7,
   "metadata": {},
   "outputs": [],
   "source": [
    "import numpy as np\n",
    "from collections import Counter\n",
    "import itertools \n",
    "# import sys\n",
    "# import pickle"
   ]
  },
  {
   "cell_type": "code",
   "execution_count": 8,
   "metadata": {},
   "outputs": [],
   "source": [
    "# Assignment_datum_for_G for w_stability:\n",
    "\n",
    "def list_difference(a, b):\n",
    "    \"\"\"\n",
    "    Objective:Takes the difference of removing the 2nd term from the 1st.\n",
    "    \"\"\"\n",
    "    \n",
    "    \"https://stackoverflow.com/questions/8106227/difference-between-two-lists-with-duplicates-in-python\"\n",
    "    count = Counter(a) # count items in a\n",
    "    count.subtract(b)  # subtract items that are in b\n",
    "    diff = []\n",
    "    for x in a:\n",
    "        if count[x] > 0:\n",
    "           count[x] -= 1\n",
    "           diff.append(x)\n",
    "    return diff\n",
    "\n",
    "def chip_adding(graph,tree,ass): #new\n",
    "    \"\"\"\n",
    "    Objective:Chip-adds\n",
    "    Inputs:\n",
    "    graph: G_edges graph edges\n",
    "    tree : spanning tree of graph\n",
    "    ass : an n=vert(graph) tuple on the spanning tree.\n",
    "    \n",
    "    recursion idea: https://stackoverflow.com/questions/53638816/python-library-function-to-re-apply-a-function-to-its-own-output-until-output-re\n",
    "    \"\"\"\n",
    "    \n",
    "    edges=graph # just want the edges \n",
    "    n=len(ass)\n",
    "    complement=list_difference(graph,tree) #edges in complement.\n",
    "    \n",
    "    def rec_funct(edge_l,inputs,n):\n",
    "        data=[]\n",
    "        edge=edge_l[0]\n",
    "        \n",
    "        for b in inputs:\n",
    "            delta_1=np.zeros(n)\n",
    "            delta_2=np.zeros(n)\n",
    "            \n",
    "            delta_1[int(edge[0])]=1 #we chip add at the first vertex. #### <- CHANGED as taking vertices 0,..,n-1 now\n",
    "            delta_2[int(edge[1])]=1 #we chip add at the second vertex.\n",
    "            \n",
    "            b1=b+delta_1\n",
    "            b2=b+delta_2\n",
    "            data=data+[b1,b2]\n",
    "        \n",
    "        return (edge_l,data,n)\n",
    "    \n",
    "    def recursion(edge_l,inputs,n):\n",
    "        \n",
    "        new_data=rec_funct(edge_l,inputs,n)\n",
    "        edge_l=edge_l[1:] #removeing first edge        \n",
    "        new_data=(edge_l,new_data[1],new_data[2])\n",
    "                \n",
    "        if len(edge_l)==0:\n",
    "            new_inputs=new_data[1]\n",
    "            return new_inputs\n",
    "        else:\n",
    "            return recursion(*new_data)\n",
    "        \n",
    "    breaks=recursion(complement,[np.zeros(n)],n)\n",
    "    breaks=np.unique(breaks, axis=0)\n",
    "    \n",
    "    patch=[]\n",
    "    for bbreak in breaks:\n",
    "        patch.append(ass+bbreak)\n",
    "    \n",
    "    return patch\n",
    "\n",
    "def w_stability(graph,Assignments): #Newest\n",
    "    \n",
    "    \"\"\"\n",
    "    Objective:Takes the chip-adding saturation of the assignments.\n",
    "    \n",
    "    #Graphs are labelled v0 to v_n-1\n",
    "    Inputs:\n",
    "        graph: Any smallish finite multigraph\n",
    "        \n",
    "        Assignments= list of (T,ass) tree and assignment pairs.\n",
    "    \n",
    "    Outputs: a list of lists of length vert(graph) corresponding to line bundle multidegrees obtained by chip adding.\n",
    "    \"\"\"\n",
    "    G=graph\n",
    "    \n",
    "    G_edges=G.edges(sort=True, labels=True)\n",
    "    \n",
    "    lbm_patches=[] # the set of patches,which we'll take the union of. \n",
    "\n",
    "    for pair in Assignments:\n",
    "        tree_edges=pair[0].edges()\n",
    "        ass=pair[1]    \n",
    "        patch=chip_adding(G_edges,tree_edges,ass)              \n",
    "        lbm_patches.append(patch)\n",
    "    \n",
    "    sig=np.concatenate(lbm_patches, axis=0)\n",
    "    sig=sig.astype('int32')    \n",
    "    sig=np.unique(sig, axis=0)\n",
    "\n",
    "    return sig"
   ]
  },
  {
   "cell_type": "code",
   "execution_count": null,
   "metadata": {},
   "outputs": [],
   "source": []
  }
 ],
 "metadata": {
  "kernelspec": {
   "display_name": "SageMath 9.2",
   "language": "sage",
   "name": "sagemath"
  },
  "language_info": {
   "codemirror_mode": {
    "name": "ipython",
    "version": 3
   },
   "file_extension": ".py",
   "mimetype": "text/x-python",
   "name": "python",
   "nbconvert_exporter": "python",
   "pygments_lexer": "ipython3",
   "version": "3.7.7"
  }
 },
 "nbformat": 4,
 "nbformat_minor": 5
}
