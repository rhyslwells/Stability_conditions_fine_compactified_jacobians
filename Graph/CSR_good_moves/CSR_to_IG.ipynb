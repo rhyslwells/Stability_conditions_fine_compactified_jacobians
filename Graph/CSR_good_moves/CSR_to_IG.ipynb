{
 "cells": [
  {
   "cell_type": "markdown",
   "metadata": {
    "tags": [],
    "toc-hr-collapsed": true
   },
   "source": [
    "# Overview"
   ]
  },
  {
   "cell_type": "markdown",
   "metadata": {},
   "source": [
    "The principal idea (PI) of this investigation is to use the fact that for a graph $G$ the set of break divisors is a complete set of representatives (CSR) of the chip-firing action. By the PI if we chip-fire some of the divisors of the break divisors the resultant set is a CSR (new_CSR). From the new_CSR we wish to ask if it can be generate by a new_IG function (The data (new_CSR,new_IG) is a stability condition) which we will describe now.\n",
    "\n",
    "Note the break divisors CSR is given by taking the chip-adding saturation (adding the break divisors) of the IG function \n",
    "\n",
    "$$I_{G}:ST(G) \\rightarrow Div^{0}(G)$$\n",
    "\n",
    "assigning to every spanning tree the zero divisor. A set of \"good generalised break divisors\" $B_{I_G}(G)$ is given by taking the chip-adding saturation of a IG function such that $B_{I_G}(G)$ is a CSR."
   ]
  },
  {
   "cell_type": "markdown",
   "metadata": {},
   "source": [
    "We will set that only very particular chip firings from the break divisors CSR result in a new stability condition. Such chip-firings we speculate can be decomposed into what we call \"good moves\"."
   ]
  },
  {
   "cell_type": "markdown",
   "metadata": {},
   "source": [
    "One need not start from the break divisor case and ask which stabiltiy conditions can be obtained from good moves. We think this it is possible to transition between and stability conditions via a sequence of good moves."
   ]
  },
  {
   "cell_type": "markdown",
   "metadata": {
    "tags": []
   },
   "source": [
    "## Objectives"
   ]
  },
  {
   "cell_type": "markdown",
   "metadata": {},
   "source": [
    "- Explore the form of good chip firings to get a new stability condition from the break divisor case\n",
    "- Generate non-trivial examples of stability conditions for large complexity graphs."
   ]
  },
  {
   "cell_type": "markdown",
   "metadata": {},
   "source": [
    "## Table of Contents"
   ]
  },
  {
   "cell_type": "markdown",
   "metadata": {},
   "source": [
    "Order is in reverse with \"completed material\" at the end, along with functions. Please run functions section before starting."
   ]
  },
  {
   "cell_type": "markdown",
   "metadata": {},
   "source": [
    "1. [Chip firing from break to new stabiltiy condition example (I3) then function generalising](#s1)\n",
    "    1. [I3: Choose a CSR denoted by $S$](#s12)\n",
    "    2. [I3: Chip-subtract to get $Ass_{G}$](#s13)\n",
    "    3. [I3: Compute $I_{G}$ from refined $Ass_{G}$](#s14)\n",
    "    4. [I4: Generalised to a function format and apply to I4.](#s15)\n",
    "    5. [I4: Searching for good CF to give a new stability condition](#s16)\n",
    "    \n",
    "    \n",
    "2. [Investigating Good moves](#s2)\n",
    "    1. [Todo:](#s21)\n",
    "    2. [I4: For each vertex get assignment (before chip firing) of good move classes for break divisors case.](#s22)\n",
    "    3. [I4: Test new_IG and ask if good move class was correct (gives stability condition).](#s23)\n",
    "    4. [I4: Generalise procedure to give all new stability conditions per vertex from any stabiltiy condition.](#s24)\n",
    "    5. [I4: Given any graph get new stability conditions (by good move per vertex) from the break div case.](#s25)\n",
    "    6. [Examples: Test graph_basecase_new_stab_cons for different large graphs and save data](#s26)\n",
    "    7. [Non-trivial stability conditions to non-trivial stability conditions by good move.](#s27)\n",
    "    8. [Commutativity](#s28)\n",
    "    \n",
    "    \n",
    "3. [Functions](#s3)\n",
    "    1. [Investigating Good moves](#s31)\n",
    "    2. [General functions](#s32)\n",
    "    3. [Given a chip firings obtain a new stabiltiy condition for I3 graph](#s33)"
   ]
  },
  {
   "cell_type": "markdown",
   "metadata": {
    "jp-MarkdownHeadingCollapsed": true,
    "tags": []
   },
   "source": [
    "# Investigating Good moves <a name=\"s2\"></a>"
   ]
  },
  {
   "cell_type": "markdown",
   "metadata": {},
   "source": [
    "In this section we apply Natasha's notion of a good move and test on examples if such a move give a stability condition. We also write the code in a form so we can move from one stability condition to another by a good move (not necessarily from the break divisor case). \n",
    "\n",
    "In particular we \n",
    "\n",
    "- Get for each vertex get good move classes for break divisors case.\n",
    "\n",
    "- More generally given a stability condition for each vertex get good move classes and produce the new stability conditions (new_Ig,new generalised breaks)\n",
    "\n",
    "Remark: The main function of this section is good_move_induced_stabconl_per_vert"
   ]
  },
  {
   "cell_type": "markdown",
   "metadata": {
    "tags": [],
    "toc-hr-collapsed": true
   },
   "source": [
    "## Todo: <a name=\"s21\"></a>"
   ]
  },
  {
   "cell_type": "markdown",
   "metadata": {},
   "source": [
    "- Check good_move_induced_stabconl_per_vert works for non-trivial to new non-trivial stability conditions\n",
    "\n",
    "- get examples for larger graphs \n",
    "\n",
    "- Once done and I have sufficent number of different ones test polytope size, need to unpickle in phi investigation\n",
    "        and make an area there to check.\n",
    "\n",
    "- As a consequence we could test for which condition on good move classes allow for commutativity of this process.\n",
    "\n",
    "Later:\n",
    "    \n",
    "- Does there exist good move classes where we can chip-fire by [-1,0,...]?"
   ]
  },
  {
   "cell_type": "markdown",
   "metadata": {},
   "source": [
    "### Done"
   ]
  },
  {
   "cell_type": "markdown",
   "metadata": {},
   "source": [
    "1) Reobtained kite graph stabilties to recreate natashas working (where you have different values for the same vertex).\n",
    "2) For good move class we can take any chip-firing (positive and negative) on \"selected assignments\".\n",
    "3) Computed large examples are stored in the correct format in examples folder."
   ]
  },
  {
   "cell_type": "markdown",
   "metadata": {
    "tags": []
   },
   "source": [
    "## I4: For each vertex get assignment (before chip firing) of good move classes for break divisors case. <a name=\"s22\"></a>"
   ]
  },
  {
   "cell_type": "markdown",
   "metadata": {},
   "source": [
    "Remark: The main function we build here is good_move_class_per_vert"
   ]
  },
  {
   "cell_type": "markdown",
   "metadata": {},
   "source": [
    "Take break divisor stability condition (IG,CSR) "
   ]
  },
  {
   "cell_type": "code",
   "execution_count": 94,
   "metadata": {},
   "outputs": [],
   "source": [
    "G=Graph([(\"0\",\"1\"),(\"1\",\"2\"),(\"2\",\"3\"),(\"3\",\"0\")], multiedges=True)\n",
    "\n",
    "#Take break divisor case\n",
    "\n",
    "#Init:\n",
    "n=len(G.vertices())\n",
    "zero_ass=[0]*n\n",
    "Ig=[(T.copy(immutable=True),zero_ass) for T in list(G.spanning_trees()) ]\n",
    "\n",
    "#Break divisors:\n",
    "B=w_stability(G,Ig) # list\n",
    "csr=B.tolist() # [[0, 0, 0, 1], [0, 0, 1, 0], [0, 1, 0, 0], [1, 0, 0, 0]]"
   ]
  },
  {
   "cell_type": "markdown",
   "metadata": {},
   "source": [
    "get dictionary of (key,val) such that key = generalised break divisor b, and value is a list of (t,ass) that chip-add to give b.\n"
   ]
  },
  {
   "cell_type": "code",
   "execution_count": 56,
   "metadata": {},
   "outputs": [
    {
     "data": {
      "text/plain": [
       "{(0, 0, 0, 1): [(Graph on 4 vertices, [0, 0, 0, 0]),\n",
       "  (Graph on 4 vertices, [0, 0, 0, 0])],\n",
       " (0, 0, 1, 0): [(Graph on 4 vertices, [0, 0, 0, 0]),\n",
       "  (Graph on 4 vertices, [0, 0, 0, 0])],\n",
       " (0, 1, 0, 0): [(Graph on 4 vertices, [0, 0, 0, 0]),\n",
       "  (Graph on 4 vertices, [0, 0, 0, 0])],\n",
       " (1, 0, 0, 0): [(Graph on 4 vertices, [0, 0, 0, 0]),\n",
       "  (Graph on 4 vertices, [0, 0, 0, 0])]}"
      ]
     },
     "execution_count": 56,
     "metadata": {},
     "output_type": "execute_result"
    }
   ],
   "source": [
    "b_sat_trees=get_break_ass_dic(G,csr,Ig)\n",
    "b_sat_trees"
   ]
  },
  {
   "cell_type": "markdown",
   "metadata": {},
   "source": [
    "For each vertex ask what are the good move classes \n",
    "(value 0 for break not included but have to be careful wrt general working (discuss with natasha))."
   ]
  },
  {
   "cell_type": "code",
   "execution_count": 36,
   "metadata": {},
   "outputs": [],
   "source": [
    "# #Take vertex\n",
    "# vrt=[1,0,0,0] #for vertex in position 0.\n",
    "\n",
    "#Take the list of b in csr with value i in position vrt: giving (i,[breaks..])\n",
    "# gc_top=genbreaks_per_vert(csr,vrt)\n",
    "# # gc_top # [(0, [[0, 0, 0, 1], [0, 0, 1, 0], [0, 1, 0, 0]]), (1, [[1, 0, 0, 0]])]"
   ]
  },
  {
   "cell_type": "markdown",
   "metadata": {},
   "source": [
    "For each (i,[breaks..]) of gc_top (obtained by good_move_class_per_vert()).\n",
    "\n",
    "Ask what are the assignments (T,ass) that chip-add to give atleast one item of (i,[breaks..]).\n",
    "\n",
    "We will use these \"selected assignments\" to produce a new_Ig function after chip firing.\n",
    "\n",
    "Note: Not all of those produce a \"good move class\" so we will have to check \n",
    "(Are these assignments constant on the vertex cf?). "
   ]
  },
  {
   "cell_type": "code",
   "execution_count": 45,
   "metadata": {},
   "outputs": [
    {
     "name": "stdout",
     "output_type": "stream",
     "text": [
      "((0, [[0, 0, 0, 1], [0, 0, 1, 0], [0, 1, 0, 0]]), [1, 0, 0, 0], [(Graph on 4 vertices, [0, 0, 0, 0]), (Graph on 4 vertices, [0, 0, 0, 0]), (Graph on 4 vertices, [0, 0, 0, 0]), (Graph on 4 vertices, [0, 0, 0, 0])]) \n",
      "\n",
      "((1, [[1, 0, 0, 0]]), [1, 0, 0, 0], [(Graph on 4 vertices, [0, 0, 0, 0]), (Graph on 4 vertices, [0, 0, 0, 0])]) \n",
      "\n"
     ]
    }
   ],
   "source": [
    "# Here we iterate through gc_top (remember the different values on the vertes cf)\n",
    "# to obtain \"selected assignments\" and then package the data together.\n",
    "\n",
    "cf=[1,0,0,0]\n",
    "vrt=[1,0,0,0]\n",
    "GM=good_move_class_per_vert(G,csr,Ig,vrt,cf,b_sat_trees)\n",
    "for t in GM:\n",
    "    print(t,\"\\n\")\n",
    "    \n",
    "# #What are the assignments on those with value 1: are they correct?\n",
    "# a=GM[1][2]\n",
    "# a[0][0].edges() #[('0', '3', None), ('1', '2', None), ('2', '3', None)]\n",
    "# a[1][0].edges() #[('0', '1', None), ('1', '2', None), ('2', '3', None)]\n",
    "\n",
    "# \"\"\"\n",
    "# Example:\n",
    "\n",
    "\n",
    "# ((0, [[0, 0, 0, 1], [0, 0, 1, 0], [0, 1, 0, 0]]), [1, 0, 0, 0], [(Graph on 4 vertices, [0, 0, 0, 0]),\n",
    "# (Graph on 4 vertices, [0, 0, 0, 0]), (Graph on 4 vertices, [0, 0, 0, 0]), (Graph on 4 vertices, [0, 0, 0, 0])]) \n",
    "\n",
    "# ((1, [[1, 0, 0, 0]]), [1, 0, 0, 0], [(Graph on 4 vertices, [0, 0, 0, 0]), (Graph on 4 vertices, [0, 0, 0, 0])])\n",
    "# \"\"\"\n",
    "\n",
    "# cf=[0,1,0,0]\n",
    "# GM=good_move_class_per_vert(G,csr,Ig,vrt,cf,b_sat_trees)\n",
    "# for t in GM:\n",
    "#     print(t,\"\\n\")\n",
    "    \n",
    "# #What are the assignments on those with value 1: are they correct?\n",
    "# a=GM[1][2]\n",
    "# # a[0][0].edges() #[('0', '3', None), ('1', '2', None), ('2', '3', None)]\n",
    "# # a[1][0].edges() #[('0', '1', None), ('0', '3', None), ('2', '3', None)]\n",
    "\n",
    "# cf=[0,0,1,0]\n",
    "# GM=good_move_class_per_vert(G,csr,Ig,vrt,cf,b_sat_trees)\n",
    "# for t in GM:\n",
    "#     print(t,\"\\n\")\n",
    "    \n",
    "# #What are the assignments on those with value 1: are they correct?\n",
    "# a=GM[1][2]\n",
    "# # a[0][0].edges() #[('0', '1', None), ('0', '3', None), ('2', '3', None)]\n",
    "# # a[1][0].edges() #[('0', '1', None), ('0', '3', None), ('1', '2', None)]\n",
    "\n",
    "# cf=[0,0,0,1]\n",
    "# GM=good_move_class_per_vert(G,csr,Ig,vrt,cf,b_sat_trees)\n",
    "# for t in GM:\n",
    "#     print(t,\"\\n\")\n",
    "    \n",
    "# #What are the assignments on those with value 1: are they correct?\n",
    "# a=GM[1][2]\n",
    "# # a[0][0].edges() #[('0', '1', None), ('1', '2', None), ('2', '3', None)]\n",
    "# # a[1][0].edges() #[('0', '1', None), ('0', '3', None), ('1', '2', None)]"
   ]
  },
  {
   "cell_type": "code",
   "execution_count": null,
   "metadata": {},
   "outputs": [],
   "source": [
    "## I4: Chip fire assignments of good move classes and build new_IG from break case."
   ]
  },
  {
   "cell_type": "markdown",
   "metadata": {},
   "source": [
    "Example: take good move class I know works and generate the new stability condition from the new_Ig function"
   ]
  },
  {
   "cell_type": "code",
   "execution_count": 95,
   "metadata": {},
   "outputs": [
    {
     "data": {
      "text/plain": [
       "((1, [[1, 0, 0, 0]]),\n",
       " [(Graph on 4 vertices, [0, 0, 0, 0]), (Graph on 4 vertices, [0, 0, 0, 0])])"
      ]
     },
     "execution_count": 95,
     "metadata": {},
     "output_type": "execute_result"
    }
   ],
   "source": [
    "vrt=[1,0,0,0]\n",
    "cf=[1,0,0,0]\n",
    "GM=good_move_class_per_vert(G,csr,Ig,vrt,cf,b_sat_trees)\n",
    "GM[1]"
   ]
  },
  {
   "cell_type": "markdown",
   "metadata": {},
   "source": [
    "Given a \"good move class\" take the \"selected assignments\" and chip-fire these on CF to obtain the assignments we want to use in the new Ig."
   ]
  },
  {
   "cell_type": "code",
   "execution_count": 48,
   "metadata": {},
   "outputs": [
    {
     "data": {
      "text/plain": [
       "[(Graph on 4 vertices, [0, 0, 0, 0]), (Graph on 4 vertices, [0, 0, 0, 0])]"
      ]
     },
     "execution_count": 48,
     "metadata": {},
     "output_type": "execute_result"
    }
   ],
   "source": [
    "#Take the assignemnts of the \"good move class\" (still dont know if its a true good move class yet,\n",
    "# might not give stabiltiy condition)\n",
    "selected_ass=GM[1][2]\n",
    "selected_ass #[(Graph on 4 vertices, [0, 0, 0, 0]), (Graph on 4 vertices, [0, 0, 0, 0])]"
   ]
  },
  {
   "cell_type": "code",
   "execution_count": 49,
   "metadata": {},
   "outputs": [],
   "source": [
    "#chip fire\n",
    "\n",
    "#Take the (T,ass) in selected_ass and convert to (T,chip firied ass by cf).\n",
    "cf_selected_ass=[]\n",
    "for ass in selected_ass:\n",
    "    T,div=ass\n",
    "    cf_div=chip_fire(T.copy(immutable=False),div,cf)\n",
    "    cf_selected_ass.append((T.copy(immutable=True),cf_div))\n",
    "    \n",
    "# cf_selected_ass\n",
    "\n",
    "#Can check that chip firing on trees works\n",
    "#show(cf_selected_ass[0][0])"
   ]
  },
  {
   "cell_type": "code",
   "execution_count": 50,
   "metadata": {},
   "outputs": [
    {
     "data": {
      "text/plain": [
       "[(Graph on 4 vertices, [-1, 0, 0, 1]), (Graph on 4 vertices, [-1, 1, 0, 0])]"
      ]
     },
     "execution_count": 50,
     "metadata": {},
     "output_type": "execute_result"
    }
   ],
   "source": [
    "cf_selected_ass #[(Graph on 4 vertices, [-1, 0, 0, 1]), (Graph on 4 vertices, [-1, 1, 0, 0])]"
   ]
  },
  {
   "cell_type": "markdown",
   "metadata": {},
   "source": [
    "Build new I_G function by joining cf_selected_ass with the complement on selected_ass in base_assignments (starting Ig)."
   ]
  },
  {
   "cell_type": "code",
   "execution_count": 51,
   "metadata": {},
   "outputs": [],
   "source": [
    "# selected_ass\n",
    "\n",
    "# base_assignments\n",
    "\n",
    "complement_ass = [ass for ass in Ig if ass not in selected_ass]\n",
    "new_Ig=cf_selected_ass+complement_ass\n",
    "\n",
    "# for b in selected_ass:\n",
    "#     print(b[0].edges(),b[1])\n",
    "# print(\"---\")\n",
    "\n",
    "# for b in complement_ass:\n",
    "#     print(b[0].edges(),b[1])\n",
    "\n",
    "# print(\"---\")\n",
    "\n",
    "# for b in base_assignments:\n",
    "#     print(b[0].edges(),b[1])\n",
    "# print(\"---\")\n",
    "\n",
    "# for b in new_Ig:\n",
    "#     print(b[0].edges(),b[1])"
   ]
  },
  {
   "cell_type": "markdown",
   "metadata": {
    "jp-MarkdownHeadingCollapsed": true,
    "tags": []
   },
   "source": [
    "## I4: Test new_IG and ask if good move class was correct (gives stability condition).<a name=\"s23\"></a>"
   ]
  },
  {
   "cell_type": "markdown",
   "metadata": {},
   "source": [
    "Test new I_G by taking chip-adding saturation (adding all the break divisors) of new_Ig to get possible_new_gb \n",
    "\n",
    "If possible_new_gb has size complexity of the graph then new_gb=possible_new_gb.\n",
    "\n",
    "This will give us a new stability condition (new_Ig,new_gb)."
   ]
  },
  {
   "cell_type": "code",
   "execution_count": 52,
   "metadata": {},
   "outputs": [],
   "source": [
    "possible_new_gb=w_stability(G,new_Ig)"
   ]
  },
  {
   "cell_type": "code",
   "execution_count": 69,
   "metadata": {},
   "outputs": [
    {
     "name": "stdout",
     "output_type": "stream",
     "text": [
      "[(Graph on 4 vertices, [-1, 0, 0, 1]), (Graph on 4 vertices, [-1, 1, 0, 0]), (Graph on 4 vertices, [0, 0, 0, 0]), (Graph on 4 vertices, [0, 0, 0, 0])] [[-1  1  0  1]\n",
      " [ 0  0  0  1]\n",
      " [ 0  0  1  0]\n",
      " [ 0  1  0  0]]\n"
     ]
    }
   ],
   "source": [
    "complexity=len(Ig)\n",
    "if possible_new_gb.shape[0]==complexity:\n",
    "    new_gb=possible_new_gb\n",
    "    print(new_Ig,new_gb)\n",
    "\n",
    "\n",
    "\n",
    "# #If rerun but with selected_ass=GM[1][2], when val was 0 get:BAD\n",
    "# \"\"\"\n",
    "# array([[-2,  1,  0,  2],\n",
    "#        [-2,  1,  1,  1],\n",
    "#        [-2,  2,  0,  1],\n",
    "#        [-1,  1,  0,  1],\n",
    "#        [ 0,  0,  0,  1],\n",
    "#        [ 0,  1,  0,  0]], dtype=int32)\n",
    "# \"\"\""
   ]
  },
  {
   "cell_type": "markdown",
   "metadata": {
    "jp-MarkdownHeadingCollapsed": true,
    "tags": []
   },
   "source": [
    "## I4: Generalise procedure to give all new stability conditions per vertex from any stabiltiy condition. <a name=\"s24\"></a>"
   ]
  },
  {
   "cell_type": "markdown",
   "metadata": {},
   "source": [
    "Turn the above procedure into a function to go from cf(possible different values on this vert),Ig,csr to a list of new stability conditions."
   ]
  },
  {
   "cell_type": "code",
   "execution_count": 98,
   "metadata": {},
   "outputs": [
    {
     "data": {
      "text/plain": [
       "[([(Graph on 4 vertices, [-1, 0, 0, 1]),\n",
       "   (Graph on 4 vertices, [-1, 1, 0, 0]),\n",
       "   (Graph on 4 vertices, [0, 0, 0, 0]),\n",
       "   (Graph on 4 vertices, [0, 0, 0, 0])],\n",
       "  array([[-1,  1,  0,  1],\n",
       "         [ 0,  0,  0,  1],\n",
       "         [ 0,  0,  1,  0],\n",
       "         [ 0,  1,  0,  0]], dtype=int32))]"
      ]
     },
     "execution_count": 98,
     "metadata": {},
     "output_type": "execute_result"
    }
   ],
   "source": [
    "vrt=[1,0,0,0]\n",
    "cf=[1,0,0,0]\n",
    "new_stabs_v0=good_move_induced_stabconl_per_vert(G,Ig,vrt,cf) \n",
    "new_stabs_v0"
   ]
  },
  {
   "cell_type": "markdown",
   "metadata": {
    "jp-MarkdownHeadingCollapsed": true,
    "tags": []
   },
   "source": [
    "## I4: Given any graph get new stability conditions (by good move per vertex) from the break div case. <a name=\"s25\"></a>"
   ]
  },
  {
   "cell_type": "markdown",
   "metadata": {},
   "source": [
    "Given a graph, get the break divisor case (Ig,breaks) and then from that with the cf produce the new wsc."
   ]
  },
  {
   "cell_type": "code",
   "execution_count": 100,
   "metadata": {},
   "outputs": [
    {
     "data": {
      "text/plain": [
       "[([(Graph on 4 vertices, [-1, 0, 0, 1]),\n",
       "   (Graph on 4 vertices, [-1, 1, 0, 0]),\n",
       "   (Graph on 4 vertices, [0, 0, 0, 0]),\n",
       "   (Graph on 4 vertices, [0, 0, 0, 0])],\n",
       "  array([[-1,  1,  0,  1],\n",
       "         [ 0,  0,  0,  1],\n",
       "         [ 0,  0,  1,  0],\n",
       "         [ 0,  1,  0,  0]], dtype=int32))]"
      ]
     },
     "execution_count": 100,
     "metadata": {},
     "output_type": "execute_result"
    }
   ],
   "source": [
    "vrt=[1,0,0,0]\n",
    "cf=[1,0,0,0]\n",
    "\n",
    "stab_con_l=graph_basecase_new_stab_cons(G,vrt,cf)\n",
    "stab_con_l"
   ]
  },
  {
   "cell_type": "markdown",
   "metadata": {},
   "source": [
    "## I4: Check good_move_induced_stabconl_per_vert works for non-trivial to new non-trivial stability conditions"
   ]
  },
  {
   "cell_type": "code",
   "execution_count": null,
   "metadata": {},
   "outputs": [],
   "source": [
    "Doing the 1+3 example in the notes."
   ]
  },
  {
   "cell_type": "code",
   "execution_count": 105,
   "metadata": {},
   "outputs": [
    {
     "data": {
      "text/plain": [
       "[([(Graph on 4 vertices, [-1, 0, 0, 1]),\n",
       "   (Graph on 4 vertices, [-1, 1, 0, 0]),\n",
       "   (Graph on 4 vertices, [0, 0, 0, 0]),\n",
       "   (Graph on 4 vertices, [0, 0, 0, 0])],\n",
       "  array([[-1,  1,  0,  1],\n",
       "         [ 0,  0,  0,  1],\n",
       "         [ 0,  0,  1,  0],\n",
       "         [ 0,  1,  0,  0]], dtype=int32))]"
      ]
     },
     "execution_count": 105,
     "metadata": {},
     "output_type": "execute_result"
    }
   ],
   "source": [
    "#Inital new stabiltiy condition\n",
    "vrt=[1,0,0,0]\n",
    "cf=[1,0,0,0]\n",
    "\n",
    "stab_con_l=graph_basecase_new_stab_cons(G,vrt,cf)\n",
    "stab_con_l"
   ]
  },
  {
   "cell_type": "code",
   "execution_count": 106,
   "metadata": {},
   "outputs": [
    {
     "data": {
      "text/plain": [
       "[([(Graph on 4 vertices, [0, 0, -1, 1]),\n",
       "   (Graph on 4 vertices, [0, 1, -1, 0]),\n",
       "   (Graph on 4 vertices, [-1, 0, 0, 1]),\n",
       "   (Graph on 4 vertices, [-1, 1, 0, 0])],\n",
       "  array([[-1,  1,  0,  1],\n",
       "         [ 0,  0,  0,  1],\n",
       "         [ 0,  1, -1,  1],\n",
       "         [ 0,  1,  0,  0]], dtype=int32))]"
      ]
     },
     "execution_count": 106,
     "metadata": {},
     "output_type": "execute_result"
    }
   ],
   "source": [
    "vrt=[0,0,1,0]\n",
    "cf=[0,0,1,0]\n",
    "\n",
    "nstab_con_l=reapply(G,stab_con_l,vrt,cf,pos=0)\n",
    "nstab_con_l"
   ]
  },
  {
   "cell_type": "markdown",
   "metadata": {},
   "source": [
    "Can we go the other way, doing 3 then 1? (Yes I guess so as they are disjoint wrt the trees in the Ig.)\n"
   ]
  },
  {
   "cell_type": "code",
   "execution_count": 107,
   "metadata": {},
   "outputs": [
    {
     "data": {
      "text/plain": [
       "[([(Graph on 4 vertices, [0, 0, -1, 1]),\n",
       "   (Graph on 4 vertices, [0, 1, -1, 0]),\n",
       "   (Graph on 4 vertices, [0, 0, 0, 0]),\n",
       "   (Graph on 4 vertices, [0, 0, 0, 0])],\n",
       "  array([[ 0,  0,  0,  1],\n",
       "         [ 0,  1, -1,  1],\n",
       "         [ 0,  1,  0,  0],\n",
       "         [ 1,  0,  0,  0]], dtype=int32))]"
      ]
     },
     "execution_count": 107,
     "metadata": {},
     "output_type": "execute_result"
    }
   ],
   "source": [
    "#Inital new stabiltiy condition\n",
    "vrt=[0,0,1,0]\n",
    "cf=[0,0,1,0]\n",
    "\n",
    "stab_con_l=graph_basecase_new_stab_cons(G,vrt,cf)\n",
    "stab_con_l"
   ]
  },
  {
   "cell_type": "code",
   "execution_count": 108,
   "metadata": {},
   "outputs": [
    {
     "data": {
      "text/plain": [
       "[([(Graph on 4 vertices, [-1, 0, 0, 1]),\n",
       "   (Graph on 4 vertices, [-1, 1, 0, 0]),\n",
       "   (Graph on 4 vertices, [0, 0, -1, 1]),\n",
       "   (Graph on 4 vertices, [0, 1, -1, 0])],\n",
       "  array([[-1,  1,  0,  1],\n",
       "         [ 0,  0,  0,  1],\n",
       "         [ 0,  1, -1,  1],\n",
       "         [ 0,  1,  0,  0]], dtype=int32))]"
      ]
     },
     "execution_count": 108,
     "metadata": {},
     "output_type": "execute_result"
    }
   ],
   "source": [
    "vrt=[1,0,0,0]\n",
    "cf=[1,0,0,0]\n",
    "\n",
    "nstab_con_l=reapply(G,stab_con_l,vrt,cf,pos=0)\n",
    "nstab_con_l"
   ]
  },
  {
   "cell_type": "markdown",
   "metadata": {
    "jp-MarkdownHeadingCollapsed": true,
    "tags": [],
    "toc-hr-collapsed": true
   },
   "source": [
    "## Examples: Test graph_basecase_new_stab_cons for different large graphs and save data <a name=\"s26\"></a>"
   ]
  },
  {
   "cell_type": "markdown",
   "metadata": {},
   "source": [
    "Lets take some different graphs and test graph_basecase_new_stab_cons"
   ]
  },
  {
   "cell_type": "markdown",
   "metadata": {
    "tags": []
   },
   "source": [
    "### Triangle"
   ]
  },
  {
   "cell_type": "code",
   "execution_count": 90,
   "metadata": {},
   "outputs": [
    {
     "name": "stdout",
     "output_type": "stream",
     "text": [
      "The value (1, [[1, 0, 0]]) outputs to stability condition\n"
     ]
    }
   ],
   "source": [
    "graphname=\"I3\"\n",
    "G=Graph([(\"0\",\"1\"),(\"1\",\"2\"),(\"2\",\"0\")], multiedges=True)\n",
    "\n",
    "vrt=[1,0,0]\n",
    "cf=[1,0,0] #works\n",
    "# cf=[-1,0,0] #does not work\n",
    "\n",
    "\n",
    "stab_l=graph_basecase_new_stab_cons(G,vrt,cf)\n",
    "con_stab_l=convert_format(stab_l)\n"
   ]
  },
  {
   "cell_type": "code",
   "execution_count": 91,
   "metadata": {},
   "outputs": [],
   "source": [
    "save_data(graphname,con_stab_l)"
   ]
  },
  {
   "cell_type": "code",
   "execution_count": 92,
   "metadata": {},
   "outputs": [],
   "source": [
    "x=load_data(graphname)"
   ]
  },
  {
   "cell_type": "code",
   "execution_count": 93,
   "metadata": {},
   "outputs": [
    {
     "data": {
      "text/plain": [
       "[([[-1, 0, 1], [-1, 1, 0], [0, 0, 0]],\n",
       "  array([[-1,  1,  1],\n",
       "         [ 0,  0,  1],\n",
       "         [ 0,  1,  0]], dtype=int32),\n",
       "  [(Graph on 3 vertices, [-1, 0, 1]),\n",
       "   (Graph on 3 vertices, [-1, 1, 0]),\n",
       "   (Graph on 3 vertices, [0, 0, 0])],\n",
       "  None)]"
      ]
     },
     "execution_count": 93,
     "metadata": {},
     "output_type": "execute_result"
    }
   ],
   "source": [
    "x"
   ]
  },
  {
   "cell_type": "markdown",
   "metadata": {
    "tags": []
   },
   "source": [
    "### Kite=G4M2"
   ]
  },
  {
   "cell_type": "code",
   "execution_count": 185,
   "metadata": {},
   "outputs": [
    {
     "data": {
      "image/png": "[encoded data removed]",
      "text/plain": [
       "Graphics object consisting of 10 graphics primitives"
      ]
     },
     "metadata": {},
     "output_type": "display_data"
    }
   ],
   "source": [
    "G=Graph([(\"0\",\"1\"),(\"1\",\"2\"),(\"2\",\"3\"),(\"0\",\"2\"),(\"1\",\"3\")], multiedges=True)\n",
    "# n=len(G.vertices())\n",
    "# G.relabel({int(i):str(i) for i in range(n)})\n",
    "G.show()"
   ]
  },
  {
   "cell_type": "markdown",
   "metadata": {},
   "source": [
    "Should get two cases for vertex \"1\" have those with value 1 or 2.\n",
    "\n",
    "QUESTION:Using the theory can you tell me why is \n",
    "\n",
    "gm ((1, [[0, 1, 0, 1], [0, 1, 1, 0], [1, 1, 0, 0]]), [(Graph on 4 vertices, [0, 0, 0, 0]),\n",
    "                                                      (Graph on 4 vertices, [0, 0, 0, 0]),\n",
    "                                                      (Graph on 4 vertices, [0, 0, 0, 0]),\n",
    "                                                      (Graph on 4 vertices, [0, 0, 0, 0]),\n",
    "                                                      (Graph on 4 vertices, [0, 0, 0, 0]), \n",
    "                                                      (Graph on 4 vertices, [0, 0, 0, 0]), \n",
    "                                                      (Graph on 4 vertices, [0, 0, 0, 0])]) \n",
    "not good? "
   ]
  },
  {
   "cell_type": "code",
   "execution_count": 68,
   "metadata": {
    "collapsed": true,
    "jupyter": {
     "outputs_hidden": true
    },
    "tags": []
   },
   "outputs": [],
   "source": [
    "# vrt=[0,1,0,0]\n",
    "# cf=[0,1,0,0]\n",
    "\n",
    "# new_stabs_v_lst=graph_basecase_new_stab_cons(G,vrt,cf)\n",
    "# new_stabs_v_lst\n",
    "\n",
    "# gm ((0, [[0, 0, 1, 1], [0, 0, 2, 0], [1, 0, 0, 1], [1, 0, 1, 0]]), [(Graph on 4 vertices, [0, 0, 0, 0]), (Graph on 4 vertices, [0, 0, 0, 0]), (Graph on 4 vertices, [0, 0, 0, 0]), (Graph on 4 vertices, [0, 0, 0, 0]), (Graph on 4 vertices, [0, 0, 0, 0]), (Graph on 4 vertices, [0, 0, 0, 0]), (Graph on 4 vertices, [0, 0, 0, 0]), (Graph on 4 vertices, [0, 0, 0, 0])]) \n",
    "\n",
    "# gm ((1, [[0, 1, 0, 1], [0, 1, 1, 0], [1, 1, 0, 0]]), [(Graph on 4 vertices, [0, 0, 0, 0]), (Graph on 4 vertices, [0, 0, 0, 0]), (Graph on 4 vertices, [0, 0, 0, 0]), (Graph on 4 vertices, [0, 0, 0, 0]), (Graph on 4 vertices, [0, 0, 0, 0]), (Graph on 4 vertices, [0, 0, 0, 0]), (Graph on 4 vertices, [0, 0, 0, 0])]) \n",
    "\n",
    "# gm ((2, [[0, 2, 0, 0]]), [(Graph on 4 vertices, [0, 0, 0, 0]), (Graph on 4 vertices, [0, 0, 0, 0]), (Graph on 4 vertices, [0, 0, 0, 0])]) \n",
    "\n",
    "# The value (2, [[0, 2, 0, 0]]) outputs to stability condition\n",
    "# [([(Graph on 4 vertices, [0, -1, 0, 1]),\n",
    "#    (Graph on 4 vertices, [0, -1, 1, 0]),\n",
    "#    (Graph on 4 vertices, [1, -1, 0, 0]),\n",
    "#    (Graph on 4 vertices, [0, 0, 0, 0]),\n",
    "#    (Graph on 4 vertices, [0, 0, 0, 0]),\n",
    "#    (Graph on 4 vertices, [0, 0, 0, 0]),\n",
    "#    (Graph on 4 vertices, [0, 0, 0, 0]),\n",
    "#    (Graph on 4 vertices, [0, 0, 0, 0])],\n",
    "#   array([[ 0,  0,  1,  1],\n",
    "#          [ 0,  0,  2,  0],\n",
    "#          [ 0,  1,  0,  1],\n",
    "#          [ 0,  1,  1,  0],\n",
    "#          [ 1, -1,  1,  1],\n",
    "#          [ 1,  0,  0,  1],\n",
    "#          [ 1,  0,  1,  0],\n",
    "#          [ 1,  1,  0,  0]], dtype=int32))]"
   ]
  },
  {
   "cell_type": "code",
   "execution_count": 186,
   "metadata": {},
   "outputs": [
    {
     "name": "stdout",
     "output_type": "stream",
     "text": [
      "The value (1, [[1, 0, 0, 1], [1, 0, 1, 0], [1, 1, 0, 0]]) outputs to stability condition \n",
      "\n"
     ]
    },
    {
     "data": {
      "text/plain": [
       "[([(Graph on 4 vertices, [-1, 0, 1, 0]),\n",
       "   (Graph on 4 vertices, [-1, 0, 1, 0]),\n",
       "   (Graph on 4 vertices, [-1, 1, 0, 0]),\n",
       "   (Graph on 4 vertices, [-1, 1, 0, 0]),\n",
       "   (Graph on 4 vertices, [-1, 0, 1, 0]),\n",
       "   (Graph on 4 vertices, [-1, 1, 0, 0]),\n",
       "   (Graph on 4 vertices, [0, 0, 0, 0]),\n",
       "   (Graph on 4 vertices, [0, 0, 0, 0])],\n",
       "  array([[-1,  1,  1,  1],\n",
       "         [-1,  1,  2,  0],\n",
       "         [-1,  2,  1,  0],\n",
       "         [ 0,  0,  1,  1],\n",
       "         [ 0,  0,  2,  0],\n",
       "         [ 0,  1,  0,  1],\n",
       "         [ 0,  1,  1,  0],\n",
       "         [ 0,  2,  0,  0]], dtype=int32))]"
      ]
     },
     "execution_count": 186,
     "metadata": {},
     "output_type": "execute_result"
    }
   ],
   "source": [
    "#Inital new stabiltiy condition\n",
    "\n",
    "vrt,cf=vrt_cf(G,0,0)\n",
    "\n",
    "stab_con_l=graph_basecase_new_stab_cons(G,vrt,cf)\n",
    "stab_con_l"
   ]
  },
  {
   "cell_type": "code",
   "execution_count": 187,
   "metadata": {},
   "outputs": [
    {
     "name": "stdout",
     "output_type": "stream",
     "text": [
      "The value (1, [[-1, 1, 1, 1], [0, 0, 1, 1], [0, 1, 0, 1]]) outputs to stability condition \n",
      "\n"
     ]
    },
    {
     "data": {
      "text/plain": [
       "[([(Graph on 4 vertices, [-1, 0, 2, -1]),\n",
       "   (Graph on 4 vertices, [-1, 1, 1, -1]),\n",
       "   (Graph on 4 vertices, [-1, 1, 1, -1]),\n",
       "   (Graph on 4 vertices, [-1, 2, 0, -1]),\n",
       "   (Graph on 4 vertices, [0, 0, 1, -1]),\n",
       "   (Graph on 4 vertices, [0, 1, 0, -1]),\n",
       "   (Graph on 4 vertices, [-1, 0, 1, 0]),\n",
       "   (Graph on 4 vertices, [-1, 1, 0, 0])],\n",
       "  array([[-1,  1,  2,  0],\n",
       "         [-1,  2,  1,  0],\n",
       "         [-1,  2,  2, -1],\n",
       "         [ 0,  0,  2,  0],\n",
       "         [ 0,  1,  1,  0],\n",
       "         [ 0,  1,  2, -1],\n",
       "         [ 0,  2,  0,  0],\n",
       "         [ 0,  2,  1, -1]], dtype=int32))]"
      ]
     },
     "execution_count": 187,
     "metadata": {},
     "output_type": "execute_result"
    }
   ],
   "source": [
    "#from new stabiltiy condition from break case  to new_\n",
    "vrt,cf=vrt_cf(G,3,3)\n",
    "\n",
    "nstab_con_l=reapply(G,stab_con_l,vrt,cf,pos=0)\n",
    "nstab_con_l"
   ]
  },
  {
   "cell_type": "markdown",
   "metadata": {},
   "source": []
  },
  {
   "cell_type": "markdown",
   "metadata": {
    "tags": []
   },
   "source": [
    "### Complete on 5"
   ]
  },
  {
   "cell_type": "code",
   "execution_count": 222,
   "metadata": {
    "collapsed": true,
    "jupyter": {
     "outputs_hidden": true
    }
   },
   "outputs": [
    {
     "data": {
      "image/png": "[encoded data removed]",
      "text/plain": [
       "Graphics object consisting of 16 graphics primitives"
      ]
     },
     "metadata": {},
     "output_type": "display_data"
    },
    {
     "name": "stdout",
     "output_type": "stream",
     "text": [
      "The value (3, [[3, 0, 0, 1, 2], [3, 0, 0, 2, 1], [3, 0, 1, 0, 2], [3, 0, 1, 1, 1], [3, 0, 1, 2, 0], [3, 0, 2, 0, 1], [3, 0, 2, 1, 0], [3, 1, 0, 0, 2], [3, 1, 0, 1, 1], [3, 1, 0, 2, 0], [3, 1, 1, 0, 1], [3, 1, 1, 1, 0], [3, 1, 2, 0, 0], [3, 2, 0, 0, 1], [3, 2, 0, 1, 0], [3, 2, 1, 0, 0]]) outputs to stability condition \n",
      "\n"
     ]
    },
    {
     "data": {
      "text/plain": [
       "[([(Graph on 5 vertices, [-1, 0, 0, 0, 1]),\n",
       "   (Graph on 5 vertices, [-1, 0, 0, 0, 1]),\n",
       "   (Graph on 5 vertices, [-1, 0, 0, 0, 1]),\n",
       "   (Graph on 5 vertices, [-1, 0, 0, 0, 1]),\n",
       "   (Graph on 5 vertices, [-1, 0, 0, 0, 1]),\n",
       "   (Graph on 5 vertices, [-1, 0, 0, 0, 1]),\n",
       "   (Graph on 5 vertices, [-1, 0, 0, 1, 0]),\n",
       "   (Graph on 5 vertices, [-1, 0, 0, 1, 0]),\n",
       "   (Graph on 5 vertices, [-1, 0, 0, 1, 0]),\n",
       "   (Graph on 5 vertices, [-1, 0, 0, 1, 0]),\n",
       "   (Graph on 5 vertices, [-1, 0, 0, 1, 0]),\n",
       "   (Graph on 5 vertices, [-1, 0, 0, 1, 0]),\n",
       "   (Graph on 5 vertices, [-1, 0, 1, 0, 0]),\n",
       "   (Graph on 5 vertices, [-1, 0, 1, 0, 0]),\n",
       "   (Graph on 5 vertices, [-1, 0, 1, 0, 0]),\n",
       "   (Graph on 5 vertices, [-1, 0, 1, 0, 0]),\n",
       "   (Graph on 5 vertices, [-1, 0, 1, 0, 0]),\n",
       "   (Graph on 5 vertices, [-1, 0, 1, 0, 0]),\n",
       "   (Graph on 5 vertices, [-1, 1, 0, 0, 0]),\n",
       "   (Graph on 5 vertices, [-1, 1, 0, 0, 0]),\n",
       "   (Graph on 5 vertices, [-1, 1, 0, 0, 0]),\n",
       "   (Graph on 5 vertices, [-1, 1, 0, 0, 0]),\n",
       "   (Graph on 5 vertices, [-1, 1, 0, 0, 0]),\n",
       "   (Graph on 5 vertices, [-1, 1, 0, 0, 0]),\n",
       "   (Graph on 5 vertices, [-1, 0, 0, 0, 1]),\n",
       "   (Graph on 5 vertices, [-1, 0, 0, 0, 1]),\n",
       "   (Graph on 5 vertices, [-1, 0, 0, 1, 0]),\n",
       "   (Graph on 5 vertices, [-1, 0, 0, 1, 0]),\n",
       "   (Graph on 5 vertices, [-1, 0, 1, 0, 0]),\n",
       "   (Graph on 5 vertices, [-1, 0, 1, 0, 0]),\n",
       "   (Graph on 5 vertices, [-1, 1, 0, 0, 0]),\n",
       "   (Graph on 5 vertices, [-1, 1, 0, 0, 0]),\n",
       "   (Graph on 5 vertices, [-1, 0, 0, 0, 1]),\n",
       "   (Graph on 5 vertices, [-1, 0, 0, 0, 1]),\n",
       "   (Graph on 5 vertices, [-1, 0, 0, 0, 1]),\n",
       "   (Graph on 5 vertices, [-1, 0, 0, 1, 0]),\n",
       "   (Graph on 5 vertices, [-1, 0, 0, 1, 0]),\n",
       "   (Graph on 5 vertices, [-1, 0, 0, 1, 0]),\n",
       "   (Graph on 5 vertices, [-1, 0, 1, 0, 0]),\n",
       "   (Graph on 5 vertices, [-1, 0, 1, 0, 0]),\n",
       "   (Graph on 5 vertices, [-1, 0, 1, 0, 0]),\n",
       "   (Graph on 5 vertices, [-1, 1, 0, 0, 0]),\n",
       "   (Graph on 5 vertices, [-1, 1, 0, 0, 0]),\n",
       "   (Graph on 5 vertices, [-1, 1, 0, 0, 0]),\n",
       "   (Graph on 5 vertices, [-1, 0, 0, 0, 1]),\n",
       "   (Graph on 5 vertices, [-1, 0, 0, 0, 1]),\n",
       "   (Graph on 5 vertices, [-1, 0, 0, 0, 1]),\n",
       "   (Graph on 5 vertices, [-1, 0, 0, 0, 1]),\n",
       "   (Graph on 5 vertices, [-1, 0, 0, 1, 0]),\n",
       "   (Graph on 5 vertices, [-1, 0, 0, 1, 0]),\n",
       "   (Graph on 5 vertices, [-1, 0, 0, 1, 0]),\n",
       "   (Graph on 5 vertices, [-1, 0, 0, 1, 0]),\n",
       "   (Graph on 5 vertices, [-1, 0, 1, 0, 0]),\n",
       "   (Graph on 5 vertices, [-1, 0, 1, 0, 0]),\n",
       "   (Graph on 5 vertices, [-1, 0, 1, 0, 0]),\n",
       "   (Graph on 5 vertices, [-1, 0, 1, 0, 0]),\n",
       "   (Graph on 5 vertices, [-1, 1, 0, 0, 0]),\n",
       "   (Graph on 5 vertices, [-1, 1, 0, 0, 0]),\n",
       "   (Graph on 5 vertices, [-1, 1, 0, 0, 0]),\n",
       "   (Graph on 5 vertices, [-1, 1, 0, 0, 0]),\n",
       "   (Graph on 5 vertices, [-1, 0, 0, 0, 1]),\n",
       "   (Graph on 5 vertices, [-1, 0, 0, 1, 0]),\n",
       "   (Graph on 5 vertices, [-1, 0, 1, 0, 0]),\n",
       "   (Graph on 5 vertices, [-1, 1, 0, 0, 0]),\n",
       "   (Graph on 5 vertices, [0, 0, 0, 0, 0]),\n",
       "   (Graph on 5 vertices, [0, 0, 0, 0, 0]),\n",
       "   (Graph on 5 vertices, [0, 0, 0, 0, 0]),\n",
       "   (Graph on 5 vertices, [0, 0, 0, 0, 0]),\n",
       "   (Graph on 5 vertices, [0, 0, 0, 0, 0]),\n",
       "   (Graph on 5 vertices, [0, 0, 0, 0, 0]),\n",
       "   (Graph on 5 vertices, [0, 0, 0, 0, 0]),\n",
       "   (Graph on 5 vertices, [0, 0, 0, 0, 0]),\n",
       "   (Graph on 5 vertices, [0, 0, 0, 0, 0]),\n",
       "   (Graph on 5 vertices, [0, 0, 0, 0, 0]),\n",
       "   (Graph on 5 vertices, [0, 0, 0, 0, 0]),\n",
       "   (Graph on 5 vertices, [0, 0, 0, 0, 0]),\n",
       "   (Graph on 5 vertices, [0, 0, 0, 0, 0]),\n",
       "   (Graph on 5 vertices, [0, 0, 0, 0, 0]),\n",
       "   (Graph on 5 vertices, [0, 0, 0, 0, 0]),\n",
       "   (Graph on 5 vertices, [0, 0, 0, 0, 0]),\n",
       "   (Graph on 5 vertices, [0, 0, 0, 0, 0]),\n",
       "   (Graph on 5 vertices, [0, 0, 0, 0, 0]),\n",
       "   (Graph on 5 vertices, [0, 0, 0, 0, 0]),\n",
       "   (Graph on 5 vertices, [0, 0, 0, 0, 0]),\n",
       "   (Graph on 5 vertices, [0, 0, 0, 0, 0]),\n",
       "   (Graph on 5 vertices, [0, 0, 0, 0, 0]),\n",
       "   (Graph on 5 vertices, [0, 0, 0, 0, 0]),\n",
       "   (Graph on 5 vertices, [0, 0, 0, 0, 0]),\n",
       "   (Graph on 5 vertices, [0, 0, 0, 0, 0]),\n",
       "   (Graph on 5 vertices, [0, 0, 0, 0, 0]),\n",
       "   (Graph on 5 vertices, [0, 0, 0, 0, 0]),\n",
       "   (Graph on 5 vertices, [0, 0, 0, 0, 0]),\n",
       "   (Graph on 5 vertices, [0, 0, 0, 0, 0]),\n",
       "   (Graph on 5 vertices, [0, 0, 0, 0, 0]),\n",
       "   (Graph on 5 vertices, [0, 0, 0, 0, 0]),\n",
       "   (Graph on 5 vertices, [0, 0, 0, 0, 0]),\n",
       "   (Graph on 5 vertices, [0, 0, 0, 0, 0]),\n",
       "   (Graph on 5 vertices, [0, 0, 0, 0, 0]),\n",
       "   (Graph on 5 vertices, [0, 0, 0, 0, 0]),\n",
       "   (Graph on 5 vertices, [0, 0, 0, 0, 0]),\n",
       "   (Graph on 5 vertices, [0, 0, 0, 0, 0]),\n",
       "   (Graph on 5 vertices, [0, 0, 0, 0, 0]),\n",
       "   (Graph on 5 vertices, [0, 0, 0, 0, 0]),\n",
       "   (Graph on 5 vertices, [0, 0, 0, 0, 0]),\n",
       "   (Graph on 5 vertices, [0, 0, 0, 0, 0]),\n",
       "   (Graph on 5 vertices, [0, 0, 0, 0, 0]),\n",
       "   (Graph on 5 vertices, [0, 0, 0, 0, 0]),\n",
       "   (Graph on 5 vertices, [0, 0, 0, 0, 0]),\n",
       "   (Graph on 5 vertices, [0, 0, 0, 0, 0]),\n",
       "   (Graph on 5 vertices, [0, 0, 0, 0, 0]),\n",
       "   (Graph on 5 vertices, [0, 0, 0, 0, 0]),\n",
       "   (Graph on 5 vertices, [0, 0, 0, 0, 0]),\n",
       "   (Graph on 5 vertices, [0, 0, 0, 0, 0]),\n",
       "   (Graph on 5 vertices, [0, 0, 0, 0, 0]),\n",
       "   (Graph on 5 vertices, [0, 0, 0, 0, 0]),\n",
       "   (Graph on 5 vertices, [0, 0, 0, 0, 0]),\n",
       "   (Graph on 5 vertices, [0, 0, 0, 0, 0]),\n",
       "   (Graph on 5 vertices, [0, 0, 0, 0, 0]),\n",
       "   (Graph on 5 vertices, [0, 0, 0, 0, 0]),\n",
       "   (Graph on 5 vertices, [0, 0, 0, 0, 0]),\n",
       "   (Graph on 5 vertices, [0, 0, 0, 0, 0]),\n",
       "   (Graph on 5 vertices, [0, 0, 0, 0, 0]),\n",
       "   (Graph on 5 vertices, [0, 0, 0, 0, 0]),\n",
       "   (Graph on 5 vertices, [0, 0, 0, 0, 0]),\n",
       "   (Graph on 5 vertices, [0, 0, 0, 0, 0])],\n",
       "  array([[-1,  1,  1,  2,  3],\n",
       "         [-1,  1,  1,  3,  2],\n",
       "         [-1,  1,  2,  1,  3],\n",
       "         [-1,  1,  2,  2,  2],\n",
       "         [-1,  1,  2,  3,  1],\n",
       "         [-1,  1,  3,  1,  2],\n",
       "         [-1,  1,  3,  2,  1],\n",
       "         [-1,  2,  1,  1,  3],\n",
       "         [-1,  2,  1,  2,  2],\n",
       "         [-1,  2,  1,  3,  1],\n",
       "         [-1,  2,  2,  1,  2],\n",
       "         [-1,  2,  2,  2,  1],\n",
       "         [-1,  2,  3,  1,  1],\n",
       "         [-1,  3,  1,  1,  2],\n",
       "         [-1,  3,  1,  2,  1],\n",
       "         [-1,  3,  2,  1,  1],\n",
       "         [ 0,  0,  1,  2,  3],\n",
       "         [ 0,  0,  1,  3,  2],\n",
       "         [ 0,  0,  2,  1,  3],\n",
       "         [ 0,  0,  2,  2,  2],\n",
       "         [ 0,  0,  2,  3,  1],\n",
       "         [ 0,  0,  3,  1,  2],\n",
       "         [ 0,  0,  3,  2,  1],\n",
       "         [ 0,  1,  0,  2,  3],\n",
       "         [ 0,  1,  0,  3,  2],\n",
       "         [ 0,  1,  1,  1,  3],\n",
       "         [ 0,  1,  1,  2,  2],\n",
       "         [ 0,  1,  1,  3,  1],\n",
       "         [ 0,  1,  2,  0,  3],\n",
       "         [ 0,  1,  2,  1,  2],\n",
       "         [ 0,  1,  2,  2,  1],\n",
       "         [ 0,  1,  2,  3,  0],\n",
       "         [ 0,  1,  3,  0,  2],\n",
       "         [ 0,  1,  3,  1,  1],\n",
       "         [ 0,  1,  3,  2,  0],\n",
       "         [ 0,  2,  0,  1,  3],\n",
       "         [ 0,  2,  0,  2,  2],\n",
       "         [ 0,  2,  0,  3,  1],\n",
       "         [ 0,  2,  1,  0,  3],\n",
       "         [ 0,  2,  1,  1,  2],\n",
       "         [ 0,  2,  1,  2,  1],\n",
       "         [ 0,  2,  1,  3,  0],\n",
       "         [ 0,  2,  2,  0,  2],\n",
       "         [ 0,  2,  2,  1,  1],\n",
       "         [ 0,  2,  2,  2,  0],\n",
       "         [ 0,  2,  3,  0,  1],\n",
       "         [ 0,  2,  3,  1,  0],\n",
       "         [ 0,  3,  0,  1,  2],\n",
       "         [ 0,  3,  0,  2,  1],\n",
       "         [ 0,  3,  1,  0,  2],\n",
       "         [ 0,  3,  1,  1,  1],\n",
       "         [ 0,  3,  1,  2,  0],\n",
       "         [ 0,  3,  2,  0,  1],\n",
       "         [ 0,  3,  2,  1,  0],\n",
       "         [ 1,  0,  0,  2,  3],\n",
       "         [ 1,  0,  0,  3,  2],\n",
       "         [ 1,  0,  1,  1,  3],\n",
       "         [ 1,  0,  1,  2,  2],\n",
       "         [ 1,  0,  1,  3,  1],\n",
       "         [ 1,  0,  2,  0,  3],\n",
       "         [ 1,  0,  2,  1,  2],\n",
       "         [ 1,  0,  2,  2,  1],\n",
       "         [ 1,  0,  2,  3,  0],\n",
       "         [ 1,  0,  3,  0,  2],\n",
       "         [ 1,  0,  3,  1,  1],\n",
       "         [ 1,  0,  3,  2,  0],\n",
       "         [ 1,  1,  0,  1,  3],\n",
       "         [ 1,  1,  0,  2,  2],\n",
       "         [ 1,  1,  0,  3,  1],\n",
       "         [ 1,  1,  1,  0,  3],\n",
       "         [ 1,  1,  1,  1,  2],\n",
       "         [ 1,  1,  1,  2,  1],\n",
       "         [ 1,  1,  1,  3,  0],\n",
       "         [ 1,  1,  2,  0,  2],\n",
       "         [ 1,  1,  2,  1,  1],\n",
       "         [ 1,  1,  2,  2,  0],\n",
       "         [ 1,  1,  3,  0,  1],\n",
       "         [ 1,  1,  3,  1,  0],\n",
       "         [ 1,  2,  0,  0,  3],\n",
       "         [ 1,  2,  0,  1,  2],\n",
       "         [ 1,  2,  0,  2,  1],\n",
       "         [ 1,  2,  0,  3,  0],\n",
       "         [ 1,  2,  1,  0,  2],\n",
       "         [ 1,  2,  1,  1,  1],\n",
       "         [ 1,  2,  1,  2,  0],\n",
       "         [ 1,  2,  2,  0,  1],\n",
       "         [ 1,  2,  2,  1,  0],\n",
       "         [ 1,  2,  3,  0,  0],\n",
       "         [ 1,  3,  0,  0,  2],\n",
       "         [ 1,  3,  0,  1,  1],\n",
       "         [ 1,  3,  0,  2,  0],\n",
       "         [ 1,  3,  1,  0,  1],\n",
       "         [ 1,  3,  1,  1,  0],\n",
       "         [ 1,  3,  2,  0,  0],\n",
       "         [ 2,  0,  0,  1,  3],\n",
       "         [ 2,  0,  0,  2,  2],\n",
       "         [ 2,  0,  0,  3,  1],\n",
       "         [ 2,  0,  1,  0,  3],\n",
       "         [ 2,  0,  1,  1,  2],\n",
       "         [ 2,  0,  1,  2,  1],\n",
       "         [ 2,  0,  1,  3,  0],\n",
       "         [ 2,  0,  2,  0,  2],\n",
       "         [ 2,  0,  2,  1,  1],\n",
       "         [ 2,  0,  2,  2,  0],\n",
       "         [ 2,  0,  3,  0,  1],\n",
       "         [ 2,  0,  3,  1,  0],\n",
       "         [ 2,  1,  0,  0,  3],\n",
       "         [ 2,  1,  0,  1,  2],\n",
       "         [ 2,  1,  0,  2,  1],\n",
       "         [ 2,  1,  0,  3,  0],\n",
       "         [ 2,  1,  1,  0,  2],\n",
       "         [ 2,  1,  1,  1,  1],\n",
       "         [ 2,  1,  1,  2,  0],\n",
       "         [ 2,  1,  2,  0,  1],\n",
       "         [ 2,  1,  2,  1,  0],\n",
       "         [ 2,  1,  3,  0,  0],\n",
       "         [ 2,  2,  0,  0,  2],\n",
       "         [ 2,  2,  0,  1,  1],\n",
       "         [ 2,  2,  0,  2,  0],\n",
       "         [ 2,  2,  1,  0,  1],\n",
       "         [ 2,  2,  1,  1,  0],\n",
       "         [ 2,  2,  2,  0,  0],\n",
       "         [ 2,  3,  0,  0,  1],\n",
       "         [ 2,  3,  0,  1,  0],\n",
       "         [ 2,  3,  1,  0,  0]], dtype=int32))]"
      ]
     },
     "execution_count": 222,
     "metadata": {},
     "output_type": "execute_result"
    }
   ],
   "source": [
    "G = graphs.CompleteGraph(5)\n",
    "n=len(G.vertices())\n",
    "G.relabel({int(i):str(i) for i in range(n)})\n",
    "G.show()\n",
    "\n",
    "#Inital new stabiltiy condition\n",
    "\n",
    "vrt,cf=vrt_cf(G,0,0)\n",
    "\n",
    "stab_con_l=graph_basecase_new_stab_cons(G,vrt,cf)\n",
    "stab_con_l"
   ]
  },
  {
   "cell_type": "code",
   "execution_count": 19,
   "metadata": {},
   "outputs": [
    {
     "data": {
      "image/png": "[encoded data removed]",
      "text/plain": [
       "Graphics object consisting of 16 graphics primitives"
      ]
     },
     "metadata": {},
     "output_type": "display_data"
    }
   ],
   "source": [
    "#from new stabiltiy condition from break case  to new_\n",
    "vrt,cf=vrt_cf(G,3,3)\n",
    "\n",
    "nstab_con_l=reapply(G,stab_con_l,vrt,cf,pos=0)\n",
    "nstab_con_l"
   ]
  },
  {
   "cell_type": "markdown",
   "metadata": {
    "tags": []
   },
   "source": [
    "### Buliding complicated graphs"
   ]
  },
  {
   "cell_type": "code",
   "execution_count": 6,
   "metadata": {},
   "outputs": [],
   "source": [
    "# I=Graph({0:[1,2,3], 4:[0,2], 6:[1,2,3,4,5]})\n",
    "# H = graphs.CycleGraph(5)\n",
    "\n",
    "# G= I.union(H)\n",
    "# plot(G)"
   ]
  },
  {
   "cell_type": "markdown",
   "metadata": {},
   "source": [
    "## Other graphs"
   ]
  },
  {
   "cell_type": "markdown",
   "metadata": {},
   "source": [
    "https://doc.sagemath.org/html/en/reference/graphs/sage/graphs/generators/smallgraphs.html#sage.graphs.generators.smallgraphs.WagnerGraph"
   ]
  },
  {
   "cell_type": "markdown",
   "metadata": {},
   "source": [
    "### Test example "
   ]
  },
  {
   "cell_type": "code",
   "execution_count": 56,
   "metadata": {},
   "outputs": [],
   "source": [
    "# g=Graph([(\"0\",\"1\"),(\"1\",\"2\"),(\"2\",\"3\"),(\"0\",\"2\"),(\"1\",\"3\")], multiedges=True)\n",
    "\n",
    "# # #Inital new stabiltiy condition\n",
    "# # vrt,cf=vrt_cf(G,0,0)\n",
    "# # stab_con_l=graph_basecase_new_stab_cons(G,vrt,cf)\n",
    "# # stab_con_l\n",
    "\n",
    "# test_g(g,flag=True)"
   ]
  },
  {
   "cell_type": "markdown",
   "metadata": {},
   "source": [
    "### Wheel graph family"
   ]
  },
  {
   "cell_type": "code",
   "execution_count": 12,
   "metadata": {},
   "outputs": [
    {
     "data": {
      "image/png": "[encoded data removed]",
      "text/plain": [
       "Graphics object consisting of 11 graphics primitives"
      ]
     },
     "metadata": {},
     "output_type": "display_data"
    }
   ],
   "source": [
    "graphname=\"Wheel_4\"\n",
    "g=graphs.WheelGraph(4) #g = graphs.TetrahedralGraph()\n",
    "g.relabel({int(i):str(i) for i in range(g.order())})\n",
    "g.show()"
   ]
  },
  {
   "cell_type": "code",
   "execution_count": 58,
   "metadata": {},
   "outputs": [],
   "source": [
    "# g.edges(labels=False)\n",
    "# graphname=\"Wheel_4\"\n",
    "# # g=Graph([('0', '1'), ('0', '2'), ('0', '3'), ('1', '2'), ('1', '3'), ('2', '3')], multiedges=True)"
   ]
  },
  {
   "cell_type": "code",
   "execution_count": 13,
   "metadata": {},
   "outputs": [
    {
     "name": "stdout",
     "output_type": "stream",
     "text": [
      "Elapsed time: mult_initializer : 0.15850138664245605 seconds\n",
      "Number of vertices 4\n",
      "The value (2, [[2, 0, 0, 1], [2, 0, 1, 0], [2, 1, 0, 0]]) outputs to stability condition \n",
      "\n",
      "Elapsed time: 0.15108847618103027 seconds\n",
      "Number of vertices 4\n",
      "The value (2, [[0, 2, 0, 1], [0, 2, 1, 0], [1, 2, 0, 0]]) outputs to stability condition \n",
      "\n",
      "Elapsed time: 0.07062482833862305 seconds\n",
      "Number of vertices 4\n",
      "The value (2, [[0, 0, 2, 1], [0, 1, 2, 0], [1, 0, 2, 0]]) outputs to stability condition \n",
      "\n",
      "Elapsed time: 0.08141446113586426 seconds\n",
      "Number of vertices 4\n",
      "The value (2, [[0, 0, 1, 2], [0, 1, 0, 2], [1, 0, 0, 2]]) outputs to stability condition \n",
      "\n",
      "Elapsed time: 0.07018232345581055 seconds\n"
     ]
    }
   ],
   "source": [
    "con_stab_l=run_all_verts(g)"
   ]
  },
  {
   "cell_type": "code",
   "execution_count": 76,
   "metadata": {},
   "outputs": [],
   "source": [
    "# save_data(graphname,con_stab_l)"
   ]
  },
  {
   "cell_type": "code",
   "execution_count": 60,
   "metadata": {},
   "outputs": [
    {
     "data": {
      "image/png": "[encoded data removed]",
      "text/plain": [
       "Graphics object consisting of 14 graphics primitives"
      ]
     },
     "metadata": {},
     "output_type": "display_data"
    }
   ],
   "source": [
    "graphname=\"Wheel_5\"\n",
    "g=graphs.WheelGraph(5)\n",
    "g.relabel({int(i):str(i) for i in range(g.order())})\n",
    "g.show()"
   ]
  },
  {
   "cell_type": "code",
   "execution_count": 61,
   "metadata": {},
   "outputs": [
    {
     "data": {
      "text/plain": [
       "[('0', '1'), ('0', '2'), ('0', '3'), ('0', '4'), ('1', '2'), ('1', '4'), ('2', '3'), ('3', '4')]"
      ]
     },
     "execution_count": 61,
     "metadata": {},
     "output_type": "execute_result"
    }
   ],
   "source": [
    "# graphname=\"Wheel_5\"\n",
    "# # g=Graph([('0', '1'), ('0', '2'), ('0', '3'), ('0', '4'), ('1', '2'), ('1', '4'), ('2', '3'), ('3', '4')], multiedges=True)\n",
    "# g.edges(labels=False)"
   ]
  },
  {
   "cell_type": "code",
   "execution_count": 35,
   "metadata": {},
   "outputs": [],
   "source": [
    "# con_stab_l=run_all_verts(g)"
   ]
  },
  {
   "cell_type": "code",
   "execution_count": 73,
   "metadata": {},
   "outputs": [],
   "source": [
    "# save_data(graphname,con_stab_l)"
   ]
  },
  {
   "cell_type": "code",
   "execution_count": 62,
   "metadata": {},
   "outputs": [
    {
     "data": {
      "image/png": "[encoded data removed]",
      "text/plain": [
       "Graphics object consisting of 17 graphics primitives"
      ]
     },
     "metadata": {},
     "output_type": "display_data"
    }
   ],
   "source": [
    "graphname=\"Wheel_6\"\n",
    "g=graphs.WheelGraph(6)\n",
    "g.relabel({int(i):str(i) for i in range(g.order())})\n",
    "g.show()"
   ]
  },
  {
   "cell_type": "code",
   "execution_count": 64,
   "metadata": {},
   "outputs": [
    {
     "data": {
      "text/plain": [
       "[('0', '1'), ('0', '2'), ('0', '3'), ('0', '4'), ('0', '5'), ('1', '2'), ('1', '5'), ('2', '3'), ('3', '4'), ('4', '5')]"
      ]
     },
     "execution_count": 64,
     "metadata": {},
     "output_type": "execute_result"
    }
   ],
   "source": [
    "# graphname=\"Wheel_6\"\n",
    "# # g=Graph([('0', '1'), ('0', '2'), ('0', '3'), ('0', '4'), ('0', '5'), ('1', '2'), ('1', '5'), ('2', '3'), ('3', '4'), ('4', '5')], multiedges=True)\n",
    "# g.edges(labels=False)"
   ]
  },
  {
   "cell_type": "code",
   "execution_count": 36,
   "metadata": {},
   "outputs": [],
   "source": [
    "# con_stab_l=run_all_verts(g)"
   ]
  },
  {
   "cell_type": "code",
   "execution_count": 79,
   "metadata": {},
   "outputs": [],
   "source": [
    "# save_data(graphname,con_stab_l)"
   ]
  },
  {
   "cell_type": "code",
   "execution_count": 27,
   "metadata": {},
   "outputs": [
    {
     "data": {
      "image/png": "[encoded data removed]",
      "text/plain": [
       "Graphics object consisting of 20 graphics primitives"
      ]
     },
     "metadata": {},
     "output_type": "display_data"
    }
   ],
   "source": [
    "graphname=\"Wheel_7\"\n",
    "g=graphs.WheelGraph(7)\n",
    "g.relabel({int(i):str(i) for i in range(g.order())})\n",
    "g.show()"
   ]
  },
  {
   "cell_type": "code",
   "execution_count": 65,
   "metadata": {},
   "outputs": [
    {
     "data": {
      "text/plain": [
       "[('0', '1'), ('0', '2'), ('0', '3'), ('0', '4'), ('0', '5'), ('1', '2'), ('1', '5'), ('2', '3'), ('3', '4'), ('4', '5')]"
      ]
     },
     "execution_count": 65,
     "metadata": {},
     "output_type": "execute_result"
    }
   ],
   "source": [
    "# graphname=\"Wheel_7\"\n",
    "# g=Graph([('0', '1'), ('0', '2'), ('0', '3'), ('0', '4'), ('0', '5'), ('1', '2'), ('1', '5'), ('2', '3'), ('3', '4'), ('4', '5')], multiedges=True)\n",
    "\n",
    "# g.edges(labels=False)"
   ]
  },
  {
   "cell_type": "code",
   "execution_count": 37,
   "metadata": {},
   "outputs": [],
   "source": [
    "# con_stab_l=run_all_verts(g)"
   ]
  },
  {
   "cell_type": "code",
   "execution_count": null,
   "metadata": {},
   "outputs": [],
   "source": [
    "# save_data(graphname,con_stab_l)"
   ]
  },
  {
   "cell_type": "markdown",
   "metadata": {},
   "source": [
    "### CompleteBipartiteGraph family"
   ]
  },
  {
   "cell_type": "code",
   "execution_count": 66,
   "metadata": {},
   "outputs": [
    {
     "data": {
      "image/png": "[encoded data removed]",
      "text/plain": [
       "Graphics object consisting of 15 graphics primitives"
      ]
     },
     "metadata": {},
     "output_type": "display_data"
    }
   ],
   "source": [
    "graphname=\"K24\"\n",
    "g=graphs.CompleteBipartiteGraph(2,4)\n",
    "g.relabel({int(i):str(i) for i in range(g.order())})\n",
    "g.show()"
   ]
  },
  {
   "cell_type": "code",
   "execution_count": 67,
   "metadata": {},
   "outputs": [
    {
     "data": {
      "text/plain": [
       "[('0', '2'), ('0', '3'), ('0', '4'), ('0', '5'), ('1', '2'), ('1', '3'), ('1', '4'), ('1', '5')]"
      ]
     },
     "execution_count": 67,
     "metadata": {},
     "output_type": "execute_result"
    }
   ],
   "source": [
    "# graphname=\"K24\"\n",
    "# # g=Graph([('0', '2'), ('0', '3'), ('0', '4'), ('0', '5'), ('1', '2'), ('1', '3'), ('1', '4'), ('1', '5')], multiedges=True)\n",
    "\n",
    "# g.edges(labels=False)"
   ]
  },
  {
   "cell_type": "code",
   "execution_count": 41,
   "metadata": {},
   "outputs": [],
   "source": [
    "# con_stab_l=run_all_verts(g)"
   ]
  },
  {
   "cell_type": "code",
   "execution_count": 42,
   "metadata": {},
   "outputs": [],
   "source": [
    "# save_data(graphname,con_stab_l)"
   ]
  },
  {
   "cell_type": "code",
   "execution_count": 68,
   "metadata": {},
   "outputs": [
    {
     "data": {
      "image/png": "[encoded data removed]",
      "text/plain": [
       "Graphics object consisting of 18 graphics primitives"
      ]
     },
     "metadata": {},
     "output_type": "display_data"
    }
   ],
   "source": [
    "graphname=\"K25\"\n",
    "g=graphs.CompleteBipartiteGraph(2,5)\n",
    "g.relabel({int(i):str(i) for i in range(g.order())})\n",
    "g.show()"
   ]
  },
  {
   "cell_type": "code",
   "execution_count": 69,
   "metadata": {},
   "outputs": [
    {
     "data": {
      "text/plain": [
       "[('0', '2'), ('0', '3'), ('0', '4'), ('0', '5'), ('0', '6'), ('1', '2'), ('1', '3'), ('1', '4'), ('1', '5'), ('1', '6')]"
      ]
     },
     "execution_count": 69,
     "metadata": {},
     "output_type": "execute_result"
    }
   ],
   "source": [
    "# graphname=\"K25\"\n",
    "# g=Graph([('0', '2'), ('0', '3'), ('0', '4'), ('0', '5'), ('0', '6'), ('1', '2'), ('1', '3'), ('1', '4'), ('1', '5'), ('1', '6')], multiedges=True)\n",
    "# g.edges(labels=False)"
   ]
  },
  {
   "cell_type": "code",
   "execution_count": 46,
   "metadata": {},
   "outputs": [],
   "source": [
    "# con_stab_l=run_all_verts(g)"
   ]
  },
  {
   "cell_type": "code",
   "execution_count": 47,
   "metadata": {},
   "outputs": [],
   "source": [
    "# save_data(graphname,con_stab_l)"
   ]
  },
  {
   "cell_type": "code",
   "execution_count": 70,
   "metadata": {},
   "outputs": [
    {
     "data": {
      "image/png": "[encoded data removed]",
      "text/plain": [
       "Graphics object consisting of 16 graphics primitives"
      ]
     },
     "metadata": {},
     "output_type": "display_data"
    }
   ],
   "source": [
    "graphname=\"K33\"\n",
    "g=graphs.CompleteBipartiteGraph(3,3)\n",
    "g.relabel({int(i):str(i) for i in range(g.order())})\n",
    "g.show()"
   ]
  },
  {
   "cell_type": "code",
   "execution_count": 14,
   "metadata": {},
   "outputs": [],
   "source": [
    "# graphname=\"K33\"\n",
    "# g=Graph([('0', '3'), ('0', '4'), ('0', '5'), ('1', '3'), ('1', '4'), ('1', '5'), ('2', '3'), ('2', '4'), ('2', '5')], multiedges=True)\n",
    "# g.edges(labels=False)"
   ]
  },
  {
   "cell_type": "code",
   "execution_count": 49,
   "metadata": {
    "collapsed": true,
    "jupyter": {
     "outputs_hidden": true
    }
   },
   "outputs": [
    {
     "name": "stdout",
     "output_type": "stream",
     "text": [
      "Elapsed time: mult_initializer : 2.890507221221924 seconds\n",
      "Number of vertices 6\n",
      "The value (2, [[2, 0, 0, 0, 1, 1], [2, 0, 0, 1, 0, 1], [2, 0, 0, 1, 1, 0], [2, 0, 1, 0, 0, 1], [2, 0, 1, 0, 1, 0], [2, 0, 1, 1, 0, 0], [2, 0, 2, 0, 0, 0], [2, 1, 0, 0, 0, 1], [2, 1, 0, 0, 1, 0], [2, 1, 0, 1, 0, 0], [2, 1, 1, 0, 0, 0], [2, 2, 0, 0, 0, 0]]) outputs to stability condition \n",
      "\n",
      "Elapsed time: 0.33254098892211914 seconds\n",
      "Number of vertices 6\n",
      "The value (2, [[0, 2, 0, 0, 1, 1], [0, 2, 0, 1, 0, 1], [0, 2, 0, 1, 1, 0], [0, 2, 1, 0, 0, 1], [0, 2, 1, 0, 1, 0], [0, 2, 1, 1, 0, 0], [0, 2, 2, 0, 0, 0], [1, 2, 0, 0, 0, 1], [1, 2, 0, 0, 1, 0], [1, 2, 0, 1, 0, 0], [1, 2, 1, 0, 0, 0], [2, 2, 0, 0, 0, 0]]) outputs to stability condition \n",
      "\n",
      "Elapsed time: 0.33324575424194336 seconds\n",
      "Number of vertices 6\n",
      "The value (2, [[0, 0, 2, 0, 1, 1], [0, 0, 2, 1, 0, 1], [0, 0, 2, 1, 1, 0], [0, 1, 2, 0, 0, 1], [0, 1, 2, 0, 1, 0], [0, 1, 2, 1, 0, 0], [0, 2, 2, 0, 0, 0], [1, 0, 2, 0, 0, 1], [1, 0, 2, 0, 1, 0], [1, 0, 2, 1, 0, 0], [1, 1, 2, 0, 0, 0], [2, 0, 2, 0, 0, 0]]) outputs to stability condition \n",
      "\n",
      "Elapsed time: 0.3494086265563965 seconds\n",
      "Number of vertices 6\n",
      "The value (2, [[0, 0, 0, 2, 0, 2], [0, 0, 0, 2, 1, 1], [0, 0, 0, 2, 2, 0], [0, 0, 1, 2, 0, 1], [0, 0, 1, 2, 1, 0], [0, 1, 0, 2, 0, 1], [0, 1, 0, 2, 1, 0], [0, 1, 1, 2, 0, 0], [1, 0, 0, 2, 0, 1], [1, 0, 0, 2, 1, 0], [1, 0, 1, 2, 0, 0], [1, 1, 0, 2, 0, 0]]) outputs to stability condition \n",
      "\n",
      "Elapsed time: 0.336122989654541 seconds\n",
      "Number of vertices 6\n",
      "The value (2, [[0, 0, 0, 0, 2, 2], [0, 0, 0, 1, 2, 1], [0, 0, 0, 2, 2, 0], [0, 0, 1, 0, 2, 1], [0, 0, 1, 1, 2, 0], [0, 1, 0, 0, 2, 1], [0, 1, 0, 1, 2, 0], [0, 1, 1, 0, 2, 0], [1, 0, 0, 0, 2, 1], [1, 0, 0, 1, 2, 0], [1, 0, 1, 0, 2, 0], [1, 1, 0, 0, 2, 0]]) outputs to stability condition \n",
      "\n",
      "Elapsed time: 0.3321495056152344 seconds\n",
      "Number of vertices 6\n",
      "The value (2, [[0, 0, 0, 0, 2, 2], [0, 0, 0, 1, 1, 2], [0, 0, 0, 2, 0, 2], [0, 0, 1, 0, 1, 2], [0, 0, 1, 1, 0, 2], [0, 1, 0, 0, 1, 2], [0, 1, 0, 1, 0, 2], [0, 1, 1, 0, 0, 2], [1, 0, 0, 0, 1, 2], [1, 0, 0, 1, 0, 2], [1, 0, 1, 0, 0, 2], [1, 1, 0, 0, 0, 2]]) outputs to stability condition \n",
      "\n",
      "Elapsed time: 0.37187695503234863 seconds\n"
     ]
    }
   ],
   "source": [
    "# con_stab_l=run_all_verts(g)\n",
    "#Elapsed time: mult_initializer : 2.890507221221924 seconds"
   ]
  },
  {
   "cell_type": "code",
   "execution_count": 50,
   "metadata": {},
   "outputs": [],
   "source": [
    "save_data(graphname,con_stab_l)"
   ]
  },
  {
   "cell_type": "code",
   "execution_count": 73,
   "metadata": {},
   "outputs": [
    {
     "data": {
      "image/png": "[encoded data removed]",
      "text/plain": [
       "Graphics object consisting of 20 graphics primitives"
      ]
     },
     "metadata": {},
     "output_type": "display_data"
    }
   ],
   "source": [
    "graphname=\"K34\"\n",
    "g=graphs.CompleteBipartiteGraph(3,4)\n",
    "g.relabel({int(i):str(i) for i in range(g.order())})\n",
    "g.show()"
   ]
  },
  {
   "cell_type": "code",
   "execution_count": 74,
   "metadata": {},
   "outputs": [
    {
     "data": {
      "text/plain": [
       "[('0', '3'), ('0', '4'), ('0', '5'), ('0', '6'), ('1', '3'), ('1', '4'), ('1', '5'), ('1', '6'), ('2', '3'), ('2', '4'), ('2', '5'), ('2', '6')]"
      ]
     },
     "execution_count": 74,
     "metadata": {},
     "output_type": "execute_result"
    }
   ],
   "source": [
    "# graphname=\"K34\"\n",
    "# g=Graph([('0', '3'), ('0', '4'), ('0', '5'), ('0', '6'), ('1', '3'), ('1', '4'), ('1', '5'), ('1', '6'), ('2', '3'), ('2', '4'), ('2', '5'), ('2', '6')], multiedges=True)\n",
    "# g.edges(labels=False)"
   ]
  },
  {
   "cell_type": "code",
   "execution_count": 52,
   "metadata": {
    "collapsed": true,
    "jupyter": {
     "outputs_hidden": true
    }
   },
   "outputs": [
    {
     "name": "stdout",
     "output_type": "stream",
     "text": [
      "Elapsed time: mult_initializer : 224.2403016090393 seconds\n",
      "Number of vertices 7\n",
      "The value (3, [[3, 0, 0, 0, 1, 1, 1], [3, 0, 0, 1, 0, 1, 1], [3, 0, 0, 1, 1, 0, 1], [3, 0, 0, 1, 1, 1, 0], [3, 0, 1, 0, 0, 1, 1], [3, 0, 1, 0, 1, 0, 1], [3, 0, 1, 0, 1, 1, 0], [3, 0, 1, 1, 0, 0, 1], [3, 0, 1, 1, 0, 1, 0], [3, 0, 1, 1, 1, 0, 0], [3, 0, 2, 0, 0, 0, 1], [3, 0, 2, 0, 0, 1, 0], [3, 0, 2, 0, 1, 0, 0], [3, 0, 2, 1, 0, 0, 0], [3, 0, 3, 0, 0, 0, 0], [3, 1, 0, 0, 0, 1, 1], [3, 1, 0, 0, 1, 0, 1], [3, 1, 0, 0, 1, 1, 0], [3, 1, 0, 1, 0, 0, 1], [3, 1, 0, 1, 0, 1, 0], [3, 1, 0, 1, 1, 0, 0], [3, 1, 1, 0, 0, 0, 1], [3, 1, 1, 0, 0, 1, 0], [3, 1, 1, 0, 1, 0, 0], [3, 1, 1, 1, 0, 0, 0], [3, 1, 2, 0, 0, 0, 0], [3, 2, 0, 0, 0, 0, 1], [3, 2, 0, 0, 0, 1, 0], [3, 2, 0, 0, 1, 0, 0], [3, 2, 0, 1, 0, 0, 0], [3, 2, 1, 0, 0, 0, 0], [3, 3, 0, 0, 0, 0, 0]]) outputs to stability condition \n",
      "\n",
      "Elapsed time: 6.708120107650757 seconds\n",
      "Number of vertices 7\n",
      "The value (3, [[0, 3, 0, 0, 1, 1, 1], [0, 3, 0, 1, 0, 1, 1], [0, 3, 0, 1, 1, 0, 1], [0, 3, 0, 1, 1, 1, 0], [0, 3, 1, 0, 0, 1, 1], [0, 3, 1, 0, 1, 0, 1], [0, 3, 1, 0, 1, 1, 0], [0, 3, 1, 1, 0, 0, 1], [0, 3, 1, 1, 0, 1, 0], [0, 3, 1, 1, 1, 0, 0], [0, 3, 2, 0, 0, 0, 1], [0, 3, 2, 0, 0, 1, 0], [0, 3, 2, 0, 1, 0, 0], [0, 3, 2, 1, 0, 0, 0], [0, 3, 3, 0, 0, 0, 0], [1, 3, 0, 0, 0, 1, 1], [1, 3, 0, 0, 1, 0, 1], [1, 3, 0, 0, 1, 1, 0], [1, 3, 0, 1, 0, 0, 1], [1, 3, 0, 1, 0, 1, 0], [1, 3, 0, 1, 1, 0, 0], [1, 3, 1, 0, 0, 0, 1], [1, 3, 1, 0, 0, 1, 0], [1, 3, 1, 0, 1, 0, 0], [1, 3, 1, 1, 0, 0, 0], [1, 3, 2, 0, 0, 0, 0], [2, 3, 0, 0, 0, 0, 1], [2, 3, 0, 0, 0, 1, 0], [2, 3, 0, 0, 1, 0, 0], [2, 3, 0, 1, 0, 0, 0], [2, 3, 1, 0, 0, 0, 0], [3, 3, 0, 0, 0, 0, 0]]) outputs to stability condition \n",
      "\n",
      "Elapsed time: 6.624319314956665 seconds\n",
      "Number of vertices 7\n",
      "The value (3, [[0, 0, 3, 0, 1, 1, 1], [0, 0, 3, 1, 0, 1, 1], [0, 0, 3, 1, 1, 0, 1], [0, 0, 3, 1, 1, 1, 0], [0, 1, 3, 0, 0, 1, 1], [0, 1, 3, 0, 1, 0, 1], [0, 1, 3, 0, 1, 1, 0], [0, 1, 3, 1, 0, 0, 1], [0, 1, 3, 1, 0, 1, 0], [0, 1, 3, 1, 1, 0, 0], [0, 2, 3, 0, 0, 0, 1], [0, 2, 3, 0, 0, 1, 0], [0, 2, 3, 0, 1, 0, 0], [0, 2, 3, 1, 0, 0, 0], [0, 3, 3, 0, 0, 0, 0], [1, 0, 3, 0, 0, 1, 1], [1, 0, 3, 0, 1, 0, 1], [1, 0, 3, 0, 1, 1, 0], [1, 0, 3, 1, 0, 0, 1], [1, 0, 3, 1, 0, 1, 0], [1, 0, 3, 1, 1, 0, 0], [1, 1, 3, 0, 0, 0, 1], [1, 1, 3, 0, 0, 1, 0], [1, 1, 3, 0, 1, 0, 0], [1, 1, 3, 1, 0, 0, 0], [1, 2, 3, 0, 0, 0, 0], [2, 0, 3, 0, 0, 0, 1], [2, 0, 3, 0, 0, 1, 0], [2, 0, 3, 0, 1, 0, 0], [2, 0, 3, 1, 0, 0, 0], [2, 1, 3, 0, 0, 0, 0], [3, 0, 3, 0, 0, 0, 0]]) outputs to stability condition \n",
      "\n",
      "Elapsed time: 6.7055299282073975 seconds\n",
      "Number of vertices 7\n",
      "The value (2, [[0, 0, 0, 2, 0, 2, 2], [0, 0, 0, 2, 1, 1, 2], [0, 0, 0, 2, 1, 2, 1], [0, 0, 0, 2, 2, 0, 2], [0, 0, 0, 2, 2, 1, 1], [0, 0, 0, 2, 2, 2, 0], [0, 0, 1, 2, 0, 1, 2], [0, 0, 1, 2, 0, 2, 1], [0, 0, 1, 2, 1, 0, 2], [0, 0, 1, 2, 1, 1, 1], [0, 0, 1, 2, 1, 2, 0], [0, 0, 1, 2, 2, 0, 1], [0, 0, 1, 2, 2, 1, 0], [0, 0, 2, 2, 0, 1, 1], [0, 0, 2, 2, 1, 0, 1], [0, 0, 2, 2, 1, 1, 0], [0, 1, 0, 2, 0, 1, 2], [0, 1, 0, 2, 0, 2, 1], [0, 1, 0, 2, 1, 0, 2], [0, 1, 0, 2, 1, 1, 1], [0, 1, 0, 2, 1, 2, 0], [0, 1, 0, 2, 2, 0, 1], [0, 1, 0, 2, 2, 1, 0], [0, 1, 1, 2, 0, 0, 2], [0, 1, 1, 2, 0, 1, 1], [0, 1, 1, 2, 0, 2, 0], [0, 1, 1, 2, 1, 0, 1], [0, 1, 1, 2, 1, 1, 0], [0, 1, 1, 2, 2, 0, 0], [0, 1, 2, 2, 0, 0, 1], [0, 1, 2, 2, 0, 1, 0], [0, 1, 2, 2, 1, 0, 0], [0, 2, 0, 2, 0, 1, 1], [0, 2, 0, 2, 1, 0, 1], [0, 2, 0, 2, 1, 1, 0], [0, 2, 1, 2, 0, 0, 1], [0, 2, 1, 2, 0, 1, 0], [0, 2, 1, 2, 1, 0, 0], [0, 2, 2, 2, 0, 0, 0], [1, 0, 0, 2, 0, 1, 2], [1, 0, 0, 2, 0, 2, 1], [1, 0, 0, 2, 1, 0, 2], [1, 0, 0, 2, 1, 1, 1], [1, 0, 0, 2, 1, 2, 0], [1, 0, 0, 2, 2, 0, 1], [1, 0, 0, 2, 2, 1, 0], [1, 0, 1, 2, 0, 0, 2], [1, 0, 1, 2, 0, 1, 1], [1, 0, 1, 2, 0, 2, 0], [1, 0, 1, 2, 1, 0, 1], [1, 0, 1, 2, 1, 1, 0], [1, 0, 1, 2, 2, 0, 0], [1, 0, 2, 2, 0, 0, 1], [1, 0, 2, 2, 0, 1, 0], [1, 0, 2, 2, 1, 0, 0], [1, 1, 0, 2, 0, 0, 2], [1, 1, 0, 2, 0, 1, 1], [1, 1, 0, 2, 0, 2, 0], [1, 1, 0, 2, 1, 0, 1], [1, 1, 0, 2, 1, 1, 0], [1, 1, 0, 2, 2, 0, 0], [1, 1, 1, 2, 0, 0, 1], [1, 1, 1, 2, 0, 1, 0], [1, 1, 1, 2, 1, 0, 0], [1, 1, 2, 2, 0, 0, 0], [1, 2, 0, 2, 0, 0, 1], [1, 2, 0, 2, 0, 1, 0], [1, 2, 0, 2, 1, 0, 0], [1, 2, 1, 2, 0, 0, 0], [2, 0, 0, 2, 0, 1, 1], [2, 0, 0, 2, 1, 0, 1], [2, 0, 0, 2, 1, 1, 0], [2, 0, 1, 2, 0, 0, 1], [2, 0, 1, 2, 0, 1, 0], [2, 0, 1, 2, 1, 0, 0], [2, 0, 2, 2, 0, 0, 0], [2, 1, 0, 2, 0, 0, 1], [2, 1, 0, 2, 0, 1, 0], [2, 1, 0, 2, 1, 0, 0], [2, 1, 1, 2, 0, 0, 0], [2, 2, 0, 2, 0, 0, 0]]) outputs to stability condition \n",
      "\n",
      "Elapsed time: 5.1837122440338135 seconds\n",
      "Number of vertices 7\n",
      "The value (2, [[0, 0, 0, 0, 2, 2, 2], [0, 0, 0, 1, 2, 1, 2], [0, 0, 0, 1, 2, 2, 1], [0, 0, 0, 2, 2, 0, 2], [0, 0, 0, 2, 2, 1, 1], [0, 0, 0, 2, 2, 2, 0], [0, 0, 1, 0, 2, 1, 2], [0, 0, 1, 0, 2, 2, 1], [0, 0, 1, 1, 2, 0, 2], [0, 0, 1, 1, 2, 1, 1], [0, 0, 1, 1, 2, 2, 0], [0, 0, 1, 2, 2, 0, 1], [0, 0, 1, 2, 2, 1, 0], [0, 0, 2, 0, 2, 1, 1], [0, 0, 2, 1, 2, 0, 1], [0, 0, 2, 1, 2, 1, 0], [0, 1, 0, 0, 2, 1, 2], [0, 1, 0, 0, 2, 2, 1], [0, 1, 0, 1, 2, 0, 2], [0, 1, 0, 1, 2, 1, 1], [0, 1, 0, 1, 2, 2, 0], [0, 1, 0, 2, 2, 0, 1], [0, 1, 0, 2, 2, 1, 0], [0, 1, 1, 0, 2, 0, 2], [0, 1, 1, 0, 2, 1, 1], [0, 1, 1, 0, 2, 2, 0], [0, 1, 1, 1, 2, 0, 1], [0, 1, 1, 1, 2, 1, 0], [0, 1, 1, 2, 2, 0, 0], [0, 1, 2, 0, 2, 0, 1], [0, 1, 2, 0, 2, 1, 0], [0, 1, 2, 1, 2, 0, 0], [0, 2, 0, 0, 2, 1, 1], [0, 2, 0, 1, 2, 0, 1], [0, 2, 0, 1, 2, 1, 0], [0, 2, 1, 0, 2, 0, 1], [0, 2, 1, 0, 2, 1, 0], [0, 2, 1, 1, 2, 0, 0], [0, 2, 2, 0, 2, 0, 0], [1, 0, 0, 0, 2, 1, 2], [1, 0, 0, 0, 2, 2, 1], [1, 0, 0, 1, 2, 0, 2], [1, 0, 0, 1, 2, 1, 1], [1, 0, 0, 1, 2, 2, 0], [1, 0, 0, 2, 2, 0, 1], [1, 0, 0, 2, 2, 1, 0], [1, 0, 1, 0, 2, 0, 2], [1, 0, 1, 0, 2, 1, 1], [1, 0, 1, 0, 2, 2, 0], [1, 0, 1, 1, 2, 0, 1], [1, 0, 1, 1, 2, 1, 0], [1, 0, 1, 2, 2, 0, 0], [1, 0, 2, 0, 2, 0, 1], [1, 0, 2, 0, 2, 1, 0], [1, 0, 2, 1, 2, 0, 0], [1, 1, 0, 0, 2, 0, 2], [1, 1, 0, 0, 2, 1, 1], [1, 1, 0, 0, 2, 2, 0], [1, 1, 0, 1, 2, 0, 1], [1, 1, 0, 1, 2, 1, 0], [1, 1, 0, 2, 2, 0, 0], [1, 1, 1, 0, 2, 0, 1], [1, 1, 1, 0, 2, 1, 0], [1, 1, 1, 1, 2, 0, 0], [1, 1, 2, 0, 2, 0, 0], [1, 2, 0, 0, 2, 0, 1], [1, 2, 0, 0, 2, 1, 0], [1, 2, 0, 1, 2, 0, 0], [1, 2, 1, 0, 2, 0, 0], [2, 0, 0, 0, 2, 1, 1], [2, 0, 0, 1, 2, 0, 1], [2, 0, 0, 1, 2, 1, 0], [2, 0, 1, 0, 2, 0, 1], [2, 0, 1, 0, 2, 1, 0], [2, 0, 1, 1, 2, 0, 0], [2, 0, 2, 0, 2, 0, 0], [2, 1, 0, 0, 2, 0, 1], [2, 1, 0, 0, 2, 1, 0], [2, 1, 0, 1, 2, 0, 0], [2, 1, 1, 0, 2, 0, 0], [2, 2, 0, 0, 2, 0, 0]]) outputs to stability condition \n",
      "\n",
      "Elapsed time: 5.231716871261597 seconds\n",
      "Number of vertices 7\n",
      "The value (2, [[0, 0, 0, 0, 2, 2, 2], [0, 0, 0, 1, 1, 2, 2], [0, 0, 0, 1, 2, 2, 1], [0, 0, 0, 2, 0, 2, 2], [0, 0, 0, 2, 1, 2, 1], [0, 0, 0, 2, 2, 2, 0], [0, 0, 1, 0, 1, 2, 2], [0, 0, 1, 0, 2, 2, 1], [0, 0, 1, 1, 0, 2, 2], [0, 0, 1, 1, 1, 2, 1], [0, 0, 1, 1, 2, 2, 0], [0, 0, 1, 2, 0, 2, 1], [0, 0, 1, 2, 1, 2, 0], [0, 0, 2, 0, 1, 2, 1], [0, 0, 2, 1, 0, 2, 1], [0, 0, 2, 1, 1, 2, 0], [0, 1, 0, 0, 1, 2, 2], [0, 1, 0, 0, 2, 2, 1], [0, 1, 0, 1, 0, 2, 2], [0, 1, 0, 1, 1, 2, 1], [0, 1, 0, 1, 2, 2, 0], [0, 1, 0, 2, 0, 2, 1], [0, 1, 0, 2, 1, 2, 0], [0, 1, 1, 0, 0, 2, 2], [0, 1, 1, 0, 1, 2, 1], [0, 1, 1, 0, 2, 2, 0], [0, 1, 1, 1, 0, 2, 1], [0, 1, 1, 1, 1, 2, 0], [0, 1, 1, 2, 0, 2, 0], [0, 1, 2, 0, 0, 2, 1], [0, 1, 2, 0, 1, 2, 0], [0, 1, 2, 1, 0, 2, 0], [0, 2, 0, 0, 1, 2, 1], [0, 2, 0, 1, 0, 2, 1], [0, 2, 0, 1, 1, 2, 0], [0, 2, 1, 0, 0, 2, 1], [0, 2, 1, 0, 1, 2, 0], [0, 2, 1, 1, 0, 2, 0], [0, 2, 2, 0, 0, 2, 0], [1, 0, 0, 0, 1, 2, 2], [1, 0, 0, 0, 2, 2, 1], [1, 0, 0, 1, 0, 2, 2], [1, 0, 0, 1, 1, 2, 1], [1, 0, 0, 1, 2, 2, 0], [1, 0, 0, 2, 0, 2, 1], [1, 0, 0, 2, 1, 2, 0], [1, 0, 1, 0, 0, 2, 2], [1, 0, 1, 0, 1, 2, 1], [1, 0, 1, 0, 2, 2, 0], [1, 0, 1, 1, 0, 2, 1], [1, 0, 1, 1, 1, 2, 0], [1, 0, 1, 2, 0, 2, 0], [1, 0, 2, 0, 0, 2, 1], [1, 0, 2, 0, 1, 2, 0], [1, 0, 2, 1, 0, 2, 0], [1, 1, 0, 0, 0, 2, 2], [1, 1, 0, 0, 1, 2, 1], [1, 1, 0, 0, 2, 2, 0], [1, 1, 0, 1, 0, 2, 1], [1, 1, 0, 1, 1, 2, 0], [1, 1, 0, 2, 0, 2, 0], [1, 1, 1, 0, 0, 2, 1], [1, 1, 1, 0, 1, 2, 0], [1, 1, 1, 1, 0, 2, 0], [1, 1, 2, 0, 0, 2, 0], [1, 2, 0, 0, 0, 2, 1], [1, 2, 0, 0, 1, 2, 0], [1, 2, 0, 1, 0, 2, 0], [1, 2, 1, 0, 0, 2, 0], [2, 0, 0, 0, 1, 2, 1], [2, 0, 0, 1, 0, 2, 1], [2, 0, 0, 1, 1, 2, 0], [2, 0, 1, 0, 0, 2, 1], [2, 0, 1, 0, 1, 2, 0], [2, 0, 1, 1, 0, 2, 0], [2, 0, 2, 0, 0, 2, 0], [2, 1, 0, 0, 0, 2, 1], [2, 1, 0, 0, 1, 2, 0], [2, 1, 0, 1, 0, 2, 0], [2, 1, 1, 0, 0, 2, 0], [2, 2, 0, 0, 0, 2, 0]]) outputs to stability condition \n",
      "\n",
      "Elapsed time: 5.196794509887695 seconds\n",
      "Number of vertices 7\n",
      "The value (2, [[0, 0, 0, 0, 2, 2, 2], [0, 0, 0, 1, 1, 2, 2], [0, 0, 0, 1, 2, 1, 2], [0, 0, 0, 2, 0, 2, 2], [0, 0, 0, 2, 1, 1, 2], [0, 0, 0, 2, 2, 0, 2], [0, 0, 1, 0, 1, 2, 2], [0, 0, 1, 0, 2, 1, 2], [0, 0, 1, 1, 0, 2, 2], [0, 0, 1, 1, 1, 1, 2], [0, 0, 1, 1, 2, 0, 2], [0, 0, 1, 2, 0, 1, 2], [0, 0, 1, 2, 1, 0, 2], [0, 0, 2, 0, 1, 1, 2], [0, 0, 2, 1, 0, 1, 2], [0, 0, 2, 1, 1, 0, 2], [0, 1, 0, 0, 1, 2, 2], [0, 1, 0, 0, 2, 1, 2], [0, 1, 0, 1, 0, 2, 2], [0, 1, 0, 1, 1, 1, 2], [0, 1, 0, 1, 2, 0, 2], [0, 1, 0, 2, 0, 1, 2], [0, 1, 0, 2, 1, 0, 2], [0, 1, 1, 0, 0, 2, 2], [0, 1, 1, 0, 1, 1, 2], [0, 1, 1, 0, 2, 0, 2], [0, 1, 1, 1, 0, 1, 2], [0, 1, 1, 1, 1, 0, 2], [0, 1, 1, 2, 0, 0, 2], [0, 1, 2, 0, 0, 1, 2], [0, 1, 2, 0, 1, 0, 2], [0, 1, 2, 1, 0, 0, 2], [0, 2, 0, 0, 1, 1, 2], [0, 2, 0, 1, 0, 1, 2], [0, 2, 0, 1, 1, 0, 2], [0, 2, 1, 0, 0, 1, 2], [0, 2, 1, 0, 1, 0, 2], [0, 2, 1, 1, 0, 0, 2], [0, 2, 2, 0, 0, 0, 2], [1, 0, 0, 0, 1, 2, 2], [1, 0, 0, 0, 2, 1, 2], [1, 0, 0, 1, 0, 2, 2], [1, 0, 0, 1, 1, 1, 2], [1, 0, 0, 1, 2, 0, 2], [1, 0, 0, 2, 0, 1, 2], [1, 0, 0, 2, 1, 0, 2], [1, 0, 1, 0, 0, 2, 2], [1, 0, 1, 0, 1, 1, 2], [1, 0, 1, 0, 2, 0, 2], [1, 0, 1, 1, 0, 1, 2], [1, 0, 1, 1, 1, 0, 2], [1, 0, 1, 2, 0, 0, 2], [1, 0, 2, 0, 0, 1, 2], [1, 0, 2, 0, 1, 0, 2], [1, 0, 2, 1, 0, 0, 2], [1, 1, 0, 0, 0, 2, 2], [1, 1, 0, 0, 1, 1, 2], [1, 1, 0, 0, 2, 0, 2], [1, 1, 0, 1, 0, 1, 2], [1, 1, 0, 1, 1, 0, 2], [1, 1, 0, 2, 0, 0, 2], [1, 1, 1, 0, 0, 1, 2], [1, 1, 1, 0, 1, 0, 2], [1, 1, 1, 1, 0, 0, 2], [1, 1, 2, 0, 0, 0, 2], [1, 2, 0, 0, 0, 1, 2], [1, 2, 0, 0, 1, 0, 2], [1, 2, 0, 1, 0, 0, 2], [1, 2, 1, 0, 0, 0, 2], [2, 0, 0, 0, 1, 1, 2], [2, 0, 0, 1, 0, 1, 2], [2, 0, 0, 1, 1, 0, 2], [2, 0, 1, 0, 0, 1, 2], [2, 0, 1, 0, 1, 0, 2], [2, 0, 1, 1, 0, 0, 2], [2, 0, 2, 0, 0, 0, 2], [2, 1, 0, 0, 0, 1, 2], [2, 1, 0, 0, 1, 0, 2], [2, 1, 0, 1, 0, 0, 2], [2, 1, 1, 0, 0, 0, 2], [2, 2, 0, 0, 0, 0, 2]]) outputs to stability condition \n",
      "\n",
      "Elapsed time: 5.262037038803101 seconds\n"
     ]
    }
   ],
   "source": [
    "# con_stab_l=run_all_verts(g)\n",
    "#Elapsed time: mult_initializer : 224.2403016090393 seconds"
   ]
  },
  {
   "cell_type": "code",
   "execution_count": 53,
   "metadata": {},
   "outputs": [],
   "source": [
    "save_data(graphname,con_stab_l)"
   ]
  },
  {
   "cell_type": "markdown",
   "metadata": {},
   "source": [
    "### Complete graph family"
   ]
  },
  {
   "cell_type": "code",
   "execution_count": 91,
   "metadata": {},
   "outputs": [
    {
     "data": {
      "image/png": "[encoded data removed]",
      "text/plain": [
       "Graphics object consisting of 16 graphics primitives"
      ]
     },
     "metadata": {},
     "output_type": "display_data"
    }
   ],
   "source": [
    "graphname=\"K5\"\n",
    "g=graphs.CompleteGraph(5)\n",
    "g.relabel({int(i):str(i) for i in range(g.order())})\n",
    "g.show()"
   ]
  },
  {
   "cell_type": "code",
   "execution_count": 92,
   "metadata": {},
   "outputs": [],
   "source": [
    "# graphname=\"K5\"\n",
    "# g=Graph([('0', '1'), ('0', '2'), ('0', '3'), ('0', '4'), ('1', '2'), ('1', '3'), ('1', '4'), ('2', '3'), ('2', '4'), ('3', '4')], multiedges=True)\n",
    "# g.edges(labels=False)"
   ]
  },
  {
   "cell_type": "code",
   "execution_count": 93,
   "metadata": {
    "collapsed": true,
    "jupyter": {
     "outputs_hidden": true
    }
   },
   "outputs": [
    {
     "name": "stdout",
     "output_type": "stream",
     "text": [
      "Elapsed time: mult_initializer : 15.673770904541016 seconds\n",
      "Number of vertices 5\n",
      "The value (3, [[3, 0, 0, 1, 2], [3, 0, 0, 2, 1], [3, 0, 1, 0, 2], [3, 0, 1, 1, 1], [3, 0, 1, 2, 0], [3, 0, 2, 0, 1], [3, 0, 2, 1, 0], [3, 1, 0, 0, 2], [3, 1, 0, 1, 1], [3, 1, 0, 2, 0], [3, 1, 1, 0, 1], [3, 1, 1, 1, 0], [3, 1, 2, 0, 0], [3, 2, 0, 0, 1], [3, 2, 0, 1, 0], [3, 2, 1, 0, 0]]) outputs to stability condition \n",
      "\n",
      "Elapsed time: 1.0536315441131592 seconds\n",
      "Number of vertices 5\n",
      "The value (3, [[0, 3, 0, 1, 2], [0, 3, 0, 2, 1], [0, 3, 1, 0, 2], [0, 3, 1, 1, 1], [0, 3, 1, 2, 0], [0, 3, 2, 0, 1], [0, 3, 2, 1, 0], [1, 3, 0, 0, 2], [1, 3, 0, 1, 1], [1, 3, 0, 2, 0], [1, 3, 1, 0, 1], [1, 3, 1, 1, 0], [1, 3, 2, 0, 0], [2, 3, 0, 0, 1], [2, 3, 0, 1, 0], [2, 3, 1, 0, 0]]) outputs to stability condition \n",
      "\n",
      "Elapsed time: 1.0377933979034424 seconds\n",
      "Number of vertices 5\n",
      "The value (3, [[0, 0, 3, 1, 2], [0, 0, 3, 2, 1], [0, 1, 3, 0, 2], [0, 1, 3, 1, 1], [0, 1, 3, 2, 0], [0, 2, 3, 0, 1], [0, 2, 3, 1, 0], [1, 0, 3, 0, 2], [1, 0, 3, 1, 1], [1, 0, 3, 2, 0], [1, 1, 3, 0, 1], [1, 1, 3, 1, 0], [1, 2, 3, 0, 0], [2, 0, 3, 0, 1], [2, 0, 3, 1, 0], [2, 1, 3, 0, 0]]) outputs to stability condition \n",
      "\n",
      "Elapsed time: 1.0700950622558594 seconds\n",
      "Number of vertices 5\n",
      "The value (3, [[0, 0, 1, 3, 2], [0, 0, 2, 3, 1], [0, 1, 0, 3, 2], [0, 1, 1, 3, 1], [0, 1, 2, 3, 0], [0, 2, 0, 3, 1], [0, 2, 1, 3, 0], [1, 0, 0, 3, 2], [1, 0, 1, 3, 1], [1, 0, 2, 3, 0], [1, 1, 0, 3, 1], [1, 1, 1, 3, 0], [1, 2, 0, 3, 0], [2, 0, 0, 3, 1], [2, 0, 1, 3, 0], [2, 1, 0, 3, 0]]) outputs to stability condition \n",
      "\n",
      "Elapsed time: 1.2695868015289307 seconds\n",
      "Number of vertices 5\n",
      "The value (3, [[0, 0, 1, 2, 3], [0, 0, 2, 1, 3], [0, 1, 0, 2, 3], [0, 1, 1, 1, 3], [0, 1, 2, 0, 3], [0, 2, 0, 1, 3], [0, 2, 1, 0, 3], [1, 0, 0, 2, 3], [1, 0, 1, 1, 3], [1, 0, 2, 0, 3], [1, 1, 0, 1, 3], [1, 1, 1, 0, 3], [1, 2, 0, 0, 3], [2, 0, 0, 1, 3], [2, 0, 1, 0, 3], [2, 1, 0, 0, 3]]) outputs to stability condition \n",
      "\n",
      "Elapsed time: 1.0915231704711914 seconds\n"
     ]
    }
   ],
   "source": [
    "# con_stab_l=run_all_verts(g)\n",
    "#Elapsed time: mult_initializer : 15.673770904541016 seconds"
   ]
  },
  {
   "cell_type": "code",
   "execution_count": 95,
   "metadata": {},
   "outputs": [],
   "source": [
    "# save_data(graphname,con_stab_l)"
   ]
  },
  {
   "cell_type": "code",
   "execution_count": 25,
   "metadata": {},
   "outputs": [
    {
     "data": {
      "image/png": "[encoded data removed]",
      "text/plain": [
       "Graphics object consisting of 22 graphics primitives"
      ]
     },
     "metadata": {},
     "output_type": "display_data"
    }
   ],
   "source": [
    "graphname=\"K6\"\n",
    "g=graphs.CompleteGraph(6)\n",
    "g.relabel({int(i):str(i) for i in range(g.order())})\n",
    "g.show()\n",
    "# len(list(g.spanning_trees())) #1296"
   ]
  },
  {
   "cell_type": "code",
   "execution_count": 79,
   "metadata": {},
   "outputs": [
    {
     "data": {
      "text/plain": [
       "[('0', '1'), ('0', '2'), ('0', '3'), ('0', '4'), ('0', '5'), ('1', '2'), ('1', '3'), ('1', '4'), ('1', '5'), ('2', '3'), ('2', '4'), ('2', '5'), ('3', '4'), ('3', '5'), ('4', '5')]"
      ]
     },
     "execution_count": 79,
     "metadata": {},
     "output_type": "execute_result"
    }
   ],
   "source": [
    "# graphname=\"K6\"\n",
    "# g=Graph([('0', '1'), ('0', '2'), ('0', '3'), ('0', '4'), ('0', '5'), ('1', '2'), ('1', '3'), ('1', '4'), ('1', '5'), ('2', '3'), ('2', '4'), ('2', '5'), ('3', '4'), ('3', '5'), ('4', '5')], multiedges=True)\n",
    "# g.edges(labels=False)"
   ]
  },
  {
   "cell_type": "code",
   "execution_count": 15,
   "metadata": {},
   "outputs": [],
   "source": [
    "# con_stab_l=run_all_verts(g)\n",
    "#long time"
   ]
  },
  {
   "cell_type": "code",
   "execution_count": null,
   "metadata": {},
   "outputs": [],
   "source": [
    "# save_data(graphname,con_stab_l)"
   ]
  },
  {
   "cell_type": "markdown",
   "metadata": {},
   "source": [
    "## Large graphs"
   ]
  },
  {
   "cell_type": "code",
   "execution_count": 28,
   "metadata": {},
   "outputs": [
    {
     "data": {
      "image/png": "[encoded data removed]",
      "text/plain": [
       "Graphics object consisting of 19 graphics primitives"
      ]
     },
     "metadata": {},
     "output_type": "display_data"
    }
   ],
   "source": [
    "graphname=\"MoserSpindle\"\n",
    "g = graphs.MoserSpindle()\n",
    "g.relabel({int(i):str(i) for i in range(g.order())})\n",
    "g.show()\n",
    "# len(list(g.spanning_trees())) #192"
   ]
  },
  {
   "cell_type": "code",
   "execution_count": 81,
   "metadata": {},
   "outputs": [
    {
     "data": {
      "text/plain": [
       "[('0', '1'), ('0', '4'), ('0', '6'), ('1', '2'), ('1', '5'), ('2', '3'), ('2', '5'), ('3', '4'), ('3', '5'), ('3', '6'), ('4', '6')]"
      ]
     },
     "execution_count": 81,
     "metadata": {},
     "output_type": "execute_result"
    }
   ],
   "source": [
    "# graphname=\"MoserSpindle\"\n",
    "# g=Graph([('0', '1'), ('0', '4'), ('0', '6'), ('1', '2'), ('1', '5'), ('2', '3'), ('2', '5'), ('3', '4'), ('3', '5'), ('3', '6'), ('4', '6')], multiedges=True)\n",
    "# g.edges(labels=False)"
   ]
  },
  {
   "cell_type": "code",
   "execution_count": 19,
   "metadata": {},
   "outputs": [],
   "source": [
    "# con_stab_l=run_all_verts(g)\n",
    "# Elapsed time: mult_initializer : 31.012927532196045 seconds"
   ]
  },
  {
   "cell_type": "code",
   "execution_count": 20,
   "metadata": {},
   "outputs": [],
   "source": [
    "# save_data(graphname,con_stab_l)"
   ]
  },
  {
   "cell_type": "code",
   "execution_count": 22,
   "metadata": {},
   "outputs": [
    {
     "data": {
      "image/png": "[encoded data removed]",
      "text/plain": [
       "Graphics object consisting of 26 graphics primitives"
      ]
     },
     "metadata": {},
     "output_type": "display_data"
    }
   ],
   "source": [
    "graphname=\"petersen_family_1\"\n",
    "g=graphs.petersen_family()[0]\n",
    "g.relabel({int(i):str(i) for i in range(g.order())})\n",
    "g.show()"
   ]
  },
  {
   "cell_type": "code",
   "execution_count": 24,
   "metadata": {},
   "outputs": [
    {
     "data": {
      "text/plain": [
       "2000"
      ]
     },
     "execution_count": 24,
     "metadata": {},
     "output_type": "execute_result"
    }
   ],
   "source": [
    "len(list(g.spanning_trees()))"
   ]
  },
  {
   "cell_type": "code",
   "execution_count": 83,
   "metadata": {},
   "outputs": [
    {
     "data": {
      "text/plain": [
       "[('0', '1'), ('0', '4'), ('0', '5'), ('1', '2'), ('1', '6'), ('2', '3'), ('2', '7'), ('3', '4'), ('3', '8'), ('4', '9'), ('5', '7'), ('5', '8'), ('6', '8'), ('6', '9'), ('7', '9')]"
      ]
     },
     "execution_count": 83,
     "metadata": {},
     "output_type": "execute_result"
    }
   ],
   "source": [
    "# graphname=\"petersen_family_1\"\n",
    "# g=Graph([('0', '1'), ('0', '4'), ('0', '5'), ('1', '2'), ('1', '6'), ('2', '3'), ('2', '7'), ('3', '4'), ('3', '8'), ('4', '9'), ('5', '7'), ('5', '8'), ('6', '8'), ('6', '9'), ('7', '9')], multiedges=True)\n",
    "# g.edges(labels=False)"
   ]
  },
  {
   "cell_type": "code",
   "execution_count": null,
   "metadata": {},
   "outputs": [],
   "source": [
    "# con_stab_l=run_all_verts(g)"
   ]
  },
  {
   "cell_type": "code",
   "execution_count": null,
   "metadata": {},
   "outputs": [],
   "source": [
    "# save_data(graphname,con_stab_l)"
   ]
  },
  {
   "cell_type": "code",
   "execution_count": 36,
   "metadata": {},
   "outputs": [
    {
     "data": {
      "image/png": "[encoded data removed]",
      "text/plain": [
       "Graphics object consisting of 24 graphics primitives"
      ]
     },
     "metadata": {},
     "output_type": "display_data"
    },
    {
     "data": {
      "text/plain": [
       "2304"
      ]
     },
     "execution_count": 36,
     "metadata": {},
     "output_type": "execute_result"
    }
   ],
   "source": [
    "graphname=\"petersen_family_3\"\n",
    "g=graphs.petersen_family()[3]\n",
    "g.relabel({int(i):str(i) for i in range(g.order())})\n",
    "g.show()\n",
    "# len(list(g.spanning_trees())) "
   ]
  },
  {
   "cell_type": "code",
   "execution_count": null,
   "metadata": {},
   "outputs": [],
   "source": [
    "# for g in graphs.petersen_family():\n",
    "#     print(g.order())"
   ]
  },
  {
   "cell_type": "code",
   "execution_count": null,
   "metadata": {},
   "outputs": [],
   "source": [
    "g.edges()\n",
    "# g=Graph([(\"0\",\"1\"),(\"1\",\"2\"),(\"2\",\"3\"),(\"0\",\"2\"),(\"1\",\"3\")], multiedges=True)"
   ]
  },
  {
   "cell_type": "code",
   "execution_count": null,
   "metadata": {},
   "outputs": [],
   "source": [
    "# graphname=\"petersen_family_1\"\n",
    "# g=Graph([('0', '1'), ('0', '4'), ('0', '5'), ('1', '2'), ('1', '6'), ('2', '3'), ('2', '7'), ('3', '4'), ('3', '8'), ('4', '9'), ('5', '7'), ('5', '8'), ('6', '8'), ('6', '9'), ('7', '9')], multiedges=True)\n",
    "g.edges(labels=False)"
   ]
  },
  {
   "cell_type": "code",
   "execution_count": null,
   "metadata": {},
   "outputs": [],
   "source": [
    "con_stab_l=run_all_verts(g)\n",
    "save_data(graphname,con_stab_l)"
   ]
  },
  {
   "cell_type": "markdown",
   "metadata": {
    "tags": []
   },
   "source": [
    "## Non-trivial stability conditions to non-trivial stability conditions by good move. <a name=\"s27\"></a>"
   ]
  },
  {
   "cell_type": "markdown",
   "metadata": {},
   "source": [
    "To generate more stability conditions we can take a sequence of cf's and then do,\n",
    "\n",
    "    stab_con_0 --cf_0-->stab_con_1 --cf_1-->stab_con_2 --cf_2-->...\n",
    "\n",
    "    where stab_con_0 is the break divisor case (we would have to have a way to choose which stab_con_1 to take from the \n",
    "    list produced from cf_0 application)."
   ]
  },
  {
   "cell_type": "code",
   "execution_count": 134,
   "metadata": {
    "tags": []
   },
   "outputs": [
    {
     "name": "stdout",
     "output_type": "stream",
     "text": [
      "gm ((0, [[0, 0, 1], [0, 1, 0]]), [(Graph on 3 vertices, [0, 0, 0]), (Graph on 3 vertices, [0, 0, 0]), (Graph on 3 vertices, [0, 0, 0])]) \n",
      "\n",
      "gm ((1, [[1, 0, 0]]), [(Graph on 3 vertices, [0, 0, 0]), (Graph on 3 vertices, [0, 0, 0])]) \n",
      "\n",
      "The value (1, [[1, 0, 0]]) outputs to stability condition\n"
     ]
    },
    {
     "data": {
      "text/plain": [
       "[([(Graph on 3 vertices, [-1, 0, 1]),\n",
       "   (Graph on 3 vertices, [-1, 1, 0]),\n",
       "   (Graph on 3 vertices, [0, 0, 0])],\n",
       "  array([[-1,  1,  1],\n",
       "         [ 0,  0,  1],\n",
       "         [ 0,  1,  0]], dtype=int32))]"
      ]
     },
     "execution_count": 134,
     "metadata": {},
     "output_type": "execute_result"
    }
   ],
   "source": [
    "G=Graph([(\"0\",\"1\"),(\"1\",\"2\"),(\"2\",\"0\")], multiedges=True)\n",
    "\n",
    "#Inital new stabiltiy condition\n",
    "vrt=[1,0,0]\n",
    "cf=[1,0,0]\n",
    "\n",
    "\n",
    "#Dont work\n",
    "# cf=[-1,0,0]\n",
    "\n",
    "stab_con_l=graph_basecase_new_stab_cons(G,vrt,cf)\n",
    "stab_con_l\n",
    "\n",
    "# gm ((0, [[0, 0, 1], [0, 1, 0]]), [(Graph on 3 vertices, [0, 0, 0]), (Graph on 3 vertices, [0, 0, 0]), (Graph on 3 vertices, [0, 0, 0])]) \n",
    "\n",
    "# gm ((1, [[1, 0, 0]]), [(Graph on 3 vertices, [0, 0, 0]), (Graph on 3 vertices, [0, 0, 0])]) \n",
    "\n",
    "# The value (1, [[1, 0, 0]]) outputs to stability condition\n",
    "# [([(Graph on 3 vertices, [-1, 0, 1]),\n",
    "#    (Graph on 3 vertices, [-1, 1, 0]),\n",
    "#    (Graph on 3 vertices, [0, 0, 0])],\n",
    "#   array([[-1,  1,  1],\n",
    "#          [ 0,  0,  1],\n",
    "#          [ 0,  1,  0]], dtype=int32))]"
   ]
  },
  {
   "cell_type": "code",
   "execution_count": 141,
   "metadata": {
    "tags": []
   },
   "outputs": [
    {
     "name": "stdout",
     "output_type": "stream",
     "text": [
      "gm ((0, [[0, 1, 0]]), [(Graph on 3 vertices, [-1, 1, 0]), (Graph on 3 vertices, [0, 0, 0])]) \n",
      "\n",
      "The value (0, [[0, 1, 0]]) outputs to stability condition \n",
      "\n",
      "gm ((1, [[-1, 1, 1], [0, 0, 1]]), [(Graph on 3 vertices, [-1, 0, 1]), (Graph on 3 vertices, [-1, 1, 0]), (Graph on 3 vertices, [0, 0, 0])]) \n",
      "\n"
     ]
    },
    {
     "data": {
      "text/plain": [
       "[([(Graph on 3 vertices, [-1, 0, 1]),\n",
       "   (Graph on 3 vertices, [-1, 0, 1]),\n",
       "   (Graph on 3 vertices, [-1, 0, 1])],\n",
       "  array([[-1,  0,  2],\n",
       "         [-1,  1,  1],\n",
       "         [ 0,  0,  1]], dtype=int32))]"
      ]
     },
     "execution_count": 141,
     "metadata": {},
     "output_type": "execute_result"
    }
   ],
   "source": [
    "#Dont work\n",
    "# vrt=[1,0,0]\n",
    "# cf=[1,0,0]\n",
    "\n",
    "#Dont work\n",
    "# vrt=[0,1,0]\n",
    "# cf=[0,1,0]\n",
    "\n",
    "#Dont work\n",
    "# vrt=[0,0,1]\n",
    "# cf=[0,0,1]\n",
    "\n",
    "#work\n",
    "vrt=[1,0,0]\n",
    "cf=[-1,0,0]\n",
    "\n",
    "# gm ((-1, [[-1, 1, 1]]), [(Graph on 3 vertices, [-1, 0, 1]), (Graph on 3 vertices, [-1, 1, 0])]) \n",
    "\n",
    "# The value (-1, [[-1, 1, 1]]) outputs to stability condition \n",
    "\n",
    "# gm ((0, [[0, 0, 1], [0, 1, 0]]), [(Graph on 3 vertices, [-1, 0, 1]), (Graph on 3 vertices, [0, 0, 0]), (Graph on 3 vertices, [-1, 1, 0])]) \n",
    "\n",
    "# [([(Graph on 3 vertices, [0, 0, 0]),\n",
    "#    (Graph on 3 vertices, [0, 0, 0]),\n",
    "#    (Graph on 3 vertices, [0, 0, 0])],\n",
    "#   array([[0, 0, 1],\n",
    "#          [0, 1, 0],\n",
    "#          [1, 0, 0]], dtype=int32))]\n",
    "\n",
    "#work\n",
    "# vrt=[0,1,0]\n",
    "# cf=[0,-1,0]\n",
    "\n",
    "# gm ((0, [[0, 0, 1]]), [(Graph on 3 vertices, [-1, 0, 1]), (Graph on 3 vertices, [0, 0, 0])]) \n",
    "\n",
    "# The value (0, [[0, 0, 1]]) outputs to stability condition \n",
    "\n",
    "# gm ((1, [[-1, 1, 1], [0, 1, 0]]), [(Graph on 3 vertices, [-1, 0, 1]), (Graph on 3 vertices, [-1, 1, 0]), (Graph on 3 vertices, [0, 0, 0])]) \n",
    "\n",
    "# [([(Graph on 3 vertices, [-1, 1, 0]),\n",
    "#    (Graph on 3 vertices, [-1, 1, 0]),\n",
    "#    (Graph on 3 vertices, [-1, 1, 0])],\n",
    "#   array([[-1,  1,  1],\n",
    "#          [-1,  2,  0],\n",
    "#          [ 0,  1,  0]], dtype=int32))]\n",
    "\n",
    "#work\n",
    "# vrt=[0,0,1]\n",
    "# cf=[0,0,-1]\n",
    "\n",
    "# gm ((0, [[0, 1, 0]]), [(Graph on 3 vertices, [-1, 1, 0]), (Graph on 3 vertices, [0, 0, 0])]) \n",
    "\n",
    "# The value (0, [[0, 1, 0]]) outputs to stability condition \n",
    "\n",
    "# gm ((1, [[-1, 1, 1], [0, 0, 1]]), [(Graph on 3 vertices, [-1, 0, 1]), (Graph on 3 vertices, [-1, 1, 0]), (Graph on 3 vertices, [0, 0, 0])]) \n",
    "\n",
    "# [([(Graph on 3 vertices, [-1, 0, 1]),\n",
    "#    (Graph on 3 vertices, [-1, 0, 1]),\n",
    "#    (Graph on 3 vertices, [-1, 0, 1])],\n",
    "#   array([[-1,  0,  2],\n",
    "#          [-1,  1,  1],\n",
    "#          [ 0,  0,  1]], dtype=int32))]\n",
    "\n",
    "# #Dont work\n",
    "# vrt=[1,0,0]\n",
    "# cf=[-2,0,0]\n",
    "\n",
    "nstab_con_l=reapply(G,stab_con_l,vrt,cf,pos=0)\n",
    "nstab_con_l"
   ]
  },
  {
   "cell_type": "markdown",
   "metadata": {},
   "source": [
    "## Commutativity <a name=\"s28\"></a>"
   ]
  },
  {
   "cell_type": "code",
   "execution_count": null,
   "metadata": {},
   "outputs": [],
   "source": []
  },
  {
   "cell_type": "markdown",
   "metadata": {
    "jp-MarkdownHeadingCollapsed": true,
    "tags": [],
    "toc-hr-collapsed": true
   },
   "source": [
    "# Chip firing from break to new stabiltiy condition example (I3) then function generalising <a name=\"s1\"></a>"
   ]
  },
  {
   "cell_type": "markdown",
   "metadata": {},
   "source": [
    "From the break divisor case figure out what chip firings give a new_CSR and new_I.g"
   ]
  },
  {
   "cell_type": "markdown",
   "metadata": {
    "jp-MarkdownHeadingCollapsed": true,
    "tags": [],
    "toc-hr-collapsed": true
   },
   "source": [
    "## I3: Initalise data <a name=\"s11\"></a>"
   ]
  },
  {
   "cell_type": "markdown",
   "metadata": {},
   "source": [
    "Fix a graph and get the set of break divisors B."
   ]
  },
  {
   "cell_type": "code",
   "execution_count": 3,
   "metadata": {},
   "outputs": [
    {
     "ename": "NameError",
     "evalue": "name 'Graph' is not defined",
     "output_type": "error",
     "traceback": [
      "\u001b[1;31m---------------------------------------------------------------------------\u001b[0m",
      "\u001b[1;31mNameError\u001b[0m                                 Traceback (most recent call last)",
      "Cell \u001b[1;32mIn[3], line 3\u001b[0m\n\u001b[0;32m      1\u001b[0m \u001b[38;5;66;03m#Example\u001b[39;00m\n\u001b[0;32m      2\u001b[0m graphname\u001b[38;5;241m=\u001b[39m\u001b[38;5;124m\"\u001b[39m\u001b[38;5;124mG3\u001b[39m\u001b[38;5;124m\"\u001b[39m\n\u001b[1;32m----> 3\u001b[0m G\u001b[38;5;241m=\u001b[39m\u001b[43mGraph\u001b[49m([(\u001b[38;5;124m\"\u001b[39m\u001b[38;5;124m0\u001b[39m\u001b[38;5;124m\"\u001b[39m,\u001b[38;5;124m\"\u001b[39m\u001b[38;5;124m1\u001b[39m\u001b[38;5;124m\"\u001b[39m),(\u001b[38;5;124m\"\u001b[39m\u001b[38;5;124m1\u001b[39m\u001b[38;5;124m\"\u001b[39m,\u001b[38;5;124m\"\u001b[39m\u001b[38;5;124m2\u001b[39m\u001b[38;5;124m\"\u001b[39m),(\u001b[38;5;124m\"\u001b[39m\u001b[38;5;124m2\u001b[39m\u001b[38;5;124m\"\u001b[39m,\u001b[38;5;124m\"\u001b[39m\u001b[38;5;124m0\u001b[39m\u001b[38;5;124m\"\u001b[39m)], multiedges\u001b[38;5;241m=\u001b[39m\u001b[38;5;28;01mTrue\u001b[39;00m)\n",
      "\u001b[1;31mNameError\u001b[0m: name 'Graph' is not defined"
     ]
    }
   ],
   "source": [
    "#Example\n",
    "graphname=\"G3\"\n",
    "G=Graph([(\"0\",\"1\"),(\"1\",\"2\"),(\"2\",\"0\")], multiedges=True)\n",
    "# for t in list(G.spanning_trees()):\n",
    "#     print(t.edges())"
   ]
  },
  {
   "cell_type": "code",
   "execution_count": null,
   "metadata": {},
   "outputs": [],
   "source": [
    "n=len(G.vertices())\n",
    "\n",
    "#Assignments\n",
    "zero_ass=[0]*n\n",
    "base_assignments=[(T,zero_ass) for T in list(G.spanning_trees()) ]\n",
    "\n",
    "#Break divisors:\n",
    "B=w_stability(G,base_assignments) # list #We will use w_stability again to check if a proposed IG gives our CSR.\n",
    "\n",
    "B=B.tolist()"
   ]
  },
  {
   "cell_type": "markdown",
   "metadata": {
    "jp-MarkdownHeadingCollapsed": true,
    "tags": []
   },
   "source": [
    "## I3: Choose a CSR denoted by $S$ <a name=\"s12\"></a>"
   ]
  },
  {
   "cell_type": "markdown",
   "metadata": {},
   "source": [
    "For each $d \\in B$ make a choice of a chip-firing divisor $C \\in \\mathbb{Z}^{n}$.\n",
    "\n",
    "Take $S=\\{d+CF(C) | b \\in B\\}$. \n",
    "\n",
    "This is the proposed set we are interested to find $I_G$ for."
   ]
  },
  {
   "cell_type": "code",
   "execution_count": 12,
   "metadata": {},
   "outputs": [],
   "source": [
    "# #how we generate a new CSR.\n",
    "\n",
    "# #Make a choice of chip-firing divisors C's\n",
    "\n",
    "# #Example\n",
    "c1=[1,0,0]\n",
    "c2=c3=[0]*n\n",
    "\n",
    "CF=[c1,c2,c3]\n",
    "\n",
    "paired=zip(B,CF)\n",
    "# print(list(paired))\n",
    "\n",
    "#We build new csr.\n",
    "S=[]\n",
    "for D,C in paired:\n",
    "    s=chip_fire(G,D,C)\n",
    "    S.append(s)"
   ]
  },
  {
   "cell_type": "code",
   "execution_count": 13,
   "metadata": {},
   "outputs": [
    {
     "data": {
      "text/plain": [
       "[[-2, 1, 2], [0, 1, 0], [1, 0, 0]]"
      ]
     },
     "execution_count": 13,
     "metadata": {},
     "output_type": "execute_result"
    }
   ],
   "source": [
    "S"
   ]
  },
  {
   "cell_type": "code",
   "execution_count": 14,
   "metadata": {},
   "outputs": [],
   "source": [
    "# Take S that I know and check if get same Ig back\n",
    "# S=[[1,0,0],[0,1,0],[0,0,1]]\n",
    "S=[[1,0,0],[0,1,0],[1,1,-1]]\n",
    "\n",
    "S=[np.array(D) for D in S]"
   ]
  },
  {
   "cell_type": "markdown",
   "metadata": {
    "jp-MarkdownHeadingCollapsed": true,
    "tags": []
   },
   "source": [
    "## I3: Chip-subtract to get $Ass_{G}$ <a name=\"s13\"></a>"
   ]
  },
  {
   "cell_type": "markdown",
   "metadata": {},
   "source": [
    "Generalising the idea of \"generates the divisors after specializing along one edge\".\n",
    "\n",
    "Let $Ass_{G}$ be the datum such that for each tree $T \\in \\mathcal{ST}(G)$, $Ass_{G}(T) \\subseteq Div(G)^{0}$ (this is the set of possible $I_G(T)$ values).\n",
    "\n",
    "Let $B_{T}$ be the set of break divisors of $G$ with respect to $T$."
   ]
  },
  {
   "cell_type": "code",
   "execution_count": 15,
   "metadata": {},
   "outputs": [],
   "source": [
    "# Get B_T for each T\n",
    "\n",
    "#dictionary?\n",
    "breaks_T={}\n",
    "\n",
    "G_edges=G.edges(sort=True, labels=True)\n",
    "\n",
    "for T in list(G.spanning_trees()):\n",
    "    B_T=chip_adding(G_edges,T.edges(),zero_ass) #list of break divisors for T.\n",
    "    \n",
    "    breaks_T[T.copy(immutable=True)]=B_T"
   ]
  },
  {
   "cell_type": "code",
   "execution_count": 16,
   "metadata": {},
   "outputs": [
    {
     "data": {
      "text/plain": [
       "{Graph on 3 vertices: [array([0., 1., 0.]), array([1., 0., 0.])],\n",
       " Graph on 3 vertices: [array([0., 0., 1.]), array([1., 0., 0.])],\n",
       " Graph on 3 vertices: [array([0., 0., 1.]), array([0., 1., 0.])]}"
      ]
     },
     "execution_count": 16,
     "metadata": {},
     "output_type": "execute_result"
    }
   ],
   "source": [
    "breaks_T"
   ]
  },
  {
   "cell_type": "markdown",
   "metadata": {},
   "source": [
    "We obtain $Ass_{G}(T)$ as follows,\n",
    "\n",
    "$$Ass_{G}(T)=\\bigcup_{D \\in S} \\{D-b | b\\in B_{T}\\}.$$"
   ]
  },
  {
   "cell_type": "markdown",
   "metadata": {},
   "source": [
    "\"and check that adding chips brings you back to the \"covering\" stability set\".\n",
    "\n",
    "For each $T$. Want to reduce the number of cases to check in $Ass_{G}(T)$. Therefore we ask for $E \\in Ass_{G}(T)$ if \n",
    "\n",
    "$$CA(E) = \\{E + b| b \\in B_{T}\\} \\subseteq S.$$\n",
    "\n",
    "If $CA(E) \\subseteq S$  we keep $E \\in Ass_{G}(T)$, if not we discard $E$ from $Ass_{G}(T)$."
   ]
  },
  {
   "cell_type": "code",
   "execution_count": 19,
   "metadata": {},
   "outputs": [],
   "source": [
    "#get $Ass_{G}(T)$\n",
    "\n",
    "Ass_G={}\n",
    "for T in list(G.spanning_trees()):\n",
    "    #get break divisors for G wrt to T\n",
    "    breaks=breaks_T[T.copy(immutable=True)]\n",
    "\n",
    "    #Get all possible Ig(T) values    \n",
    "    candidates=[]\n",
    "    for D in S:\n",
    "        for b in breaks:\n",
    "            candidates.append(D-b)\n",
    "\n",
    "    # Refine candidates to ensure CA(E) contained in S\n",
    "    refined_candidates=[]\n",
    "    for cand in candidates:\n",
    "\n",
    "        #Generate Ca(E)\n",
    "        check=set()\n",
    "        for b in breaks:\n",
    "            s=cand+b\n",
    "            check.add(tuple(s))\n",
    "\n",
    "        S=[tuple(s) for s in S]#S is a list of nparray\n",
    "        if check.issubset(S):\n",
    "            refined_candidates.append(cand)\n",
    "\n",
    "    Ass_G[T.copy(immutable=True)]=refined_candidates\n",
    "# We can get multiple repetitions in values for each tree as these are not sets.\n",
    "Ass_G_as_set = {k: np.unique(v, axis=0).tolist() for k, v in Ass_G.items()}"
   ]
  },
  {
   "cell_type": "code",
   "execution_count": 20,
   "metadata": {},
   "outputs": [
    {
     "data": {
      "text/plain": [
       "{Graph on 3 vertices: [[0.0, 0.0, 0.0]],\n",
       " Graph on 3 vertices: [[0.0, 1.0, -1.0]],\n",
       " Graph on 3 vertices: [[1.0, 0.0, -1.0]]}"
      ]
     },
     "execution_count": 20,
     "metadata": {},
     "output_type": "execute_result"
    }
   ],
   "source": [
    "Ass_G=Ass_G_as_set\n",
    "Ass_G"
   ]
  },
  {
   "cell_type": "markdown",
   "metadata": {
    "jp-MarkdownHeadingCollapsed": true,
    "tags": []
   },
   "source": [
    "## I3: Compute $I_{G}$ from refined $Ass_{G}$ <a name=\"s14\"></a>"
   ]
  },
  {
   "cell_type": "markdown",
   "metadata": {},
   "source": [
    "Iterate through all possible $Ass_G(T)$ to get choices of assignments $A_G$ (Using itertools).\n",
    "\n",
    "And check if by taking the chip-adding saturation of $A$ returns $S$.\n",
    "\n",
    "Stop if does.\n",
    "\n",
    "Else try a new $S$ by taking a different choice of chip-firing divisors $C$ for each break divisor."
   ]
  },
  {
   "cell_type": "code",
   "execution_count": 21,
   "metadata": {},
   "outputs": [],
   "source": [
    "choices = []\n",
    "\n",
    "for combination in itertools.product(*Ass_G.values()):\n",
    "    choices.append([(key, value) for key, value in zip(Ass_G.keys(), combination)])"
   ]
  },
  {
   "cell_type": "code",
   "execution_count": 22,
   "metadata": {},
   "outputs": [
    {
     "name": "stdout",
     "output_type": "stream",
     "text": [
      "[(Graph on 3 vertices, [0.0, 0.0, 0.0]), (Graph on 3 vertices, [0.0, 1.0, -1.0]), (Graph on 3 vertices, [1.0, 0.0, -1.0])]\n"
     ]
    }
   ],
   "source": [
    "# print(result)\n",
    "for i in choices:\n",
    "    print(i)"
   ]
  },
  {
   "cell_type": "code",
   "execution_count": 23,
   "metadata": {},
   "outputs": [
    {
     "name": "stdout",
     "output_type": "stream",
     "text": [
      "[(Graph on 3 vertices, [0.0, 0.0, 0.0]), (Graph on 3 vertices, [0.0, 1.0, -1.0]), (Graph on 3 vertices, [1.0, 0.0, -1.0])]\n"
     ]
    }
   ],
   "source": [
    "for A in choices:\n",
    "    \n",
    "    #We now take the chip-adding saturation of A\n",
    "#   and check if A gives back S\n",
    "\n",
    "    S_better_form = np.array(S, dtype=np.int32)\n",
    "    CA_A=w_stability(G,A)\n",
    "        \n",
    "    #we put CA_A and S into a set of tuples format. \n",
    "\n",
    "    CA_A_set_t=set([tuple(i) for i in CA_A.tolist()])\n",
    "\n",
    "    S_set_t=set([tuple(i) for i in S])\n",
    "\n",
    "    if CA_A_set_t==S_set_t:\n",
    "        #if true returns A ie. IG function.\n",
    "        print(A)"
   ]
  },
  {
   "cell_type": "markdown",
   "metadata": {
    "jp-MarkdownHeadingCollapsed": true,
    "tags": []
   },
   "source": [
    "## I4: Generalised to a function format and apply to I4. <a name=\"s15\"></a>"
   ]
  },
  {
   "cell_type": "code",
   "execution_count": 10,
   "metadata": {},
   "outputs": [],
   "source": [
    "#G4 #(1342) example\n",
    "G=Graph([(\"0\",\"1\"),(\"1\",\"2\"),(\"2\",\"3\"),(\"3\",\"0\")], multiedges=True)\n",
    "\n",
    "#break divisor case.\n",
    "# CF=[[0]*4,[0]*4,[0]*4,[0]*4]\n",
    "# S=get_new_CSR(G,CF)"
   ]
  },
  {
   "cell_type": "code",
   "execution_count": 11,
   "metadata": {},
   "outputs": [],
   "source": [
    "#Non-trivial 1342 case.\n",
    "S=[[0,1,0,0],[0,1,-1,1],[1,1,-1,0],[1,0,0,0]]\n",
    "\n",
    "# # choice of assignment i want \n",
    "\n",
    "# [(\"1\",\"2\"),(\"2\",\"3\"),(\"3\",\"0\"):[0,0,0,0],\n",
    "# (\"0\",\"1\"),(\"2\",\"3\"),(\"3\",\"0\"):[1,0,-1,0],\n",
    "# (\"0\",\"1\"),(\"1\",\"2\"),(\"3\",\"0\"):[0,1,-1,0],\n",
    "# (\"0\",\"1\"),(\"1\",\"2\"),(\"2\",\"3\"):[0,1,-1,0]]]"
   ]
  },
  {
   "cell_type": "code",
   "execution_count": 12,
   "metadata": {},
   "outputs": [],
   "source": [
    "breaks_T=get_breaks_T(G)"
   ]
  },
  {
   "cell_type": "code",
   "execution_count": 13,
   "metadata": {},
   "outputs": [
    {
     "data": {
      "text/plain": [
       "{Graph on 4 vertices: [array([0., 1., 0., 0.]), array([1., 0., 0., 0.])],\n",
       " Graph on 4 vertices: [array([0., 0., 0., 1.]), array([1., 0., 0., 0.])],\n",
       " Graph on 4 vertices: [array([0., 0., 1., 0.]), array([0., 1., 0., 0.])],\n",
       " Graph on 4 vertices: [array([0., 0., 0., 1.]), array([0., 0., 1., 0.])]}"
      ]
     },
     "execution_count": 13,
     "metadata": {},
     "output_type": "execute_result"
    }
   ],
   "source": [
    "breaks_T"
   ]
  },
  {
   "cell_type": "code",
   "execution_count": 30,
   "metadata": {},
   "outputs": [
    {
     "data": {
      "text/plain": [
       "{Graph on 4 vertices: [[0.0, 0.0, 0.0, 0.0]],\n",
       " Graph on 4 vertices: [[0.0, 1.0, -1.0, 0.0]],\n",
       " Graph on 4 vertices: [[1.0, 0.0, -1.0, 0.0]],\n",
       " Graph on 4 vertices: [[0.0, 1.0, -1.0, 0.0]]}"
      ]
     },
     "execution_count": 30,
     "metadata": {},
     "output_type": "execute_result"
    }
   ],
   "source": [
    "Ass_G=get_Ass_G(G,S,breaks_T)\n",
    "Ass_G"
   ]
  },
  {
   "cell_type": "code",
   "execution_count": 31,
   "metadata": {},
   "outputs": [],
   "source": [
    "choices=get_all_choices_of_assignments(Ass_G)\n",
    "Ig=get_Ig(choices)"
   ]
  },
  {
   "cell_type": "code",
   "execution_count": 32,
   "metadata": {},
   "outputs": [
    {
     "name": "stdout",
     "output_type": "stream",
     "text": [
      "([(Graph on 4 vertices, [0.0, 0.0, 0.0, 0.0]), (Graph on 4 vertices, [0.0, 1.0, -1.0, 0.0]), (Graph on 4 vertices, [1.0, 0.0, -1.0, 0.0]), (Graph on 4 vertices, [0.0, 1.0, -1.0, 0.0])], {(0, 1, -1, 1), (1, 0, 0, 0), (0, 1, 0, 0), (1, 1, -1, 0)})\n"
     ]
    }
   ],
   "source": [
    "print(Ig)"
   ]
  },
  {
   "cell_type": "markdown",
   "metadata": {
    "jp-MarkdownHeadingCollapsed": true,
    "tags": []
   },
   "source": [
    "## I4: Searching for good CF to give a new stability condition <a name=\"s16\"></a>"
   ]
  },
  {
   "cell_type": "code",
   "execution_count": 16,
   "metadata": {},
   "outputs": [],
   "source": [
    "#G4 #(1342) example\n",
    "G=Graph([(\"0\",\"1\"),(\"1\",\"2\"),(\"2\",\"3\"),(\"3\",\"0\")], multiedges=True)\n",
    "\n",
    "#break divisor case.\n",
    "CF=[[0,0,0,0],[0,0,0,0],[0,0,0,0],[0,0,0,0]]\n",
    "\n",
    "#See good move classes\n",
    "# non-trivial\n",
    "# CF=[[0,0,0,0],[0,0,0,0],[0,1,0,0],[0,0,0,0]]\n",
    "# ([(Graph on 4 vertices, [0.0, -1.0, 1.0, 0.0]), (Graph on 4 vertices, [0.0, 0.0, 0.0, 0.0]), (Graph on 4 vertices, [1.0, -1.0, 0.0, 0.0]), (Graph on 4 vertices, [0.0, 0.0, 0.0, 0.0])], {(0, 0, 0, 1), (1, 0, 0, 0), (0, 0, 1, 0), (1, -1, 1, 0)})"
   ]
  },
  {
   "cell_type": "code",
   "execution_count": 17,
   "metadata": {},
   "outputs": [
    {
     "data": {
      "text/plain": [
       "{Graph on 4 vertices: [array([0., 1., 0., 0.]), array([1., 0., 0., 0.])],\n",
       " Graph on 4 vertices: [array([0., 0., 0., 1.]), array([1., 0., 0., 0.])],\n",
       " Graph on 4 vertices: [array([0., 0., 1., 0.]), array([0., 1., 0., 0.])],\n",
       " Graph on 4 vertices: [array([0., 0., 0., 1.]), array([0., 0., 1., 0.])]}"
      ]
     },
     "execution_count": 17,
     "metadata": {},
     "output_type": "execute_result"
    }
   ],
   "source": [
    "S=get_new_CSR(G,CF)\n",
    "breaks_T=get_breaks_T(G)#independant of CF\n",
    "breaks_T"
   ]
  },
  {
   "cell_type": "code",
   "execution_count": 18,
   "metadata": {},
   "outputs": [
    {
     "data": {
      "text/plain": [
       "{Graph on 4 vertices: [[0.0, 0.0, 0.0, 0.0]],\n",
       " Graph on 4 vertices: [[0.0, 0.0, 0.0, 0.0]],\n",
       " Graph on 4 vertices: [[0.0, 0.0, 0.0, 0.0]],\n",
       " Graph on 4 vertices: [[0.0, 0.0, 0.0, 0.0]]}"
      ]
     },
     "execution_count": 18,
     "metadata": {},
     "output_type": "execute_result"
    }
   ],
   "source": [
    "Ass_G=get_Ass_G(G,S,breaks_T)\n",
    "Ass_G"
   ]
  },
  {
   "cell_type": "code",
   "execution_count": 19,
   "metadata": {},
   "outputs": [],
   "source": [
    "choices=get_all_choices_of_assignments(Ass_G)\n",
    "Ig=get_Ig(choices)"
   ]
  },
  {
   "cell_type": "code",
   "execution_count": 20,
   "metadata": {},
   "outputs": [
    {
     "name": "stdout",
     "output_type": "stream",
     "text": [
      "([(Graph on 4 vertices, [0.0, 0.0, 0.0, 0.0]), (Graph on 4 vertices, [0.0, 0.0, 0.0, 0.0]), (Graph on 4 vertices, [0.0, 0.0, 0.0, 0.0]), (Graph on 4 vertices, [0.0, 0.0, 0.0, 0.0])], {(0, 0, 0, 1), (1, 0, 0, 0), (0, 1, 0, 0), (0, 0, 1, 0)})\n"
     ]
    }
   ],
   "source": [
    "print(Ig)"
   ]
  },
  {
   "cell_type": "markdown",
   "metadata": {
    "tags": [],
    "toc-hr-collapsed": true
   },
   "source": [
    "# Functions <a name=\"s3\"></a>"
   ]
  },
  {
   "cell_type": "markdown",
   "metadata": {
    "jp-MarkdownHeadingCollapsed": true,
    "tags": []
   },
   "source": [
    "## General functions <a name=\"s31\"></a>"
   ]
  },
  {
   "cell_type": "code",
   "execution_count": 1,
   "metadata": {},
   "outputs": [],
   "source": [
    "import numpy as np\n",
    "from collections import Counter\n",
    "import itertools \n",
    "# import sys\n",
    "import pickle\n",
    "import time\n"
   ]
  },
  {
   "cell_type": "code",
   "execution_count": 2,
   "metadata": {},
   "outputs": [],
   "source": [
    "def pickle_dic_l(graphname,stab_l):\n",
    "    # Pickle the list\n",
    "    filename=f\"../examples/{graphname}.pkl\"\n",
    "    with open(filename, 'wb') as f:\n",
    "        pickle.dump(stab_l, f)\n",
    "    return\n",
    "\n",
    "# # def unpickle_dic_l(graphname):\n",
    "# #     # Unpickle the list\n",
    "# #     filename=f\"examples/{graphname}/phi_analysis/dic_l.pkl\"\n",
    "# #     with open(filename, 'rb') as f:\n",
    "# #         unpickled_list = pickle.load(f)\n",
    "# #     return unpickled_list"
   ]
  },
  {
   "cell_type": "code",
   "execution_count": 3,
   "metadata": {},
   "outputs": [],
   "source": [
    "def chip_fire(G,D,C):\n",
    "    \n",
    "    \"\"\"\n",
    "    objective: chip-fire by C on D.\n",
    "    Input:D is our inital divisors, C is chip firing divisor.\n",
    "    returns: new divisor after chip-firing by C\n",
    "    \"\"\"\n",
    "\n",
    "    # Need to convert vertices to integers.\n",
    "\n",
    "    F=G.copy()\n",
    "    n=len(F.vertices())\n",
    "    F.relabel({str(i): int(i) for i in range(n)})\n",
    "    \n",
    "    S = Sandpile(F, 0)   # create the sandpile\n",
    "\n",
    "    D = np.array(D)\n",
    "\n",
    "    # https://doc.sagemath.org/html/en/thematic_tutorials/sandpile.html#betti-numbers-for-undirected-graphs\n",
    "\n",
    "    \"\"\"\n",
    "        # #Issue.\n",
    "\n",
    "        # #Get chips on sandpile for out initial break divisor.\n",
    "        # b = [0,0,1]\n",
    "        # break_chips = {int(index):int(value) for index, value in enumerate(b)}\n",
    "        # print(break_chips)\n",
    "\n",
    "\n",
    "        # # c = SandpileConfig(S, {0:0, 1:0, 2:1})\n",
    "        # # c = SandpileConfig(S, break_chips)\n",
    "        # # c = SandpileConfig(S, b)\n",
    "\n",
    "        # # c.fire_vertex(0)\n",
    "    \"\"\"\n",
    "\n",
    "    # work around\n",
    "\n",
    "    L=S.laplacian()\n",
    "\n",
    "    # given b firing the vertice 0, n times corresponds to subtracting the 0th element of L_l from b, n times\n",
    "\n",
    "    L_l=list(np.array(L))\n",
    "\n",
    "    #chip-firing\n",
    "    cf = sum(C[i] * L_l[i] for i in range(len(L_l)))\n",
    "\n",
    "    #result after chip-firing on \n",
    "    chip_fired_D=list(D-cf)\n",
    "\n",
    "    return chip_fired_D"
   ]
  },
  {
   "cell_type": "code",
   "execution_count": 4,
   "metadata": {},
   "outputs": [],
   "source": [
    "# Assignment_datum_for_G for w_stability:\n",
    "\n",
    "def list_difference(a, b):\n",
    "    \"\"\"\n",
    "    Objective:Takes the difference of removing the 2nd term from the 1st.\n",
    "    \"\"\"\n",
    "    \n",
    "    \"https://stackoverflow.com/questions/8106227/difference-between-two-lists-with-duplicates-in-python\"\n",
    "    count = Counter(a) # count items in a\n",
    "    count.subtract(b)  # subtract items that are in b\n",
    "    diff = []\n",
    "    for x in a:\n",
    "        if count[x] > 0:\n",
    "           count[x] -= 1\n",
    "           diff.append(x)\n",
    "    return diff\n",
    "\n",
    "def chip_adding(graph,tree,ass): #new\n",
    "    \"\"\"\n",
    "    Objective:Chip-adds\n",
    "    Inputs:\n",
    "    graph: G_edges graph edges\n",
    "    tree : spanning tree of graph\n",
    "    ass : an n=vert(graph) tuple on the spanning tree.\n",
    "    \n",
    "    recursion idea: https://stackoverflow.com/questions/53638816/python-library-function-to-re-apply-a-function-to-its-own-output-until-output-re\n",
    "    \"\"\"\n",
    "    \n",
    "    edges=graph # just want the edges \n",
    "    n=len(ass)\n",
    "    complement=list_difference(graph,tree) #edges in complement.\n",
    "    \n",
    "    def rec_funct(edge_l,inputs,n):\n",
    "        data=[]\n",
    "        edge=edge_l[0]\n",
    "        \n",
    "        for b in inputs:\n",
    "            delta_1=np.zeros(n)\n",
    "            delta_2=np.zeros(n)\n",
    "            \n",
    "            delta_1[int(edge[0])]=1 #we chip add at the first vertex. #### <- CHANGED as taking vertices 0,..,n-1 now\n",
    "            delta_2[int(edge[1])]=1 #we chip add at the second vertex.\n",
    "            \n",
    "            b1=b+delta_1\n",
    "            b2=b+delta_2\n",
    "            data=data+[b1,b2]\n",
    "        \n",
    "        return (edge_l,data,n)\n",
    "    \n",
    "    def recursion(edge_l,inputs,n):\n",
    "        \n",
    "        new_data=rec_funct(edge_l,inputs,n)\n",
    "        edge_l=edge_l[1:] #removeing first edge        \n",
    "        new_data=(edge_l,new_data[1],new_data[2])\n",
    "                \n",
    "        if len(edge_l)==0:\n",
    "            new_inputs=new_data[1]\n",
    "            return new_inputs\n",
    "        else:\n",
    "            return recursion(*new_data)\n",
    "        \n",
    "    breaks=recursion(complement,[np.zeros(n)],n)\n",
    "    breaks=np.unique(breaks, axis=0)\n",
    "    \n",
    "    patch=[]\n",
    "    for bbreak in breaks:\n",
    "        patch.append(ass+bbreak)\n",
    "    \n",
    "    return patch\n",
    "\n",
    "def w_stability(graph,Assignments): #Newest\n",
    "    \n",
    "    \"\"\"\n",
    "    Objective:Takes the chip-adding saturation of the assignments.\n",
    "    \n",
    "    #Graphs are labelled v0 to v_n-1\n",
    "    Inputs:\n",
    "        graph: Any smallish finite multigraph\n",
    "        \n",
    "        Assignments= list of (T,ass) tree and assignment pairs.\n",
    "    \n",
    "    Outputs: a list of lists of length vert(graph) corresponding to line bundle multidegrees obtained by chip adding.\n",
    "    \"\"\"\n",
    "    G=graph\n",
    "    \n",
    "    G_edges=G.edges(sort=True, labels=True)\n",
    "    \n",
    "    lbm_patches=[] # the set of patches,which we'll take the union of. \n",
    "\n",
    "    for pair in Assignments:\n",
    "        tree_edges=pair[0].edges()\n",
    "        ass=pair[1]    \n",
    "        patch=chip_adding(G_edges,tree_edges,ass)              \n",
    "        lbm_patches.append(patch)\n",
    "    \n",
    "    sig=np.concatenate(lbm_patches, axis=0)\n",
    "    sig=sig.astype('int32')    \n",
    "    sig=np.unique(sig, axis=0)\n",
    "\n",
    "    return sig"
   ]
  },
  {
   "cell_type": "markdown",
   "metadata": {
    "jp-MarkdownHeadingCollapsed": true,
    "tags": []
   },
   "source": [
    "## Investigating Good moves <a name=\"s32\"></a>"
   ]
  },
  {
   "cell_type": "code",
   "execution_count": 5,
   "metadata": {},
   "outputs": [],
   "source": [
    "def convert_format(stab_l):\n",
    "    \n",
    "    \"\"\"\n",
    "    - TODO: Reformat data so can be save in format for phi investigation.\n",
    "\n",
    "    from \n",
    "\n",
    "    [([(Graph on 3 vertices, [-1, 0, 1]),\n",
    "    (Graph on 3 vertices, [-1, 1, 0]),\n",
    "    (Graph on 3 vertices, [0, 0, 0])],\n",
    "    array([[-1,  1,  1],\n",
    "    [ 0,  0,  1],\n",
    "    [ 0,  1,  0]], dtype=int32))]\n",
    "    to \n",
    "\n",
    "    # # format for data to be stored in.\n",
    "\n",
    "    # ([[0, 0, 0], [0, 0, 0], [0, 0, 0]], \n",
    "    #  array([[0, 0, 1],\n",
    "    #        [0, 1, 0],\n",
    "    #        [1, 0, 0]], dtype=int32),\n",
    "\n",
    "    #  [(Graph on 3 vertices, [0, 0, 0]), (Graph on 3 vertices, [0, 0, 0]), (Graph on 3 vertices, [0, 0, 0])],\n",
    "    #  [(Multi-graph on 3 vertices, (1, 3, 2), Multi-graph on 3 vertices)])\n",
    "\n",
    "    \n",
    "    \"\"\"\n",
    "    \n",
    "    \n",
    "    converted_stab_l=[]\n",
    "    for stab in stab_l:\n",
    "    \n",
    "        Ig,gb=stab\n",
    "        ass_l=[ass[1] for ass in Ig ]\n",
    "        \n",
    "        \n",
    "        \n",
    "        converted_stab_l.append((ass_l,gb,Ig,None))\n",
    "    \n",
    "    return converted_stab_l"
   ]
  },
  {
   "cell_type": "code",
   "execution_count": 6,
   "metadata": {},
   "outputs": [],
   "source": [
    "def get_break_ass_dic(G,csr,assignments):\n",
    "    \n",
    "    \"\"\"\n",
    "    desc: create dic where each key is each divisor in csr=sigma{Gamma}(Gamma)\n",
    "    where we get a list of (T,ass) which saturate to give b in csr\n",
    "    in: csr is gen break divisors, assignments the list of (T,ass).\n",
    "    csr is a list of lists\n",
    "    out: gmclass\n",
    "    \"\"\"\n",
    "    \n",
    "    gm_class=dict()\n",
    "\n",
    "    for b in csr:\n",
    "        asspairs_to_b=[]\n",
    "\n",
    "        for pair in assignments:\n",
    "            sat=saturation(G,pair)\n",
    "\n",
    "            if b in sat:\n",
    "                asspairs_to_b.append(pair)\n",
    "        gm_class[tuple(b)]=asspairs_to_b\n",
    "    return gm_class\n",
    "\n",
    "def genbreaks_per_vert(csr,vrt):\n",
    "    \n",
    "    \"\"\"\n",
    "    description:\n",
    "    input: csr is the set of generalised break divs, cf is the chip firing on [0,0,1,0] on the vertex.\n",
    "    output: list of lists where each list contains b in csr with the value in values in position cf.\n",
    "    x=[[0,0,1],[1,0,0],[1,2,1]]\n",
    "\n",
    "    cf=[0,1,0]\n",
    "    i.e. [(0, [[0, 0, 1], [1, 0, 0]]), (2, [[1, 2, 1]])] increasing order of the value on the cf position.\n",
    "    Consider the first index the value and take the list of terms for the range of values ie\n",
    "    \"\"\"\n",
    "    \n",
    "    values=list(sorted(set(b[vrt.index(1)] for b in csr )))\n",
    "\n",
    "    gclass=[]\n",
    "    for i in values:\n",
    "        t=[]\n",
    "        for y in csr:\n",
    "            if y[vrt.index(1)]==i:\n",
    "                t.append(y)\n",
    "        gclass.append((i,t))\n",
    "\n",
    "    return gclass\n",
    "\n",
    "def good_move_class_per_vert(G,csr,Ig,vrt,cf,b_sat_trees):\n",
    "    \n",
    "    \"\"\"\n",
    "    desc: get the good move class.\n",
    "    in:csr is the complete set of reps  (gen breaks), cf is where we will be chip-firing i.e the vertex of interest.\n",
    "    out: Returns a list of terms of the form,\n",
    "            ([1, 0, 0, 0],\n",
    "         [(Graph on 4 vertices, [0, 0, 0, 0]), (Graph on 4 vertices, [0, 0, 0, 0])],\n",
    "         (1, [[1, 0, 0, 0]]))\n",
    "         \n",
    "     for each distinct value on vertex cf ranging over b in generalised breaks.\n",
    "    \"\"\"\n",
    "    \n",
    "    #gen breaks class for cf per value.\n",
    "    gb_c_top=genbreaks_per_vert(csr,vrt)\n",
    "    \n",
    "    \"\"\"\n",
    "    # For each vertex ask what are the good move classes \n",
    "    # (value 0 for break not included but have to be careful wrt general working).\n",
    "\n",
    "    # #Take b in csr with value i in position cf: giving (i,[breaks..])\n",
    "    gc_top=genbreaks_per_vert(csr,vrt)\n",
    "    # # gc_top # [(0, [[0, 0, 0, 1], [0, 0, 1, 0], [0, 1, 0, 0]]), (1, [[1, 0, 0, 0]])]\n",
    "    \"\"\"\n",
    "\n",
    "    \n",
    "#     print(\"gb_c_top\",gb_c_top)\n",
    "\n",
    "    # b_sat_trees\n",
    "\n",
    "    # b_sat_trees=get_break_ass_dic(G,csr,Ig)\n",
    "\n",
    "    \n",
    "    good_move_classes=[]\n",
    "    for v_gb_pair in gb_c_top:\n",
    "\n",
    "        value,g_breaks=v_gb_pair\n",
    "\n",
    "        #get assignments which chip add to give (atleast one of) these breaks.\n",
    "        \n",
    "        s=[]\n",
    "        for b in g_breaks:\n",
    "#             print(b_sat_trees[tuple(b)])\n",
    "            #Want to take the union of these assignments\n",
    "            s.extend(b_sat_trees[tuple(b)])\n",
    "        #take only unique assinments\n",
    "        ass_good_move_class=list(dict(s).items())\n",
    "\n",
    "        # if the value on the cf vertex does not change ie all assinments are the same? \n",
    "        \n",
    "        \"\"\"\n",
    "        not all classes generated in this way will give a new Ig function. But this method will exhaust them all.\n",
    "        So we just need to apply some conditions to those that do not. This is not an issue if we only focus\n",
    "        on break divisors, then we only consider cases where that value is greater that 0.\n",
    "        \"\"\"\n",
    "\n",
    "        good_move_class_per_val=(v_gb_pair,ass_good_move_class)\n",
    "        \n",
    "        good_move_classes.append(good_move_class_per_val)\n",
    "\n",
    "    return good_move_classes\n",
    "\n",
    "def saturation(graph,Assignment): #Newest\n",
    "    \n",
    "    \"\"\"\n",
    "    Objective:Takes the chip-adding saturation of a assignment (the saturation)\n",
    "    \n",
    "    #Graphs are labelled v0 to v_n-1\n",
    "    Inputs:\n",
    "        graph: Any smallish finite multigraph\n",
    "        \n",
    "        Assignment= (T,ass) tree and assignment pairs.\n",
    "    \n",
    "    Outputs: a list of lists of length vert(graph) corresponding to line bundle multidegrees obtained by chip adding.\n",
    "    \"\"\"\n",
    "    G=graph\n",
    "    \n",
    "    G_edges=G.edges(sort=True, labels=True)\n",
    "    \n",
    "    tree_edges=Assignment[0].edges()\n",
    "    ass=Assignment[1]    \n",
    "    patch=[chip_adding(G_edges,tree_edges,ass)]\n",
    "#     print(patch)\n",
    "    \n",
    "    sig=np.concatenate(patch, axis=0)\n",
    "    sig=sig.astype('int')    \n",
    "    sig=np.unique(sig, axis=0)\n",
    "\n",
    "    return sig.tolist()\n",
    "\n",
    "def good_move_induced_stabconl_per_vert(G,Ig,vrt,cf):\n",
    "    \n",
    "#     start_time = time.time()\n",
    "#     print(\"start0\")\n",
    "\n",
    "\n",
    "    \"\"\"\n",
    "    Description\n",
    "    Inputs:\n",
    "    \n",
    "    G : graph\n",
    "    Ig : list of (T,ass)\n",
    "    vrt : the [0...1...0] on the ith position. \n",
    "    cf : is the chip firing we want on vrt (on the assignments on trees in selected assignments)\n",
    "    \n",
    "    Outputs:\n",
    "    new_stab_cons : A list of (new_Ig,new_gb)\n",
    "    \"\"\"\n",
    "\n",
    "    #Init:\n",
    "    #get generalised break divs\n",
    "    csr=w_stability(G,Ig).tolist() # [[0, 0, 0, 1], [0, 0, 1, 0], [0, 1, 0, 0], [1, 0, 0, 0]]\n",
    "\n",
    "    #get dic of of (key,val) such that key = generalised break divisor b, \n",
    "    # and value is a list of (t,ass) that chip-add to give b.\n",
    "    b_sat_trees=get_break_ass_dic(G,csr,Ig)\n",
    "\n",
    "    \"\"\"\n",
    "    For each (i,[breaks..]) of gc_top (obtained by good_move_class_per_vert()).\n",
    "    Ask what are the assignments (T,ass) that chip-add to give atleast one item of (i,[breaks..]).\n",
    "    We will use these \"selected assignments\" to produce a new_Ig function after chip firing.\n",
    "    Note: Not all of those produce a \"good move class\" so we will have to check \n",
    "    (Are these assignments constant on the vertex cf?). \n",
    "    \"\"\"\n",
    "    \n",
    "#     end_time = time.time()\n",
    "#     elapsed_time = end_time - start_time\n",
    "#     print(f\" Elapsed time initialise: {elapsed_time} seconds\")\n",
    "    \n",
    "    # Here we iterate through gc_top (remember the different values on the vertes cf)\n",
    "    # to obtain \"selected assignments\" and then package the data together.\n",
    "\n",
    "#     start_time = time.time()\n",
    "#     print(\"start1\")\n",
    "\n",
    "    GM=good_move_class_per_vert(G,csr,Ig,vrt,cf,b_sat_trees)\n",
    "    \n",
    "#     # End timing\n",
    "#     end_time = time.time()\n",
    "#     # Calculate the elapsed time\n",
    "#     elapsed_time = end_time - start_time\n",
    "#     # Print the elapsed time\n",
    "#     print(f\" Elapsed time good_move_class_per_vert: {elapsed_time} seconds\")\n",
    "\n",
    "#     Given a \"good move class\" take the \"selected assignments\" and chip-fire these on CF to obtain the assignments we want to use in the new Ig.\n",
    "\n",
    "    new_stab_cons=[]\n",
    "    for gm in GM:\n",
    "        \n",
    "\n",
    "        \n",
    "#         print(\"gm\",gm,\"\\n\")\n",
    "\n",
    "        #Take the assignemnts of the \"good move class\" (still dont know if its a true good move class yet,\n",
    "        # might not give stabiltiy condition)\n",
    "\n",
    "        selected_ass=gm[1] #[(Graph on 4 vertices, [0, 0, 0, 0]), (Graph on 4 vertices, [0, 0, 0, 0])]\n",
    "\n",
    "        #Take the (T,ass) in selected_ass and convert to (T,chip firied ass by cf).\n",
    "\n",
    "        cf_selected_ass=[] # cf_selected_ass #[(Graph on 4 vertices, [-1, 0, 0, 1]), (Graph on 4 vertices, [-1, 1, 0, 0])]\n",
    "        for ass in selected_ass:\n",
    "            T,div=ass\n",
    "            cf_div=chip_fire(T.copy(immutable=False),div,cf)\n",
    "            cf_selected_ass.append((T.copy(immutable=True),cf_div))\n",
    "\n",
    "        # Build new I_G function by joining cf_selected_ass with the complement on selected_ass in base_assignments (starting Ig).\n",
    "\n",
    "        complement_ass = [ass for ass in Ig if ass not in selected_ass]\n",
    "        new_Ig=cf_selected_ass+complement_ass\n",
    "\n",
    "        \"\"\"\n",
    "        Test new I_G by taking saturation of new_Ig to get possible_new_gb \n",
    "        If possible_new_gb is correct size on top then new_gb=possible_new_gb.\n",
    "        This will give us a new stability condition.\n",
    "        \"\"\"\n",
    "\n",
    "        possible_new_gb=w_stability(G,new_Ig)\n",
    "\n",
    "        complexity=len(Ig)\n",
    "        \n",
    "#         print(Ig)\n",
    "#         print(f\"length of possible_new_gb: {possible_new_gb}\")\n",
    "        \n",
    "        if possible_new_gb.shape[0]==complexity:\n",
    "            new_gb=possible_new_gb\n",
    "            new_stab_cons.append((new_Ig,new_gb))\n",
    "            \n",
    "            print(f\"The value {gm[0]} outputs to stability condition \\n\")\n",
    "\n",
    "\n",
    "    return new_stab_cons\n",
    "\n",
    "def graph_basecase_new_stab_cons(G,vrt,cf):\n",
    "    \n",
    "    #Take break divisor case\n",
    "\n",
    "    #Init:\n",
    "    n=len(G.vertices())\n",
    "    zero_ass=[0]*n\n",
    "    Ig=[(T.copy(immutable=True),zero_ass) for T in list(G.spanning_trees()) ]    \n",
    "    \n",
    "    new_stabs_v=good_move_induced_stabconl_per_vert(G,Ig,vrt,cf)\n",
    "    \n",
    "    return new_stabs_v"
   ]
  },
  {
   "cell_type": "code",
   "execution_count": 7,
   "metadata": {},
   "outputs": [],
   "source": [
    "def vrt_cf(G,vrt_pos=0,cf_pos=0,cf_val=1):\n",
    "    \n",
    "    \"\"\"\n",
    "    Instead of writting vrt=[1,0,0,0]\n",
    "    cf=[1,0,0,0] always\n",
    "    \"\"\"\n",
    "    \n",
    "    n=len(G.vertices())\n",
    "    \n",
    "    vrt_l = [0] * n  # create a list of n zeros\n",
    "    vrt_l[vrt_pos] = 1    # set the i-th position to 1\n",
    "    \n",
    "    cf_l = [0] * n  # create a list of n zeros\n",
    "    cf_l[cf_pos] = cf_val    # set the i-th position to 1\n",
    "\n",
    "    return vrt_l,cf_l\n",
    "\n",
    "def test_g(G,vrt_pos=0,cf_pos=0):\n",
    "    \n",
    "    \n",
    "    #Asks if gives stabiltiy condition in reasonable time?\n",
    "    H=G.copy()\n",
    "    \n",
    "    # Start timing\n",
    "    start_time = time.time()\n",
    "    n=H.order()\n",
    "    \n",
    "    \n",
    "    print(f\"Number of vertices {G.order()}\")\n",
    "\n",
    "    #Inital new stabiltiy condition\n",
    "\n",
    "    vrt,cf=vrt_cf(H,vrt_pos,cf_pos)\n",
    "\n",
    "    stab_con_l=graph_basecase_new_stab_cons(H,vrt,cf)\n",
    "    \n",
    "    # End timing\n",
    "    end_time = time.time()\n",
    "\n",
    "    # Calculate the elapsed time\n",
    "    elapsed_time = end_time - start_time\n",
    "\n",
    "    # Print the elapsed time\n",
    "    print(f\"Elapsed time: {elapsed_time} seconds\")\n",
    "    \n",
    "    return stab_con_l"
   ]
  },
  {
   "cell_type": "code",
   "execution_count": 8,
   "metadata": {},
   "outputs": [],
   "source": [
    "#running over multiple test_g()\n",
    "\n",
    "def mult_initializer(G):\n",
    "    #Takes a long time for large graphs.\n",
    "\n",
    "    \"\"\"\n",
    "    To prevent repeated calculation when running over test_g(i,i).\n",
    "\n",
    "    \"\"\"\n",
    "\n",
    "    #Init:\n",
    "    n=len(G.vertices())\n",
    "    zero_ass=[0]*n\n",
    "    Ig=[(T.copy(immutable=True),zero_ass) for T in list(G.spanning_trees()) ]   \n",
    "\n",
    "\n",
    "    #get generalised break divs\n",
    "    csr_o=w_stability(G,Ig).tolist() # [[0, 0, 0, 1], [0, 0, 1, 0], [0, 1, 0, 0], [1, 0, 0, 0]]\n",
    "\n",
    "    #get dic of of (key,val) such that key = generalised break divisor b, \n",
    "    # and value is a list of (t,ass) that chip-add to give b.\n",
    "    b_sat_trees_o=get_break_ass_dic(G,csr_o,Ig)\n",
    "\n",
    "    return Ig,csr_o,b_sat_trees_o\n",
    "    \n",
    "\n",
    "def mult_good_move_induced_stabconl_per_vert(G,csr,b_sat_trees,Ig,vrt,cf):\n",
    "    \n",
    "\n",
    "    \"\"\"\n",
    "    Description\n",
    "    Inputs:\n",
    "    \n",
    "    G : graph\n",
    "    Ig : list of (T,ass)\n",
    "    vrt : the [0...1...0] on the ith position. \n",
    "    cf : is the chip firing we want on vrt (on the assignments on trees in selected assignments)\n",
    "    \n",
    "    Outputs:\n",
    "    new_stab_cons : A list of (new_Ig,new_gb)\n",
    "    \"\"\"\n",
    "\n",
    "\n",
    "\n",
    "    \"\"\"\n",
    "    For each (i,[breaks..]) of gc_top (obtained by good_move_class_per_vert()).\n",
    "    Ask what are the assignments (T,ass) that chip-add to give atleast one item of (i,[breaks..]).\n",
    "    We will use these \"selected assignments\" to produce a new_Ig function after chip firing.\n",
    "    Note: Not all of those produce a \"good move class\" so we will have to check \n",
    "    (Are these assignments constant on the vertex cf?). \n",
    "    \"\"\"\n",
    "    \n",
    "    # Here we iterate through gc_top (remember the different values on the vertes cf)\n",
    "    # to obtain \"selected assignments\" and then package the data together.\n",
    "\n",
    "\n",
    "    GM=good_move_class_per_vert(G,csr,Ig,vrt,cf,b_sat_trees)\n",
    "    \n",
    "\n",
    "\n",
    "#     Given a \"good move class\" take the \"selected assignments\" and chip-fire these on CF to obtain the assignments we want to use in the new Ig.\n",
    "\n",
    "    new_stab_cons=[]\n",
    "    for gm in GM:\n",
    "        #Take the assignemnts of the \"good move class\" (still dont know if its a true good move class yet,\n",
    "        # might not give stabiltiy condition)\n",
    "\n",
    "        selected_ass=gm[1] #[(Graph on 4 vertices, [0, 0, 0, 0]), (Graph on 4 vertices, [0, 0, 0, 0])]\n",
    "\n",
    "        #Take the (T,ass) in selected_ass and convert to (T,chip firied ass by cf).\n",
    "\n",
    "        cf_selected_ass=[] # cf_selected_ass #[(Graph on 4 vertices, [-1, 0, 0, 1]), (Graph on 4 vertices, [-1, 1, 0, 0])]\n",
    "        for ass in selected_ass:\n",
    "            T,div=ass\n",
    "            cf_div=chip_fire(T.copy(immutable=False),div,cf)\n",
    "            cf_selected_ass.append((T.copy(immutable=True),cf_div))\n",
    "\n",
    "        # Build new I_G function by joining cf_selected_ass with the complement on selected_ass in base_assignments (starting Ig).\n",
    "\n",
    "        complement_ass = [ass for ass in Ig if ass not in selected_ass]\n",
    "        new_Ig=cf_selected_ass+complement_ass\n",
    "\n",
    "        \"\"\"\n",
    "        Test new I_G by taking saturation of new_Ig to get possible_new_gb \n",
    "        If possible_new_gb is correct size on top then new_gb=possible_new_gb.\n",
    "        This will give us a new stability condition.\n",
    "        \"\"\"\n",
    "\n",
    "        possible_new_gb=w_stability(G,new_Ig)\n",
    "\n",
    "        complexity=len(Ig)\n",
    "        \n",
    "        if possible_new_gb.shape[0]==complexity:\n",
    "            new_gb=possible_new_gb\n",
    "            new_stab_cons.append((new_Ig,new_gb))\n",
    "            \n",
    "            print(f\"The value {gm[0]} outputs to stability condition \\n\")\n",
    "\n",
    "\n",
    "    return new_stab_cons\n",
    "\n",
    "def mult_test_g(G,csr,b_sat_trees,Ig,vrt_pos=0,cf_pos=0):#done for now\n",
    "    \n",
    "    \n",
    "    #Asks if gives stabiltiy condition in reasonable time?\n",
    "    H=G.copy()\n",
    "    \n",
    "    # Start timing\n",
    "    start_time = time.time()\n",
    "    n=H.order()\n",
    "    \n",
    "    \n",
    "    print(f\"Number of vertices {G.order()}\")\n",
    "\n",
    "    #Inital new stabiltiy condition\n",
    "\n",
    "    vrt,cf=vrt_cf(H,vrt_pos,cf_pos)\n",
    "\n",
    "    stab_con_l=mult_good_move_induced_stabconl_per_vert(H,csr,b_sat_trees,Ig,vrt,cf)\n",
    "    \n",
    "    # End timing\n",
    "    end_time = time.time()\n",
    "\n",
    "    # Calculate the elapsed time\n",
    "    elapsed_time = end_time - start_time\n",
    "\n",
    "    # Print the elapsed time\n",
    "    print(f\"Elapsed time: {elapsed_time} seconds\")\n",
    "    \n",
    "    return stab_con_l\n",
    "\n",
    "#running large graphs get stabilities near break divisor case.\n",
    "def run_all_verts(g):\n",
    "    \n",
    "    start_time = time.time()\n",
    "    Ig,csr,b_sat_trees=mult_initializer(g)\n",
    "    end_time = time.time()\n",
    "    elapsed_time = end_time - start_time\n",
    "    print(f\"Elapsed time: mult_initializer : {elapsed_time} seconds\")\n",
    "\n",
    "    stab_l=[]\n",
    "    for vrt in range(g.order()):\n",
    "        stab_l.extend(mult_test_g(g,csr,b_sat_trees,Ig,vrt,vrt))\n",
    "    con_stab_l=convert_format(stab_l)\n",
    "    \n",
    "    return con_stab_l"
   ]
  },
  {
   "cell_type": "code",
   "execution_count": null,
   "metadata": {},
   "outputs": [],
   "source": [
    "def reapply(G,stab_con_l,vrt,cf,pos=0):\n",
    "    \n",
    "    ## Non-trivial stability conditions to non-trivial stability conditions by good move.\n",
    "    \n",
    "    #No longer in the base case.\n",
    "    \n",
    "    # Get list of stab conditions for any stability conditions from a list of stab conditions from previous case.\n",
    "\n",
    "    \n",
    "    stab_con=stab_con_l[pos]\n",
    "\n",
    "    new_stab_Ig=stab_con[0]\n",
    "\n",
    "    new_stabs_v=good_move_induced_stabconl_per_vert(G,new_stab_Ig,vrt,cf)\n",
    "    \n",
    "    return new_stabs_v"
   ]
  },
  {
   "cell_type": "code",
   "execution_count": 10,
   "metadata": {},
   "outputs": [],
   "source": [
    "def save_data(graphname,stab_l):\n",
    "    # Pickle the list\n",
    "    filename=f\"examples/{graphname}.pkl\"\n",
    "    with open(filename, 'wb') as f:\n",
    "        pickle.dump(stab_l, f)\n",
    "    return\n",
    "\n",
    "def load_data(graphname):\n",
    "    # Unpickle the list\n",
    "    filename=f\"examples/{graphname}.pkl\"\n",
    "    with open(filename, 'rb') as f:\n",
    "        unpickled_list = pickle.load(f)\n",
    "    return unpickled_list"
   ]
  },
  {
   "cell_type": "code",
   "execution_count": null,
   "metadata": {},
   "outputs": [],
   "source": []
  },
  {
   "cell_type": "markdown",
   "metadata": {
    "jp-MarkdownHeadingCollapsed": true,
    "tags": []
   },
   "source": [
    "## Given a chip firings obtain a new stabiltiy condition for I3 graph <a name=\"s33\"></a>"
   ]
  },
  {
   "cell_type": "code",
   "execution_count": 11,
   "metadata": {
    "tags": []
   },
   "outputs": [],
   "source": [
    "\n",
    "def get_new_CSR(G,CF):\n",
    "    \n",
    "    \"\"\"\n",
    "    Applies each cf in CF to a break is CSR (in order), returns new_CSR\n",
    "    \"\"\"\n",
    "    \n",
    "    n=len(G.vertices())\n",
    "\n",
    "    zero_ass=[0]*n\n",
    "    base_assignments=[(T,zero_ass) for T in list(G.spanning_trees()) ]\n",
    "\n",
    "    #Break divisors:\n",
    "    B=w_stability(G,base_assignments).tolist() # list\n",
    "\n",
    "    #We will use w_stability again to check if a proposed IG gives our CSR.\n",
    "    \n",
    "    paired=zip(B,CF)\n",
    "    # print(list(paired))\n",
    "\n",
    "    #We build new csr.\n",
    "    S=[]\n",
    "    for D,C in paired:\n",
    "        s=chip_fire(G,D,C)\n",
    "        S.append(s)\n",
    "        \n",
    "    csr=S\n",
    "    \n",
    "    return csr\n",
    "\n",
    "def get_breaks_T(G):\n",
    "    \n",
    "    \"\"\"\n",
    "    Obj:Get the set of break divisors B_T for each T\n",
    "\n",
    "    Input:\n",
    "    Output: a dictionary of Tree:list of break divisors b where b is np.array\n",
    "    \n",
    "    {Graph on 3 vertices: [array([0., 1., 0.]), array([1., 0., 0.])],\n",
    "     Graph on 3 vertices: [array([0., 0., 1.]), array([1., 0., 0.])],\n",
    "     Graph on 3 vertices: [array([0., 0., 1.]), array([0., 1., 0.])]}\n",
    "    \"\"\"\n",
    "    n=len(G.vertices())\n",
    "    zero_ass=[0]*n\n",
    "    breaks_T={}\n",
    "\n",
    "    G_edges=G.edges(sort=True, labels=True)\n",
    "\n",
    "    for T in list(G.spanning_trees()):\n",
    "        B_T=chip_adding(G_edges,T.edges(),zero_ass) #list of break divisors for T.\n",
    "\n",
    "        breaks_T[T.copy(immutable=True)]=B_T\n",
    "    return breaks_T    \n",
    "\n",
    "def get_Ass_G(G,S,breaks_T):\n",
    "    \n",
    "    \"\"\"\n",
    "    Obj:\n",
    "    Input:\n",
    "    Returns: dictionary of \n",
    "    \"\"\"\n",
    "\n",
    "    #get $Ass_{G}(T)$\n",
    "    \n",
    "    #So we can use set notation.\n",
    "    S=[tuple(s) for s in S]#S is a list of nparray\n",
    "\n",
    "\n",
    "    Ass_G={}\n",
    "    for T in list(G.spanning_trees()):\n",
    "        #get break divisors for G wrt to T\n",
    "        breaks=breaks_T[T.copy(immutable=True)]\n",
    "        \n",
    "        #Get all possible Ig(T) values    \n",
    "        candidates=[]\n",
    "        for D in S:\n",
    "            for b in breaks:\n",
    "                candidates.append(D-b)\n",
    "\n",
    "        # Refine candidates to ensure CA(E) contained in S\n",
    "        refined_candidates=[]\n",
    "        for cand in candidates:\n",
    "\n",
    "            #Generate Ca(E)\n",
    "            check=set()\n",
    "            for b in breaks:\n",
    "                s=cand+b\n",
    "                check.add(tuple(s))\n",
    "                \n",
    "            if check.issubset(S):\n",
    "                refined_candidates.append(cand)\n",
    "\n",
    "        Ass_G[T.copy(immutable=True)]=refined_candidates\n",
    "    # We can get multiple repetitions in values for each tree as these are not sets.\n",
    "    Ass_G_as_set = {k: np.unique(v, axis=0).tolist() for k, v in Ass_G.items()}\n",
    "\n",
    "    return Ass_G_as_set\n",
    "\n",
    "def get_all_choices_of_assignments(Ass_G):\n",
    "\n",
    "    \"\"\"\n",
    "    Input: Ass_G is a dictionary of possible Ig values\n",
    "    May be large.\n",
    "    returns: possible a list of choices of assignments of the form \n",
    "    [(Graph on 3 vertices, [0.0, 0.0, 0.0]), (Graph on 3 vertices, [0.0, 1.0, -1.0]), (Graph on 3 vertices, [1.0, 0.0, -1.0])]\n",
    "    \"\"\"\n",
    "    choices = []\n",
    "\n",
    "    for combination in itertools.product(*Ass_G.values()):\n",
    "        choices.append([(key, value) for key, value in zip(Ass_G.keys(), combination)])\n",
    "    return choices\n",
    "\n",
    "def get_Ig(choices):\n",
    "    \n",
    "    \"\"\"\n",
    "    Obj:\n",
    "    Input:\n",
    "    Output:\n",
    "    A: the choice of assignments list of form (T,ass_t)\n",
    "    CA_A_set_t: a set of divisors of degree g i.e. S \n",
    "    \"\"\"\n",
    "    \n",
    "    for A in choices:\n",
    "\n",
    "        #We now take the chip-adding saturation of A\n",
    "    #   and check if A gives back S\n",
    "\n",
    "        S_better_form = np.array(S, dtype=np.int32)\n",
    "        CA_A=w_stability(G,A)\n",
    "\n",
    "        #we put CA_A and S into a set of tuples format. \n",
    "\n",
    "        CA_A_set_t=set([tuple(i) for i in CA_A.tolist()])\n",
    "        S_set_t=set([tuple(i) for i in S])\n",
    "\n",
    "        if CA_A_set_t==S_set_t:\n",
    "            #if true returns A ie. IG function.\n",
    "            return A,CA_A_set_t\n",
    "    return None"
   ]
  },
  {
   "cell_type": "code",
   "execution_count": null,
   "metadata": {},
   "outputs": [],
   "source": []
  },
  {
   "cell_type": "code",
   "execution_count": null,
   "metadata": {},
   "outputs": [],
   "source": []
  },
  {
   "cell_type": "code",
   "execution_count": null,
   "metadata": {},
   "outputs": [],
   "source": [
    "wheel_graph_family:\n",
    "\n",
    "graphname=\"Wheel_4\"\n",
    "# g=Graph([('0', '1'), ('0', '2'), ('0', '3'), ('1', '2'), ('1', '3'), ('2', '3')], multiedges=True)\n",
    "\n",
    "graphname=\"Wheel_5\"\n",
    "# g=Graph([('0', '1'), ('0', '2'), ('0', '3'), ('0', '4'), ('1', '2'), ('1', '4'), ('2', '3'), ('3', '4')], multiedges=True)\n",
    "\n",
    "graphname=\"Wheel_6\"\n",
    "# g=Graph([('0', '1'), ('0', '2'), ('0', '3'), ('0', '4'), ('0', '5'), ('1', '2'), ('1', '5'), ('2', '3'), ('3', '4'), ('4', '5')], multiedges=True)\n",
    "\n",
    "graphname=\"Wheel_7\"\n",
    "g=Graph([('0', '1'), ('0', '2'), ('0', '3'), ('0', '4'), ('0', '5'), ('1', '2'), ('1', '5'), ('2', '3'), ('3', '4'), ('4', '5')], multiedges=True)\n",
    "\n",
    "complete_bipartite_graph_family:\n",
    "\n",
    "graphname=\"K24\"\n",
    "g=Graph([('0', '2'), ('0', '3'), ('0', '4'), ('0', '5'), ('1', '2'), ('1', '3'), ('1', '4'), ('1', '5')], multiedges=True)\n",
    "\n",
    "graphname=\"K25\"\n",
    "g=Graph([('0', '2'), ('0', '3'), ('0', '4'), ('0', '5'), ('0', '6'), ('1', '2'), ('1', '3'), ('1', '4'), ('1', '5'), ('1', '6')], multiedges=True)\n",
    "\n",
    "graphname=\"K33\"\n",
    "g=Graph([('0', '3'), ('0', '4'), ('0', '5'), ('1', '3'), ('1', '4'), ('1', '5'), ('2', '3'), ('2', '4'), ('2', '5')], multiedges=True)\n",
    "\n",
    "graphname=\"K34\"\n",
    "g=Graph([('0', '3'), ('0', '4'), ('0', '5'), ('0', '6'), ('1', '3'), ('1', '4'), ('1', '5'), ('1', '6'), ('2', '3'), ('2', '4'), ('2', '5'), ('2', '6')], multiedges=True)\n",
    "\n",
    "complete_graph_family:\n",
    "\n",
    "graphname=\"K5\"\n",
    "g=Graph([('0', '1'), ('0', '2'), ('0', '3'), ('0', '4'), ('1', '2'), ('1', '3'), ('1', '4'), ('2', '3'), ('2', '4'), ('3', '4')], multiedges=True)\n",
    "\n",
    "graphname=\"K6\"\n",
    "g=Graph([('0', '1'), ('0', '2'), ('0', '3'), ('0', '4'), ('0', '5'), ('1', '2'), ('1', '3'), ('1', '4'), ('1', '5'), ('2', '3'), ('2', '4'), ('2', '5'), ('3', '4'), ('3', '5'), ('4', '5')], multiedges=True)\n",
    "\n",
    "\n",
    "Larger graphs:\n",
    "\n",
    "\n",
    "graphname=\"MoserSpindle\"\n",
    "g=Graph([('0', '1'), ('0', '4'), ('0', '6'), ('1', '2'), ('1', '5'), ('2', '3'), ('2', '5'), ('3', '4'), ('3', '5'), ('3', '6'), ('4', '6')], multiedges=True)\n",
    "\n",
    "\n",
    "graphname=\"petersen_family_1\"\n",
    "g=Graph([('0', '1'), ('0', '4'), ('0', '5'), ('1', '2'), ('1', '6'), ('2', '3'), ('2', '7'), ('3', '4'), ('3', '8'), ('4', '9'), ('5', '7'), ('5', '8'), ('6', '8'), ('6', '9'), ('7', '9')], multiedges=True)\n",
    "\n",
    "\n"
   ]
  },
  {
   "cell_type": "code",
   "execution_count": 14,
   "metadata": {},
   "outputs": [
    {
     "ename": "SyntaxError",
     "evalue": "invalid syntax (<ipython-input-14-33b4f3486bb7>, line 1)",
     "output_type": "error",
     "traceback": [
      "\u001b[0;36m  File \u001b[0;32m\"<ipython-input-14-33b4f3486bb7>\"\u001b[0;36m, line \u001b[0;32m1\u001b[0m\n\u001b[0;31m    wheel_graph_family:\u001b[0m\n\u001b[0m                       ^\u001b[0m\n\u001b[0;31mSyntaxError\u001b[0m\u001b[0;31m:\u001b[0m invalid syntax\n"
     ]
    }
   ],
   "source": [
    "wheel_graph_family:\n",
    "\n",
    "graphname=\"Wheel_4\"\n",
    "# g=Graph([('0', '1'), ('0', '2'), ('0', '3'), ('1', '2'), ('1', '3'), ('2', '3')], multiedges=True)\n",
    "\n",
    "graphname=\"Wheel_5\"\n",
    "# g=Graph([('0', '1'), ('0', '2'), ('0', '3'), ('0', '4'), ('1', '2'), ('1', '4'), ('2', '3'), ('3', '4')], multiedges=True)\n",
    "\n",
    "graphname=\"Wheel_6\"\n",
    "# g=Graph([('0', '1'), ('0', '2'), ('0', '3'), ('0', '4'), ('0', '5'), ('1', '2'), ('1', '5'), ('2', '3'), ('3', '4'), ('4', '5')], multiedges=True)\n",
    "\n",
    "graphname=\"Wheel_7\"\n",
    "g=Graph([('0', '1'), ('0', '2'), ('0', '3'), ('0', '4'), ('0', '5'), ('1', '2'), ('1', '5'), ('2', '3'), ('3', '4'), ('4', '5')], multiedges=True)\n",
    "\n",
    "complete_bipartite_graph_family:\n",
    "\n",
    "graphname=\"K24\"\n",
    "g=Graph([('0', '2'), ('0', '3'), ('0', '4'), ('0', '5'), ('1', '2'), ('1', '3'), ('1', '4'), ('1', '5')], multiedges=True)\n",
    "\n",
    "graphname=\"K25\"\n",
    "g=Graph([('0', '2'), ('0', '3'), ('0', '4'), ('0', '5'), ('0', '6'), ('1', '2'), ('1', '3'), ('1', '4'), ('1', '5'), ('1', '6')], multiedges=True)\n",
    "\n",
    "graphname=\"K33\"\n",
    "g=Graph([('0', '3'), ('0', '4'), ('0', '5'), ('1', '3'), ('1', '4'), ('1', '5'), ('2', '3'), ('2', '4'), ('2', '5')], multiedges=True)\n",
    "\n",
    "graphname=\"K34\"\n",
    "g=Graph([('0', '3'), ('0', '4'), ('0', '5'), ('0', '6'), ('1', '3'), ('1', '4'), ('1', '5'), ('1', '6'), ('2', '3'), ('2', '4'), ('2', '5'), ('2', '6')], multiedges=True)\n",
    "\n",
    "complete_graph_family:\n",
    "\n",
    "graphname=\"K5\"\n",
    "g=Graph([('0', '1'), ('0', '2'), ('0', '3'), ('0', '4'), ('1', '2'), ('1', '3'), ('1', '4'), ('2', '3'), ('2', '4'), ('3', '4')], multiedges=True)\n",
    "\n",
    "graphname=\"K6\"\n",
    "g=Graph([('0', '1'), ('0', '2'), ('0', '3'), ('0', '4'), ('0', '5'), ('1', '2'), ('1', '3'), ('1', '4'), ('1', '5'), ('2', '3'), ('2', '4'), ('2', '5'), ('3', '4'), ('3', '5'), ('4', '5')], multiedges=True)\n",
    "\n",
    "\n",
    "Larger graphs:\n",
    "\n",
    "\n",
    "graphname=\"MoserSpindle\"\n",
    "g=Graph([('0', '1'), ('0', '4'), ('0', '6'), ('1', '2'), ('1', '5'), ('2', '3'), ('2', '5'), ('3', '4'), ('3', '5'), ('3', '6'), ('4', '6')], multiedges=True)\n",
    "\n",
    "\n",
    "graphname=\"petersen_family_1\"\n",
    "g=Graph([('0', '1'), ('0', '4'), ('0', '5'), ('1', '2'), ('1', '6'), ('2', '3'), ('2', '7'), ('3', '4'), ('3', '8'), ('4', '9'), ('5', '7'), ('5', '8'), ('6', '8'), ('6', '9'), ('7', '9')], multiedges=True)\n",
    "\n",
    "\n"
   ]
  },
  {
   "cell_type": "code",
   "execution_count": 15,
   "metadata": {},
   "outputs": [],
   "source": [
    "g=Graph([('0', '1'), ('0', '4'), ('0', '5'), ('1', '2'), ('1', '6'), ('2', '3'), ('2', '7'), ('3', '4'), ('3', '8'), ('4', '9'), ('5', '7'), ('5', '8'), ('6', '8'), ('6', '9'), ('7', '9')], multiedges=True)\n",
    "l=[g]"
   ]
  },
  {
   "cell_type": "code",
   "execution_count": 1,
   "metadata": {},
   "outputs": [],
   "source": [
    "# Wheel Graph Family\n",
    "wheel_graphs=[]\n",
    "for i in [4,5,6,7]:\n",
    "    g=graphs.WheelGraph(i)\n",
    "    wheel_graphs.append(g)"
   ]
  },
  {
   "cell_type": "code",
   "execution_count": 2,
   "metadata": {},
   "outputs": [],
   "source": [
    "# Complete Bipartite Graph Family\n",
    "complete_bipartite_graphs = []\n",
    "complete_bipartite_graphs.append(graphs.CompleteBipartiteGraph(2, 4))\n",
    "complete_bipartite_graphs.append(graphs.CompleteBipartiteGraph(2, 5))\n",
    "complete_bipartite_graphs.append(graphs.CompleteBipartiteGraph(3, 3))\n",
    "complete_bipartite_graphs.append(graphs.CompleteBipartiteGraph(3, 4))\n",
    "\n",
    "# Complete Graph Family\n",
    "complete_graphs = []\n",
    "complete_graphs.append(graphs.CompleteGraph(5))\n",
    "\n",
    "# Larger Graphs\n",
    "larger_graphs = []\n",
    "larger_graphs.append(graphs.MoserSpindle())"
   ]
  },
  {
   "cell_type": "code",
   "execution_count": 6,
   "metadata": {},
   "outputs": [],
   "source": [
    "# List of all graphs\n",
    "glist = wheel_graphs + complete_bipartite_graphs + complete_graphs + larger_graphs"
   ]
  },
  {
   "cell_type": "code",
   "execution_count": 10,
   "metadata": {},
   "outputs": [
    {
     "data": {
      "image/png": "[encoded data removed]",
      "text/plain": [
       "Graphics Array of size 3 x 4"
      ]
     },
     "metadata": {},
     "output_type": "display_data"
    },
    {
     "name": "stdout",
     "output_type": "stream",
     "text": [
      "WheelGraph(4) \n",
      " WheelGraph(5) \n",
      " WheelGraph(6) \n",
      " WheelGraph(7) \n",
      " CompleteBipartiteGraph(2, 4) \n",
      " CompleteBipartiteGraph(2, 5) \n",
      " CompleteBipartiteGraph(3, 3) \n",
      " CompleteBipartiteGraph(3, 4) \n",
      " CompleteGraph(5) \n",
      " MoserSpindle \n",
      " \n"
     ]
    }
   ],
   "source": [
    "# glist = []\n",
    "# for i in range(len(glist)):\n",
    "\n",
    "garray = graphs_list.to_graphics_array(glist)\n",
    "garray.nrows(), garray.ncols()\n",
    "graphs_list.show_graphs(glist)\n",
    "\n",
    "print(f\"WheelGraph(4) \\n WheelGraph(5) \\n WheelGraph(6) \\n WheelGraph(7) \\n CompleteBipartiteGraph(2, 4) \\n CompleteBipartiteGraph(2, 5) \\n CompleteBipartiteGraph(3, 3) \\n CompleteBipartiteGraph(3, 4) \\n CompleteGraph(5) \\n MoserSpindle \\n \")"
   ]
  },
  {
   "cell_type": "code",
   "execution_count": null,
   "metadata": {},
   "outputs": [],
   "source": []
  }
 ],
 "metadata": {
  "kernelspec": {
   "display_name": "Python 3",
   "language": "python",
   "name": "python3"
  },
  "language_info": {
   "codemirror_mode": {
    "name": "ipython",
    "version": 3
   },
   "file_extension": ".py",
   "mimetype": "text/x-python",
   "name": "python",
   "nbconvert_exporter": "python",
   "pygments_lexer": "ipython3",
   "version": "3.7.7"
  }
 },
 "nbformat": 4,
 "nbformat_minor": 5
}
