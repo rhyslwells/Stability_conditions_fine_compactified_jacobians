{
 "cells": [
  {
   "cell_type": "markdown",
   "metadata": {
    "tags": []
   },
   "source": [
    "# Overview"
   ]
  },
  {
   "cell_type": "markdown",
   "metadata": {},
   "source": [
    "For each assignment data stored in \\Graph\\find_cycles\\examples\\graphname\\graphname.pkl\n",
    "\n",
    "we produce \\Graph\\find_cycles\\Done_examples\\graphname\\graphname.txt and .pkl\n",
    "\n",
    "which stores the data of the cycle on each subgraph T \\cup e of each weak stability condition b(y undoing the process we used to get all assignments)."
   ]
  },
  {
   "cell_type": "markdown",
   "metadata": {
    "jp-MarkdownHeadingCollapsed": true,
    "tags": []
   },
   "source": [
    "# Table of contents\n",
    "\n",
    "1. [Functions](#s1)\n",
    "    1. [Load data: Initialisation: get assignment data for a given subgraph](#s11)\n",
    "    2. [Remove tails of trees in subg](#s12)\n",
    "    3. [Relabel trees to In format using common_tree](#s13)\n",
    "    4. [Translate all assignments in subg_datum by common_tree_ass so that for common_tree_ass=0](#s14)\n",
    "    5. [Remove components from vertices of tail of subg from assignments of trees in subg](#s15)\n",
    "    6. [get_Im_data: Put all above functions together now](#s16)\n",
    "    7. [Check against g=1 case](#s17)\n",
    "    8. [Put cycles into correct format wrt G edge labeling](#s18)\n",
    "    9. [Running over all cases for a given graph](#s19)\n",
    "    10. [Saving data](#s10)\n",
    "2. [Determine the cycles for the following](#s2)"
   ]
  },
  {
   "cell_type": "markdown",
   "metadata": {
    "tags": []
   },
   "source": [
    "# Functions <a name=\"s1\"></a>"
   ]
  },
  {
   "cell_type": "markdown",
   "metadata": {
    "tags": [],
    "toc-hr-collapsed": true
   },
   "source": [
    "## Load data: Initialisation: get assignment data for a given subgraph<a name=\"s11\"></a>"
   ]
  },
  {
   "cell_type": "code",
   "execution_count": 7,
   "metadata": {
    "tags": []
   },
   "outputs": [],
   "source": [
    "def get_subgraphs_gm1_Edgesmissing(G):\n",
    "    \n",
    "    #Get all spanning subgraphs, on row above trees specifically, $\\tilde{\\Gamma}_{g-1}$.\n",
    "    #returns a list of such subg\n",
    "    \n",
    "    edge_num_G=len(G.edges())\n",
    "    vert_num_G=len(G.vertices())\n",
    "    g=edge_num_G-vert_num_G+1\n",
    "    gm1=g-1\n",
    "\n",
    "    E=Set(G.edges()) #remeber possibly mulitgraph\n",
    "    V=G.vertices()\n",
    "\n",
    "    graphs_i_want=[]\n",
    "    for s in E.subsets():\n",
    "        if len(s)==edge_num_G-gm1: # edge_num_G-gm1number of edges of these subgraphs.\n",
    "            H=Graph(multiedges=True)\n",
    "            H.add_edges( s )\n",
    "            H.add_vertices( V )        # are interested only in spanning subgraphs\n",
    "            if H.is_connected(): #Want connected subgraphs\n",
    "                graphs_i_want.append(H)\n",
    "    return graphs_i_want"
   ]
  },
  {
   "cell_type": "code",
   "execution_count": 8,
   "metadata": {
    "tags": []
   },
   "outputs": [],
   "source": [
    "def unpickle_assignment_datum(graphname):\n",
    "    # Unpickle the list\n",
    "    filename=f\"examples/{graphname}/{graphname}.pkl\"\n",
    "    with open(filename, 'rb') as f:\n",
    "        unpickled_list = pickle.load(f)\n",
    "    return unpickled_list"
   ]
  },
  {
   "cell_type": "code",
   "execution_count": 9,
   "metadata": {
    "tags": []
   },
   "outputs": [],
   "source": [
    "def get_tree_ass_data(ass_datum,ordering_trees):\n",
    "    #Take only the assignment data for all\n",
    "    ass_data_only=[data[0] for data in ass_datum]\n",
    "\n",
    "    #Attach to each assignment the appropriate tree for all wsc.\n",
    "    assignment_data_all=[]\n",
    "    for wsc_ass_data in ass_data_only:\n",
    "        #wsc_ass_data is a list of assignments for each tree, and which determines a weak stab con after chip-adding\n",
    "        temp_data=[]\n",
    "        for index,ass in enumerate(wsc_ass_data):\n",
    "            temp_data.append((ordering_trees[index],ass))\n",
    "        assignment_data_all.append(temp_data) \n",
    "    return assignment_data_all"
   ]
  },
  {
   "cell_type": "code",
   "execution_count": 10,
   "metadata": {},
   "outputs": [
    {
     "ename": "NameError",
     "evalue": "name 'find_functions_used_l' is not defined",
     "output_type": "error",
     "traceback": [
      "\u001b[0;31m---------------------------------------------------------------------------\u001b[0m",
      "\u001b[0;31mNameError\u001b[0m                                 Traceback (most recent call last)",
      "\u001b[0;32m<ipython-input-10-86c50ed66228>\u001b[0m in \u001b[0;36m<module>\u001b[0;34m\u001b[0m\n\u001b[1;32m      1\u001b[0m \u001b[0ml\u001b[0m \u001b[0;34m=\u001b[0m \u001b[0;34m[\u001b[0m\u001b[0mget_subgraphs_gm1_Edgesmissing\u001b[0m\u001b[0;34m,\u001b[0m \u001b[0munpickle_assignment_datum\u001b[0m\u001b[0;34m,\u001b[0m \u001b[0mget_tree_ass_data\u001b[0m\u001b[0;34m]\u001b[0m\u001b[0;34m\u001b[0m\u001b[0;34m\u001b[0m\u001b[0m\n\u001b[0;32m----> 2\u001b[0;31m \u001b[0mfind_functions_used_l\u001b[0m\u001b[0;34m(\u001b[0m\u001b[0ml\u001b[0m\u001b[0;34m)\u001b[0m\u001b[0;34m\u001b[0m\u001b[0;34m\u001b[0m\u001b[0m\n\u001b[0m",
      "\u001b[0;31mNameError\u001b[0m: name 'find_functions_used_l' is not defined"
     ]
    }
   ],
   "source": [
    "l = [get_subgraphs_gm1_Edgesmissing, unpickle_assignment_datum, get_tree_ass_data]\n",
    "find_functions_used_l(l)"
   ]
  },
  {
   "cell_type": "markdown",
   "metadata": {
    "tags": [],
    "toc-hr-collapsed": true
   },
   "source": [
    "## Remove tails of trees in subg<a name=\"s12\"></a>"
   ]
  },
  {
   "cell_type": "code",
   "execution_count": 11,
   "metadata": {
    "tags": []
   },
   "outputs": [],
   "source": [
    "def get_tails(subg):\n",
    "    #tails = edges with vertices outside of subnecklace. \n",
    "    #return multigraph of tails after removing edges of subnecklace.\n",
    "\n",
    "    subg_edges=subg.edges()\n",
    "    #Subnecklace edges\n",
    "    [edges_subnecklace]=subg.cycle_basis(output='edge')\n",
    "\n",
    "    #Get tails\n",
    "    tails_subg=copy(subg)\n",
    "    tails_subg.delete_edges(edges_subnecklace) #order of the edges must matter.\n",
    "\n",
    "    return tails_subg"
   ]
  },
  {
   "cell_type": "code",
   "execution_count": 12,
   "metadata": {
    "tags": []
   },
   "outputs": [],
   "source": [
    "def remove_discon_verts(G):\n",
    "    isolated = [v for v in G.vertices() if G.degree(v) == 0]\n",
    "    G.delete_vertices(isolated)\n",
    "    return G"
   ]
  },
  {
   "cell_type": "code",
   "execution_count": 13,
   "metadata": {
    "tags": []
   },
   "outputs": [],
   "source": [
    "def remove_tails_tree_of_subg(data,tails):#For get_ass_trees_subg\n",
    "    \"\"\"\n",
    "    Obj:For the trees of subg we remove the tails of the subgraph relative to the subnecklace (dont bother assingments yet).\n",
    "    Return: list of (T,assT) where T does not have tails of subg.\n",
    "    \"\"\"\n",
    "    temp_data =[] # temp_data for subnecklace.\n",
    "    for d in data: #data of In assignments (tree,ass) pairs\n",
    "        tree_subg=copy(d[0])\n",
    "        tree_subg.delete_edges(tails.edges())\n",
    "        tree_subg=remove_discon_verts(tree_subg)\n",
    "        temp_data.append((tree_subg,d[1]))\n",
    "    return temp_data"
   ]
  },
  {
   "cell_type": "code",
   "execution_count": 14,
   "metadata": {},
   "outputs": [
    {
     "ename": "NameError",
     "evalue": "name 'find_functions_used_l' is not defined",
     "output_type": "error",
     "traceback": [
      "\u001b[0;31m---------------------------------------------------------------------------\u001b[0m",
      "\u001b[0;31mNameError\u001b[0m                                 Traceback (most recent call last)",
      "\u001b[0;32m<ipython-input-14-f7cf083f6011>\u001b[0m in \u001b[0;36m<module>\u001b[0;34m\u001b[0m\n\u001b[1;32m      1\u001b[0m \u001b[0ml\u001b[0m \u001b[0;34m=\u001b[0m \u001b[0;34m[\u001b[0m\u001b[0mget_tails\u001b[0m\u001b[0;34m,\u001b[0m \u001b[0mremove_discon_verts\u001b[0m\u001b[0;34m,\u001b[0m \u001b[0mremove_tails_tree_of_subg\u001b[0m\u001b[0;34m]\u001b[0m\u001b[0;34m\u001b[0m\u001b[0;34m\u001b[0m\u001b[0m\n\u001b[0;32m----> 2\u001b[0;31m \u001b[0mfind_functions_used_l\u001b[0m\u001b[0;34m(\u001b[0m\u001b[0ml\u001b[0m\u001b[0;34m)\u001b[0m\u001b[0;34m\u001b[0m\u001b[0;34m\u001b[0m\u001b[0m\n\u001b[0m",
      "\u001b[0;31mNameError\u001b[0m: name 'find_functions_used_l' is not defined"
     ]
    }
   ],
   "source": [
    "l = [get_tails, remove_discon_verts, remove_tails_tree_of_subg]\n",
    "find_functions_used_l(l)"
   ]
  },
  {
   "cell_type": "markdown",
   "metadata": {
    "tags": [],
    "toc-hr-collapsed": true
   },
   "source": [
    "## Relabel trees to In format using common_tree <a name=\"s13\"></a>"
   ]
  },
  {
   "cell_type": "code",
   "execution_count": 15,
   "metadata": {
    "tags": []
   },
   "outputs": [],
   "source": [
    "def find_leaves(spanning_tree):#For get_ass_trees_subg\n",
    "    \"\"\"\n",
    "    Obj: to get relabeler, need to define a start and end for the path \n",
    "    in the subnecklace of subg wrt common_tree (specifically fixed) after we have removed tails.\n",
    "    #returns the leaves of tree in subnecklace.i.e [start,end]\n",
    "    \n",
    "    We should have alreadt removed the edges of tails from subg tree to get spanning_tree.\n",
    "    \n",
    "    \"\"\"\n",
    "    nodes=spanning_tree.vertices()\n",
    "    leaves = []\n",
    "    for node in nodes:\n",
    "        edges = [x for x in spanning_tree.edges() if node in x]\n",
    "        if len(edges) == 1:\n",
    "            leaves.append(node)\n",
    "#     show(spanning_tree) #---#\n",
    "#     print(leaves) #---#\n",
    "\n",
    "#     return sorted(leaves)\n",
    "    return leaves"
   ]
  },
  {
   "cell_type": "code",
   "execution_count": 16,
   "metadata": {
    "tags": []
   },
   "outputs": [],
   "source": [
    "def get_relabler(subg,Im_common_tree,leave_order=None):\n",
    "    \n",
    "    \"\"\"\n",
    "    Obj: Get relabling, that is given the path in subnecklace we need a method to \n",
    "    relabel the vertices of trees of I_n to the appropriate ones in the subnecklace of sugb.to get relabling we use\n",
    "    common tree in subg (acting as 0 assignment).\n",
    "    #returns a dictionary mapping the vertices of the subnecklace to In. \n",
    "    \n",
    "    The specific choice of leave_order does not matter.\n",
    "    \n",
    "    Returns a mapping of vertices of In to vertices of subnecklace.\n",
    "    i.e a dictionary for mapping.\n",
    "    \"\"\"\n",
    "#     print(\"subg\")#---#\n",
    "#     show(subg)#---#\n",
    "    \n",
    "    \n",
    "#     print(\"Im_common_tree\")#---#\n",
    "#     show(Im_common_tree)#---#\n",
    "    \n",
    "    [start,end]=find_leaves(Im_common_tree)\n",
    "    [path]=Im_common_tree.all_paths(start, end) #of the form [[0, 5, 1, 4, 2, 3]]\n",
    "\n",
    "    relabler={}    \n",
    "    for i in range(len(path)):\n",
    "        \"\"\"\n",
    "        The End of the subnecklace should map to v_0 of In\n",
    "        The Start of the subnecklace should be v_1.\n",
    "        \"\"\"\n",
    "        # relabler[i]=path[i-1]\n",
    "        \n",
    "        relabler[path[i-1]]=i # 1:0,3:1,2:3,5:4 i think\n",
    "    return relabler"
   ]
  },
  {
   "cell_type": "code",
   "execution_count": 17,
   "metadata": {
    "tags": []
   },
   "outputs": [],
   "source": [
    "def get_temp_data(relabler,data):#For get_ass_trees_subg\n",
    "    \"\"\"\n",
    "    Obj:Apply relabler: #relabel tree of subg to trees of Im format v0,..,vn-1.\n",
    "    Returns:data but with trees relabled.\n",
    "    \"\"\"\n",
    "    temp_data =[] # temp_data for subnecklace.\n",
    "    for d in data: #data of In assignments (tree,ass) pairs\n",
    "        tree_In=copy(d[0])\n",
    "        tree_In.relabel(relabler)\n",
    "        temp_data.append((tree_In,d[1]))\n",
    "    return temp_data"
   ]
  },
  {
   "cell_type": "code",
   "execution_count": 18,
   "metadata": {},
   "outputs": [
    {
     "ename": "NameError",
     "evalue": "name 'find_functions_used_l' is not defined",
     "output_type": "error",
     "traceback": [
      "\u001b[0;31m---------------------------------------------------------------------------\u001b[0m",
      "\u001b[0;31mNameError\u001b[0m                                 Traceback (most recent call last)",
      "\u001b[0;32m<ipython-input-18-3e01e0767c4f>\u001b[0m in \u001b[0;36m<module>\u001b[0;34m\u001b[0m\n\u001b[1;32m      1\u001b[0m \u001b[0ml\u001b[0m \u001b[0;34m=\u001b[0m \u001b[0;34m[\u001b[0m\u001b[0mfind_leaves\u001b[0m\u001b[0;34m,\u001b[0m \u001b[0mget_relabler\u001b[0m\u001b[0;34m,\u001b[0m \u001b[0mget_temp_data\u001b[0m\u001b[0;34m]\u001b[0m\u001b[0;34m\u001b[0m\u001b[0;34m\u001b[0m\u001b[0m\n\u001b[0;32m----> 2\u001b[0;31m \u001b[0mfind_functions_used_l\u001b[0m\u001b[0;34m(\u001b[0m\u001b[0ml\u001b[0m\u001b[0;34m)\u001b[0m\u001b[0;34m\u001b[0m\u001b[0;34m\u001b[0m\u001b[0m\n\u001b[0m",
      "\u001b[0;31mNameError\u001b[0m: name 'find_functions_used_l' is not defined"
     ]
    }
   ],
   "source": [
    "l = [find_leaves, get_relabler, get_temp_data]\n",
    "find_functions_used_l(l)"
   ]
  },
  {
   "cell_type": "markdown",
   "metadata": {
    "tags": [],
    "toc-hr-collapsed": true
   },
   "source": [
    "## Translate all assignments in subg_datum by common_tree_ass so that for common_tree_ass=0.<a name=\"s14\"></a>"
   ]
  },
  {
   "cell_type": "code",
   "execution_count": 19,
   "metadata": {
    "tags": []
   },
   "outputs": [],
   "source": [
    "def un_translate_data(temp_data,common_tree_assingment):\n",
    "    \"\"\"we un-extend assignments to subg tails.\"\"\"\n",
    "    # Returns: a [(T,Ass_T) | .. ] where T is a tree of G where Ass_T=0 for common_tree_ass\n",
    "    trans_data= [(tree,np.array(arr) - np.array(common_tree_assingment)) for tree, arr in temp_data]\n",
    "    return trans_data"
   ]
  },
  {
   "cell_type": "markdown",
   "metadata": {
    "tags": [],
    "toc-hr-collapsed": true
   },
   "source": [
    "## Remove components from vertices of tail of subg from assignments of trees in subg<a name=\"s15\"></a>"
   ]
  },
  {
   "cell_type": "code",
   "execution_count": 20,
   "metadata": {
    "tags": []
   },
   "outputs": [],
   "source": [
    "def get_Im_assignments(relabler,data,Im_common_tree):\n",
    "\n",
    "    \"\"\"Obj:We are reducing the temp assignment on subg tree to assignments on Im.\n",
    "     \"\"\"\n",
    "\n",
    "    vert_num_Im=len(Im_common_tree.vertices())\n",
    "    temp_data=[]\n",
    "    for d in data:\n",
    "        assignment=d[1] # untranslated assignments of sub on T.\n",
    "#         print(assignment)\n",
    "        temp_ass=Im_assignment(assignment, relabler,vert_num_Im) #Assignment of Im  after removing tails vertices and relabeling\n",
    "#         print(temp_ass)\n",
    "#         print(\"\\n\")\n",
    "        temp_data.append((d[0],temp_ass))\n",
    "    \n",
    "    return temp_data"
   ]
  },
  {
   "cell_type": "code",
   "execution_count": 21,
   "metadata": {
    "tags": []
   },
   "outputs": [],
   "source": [
    "def Im_assignment(l, relabeling,vert_num_Im):#for get_Im_assignments\n",
    "\n",
    "    \"\"\"\n",
    "    Obj:Get Assignments of Im after removing tails vertices and relabeling\n",
    "        By changing these assignments to ones on the correct vertices of Im using relabel_dict.\n",
    "        Then excluding the vertices of the tails of subg.\n",
    "    Inputs:    \n",
    "        # l #assignment on tree from subg #l = and assignemnt of length n.\n",
    "        # relabeling # relabel dict from subgraph to Im\n",
    "    Returns: \n",
    "        # Non-tranlated assignment on T in Im.\n",
    "    \"\"\"\n",
    "#     print(relabeling)\n",
    "    result = [0] * vert_num_Im # number of vertices of $subnecklace$.\n",
    "    for i, value in enumerate(l):\n",
    "#         print(i, value)\n",
    "        # is i a key of the relabling?\n",
    "        if str(i) in relabeling: # if so then do\n",
    "#             print(\"test\")\n",
    "#             print(int(relabeling[str(i)]))\n",
    "            result[int(relabeling[str(i)])] = value\n",
    "        \n",
    "                # relabler[path[i-1]]=i # 1:0,3:1,2:3,5:4 i think\n",
    "#             print(result)\n",
    "    return np.array(result)"
   ]
  },
  {
   "cell_type": "code",
   "execution_count": 22,
   "metadata": {},
   "outputs": [
    {
     "ename": "NameError",
     "evalue": "name 'find_functions_used_l' is not defined",
     "output_type": "error",
     "traceback": [
      "\u001b[0;31m---------------------------------------------------------------------------\u001b[0m",
      "\u001b[0;31mNameError\u001b[0m                                 Traceback (most recent call last)",
      "\u001b[0;32m<ipython-input-22-216f406a933f>\u001b[0m in \u001b[0;36m<module>\u001b[0;34m\u001b[0m\n\u001b[1;32m      1\u001b[0m \u001b[0ml\u001b[0m \u001b[0;34m=\u001b[0m \u001b[0;34m[\u001b[0m\u001b[0mget_Im_assignments\u001b[0m\u001b[0;34m,\u001b[0m \u001b[0mIm_assignment\u001b[0m\u001b[0;34m]\u001b[0m\u001b[0;34m\u001b[0m\u001b[0;34m\u001b[0m\u001b[0m\n\u001b[0;32m----> 2\u001b[0;31m \u001b[0mfind_functions_used_l\u001b[0m\u001b[0;34m(\u001b[0m\u001b[0ml\u001b[0m\u001b[0;34m)\u001b[0m\u001b[0;34m\u001b[0m\u001b[0;34m\u001b[0m\u001b[0m\n\u001b[0m",
      "\u001b[0;31mNameError\u001b[0m: name 'find_functions_used_l' is not defined"
     ]
    }
   ],
   "source": [
    "l = [get_Im_assignments, Im_assignment]\n",
    "find_functions_used_l(l)"
   ]
  },
  {
   "cell_type": "markdown",
   "metadata": {
    "tags": [],
    "toc-hr-collapsed": true
   },
   "source": [
    "## get_Im_data: Put all above functions together now<a name=\"s16\"></a>"
   ]
  },
  {
   "cell_type": "code",
   "execution_count": 23,
   "metadata": {},
   "outputs": [],
   "source": [
    "def standardised_edge_order(edges_Im,vert_Im): #For get_Im_data\n",
    "    \n",
    "    \"\"\" For:\n",
    "        def get_Im_data(case,subg): #updated\n",
    "            The following function returns the assignment data we want on Im part for the subnecklace.\n",
    "            Using this we can get the cycle.\n",
    "\n",
    "            Returns: relabler too \n",
    "        # Pick subg\n",
    "        vert_num_G=len(list(subg.vertices()))\n",
    "\n",
    "        ## Remove disconnected vertices from tails.    \n",
    "        tails=get_tails(subg)\n",
    "        tails=remove_discon_verts(tails)\n",
    "\n",
    "        # What is Im necklace\n",
    "        [edges_subnecklace]=subg.cycle_basis(output='edge') #return cycle of subgnecklace\n",
    "        print(\"edges_subnecklace\",edges_subnecklace)\n",
    "        m=len(edges_subnecklace) #length of subnecklace\n",
    "\n",
    "        #We need to order the edges of edges_subnecklace: so that spanning trees of Im are in the correct order\n",
    "        temp_Im=Graph(edges_subnecklace)\n",
    "        verts_Im=set(temp_Im.vertices())\n",
    "        #     print(verts_Im) #[\"0\",\"2\",..]\n",
    "        edges_subnecklace=standardised_edge_order(edges_Im,vert_Im)\n",
    "\n",
    "        Im=Graph(edges_subnecklace)\n",
    "    \"\"\"\n",
    "    \n",
    "    \"\"\"\n",
    "        edges_Im=[('4', '3', None), ('3', '2', None), ('2', '0', None), ('0', '4', None)]\n",
    "        vert_Im = {\"0\", \"2\", \"3\", \"4\"}\n",
    "        standardised_edge_order(edges_Im,vert_Im)\n",
    "        # [('0', '2', None), ('0', '4', None)]\n",
    "        # [('2', '3', None)]\n",
    "        # [('3', '4', None)]\n",
    "        #     print(edge_lst) #[('0', '2', None), ('0', '4', None), ('2', '3', None), ('3', '4', None)]\n",
    "\n",
    "    \"\"\"\n",
    "    \n",
    "\n",
    "    # Sort the edges in sorted_lst\n",
    "    sorted_lst = []\n",
    "    for tpl in edges_Im:\n",
    "        sorted_tpl = tuple(sorted(tpl[:-1])) + (tpl[-1],)\n",
    "        sorted_lst.append(sorted_tpl)\n",
    "\n",
    "    # Filter the tuples to only include those where the first element is in vert_Im\n",
    "    filtered_lst = [tpl for tpl in sorted_lst if tpl[0] in vert_Im]\n",
    "\n",
    "    # Group the tuples by their first element\n",
    "    grouped_tuples = {}\n",
    "    for tpl in filtered_lst:\n",
    "        if tpl[0] not in grouped_tuples:\n",
    "            grouped_tuples[tpl[0]] = []\n",
    "        grouped_tuples[tpl[0]].append(tpl)\n",
    "\n",
    "    # Sort each list of tuples by their second element\n",
    "    for key in grouped_tuples:\n",
    "        grouped_tuples[key] = sorted(grouped_tuples[key], key=lambda x: x[1])\n",
    "\n",
    "    # Extract the sorted lists of tuples as a list and sort the list\n",
    "    sorted_lists = sorted(list(grouped_tuples.values()))\n",
    "\n",
    "    # Print the result\n",
    "    edge_lst=[]\n",
    "    for lst in sorted_lists:\n",
    "#         print(lst)\n",
    "        edge_lst=edge_lst+lst\n",
    "        \n",
    "    return edge_lst"
   ]
  },
  {
   "cell_type": "code",
   "execution_count": 24,
   "metadata": {},
   "outputs": [],
   "source": [
    "def get_Im_data(case,subg): #updated\n",
    "    \"\"\"\n",
    "        The following function returns the assignment data we want on Im part for the subnecklace.\n",
    "        Using this we can get the cycle.\n",
    "\n",
    "        Returns: relabler too \n",
    "    \"\"\"\n",
    "    # Pick subg\n",
    "    vert_num_G=len(list(subg.vertices()))\n",
    "    \n",
    "    ## Remove disconnected vertices from tails.    \n",
    "    tails=get_tails(subg)\n",
    "    tails=remove_discon_verts(tails)\n",
    "    \n",
    "    # What is Im necklace\n",
    "    [edges_subnecklace]=subg.cycle_basis(output='edge') #return cycle of subgnecklace\n",
    "#     print(\"edges_subnecklace\",edges_subnecklace)\n",
    "    m=len(edges_subnecklace) #length of subnecklace\n",
    "\n",
    "    #We need to order the edges of edges_subnecklace: so that spanning trees of Im are in the correct order\n",
    "    temp_Im=Graph(edges_subnecklace)\n",
    "    vert_Im=set(temp_Im.vertices())\n",
    "    #     print(verts_Im) #[\"0\",\"2\",..]\n",
    "    edges_subnecklace=standardised_edge_order(edges_subnecklace,vert_Im)\n",
    "    Im=Graph(edges_subnecklace) #KEY!\n",
    "    \n",
    "\n",
    "    # Get spanning trees of subg\n",
    "    subg_trees=list(subg.spanning_trees())\n",
    "\n",
    "    #Data we want to analyse.# Pick (T,Ass) from ass_datum for trees in subg_trees.\n",
    "    data=[]\n",
    "    for pair in case:\n",
    "        if pair[0] in subg_trees:\n",
    "            data.append(pair)\n",
    "    \n",
    "    \"\"\"\n",
    "        Note: common_tree,common_tree_assingment are the tree assignment pair we translate by.\n",
    "\n",
    "        To avoid making a choice of spanning tree for each subg i.e.\n",
    "        common_tree,common_tree_assingment=data[0] # tree with tails still\n",
    "\n",
    "        We make a choice of spanning tree of Im. This is important as subg with the same Im shoudld have the same cycle.\n",
    "\n",
    "        At the moment we believe that\n",
    "        Im_tree=list(Im.spanning_trees())[0]\n",
    "        will always choose the same tree for each tree containing the same Im.\n",
    "\n",
    "        Then for each subg we add back the tails to get common_tree.\n",
    "\n",
    "        Then need  to:\n",
    "        ## Pick (t,ass_t) where we will have ass_t=0 for common_tree.\n",
    "        common_tree_assingment=data[0] # tree with tails still\n",
    "\n",
    "    \"\"\"\n",
    "    #choice of spanning tree of Im necklace. (do we need to relable? dont think so)\n",
    "    Im_common_tree=list(Im.spanning_trees())[0] #KEY!\n",
    "    \n",
    "    #WHY SPANNING TREES OF IM NOT ORDERED THE SAME ???????\n",
    "    \n",
    "    #print the trees \n",
    "#     sp_im=Im.spanning_trees()\n",
    "#     print(\"Im.edges()\",Im.edges())\n",
    "#     print(\"subg Case:\",[t.edges() for t in sp_im],\"\\n\")\n",
    "    \n",
    "    \n",
    "    #Add back tails to Im_tree.\n",
    "    common_tree=Graph(multiedges=True)\n",
    "    common_tree.add_edges(Im_common_tree.edges())\n",
    "    common_tree.add_edges(tails.edges()) # tree with tails still\n",
    "\n",
    "    ## Pick (t,ass_t) where we will have ass_t=0.    \n",
    "    for pair in data:\n",
    "        if common_tree.edges()==pair[0].edges(): #CHECK i think its enough to just give the edges here\n",
    "            common_tree_assingment=pair[1]\n",
    "\n",
    "    #Now we have common_tree,common_tree_assingment\n",
    "\n",
    "    # From data we need to remove the tails from the trees. Remove tails from trees of subg in data.\n",
    "    removed_tails_data=remove_tails_tree_of_subg(data,tails)\n",
    "    data=removed_tails_data\n",
    "    \n",
    "    \"\"\"  We now need to get Im_common_tree_assingment. Label (t,ass_t) where we have ass_t=0 in Im.\n",
    "        This will not be: Im_common_tree,Im_common_tree_assingment=data[0]\n",
    "        #but as we have Im_common_tree already and the not changing the assignment here we just have,\"\"\"\n",
    "    Im_common_tree_assingment=common_tree_assingment\n",
    "\n",
    "    ## Relabel trees of data in Subg necklace format to In format.\n",
    "    relabler=get_relabler(subg,Im_common_tree,leave_order=None)\n",
    "    temp_data=get_temp_data(relabler,data)\n",
    "\n",
    "\n",
    "    # Consider the assignments and translate so common_tree_assingment=0.\n",
    "    Im_data=un_translate_data(temp_data,common_tree_assingment)\n",
    "\n",
    "    ## Remove components of assignments from vertices of tail of subg from assignments of trees in subg.\n",
    "\n",
    "    Im_data=get_Im_assignments(relabler,Im_data,Im_common_tree)\n",
    "\n",
    "    # We record the common_tree to store with data.\n",
    "    translator_tree=common_tree\n",
    "    \n",
    "    return Im_data,relabler,translator_tree"
   ]
  },
  {
   "cell_type": "code",
   "execution_count": 25,
   "metadata": {},
   "outputs": [
    {
     "ename": "NameError",
     "evalue": "name 'find_functions_used_l' is not defined",
     "output_type": "error",
     "traceback": [
      "\u001b[0;31m---------------------------------------------------------------------------\u001b[0m",
      "\u001b[0;31mNameError\u001b[0m                                 Traceback (most recent call last)",
      "\u001b[0;32m<ipython-input-25-9af8b028684f>\u001b[0m in \u001b[0;36m<module>\u001b[0;34m\u001b[0m\n\u001b[1;32m      1\u001b[0m \u001b[0ml\u001b[0m \u001b[0;34m=\u001b[0m \u001b[0;34m[\u001b[0m\u001b[0mstandardised_edge_order\u001b[0m\u001b[0;34m,\u001b[0m \u001b[0mget_Im_data\u001b[0m\u001b[0;34m]\u001b[0m\u001b[0;34m\u001b[0m\u001b[0;34m\u001b[0m\u001b[0m\n\u001b[0;32m----> 2\u001b[0;31m \u001b[0mfind_functions_used_l\u001b[0m\u001b[0;34m(\u001b[0m\u001b[0ml\u001b[0m\u001b[0;34m)\u001b[0m\u001b[0;34m\u001b[0m\u001b[0;34m\u001b[0m\u001b[0m\n\u001b[0m",
      "\u001b[0;31mNameError\u001b[0m: name 'find_functions_used_l' is not defined"
     ]
    }
   ],
   "source": [
    "l = [standardised_edge_order, get_Im_data]\n",
    "find_functions_used_l(l)"
   ]
  },
  {
   "cell_type": "markdown",
   "metadata": {
    "tags": [],
    "toc-hr-collapsed": true
   },
   "source": [
    "## Check against g=1 case<a name=\"s17\"></a>"
   ]
  },
  {
   "cell_type": "code",
   "execution_count": 26,
   "metadata": {
    "tags": []
   },
   "outputs": [],
   "source": [
    "## Weak_stability_genus_1\n",
    "\n",
    "#For change_to_get_trees, produces stability conditions for genus 1 graph given by a cycle.\n",
    "def head(n, prev_tree_edge):\n",
    "    \"\"\"\n",
    "    n= number of vertices in I_n\n",
    "    previous element of the cycle, ie tree_edge is j where e_j ={v_j,v_{j+1}} \n",
    "    \n",
    "    #Also used in chip adding on necklace curve\n",
    "    \"\"\"\n",
    "    head = np.zeros(n)\n",
    "\n",
    "    if prev_tree_edge == n:\n",
    "        head[0] = 1\n",
    "    else:\n",
    "        head[prev_tree_edge] = 1\n",
    "\n",
    "    return head\n",
    "def tail(n, current_tree_edge):\n",
    "    \"\"\"\n",
    "    n= number of vertices in I_n\n",
    "    tree_edge is j where e_j ={v_j,v_{j+1}}\n",
    "    i is previous element of the cycle, ie tree_edge\n",
    "    \"\"\"\n",
    "    tail = np.zeros(n)\n",
    "    # if current_tree_edge==n:\n",
    "    #     tail[0]=-1\n",
    "    tail[current_tree_edge - 1] = -1\n",
    "\n",
    "    return tail\n",
    "def tail_plus(n, current_tree_edge):  #for chip adding\n",
    "    \"\"\"\n",
    "    n= number of vertices in I_n\n",
    "    tree_edge is j where e_j ={v_j,v_{j+1}}\n",
    "    i is previous element of the cycle, ie tree_edge\n",
    "    \"\"\"\n",
    "    tail = np.zeros(n)\n",
    "    # if current_tree_edge==n:\n",
    "    #     tail[0]=-1\n",
    "    tail[current_tree_edge - 1] = 1\n",
    "\n",
    "    return tail\n",
    "\n",
    "def cycle_to_assignments(cycle):\n",
    "    #Main to get assingments from cycle\n",
    "\n",
    "    n = len(cycle)\n",
    "\n",
    "    # cycle=(1,3,4,2)\n",
    "    ass_0 = np.zeros(n)\n",
    "\n",
    "    M = [(1, ass_0)]  # Memory\n",
    "\n",
    "    for i in range(1, len(cycle)):\n",
    "\n",
    "        current_tree_edge = cycle[i]\n",
    "        tup = M[-1]  #pick last item of M\n",
    "\n",
    "        vtail = tail(n, current_tree_edge)\n",
    "        vhead = head(n, tup[0])\n",
    "        prev_ass = tup[1]\n",
    "\n",
    "        current_ass_t = prev_ass + vtail + vhead\n",
    "        M.append((current_tree_edge, current_ass_t))\n",
    "\n",
    "    # for i in M:\n",
    "    #     print(i)\n",
    "\n",
    "    return M\n",
    "def change_to_get_trees(cycle):\n",
    "    \n",
    "    #return trees where there was previously just numbers indicating edge to be removed.\n",
    "        # change: [(1, array([0., 0., 0., 0.])), (3, array([ 0.,  1., -1.,  0.])), (2, array([ 0.,  0., -1.,  1.])), (4, array([0., 0., 0., 0.]))]\n",
    "    # so first term is tree of In\n",
    "    # cycle=(1,3,2,4)\n",
    "\n",
    "    data_In=cycle_to_assignments(cycle) #<-----------------\n",
    "    data_In=sorted(data_In, key=lambda x: x[0]) # reordering to (1,),(2,) ect.. instead of being ordered by cycle.\n",
    "    \n",
    "    \"\"\"\n",
    "    Wish to order data_In by first term of tuple so that is (1, ),(2,) thus putting trees in order so that when we append to Memory M we have\n",
    "    M'[counter](0) = M[counter][0] when we are iterating through counters.\n",
    "    \"\"\"\n",
    "    \n",
    "    n=len(cycle)\n",
    "    G=graphs.CycleGraph(n)\n",
    "    \n",
    "    new_data_In=[]\n",
    "    for data in data_In:\n",
    "        #Get tree\n",
    "        tree_info=data[0]\n",
    "    #     print(tree_info)\n",
    "        if tree_info== len(data_In):\n",
    "            edge_tree=(tree_info-1,0)\n",
    "        else:\n",
    "            edge_tree=(tree_info-1,tree_info)\n",
    "    #     print(edge_tree)\n",
    "        tree=copy(G)\n",
    "        tree.delete_edge(edge_tree)\n",
    "\n",
    "        #Recompile data\n",
    "        new_data_In.append((tree,data[1]))\n",
    "\n",
    "    # plot(new_data_In[2][0]) #Have the correct trees.\n",
    "    \n",
    "    \"\"\"\n",
    "    Example:x=change_to_get_trees(cycle)\n",
    "\n",
    "    print(cycle)\n",
    "    for i in x:\n",
    "        print(i[0].edges())\n",
    "        \n",
    "        cycle=(1,3,2)\n",
    "    x=change_to_get_trees(cycle)\n",
    "    print([tup[0].edges() for tup in x])\n",
    "    \"\"\"\n",
    "    \n",
    "    return new_data_In\n",
    "\n",
    "def get_cycles(n):\n",
    "    lst = list(range(1, n + 1))\n",
    "    x = permutations(lst, n)\n",
    "    y = [i for i in x if i[0] == 1]\n",
    "\n",
    "    #Does:\n",
    "    # x=permutations([1,2,3,4,5],5)\n",
    "    # y=[i for i in x if i[0]==1]\n",
    "    # # print(len(y))\n",
    "    # for i in y:\n",
    "    #     print(i)\n",
    "\n",
    "    return y"
   ]
  },
  {
   "cell_type": "code",
   "execution_count": 27,
   "metadata": {
    "tags": []
   },
   "outputs": [],
   "source": [
    "def get_ordered_list(M, ordering_trees):# for get_assignment_ordered_for_wstab\n",
    "    \"\"\"\n",
    "    We now have the subnecklace in the format of In. \n",
    "    We dont have a method to go from assignments to necklaces. \n",
    "    What we can do is run through all cycles on In and ask which cycle produces the assignment data we have,\n",
    "    it is then this cycle that we take.\n",
    "    \n",
    "    #Given M, a list of (t,ass) produce a list of (t',ass') whose ordering is dependant on a specified ordering of trees ordering_trees.\n",
    "    #M: list of (T,Ass_T).\n",
    "    #returns list of (t',ass') ordered wrt ordering_trees. \n",
    "    \"\"\"\n",
    "    P = []\n",
    "    mapping = {t.copy(immutable=True): ass for (t, ass) in M}\n",
    "    for t in ordering_trees:\n",
    "        P.append((t.copy(immutable=True),mapping[t.copy(immutable=True)]))\n",
    "    return P"
   ]
  },
  {
   "cell_type": "code",
   "execution_count": 95,
   "metadata": {
    "tags": []
   },
   "outputs": [],
   "source": [
    "def check(Im_data,n):\n",
    "    \"\"\"\n",
    "    Obj: given Im_data checks which cycle gives this data in the In case and returns the cycle.\n",
    "    return:Given list of $(T^{'},Ass(T^{'}))$ for subg wish to get cycle.\n",
    "    \"\"\"\n",
    "    cycles=get_cycles(n)\n",
    "    \n",
    "    good_cycles=[]\n",
    "    for cycle in cycles:\n",
    "        cycle_data=change_to_get_trees(cycle)\n",
    "        cycle_trees=[d[0] for d in cycle_data]\n",
    "        cycle_assignments=[d[1] for d in cycle_data]\n",
    "\n",
    "        #Put Im_data into In case format.\n",
    "        Im_data=get_ordered_list(Im_data,cycle_trees)\n",
    "        Im_data_assignments=[d[1] for d in Im_data]\n",
    "        \n",
    "        equal = all(np.array_equal(x, y) for x, y in zip(cycle_assignments, Im_data_assignments))\n",
    "        if equal:\n",
    "            good_cycles.append(cycle)\n",
    "        else:\n",
    "            pass\n",
    "    \n",
    "    if len(good_cycles)==1:\n",
    "        [cycle]=good_cycles\n",
    "        return cycle\n",
    "    else:\n",
    "        ##!!\n",
    "        print(\"Something is wrong\")\n",
    "        print(f\"len(good_cycles):{len(good_cycles)}\")\n",
    "        \n",
    "        #Let take the first one if more than one.\n",
    "        \n",
    "        cycle=good_cycles[0]\n",
    "        return cycle"
   ]
  },
  {
   "cell_type": "code",
   "execution_count": 29,
   "metadata": {
    "tags": []
   },
   "outputs": [
    {
     "ename": "NameError",
     "evalue": "name 'find_functions_used_l' is not defined",
     "output_type": "error",
     "traceback": [
      "\u001b[0;31m---------------------------------------------------------------------------\u001b[0m",
      "\u001b[0;31mNameError\u001b[0m                                 Traceback (most recent call last)",
      "\u001b[0;32m<ipython-input-29-749f87f279ec>\u001b[0m in \u001b[0;36m<module>\u001b[0;34m\u001b[0m\n\u001b[1;32m      1\u001b[0m \u001b[0ml\u001b[0m \u001b[0;34m=\u001b[0m \u001b[0;34m[\u001b[0m\u001b[0mhead\u001b[0m\u001b[0;34m,\u001b[0m \u001b[0mtail\u001b[0m\u001b[0;34m,\u001b[0m\u001b[0mtail_plus\u001b[0m\u001b[0;34m,\u001b[0m\u001b[0mget_cycles\u001b[0m\u001b[0;34m,\u001b[0m\u001b[0mchange_to_get_trees\u001b[0m\u001b[0;34m,\u001b[0m\u001b[0mcycle_to_assignments\u001b[0m\u001b[0;34m,\u001b[0m\u001b[0mget_ordered_list\u001b[0m\u001b[0;34m]\u001b[0m\u001b[0;34m\u001b[0m\u001b[0;34m\u001b[0m\u001b[0m\n\u001b[0;32m----> 2\u001b[0;31m \u001b[0mfind_functions_used_l\u001b[0m\u001b[0;34m(\u001b[0m\u001b[0ml\u001b[0m\u001b[0;34m)\u001b[0m\u001b[0;34m\u001b[0m\u001b[0;34m\u001b[0m\u001b[0m\n\u001b[0m",
      "\u001b[0;31mNameError\u001b[0m: name 'find_functions_used_l' is not defined"
     ]
    }
   ],
   "source": [
    "l = [head, tail,tail_plus,get_cycles,change_to_get_trees,cycle_to_assignments,get_ordered_list]\n",
    "find_functions_used_l(l)"
   ]
  },
  {
   "cell_type": "markdown",
   "metadata": {
    "tags": []
   },
   "source": [
    "## Put cycles into correct format wrt G edge labeling<a name=\"s18\"></a>"
   ]
  },
  {
   "cell_type": "code",
   "execution_count": 60,
   "metadata": {
    "tags": []
   },
   "outputs": [],
   "source": [
    "#Correcting cycles of Im to cycles for subg with correct labeling.\n",
    "\n",
    "def get_edge_subg_for_i_in_cycle(i,cycle,swapped_relabler):#for get_relabled_cycle\n",
    "    \"\"\"Given element of cycle, how do we return the edge of In, format is standardised.\n",
    "    for i , take (\"i-1\",\"i\")\"\"\"\n",
    "    \n",
    "    print(f\"i:{i}:{type(i)}\")##!!\n",
    "    \n",
    "    edge=(str(i-1),str(i)) # edge of Im \n",
    "    \n",
    "    # Need to use relable to convert to edge of subg.\n",
    "    subg_edge=[]\n",
    "    for e in edge:\n",
    "        if int(e)==len(cycle):\n",
    "            subg_edge.append(swapped_relabler[\"0\"])\n",
    "        else:    \n",
    "            subg_edge.append(swapped_relabler[e])\n",
    "    subg_edge=sorted(subg_edge)\n",
    "    return subg_edge\n",
    "def get_labeled_edge_subg(subg_edge,G_edges_labeled):#for get_relabled_cycle\n",
    "    \"\"\"\n",
    "    Given a edge of subg of G take the label of G_edges_labeled.\n",
    "    Returns \"e4\" of G\n",
    "    \"\"\"\n",
    "    for t in G_edges_labeled:\n",
    "        if t[0] == subg_edge[0] and t[1] == subg_edge[1]:\n",
    "            extracted_value = t[2]\n",
    "            break\n",
    "    return extracted_value\n",
    "#sub-Main for here\n",
    "def get_relabled_cycle(cycle,G_edges_labeled,swapped_relabler):\n",
    "\n",
    "    \"\"\"\n",
    "    Obj:Given a cycle for Im, relables the components wrt the lableing of G.\n",
    "    \n",
    "    Inputs:\n",
    "    -cycle: cycle of Im.\n",
    "    \n",
    "    Returns:\n",
    "    \"\"\"\n",
    "    relabled_cycle=[]\n",
    "    for i in cycle:\n",
    "        subg_edge=get_edge_subg_for_i_in_cycle(i,cycle,swapped_relabler)\n",
    "\n",
    "        subg_edge=tuple(subg_edge)\n",
    "\n",
    "        #Once we have the edge of subg that correcponds to the element (edge of Im) \n",
    "        #of the cycle we ned to take the lableing of the edge in G.\n",
    "\n",
    "        new_cycle_element=get_labeled_edge_subg(subg_edge,G_edges_labeled)\n",
    "\n",
    "        new_cycle_element=int(new_cycle_element[1]) # for \"e5\" take 5.\n",
    "\n",
    "        relabled_cycle.append(new_cycle_element)\n",
    "\n",
    "    relabled_cycle=tuple(relabled_cycle)\n",
    "    return relabled_cycle\n",
    "\n",
    "def apply_edge_labels(G,edge_labels):# for get_labeled_subg_cycle_data\n",
    "    \"\"\"How to label edges of G\"\"\"\n",
    "    # Define the graph G\n",
    "    # Define the edge labels\n",
    "    # # Set the edge labels\n",
    "    for i in edge_labels.items():\n",
    "        tup=i[0]+(i[1],)\n",
    "        G.set_edge_label(*tup)\n",
    "    return G\n",
    "\n",
    "def add_edges_to(graph,G_edges_labeled):# for get_labeled_subg_cycle_data\n",
    "    \"\"\"Adds labelings of edges of G to subgraph :should also work for trees.\"\"\"\n",
    "    subg=graph\n",
    "    # Add edge labels to subg\n",
    "    subg_edges_labled=[]\n",
    "    for subg_edge in subg.edges():\n",
    "        #Get the lable and construct new edge with label\n",
    "        e_label=get_labeled_edge_subg(subg_edge,G_edges_labeled)\n",
    "        subg_edge=(subg_edge[0],subg_edge[1],e_label)\n",
    "        subg_edges_labled.append(subg_edge)\n",
    "    subg=Graph(subg_edges_labled, multiedges=True)\n",
    "    return subg\n",
    "\n",
    "#Main\n",
    "def get_labeled_subg_cycle_data(G,edge_labels,subg_data):\n",
    "    \"\"\"Obj #Relabel the cycles and subg data to labeling of G:\"\"\"\n",
    "    \n",
    "    G=apply_edge_labels(G,edge_labels)\n",
    "    G_edges_labeled=G.edges()\n",
    "\n",
    "    storage=[] # like of (subg,cycles) after edge labeling and modifiying cycles to this labeling.\n",
    "    for i in subg_data:\n",
    "\n",
    "        #unpacket data\n",
    "        subg_cycle_pair,relabler,translator_tree=i #(subg,cycle) pair and relalber for subg to In format.\n",
    "        subg,cycle=subg_cycle_pair\n",
    "\n",
    "        #To go from Im to necklace of subg vertex labeling\n",
    "        swapped_relabler = {str(value):key for key, value in relabler.items()}\n",
    "\n",
    "        new_cycle=get_relabled_cycle(cycle,G_edges_labeled,swapped_relabler)\n",
    "        \n",
    "#         print(f\"old cycle {cycle}, new_cycle: {new_cycle}\") #---#\n",
    "#         print(f\"cycle: {new_cycle} \\n Subg: {subg.edges()} \\n\") #---#\n",
    "#         print(f\"cycle: {new_cycle}\") #---#\n",
    "\n",
    "\n",
    "        #add lalbeings to edges of subg\n",
    "        subg=add_edges_to(subg,G_edges_labeled)\n",
    "\n",
    "        #store new data\n",
    "        storage.append((subg,new_cycle,translator_tree))\n",
    "    return storage"
   ]
  },
  {
   "cell_type": "code",
   "execution_count": 31,
   "metadata": {},
   "outputs": [],
   "source": [
    "# l = [get_edge_subg_for_i_in_cycle,add_edges_to,apply_edge_labels,get_relabled_cycle,get_labeled_edge_subg,get_labeled_subg_cycle_data]\n",
    "# find_functions_used_l(l)"
   ]
  },
  {
   "cell_type": "markdown",
   "metadata": {
    "tags": []
   },
   "source": [
    "## Running over all cases for a given graph<a name=\"s19\"></a>"
   ]
  },
  {
   "cell_type": "code",
   "execution_count": 62,
   "metadata": {},
   "outputs": [],
   "source": [
    "def run_over_all_subgraphs(case,subgraphs):\n",
    "    \"\"\"\n",
    "    Returns: A cycle for each subgraph for a given case \"assignment data on trees\".\n",
    "    Record as a list of pairs (subg,cycle) and save using pkl.\n",
    "    \"\"\"\n",
    "    \n",
    "    subgraphs_with_cycle=[]\n",
    "    for num in range(len(subgraphs)):\n",
    "        # Pick subg\n",
    "        subg=subgraphs[num]\n",
    "        \n",
    "        #What is Im necklace\n",
    "        [edges_subnecklace]=subg.cycle_basis(output='edge') #return cycle of subgnecklace\n",
    "        Im=Graph(edges_subnecklace)\n",
    "        m=len(edges_subnecklace)\n",
    "\n",
    "        Im_data,relabler,translator_tree=get_Im_data(case,subg)\n",
    "        cycle=check(Im_data,m)\n",
    "        \n",
    "        print(f\"cycle: {cycle}\")\n",
    "#         print(cycle)\n",
    "        \n",
    "        subgraphs_with_cycle.append(((subg,cycle),relabler,translator_tree))\n",
    "#     print(\"--- different wsc\")\n",
    "    return subgraphs_with_cycle"
   ]
  },
  {
   "cell_type": "code",
   "execution_count": 33,
   "metadata": {
    "tags": []
   },
   "outputs": [],
   "source": [
    "def get_subgraph_cycles_for_ass_datum(ass_datum,G,edge_labels,ordering_trees,subgraphs):\n",
    "    \"\"\"\n",
    "    Obj: for each element of ass_datum i.e a list of assignments for a stability condition.\n",
    "    We return a list of (subgraph,cycle) used to generate assignments for trees contained.\n",
    "    \"\"\"\n",
    "    assignment_data_all=get_tree_ass_data(ass_datum,ordering_trees)\n",
    "    \n",
    "    subg_cycle_data=[]\n",
    "    for j in range(len(assignment_data_all)):\n",
    "        case=assignment_data_all[j]\n",
    "        \n",
    "        #Get (subg,cycle),relabler) without labeling of G\n",
    "        subg_data=run_over_all_subgraphs(case,subgraphs)\n",
    "        \n",
    "        #returns (subg,cycles) with labeling\n",
    "        subg_cycle_pair_l=get_labeled_subg_cycle_data(G,edge_labels,subg_data) #New subg,cycle pair list\n",
    "        subg_cycle_data.append(subg_cycle_pair_l)\n",
    "#         print(\"--- different wsc\") #---#\n",
    "        \n",
    "    return subg_cycle_data"
   ]
  },
  {
   "cell_type": "code",
   "execution_count": 34,
   "metadata": {
    "tags": []
   },
   "outputs": [],
   "source": [
    "#MAIN #use get_subgraph_cycles_for_ass_datum\n",
    "def run_over_all_assignments(ass_datum,G,edge_labels,ordering_trees,subgraphs):\n",
    "    \n",
    "    #We save all of the data together in the order:\n",
    "    #1. list of only assignments (ordered by spanning trees) # in the correct format for getting lbm\n",
    "    #2. lbm data\n",
    "    #3. list of (tree,ass_t) # in the correct format for getting (subg,cycle) data.\n",
    "    #4. list of (subg,cycle)\n",
    "    \n",
    "    assignment_data_all=get_tree_ass_data(ass_datum,ordering_trees)\n",
    "    subg_cycle_data=get_subgraph_cycles_for_ass_datum(ass_datum,G,edge_labels,ordering_trees,subgraphs)\n",
    "\n",
    "    total_data=[]\n",
    "    \n",
    "    for index,ass in enumerate(ass_datum):\n",
    "\n",
    "        assignment_l=ass_datum[index][0] #list of assignments as arrays (no trees)\n",
    "        lbm=ass_datum[index][1] # array of line bundle multidegree data\n",
    "        case=assignment_data_all[index] #list of (tree,assignments)\n",
    "        l_subgraph_cycle=subg_cycle_data[index] # list of (subg,cycles) after relabeling\n",
    "        \n",
    "        total_data.append((assignment_l,lbm,case,l_subgraph_cycle)) #data described as above.\n",
    "        \n",
    "    return total_data"
   ]
  },
  {
   "cell_type": "code",
   "execution_count": 35,
   "metadata": {},
   "outputs": [
    {
     "ename": "NameError",
     "evalue": "name 'find_functions_used_l' is not defined",
     "output_type": "error",
     "traceback": [
      "\u001b[0;31m---------------------------------------------------------------------------\u001b[0m",
      "\u001b[0;31mNameError\u001b[0m                                 Traceback (most recent call last)",
      "\u001b[0;32m<ipython-input-35-d03c31f81670>\u001b[0m in \u001b[0;36m<module>\u001b[0;34m\u001b[0m\n\u001b[1;32m      1\u001b[0m \u001b[0ml\u001b[0m \u001b[0;34m=\u001b[0m \u001b[0;34m[\u001b[0m\u001b[0mrun_over_all_subgraphs\u001b[0m\u001b[0;34m,\u001b[0m \u001b[0mget_subgraph_cycles_for_ass_datum\u001b[0m\u001b[0;34m,\u001b[0m \u001b[0mrun_over_all_assignments\u001b[0m\u001b[0;34m]\u001b[0m\u001b[0;34m\u001b[0m\u001b[0;34m\u001b[0m\u001b[0m\n\u001b[0;32m----> 2\u001b[0;31m \u001b[0mfind_functions_used_l\u001b[0m\u001b[0;34m(\u001b[0m\u001b[0ml\u001b[0m\u001b[0;34m)\u001b[0m\u001b[0;34m\u001b[0m\u001b[0;34m\u001b[0m\u001b[0m\n\u001b[0m",
      "\u001b[0;31mNameError\u001b[0m: name 'find_functions_used_l' is not defined"
     ]
    }
   ],
   "source": [
    "l = [run_over_all_subgraphs, get_subgraph_cycles_for_ass_datum, run_over_all_assignments]\n",
    "find_functions_used_l(l)"
   ]
  },
  {
   "cell_type": "markdown",
   "metadata": {
    "tags": []
   },
   "source": [
    "## Saving data<a name=\"s110\"></a>"
   ]
  },
  {
   "cell_type": "code",
   "execution_count": 36,
   "metadata": {
    "jupyter": {
     "outputs_hidden": true
    },
    "tags": []
   },
   "outputs": [],
   "source": [
    "def pickle_data(graphname,data):\n",
    "    # Pickle the list\n",
    "    filename=f\"{graphname}.pkl\"\n",
    "    with open(filename, 'wb') as f:\n",
    "        pickle.dump(data, f)\n",
    "    return"
   ]
  },
  {
   "cell_type": "code",
   "execution_count": 37,
   "metadata": {
    "jupyter": {
     "outputs_hidden": true
    }
   },
   "outputs": [],
   "source": [
    "def unpickle(graphname):\n",
    "    # Unpickle the list\n",
    "    filename=f\"Done_examples/{graphname}/{graphname}.pkl\"\n",
    "    with open(filename, 'rb') as f:\n",
    "        unpickled_list = pickle.load(f)\n",
    "    return unpickled_list"
   ]
  },
  {
   "cell_type": "code",
   "execution_count": 38,
   "metadata": {
    "jupyter": {
     "outputs_hidden": true
    },
    "tags": []
   },
   "outputs": [],
   "source": [
    "#Storing files \n",
    "def output_to_file(G,total_data,ordering_trees):#in text files\n",
    "    \"\"\"\n",
    "    Return to text file:\n",
    "    - add list of subgraphs under trees.\n",
    "    - record list of cycles for subg, after lbm. \n",
    "    \"\"\"\n",
    "\n",
    "    print(f\"Information: Here are all stability conditions for the graph G\")\n",
    "    print(f\"Graph: {G.edges()} \\n\")\n",
    "    \n",
    "    print(f\"There are {len(total_data)} stability conditions for G. \\n\")\n",
    "    \n",
    "    print(f\"The spanning trees of G are ordered as follows:\")\n",
    "    for index,tree in enumerate(ordering_trees):\n",
    "        print(f\"Tree {index+1}: {tree.edges()}\" )\n",
    "        \n",
    "    print(f\"\\n The spanning subgraphs of G of the for T cup e are ordered as follows:\")\n",
    "    \n",
    "    \"\"\"\n",
    "    Fix order of subg printed:\n",
    "    \n",
    "    Here get_subgraphs_gm1_Edgesmissing does not reflect the ordering of subg in subg_cycle_l=tup[3]\n",
    "    subgraphs= get_subgraphs_gm1_Edgesmissing(G) #Get #\\tilde{G} the subgraphs Tcup e.-D\n",
    "\n",
    "    #Assuming subg_cycle_l for each element of total_data is ordered the same subg.\n",
    "    \"\"\"\n",
    "\n",
    "    tup_example=total_data[0]\n",
    "    subg_cycle_l=tup_example[3]\n",
    "    subg_ll=[pair[0] for pair in subg_cycle_l]\n",
    "\n",
    "    for index,subg in enumerate(subg_ll):\n",
    "        print(f\"Subgraph {index+1}: {subg.edges()}\" )\n",
    "    \n",
    "\n",
    "    print(\"\\n We will now list all stabilty conditions. The data will be presented in three lines:\")\n",
    "    print(\"   1. The assignment datum on trees the order of which will be given by the Tree order,\")\n",
    "    print(\"   2. The union of sets of the form assignment datum of T + the set of break divisors for T, \" )          \n",
    "    print(\"   3. The cycle used with th subgraph to obtain the assignments on trees (ordered by subgraphs above).\\n\")\n",
    "\n",
    "    for tup in total_data:\n",
    "        \n",
    "        print(tup[0]) #assignment datum\n",
    "        \n",
    "        #Put sigma to list format\n",
    "        print(tup[1].tolist()) #lbm\n",
    "        \n",
    "        subg_cycle_l=tup[3]\n",
    "        l_cycles=[(x[1],x[2].edges()) for x in subg_cycle_l] #records cycle and tree for sub.\n",
    "        print(l_cycles)\n",
    "        \n",
    "        print(\"\\n\")\n",
    "    \n",
    "    return\n",
    "\n",
    "def store_data(G,total_data,ordering_trees,graphname=\"test\"):\n",
    "    name=f\"{graphname}.txt\"\n",
    "    with open(name, \"w\") as f:\n",
    "        sys.stdout = f\n",
    "\n",
    "        output_to_file(G,total_data,ordering_trees)\n",
    "\n",
    "        sys.stdout = sys.__stdout__\n",
    "    return"
   ]
  },
  {
   "cell_type": "code",
   "execution_count": 39,
   "metadata": {
    "tags": []
   },
   "outputs": [],
   "source": [
    "def run_example(graphname,G,edge_labels):\n",
    "    ordering_trees=list(G.spanning_trees())\n",
    "    subgraphs= get_subgraphs_gm1_Edgesmissing(G) #Get #\\tilde{G} the subgraphs T\\cup e.-D\n",
    "\n",
    "    #Get assignment,lbm for all wsc\n",
    "    ass_datum=unpickle_assignment_datum(graphname) # the assignments are in the order ordering_trees.\n",
    "\n",
    "    total_data=run_over_all_assignments(ass_datum,G,edge_labels,ordering_trees,subgraphs)\n",
    "    pickle_data(graphname,total_data)\n",
    "    \n",
    "    store_data(G,total_data,ordering_trees,graphname)\n",
    "    print(\"Done\")\n",
    "    return total_data"
   ]
  },
  {
   "cell_type": "markdown",
   "metadata": {
    "jp-MarkdownHeadingCollapsed": true,
    "tags": [],
    "toc-hr-collapsed": true
   },
   "source": [
    "# Determine the cycles for the following: <a name=\"s2\"></a>"
   ]
  },
  {
   "cell_type": "markdown",
   "metadata": {
    "tags": []
   },
   "source": [
    "#### Vine blowups"
   ]
  },
  {
   "cell_type": "code",
   "execution_count": null,
   "metadata": {
    "jupyter": {
     "outputs_hidden": true
    }
   },
   "outputs": [],
   "source": [
    "# graphname=\"K33\"\n",
    "# G=Graph([(\"0\", \"3\"), (\"0\", \"4\"), (\"0\", \"5\"), (\"1\", \"3\"), (\"1\", \"4\"), (\"1\", \"5\"), (\"2\", \"3\"), (\"2\", \"4\"), (\"2\", \"5\")], multiedges=True)\n",
    "# run_example(graphname,G,edge_labels)"
   ]
  },
  {
   "cell_type": "code",
   "execution_count": null,
   "metadata": {
    "jupyter": {
     "outputs_hidden": true
    }
   },
   "outputs": [],
   "source": [
    "# graphname=\"K33_breaks\"\n",
    "# G=Graph([(\"0\", \"3\"), (\"0\", \"4\"), (\"0\", \"5\"), (\"1\", \"3\"), (\"1\", \"4\"), (\"1\", \"5\"), (\"2\", \"3\"), (\"2\", \"4\"), (\"2\", \"5\")], multiedges=True)\n",
    "# run_example(graphname,G,edge_labels)"
   ]
  },
  {
   "cell_type": "code",
   "execution_count": null,
   "metadata": {
    "jupyter": {
     "outputs_hidden": true
    }
   },
   "outputs": [],
   "source": [
    "# graphname=\"V_222\"\n",
    "# G=Graph([(\"0\",\"1\"),(\"1\",\"2\"),(\"2\",\"3\"),(\"3\",\"0\"),(\"0\",\"4\"),(\"4\",\"2\")], multiedges=True)\n",
    "# edge_labels = {(\"0\",\"1\"):\"e1\",(\"1\",\"2\"):\"e2\",(\"2\",\"3\"):\"e3\",(\"3\",\"0\"):\"e4\",(\"0\",\"4\"):\"e5\",(\"4\",\"2\"):\"e6\"}\n",
    "\n",
    "# run_example(graphname,G,edge_labels)"
   ]
  },
  {
   "cell_type": "code",
   "execution_count": null,
   "metadata": {
    "jupyter": {
     "outputs_hidden": true
    }
   },
   "outputs": [],
   "source": [
    "# graphname=\"V_223\"\n",
    "# G=Graph([(\"0\",\"1\"),(\"1\",\"2\"),(\"2\",\"3\"),(\"3\",\"4\"),(\"4\",\"0\"),(\"0\",\"5\"),(\"5\",\"2\")], multiedges=True)\n",
    "# edge_labels = {(\"0\",\"1\"):\"e1\",(\"1\",\"2\"):\"e2\",(\"2\",\"3\"):\"e3\",(\"3\",\"4\"):\"e4\",(\"4\",\"0\"):\"e5\",(\"0\",\"5\"):\"e6\",(\"5\",\"2\"):\"e7\"}\n",
    "\n",
    "# run_example(graphname,G,edge_labels)"
   ]
  },
  {
   "cell_type": "code",
   "execution_count": null,
   "metadata": {
    "jupyter": {
     "outputs_hidden": true
    }
   },
   "outputs": [],
   "source": [
    "# graphname=\"V_224\"\n",
    "# G=Graph([(\"0\",\"1\"),(\"1\",\"2\"),(\"2\",\"3\"),(\"3\",\"4\"),(\"4\",\"5\"),(\"5\",\"0\"),(\"0\",\"6\"),(\"6\",\"2\")], multiedges=True)\n",
    "# edge_labels = {(\"0\",\"1\"):\"e1\",(\"1\",\"2\"):\"e2\",(\"2\",\"3\"):\"e3\",(\"3\",\"4\"):\"e4\",(\"4\",\"5\"):\"e5\",(\"5\",\"0\"):\"e6\",(\"0\",\"6\"):\"e7\",(\"6\",\"2\"):\"e8\"}\n",
    "\n",
    "# run_example(graphname,G,edge_labels)"
   ]
  },
  {
   "cell_type": "code",
   "execution_count": null,
   "metadata": {
    "jupyter": {
     "outputs_hidden": true
    }
   },
   "outputs": [],
   "source": [
    "# graphname=\"V_233\"\n",
    "# G=Graph([(\"0\",\"1\"),(\"1\",\"2\"),(\"2\",\"3\"),(\"3\",\"4\"),(\"4\",\"5\"),(\"5\",\"0\"),(\"0\",\"6\"),(\"6\",\"3\")], multiedges=True)\n",
    "# edge_labels = {(\"0\",\"1\"):\"e1\",(\"1\",\"2\"):\"e2\",(\"2\",\"3\"):\"e3\",(\"3\",\"4\"):\"e4\",(\"4\",\"5\"):\"e5\",(\"5\",\"0\"):\"e6\",(\"0\",\"6\"):\"e7\",(\"6\",\"3\"):\"e8\"}\n",
    "\n",
    "# run_example(graphname,G,edge_labels)"
   ]
  },
  {
   "cell_type": "markdown",
   "metadata": {
    "jp-MarkdownHeadingCollapsed": true,
    "tags": []
   },
   "source": [
    "#### Higher genus graphs"
   ]
  },
  {
   "cell_type": "code",
   "execution_count": null,
   "metadata": {
    "jupyter": {
     "outputs_hidden": true
    }
   },
   "outputs": [],
   "source": [
    "# graphname=\"G4M02M13\"\n",
    "# G=Graph([(\"0\",\"1\"),(\"1\",\"2\"),(\"2\",\"3\"),(\"3\",\"0\"),(\"0\",\"2\"),(\"1\",\"3\")], multiedges=True)\n",
    "# edge_labels = {(\"0\",\"1\"):\"e1\",(\"1\",\"2\"):\"e2\",(\"2\",\"3\"):\"e3\",(\"3\",\"0\"):\"e4\",(\"0\",\"2\"):\"e5\",(\"1\",\"3\"):\"e6\"}\n",
    "# run_example(graphname,G,edge_labels)"
   ]
  },
  {
   "cell_type": "code",
   "execution_count": null,
   "metadata": {
    "jupyter": {
     "outputs_hidden": true
    }
   },
   "outputs": [],
   "source": [
    "# graphname=\"G5M02M03\"\n",
    "# G=Graph([(\"0\",\"1\"),(\"1\",\"2\"),(\"2\",\"3\"),(\"3\",\"4\"),(\"4\",\"0\"),(\"0\",\"2\"),(\"0\",\"3\")], multiedges=True)\n",
    "# edge_labels = {(\"0\",\"1\"):\"e1\",(\"1\",\"2\"):\"e2\",(\"2\",\"3\"):\"e3\",(\"3\",\"4\"):\"e4\",(\"4\",\"0\"):\"e5\",(\"0\",\"2\"):\"e6\",(\"0\",\"3\"):\"e7\"}\n",
    "# run_example(graphname,G,edge_labels)"
   ]
  },
  {
   "cell_type": "code",
   "execution_count": null,
   "metadata": {
    "jupyter": {
     "outputs_hidden": true
    }
   },
   "outputs": [],
   "source": [
    "# graphname=\"G5M02M03M14\"\n",
    "# G=Graph([(\"0\",\"1\"),(\"1\",\"2\"),(\"2\",\"3\"),(\"3\",\"4\"),(\"4\",\"0\"),(\"0\",\"2\"),(\"0\",\"3\"),(\"1\",\"4\")], multiedges=True)\n",
    "# edge_labels = {(\"0\",\"1\"):\"e1\",(\"1\",\"2\"):\"e2\",(\"2\",\"3\"):\"e3\",(\"3\",\"4\"):\"e4\",(\"4\",\"0\"):\"e5\",(\"0\",\"2\"):\"e6\",(\"0\",\"3\"):\"e7\",(\"1\",\"4\"):\"e8\"}\n",
    "# run_example(graphname,G,edge_labels)"
   ]
  },
  {
   "cell_type": "markdown",
   "metadata": {
    "jp-MarkdownHeadingCollapsed": true,
    "tags": []
   },
   "source": [
    "#### Genus 2 graphs with middle edges"
   ]
  },
  {
   "cell_type": "code",
   "execution_count": 43,
   "metadata": {
    "jupyter": {
     "outputs_hidden": true
    }
   },
   "outputs": [
    {
     "data": {
      "text/plain": [
       "[([[0, 0, 0, 0],\n",
       "   [0, 0, 0, 0],\n",
       "   [0, 0, 0, 0],\n",
       "   [0, 0, 0, 0],\n",
       "   [0, 0, 0, 0],\n",
       "   [0, 0, 0, 0],\n",
       "   [0, 0, 0, 0],\n",
       "   [0, 0, 0, 0]],\n",
       "  array([[0, 0, 1, 1],\n",
       "         [0, 0, 2, 0],\n",
       "         [0, 1, 0, 1],\n",
       "         [0, 1, 1, 0],\n",
       "         [1, 0, 0, 1],\n",
       "         [1, 0, 1, 0],\n",
       "         [1, 1, 0, 0],\n",
       "         [2, 0, 0, 0]], dtype=int32),\n",
       "  [(Graph on 4 vertices, [0, 0, 0, 0]),\n",
       "   (Graph on 4 vertices, [0, 0, 0, 0]),\n",
       "   (Graph on 4 vertices, [0, 0, 0, 0]),\n",
       "   (Graph on 4 vertices, [0, 0, 0, 0]),\n",
       "   (Graph on 4 vertices, [0, 0, 0, 0]),\n",
       "   (Graph on 4 vertices, [0, 0, 0, 0]),\n",
       "   (Graph on 4 vertices, [0, 0, 0, 0]),\n",
       "   (Graph on 4 vertices, [0, 0, 0, 0])],\n",
       "  [(Multi-graph on 4 vertices, (1, 4, 3, 2), Multi-graph on 4 vertices),\n",
       "   (Multi-graph on 4 vertices, (0, 4, 3), Multi-graph on 4 vertices),\n",
       "   (Multi-graph on 4 vertices, (1, 0, 2), Multi-graph on 4 vertices),\n",
       "   (Multi-graph on 4 vertices, (1, 0, 2), Multi-graph on 4 vertices),\n",
       "   (Multi-graph on 4 vertices, (0, 4, 3), Multi-graph on 4 vertices)]),\n",
       " ([[0, 0, 0, 0],\n",
       "   [0, 0, 0, 0],\n",
       "   [0, 0, 0, 0],\n",
       "   [0, 0, 0, 0],\n",
       "   [0, 0, -1, 1],\n",
       "   [0, 1, -1, 0],\n",
       "   [0, 0, 0, 0],\n",
       "   [1, 0, -1, 0]],\n",
       "  array([[ 0,  0,  1,  1],\n",
       "         [ 0,  1,  0,  1],\n",
       "         [ 0,  1,  1,  0],\n",
       "         [ 1,  0,  0,  1],\n",
       "         [ 1,  0,  1,  0],\n",
       "         [ 1,  1, -1,  1],\n",
       "         [ 1,  1,  0,  0],\n",
       "         [ 2,  0,  0,  0]], dtype=int32),\n",
       "  [(Graph on 4 vertices, [0, 0, 0, 0]),\n",
       "   (Graph on 4 vertices, [0, 0, 0, 0]),\n",
       "   (Graph on 4 vertices, [0, 0, 0, 0]),\n",
       "   (Graph on 4 vertices, [0, 0, 0, 0]),\n",
       "   (Graph on 4 vertices, [0, 0, -1, 1]),\n",
       "   (Graph on 4 vertices, [0, 1, -1, 0]),\n",
       "   (Graph on 4 vertices, [0, 0, 0, 0]),\n",
       "   (Graph on 4 vertices, [1, 0, -1, 0])],\n",
       "  [(Multi-graph on 4 vertices, (1, 4, 2, 3), Multi-graph on 4 vertices),\n",
       "   (Multi-graph on 4 vertices, (0, 4, 3), Multi-graph on 4 vertices),\n",
       "   (Multi-graph on 4 vertices, (1, 0, 2), Multi-graph on 4 vertices),\n",
       "   (Multi-graph on 4 vertices, (1, 2, 0), Multi-graph on 4 vertices),\n",
       "   (Multi-graph on 4 vertices, (0, 3, 4), Multi-graph on 4 vertices)]),\n",
       " ([[0, 0, 0, 0],\n",
       "   [0, 0, 1, -1],\n",
       "   [1, 0, 0, -1],\n",
       "   [0, 0, 1, -1],\n",
       "   [0, 0, 0, 0],\n",
       "   [1, 0, 0, -1],\n",
       "   [0, 0, 1, -1],\n",
       "   [1, 0, 0, -1]],\n",
       "  array([[ 0,  0,  2,  0],\n",
       "         [ 0,  1,  1,  0],\n",
       "         [ 1,  0,  1,  0],\n",
       "         [ 1,  0,  2, -1],\n",
       "         [ 1,  1,  0,  0],\n",
       "         [ 1,  1,  1, -1],\n",
       "         [ 2,  0,  0,  0],\n",
       "         [ 2,  0,  1, -1]], dtype=int32),\n",
       "  [(Graph on 4 vertices, [0, 0, 0, 0]),\n",
       "   (Graph on 4 vertices, [0, 0, 1, -1]),\n",
       "   (Graph on 4 vertices, [1, 0, 0, -1]),\n",
       "   (Graph on 4 vertices, [0, 0, 1, -1]),\n",
       "   (Graph on 4 vertices, [0, 0, 0, 0]),\n",
       "   (Graph on 4 vertices, [1, 0, 0, -1]),\n",
       "   (Graph on 4 vertices, [0, 0, 1, -1]),\n",
       "   (Graph on 4 vertices, [1, 0, 0, -1])],\n",
       "  [(Multi-graph on 4 vertices, (1, 3, 4, 2), Multi-graph on 4 vertices),\n",
       "   (Multi-graph on 4 vertices, (0, 3, 4), Multi-graph on 4 vertices),\n",
       "   (Multi-graph on 4 vertices, (1, 0, 2), Multi-graph on 4 vertices),\n",
       "   (Multi-graph on 4 vertices, (1, 0, 2), Multi-graph on 4 vertices),\n",
       "   (Multi-graph on 4 vertices, (0, 3, 4), Multi-graph on 4 vertices)]),\n",
       " ([[0, 0, 0, 0],\n",
       "   [0, 0, 1, -1],\n",
       "   [1, 0, 0, -1],\n",
       "   [0, 1, 0, -1],\n",
       "   [1, 0, 0, -1],\n",
       "   [1, 0, 0, -1],\n",
       "   [1, 0, 0, -1],\n",
       "   [1, 0, 0, -1]],\n",
       "  array([[ 0,  1,  1,  0],\n",
       "         [ 1,  0,  1,  0],\n",
       "         [ 1,  0,  2, -1],\n",
       "         [ 1,  1,  0,  0],\n",
       "         [ 1,  1,  1, -1],\n",
       "         [ 2,  0,  0,  0],\n",
       "         [ 2,  0,  1, -1],\n",
       "         [ 2,  1,  0, -1]], dtype=int32),\n",
       "  [(Graph on 4 vertices, [0, 0, 0, 0]),\n",
       "   (Graph on 4 vertices, [0, 0, 1, -1]),\n",
       "   (Graph on 4 vertices, [1, 0, 0, -1]),\n",
       "   (Graph on 4 vertices, [0, 1, 0, -1]),\n",
       "   (Graph on 4 vertices, [1, 0, 0, -1]),\n",
       "   (Graph on 4 vertices, [1, 0, 0, -1]),\n",
       "   (Graph on 4 vertices, [1, 0, 0, -1]),\n",
       "   (Graph on 4 vertices, [1, 0, 0, -1])],\n",
       "  [(Multi-graph on 4 vertices, (1, 3, 2, 4), Multi-graph on 4 vertices),\n",
       "   (Multi-graph on 4 vertices, (0, 3, 4), Multi-graph on 4 vertices),\n",
       "   (Multi-graph on 4 vertices, (1, 2, 0), Multi-graph on 4 vertices),\n",
       "   (Multi-graph on 4 vertices, (1, 0, 2), Multi-graph on 4 vertices),\n",
       "   (Multi-graph on 4 vertices, (0, 4, 3), Multi-graph on 4 vertices)]),\n",
       " ([[0, 0, 0, 0],\n",
       "   [0, 0, 0, 0],\n",
       "   [0, 0, 0, 0],\n",
       "   [0, 1, -1, 0],\n",
       "   [1, 0, -1, 0],\n",
       "   [0, 1, -1, 0],\n",
       "   [1, 0, -1, 0],\n",
       "   [1, 0, -1, 0]],\n",
       "  array([[ 0,  1,  0,  1],\n",
       "         [ 0,  1,  1,  0],\n",
       "         [ 1,  0,  0,  1],\n",
       "         [ 1,  0,  1,  0],\n",
       "         [ 1,  1, -1,  1],\n",
       "         [ 1,  1,  0,  0],\n",
       "         [ 2,  0,  0,  0],\n",
       "         [ 2,  1, -1,  0]], dtype=int32),\n",
       "  [(Graph on 4 vertices, [0, 0, 0, 0]),\n",
       "   (Graph on 4 vertices, [0, 0, 0, 0]),\n",
       "   (Graph on 4 vertices, [0, 0, 0, 0]),\n",
       "   (Graph on 4 vertices, [0, 1, -1, 0]),\n",
       "   (Graph on 4 vertices, [1, 0, -1, 0]),\n",
       "   (Graph on 4 vertices, [0, 1, -1, 0]),\n",
       "   (Graph on 4 vertices, [1, 0, -1, 0]),\n",
       "   (Graph on 4 vertices, [1, 0, -1, 0])],\n",
       "  [(Multi-graph on 4 vertices, (1, 2, 4, 3), Multi-graph on 4 vertices),\n",
       "   (Multi-graph on 4 vertices, (0, 4, 3), Multi-graph on 4 vertices),\n",
       "   (Multi-graph on 4 vertices, (1, 2, 0), Multi-graph on 4 vertices),\n",
       "   (Multi-graph on 4 vertices, (1, 2, 0), Multi-graph on 4 vertices),\n",
       "   (Multi-graph on 4 vertices, (0, 4, 3), Multi-graph on 4 vertices)]),\n",
       " ([[0, 0, 0, 0],\n",
       "   [0, 0, 1, -1],\n",
       "   [1, 0, 0, -1],\n",
       "   [0, 1, 0, -1],\n",
       "   [1, 0, -1, 0],\n",
       "   [1, 1, -1, -1],\n",
       "   [1, 0, 0, -1],\n",
       "   [2, 0, -1, -1]],\n",
       "  array([[ 0,  1,  1,  0],\n",
       "         [ 1,  0,  1,  0],\n",
       "         [ 1,  1,  0,  0],\n",
       "         [ 1,  1,  1, -1],\n",
       "         [ 2,  0,  0,  0],\n",
       "         [ 2,  0,  1, -1],\n",
       "         [ 2,  1, -1,  0],\n",
       "         [ 2,  1,  0, -1]], dtype=int32),\n",
       "  [(Graph on 4 vertices, [0, 0, 0, 0]),\n",
       "   (Graph on 4 vertices, [0, 0, 1, -1]),\n",
       "   (Graph on 4 vertices, [1, 0, 0, -1]),\n",
       "   (Graph on 4 vertices, [0, 1, 0, -1]),\n",
       "   (Graph on 4 vertices, [1, 0, -1, 0]),\n",
       "   (Graph on 4 vertices, [1, 1, -1, -1]),\n",
       "   (Graph on 4 vertices, [1, 0, 0, -1]),\n",
       "   (Graph on 4 vertices, [2, 0, -1, -1])],\n",
       "  [(Multi-graph on 4 vertices, (1, 2, 3, 4), Multi-graph on 4 vertices),\n",
       "   (Multi-graph on 4 vertices, (0, 3, 4), Multi-graph on 4 vertices),\n",
       "   (Multi-graph on 4 vertices, (1, 2, 0), Multi-graph on 4 vertices),\n",
       "   (Multi-graph on 4 vertices, (1, 2, 0), Multi-graph on 4 vertices),\n",
       "   (Multi-graph on 4 vertices, (0, 3, 4), Multi-graph on 4 vertices)])]"
      ]
     },
     "execution_count": 43,
     "metadata": {},
     "output_type": "execute_result"
    }
   ],
   "source": [
    "# graphname=\"G4M2\"\n",
    "# G=Graph([(\"0\",\"1\"),(\"1\",\"2\"),(\"2\",\"3\"),(\"3\",\"0\"),(\"0\",\"2\")], multiedges=True)\n",
    "# edge_labels = {(\"0\",\"1\"):\"e1\",(\"1\",\"2\"):\"e2\",(\"2\",\"3\"):\"e3\",(\"3\",\"0\"):\"e4\",(\"0\",\"2\"):\"e0\"}\n",
    "# run_example(graphname,G,edge_labels)"
   ]
  },
  {
   "cell_type": "code",
   "execution_count": null,
   "metadata": {
    "jupyter": {
     "outputs_hidden": true
    },
    "tags": []
   },
   "outputs": [],
   "source": [
    "# graphname=\"G5M2\"\n",
    "# G=Graph([(\"0\",\"1\"),(\"1\",\"2\"),(\"2\",\"3\"),(\"3\",\"4\"),(\"4\",\"0\"),(\"0\",\"2\")], multiedges=True)\n",
    "# edge_labels = {(\"0\",\"1\"):\"e1\",(\"1\",\"2\"):\"e2\",(\"2\",\"3\"):\"e3\",(\"3\",\"4\"):\"e4\",(\"4\",\"0\"):\"e5\",(\"0\",\"2\"):\"e0\"}\n",
    "# run_example(graphname,G,edge_labels)"
   ]
  },
  {
   "cell_type": "code",
   "execution_count": null,
   "metadata": {
    "jupyter": {
     "outputs_hidden": true
    }
   },
   "outputs": [],
   "source": [
    "# graphname=\"G6M2\"\n",
    "# G=Graph([(\"0\",\"1\"),(\"1\",\"2\"),(\"2\",\"3\"),(\"3\",\"4\"),(\"4\",\"5\"),(\"5\",\"0\"),(\"0\",\"2\")], multiedges=True)\n",
    "# edge_labels = {(\"0\",\"1\"):\"e1\",(\"1\",\"2\"):\"e2\",(\"2\",\"3\"):\"e3\",(\"3\",\"4\"):\"e4\",(\"4\",\"5\"):\"e5\",(\"5\",\"0\"):\"e6\",(\"0\",\"2\"):\"e0\"}\n",
    "# run_example(graphname,G,edge_labels)"
   ]
  },
  {
   "cell_type": "code",
   "execution_count": 54,
   "metadata": {
    "jupyter": {
     "outputs_hidden": true
    }
   },
   "outputs": [],
   "source": [
    "graphname=\"G6M3\"  \n",
    "G=Graph([(\"0\",\"1\"),(\"1\",\"2\"),(\"2\",\"3\"),(\"3\",\"4\"),(\"4\",\"5\"),(\"5\",\"0\"),(\"0\",\"3\")], multiedges=True)\n",
    "edge_labels = {(\"0\",\"1\"):\"e1\",(\"1\",\"2\"):\"e2\",(\"2\",\"3\"):\"e3\",(\"3\",\"4\"):\"e4\",(\"4\",\"5\"):\"e5\",(\"5\",\"0\"):\"e6\",(\"0\",\"3\"):\"e0\"}\n",
    "\n",
    "ordering_trees=list(G.spanning_trees())\n",
    "subgraphs= get_subgraphs_gm1_Edgesmissing(G) #Get #\\tilde{G} the subgraphs T\\cup e.-D\n",
    "\n",
    "#Get assignment,lbm for all wsc\n",
    "ass_datum=unpickle_assignment_datum(graphname) # the assignments are in the order ordering_trees.\n",
    "\n",
    "total_data=run_over_all_assignments(ass_datum,G,edge_labels,ordering_trees,subgraphs)\n",
    "output_to_file(G,total_data,ordering_trees)\n",
    "\n",
    "# run_example(graphname,G,edge_labels)"
   ]
  },
  {
   "cell_type": "code",
   "execution_count": 111,
   "metadata": {},
   "outputs": [],
   "source": [
    "graphname=\"G6M3_non\"  \n",
    "G=Graph([(\"0\",\"1\"),(\"1\",\"2\"),(\"2\",\"3\"),(\"3\",\"4\"),(\"4\",\"5\"),(\"5\",\"0\"),(\"0\",\"3\")], multiedges=True)\n",
    "edge_labels = {(\"0\",\"1\"):\"e1\",(\"1\",\"2\"):\"e2\",(\"2\",\"3\"):\"e3\",(\"3\",\"4\"):\"e4\",(\"4\",\"5\"):\"e5\",(\"5\",\"0\"):\"e6\",(\"0\",\"3\"):\"e0\"}\n",
    "\n",
    "\n",
    "\n",
    "# run_example(graphname,G,edge_labels)\n",
    "\n",
    "# # def run_example(graphname,G,edge_labels):\n",
    "ordering_trees=list(G.spanning_trees())\n",
    "subgraphs= get_subgraphs_gm1_Edgesmissing(G) #Get #\\tilde{G} the subgraphs T\\cup e.-D\n",
    "#Get assignment,lbm for all wsc\n",
    "ass_datum=unpickle_assignment_datum(graphname) # the assignments are in the order ordering_trees."
   ]
  },
  {
   "cell_type": "code",
   "execution_count": 112,
   "metadata": {},
   "outputs": [],
   "source": [
    "# ass_datum[7]\n",
    "# ass_datum[0]\n",
    "# ass_datum[1]\n",
    "# ass_datum=[ass_datum[7]]\n",
    "\n",
    "ass_datum=[ass_datum[3]]"
   ]
  },
  {
   "cell_type": "code",
   "execution_count": 113,
   "metadata": {},
   "outputs": [
    {
     "ename": "IndexError",
     "evalue": "list index out of range",
     "output_type": "error",
     "traceback": [
      "\u001b[0;31m---------------------------------------------------------------------------\u001b[0m",
      "\u001b[0;31mIndexError\u001b[0m                                Traceback (most recent call last)",
      "\u001b[0;32m<ipython-input-113-7bfeb46f5c17>\u001b[0m in \u001b[0;36m<module>\u001b[0;34m\u001b[0m\n\u001b[0;32m----> 1\u001b[0;31m \u001b[0mtotal_data\u001b[0m\u001b[0;34m=\u001b[0m\u001b[0mrun_over_all_assignments\u001b[0m\u001b[0;34m(\u001b[0m\u001b[0mass_datum\u001b[0m\u001b[0;34m,\u001b[0m\u001b[0mG\u001b[0m\u001b[0;34m,\u001b[0m\u001b[0medge_labels\u001b[0m\u001b[0;34m,\u001b[0m\u001b[0mordering_trees\u001b[0m\u001b[0;34m,\u001b[0m\u001b[0msubgraphs\u001b[0m\u001b[0;34m)\u001b[0m\u001b[0;34m\u001b[0m\u001b[0;34m\u001b[0m\u001b[0m\n\u001b[0m\u001b[1;32m      2\u001b[0m \u001b[0moutput_to_file\u001b[0m\u001b[0;34m(\u001b[0m\u001b[0mG\u001b[0m\u001b[0;34m,\u001b[0m\u001b[0mtotal_data\u001b[0m\u001b[0;34m,\u001b[0m\u001b[0mordering_trees\u001b[0m\u001b[0;34m)\u001b[0m\u001b[0;34m\u001b[0m\u001b[0;34m\u001b[0m\u001b[0m\n\u001b[1;32m      3\u001b[0m \u001b[0;34m\u001b[0m\u001b[0m\n\u001b[1;32m      4\u001b[0m \u001b[0;31m#     pickle_data(graphname,total_data)\u001b[0m\u001b[0;34m\u001b[0m\u001b[0;34m\u001b[0m\u001b[0;34m\u001b[0m\u001b[0m\n\u001b[1;32m      5\u001b[0m \u001b[0;34m\u001b[0m\u001b[0m\n",
      "\u001b[0;32m<ipython-input-34-d2dc5e7b38b6>\u001b[0m in \u001b[0;36mrun_over_all_assignments\u001b[0;34m(ass_datum, G, edge_labels, ordering_trees, subgraphs)\u001b[0m\n\u001b[1;32m      9\u001b[0m \u001b[0;34m\u001b[0m\u001b[0m\n\u001b[1;32m     10\u001b[0m     \u001b[0massignment_data_all\u001b[0m\u001b[0;34m=\u001b[0m\u001b[0mget_tree_ass_data\u001b[0m\u001b[0;34m(\u001b[0m\u001b[0mass_datum\u001b[0m\u001b[0;34m,\u001b[0m\u001b[0mordering_trees\u001b[0m\u001b[0;34m)\u001b[0m\u001b[0;34m\u001b[0m\u001b[0;34m\u001b[0m\u001b[0m\n\u001b[0;32m---> 11\u001b[0;31m     \u001b[0msubg_cycle_data\u001b[0m\u001b[0;34m=\u001b[0m\u001b[0mget_subgraph_cycles_for_ass_datum\u001b[0m\u001b[0;34m(\u001b[0m\u001b[0mass_datum\u001b[0m\u001b[0;34m,\u001b[0m\u001b[0mG\u001b[0m\u001b[0;34m,\u001b[0m\u001b[0medge_labels\u001b[0m\u001b[0;34m,\u001b[0m\u001b[0mordering_trees\u001b[0m\u001b[0;34m,\u001b[0m\u001b[0msubgraphs\u001b[0m\u001b[0;34m)\u001b[0m\u001b[0;34m\u001b[0m\u001b[0;34m\u001b[0m\u001b[0m\n\u001b[0m\u001b[1;32m     12\u001b[0m \u001b[0;34m\u001b[0m\u001b[0m\n\u001b[1;32m     13\u001b[0m     \u001b[0mtotal_data\u001b[0m\u001b[0;34m=\u001b[0m\u001b[0;34m[\u001b[0m\u001b[0;34m]\u001b[0m\u001b[0;34m\u001b[0m\u001b[0;34m\u001b[0m\u001b[0m\n",
      "\u001b[0;32m<ipython-input-33-78d47401530c>\u001b[0m in \u001b[0;36mget_subgraph_cycles_for_ass_datum\u001b[0;34m(ass_datum, G, edge_labels, ordering_trees, subgraphs)\u001b[0m\n\u001b[1;32m     11\u001b[0m \u001b[0;34m\u001b[0m\u001b[0m\n\u001b[1;32m     12\u001b[0m         \u001b[0;31m#Get (subg,cycle),relabler) without labeling of G\u001b[0m\u001b[0;34m\u001b[0m\u001b[0;34m\u001b[0m\u001b[0;34m\u001b[0m\u001b[0m\n\u001b[0;32m---> 13\u001b[0;31m         \u001b[0msubg_data\u001b[0m\u001b[0;34m=\u001b[0m\u001b[0mrun_over_all_subgraphs\u001b[0m\u001b[0;34m(\u001b[0m\u001b[0mcase\u001b[0m\u001b[0;34m,\u001b[0m\u001b[0msubgraphs\u001b[0m\u001b[0;34m)\u001b[0m\u001b[0;34m\u001b[0m\u001b[0;34m\u001b[0m\u001b[0m\n\u001b[0m\u001b[1;32m     14\u001b[0m \u001b[0;34m\u001b[0m\u001b[0m\n\u001b[1;32m     15\u001b[0m         \u001b[0;31m#returns (subg,cycles) with labeling\u001b[0m\u001b[0;34m\u001b[0m\u001b[0;34m\u001b[0m\u001b[0;34m\u001b[0m\u001b[0m\n",
      "\u001b[0;32m<ipython-input-62-608b459a49e0>\u001b[0m in \u001b[0;36mrun_over_all_subgraphs\u001b[0;34m(case, subgraphs)\u001b[0m\n\u001b[1;32m     16\u001b[0m \u001b[0;34m\u001b[0m\u001b[0m\n\u001b[1;32m     17\u001b[0m         \u001b[0mIm_data\u001b[0m\u001b[0;34m,\u001b[0m\u001b[0mrelabler\u001b[0m\u001b[0;34m,\u001b[0m\u001b[0mtranslator_tree\u001b[0m\u001b[0;34m=\u001b[0m\u001b[0mget_Im_data\u001b[0m\u001b[0;34m(\u001b[0m\u001b[0mcase\u001b[0m\u001b[0;34m,\u001b[0m\u001b[0msubg\u001b[0m\u001b[0;34m)\u001b[0m\u001b[0;34m\u001b[0m\u001b[0;34m\u001b[0m\u001b[0m\n\u001b[0;32m---> 18\u001b[0;31m         \u001b[0mcycle\u001b[0m\u001b[0;34m=\u001b[0m\u001b[0mcheck\u001b[0m\u001b[0;34m(\u001b[0m\u001b[0mIm_data\u001b[0m\u001b[0;34m,\u001b[0m\u001b[0mm\u001b[0m\u001b[0;34m)\u001b[0m\u001b[0;34m\u001b[0m\u001b[0;34m\u001b[0m\u001b[0m\n\u001b[0m\u001b[1;32m     19\u001b[0m \u001b[0;34m\u001b[0m\u001b[0m\n\u001b[1;32m     20\u001b[0m         \u001b[0mprint\u001b[0m\u001b[0;34m(\u001b[0m\u001b[0;34mf\"cycle: {cycle}\"\u001b[0m\u001b[0;34m)\u001b[0m\u001b[0;34m\u001b[0m\u001b[0;34m\u001b[0m\u001b[0m\n",
      "\u001b[0;32m<ipython-input-95-6b538a0fb0bc>\u001b[0m in \u001b[0;36mcheck\u001b[0;34m(Im_data, n)\u001b[0m\n\u001b[1;32m     32\u001b[0m         \u001b[0;31m#Let take the first one if more than one.\u001b[0m\u001b[0;34m\u001b[0m\u001b[0;34m\u001b[0m\u001b[0;34m\u001b[0m\u001b[0m\n\u001b[1;32m     33\u001b[0m \u001b[0;34m\u001b[0m\u001b[0m\n\u001b[0;32m---> 34\u001b[0;31m         \u001b[0mcycle\u001b[0m\u001b[0;34m=\u001b[0m\u001b[0mgood_cycles\u001b[0m\u001b[0;34m[\u001b[0m\u001b[0mInteger\u001b[0m\u001b[0;34m(\u001b[0m\u001b[0;36m0\u001b[0m\u001b[0;34m)\u001b[0m\u001b[0;34m]\u001b[0m\u001b[0;34m\u001b[0m\u001b[0;34m\u001b[0m\u001b[0m\n\u001b[0m\u001b[1;32m     35\u001b[0m         \u001b[0;32mreturn\u001b[0m \u001b[0mcycle\u001b[0m\u001b[0;34m\u001b[0m\u001b[0;34m\u001b[0m\u001b[0m\n",
      "\u001b[0;31mIndexError\u001b[0m: list index out of range"
     ]
    }
   ],
   "source": [
    "total_data=run_over_all_assignments(ass_datum,G,edge_labels,ordering_trees,subgraphs)\n",
    "output_to_file(G,total_data,ordering_trees)    \n",
    "    \n",
    "#     pickle_data(graphname,total_data)\n",
    "    \n",
    "#     store_data(G,total_data,ordering_trees,graphname)\n",
    "#     print(\"Done\")\n",
    "#     return total_data"
   ]
  },
  {
   "cell_type": "markdown",
   "metadata": {
    "jp-MarkdownHeadingCollapsed": true,
    "tags": []
   },
   "source": [
    "#### Cyclic graphs: genus 1"
   ]
  },
  {
   "cell_type": "code",
   "execution_count": null,
   "metadata": {
    "jupyter": {
     "outputs_hidden": true
    }
   },
   "outputs": [],
   "source": [
    "# graphname=\"G3\"\n",
    "# G=Graph([(\"0\",\"1\"),(\"1\",\"2\"),(\"2\",\"0\")], multiedges=True)\n",
    "# edge_labels = {(\"0\",\"1\"):\"e1\",(\"1\",\"2\"):\"e2\",(\"2\",\"0\"):\"e3\"}\n",
    "# run_example(graphname,G,edge_labels)"
   ]
  },
  {
   "cell_type": "code",
   "execution_count": null,
   "metadata": {
    "jupyter": {
     "outputs_hidden": true
    }
   },
   "outputs": [],
   "source": [
    "# graphname=\"G4\"\n",
    "# G=Graph([(\"0\",\"1\"),(\"1\",\"2\"),(\"2\",\"3\"),(\"3\",\"0\")], multiedges=True)\n",
    "# edge_labels = {(\"0\",\"1\"):\"e1\",(\"1\",\"2\"):\"e2\",(\"2\",\"3\"):\"e3\",(\"3\",\"0\"):\"e4\"}\n",
    "# run_example(graphname,G,edge_labels)"
   ]
  },
  {
   "cell_type": "code",
   "execution_count": null,
   "metadata": {
    "jupyter": {
     "outputs_hidden": true
    }
   },
   "outputs": [],
   "source": [
    "# graphname=\"G5\"\n",
    "# G=Graph([(\"0\",\"1\"),(\"1\",\"2\"),(\"2\",\"3\"),(\"3\",\"4\"),(\"4\",\"0\")], multiedges=True)\n",
    "# edge_labels = {(\"0\",\"1\"):\"e1\",(\"1\",\"2\"):\"e2\",(\"2\",\"3\"):\"e3\",(\"3\",\"4\"):\"e4\",(\"4\",\"0\"):\"e5\"}\n",
    "# run_example(graphname,G,edge_labels)"
   ]
  },
  {
   "cell_type": "code",
   "execution_count": null,
   "metadata": {
    "jupyter": {
     "outputs_hidden": true
    }
   },
   "outputs": [],
   "source": [
    "# graphname=\"G6\"\n",
    "# G=Graph([(\"0\",\"1\"),(\"1\",\"2\"),(\"2\",\"3\"),(\"3\",\"4\"),(\"4\",\"5\"),(\"5\",\"0\")], multiedges=True)\n",
    "# edge_labels = {(\"0\",\"1\"):\"e1\",(\"1\",\"2\"):\"e2\",(\"2\",\"3\"):\"e3\",(\"3\",\"4\"):\"e4\",(\"4\",\"5\"):\"e5\",(\"5\",\"0\"):\"e6\"}\n",
    "# run_example(graphname,G,edge_labels)"
   ]
  },
  {
   "cell_type": "markdown",
   "metadata": {
    "jp-MarkdownHeadingCollapsed": true,
    "tags": []
   },
   "source": [
    "#### Graphs we do not have"
   ]
  },
  {
   "cell_type": "code",
   "execution_count": null,
   "metadata": {
    "jupyter": {
     "outputs_hidden": true
    }
   },
   "outputs": [],
   "source": [
    "# graphname=\"V_225\"\n",
    "# G=Graph([(\"0\",\"1\"),(\"1\",\"2\"),(\"2\",\"3\"),(\"3\",\"4\"),(\"4\",\"5\"),(\"5\",\"6\"),(\"6\",\"0\"),(\"0\",\"7\"),(\"7\",\"2\")], multiedges=True)\n",
    "run_example(graphname,G,edge_labels)\n",
    "# graphname=\"V_234\"\n",
    "# G=Graph([(\"0\",\"1\"),(\"1\",\"2\"),(\"2\",\"3\"),(\"3\",\"4\"),(\"4\",\"5\"),(\"5\",\"6\"),(\"6\",\"0\"),(\"0\",\"7\"),(\"7\",\"3\")], multiedges=True)\n",
    "run_example(graphname,G,edge_labels)\n",
    "# graphname=\"V_235\"\n",
    "# G=Graph([(\"0\",\"1\"),(\"1\",\"2\"),(\"2\",\"3\"),(\"3\",\"4\"),(\"4\",\"5\"),(\"5\",\"6\"),(\"6\",\"0\"),(\"0\",\"7\"),(\"7\",\"8\"),(\"8\",\"2\")], multiedges=True)\n",
    "run_example(graphname,G,edge_labels)\n",
    "# graphname=\"V_333\"\n",
    "# G=Graph([(\"0\",\"1\"),(\"1\",\"2\"),(\"2\",\"3\"),(\"3\",\"4\"),(\"4\",\"5\"),(\"5\",\"0\"),(\"0\",\"6\"),(\"6\",\"7\"),(\"7\",\"3\")], multiedges=True)\n",
    "run_example(graphname,G,edge_labels)\n",
    "# graphname=\"V_334\"\n",
    "# G=Graph([(\"0\",\"1\"),(\"1\",\"2\"),(\"2\",\"3\"),(\"3\",\"4\"),(\"4\",\"5\"),(\"5\",\"6\"),(\"6\",\"0\"),(\"0\",\"7\"),(\"7\",\"8\"),(\"8\",\"3\")], multiedges=True)\n",
    "run_example(graphname,G,edge_labels)\n",
    "\n",
    "# graphname=\"G8M04\"\n",
    "# G=Graph([(\"0\",\"1\"),(\"1\",\"2\"),(\"2\",\"3\"),(\"3\",\"4\"),(\"4\",\"5\"),(\"5\",\"6\"),(\"6\",\"7\"),(\"7\",\"0\"),(\"0\",\"4\")], multiedges=True)\n",
    "# run_example(graphname,G,edge_labels)\n",
    "# graphname=\"G8M02\"\n",
    "# G=Graph([(\"0\",\"1\"),(\"1\",\"2\"),(\"2\",\"3\"),(\"3\",\"4\"),(\"4\",\"5\"),(\"5\",\"6\"),(\"6\",\"7\"),(\"7\",\"0\"),(\"0\",\"2\")], multiedges=True)\n",
    "# run_example(graphname,G,edge_labels)"
   ]
  },
  {
   "cell_type": "markdown",
   "metadata": {
    "jp-MarkdownHeadingCollapsed": true,
    "tags": []
   },
   "source": [
    "# Used Throughout"
   ]
  },
  {
   "cell_type": "code",
   "execution_count": 40,
   "metadata": {},
   "outputs": [],
   "source": [
    "import numpy as np\n",
    "import networkx as nx\n",
    "from collections import Counter\n",
    "import itertools \n",
    "import random\n",
    "from itertools import combinations, permutations\n",
    "import sys\n",
    "import pickle\n",
    "\n",
    "# from sage.graphs.connectivity import connected_components_subgraphs"
   ]
  },
  {
   "cell_type": "code",
   "execution_count": 41,
   "metadata": {},
   "outputs": [],
   "source": [
    "import ast\n",
    "import inspect\n",
    "\n",
    "def find_functions_used(func):\n",
    "    \n",
    "    \"\"\"Add print Objective.\"\"\"\n",
    "    \n",
    "    functions_used = set()\n",
    "    tree = ast.parse(inspect.getsource(func))\n",
    "    for node in ast.walk(tree):\n",
    "        if isinstance(node, ast.Call) and isinstance(node.func, ast.Name):\n",
    "            functions_used.add(node.func.id)\n",
    "    return functions_used\n",
    "\n",
    "def find_functions_used_l(l):\n",
    "    for func in l:\n",
    "        functions_used = find_functions_used(func)\n",
    "        print(f\"{func.__name__}:{functions_used} \\n\")\n",
    "\n",
    "# l = [f1, f2, f3]\n",
    "# find_functions_used_l(l)\n"
   ]
  },
  {
   "cell_type": "markdown",
   "metadata": {
    "jp-MarkdownHeadingCollapsed": true,
    "tags": []
   },
   "source": [
    "# Leftovers"
   ]
  },
  {
   "cell_type": "code",
   "execution_count": null,
   "metadata": {},
   "outputs": [],
   "source": [
    "# def get_Im_data(case,subg): #OLD\n",
    "#     \"\"\"\n",
    "#         The following function returns the assignment data we want on Im part for the subnecklace.\n",
    "#         Using this we can get the cycle.\n",
    "\n",
    "#         Returns: relabler too \n",
    "#     \"\"\"\n",
    "#     # Pick subg\n",
    "#     vert_num_G=len(list(subg.vertices()))\n",
    "\n",
    "#     # What is Im necklace\n",
    "#     [edges_subnecklace]=subg.cycle_basis(output='edge') #return cycle of subgnecklace\n",
    "#     Im=Graph(edges_subnecklace)\n",
    "#     m=len(edges_subnecklace) #length of subnecklace\n",
    "\n",
    "#     # Get spanning trees of subg\n",
    "#     subg_trees=list(subg.spanning_trees())\n",
    "\n",
    "#     #Data we want to analyse.\n",
    "\n",
    "#     ## Pick (T,Ass) from ass_datum for trees in subg_trees.\n",
    "#     data=[]\n",
    "#     for pair in case:\n",
    "#         if pair[0] in subg_trees:\n",
    "#             data.append(pair)\n",
    "\n",
    "#     ## Pick (t,ass_t) where we will have ass_t=0.\n",
    "#     common_tree,common_tree_assingment=data[0] # tree with tails still\n",
    "\n",
    "#     # From data we need to remove the tails from the trees.\n",
    "\n",
    "#     ## Remove disconnected vertices from tails.\n",
    "#     tails=get_tails(subg)\n",
    "#     tails=remove_discon_verts(tails)\n",
    "\n",
    "#     ## Remove tails from trees of subg in data.\n",
    "#     removed_tails_data=remove_tails_tree_of_subg(data,tails)\n",
    "#     data=removed_tails_data\n",
    "\n",
    "#     # Label (t,ass_t) where we have ass_t=0 in Im.\n",
    "#     Im_common_tree,Im_common_tree_assingment=data[0]\n",
    "\n",
    "#     ## Relabel trees of data in Subg necklace format to In format.\n",
    "#     relabler=get_relabler(subg,Im_common_tree,leave_order=None)\n",
    "#     temp_data=get_temp_data(relabler,data)\n",
    "\n",
    "\n",
    "#     # Consider the assignments and translate so common_tree_assingment=0.\n",
    "#     Im_data=un_translate_data(temp_data,common_tree_assingment)\n",
    "\n",
    "#     ## Remove components of assignments from vertices of tail of subg from assignments of trees in subg.\n",
    "\n",
    "#     Im_data=get_Im_assignments(relabler,Im_data,Im_common_tree)\n",
    "\n",
    "#     return Im_data,relabler"
   ]
  },
  {
   "cell_type": "code",
   "execution_count": null,
   "metadata": {},
   "outputs": [],
   "source": [
    "# #Compare the following with check in analysis_cycles\n",
    "# dd=examp[2][3]\n",
    "# dd\n",
    "\n",
    "# #Lets check we have translator trees for each subg.\n",
    "\n",
    "# ll=[i[2] for i in dd]\n",
    "# graphs_list.show_graphs(ll)\n",
    "# #subgraph\n",
    "# ll=[i[0] for i in dd]\n",
    "# graphs_list.show_graphs(ll)"
   ]
  },
  {
   "cell_type": "code",
   "execution_count": null,
   "metadata": {
    "tags": []
   },
   "outputs": [],
   "source": [
    "## Example all details worked out\n",
    "\n",
    "# # #example all worked out\n",
    "\n",
    "# # #Take example case-D\n",
    "# # example=assignment_data_all[8]\n",
    "\n",
    "# # #Get #\\tilde{G} the subgraphs T\\cup e.-D\n",
    "# # subgraphs= get_subgraphs_gm1_Edgesmissing(G) \n",
    "\n",
    "# # #pick example-D\n",
    "# # subg=subgraphs[5]\n",
    "# vert_num_G=len(list(subg.vertices()))\n",
    "# show(subg)\n",
    "\n",
    "# # get spanning trees of subg-D\n",
    "# subg_trees=list(subg.spanning_trees())\n",
    "\n",
    "\n",
    "# #pick (T,Ass) from ass_datum for trees in subg_trees.\n",
    "# subg_datum=[]\n",
    "# for pair in example:\n",
    "#     if pair[0] in subg_trees:\n",
    "#         subg_datum.append(pair)\n",
    "        \n",
    "# data=subg_datum\n",
    "\n",
    "# # pick one to be common_tree\n",
    "# common_tree,common_tree_assingment=data[0] # tree with tails still\n",
    "# show(common_tree)\n",
    "\n",
    "# #From data we need to remove the tails from the trees.\n",
    "# removed_tails_data=remove_tails_tree_of_subg(data,tails)\n",
    "# data=removed_tails_data\n",
    "# Im_common_tree,Im_common_tree_assingment=data[0]\n",
    "# show(Im_common_tree)\n",
    "\n",
    "\n",
    "# relabler=get_relabler(subg,Im_common_tree,leave_order=None)\n",
    "\n",
    "# temp_data=get_temp_data(relabler,data)\n",
    "\n",
    "# print(\"Before relabling\")\n",
    "# show(Im_common_tree)\n",
    "\n",
    "# print(\"Relabeler:\",relabler)\n",
    "\n",
    "# print(\"After relabling\")\n",
    "# show(temp_data[0][0])\n",
    "\n",
    "# Now the trees of data are in the correct format of Im\n",
    "\n",
    "# Im_data=un_translate_data(temp_data,common_tree_assingment)\n",
    "\n",
    "# Im_data\n",
    "\n",
    "# Im_data[3][0]\n",
    "\n",
    "# # find_leaves(data[3][0])#[3, 4]\n",
    "\n",
    "# Im_data=get_Im_assignments(relabler,Im_data,Im_common_tree)\n",
    "# Im_data\n",
    "\n",
    "# Im_data=get_Im_data(case,subg)\n",
    "# n=int(5)\n",
    "# check(Im_data,n)\n",
    "\n",
    "# #Order of trees in Im_data\n",
    "\n",
    "# print(\"#Order of trees in Im_data\")\n",
    "# for d in Im_data:\n",
    "#     print(d[0].edges(),d[1])\n",
    "# print(\"\\n\")\n",
    "\n",
    "# #What is the length of the subnecklace?\n",
    "# # n=len(edges_subnecklace)#length of subnecklace\n",
    "# cycles=get_cycles(n)\n",
    "# #example\n",
    "# cycle=cycles[5]\n",
    "# #(tree,ass) data for this cycle in In case.\n",
    "# cycle_data=change_to_get_trees(cycle)\n",
    "\n",
    "# #get list of trees for In case.\n",
    "# print(\"list of trees for In case.\")\n",
    "# cycle_trees=[d[0] for d in cycle_data]\n",
    "\n",
    "# for d in cycle_data:\n",
    "#     print(d[0].edges(),d[1])\n",
    "    \n",
    "# # get list of assignments: it is this we want to check if it is equal \n",
    "# cycle_assignments=[d[1] for d in cycle_data]\n",
    "\n",
    "# Im_data\n",
    "\n",
    "# #Put Im_data into In case format.\n",
    "# print(\"\\n Im_data in In case format.\")\n",
    "# Im_data=get_ordered_list(Im_data,cycle_trees)\n",
    "\n",
    "# for d in Im_data:\n",
    "#     print(d[0].edges(),d[1])\n",
    "    \n",
    "# Im_data_assignments=[d[1] for d in Im_data]\n",
    "\n",
    "# check(Im_data,n)"
   ]
  },
  {
   "cell_type": "code",
   "execution_count": null,
   "metadata": {
    "jupyter": {
     "outputs_hidden": true
    }
   },
   "outputs": [],
   "source": []
  }
 ],
 "metadata": {
  "kernelspec": {
   "display_name": "SageMath 9.2",
   "language": "sage",
   "name": "sagemath"
  },
  "language_info": {
   "codemirror_mode": {
    "name": "ipython",
    "version": 3
   },
   "file_extension": ".py",
   "mimetype": "text/x-python",
   "name": "python",
   "nbconvert_exporter": "python",
   "pygments_lexer": "ipython3",
   "version": "3.7.7"
  },
  "toc-autonumbering": true,
  "toc-showcode": false,
  "toc-showmarkdowntxt": false,
  "toc-showtags": false
 },
 "nbformat": 4,
 "nbformat_minor": 5
}
