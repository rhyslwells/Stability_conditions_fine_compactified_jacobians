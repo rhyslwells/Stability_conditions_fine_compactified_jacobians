{
 "cells": [
  {
   "cell_type": "code",
   "execution_count": 1,
   "metadata": {},
   "outputs": [],
   "source": [
    "# Objective"
   ]
  },
  {
   "cell_type": "markdown",
   "metadata": {},
   "source": [
    "take the save data and print out so that its easier to understand\n",
    "\n",
    "how to make chip firing graph in sagemath with chip on vertices\n",
    "\n",
    "could use networkx ect as only need to know the edge ect data\n",
    "\n"
   ]
  },
  {
   "cell_type": "code",
   "execution_count": null,
   "metadata": {
    "jupyter": {
     "source_hidden": true
    },
    "tags": []
   },
   "outputs": [],
   "source": [
    "# Define the initial configuration of the chips\n",
    "initial_config = ChipFiringConfiguration([0,0,1,2,0,1])\n",
    "\n",
    "# Generate the chip firing graph\n",
    "G = ChipFiringGraph(initial_config)\n",
    "\n",
    "# Draw the graph with the chips on the vertices\n",
    "pos = {i: (i, initial_config[i]) for i in G}\n",
    "labels = {i: initial_config[i] for i in G}\n",
    "options = {'node_color': 'white', 'edgecolors': 'black', 'linewidths': 1, 'width': 2, 'with_labels': True}\n",
    "nx.draw_networkx_nodes(G, pos, node_size=800, node_color='lightblue', alpha=0.8)\n",
    "nx.draw_networkx_labels(G, pos, labels=labels, font_size=20)\n",
    "nx.draw_networkx_edges(G, pos, width=2, alpha=0.5)\n",
    "plt.axis('off')\n",
    "plt.show()\n"
   ]
  },
  {
   "cell_type": "code",
   "execution_count": null,
   "metadata": {},
   "outputs": [],
   "source": [
    "Trees and assignments"
   ]
  },
  {
   "cell_type": "code",
   "execution_count": null,
   "metadata": {},
   "outputs": [],
   "source": [
    "subgraphs and cycles"
   ]
  },
  {
   "cell_type": "code",
   "execution_count": null,
   "metadata": {},
   "outputs": [],
   "source": [
    "    p=subg.graphplot(edge_labels=True)\n",
    "    p.show(figsize=[3,3])"
   ]
  },
  {
   "cell_type": "code",
   "execution_count": null,
   "metadata": {},
   "outputs": [],
   "source": [
    "lbm data"
   ]
  },
  {
   "cell_type": "code",
   "execution_count": null,
   "metadata": {},
   "outputs": [],
   "source": [
    "### Load data\n"
   ]
  },
  {
   "cell_type": "code",
   "execution_count": null,
   "metadata": {},
   "outputs": [],
   "source": [
    "glist = []\n",
    "for i in range(29):\n",
    "    glist.append(graphs.RandomGNP(6, .45))\n",
    "garray = graphs_list.to_graphics_array(glist)\n",
    "garray.nrows(), garray.ncols()\n",
    "graphs_list.show_graphs(glist)"
   ]
  },
  {
   "cell_type": "code",
   "execution_count": null,
   "metadata": {},
   "outputs": [],
   "source": [
    "### Given (T,ass_T) how display assignment on tree.\n",
    "\n",
    "t = graphs.PathGraph(4)\n",
    "t.graphplot(vertex_labels=True, vertex_size=0).show()\n",
    "x=dict(zip(t, ['+', '-', '/', 'p']))\n",
    "t.plot(vertex_labels=x).show()\n",
    "\n",
    "# g = graphs.PathGraph(4)\n",
    "# g.plot(vertex_labels=lambda x: str(x % 2))\n",
    "\n",
    "# from sage.graphs.graph_plot import GraphPlot\n",
    "\n",
    "\n",
    "# # H = Graph()\n",
    "# # v = (1, 2, 3, 4)\n",
    "# # for i in range(len(v)):\n",
    "# #     H.add_vertex(i, label=v[i])\n",
    "# # show(H)\n",
    "\n",
    "# # # sage: G.relabel({0:'zero' , 1:'one', 2:'two', 3:'three'})\n",
    "# # # sage: G.vertices()?"
   ]
  }
 ],
 "metadata": {
  "kernelspec": {
   "display_name": "Python 3",
   "language": "python",
   "name": "python3"
  },
  "language_info": {
   "codemirror_mode": {
    "name": "ipython",
    "version": 3
   },
   "file_extension": ".py",
   "mimetype": "text/x-python",
   "name": "python",
   "nbconvert_exporter": "python",
   "pygments_lexer": "ipython3",
   "version": "3.7.7"
  }
 },
 "nbformat": 4,
 "nbformat_minor": 5
}
