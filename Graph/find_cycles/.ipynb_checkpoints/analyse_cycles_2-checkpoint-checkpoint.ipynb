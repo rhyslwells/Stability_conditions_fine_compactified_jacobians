{
 "cells": [
  {
   "cell_type": "markdown",
   "id": "ec4e928d-9963-4345-b437-e2011684e48b",
   "metadata": {},
   "source": [
    "# Overview"
   ]
  },
  {
   "cell_type": "markdown",
   "id": "1cea3f30-53a7-4a98-9656-9957cba0b9ad",
   "metadata": {},
   "source": [
    "Use pandas to construct a dataframe and analyse data in particular\n",
    "\n",
    "Done_examples/graphname/graphname_summary_dlist.pkl\n",
    "\n",
    "then in back in analyse_cycles we use this data to construct graphname_cycle_analysis.txt"
   ]
  },
  {
   "cell_type": "markdown",
   "id": "46d40388-d2a9-4160-9eae-912a84a66682",
   "metadata": {
    "tags": []
   },
   "source": [
    "# Graphs"
   ]
  },
  {
   "cell_type": "code",
   "execution_count": 7,
   "id": "c3580730-a82c-411e-b6a0-f6489b9a3445",
   "metadata": {},
   "outputs": [],
   "source": [
    "# # Example\n",
    "\n",
    "# graphname=\"V_222\"\n",
    "\n",
    "# d_list=unpickle_dlist(graphname) #list of dicts"
   ]
  },
  {
   "cell_type": "code",
   "execution_count": 9,
   "id": "6134ce7e-d294-4c57-8132-33fad5d3af2f",
   "metadata": {
    "collapsed": true,
    "jupyter": {
     "outputs_hidden": true
    },
    "tags": []
   },
   "outputs": [
    {
     "data": {
      "text/html": [
       "<div>\n",
       "<style scoped>\n",
       "    .dataframe tbody tr th:only-of-type {\n",
       "        vertical-align: middle;\n",
       "    }\n",
       "\n",
       "    .dataframe tbody tr th {\n",
       "        vertical-align: top;\n",
       "    }\n",
       "\n",
       "    .dataframe thead th {\n",
       "        text-align: right;\n",
       "    }\n",
       "</style>\n",
       "<table border=\"1\" class=\"dataframe\">\n",
       "  <thead>\n",
       "    <tr style=\"text-align: right;\">\n",
       "      <th></th>\n",
       "      <th>Stability condition number</th>\n",
       "      <th>Fixed cycle</th>\n",
       "      <th>List of cycles for subgraphs in order</th>\n",
       "    </tr>\n",
       "  </thead>\n",
       "  <tbody>\n",
       "    <tr>\n",
       "      <th>0</th>\n",
       "      <td>0</td>\n",
       "      <td>(3, 4, 5, 6)</td>\n",
       "      <td>[(3, 4, 5, 6), (3, 4, 5, 6), (1, 4, 3, 2), (1,...</td>\n",
       "    </tr>\n",
       "    <tr>\n",
       "      <th>1</th>\n",
       "      <td>1</td>\n",
       "      <td>(3, 6, 4, 5)</td>\n",
       "      <td>[(3, 6, 4, 5), (3, 4, 5, 6), (1, 4, 3, 2), (1,...</td>\n",
       "    </tr>\n",
       "    <tr>\n",
       "      <th>2</th>\n",
       "      <td>2</td>\n",
       "      <td>(3, 5, 6, 4)</td>\n",
       "      <td>[(3, 5, 6, 4), (3, 4, 5, 6), (1, 4, 2, 3), (1,...</td>\n",
       "    </tr>\n",
       "    <tr>\n",
       "      <th>3</th>\n",
       "      <td>3</td>\n",
       "      <td>(3, 6, 4, 5)</td>\n",
       "      <td>[(3, 6, 4, 5), (3, 6, 4, 5), (1, 4, 3, 2), (1,...</td>\n",
       "    </tr>\n",
       "    <tr>\n",
       "      <th>4</th>\n",
       "      <td>4</td>\n",
       "      <td>(3, 5, 6, 4)</td>\n",
       "      <td>[(3, 5, 6, 4), (3, 6, 4, 5), (1, 4, 2, 3), (1,...</td>\n",
       "    </tr>\n",
       "    <tr>\n",
       "      <th>5</th>\n",
       "      <td>5</td>\n",
       "      <td>(3, 5, 6, 4)</td>\n",
       "      <td>[(3, 5, 6, 4), (3, 5, 6, 4), (1, 3, 4, 2), (1,...</td>\n",
       "    </tr>\n",
       "    <tr>\n",
       "      <th>6</th>\n",
       "      <td>6</td>\n",
       "      <td>(3, 4, 6, 5)</td>\n",
       "      <td>[(3, 4, 6, 5), (3, 4, 5, 6), (1, 4, 3, 2), (1,...</td>\n",
       "    </tr>\n",
       "    <tr>\n",
       "      <th>7</th>\n",
       "      <td>7</td>\n",
       "      <td>(3, 5, 4, 6)</td>\n",
       "      <td>[(3, 5, 4, 6), (3, 4, 5, 6), (1, 4, 2, 3), (1,...</td>\n",
       "    </tr>\n",
       "    <tr>\n",
       "      <th>8</th>\n",
       "      <td>8</td>\n",
       "      <td>(3, 4, 6, 5)</td>\n",
       "      <td>[(3, 4, 6, 5), (3, 6, 4, 5), (1, 4, 3, 2), (1,...</td>\n",
       "    </tr>\n",
       "    <tr>\n",
       "      <th>9</th>\n",
       "      <td>9</td>\n",
       "      <td>(3, 5, 4, 6)</td>\n",
       "      <td>[(3, 5, 4, 6), (3, 6, 4, 5), (1, 4, 2, 3), (1,...</td>\n",
       "    </tr>\n",
       "    <tr>\n",
       "      <th>10</th>\n",
       "      <td>10</td>\n",
       "      <td>(3, 6, 5, 4)</td>\n",
       "      <td>[(3, 6, 5, 4), (3, 6, 4, 5), (1, 4, 2, 3), (1,...</td>\n",
       "    </tr>\n",
       "    <tr>\n",
       "      <th>11</th>\n",
       "      <td>11</td>\n",
       "      <td>(3, 5, 4, 6)</td>\n",
       "      <td>[(3, 5, 4, 6), (3, 5, 6, 4), (1, 3, 4, 2), (1,...</td>\n",
       "    </tr>\n",
       "    <tr>\n",
       "      <th>12</th>\n",
       "      <td>12</td>\n",
       "      <td>(3, 6, 5, 4)</td>\n",
       "      <td>[(3, 6, 5, 4), (3, 5, 6, 4), (1, 3, 4, 2), (1,...</td>\n",
       "    </tr>\n",
       "    <tr>\n",
       "      <th>13</th>\n",
       "      <td>13</td>\n",
       "      <td>(3, 4, 6, 5)</td>\n",
       "      <td>[(3, 4, 6, 5), (3, 4, 6, 5), (1, 4, 3, 2), (1,...</td>\n",
       "    </tr>\n",
       "    <tr>\n",
       "      <th>14</th>\n",
       "      <td>14</td>\n",
       "      <td>(3, 5, 4, 6)</td>\n",
       "      <td>[(3, 5, 4, 6), (3, 4, 6, 5), (1, 4, 2, 3), (1,...</td>\n",
       "    </tr>\n",
       "    <tr>\n",
       "      <th>15</th>\n",
       "      <td>15</td>\n",
       "      <td>(3, 6, 5, 4)</td>\n",
       "      <td>[(3, 6, 5, 4), (3, 4, 6, 5), (1, 4, 2, 3), (1,...</td>\n",
       "    </tr>\n",
       "    <tr>\n",
       "      <th>16</th>\n",
       "      <td>16</td>\n",
       "      <td>(3, 5, 4, 6)</td>\n",
       "      <td>[(3, 5, 4, 6), (3, 5, 4, 6), (1, 3, 4, 2), (1,...</td>\n",
       "    </tr>\n",
       "    <tr>\n",
       "      <th>17</th>\n",
       "      <td>17</td>\n",
       "      <td>(3, 6, 5, 4)</td>\n",
       "      <td>[(3, 6, 5, 4), (3, 5, 4, 6), (1, 3, 4, 2), (1,...</td>\n",
       "    </tr>\n",
       "    <tr>\n",
       "      <th>18</th>\n",
       "      <td>18</td>\n",
       "      <td>(3, 6, 5, 4)</td>\n",
       "      <td>[(3, 6, 5, 4), (3, 6, 5, 4), (1, 3, 4, 2), (1,...</td>\n",
       "    </tr>\n",
       "    <tr>\n",
       "      <th>19</th>\n",
       "      <td>19</td>\n",
       "      <td>(3, 4, 5, 6)</td>\n",
       "      <td>[(3, 4, 5, 6), (3, 4, 6, 5), (1, 2, 4, 3), (1,...</td>\n",
       "    </tr>\n",
       "    <tr>\n",
       "      <th>20</th>\n",
       "      <td>20</td>\n",
       "      <td>(3, 6, 4, 5)</td>\n",
       "      <td>[(3, 6, 4, 5), (3, 4, 6, 5), (1, 2, 4, 3), (1,...</td>\n",
       "    </tr>\n",
       "    <tr>\n",
       "      <th>21</th>\n",
       "      <td>21</td>\n",
       "      <td>(3, 4, 5, 6)</td>\n",
       "      <td>[(3, 4, 5, 6), (3, 5, 4, 6), (1, 3, 2, 4), (1,...</td>\n",
       "    </tr>\n",
       "    <tr>\n",
       "      <th>22</th>\n",
       "      <td>22</td>\n",
       "      <td>(3, 6, 4, 5)</td>\n",
       "      <td>[(3, 6, 4, 5), (3, 5, 4, 6), (1, 3, 2, 4), (1,...</td>\n",
       "    </tr>\n",
       "    <tr>\n",
       "      <th>23</th>\n",
       "      <td>23</td>\n",
       "      <td>(3, 5, 6, 4)</td>\n",
       "      <td>[(3, 5, 6, 4), (3, 5, 4, 6), (1, 2, 3, 4), (1,...</td>\n",
       "    </tr>\n",
       "    <tr>\n",
       "      <th>24</th>\n",
       "      <td>24</td>\n",
       "      <td>(3, 6, 4, 5)</td>\n",
       "      <td>[(3, 6, 4, 5), (3, 6, 5, 4), (1, 3, 2, 4), (1,...</td>\n",
       "    </tr>\n",
       "    <tr>\n",
       "      <th>25</th>\n",
       "      <td>25</td>\n",
       "      <td>(3, 5, 6, 4)</td>\n",
       "      <td>[(3, 5, 6, 4), (3, 6, 5, 4), (1, 2, 3, 4), (1,...</td>\n",
       "    </tr>\n",
       "    <tr>\n",
       "      <th>26</th>\n",
       "      <td>26</td>\n",
       "      <td>(3, 4, 5, 6)</td>\n",
       "      <td>[(3, 4, 5, 6), (3, 4, 5, 6), (1, 2, 4, 3), (1,...</td>\n",
       "    </tr>\n",
       "    <tr>\n",
       "      <th>27</th>\n",
       "      <td>27</td>\n",
       "      <td>(3, 4, 5, 6)</td>\n",
       "      <td>[(3, 4, 5, 6), (3, 6, 4, 5), (1, 2, 4, 3), (1,...</td>\n",
       "    </tr>\n",
       "    <tr>\n",
       "      <th>28</th>\n",
       "      <td>28</td>\n",
       "      <td>(3, 6, 4, 5)</td>\n",
       "      <td>[(3, 6, 4, 5), (3, 6, 4, 5), (1, 2, 4, 3), (1,...</td>\n",
       "    </tr>\n",
       "    <tr>\n",
       "      <th>29</th>\n",
       "      <td>29</td>\n",
       "      <td>(3, 4, 5, 6)</td>\n",
       "      <td>[(3, 4, 5, 6), (3, 5, 6, 4), (1, 3, 2, 4), (1,...</td>\n",
       "    </tr>\n",
       "    <tr>\n",
       "      <th>30</th>\n",
       "      <td>30</td>\n",
       "      <td>(3, 6, 4, 5)</td>\n",
       "      <td>[(3, 6, 4, 5), (3, 5, 6, 4), (1, 3, 2, 4), (1,...</td>\n",
       "    </tr>\n",
       "    <tr>\n",
       "      <th>31</th>\n",
       "      <td>31</td>\n",
       "      <td>(3, 5, 6, 4)</td>\n",
       "      <td>[(3, 5, 6, 4), (3, 5, 6, 4), (1, 2, 3, 4), (1,...</td>\n",
       "    </tr>\n",
       "    <tr>\n",
       "      <th>32</th>\n",
       "      <td>32</td>\n",
       "      <td>(3, 4, 6, 5)</td>\n",
       "      <td>[(3, 4, 6, 5), (3, 4, 6, 5), (1, 2, 4, 3), (1,...</td>\n",
       "    </tr>\n",
       "    <tr>\n",
       "      <th>33</th>\n",
       "      <td>33</td>\n",
       "      <td>(3, 4, 6, 5)</td>\n",
       "      <td>[(3, 4, 6, 5), (3, 5, 4, 6), (1, 3, 2, 4), (1,...</td>\n",
       "    </tr>\n",
       "    <tr>\n",
       "      <th>34</th>\n",
       "      <td>34</td>\n",
       "      <td>(3, 5, 4, 6)</td>\n",
       "      <td>[(3, 5, 4, 6), (3, 5, 4, 6), (1, 2, 3, 4), (1,...</td>\n",
       "    </tr>\n",
       "    <tr>\n",
       "      <th>35</th>\n",
       "      <td>35</td>\n",
       "      <td>(3, 4, 6, 5)</td>\n",
       "      <td>[(3, 4, 6, 5), (3, 6, 5, 4), (1, 3, 2, 4), (1,...</td>\n",
       "    </tr>\n",
       "    <tr>\n",
       "      <th>36</th>\n",
       "      <td>36</td>\n",
       "      <td>(3, 5, 4, 6)</td>\n",
       "      <td>[(3, 5, 4, 6), (3, 6, 5, 4), (1, 2, 3, 4), (1,...</td>\n",
       "    </tr>\n",
       "    <tr>\n",
       "      <th>37</th>\n",
       "      <td>37</td>\n",
       "      <td>(3, 6, 5, 4)</td>\n",
       "      <td>[(3, 6, 5, 4), (3, 6, 5, 4), (1, 2, 3, 4), (1,...</td>\n",
       "    </tr>\n",
       "  </tbody>\n",
       "</table>\n",
       "</div>"
      ],
      "text/plain": [
       "    Stability condition number   Fixed cycle  \\\n",
       "0                            0  (3, 4, 5, 6)   \n",
       "1                            1  (3, 6, 4, 5)   \n",
       "2                            2  (3, 5, 6, 4)   \n",
       "3                            3  (3, 6, 4, 5)   \n",
       "4                            4  (3, 5, 6, 4)   \n",
       "5                            5  (3, 5, 6, 4)   \n",
       "6                            6  (3, 4, 6, 5)   \n",
       "7                            7  (3, 5, 4, 6)   \n",
       "8                            8  (3, 4, 6, 5)   \n",
       "9                            9  (3, 5, 4, 6)   \n",
       "10                          10  (3, 6, 5, 4)   \n",
       "11                          11  (3, 5, 4, 6)   \n",
       "12                          12  (3, 6, 5, 4)   \n",
       "13                          13  (3, 4, 6, 5)   \n",
       "14                          14  (3, 5, 4, 6)   \n",
       "15                          15  (3, 6, 5, 4)   \n",
       "16                          16  (3, 5, 4, 6)   \n",
       "17                          17  (3, 6, 5, 4)   \n",
       "18                          18  (3, 6, 5, 4)   \n",
       "19                          19  (3, 4, 5, 6)   \n",
       "20                          20  (3, 6, 4, 5)   \n",
       "21                          21  (3, 4, 5, 6)   \n",
       "22                          22  (3, 6, 4, 5)   \n",
       "23                          23  (3, 5, 6, 4)   \n",
       "24                          24  (3, 6, 4, 5)   \n",
       "25                          25  (3, 5, 6, 4)   \n",
       "26                          26  (3, 4, 5, 6)   \n",
       "27                          27  (3, 4, 5, 6)   \n",
       "28                          28  (3, 6, 4, 5)   \n",
       "29                          29  (3, 4, 5, 6)   \n",
       "30                          30  (3, 6, 4, 5)   \n",
       "31                          31  (3, 5, 6, 4)   \n",
       "32                          32  (3, 4, 6, 5)   \n",
       "33                          33  (3, 4, 6, 5)   \n",
       "34                          34  (3, 5, 4, 6)   \n",
       "35                          35  (3, 4, 6, 5)   \n",
       "36                          36  (3, 5, 4, 6)   \n",
       "37                          37  (3, 6, 5, 4)   \n",
       "\n",
       "                List of cycles for subgraphs in order  \n",
       "0   [(3, 4, 5, 6), (3, 4, 5, 6), (1, 4, 3, 2), (1,...  \n",
       "1   [(3, 6, 4, 5), (3, 4, 5, 6), (1, 4, 3, 2), (1,...  \n",
       "2   [(3, 5, 6, 4), (3, 4, 5, 6), (1, 4, 2, 3), (1,...  \n",
       "3   [(3, 6, 4, 5), (3, 6, 4, 5), (1, 4, 3, 2), (1,...  \n",
       "4   [(3, 5, 6, 4), (3, 6, 4, 5), (1, 4, 2, 3), (1,...  \n",
       "5   [(3, 5, 6, 4), (3, 5, 6, 4), (1, 3, 4, 2), (1,...  \n",
       "6   [(3, 4, 6, 5), (3, 4, 5, 6), (1, 4, 3, 2), (1,...  \n",
       "7   [(3, 5, 4, 6), (3, 4, 5, 6), (1, 4, 2, 3), (1,...  \n",
       "8   [(3, 4, 6, 5), (3, 6, 4, 5), (1, 4, 3, 2), (1,...  \n",
       "9   [(3, 5, 4, 6), (3, 6, 4, 5), (1, 4, 2, 3), (1,...  \n",
       "10  [(3, 6, 5, 4), (3, 6, 4, 5), (1, 4, 2, 3), (1,...  \n",
       "11  [(3, 5, 4, 6), (3, 5, 6, 4), (1, 3, 4, 2), (1,...  \n",
       "12  [(3, 6, 5, 4), (3, 5, 6, 4), (1, 3, 4, 2), (1,...  \n",
       "13  [(3, 4, 6, 5), (3, 4, 6, 5), (1, 4, 3, 2), (1,...  \n",
       "14  [(3, 5, 4, 6), (3, 4, 6, 5), (1, 4, 2, 3), (1,...  \n",
       "15  [(3, 6, 5, 4), (3, 4, 6, 5), (1, 4, 2, 3), (1,...  \n",
       "16  [(3, 5, 4, 6), (3, 5, 4, 6), (1, 3, 4, 2), (1,...  \n",
       "17  [(3, 6, 5, 4), (3, 5, 4, 6), (1, 3, 4, 2), (1,...  \n",
       "18  [(3, 6, 5, 4), (3, 6, 5, 4), (1, 3, 4, 2), (1,...  \n",
       "19  [(3, 4, 5, 6), (3, 4, 6, 5), (1, 2, 4, 3), (1,...  \n",
       "20  [(3, 6, 4, 5), (3, 4, 6, 5), (1, 2, 4, 3), (1,...  \n",
       "21  [(3, 4, 5, 6), (3, 5, 4, 6), (1, 3, 2, 4), (1,...  \n",
       "22  [(3, 6, 4, 5), (3, 5, 4, 6), (1, 3, 2, 4), (1,...  \n",
       "23  [(3, 5, 6, 4), (3, 5, 4, 6), (1, 2, 3, 4), (1,...  \n",
       "24  [(3, 6, 4, 5), (3, 6, 5, 4), (1, 3, 2, 4), (1,...  \n",
       "25  [(3, 5, 6, 4), (3, 6, 5, 4), (1, 2, 3, 4), (1,...  \n",
       "26  [(3, 4, 5, 6), (3, 4, 5, 6), (1, 2, 4, 3), (1,...  \n",
       "27  [(3, 4, 5, 6), (3, 6, 4, 5), (1, 2, 4, 3), (1,...  \n",
       "28  [(3, 6, 4, 5), (3, 6, 4, 5), (1, 2, 4, 3), (1,...  \n",
       "29  [(3, 4, 5, 6), (3, 5, 6, 4), (1, 3, 2, 4), (1,...  \n",
       "30  [(3, 6, 4, 5), (3, 5, 6, 4), (1, 3, 2, 4), (1,...  \n",
       "31  [(3, 5, 6, 4), (3, 5, 6, 4), (1, 2, 3, 4), (1,...  \n",
       "32  [(3, 4, 6, 5), (3, 4, 6, 5), (1, 2, 4, 3), (1,...  \n",
       "33  [(3, 4, 6, 5), (3, 5, 4, 6), (1, 3, 2, 4), (1,...  \n",
       "34  [(3, 5, 4, 6), (3, 5, 4, 6), (1, 2, 3, 4), (1,...  \n",
       "35  [(3, 4, 6, 5), (3, 6, 5, 4), (1, 3, 2, 4), (1,...  \n",
       "36  [(3, 5, 4, 6), (3, 6, 5, 4), (1, 2, 3, 4), (1,...  \n",
       "37  [(3, 6, 5, 4), (3, 6, 5, 4), (1, 2, 3, 4), (1,...  "
      ]
     },
     "execution_count": 9,
     "metadata": {},
     "output_type": "execute_result"
    }
   ],
   "source": [
    "# pd.DataFrame(d_list)"
   ]
  },
  {
   "cell_type": "code",
   "execution_count": 10,
   "id": "13de4970-9b8d-4b20-a37d-91509148a989",
   "metadata": {
    "tags": []
   },
   "outputs": [
    {
     "data": {
      "text/plain": [
       "[{'Fixed cycle': (3, 4, 5, 6), 'count': 6},\n",
       " {'Fixed cycle': (3, 4, 6, 5), 'count': 6},\n",
       " {'Fixed cycle': (3, 5, 4, 6), 'count': 7},\n",
       " {'Fixed cycle': (3, 5, 6, 4), 'count': 6},\n",
       " {'Fixed cycle': (3, 6, 4, 5), 'count': 7},\n",
       " {'Fixed cycle': (3, 6, 5, 4), 'count': 6}]"
      ]
     },
     "execution_count": 10,
     "metadata": {},
     "output_type": "execute_result"
    }
   ],
   "source": [
    "# data=get_summary(d_list)\n",
    "# data\n",
    "# # compiler(graphname)"
   ]
  },
  {
   "cell_type": "markdown",
   "id": "ea651f59-ed11-475d-a160-26ca37236d32",
   "metadata": {
    "jp-MarkdownHeadingCollapsed": true,
    "tags": []
   },
   "source": [
    "## Cyclic graphs: genus 1"
   ]
  },
  {
   "cell_type": "code",
   "execution_count": 9,
   "id": "02204679-5aaf-4776-a27b-5596476f7036",
   "metadata": {},
   "outputs": [],
   "source": [
    "# graphname=\"G3\"\n",
    "# compiler(graphname)\n",
    "\n",
    "# graphname=\"G4\"\n",
    "# compiler(graphname)\n",
    "\n",
    "# graphname=\"G5\"\n",
    "# compiler(graphname)\n",
    "\n",
    "# graphname=\"G6\"\n",
    "# compiler(graphname)"
   ]
  },
  {
   "cell_type": "markdown",
   "id": "c614d29c-5bab-4f54-814d-1dea722b7f56",
   "metadata": {
    "tags": []
   },
   "source": [
    "## K1=1,K2,K3"
   ]
  },
  {
   "cell_type": "code",
   "execution_count": 10,
   "id": "5b50c967-1333-4ec2-a8ce-a34c94951963",
   "metadata": {},
   "outputs": [],
   "source": [
    "# graphname=\"G4M2\"\n",
    "# compiler(graphname)\n",
    "\n",
    "# graphname=\"G5M2\"\n",
    "# compiler(graphname)\n",
    "\n",
    "# graphname=\"G6M3\"  \n",
    "# compiler(graphname)\n",
    "\n",
    "# graphname=\"G6M2\"\n",
    "# compiler(graphname)"
   ]
  },
  {
   "cell_type": "markdown",
   "id": "c0896e62-d15a-4209-9d78-155a6bbde5a2",
   "metadata": {
    "jp-MarkdownHeadingCollapsed": true,
    "tags": []
   },
   "source": [
    "## K1=2,K2,K3"
   ]
  },
  {
   "cell_type": "code",
   "execution_count": 11,
   "id": "c1534f28-3df2-46c1-a1cf-f6700b6b8248",
   "metadata": {
    "tags": []
   },
   "outputs": [],
   "source": [
    "graphname=\"V_222\"\n",
    "compiler(graphname)"
   ]
  },
  {
   "cell_type": "code",
   "execution_count": 12,
   "id": "1a157a84-c62d-46b8-8200-97160eae56ce",
   "metadata": {
    "tags": []
   },
   "outputs": [],
   "source": [
    "# graphname=\"V_223\"\n",
    "# compiler(graphname)"
   ]
  },
  {
   "cell_type": "code",
   "execution_count": 16,
   "id": "77e8984e-7617-46fc-b8dc-c8f55a4541a3",
   "metadata": {},
   "outputs": [],
   "source": [
    "graphname=\"V_224\"\n",
    "compiler(graphname)"
   ]
  },
  {
   "cell_type": "code",
   "execution_count": 17,
   "id": "943f003f-a9ec-4a9d-bf64-3aae6c1bf7fe",
   "metadata": {},
   "outputs": [],
   "source": [
    "graphname=\"V_233\"\n",
    "compiler(graphname)"
   ]
  },
  {
   "cell_type": "markdown",
   "id": "6d62c7c1-56d3-4b72-89ce-387d4c4cc13a",
   "metadata": {
    "tags": []
   },
   "source": [
    "## Higher genus graphs"
   ]
  },
  {
   "cell_type": "code",
   "execution_count": 6,
   "id": "bd451902-e950-4c65-801b-d35078b7f5e9",
   "metadata": {},
   "outputs": [],
   "source": [
    "# graphname=\"G5M02M03M14\"\n",
    "# compiler(graphname)\n",
    "\n",
    "# graphname=\"G5M02M03\"\n",
    "# compiler(graphname)\n",
    "\n",
    "# graphname=\"G4M02M13\"\n",
    "# compiler(graphname)\n",
    "\n",
    "graphname=\"FV_G6M3M14\"\n",
    "compiler(graphname)"
   ]
  },
  {
   "cell_type": "markdown",
   "id": "53d9a4e1-8d6a-4adc-bc0c-52afc55d3366",
   "metadata": {
    "tags": []
   },
   "source": [
    "## K33"
   ]
  },
  {
   "cell_type": "markdown",
   "id": "0c4a4e92-82b7-4169-9b3d-3720cf01c02d",
   "metadata": {
    "tags": []
   },
   "source": [
    "# Functions"
   ]
  },
  {
   "cell_type": "code",
   "execution_count": 1,
   "id": "9830f114-4bfe-4d97-a083-042e0a851115",
   "metadata": {},
   "outputs": [],
   "source": [
    "import pandas as pd\n",
    "import pickle"
   ]
  },
  {
   "cell_type": "code",
   "execution_count": 2,
   "id": "b92bac50-1e9b-4c38-a732-d7acf8d57176",
   "metadata": {},
   "outputs": [],
   "source": [
    "def compiler(graphname):\n",
    "    d_list=unpickle_dlist(graphname)\n",
    "    data=get_summary(d_list)\n",
    "    pickle_data_summary_dlist(graphname,data)\n",
    "    return"
   ]
  },
  {
   "cell_type": "code",
   "execution_count": 3,
   "id": "22171f27-7159-40f6-b841-c028521ab208",
   "metadata": {},
   "outputs": [],
   "source": [
    "def pickle_data_summary_dlist(graphname,data):\n",
    "    \"\"\"\n",
    "    Store dictionary list\n",
    "    \"\"\"\n",
    "    # Pickle the list\n",
    "    filename=f\"Done_examples/{graphname}/{graphname}_summary_dlist.pkl\"\n",
    "    with open(filename, 'wb') as f:\n",
    "        pickle.dump(data, f)\n",
    "    return"
   ]
  },
  {
   "cell_type": "code",
   "execution_count": 4,
   "id": "29b33e9b-8fbd-4209-b184-18fca4595c64",
   "metadata": {},
   "outputs": [],
   "source": [
    "def unpickle_dlist(graphname):\n",
    "    # Unpickle the list\n",
    "    filename=f\"Done_examples/{graphname}/{graphname}_dlist.pkl\"\n",
    "    with open(filename, 'rb') as f:\n",
    "        unpickled_list = pickle.load(f)\n",
    "    return unpickled_list"
   ]
  },
  {
   "cell_type": "code",
   "execution_count": 5,
   "id": "a0f09cbf-fc07-4d71-9ef4-ae0c6db4f339",
   "metadata": {},
   "outputs": [],
   "source": [
    "def get_summary(d_list):\n",
    "    # Obj:I want to count the number of rows with the same fixed cycle.\n",
    "    # Output: Get summary tabel store atlist of dictionaries.\n",
    "\n",
    "    df=pd.DataFrame(d_list)\n",
    "\n",
    "    # Group the data by age and count the number of occurrences\n",
    "    grouped = df.groupby('Fixed cycle')[\"List of cycles for subgraphs in order\"].agg(['count'])\n",
    "\n",
    "    # Concatenate the corresponding countries into a comma-separated string\n",
    "    grouped['number'] = grouped.apply(lambda x: ','.join(['\"' + str(i) + '\"' for i in range(x['count'])]), axis=1)\n",
    "\n",
    "    # Select the desired columns and reset the index\n",
    "    result = grouped[['count']].reset_index()\n",
    "    \n",
    "    result = result.to_dict(\"records\")\n",
    "\n",
    "    return result"
   ]
  },
  {
   "cell_type": "code",
   "execution_count": null,
   "id": "a82530f4-2610-47b6-8a13-3af2ced71d98",
   "metadata": {},
   "outputs": [],
   "source": []
  }
 ],
 "metadata": {
  "kernelspec": {
   "display_name": "Python 3 (ipykernel)",
   "language": "python",
   "name": "python3"
  },
  "language_info": {
   "codemirror_mode": {
    "name": "ipython",
    "version": 3
   },
   "file_extension": ".py",
   "mimetype": "text/x-python",
   "name": "python",
   "nbconvert_exporter": "python",
   "pygments_lexer": "ipython3",
   "version": "3.10.8"
  }
 },
 "nbformat": 4,
 "nbformat_minor": 5
}
