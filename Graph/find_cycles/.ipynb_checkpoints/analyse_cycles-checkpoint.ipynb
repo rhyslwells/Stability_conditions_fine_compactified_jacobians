{
 "cells": [
  {
   "cell_type": "markdown",
   "id": "7e169de0",
   "metadata": {
    "tags": []
   },
   "source": [
    "# Overview"
   ]
  },
  {
   "cell_type": "markdown",
   "id": "f03e0894-88fa-468a-9d37-cd00ed4f8f6e",
   "metadata": {},
   "source": [
    "From the data in \\Graph\\find_cycles\\Done_examples\\graphname\\graphname.pkl\"\n",
    "\n",
    "we produce\n",
    "\n",
    "\\find_cycles\\Done_examples\\graphname\\graphname_cycle_analysis.txt\n",
    "\n",
    "which summarise how the cycles on maximal necklaces extend.In particular we ask for a specfic cycle on a subg containing a max necklace. \n",
    "What are the other cycles on the remaining subg which contain a max necklace?"
   ]
  },
  {
   "cell_type": "markdown",
   "id": "016503eb-7d36-4e8e-b288-70eeeb252081",
   "metadata": {
    "tags": []
   },
   "source": [
    "# Table of contents\n",
    "1. [Example cases](#s1)\n",
    "2. [Running all cases](#s2)\n",
    "3. [Functions](#s3)\n",
    "    1. [Load in data](#s31)\n",
    "    2. [Presenting data in txt file graphname_cycle_analysis.txt](#s34)\n",
    "    3. [Getting Summary list](#s33)\n",
    "    4. [Building total dataframe list of dictionaries for each stability condition](#s32)\n",
    "    5. [Everything complied into one function](#s35)"
   ]
  },
  {
   "cell_type": "markdown",
   "id": "c98e915b-859f-40ca-bc71-21eab91f9cd9",
   "metadata": {
    "jp-MarkdownHeadingCollapsed": true,
    "tags": []
   },
   "source": [
    "# Example cases <a name=\"s1\"></a>"
   ]
  },
  {
   "cell_type": "markdown",
   "id": "923adc89",
   "metadata": {
    "jp-MarkdownHeadingCollapsed": true,
    "tags": []
   },
   "source": [
    "## Example graph G5M2"
   ]
  },
  {
   "cell_type": "code",
   "execution_count": 76,
   "id": "70b7f3eb",
   "metadata": {},
   "outputs": [],
   "source": [
    "graphname=\"G5M2\"\n",
    "G=Graph([(\"0\",\"1\"),(\"1\",\"2\"),(\"2\",\"3\"),(\"3\",\"4\"),(\"4\",\"0\"),(\"0\",\"2\")], multiedges=True)\n",
    "edge_labels = {(\"0\",\"1\"):\"e1\",(\"1\",\"2\"):\"e2\",(\"2\",\"3\"):\"e3\",(\"3\",\"4\"):\"e4\",(\"4\",\"0\"):\"e5\",(\"0\",\"2\"):\"e0\"}\n",
    "G,data,subg_cycles_l=load_data(G,edge_labels,graphname)"
   ]
  },
  {
   "cell_type": "code",
   "execution_count": 77,
   "id": "10fef53a",
   "metadata": {},
   "outputs": [],
   "source": [
    "#Specific example with all working:"
   ]
  },
  {
   "cell_type": "code",
   "execution_count": 78,
   "id": "f1b2f5d2",
   "metadata": {},
   "outputs": [],
   "source": [
    "index=1 #0 give trivial case\n",
    "wsc_subg_cycles_l=subg_cycles_l[index]\n",
    "for i in wsc_subg_cycles_l:\n",
    "    print(i[0].edges(),i[1])"
   ]
  },
  {
   "cell_type": "code",
   "execution_count": 75,
   "id": "e75c9c4a",
   "metadata": {},
   "outputs": [
    {
     "data": {
      "image/png": "[encoded data removed]",
      "text/plain": [
       "Graphics Array of size 1 x 4"
      ]
     },
     "metadata": {},
     "output_type": "display_data"
    }
   ],
   "source": [
    "#Lets just focus on maximal cycles now\n",
    "flat_max_subgcycle_l=get_flat_max_subgcycle_l(wsc_subg_cycles_l)\n",
    "\n",
    "#To give and example: And for output file.\n",
    "display_data(G,flat_max_subgcycle_l)"
   ]
  },
  {
   "cell_type": "code",
   "execution_count": 30,
   "id": "cea3c286",
   "metadata": {},
   "outputs": [
    {
     "data": {
      "text/plain": [
       "[(Multi-graph on 5 vertices, (1, 5, 4, 2, 3))]"
      ]
     },
     "execution_count": 30,
     "metadata": {},
     "output_type": "execute_result"
    }
   ],
   "source": [
    "# First take flat_max_subgcycle_l and put cycles into a standarised format.\n",
    "\n",
    "flat_max_subgcycle_l=[(pair[0],rotate_forward_to_standarised(pair[1])) for pair in flat_max_subgcycle_l]\n",
    "flat_max_subgcycle_l"
   ]
  },
  {
   "cell_type": "code",
   "execution_count": 31,
   "id": "14fe9743",
   "metadata": {},
   "outputs": [
    {
     "data": {
      "text/plain": [
       "[(1, 5, 4, 2, 3)]"
      ]
     },
     "execution_count": 31,
     "metadata": {},
     "output_type": "execute_result"
    }
   ],
   "source": [
    "#Get just the cycles\n",
    "cycles_in_order=[pair[1] for pair in flat_max_subgcycle_l]\n",
    "cycles_in_order"
   ]
  },
  {
   "cell_type": "code",
   "execution_count": 32,
   "id": "9658de73",
   "metadata": {},
   "outputs": [
    {
     "data": {
      "text/plain": [
       "{'Stability condition number': 1,\n",
       " 'Fixed cycle': (1, 5, 4, 2, 3),\n",
       " 'List of cycles for subgraphs in order': [(1, 5, 4, 2, 3)]}"
      ]
     },
     "execution_count": 32,
     "metadata": {},
     "output_type": "execute_result"
    }
   ],
   "source": [
    "# Take flat_max_subgcycle_l and build a dictionary\n",
    "\n",
    "dic={\"Stability condition number\":index,\"Fixed cycle\":cycles_in_order[0],\"List of cycles for subgraphs in order\":cycles_in_order}\n",
    "dic"
   ]
  },
  {
   "cell_type": "code",
   "execution_count": 35,
   "id": "c971536a",
   "metadata": {},
   "outputs": [
    {
     "name": "stdout",
     "output_type": "stream",
     "text": [
      "Consider the collection of all stability conditions for G.\n",
      "\n",
      "Graph G:\n",
      "[('0', '1', 'e1'), ('0', '2', 'e0'), ('0', '4', 'e5'), ('1', '2', 'e2'), ('2', '3', 'e3'), ('3', '4', 'e4')] \n",
      "\n",
      "Subgraphs with maximal necklace:\n",
      "1. [('0', '1', 'e1'), ('0', '4', 'e5'), ('1', '2', 'e2'), ('2', '3', 'e3'), ('3', '4', 'e4')]\n",
      "\n",
      "\n",
      "We study the extensions of a fixed a cycle on the first subgraph (1.).\n",
      "The order of cycles will correspond to the order of subgraphs given above.\n",
      "\n",
      "\n",
      "Here is a summary of the cycles on the fixed subgraph \n",
      "\n",
      "Fixed cycle        count\n",
      "---------------  -------\n",
      "(1, 2, 3, 4, 5)        1\n",
      "(1, 2, 3, 5, 4)        1\n",
      "(1, 2, 4, 3, 5)        1\n",
      "(1, 2, 4, 5, 3)        1\n",
      "(1, 2, 5, 3, 4)        1\n",
      "(1, 2, 5, 4, 3)        1\n",
      "(1, 3, 2, 4, 5)        1\n",
      "(1, 3, 2, 5, 4)        1\n",
      "(1, 3, 4, 2, 5)        1\n",
      "(1, 3, 4, 5, 2)        1\n",
      "(1, 3, 5, 2, 4)        1\n",
      "(1, 3, 5, 4, 2)        1\n",
      "(1, 4, 2, 3, 5)        1\n",
      "(1, 4, 2, 5, 3)        1\n",
      "(1, 4, 3, 2, 5)        1\n",
      "(1, 4, 3, 5, 2)        1\n",
      "(1, 4, 5, 2, 3)        1\n",
      "(1, 4, 5, 3, 2)        1\n",
      "(1, 5, 2, 3, 4)        1\n",
      "(1, 5, 2, 4, 3)        1\n",
      "(1, 5, 3, 2, 4)        1\n",
      "(1, 5, 3, 4, 2)        1\n",
      "(1, 5, 4, 2, 3)        1\n",
      "(1, 5, 4, 3, 2)        1\n",
      "\n",
      "\n",
      "Here is the data of all stabilty conditions, of cycles on the fixed subgraph \n",
      "\n",
      "  Stability condition number  Fixed cycle      List of cycles for subgraphs in order\n",
      "----------------------------  ---------------  ---------------------------------------\n",
      "                           0  (1, 5, 4, 3, 2)  [(1, 5, 4, 3, 2)]\n",
      "                           1  (1, 5, 4, 2, 3)  [(1, 5, 4, 2, 3)]\n",
      "                           2  (1, 5, 3, 4, 2)  [(1, 5, 3, 4, 2)]\n",
      "                           3  (1, 5, 3, 2, 4)  [(1, 5, 3, 2, 4)]\n",
      "                           4  (1, 5, 2, 4, 3)  [(1, 5, 2, 4, 3)]\n",
      "                           5  (1, 5, 2, 3, 4)  [(1, 5, 2, 3, 4)]\n",
      "                           6  (1, 4, 5, 3, 2)  [(1, 4, 5, 3, 2)]\n",
      "                           7  (1, 4, 5, 2, 3)  [(1, 4, 5, 2, 3)]\n",
      "                           8  (1, 4, 3, 5, 2)  [(1, 4, 3, 5, 2)]\n",
      "                           9  (1, 4, 3, 2, 5)  [(1, 4, 3, 2, 5)]\n",
      "                          10  (1, 4, 2, 5, 3)  [(1, 4, 2, 5, 3)]\n",
      "                          11  (1, 4, 2, 3, 5)  [(1, 4, 2, 3, 5)]\n",
      "                          12  (1, 3, 5, 4, 2)  [(1, 3, 5, 4, 2)]\n",
      "                          13  (1, 3, 5, 2, 4)  [(1, 3, 5, 2, 4)]\n",
      "                          14  (1, 3, 4, 5, 2)  [(1, 3, 4, 5, 2)]\n",
      "                          15  (1, 3, 4, 2, 5)  [(1, 3, 4, 2, 5)]\n",
      "                          16  (1, 3, 2, 5, 4)  [(1, 3, 2, 5, 4)]\n",
      "                          17  (1, 3, 2, 4, 5)  [(1, 3, 2, 4, 5)]\n",
      "                          18  (1, 2, 5, 4, 3)  [(1, 2, 5, 4, 3)]\n",
      "                          19  (1, 2, 5, 3, 4)  [(1, 2, 5, 3, 4)]\n",
      "                          20  (1, 2, 4, 5, 3)  [(1, 2, 4, 5, 3)]\n",
      "                          21  (1, 2, 4, 3, 5)  [(1, 2, 4, 3, 5)]\n",
      "                          22  (1, 2, 3, 5, 4)  [(1, 2, 3, 5, 4)]\n",
      "                          23  (1, 2, 3, 4, 5)  [(1, 2, 3, 4, 5)]\n"
     ]
    }
   ],
   "source": [
    "output_printed(graphname,subg_cycles_l,G)"
   ]
  },
  {
   "cell_type": "markdown",
   "id": "b140bdd1",
   "metadata": {
    "jp-MarkdownHeadingCollapsed": true,
    "tags": []
   },
   "source": [
    "## Example graph V_222"
   ]
  },
  {
   "cell_type": "code",
   "execution_count": 79,
   "id": "ad5ac0cb",
   "metadata": {
    "scrolled": true
   },
   "outputs": [],
   "source": [
    "graphname=\"V_222\"\n",
    "G=Graph([(\"0\",\"1\"),(\"1\",\"2\"),(\"2\",\"3\"),(\"3\",\"0\"),(\"0\",\"4\"),(\"4\",\"2\")], multiedges=True)\n",
    "edge_labels = {(\"0\",\"1\"):\"e1\",(\"1\",\"2\"):\"e2\",(\"2\",\"3\"):\"e3\",(\"3\",\"0\"):\"e4\",(\"0\",\"4\"):\"e5\",(\"4\",\"2\"):\"e6\"}\n",
    "G,data,subg_cycles_l=load_data(G,edge_labels,graphname)"
   ]
  },
  {
   "cell_type": "code",
   "execution_count": 80,
   "id": "ce691f96",
   "metadata": {},
   "outputs": [
    {
     "data": {
      "image/png": "[encoded data removed]",
      "text/plain": [
       "Graphics Array of size 2 x 4"
      ]
     },
     "metadata": {},
     "output_type": "display_data"
    }
   ],
   "source": [
    "#Specific example all working:\n",
    "\n",
    "index=1\n",
    "wsc_subg_cycles_l=subg_cycles_l[index]\n",
    "flat_max_subgcycle_l=get_flat_max_subgcycle_l(wsc_subg_cycles_l)\n",
    "\n",
    "#To give and example: And for output file.\n",
    "display_data(G,flat_max_subgcycle_l)"
   ]
  },
  {
   "cell_type": "code",
   "execution_count": 81,
   "id": "625d752f",
   "metadata": {},
   "outputs": [
    {
     "data": {
      "text/plain": [
       "{'Stability condition number': 1,\n",
       " 'Fixed cycle': (3, 6, 4, 5),\n",
       " 'List of cycles for subgraphs in order': [(3, 6, 4, 5),\n",
       "  (3, 4, 5, 6),\n",
       "  (1, 4, 3, 2),\n",
       "  (1, 4, 2, 3),\n",
       "  (1, 5, 6, 2),\n",
       "  (1, 5, 2, 6)]}"
      ]
     },
     "execution_count": 81,
     "metadata": {},
     "output_type": "execute_result"
    }
   ],
   "source": [
    "# First take flat_max_subgcycle_l and put cycles into a standarised format.\n",
    "flat_max_subgcycle_l=[(pair[0],rotate_forward_to_standarised(pair[1])) for pair in flat_max_subgcycle_l]\n",
    "cycles_in_order=[pair[1] for pair in flat_max_subgcycle_l]\n",
    "\n",
    "# Take flat_max_subgcycle_l and build a dictionary\n",
    "dic={\"Stability condition number\":index,\"Fixed cycle\":cycles_in_order[0],\"List of cycles for subgraphs in order\":cycles_in_order}\n",
    "dic"
   ]
  },
  {
   "cell_type": "code",
   "execution_count": 69,
   "id": "2a8b628e",
   "metadata": {},
   "outputs": [],
   "source": [
    "output_printed(graphname,subg_cycles_l,G)"
   ]
  },
  {
   "cell_type": "code",
   "execution_count": 71,
   "id": "7ed02504",
   "metadata": {},
   "outputs": [],
   "source": [
    "# Note if we changed the ordering of subgraphs with maximal necklace this will change the Fixed cycle."
   ]
  },
  {
   "cell_type": "code",
   "execution_count": null,
   "id": "a182b629",
   "metadata": {},
   "outputs": [],
   "source": [
    "Consider the collection of all stability conditions for G.\n",
    "\n",
    "Graph G:\n",
    "[('0', '1', 'e1'), ('0', '3', 'e4'), ('0', '4', 'e5'), ('1', '2', 'e2'), ('2', '3', 'e3'), ('2', '4', 'e6')]\n",
    "\n",
    "Subgraphs with maximal necklace:\n",
    "1. [('0', '1', 'e1'), ('0', '3', 'e4'), ('0', '4', 'e5'), ('2', '3', 'e3'), ('2', '4', 'e6')]\n",
    "2. [('0', '3', 'e4'), ('0', '4', 'e5'), ('1', '2', 'e2'), ('2', '3', 'e3'), ('2', '4', 'e6')]\n",
    "3. [('0', '1', 'e1'), ('0', '3', 'e4'), ('1', '2', 'e2'), ('2', '3', 'e3'), ('2', '4', 'e6')]\n",
    "4. [('0', '1', 'e1'), ('0', '3', 'e4'), ('0', '4', 'e5'), ('1', '2', 'e2'), ('2', '3', 'e3')]\n",
    "5. [('0', '1', 'e1'), ('0', '4', 'e5'), ('1', '2', 'e2'), ('2', '3', 'e3'), ('2', '4', 'e6')]\n",
    "6. [('0', '1', 'e1'), ('0', '3', 'e4'), ('0', '4', 'e5'), ('1', '2', 'e2'), ('2', '4', 'e6')]\n",
    "\n",
    "\n",
    "We study the extensions of a fixed a cycle on the first subgraph (1.).\n",
    "The order of cycles will correspond to the order of subgraphs given above.\n",
    "\n",
    "\n",
    "Here is a summary of the cycles on the fixed subgraph\n",
    "\n",
    "Fixed cycle      count\n",
    "-------------  -------\n",
    "(3, 4, 5, 6)         6\n",
    "(3, 4, 6, 5)         6\n",
    "(3, 5, 4, 6)         7\n",
    "(3, 5, 6, 4)         6\n",
    "(3, 6, 4, 5)         7\n",
    "(3, 6, 5, 4)         6\n",
    "\n",
    "\n",
    "Here is the data of all stabilty conditions, of cycles on the fixed subgraph\n",
    "\n",
    "  Stability condition number  Fixed cycle    List of cycles for subgraphs in order\n",
    "----------------------------  -------------  ------------------------------------------------------------------------------------\n",
    "                           0  (3, 4, 5, 6)   [(3, 4, 5, 6), (3, 4, 5, 6), (1, 4, 3, 2), (1, 4, 3, 2), (1, 5, 6, 2), (1, 5, 6, 2)]\n",
    "                           1  (3, 6, 4, 5)   [(3, 6, 4, 5), (3, 4, 5, 6), (1, 4, 3, 2), (1, 4, 2, 3), (1, 5, 6, 2), (1, 5, 2, 6)]\n",
    "                           2  (3, 5, 6, 4)   [(3, 5, 6, 4), (3, 4, 5, 6), (1, 4, 2, 3), (1, 4, 2, 3), (1, 5, 6, 2), (1, 2, 5, 6)]\n",
    "                           3  (3, 6, 4, 5)   [(3, 6, 4, 5), (3, 6, 4, 5), (1, 4, 3, 2), (1, 3, 4, 2), (1, 5, 6, 2), (1, 6, 5, 2)]\n",
    "                           4  (3, 5, 6, 4)   [(3, 5, 6, 4), (3, 6, 4, 5), (1, 4, 2, 3), (1, 3, 4, 2), (1, 5, 6, 2), (1, 6, 2, 5)]\n",
    "                           5  (3, 5, 6, 4)   [(3, 5, 6, 4), (3, 5, 6, 4), (1, 3, 4, 2), (1, 3, 4, 2), (1, 5, 6, 2), (1, 5, 6, 2)]\n",
    "                           6  (3, 4, 6, 5)   [(3, 4, 6, 5), (3, 4, 5, 6), (1, 4, 3, 2), (1, 2, 4, 3), (1, 5, 2, 6), (1, 5, 2, 6)]\n",
    "                           7  (3, 5, 4, 6)   [(3, 5, 4, 6), (3, 4, 5, 6), (1, 4, 2, 3), (1, 2, 4, 3), (1, 5, 2, 6), (1, 2, 5, 6)]\n",
    "                           8  (3, 4, 6, 5)   [(3, 4, 6, 5), (3, 6, 4, 5), (1, 4, 3, 2), (1, 3, 2, 4), (1, 5, 2, 6), (1, 6, 5, 2)]\n",
    "                           9  (3, 5, 4, 6)   [(3, 5, 4, 6), (3, 6, 4, 5), (1, 4, 2, 3), (1, 3, 2, 4), (1, 5, 2, 6), (1, 6, 2, 5)]\n",
    "                          10  (3, 6, 5, 4)   [(3, 6, 5, 4), (3, 6, 4, 5), (1, 4, 2, 3), (1, 2, 3, 4), (1, 5, 2, 6), (1, 2, 6, 5)]\n",
    "                          11  (3, 5, 4, 6)   [(3, 5, 4, 6), (3, 5, 6, 4), (1, 3, 4, 2), (1, 3, 2, 4), (1, 5, 2, 6), (1, 5, 6, 2)]\n",
    "                          12  (3, 6, 5, 4)   [(3, 6, 5, 4), (3, 5, 6, 4), (1, 3, 4, 2), (1, 2, 3, 4), (1, 5, 2, 6), (1, 5, 2, 6)]\n",
    "                          13  (3, 4, 6, 5)   [(3, 4, 6, 5), (3, 4, 6, 5), (1, 4, 3, 2), (1, 4, 3, 2), (1, 6, 5, 2), (1, 6, 5, 2)]\n",
    "                          14  (3, 5, 4, 6)   [(3, 5, 4, 6), (3, 4, 6, 5), (1, 4, 2, 3), (1, 4, 3, 2), (1, 6, 5, 2), (1, 6, 2, 5)]\n",
    "                          15  (3, 6, 5, 4)   [(3, 6, 5, 4), (3, 4, 6, 5), (1, 4, 2, 3), (1, 4, 2, 3), (1, 6, 5, 2), (1, 2, 6, 5)]\n",
    "                          16  (3, 5, 4, 6)   [(3, 5, 4, 6), (3, 5, 4, 6), (1, 3, 4, 2), (1, 4, 3, 2), (1, 6, 5, 2), (1, 5, 6, 2)]\n",
    "                          17  (3, 6, 5, 4)   [(3, 6, 5, 4), (3, 5, 4, 6), (1, 3, 4, 2), (1, 4, 2, 3), (1, 6, 5, 2), (1, 5, 2, 6)]\n",
    "                          18  (3, 6, 5, 4)   [(3, 6, 5, 4), (3, 6, 5, 4), (1, 3, 4, 2), (1, 3, 4, 2), (1, 6, 5, 2), (1, 6, 5, 2)]\n",
    "                          19  (3, 4, 5, 6)   [(3, 4, 5, 6), (3, 4, 6, 5), (1, 2, 4, 3), (1, 4, 3, 2), (1, 6, 2, 5), (1, 6, 2, 5)]\n",
    "                          20  (3, 6, 4, 5)   [(3, 6, 4, 5), (3, 4, 6, 5), (1, 2, 4, 3), (1, 4, 2, 3), (1, 6, 2, 5), (1, 2, 6, 5)]\n",
    "                          21  (3, 4, 5, 6)   [(3, 4, 5, 6), (3, 5, 4, 6), (1, 3, 2, 4), (1, 4, 3, 2), (1, 6, 2, 5), (1, 5, 6, 2)]\n",
    "                          22  (3, 6, 4, 5)   [(3, 6, 4, 5), (3, 5, 4, 6), (1, 3, 2, 4), (1, 4, 2, 3), (1, 6, 2, 5), (1, 5, 2, 6)]\n",
    "                          23  (3, 5, 6, 4)   [(3, 5, 6, 4), (3, 5, 4, 6), (1, 2, 3, 4), (1, 4, 2, 3), (1, 6, 2, 5), (1, 2, 5, 6)]\n",
    "                          24  (3, 6, 4, 5)   [(3, 6, 4, 5), (3, 6, 5, 4), (1, 3, 2, 4), (1, 3, 4, 2), (1, 6, 2, 5), (1, 6, 5, 2)]\n",
    "                          25  (3, 5, 6, 4)   [(3, 5, 6, 4), (3, 6, 5, 4), (1, 2, 3, 4), (1, 3, 4, 2), (1, 6, 2, 5), (1, 6, 2, 5)]\n",
    "                          26  (3, 4, 5, 6)   [(3, 4, 5, 6), (3, 4, 5, 6), (1, 2, 4, 3), (1, 2, 4, 3), (1, 2, 5, 6), (1, 2, 5, 6)]\n",
    "                          27  (3, 4, 5, 6)   [(3, 4, 5, 6), (3, 6, 4, 5), (1, 2, 4, 3), (1, 3, 2, 4), (1, 2, 5, 6), (1, 6, 2, 5)]\n",
    "                          28  (3, 6, 4, 5)   [(3, 6, 4, 5), (3, 6, 4, 5), (1, 2, 4, 3), (1, 2, 3, 4), (1, 2, 5, 6), (1, 2, 6, 5)]\n",
    "                          29  (3, 4, 5, 6)   [(3, 4, 5, 6), (3, 5, 6, 4), (1, 3, 2, 4), (1, 3, 2, 4), (1, 2, 5, 6), (1, 5, 6, 2)]\n",
    "                          30  (3, 6, 4, 5)   [(3, 6, 4, 5), (3, 5, 6, 4), (1, 3, 2, 4), (1, 2, 3, 4), (1, 2, 5, 6), (1, 5, 2, 6)]\n",
    "                          31  (3, 5, 6, 4)   [(3, 5, 6, 4), (3, 5, 6, 4), (1, 2, 3, 4), (1, 2, 3, 4), (1, 2, 5, 6), (1, 2, 5, 6)]\n",
    "                          32  (3, 4, 6, 5)   [(3, 4, 6, 5), (3, 4, 6, 5), (1, 2, 4, 3), (1, 2, 4, 3), (1, 2, 6, 5), (1, 2, 6, 5)]\n",
    "                          33  (3, 4, 6, 5)   [(3, 4, 6, 5), (3, 5, 4, 6), (1, 3, 2, 4), (1, 2, 4, 3), (1, 2, 6, 5), (1, 5, 2, 6)]\n",
    "                          34  (3, 5, 4, 6)   [(3, 5, 4, 6), (3, 5, 4, 6), (1, 2, 3, 4), (1, 2, 4, 3), (1, 2, 6, 5), (1, 2, 5, 6)]\n",
    "                          35  (3, 4, 6, 5)   [(3, 4, 6, 5), (3, 6, 5, 4), (1, 3, 2, 4), (1, 3, 2, 4), (1, 2, 6, 5), (1, 6, 5, 2)]\n",
    "                          36  (3, 5, 4, 6)   [(3, 5, 4, 6), (3, 6, 5, 4), (1, 2, 3, 4), (1, 3, 2, 4), (1, 2, 6, 5), (1, 6, 2, 5)]\n",
    "                          37  (3, 6, 5, 4)   [(3, 6, 5, 4), (3, 6, 5, 4), (1, 2, 3, 4), (1, 2, 3, 4), (1, 2, 6, 5), (1, 2, 6, 5)]\n",
    "\n"
   ]
  },
  {
   "cell_type": "markdown",
   "id": "1f3e145a",
   "metadata": {
    "jp-MarkdownHeadingCollapsed": true,
    "tags": []
   },
   "source": [
    "# Running all cases <a name=\"s2\"></a>"
   ]
  },
  {
   "cell_type": "markdown",
   "id": "74c80ce7",
   "metadata": {
    "tags": []
   },
   "source": [
    "## Cyclic graphs: genus 1"
   ]
  },
  {
   "cell_type": "code",
   "execution_count": null,
   "id": "728df24c",
   "metadata": {},
   "outputs": [],
   "source": [
    "# graphname=\"G3\"\n",
    "# G=Graph([(\"0\",\"1\"),(\"1\",\"2\"),(\"2\",\"0\")], multiedges=True)\n",
    "# edge_labels = {(\"0\",\"1\"):\"e1\",(\"1\",\"2\"):\"e2\",(\"2\",\"0\"):\"e3\"}\n",
    "# G,data,subg_cycles_l=load_data(G,edge_labels,graphname)\n",
    "# # analyse_data(graphname,subg_cycles_l,G)\n",
    "# # analyse_data(graphname,subg_cycles_l,G,flag=True)\n",
    "\n",
    "# graphname=\"G4\"\n",
    "# G=Graph([(\"0\",\"1\"),(\"1\",\"2\"),(\"2\",\"3\"),(\"3\",\"0\")], multiedges=True)\n",
    "# edge_labels = {(\"0\",\"1\"):\"e1\",(\"1\",\"2\"):\"e2\",(\"2\",\"3\"):\"e3\",(\"3\",\"0\"):\"e4\"}\n",
    "# G,data,subg_cycles_l=load_data(G,edge_labels,graphname)\n",
    "# # analyse_data(graphname,subg_cycles_l,G)\n",
    "# analyse_data(graphname,subg_cycles_l,G,flag=True)"
   ]
  },
  {
   "cell_type": "code",
   "execution_count": null,
   "id": "9fadb0e0",
   "metadata": {},
   "outputs": [],
   "source": [
    "# graphname=\"G5\"\n",
    "# G=Graph([(\"0\",\"1\"),(\"1\",\"2\"),(\"2\",\"3\"),(\"3\",\"4\"),(\"4\",\"0\")], multiedges=True)\n",
    "# edge_labels = {(\"0\",\"1\"):\"e1\",(\"1\",\"2\"):\"e2\",(\"2\",\"3\"):\"e3\",(\"3\",\"4\"):\"e4\",(\"4\",\"0\"):\"e5\"}\n",
    "# G,data,subg_cycles_l=load_data(G,edge_labels,graphname)\n",
    "# # analyse_data(graphname,subg_cycles_l,G)\n",
    "# analyse_data(graphname,subg_cycles_l,G,flag=True)"
   ]
  },
  {
   "cell_type": "code",
   "execution_count": 11,
   "id": "7a2f51b7",
   "metadata": {},
   "outputs": [],
   "source": [
    "# graphname=\"G6\"\n",
    "# G=Graph([(\"0\",\"1\"),(\"1\",\"2\"),(\"2\",\"3\"),(\"3\",\"4\"),(\"4\",\"5\"),(\"5\",\"0\")], multiedges=True)\n",
    "# edge_labels = {(\"0\",\"1\"):\"e1\",(\"1\",\"2\"):\"e2\",(\"2\",\"3\"):\"e3\",(\"3\",\"4\"):\"e4\",(\"4\",\"5\"):\"e5\",(\"5\",\"0\"):\"e6\"}\n",
    "# G,data,subg_cycles_l=load_data(G,edge_labels,graphname)\n",
    "# # analyse_data(graphname,subg_cycles_l,G)\n",
    "# analyse_data(graphname,subg_cycles_l,G,flag=True)"
   ]
  },
  {
   "cell_type": "markdown",
   "id": "e5f27e25",
   "metadata": {
    "jp-MarkdownHeadingCollapsed": true,
    "tags": []
   },
   "source": [
    "## K1=1,K2,K3"
   ]
  },
  {
   "cell_type": "code",
   "execution_count": null,
   "id": "97652a67",
   "metadata": {},
   "outputs": [],
   "source": [
    "# graphname=\"G4M2\"\n",
    "# G=Graph([(\"0\",\"1\"),(\"1\",\"2\"),(\"2\",\"3\"),(\"3\",\"0\"),(\"0\",\"2\")], multiedges=True)\n",
    "# edge_labels = {(\"0\",\"1\"):\"e1\",(\"1\",\"2\"):\"e2\",(\"2\",\"3\"):\"e3\",(\"3\",\"0\"):\"e4\",(\"0\",\"2\"):\"e0\"}\n",
    "# G,data,subg_cycles_l=load_data(G,edge_labels,graphname)\n",
    "# # analyse_data(graphname,subg_cycles_l,G)\n",
    "# analyse_data(graphname,subg_cycles_l,G,flag=True)"
   ]
  },
  {
   "cell_type": "code",
   "execution_count": 58,
   "id": "9124e6ad",
   "metadata": {},
   "outputs": [
    {
     "data": {
      "text/plain": [
       "{'Stability condition number': 4,\n",
       " 'Fixed cycle': (1, 5, 2, 4, 3),\n",
       " 'List of cycles for subgraphs in order': [(1, 5, 2, 4, 3)]}"
      ]
     },
     "execution_count": 58,
     "metadata": {},
     "output_type": "execute_result"
    }
   ],
   "source": [
    "graphname=\"G5M2\"\n",
    "G=Graph([(\"0\",\"1\"),(\"1\",\"2\"),(\"2\",\"3\"),(\"3\",\"4\"),(\"4\",\"0\"),(\"0\",\"2\")], multiedges=True)\n",
    "edge_labels = {(\"0\",\"1\"):\"e1\",(\"1\",\"2\"):\"e2\",(\"2\",\"3\"):\"e3\",(\"3\",\"4\"):\"e4\",(\"4\",\"0\"):\"e5\",(\"0\",\"2\"):\"e0\"}\n",
    "G,data,subg_cycles_l=load_data(G,edge_labels,graphname)\n",
    "# # analyse_data(graphname,subg_cycles_l,G)\n",
    "# analyse_data(graphname,subg_cycles_l,G,flag=True)\n",
    "\n",
    "#We are testing that the cycle_analysis.txt file matches\n",
    "index=4\n",
    "wsc_subg_cycles_l=subg_cycles_l[index]\n",
    "dic=df_subg_cycles_specific_wsc(index,wsc_subg_cycles_l)\n",
    "dic"
   ]
  },
  {
   "cell_type": "code",
   "execution_count": 13,
   "id": "2eaf9454",
   "metadata": {},
   "outputs": [],
   "source": [
    "# graphname=\"G6M2\"\n",
    "# G=Graph([(\"0\",\"1\"),(\"1\",\"2\"),(\"2\",\"3\"),(\"3\",\"4\"),(\"4\",\"5\"),(\"5\",\"0\"),(\"0\",\"2\")], multiedges=True)\n",
    "# edge_labels = {(\"0\",\"1\"):\"e1\",(\"1\",\"2\"):\"e2\",(\"2\",\"3\"):\"e3\",(\"3\",\"4\"):\"e4\",(\"4\",\"5\"):\"e5\",(\"5\",\"0\"):\"e6\",(\"0\",\"2\"):\"e0\"}\n",
    "# G,data,subg_cycles_l=load_data(G,edge_labels,graphname)\n",
    "# # analyse_data(graphname,subg_cycles_l,G)\n",
    "# analyse_data(graphname,subg_cycles_l,G,flag=True)\n",
    "\n",
    "# graphname=\"G6M3\"  \n",
    "# G=Graph([(\"0\",\"1\"),(\"1\",\"2\"),(\"2\",\"3\"),(\"3\",\"4\"),(\"4\",\"5\"),(\"5\",\"0\"),(\"0\",\"3\")], multiedges=True)\n",
    "# edge_labels = {(\"0\",\"1\"):\"e1\",(\"1\",\"2\"):\"e2\",(\"2\",\"3\"):\"e3\",(\"3\",\"4\"):\"e4\",(\"4\",\"5\"):\"e5\",(\"5\",\"0\"):\"e6\",(\"0\",\"3\"):\"e0\"}\n",
    "# G,data,subg_cycles_l=load_data(G,edge_labels,graphname)\n",
    "# # analyse_data(graphname,subg_cycles_l,G)\n",
    "# analyse_data(graphname,subg_cycles_l,G,flag=True)"
   ]
  },
  {
   "cell_type": "markdown",
   "id": "678c7ec8",
   "metadata": {
    "jp-MarkdownHeadingCollapsed": true,
    "tags": []
   },
   "source": [
    "## Higher genus graphs"
   ]
  },
  {
   "cell_type": "code",
   "execution_count": 60,
   "id": "31a9a12a",
   "metadata": {},
   "outputs": [
    {
     "data": {
      "text/plain": [
       "{'Stability condition number': 1,\n",
       " 'Fixed cycle': (1, 3, 4, 2),\n",
       " 'List of cycles for subgraphs in order': [(1, 3, 4, 2),\n",
       "  (2, 5, 6, 4),\n",
       "  (1, 5, 6, 3)]}"
      ]
     },
     "execution_count": 60,
     "metadata": {},
     "output_type": "execute_result"
    }
   ],
   "source": [
    "# graphname=\"G4M02M13\"\n",
    "# G=Graph([(\"0\",\"1\"),(\"1\",\"2\"),(\"2\",\"3\"),(\"3\",\"0\"),(\"0\",\"2\"),(\"1\",\"3\")], multiedges=True)\n",
    "# edge_labels = {(\"0\",\"1\"):\"e1\",(\"1\",\"2\"):\"e2\",(\"2\",\"3\"):\"e3\",(\"3\",\"0\"):\"e4\",(\"0\",\"2\"):\"e5\",(\"1\",\"3\"):\"e6\"}\n",
    "# G,data,subg_cycles_l=load_data(G,edge_labels,graphname)\n",
    "# # analyse_data(graphname,subg_cycles_l,G)\n",
    "# # analyse_data(graphname,subg_cycles_l,G,flag=True)\n",
    "\n",
    "# #We are testing that the cycle_analysis.txt file matches\n",
    "# index=1\n",
    "# wsc_subg_cycles_l=subg_cycles_l[index]\n",
    "# dic=df_subg_cycles_specific_wsc(index,wsc_subg_cycles_l)\n",
    "# dic"
   ]
  },
  {
   "cell_type": "code",
   "execution_count": 20,
   "id": "3b2593a6",
   "metadata": {},
   "outputs": [],
   "source": [
    "# graphname=\"G5M02M03\"\n",
    "# G=Graph([(\"0\",\"1\"),(\"1\",\"2\"),(\"2\",\"3\"),(\"3\",\"4\"),(\"4\",\"0\"),(\"0\",\"2\"),(\"0\",\"3\")], multiedges=True)\n",
    "# edge_labels = {(\"0\",\"1\"):\"e1\",(\"1\",\"2\"):\"e2\",(\"2\",\"3\"):\"e3\",(\"3\",\"4\"):\"e4\",(\"4\",\"0\"):\"e5\",(\"0\",\"2\"):\"e6\",(\"0\",\"3\"):\"e7\"}\n",
    "# G,data,subg_cycles_l=load_data(G,edge_labels,graphname)\n",
    "# # analyse_data(graphname,subg_cycles_l,G)\n",
    "# analyse_data(graphname,subg_cycles_l,G,flag=True)"
   ]
  },
  {
   "cell_type": "code",
   "execution_count": 62,
   "id": "3434d448",
   "metadata": {},
   "outputs": [
    {
     "data": {
      "text/plain": [
       "{'Stability condition number': 1,\n",
       " 'Fixed cycle': (1, 4, 5, 3, 2),\n",
       " 'List of cycles for subgraphs in order': [(1, 4, 5, 3, 2),\n",
       "  (2, 3, 7, 8, 5),\n",
       "  (2, 6, 7, 8, 4),\n",
       "  (1, 6, 3, 8, 4)]}"
      ]
     },
     "execution_count": 62,
     "metadata": {},
     "output_type": "execute_result"
    }
   ],
   "source": [
    "graphname=\"G5M02M03M14\"\n",
    "G=Graph([(\"0\",\"1\"),(\"1\",\"2\"),(\"2\",\"3\"),(\"3\",\"4\"),(\"4\",\"0\"),(\"0\",\"2\"),(\"0\",\"3\"),(\"1\",\"4\")], multiedges=True)\n",
    "edge_labels = {(\"0\",\"1\"):\"e1\",(\"1\",\"2\"):\"e2\",(\"2\",\"3\"):\"e3\",(\"3\",\"4\"):\"e4\",(\"4\",\"0\"):\"e5\",(\"0\",\"2\"):\"e6\",(\"0\",\"3\"):\"e7\",(\"1\",\"4\"):\"e8\"}\n",
    "G,data,subg_cycles_l=load_data(G,edge_labels,graphname)\n",
    "# # analyse_data(graphname,subg_cycles_l,G)\n",
    "# analyse_data(graphname,subg_cycles_l,G,flag=True)\n",
    "\n",
    "#We are testing that the cycle_analysis.txt file matches\n",
    "index=1\n",
    "wsc_subg_cycles_l=subg_cycles_l[index]\n",
    "dic=df_subg_cycles_specific_wsc(index,wsc_subg_cycles_l)\n",
    "dic"
   ]
  },
  {
   "cell_type": "code",
   "execution_count": null,
   "id": "9802d6df",
   "metadata": {},
   "outputs": [],
   "source": [
    "output_printed(graphname,subg_cycles_l,G)"
   ]
  },
  {
   "cell_type": "code",
   "execution_count": null,
   "id": "d4640232",
   "metadata": {},
   "outputs": [],
   "source": [
    "\"\"\"\n",
    "    Graph G:\n",
    "   \n",
    "   [('0', '1', 'e1'), ('0', '2', 'e6'), ('0', '3', 'e7'), ('0', '4', 'e5'), ('1', '2', 'e2'), ('1', '4', 'e8'), ('2', '3', 'e3'), ('3', '4', 'e4')]\n",
    "\n",
    "    Subgraphs with maximal necklace:\n",
    "    1. [('0', '1', 'e1'), ('0', '4', 'e5'), ('1', '2', 'e2'), ('2', '3', 'e3'), ('3', '4', 'e4')]\n",
    "    2. [('0', '3', 'e7'), ('0', '4', 'e5'), ('1', '2', 'e2'), ('1', '4', 'e8'), ('2', '3', 'e3')]\n",
    "    3. [('0', '2', 'e6'), ('0', '3', 'e7'), ('1', '2', 'e2'), ('1', '4', 'e8'), ('3', '4', 'e4')]\n",
    "    4. [('0', '1', 'e1'), ('0', '2', 'e6'), ('1', '4', 'e8'), ('2', '3', 'e3'), ('3', '4', 'e4')]\n",
    "\n",
    "\n",
    "    We study the extensions of a fixed a cycle on the first subgraph (1.).\n",
    "    The order of cycles will correspond to the order of subgraphs given above.\n",
    "\n",
    "\n",
    "    Here is a summary of the cycles on the fixed subgraph\n",
    "\n",
    "    Fixed cycle        count\n",
    "    ---------------  -------\n",
    "    (2, 3, 5, 7, 8)        5\n",
    "    (2, 3, 5, 8, 7)        5\n",
    "    (2, 3, 7, 5, 8)        1\n",
    "    (2, 3, 7, 8, 5)        3\n",
    "    (2, 3, 8, 5, 7)        2\n",
    "    (2, 3, 8, 7, 5)        3\n",
    "    (2, 5, 3, 7, 8)        5\n",
    "    (2, 5, 3, 8, 7)        5\n",
    "    (2, 5, 7, 3, 8)        2\n",
    "    (2, 5, 7, 8, 3)        3\n",
    "    (2, 5, 8, 3, 7)        4\n",
    "    (2, 5, 8, 7, 3)        3\n",
    "    (2, 7, 3, 5, 8)        3\n",
    "    (2, 7, 3, 8, 5)        4\n",
    "    (2, 7, 5, 3, 8)        3\n",
    "    (2, 7, 5, 8, 3)        2\n",
    "    (2, 7, 8, 3, 5)        5\n",
    "    (2, 7, 8, 5, 3)        5\n",
    "    (2, 8, 3, 5, 7)        3\n",
    "    (2, 8, 3, 7, 5)        2\n",
    "    (2, 8, 5, 3, 7)        3\n",
    "    (2, 8, 5, 7, 3)        1\n",
    "    (2, 8, 7, 3, 5)        5\n",
    "    (2, 8, 7, 5, 3)        5\n",
    "\n",
    "\n",
    "    Here is the data of all stabilty conditions, of cycles on the fixed subgraph\n",
    "\n",
    "      Stability condition number  Fixed cycle      List of cycles for subgraphs in order\n",
    "    ----------------------------  ---------------  --------------------------------------------------------------------\n",
    "                               0  (1, 5, 4, 3, 2)  [(1, 5, 4, 3, 2), (2, 3, 7, 5, 8), (2, 6, 7, 4, 8), (1, 6, 3, 4, 8)]\n",
    "                               1  (1, 4, 5, 3, 2)  [(1, 4, 5, 3, 2), (2, 3, 7, 8, 5), (2, 6, 7, 8, 4), (1, 6, 3, 8, 4)]\n",
    "                               2  (1, 4, 5, 3, 2)  [(1, 4, 5, 3, 2), (2, 5, 3, 7, 8), (2, 4, 6, 7, 8), (1, 4, 6, 3, 8)]\n",
    "                               3  (1, 5, 3, 2, 4)  [(1, 5, 3, 2, 4), (2, 3, 8, 7, 5), (2, 6, 7, 8, 4), (1, 6, 3, 8, 4)]\n",
    "                           \"\"\""
   ]
  },
  {
   "cell_type": "markdown",
   "id": "08290e27",
   "metadata": {
    "jp-MarkdownHeadingCollapsed": true,
    "tags": []
   },
   "source": [
    "## K1=2,K2,K3"
   ]
  },
  {
   "cell_type": "code",
   "execution_count": 70,
   "id": "d5742950",
   "metadata": {},
   "outputs": [],
   "source": [
    "graphname=\"V_222\"\n",
    "G=Graph([(\"0\",\"1\"),(\"1\",\"2\"),(\"2\",\"3\"),(\"3\",\"0\"),(\"0\",\"4\"),(\"4\",\"2\")], multiedges=True)\n",
    "edge_labels = {(\"0\",\"1\"):\"e1\",(\"1\",\"2\"):\"e2\",(\"2\",\"3\"):\"e3\",(\"3\",\"0\"):\"e4\",(\"0\",\"4\"):\"e5\",(\"4\",\"2\"):\"e6\"}\n",
    "G,data,subg_cycles_l=load_data(G,edge_labels,graphname)\n",
    "# analyse_data(graphname,subg_cycles_l,G)\n",
    "analyse_data(graphname,subg_cycles_l,G,flag=True)\n",
    "\n",
    "# index=0\n",
    "# dic=df_subg_cycles_specific_wsc(index,wsc_subg_cycles_l)\n",
    "# dic"
   ]
  },
  {
   "cell_type": "code",
   "execution_count": 56,
   "id": "b0fdea3e",
   "metadata": {},
   "outputs": [
    {
     "data": {
      "text/plain": [
       "{'Stability condition number': 0,\n",
       " 'Fixed cycle': (3, 4, 5, 6, 7),\n",
       " 'List of cycles for subgraphs in order': [(3, 4, 5, 6, 7),\n",
       "  (3, 4, 5, 6, 7),\n",
       "  (1, 5, 4, 3, 2),\n",
       "  (1, 5, 4, 3, 2)]}"
      ]
     },
     "execution_count": 56,
     "metadata": {},
     "output_type": "execute_result"
    }
   ],
   "source": [
    "graphname=\"V_223\"\n",
    "G=Graph([(\"0\",\"1\"),(\"1\",\"2\"),(\"2\",\"3\"),(\"3\",\"4\"),(\"4\",\"0\"),(\"0\",\"5\"),(\"5\",\"2\")], multiedges=True)\n",
    "edge_labels = {(\"0\",\"1\"):\"e1\",(\"1\",\"2\"):\"e2\",(\"2\",\"3\"):\"e3\",(\"3\",\"4\"):\"e4\",(\"4\",\"0\"):\"e5\",(\"0\",\"5\"):\"e6\",(\"5\",\"2\"):\"e7\"}\n",
    "G,data,subg_cycles_l=load_data(G,edge_labels,graphname)\n",
    "# # analyse_data(graphname,subg_cycles_l,G)\n",
    "# analyse_data(graphname,subg_cycles_l,G,flag=True)\n",
    "\n",
    "#We are testing that the cycle_analysis.txt file matches\n",
    "index=0\n",
    "wsc_subg_cycles_l=subg_cycles_l[index]\n",
    "dic=df_subg_cycles_specific_wsc(index,wsc_subg_cycles_l)\n",
    "dic"
   ]
  },
  {
   "cell_type": "code",
   "execution_count": 24,
   "id": "92d6f145",
   "metadata": {},
   "outputs": [],
   "source": [
    "# graphname=\"V_224\"\n",
    "# G=Graph([(\"0\",\"1\"),(\"1\",\"2\"),(\"2\",\"3\"),(\"3\",\"4\"),(\"4\",\"5\"),(\"5\",\"0\"),(\"0\",\"6\"),(\"6\",\"2\")], multiedges=True)\n",
    "# edge_labels = {(\"0\",\"1\"):\"e1\",(\"1\",\"2\"):\"e2\",(\"2\",\"3\"):\"e3\",(\"3\",\"4\"):\"e4\",(\"4\",\"5\"):\"e5\",(\"5\",\"0\"):\"e6\",(\"0\",\"6\"):\"e7\",(\"6\",\"2\"):\"e8\"}\n",
    "# G,data,subg_cycles_l=load_data(G,edge_labels,graphname)\n",
    "# # analyse_data(graphname,subg_cycles_l,G)\n",
    "# analyse_data(graphname,subg_cycles_l,G,flag=True)"
   ]
  },
  {
   "cell_type": "code",
   "execution_count": 25,
   "id": "7a663129",
   "metadata": {},
   "outputs": [],
   "source": [
    "# graphname=\"V_233\"\n",
    "# G=Graph([(\"0\",\"1\"),(\"1\",\"2\"),(\"2\",\"3\"),(\"3\",\"4\"),(\"4\",\"5\"),(\"5\",\"0\"),(\"0\",\"6\"),(\"6\",\"3\")], multiedges=True)\n",
    "# edge_labels = {(\"0\",\"1\"):\"e1\",(\"1\",\"2\"):\"e2\",(\"2\",\"3\"):\"e3\",(\"3\",\"4\"):\"e4\",(\"4\",\"5\"):\"e5\",(\"5\",\"0\"):\"e6\",(\"0\",\"6\"):\"e7\",(\"6\",\"3\"):\"e8\"}\n",
    "# G,data,subg_cycles_l=load_data(G,edge_labels,graphname)\n",
    "# # analyse_data(graphname,subg_cycles_l,G)\n",
    "# analyse_data(graphname,subg_cycles_l,G,flag=True)"
   ]
  },
  {
   "cell_type": "markdown",
   "id": "82ab473c",
   "metadata": {
    "tags": []
   },
   "source": [
    "## K33"
   ]
  },
  {
   "cell_type": "code",
   "execution_count": null,
   "id": "81911c78",
   "metadata": {},
   "outputs": [],
   "source": [
    "# graphname=\"K33\"\n",
    "# G=Graph([(\"0\", \"3\"), (\"0\", \"4\"), (\"0\", \"5\"), (\"1\", \"3\"), (\"1\", \"4\"), (\"1\", \"5\"), (\"2\", \"3\"), (\"2\", \"4\"), (\"2\", \"5\")], multiedges=True)\n",
    "\n",
    "# graphname=\"K33_breaks\"\n",
    "# G=Graph([(\"0\", \"3\"), (\"0\", \"4\"), (\"0\", \"5\"), (\"1\", \"3\"), (\"1\", \"4\"), (\"1\", \"5\"), (\"2\", \"3\"), (\"2\", \"4\"), (\"2\", \"5\")], multiedges=True)"
   ]
  },
  {
   "cell_type": "markdown",
   "id": "e89700f1",
   "metadata": {
    "tags": [],
    "toc-hr-collapsed": true
   },
   "source": [
    "# Functions <a name=\"s3\"></a>"
   ]
  },
  {
   "cell_type": "markdown",
   "id": "3ac1048a",
   "metadata": {
    "tags": []
   },
   "source": [
    "## Load in data <a name=\"s31\"></a>"
   ]
  },
  {
   "cell_type": "code",
   "execution_count": 6,
   "id": "6ff06ec4",
   "metadata": {},
   "outputs": [],
   "source": [
    "def unpickle(graphname):\n",
    "    # Unpickle the list\n",
    "    filename=f\"Done_examples/{graphname}/{graphname}.pkl\"\n",
    "    with open(filename, 'rb') as f:\n",
    "        unpickled_list = pickle.load(f)\n",
    "    return unpickled_list\n",
    "\n",
    "def apply_edge_labels(G,edge_labels):# for load_data\n",
    "    \"\"\"How to label edges of G\"\"\"\n",
    "    # Define the graph G\n",
    "    # Define the edge labels\n",
    "    # # Set the edge labels\n",
    "    for i in edge_labels.items():\n",
    "        tup=i[0]+(i[1],)\n",
    "        G.set_edge_label(*tup)\n",
    "    return G\n",
    "\n",
    "def load_data(G,edge_labels,graphname):\n",
    "    \n",
    "    G=apply_edge_labels(G,edge_labels)\n",
    "    data=unpickle(graphname)\n",
    "    subg_cycles_l=[d[3] for d in data] #elements are list of(subg,cycle,translator_tree) for each wsc.\n",
    "    subg_cycles_l=[[(tup[0],tup[1]) for tup in packet] for packet in subg_cycles_l] # we remove the translator_tree\n",
    "    \n",
    "    return G,data,subg_cycles_l"
   ]
  },
  {
   "cell_type": "code",
   "execution_count": 7,
   "id": "00b96164-3c0b-403c-b049-546c88b590a8",
   "metadata": {},
   "outputs": [
    {
     "name": "stdout",
     "output_type": "stream",
     "text": [
      "unpickle:{'open'} \n",
      "\n",
      "apply_edge_labels:set() \n",
      "\n",
      "load_data:{'apply_edge_labels', 'unpickle'} \n",
      "\n"
     ]
    }
   ],
   "source": [
    "# l = [unpickle, apply_edge_labels, load_data]\n",
    "# find_functions_used_l(l)"
   ]
  },
  {
   "cell_type": "markdown",
   "id": "1ad0330e",
   "metadata": {
    "jp-MarkdownHeadingCollapsed": true,
    "tags": []
   },
   "source": [
    "## Building total dataframe list of dictionaries for each stability condition. <a name=\"s32\"></a>"
   ]
  },
  {
   "cell_type": "code",
   "execution_count": 10,
   "id": "75176ff9",
   "metadata": {},
   "outputs": [],
   "source": [
    "def rotate_forward_to_standarised(cycle):#for df_subg_cycles_single_wsc\n",
    "    \"\"\"\n",
    "    Given a cycle we wish to rotate it so the first term is the minimal term of the cycle.\n",
    "    \n",
    "    ie take (4,2,6,9) -> (9,4,2,6) -> (6,9,4,2) -> (2,6,9,4)\n",
    "    \n",
    "    result=(2,6,9,4)\n",
    "    \"\"\"\n",
    "    min_index = cycle.index(min(cycle))\n",
    "    return cycle[min_index:] + cycle[:min_index]\n",
    "\n",
    "def group_subgcyclepair_by_necklace(necklaces,wsc_subg_cycles_l,flag=False):\n",
    "    \n",
    "    \"\"\"\n",
    "    Obj:## Group subg_cycles_l by necklace they contain.\n",
    "    Returns: A list of lists of (subg,cycle) for a given necklace: for all necklaces\n",
    "    Use flag to return data if True with triples and necklace size\n",
    "    \"\"\"\n",
    "\n",
    "    group_subgcyclepair=[] \n",
    "    for necklace in necklaces:\n",
    "        subgcycle_pairs_necklace=[] #pairs for a given necklace\n",
    "        for pair in wsc_subg_cycles_l:\n",
    "            subg=pair[0]\n",
    "\n",
    "            [necklace_edges]=subg.cycle_basis(output='edge') #return cycle of subgnecklace\n",
    "            subg_necklace=Graph(necklace_edges).copy(immutable=True)\n",
    "            if subg_necklace==necklace:\n",
    "                triple=pair+(len(necklace.vertices()),)\n",
    "                subgcycle_pairs_necklace.append(triple) #we record the size of the necklaces so we can order\n",
    "                \n",
    "        group_subgcyclepair.append(subgcycle_pairs_necklace)\n",
    "    \n",
    "    # We sort groups based on length of necklace contained.\n",
    "#     print(group_subgcyclepair) #--#\n",
    "    group_subgcyclepair = sorted(group_subgcyclepair, key=lambda x: x[0][2], reverse=True)\n",
    "    \n",
    "    if flag==True:\n",
    "        #With necklace size in triple\n",
    "        return group_subgcyclepair\n",
    "    \n",
    "    #We remove the length of necklace from triple to pair, we used to sort.\n",
    "    data=group_subgcyclepair\n",
    "    new_data = []\n",
    "    for sublist in data:\n",
    "        packet=[]\n",
    "        for triple in sublist:\n",
    "            pair=(triple[0],triple[1])\n",
    "            packet.append(pair)\n",
    "        new_data.append(packet)\n",
    "    return new_data\n",
    "\n",
    "def get_maxlen_group_subgcycle(necklaces,subg_cycles_l): #for df_subg_cycles_single_wsc\n",
    "    \n",
    "    \"\"\"\n",
    "    Obj: get those subg,cycle pairs which contian a max necklace.\n",
    "     1- Identify which subg have maximal necklaces.\n",
    "    Returns: A list of groups with (subg,cycle) such that subg contains max length necklace.\n",
    "    \"\"\"\n",
    "    \n",
    "    group_subgcyclepair=group_subgcyclepair_by_necklace(necklaces,subg_cycles_l,True)\n",
    "\n",
    "    # In group_subgcyclepair_by_necklace i have recorded the length of the necklace.\n",
    "    num=set([])\n",
    "    for sublist in group_subgcyclepair:\n",
    "        num.add(sublist[0][2]) #take first element of grouped and then take length of necklace [2]\n",
    "\n",
    "    ## take max in num: Length of max necklace\n",
    "    m=max(num)\n",
    "\n",
    "    group_subgcyclepair_max_necklace=[]\n",
    "    for sublist in group_subgcyclepair:\n",
    "        if sublist[0][2]==m:\n",
    "            group_subgcyclepair_max_necklace.append(sublist)\n",
    "\n",
    "#     print(\"Are cycles for maximal necklaces are always the same?\")\n",
    "#     print(group_subgcyclepair_max_necklace)\n",
    "    \n",
    "    return group_subgcyclepair_max_necklace\n",
    "\n",
    "def get_necklaces_of_G(wsc_subg_cycles_l):\n",
    "    \n",
    "    \"\"\"\n",
    "    Obj: Run through subg and ask cycle basis.\n",
    "    Returns: a list of all unique necklaces of G\n",
    "    \"\"\"\n",
    "\n",
    "    necklaces=[]\n",
    "    for pair in wsc_subg_cycles_l:\n",
    "        subg=pair[0]\n",
    "        [necklace_edges]=subg.cycle_basis(output='edge') #return cycle of subgnecklace\n",
    "        necklace=Graph(necklace_edges).copy(immutable=True)\n",
    "        necklaces.append(necklace)\n",
    "    necklaces=list(set(necklaces))\n",
    "    return necklaces\n",
    "\n",
    "def get_flat_max_subgcycle_l(wsc_subg_cycles_l): #for df_subg_cycles_specific_wsc\n",
    "    \"\"\"\n",
    "\n",
    "    We get the list of all pairs (subg,cycle) which contain maximal necklaces for a given stabiltiy condition\n",
    "    \"\"\"\n",
    "    \n",
    "    #necklaces subgraphs of G\n",
    "    necklaces=get_necklaces_of_G(wsc_subg_cycles_l)\n",
    "\n",
    "    #Get the list of lists containing (subg,cycle) where the subg contain a maximal necklace (there may be more than 1).\n",
    "    max_subgcycle_l=get_maxlen_group_subgcycle(necklaces,wsc_subg_cycles_l)\n",
    "    \n",
    "    #plot the subg with maximals:\n",
    "    \n",
    "    \n",
    "#     for sublist in max_subgcycle_l:\n",
    "#         print(sublist)\n",
    "#         ll=[pair[0] for pair in sublist]\n",
    "#         graphs_list.show_graphs(ll,vertex_size=200,figsize=100,vertex_labels=True,vertex_color='orange')\n",
    "# \n",
    "    flat_max_subgcycle_l = [item for sublist in max_subgcycle_l for item in sublist]\n",
    "\n",
    "    return flat_max_subgcycle_l\n",
    "\n",
    "def df_subg_cycles_specific_wsc(index,wsc_subg_cycles_l):\n",
    "\n",
    "    \"\"\"\n",
    "    Objective: For some graphname, we analyse the cycles on subg for a given wsc for\n",
    "    subg that contain a maximal necklace.Want to produce a given row of dataframe i.e a dictionary.\n",
    "    \n",
    "    Inputs:\n",
    "    \n",
    "    Returns: a dictionary which we will put together.\"\"\"\n",
    "    \n",
    "    flat_max_subgcycle_l=get_flat_max_subgcycle_l(wsc_subg_cycles_l)\n",
    "    \n",
    "    # First take flat_max_subgcycle_l and put cycles into a standarised format.\n",
    "    flat_max_subgcycle_l=[(pair[0],rotate_forward_to_standarised(pair[1])) for pair in flat_max_subgcycle_l]\n",
    "    \n",
    "    cycles_in_order=[pair[1] for pair in flat_max_subgcycle_l]\n",
    "\n",
    "    # Take flat_max_subgcycle_l and build a dictionary\n",
    "    dic={\"Stability condition number\":index,\"Fixed cycle\":cycles_in_order[0],\"List of cycles for subgraphs in order\":cycles_in_order}\n",
    "    return dic\n",
    "\n",
    "#Main\n",
    "def df_subg_cycles_all(subg_cycles_l):\n",
    "    \"\"\"\n",
    "    Objective: For some graphname for all wsc, we analyse the cycles on subg, for\n",
    "    subg that contain a maximal necklace. We produce a list of dictionaries. \n",
    "    Which we will put into a data frame in analysis_cycles_2\n",
    "    \n",
    "    Inputs:\n",
    "    \n",
    "    Returns: a list of dictioaries of df_subg_cycles_specific_wsc.\n",
    "    \n",
    "    \"\"\"\n",
    "    all_dics=[]\n",
    "    #Runs over all wsc.\n",
    "    for index,wsc_subg_cycles_l in enumerate(subg_cycles_l):\n",
    "        dic=df_subg_cycles_specific_wsc(index,wsc_subg_cycles_l)\n",
    "        all_dics.append(dic)\n",
    "    return all_dics"
   ]
  },
  {
   "cell_type": "code",
   "execution_count": 11,
   "id": "89ecb83c-bdfb-4d69-bf52-08df59710d83",
   "metadata": {},
   "outputs": [
    {
     "name": "stdout",
     "output_type": "stream",
     "text": [
      "rotate_forward_to_standarised:{'min'} \n",
      "\n",
      "group_subgcyclepair_by_necklace:{'len', 'Graph', 'sorted'} \n",
      "\n",
      "get_maxlen_group_subgcycle:{'set', 'max', 'group_subgcyclepair_by_necklace'} \n",
      "\n",
      "get_necklaces_of_G:{'Graph', 'set', 'list'} \n",
      "\n",
      "get_flat_max_subgcycle_l:{'get_necklaces_of_G', 'get_maxlen_group_subgcycle'} \n",
      "\n",
      "df_subg_cycles_specific_wsc:{'rotate_forward_to_standarised', 'get_flat_max_subgcycle_l'} \n",
      "\n",
      "df_subg_cycles_all:{'df_subg_cycles_specific_wsc', 'enumerate'} \n",
      "\n"
     ]
    }
   ],
   "source": [
    "# l = [rotate_forward_to_standarised, group_subgcyclepair_by_necklace, get_maxlen_group_subgcycle,\n",
    "#     get_necklaces_of_G,get_flat_max_subgcycle_l,df_subg_cycles_specific_wsc,df_subg_cycles_all]\n",
    "# find_functions_used_l(l)"
   ]
  },
  {
   "cell_type": "markdown",
   "id": "d69c0c41",
   "metadata": {
    "jp-MarkdownHeadingCollapsed": true,
    "tags": []
   },
   "source": [
    "## Getting Summary list <a name=\"s33\"></a>"
   ]
  },
  {
   "cell_type": "code",
   "execution_count": 5,
   "id": "66ddc43b",
   "metadata": {},
   "outputs": [],
   "source": [
    "def pickle_data_dlist(graphname,data):\n",
    "    \"\"\"\n",
    "    Store dictionary list\n",
    "    \"\"\"\n",
    "    # Pickle the list\n",
    "    filename=f\"Done_examples/{graphname}/{graphname}_dlist.pkl\"\n",
    "    with open(filename, 'wb') as f:\n",
    "        pickle.dump(data, f)\n",
    "    return"
   ]
  },
  {
   "cell_type": "code",
   "execution_count": 6,
   "id": "6791aa6c",
   "metadata": {},
   "outputs": [],
   "source": [
    "def unpickle_summary_dlist(graphname):\n",
    "    # Unpickle the list\n",
    "    filename=f\"Done_examples/{graphname}/{graphname}_summary_dlist.pkl\"\n",
    "    with open(filename, 'rb') as f:\n",
    "        unpickled_list = pickle.load(f)\n",
    "    return unpickled_list"
   ]
  },
  {
   "cell_type": "markdown",
   "id": "31c51eba",
   "metadata": {
    "jp-MarkdownHeadingCollapsed": true,
    "tags": []
   },
   "source": [
    "## Presenting data in txt file graphname_cycle_analysis.txt <a name=\"s34\"></a>"
   ]
  },
  {
   "cell_type": "code",
   "execution_count": 12,
   "id": "ed9cb238",
   "metadata": {},
   "outputs": [],
   "source": [
    "def display_data(G,flat_max_subgcycle_l,flag=False):\n",
    "    \"\"\"\n",
    "    Plots the graphG, and subg which contain maximal neckalce\n",
    "    \"\"\"    \n",
    "    print(\"Consider the collection of all stability conditions for G.\\n\")  \n",
    "    \n",
    "    subg_l_max_necklace=[pair[0] for pair in flat_max_subgcycle_l]\n",
    "\n",
    "    l=[G]+subg_l_max_necklace\n",
    "    if flag==False:\n",
    "        print(\"The graph G, followed by subgraphs with maximal necklace.\")\n",
    "        graphs_list.show_graphs(l,vertex_size=200,figsize=100,vertex_labels=True,vertex_color='orange')\n",
    "        \n",
    "    if flag==True:\n",
    "        print(\"Graph G:\")\n",
    "        print(G.edges(),\"\\n\")\n",
    "        \n",
    "        print(\"Subgraphs with maximal necklace:\")\n",
    "        for index,sub in enumerate(subg_l_max_necklace):\n",
    "            print(f\"{index+1}. {sub.edges()}\")\n",
    "    print(\"\\n\")\n",
    "    \n",
    "    print(\"We study the extensions of a fixed a cycle on the first subgraph (1.).\")\n",
    "    \n",
    "    print(\"The order of cycles will correspond to the order of subgraphs given above.\")\n",
    "    print(\"\\n\")\n",
    "    \n",
    "    return\n",
    "\n",
    "def get_display(G,subg_cycles_l,flag=False):\n",
    "    \n",
    "    #The subgraphs are all ordered the same for each wsc. So taking the first is enough to\n",
    "    #Plot the subg with max necklaces.\n",
    "    \n",
    "    index=0\n",
    "    wsc_subg_cycles_l=subg_cycles_l[index]\n",
    "    flat_max_subgcycle_l=get_flat_max_subgcycle_l(wsc_subg_cycles_l)\n",
    "\n",
    "    #To give and example: And for output file.\n",
    "    if flag==False:\n",
    "        display_data(G,flat_max_subgcycle_l,flag=False)\n",
    "    if flag==True:\n",
    "        display_data(G,flat_max_subgcycle_l,flag=True)\n",
    "    return\n",
    "\n",
    "#Storing files \n",
    "def output_to_file(G,subg_cycles_l,summary,d_list):# for store_data in text files\n",
    "    \"\"\"\n",
    "    Inputs:\n",
    "    all_data: is d_list obtained by df_subg_cycles_all\n",
    "    summary: Obtiained by analysis_cycle_2\n",
    "    \n",
    "    Return to text file:\n",
    "    - add list of subgraphs under trees.\n",
    "    - record list of cycles for subg, after lbm. \n",
    "    \"\"\"\n",
    "    #Outline:\n",
    "    get_display(G,subg_cycles_l,True)\n",
    "\n",
    "    #Tabulate summary.\n",
    "    print(\"Here is a summary of the cycles on the fixed subgraph \\n\")\n",
    "    print(tabulate(summary, headers=\"keys\"))\n",
    "    print(\"\\n\")\n",
    "    \n",
    "    # tabulate all data:\n",
    "    print(\"Here is the data of all stabilty conditions, of cycles on the fixed subgraph \\n\")\n",
    "    print(tabulate(d_list, headers=\"keys\"))\n",
    "    \n",
    "    return\n",
    "\n",
    "def store_data(G,subg_cycles_l,summary,d_list,graphname=\"test\"):\n",
    "    name=f\"Done_examples/{graphname}/{graphname}_cycle_analysis.txt\"\n",
    "    with open(name, \"w\") as f:\n",
    "        sys.stdout = f\n",
    "\n",
    "        output_to_file(G,subg_cycles_l,summary,d_list)\n",
    "\n",
    "        sys.stdout = sys.__stdout__\n",
    "    return"
   ]
  },
  {
   "cell_type": "code",
   "execution_count": 13,
   "id": "3c3d10c2-0014-4db6-99e7-90b47952eecc",
   "metadata": {},
   "outputs": [
    {
     "name": "stdout",
     "output_type": "stream",
     "text": [
      "display_data:{'enumerate', 'print'} \n",
      "\n",
      "get_display:{'display_data', 'get_flat_max_subgcycle_l'} \n",
      "\n",
      "output_to_file:{'get_display', 'print', 'tabulate'} \n",
      "\n",
      "store_data:{'output_to_file', 'open'} \n",
      "\n"
     ]
    }
   ],
   "source": [
    "# l = [display_data, get_display, output_to_file,store_data]\n",
    "# find_functions_used_l(l)"
   ]
  },
  {
   "cell_type": "markdown",
   "id": "8526ada2",
   "metadata": {
    "jp-MarkdownHeadingCollapsed": true,
    "tags": []
   },
   "source": [
    "## Everything complied into one function <a name=\"s35\"></a>"
   ]
  },
  {
   "cell_type": "code",
   "execution_count": 14,
   "id": "ab27a98a-dc88-4b3a-8d1d-ef807af92719",
   "metadata": {},
   "outputs": [],
   "source": [
    "def analyse_data(graphname,subg_cycles_l,G,flag=False):\n",
    "    \n",
    "    #Calculate cycles on subg with max necklaces for all stabilties.\n",
    "    d_list=df_subg_cycles_all(subg_cycles_l)\n",
    "\n",
    "    #We need to store d_list so we can unload it to analysis_cycles_2 to use pandas and obtain summary.\n",
    "    pickle_data_dlist(graphname,d_list)\n",
    "\n",
    "    if flag==True:\n",
    "        #Now go to analyse_cycles_2 and create summary_dlist.pkl\n",
    "\n",
    "        #load in summary_dlist.pkl\n",
    "        summary=unpickle_summary_dlist(graphname)\n",
    "\n",
    "        store_data(G,subg_cycles_l,summary,d_list,graphname)\n",
    "    return\n",
    "\n",
    "def output_printed(graphname,subg_cycles_l,G):\n",
    "    \n",
    "    \"\"\"\n",
    "    Modified analyse_data print as in text files but here\n",
    "    \"\"\"\n",
    "\n",
    "    #Calculate cycles on subg with max necklaces for all stabilties.\n",
    "    d_list=df_subg_cycles_all(subg_cycles_l)\n",
    "\n",
    "    #Now go to analyse_cycles_2 and create summary_dlist.pkl\n",
    "\n",
    "    #load in summary_dlist.pkl\n",
    "    summary=unpickle_summary_dlist(graphname)\n",
    "\n",
    "    output_to_file(G,subg_cycles_l,summary,d_list)\n",
    "    return"
   ]
  },
  {
   "cell_type": "code",
   "execution_count": 15,
   "id": "ad31fef9-e605-4e45-8b57-5c16f751a171",
   "metadata": {},
   "outputs": [
    {
     "name": "stdout",
     "output_type": "stream",
     "text": [
      "analyse_data:{'pickle_data_dlist', 'store_data', 'unpickle_summary_dlist', 'df_subg_cycles_all'} \n",
      "\n",
      "output_printed:{'output_to_file', 'unpickle_summary_dlist', 'df_subg_cycles_all'} \n",
      "\n"
     ]
    }
   ],
   "source": [
    "# l = [analyse_data, output_printed]\n",
    "# find_functions_used_l(l)"
   ]
  },
  {
   "cell_type": "markdown",
   "id": "99298b21",
   "metadata": {
    "jp-MarkdownHeadingCollapsed": true,
    "tags": []
   },
   "source": [
    "## Leftovers"
   ]
  },
  {
   "cell_type": "code",
   "execution_count": null,
   "id": "94e1abe2",
   "metadata": {},
   "outputs": [],
   "source": [
    "# #Specific example all working:\n",
    "\n",
    "# index=1\n",
    "# wsc_subg_cycles_l=subg_cycles_l[index]\n",
    "# flat_max_subgcycle_l=get_flat_max_subgcycle_l(wsc_subg_cycles_l)\n",
    "\n",
    "# #To give and example: And for output file.\n",
    "# display_data(G,flat_max_subgcycle_l)\n",
    "\n",
    "# # First take flat_max_subgcycle_l and put cycles into a standarised format.\n",
    "# flat_max_subgcycle_l=[(pair[0],rotate_forward_to_standarised(pair[1])) for pair in flat_max_subgcycle_l]\n",
    "# # flat_max_subgcycle_l\n",
    "# cycles_in_order=[pair[1] for pair in flat_max_subgcycle_l]\n",
    "# cycles_in_order\n",
    "\n",
    "# # Take flat_max_subgcycle_l and build a dictionary\n",
    "\n",
    "# dic={\"Stability condition number\":index,\"Fixed cycle\":cycles_in_order[0],\"List of cycles for subgraphs in order\":cycles_in_order}\n",
    "# dic"
   ]
  },
  {
   "cell_type": "markdown",
   "id": "e3b69a5d-2c4c-4c80-a726-1fce69241781",
   "metadata": {
    "tags": []
   },
   "source": [
    "# Used Throughout"
   ]
  },
  {
   "cell_type": "code",
   "execution_count": 3,
   "id": "86ed9aef",
   "metadata": {},
   "outputs": [],
   "source": [
    "import numpy as np\n",
    "import networkx as nx\n",
    "from collections import Counter\n",
    "import itertools \n",
    "import random\n",
    "from itertools import combinations, permutations\n",
    "import sys\n",
    "import pickle\n",
    "from tabulate import tabulate"
   ]
  },
  {
   "cell_type": "code",
   "execution_count": 4,
   "id": "03e30503-0879-4319-bfe5-6442504acdec",
   "metadata": {},
   "outputs": [],
   "source": [
    "import ast\n",
    "import inspect\n",
    "\n",
    "def find_functions_used(func):\n",
    "    \n",
    "    \"\"\"Add print Objective.\"\"\"\n",
    "    \n",
    "    functions_used = set()\n",
    "    tree = ast.parse(inspect.getsource(func))\n",
    "    for node in ast.walk(tree):\n",
    "        if isinstance(node, ast.Call) and isinstance(node.func, ast.Name):\n",
    "            functions_used.add(node.func.id)\n",
    "    return functions_used\n",
    "\n",
    "def find_functions_used_l(l):\n",
    "    for func in l:\n",
    "        functions_used = find_functions_used(func)\n",
    "        print(f\"{func.__name__}:{functions_used} \\n\")\n",
    "\n",
    "# l = [f1, f2, f3]\n",
    "# find_functions_used_l(l)\n"
   ]
  },
  {
   "cell_type": "markdown",
   "id": "842d330e-bc89-4f09-83cd-6c2676b628ba",
   "metadata": {
    "tags": []
   },
   "source": [
    "# Leftovers"
   ]
  }
 ],
 "metadata": {
  "kernelspec": {
   "display_name": "Python 3 (ipykernel)",
   "language": "python",
   "name": "python3"
  },
  "language_info": {
   "codemirror_mode": {
    "name": "ipython",
    "version": 3
   },
   "file_extension": ".py",
   "mimetype": "text/x-python",
   "name": "python",
   "nbconvert_exporter": "python",
   "pygments_lexer": "ipython3",
   "version": "3.10.8"
  }
 },
 "nbformat": 4,
 "nbformat_minor": 5
}
