{
 "cells": [
  {
   "cell_type": "markdown",
   "metadata": {},
   "source": [
    "Note: I have forgotten to check for f3 from f2, that f3(\"empty\")+f(\"1...n\")=-2.\n",
    "\n",
    "At the end \n",
    "\n",
    "Before outputtin to txt files I have removed those [f2,f3,dim_poly] where the f3 fails the above condition.\n"
   ]
  },
  {
   "cell_type": "markdown",
   "metadata": {
    "tags": []
   },
   "source": [
    "# Overview"
   ]
  },
  {
   "cell_type": "markdown",
   "metadata": {},
   "source": [
    "For Pn Msa cases.\n",
    "\n",
    "We construct the convex polytopal region denoted $R_f$ which are intersections of  $$b\\le Ax \\le b+1.$$\n",
    "\n",
    "We determine the number of cases where $R_f $ are of dimension less that the top dimensios and select the $f$ for which this occurs. The functions correspond to those for which there exists non universal $\\phi$."
   ]
  },
  {
   "cell_type": "markdown",
   "metadata": {},
   "source": [
    "For the genus 2 case we follow the documentation to determine which f2,f3 pairs are degnerate for n=3,4 and tranlsated case."
   ]
  },
  {
   "cell_type": "markdown",
   "metadata": {
    "tags": []
   },
   "source": [
    "# Investigate (f2,f3) for P3-P4 and translate cases "
   ]
  },
  {
   "cell_type": "markdown",
   "metadata": {
    "tags": []
   },
   "source": [
    "## Functions"
   ]
  },
  {
   "cell_type": "code",
   "execution_count": 77,
   "metadata": {
    "tags": []
   },
   "outputs": [],
   "source": [
    "def load_l_f2f3(path):\n",
    "\n",
    "    \"\"\"\n",
    "    In:\n",
    "    out:\n",
    "    Obj:Load:list of info\n",
    "    \"\"\"\n",
    "    #load\n",
    "    with open(path, 'rb') as file:\n",
    "        loaded_df = pickle.load(file)\n",
    "\n",
    "    return loaded_df\n",
    "\n",
    "#remember sage doesnt have pandas so for each (f2,f3) need to determine hyperplane inequalities."
   ]
  },
  {
   "cell_type": "code",
   "execution_count": 78,
   "metadata": {
    "tags": []
   },
   "outputs": [],
   "source": [
    "def get_hyperplanes_f2(f2): #put into format of sage b<Ax<b+1\n",
    "    \n",
    "    \"\"\"\n",
    "        In: f2 msa function\n",
    "\n",
    "        Obj:return a list of equalities to define the polytope for f2\n",
    "\n",
    "        Out:list of equality in correct format for hyperplanes for sage\n",
    "\n",
    "        First get inputs then get outcomes.\n",
    "        input:[0, 1]\n",
    "        outcome:[0, 1, 0, 0]\n",
    "\n",
    "        input:[0, 2]\n",
    "        outcome:[0, 0, 1, 0]\n",
    "\n",
    "        input:[2, 3]\n",
    "        outcome:[2, 0, 0, 1]\n",
    "    \"\"\"\n",
    "    \n",
    "    #init\n",
    "    #Leaving this, this way because im stupid \n",
    "    \n",
    "    dataframe = pd.DataFrame([f2])\n",
    "    #f2={'1': 0, '2': 0, '3': 0, '12': 1, '13': 1, '23': 0, '123': 1}\n",
    "    dataframe_list = dataframe.values.tolist()\n",
    "    #[[0, 0, 0, 1, 1, 0, 1]]\n",
    "    df_temp_col_list = dataframe.columns.tolist()\n",
    "    #['1', '2', '3', '12', '13', '23', '123']\n",
    "    df_col_list =[ list(x) for x in df_temp_col_list]\n",
    "    #[['1'], ['2'], ['3'], ['1', '2'], ['1', '3'], ['2', '3'], ['1', '2', '3']]\n",
    "\n",
    "    for i in dataframe_list: #creates row at a time #Here its of size 1\n",
    "\n",
    "        #prep lists with constants\n",
    "        l_i= [ [x,] for x in i]\n",
    "        # print(\"l_i\",l_i)\n",
    "        \n",
    "        \"\"\"\n",
    "        Example \n",
    "        Suppose we wish to write \n",
    "        \n",
    "        for\n",
    "        b<x+y<b+1\n",
    "        \n",
    "        The inequalities we want are.\n",
    "        res_lower_example=[-b,1,1]\n",
    "        res_upper_example=[b+1,-1,-1]\n",
    "        \n",
    "        Outputs:\n",
    "        res_lower [[0, 1], [0, 2], [0, 3], [0, 1, 2], [-1, 1, 3], [-1, 2, 3], [-1, 1, 2, 3]]\n",
    "        res_upper [[1, -1], [1, -2], [1, -3], [1, -1, -2], [2, -1, -3], [2, -2, -3], [2, -1, -2, -3]]\n",
    "        \"\"\"\n",
    "        \n",
    "        #looks like [-b,1,1] for b \\le x+y\n",
    "        res_lower = [list(itertools.chain(*i)) for i in zip(l_i, df_col_list)] # Ax>b #todo need to insert minus for b term. for Ax-b>0\n",
    "        for j in range(len(res_lower)):\n",
    "            res_lower[j]=[ int(x) for x in res_lower[j]]#multpliy all elements by negative to change inequality direction.-Ax\n",
    "            res_lower[j][0]=-int((res_lower[j][0])) # -b part.\n",
    "        # print(\"res_lower\",res_lower) \n",
    "        \n",
    "        res_upper = [list(itertools.chain(*i)) for i in zip(l_i, df_col_list)]#Ab<b+1 need to arrange into same format as above -Ax+(b+1)>0\n",
    "        for j in range(len(res_upper)):\n",
    "            res_upper[j]=[ -1*int(x) for x in res_upper[j]]#multpliy all elements by negative to change inequality direction.-Ax\n",
    "            res_upper[j][0]=-int((res_upper[j][0]))+1 # Todo Possible check for negative position\n",
    "        # print(\"res_upper\",res_upper) #look like [b+1,-1,-1] for x+y \\le b+1\n",
    "        \n",
    "        res_combined= res_lower +res_upper\n",
    "        \n",
    "        #change format DONE!\n",
    "        formatted_ResCombine=[]\n",
    "        \n",
    "        for item in res_combined:#res_combined = [[]...[]], item = []\n",
    "            # input:[-1, 1, 3]\n",
    "            # outcome:[-1, 1, 0, 1]\n",
    "            \n",
    "            # print(f\"input:{item}\")\n",
    "            x=[0]*(max(len(l) for l in res_combined)) #finding [0,0,0,0,0] (getting this format) for P_4 ie n+1 \n",
    "            # print(f\"x:{x}\")\n",
    "            \n",
    "            x[0]=item[0] #starts at b terms\n",
    "            \n",
    "            \n",
    "            for k in range(1,len(item)):\n",
    "                #for the x_i terms                \n",
    "                # print(\"item[k]\",item[k])\n",
    "                if int(item[k])<0: #!!!!! Changed\n",
    "                    x[-int(item[k])]=-1 #\n",
    "                else:\n",
    "                    x[int(item[k])]=1\n",
    "            # print(f\"outcome:{x}\")\n",
    "            \n",
    "            formatted_ResCombine.append(x)   #terms looks like [[]...[]]\n",
    "            \n",
    "    return formatted_ResCombine #a list of the functions P_n"
   ]
  },
  {
   "cell_type": "code",
   "execution_count": 83,
   "metadata": {
    "tags": []
   },
   "outputs": [],
   "source": [
    "def get_comp(k,max_set):#for get_hyperplanes_f3\n",
    "    #get complement \n",
    "    # number_string = \"12345\"\n",
    "    # y = \"134\"\n",
    "    z = \"\".join(char for char in max_set if char not in k)\n",
    "    return z #\"25\"\n",
    "\n",
    "def get_res_lower(values_list,col_list, col_list_comp):#for get_hyperplanes_f3\n",
    "    \n",
    "    \"\"\"\n",
    "    Here we do the 1+2f3(A)<x_A -x_A^c part for all A, this is recorded in res_lower\n",
    "    \n",
    "    and put it into the form, 0<-(1+2f3(A)) + x_A -x_A^c as a list # (STAR!)\n",
    "    \"\"\"\n",
    "    \n",
    "    #constant terms\n",
    "    l_i=[[-(1+(2*x)),] for x in values_list]\n",
    "    \n",
    "    # Combine the lists element-wise using zip\n",
    "    combined_lists = zip(l_i, col_list, col_list_comp)\n",
    "    # print(\"combined_lists\",list(combined_lists)) # combined_lists [(-3, ['1'], ['2', '3']), (-1, ['2'], ['1', '3']), (-1, ['3'], ['1', '2']), (-1, ['1', '2'], ['3']), (-1, ['1', '3'], ['2']), (1, ['2', '3'], ['1'])]    res_lower=[]\n",
    "    \n",
    "    \n",
    "    res_lower=[]\n",
    "    for constant, col_list, col_comp_list in combined_lists:\n",
    "        formated_col_l=[int(x) for x in col_list] #see (STAR!)\n",
    "        # col_comp_list = ['2', '3']\n",
    "        form_col_comp_list=[-int(x) for x in col_comp_list] #see (STAR!)\n",
    "        # Create the result list using list comprehension\n",
    "        res_lower_term=constant + formated_col_l+form_col_comp_list\n",
    "        # print(result)  # Output: [-2, 1, -2, -3]\n",
    "        # print(\"res_lower_term\",res_lower_term)\n",
    "        res_lower.append(res_lower_term)\n",
    "    return res_lower\n",
    "\n",
    "def get_res_upper(values_list,col_list, col_list_comp):#for get_hyperplanes_f3\n",
    "    \n",
    "    \"\"\"\n",
    "    Here we do the x_A -x_A^c<3+2f3(A) part for all A, this is recorded in res_lower \n",
    "    \n",
    "    and put it into the form, 0<+(3+2f3(A)) - x_A +x_A^c as a list (STAR!)\n",
    "    \"\"\"\n",
    "    \n",
    "    \"\"\"\n",
    "        [-2, -1, -1, -1, -1, 0]\n",
    "        res_lower_term [3, 1, -2, -3]\n",
    "        res_lower_term [1, 2, -1, -3]\n",
    "        res_lower_term [1, 3, -1, -2]\n",
    "        res_lower_term [1, 1, 2, -3]\n",
    "        res_lower_term [1, 1, 3, -2]\n",
    "        res_lower_term [-1, 2, 3, -1]\n",
    "        [-2, -1, -1, -1, -1, 0]\n",
    "        res_upper_term [-1, -1, 2, 3]\n",
    "        res_upper_term [1, -2, 1, 3]\n",
    "        res_upper_term [1, -3, 1, 2]\n",
    "        res_upper_term [1, -1, -2, 3]\n",
    "        res_upper_term [1, -1, -3, 2]\n",
    "        res_upper_term [3, -2, -3, 1]\n",
    "    \"\"\"\n",
    "    \n",
    "    #constant terms\n",
    "    l_i=[[3+(2*x),] for x in values_list] #see (STAR!) \n",
    "    \n",
    "    # Combine the lists element-wise using zip\n",
    "    combined_lists = zip(l_i, col_list, col_list_comp)    \n",
    "    \n",
    "    res_upper=[]\n",
    "    for constant, col_list, col_comp_list in combined_lists:\n",
    "        formated_col_l=[-int(x) for x in col_list] #see (STAR!) \n",
    "        # col_comp_list = ['2', '3']\n",
    "        form_col_comp_list=[int(x) for x in col_comp_list] #see (STAR!) \n",
    "        # Create the result list using list comprehension\n",
    "        res_upper_term=constant + formated_col_l+form_col_comp_list\n",
    "        # print(\"res_upper_term\",res_upper_term)\n",
    "        res_upper.append(res_upper_term)\n",
    "    return res_upper\n",
    "\n",
    "def reformat_hyperplanes(res_combined):#for get_hyperplanes_f3\n",
    "    \n",
    "    #change format DONE!\n",
    "    \n",
    "    formatted_ResCombine=[] #have earlier now\n",
    "    for item in res_combined:#res_combined = [[]...[]], item = []\n",
    "        # input:[-1, 1, 3]\n",
    "        # outcome:[-1, 1, 0, 1]\n",
    "\n",
    "        # print(f\"input:{item}\")\n",
    "        x=[0]*(max(len(l) for l in res_combined)) #finding [0,0,0,0,0] (getting this format) for P_4 ie n+1 \n",
    "        # print(f\"x:{x}\")\n",
    "\n",
    "        x[0]=item[0] #starts at b terms\n",
    "\n",
    "\n",
    "        for k in range(1,len(item)):\n",
    "            #for the x_i terms                \n",
    "            # print(\"item[k]\",item[k])\n",
    "            if int(item[k])<0: #!!!!! Changed\n",
    "                x[-int(item[k])]=-1 #\n",
    "            else:\n",
    "                x[int(item[k])]=1\n",
    "        # print(f\"outcome:{x}\")\n",
    "\n",
    "        formatted_ResCombine.append(x)   #terms looks like [[]...[]]\n",
    "    \n",
    "    return formatted_ResCombine\n",
    "\n",
    "def get_hyperplanes_f3(f3,n): #put into format of sage bottom<Ax<top\n",
    "    \n",
    "    \"\"\"\n",
    "        Obj:return a list of equalities to define the polytope for f2\n",
    "\n",
    "        In: f3 from some msa f2\n",
    "\n",
    "        Out:list of equality in correct format for hyperplanes for sage\n",
    "\n",
    "        First get inputs then get outcomes.\n",
    "        input:[0, 1]\n",
    "        outcome:[0, 1, 0, 0]\n",
    "\n",
    "        input:[0, 2]\n",
    "        outcome:[0, 0, 1, 0]\n",
    "\n",
    "        input:[2, 3]\n",
    "        outcome:[2, 0, 0, 1]\n",
    "    \"\"\"\n",
    "    \n",
    "    #init\n",
    "    number_list = [str(i) for i in range(1, n + 1)] #if n=3 want 123 so can tail ceiling nad det f3(empty) value\n",
    "    max_set  = \"\".join(number_list)\n",
    "    formatted_ResCombine=[]\n",
    "    \n",
    "    #Get res_upper/lower hyperplanes for max_set and empty\n",
    "    empty_lower_term=[-(1+(2*f3[\"empty\"])),]+[-int(x) for x in max_set]\n",
    "    empty_upper_term=[3+(2*f3[\"empty\"]),]+[int(x) for x in max_set]\n",
    "    empty_hpy=[empty_lower_term,empty_upper_term]\n",
    "        \n",
    "    max_set_lower_term=[-(1+(2*f3[max_set])),]+[int(x) for x in max_set]\n",
    "    max_set_upper_term=[3+(2*f3[max_set]),]+[-int(x) for x in max_set]\n",
    "    max_set_hpy=[max_set_lower_term,max_set_upper_term]\n",
    "    \n",
    "    #We remove \"empty\" and handle seperately with max_set as complment\n",
    "    f3_copy=dict(f3)\n",
    "    del f3_copy[max_set]\n",
    "    del f3_copy[\"empty\"]\n",
    "    values_list = list(f3_copy.values())\n",
    "    keys_list = list(f3_copy.keys())\n",
    "    col_list =[ list(x) for x in keys_list]\n",
    "    col_list_comp=[list(get_comp(term,max_set)) for term in col_list]\n",
    "\n",
    "    res_lower=get_res_lower(values_list,col_list, col_list_comp)\n",
    "    res_upper=get_res_upper(values_list,col_list, col_list_comp)\n",
    "\n",
    "    #combining\n",
    "    res_combined= res_lower +res_upper + empty_hpy+max_set_hpy\n",
    "    #into correct format\n",
    "    \n",
    "    # print(\"res_combined\",res_combined)\n",
    "    total_formatted_ResCombine=  reformat_hyperplanes(res_combined)\n",
    "\n",
    "    # print(\"total_formatted_ResCombine\",total_formatted_ResCombine)\n",
    "    return total_formatted_ResCombine #a list of the functions P_n"
   ]
  },
  {
   "cell_type": "code",
   "execution_count": 92,
   "metadata": {
    "tags": []
   },
   "outputs": [],
   "source": [
    "def get_f2f3_poly_inequals(n,f2,f3):#for get_f2f3l_w_inequals\n",
    "    \n",
    "    \"\"\"\n",
    "    In:\n",
    "    out:\n",
    "    Obj:Get dim: Construct polytope for hyperplanes given by f2 and f3 \n",
    "    \"\"\"\n",
    "    #get hyperplanes\n",
    "    f2_hyp=get_hyperplanes_f2(f2)\n",
    "    f3_hyp=get_hyperplanes_f3(f3,n)\n",
    "    \n",
    "    poly_inequals=f2_hyp+f3_hyp\n",
    "    return [f2,f3,poly_inequals]\n",
    "\n",
    "def get_f2f3l_w_inequals(n,data):#main\n",
    "\n",
    "    \"\"\"\n",
    "    In:data is of the form [[f2,f3l],...]\n",
    "\n",
    "    where each f2 is in Pn msa and f3l is the list of f3 for the given f2 see docs.\n",
    "\n",
    "    out:output will be [[f2,[[f2,f3,inequals],...,[f2,f3,inequals]],...,[f2,[[f2,f3,inequals],...,[f2,f3,inequals]]]\n",
    "\n",
    "    Obj:Main: for each f2 will have [f2,f3,poly_dim] for each f3\n",
    "    \"\"\"\n",
    "\n",
    "    output=[]\n",
    "    \n",
    "    for f2_f3l_packet in data:    \n",
    "        [f2,f3l]=f2_f3l_packet\n",
    "            \n",
    "        triple_l=[]\n",
    "        for f3 in f3l:\n",
    "\n",
    "            pair=[f2,f3]\n",
    "\n",
    "            triple=get_f2f3_poly_inequals(n,*pair) #[f2,f3,inequals]\n",
    "\n",
    "            triple_l.append(triple)\n",
    "\n",
    "        f2_f3l_packet_w_inequal=[f2,triple_l] #format??\n",
    "        output.append(f2_f3l_packet_w_inequal)\n",
    "\n",
    "    return output"
   ]
  },
  {
   "cell_type": "code",
   "execution_count": 116,
   "metadata": {},
   "outputs": [],
   "source": [
    "def get_f2f3l_w_dim_poly(n,data):\n",
    "    \n",
    "    \"\"\"\n",
    "    To be run in sage.\n",
    "    \n",
    "    Obj: for [[f2,[[f2,f3,inequals],...,[f2,f3,inequals]],...,[f2,[[f2,f3,inequals],...,[f2,f3,inequals]]] for each \n",
    "    [f2,[[f2,f3,inequals],...,[f2,f3,inequals]]\n",
    "    \"\"\"\n",
    "    new_data=[]\n",
    "    for f2_packet in data:        \n",
    "        #We take [f2,[[f2,f3,inequals],...,[f2,f3,inequals]] and return [f2,[[f2,f3,dimpoly],...,[f2,f3,dimpoly]]\n",
    "        #where dimpoly is the dim of the poly given by the inequals\n",
    "        \n",
    "        new_f2_packet=[f2_packet[0],]\n",
    "\n",
    "        f2f3dim_ls=[] #[f2,]\n",
    "        for triple in (f2_packet[1]):\n",
    "#             triple of form [f2,f3,inequals]\n",
    "            triple_w_polydim=get_f2f3_poly_dim(n,*triple)\n",
    "            f2f3dim_ls.append(triple_w_polydim)\n",
    "    \n",
    "        new_f2_packet=new_f2_packet+f2f3dim_ls\n",
    "        \n",
    "#         print(\"new_f2_packet\",new_f2_packet)\n",
    "        \n",
    "        new_data.append(new_f2_packet)\n",
    "    \n",
    "    return new_data\n",
    "\n",
    "#we now save this, load it into sage and run polytope constuction\n",
    "\n",
    "def get_f2f3_poly_dim(n,f2,f3,poly_inequals):#for get_f2f3l_w_dim_poly\n",
    "    \"\"\"\n",
    "    In:\n",
    "    out:\n",
    "    Obj:Get dim: Construct polytope for hyperplanes given by f2 and f3 \n",
    "    Obj:Given list of hyperplanes for f2 and f3 together\n",
    "    we construct a the polytope and return its dimension\n",
    "    \"\"\"\n",
    "    L_list_line=poly_inequals\n",
    "    Poly=Polyhedron(ieqs=L_list_line)\n",
    "    dim_p=dim(Poly)\n",
    "    \n",
    "    if dim_p <n:\n",
    "        dim_p=\"Empty Dimensional\"\n",
    "    if dim_p ==n:\n",
    "        dim_p=f\"Top dimensional:{n}\"\n",
    "    return [f2,f3,dim_p]"
   ]
  },
  {
   "cell_type": "markdown",
   "metadata": {},
   "source": [
    "## Cases "
   ]
  },
  {
   "cell_type": "markdown",
   "metadata": {},
   "source": [
    "We are now in the position to determine which (f2,f3) pairs have a degenerate polytope.\n",
    "\n",
    "We record the results as a text file recording the pairs (f2,f3) and the dimension see:\n",
    "\n",
    "\"\\MSA\\Dimension_Analysis\\results\\f2_f3_txt_poly_dims\"\n",
    "\n",
    "The files of interest are: this is collated data taken from Pn_abridged i.e the data of (f2,f3) for f2 in Pn and associated f3.\n",
    "\n",
    "path=\"\\results\\poly_inv\\P3_f2_f3l.pkl\"\n",
    "path=\"\\results\\poly_inv\\P3_trans_f2_f3l.pkl\"\n",
    "\n",
    "path=\"\\results\\poly_inv\\P4_f2_f3l.pkl\"\n",
    "path=\"\\results\\poly_inv\\P4_trans_f2_f3l.pkl\"\n",
    "\n",
    "path=\"\\results\\poly_inv\\P5_degen_f2_f3l.pkl\""
   ]
  },
  {
   "cell_type": "markdown",
   "metadata": {
    "jp-MarkdownHeadingCollapsed": true,
    "tags": []
   },
   "source": [
    "### P3 Done"
   ]
  },
  {
   "cell_type": "code",
   "execution_count": 98,
   "metadata": {},
   "outputs": [],
   "source": [
    "path=\"results\\poly_inv\\P3_f2_f3l.pkl\"\n",
    "n=3"
   ]
  },
  {
   "cell_type": "code",
   "execution_count": 99,
   "metadata": {},
   "outputs": [],
   "source": [
    "f2f3l=load_l_f2f3(path)\n",
    "data=f2f3l"
   ]
  },
  {
   "cell_type": "code",
   "execution_count": 101,
   "metadata": {
    "tags": []
   },
   "outputs": [],
   "source": [
    "#determine all inequalts for f2 f3 and store as  [[f2,[[f2,f3,inequals],...,[f2,f3,inequals]],...,[f2,[[f2,f3,inequals],...,[f2,f3,inequals]]]\n",
    "out=get_f2f3l_w_inequals(n,data)"
   ]
  },
  {
   "cell_type": "code",
   "execution_count": 102,
   "metadata": {},
   "outputs": [],
   "source": [
    "# #save to pass to sage\n",
    "# with open('results\\hyperplanes_P3_f2f3.pkl', 'wb') as file:\n",
    "#     pickle.dump(out, file)"
   ]
  },
  {
   "cell_type": "code",
   "execution_count": 113,
   "metadata": {},
   "outputs": [
    {
     "name": "stderr",
     "output_type": "stream",
     "text": [
      "<>:2: DeprecationWarning: invalid escape sequence \\h\n",
      "<>:2: DeprecationWarning: invalid escape sequence \\h\n",
      "<>:2: DeprecationWarning: invalid escape sequence \\h\n",
      "<ipython-input-113-8a799c422c96>:2: DeprecationWarning: invalid escape sequence \\h\n",
      "  with open('results\\hyperplanes_P3_f2f3.pkl', 'rb') as file:\n"
     ]
    }
   ],
   "source": [
    "# #load in sage\n",
    "# with open('results\\hyperplanes_P3_f2f3.pkl', 'rb') as file:\n",
    "#     data = pickle.load(file)"
   ]
  },
  {
   "cell_type": "code",
   "execution_count": 118,
   "metadata": {
    "scrolled": true
   },
   "outputs": [],
   "source": [
    "n=3\n",
    "new_data=get_f2f3l_w_dim_poly(n,data)"
   ]
  },
  {
   "cell_type": "code",
   "execution_count": 120,
   "metadata": {},
   "outputs": [
    {
     "name": "stderr",
     "output_type": "stream",
     "text": [
      "<>:2: DeprecationWarning: invalid escape sequence \\P\n",
      "<>:2: DeprecationWarning: invalid escape sequence \\P\n",
      "<>:2: DeprecationWarning: invalid escape sequence \\P\n",
      "<ipython-input-120-9dea2ec86525>:2: DeprecationWarning: invalid escape sequence \\P\n",
      "  with open('results\\P3_f2f3_poly_dim.pkl', 'wb') as file:\n"
     ]
    }
   ],
   "source": [
    "# #save from sage\n",
    "# with open('results\\P3_f2f3_poly_dim.pkl', 'wb') as file:\n",
    "#     pickle.dump(new_data, file)"
   ]
  },
  {
   "cell_type": "code",
   "execution_count": 3,
   "metadata": {},
   "outputs": [],
   "source": [
    "#Having completed the sage stuff load back in jupy\n",
    "with open('results\\P3_f2f3_poly_dim.pkl', 'rb') as file:\n",
    "    data = pickle.load(file)"
   ]
  },
  {
   "cell_type": "code",
   "execution_count": 4,
   "metadata": {},
   "outputs": [],
   "source": [
    "n=3\n",
    "number_list = [str(i) for i in range(1, n + 1)] #if n=3 want 123 so can tail ceiling nad det f3(empty) value\n",
    "max_set  = \"\".join(number_list)"
   ]
  },
  {
   "cell_type": "code",
   "execution_count": 6,
   "metadata": {},
   "outputs": [],
   "source": [
    "#outputing examples to text file.\n",
    "\n",
    "# Open a text file in write mode\n",
    "with open('results/P3_f2f3_poly_dim.txt', 'w') as file:\n",
    "    file.write(\"For f2 in P3 we record for each f2 the set of f3 and the dimension of the polytope of (f2,f3)\\n\\n\")\n",
    "\n",
    "    for i, sub_list in enumerate(data):\n",
    "        f2 = sub_list[0]\n",
    "        file.write(f'f2_{i+1} = {f2}\\n')\n",
    "        packets = sub_list[1:]\n",
    "        for j,triple in enumerate(packets):\n",
    "            [ft2,f3,dim]=triple\n",
    "            \n",
    "            if f3[\"empty\"]+f3[max_set]==-2:\n",
    "                file.write(f'{dim}: f3{i+1}{j+1} = {f3}\\n')\n",
    "        file.write(\"\\n\")"
   ]
  },
  {
   "cell_type": "markdown",
   "metadata": {
    "tags": []
   },
   "source": [
    "### P3 translated Done"
   ]
  },
  {
   "cell_type": "code",
   "execution_count": 111,
   "metadata": {},
   "outputs": [],
   "source": [
    "path=\"results\\poly_inv\\P3_trans_f2_f3l.pkl\"\n",
    "n=3"
   ]
  },
  {
   "cell_type": "code",
   "execution_count": 112,
   "metadata": {},
   "outputs": [],
   "source": [
    "f2f3l=load_l_f2f3(path)\n",
    "data=f2f3l"
   ]
  },
  {
   "cell_type": "code",
   "execution_count": 113,
   "metadata": {
    "tags": []
   },
   "outputs": [],
   "source": [
    "#determine all inequalts for f2 f3 and store as  [[f2,[[f2,f3,inequals],...,[f2,f3,inequals]],...,[f2,[[f2,f3,inequals],...,[f2,f3,inequals]]]\n",
    "out=get_f2f3l_w_inequals(n,data)"
   ]
  },
  {
   "cell_type": "code",
   "execution_count": 114,
   "metadata": {},
   "outputs": [],
   "source": [
    "# #save to pass to sage\n",
    "# with open('results\\hyperplanes_P3_trans_f2f3.pkl', 'wb') as file:\n",
    "#     pickle.dump(out, file)"
   ]
  },
  {
   "cell_type": "code",
   "execution_count": 113,
   "metadata": {},
   "outputs": [
    {
     "name": "stderr",
     "output_type": "stream",
     "text": [
      "<>:2: DeprecationWarning: invalid escape sequence \\h\n",
      "<>:2: DeprecationWarning: invalid escape sequence \\h\n",
      "<>:2: DeprecationWarning: invalid escape sequence \\h\n",
      "<ipython-input-113-8a799c422c96>:2: DeprecationWarning: invalid escape sequence \\h\n",
      "  with open('results\\hyperplanes_P3_f2f3.pkl', 'rb') as file:\n"
     ]
    }
   ],
   "source": [
    "# #load in sage\n",
    "# with open('results\\hyperplanes_P3_trans_f2f3.pkl', 'rb') as file:\n",
    "#     data = pickle.load(file)"
   ]
  },
  {
   "cell_type": "code",
   "execution_count": 114,
   "metadata": {},
   "outputs": [
    {
     "data": {
      "text/plain": [
       "10"
      ]
     },
     "execution_count": 114,
     "metadata": {},
     "output_type": "execute_result"
    }
   ],
   "source": [
    "n=3\n",
    "len(data)"
   ]
  },
  {
   "cell_type": "code",
   "execution_count": 118,
   "metadata": {
    "scrolled": true
   },
   "outputs": [],
   "source": [
    "new_data=get_f2f3l_w_dim_poly(n,data)"
   ]
  },
  {
   "cell_type": "code",
   "execution_count": 120,
   "metadata": {},
   "outputs": [
    {
     "name": "stderr",
     "output_type": "stream",
     "text": [
      "<>:2: DeprecationWarning: invalid escape sequence \\P\n",
      "<>:2: DeprecationWarning: invalid escape sequence \\P\n",
      "<>:2: DeprecationWarning: invalid escape sequence \\P\n",
      "<ipython-input-120-9dea2ec86525>:2: DeprecationWarning: invalid escape sequence \\P\n",
      "  with open('results\\P3_f2f3_poly_dim.pkl', 'wb') as file:\n"
     ]
    }
   ],
   "source": [
    "# #save from sage\n",
    "# with open('results\\P3_trans_f2f3_poly_dim.pkl', 'wb') as file:\n",
    "#     pickle.dump(new_data, file)"
   ]
  },
  {
   "cell_type": "code",
   "execution_count": 7,
   "metadata": {},
   "outputs": [],
   "source": [
    "#Having completed the sage stuff load back in jupy\n",
    "with open('results\\P3_trans_f2f3_poly_dim.pkl', 'rb') as file:\n",
    "    data = pickle.load(file)"
   ]
  },
  {
   "cell_type": "code",
   "execution_count": 8,
   "metadata": {},
   "outputs": [],
   "source": [
    "n=3\n",
    "number_list = [str(i) for i in range(1, n + 1)] #if n=3 want 123 so can tail ceiling nad det f3(empty) value\n",
    "max_set  = \"\".join(number_list)"
   ]
  },
  {
   "cell_type": "code",
   "execution_count": 9,
   "metadata": {},
   "outputs": [],
   "source": [
    "#outputing examples to text file.\n",
    "\n",
    "# Open a text file in write mode\n",
    "with open('results/P3_trans_f2f3_poly_dim.txt', 'w') as file:\n",
    "    file.write(\"For f2 in P3 translated we record for each f2 the set of f3 and the dimension of the polytope of (f2,f3)\\n\\n\")\n",
    "\n",
    "    for i, sub_list in enumerate(data):\n",
    "        f2 = sub_list[0]\n",
    "        file.write(f'f2_{i+1} = {f2}\\n')\n",
    "        packets = sub_list[1:]\n",
    "        for j,triple in enumerate(packets):\n",
    "            [ft2,f3,dim]=triple\n",
    "            \n",
    "            if f3[\"empty\"]+f3[max_set]==-2:\n",
    "                file.write(f'{dim}: f3{i+1}{j+1} = {f3}\\n')\n",
    "        file.write(\"\\n\")"
   ]
  },
  {
   "cell_type": "markdown",
   "metadata": {
    "tags": []
   },
   "source": [
    "### P4 Done"
   ]
  },
  {
   "cell_type": "code",
   "execution_count": 115,
   "metadata": {},
   "outputs": [],
   "source": [
    "path=\"results\\poly_inv\\P4_f2_f3l.pkl\"\n",
    "n=4"
   ]
  },
  {
   "cell_type": "code",
   "execution_count": 116,
   "metadata": {},
   "outputs": [],
   "source": [
    "f2f3l=load_l_f2f3(path)\n",
    "data=f2f3l"
   ]
  },
  {
   "cell_type": "code",
   "execution_count": 117,
   "metadata": {
    "tags": []
   },
   "outputs": [],
   "source": [
    "#determine all inequalts for f2 f3 and store as  [[f2,[[f2,f3,inequals],...,[f2,f3,inequals]],...,[f2,[[f2,f3,inequals],...,[f2,f3,inequals]]]\n",
    "out=get_f2f3l_w_inequals(n,data)"
   ]
  },
  {
   "cell_type": "code",
   "execution_count": 118,
   "metadata": {},
   "outputs": [],
   "source": [
    "# #save to pass to sage\n",
    "# with open('results\\hyperplanes_P4_f2f3.pkl', 'wb') as file:\n",
    "#     pickle.dump(out, file)"
   ]
  },
  {
   "cell_type": "code",
   "execution_count": 113,
   "metadata": {},
   "outputs": [
    {
     "name": "stderr",
     "output_type": "stream",
     "text": [
      "<>:2: DeprecationWarning: invalid escape sequence \\h\n",
      "<>:2: DeprecationWarning: invalid escape sequence \\h\n",
      "<>:2: DeprecationWarning: invalid escape sequence \\h\n",
      "<ipython-input-113-8a799c422c96>:2: DeprecationWarning: invalid escape sequence \\h\n",
      "  with open('results\\hyperplanes_P3_f2f3.pkl', 'rb') as file:\n"
     ]
    }
   ],
   "source": [
    "# #load in sage\n",
    "# with open('results\\hyperplanes_P4_f2f3.pkl', 'rb') as file:\n",
    "#     data = pickle.load(file)"
   ]
  },
  {
   "cell_type": "code",
   "execution_count": 136,
   "metadata": {},
   "outputs": [],
   "source": [
    "n=4\n",
    "len(data) #154"
   ]
  },
  {
   "cell_type": "code",
   "execution_count": 118,
   "metadata": {
    "scrolled": true
   },
   "outputs": [],
   "source": [
    "new_data=get_f2f3l_w_dim_poly(n,data)"
   ]
  },
  {
   "cell_type": "code",
   "execution_count": 119,
   "metadata": {
    "collapsed": true,
    "jupyter": {
     "outputs_hidden": true
    },
    "tags": []
   },
   "outputs": [
    {
     "data": {
      "text/plain": [
       "[[{'1': 0, '2': 0, '3': 0, '12': 0, '13': 1, '23': 1, '123': 1},\n",
       "  [{'1': 0, '2': 0, '3': 0, '12': 0, '13': 1, '23': 1, '123': 1},\n",
       "   {'1': -2,\n",
       "    '2': -1,\n",
       "    '3': -1,\n",
       "    '12': -1,\n",
       "    '13': -1,\n",
       "    '23': 0,\n",
       "    '123': 0,\n",
       "    'empty': -2},\n",
       "   'Top dimensional:3'],\n",
       "  [{'1': 0, '2': 0, '3': 0, '12': 0, '13': 1, '23': 1, '123': 1},\n",
       "   {'1': -1,\n",
       "    '2': -2,\n",
       "    '3': -1,\n",
       "    '12': -1,\n",
       "    '13': 0,\n",
       "    '23': -1,\n",
       "    '123': 0,\n",
       "    'empty': -2},\n",
       "   'Top dimensional:3'],\n",
       "  [{'1': 0, '2': 0, '3': 0, '12': 0, '13': 1, '23': 1, '123': 1},\n",
       "   {'1': -1,\n",
       "    '2': -1,\n",
       "    '3': -1,\n",
       "    '12': -1,\n",
       "    '13': -1,\n",
       "    '23': -1,\n",
       "    '123': 0,\n",
       "    'empty': -2},\n",
       "   'Top dimensional:3']],\n",
       " [{'1': 0, '2': 0, '3': 0, '12': 0, '13': 1, '23': 0, '123': 1},\n",
       "  [{'1': 0, '2': 0, '3': 0, '12': 0, '13': 1, '23': 0, '123': 1},\n",
       "   {'1': -1,\n",
       "    '2': -2,\n",
       "    '3': -1,\n",
       "    '12': -1,\n",
       "    '13': 0,\n",
       "    '23': -1,\n",
       "    '123': 0,\n",
       "    'empty': -2},\n",
       "   'Top dimensional:3'],\n",
       "  [{'1': 0, '2': 0, '3': 0, '12': 0, '13': 1, '23': 0, '123': 1},\n",
       "   {'1': -1,\n",
       "    '2': -1,\n",
       "    '3': -1,\n",
       "    '12': -1,\n",
       "    '13': -1,\n",
       "    '23': -1,\n",
       "    '123': 0,\n",
       "    'empty': -2},\n",
       "   'Top dimensional:3']],\n",
       " [{'1': 0, '2': 0, '3': 0, '12': 0, '13': 0, '23': 1, '123': 1},\n",
       "  [{'1': 0, '2': 0, '3': 0, '12': 0, '13': 0, '23': 1, '123': 1},\n",
       "   {'1': -1,\n",
       "    '2': -1,\n",
       "    '3': -1,\n",
       "    '12': -1,\n",
       "    '13': -1,\n",
       "    '23': -1,\n",
       "    '123': 0,\n",
       "    'empty': -2},\n",
       "   'Top dimensional:3'],\n",
       "  [{'1': 0, '2': 0, '3': 0, '12': 0, '13': 0, '23': 1, '123': 1},\n",
       "   {'1': -2,\n",
       "    '2': -1,\n",
       "    '3': -1,\n",
       "    '12': -1,\n",
       "    '13': -1,\n",
       "    '23': 0,\n",
       "    '123': 0,\n",
       "    'empty': -2},\n",
       "   'Top dimensional:3']],\n",
       " [{'1': 0, '2': 0, '3': 0, '12': 0, '13': 0, '23': 0, '123': 1},\n",
       "  [{'1': 0, '2': 0, '3': 0, '12': 0, '13': 0, '23': 0, '123': 1},\n",
       "   {'1': -1,\n",
       "    '2': -1,\n",
       "    '3': -1,\n",
       "    '12': -1,\n",
       "    '13': -1,\n",
       "    '23': -1,\n",
       "    '123': 0,\n",
       "    'empty': -2},\n",
       "   'Top dimensional:3'],\n",
       "  [{'1': 0, '2': 0, '3': 0, '12': 0, '13': 0, '23': 0, '123': 1},\n",
       "   {'1': -1,\n",
       "    '2': -1,\n",
       "    '3': -1,\n",
       "    '12': -1,\n",
       "    '13': -1,\n",
       "    '23': -1,\n",
       "    '123': -1,\n",
       "    'empty': -2},\n",
       "   'Empty Dimensional']],\n",
       " [{'1': 0, '2': 0, '3': 0, '12': 0, '13': 0, '23': 0, '123': 0},\n",
       "  [{'1': 0, '2': 0, '3': 0, '12': 0, '13': 0, '23': 0, '123': 0},\n",
       "   {'1': -1,\n",
       "    '2': -1,\n",
       "    '3': -1,\n",
       "    '12': -1,\n",
       "    '13': -1,\n",
       "    '23': -1,\n",
       "    '123': 0,\n",
       "    'empty': -1},\n",
       "   'Empty Dimensional'],\n",
       "  [{'1': 0, '2': 0, '3': 0, '12': 0, '13': 0, '23': 0, '123': 0},\n",
       "   {'1': -1,\n",
       "    '2': -1,\n",
       "    '3': -1,\n",
       "    '12': -1,\n",
       "    '13': -1,\n",
       "    '23': -1,\n",
       "    '123': -1,\n",
       "    'empty': -1},\n",
       "   'Top dimensional:3']],\n",
       " [{'1': 0, '2': 0, '3': 0, '12': 1, '13': 0, '23': 1, '123': 1},\n",
       "  [{'1': 0, '2': 0, '3': 0, '12': 1, '13': 0, '23': 1, '123': 1},\n",
       "   {'1': -1,\n",
       "    '2': -1,\n",
       "    '3': -1,\n",
       "    '12': -1,\n",
       "    '13': -1,\n",
       "    '23': -1,\n",
       "    '123': 0,\n",
       "    'empty': -2},\n",
       "   'Top dimensional:3'],\n",
       "  [{'1': 0, '2': 0, '3': 0, '12': 1, '13': 0, '23': 1, '123': 1},\n",
       "   {'1': -1,\n",
       "    '2': -1,\n",
       "    '3': -2,\n",
       "    '12': 0,\n",
       "    '13': -1,\n",
       "    '23': -1,\n",
       "    '123': 0,\n",
       "    'empty': -2},\n",
       "   'Top dimensional:3'],\n",
       "  [{'1': 0, '2': 0, '3': 0, '12': 1, '13': 0, '23': 1, '123': 1},\n",
       "   {'1': -2,\n",
       "    '2': -1,\n",
       "    '3': -1,\n",
       "    '12': -1,\n",
       "    '13': -1,\n",
       "    '23': 0,\n",
       "    '123': 0,\n",
       "    'empty': -2},\n",
       "   'Top dimensional:3']],\n",
       " [{'1': 0, '2': 0, '3': 0, '12': 1, '13': 1, '23': 1, '123': 2},\n",
       "  [{'1': 0, '2': 0, '3': 0, '12': 1, '13': 1, '23': 1, '123': 2},\n",
       "   {'1': -1,\n",
       "    '2': -1,\n",
       "    '3': -1,\n",
       "    '12': -1,\n",
       "    '13': -1,\n",
       "    '23': -1,\n",
       "    '123': 0,\n",
       "    'empty': -2},\n",
       "   'Top dimensional:3'],\n",
       "  [{'1': 0, '2': 0, '3': 0, '12': 1, '13': 1, '23': 1, '123': 2},\n",
       "   {'1': -1,\n",
       "    '2': -2,\n",
       "    '3': -1,\n",
       "    '12': -1,\n",
       "    '13': 0,\n",
       "    '23': -1,\n",
       "    '123': 0,\n",
       "    'empty': -2},\n",
       "   'Top dimensional:3'],\n",
       "  [{'1': 0, '2': 0, '3': 0, '12': 1, '13': 1, '23': 1, '123': 2},\n",
       "   {'1': -1,\n",
       "    '2': -1,\n",
       "    '3': -2,\n",
       "    '12': 0,\n",
       "    '13': -1,\n",
       "    '23': -1,\n",
       "    '123': 0,\n",
       "    'empty': -2},\n",
       "   'Top dimensional:3'],\n",
       "  [{'1': 0, '2': 0, '3': 0, '12': 1, '13': 1, '23': 1, '123': 2},\n",
       "   {'1': -2,\n",
       "    '2': -1,\n",
       "    '3': -1,\n",
       "    '12': -1,\n",
       "    '13': -1,\n",
       "    '23': 0,\n",
       "    '123': 0,\n",
       "    'empty': -2},\n",
       "   'Top dimensional:3']],\n",
       " [{'1': 0, '2': 0, '3': 0, '12': 1, '13': 1, '23': 1, '123': 1},\n",
       "  [{'1': 0, '2': 0, '3': 0, '12': 1, '13': 1, '23': 1, '123': 1},\n",
       "   {'1': -1,\n",
       "    '2': -1,\n",
       "    '3': -1,\n",
       "    '12': -1,\n",
       "    '13': -1,\n",
       "    '23': -1,\n",
       "    '123': 0,\n",
       "    'empty': -2},\n",
       "   'Top dimensional:3'],\n",
       "  [{'1': 0, '2': 0, '3': 0, '12': 1, '13': 1, '23': 1, '123': 1},\n",
       "   {'1': -1,\n",
       "    '2': -1,\n",
       "    '3': -2,\n",
       "    '12': 0,\n",
       "    '13': -1,\n",
       "    '23': -1,\n",
       "    '123': 0,\n",
       "    'empty': -2},\n",
       "   'Top dimensional:3'],\n",
       "  [{'1': 0, '2': 0, '3': 0, '12': 1, '13': 1, '23': 1, '123': 1},\n",
       "   {'1': -1,\n",
       "    '2': -2,\n",
       "    '3': -1,\n",
       "    '12': -1,\n",
       "    '13': 0,\n",
       "    '23': -1,\n",
       "    '123': 0,\n",
       "    'empty': -2},\n",
       "   'Top dimensional:3'],\n",
       "  [{'1': 0, '2': 0, '3': 0, '12': 1, '13': 1, '23': 1, '123': 1},\n",
       "   {'1': -2,\n",
       "    '2': -1,\n",
       "    '3': -1,\n",
       "    '12': -1,\n",
       "    '13': -1,\n",
       "    '23': 0,\n",
       "    '123': 0,\n",
       "    'empty': -2},\n",
       "   'Top dimensional:3']],\n",
       " [{'1': 0, '2': 0, '3': 0, '12': 1, '13': 1, '23': 0, '123': 1},\n",
       "  [{'1': 0, '2': 0, '3': 0, '12': 1, '13': 1, '23': 0, '123': 1},\n",
       "   {'1': -1,\n",
       "    '2': -1,\n",
       "    '3': -2,\n",
       "    '12': 0,\n",
       "    '13': -1,\n",
       "    '23': -1,\n",
       "    '123': 0,\n",
       "    'empty': -2},\n",
       "   'Top dimensional:3'],\n",
       "  [{'1': 0, '2': 0, '3': 0, '12': 1, '13': 1, '23': 0, '123': 1},\n",
       "   {'1': -1,\n",
       "    '2': -1,\n",
       "    '3': -1,\n",
       "    '12': -1,\n",
       "    '13': -1,\n",
       "    '23': -1,\n",
       "    '123': 0,\n",
       "    'empty': -2},\n",
       "   'Top dimensional:3'],\n",
       "  [{'1': 0, '2': 0, '3': 0, '12': 1, '13': 1, '23': 0, '123': 1},\n",
       "   {'1': -1,\n",
       "    '2': -2,\n",
       "    '3': -1,\n",
       "    '12': -1,\n",
       "    '13': 0,\n",
       "    '23': -1,\n",
       "    '123': 0,\n",
       "    'empty': -2},\n",
       "   'Top dimensional:3']],\n",
       " [{'1': 0, '2': 0, '3': 0, '12': 1, '13': 0, '23': 0, '123': 1},\n",
       "  [{'1': 0, '2': 0, '3': 0, '12': 1, '13': 0, '23': 0, '123': 1},\n",
       "   {'1': -1,\n",
       "    '2': -1,\n",
       "    '3': -2,\n",
       "    '12': 0,\n",
       "    '13': -1,\n",
       "    '23': -1,\n",
       "    '123': 0,\n",
       "    'empty': -2},\n",
       "   'Top dimensional:3'],\n",
       "  [{'1': 0, '2': 0, '3': 0, '12': 1, '13': 0, '23': 0, '123': 1},\n",
       "   {'1': -1,\n",
       "    '2': -1,\n",
       "    '3': -1,\n",
       "    '12': -1,\n",
       "    '13': -1,\n",
       "    '23': -1,\n",
       "    '123': 0,\n",
       "    'empty': -2},\n",
       "   'Top dimensional:3']]]"
      ]
     },
     "execution_count": 119,
     "metadata": {},
     "output_type": "execute_result"
    }
   ],
   "source": [
    "# new_data\n",
    "\"\"\"\n",
    "    [[{'1': 0, '2': 0, '3': 0, '12': 0, '13': 1, '23': 1, '123': 1},\n",
    "      [{'1': 0, '2': 0, '3': 0, '12': 0, '13': 1, '23': 1, '123': 1},\n",
    "       {'1': -2,\n",
    "        '2': -1,\n",
    "        '3': -1,\n",
    "        '12': -1,\n",
    "        '13': -1,\n",
    "        '23': 0,\n",
    "        '123': 0,\n",
    "        'empty': -2},\n",
    "       'Top dimensional:3'],\n",
    "      [{'1': 0, '2': 0, '3': 0, '12': 0, '13': 1, '23': 1, '123': 1},\n",
    "       {'1': -1,\n",
    "        '2': -2,\n",
    "        '3': -1,\n",
    "        '12': -1,\n",
    "        '13': 0,\n",
    "        '23': -1,\n",
    "        '123': 0,\n",
    "        'empty': -2},\n",
    "       'Top dimensional:3'],\n",
    "      [{'1': 0, '2': 0, '3': 0, '12': 0, '13': 1, '23': 1, '123': 1},\n",
    "       {'1': -1,\n",
    "        '2': -1,\n",
    "        '3': -1,\n",
    "        '12': -1,\n",
    "        '13': -1,\n",
    "        '23': -1,\n",
    "        '123': 0,\n",
    "        'empty': -2},\n",
    "       'Top dimensional:3']],\n",
    "     [{'1': 0, '2': 0, '3': 0, '12': 0, '13': 1, '23': 0, '123': 1},\n",
    "      [{'1': 0, '2': 0, '3': 0, '12': 0, '13': 1, '23': 0, '123': 1},\n",
    "       {'1': -1,\n",
    "        '2': -2,\n",
    "        '3': -1,\n",
    "        '12': -1,\n",
    "        '13': 0,\n",
    "        '23': -1,\n",
    "        '123': 0,\n",
    "        'empty': -2},\n",
    "       'Top dimensional:3'],\n",
    "      [{'1': 0, '2': 0, '3': 0, '12': 0, '13': 1, '23': 0, '123': 1},\n",
    "       {'1': -1,\n",
    "        '2': -1,\n",
    "        '3': -1,\n",
    "        '12': -1,\n",
    "        '13': -1,\n",
    "        '23': -1,\n",
    "        '123': 0,\n",
    "        'empty': -2},\n",
    "       'Top dimensional:3']],...\n",
    "\"\"\""
   ]
  },
  {
   "cell_type": "code",
   "execution_count": 120,
   "metadata": {},
   "outputs": [
    {
     "name": "stderr",
     "output_type": "stream",
     "text": [
      "<>:2: DeprecationWarning: invalid escape sequence \\P\n",
      "<>:2: DeprecationWarning: invalid escape sequence \\P\n",
      "<>:2: DeprecationWarning: invalid escape sequence \\P\n",
      "<ipython-input-120-9dea2ec86525>:2: DeprecationWarning: invalid escape sequence \\P\n",
      "  with open('results\\P3_f2f3_poly_dim.pkl', 'wb') as file:\n"
     ]
    }
   ],
   "source": [
    "# #save from sage\n",
    "# with open('results\\P4_f2f3_poly_dim.pkl', 'wb') as file:\n",
    "#     pickle.dump(new_data, file)"
   ]
  },
  {
   "cell_type": "code",
   "execution_count": 10,
   "metadata": {},
   "outputs": [],
   "source": [
    "#Having completed the sage stuff load back in jupy\n",
    "with open('results\\P4_f2f3_poly_dim.pkl', 'rb') as file:\n",
    "    data = pickle.load(file)"
   ]
  },
  {
   "cell_type": "code",
   "execution_count": 11,
   "metadata": {},
   "outputs": [],
   "source": [
    "n=4\n",
    "number_list = [str(i) for i in range(1, n + 1)] #if n=3 want 123 so can tail ceiling nad det f3(empty) value\n",
    "max_set  = \"\".join(number_list)"
   ]
  },
  {
   "cell_type": "code",
   "execution_count": 12,
   "metadata": {},
   "outputs": [],
   "source": [
    "#outputing examples to text file.\n",
    "\n",
    "# Open a text file in write mode\n",
    "with open('results/P4_f2f3_poly_dim.txt', 'w') as file:\n",
    "    file.write(\"For f2 in P4 we record for each f2 the set of f3 and the dimension of the polytope of (f2,f3)\\n\\n\")\n",
    "\n",
    "    for i, sub_list in enumerate(data):\n",
    "        f2 = sub_list[0]\n",
    "        file.write(f'f2_{i+1} = {f2}\\n')\n",
    "        packets = sub_list[1:]\n",
    "        for j,triple in enumerate(packets):\n",
    "            [ft2,f3,dim]=triple\n",
    "            \n",
    "            if f3[\"empty\"]+f3[max_set]==-2:\n",
    "                file.write(f'{dim}: f3{i+1}{j+1} = {f3}\\n')\n",
    "        file.write(\"\\n\")"
   ]
  },
  {
   "cell_type": "markdown",
   "metadata": {
    "tags": []
   },
   "source": [
    "### P4 translated Done"
   ]
  },
  {
   "cell_type": "code",
   "execution_count": 119,
   "metadata": {},
   "outputs": [],
   "source": [
    "path=\"results\\poly_inv\\P4_trans_f2_f3l.pkl\"\n",
    "n=4"
   ]
  },
  {
   "cell_type": "code",
   "execution_count": 120,
   "metadata": {},
   "outputs": [],
   "source": [
    "f2f3l=load_l_f2f3(path)\n",
    "data=f2f3l"
   ]
  },
  {
   "cell_type": "code",
   "execution_count": 121,
   "metadata": {
    "tags": []
   },
   "outputs": [],
   "source": [
    "#determine all inequalts for f2 f3 and store as  [[f2,[[f2,f3,inequals],...,[f2,f3,inequals]],...,[f2,[[f2,f3,inequals],...,[f2,f3,inequals]]]\n",
    "out=get_f2f3l_w_inequals(n,data)"
   ]
  },
  {
   "cell_type": "code",
   "execution_count": 122,
   "metadata": {},
   "outputs": [],
   "source": [
    "# #save to pass to sage\n",
    "# with open('results\\hyperplanes_P4_trans_f2f3.pkl', 'wb') as file:\n",
    "#     pickle.dump(out, file)"
   ]
  },
  {
   "cell_type": "code",
   "execution_count": 113,
   "metadata": {},
   "outputs": [
    {
     "name": "stderr",
     "output_type": "stream",
     "text": [
      "<>:2: DeprecationWarning: invalid escape sequence \\h\n",
      "<>:2: DeprecationWarning: invalid escape sequence \\h\n",
      "<>:2: DeprecationWarning: invalid escape sequence \\h\n",
      "<ipython-input-113-8a799c422c96>:2: DeprecationWarning: invalid escape sequence \\h\n",
      "  with open('results\\hyperplanes_P3_f2f3.pkl', 'rb') as file:\n"
     ]
    }
   ],
   "source": [
    "# #load in sage\n",
    "# with open('results\\hyperplanes_P4_trans_f2f3.pkl', 'rb') as file:\n",
    "#     data = pickle.load(file)"
   ]
  },
  {
   "cell_type": "code",
   "execution_count": 114,
   "metadata": {},
   "outputs": [
    {
     "data": {
      "text/plain": [
       "10"
      ]
     },
     "execution_count": 114,
     "metadata": {},
     "output_type": "execute_result"
    }
   ],
   "source": [
    "n=4\n",
    "len(data) #154"
   ]
  },
  {
   "cell_type": "code",
   "execution_count": 118,
   "metadata": {
    "scrolled": true
   },
   "outputs": [],
   "source": [
    "new_data=get_f2f3l_w_dim_poly(n,data)"
   ]
  },
  {
   "cell_type": "code",
   "execution_count": 120,
   "metadata": {},
   "outputs": [
    {
     "name": "stderr",
     "output_type": "stream",
     "text": [
      "<>:2: DeprecationWarning: invalid escape sequence \\P\n",
      "<>:2: DeprecationWarning: invalid escape sequence \\P\n",
      "<>:2: DeprecationWarning: invalid escape sequence \\P\n",
      "<ipython-input-120-9dea2ec86525>:2: DeprecationWarning: invalid escape sequence \\P\n",
      "  with open('results\\P3_f2f3_poly_dim.pkl', 'wb') as file:\n"
     ]
    }
   ],
   "source": [
    "# #save from sage\n",
    "# with open('results\\P4_trans_f2f3_poly_dim.pkl', 'wb') as file:\n",
    "#     pickle.dump(new_data, file)"
   ]
  },
  {
   "cell_type": "code",
   "execution_count": 13,
   "metadata": {},
   "outputs": [],
   "source": [
    "#Having completed the sage stuff load back in jupy\n",
    "with open('results\\P4_trans_f2f3_poly_dim.pkl', 'rb') as file:\n",
    "    data = pickle.load(file)"
   ]
  },
  {
   "cell_type": "code",
   "execution_count": 14,
   "metadata": {},
   "outputs": [],
   "source": [
    "n=4\n",
    "number_list = [str(i) for i in range(1, n + 1)] #if n=3 want 123 so can tail ceiling nad det f3(empty) value\n",
    "max_set  = \"\".join(number_list)"
   ]
  },
  {
   "cell_type": "code",
   "execution_count": 15,
   "metadata": {},
   "outputs": [],
   "source": [
    "#outputing examples to text file.\n",
    "\n",
    "# Open a text file in write mode\n",
    "with open('results/P4_trans_f2f3_poly_dim.txt', 'w') as file:\n",
    "    file.write(\"For f2 in P4 translated we record for each f2 the set of f3 and the dimension of the polytope of (f2,f3)\\n\\n\")\n",
    "\n",
    "    for i, sub_list in enumerate(data):\n",
    "        f2 = sub_list[0]\n",
    "        file.write(f'f2_{i+1} = {f2}\\n')\n",
    "        packets = sub_list[1:]\n",
    "        for j,triple in enumerate(packets):\n",
    "            [ft2,f3,dim]=triple\n",
    "            \n",
    "            if f3[\"empty\"]+f3[max_set]==-2:\n",
    "                file.write(f'{dim}: f3{i+1}{j+1} = {f3}\\n')\n",
    "        file.write(\"\\n\")"
   ]
  },
  {
   "cell_type": "markdown",
   "metadata": {
    "tags": []
   },
   "source": [
    "### P5 Degenerate"
   ]
  },
  {
   "cell_type": "code",
   "execution_count": 123,
   "metadata": {},
   "outputs": [],
   "source": [
    "path=\"results\\poly_inv\\P5_degen_f2_f3l.pkl\"\n",
    "n=5"
   ]
  },
  {
   "cell_type": "code",
   "execution_count": 124,
   "metadata": {},
   "outputs": [],
   "source": [
    "f2f3l=load_l_f2f3(path)\n",
    "data=f2f3l"
   ]
  },
  {
   "cell_type": "code",
   "execution_count": 125,
   "metadata": {
    "tags": []
   },
   "outputs": [],
   "source": [
    "#determine all inequalts for f2 f3 and store as  [[f2,[[f2,f3,inequals],...,[f2,f3,inequals]],...,[f2,[[f2,f3,inequals],...,[f2,f3,inequals]]]\n",
    "out=get_f2f3l_w_inequals(n,data)"
   ]
  },
  {
   "cell_type": "code",
   "execution_count": 126,
   "metadata": {},
   "outputs": [],
   "source": [
    "# #save to pass to sage\n",
    "# with open('results\\hyperplanes_P5_degen_f2f3.pkl', 'wb') as file:\n",
    "#     pickle.dump(out, file)"
   ]
  },
  {
   "cell_type": "code",
   "execution_count": 113,
   "metadata": {},
   "outputs": [
    {
     "name": "stderr",
     "output_type": "stream",
     "text": [
      "<>:2: DeprecationWarning: invalid escape sequence \\h\n",
      "<>:2: DeprecationWarning: invalid escape sequence \\h\n",
      "<>:2: DeprecationWarning: invalid escape sequence \\h\n",
      "<ipython-input-113-8a799c422c96>:2: DeprecationWarning: invalid escape sequence \\h\n",
      "  with open('results\\hyperplanes_P3_f2f3.pkl', 'rb') as file:\n"
     ]
    }
   ],
   "source": [
    "# #load in sage\n",
    "# with open('results\\hyperplanes_P5_degen_f2f3.pkl', 'rb') as file:\n",
    "#     data = pickle.load(file)"
   ]
  },
  {
   "cell_type": "code",
   "execution_count": 114,
   "metadata": {},
   "outputs": [
    {
     "data": {
      "text/plain": [
       "10"
      ]
     },
     "execution_count": 114,
     "metadata": {},
     "output_type": "execute_result"
    }
   ],
   "source": [
    "n=5\n",
    "len(data) #1942??"
   ]
  },
  {
   "cell_type": "code",
   "execution_count": 118,
   "metadata": {
    "scrolled": true
   },
   "outputs": [],
   "source": [
    "new_data=get_f2f3l_w_dim_poly(n,data)"
   ]
  },
  {
   "cell_type": "code",
   "execution_count": 120,
   "metadata": {},
   "outputs": [
    {
     "name": "stderr",
     "output_type": "stream",
     "text": [
      "<>:2: DeprecationWarning: invalid escape sequence \\P\n",
      "<>:2: DeprecationWarning: invalid escape sequence \\P\n",
      "<>:2: DeprecationWarning: invalid escape sequence \\P\n",
      "<ipython-input-120-9dea2ec86525>:2: DeprecationWarning: invalid escape sequence \\P\n",
      "  with open('results\\P3_f2f3_poly_dim.pkl', 'wb') as file:\n"
     ]
    }
   ],
   "source": [
    "# #save from sage\n",
    "# with open('results\\P5_degen_f2f3_poly_dim.pkl', 'wb') as file:\n",
    "#     pickle.dump(new_data, file)"
   ]
  },
  {
   "cell_type": "code",
   "execution_count": 16,
   "metadata": {},
   "outputs": [],
   "source": [
    "#Having completed the sage stuff load back in jupy\n",
    "with open('results\\P5_degen_f2f3_poly_dim.pkl', 'rb') as file:\n",
    "    data = pickle.load(file)"
   ]
  },
  {
   "cell_type": "code",
   "execution_count": 17,
   "metadata": {},
   "outputs": [],
   "source": [
    "n=5\n",
    "number_list = [str(i) for i in range(1, n + 1)] #if n=3 want 123 so can tail ceiling nad det f3(empty) value\n",
    "max_set  = \"\".join(number_list)"
   ]
  },
  {
   "cell_type": "code",
   "execution_count": 18,
   "metadata": {},
   "outputs": [],
   "source": [
    "#outputing examples to text file.\n",
    "\n",
    "# Open a text file in write mode\n",
    "with open('results/P5_degen_f2f3_poly_dim.txt', 'w') as file:\n",
    "    file.write(\"For f2 in P5 which are degenerate polys, we record for each f2 the set of f3 and the dimension of the polytope of (f2,f3)\\n\\n\")\n",
    "\n",
    "    for i, sub_list in enumerate(data):\n",
    "        f2 = sub_list[0]\n",
    "        file.write(f'f2_{i+1} = {f2}\\n')\n",
    "        packets = sub_list[1:]\n",
    "        for j,triple in enumerate(packets):\n",
    "            [ft2,f3,dim]=triple\n",
    "            \n",
    "            if f3[\"empty\"]+f3[max_set]==-2:\n",
    "                file.write(f'{dim}: f3{i+1}{j+1} = {f3}\\n')\n",
    "        file.write(\"\\n\")"
   ]
  },
  {
   "cell_type": "markdown",
   "metadata": {
    "tags": [],
    "toc-hr-collapsed": true
   },
   "source": [
    "# MSA case: Investigating whether has empty polytope Pn"
   ]
  },
  {
   "cell_type": "markdown",
   "metadata": {},
   "source": [
    "## Functions "
   ]
  },
  {
   "cell_type": "code",
   "execution_count": null,
   "metadata": {},
   "outputs": [],
   "source": [
    "def get_empty_poly(txt):\n",
    "    \"\"\"\n",
    "    Obj:Given list of lists of hyperplanes for each MSA function.\n",
    "    we construct a list of polytopes RF\n",
    "    \"\"\"\n",
    "    poly_l=[]\n",
    "    for k in range(0,len(txt)):\n",
    "        # L_list_line=eval(txt[k])\n",
    "        L_list_line=txt[k]\n",
    "        Poly=Polyhedron(ieqs=L_list_line)\n",
    "        poly_l.append(Poly)\n",
    "\n",
    "    return poly_l\n",
    "\n",
    "def check_dim_sizes(empty):\n",
    "\n",
    "    print(\"\\n\",\"The number of cases where R_f is dim -1 i.e the empty set is:\",empty.count(-1))\n",
    "    print(\" The number of cases where R_f is dim 0 is:\",empty.count(0))\n",
    "    print(\" The number of cases where R_f is dim 1 is:\",empty.count(1))\n",
    "    print(\" The number of cases where R_f is dim 2 is:\",empty.count(2))\n",
    "    print(\" The number of cases where R_f is dim 3 is:\",empty.count(3))\n",
    "    print(\" The number of cases where R_f is dim 4 is:\",empty.count(4))\n",
    "    print(\" The number of cases where R_f is dim 5 is:\",empty.count(5))\n",
    "\n",
    "    print(\"\\n The total number of functions is:\",len(empty))\n",
    "    \n",
    "def get_formatted_hyperplanes_txt(dataframe): #put into format of sage b<Ax<b+1\n",
    "    \n",
    "    \"\"\"\n",
    "    If want to do a single function make a df of one funct.\n",
    "    \n",
    "    Obj:return a list of equalities to define the polytope for each f in df\n",
    "    \n",
    "    In: dataframe of MSA functions\n",
    "    \n",
    "    Out:list of list of equality in correct format\n",
    "    \"\"\"\n",
    "    \n",
    "    #init\n",
    "    dataframe_list = dataframe.values.tolist()\n",
    "    df_temp_col_list = dataframe.columns.tolist()\n",
    "    \n",
    "    df_col_list =[ list(x) for x in df_temp_col_list]\n",
    "    \n",
    "    # print(df_col_list)\n",
    "\n",
    "    empty_thing=[]#looks like get_formatted_hyperplanes[[[]...[]]...[[]...[]]] , term looks like [[]...[]]\n",
    "    \n",
    "    # for i in [dataframe_list[0]]: #creates row at a time\n",
    "    for i in dataframe_list: #creates row at a time\n",
    "\n",
    "        l_i= [ [x,] for x in i]\n",
    "\n",
    "        #Take b<x+y<2\n",
    "        #looks like [-b,1,1] for x \\ge b\n",
    "        res_lower = [list(itertools.chain(*i)) for i in zip(l_i, df_col_list)] # Ax>b #todo need to insert minus for b term. for Ax-b>0\n",
    "        for j in range(len(res_lower)):\n",
    "            \n",
    "            res_lower[j]=[ int(x) for x in res_lower[j]]#multpliy all elements by negative to change inequality direction.-Ax\n",
    "\n",
    "            res_lower[j][0]=-int((res_lower[j][0])) # -b part.\n",
    "\n",
    "        # print(\"res_lower\",res_lower)\n",
    "\n",
    "        #look like [b+1,-1,-1] for x+y \\le b+1\n",
    "        res_upper = [list(itertools.chain(*i)) for i in zip(l_i, df_col_list)]#Ab<b+1 need to arrange into same format as above -Ax+(b+1)>0\n",
    "        \n",
    "        for j in range(len(res_upper)):\n",
    "            res_upper[j]=[ -1*int(x) for x in res_upper[j]]#multpliy all elements by negative to change inequality direction.-Ax\n",
    "            \n",
    "            \n",
    "            res_upper[j][0]=-int((res_upper[j][0]))+1 # Todo Possible check for negative position\n",
    "\n",
    "        res_combined= res_lower +res_upper\n",
    "        \n",
    "        # print(\"res_upper\",res_upper)\n",
    "\n",
    "        # empty_thing.append(res_combined) #comment below and run to check both inequalities in b<Ax<b+1\n",
    "\n",
    "        #change format Dont need sage_format..\n",
    "        formatted_ResCombine=[]\n",
    "        for item in res_combined:#res_combined = [[]...[]], item = []\n",
    "            \n",
    "            \n",
    "            x=[0]*(max(len(l) for l in res_combined)) #finding [0,0,0,0,0] for P_4 ie n+1\n",
    "            x[0]=item[0]\n",
    "            \n",
    "            \n",
    "            for k in range(1,len(item)):\n",
    "                \n",
    "                #!!!!\n",
    "                \n",
    "                # print(\"item[k]\",item[k])\n",
    "                \n",
    "                \n",
    "                if int(item[k])<0: #!!!!! Changed\n",
    "                    x[-int(item[k])]=-1 #\n",
    "                else:\n",
    "                    x[int(item[k])]=1\n",
    "            formatted_ResCombine.append(x)\n",
    "\n",
    "        empty_thing.append(formatted_ResCombine)\n",
    "        \n",
    "        \n",
    "    return empty_thing #a list of the functions P_n"
   ]
  },
  {
   "cell_type": "markdown",
   "metadata": {},
   "source": [
    "## P3"
   ]
  },
  {
   "cell_type": "markdown",
   "metadata": {},
   "source": [
    "Here we load the P3 MSA functions and check that all functions RF is top dimensional."
   ]
  },
  {
   "cell_type": "code",
   "execution_count": 90,
   "metadata": {},
   "outputs": [],
   "source": [
    "path=\"results\\P3.pkl\" #path of hyerplanes...\n",
    "with open(path, \"rb\") as g:\n",
    "    df = pickle.load(g)      \n",
    "# df.head()"
   ]
  },
  {
   "cell_type": "markdown",
   "metadata": {},
   "source": [
    "We now obtain for each function the list of hyperplane information in order to pass to sage to build the RF"
   ]
  },
  {
   "cell_type": "code",
   "execution_count": 80,
   "metadata": {},
   "outputs": [
    {
     "name": "stdout",
     "output_type": "stream",
     "text": [
      "[['1'], ['2'], ['3'], ['1', '2'], ['1', '3'], ['2', '3'], ['1', '2', '3']]\n"
     ]
    }
   ],
   "source": [
    "hyp=get_formatted_hyperplanes_txt(df) #list of lists of hyperplanes for each f in Pn"
   ]
  },
  {
   "cell_type": "markdown",
   "metadata": {},
   "source": [
    "Because I am stupid and don't know why sage won't install pandas we need to save the hyperplane information so we can avoid using pandas in sage."
   ]
  },
  {
   "cell_type": "code",
   "execution_count": 89,
   "metadata": {},
   "outputs": [],
   "source": [
    "# with open('results\\hyperplanes_P3.pkl', 'wb') as file:\n",
    "#     pickle.dump(hyp, file)"
   ]
  },
  {
   "cell_type": "code",
   "execution_count": 2,
   "metadata": {},
   "outputs": [
    {
     "name": "stderr",
     "output_type": "stream",
     "text": [
      "<>:1: DeprecationWarning: invalid escape sequence \\h\n",
      "<>:1: DeprecationWarning: invalid escape sequence \\h\n",
      "<>:1: DeprecationWarning: invalid escape sequence \\h\n",
      "<ipython-input-2-46c06490b91c>:1: DeprecationWarning: invalid escape sequence \\h\n",
      "  with open('results\\hyperplanes_P3.pkl', 'rb') as file:\n"
     ]
    }
   ],
   "source": [
    "with open('results\\hyperplanes_P3.pkl', 'rb') as file:\n",
    "    loaded_list = pickle.load(file)"
   ]
  },
  {
   "cell_type": "markdown",
   "metadata": {},
   "source": [
    "We now now construct the polytopes"
   ]
  },
  {
   "cell_type": "code",
   "execution_count": 14,
   "metadata": {},
   "outputs": [],
   "source": [
    "l_polys_p3=get_empty_poly(loaded_list)"
   ]
  },
  {
   "cell_type": "code",
   "execution_count": 15,
   "metadata": {},
   "outputs": [
    {
     "name": "stdout",
     "output_type": "stream",
     "text": [
      "3\n",
      "3\n",
      "3\n",
      "3\n",
      "3\n",
      "3\n",
      "3\n",
      "3\n",
      "3\n",
      "3\n"
     ]
    }
   ],
   "source": [
    "dim_l=[]\n",
    "for p in l_polys_p3:\n",
    "    dim_l.append(dim(p))"
   ]
  },
  {
   "cell_type": "code",
   "execution_count": null,
   "metadata": {},
   "outputs": [],
   "source": [
    "check_dim_sizes(dim_l)"
   ]
  },
  {
   "cell_type": "markdown",
   "metadata": {
    "tags": []
   },
   "source": [
    "## $P_4$"
   ]
  },
  {
   "cell_type": "code",
   "execution_count": 96,
   "metadata": {},
   "outputs": [
    {
     "data": {
      "text/html": [
       "<div>\n",
       "<style scoped>\n",
       "    .dataframe tbody tr th:only-of-type {\n",
       "        vertical-align: middle;\n",
       "    }\n",
       "\n",
       "    .dataframe tbody tr th {\n",
       "        vertical-align: top;\n",
       "    }\n",
       "\n",
       "    .dataframe thead th {\n",
       "        text-align: right;\n",
       "    }\n",
       "</style>\n",
       "<table border=\"1\" class=\"dataframe\">\n",
       "  <thead>\n",
       "    <tr style=\"text-align: right;\">\n",
       "      <th></th>\n",
       "      <th>1</th>\n",
       "      <th>2</th>\n",
       "      <th>3</th>\n",
       "      <th>4</th>\n",
       "      <th>12</th>\n",
       "      <th>13</th>\n",
       "      <th>14</th>\n",
       "      <th>23</th>\n",
       "      <th>24</th>\n",
       "      <th>34</th>\n",
       "      <th>123</th>\n",
       "      <th>124</th>\n",
       "      <th>134</th>\n",
       "      <th>234</th>\n",
       "      <th>1234</th>\n",
       "    </tr>\n",
       "  </thead>\n",
       "  <tbody>\n",
       "    <tr>\n",
       "      <th>0</th>\n",
       "      <td>0</td>\n",
       "      <td>0</td>\n",
       "      <td>0</td>\n",
       "      <td>0</td>\n",
       "      <td>0</td>\n",
       "      <td>1</td>\n",
       "      <td>1</td>\n",
       "      <td>1</td>\n",
       "      <td>1</td>\n",
       "      <td>1</td>\n",
       "      <td>1</td>\n",
       "      <td>1</td>\n",
       "      <td>1</td>\n",
       "      <td>1</td>\n",
       "      <td>2</td>\n",
       "    </tr>\n",
       "    <tr>\n",
       "      <th>1</th>\n",
       "      <td>0</td>\n",
       "      <td>0</td>\n",
       "      <td>0</td>\n",
       "      <td>0</td>\n",
       "      <td>0</td>\n",
       "      <td>1</td>\n",
       "      <td>0</td>\n",
       "      <td>1</td>\n",
       "      <td>1</td>\n",
       "      <td>1</td>\n",
       "      <td>1</td>\n",
       "      <td>1</td>\n",
       "      <td>1</td>\n",
       "      <td>2</td>\n",
       "      <td>2</td>\n",
       "    </tr>\n",
       "    <tr>\n",
       "      <th>2</th>\n",
       "      <td>0</td>\n",
       "      <td>0</td>\n",
       "      <td>0</td>\n",
       "      <td>0</td>\n",
       "      <td>0</td>\n",
       "      <td>1</td>\n",
       "      <td>0</td>\n",
       "      <td>1</td>\n",
       "      <td>0</td>\n",
       "      <td>1</td>\n",
       "      <td>1</td>\n",
       "      <td>1</td>\n",
       "      <td>1</td>\n",
       "      <td>1</td>\n",
       "      <td>2</td>\n",
       "    </tr>\n",
       "    <tr>\n",
       "      <th>3</th>\n",
       "      <td>0</td>\n",
       "      <td>0</td>\n",
       "      <td>0</td>\n",
       "      <td>0</td>\n",
       "      <td>0</td>\n",
       "      <td>1</td>\n",
       "      <td>0</td>\n",
       "      <td>1</td>\n",
       "      <td>1</td>\n",
       "      <td>1</td>\n",
       "      <td>1</td>\n",
       "      <td>1</td>\n",
       "      <td>1</td>\n",
       "      <td>1</td>\n",
       "      <td>2</td>\n",
       "    </tr>\n",
       "    <tr>\n",
       "      <th>4</th>\n",
       "      <td>0</td>\n",
       "      <td>0</td>\n",
       "      <td>0</td>\n",
       "      <td>0</td>\n",
       "      <td>0</td>\n",
       "      <td>1</td>\n",
       "      <td>1</td>\n",
       "      <td>1</td>\n",
       "      <td>0</td>\n",
       "      <td>1</td>\n",
       "      <td>1</td>\n",
       "      <td>1</td>\n",
       "      <td>2</td>\n",
       "      <td>1</td>\n",
       "      <td>2</td>\n",
       "    </tr>\n",
       "  </tbody>\n",
       "</table>\n",
       "</div>"
      ],
      "text/plain": [
       "   1  2  3  4  12  13  14  23  24  34  123  124  134  234  1234\n",
       "0  0  0  0  0   0   1   1   1   1   1    1    1    1    1     2\n",
       "1  0  0  0  0   0   1   0   1   1   1    1    1    1    2     2\n",
       "2  0  0  0  0   0   1   0   1   0   1    1    1    1    1     2\n",
       "3  0  0  0  0   0   1   0   1   1   1    1    1    1    1     2\n",
       "4  0  0  0  0   0   1   1   1   0   1    1    1    2    1     2"
      ]
     },
     "execution_count": 96,
     "metadata": {},
     "output_type": "execute_result"
    }
   ],
   "source": [
    "path=\"results\\P4.pkl\" #path of hyerplanes...\n",
    "with open(path, \"rb\") as g:\n",
    "    df = pickle.load(g)      \n",
    "df.head()"
   ]
  },
  {
   "cell_type": "code",
   "execution_count": 97,
   "metadata": {},
   "outputs": [],
   "source": [
    "hyp=get_formatted_hyperplanes_txt(df) #list of lists of hyperplanes for each f in Pn"
   ]
  },
  {
   "cell_type": "code",
   "execution_count": 98,
   "metadata": {
    "tags": []
   },
   "outputs": [],
   "source": [
    "#save\n",
    "with open('results\\hyperplanes_P4.pkl', 'wb') as file:\n",
    "    pickle.dump(hyp, file)"
   ]
  },
  {
   "cell_type": "code",
   "execution_count": 7,
   "metadata": {
    "tags": []
   },
   "outputs": [
    {
     "name": "stderr",
     "output_type": "stream",
     "text": [
      "<>:2: DeprecationWarning: invalid escape sequence \\h\n",
      "<>:2: DeprecationWarning: invalid escape sequence \\h\n",
      "<>:2: DeprecationWarning: invalid escape sequence \\h\n",
      "<ipython-input-7-62f03d4d6fde>:2: DeprecationWarning: invalid escape sequence \\h\n",
      "  with open('results\\hyperplanes_P4.pkl', 'rb') as file:\n"
     ]
    }
   ],
   "source": [
    "#load\n",
    "with open('results\\hyperplanes_P4.pkl', 'rb') as file:\n",
    "    loaded_list = pickle.load(file)"
   ]
  },
  {
   "cell_type": "code",
   "execution_count": 8,
   "metadata": {},
   "outputs": [],
   "source": [
    "l_polys_p4=get_empty_poly(loaded_list)"
   ]
  },
  {
   "cell_type": "code",
   "execution_count": 9,
   "metadata": {
    "collapsed": true,
    "jupyter": {
     "outputs_hidden": true
    },
    "tags": []
   },
   "outputs": [],
   "source": [
    "dim_l=[]\n",
    "for p in l_polys_p4:\n",
    "    dim_l.append(dim(p))"
   ]
  },
  {
   "cell_type": "code",
   "execution_count": 13,
   "metadata": {
    "collapsed": true,
    "jupyter": {
     "outputs_hidden": true
    },
    "tags": []
   },
   "outputs": [
    {
     "name": "stdout",
     "output_type": "stream",
     "text": [
      "\n",
      " The number of cases where R_f is dim -1 i.e the empty set is: 0\n",
      " The number of cases where R_f is dim 0 is: 0\n",
      " The number of cases where R_f is dim 1 is: 0\n",
      " The number of cases where R_f is dim 2 is: 0\n",
      " The number of cases where R_f is dim 3 is: 0\n",
      " The number of cases where R_f is dim 4 is: 154\n",
      " The number of cases where R_f is dim 5 is: 0\n",
      "\n",
      " The total number of functions is: 154\n"
     ]
    }
   ],
   "source": [
    "check_dim_sizes(dim_l)"
   ]
  },
  {
   "cell_type": "markdown",
   "metadata": {
    "tags": []
   },
   "source": [
    "## $P_5$"
   ]
  },
  {
   "cell_type": "code",
   "execution_count": 100,
   "metadata": {},
   "outputs": [
    {
     "data": {
      "text/html": [
       "<div>\n",
       "<style scoped>\n",
       "    .dataframe tbody tr th:only-of-type {\n",
       "        vertical-align: middle;\n",
       "    }\n",
       "\n",
       "    .dataframe tbody tr th {\n",
       "        vertical-align: top;\n",
       "    }\n",
       "\n",
       "    .dataframe thead th {\n",
       "        text-align: right;\n",
       "    }\n",
       "</style>\n",
       "<table border=\"1\" class=\"dataframe\">\n",
       "  <thead>\n",
       "    <tr style=\"text-align: right;\">\n",
       "      <th></th>\n",
       "      <th>1</th>\n",
       "      <th>2</th>\n",
       "      <th>3</th>\n",
       "      <th>4</th>\n",
       "      <th>5</th>\n",
       "      <th>12</th>\n",
       "      <th>13</th>\n",
       "      <th>14</th>\n",
       "      <th>15</th>\n",
       "      <th>23</th>\n",
       "      <th>...</th>\n",
       "      <th>234</th>\n",
       "      <th>235</th>\n",
       "      <th>245</th>\n",
       "      <th>345</th>\n",
       "      <th>1234</th>\n",
       "      <th>1235</th>\n",
       "      <th>1245</th>\n",
       "      <th>1345</th>\n",
       "      <th>2345</th>\n",
       "      <th>12345</th>\n",
       "    </tr>\n",
       "  </thead>\n",
       "  <tbody>\n",
       "    <tr>\n",
       "      <th>0</th>\n",
       "      <td>0</td>\n",
       "      <td>0</td>\n",
       "      <td>0</td>\n",
       "      <td>0</td>\n",
       "      <td>0</td>\n",
       "      <td>0</td>\n",
       "      <td>1</td>\n",
       "      <td>1</td>\n",
       "      <td>1</td>\n",
       "      <td>1</td>\n",
       "      <td>...</td>\n",
       "      <td>1</td>\n",
       "      <td>2</td>\n",
       "      <td>2</td>\n",
       "      <td>2</td>\n",
       "      <td>2</td>\n",
       "      <td>2</td>\n",
       "      <td>2</td>\n",
       "      <td>2</td>\n",
       "      <td>2</td>\n",
       "      <td>3</td>\n",
       "    </tr>\n",
       "    <tr>\n",
       "      <th>1</th>\n",
       "      <td>0</td>\n",
       "      <td>0</td>\n",
       "      <td>0</td>\n",
       "      <td>0</td>\n",
       "      <td>0</td>\n",
       "      <td>0</td>\n",
       "      <td>1</td>\n",
       "      <td>1</td>\n",
       "      <td>0</td>\n",
       "      <td>1</td>\n",
       "      <td>...</td>\n",
       "      <td>1</td>\n",
       "      <td>1</td>\n",
       "      <td>1</td>\n",
       "      <td>1</td>\n",
       "      <td>2</td>\n",
       "      <td>1</td>\n",
       "      <td>1</td>\n",
       "      <td>2</td>\n",
       "      <td>2</td>\n",
       "      <td>2</td>\n",
       "    </tr>\n",
       "    <tr>\n",
       "      <th>2</th>\n",
       "      <td>0</td>\n",
       "      <td>0</td>\n",
       "      <td>0</td>\n",
       "      <td>0</td>\n",
       "      <td>0</td>\n",
       "      <td>0</td>\n",
       "      <td>1</td>\n",
       "      <td>1</td>\n",
       "      <td>0</td>\n",
       "      <td>1</td>\n",
       "      <td>...</td>\n",
       "      <td>1</td>\n",
       "      <td>1</td>\n",
       "      <td>1</td>\n",
       "      <td>2</td>\n",
       "      <td>2</td>\n",
       "      <td>1</td>\n",
       "      <td>2</td>\n",
       "      <td>2</td>\n",
       "      <td>2</td>\n",
       "      <td>2</td>\n",
       "    </tr>\n",
       "    <tr>\n",
       "      <th>3</th>\n",
       "      <td>0</td>\n",
       "      <td>0</td>\n",
       "      <td>0</td>\n",
       "      <td>0</td>\n",
       "      <td>0</td>\n",
       "      <td>0</td>\n",
       "      <td>1</td>\n",
       "      <td>1</td>\n",
       "      <td>1</td>\n",
       "      <td>1</td>\n",
       "      <td>...</td>\n",
       "      <td>1</td>\n",
       "      <td>1</td>\n",
       "      <td>1</td>\n",
       "      <td>2</td>\n",
       "      <td>2</td>\n",
       "      <td>2</td>\n",
       "      <td>2</td>\n",
       "      <td>2</td>\n",
       "      <td>2</td>\n",
       "      <td>2</td>\n",
       "    </tr>\n",
       "    <tr>\n",
       "      <th>4</th>\n",
       "      <td>0</td>\n",
       "      <td>0</td>\n",
       "      <td>0</td>\n",
       "      <td>0</td>\n",
       "      <td>0</td>\n",
       "      <td>0</td>\n",
       "      <td>1</td>\n",
       "      <td>1</td>\n",
       "      <td>0</td>\n",
       "      <td>1</td>\n",
       "      <td>...</td>\n",
       "      <td>1</td>\n",
       "      <td>1</td>\n",
       "      <td>1</td>\n",
       "      <td>2</td>\n",
       "      <td>2</td>\n",
       "      <td>2</td>\n",
       "      <td>1</td>\n",
       "      <td>2</td>\n",
       "      <td>2</td>\n",
       "      <td>2</td>\n",
       "    </tr>\n",
       "  </tbody>\n",
       "</table>\n",
       "<p>5 rows × 31 columns</p>\n",
       "</div>"
      ],
      "text/plain": [
       "   1  2  3  4  5  12  13  14  15  23  ...  234  235  245  345  1234  1235  \\\n",
       "0  0  0  0  0  0   0   1   1   1   1  ...    1    2    2    2     2     2   \n",
       "1  0  0  0  0  0   0   1   1   0   1  ...    1    1    1    1     2     1   \n",
       "2  0  0  0  0  0   0   1   1   0   1  ...    1    1    1    2     2     1   \n",
       "3  0  0  0  0  0   0   1   1   1   1  ...    1    1    1    2     2     2   \n",
       "4  0  0  0  0  0   0   1   1   0   1  ...    1    1    1    2     2     2   \n",
       "\n",
       "   1245  1345  2345  12345  \n",
       "0     2     2     2      3  \n",
       "1     1     2     2      2  \n",
       "2     2     2     2      2  \n",
       "3     2     2     2      2  \n",
       "4     1     2     2      2  \n",
       "\n",
       "[5 rows x 31 columns]"
      ]
     },
     "execution_count": 100,
     "metadata": {},
     "output_type": "execute_result"
    }
   ],
   "source": [
    "path=\"results\\P5.pkl\" #path of hyerplanes...\n",
    "with open(path, \"rb\") as g:\n",
    "    df = pickle.load(g)      \n",
    "df.head()"
   ]
  },
  {
   "cell_type": "code",
   "execution_count": 101,
   "metadata": {},
   "outputs": [],
   "source": [
    "hyp=get_formatted_hyperplanes_txt(df) #list of lists of hyperplanes for each f in Pn"
   ]
  },
  {
   "cell_type": "code",
   "execution_count": 102,
   "metadata": {
    "tags": []
   },
   "outputs": [],
   "source": [
    "#save\n",
    "with open('results\\hyperplanes_P5.pkl', 'wb') as file:\n",
    "    pickle.dump(hyp, file)"
   ]
  },
  {
   "cell_type": "code",
   "execution_count": 14,
   "metadata": {
    "tags": []
   },
   "outputs": [
    {
     "name": "stderr",
     "output_type": "stream",
     "text": [
      "<>:2: DeprecationWarning: invalid escape sequence \\h\n",
      "<>:2: DeprecationWarning: invalid escape sequence \\h\n",
      "<>:2: DeprecationWarning: invalid escape sequence \\h\n",
      "<ipython-input-14-72003e236340>:2: DeprecationWarning: invalid escape sequence \\h\n",
      "  with open('results\\hyperplanes_P5.pkl', 'rb') as file:\n"
     ]
    }
   ],
   "source": [
    "#load\n",
    "with open('results\\hyperplanes_P5.pkl', 'rb') as file:\n",
    "    loaded_list = pickle.load(file)"
   ]
  },
  {
   "cell_type": "code",
   "execution_count": 15,
   "metadata": {},
   "outputs": [],
   "source": [
    "l_polys_p5=get_empty_poly(loaded_list)"
   ]
  },
  {
   "cell_type": "code",
   "execution_count": 16,
   "metadata": {
    "collapsed": true,
    "jupyter": {
     "outputs_hidden": true
    },
    "tags": []
   },
   "outputs": [],
   "source": [
    "dim_l=[]\n",
    "for p in l_polys_p5:\n",
    "    dim_l.append(dim(p))"
   ]
  },
  {
   "cell_type": "code",
   "execution_count": 17,
   "metadata": {
    "tags": []
   },
   "outputs": [
    {
     "name": "stdout",
     "output_type": "stream",
     "text": [
      "\n",
      " The number of cases where R_f is dim -1 i.e the empty set is: 0\n",
      " The number of cases where R_f is dim 0 is: 664\n",
      " The number of cases where R_f is dim 1 is: 540\n",
      " The number of cases where R_f is dim 2 is: 720\n",
      " The number of cases where R_f is dim 3 is: 0\n",
      " The number of cases where R_f is dim 4 is: 0\n",
      " The number of cases where R_f is dim 5 is: 8410\n",
      "\n",
      " The total number of functions is: 10334\n"
     ]
    }
   ],
   "source": [
    "check_dim_sizes(dim_l)"
   ]
  },
  {
   "cell_type": "markdown",
   "metadata": {},
   "source": [
    "Previously Alexander Kasprzyk gave the $8410$ count for $P_5$.\n",
    "\n",
    "We see that,\n",
    "\n",
    "$$10334=8410+1924$$\n",
    "\n",
    "And derived the difference between these two cases is as expected."
   ]
  },
  {
   "cell_type": "markdown",
   "metadata": {},
   "source": [
    "## Record $f \\in P_{5}$ which give empty (<) polytopes"
   ]
  },
  {
   "cell_type": "markdown",
   "metadata": {},
   "source": [
    "We record he functions with $R_f$ less than top dimensional, these would be empty if Rf was defined with strict inequalities."
   ]
  },
  {
   "cell_type": "code",
   "execution_count": 18,
   "metadata": {},
   "outputs": [],
   "source": [
    "def degen_rf_indices(numbers_list):\n",
    "    result_indices = []\n",
    "    for i, num in enumerate(numbers_list):\n",
    "        if num < 5:\n",
    "            result_indices.append(i)\n",
    "    return result_indices"
   ]
  },
  {
   "cell_type": "code",
   "execution_count": 19,
   "metadata": {},
   "outputs": [],
   "source": [
    "p5_degen_rf_indices = degen_rf_indices(dim_l)"
   ]
  },
  {
   "cell_type": "code",
   "execution_count": 21,
   "metadata": {},
   "outputs": [
    {
     "name": "stderr",
     "output_type": "stream",
     "text": [
      "<>:2: DeprecationWarning: invalid escape sequence \\P\n",
      "<>:2: DeprecationWarning: invalid escape sequence \\P\n",
      "<>:2: DeprecationWarning: invalid escape sequence \\P\n",
      "<ipython-input-21-8e32de3ccdea>:2: DeprecationWarning: invalid escape sequence \\P\n",
      "  with open('results\\P5_degen_Rf_indices.pkl', 'wb') as file:\n"
     ]
    }
   ],
   "source": [
    "# #save\n",
    "# with open('results\\P5_degen_Rf_indices.pkl', 'wb') as file:\n",
    "#     pickle.dump(p5_degen_rf_indices, file)"
   ]
  },
  {
   "cell_type": "code",
   "execution_count": 104,
   "metadata": {},
   "outputs": [],
   "source": [
    "#load\n",
    "with open('results\\P5_degen_Rf_indices.pkl', 'rb') as file:\n",
    "    loaded_list = pickle.load(file)"
   ]
  },
  {
   "cell_type": "markdown",
   "metadata": {},
   "source": [
    "Now take the functions of P5 dataframe with indices in p5_degen_rf_indices"
   ]
  },
  {
   "cell_type": "code",
   "execution_count": 106,
   "metadata": {},
   "outputs": [
    {
     "data": {
      "text/html": [
       "<div>\n",
       "<style scoped>\n",
       "    .dataframe tbody tr th:only-of-type {\n",
       "        vertical-align: middle;\n",
       "    }\n",
       "\n",
       "    .dataframe tbody tr th {\n",
       "        vertical-align: top;\n",
       "    }\n",
       "\n",
       "    .dataframe thead th {\n",
       "        text-align: right;\n",
       "    }\n",
       "</style>\n",
       "<table border=\"1\" class=\"dataframe\">\n",
       "  <thead>\n",
       "    <tr style=\"text-align: right;\">\n",
       "      <th></th>\n",
       "      <th>1</th>\n",
       "      <th>2</th>\n",
       "      <th>3</th>\n",
       "      <th>4</th>\n",
       "      <th>5</th>\n",
       "      <th>12</th>\n",
       "      <th>13</th>\n",
       "      <th>14</th>\n",
       "      <th>15</th>\n",
       "      <th>23</th>\n",
       "      <th>...</th>\n",
       "      <th>234</th>\n",
       "      <th>235</th>\n",
       "      <th>245</th>\n",
       "      <th>345</th>\n",
       "      <th>1234</th>\n",
       "      <th>1235</th>\n",
       "      <th>1245</th>\n",
       "      <th>1345</th>\n",
       "      <th>2345</th>\n",
       "      <th>12345</th>\n",
       "    </tr>\n",
       "  </thead>\n",
       "  <tbody>\n",
       "    <tr>\n",
       "      <th>0</th>\n",
       "      <td>0</td>\n",
       "      <td>0</td>\n",
       "      <td>0</td>\n",
       "      <td>0</td>\n",
       "      <td>0</td>\n",
       "      <td>0</td>\n",
       "      <td>1</td>\n",
       "      <td>1</td>\n",
       "      <td>1</td>\n",
       "      <td>1</td>\n",
       "      <td>...</td>\n",
       "      <td>1</td>\n",
       "      <td>2</td>\n",
       "      <td>2</td>\n",
       "      <td>2</td>\n",
       "      <td>2</td>\n",
       "      <td>2</td>\n",
       "      <td>2</td>\n",
       "      <td>2</td>\n",
       "      <td>2</td>\n",
       "      <td>3</td>\n",
       "    </tr>\n",
       "    <tr>\n",
       "      <th>1</th>\n",
       "      <td>0</td>\n",
       "      <td>0</td>\n",
       "      <td>0</td>\n",
       "      <td>0</td>\n",
       "      <td>0</td>\n",
       "      <td>0</td>\n",
       "      <td>1</td>\n",
       "      <td>1</td>\n",
       "      <td>0</td>\n",
       "      <td>1</td>\n",
       "      <td>...</td>\n",
       "      <td>1</td>\n",
       "      <td>1</td>\n",
       "      <td>1</td>\n",
       "      <td>1</td>\n",
       "      <td>2</td>\n",
       "      <td>1</td>\n",
       "      <td>1</td>\n",
       "      <td>2</td>\n",
       "      <td>2</td>\n",
       "      <td>2</td>\n",
       "    </tr>\n",
       "    <tr>\n",
       "      <th>2</th>\n",
       "      <td>0</td>\n",
       "      <td>0</td>\n",
       "      <td>0</td>\n",
       "      <td>0</td>\n",
       "      <td>0</td>\n",
       "      <td>0</td>\n",
       "      <td>1</td>\n",
       "      <td>1</td>\n",
       "      <td>0</td>\n",
       "      <td>1</td>\n",
       "      <td>...</td>\n",
       "      <td>1</td>\n",
       "      <td>1</td>\n",
       "      <td>1</td>\n",
       "      <td>2</td>\n",
       "      <td>2</td>\n",
       "      <td>1</td>\n",
       "      <td>2</td>\n",
       "      <td>2</td>\n",
       "      <td>2</td>\n",
       "      <td>2</td>\n",
       "    </tr>\n",
       "    <tr>\n",
       "      <th>3</th>\n",
       "      <td>0</td>\n",
       "      <td>0</td>\n",
       "      <td>0</td>\n",
       "      <td>0</td>\n",
       "      <td>0</td>\n",
       "      <td>0</td>\n",
       "      <td>1</td>\n",
       "      <td>1</td>\n",
       "      <td>1</td>\n",
       "      <td>1</td>\n",
       "      <td>...</td>\n",
       "      <td>1</td>\n",
       "      <td>1</td>\n",
       "      <td>1</td>\n",
       "      <td>2</td>\n",
       "      <td>2</td>\n",
       "      <td>2</td>\n",
       "      <td>2</td>\n",
       "      <td>2</td>\n",
       "      <td>2</td>\n",
       "      <td>2</td>\n",
       "    </tr>\n",
       "    <tr>\n",
       "      <th>4</th>\n",
       "      <td>0</td>\n",
       "      <td>0</td>\n",
       "      <td>0</td>\n",
       "      <td>0</td>\n",
       "      <td>0</td>\n",
       "      <td>0</td>\n",
       "      <td>1</td>\n",
       "      <td>1</td>\n",
       "      <td>0</td>\n",
       "      <td>1</td>\n",
       "      <td>...</td>\n",
       "      <td>1</td>\n",
       "      <td>1</td>\n",
       "      <td>1</td>\n",
       "      <td>2</td>\n",
       "      <td>2</td>\n",
       "      <td>2</td>\n",
       "      <td>1</td>\n",
       "      <td>2</td>\n",
       "      <td>2</td>\n",
       "      <td>2</td>\n",
       "    </tr>\n",
       "  </tbody>\n",
       "</table>\n",
       "<p>5 rows × 31 columns</p>\n",
       "</div>"
      ],
      "text/plain": [
       "   1  2  3  4  5  12  13  14  15  23  ...  234  235  245  345  1234  1235  \\\n",
       "0  0  0  0  0  0   0   1   1   1   1  ...    1    2    2    2     2     2   \n",
       "1  0  0  0  0  0   0   1   1   0   1  ...    1    1    1    1     2     1   \n",
       "2  0  0  0  0  0   0   1   1   0   1  ...    1    1    1    2     2     1   \n",
       "3  0  0  0  0  0   0   1   1   1   1  ...    1    1    1    2     2     2   \n",
       "4  0  0  0  0  0   0   1   1   0   1  ...    1    1    1    2     2     2   \n",
       "\n",
       "   1245  1345  2345  12345  \n",
       "0     2     2     2      3  \n",
       "1     1     2     2      2  \n",
       "2     2     2     2      2  \n",
       "3     2     2     2      2  \n",
       "4     1     2     2      2  \n",
       "\n",
       "[5 rows x 31 columns]"
      ]
     },
     "execution_count": 106,
     "metadata": {},
     "output_type": "execute_result"
    }
   ],
   "source": [
    "path=\"results\\P5.pkl\" #path of hyerplanes...\n",
    "with open(path, \"rb\") as g:\n",
    "    df = pickle.load(g)      \n",
    "# df.head()"
   ]
  },
  {
   "cell_type": "code",
   "execution_count": 107,
   "metadata": {},
   "outputs": [
    {
     "name": "stdout",
     "output_type": "stream",
     "text": [
      "       1  2  3  4  5  12  13  14  15  23  ...  234  235  245  345  1234  1235  \\\n",
      "16     0  0  0  0  0   0   1   1   1   1  ...    1    1    2    2     2     2   \n",
      "24     0  0  0  0  0   0   1   1   1   1  ...    1    2    1    2     2     2   \n",
      "347    0  0  0  0  0   0   1   1   1   1  ...    2    1    2    2     2     2   \n",
      "354    0  0  0  0  0   0   1   1   1   1  ...    2    2    1    2     2     2   \n",
      "362    0  0  0  0  0   0   1   1   1   1  ...    1    2    1    2     2     2   \n",
      "...   .. .. .. .. ..  ..  ..  ..  ..  ..  ...  ...  ...  ...  ...   ...   ...   \n",
      "10067  0  0  0  0  0   1   0   0   0   0  ...    1    0    0    0     1     1   \n",
      "10075  0  0  0  0  0   1   0   0   0   0  ...    1    0    0    0     1     1   \n",
      "10081  0  0  0  0  0   1   0   0   0   0  ...    1    0    0    0     1     1   \n",
      "10289  0  0  0  0  0   1   0   0   0   0  ...    0    0    1    0     1     1   \n",
      "10313  0  0  0  0  0   1   0   0   0   0  ...    0    1    0    0     1     1   \n",
      "\n",
      "       1245  1345  2345  12345  \n",
      "16        2     2     2      3  \n",
      "24        2     2     2      3  \n",
      "347       2     2     2      3  \n",
      "354       2     2     2      3  \n",
      "362       2     2     2      3  \n",
      "...     ...   ...   ...    ...  \n",
      "10067     1     1     1      1  \n",
      "10075     1     1     1      1  \n",
      "10081     1     1     1      1  \n",
      "10289     1     1     1      1  \n",
      "10313     1     1     1      1  \n",
      "\n",
      "[1924 rows x 31 columns]\n"
     ]
    }
   ],
   "source": [
    "# Extract rows based on the indices and create a new DataFrame\n",
    "new_df = df.iloc[loaded_list]"
   ]
  },
  {
   "cell_type": "code",
   "execution_count": 108,
   "metadata": {},
   "outputs": [],
   "source": [
    "#save\n",
    "with open('results\\subset_P5_w_degenRf.pkl', 'wb') as file:\n",
    "    pickle.dump(new_df, file)"
   ]
  },
  {
   "cell_type": "markdown",
   "metadata": {},
   "source": [
    "# Used throughout"
   ]
  },
  {
   "cell_type": "code",
   "execution_count": 2,
   "metadata": {},
   "outputs": [],
   "source": [
    "import numpy as np\n",
    "import itertools\n",
    "import pickle"
   ]
  },
  {
   "cell_type": "code",
   "execution_count": 3,
   "metadata": {},
   "outputs": [
    {
     "ename": "ModuleNotFoundError",
     "evalue": "No module named 'pandas'",
     "output_type": "error",
     "traceback": [
      "\u001b[0;31m---------------------------------------------------------------------------\u001b[0m",
      "\u001b[0;31mModuleNotFoundError\u001b[0m                       Traceback (most recent call last)",
      "\u001b[0;32m<ipython-input-3-7dd3504c366f>\u001b[0m in \u001b[0;36m<module>\u001b[0;34m\u001b[0m\n\u001b[0;32m----> 1\u001b[0;31m \u001b[0;32mimport\u001b[0m \u001b[0mpandas\u001b[0m \u001b[0;32mas\u001b[0m \u001b[0mpd\u001b[0m\u001b[0;34m\u001b[0m\u001b[0;34m\u001b[0m\u001b[0m\n\u001b[0m",
      "\u001b[0;31mModuleNotFoundError\u001b[0m: No module named 'pandas'"
     ]
    }
   ],
   "source": [
    "# import pandas as pd"
   ]
  },
  {
   "cell_type": "markdown",
   "metadata": {
    "jp-MarkdownHeadingCollapsed": true,
    "tags": [],
    "toc-hr-collapsed": true
   },
   "source": [
    "# LO"
   ]
  },
  {
   "cell_type": "code",
   "execution_count": 8,
   "metadata": {
    "tags": []
   },
   "outputs": [],
   "source": [
    "\n",
    "\n",
    "#now save this and apply analysis back jupyterlab\n",
    "\n",
    "def inv_empty_selector(data):\n",
    "    \n",
    "    \"\"\"\n",
    "    In:\n",
    "    data = [\n",
    "        [f2, [[f2, f3, poly_dim], ..., [f2, f3, poly_dim]]],...]\n",
    "\n",
    "    out:\n",
    "\n",
    "    Obj: Investigate:\n",
    "\n",
    "    For each item in [[f2,[f2,f3,poly_dim]],...] want to select those where poly_dim=\"Empty\"\n",
    "    \"\"\"\n",
    "\n",
    "\n",
    "    # Function to check if poly_dim is not \"Empty\"\n",
    "    def is_not_empty(poly_dim):\n",
    "        return poly_dim != \"Empty\"\n",
    "\n",
    "    # Remove inner lists where poly_dim is not \"Empty\"\n",
    "    new_data = [[f2, [inner_list for inner_list in f2_f3_list if is_not_empty(inner_list[2])]] for f2, f2_f3_list in data]\n",
    "\n",
    "    return new_data\n",
    "\n",
    "#now we need to display the output"
   ]
  },
  {
   "cell_type": "code",
   "execution_count": null,
   "metadata": {
    "tags": []
   },
   "outputs": [],
   "source": [
    "## $P_2$"
   ]
  },
  {
   "cell_type": "code",
   "execution_count": null,
   "metadata": {},
   "outputs": [
    {
     "ename": "OSError",
     "evalue": "[Errno 22] Invalid argument: '\\results\\\\P2.pkl'",
     "output_type": "error",
     "traceback": [
      "\u001b[1;31m---------------------------------------------------------------------------\u001b[0m",
      "\u001b[1;31mOSError\u001b[0m                                   Traceback (most recent call last)",
      "Cell \u001b[1;32mIn[8], line 3\u001b[0m\n\u001b[0;32m      1\u001b[0m path\u001b[38;5;241m=\u001b[39m\u001b[38;5;124m\"\u001b[39m\u001b[38;5;130;01m\\r\u001b[39;00m\u001b[38;5;124mesults\u001b[39m\u001b[38;5;124m\\\u001b[39m\u001b[38;5;124mP2.pkl\u001b[39m\u001b[38;5;124m\"\u001b[39m\n\u001b[0;32m      2\u001b[0m size\u001b[38;5;241m=\u001b[39m\u001b[38;5;241m2\u001b[39m\n\u001b[1;32m----> 3\u001b[0m empty\u001b[38;5;241m=\u001b[39m\u001b[43mget_empty_poly\u001b[49m\u001b[43m(\u001b[49m\u001b[43mpath\u001b[49m\u001b[43m,\u001b[49m\u001b[43msize\u001b[49m\u001b[43m)\u001b[49m\n\u001b[0;32m      5\u001b[0m \u001b[38;5;28mprint\u001b[39m(\u001b[38;5;124m\"\u001b[39m\u001b[38;5;130;01m\\n\u001b[39;00m\u001b[38;5;124m\"\u001b[39m,\u001b[38;5;124m\"\u001b[39m\u001b[38;5;124mThe number of cases where R_f is dim -1 i.e the empty set is:\u001b[39m\u001b[38;5;124m\"\u001b[39m,empty\u001b[38;5;241m.\u001b[39mcount(\u001b[38;5;241m-\u001b[39m\u001b[38;5;241m1\u001b[39m))\n\u001b[0;32m      6\u001b[0m \u001b[38;5;28mprint\u001b[39m(\u001b[38;5;124m\"\u001b[39m\u001b[38;5;124m The number of cases where R_f is dim 0 is:\u001b[39m\u001b[38;5;124m\"\u001b[39m,empty\u001b[38;5;241m.\u001b[39mcount(\u001b[38;5;241m0\u001b[39m))\n",
      "Cell \u001b[1;32mIn[6], line 3\u001b[0m, in \u001b[0;36mget_empty_poly\u001b[1;34m(path, size)\u001b[0m\n\u001b[0;32m      1\u001b[0m \u001b[38;5;28;01mdef\u001b[39;00m \u001b[38;5;21mget_empty_poly\u001b[39m(path,size):\n\u001b[1;32m----> 3\u001b[0m     \u001b[38;5;28;01mwith\u001b[39;00m \u001b[38;5;28;43mopen\u001b[39;49m\u001b[43m(\u001b[49m\u001b[43mpath\u001b[49m\u001b[43m,\u001b[49m\u001b[43m \u001b[49m\u001b[38;5;124;43m\"\u001b[39;49m\u001b[38;5;124;43mr\u001b[39;49m\u001b[38;5;124;43m\"\u001b[39;49m\u001b[43m)\u001b[49m \u001b[38;5;28;01mas\u001b[39;00m g:\n\u001b[0;32m      4\u001b[0m         loaded_hyperplanes \u001b[38;5;241m=\u001b[39m pickle\u001b[38;5;241m.\u001b[39mload(g)\n\u001b[0;32m      6\u001b[0m     L \u001b[38;5;241m=\u001b[39m loaded_hyperplanes\u001b[38;5;241m.\u001b[39mreadlines()\n",
      "File \u001b[1;32m~\\miniconda3\\lib\\site-packages\\IPython\\core\\interactiveshell.py:282\u001b[0m, in \u001b[0;36m_modified_open\u001b[1;34m(file, *args, **kwargs)\u001b[0m\n\u001b[0;32m    275\u001b[0m \u001b[38;5;28;01mif\u001b[39;00m file \u001b[38;5;129;01min\u001b[39;00m {\u001b[38;5;241m0\u001b[39m, \u001b[38;5;241m1\u001b[39m, \u001b[38;5;241m2\u001b[39m}:\n\u001b[0;32m    276\u001b[0m     \u001b[38;5;28;01mraise\u001b[39;00m \u001b[38;5;167;01mValueError\u001b[39;00m(\n\u001b[0;32m    277\u001b[0m         \u001b[38;5;124mf\u001b[39m\u001b[38;5;124m\"\u001b[39m\u001b[38;5;124mIPython won\u001b[39m\u001b[38;5;124m'\u001b[39m\u001b[38;5;124mt let you open fd=\u001b[39m\u001b[38;5;132;01m{\u001b[39;00mfile\u001b[38;5;132;01m}\u001b[39;00m\u001b[38;5;124m by default \u001b[39m\u001b[38;5;124m\"\u001b[39m\n\u001b[0;32m    278\u001b[0m         \u001b[38;5;124m\"\u001b[39m\u001b[38;5;124mas it is likely to crash IPython. If you know what you are doing, \u001b[39m\u001b[38;5;124m\"\u001b[39m\n\u001b[0;32m    279\u001b[0m         \u001b[38;5;124m\"\u001b[39m\u001b[38;5;124myou can use builtins\u001b[39m\u001b[38;5;124m'\u001b[39m\u001b[38;5;124m open.\u001b[39m\u001b[38;5;124m\"\u001b[39m\n\u001b[0;32m    280\u001b[0m     )\n\u001b[1;32m--> 282\u001b[0m \u001b[38;5;28;01mreturn\u001b[39;00m io_open(file, \u001b[38;5;241m*\u001b[39margs, \u001b[38;5;241m*\u001b[39m\u001b[38;5;241m*\u001b[39mkwargs)\n",
      "\u001b[1;31mOSError\u001b[0m: [Errno 22] Invalid argument: '\\results\\\\P2.pkl'"
     ]
    }
   ],
   "source": [
    "path=\"\\results\\P2.pkl\"\n",
    "size=2\n",
    "empty=get_empty_poly(path,size)\n",
    "\n",
    "print(\"\\n\",\"The number of cases where R_f is dim -1 i.e the empty set is:\",empty.count(-1))\n",
    "print(\" The number of cases where R_f is dim 0 is:\",empty.count(0))\n",
    "print(\" The number of cases where R_f is dim 1 is:\",empty.count(1))\n",
    "print(\" The number of cases where R_f is dim 2 is:\",empty.count(2))\n",
    "\n",
    "print(\"\\n The total number of functions is:\",len(empty))"
   ]
  },
  {
   "cell_type": "code",
   "execution_count": null,
   "metadata": {},
   "outputs": [],
   "source": [
    "# lbm=np.array([[ 0.,  0.,  1.,  1.],\n",
    "#        [ 0.,  1.,  0.,  1.],\n",
    "#        [ 0.,  1.,  1.,  0.],\n",
    "#        [ 0.,  2.,  0.,  0.],\n",
    "#        [ 1.,  0.,  0.,  1.],\n",
    "#        [ 1.,  0.,  1.,  0.],\n",
    "#        [ 1.,  1.,  0.,  0.],\n",
    "#        [ 1.,  1.,  1., -1.]])\n",
    "\n",
    "# # lbm\n",
    "\n",
    "# phi_G455={\"1\":1,\"2\":1.5,\"3\":1,\"4\":1.5,\"12\":1.5,\"23\":1.5,\"34\":1.5,\"41\":1.5}\n",
    "\n",
    "# print(get_formatted_hyperplanes_txt(lbm,phi_G455))"
   ]
  },
  {
   "cell_type": "code",
   "execution_count": null,
   "metadata": {},
   "outputs": [],
   "source": [
    "# #This is for a specific stability condition on a graph\n",
    "\n",
    "# def get_formatted_hyperplanes_txt(lbm,phi_G): #put into format of sage b<Ax<b+1\n",
    "    \n",
    "#     \"\"\"\n",
    "#     Inputs:\n",
    "#     phi  records indexs of cuts with cutfraction in inequalities.        phi_G62={\"1\":1,\"2\":1.5,\"3\":1,\"4\":1,\"5\":1,\"6\":1.5,\"12\":1.5,\"23\":1.5,\"34\":1,\"45\":1,\"56\":1.5,\"61\":1.5,\"123\":1.5,\"234\":1.5,\"345\":1,\"456\":1.5,\"561\":1.5,\"612\":1}\n",
    "#     lbm= line bundle mulidegrees given by chip-adding\n",
    "    \n",
    "#     Purpose: Get list of inquality data to feed into Sages Polyhedron function\n",
    "#     https://doc.sagemath.org/html/en/reference/discrete_geometry/sage/geometry/polyhedron/constructor.html\n",
    "    \n",
    "    \n",
    "#     \"\"\"\n",
    "    \n",
    "#     inequals=[]        \n",
    "#     for d in lbm: #creates row at a time\n",
    "#         for indexor in phi_G.keys():\n",
    "            \n",
    "#             def sum_comps(comp,indexor): #Done\n",
    "#                 \"\"\"returns the sum of the components of comp in the position by indexor\"\"\"\n",
    "#                 #for d and phi\n",
    "#                 sum_l=[comp[int(i)-1] for i in indexor]\n",
    "#                 return sum(sum_l)\n",
    "            \n",
    "            \n",
    "#             cf=phi_G[indexor] # want value\n",
    "#             constant_indx= sum_comps(d,indexor)        \n",
    "        \n",
    "#             l_i= [ [x,] for x in indexor] #x,y,z.. terms for indexors in Rf space\n",
    "\n",
    "#             def lower_part(constant_indx,l_i,indexor):\n",
    "#                 #looks like [-b,1,1] for x \\ge b\n",
    "#                 res_lower = [list(itertools.chain(*i)) for i in zip(l_i, indexor)] # Ax>b #todo need to insert minus for b term. for Ax-b>0\n",
    "\n",
    "#                 for j in range(len(res_lower)):\n",
    "#                     res_lower[j][0]=-int((res_lower[j][0])) # -b part.\n",
    "\n",
    "#                 return res_lower\n",
    "\n",
    "#             def upper_part(constant_indx,l_i,indexor):\n",
    "\n",
    "#                 #look like [b+1,-1,-1] for x+y \\le b+1\n",
    "#                 res_upper = [list(itertools.chain(*i)) for i in zip(l_i, indexor)] #Ab<b+1 need to arrange into same format as above -Ax+(b+1)>0\n",
    "\n",
    "#                 for j in range(len(res_upper)):\n",
    "#                     res_upper[j]=[ -1*x for x in res_upper[j]] # multpliy all elements by negative to change inequality direction.-Ax\n",
    "#                     res_upper[j][0]=(-(res_upper[j][0]))+constant_indx \n",
    "\n",
    "#                 return res_upper\n",
    "\n",
    "#             res_lower=lower_part(constant_indx,l_i,indexor)\n",
    "#             res_upper=upper_part(constant_indx,l_i,indexor)\n",
    "\n",
    "#             res_combined= res_lower +res_upper\n",
    "\n",
    "#             # empty_thing.append(res_combined) #comment below and run to check both inequalities in b<Ax<b+1\n",
    "\n",
    "#             #change format Dont need sage_format..\n",
    "#             formatted_ResCombine=[]\n",
    "#             for item in res_combined:#res_combined = [[]...[]], item = []\n",
    "                \n",
    "#                 x=[0]*(max(len(l) for l in res_combined)) #finding [0,0,0,0,0] for P_4 ie n+1\n",
    "#                 x[0]=item[0]\n",
    "#                 for k in range(1,len(item)):\n",
    "#                     if item[k]<0:\n",
    "#                         x[-item[k]]=-1 #\n",
    "#                     else:\n",
    "#                         x[item[k]]=1\n",
    "#                 formatted_ResCombine.append(x)\n",
    "#             inequals=inequals+formatted_ResCombine\n",
    "#     return inequals\n"
   ]
  },
  {
   "cell_type": "code",
   "execution_count": null,
   "metadata": {},
   "outputs": [],
   "source": []
  },
  {
   "cell_type": "code",
   "execution_count": null,
   "metadata": {
    "tags": []
   },
   "outputs": [],
   "source": [
    "#     #Leaving this, this way because im stupid \n",
    "#     # for i in values_list: #creates row at a time #Here its of size 1 \n",
    "#     # print(i)\n",
    "\n",
    "#     #prep lists with constants\n",
    "\n",
    "#     # f3 function value\n",
    "#     l_i= [ [x,] for x in i]\n",
    "#     # print(\"l_i\",l_i)\n",
    "\n",
    "#     \"\"\"\n",
    "#         Example \n",
    "#         Suppose we wish to write \n",
    "\n",
    "#         for\n",
    "#         b<x+y<b+1\n",
    "\n",
    "#         The inequalities we want are.\n",
    "#         res_lower_example=[-b,1,1]\n",
    "#         res_upper_example=[b+1,-1,-1]\n",
    "\n",
    "#         Outputs:\n",
    "#         res_lower [[0, 1], [0, 2], [0, 3], [0, 1, 2], [-1, 1, 3], [-1, 2, 3], [-1, 1, 2, 3]]\n",
    "#         res_upper [[1, -1], [1, -2], [1, -3], [1, -1, -2], [2, -1, -3], [2, -2, -3], [2, -1, -2, -3]]\n",
    "#     \"\"\"\n",
    "\n",
    "#     #looks like [-b,1,1] for b \\le x+y\n",
    "#     # res_lower = [list(itertools.chain(*i)) for i in zip(l_i, df_col_list,df_col_list_comp)] # Ax>b #todo need to insert minus for b term. for Ax-b>0\n",
    "\n",
    "#     # Combine the lists element-wise using zip\n",
    "#     combined_lists = zip(l_i, df_col_list, df_col_list_comp)\n",
    "\n",
    "#     print(\"combined_lists\",list(combined_lists))#combined_lists [([-2], ['1'], ['2', '3']), ([-1], ['2'], ['1', '3']), ([-1], ['3'], ['1', '2']), ([-1], ['1', '2'], ['3']), ([-1], ['1', '3'], ['2']), ([0], ['2', '3'], ['1'])]\n",
    "\n",
    "#     res_lower=[]\n",
    "#     for data_list, col_list, col_comp in combined_lists:\n",
    "#         # Create a list of lists for coefficients with respective signs\n",
    "\n",
    "#         # Given inputs\n",
    "#         # data_list  = [-2]\n",
    "#         # col_list = ['1']\n",
    "#         formated_col_l=[int(x) for x in col_list]\n",
    "#         # col_comp_list = ['2', '3']\n",
    "#         form_col_comp_list=[-int(x) for x in col_comp_list]\n",
    "#         # Create the result list using list comprehension\n",
    "#         res_lower_term=data_list + formated_col_l+form_col_comp_list\n",
    "#         # print(result)  # Output: [-2, 1, -2, -3]\n",
    "\n",
    "#         res_lower.append(res_lower_term)\n",
    "\n",
    "#     print(f\"res_lower[0]:{res_lower[0]}\") #res_lower[0]:[-2, '1', '2', '3']\n",
    "\n",
    "\n",
    "\n",
    "\n",
    "\n",
    "# #         for j in range(len(res_lower)):\n",
    "# #             res_lower[j]=[ int(x) for x in res_lower[j]]#multpliy all elements by negative to change inequality direction.-Ax\n",
    "# #             res_lower[j][0]=-int((res_lower[j][0])) # -b part.\n",
    "# #         # print(\"res_lower\",res_lower) \n",
    "\n",
    "#     #--------------------------------------------\n",
    "\n",
    "\n",
    "#     res_upper = [list(itertools.chain(*i)) for i in zip(l_i, df_col_list,df_col_list_comp)]#Ab<b+1 need to arrange into same format as above -Ax+(b+1)>0\n",
    "#     for j in range(len(res_upper)):\n",
    "#         res_upper[j]=[ -1*int(x) for x in res_upper[j]]#multpliy all elements by negative to change inequality direction.-Ax\n",
    "#         res_upper[j][0]=-int((res_upper[j][0]))+1 # Todo Possible check for negative position\n",
    "#     # print(\"res_upper\",res_upper) #look like [b+1,-1,-1] for x+y \\le b+1\n",
    "    \n",
    "    \n",
    "    \n",
    "#     \"\"\"\n",
    "#             # dataframe = pd.DataFrame([f3_copy])\n",
    "#             # f3={'1': -2, '2': -1, '3': -1, '12': -1, '13': -1, '23': 0}\n",
    "#         # print(f3)\n",
    "\n",
    "#         # dataframe_list = dataframe.values.tolist()\n",
    "#         # print(dataframe_list)#[[-2,-1,-1,-1,-1,0]]\n",
    "\n",
    "#         # df_temp_col_list = dataframe.columns.tolist()\n",
    "#         # print(df_temp_col_list)#['1', '2', '3', '12', '13', '23']\n",
    "#             #[['1'], ['2'], ['3'], ['1', '2'], ['1', '3'], ['2', '3']]\n",
    "#         # print(\"df_col_list_comp:\",df_col_list_comp) #df_col_list_comp: [['2', '3'], ['1', '3'], ['1', '2'], ['3'], ['2'], ['1']]\n",
    "#     \"\"\"\n",
    "#     \"\"\"If\n",
    "    \n",
    "#         dataframe_list=[[-2,-1,-1,-1,-1,0]]\n",
    "\n",
    "#         df_col_list =[['1'], ['2'], ['3'], ['1', '2'], ['1', '3'], ['2', '3']]\n",
    "\n",
    "#         df_col_list_comp= [['2', '3'], ['1', '3'], ['1', '2'], ['3'], ['2'], ['1']]\n",
    "\n",
    "#         what is\n",
    "\n",
    "#         res_lower = [list(itertools.chain(*i)) for i in zip(l_i, df_col_list,df_col_list_comp)] # Ax>b #todo need to insert minus for b term. for Ax-b>0\n",
    "#     \"\"\"\n",
    "    "
   ]
  }
 ],
 "metadata": {
  "kernelspec": {
   "display_name": "Python 3 (ipykernel)",
   "language": "python",
   "name": "python3"
  },
  "language_info": {
   "codemirror_mode": {
    "name": "ipython",
    "version": 3
   },
   "file_extension": ".py",
   "mimetype": "text/x-python",
   "name": "python",
   "nbconvert_exporter": "python",
   "pygments_lexer": "ipython3",
   "version": "3.10.8"
  }
 },
 "nbformat": 4,
 "nbformat_minor": 4
}
