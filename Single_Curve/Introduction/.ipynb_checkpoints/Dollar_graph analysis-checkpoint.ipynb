{
 "cells": [
  {
   "cell_type": "code",
   "execution_count": 1,
   "metadata": {},
   "outputs": [],
   "source": [
    "from sympy import *\n",
    "from IPython.display import Image\n",
    "%matplotlib inline\n",
    "import matplotlib.pyplot as plt\n",
    "plt.style.use('seaborn-whitegrid')\n",
    "import numpy as np\n",
    "init_printing()\n",
    "\n"
   ]
  },
  {
   "cell_type": "markdown",
   "metadata": {},
   "source": [
    "The only weak stability is that given by constant assignment. Reasoning: Constant assignments as same tree means if fix (0,0) for d1 then rest must also be (0,0) otherwise total size not 4."
   ]
  },
  {
   "cell_type": "markdown",
   "metadata": {},
   "source": [
    "Assignemnt and sigma:"
   ]
  },
  {
   "cell_type": "code",
   "execution_count": 43,
   "metadata": {
    "code_folding": []
   },
   "outputs": [],
   "source": [
    "def get_sig(ass):\n",
    "\n",
    "    d1,d2,d3,d4=Matrix(ass[0]),Matrix(ass[1]),Matrix(ass[2]),Matrix(ass[3])\n",
    "    v11, v12 = Matrix([1, 0]), Matrix([0, 1])\n",
    "\n",
    "    sig_d1 = FiniteSet(d1 + 3*v11 +0*v12, d1 + 0*v11 +3*v12,d1 + 1*v11 +2*v12,d1 + 2*v11 +1*v12)\n",
    "    sig_d2 = FiniteSet(d2 + 3*v11 +0*v12, d2 + 0*v11 +3*v12,d2 + 1*v11 +2*v12,d2 + 2*v11 +1*v12)\n",
    "    sig_d3 = FiniteSet(d3 + 3*v11 +0*v12, d3 + 0*v11 +3*v12,d3 + 1*v11 +2*v12,d3 + 2*v11 +1*v12)\n",
    "    sig_d4 = FiniteSet(d4 + 3*v11 +0*v12, d4 + 0*v11 +3*v12,d4 + 1*v11 +2*v12,d4 + 2*v11 +1*v12)\n",
    "    sig = sig_d1.union(sig_d2).union(sig_d3).union(sig_d4)\n",
    "\n",
    "    return sig"
   ]
  },
  {
   "cell_type": "code",
   "execution_count": 44,
   "metadata": {
    "code_folding": []
   },
   "outputs": [],
   "source": [
    "def display_data(ass):\n",
    "\n",
    "    print(\"Assignment:\")\n",
    "    for j in ass:\n",
    "        print(j, \"\\n\")\n",
    "    d1, d2, d3, d4 = Matrix(ass[0]), Matrix(ass[1]), Matrix(ass[2]), Matrix(\n",
    "        ass[3])\n",
    "    sig = get_sig(ass)\n",
    "    print(\"Sigma: \\n\")\n",
    "    for sig_i in sig:\n",
    "        print(sig_i)\n",
    "    return"
   ]
  },
  {
   "cell_type": "code",
   "execution_count": 45,
   "metadata": {
    "code_folding": [
     0
    ]
   },
   "outputs": [],
   "source": [
    "def plt_sig(sig):\n",
    "    lsig=[list(s) for s in sig]\n",
    "    plt.scatter(*zip(*lsig))\n",
    "    plt.show()\n",
    "    return"
   ]
  },
  {
   "cell_type": "code",
   "execution_count": 46,
   "metadata": {},
   "outputs": [
    {
     "data": {
      "image/png": "[encoded data removed]",
      "text/plain": [
       "<Figure size 432x288 with 1 Axes>"
      ]
     },
     "metadata": {},
     "output_type": "display_data"
    }
   ],
   "source": [
    "ass=weak_stabs[0]\n",
    "k=7\n",
    "ass[0]=Matrix([[k],[-k]]) #Change this to see effect of changing assignments on sigma: default Matrix([[0],[0]])\n",
    "# display_data(ass)\n",
    "sig=get_sig(ass)\n",
    "plt_sig(sig)"
   ]
  },
  {
   "cell_type": "markdown",
   "metadata": {},
   "source": [
    "### Similar for D2,D3"
   ]
  },
  {
   "cell_type": "markdown",
   "metadata": {
    "heading_collapsed": true
   },
   "source": [
    "# Check intersection sizes: D4 and $I_4$"
   ]
  },
  {
   "cell_type": "code",
   "execution_count": 41,
   "metadata": {
    "code_folding": [
     2,
     5
    ],
    "hidden": true
   },
   "outputs": [],
   "source": [
    "#Checking the sizes of combinations of intersections of A_i\n",
    "\n",
    "def check_sizes(ass):\n",
    "    \n",
    "    print(\"Assignment:\")\n",
    "    for j in ass:\n",
    "        print(j,\"\\n\")\n",
    "\n",
    "    d1,d2,d3,d4=Matrix(ass[0]),Matrix(ass[1]),Matrix(ass[2]),Matrix(ass[3])\n",
    "\n",
    "    sig_d1 = FiniteSet(d1 + 3*v11 +0*v12, d1 + 0*v11 +3*v12,d1 + 1*v11 +2*v12,d1 + 2*v11 +1*v12)\n",
    "    sig_d2 = FiniteSet(d2 + 3*v11 +0*v12, d2 + 0*v11 +3*v12,d2 + 1*v11 +2*v12,d2 + 2*v11 +1*v12)\n",
    "    sig_d3 = FiniteSet(d3 + 3*v11 +0*v12, d3 + 0*v11 +3*v12,d3 + 1*v11 +2*v12,d3 + 2*v11 +1*v12)\n",
    "    sig_d4 = FiniteSet(d4 + 3*v11 +0*v12, d4 + 0*v11 +3*v12,d4 + 1*v11 +2*v12,d4 + 2*v11 +1*v12)\n",
    "\n",
    "    intersection1234=sig_d1.intersection(sig_d2).intersection(sig_d3).intersection(sig_d4)\n",
    "    \n",
    "#     print(\"The intersection of 4 A_i is: \",intersection1234,\"\\n\")\n",
    "\n",
    "    intersection123=sig_d1.intersection(sig_d2).intersection(sig_d3)\n",
    "    intersection124=sig_d1.intersection(sig_d2).intersection(sig_d4)\n",
    "    intersection134=sig_d1.intersection(sig_d3).intersection(sig_d4)\n",
    "    intersection234=sig_d2.intersection(sig_d3).intersection(sig_d4)\n",
    "\n",
    "    intersection12=sig_d1.intersection(sig_d2)\n",
    "    intersection13=sig_d1.intersection(sig_d3)\n",
    "    intersection14=sig_d1.intersection(sig_d4)\n",
    "\n",
    "    intersection23=sig_d2.intersection(sig_d3)\n",
    "    intersection24=sig_d2.intersection(sig_d4)\n",
    "    intersection34=sig_d3.intersection(sig_d4)\n",
    "\n",
    "    print(f\"intersection of 4 A_i terms: {len(intersection1234)}\")\n",
    "\n",
    "    print(f\"Combinations of intersection of 3 A_i terms: Labeled (A123,A124,A134,A234): {len(intersection123),len(intersection124),len(intersection134),len(intersection234)}\")\n",
    "\n",
    "    print(f\"Combinations of intersection of 2 A_i terms: Labeled (A12,A13,A14,A23,A24,A34):{len(intersection12),len(intersection13),len(intersection14),len(intersection23),len(intersection24),len(intersection34)}\")\n",
    "    \n",
    "    return"
   ]
  },
  {
   "cell_type": "code",
   "execution_count": 42,
   "metadata": {
    "hidden": true
   },
   "outputs": [
    {
     "name": "stdout",
     "output_type": "stream",
     "text": [
      "Assignment:\n",
      "Matrix([[0], [0]]) \n",
      "\n",
      "Matrix([[0], [0]]) \n",
      "\n",
      "Matrix([[0], [0]]) \n",
      "\n",
      "Matrix([[0], [0]]) \n",
      "\n",
      "intersection of 4 A_i terms: 4\n",
      "Combinations of intersection of 3 A_i terms: Labeled (A123,A124,A134,A234): (4, 4, 4, 4)\n",
      "Combinations of intersection of 2 A_i terms: Labeled (A12,A13,A14,A23,A24,A34):(4, 4, 4, 4, 4, 4)\n"
     ]
    }
   ],
   "source": [
    "ass1=[Matrix([[0], [0]]),Matrix([[0], [0]]),Matrix([[0], [0]]),Matrix([[0], [0]])]\n",
    "check_sizes(ass1)"
   ]
  },
  {
   "cell_type": "markdown",
   "metadata": {
    "hidden": true
   },
   "source": [
    "Compared to $I_4$ where we had:\n",
    "\n",
    "Assignment:\n",
    "[0, 0, 0, 0] \n",
    "\n",
    "[0, 0, 0, 0] \n",
    "\n",
    "[0, 0, 0, 0] \n",
    "\n",
    "[0, 0, 0, 0] \n",
    "\n",
    "intersection of 4 A_i terms: 0\n",
    "\n",
    "Combinations of intersection of 3 A_i terms: Labeled (A123,A124,A134,A234): (0, 0, 0, 0)\n",
    "\n",
    "Combinations of intersection of 2 A_i terms: Labeled (A12,A13,A14,A23,A24,A34):(1, 0, 1, 1, 0, 1)"
   ]
  }
 ],
 "metadata": {
  "hide_input": false,
  "kernelspec": {
   "display_name": "Python 3",
   "language": "python",
   "name": "python3"
  },
  "language_info": {
   "codemirror_mode": {
    "name": "ipython",
    "version": 3
   },
   "file_extension": ".py",
   "mimetype": "text/x-python",
   "name": "python",
   "nbconvert_exporter": "python",
   "pygments_lexer": "ipython3",
   "version": "3.7.7"
  },
  "latex_envs": {
   "LaTeX_envs_menu_present": true,
   "autoclose": false,
   "autocomplete": true,
   "bibliofile": "biblio.bib",
   "cite_by": "apalike",
   "current_citInitial": 1,
   "eqLabelWithNumbers": true,
   "eqNumInitial": 1,
   "hotkeys": {
    "equation": "Ctrl-E",
    "itemize": "Ctrl-I"
   },
   "labels_anchors": false,
   "latex_user_defs": false,
   "report_style_numbering": false,
   "user_envs_cfg": false
  },
  "toc": {
   "base_numbering": 1,
   "nav_menu": {},
   "number_sections": true,
   "sideBar": true,
   "skip_h1_title": false,
   "title_cell": "Table of Contents",
   "title_sidebar": "Contents",
   "toc_cell": false,
   "toc_position": {},
   "toc_section_display": true,
   "toc_window_display": false
  }
 },
 "nbformat": 4,
 "nbformat_minor": 4
}
