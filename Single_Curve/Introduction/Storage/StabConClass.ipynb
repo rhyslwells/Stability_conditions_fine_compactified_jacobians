{
 "cells": [
  {
   "cell_type": "code",
   "execution_count": null,
   "metadata": {},
   "outputs": [],
   "source": [
    "# G = DiGraph([(1, 2), (2, 3), (3, 4), (4, 2)])\n",
    "# list(G.connected_subgraph_iterator())"
   ]
  },
  {
   "cell_type": "code",
   "execution_count": 19,
   "metadata": {},
   "outputs": [
    {
     "data": {
      "text/plain": [
       "[Subgraph of (): Digraph on 3 vertices]"
      ]
     },
     "execution_count": 19,
     "metadata": {},
     "output_type": "execute_result"
    }
   ],
   "source": [
    "G = DiGraph([(1, 2), (2, 1),(1,3),(2,3)])\n",
    "V=G.vertices()\n",
    "\n",
    "X=list(G.connected_subgraph_iterator())\n",
    "graphswant=[] \n",
    "for x in X:\n",
    "    if x.vertices()==V:\n",
    "        graphswant.append(x)\n",
    "    \n",
    "graphswant\n"
   ]
  },
  {
   "cell_type": "code",
   "execution_count": 10,
   "metadata": {},
   "outputs": [],
   "source": [
    "graphs_i_want=[]\n",
    "E=Set(G.edges())\n",
    "V=G.vertices()\n",
    "for s in E.subsets():\n",
    "    H=Graph()\n",
    "    H.add_edges( s )\n",
    "    #If you are interested only in spanning subgraphs you have to include this line\n",
    "    H.add_vertices( V )\n",
    "    if H.vertices()==V:\n",
    "        graphs_i_want.append((H,)"
   ]
  },
  {
   "cell_type": "code",
   "execution_count": 11,
   "metadata": {},
   "outputs": [
    {
     "data": {
      "text/plain": [
       "[Graph on 2 vertices,\n",
       " Graph on 2 vertices,\n",
       " Graph on 2 vertices,\n",
       " Graph on 2 vertices]"
      ]
     },
     "execution_count": 11,
     "metadata": {},
     "output_type": "execute_result"
    }
   ],
   "source": [
    "graphs_i_want"
   ]
  },
  {
   "cell_type": "markdown",
   "metadata": {},
   "source": [
    "# Chip add"
   ]
  },
  {
   "cell_type": "code",
   "execution_count": null,
   "metadata": {},
   "outputs": [],
   "source": [
    "# edge deletion and check that still spanning subgraphs."
   ]
  }
 ],
 "metadata": {
  "kernelspec": {
   "display_name": "SageMath 9.2",
   "language": "sage",
   "name": "sagemath"
  },
  "language_info": {
   "codemirror_mode": {
    "name": "ipython",
    "version": 3
   },
   "file_extension": ".py",
   "mimetype": "text/x-python",
   "name": "python",
   "nbconvert_exporter": "python",
   "pygments_lexer": "ipython3",
   "version": "3.7.7"
  }
 },
 "nbformat": 4,
 "nbformat_minor": 5
}
