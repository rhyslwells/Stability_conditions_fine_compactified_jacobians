{
 "cells": [
  {
   "cell_type": "markdown",
   "metadata": {},
   "source": [
    "Given a graph and assignments. We construct the $w-$stability condition in particular the set of line bundle multidegrees, after the chip-adding process."
   ]
  },
  {
   "cell_type": "markdown",
   "metadata": {
    "jp-MarkdownHeadingCollapsed": true,
    "tags": []
   },
   "source": [
    "# Functions"
   ]
  },
  {
   "cell_type": "code",
   "execution_count": 229,
   "metadata": {
    "jupyter": {
     "source_hidden": true
    }
   },
   "outputs": [],
   "source": [
    "import numpy as np\n",
    "import networkx as nx\n",
    "from collections import Counter\n",
    "#See paper for Gi graphs."
   ]
  },
  {
   "cell_type": "code",
   "execution_count": 2,
   "metadata": {
    "jupyter": {
     "source_hidden": true
    }
   },
   "outputs": [],
   "source": [
    "def get_sp_trees(G): #Out: list of edges in spanning tree\n",
    "    all_trees=[]\n",
    "    for g in list(G.spanning_trees()):\n",
    "        all_trees.append(g.edges(sort=True, labels=False))\n",
    "    return all_trees"
   ]
  },
  {
   "cell_type": "code",
   "execution_count": 3,
   "metadata": {
    "jupyter": {
     "source_hidden": true
    }
   },
   "outputs": [],
   "source": [
    "def list_difference(a, b):\n",
    "    \"https://stackoverflow.com/questions/8106227/difference-between-two-lists-with-duplicates-in-python\"\n",
    "    count = Counter(a) # count items in a\n",
    "    count.subtract(b)  # subtract items that are in b\n",
    "    diff = []\n",
    "    for x in a:\n",
    "        if count[x] > 0:\n",
    "           count[x] -= 1\n",
    "           diff.append(x)\n",
    "    return diff"
   ]
  },
  {
   "cell_type": "code",
   "execution_count": 10,
   "metadata": {
    "jupyter": {
     "source_hidden": true
    }
   },
   "outputs": [],
   "source": [
    "def chip_adding(graph,tree,ass):\n",
    "    \"\"\"\n",
    "    Inputs:\n",
    "    graph,\n",
    "    tree : spanning tree of graph\n",
    "    ass : an n=vert(graph) tuple on the spanning tree.\n",
    "    \n",
    "    recursion idea: https://stackoverflow.com/questions/53638816/python-library-function-to-re-apply-a-function-to-its-own-output-until-output-re\n",
    "    \"\"\"\n",
    "    \n",
    "    edges=graph # just want the edges \n",
    "    n=len(ass)\n",
    "    complement=list_difference(graph,tree)\n",
    "    \n",
    "    def rec_funct(edge_l,inputs,n):\n",
    "        data=[]\n",
    "        edge=edge_l[0]\n",
    "        \n",
    "        for b in inputs:\n",
    "            delta_1=np.zeros(n)\n",
    "            delta_2=np.zeros(n)\n",
    "            \n",
    "            delta_1[int(edge[0])-1]=1 #we chip add at the first vertex.\n",
    "            delta_2[int(edge[1])-1]=1 #we chip add at the second vertex.\n",
    "            \n",
    "            b1=b+delta_1\n",
    "            b2=b+delta_2\n",
    "            data=data+[b1,b2]\n",
    "        \n",
    "        return (edge_l,data,n)\n",
    "    \n",
    "    def recursion(edge_l,inputs,n):\n",
    "        \n",
    "        new_data=rec_funct(edge_l,inputs,n)\n",
    "        edge_l=edge_l[1:] #removeing first edge        \n",
    "        new_data=(edge_l,new_data[1],new_data[2])\n",
    "                \n",
    "        if len(edge_l)==0:\n",
    "            new_inputs=new_data[1]\n",
    "            return new_inputs\n",
    "        else:\n",
    "            return recursion(*new_data)\n",
    "        \n",
    "    breaks=recursion(complement,[np.zeros(n)],n)\n",
    "    breaks=np.unique(breaks, axis=0)\n",
    "    \n",
    "    patch=[]\n",
    "    for bbreak in breaks:\n",
    "        patch.append(ass+bbreak)\n",
    "    \n",
    "    return patch"
   ]
  },
  {
   "cell_type": "code",
   "execution_count": 259,
   "metadata": {
    "jupyter": {
     "source_hidden": true
    }
   },
   "outputs": [],
   "source": [
    "def check_size(G,sigma):\n",
    "    if len(sigma)==len(get_sp_trees(G)):\n",
    "        x=\"This choice of assignments -- gives -- a stability condition.\"\n",
    "    else: \n",
    "        x=\"This choice of assignments -- not give -- a stability condition.\"\n",
    "    return x"
   ]
  },
  {
   "cell_type": "markdown",
   "metadata": {},
   "source": [
    "## W-stability condition"
   ]
  },
  {
   "cell_type": "code",
   "execution_count": 312,
   "metadata": {
    "jupyter": {
     "source_hidden": true
    }
   },
   "outputs": [],
   "source": [
    "def w_stability(graph,Assignments):\n",
    "    \n",
    "    \"\"\"\n",
    "    Inputs:\n",
    "        graph: Any smallish finite multigraph\n",
    "        Assignments: A list of (complexity of graph many) lists of length vert(graph).\n",
    "    \n",
    "    Outputs: a list of lists of length vert(graph) corresponding to liine bundle multidegrees obtained by chip adding.\n",
    "\n",
    "    \"\"\"\n",
    "    G=graph\n",
    "    \n",
    "    G_edges=G.edges(sort=True, labels=False)\n",
    "    tree_l=get_sp_trees(G)\n",
    "\n",
    "    lbm_patches=[] # the set of patches,which we'll take the union of. \n",
    "    for index,tree in enumerate(tree_l):    \n",
    "        ass=Assignments[index]    \n",
    "        patch=chip_adding(G_edges,tree,ass)  \n",
    "        \n",
    "        # print(\"Patch\",[x.astype(int).tolist() for x in patch],\"\\n\") #If want to see patches of lbm.\n",
    "        \n",
    "        \n",
    "        lbm_patches.append(patch)\n",
    "    \n",
    "    sig=np.concatenate(lbm_patches, axis=0)\n",
    "    \n",
    "    sig=sig.astype('int32')\n",
    "    \n",
    "#     print(np.array(sig))\n",
    "    \n",
    "    \n",
    "    sig=np.unique(sig, axis=0)\n",
    "\n",
    "    return sig"
   ]
  },
  {
   "cell_type": "markdown",
   "metadata": {
    "jp-MarkdownHeadingCollapsed": true,
    "tags": []
   },
   "source": [
    "# Example graphs"
   ]
  },
  {
   "cell_type": "markdown",
   "metadata": {},
   "source": [
    "Here we give examples of stability conditions for given graphs and assignments.\n",
    "The main issue is finding assignments that produce stability conditions. "
   ]
  },
  {
   "cell_type": "markdown",
   "metadata": {
    "jp-MarkdownHeadingCollapsed": true,
    "tags": []
   },
   "source": [
    "## I3"
   ]
  },
  {
   "cell_type": "code",
   "execution_count": 260,
   "metadata": {
    "jupyter": {
     "source_hidden": true
    }
   },
   "outputs": [
    {
     "name": "stdout",
     "output_type": "stream",
     "text": [
      "This choice of assignments -- gives -- a stability condition.\n"
     ]
    }
   ],
   "source": [
    "Assignments=[[0,0,0],[0,0,0],[0,0,0]]\n",
    "G=Graph([(\"1\",\"2\"),(\"2\",\"3\"),(\"1\",\"3\")], multiedges=True)\n",
    "sigma=w_stability(G,Assignments)\n",
    "\n",
    "print(check_size(G,sigma))"
   ]
  },
  {
   "cell_type": "code",
   "execution_count": 261,
   "metadata": {
    "jupyter": {
     "source_hidden": true
    }
   },
   "outputs": [
    {
     "name": "stdout",
     "output_type": "stream",
     "text": [
      "This choice of assignments -- gives -- a stability condition.\n"
     ]
    }
   ],
   "source": [
    "Assignments=[[0,0,0],[0,1,-1],[1,0,-1]]\n",
    "G=Graph([(\"1\",\"2\"),(\"2\",\"3\"),(\"1\",\"3\")], multiedges=True)\n",
    "sigma=w_stability(G,Assignments)\n",
    "\n",
    "print(check_size(G,sigma))"
   ]
  },
  {
   "cell_type": "code",
   "execution_count": 262,
   "metadata": {
    "jupyter": {
     "source_hidden": true
    }
   },
   "outputs": [
    {
     "name": "stdout",
     "output_type": "stream",
     "text": [
      "This choice of assignments -- not give -- a stability condition.\n"
     ]
    }
   ],
   "source": [
    "Assignments=[[0,0,0],[0,1,-1],[1,-1,0]]\n",
    "G=Graph([(\"1\",\"2\"),(\"2\",\"3\"),(\"1\",\"3\")], multiedges=True)\n",
    "sigma=w_stability(G,Assignments)\n",
    "\n",
    "print(check_size(G,sigma))"
   ]
  },
  {
   "cell_type": "markdown",
   "metadata": {
    "jp-MarkdownHeadingCollapsed": true,
    "tags": []
   },
   "source": [
    "## I3 with multiple edges"
   ]
  },
  {
   "cell_type": "code",
   "execution_count": 272,
   "metadata": {
    "jupyter": {
     "source_hidden": true
    }
   },
   "outputs": [
    {
     "name": "stdout",
     "output_type": "stream",
     "text": [
      "Its necessary to have 7  assignments\n",
      "This choice of assignments -- gives -- a stability condition.\n",
      "[('1', '3'), ('2', '3')]\n",
      "[('1', '3'), ('2', '3')]\n",
      "[('1', '3'), ('2', '3')]\n",
      "[('1', '2'), ('2', '3')]\n",
      "[('1', '2'), ('1', '3')]\n",
      "[('1', '2'), ('1', '3')]\n",
      "[('1', '2'), ('1', '3')]\n"
     ]
    }
   ],
   "source": [
    "# I3 with multiple edges\n",
    "\n",
    "Assignments=[[0,0,0],[0,0,0],[0,0,0],[0,1,-1],[1,0,-1],[1,0,-1],[1,0,-1]]\n",
    "G=Graph([(\"1\",\"2\"),(\"2\",\"3\"),(\"1\",\"3\"),(\"1\",\"3\"),(\"1\",\"3\")], multiedges=True)\n",
    "print(\"Its necessary to have\",len(get_sp_trees(G)),\" assignments\")\n",
    "sigma=w_stability(G,Assignments)\n",
    "print(check_size(G,sigma))\n",
    "\n",
    "for i in get_sp_trees(G):\n",
    "    print(i)"
   ]
  },
  {
   "cell_type": "markdown",
   "metadata": {
    "jp-MarkdownHeadingCollapsed": true,
    "tags": []
   },
   "source": [
    "## Double dollar 2"
   ]
  },
  {
   "cell_type": "code",
   "execution_count": 274,
   "metadata": {
    "jupyter": {
     "source_hidden": true
    }
   },
   "outputs": [
    {
     "name": "stdout",
     "output_type": "stream",
     "text": [
      "[[0 1 1]\n",
      " [0 2 0]\n",
      " [1 0 1]\n",
      " [1 1 0]]\n",
      "This choice of assignments -- gives -- a stability condition.\n"
     ]
    }
   ],
   "source": [
    "Assignments=[[0,0,0],[0,0,0],[0,0,0],[0,0,0]]\n",
    "G=Graph([(\"1\",\"2\"),(\"1\",\"2\"),(\"2\",\"3\"),(\"2\",\"3\")], multiedges=True)\n",
    "# print(\"Its necessary to have\",len(get_sp_trees(G)),\" assignments\")\n",
    "sigma=w_stability(G,Assignments)\n",
    "# print(sigma)\n",
    "\n",
    "print(check_size(G,sigma))"
   ]
  },
  {
   "cell_type": "markdown",
   "metadata": {
    "jp-MarkdownHeadingCollapsed": true,
    "tags": []
   },
   "source": [
    "## Separating edge examples"
   ]
  },
  {
   "cell_type": "code",
   "execution_count": 315,
   "metadata": {
    "jupyter": {
     "source_hidden": true
    }
   },
   "outputs": [
    {
     "name": "stdout",
     "output_type": "stream",
     "text": [
      "Patch [[0, 1, -1, 2], [0, 1, 0, 1], [1, 0, -1, 2], [1, 0, 0, 1]] \n",
      "\n",
      "Patch [[0, 1, -1, 2], [0, 1, 0, 1], [1, 0, -1, 2], [1, 0, 0, 1]] \n",
      "\n",
      "Patch [[0, 1, -1, 2], [0, 1, 0, 1], [1, 0, -1, 2], [1, 0, 0, 1]] \n",
      "\n",
      "Patch [[0, 1, -1, 2], [0, 1, 0, 1], [1, 0, -1, 2], [1, 0, 0, 1]] \n",
      "\n",
      "[[ 0  1 -1  2]\n",
      " [ 0  1  0  1]\n",
      " [ 1  0 -1  2]\n",
      " [ 1  0  0  1]]\n",
      "This choice of assignments -- gives -- a stability condition.\n"
     ]
    }
   ],
   "source": [
    "# two dollar 2 graph connected by a separating edge.\n",
    "\n",
    "Assignments=[[0,0,-1,1],[0,0,-1,1],[0,0,-1,1],[0,0,-1,1]]\n",
    "G=Graph([(\"1\",\"2\"),(\"1\",\"2\"),(\"2\",\"3\"),(\"3\",\"4\"),(\"3\",\"4\")], multiedges=True)\n",
    "# print(\"Its necessary to have\",len(get_sp_trees(G)),\" assignments\")\n",
    "\n",
    "sigma=w_stability(G,Assignments)\n",
    "print(sigma)\n",
    "print(check_size(G,sigma))"
   ]
  },
  {
   "cell_type": "markdown",
   "metadata": {
    "jp-MarkdownHeadingCollapsed": true,
    "tags": []
   },
   "source": [
    "## Separating vertex examples"
   ]
  },
  {
   "cell_type": "code",
   "execution_count": 283,
   "metadata": {
    "jupyter": {
     "source_hidden": true
    }
   },
   "outputs": [
    {
     "name": "stdout",
     "output_type": "stream",
     "text": [
      "Its necessary to have 6  assignments\n",
      "This choice of assignments -- gives -- a stability condition.\n"
     ]
    }
   ],
   "source": [
    "# I3 and dollar 2 graph (v3,v4) joined at vertex 3\n",
    "# [0,0] assignments on Dollar graph\n",
    "\n",
    "Assignments=[[0,0,0,0],[0,0,0,0],[0,1,-1,0],[0,1,-1,0],[1,0,-1,0],[1,0,-1,0]]\n",
    "G=Graph([(\"1\",\"2\"),(\"2\",\"3\"),(\"1\",\"3\"),(\"3\",\"4\"),(\"3\",\"4\")], multiedges=True)\n",
    "print(\"Its necessary to have\",len(get_sp_trees(G)),\" assignments\")\n",
    "\n",
    "sigma=w_stability(G,Assignments)\n",
    "# print(sigma)\n",
    "print(check_size(G,sigma))"
   ]
  },
  {
   "cell_type": "code",
   "execution_count": 282,
   "metadata": {
    "jupyter": {
     "source_hidden": true
    }
   },
   "outputs": [
    {
     "name": "stdout",
     "output_type": "stream",
     "text": [
      "Its necessary to have 6  assignments\n",
      "This choice of assignments -- gives -- a stability condition.\n"
     ]
    }
   ],
   "source": [
    "# I3 and dollar 2 graph (v3,v4) joined at vertex 3\n",
    "# [-1,1] assignments on Dollar graph\n",
    "\n",
    "Assignments=[[0,0,-1,1],[0,0,-1,1],[0,1,-2,1],[0,1,-2,1],[1,0,-2,1],[1,0,-2,1]]\n",
    "G=Graph([(\"1\",\"2\"),(\"2\",\"3\"),(\"1\",\"3\"),(\"3\",\"4\"),(\"3\",\"4\")], multiedges=True)\n",
    "print(\"Its necessary to have\",len(get_sp_trees(G)),\" assignments\")\n",
    "\n",
    "sigma=w_stability(G,Assignments)\n",
    "# print(sigma)\n",
    "print(check_size(G,sigma))"
   ]
  },
  {
   "cell_type": "markdown",
   "metadata": {
    "tags": []
   },
   "source": [
    "# Visualising stability conditions"
   ]
  },
  {
   "cell_type": "markdown",
   "metadata": {},
   "source": [
    "Here we consider the dollar 2 graph and I3 graphs,$\\Gamma$. And visualise the intersection of \"patches\", $\\sigma_{\\Gamma}(\\Gamma;T_i)$ that constitute $\\sigma_{\\Gamma}(\\Gamma)$."
   ]
  },
  {
   "cell_type": "markdown",
   "metadata": {
    "tags": []
   },
   "source": [
    "## Functions 2D"
   ]
  },
  {
   "cell_type": "code",
   "execution_count": 4,
   "metadata": {
    "tags": []
   },
   "outputs": [],
   "source": [
    "# from sympy import *\n",
    "from IPython.display import Image\n",
    "%matplotlib inline\n",
    "import matplotlib.pyplot as plt\n",
    "plt.style.use('seaborn-whitegrid')\n",
    "import numpy as np\n",
    "# init_printing()"
   ]
  },
  {
   "cell_type": "code",
   "execution_count": 6,
   "metadata": {
    "tags": []
   },
   "outputs": [],
   "source": [
    "def plt_ass(ass):\n",
    "    lass=[list(s) for s in ass]\n",
    "    plt.scatter(*zip(*lass), facecolor='red')\n",
    "    return"
   ]
  },
  {
   "cell_type": "code",
   "execution_count": 7,
   "metadata": {
    "tags": []
   },
   "outputs": [],
   "source": [
    "def plt_sig(sig):\n",
    "    lsig=[list(s) for s in sig]\n",
    "    plt.scatter(*zip(*lsig), facecolor='green')\n",
    "    return"
   ]
  },
  {
   "cell_type": "markdown",
   "metadata": {},
   "source": [
    "## Dollar graph 2"
   ]
  },
  {
   "cell_type": "code",
   "execution_count": 8,
   "metadata": {
    "tags": []
   },
   "outputs": [
    {
     "data": {
      "image/png": "[encoded data removed]",
      "text/plain": [
       "<Figure size 432x288 with 1 Axes>"
      ]
     },
     "metadata": {},
     "output_type": "display_data"
    }
   ],
   "source": [
    "Assignments=[[0,0],[4,-4]] #Bad assignments\n",
    "# G=Graph([(\"1\",\"2\"),(\"1\",\"2\")], multiedges=True)\n",
    "# sigma=w_stability(G,Assignments)\n",
    "sigma=[[0, 1],[1,0],[4,-3],[5,-4]] #For plots better\n",
    "\n",
    "plt_sig(sigma)\n",
    "plt_ass(Assignments)\n",
    "\n",
    "plt.xlim([-1, 6])\n",
    "plt.ylim([-5, 2])\n",
    "         \n",
    "plt.show()"
   ]
  },
  {
   "cell_type": "markdown",
   "metadata": {},
   "source": [
    "### Varying assignments"
   ]
  },
  {
   "cell_type": "code",
   "execution_count": 9,
   "metadata": {
    "tags": []
   },
   "outputs": [
    {
     "data": {
      "image/png": "[encoded data removed]",
      "text/plain": [
       "<Figure size 432x288 with 1 Axes>"
      ]
     },
     "metadata": {},
     "output_type": "display_data"
    },
    {
     "data": {
      "image/png": "[encoded data removed]",
      "text/plain": [
       "<Figure size 432x288 with 1 Axes>"
      ]
     },
     "metadata": {},
     "output_type": "display_data"
    },
    {
     "data": {
      "image/png": "[encoded data removed]",
      "text/plain": [
       "<Figure size 432x288 with 1 Axes>"
      ]
     },
     "metadata": {},
     "output_type": "display_data"
    }
   ],
   "source": [
    "#Put 3 next to each other to show overlaps minamailty\n",
    "\n",
    "k=4 # Vary k in integers.\n",
    "Assignments_3=[[0,0],[k,-k]] #Good assignments\n",
    "# sigma_3=w_stability(G,Assignments_3)\n",
    "sigma_3=[[0, 1], [1, 0], [4, -3], [5, -4]]\n",
    "\n",
    "plt_sig(sigma_3)\n",
    "plt_ass(Assignments_3)\n",
    "plt.title('Stability Condition: Disjoint Patches')\n",
    "plt.xlim([-1, 6])\n",
    "plt.ylim([-5, 2])\n",
    "\n",
    "plt.show()\n",
    "\n",
    "#=================================\n",
    "k=1 # Vary k in integers.\n",
    "Assignments_2=[[0,0],[k,-k]] #Good assignments\n",
    "# sigma_2=w_stability(G,Assignments_2)\n",
    "sigma_2=[[0, 1], [1, 0], [2, -1]] #print(sigma_2.tolist())\n",
    "\n",
    "plt_sig(sigma_2)\n",
    "plt_ass(Assignments_2)\n",
    "plt.title('Stability Condition: Partial Overlap of Patches')\n",
    "plt.xlim([-1, 6])\n",
    "plt.ylim([-5, 2])\n",
    "plt.show()\n",
    "\n",
    "#=================================\n",
    "k=0 # Vary k in integers.\n",
    "Assignments_1=[[0,0],[k,-k]] #Good assignments\n",
    "# sigma_1=w_stability(G,Assignments_1)\n",
    "sigma_1=[[0, 1], [1, 0]]\n",
    "\n",
    "plt_sig(sigma_1)\n",
    "plt_ass(Assignments_1)\n",
    "plt.title('Stability Condition: Full Overlap of Patches')\n",
    "plt.xlim([-1, 6])\n",
    "plt.ylim([-5, 2])\n",
    "plt.show()"
   ]
  },
  {
   "cell_type": "markdown",
   "metadata": {
    "tags": []
   },
   "source": [
    "## Function 3D"
   ]
  },
  {
   "cell_type": "code",
   "execution_count": 279,
   "metadata": {
    "tags": []
   },
   "outputs": [],
   "source": [
    "def plot_data3d(assignments,sigma):\n",
    "\n",
    "    #Dataset\n",
    "    a_data=assignments # Set of assignments\n",
    "    s_data=list(tuple(x) for x in sigma) #sigma data\n",
    "\n",
    "    #Figure\n",
    "    fig=plt.figure()\n",
    "    fig = fig.gca(projection='3d')\n",
    "    \n",
    "    #Plotting\n",
    "    fig.scatter(*zip(*a_data),c=\"red\",marker='o') #assignemnts data\n",
    "    fig.scatter(*zip(*s_data),c=\"green\",marker=m) #sigma data\n",
    "\n",
    "    #Axis\n",
    "    plt.title('Stability Condition')\n",
    "    fig.set_xlabel('X-axis')\n",
    "    fig.set_ylabel('Y-axis')\n",
    "    fig.set_zlabel('Z-axis')\n",
    "\n",
    "    #Showing\n",
    "    plt.show()"
   ]
  },
  {
   "cell_type": "markdown",
   "metadata": {},
   "source": [
    "## $I_3$"
   ]
  },
  {
   "cell_type": "code",
   "execution_count": 1,
   "metadata": {
    "tags": []
   },
   "outputs": [
    {
     "ename": "NameError",
     "evalue": "name 'Graph' is not defined",
     "output_type": "error",
     "traceback": [
      "\u001b[1;31m---------------------------------------------------------------------------\u001b[0m",
      "\u001b[1;31mNameError\u001b[0m                                 Traceback (most recent call last)",
      "\u001b[1;32m~\\AppData\\Local\\Temp\\ipykernel_77740\\2532140860.py\u001b[0m in \u001b[0;36m<module>\u001b[1;34m\u001b[0m\n\u001b[0;32m      1\u001b[0m \u001b[0mAssignments\u001b[0m\u001b[1;33m=\u001b[0m\u001b[1;33m[\u001b[0m\u001b[1;33m[\u001b[0m\u001b[1;36m0\u001b[0m\u001b[1;33m,\u001b[0m\u001b[1;36m0\u001b[0m\u001b[1;33m,\u001b[0m\u001b[1;36m0\u001b[0m\u001b[1;33m]\u001b[0m\u001b[1;33m,\u001b[0m\u001b[1;33m[\u001b[0m\u001b[1;36m0\u001b[0m\u001b[1;33m,\u001b[0m\u001b[1;36m1\u001b[0m\u001b[1;33m,\u001b[0m\u001b[1;33m-\u001b[0m\u001b[1;36m1\u001b[0m\u001b[1;33m]\u001b[0m\u001b[1;33m,\u001b[0m\u001b[1;33m[\u001b[0m\u001b[1;36m1\u001b[0m\u001b[1;33m,\u001b[0m\u001b[1;36m0\u001b[0m\u001b[1;33m,\u001b[0m\u001b[1;33m-\u001b[0m\u001b[1;36m1\u001b[0m\u001b[1;33m]\u001b[0m\u001b[1;33m]\u001b[0m \u001b[1;31m#good assignments non-trivial\u001b[0m\u001b[1;33m\u001b[0m\u001b[1;33m\u001b[0m\u001b[0m\n\u001b[1;32m----> 2\u001b[1;33m \u001b[0mG\u001b[0m\u001b[1;33m=\u001b[0m\u001b[0mGraph\u001b[0m\u001b[1;33m(\u001b[0m\u001b[1;33m[\u001b[0m\u001b[1;33m(\u001b[0m\u001b[1;34m\"1\"\u001b[0m\u001b[1;33m,\u001b[0m\u001b[1;34m\"2\"\u001b[0m\u001b[1;33m)\u001b[0m\u001b[1;33m,\u001b[0m\u001b[1;33m(\u001b[0m\u001b[1;34m\"1\"\u001b[0m\u001b[1;33m,\u001b[0m\u001b[1;34m\"3\"\u001b[0m\u001b[1;33m)\u001b[0m\u001b[1;33m,\u001b[0m\u001b[1;33m(\u001b[0m\u001b[1;34m\"2\"\u001b[0m\u001b[1;33m,\u001b[0m\u001b[1;34m\"3\"\u001b[0m\u001b[1;33m)\u001b[0m\u001b[1;33m]\u001b[0m\u001b[1;33m,\u001b[0m \u001b[0mmultiedges\u001b[0m\u001b[1;33m=\u001b[0m\u001b[1;32mTrue\u001b[0m\u001b[1;33m)\u001b[0m\u001b[1;33m\u001b[0m\u001b[1;33m\u001b[0m\u001b[0m\n\u001b[0m\u001b[0;32m      3\u001b[0m \u001b[0msigma\u001b[0m\u001b[1;33m=\u001b[0m\u001b[0mw_stability\u001b[0m\u001b[1;33m(\u001b[0m\u001b[0mG\u001b[0m\u001b[1;33m,\u001b[0m\u001b[0mAssignments\u001b[0m\u001b[1;33m)\u001b[0m\u001b[1;33m\u001b[0m\u001b[1;33m\u001b[0m\u001b[0m\n\u001b[0;32m      4\u001b[0m \u001b[0mplot_data3d\u001b[0m\u001b[1;33m(\u001b[0m\u001b[0mAssignments\u001b[0m\u001b[1;33m,\u001b[0m\u001b[0msigma\u001b[0m\u001b[1;33m)\u001b[0m\u001b[1;33m\u001b[0m\u001b[1;33m\u001b[0m\u001b[0m\n",
      "\u001b[1;31mNameError\u001b[0m: name 'Graph' is not defined"
     ]
    }
   ],
   "source": [
    "Assignments=[[0,0,0],[0,1,-1],[1,0,-1]] #good assignments non-trivial\n",
    "G=Graph([(\"1\",\"2\"),(\"1\",\"3\"),(\"2\",\"3\")], multiedges=True)\n",
    "sigma=w_stability(G,Assignments)\n",
    "plot_data3d(Assignments,sigma)"
   ]
  },
  {
   "cell_type": "markdown",
   "metadata": {},
   "source": [
    "### Varying assignments"
   ]
  },
  {
   "cell_type": "code",
   "execution_count": 2,
   "metadata": {
    "tags": []
   },
   "outputs": [
    {
     "ename": "NameError",
     "evalue": "name 'w_stability' is not defined",
     "output_type": "error",
     "traceback": [
      "\u001b[1;31m---------------------------------------------------------------------------\u001b[0m",
      "\u001b[1;31mNameError\u001b[0m                                 Traceback (most recent call last)",
      "\u001b[1;32m~\\AppData\\Local\\Temp\\ipykernel_77740\\512148221.py\u001b[0m in \u001b[0;36m<module>\u001b[1;34m\u001b[0m\n\u001b[0;32m      4\u001b[0m \u001b[0mk\u001b[0m\u001b[1;33m=\u001b[0m\u001b[1;33m-\u001b[0m\u001b[1;36m5\u001b[0m\u001b[1;33m\u001b[0m\u001b[1;33m\u001b[0m\u001b[0m\n\u001b[0;32m      5\u001b[0m \u001b[0mAssignments_4\u001b[0m\u001b[1;33m=\u001b[0m\u001b[1;33m[\u001b[0m\u001b[1;33m[\u001b[0m\u001b[1;33m-\u001b[0m\u001b[0mk\u001b[0m\u001b[1;33m,\u001b[0m\u001b[1;36m0\u001b[0m\u001b[1;33m,\u001b[0m\u001b[0mk\u001b[0m\u001b[1;33m]\u001b[0m\u001b[1;33m,\u001b[0m\u001b[1;33m[\u001b[0m\u001b[1;36m0\u001b[0m\u001b[1;33m,\u001b[0m\u001b[0mk\u001b[0m\u001b[1;33m+\u001b[0m\u001b[1;36m1\u001b[0m\u001b[1;33m,\u001b[0m\u001b[1;33m-\u001b[0m\u001b[1;36m1\u001b[0m\u001b[1;33m-\u001b[0m\u001b[0mk\u001b[0m\u001b[1;33m]\u001b[0m\u001b[1;33m,\u001b[0m\u001b[1;33m[\u001b[0m\u001b[1;36m1\u001b[0m\u001b[1;33m,\u001b[0m\u001b[1;36m0\u001b[0m\u001b[1;33m,\u001b[0m\u001b[1;33m-\u001b[0m\u001b[1;36m1\u001b[0m\u001b[1;33m]\u001b[0m\u001b[1;33m]\u001b[0m \u001b[1;31m#Bad assignments\u001b[0m\u001b[1;33m\u001b[0m\u001b[1;33m\u001b[0m\u001b[0m\n\u001b[1;32m----> 6\u001b[1;33m \u001b[0msigma_4\u001b[0m\u001b[1;33m=\u001b[0m\u001b[0mw_stability\u001b[0m\u001b[1;33m(\u001b[0m\u001b[0mG\u001b[0m\u001b[1;33m,\u001b[0m\u001b[0mAssignments_4\u001b[0m\u001b[1;33m)\u001b[0m\u001b[1;33m\u001b[0m\u001b[1;33m\u001b[0m\u001b[0m\n\u001b[0m\u001b[0;32m      7\u001b[0m \u001b[0mplot_data3d\u001b[0m\u001b[1;33m(\u001b[0m\u001b[0mAssignments_4\u001b[0m\u001b[1;33m,\u001b[0m\u001b[0msigma_4\u001b[0m\u001b[1;33m)\u001b[0m\u001b[1;33m\u001b[0m\u001b[1;33m\u001b[0m\u001b[0m\n\u001b[0;32m      8\u001b[0m \u001b[1;33m\u001b[0m\u001b[0m\n",
      "\u001b[1;31mNameError\u001b[0m: name 'w_stability' is not defined"
     ]
    }
   ],
   "source": [
    "#Put 4 next to each other to show overlaps minamailty\n",
    "# Varying assignments to see overlap\n",
    "\n",
    "k=-5\n",
    "Assignments_4=[[-k,0,k],[0,k+1,-1-k],[1,0,-1]] #Bad assignments\n",
    "sigma_4=w_stability(G,Assignments_4)\n",
    "plot_data3d(Assignments_4,sigma_4)\n",
    "\n",
    "k=-2\n",
    "Assignments_3=[[-k,0,k],[0,k+1,-1-k],[1,0,-1]] #Bad assignments\n",
    "sigma_3=w_stability(G,Assignments_3)\n",
    "plot_data3d(Assignments_3,sigma_3)\n",
    "\n",
    "k=-1\n",
    "Assignments_2=[[-k,0,k],[0,k+1,-1-k],[1,0,-1]] #Bad assignments\n",
    "sigma_2=w_stability(G,Assignments_2)\n",
    "plot_data3d(Assignments_2,sigma_2)\n",
    "\n",
    "k=0\n",
    "Assignments_1=[[-k,0,k],[0,k+1,-1-k],[1,0,-1]] #Bad assignments\n",
    "sigma_1=w_stability(G,Assignments_1)\n",
    "plot_data3d(Assignments_1,sigma_1)"
   ]
  },
  {
   "cell_type": "code",
   "execution_count": null,
   "metadata": {},
   "outputs": [],
   "source": []
  }
 ],
 "metadata": {
  "kernelspec": {
   "display_name": "Python 3 (ipykernel)",
   "language": "python",
   "name": "python3"
  },
  "language_info": {
   "codemirror_mode": {
    "name": "ipython",
    "version": 3
   },
   "file_extension": ".py",
   "mimetype": "text/x-python",
   "name": "python",
   "nbconvert_exporter": "python",
   "pygments_lexer": "ipython3",
   "version": "3.8.12"
  }
 },
 "nbformat": 4,
 "nbformat_minor": 4
}
