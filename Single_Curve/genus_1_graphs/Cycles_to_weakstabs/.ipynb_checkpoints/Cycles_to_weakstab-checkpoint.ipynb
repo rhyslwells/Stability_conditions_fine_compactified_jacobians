{
 "cells": [
  {
   "cell_type": "markdown",
   "id": "6fa5f5e8",
   "metadata": {},
   "source": [
    "# Cycles"
   ]
  },
  {
   "cell_type": "markdown",
   "id": "7b8e2400",
   "metadata": {},
   "source": [
    "Given a n cycle want a set of assignemnts, for $I_n$.\n",
    "\n",
    "Here we use $\\theta$ to get assignments.\n",
    "\n",
    "The orientation of the cycle will be baked into its implementation here."
   ]
  },
  {
   "cell_type": "code",
   "execution_count": null,
   "id": "7b4d928c",
   "metadata": {},
   "outputs": [],
   "source": [
    "from itertools import combinations,permutations\n",
    "import numpy as np"
   ]
  },
  {
   "cell_type": "code",
   "execution_count": null,
   "id": "ccb4a456",
   "metadata": {
    "code_folding": [
     0
    ]
   },
   "outputs": [],
   "source": [
    "def get_cycles(n):\n",
    "    lst=list(range(1,n+1))\n",
    "    x=permutations(lst,n)\n",
    "    y=[i for i in x if i[0]==1]\n",
    "    \n",
    "        #Does:\n",
    "    # x=permutations([1,2,3,4,5],5)\n",
    "    # y=[i for i in x if i[0]==1]\n",
    "    # # print(len(y))\n",
    "    # for i in y:\n",
    "    #     print(i)\n",
    "             \n",
    "    return y "
   ]
  },
  {
   "cell_type": "code",
   "execution_count": null,
   "id": "a0d3f08d",
   "metadata": {
    "code_folding": [
     1
    ]
   },
   "outputs": [],
   "source": [
    "#Main to get assingments from cycle\n",
    "def cycle_to_assignments(cycle):\n",
    "    \n",
    "    n=len(cycle)\n",
    "    \n",
    "        # cycle=(1,3,4,2)\n",
    "    ass_0= np.zeros(n)\n",
    "\n",
    "    M=[(1,ass_0)] # Memory\n",
    "\n",
    "    for i in range(1,len(cycle)):\n",
    "\n",
    "        current_tree_edge=cycle[i]\n",
    "        tup=M[-1]#pick last item of M\n",
    "\n",
    "        vtail=tail(n,current_tree_edge)\n",
    "        vhead=head(n,tup[0]) \n",
    "        prev_ass=tup[1]\n",
    "\n",
    "        current_ass_t= prev_ass+vtail+vhead\n",
    "        M.append((current_tree_edge,current_ass_t))\n",
    "\n",
    "    # for i in M:\n",
    "    #     print(i)\n",
    "    \n",
    "    return M"
   ]
  },
  {
   "cell_type": "code",
   "execution_count": null,
   "id": "e84aaed6",
   "metadata": {
    "code_folding": [
     0,
     16,
     29
    ]
   },
   "outputs": [],
   "source": [
    "def head(n,prev_tree_edge):\n",
    "    \"\"\"\n",
    "    n= number of vertices in I_n\n",
    "    previous element of the cycle, ie tree_edge is j where e_j ={v_j,v_{j+1}} \n",
    "    \n",
    "    #Also used in chip adding on necklace curve\n",
    "    \"\"\"\n",
    "    head=np.zeros(n)\n",
    "  \n",
    "    if prev_tree_edge==n:\n",
    "        head[0]=1 \n",
    "    else:\n",
    "        head[prev_tree_edge]=1\n",
    "    \n",
    "    return head\n",
    "\n",
    "def tail(n,current_tree_edge):\n",
    "    \"\"\"\n",
    "    n= number of vertices in I_n\n",
    "    tree_edge is j where e_j ={v_j,v_{j+1}}\n",
    "    i is previous element of the cycle, ie tree_edge\n",
    "    \"\"\"\n",
    "    tail=np.zeros(n)\n",
    "    # if current_tree_edge==n:\n",
    "    #     tail[0]=-1 \n",
    "    tail[current_tree_edge-1]=-1\n",
    "        \n",
    "    return tail\n",
    "\n",
    "def tail_plus(n,current_tree_edge): #for chip adding\n",
    "    \"\"\"\n",
    "    n= number of vertices in I_n\n",
    "    tree_edge is j where e_j ={v_j,v_{j+1}}\n",
    "    i is previous element of the cycle, ie tree_edge\n",
    "    \"\"\"\n",
    "    tail=np.zeros(n)\n",
    "    # if current_tree_edge==n:\n",
    "    #     tail[0]=-1 \n",
    "    tail[current_tree_edge-1]=1\n",
    "        \n",
    "    return tail"
   ]
  },
  {
   "cell_type": "markdown",
   "id": "5bd0bedb",
   "metadata": {},
   "source": [
    "## Example to produce $\\sigma_{I_n}$\n"
   ]
  },
  {
   "cell_type": "code",
   "execution_count": null,
   "id": "1f2dcb5b",
   "metadata": {},
   "outputs": [],
   "source": [
    "cycle=(1,4,2,3)\n",
    "M=cycle_to_assignments(cycle)\n",
    "n=len(cycle)\n",
    "print(M)"
   ]
  },
  {
   "cell_type": "code",
   "execution_count": null,
   "id": "75629ed9",
   "metadata": {},
   "outputs": [],
   "source": [
    "#Check weak_I_n are of the correct size:\n",
    "\n",
    "#Get break div for trees\n",
    "\n",
    "lbm=[]\n",
    "\n",
    "for data in M: \n",
    "    index=data[0]\n",
    "    ass=data[1]\n",
    "    vhead=head(n,index)\n",
    "    vtail=tail_plus(n,index)\n",
    "\n",
    "    lbm.append(ass+vhead)\n",
    "    lbm.append(ass+vtail)\n",
    "\n",
    "#check size:\n",
    "\n",
    "lbm=np.unique(lbm,axis=0)\n",
    "print(len(lbm))"
   ]
  }
 ],
 "metadata": {
  "hide_input": false,
  "kernelspec": {
   "display_name": "Python 3 (ipykernel)",
   "language": "python",
   "name": "python3"
  },
  "language_info": {
   "codemirror_mode": {
    "name": "ipython",
    "version": 3
   },
   "file_extension": ".py",
   "mimetype": "text/x-python",
   "name": "python",
   "nbconvert_exporter": "python",
   "pygments_lexer": "ipython3",
   "version": "3.8.12"
  },
  "latex_envs": {
   "LaTeX_envs_menu_present": true,
   "autoclose": false,
   "autocomplete": true,
   "bibliofile": "biblio.bib",
   "cite_by": "apalike",
   "current_citInitial": 1,
   "eqLabelWithNumbers": true,
   "eqNumInitial": 1,
   "hotkeys": {
    "equation": "Ctrl-E",
    "itemize": "Ctrl-I"
   },
   "labels_anchors": false,
   "latex_user_defs": false,
   "report_style_numbering": false,
   "user_envs_cfg": false
  },
  "toc": {
   "base_numbering": 1,
   "nav_menu": {},
   "number_sections": true,
   "sideBar": true,
   "skip_h1_title": false,
   "title_cell": "Table of Contents",
   "title_sidebar": "Contents",
   "toc_cell": false,
   "toc_position": {},
   "toc_section_display": true,
   "toc_window_display": false
  }
 },
 "nbformat": 4,
 "nbformat_minor": 5
}
