{
 "cells": [
  {
   "cell_type": "markdown",
   "id": "ec4e928d-9963-4345-b437-e2011684e48b",
   "metadata": {},
   "source": [
    "# Objective"
   ]
  },
  {
   "cell_type": "markdown",
   "id": "1cea3f30-53a7-4a98-9656-9957cba0b9ad",
   "metadata": {},
   "source": [
    "Use pandas to construct a dataframe and analyse data."
   ]
  },
  {
   "cell_type": "markdown",
   "id": "46d40388-d2a9-4160-9eae-912a84a66682",
   "metadata": {},
   "source": [
    "# Graphs"
   ]
  },
  {
   "cell_type": "code",
   "execution_count": 39,
   "id": "3c8d108d-1b1b-4e63-8ef9-2a8ebf01c056",
   "metadata": {},
   "outputs": [],
   "source": [
    "graphname=\"G3\"\n",
    "compiler(graphname)"
   ]
  },
  {
   "cell_type": "code",
   "execution_count": 39,
   "id": "69eb8f79-6c0b-4140-a90d-d52466de131d",
   "metadata": {},
   "outputs": [],
   "source": [
    "graphname=\"G4\"\n",
    "compiler(graphname)"
   ]
  },
  {
   "cell_type": "code",
   "execution_count": 39,
   "id": "d2f7f382-4279-408e-affc-e83180595f23",
   "metadata": {},
   "outputs": [],
   "source": [
    "graphname=\"G5\"\n",
    "compiler(graphname)"
   ]
  },
  {
   "cell_type": "code",
   "execution_count": 39,
   "id": "9af3fd77-968d-412b-becb-c58bd4881f58",
   "metadata": {},
   "outputs": [],
   "source": [
    "graphname=\"G6\"\n",
    "compiler(graphname)"
   ]
  },
  {
   "cell_type": "code",
   "execution_count": 39,
   "id": "5b50c967-1333-4ec2-a8ce-a34c94951963",
   "metadata": {},
   "outputs": [],
   "source": [
    "graphname=\"G4M2\"\n",
    "compiler(graphname)\n",
    "\n",
    "graphname=\"G5M2\"\n",
    "compiler(graphname)\n",
    "\n",
    "graphname=\"G6M3\"  \n",
    "compiler(graphname)\n",
    "\n",
    "graphname=\"G6M2\"\n",
    "compiler(graphname)"
   ]
  },
  {
   "cell_type": "code",
   "execution_count": 39,
   "id": "559618e9-9fcf-4246-a7af-576391c8afc0",
   "metadata": {},
   "outputs": [],
   "source": [
    "graphname=\"G5M02M03M14\"\n",
    "compiler(graphname)\n",
    "\n",
    "graphname=\"G5M02M03\"\n",
    "compiler(graphname)\n",
    "\n",
    "graphname=\"G4M02M13\"\n",
    "compiler(graphname)"
   ]
  },
  {
   "cell_type": "code",
   "execution_count": 39,
   "id": "af692d4a-f12b-4ab2-8ee0-9fb30e486d0a",
   "metadata": {},
   "outputs": [],
   "source": [
    "graphname=\"V_222\"\n",
    "compiler(graphname)\n",
    "\n",
    "graphname=\"V_233\"\n",
    "compiler(graphname)\n",
    "\n",
    "graphname=\"V_224\"\n",
    "compiler(graphname)\n",
    "\n",
    "graphname=\"V_223\"\n",
    "compiler(graphname)"
   ]
  },
  {
   "cell_type": "code",
   "execution_count": 39,
   "id": "7c75c90e-7251-47b1-95af-d96a6ea77bd0",
   "metadata": {},
   "outputs": [],
   "source": [
    "graphname=\"K33_breaks\"\n",
    "compiler(graphname)\n",
    "\n",
    "graphname=\"K33\"\n",
    "compiler(graphname)"
   ]
  },
  {
   "cell_type": "markdown",
   "id": "0c4a4e92-82b7-4169-9b3d-3720cf01c02d",
   "metadata": {
    "tags": []
   },
   "source": [
    "# Functions"
   ]
  },
  {
   "cell_type": "code",
   "execution_count": 1,
   "id": "9830f114-4bfe-4d97-a083-042e0a851115",
   "metadata": {},
   "outputs": [],
   "source": [
    "import pandas as pd\n",
    "import pickle"
   ]
  },
  {
   "cell_type": "code",
   "execution_count": 2,
   "id": "b92bac50-1e9b-4c38-a732-d7acf8d57176",
   "metadata": {},
   "outputs": [],
   "source": [
    "def compiler(graphname):\n",
    "    d_list=unpickle_dlist(graphname)\n",
    "    data=get_summary(d_list)\n",
    "    pickle_data_summary_dlist(graphname,data)\n",
    "    return"
   ]
  },
  {
   "cell_type": "code",
   "execution_count": 3,
   "id": "22171f27-7159-40f6-b841-c028521ab208",
   "metadata": {},
   "outputs": [],
   "source": [
    "def pickle_data_summary_dlist(graphname,data):\n",
    "    \"\"\"\n",
    "    Store dictionary list\n",
    "    \"\"\"\n",
    "    # Pickle the list\n",
    "    filename=f\"Done_examples/{graphname}/{graphname}_summary_dlist.pkl\"\n",
    "    with open(filename, 'wb') as f:\n",
    "        pickle.dump(data, f)\n",
    "    return"
   ]
  },
  {
   "cell_type": "code",
   "execution_count": 4,
   "id": "29b33e9b-8fbd-4209-b184-18fca4595c64",
   "metadata": {},
   "outputs": [],
   "source": [
    "def unpickle_dlist(graphname):\n",
    "    # Unpickle the list\n",
    "    filename=f\"Done_examples/{graphname}/{graphname}_dlist.pkl\"\n",
    "    with open(filename, 'rb') as f:\n",
    "        unpickled_list = pickle.load(f)\n",
    "    return unpickled_list"
   ]
  },
  {
   "cell_type": "code",
   "execution_count": 5,
   "id": "a0f09cbf-fc07-4d71-9ef4-ae0c6db4f339",
   "metadata": {},
   "outputs": [],
   "source": [
    "def get_summary(d_list):\n",
    "    # Obj:I want to count the number of rows with the same fixed cycle.\n",
    "    # Output: Get summary tabel store atlist of dictionaries.\n",
    "\n",
    "    df=pd.DataFrame(d_list)\n",
    "\n",
    "    # Group the data by age and count the number of occurrences\n",
    "    grouped = df.groupby('Fixed cycle')[\"List of cycles for subgraphs in order\"].agg(['count'])\n",
    "\n",
    "    # Concatenate the corresponding countries into a comma-separated string\n",
    "    grouped['number'] = grouped.apply(lambda x: ','.join(['\"' + str(i) + '\"' for i in range(x['count'])]), axis=1)\n",
    "\n",
    "    # Select the desired columns and reset the index\n",
    "    result = grouped[['count']].reset_index()\n",
    "    \n",
    "    result = result.to_dict(\"records\")\n",
    "\n",
    "    return result"
   ]
  },
  {
   "cell_type": "code",
   "execution_count": null,
   "id": "a82530f4-2610-47b6-8a13-3af2ced71d98",
   "metadata": {},
   "outputs": [],
   "source": []
  }
 ],
 "metadata": {
  "kernelspec": {
   "display_name": "Python 3 (ipykernel)",
   "language": "python",
   "name": "python3"
  },
  "language_info": {
   "codemirror_mode": {
    "name": "ipython",
    "version": 3
   },
   "file_extension": ".py",
   "mimetype": "text/x-python",
   "name": "python",
   "nbconvert_exporter": "python",
   "pygments_lexer": "ipython3",
   "version": "3.10.8"
  }
 },
 "nbformat": 4,
 "nbformat_minor": 5
}
