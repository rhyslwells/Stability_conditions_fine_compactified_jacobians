{
 "cells": [
  {
   "cell_type": "markdown",
   "metadata": {
    "tags": []
   },
   "source": [
    "# Objective"
   ]
  },
  {
   "cell_type": "markdown",
   "metadata": {},
   "source": [
    "For a specfic cycle on a subg containng a max necklace.\n",
    "What are the other cycles on the remaining subg which contain a max necklace?"
   ]
  },
  {
   "cell_type": "markdown",
   "metadata": {
    "jp-MarkdownHeadingCollapsed": true,
    "tags": []
   },
   "source": [
    "## Example graph "
   ]
  },
  {
   "cell_type": "code",
   "execution_count": 91,
   "metadata": {
    "scrolled": true
   },
   "outputs": [],
   "source": [
    "graphname=\"V_222\"\n",
    "G=Graph([(\"0\",\"1\"),(\"1\",\"2\"),(\"2\",\"3\"),(\"3\",\"0\"),(\"0\",\"4\"),(\"4\",\"2\")], multiedges=True)\n",
    "edge_labels = {(\"0\",\"1\"):\"e1\",(\"1\",\"2\"):\"e2\",(\"2\",\"3\"):\"e3\",(\"3\",\"0\"):\"e4\",(\"0\",\"4\"):\"e5\",(\"4\",\"2\"):\"e6\"}\n",
    "G,data,subg_cycles_l=load_data(G,edge_labels,graphname)\n",
    "\n",
    "#What output will look like.\n",
    "# get_display(G,subg_cycles_l)\n",
    "\n",
    "#Before getting summary\n",
    "analyse_data(graphname,subg_cycles_l,G)\n",
    "#After getting summary\n",
    "analyse_data(graphname,subg_cycles_l,G,flag=True)"
   ]
  },
  {
   "cell_type": "markdown",
   "metadata": {
    "tags": []
   },
   "source": [
    "# Graphs"
   ]
  },
  {
   "cell_type": "markdown",
   "metadata": {
    "tags": []
   },
   "source": [
    "## K1=2,K2,K3"
   ]
  },
  {
   "cell_type": "code",
   "execution_count": 15,
   "metadata": {},
   "outputs": [],
   "source": [
    "# graphname=\"V_222\"\n",
    "# G=Graph([(\"0\",\"1\"),(\"1\",\"2\"),(\"2\",\"3\"),(\"3\",\"0\"),(\"0\",\"4\"),(\"4\",\"2\")], multiedges=True)\n",
    "# edge_labels = {(\"0\",\"1\"):\"e1\",(\"1\",\"2\"):\"e2\",(\"2\",\"3\"):\"e3\",(\"3\",\"0\"):\"e4\",(\"0\",\"4\"):\"e5\",(\"4\",\"2\"):\"e6\"}\n",
    "# G,data,subg_cycles_l=load_data(G,edge_labels,graphname)\n",
    "# # analyse_data(graphname,subg_cycles_l,G)\n",
    "# analyse_data(graphname,subg_cycles_l,G,flag=True)\n",
    "\n",
    "# graphname=\"V_223\"\n",
    "# G=Graph([(\"0\",\"1\"),(\"1\",\"2\"),(\"2\",\"3\"),(\"3\",\"4\"),(\"4\",\"0\"),(\"0\",\"5\"),(\"5\",\"2\")], multiedges=True)\n",
    "# edge_labels = {(\"0\",\"1\"):\"e1\",(\"1\",\"2\"):\"e2\",(\"2\",\"3\"):\"e3\",(\"3\",\"4\"):\"e4\",(\"4\",\"0\"):\"e5\",(\"0\",\"5\"):\"e6\",(\"5\",\"2\"):\"e7\"}\n",
    "# G,data,subg_cycles_l=load_data(G,edge_labels,graphname)\n",
    "# # analyse_data(graphname,subg_cycles_l,G)\n",
    "# analyse_data(graphname,subg_cycles_l,G,flag=True)"
   ]
  },
  {
   "cell_type": "code",
   "execution_count": 24,
   "metadata": {},
   "outputs": [],
   "source": [
    "# graphname=\"V_224\"\n",
    "# G=Graph([(\"0\",\"1\"),(\"1\",\"2\"),(\"2\",\"3\"),(\"3\",\"4\"),(\"4\",\"5\"),(\"5\",\"0\"),(\"0\",\"6\"),(\"6\",\"2\")], multiedges=True)\n",
    "# edge_labels = {(\"0\",\"1\"):\"e1\",(\"1\",\"2\"):\"e2\",(\"2\",\"3\"):\"e3\",(\"3\",\"4\"):\"e4\",(\"4\",\"5\"):\"e5\",(\"5\",\"0\"):\"e6\",(\"0\",\"6\"):\"e7\",(\"6\",\"2\"):\"e8\"}\n",
    "# G,data,subg_cycles_l=load_data(G,edge_labels,graphname)\n",
    "# # analyse_data(graphname,subg_cycles_l,G)\n",
    "# analyse_data(graphname,subg_cycles_l,G,flag=True)"
   ]
  },
  {
   "cell_type": "code",
   "execution_count": 25,
   "metadata": {},
   "outputs": [],
   "source": [
    "# graphname=\"V_233\"\n",
    "# G=Graph([(\"0\",\"1\"),(\"1\",\"2\"),(\"2\",\"3\"),(\"3\",\"4\"),(\"4\",\"5\"),(\"5\",\"0\"),(\"0\",\"6\"),(\"6\",\"3\")], multiedges=True)\n",
    "# edge_labels = {(\"0\",\"1\"):\"e1\",(\"1\",\"2\"):\"e2\",(\"2\",\"3\"):\"e3\",(\"3\",\"4\"):\"e4\",(\"4\",\"5\"):\"e5\",(\"5\",\"0\"):\"e6\",(\"0\",\"6\"):\"e7\",(\"6\",\"3\"):\"e8\"}\n",
    "# G,data,subg_cycles_l=load_data(G,edge_labels,graphname)\n",
    "# # analyse_data(graphname,subg_cycles_l,G)\n",
    "# analyse_data(graphname,subg_cycles_l,G,flag=True)"
   ]
  },
  {
   "cell_type": "markdown",
   "metadata": {
    "jp-MarkdownHeadingCollapsed": true,
    "tags": []
   },
   "source": [
    "## K1=1,K2,K3"
   ]
  },
  {
   "cell_type": "code",
   "execution_count": 13,
   "metadata": {},
   "outputs": [],
   "source": [
    "# graphname=\"G4M2\"\n",
    "# G=Graph([(\"0\",\"1\"),(\"1\",\"2\"),(\"2\",\"3\"),(\"3\",\"0\"),(\"0\",\"2\")], multiedges=True)\n",
    "# edge_labels = {(\"0\",\"1\"):\"e1\",(\"1\",\"2\"):\"e2\",(\"2\",\"3\"):\"e3\",(\"3\",\"0\"):\"e4\",(\"0\",\"2\"):\"e0\"}\n",
    "# G,data,subg_cycles_l=load_data(G,edge_labels,graphname)\n",
    "# # analyse_data(graphname,subg_cycles_l,G)\n",
    "# analyse_data(graphname,subg_cycles_l,G,flag=True)\n",
    "\n",
    "# graphname=\"G5M2\"\n",
    "# G=Graph([(\"0\",\"1\"),(\"1\",\"2\"),(\"2\",\"3\"),(\"3\",\"4\"),(\"4\",\"0\"),(\"0\",\"2\")], multiedges=True)\n",
    "# edge_labels = {(\"0\",\"1\"):\"e1\",(\"1\",\"2\"):\"e2\",(\"2\",\"3\"):\"e3\",(\"3\",\"4\"):\"e4\",(\"4\",\"0\"):\"e5\",(\"0\",\"2\"):\"e0\"}\n",
    "# G,data,subg_cycles_l=load_data(G,edge_labels,graphname)\n",
    "# G,data,subg_cycles_l=load_data(G,edge_labels,graphname)\n",
    "# # analyse_data(graphname,subg_cycles_l,G)\n",
    "# analyse_data(graphname,subg_cycles_l,G,flag=True)\n",
    "\n",
    "# graphname=\"G6M2\"\n",
    "# G=Graph([(\"0\",\"1\"),(\"1\",\"2\"),(\"2\",\"3\"),(\"3\",\"4\"),(\"4\",\"5\"),(\"5\",\"0\"),(\"0\",\"2\")], multiedges=True)\n",
    "# edge_labels = {(\"0\",\"1\"):\"e1\",(\"1\",\"2\"):\"e2\",(\"2\",\"3\"):\"e3\",(\"3\",\"4\"):\"e4\",(\"4\",\"5\"):\"e5\",(\"5\",\"0\"):\"e6\",(\"0\",\"2\"):\"e0\"}\n",
    "# G,data,subg_cycles_l=load_data(G,edge_labels,graphname)\n",
    "# # analyse_data(graphname,subg_cycles_l,G)\n",
    "# analyse_data(graphname,subg_cycles_l,G,flag=True)\n",
    "\n",
    "# graphname=\"G6M3\"  \n",
    "# G=Graph([(\"0\",\"1\"),(\"1\",\"2\"),(\"2\",\"3\"),(\"3\",\"4\"),(\"4\",\"5\"),(\"5\",\"0\"),(\"0\",\"3\")], multiedges=True)\n",
    "# edge_labels = {(\"0\",\"1\"):\"e1\",(\"1\",\"2\"):\"e2\",(\"2\",\"3\"):\"e3\",(\"3\",\"4\"):\"e4\",(\"4\",\"5\"):\"e5\",(\"5\",\"0\"):\"e6\",(\"0\",\"3\"):\"e0\"}\n",
    "# G,data,subg_cycles_l=load_data(G,edge_labels,graphname)\n",
    "# # analyse_data(graphname,subg_cycles_l,G)\n",
    "# analyse_data(graphname,subg_cycles_l,G,flag=True)"
   ]
  },
  {
   "cell_type": "markdown",
   "metadata": {
    "tags": []
   },
   "source": [
    "## Cyclic graphs: genus 1"
   ]
  },
  {
   "cell_type": "code",
   "execution_count": 11,
   "metadata": {},
   "outputs": [],
   "source": [
    "# graphname=\"G3\"\n",
    "# G=Graph([(\"0\",\"1\"),(\"1\",\"2\"),(\"2\",\"0\")], multiedges=True)\n",
    "# edge_labels = {(\"0\",\"1\"):\"e1\",(\"1\",\"2\"):\"e2\",(\"2\",\"0\"):\"e3\"}\n",
    "# G,data,subg_cycles_l=load_data(G,edge_labels,graphname)\n",
    "# # analyse_data(graphname,subg_cycles_l,G)\n",
    "# # analyse_data(graphname,subg_cycles_l,G,flag=True)\n",
    "\n",
    "# graphname=\"G4\"\n",
    "# G=Graph([(\"0\",\"1\"),(\"1\",\"2\"),(\"2\",\"3\"),(\"3\",\"0\")], multiedges=True)\n",
    "# edge_labels = {(\"0\",\"1\"):\"e1\",(\"1\",\"2\"):\"e2\",(\"2\",\"3\"):\"e3\",(\"3\",\"0\"):\"e4\"}\n",
    "# G,data,subg_cycles_l=load_data(G,edge_labels,graphname)\n",
    "# # analyse_data(graphname,subg_cycles_l,G)\n",
    "# analyse_data(graphname,subg_cycles_l,G,flag=True)\n",
    "\n",
    "# graphname=\"G5\"\n",
    "# G=Graph([(\"0\",\"1\"),(\"1\",\"2\"),(\"2\",\"3\"),(\"3\",\"4\"),(\"4\",\"0\")], multiedges=True)\n",
    "# edge_labels = {(\"0\",\"1\"):\"e1\",(\"1\",\"2\"):\"e2\",(\"2\",\"3\"):\"e3\",(\"3\",\"4\"):\"e4\",(\"4\",\"0\"):\"e5\"}\n",
    "# G,data,subg_cycles_l=load_data(G,edge_labels,graphname)\n",
    "# # analyse_data(graphname,subg_cycles_l,G)\n",
    "# analyse_data(graphname,subg_cycles_l,G,flag=True)\n",
    "\n",
    "# graphname=\"G6\"\n",
    "# G=Graph([(\"0\",\"1\"),(\"1\",\"2\"),(\"2\",\"3\"),(\"3\",\"4\"),(\"4\",\"5\"),(\"5\",\"0\")], multiedges=True)\n",
    "# edge_labels = {(\"0\",\"1\"):\"e1\",(\"1\",\"2\"):\"e2\",(\"2\",\"3\"):\"e3\",(\"3\",\"4\"):\"e4\",(\"4\",\"5\"):\"e5\",(\"5\",\"0\"):\"e6\"}\n",
    "# G,data,subg_cycles_l=load_data(G,edge_labels,graphname)\n",
    "# # analyse_data(graphname,subg_cycles_l,G)\n",
    "# analyse_data(graphname,subg_cycles_l,G,flag=True)"
   ]
  },
  {
   "cell_type": "markdown",
   "metadata": {
    "jp-MarkdownHeadingCollapsed": true,
    "tags": []
   },
   "source": [
    "## Higher genus graphs"
   ]
  },
  {
   "cell_type": "code",
   "execution_count": 19,
   "metadata": {},
   "outputs": [],
   "source": [
    "# graphname=\"G4M02M13\"\n",
    "# G=Graph([(\"0\",\"1\"),(\"1\",\"2\"),(\"2\",\"3\"),(\"3\",\"0\"),(\"0\",\"2\"),(\"1\",\"3\")], multiedges=True)\n",
    "# edge_labels = {(\"0\",\"1\"):\"e1\",(\"1\",\"2\"):\"e2\",(\"2\",\"3\"):\"e3\",(\"3\",\"0\"):\"e4\",(\"0\",\"2\"):\"e5\",(\"1\",\"3\"):\"e6\"}\n",
    "# G,data,subg_cycles_l=load_data(G,edge_labels,graphname)\n",
    "# # analyse_data(graphname,subg_cycles_l,G)\n",
    "# analyse_data(graphname,subg_cycles_l,G,flag=True)"
   ]
  },
  {
   "cell_type": "code",
   "execution_count": 20,
   "metadata": {},
   "outputs": [],
   "source": [
    "# graphname=\"G5M02M03\"\n",
    "# G=Graph([(\"0\",\"1\"),(\"1\",\"2\"),(\"2\",\"3\"),(\"3\",\"4\"),(\"4\",\"0\"),(\"0\",\"2\"),(\"0\",\"3\")], multiedges=True)\n",
    "# edge_labels = {(\"0\",\"1\"):\"e1\",(\"1\",\"2\"):\"e2\",(\"2\",\"3\"):\"e3\",(\"3\",\"4\"):\"e4\",(\"4\",\"0\"):\"e5\",(\"0\",\"2\"):\"e6\",(\"0\",\"3\"):\"e7\"}\n",
    "# G,data,subg_cycles_l=load_data(G,edge_labels,graphname)\n",
    "# # analyse_data(graphname,subg_cycles_l,G)\n",
    "# analyse_data(graphname,subg_cycles_l,G,flag=True)"
   ]
  },
  {
   "cell_type": "code",
   "execution_count": 21,
   "metadata": {},
   "outputs": [],
   "source": [
    "# graphname=\"G5M02M03M14\"\n",
    "# G=Graph([(\"0\",\"1\"),(\"1\",\"2\"),(\"2\",\"3\"),(\"3\",\"4\"),(\"4\",\"0\"),(\"0\",\"2\"),(\"0\",\"3\"),(\"1\",\"4\")], multiedges=True)\n",
    "# edge_labels = {(\"0\",\"1\"):\"e1\",(\"1\",\"2\"):\"e2\",(\"2\",\"3\"):\"e3\",(\"3\",\"4\"):\"e4\",(\"4\",\"0\"):\"e5\",(\"0\",\"2\"):\"e6\",(\"0\",\"3\"):\"e7\",(\"1\",\"4\"):\"e8\"}\n",
    "# G,data,subg_cycles_l=load_data(G,edge_labels,graphname)\n",
    "# # analyse_data(graphname,subg_cycles_l,G)\n",
    "# analyse_data(graphname,subg_cycles_l,G,flag=True)"
   ]
  },
  {
   "cell_type": "markdown",
   "metadata": {
    "jp-MarkdownHeadingCollapsed": true,
    "tags": []
   },
   "source": [
    "## K33"
   ]
  },
  {
   "cell_type": "code",
   "execution_count": null,
   "metadata": {},
   "outputs": [],
   "source": [
    "# graphname=\"K33\"\n",
    "# G=Graph([(\"0\", \"3\"), (\"0\", \"4\"), (\"0\", \"5\"), (\"1\", \"3\"), (\"1\", \"4\"), (\"1\", \"5\"), (\"2\", \"3\"), (\"2\", \"4\"), (\"2\", \"5\")], multiedges=True)\n",
    "\n",
    "# graphname=\"K33_breaks\"\n",
    "# G=Graph([(\"0\", \"3\"), (\"0\", \"4\"), (\"0\", \"5\"), (\"1\", \"3\"), (\"1\", \"4\"), (\"1\", \"5\"), (\"2\", \"3\"), (\"2\", \"4\"), (\"2\", \"5\")], multiedges=True)"
   ]
  },
  {
   "cell_type": "markdown",
   "metadata": {
    "jp-MarkdownHeadingCollapsed": true,
    "tags": [],
    "toc-hr-collapsed": true
   },
   "source": [
    "# Functions"
   ]
  },
  {
   "cell_type": "code",
   "execution_count": 1,
   "metadata": {},
   "outputs": [],
   "source": [
    "import numpy as np\n",
    "import networkx as nx\n",
    "from collections import Counter\n",
    "import itertools \n",
    "import random\n",
    "from itertools import combinations, permutations\n",
    "import sys\n",
    "import pickle\n",
    "from tabulate import tabulate"
   ]
  },
  {
   "cell_type": "markdown",
   "metadata": {
    "jp-MarkdownHeadingCollapsed": true,
    "tags": []
   },
   "source": [
    "## Load in data"
   ]
  },
  {
   "cell_type": "code",
   "execution_count": 2,
   "metadata": {},
   "outputs": [],
   "source": [
    "def unpickle(graphname):\n",
    "    # Unpickle the list\n",
    "    filename=f\"Done_examples/{graphname}/{graphname}.pkl\"\n",
    "    with open(filename, 'rb') as f:\n",
    "        unpickled_list = pickle.load(f)\n",
    "    return unpickled_list\n",
    "\n",
    "def apply_edge_labels(G,edge_labels):# for load_data\n",
    "    \"\"\"How to label edges of G\"\"\"\n",
    "    # Define the graph G\n",
    "    # Define the edge labels\n",
    "    # # Set the edge labels\n",
    "    for i in edge_labels.items():\n",
    "        tup=i[0]+(i[1],)\n",
    "        G.set_edge_label(*tup)\n",
    "    return G\n",
    "\n",
    "def load_data(G,edge_labels,graphname):\n",
    "    \n",
    "    G=apply_edge_labels(G,edge_labels)\n",
    "    data=unpickle(graphname)\n",
    "    subg_cycles_l=[d[3] for d in data] #elements are list of(subg,cycle,translator_tree) for each wsc.\n",
    "    subg_cycles_l=[[(tup[0],tup[1]) for tup in packet] for packet in subg_cycles_l] # we remove the translator_tree\n",
    "    \n",
    "    return G,data,subg_cycles_l"
   ]
  },
  {
   "cell_type": "markdown",
   "metadata": {
    "tags": []
   },
   "source": [
    "## Building total dataframe list of dictionaries for each stability condition."
   ]
  },
  {
   "cell_type": "code",
   "execution_count": 3,
   "metadata": {},
   "outputs": [],
   "source": [
    "def rotate_forward_to_standarised(cycle):#for df_subg_cycles_single_wsc\n",
    "    \"\"\"\n",
    "    Given a cycle we wish to rotate it so the first term is the minimal term of the cycle.\n",
    "    \n",
    "    ie take (4,2,6,9) -> (9,4,2,6) -> (6,9,4,2) -> (2,6,9,4)\n",
    "    \n",
    "    result=(2,6,9,4)\n",
    "    \"\"\"\n",
    "    min_index = cycle.index(min(cycle))\n",
    "    return cycle[min_index:] + cycle[:min_index]\n",
    "\n",
    "def group_subgcyclepair_by_necklace(necklaces,wsc_subg_cycles_l,flag=False):\n",
    "    \n",
    "    \"\"\"\n",
    "    Obj:## Group subg_cycles_l by necklace they contain.\n",
    "    Returns: A list of lists of (subg,cycle) for a given necklace: for all necklaces\n",
    "    Use flag to return data if True with triples and necklace size\n",
    "    \"\"\"\n",
    "\n",
    "    group_subgcyclepair=[] \n",
    "    for necklace in necklaces:\n",
    "        subgcycle_pairs_necklace=[] #pairs for a given necklace\n",
    "        for pair in wsc_subg_cycles_l:\n",
    "            subg=pair[0]\n",
    "\n",
    "            [necklace_edges]=subg.cycle_basis(output='edge') #return cycle of subgnecklace\n",
    "            subg_necklace=Graph(necklace_edges).copy(immutable=True)\n",
    "            if subg_necklace==necklace:\n",
    "                triple=pair+(len(necklace.vertices()),)\n",
    "                subgcycle_pairs_necklace.append(triple) #we record the size of the necklaces so we can order\n",
    "                \n",
    "        group_subgcyclepair.append(subgcycle_pairs_necklace)\n",
    "    \n",
    "    # We sort groups based on length of necklace contained.\n",
    "#     print(group_subgcyclepair) #--#\n",
    "    group_subgcyclepair = sorted(group_subgcyclepair, key=lambda x: x[0][2], reverse=True)\n",
    "    \n",
    "    if flag==True:\n",
    "        #With necklace size in triple\n",
    "        return group_subgcyclepair\n",
    "    \n",
    "    #We remove the length of necklace from triple to pair, we used to sort.\n",
    "    data=group_subgcyclepair\n",
    "    new_data = []\n",
    "    for sublist in data:\n",
    "        packet=[]\n",
    "        for triple in sublist:\n",
    "            pair=(triple[0],triple[1])\n",
    "            packet.append(pair)\n",
    "        new_data.append(packet)\n",
    "    return new_data\n",
    "\n",
    "def get_maxlen_group_subgcycle(necklaces,subg_cycles_l): #for df_subg_cycles_single_wsc\n",
    "    \n",
    "    \"\"\"\n",
    "    Obj: get those subg,cycle pairs which contian a max necklace.\n",
    "     1- Identify which subg have maximal necklaces.\n",
    "    Returns: A list of groups with (subg,cycle) such that subg contains max length necklace.\n",
    "    \"\"\"\n",
    "    \n",
    "    group_subgcyclepair=group_subgcyclepair_by_necklace(necklaces,subg_cycles_l,True)\n",
    "\n",
    "    # In group_subgcyclepair_by_necklace i have recorded the length of the necklace.\n",
    "    num=set([])\n",
    "    for sublist in group_subgcyclepair:\n",
    "        num.add(sublist[0][2]) #take first element of grouped and then take length of necklace [2]\n",
    "\n",
    "    ## take max in num: Length of max necklace\n",
    "    m=max(num)\n",
    "\n",
    "    group_subgcyclepair_max_necklace=[]\n",
    "    for sublist in group_subgcyclepair:\n",
    "        if sublist[0][2]==m:\n",
    "            group_subgcyclepair_max_necklace.append(sublist)\n",
    "\n",
    "#     print(\"Are cycles for maximal necklaces are always the same?\")\n",
    "#     print(group_subgcyclepair_max_necklace)\n",
    "    \n",
    "    return group_subgcyclepair_max_necklace\n",
    "\n",
    "def get_necklaces_of_G(wsc_subg_cycles_l):\n",
    "    \n",
    "    \"\"\"\n",
    "    Obj: Run through subg and ask cycle basis.\n",
    "    Returns: a list of all unique necklaces of G\n",
    "    \"\"\"\n",
    "\n",
    "    necklaces=[]\n",
    "    for pair in wsc_subg_cycles_l:\n",
    "        subg=pair[0]\n",
    "        [necklace_edges]=subg.cycle_basis(output='edge') #return cycle of subgnecklace\n",
    "        necklace=Graph(necklace_edges).copy(immutable=True)\n",
    "        necklaces.append(necklace)\n",
    "    necklaces=list(set(necklaces))\n",
    "    return necklaces\n",
    "\n",
    "def get_flat_max_subgcycle_l(wsc_subg_cycles_l): #for df_subg_cycles_specific_wsc\n",
    "    \"\"\"\n",
    "\n",
    "    We get the list of all pairs (subg,cycle) which contain maximal necklaces for a given stabiltiy condition\n",
    "    \"\"\"\n",
    "    \n",
    "    #necklaces subgraphs of G\n",
    "    necklaces=get_necklaces_of_G(wsc_subg_cycles_l)\n",
    "\n",
    "    #Get the list of lists containing (subg,cycle) where the subg contain a maximal necklace (there may be more than 1).\n",
    "    max_subgcycle_l=get_maxlen_group_subgcycle(necklaces,wsc_subg_cycles_l)\n",
    "    \n",
    "    #plot the subg with maximals:\n",
    "    \n",
    "    \n",
    "#     for sublist in max_subgcycle_l:\n",
    "#         print(sublist)\n",
    "#         ll=[pair[0] for pair in sublist]\n",
    "#         graphs_list.show_graphs(ll,vertex_size=200,figsize=100,vertex_labels=True,vertex_color='orange')\n",
    "# \n",
    "    flat_max_subgcycle_l = [item for sublist in max_subgcycle_l for item in sublist]\n",
    "\n",
    "    return flat_max_subgcycle_l\n",
    "\n",
    "def df_subg_cycles_specific_wsc(index,wsc_subg_cycles_l):\n",
    "\n",
    "    \"\"\"\n",
    "    Objective: For some graphname, we analyse the cycles on subg for a given wsc for\n",
    "    subg that contain a maximal necklace.Want to produce a given row of dataframe i.e a dictionary.\n",
    "    \n",
    "    Inputs:\n",
    "    \n",
    "    Returns: a dictionary which we will put together.\"\"\"\n",
    "    \n",
    "    flat_max_subgcycle_l=get_flat_max_subgcycle_l(wsc_subg_cycles_l)\n",
    "    \n",
    "    # First take flat_max_subgcycle_l and put cycles into a standarised format.\n",
    "    flat_max_subgcycle_l=[(pair[0],rotate_forward_to_standarised(pair[1])) for pair in flat_max_subgcycle_l]\n",
    "    \n",
    "    cycles_in_order=[pair[1] for pair in flat_max_subgcycle_l]\n",
    "\n",
    "    # Take flat_max_subgcycle_l and build a dictionary\n",
    "    dic={\"Stability condition number\":index,\"Fixed cycle\":cycles_in_order[0],\"List of cycles for subgraphs in order\":cycles_in_order}\n",
    "    return dic\n",
    "\n",
    "#Main\n",
    "def df_subg_cycles_all(subg_cycles_l):\n",
    "    \"\"\"\n",
    "    Objective: For some graphname for all wsc, we analyse the cycles on subg, for\n",
    "    subg that contain a maximal necklace. We produce a list of dictionaries. \n",
    "    Which we will put into a data frame in analysis_cycles_2\n",
    "    \n",
    "    Inputs:\n",
    "    \n",
    "    Returns: a list of dictioaries of df_subg_cycles_specific_wsc.\n",
    "    \n",
    "    \"\"\"\n",
    "    all_dics=[]\n",
    "    #Runs over all wsc.\n",
    "    for index,wsc_subg_cycles_l in enumerate(subg_cycles_l):\n",
    "        dic=df_subg_cycles_specific_wsc(index,wsc_subg_cycles_l)\n",
    "        all_dics.append(dic)\n",
    "    return all_dics"
   ]
  },
  {
   "cell_type": "markdown",
   "metadata": {
    "jp-MarkdownHeadingCollapsed": true,
    "tags": []
   },
   "source": [
    "## Getting Summary list"
   ]
  },
  {
   "cell_type": "code",
   "execution_count": 4,
   "metadata": {},
   "outputs": [],
   "source": [
    "def pickle_data_dlist(graphname,data):\n",
    "    \"\"\"\n",
    "    Store dictionary list\n",
    "    \"\"\"\n",
    "    # Pickle the list\n",
    "    filename=f\"Done_examples/{graphname}/{graphname}_dlist.pkl\"\n",
    "    with open(filename, 'wb') as f:\n",
    "        pickle.dump(data, f)\n",
    "    return"
   ]
  },
  {
   "cell_type": "code",
   "execution_count": 5,
   "metadata": {},
   "outputs": [],
   "source": [
    "def unpickle_summary_dlist(graphname):\n",
    "    # Unpickle the list\n",
    "    filename=f\"Done_examples/{graphname}/{graphname}_summary_dlist.pkl\"\n",
    "    with open(filename, 'rb') as f:\n",
    "        unpickled_list = pickle.load(f)\n",
    "    return unpickled_list"
   ]
  },
  {
   "cell_type": "markdown",
   "metadata": {
    "tags": []
   },
   "source": [
    "## Presenting data in txt file graphname_cycle_analysis.txt"
   ]
  },
  {
   "cell_type": "code",
   "execution_count": 6,
   "metadata": {},
   "outputs": [],
   "source": [
    "def display_data(G,flat_max_subgcycle_l,flag=False):\n",
    "    \"\"\"\n",
    "    Plots the graphG, and subg which contain maximal neckalce\n",
    "    \"\"\"    \n",
    "    print(\"Consider the collection of all stability conditions for G.\\n\")  \n",
    "    \n",
    "    subg_l_max_necklace=[pair[0] for pair in flat_max_subgcycle_l]\n",
    "\n",
    "    l=[G]+subg_l_max_necklace\n",
    "    if flag==False:\n",
    "        print(\"The graph G, followed by subgraphs with maximal necklace.\")\n",
    "        graphs_list.show_graphs(l,vertex_size=200,figsize=100,vertex_labels=True,vertex_color='orange')\n",
    "        \n",
    "    if flag==True:\n",
    "        print(\"Graph G:\")\n",
    "        print(G.edges(),\"\\n\")\n",
    "        \n",
    "        print(\"Subgraphs with maximal necklace:\")\n",
    "        for index,sub in enumerate(subg_l_max_necklace):\n",
    "            print(f\"{index+1}. {sub.edges()}\")\n",
    "    print(\"\\n\")\n",
    "    \n",
    "    print(\"We study the extensions of a fixed a cycle on the first subgraph (1.).\")\n",
    "    \n",
    "    print(\"The order of cycles will correspond to the order of subgraphs given above.\")\n",
    "    print(\"\\n\")\n",
    "    \n",
    "    return\n",
    "\n",
    "def get_display(G,subg_cycles_l,flag=False):\n",
    "    \n",
    "    #The subgraphs are all ordered the same for each wsc. So taking the first is enough to\n",
    "    #Plot the subg with max necklaces.\n",
    "    \n",
    "    index=0\n",
    "    wsc_subg_cycles_l=subg_cycles_l[index]\n",
    "    flat_max_subgcycle_l=get_flat_max_subgcycle_l(wsc_subg_cycles_l)\n",
    "\n",
    "    #To give and example: And for output file.\n",
    "    if flag==False:\n",
    "        display_data(G,flat_max_subgcycle_l,flag=False)\n",
    "    if flag==True:\n",
    "        display_data(G,flat_max_subgcycle_l,flag=True)\n",
    "    return\n",
    "\n",
    "#Storing files \n",
    "def output_to_file(G,subg_cycles_l,summary,d_list):# for store_data in text files\n",
    "    \"\"\"\n",
    "    Inputs:\n",
    "    all_data: is d_list obtained by df_subg_cycles_all\n",
    "    summary: Obtiained by analysis_cycle_2\n",
    "    \n",
    "    Return to text file:\n",
    "    - add list of subgraphs under trees.\n",
    "    - record list of cycles for subg, after lbm. \n",
    "    \"\"\"\n",
    "    #Outline:\n",
    "    get_display(G,subg_cycles_l,True)\n",
    "\n",
    "    #Tabulate summary.\n",
    "    print(\"Here is a summary of the cycles on the fixed subgraph \\n\")\n",
    "    print(tabulate(summary, headers=\"keys\"))\n",
    "    print(\"\\n\")\n",
    "    \n",
    "    # tabulate all data:\n",
    "    print(\"Here is the data of all stabilty conditions, of cycles on the fixed subgraph \\n\")\n",
    "    print(tabulate(d_list, headers=\"keys\"))\n",
    "    \n",
    "    return\n",
    "\n",
    "def store_data(G,subg_cycles_l,summary,d_list,graphname=\"test\"):\n",
    "    name=f\"Done_examples/{graphname}/{graphname}_cycle_analysis.txt\"\n",
    "    with open(name, \"w\") as f:\n",
    "        sys.stdout = f\n",
    "\n",
    "        output_to_file(G,subg_cycles_l,summary,d_list)\n",
    "\n",
    "        sys.stdout = sys.__stdout__\n",
    "    return"
   ]
  },
  {
   "cell_type": "markdown",
   "metadata": {},
   "source": [
    "## Everythin complied into one function"
   ]
  },
  {
   "cell_type": "code",
   "execution_count": 7,
   "metadata": {},
   "outputs": [],
   "source": [
    "def analyse_data(graphname,subg_cycles_l,G,flag=False):\n",
    "    \n",
    "    #Calculate cycles on subg with max necklaces for all stabilties.\n",
    "    d_list=df_subg_cycles_all(subg_cycles_l)\n",
    "\n",
    "    #We need to store d_list so we can unload it to analysis_cycles_2 to use pandas and obtain summary.\n",
    "    pickle_data_dlist(graphname,d_list)\n",
    "\n",
    "    if flag==True:\n",
    "        #Now go to analyse_cycles_2 and create summary_dlist.pkl\n",
    "\n",
    "        #load in summary_dlist.pkl\n",
    "        summary=unpickle_summary_dlist(graphname)\n",
    "\n",
    "        store_data(G,subg_cycles_l,summary,d_list,graphname)\n",
    "    return"
   ]
  },
  {
   "cell_type": "markdown",
   "metadata": {
    "jp-MarkdownHeadingCollapsed": true,
    "tags": []
   },
   "source": [
    "## Leftovers"
   ]
  },
  {
   "cell_type": "code",
   "execution_count": null,
   "metadata": {},
   "outputs": [],
   "source": [
    "# #Specific example all working:\n",
    "\n",
    "# index=1\n",
    "# wsc_subg_cycles_l=subg_cycles_l[index]\n",
    "# flat_max_subgcycle_l=get_flat_max_subgcycle_l(wsc_subg_cycles_l)\n",
    "\n",
    "# #To give and example: And for output file.\n",
    "# display_data(G,flat_max_subgcycle_l)\n",
    "\n",
    "# # First take flat_max_subgcycle_l and put cycles into a standarised format.\n",
    "# flat_max_subgcycle_l=[(pair[0],rotate_forward_to_standarised(pair[1])) for pair in flat_max_subgcycle_l]\n",
    "# # flat_max_subgcycle_l\n",
    "# cycles_in_order=[pair[1] for pair in flat_max_subgcycle_l]\n",
    "# cycles_in_order\n",
    "\n",
    "# # Take flat_max_subgcycle_l and build a dictionary\n",
    "\n",
    "# dic={\"Stability condition number\":index,\"Fixed cycle\":cycles_in_order[0],\"List of cycles for subgraphs in order\":cycles_in_order}\n",
    "# dic"
   ]
  }
 ],
 "metadata": {
  "kernelspec": {
   "display_name": "SageMath 9.2",
   "language": "sage",
   "name": "sagemath"
  },
  "language_info": {
   "codemirror_mode": {
    "name": "ipython",
    "version": 3
   },
   "file_extension": ".py",
   "mimetype": "text/x-python",
   "name": "python",
   "nbconvert_exporter": "python",
   "pygments_lexer": "ipython3",
   "version": "3.7.7"
  }
 },
 "nbformat": 4,
 "nbformat_minor": 5
}
