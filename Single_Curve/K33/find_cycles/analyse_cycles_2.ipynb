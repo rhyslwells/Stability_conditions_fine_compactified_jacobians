{
 "cells": [
  {
   "cell_type": "markdown",
   "id": "ec4e928d-9963-4345-b437-e2011684e48b",
   "metadata": {},
   "source": [
    "# Objective"
   ]
  },
  {
   "cell_type": "markdown",
   "id": "1cea3f30-53a7-4a98-9656-9957cba0b9ad",
   "metadata": {},
   "source": [
    "Use pandas to construct a dataframe and analyse data."
   ]
  },
  {
   "cell_type": "markdown",
   "id": "46d40388-d2a9-4160-9eae-912a84a66682",
   "metadata": {
    "tags": []
   },
   "source": [
    "# Graphs"
   ]
  },
  {
   "cell_type": "markdown",
   "id": "c0896e62-d15a-4209-9d78-155a6bbde5a2",
   "metadata": {
    "tags": []
   },
   "source": [
    "## K1=2,K2,K3"
   ]
  },
  {
   "cell_type": "code",
   "execution_count": 12,
   "id": "4927b7e5-881b-469c-b21e-30c0453af3aa",
   "metadata": {
    "tags": []
   },
   "outputs": [],
   "source": [
    "# graphname=\"V_222\"\n",
    "# compiler(graphname)\n",
    "\n",
    "# graphname=\"V_223\"\n",
    "# compiler(graphname)"
   ]
  },
  {
   "cell_type": "code",
   "execution_count": 16,
   "id": "77e8984e-7617-46fc-b8dc-c8f55a4541a3",
   "metadata": {},
   "outputs": [],
   "source": [
    "graphname=\"V_224\"\n",
    "compiler(graphname)"
   ]
  },
  {
   "cell_type": "code",
   "execution_count": 17,
   "id": "943f003f-a9ec-4a9d-bf64-3aae6c1bf7fe",
   "metadata": {},
   "outputs": [],
   "source": [
    "graphname=\"V_233\"\n",
    "compiler(graphname)"
   ]
  },
  {
   "cell_type": "markdown",
   "id": "c614d29c-5bab-4f54-814d-1dea722b7f56",
   "metadata": {
    "jp-MarkdownHeadingCollapsed": true,
    "tags": []
   },
   "source": [
    "## K1=1,K2,K3"
   ]
  },
  {
   "cell_type": "code",
   "execution_count": 10,
   "id": "5b50c967-1333-4ec2-a8ce-a34c94951963",
   "metadata": {},
   "outputs": [],
   "source": [
    "# graphname=\"G4M2\"\n",
    "# compiler(graphname)\n",
    "\n",
    "# graphname=\"G5M2\"\n",
    "# compiler(graphname)\n",
    "\n",
    "# graphname=\"G6M3\"  \n",
    "# compiler(graphname)\n",
    "\n",
    "# graphname=\"G6M2\"\n",
    "# compiler(graphname)"
   ]
  },
  {
   "cell_type": "markdown",
   "id": "ea651f59-ed11-475d-a160-26ca37236d32",
   "metadata": {
    "jp-MarkdownHeadingCollapsed": true,
    "tags": []
   },
   "source": [
    "## Cyclic graphs: genus 1"
   ]
  },
  {
   "cell_type": "code",
   "execution_count": 9,
   "id": "02204679-5aaf-4776-a27b-5596476f7036",
   "metadata": {},
   "outputs": [],
   "source": [
    "# graphname=\"G3\"\n",
    "# compiler(graphname)\n",
    "\n",
    "# graphname=\"G4\"\n",
    "# compiler(graphname)\n",
    "\n",
    "# graphname=\"G5\"\n",
    "# compiler(graphname)\n",
    "\n",
    "# graphname=\"G6\"\n",
    "# compiler(graphname)"
   ]
  },
  {
   "cell_type": "markdown",
   "id": "6d62c7c1-56d3-4b72-89ce-387d4c4cc13a",
   "metadata": {
    "tags": []
   },
   "source": [
    "## Higher genus graphs"
   ]
  },
  {
   "cell_type": "code",
   "execution_count": 15,
   "id": "bd451902-e950-4c65-801b-d35078b7f5e9",
   "metadata": {},
   "outputs": [],
   "source": [
    "# graphname=\"G5M02M03M14\"\n",
    "# compiler(graphname)\n",
    "\n",
    "# graphname=\"G5M02M03\"\n",
    "# compiler(graphname)\n",
    "\n",
    "# graphname=\"G4M02M13\"\n",
    "# compiler(graphname)"
   ]
  },
  {
   "cell_type": "markdown",
   "id": "53d9a4e1-8d6a-4adc-bc0c-52afc55d3366",
   "metadata": {
    "jp-MarkdownHeadingCollapsed": true,
    "tags": []
   },
   "source": [
    "## K33"
   ]
  },
  {
   "cell_type": "code",
   "execution_count": 39,
   "id": "7c75c90e-7251-47b1-95af-d96a6ea77bd0",
   "metadata": {},
   "outputs": [],
   "source": [
    "graphname=\"K33_breaks\"\n",
    "compiler(graphname)\n",
    "\n",
    "graphname=\"K33\"\n",
    "compiler(graphname)"
   ]
  },
  {
   "cell_type": "markdown",
   "id": "0c4a4e92-82b7-4169-9b3d-3720cf01c02d",
   "metadata": {
    "tags": []
   },
   "source": [
    "# Functions"
   ]
  },
  {
   "cell_type": "code",
   "execution_count": 1,
   "id": "9830f114-4bfe-4d97-a083-042e0a851115",
   "metadata": {},
   "outputs": [],
   "source": [
    "import pandas as pd\n",
    "import pickle"
   ]
  },
  {
   "cell_type": "code",
   "execution_count": 2,
   "id": "b92bac50-1e9b-4c38-a732-d7acf8d57176",
   "metadata": {},
   "outputs": [],
   "source": [
    "def compiler(graphname):\n",
    "    d_list=unpickle_dlist(graphname)\n",
    "    data=get_summary(d_list)\n",
    "    pickle_data_summary_dlist(graphname,data)\n",
    "    return"
   ]
  },
  {
   "cell_type": "code",
   "execution_count": 3,
   "id": "22171f27-7159-40f6-b841-c028521ab208",
   "metadata": {},
   "outputs": [],
   "source": [
    "def pickle_data_summary_dlist(graphname,data):\n",
    "    \"\"\"\n",
    "    Store dictionary list\n",
    "    \"\"\"\n",
    "    # Pickle the list\n",
    "    filename=f\"Done_examples/{graphname}/{graphname}_summary_dlist.pkl\"\n",
    "    with open(filename, 'wb') as f:\n",
    "        pickle.dump(data, f)\n",
    "    return"
   ]
  },
  {
   "cell_type": "code",
   "execution_count": 4,
   "id": "29b33e9b-8fbd-4209-b184-18fca4595c64",
   "metadata": {},
   "outputs": [],
   "source": [
    "def unpickle_dlist(graphname):\n",
    "    # Unpickle the list\n",
    "    filename=f\"Done_examples/{graphname}/{graphname}_dlist.pkl\"\n",
    "    with open(filename, 'rb') as f:\n",
    "        unpickled_list = pickle.load(f)\n",
    "    return unpickled_list"
   ]
  },
  {
   "cell_type": "code",
   "execution_count": 5,
   "id": "a0f09cbf-fc07-4d71-9ef4-ae0c6db4f339",
   "metadata": {},
   "outputs": [],
   "source": [
    "def get_summary(d_list):\n",
    "    # Obj:I want to count the number of rows with the same fixed cycle.\n",
    "    # Output: Get summary tabel store atlist of dictionaries.\n",
    "\n",
    "    df=pd.DataFrame(d_list)\n",
    "\n",
    "    # Group the data by age and count the number of occurrences\n",
    "    grouped = df.groupby('Fixed cycle')[\"List of cycles for subgraphs in order\"].agg(['count'])\n",
    "\n",
    "    # Concatenate the corresponding countries into a comma-separated string\n",
    "    grouped['number'] = grouped.apply(lambda x: ','.join(['\"' + str(i) + '\"' for i in range(x['count'])]), axis=1)\n",
    "\n",
    "    # Select the desired columns and reset the index\n",
    "    result = grouped[['count']].reset_index()\n",
    "    \n",
    "    result = result.to_dict(\"records\")\n",
    "\n",
    "    return result"
   ]
  },
  {
   "cell_type": "code",
   "execution_count": null,
   "id": "a82530f4-2610-47b6-8a13-3af2ced71d98",
   "metadata": {},
   "outputs": [],
   "source": []
  }
 ],
 "metadata": {
  "kernelspec": {
   "display_name": "Python 3 (ipykernel)",
   "language": "python",
   "name": "python3"
  },
  "language_info": {
   "codemirror_mode": {
    "name": "ipython",
    "version": 3
   },
   "file_extension": ".py",
   "mimetype": "text/x-python",
   "name": "python",
   "nbconvert_exporter": "python",
   "pygments_lexer": "ipython3",
   "version": "3.10.8"
  }
 },
 "nbformat": 4,
 "nbformat_minor": 5
}
