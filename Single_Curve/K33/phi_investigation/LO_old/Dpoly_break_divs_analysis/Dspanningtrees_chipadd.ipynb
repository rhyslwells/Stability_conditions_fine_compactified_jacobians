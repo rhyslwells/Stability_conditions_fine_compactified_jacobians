{
 "cells": [
  {
   "cell_type": "code",
   "execution_count": null,
   "metadata": {},
   "outputs": [],
   "source": [
    "# Sage"
   ]
  },
  {
   "cell_type": "markdown",
   "metadata": {},
   "source": [
    "Issue: What is wrong with G62 ? breaks old \n",
    "\n",
    "Are the k33 breaks enough in degree 0 (to construct the poltope), i think so, we dont care about degree just need to check the size of the polytope.\n",
    "are thesee break divisors?\n",
    "\n",
    "We only need break divisors for Graphs if want to construct the $R_\\sigma$ for line bundles. In the other case we have the zero assignment on trees.\n",
    "\n",
    "We want to do this as dim$R_\\sigma$ will be suggestive of dim$R_\\sigma^{\\Gamma_i}$ if nicolas conjecture is true. "
   ]
  },
  {
   "cell_type": "markdown",
   "metadata": {},
   "source": [
    "# Outline"
   ]
  },
  {
   "cell_type": "markdown",
   "metadata": {},
   "source": [
    "# Functions"
   ]
  },
  {
   "cell_type": "code",
   "execution_count": 62,
   "metadata": {},
   "outputs": [],
   "source": [
    "import numpy as np\n",
    "import matplotlib.pyplot as plt\n",
    "import networkx as nx\n",
    "import itertools\n",
    "import pickle\n",
    "#See paper for Gi graphs."
   ]
  },
  {
   "cell_type": "code",
   "execution_count": 13,
   "metadata": {},
   "outputs": [],
   "source": [
    "def get_sp_trees(G): #Out: list of edges in spanning tree\n",
    "    all_trees=[]\n",
    "    for g in list(G.spanning_trees()):\n",
    "        edges_red=[]\n",
    "        edges=list(g.edges())\n",
    "        for edge in edges:\n",
    "            lst_ed=list(edge)\n",
    "            lst_ed.pop(lst_ed.index(None))\n",
    "            edges_red.append(lst_ed)\n",
    "        all_trees.append(edges_red)\n",
    "    return all_trees"
   ]
  },
  {
   "cell_type": "code",
   "execution_count": 14,
   "metadata": {},
   "outputs": [],
   "source": [
    "from collections import Counter\n",
    "\n",
    "def list_difference(a, b):\n",
    "    \"https://stackoverflow.com/questions/8106227/difference-between-two-lists-with-duplicates-in-python\"\n",
    "    count = Counter(a) # count items in a\n",
    "    count.subtract(b)  # subtract items that are in b\n",
    "    diff = []\n",
    "    for x in a:\n",
    "        if count[x] > 0:\n",
    "           count[x] -= 1\n",
    "           diff.append(x)\n",
    "    return diff"
   ]
  },
  {
   "cell_type": "code",
   "execution_count": 15,
   "metadata": {},
   "outputs": [],
   "source": [
    "#Attempt using recurison\n",
    "\n",
    "def chip_adding(graph,tree,ass):\n",
    "    \"\"\"\n",
    "    Inputs:\n",
    "    graph,\n",
    "    tree : spanning tree of graph\n",
    "    ass : an n=vert(graph) tuple on the spanning tree.\n",
    "    \n",
    "    recursion idea: https://stackoverflow.com/questions/53638816/python-library-function-to-re-apply-a-function-to-its-own-output-until-output-re\n",
    "    \"\"\"\n",
    "    \n",
    "    edges=graph # just want the edges \n",
    "    n=len(ass)\n",
    "    complement=list_difference(graph,tree)\n",
    "    # print(\"complement\",complement)\n",
    "\n",
    "    def rec_funct(edge_l,inputs,n):\n",
    "        data=[]\n",
    "        edge=edge_l[0]\n",
    "        \n",
    "        for b in inputs:\n",
    "            # print(\"b term\",b)\n",
    "            delta_1=np.zeros(n)\n",
    "            delta_2=np.zeros(n)\n",
    "\n",
    "            delta_1[int(edge[0])-1]=1 #we chip add at the first vertex.\n",
    "            delta_2[int(edge[1])-1]=1 #we chip add at the second vertex.\n",
    "            \n",
    "            b1=b+delta_1\n",
    "            b2=b+delta_2\n",
    "            data=data+[b1,b2]\n",
    "        \n",
    "        \n",
    "        # print(\"partial breaks\",data)\n",
    "        # print(\"-----------------next recursion--------------------\")\n",
    "\n",
    "        return (edge_l,data,n)\n",
    "    \n",
    "    def recursion(edge_l,inputs,n):\n",
    "\n",
    "        new_data=rec_funct(edge_l,inputs,n)\n",
    "        edge_l=edge_l[1:] #removeing first edge\n",
    "        # print(\"edges left after removing one:\",edge_l)\n",
    "        \n",
    "        new_data=(edge_l,new_data[1],new_data[2])\n",
    "        \n",
    "        \n",
    "        # list(new_data)[1]=edge_l# changing edge\n",
    "        \n",
    "        if len(edge_l)==0:\n",
    "            new_inputs=new_data[1]\n",
    "            return new_inputs\n",
    "        else:\n",
    "            return recursion(*new_data)\n",
    "        \n",
    "    breaks=recursion(complement,[np.zeros(n)],n)\n",
    "    breaks=np.unique(breaks, axis=0)\n",
    "    \n",
    "    return breaks"
   ]
  },
  {
   "cell_type": "code",
   "execution_count": 66,
   "metadata": {},
   "outputs": [],
   "source": [
    "def get_breaks_old(graph,edges,ass): #doesnt work\n",
    "    \"\"\"\n",
    "    Inputs:\n",
    "    graph: #gr_G62= Graph([(\"1\",\"2\"),(\"2\",\"3\"),(\"3\",\"4\"),(\"4\",\"5\"),(\"5\",\"6\"),(\"1\",\"6\"),(\"2\",\"6\")], multiedges=True)\n",
    "    edges: edges of graph #G62=[(\"1\",\"2\"),(\"2\",\"3\"),(\"3\",\"4\"),(\"4\",\"5\"),(\"5\",\"6\"),(\"1\",\"6\"),(\"2\",\"6\")]\n",
    "    ass: tuples of zeros for length the number of verts of graph\n",
    "    \n",
    "    Output: returns union of break divisors over all trees.\n",
    "    \"\"\"\n",
    "    \n",
    "    spanning_tree_lst=get_sp_trees(graph)\n",
    "    breaks=[]\n",
    "    for tree in spanning_tree_lst:\n",
    "        tree=list(tree)\n",
    "        tree=[tuple(x) for x in tree]\n",
    "        breaks=breaks+list(chip_adding(edges,tree,ass))\n",
    "        \n",
    "    breaks=np.unique(breaks,axis=0)\n",
    "    \n",
    "    return breaks"
   ]
  },
  {
   "cell_type": "code",
   "execution_count": 75,
   "metadata": {},
   "outputs": [],
   "source": [
    "def get_breaks(g,shift):\n",
    "    \"\"\"\n",
    "    g=graph for sandpile\n",
    "    output: returns breaks\n",
    "    \"\"\"\n",
    "    \n",
    "    S=Sandpile(g,0)\n",
    "    reps=S.jacobian_representatives(False) #degree 0\n",
    "    shift=np.array(shift)\n",
    "\n",
    "    breaks_shift=[list(np.array(x)+shift) for x in reps]\n",
    "    \n",
    "    \n",
    "    return breaks_shift"
   ]
  },
  {
   "cell_type": "markdown",
   "metadata": {},
   "source": [
    "# Examples"
   ]
  },
  {
   "cell_type": "code",
   "execution_count": 114,
   "metadata": {},
   "outputs": [
    {
     "name": "stdout",
     "output_type": "stream",
     "text": [
      "0\n",
      "Break divisors degree 2: \n",
      " [[0. 0. 2.]\n",
      " [0. 1. 1.]\n",
      " [1. 0. 1.]\n",
      " [1. 1. 0.]\n",
      " [2. 0. 0.]] \n",
      "[[2, 0, 0], [0, 1, 1], [1, 1, 0], [1, 0, 1], [0, 0, 2]]\n"
     ]
    }
   ],
   "source": [
    "G1_gr=Graph([(\"1\",\"2\"),(\"2\",\"3\"),(\"1\",\"3\"),(\"1\",\"3\")], multiedges=True)\n",
    "\n",
    "# print(G1_gr.genus())\n",
    "G1=[(\"1\",\"2\"),(\"2\",\"3\"),(\"1\",\"3\"),(\"1\",\"3\")]\n",
    "# tree=[(\"1\",\"2\"),(\"2\",\"3\")]\n",
    "tree=[(\"1\",\"2\"),(\"1\",\"3\")]\n",
    "# print(chip_adding(G1,tree,[0,0,0]))\n",
    "\n",
    "# print(list_difference(G1, tree)) #[('2', '3'), ('1', '3')]\n",
    "\n",
    "print(f\"Break divisors degree 2: \\n {get_breaks_old(G1_gr,G1,[0,0,0])} \")\n",
    "\n",
    "g={0:{2:1,3:2},\n",
    "   2:{0:1,3:1,},\n",
    "   3:{0:2,2:1}}\n",
    "\n",
    "print(get_breaks(g,[2,0,0]))\n",
    "l=get_breaks(g,[2,0,0])\n",
    "\n",
    "\n",
    "# for i in l:\n",
    "#     print(list(i))"
   ]
  },
  {
   "cell_type": "code",
   "execution_count": 98,
   "metadata": {},
   "outputs": [
    {
     "name": "stdout",
     "output_type": "stream",
     "text": [
      "Break divisors degree 1: \n",
      " [[0. 0. 0. 1.]\n",
      " [0. 0. 1. 0.]\n",
      " [0. 1. 0. 0.]\n",
      " [1. 0. 0. 0.]] \n",
      "----\n",
      "[[1, 0, 0, 0], [0, 1, 0, 0], [0, 0, 1, 0], [0, 0, 0, 1]]\n"
     ]
    }
   ],
   "source": [
    "G4=Graph([(\"1\",\"2\"),(\"2\",\"3\"),(\"3\",\"4\"),(\"1\",\"4\")], multiedges=True)\n",
    "G4_ed=[(\"1\",\"2\"),(\"2\",\"3\"),(\"3\",\"4\"),(\"1\",\"4\")]\n",
    "# tree=[(\"1\",\"2\"),(\"2\",\"3\")]\n",
    "tree=[(\"1\",\"2\"),(\"1\",\"3\")]\n",
    "\n",
    "print(f\"Break divisors degree 1: \\n {get_breaks_old(G4,G4_ed,[0,0,0,0])} \")\n",
    "\n",
    "g={0:{2:1,4:1},\n",
    "   2:{0:1,3:1,},\n",
    "   3:{2:1,4:1},\n",
    "  4:{3:1,0:1}}\n",
    "\n",
    "print(\"----\")\n",
    "\n",
    "print(get_breaks(g,[1,0,0,0]))\n",
    "\n",
    "# l=get_breaks(g,[2,0,0,0])\n",
    "\n",
    "\n",
    "# for i in l:\n",
    "#     print(list(i))"
   ]
  },
  {
   "cell_type": "code",
   "execution_count": null,
   "metadata": {},
   "outputs": [],
   "source": [
    "# #G63\n",
    "# g={0:{2:1,6:1},\n",
    "#    2:{0:1,3:1,},\n",
    "#    3:{2:1,4:1,6:1},\n",
    "#    4:{3:1,5:1},\n",
    "#    5:{4:1,6:1},\n",
    "#    6:{5:1,0:1,3:1}}\n",
    "S=Sandpile(g,0)\n",
    "reps=S.jacobian_representatives(False) #degree 0"
   ]
  },
  {
   "cell_type": "code",
   "execution_count": null,
   "metadata": {},
   "outputs": [],
   "source": [
    "# #G72\n",
    "g={0:{2:1,7:1},2:{0:1,3:1,7:1},3:{2:1,4:1},4:{3:1,5:1},5:{4:1,6:1},6:{5:1,7:1},7:{0:1,2:1,6:1}}\n",
    "S=Sandpile(g,0)\n",
    "reps=S.jacobian_representatives(False) #degree 0"
   ]
  },
  {
   "cell_type": "code",
   "execution_count": 56,
   "metadata": {},
   "outputs": [
    {
     "data": {
      "image/png": "[encoded data removed]",
      "text/plain": [
       "Graphics object consisting of 14 graphics primitives"
      ]
     },
     "metadata": {},
     "output_type": "display_data"
    }
   ],
   "source": [
    "# #G73\n",
    "# g={0:{2:1,7:1},2:{0:1,3:1},3:{2:1,4:1,7:1},4:{3:1,5:1},5:{4:1,6:1},6:{5:1,7:1},7:{0:1,3:1,6:1}}\n",
    "S=Sandpile(g,0)\n",
    "reps=S.jacobian_representatives(False) #degree 0"
   ]
  },
  {
   "cell_type": "markdown",
   "metadata": {},
   "source": [
    "Want to get all break divisors so need to iterate over all trees "
   ]
  },
  {
   "cell_type": "markdown",
   "metadata": {},
   "source": [
    "## G62: Issue"
   ]
  },
  {
   "cell_type": "markdown",
   "metadata": {},
   "source": [
    "We could try rotating so the break divs we calculated via trees is the same as the sandpile representatives once shifted to have same total degree."
   ]
  },
  {
   "cell_type": "code",
   "execution_count": 126,
   "metadata": {},
   "outputs": [],
   "source": [
    "gr_G62= Graph([(\"1\",\"2\"),(\"2\",\"3\"),(\"3\",\"4\"),(\"4\",\"5\"),(\"5\",\"6\"),(\"1\",\"6\"),(\"2\",\"6\")], multiedges=True)\n",
    "G62=[(\"1\",\"2\"),(\"2\",\"3\"),(\"3\",\"4\"),(\"4\",\"5\"),(\"5\",\"6\"),(\"1\",\"6\"),(\"2\",\"6\")]\n",
    "# print(\"Number of spanning trees: \",len(list(gr_G62.spanning_trees() )))\n",
    "\n",
    "# print(f\"Number of break divisors: {len(get_breaks_old(gr_G62,G62,[0,0,0,0,0,0]))} \")\n",
    "# print(f\"break divisors: {get_breaks_old(gr_G62,G62,[0,0,0,0,0,0])} \")\n",
    "\n",
    "\n",
    "#G62\n",
    "g={0:{2:1,6:1},\n",
    "   2:{0:1,3:1,6:1},\n",
    "   3:{2:1,4:1},\n",
    "   4:{3:1,5:1},\n",
    "   5:{4:1,6:1},\n",
    "   6:{5:1,0:1,2:1}}\n",
    "\n",
    "# print(\"from reps : breaks\")\n",
    "# # print(get_breaks(g,[2,0,0,0,0,0]))\n",
    "# l=get_breaks(g,[2,0,0,0,0,0])\n",
    "\n",
    "# for i in l:\n",
    "#     print(i)\n",
    "\n",
    "# print(\"old breaks\")\n",
    "# prev_b=get_breaks_old(gr_G62,G62,[0,0,0,0,0,0])\n",
    "# # arr=np.array(l)\n",
    "\n",
    "# # print(\"--\")\n",
    "# # print(prev_b)\n",
    "# # print(\"--\")\n",
    "\n",
    "# # print(arr)\n",
    "\n",
    "# # for i in arr:\n",
    "# #     if i in prev_b:\n",
    "# #         print(true)\n",
    "# #         print(f\"{i}\")\n",
    "\n",
    "# # print(l[0]==list(prev_b[0]))"
   ]
  },
  {
   "cell_type": "markdown",
   "metadata": {},
   "source": [
    "## G455_exedge"
   ]
  },
  {
   "cell_type": "markdown",
   "metadata": {},
   "source": [
    "Construct by hand breaks and compare."
   ]
  },
  {
   "cell_type": "code",
   "execution_count": 111,
   "metadata": {},
   "outputs": [
    {
     "name": "stdout",
     "output_type": "stream",
     "text": [
      "Number of spanning trees:  16\n"
     ]
    },
    {
     "ename": "TypeError",
     "evalue": "get_breaks() takes 2 positional arguments but 3 were given",
     "output_type": "error",
     "traceback": [
      "\u001b[0;31m---------------------------------------------------------------------------\u001b[0m",
      "\u001b[0;31mTypeError\u001b[0m                                 Traceback (most recent call last)",
      "\u001b[0;32m<ipython-input-111-f0d5d43efd60>\u001b[0m in \u001b[0;36m<module>\u001b[0;34m\u001b[0m\n\u001b[1;32m      3\u001b[0m \u001b[0;31m# get_sp_trees(G455_exedge)\u001b[0m\u001b[0;34m\u001b[0m\u001b[0;34m\u001b[0m\u001b[0;34m\u001b[0m\u001b[0m\n\u001b[1;32m      4\u001b[0m \u001b[0mprint\u001b[0m\u001b[0;34m(\u001b[0m\u001b[0;34m\"Number of spanning trees: \"\u001b[0m\u001b[0;34m,\u001b[0m\u001b[0mlen\u001b[0m\u001b[0;34m(\u001b[0m\u001b[0mlist\u001b[0m\u001b[0;34m(\u001b[0m\u001b[0mG455_exedge\u001b[0m\u001b[0;34m.\u001b[0m\u001b[0mspanning_trees\u001b[0m\u001b[0;34m(\u001b[0m\u001b[0;34m)\u001b[0m \u001b[0;34m)\u001b[0m\u001b[0;34m)\u001b[0m\u001b[0;34m)\u001b[0m\u001b[0;34m\u001b[0m\u001b[0;34m\u001b[0m\u001b[0m\n\u001b[0;32m----> 5\u001b[0;31m \u001b[0mprint\u001b[0m\u001b[0;34m(\u001b[0m\u001b[0;34mf\"Number of break divisors: {len(get_breaks(G455_exedge,G455_exedge_edges,[0,0,0,0]))} \"\u001b[0m\u001b[0;34m)\u001b[0m \u001b[0;31m#wrong\u001b[0m\u001b[0;34m\u001b[0m\u001b[0;34m\u001b[0m\u001b[0m\n\u001b[0m",
      "\u001b[0;31mTypeError\u001b[0m: get_breaks() takes 2 positional arguments but 3 were given"
     ]
    }
   ],
   "source": [
    "G455_exedge=Graph([(\"1\",\"2\"),(\"2\",\"3\"),(\"3\",\"4\"),(\"4\",\"1\"),(\"1\",\"3\"),(\"2\",\"4\")], multiedges=True)\n",
    "G455_exedge_edges=[(\"1\",\"2\"),(\"2\",\"3\"),(\"3\",\"4\"),(\"4\",\"1\"),(\"1\",\"3\"),(\"2\",\"4\")]\n",
    "# get_sp_trees(G455_exedge)\n",
    "# print(\"Number of spanning trees: \",len(list(G455_exedge.spanning_trees() )))\n",
    "# print(f\"Number of break divisors: {len(get_breaks(G455_exedge,G455_exedge_edges,[0,0,0,0]))} \") #wrong"
   ]
  },
  {
   "cell_type": "code",
   "execution_count": 109,
   "metadata": {},
   "outputs": [
    {
     "name": "stdout",
     "output_type": "stream",
     "text": [
      "16\n",
      "[0, 0, 0, 0]\n",
      "[-2, 1, 1, 0]\n",
      "[-2, 0, 0, 2]\n",
      "[-1, 0, 0, 1]\n",
      "[-3, 1, 0, 2]\n",
      "[-3, 0, 2, 1]\n",
      "[-2, 0, 2, 0]\n",
      "[-3, 2, 0, 1]\n",
      "[-2, 2, 0, 0]\n",
      "[-3, 0, 1, 2]\n",
      "[-3, 2, 1, 0]\n",
      "[-3, 1, 2, 0]\n",
      "[-1, 1, 0, 0]\n",
      "[-1, 0, 1, 0]\n",
      "[-2, 1, 0, 1]\n",
      "[-2, 0, 1, 1]\n"
     ]
    }
   ],
   "source": [
    "# G455_exedge\n",
    "\n",
    "g={0:{2:1,3:1,4:1},\n",
    "   2:{0:1,3:1,4:1},\n",
    "   3:{0:1,2:1,4:1},\n",
    "   4:{0:1,2:1,3:1}}\n",
    "\n",
    "S=Sandpile(g,0)\n",
    "\n",
    "breaks=get_breaks(g,[0,0,0,0])\n",
    "# print(len(l))\n",
    "\n",
    "# for i in l:\n",
    "#     print(i)"
   ]
  },
  {
   "cell_type": "code",
   "execution_count": null,
   "metadata": {},
   "outputs": [],
   "source": [
    "# with open('G455_exedge.txt', 'wb') as fp:\n",
    "#     pickle.dump(breaks, fp)\n",
    "#     fp.close()"
   ]
  },
  {
   "cell_type": "markdown",
   "metadata": {},
   "source": [
    "## $K_{33}$"
   ]
  },
  {
   "cell_type": "code",
   "execution_count": 115,
   "metadata": {},
   "outputs": [],
   "source": [
    "K_33= Graph([(\"1\",\"4\"),(\"1\",\"5\"),(\"1\",\"6\"),(\"2\",\"4\"),(\"2\",\"5\"),(\"2\",\"6\"),(\"3\",\"4\"),(\"3\",\"5\"),(\"3\",\"6\"),], multiedges=True)\n",
    "# print(K_33.genus()) #1\n",
    "# get_sp_trees(K_33)\n",
    "# print(\"Number of spanning trees: \",len(list(K_33.spanning_trees() )))"
   ]
  },
  {
   "cell_type": "code",
   "execution_count": 125,
   "metadata": {},
   "outputs": [],
   "source": [
    "#K33\n",
    "\n",
    "g={0:{4:1,5:1,6:1},\n",
    "   2:{4:1,5:1,6:1},\n",
    "   3:{4:1,5:1,6:1},\n",
    "   4:{0:1,2:1,3:1},\n",
    "   5:{0:1,2:1,3:1},\n",
    "   6:{0:1,2:1,3:1}}\n",
    "\n",
    "S=Sandpile(g,0)\n",
    "\n",
    "breaks=get_breaks(g,[0,0,0,0,0,0])\n",
    "\n",
    "# for i in l:\n",
    "#     print(i)"
   ]
  },
  {
   "cell_type": "code",
   "execution_count": null,
   "metadata": {},
   "outputs": [],
   "source": [
    "# with open('K33.txt', 'wb') as fp:\n",
    "#     pickle.dump(breaks, fp)\n",
    "#     fp.close()"
   ]
  },
  {
   "cell_type": "code",
   "execution_count": null,
   "metadata": {},
   "outputs": [],
   "source": []
  }
 ],
 "metadata": {
  "kernelspec": {
   "display_name": "Python 3 (ipykernel)",
   "language": "python",
   "name": "python3"
  },
  "language_info": {
   "codemirror_mode": {
    "name": "ipython",
    "version": 3
   },
   "file_extension": ".py",
   "mimetype": "text/x-python",
   "name": "python",
   "nbconvert_exporter": "python",
   "pygments_lexer": "ipython3",
   "version": "3.10.8"
  }
 },
 "nbformat": 4,
 "nbformat_minor": 4
}
