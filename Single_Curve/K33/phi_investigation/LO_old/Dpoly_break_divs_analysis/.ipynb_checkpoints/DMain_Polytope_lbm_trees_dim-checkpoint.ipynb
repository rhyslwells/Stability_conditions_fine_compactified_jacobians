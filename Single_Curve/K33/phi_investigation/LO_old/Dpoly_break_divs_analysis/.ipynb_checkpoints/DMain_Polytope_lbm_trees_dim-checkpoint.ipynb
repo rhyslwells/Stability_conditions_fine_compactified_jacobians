{
 "cells": [
  {
   "cell_type": "markdown",
   "metadata": {
    "tags": []
   },
   "source": [
    "# Outline"
   ]
  },
  {
   "cell_type": "markdown",
   "metadata": {},
   "source": [
    "In this file we construct the convex polytopal region for a stability condition $\\sigma_{\\Gamma}$ (in most cases this will be the one given by having $\\sigma_{\\Gamma}(\\Gamma_i)=\\underline{0}$ for all spanning trees $\\Gamma_i$. Denote this polytope by $R_\\sigma^{\\Gamma}$ for line bundle multidegrees and $R_\\sigma^{\\Gamma_i}$ for assignments on trees $\\Gamma_i$.\n",
    "\n",
    "We focus on the cases: $G62,G63,G72,G73, K_{33}$ and $GSym_3$\n",
    "\n",
    "We aim to answer the following questions:\n",
    "\n",
    "- For cases get Get random phi that works for ibd case (yes) Done.\n",
    "- Obtain by hand for G62 and G63 get $R_\\sigma^{\\Gamma_i}$ (pdf). For G62 and G63:\n",
    "    - Is $R_\\sigma^{\\Gamma}= R_\\sigma^{\\Gamma_i}$ and do they contain each other.\n",
    "    - What are dim $R_\\sigma^{\\Gamma_i}$ are any polytopes are empty.\n",
    "    \n",
    "\n",
    "\n",
    "\n",
    "\n"
   ]
  },
  {
   "cell_type": "markdown",
   "metadata": {},
   "source": [
    "## Secondary task"
   ]
  },
  {
   "cell_type": "markdown",
   "metadata": {},
   "source": [
    "Using spannningtrees_chipadd.ipynb\n",
    "\n",
    "- We take breaks divisors to construct the $R_\\sigma$ for line bundles. \n",
    "- We want to do this as dim$R_\\sigma$ will be suggestive of dim$R_\\sigma^{\\Gamma_i}$ if nicolas conjecture is true. \n",
    "- From here we either have a function to get all $R_\\sigma^{\\Gamma_i}$ or do for selected trees by hand\n"
   ]
  },
  {
   "cell_type": "markdown",
   "metadata": {
    "tags": []
   },
   "source": [
    "# Functions:"
   ]
  },
  {
   "cell_type": "code",
   "execution_count": 23,
   "metadata": {
    "tags": []
   },
   "outputs": [],
   "source": [
    "import numpy as np\n",
    "import itertools\n",
    "import pickle"
   ]
  },
  {
   "cell_type": "code",
   "execution_count": 24,
   "metadata": {
    "tags": []
   },
   "outputs": [],
   "source": [
    "def get_formatted_hyperplanes_txt(lbm,phi_G): #put into format of sage b<Ax<b+1\n",
    "    \n",
    "    \"\"\"\n",
    "    Inputs:\n",
    "    phi  records indexs of cuts with cutfraction in inequalities.        phi_G62={\"1\":1,\"2\":1.5,\"3\":1,\"4\":1,\"5\":1,\"6\":1.5,\"12\":1.5,\"23\":1.5,\"34\":1,\"45\":1,\"56\":1.5,\"61\":1.5,\"123\":1.5,\"234\":1.5,\"345\":1,\"456\":1.5,\"561\":1.5,\"612\":1}\n",
    "    lbm= line bundle mulidegrees given by chip-adding\n",
    "    \n",
    "    Purpose: Get list of inquality data to feed into Sages Polyhedron function\n",
    "    https://doc.sagemath.org/html/en/reference/discrete_geometry/sage/geometry/polyhedron/constructor.html\n",
    "    \n",
    "    Polyhedron(ieqs=[(0,1,0),(0,0,1),(1,-1,-1)]).Hrepresentation()\n",
    "    (An inequality (-1, -1) x + 1 >= 0,\n",
    "     An inequality (1, 0) x + 0 >= 0,\n",
    "     An inequality (0, 1) x + 0 >= 0)\n",
    "    \n",
    "    \n",
    "    \"\"\"\n",
    "    n=len(lbm[0])\n",
    "    # We add the total degree equation to inequals\n",
    "    deg=sum(lbm[0])\n",
    "    tot_equ1=[-deg,]+ [1]*n\n",
    "    tot_equ2=[deg,]+ [-1]*n\n",
    "    \n",
    "    inequals=[tot_equ1,tot_equ2]     \n",
    "    \n",
    "    for d in lbm: #creates row at a time\n",
    "        for indexor in list(phi_G.keys()):\n",
    "            \n",
    "            def sum_comps(comp,indexor): #Done\n",
    "                \"\"\"returns the sum of the components of comp in the position by indexor\"\"\"\n",
    "                #for d and phi\n",
    "                sum_l=[comp[int(i)-1] for i in indexor]\n",
    "                return sum(sum_l)\n",
    "            \n",
    "            \n",
    "            cf=phi_G[indexor] # want value\n",
    "            constant_indx= sum_comps(d,indexor)        \n",
    "        \n",
    "            l_i= [ [int(x)-1,] for x in indexor] #x,y,z.. terms for indexors in Rf space #Indexs for phi keys\n",
    "            \n",
    "\n",
    "            def lower_part(constant_indx,l_i,indexor,cf,n):\n",
    "                \n",
    "                bterm=[constant_indx+cf] # as list\n",
    "                base=np.zeros(n)\n",
    "                l=[(-1,i) for i in indexor] # put -1 in the ith position given be indexor.\n",
    "                \n",
    "                for item in l:\n",
    "                    ipos = int(item[1])-1 # ith position\n",
    "                    val=item[0]\n",
    "                    base[ipos]=val\n",
    "                \n",
    "                xyz=base\n",
    "                \n",
    "                ineq=bterm+list(xyz) # [b,x,y,z...] want to concat\n",
    "                \n",
    "                return ineq\n",
    "\n",
    "            def upper_part(constant_indx,l_i,indexor,cf,n):\n",
    "                \n",
    "                #Remember upper part of modulus inequality.\n",
    "\n",
    "                bterm=[-constant_indx+cf] # as list\n",
    "                base=np.zeros(n)\n",
    "                l=[(1,i) for i in indexor] # put -1 in the ith position given be indexor.\n",
    "                \n",
    "                for item in l:\n",
    "                    ipos = int(item[1])-1 # ith position\n",
    "                    val=item[0]\n",
    "                    base[ipos]=val\n",
    "                \n",
    "                xyz=base\n",
    "                \n",
    "                ineq=bterm+list(xyz) # [b,x,y,z...] want to concat\n",
    "                \n",
    "                return ineq\n",
    "\n",
    "            res_lower=lower_part(constant_indx,l_i,indexor,cf,n)\n",
    "            \n",
    "            # print(\"res_lower\",res_lower)\n",
    "            res_upper=upper_part(constant_indx,l_i,indexor,cf,n)\n",
    "            \n",
    "            # print(\"res_upper\",res_upper)\n",
    "            res_combined= [res_lower,res_upper]\n",
    "            \n",
    "            # print(\"--------\")\n",
    "\n",
    "            inequals=inequals+res_combined\n",
    "        \n",
    "    return inequals"
   ]
  },
  {
   "cell_type": "code",
   "execution_count": 25,
   "metadata": {},
   "outputs": [],
   "source": [
    "#Modified to include total degree equation and work for trees wrt phi inequalites for G62 G63 \n",
    "# not the same as phi inequal dicts for lbm.\n",
    "\n",
    "def mod_get_formatted_hyperplanes_txt(lbm,phi_G): #put into format of sage b<Ax<b+1\n",
    "    \n",
    "    \"Following doc phi-polytope inequalities\"\n",
    "    \n",
    "    \"\"\"\n",
    "    Inputs:\n",
    "    phi  records indexs of cuts as keys, and adjuster in modulus as value, Cf =0.5 in all cases. \n",
    "    lbm= line bundle mulidegrees given by chip-adding\n",
    "    \n",
    "    Purpose: Get list of inquality data to feed into Sages Polyhedron function\n",
    "    https://doc.sagemath.org/html/en/reference/discrete_geometry/sage/geometry/polyhedron/constructor.html\n",
    "    \n",
    "    Polyhedron(ieqs=[(0,1,0),(0,0,1),(1,-1,-1)]).Hrepresentation()\n",
    "    (An inequality (-1, -1) x + 1 >= 0,\n",
    "     An inequality (1, 0) x + 0 >= 0,\n",
    "     An inequality (0, 1) x + 0 >= 0)\n",
    "     \n",
    "    to add the total degree inequality x+y+z..=degree.\n",
    "    add in ()\n",
    "    \n",
    "    \"\"\"\n",
    "    n=len(lbm[0])\n",
    "    # We add the total degree equation to inequals\n",
    "    deg=sum(lbm[0])\n",
    "    tot_equ1=[-deg,]+ [1]*n\n",
    "    tot_equ2=[deg,]+ [-1]*n\n",
    "    \n",
    "    inequals=[tot_equ1,tot_equ2]     \n",
    "    for d in lbm: #creates row at a time\n",
    "        for indexor in list(phi_G.keys()):\n",
    "            \n",
    "            def sum_comps(comp,indexor): #Done\n",
    "                \"\"\"returns the sum of the components of comp in the position by indexor\"\"\"\n",
    "                #for d and phi\n",
    "                sum_l=[comp[int(i)-1] for i in indexor]\n",
    "                return sum(sum_l)\n",
    "            \n",
    "            cf=0.5 #for phi tree polytopes.\n",
    "#             cf=phi_G[indexor] # want value\n",
    "#             constant_indx= sum_comps(d,indexor)   \n",
    "            constant_indx=phi_G[indexor] #for phi tree polytopes (remeber the minus) #!The adjustor.\n",
    "        \n",
    "            l_i= [ [int(x)-1,] for x in indexor] #x,y,z.. terms for indexors in Rf space #Indexs for phi keys\n",
    "            \n",
    "\n",
    "            def lower_part(constant_indx,l_i,indexor,cf,n):\n",
    "                \n",
    "                bterm=[cf-constant_indx] # as list\n",
    "                base=np.zeros(n)\n",
    "                l=[(1,i) for i in indexor] # put -1 in the ith position given be indexor.\n",
    "                \n",
    "                for item in l:\n",
    "                    ipos = int(item[1])-1 # ith position\n",
    "                    val=item[0]\n",
    "                    base[ipos]=val\n",
    "                \n",
    "                xyz=base\n",
    "                \n",
    "                ineq=bterm+list(xyz) # [b,x,y,z...] want to concat                \n",
    "                return ineq\n",
    "\n",
    "            def upper_part(constant_indx,l_i,indexor,cf,n):\n",
    "                \n",
    "                #Remember upper part of modulus inequality.\n",
    "\n",
    "                bterm=[cf+constant_indx] # as list\n",
    "                base=np.zeros(n)\n",
    "                l=[(-1,i) for i in indexor] # put -1 in the ith position given be indexor.\n",
    "                \n",
    "                for item in l:\n",
    "                    ipos = int(item[1])-1 # ith position\n",
    "                    val=item[0]\n",
    "                    base[ipos]=val\n",
    "                \n",
    "                xyz=base\n",
    "                \n",
    "                ineq=bterm+list(xyz) # [b,x,y,z...] want to concat\n",
    "                \n",
    "                return ineq\n",
    "\n",
    "            res_lower=lower_part(constant_indx,l_i,indexor,cf,n)\n",
    "            \n",
    "            # print(\"res_lower\",res_lower)\n",
    "            res_upper=upper_part(constant_indx,l_i,indexor,cf,n)\n",
    "            \n",
    "            # print(\"res_upper\",res_upper)\n",
    "            res_combined= [res_lower,res_upper]\n",
    "            \n",
    "            # print(\"--------\")\n",
    "\n",
    "            inequals=inequals+res_combined\n",
    "    return inequals"
   ]
  },
  {
   "cell_type": "code",
   "execution_count": 26,
   "metadata": {
    "tags": []
   },
   "outputs": [],
   "source": [
    "def poly_size(data):\n",
    "    Poly=Polyhedron(ieqs=data)\n",
    "    dimP=dim(Poly)\n",
    "#     print(f\"The dimension of the polytope is: {dimP}\")\n",
    "    return dimP"
   ]
  },
  {
   "cell_type": "code",
   "execution_count": 27,
   "metadata": {
    "tags": []
   },
   "outputs": [],
   "source": [
    "def polytope_size_checker(data,phi,size):\n",
    "    \n",
    "    \"\"\"\n",
    "    Inputs:\n",
    "    data: is a list of line bundle multidegrees for the weak stabiltiies that fail when phi is taken to be the average.\n",
    "    phi= is the data of the cuts and the indexes taken for the phi inequalities.\n",
    "    size: the size of the nondegenerate polytope (number of vertices)\n",
    "    \"\"\"\n",
    "    recorder_minus=[]\n",
    "    recorder_0=[]\n",
    "    recorder_1belowtop=[]\n",
    "    recorder_max=[]\n",
    "    dimensions=[]\n",
    "\n",
    "    counter=0\n",
    "    for lbm in data:\n",
    "        lbm_data=get_formatted_hyperplanes_txt(lbm,phi)\n",
    "        dimp=poly_size(lbm_data)\n",
    "        if dimp ==0:\n",
    "            recorder.append(lbm)\n",
    "        if dimp >0 and dimp<size:\n",
    "            recorder_1belowtop.append(lbm)\n",
    "        if dimp ==size:\n",
    "            recorder_max.append(lbm)\n",
    "        if dimp==-1:\n",
    "            recorder_minus.append(lbm)\n",
    "            \n",
    "        print(counter)\n",
    "        dimensions.append(dimp)\n",
    "        counter+=1\n",
    "\n",
    "    print(\"Total number of cases:\",len(data))\n",
    "    print(\"recorder_minus\",len(recorder_minus))\n",
    "    print(\"recorder_0:\",len(recorder_0))\n",
    "    print(\"recorder_1belowtop:\",len(recorder_1belowtop))\n",
    "    print(\"recorder_max:\",len(recorder_max))\n",
    "    \n",
    "    print(\"\\n\", f\"Number of cases of dim: -1:{dimensions.count(-1)}, 0: {dimensions.count(0)}, 1:{dimensions.count(1)}, 2:{dimensions.count(2)}, 3:{dimensions.count(3)}, 4:{dimensions.count(4)}, 5:{dimensions.count(5)}, 6:{dimensions.count(6)}, 7:{dimensions.count(7)}\")\n",
    "          \n",
    "    return recorder_minus,recorder_0,recorder_1belowtop,recorder_max"
   ]
  },
  {
   "cell_type": "code",
   "execution_count": 28,
   "metadata": {
    "tags": []
   },
   "outputs": [],
   "source": [
    "def mod_where_specific_lbm_fail(dict,lbm,phi):    \n",
    "    \"\"\"\n",
    "    Checks if a given phi (not average phi) fails.\n",
    "    \n",
    "    Outputs where it fails or outputs f\"The phi: {} does not fail\".\n",
    "    \"\"\"\n",
    "    \n",
    "    def sum_comps(comp,indexor): #Done\n",
    "        \"\"\"returns the sum of the components of comp in the position by indexor\"\"\"\n",
    "        #for d and phi\n",
    "\n",
    "        sum_l=[comp[int(i)-1] for i in indexor]\n",
    "        return sum(sum_l)\n",
    "\n",
    "    def cutfrac(dict,indexor): #Done\n",
    "        cutfrac=dict[indexor]\n",
    "        return cutfrac\n",
    "    \n",
    "    counter=0\n",
    "    for d in lbm:\n",
    "        for indexor in dict.keys():\n",
    "            if abs(sum_comps(d,indexor) - sum_comps(phi,indexor))<cutfrac(dict,indexor):\n",
    "                pass\n",
    "            else:\n",
    "                print(f\"Multidegree: {d}, \\n Phi: {phi}, \\n Indices summed {indexor}, \\n Failed the inequality |{sum_comps(d,indexor)} - {sum_comps(phi,indexor)}|<{cutfrac(dict,indexor)} \\n\")\n",
    "                counter+=1\n",
    "                \n",
    "    if counter !=0:\n",
    "        print(f\"The phi (center of polytope): {phi} fails the phi-inequalities\")\n",
    "    if counter ==0:\n",
    "        print(f\"The phi (center of polytope): {phi} does not fail the phi-inequalities\")\n",
    "        \n",
    "    def get_phi_av(lbm): #Done\n",
    "        lbm=[np.array(d) for d in lbm]\n",
    "        length=len(lbm)\n",
    "        slbm=sum(lbm)\n",
    "        phi=slbm/length\n",
    "        return phi\n",
    "\n",
    "    print(f\"phi average is: {get_phi_av(lbm)}\")\n",
    "\n",
    "    return "
   ]
  },
  {
   "cell_type": "code",
   "execution_count": 29,
   "metadata": {
    "tags": []
   },
   "outputs": [],
   "source": [
    "def get_a_phi(poly):\n",
    "#     phi=poly.center()\n",
    "    phi=poly.representative_point()\n",
    "    return phi"
   ]
  },
  {
   "cell_type": "markdown",
   "metadata": {},
   "source": [
    "# Polytopes by phi inequalites for trees (0 assignment)"
   ]
  },
  {
   "cell_type": "markdown",
   "metadata": {},
   "source": [
    "## G62 and Comparision with polytope by phi lbm inequalities (IBD)"
   ]
  },
  {
   "cell_type": "code",
   "execution_count": 30,
   "metadata": {},
   "outputs": [],
   "source": [
    "#Load tree phi inequalities\n",
    "\n",
    "G62_tree_phi_inequal=[{\"2\":1,\"23\":1,\"234\":1,\"1\":0.5,\"2345\":1},\n",
    "{\"3\":0.5,\"2\":1,\"21\":1,\"216\":1.5,\"2165\":1.5},\n",
    "{\"4\":0.5,\"3\":0.5,\"32\":1,\"321\":1,\"3216\":1.5},\n",
    "{\"5\":0.5,\"4\":0.5,\"43\":0.5,\"432\":1,\"4321\":1},\n",
    "{\"6\":1,\"5\":0.5,\"54\":0.5,\"543\":0.5,\"5432\":1},\n",
    "{\"6\":1,\"1\":0.5,\"12\":1,\"123\":1,\"1234\":1},\n",
    "{\"1\":0.5,\"3\":0.5,\"34\":0.5,\"345\":0.5,\"3456\":1},\n",
    "{\"1\":0.5,\"3\":0.5,\"4\":0.5,\"45\":0.5,\"456\":1},\n",
    "{\"1\":0.5,\"5\":0.5,\"56\":1,\"4\":0.5,\"43\":0.5},\n",
    "{\"1\":0.5,\"6\":1,\"5\":0.5,\"54\":0.5,\"543\":0.5},\n",
    "{\"1\":0.5,\"2\":1,\"3\":0.5,\"34\":0.5,\"345\":0.5},\n",
    "{\"1\":0.5,\"3\":0.5,\"32\":1,\"4\":0.5,\"45\":0.5},\n",
    "{\"1\":0.5,\"4\":0.5,\"43\":0.5,\"432\":1,\"5\":0.5},\n",
    "{\"1\":0.5,\"5\":0.5,\"54\":0.5,\"543\":0.5,\"5432\":1}]"
   ]
  },
  {
   "cell_type": "code",
   "execution_count": 31,
   "metadata": {},
   "outputs": [],
   "source": [
    "#Compare each poly_tree to poly lbm for Ibd\n",
    "\n",
    "pickle_in = open(r\"lbm_data\\G62_phi_failcases_lbm.txt\", \"rb\")\n",
    "data = pickle.load(pickle_in)\n",
    "pickle_in.close()\n",
    "\n",
    "phi_G62={\"1\":1,\"2\":1.5,\"3\":1,\"4\":1,\"5\":1,\"6\":1.5,\"12\":1.5,\"23\":1.5,\"34\":1,\"45\":1,\"56\":1.5,\"61\":1.5,\"123\":1.5,\"234\":1.5,\"345\":1,\"456\":1.5,\"561\":1.5,\"612\":1}\n",
    "lbm=data[0] # print(data[0]) #the first element is that of Integral break divisors.\n",
    "hyperplanes=get_formatted_hyperplanes_txt(lbm,phi_G62)\n",
    "G62poly=Polyhedron(ieqs=hyperplanes)"
   ]
  },
  {
   "cell_type": "code",
   "execution_count": 32,
   "metadata": {},
   "outputs": [
    {
     "name": "stdout",
     "output_type": "stream",
     "text": [
      "[0.0, 0.0, 0.0, 0.0, 0.0, 0.0]\n"
     ]
    }
   ],
   "source": [
    "#Properties to distinguish polyhedra\n",
    "\n",
    "# G62poly.f_vector() \n",
    "# G62poly.n_vertices() #6\n",
    "# G62poly.radius() #0.9128709291752769\n",
    "# G62poly.representative_point()\n",
    "\n",
    "#(0.16666666666666666, 0.6666666666666666, 0.16666666666666666, 0.16666666666666666, 0.16666666666666666, 0.6666666666666666)\n",
    "trans=(-0.16666666666666666, -0.6666666666666666,- 0.16666666666666666, -0.16666666666666666,- 0.16666666666666666, -0.6666666666666666)\n",
    "transG62poly=G62poly.translation(trans)\n",
    "\n",
    "pt=transG62poly.representative_point()\n",
    "pt=[round(i,5) for i in pt]\n",
    "print(pt)"
   ]
  },
  {
   "cell_type": "code",
   "execution_count": 33,
   "metadata": {},
   "outputs": [
    {
     "name": "stdout",
     "output_type": "stream",
     "text": [
      "f-vector G62poly (1, 6, 15, 20, 15, 6, 1)\n",
      "Are they iso? False\n",
      "f-vector (1, 32, 80, 80, 40, 10, 1)\n",
      "Do they contain each other? -1\n",
      "rep point (0.5, 1.0, 0.0, 0.0, 0.0, -1.5)\n",
      "dimesnsion 5\n",
      "--------\n",
      "Are they iso? False\n",
      "f-vector (1, 32, 80, 80, 40, 10, 1)\n",
      "Do they contain each other? -1\n",
      "rep point (0.0, 1.0, 0.5, -2.0, 0.0, 0.5)\n",
      "dimesnsion 5\n",
      "--------\n",
      "Are they iso? False\n",
      "f-vector (1, 32, 80, 80, 40, 10, 1)\n",
      "Do they contain each other? -1\n",
      "rep point (0.0, 0.5, 0.5, 0.5, -2.0, 0.5)\n",
      "dimesnsion 5\n",
      "--------\n",
      "Are they iso? False\n",
      "f-vector (1, 32, 80, 80, 40, 10, 1)\n",
      "Do they contain each other? -1\n",
      "rep point (0.0, 0.5, 0.0, 0.5, 0.5, -1.5)\n",
      "dimesnsion 5\n",
      "--------\n",
      "Are they iso? False\n",
      "f-vector (1, 32, 80, 80, 40, 10, 1)\n",
      "Do they contain each other? -1\n",
      "rep point (-2.0, 0.5, 0.0, 0.0, 0.5, 1.0)\n",
      "dimesnsion 5\n",
      "--------\n",
      "Are they iso? False\n",
      "f-vector (1, 32, 80, 80, 40, 10, 1)\n",
      "Do they contain each other? -1\n",
      "rep point (0.5, 0.5, 0.0, 0.0, -2.0, 1.0)\n",
      "dimesnsion 5\n",
      "--------\n",
      "Are they iso? False\n",
      "f-vector (1, 32, 80, 80, 40, 10, 1)\n",
      "Do they contain each other? -1\n",
      "rep point (0.5, -1.5, 0.5, 0.0, 0.0, 0.5)\n",
      "dimesnsion 5\n",
      "--------\n",
      "Are they iso? False\n",
      "f-vector (1, 32, 80, 80, 40, 10, 1)\n",
      "Do they contain each other? -1\n",
      "rep point (0.5, -2.0, 0.5, 0.5, 0.0, 0.5)\n",
      "dimesnsion 5\n",
      "--------\n",
      "Are they iso? False\n",
      "f-vector (1, 32, 80, 80, 40, 10, 1)\n",
      "Do they contain each other? -1\n",
      "rep point (0.5, -2.0, 0.0, 0.5, 0.5, 0.5)\n",
      "dimesnsion 5\n",
      "--------\n",
      "Are they iso? False\n",
      "f-vector (1, 32, 80, 80, 40, 10, 1)\n",
      "Do they contain each other? -1\n",
      "rep point (0.5, -2.0, 0.0, 0.0, 0.5, 1.0)\n",
      "dimesnsion 5\n",
      "--------\n",
      "Are they iso? False\n",
      "f-vector (1, 32, 80, 80, 40, 10, 1)\n",
      "Do they contain each other? -1\n",
      "rep point (0.5, 1.0, 0.5, 0.0, 0.0, -2.0)\n",
      "dimesnsion 5\n",
      "--------\n",
      "Are they iso? False\n",
      "f-vector (1, 32, 80, 80, 40, 10, 1)\n",
      "Do they contain each other? -1\n",
      "rep point (0.5, 0.5, 0.5, 0.5, 0.0, -2.0)\n",
      "dimesnsion 5\n",
      "--------\n",
      "Are they iso? False\n",
      "f-vector (1, 32, 80, 80, 40, 10, 1)\n",
      "Do they contain each other? -1\n",
      "rep point (0.5, 0.5, 0.0, 0.5, 0.5, -2.0)\n",
      "dimesnsion 5\n",
      "--------\n",
      "Are they iso? False\n",
      "f-vector (1, 32, 80, 80, 40, 10, 1)\n",
      "Do they contain each other? -1\n",
      "rep point (0.5, 0.5, 0.0, 0.0, 0.5, -1.5)\n",
      "dimesnsion 5\n",
      "--------\n",
      "[5, 5, 5, 5, 5, 5, 5, 5, 5, 5, 5, 5, 5, 5]\n"
     ]
    }
   ],
   "source": [
    "dim_check=[]\n",
    "pols=[]\n",
    "\n",
    "print(\"f-vector G62poly\",G62poly.f_vector(),\"\\n\")\n",
    "\n",
    "for inequ in G62_tree_phi_inequal:\n",
    "    lbm=[[0,0,0,0,0,0]]\n",
    "    hyperp=mod_get_formatted_hyperplanes_txt(lbm,inequ)\n",
    "    tree_poly=Polyhedron(ieqs=hyperp)\n",
    "    pols.append(tree_poly)\n",
    "    \n",
    "#     for i in tree_poly.Hrepresentation():\n",
    "#         print(i)\n",
    "    \n",
    "#     print(dim(G62poly&tree_poly)) #in different hyperplanes. #https://ask.sagemath.org/question/26602/can-i-intersect-the-boundaries-of-two-polyhedra-and-display-it/\n",
    "    print(\"Are they iso?\",G62poly.is_combinatorially_isomorphic(tree_poly))\n",
    "    print(\"f-vector\",tree_poly.f_vector()) #Are these polytopes the same?\n",
    "#     print(tree_poly.n_vertices()) #32\n",
    "#     print(tree_poly.radius())\n",
    "    x=tree_poly &transG62poly #Do not contain.\n",
    "    print(\"Do they contain each other?\",dim(x))\n",
    "    \n",
    "    print(\"rep point\",tree_poly.representative_point())\n",
    "    \n",
    "#     if x.is_combinatorially_isomorphic(transG62poly):\n",
    "#         print(\"contains\")\n",
    "#     else:\n",
    "#         print(\"doesnt contain\")\n",
    "\n",
    "    dimp=poly_size(hyperp)\n",
    "    print(\"dimension\",dimp)\n",
    "    dim_check.append(dimp)\n",
    "    print(\"--------\")\n",
    "print(dim_check) # [5, 5, 5, 5, 5, 5, 5, 5, 5, 5, 5, 5, 5, 5]\n",
    "\n"
   ]
  },
  {
   "cell_type": "code",
   "execution_count": null,
   "metadata": {},
   "outputs": [],
   "source": [
    "#Comparing phi-tree-polys:\n",
    "\n",
    "# for p in pols:\n",
    "#     for q in pols:\n",
    "#         if p==q:\n",
    "#             pass\n",
    "#         else:\n",
    "# #             print(p==q) #Not equal\n",
    "# #             print(p.is_combinatorially_isomorphic(q)) #are isomorphic to each other.\n",
    "#     print(\"finished this p\")\n",
    "\n",
    "# #Taking intersection of phi-tree-polys\n",
    "# q=pols[0]\n",
    "# for p in pols:\n",
    "#     q=q & p\n",
    "# print(dim(q)) #5\n",
    "\n",
    "#Finding a representive point\n",
    "# r=Polyhedron(ieqs=[(-2,1,1,1,1,1,1),(2,-1,-1,-1,-1,-1,-1)])\n",
    "# z=q&r\n",
    "# pt=z.representative_point()\n",
    "# print(pt)"
   ]
  },
  {
   "cell_type": "markdown",
   "metadata": {},
   "source": [
    "## G63  and Comparision with polytope by phi lbm inequalities (IBD)"
   ]
  },
  {
   "cell_type": "code",
   "execution_count": null,
   "metadata": {},
   "outputs": [],
   "source": [
    "G63_tree_phi_inequal=[{\"1\":0.5,\"2\":0.5,\"23\":1,\"234\":1,\"2345\":1},\n",
    "{\"2\":0.5,\"3\":1,\"34\":1,\"345\":1,\"3456\":1.5},\n",
    "{\"3\":1,\"4\":0.5,\"45\":0.5,\"456\":1,\"4561\":1},\n",
    "{\"4\":0.5,\"5\":0.5,\"56\":1,\"561\":1,\"5612\":1},\n",
    "{\"5\":0.5,\"6\":1,\"61\":1,\"612\":1,\"6123\":1.5},\n",
    "{\"6\":1,\"1\":0.5,\"12\":0.5,\"123\":1,\"1234\":1},\n",
    "{\"4\":0.5,\"1\":0.5,\"12\":0.5,\"123\":1,\"1236\":1.5},\n",
    "{\"4\":0.5,\"5\":0.5,\"1\":0.5,\"12\":0.5,\"56\":1},\n",
    "{\"1\":0.5,\"12\":0.5,\"5\":0.5,\"54\":0.5,\"6\":1},\n",
    "{\"1\":0.5,\"2\":0.5,\"23\":1,\"4\":0.5,\"45\":0.5},\n",
    "{\"2\":0.5,\"1\":0.5,\"4\":0.5,\"5\":0.5,\"234\":0.5},\n",
    "{\"1\":0.5,\"16\":1,\"2\":0.5,\"5\":0.5,\"54\":0.5},\n",
    "{\"2\":0.5,\"21\":0.5,\"4\":0.5,\"45\":0.5,\"3\":1},\n",
    "{\"2\":0.5,\"21\":0.5,\"4\":0.5,\"43\":1,\"5\":0.5},\n",
    "{\"2\":0.5,\"21\":0.5,\"216\":1,\"2163\":1.5,\"5\":0.5}]"
   ]
  },
  {
   "cell_type": "code",
   "execution_count": null,
   "metadata": {},
   "outputs": [],
   "source": [
    "dim_check=[]\n",
    "for inequ in G63_tree_phi_inequal:\n",
    "    lbm=[[0,0,0,0,0,0]]\n",
    "    hyperp=mod_get_formatted_hyperplanes_txt(lbm,inequ)\n",
    "    dim_check.append(poly_size(hyperp))\n",
    "print(dim_check)\n",
    "# [5, 5, 5, 5, 5, 5, 5, 5, 5, 5, 5, 5, 5, 5, 5]"
   ]
  },
  {
   "cell_type": "markdown",
   "metadata": {},
   "source": [
    "## K33 testing dimension of phi-tree-polytope for selected trees"
   ]
  },
  {
   "cell_type": "code",
   "execution_count": 41,
   "metadata": {},
   "outputs": [
    {
     "name": "stdout",
     "output_type": "stream",
     "text": [
      "[5, 5]\n"
     ]
    }
   ],
   "source": [
    "#We choose a selection of trees and determine the dimension of the polytope.\n",
    "\n",
    "K33_tree_phi_inequal=[{\"6\":1,\"1\":1,\"12\":1.5,\"123\":2,\"1234\":2.5},#from necklace\n",
    "                     {\"2\":1,\"3\":1,\"25\":1.5,\"254\":2,\"2541\":2.5,}] #not necklace tree\n",
    "    \n",
    "dim_check=[]\n",
    "for inequ in K33_tree_phi_inequal:\n",
    "    lbm=[[0,0,0,0,0,0]]\n",
    "    hyperp=mod_get_formatted_hyperplanes_txt(lbm,inequ)\n",
    "    \n",
    "#     for i in hyperp: #Work and cor to paper calc\n",
    "#         print(i)\n",
    "#     print(\"\\n\")\n",
    "    \n",
    "    dim_check.append(poly_size(hyperp))\n",
    "    \n",
    "    tree_poly=Polyhedron(ieqs=hyperp)\n",
    "    \n",
    "#     for i in tree_poly.Hrepresentation():\n",
    "#         print(i)\n",
    "    \n",
    "#     print(\"\\n rep point\",tree_poly.representative_point())\n",
    "    \n",
    "    \n",
    "print(dim_check)\n"
   ]
  },
  {
   "cell_type": "markdown",
   "metadata": {},
   "source": [
    "## $GSym_3$"
   ]
  },
  {
   "cell_type": "code",
   "execution_count": 35,
   "metadata": {},
   "outputs": [
    {
     "name": "stdout",
     "output_type": "stream",
     "text": [
      "[3]\n"
     ]
    }
   ],
   "source": [
    "Gsym3_tree_phi_inequal=[{\"1\":1,\"12\":1.5,\"123\":2}] #from necklace tree\n",
    "    \n",
    "dim_check=[]\n",
    "for inequ in Gsym3_tree_phi_inequal:\n",
    "    lbm=[[0,0,0,0]]\n",
    "    hyperp=mod_get_formatted_hyperplanes_txt(lbm,inequ)\n",
    "    dim_check.append(poly_size(hyperp))\n",
    "print(dim_check)\n"
   ]
  },
  {
   "cell_type": "markdown",
   "metadata": {
    "tags": []
   },
   "source": [
    "# Get phi that works for Ibd case (phi center of polytope):"
   ]
  },
  {
   "cell_type": "markdown",
   "metadata": {},
   "source": [
    "We now determine a phi that satisfies the phi inequalities for line bundles applied to the case where the stabiltiy condition is for integral break divisors."
   ]
  },
  {
   "cell_type": "markdown",
   "metadata": {
    "tags": []
   },
   "source": [
    "## Get G455 center phi "
   ]
  },
  {
   "cell_type": "markdown",
   "metadata": {},
   "source": [
    "We get phi center for all lbm for G455 and complie G455_center_phi as a result."
   ]
  },
  {
   "cell_type": "code",
   "execution_count": null,
   "metadata": {},
   "outputs": [],
   "source": [
    "pickle_in = open(r\"G455_data.txt\", \"rb\")\n",
    "data = pickle.load(pickle_in)\n",
    "pickle_in.close()"
   ]
  },
  {
   "cell_type": "code",
   "execution_count": null,
   "metadata": {
    "tags": []
   },
   "outputs": [],
   "source": [
    "\"We take G455 and return the phi center of polytope.\"\n",
    "\n",
    "phi_G455={\"1\":1,\"2\":1.5,\"3\":1,\"4\":1.5,\"12\":1.5,\"23\":1.5,\"34\":1.5,\"41\":1.5}\n",
    "\n",
    "all_lbm=[i[1] for i in data]\n",
    "\n",
    "for lbm in all_lbm:\n",
    "    \n",
    "    data=get_formatted_hyperplanes_txt(lbm,phi_G455)\n",
    "\n",
    "    poly=Polyhedron(ieqs=data)\n",
    "    phi=get_a_phi(poly) # this is not the average\n",
    "    # \n",
    "    print(lbm)\n",
    "    mod_where_specific_lbm_fail(phi_G455,lbm,phi)\n",
    "    \n",
    "    print(\"\\n ----\")"
   ]
  },
  {
   "cell_type": "markdown",
   "metadata": {
    "tags": []
   },
   "source": [
    "## G62"
   ]
  },
  {
   "cell_type": "code",
   "execution_count": null,
   "metadata": {
    "jupyter": {
     "source_hidden": true
    }
   },
   "outputs": [],
   "source": [
    "pickle_in = open(r\"lbm_data\\G62_phi_failcases_lbm.txt\", \"rb\")\n",
    "data = pickle.load(pickle_in)\n",
    "pickle_in.close()"
   ]
  },
  {
   "cell_type": "code",
   "execution_count": null,
   "metadata": {
    "jupyter": {
     "source_hidden": true
    }
   },
   "outputs": [],
   "source": [
    "\"We check if another phi works\"\n",
    "\n",
    "phi_G62={\"1\":1,\"2\":1.5,\"3\":1,\"4\":1,\"5\":1,\"6\":1.5,\"12\":1.5,\"23\":1.5,\"34\":1,\"45\":1,\"56\":1.5,\"61\":1.5,\"123\":1.5,\"234\":1.5,\"345\":1,\"456\":1.5,\"561\":1.5,\"612\":1}\n",
    "\n",
    "lbm=data[0] # print(data[0]) #the first element is that of Integral break divisors.\n",
    "\n",
    "hyperplanes=get_formatted_hyperplanes_txt(lbm,phi_G62)\n",
    "\n",
    "poly=Polyhedron(ieqs=hyperplanes)\n",
    "phi=get_a_phi(poly)\n",
    "\n",
    "# print(mod_where_specific_lbm_fail(phi_G62,lbm,phi))\n",
    "\n",
    "\"\"\"\n",
    "G62\n",
    "The phi (center of polytope): (1/6,2/3,1/6,1/6,1/6,2/3)  does not fail the phi-inequalities\n",
    "phi average is: [0.35714286 0.5        0.21428571 0.21428571 0.21428571 0.5       ]\n",
    "\"\"\""
   ]
  },
  {
   "cell_type": "markdown",
   "metadata": {
    "jp-MarkdownHeadingCollapsed": true,
    "tags": []
   },
   "source": [
    "## G63"
   ]
  },
  {
   "cell_type": "code",
   "execution_count": null,
   "metadata": {
    "jupyter": {
     "outputs_hidden": true,
     "source_hidden": true
    }
   },
   "outputs": [],
   "source": [
    "pickle_in = open(r\"lbm_data\\G63_phi_failcases_lbm.txt\", \"rb\")\n",
    "data = pickle.load(pickle_in)\n",
    "pickle_in.close()"
   ]
  },
  {
   "cell_type": "code",
   "execution_count": null,
   "metadata": {
    "jupyter": {
     "source_hidden": true
    }
   },
   "outputs": [],
   "source": [
    "\"We check if another phi works\"\n",
    "\n",
    "lbm=data[0] # print(data[0]) #the first element is that of Integral break divisors.\n",
    "\n",
    "phi_G63={\"1\":1,\"2\":1,\"3\":1.5,\"4\":1,\"5\":1,\"6\":1.5,\"12\":1,\"23\":1.5,\"34\":1.5,\"45\":1,\"56\":1.5,\"61\":1.5,\"123\":1.5,\"234\":1.5,\"345\":1.5,\"456\":1.5,\"561\":1.5,\"612\":1.5}\n",
    "\n",
    "hyperplanes=get_formatted_hyperplanes_txt(lbm,phi_G63)\n",
    "\n",
    "poly=Polyhedron(ieqs=hyperplanes)\n",
    "\n",
    "phi=get_a_phi(poly)\n",
    "\n",
    "# phi_av = [0.26666667 0.26666667 0.46666667 0.26666667 0.26666667 0.46666667]\n",
    "\n",
    "mod_where_specific_lbm_fail(phi_G63,lbm,phi)\n",
    "\n",
    "\"\"\"\n",
    "G63\n",
    "The phi (center of polytope): (1/6,1/6,2/3,1/6,1/6,2/3) does not fail the phi-inequalities\n",
    "(0.16666666666666666, 0.16666666666666666, 0.6666666666666666, 0.16666666666666666, 0.16666666666666666, 0.6666666666666666) \n",
    "phi average is: [0.26666667 0.26666667 0.46666667 0.26666667 0.26666667 0.46666667]\n",
    "\"\"\""
   ]
  },
  {
   "cell_type": "markdown",
   "metadata": {},
   "source": [
    "## G72"
   ]
  },
  {
   "cell_type": "code",
   "execution_count": null,
   "metadata": {
    "jupyter": {
     "source_hidden": true
    }
   },
   "outputs": [],
   "source": [
    "pickle_in = open(r\"lbm_data\\G72_phi_failcases_lbm.txt\", \"rb\")\n",
    "data = pickle.load(pickle_in)\n",
    "pickle_in.close()"
   ]
  },
  {
   "cell_type": "code",
   "execution_count": null,
   "metadata": {
    "jupyter": {
     "source_hidden": true
    }
   },
   "outputs": [],
   "source": [
    "\"We check if another phi works\"\n",
    "\n",
    "lbm=data[0] # print(data[0]) #the first element is that of Integral break divisors.\n",
    "\n",
    "phi_G72={\"1\":1,\"2\":1.5,\"3\":1,\"4\":1,\"5\":1,\"6\":1,\"7\":1.5,\"12\":1.5,\"23\":1.5,\"34\":1,\"45\":1,\"56\":1,\"67\":1.5,\"71\":1.5,\"123\":1.5,\"234\":1.5,\"345\":1,\"456\":1,\"567\":1.5,\"671\":1.5,\"712\":1}\n",
    "\n",
    "hyperplanes=get_formatted_hyperplanes_txt(lbm,phi_G72)\n",
    "\n",
    "poly=Polyhedron(ieqs=hyperplanes)\n",
    "\n",
    "phi=get_a_phi(poly)\n",
    "\n",
    "mod_where_specific_lbm_fail(phi_G72,lbm,phi)\n",
    "\n",
    "\"\"\"\n",
    "G72\n",
    "The phi (center of polytope): (1/7,9/14,1/7,1/7,1/7,1/7,9/14) does not fail the phi-inequalities\n",
    "(0.14285714285714285, 0.6428571428571428, 0.14285714285714285, 0.14285714285714285, 0.14285714285714285, 0.14285714285714285, 0.6428571428571428) \n",
    "phi average is: [0.35294118 0.47058824 0.17647059 0.17647059 0.17647059 0.17647059 0.47058824]\n",
    "\"\"\""
   ]
  },
  {
   "cell_type": "markdown",
   "metadata": {},
   "source": [
    "## G73"
   ]
  },
  {
   "cell_type": "code",
   "execution_count": null,
   "metadata": {
    "jupyter": {
     "source_hidden": true
    }
   },
   "outputs": [],
   "source": [
    "pickle_in = open(r\"lbm_data\\G73_phi_failcases_lbm.txt\", \"rb\")\n",
    "data = pickle.load(pickle_in)\n",
    "pickle_in.close()"
   ]
  },
  {
   "cell_type": "code",
   "execution_count": null,
   "metadata": {
    "jupyter": {
     "source_hidden": true
    }
   },
   "outputs": [],
   "source": [
    "\"We check if another phi works\"\n",
    "\n",
    "lbm=data[0] # print(data[0]) #the first element is that of Integral break divisors.\n",
    "\n",
    "phi_G73={\"1\":1,\"2\":1,\"3\":1.5,\"4\":1,\"5\":1,\"6\":1,\"7\":1.5,\"12\":1,\"23\":1.5,\"34\":1.5,\"45\":1,\"56\":1,\"67\":1.5,\"71\":1.5,\"123\":1.5,\"234\":1.5,\"345\":1.5,\"456\":1,\"567\":1.5,\"671\":1.5,\"712\":1.5}\n",
    "\n",
    "hyperplanes=get_formatted_hyperplanes_txt(lbm,phi_G73)\n",
    "\n",
    "poly=Polyhedron(ieqs=hyperplanes)\n",
    "\n",
    "phi=get_a_phi(poly)\n",
    "\n",
    "mod_where_specific_lbm_fail(phi_G73,lbm,phi)\n",
    "\n",
    "\"\"\"\n",
    "G73\n",
    "The phi (center of polytope): (1/7,1/7,9/14,1/7,1/7,1/7,9/14)  does not fail the phi-inequalities\n",
    "(0.14285714285714285, 0.14285714285714285, 0.6428571428571428, 0.14285714285714285, 0.14285714285714285, 0.14285714285714285, 0.6428571428571428) \n",
    "phi average is: [0.26315789 0.26315789 0.42105263 0.21052632 0.21052632 0.21052632 0.42105263]\n",
    "\"\"\""
   ]
  },
  {
   "cell_type": "code",
   "execution_count": null,
   "metadata": {
    "jupyter": {
     "source_hidden": true
    }
   },
   "outputs": [],
   "source": []
  }
 ],
 "metadata": {
  "kernelspec": {
   "display_name": "SageMath 9.2",
   "language": "sage",
   "name": "sagemath"
  },
  "language_info": {
   "codemirror_mode": {
    "name": "ipython",
    "version": 3
   },
   "file_extension": ".py",
   "mimetype": "text/x-python",
   "name": "python",
   "nbconvert_exporter": "python",
   "pygments_lexer": "ipython3",
   "version": "3.7.7"
  }
 },
 "nbformat": 4,
 "nbformat_minor": 4
}
