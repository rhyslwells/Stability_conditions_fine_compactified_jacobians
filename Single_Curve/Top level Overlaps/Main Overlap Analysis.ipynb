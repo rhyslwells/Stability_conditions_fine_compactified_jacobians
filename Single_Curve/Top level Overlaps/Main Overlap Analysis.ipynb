{
 "cells": [
  {
   "cell_type": "markdown",
   "metadata": {},
   "source": [
    "To do: Focus G455\n",
    "\n",
    "- Get mini patches by hand\n",
    "- Investigate mini patches intersection.\n",
    "\n",
    "Done: \n",
    "- Get assignments for remaining cycles for ordering of $\\Gamma$ (Remember labeling of trees).\n"
   ]
  },
  {
   "cell_type": "markdown",
   "metadata": {
    "jp-MarkdownHeadingCollapsed": true,
    "tags": []
   },
   "source": [
    "# Imports and Functions"
   ]
  },
  {
   "cell_type": "code",
   "execution_count": 2,
   "metadata": {},
   "outputs": [],
   "source": [
    "import numpy as np"
   ]
  },
  {
   "cell_type": "code",
   "execution_count": 3,
   "metadata": {},
   "outputs": [],
   "source": [
    "def union_patches(*args):\n",
    "    \"\"\"\n",
    "    s1={1}\n",
    "    s2={2}\n",
    "    s4={4}\n",
    "\n",
    "    print(union_patches(s2,s1,s4))\n",
    "    \"\"\"\n",
    "    \n",
    "    s=args[0]\n",
    "    for i in args[1:]:\n",
    "        s=s.union(i)\n",
    "#     s=sum(args)\n",
    "    return s"
   ]
  },
  {
   "cell_type": "code",
   "execution_count": 4,
   "metadata": {},
   "outputs": [],
   "source": [
    "def size_checker(ass_lst,breaks):\n",
    "    \"\"\"Check these have been inputted correctly:\n",
    "    for i in breaks:\n",
    "        print([len(j) for j in i])\n",
    "        \n",
    "    Order matters with ass_lst and breaks\n",
    "    \"\"\"\n",
    "    union=[]\n",
    "    for i in range(len(ass_lst)): #pick an assignment\n",
    "        for j in range(len(breaks[i])): # Because of 4 break divisors  \n",
    "            x=ass_lst[i]+np.array(breaks[i][j])\n",
    "            union.append(x) #BREAKS\n",
    "\n",
    "    union=np.unique(union,axis=0)\n",
    "    return len(union),union"
   ]
  },
  {
   "cell_type": "code",
   "execution_count": 5,
   "metadata": {},
   "outputs": [],
   "source": [
    "def intersect_counter(n,b1,b2,b3,b4):\n",
    "    \n",
    "    \"\"\"\n",
    "    For: # Chip add from Codim 1 layer (patches for each Subgi)\n",
    "    \"\"\"\n",
    "        \n",
    "    nb1=n.intersection(b1)\n",
    "    nb2=n.intersection(b2)\n",
    "    nb3=n.intersection(b3)\n",
    "    nb4=n.intersection(b4)\n",
    "\n",
    "    b1b2=b1.intersection(b2)\n",
    "    b1b3=b1.intersection(b3)\n",
    "    b1b4=b1.intersection(b4)\n",
    "    b2b3=b2.intersection(b3)\n",
    "    b2b4=b2.intersection(b4)\n",
    "    b3b4=b3.intersection(b4)\n",
    "\n",
    "    bibj=(len(nb1),len(nb2),len(nb3),len(nb4),len(b1b2),len(b1b3),len(b1b4),len(b2b3),len(b2b4),len(b3b4))\n",
    "\n",
    "#     print(\"----------------------\")\n",
    "\n",
    "    nb1b2=n.intersection(b1,b2)\n",
    "    nb1b3=n.intersection(b1,b3)\n",
    "    nb1b4=n.intersection(b1,b4)\n",
    "    nb2b3=n.intersection(b2,b3)\n",
    "    nb2b4=n.intersection(b2,b4)\n",
    "    nb3b4=n.intersection(b3,b4)\n",
    "\n",
    "    b1b2b3=b1.intersection(b2,b3)\n",
    "    b1b2b4=b1.intersection(b2,b4)\n",
    "    b1b3b4=b1.intersection(b3,b4)\n",
    "    b2b3b4=b2.intersection(b3,b4)\n",
    "\n",
    "    bibjbk=(len(nb1b2),len(nb1b3),len(nb1b4),len(nb2b3),len(nb2b4),len(nb3b4),len(b1b2b3),len(b1b2b4),len(b1b3b4),len(b2b3b4))\n",
    "\n",
    "#     print(\"----------------------\")\n",
    "\n",
    "    nb1b2b3=n.intersection(b1,b2,b3)\n",
    "    nb1b2b4=n.intersection(b1,b2,b4)\n",
    "    nb1b3b4=n.intersection(b1,b3,b4)\n",
    "    nb2b3b4=n.intersection(b2,b3,b4)\n",
    "\n",
    "    b1b2b3b4=b1.intersection(b2,b3,b4)\n",
    "\n",
    "    bibjbkbl=(len(nb1b2b3),len(nb1b2b4),len(nb1b3b4),len(nb2b3b4),len(b1b2b3b4))\n",
    "\n",
    "    nbibjbkbl=(len(n.intersection(b1,b2,b3,b4)),)\n",
    "    \n",
    "    return bibj,bibjbk,bibjbkbl,nbibjbkbl"
   ]
  },
  {
   "cell_type": "code",
   "execution_count": 6,
   "metadata": {},
   "outputs": [],
   "source": [
    "def mp_intersect_counter(b1,b2,b3,b4):\n",
    "    \n",
    "    #For minipatches\n",
    "    \n",
    "    \"\"\"\n",
    "    For: # Chip add from Codim 1 layer (patches for each Subgi)\n",
    "    \"\"\"\n",
    "\n",
    "    b1b2=b1.intersection(b2)\n",
    "    b1b3=b1.intersection(b3)\n",
    "    b1b4=b1.intersection(b4)\n",
    "    b2b3=b2.intersection(b3)\n",
    "    b2b4=b2.intersection(b4)\n",
    "    b3b4=b3.intersection(b4)\n",
    "\n",
    "    bibj=(len(b1b2),len(b1b3),len(b1b4),len(b2b3),len(b2b4),len(b3b4))\n",
    "\n",
    "#     print(\"----------------------\")\n",
    "\n",
    "    b1b2b3=b1.intersection(b2,b3)\n",
    "    b1b2b4=b1.intersection(b2,b4)\n",
    "    b1b3b4=b1.intersection(b3,b4)\n",
    "    b2b3b4=b2.intersection(b3,b4)\n",
    "\n",
    "    bibjbk=(len(b1b2b3),len(b1b2b4),len(b1b3b4),len(b2b3b4))\n",
    "\n",
    "#     print(\"----------------------\")\n",
    "\n",
    "\n",
    "    b1b2b3b4=b1.intersection(b2,b3,b4)\n",
    "\n",
    "    bibjbkbl=(len(b1b2b3b4),)\n",
    "    \n",
    "    return bibj,bibjbk,bibjbkbl"
   ]
  },
  {
   "cell_type": "code",
   "execution_count": 41,
   "metadata": {},
   "outputs": [],
   "source": [
    "def subgi(ass_lst,e1,e2,e3,e4,em):\n",
    "    \n",
    "\n",
    "    #Specific to G455.\n",
    "\n",
    "    #Input:ass_lst,e1,e2,e3,e4,em\n",
    "    #Output:subg1,subg2,subg3,subg4\n",
    "\n",
    "    ass_lst_0=[ass_lst[0],ass_lst[1],ass_lst[2],ass_lst[3]] #Trees :1234 wrt to document pdf\n",
    "    breaks_0=[e1,e2,e3,e4]\n",
    "    neck=size_checker(ass_lst_0,breaks_0)[1]\n",
    "\n",
    "    # Subgraph Subgi contains the trees of the necklace Ti\n",
    "\n",
    "    ass_lst_1=[ass_lst[0],ass_lst[4],ass_lst[5]] #T156\n",
    "    breaks_1=[em,e4,e3]\n",
    "    subg1=size_checker(ass_lst_1,breaks_1)[1]\n",
    "\n",
    "    ass_lst_2=[ass_lst[1],ass_lst[6],ass_lst[7]] #T278\n",
    "    breaks_2=[em,e4,e3]\n",
    "    subg2=size_checker(ass_lst_2,breaks_2)[1]\n",
    "\n",
    "    ass_lst_3=[ass_lst[2],ass_lst[5],ass_lst[7]] #T368\n",
    "    breaks_3=[em,e1,e2]\n",
    "    subg3=size_checker(ass_lst_3,breaks_3)[1]\n",
    "\n",
    "    ass_lst_4=[ass_lst[3],ass_lst[4],ass_lst[6]] #T457\n",
    "    breaks_4=[em,e1,e2]\n",
    "    subg4=size_checker(ass_lst_4,breaks_4)[1]\n",
    "\n",
    "    return neck,subg1,subg2,subg3,subg4"
   ]
  },
  {
   "cell_type": "code",
   "execution_count": 15,
   "metadata": {},
   "outputs": [],
   "source": [
    "def chipadd_subg(neck,subg1,subg2,subg3,subg4,em,e1,e2,e3,e4):\n",
    "    \n",
    "    #Input: n,subg1,subg2,subg3,subg4,em,e1,e2,e3,e4\n",
    "    #Output: n,b1,b2,b3,b4\n",
    "    \n",
    "    # Now for each subgi we chip add to each element along the remaining edge and obtain the chip-add-patch\n",
    "\n",
    "    #neck: em\n",
    "    breaks_n=[em]*len(neck)\n",
    "    n=size_checker(neck,breaks_n)[1]\n",
    "    n=set([tuple(b) for b in n])\n",
    "\n",
    "    #subg1: e1 #where we are chip adding along now\n",
    "    breaks_s1=[e1]*len(subg1)\n",
    "    b1=size_checker(subg1,breaks_s1)[1]\n",
    "    b1=set([tuple(b) for b in b1])\n",
    "\n",
    "    #subg2: e2\n",
    "    breaks_s2=[e2]*len(subg2)\n",
    "    b2=size_checker(subg2,breaks_s2)[1]\n",
    "    b2=set([tuple(b) for b in b2])\n",
    "\n",
    "    #subg3: e3\n",
    "    breaks_s3=[e3]*len(subg3)\n",
    "    b3=size_checker(subg3,breaks_s3)[1]\n",
    "    b3=set([tuple(b) for b in b3])\n",
    "\n",
    "    #subg4: e4\n",
    "    breaks_s4=[e4]*len(subg4)\n",
    "    b4=size_checker(subg4,breaks_s4)[1]\n",
    "    b4=set([tuple(b) for b in b4])\n",
    "\n",
    "    return n,b1,b2,b3,b4    "
   ]
  },
  {
   "cell_type": "code",
   "execution_count": 9,
   "metadata": {},
   "outputs": [],
   "source": [
    "def inc_ex(n,b1,b2,b3,b4):\n",
    "    \n",
    "    #Check total : incl ex\n",
    "\n",
    "    data=intersect_counter(n,b1,b2,b3,b4)\n",
    "\n",
    "    s1=len(n)+len(b1)+len(b2)+len(b3)+len(b4)\n",
    "\n",
    "    s2=sum(data[0])\n",
    "    s3=sum(data[1])\n",
    "    s4=sum(data[2])\n",
    "    s5=sum(data[3])\n",
    "\n",
    "    total=s1-s2+s3-s4+s5\n",
    "    total #Should be 8\n",
    "\n",
    "    #Input: n,b1,b2,b3,b4\n",
    "    #Output: total size of  sigma(\\Gamma)\n",
    "    return total"
   ]
  },
  {
   "cell_type": "markdown",
   "metadata": {
    "tags": []
   },
   "source": [
    "# Initial data"
   ]
  },
  {
   "cell_type": "markdown",
   "metadata": {
    "jp-MarkdownHeadingCollapsed": true,
    "tags": []
   },
   "source": [
    "## (1342)"
   ]
  },
  {
   "cell_type": "code",
   "execution_count": 33,
   "metadata": {},
   "outputs": [],
   "source": [
    "#Corrected to tablets (1342)\n",
    "\n",
    "ass1=np.array([0., 0., 0., 0.])\n",
    "ass2= np.array([ 1.,  0., -1.,  0.])\n",
    "ass3= np.array([ 0.,  1., -1.,  0.])\n",
    "ass4= np.array([ 0.,  1., -1.,  0.])\n",
    "ass5= np.array([ 0., 0,0,0])\n",
    "ass6= np.array([ 0.,  0,0,0])\n",
    "ass7= np.array([1.,0, -1.,  0.])\n",
    "ass8=np.array([ 1,0,-1,0])\n",
    "\n",
    "ass_lst1342=[ass1,ass2,ass3,ass4,ass5,ass6,ass7,ass8]"
   ]
  },
  {
   "cell_type": "markdown",
   "metadata": {
    "jp-MarkdownHeadingCollapsed": true,
    "tags": []
   },
   "source": [
    "## (1234)"
   ]
  },
  {
   "cell_type": "code",
   "execution_count": 23,
   "metadata": {},
   "outputs": [],
   "source": [
    "# (1234)\n",
    "\n",
    "ass1=np.array([0., 0., 0., 0.])\n",
    "ass2= np.array([ 0.,  0., 0.,  0.])\n",
    "ass3= np.array([ 0.,  0., 0.,  0.])\n",
    "ass4= np.array([ 0.,  0., 0.,  0.])\n",
    "ass5= np.array([ 0., 0,0,0])\n",
    "ass6= np.array([ 0.,  0,0,0])\n",
    "ass7= np.array([0.,0, 0.,  0.])\n",
    "ass8=np.array([ 0,0,0,0])\n",
    "\n",
    "ass_lst1234=[ass1,ass2,ass3,ass4,ass5,ass6,ass7,ass8]"
   ]
  },
  {
   "cell_type": "markdown",
   "metadata": {
    "jp-MarkdownHeadingCollapsed": true,
    "tags": []
   },
   "source": [
    "## (1423)"
   ]
  },
  {
   "cell_type": "code",
   "execution_count": 24,
   "metadata": {},
   "outputs": [],
   "source": [
    "# (1423)\n",
    "\n",
    "ass1=np.array([0,0,0,0])\n",
    "ass2= np.array([1,0,0,-1])\n",
    "ass3= np.array([1,0,0,-1])\n",
    "ass4= np.array([0,1,0,-1])\n",
    "ass5= np.array([0,0,1,-1])\n",
    "ass6= np.array([1,0,0,-1])\n",
    "ass7= np.array([1,0,0,-1])\n",
    "ass8=np.array([1,0,0,-1])\n",
    "\n",
    "ass_lst1423=[ass1,ass2,ass3,ass4,ass5,ass6,ass7,ass8]"
   ]
  },
  {
   "cell_type": "markdown",
   "metadata": {
    "jp-MarkdownHeadingCollapsed": true,
    "tags": []
   },
   "source": [
    "## (1243)"
   ]
  },
  {
   "cell_type": "code",
   "execution_count": 25,
   "metadata": {},
   "outputs": [],
   "source": [
    "# (1243)\n",
    "\n",
    "ass1=np.array([0,0,0,0])\n",
    "ass2=np.array([0,0,0,0])\n",
    "ass3=np.array([1,0,0,-1])\n",
    "ass4=np.array([0,0,1,-1])\n",
    "ass5=np.array([0,0,1,-1])\n",
    "ass6=np.array([1,0,0,-1])\n",
    "ass7=np.array([0,0,1,-1])\n",
    "ass8=np.array([1,0,0,-1])\n",
    "\n",
    "ass_lst1243=[ass1,ass2,ass3,ass4,ass5,ass6,ass7,ass8]"
   ]
  },
  {
   "cell_type": "markdown",
   "metadata": {
    "jp-MarkdownHeadingCollapsed": true,
    "tags": []
   },
   "source": [
    "## (1324)"
   ]
  },
  {
   "cell_type": "code",
   "execution_count": 26,
   "metadata": {},
   "outputs": [],
   "source": [
    "# (1324)\n",
    "\n",
    "ass1=np.array([0,0,0,0])\n",
    "ass2=np.array([0,0,-1,1])\n",
    "ass3=np.array([0,1,-1,0])\n",
    "ass4=np.array([0,0,0,0])\n",
    "ass5=np.array([0,0,0,0])\n",
    "ass6=np.array([0,0,0,0])\n",
    "ass7=np.array([0,0,0,0])\n",
    "ass8=np.array([1,0,-1,0])\n",
    "\n",
    "ass_lst1324=[ass1,ass2,ass3,ass4,ass5,ass6,ass7,ass8]"
   ]
  },
  {
   "cell_type": "markdown",
   "metadata": {
    "jp-MarkdownHeadingCollapsed": true,
    "tags": []
   },
   "source": [
    "## (1432)"
   ]
  },
  {
   "cell_type": "code",
   "execution_count": 27,
   "metadata": {},
   "outputs": [],
   "source": [
    "# (1432)\n",
    "\n",
    "ass1=np.array([0,0,0,0])\n",
    "ass2=np.array([1,0,-1,0])\n",
    "ass3=np.array([1,1,-1,-1])\n",
    "ass4=np.array([0,1,0,-1])\n",
    "ass5=np.array([0,0,1,-1])\n",
    "ass6=np.array([1,0,0,-1])\n",
    "ass7=np.array([1,0,0,-1])\n",
    "ass8=np.array([2,0,-1,-1])\n",
    "\n",
    "ass_lst1432=[ass1,ass2,ass3,ass4,ass5,ass6,ass7,ass8]"
   ]
  },
  {
   "cell_type": "markdown",
   "metadata": {
    "tags": []
   },
   "source": [
    "# Subgraph layer Codim 1"
   ]
  },
  {
   "cell_type": "code",
   "execution_count": 11,
   "metadata": {},
   "outputs": [],
   "source": [
    "#Chip adding for each edge Done.\n",
    "\n",
    "e1=[[1,0,0,0],[0,1,0,0]]\n",
    "e2=[[0,1,0,0],[0,0,1,0]]\n",
    "e3=[[0,0,1,0],[0,0,0,1]]\n",
    "e4=[[0,0,0,1],[1,0,0,0]]\n",
    "em=[[1,0,0,0],[0,0,1,0]]"
   ]
  },
  {
   "cell_type": "code",
   "execution_count": null,
   "metadata": {},
   "outputs": [],
   "source": [
    "# neck,subg1,subg2,subg3,subg4=subgi(ass_lst1341,e1,e2,e3,e4,em)\n",
    "# neck,subg1,subg2,subg3,subg4=subgi(ass_lst1234,e1,e2,e3,e4,em)\n",
    "# neck,subg1,subg2,subg3,subg4=subgi(ass_lst1423,e1,e2,e3,e4,em)\n",
    "# neck,subg1,subg2,subg3,subg4=subgi(ass_lst1242,e1,e2,e3,e4,em)\n",
    "# neck,subg1,subg2,subg3,subg4=subgi(ass_lst1324,e1,e2,e3,e4,em)\n",
    "# neck,subg1,subg2,subg3,subg4=subgi(ass_lst1432,e1,e2,e3,e4,em)"
   ]
  },
  {
   "cell_type": "markdown",
   "metadata": {
    "tags": []
   },
   "source": [
    "# Chip add from Codim 1 layer (patches for each Subgi)"
   ]
  },
  {
   "cell_type": "markdown",
   "metadata": {},
   "source": [
    "## (1342)"
   ]
  },
  {
   "cell_type": "code",
   "execution_count": 47,
   "metadata": {},
   "outputs": [
    {
     "name": "stdout",
     "output_type": "stream",
     "text": [
      "Intersection numbers: ((5, 5, 5, 5, 4, 5, 4, 4, 5, 4), (3, 4, 3, 3, 4, 3, 3, 3, 3, 3), (2, 2, 2, 2, 2), (1,))\n",
      "Size of top set: 8\n",
      "Does it satisfy the inc ex principle? :  8\n"
     ]
    }
   ],
   "source": [
    "neck,subg1,subg2,subg3,subg4=subgi(ass_lst1342,e1,e2,e3,e4,em)\n",
    "n,b1,b2,b3,b4=chipadd_subg(neck,subg1,subg2,subg3,subg4,em,e1,e2,e3,e4)\n",
    "print(\"Intersection numbers:\",intersect_counter(n,b1,b2,b3,b4))\n",
    "print(\"Size of top set:\",len(union_patches(n,b1,b2,b3,b4)))\n",
    "print(\"Does it satisfy the inc ex principle? : \",inc_ex(n,b1,b2,b3,b4))"
   ]
  },
  {
   "cell_type": "markdown",
   "metadata": {
    "tags": []
   },
   "source": [
    "## (1234)"
   ]
  },
  {
   "cell_type": "code",
   "execution_count": 46,
   "metadata": {},
   "outputs": [
    {
     "name": "stdout",
     "output_type": "stream",
     "text": [
      "Intersection numbers: ((5, 5, 5, 5, 4, 4, 5, 5, 4, 4), (3, 3, 4, 4, 3, 3, 3, 3, 3, 3), (2, 2, 2, 2, 2), (1,))\n",
      "Size of top set: 8\n",
      "Does it satisfy the inc ex principle? :  8\n"
     ]
    }
   ],
   "source": [
    "neck,subg1,subg2,subg3,subg4=subgi(ass_lst1234,e1,e2,e3,e4,em)\n",
    "n,b1,b2,b3,b4=chipadd_subg(neck,subg1,subg2,subg3,subg4,em,e1,e2,e3,e4)\n",
    "print(\"Intersection numbers:\",intersect_counter(n,b1,b2,b3,b4))\n",
    "print(\"Size of top set:\",len(union_patches(n,b1,b2,b3,b4)))\n",
    "print(\"Does it satisfy the inc ex principle? : \",inc_ex(n,b1,b2,b3,b4))"
   ]
  },
  {
   "cell_type": "markdown",
   "metadata": {
    "tags": []
   },
   "source": [
    "## (1423)"
   ]
  },
  {
   "cell_type": "code",
   "execution_count": 45,
   "metadata": {},
   "outputs": [
    {
     "name": "stdout",
     "output_type": "stream",
     "text": [
      "Intersection numbers: ((6, 6, 6, 6, 4, 5, 5, 5, 5, 4), (4, 5, 5, 5, 5, 4, 4, 4, 4, 4), (4, 4, 4, 4, 4), (4,))\n",
      "Size of top set: 8\n",
      "Does it satisfy the inc ex principle? :  8\n"
     ]
    }
   ],
   "source": [
    "neck,subg1,subg2,subg3,subg4=subgi(ass_lst1423,e1,e2,e3,e4,em)\n",
    "n,b1,b2,b3,b4=chipadd_subg(neck,subg1,subg2,subg3,subg4,em,e1,e2,e3,e4)\n",
    "print(\"Intersection numbers:\",intersect_counter(n,b1,b2,b3,b4))\n",
    "print(\"Size of top set:\",len(union_patches(n,b1,b2,b3,b4)))\n",
    "print(\"Does it satisfy the inc ex principle? : \",inc_ex(n,b1,b2,b3,b4))"
   ]
  },
  {
   "cell_type": "markdown",
   "metadata": {
    "tags": []
   },
   "source": [
    "## (1243)"
   ]
  },
  {
   "cell_type": "code",
   "execution_count": 48,
   "metadata": {},
   "outputs": [
    {
     "name": "stdout",
     "output_type": "stream",
     "text": [
      "Intersection numbers: ((5, 5, 5, 5, 4, 5, 4, 4, 5, 4), (3, 4, 3, 3, 4, 3, 3, 3, 3, 3), (2, 2, 2, 2, 2), (1,))\n",
      "Size of top set: 8\n",
      "Does it satisfy the inc ex principle? :  8\n"
     ]
    }
   ],
   "source": [
    "neck,subg1,subg2,subg3,subg4=subgi(ass_lst1243,e1,e2,e3,e4,em)\n",
    "n,b1,b2,b3,b4=chipadd_subg(neck,subg1,subg2,subg3,subg4,em,e1,e2,e3,e4)\n",
    "print(\"Intersection numbers:\",intersect_counter(n,b1,b2,b3,b4))\n",
    "print(\"Size of top set:\",len(union_patches(n,b1,b2,b3,b4)))\n",
    "print(\"Does it satisfy the inc ex principle? : \",inc_ex(n,b1,b2,b3,b4))"
   ]
  },
  {
   "cell_type": "markdown",
   "metadata": {
    "tags": []
   },
   "source": [
    "## (1324)"
   ]
  },
  {
   "cell_type": "code",
   "execution_count": 49,
   "metadata": {},
   "outputs": [
    {
     "name": "stdout",
     "output_type": "stream",
     "text": [
      "Intersection numbers: ((6, 6, 6, 6, 4, 5, 5, 5, 5, 4), (4, 5, 5, 5, 5, 4, 4, 4, 4, 4), (4, 4, 4, 4, 4), (4,))\n",
      "Size of top set: 8\n",
      "Does it satisfy the inc ex principle? :  8\n"
     ]
    }
   ],
   "source": [
    "neck,subg1,subg2,subg3,subg4=subgi(ass_lst1324,e1,e2,e3,e4,em)\n",
    "n,b1,b2,b3,b4=chipadd_subg(neck,subg1,subg2,subg3,subg4,em,e1,e2,e3,e4)\n",
    "print(\"Intersection numbers:\",intersect_counter(n,b1,b2,b3,b4))\n",
    "print(\"Size of top set:\",len(union_patches(n,b1,b2,b3,b4)))\n",
    "print(\"Does it satisfy the inc ex principle? : \",inc_ex(n,b1,b2,b3,b4))"
   ]
  },
  {
   "cell_type": "markdown",
   "metadata": {
    "tags": []
   },
   "source": [
    "## (1432)"
   ]
  },
  {
   "cell_type": "code",
   "execution_count": 50,
   "metadata": {},
   "outputs": [
    {
     "name": "stdout",
     "output_type": "stream",
     "text": [
      "Intersection numbers: ((5, 5, 5, 5, 4, 4, 5, 5, 4, 4), (3, 3, 4, 4, 3, 3, 3, 3, 3, 3), (2, 2, 2, 2, 2), (1,))\n",
      "Size of top set: 8\n",
      "Does it satisfy the inc ex principle? :  8\n"
     ]
    }
   ],
   "source": [
    "neck,subg1,subg2,subg3,subg4=subgi(ass_lst1432,e1,e2,e3,e4,em)\n",
    "n,b1,b2,b3,b4=chipadd_subg(neck,subg1,subg2,subg3,subg4,em,e1,e2,e3,e4)\n",
    "print(\"Intersection numbers:\",intersect_counter(n,b1,b2,b3,b4))\n",
    "print(\"Size of top set:\",len(union_patches(n,b1,b2,b3,b4)))\n",
    "print(\"Does it satisfy the inc ex principle? : \",inc_ex(n,b1,b2,b3,b4))"
   ]
  },
  {
   "cell_type": "markdown",
   "metadata": {},
   "source": [
    "| Intersection |$N \\cap B_1$|$N \\cap B_2$|$N \\cap B_3$|$N \\cap B_4$| $B_1 \\cap B_2$ | $B_1 \\cap B_3$ | $B_1 \\cap B_4$ | $B_2 \\cap B_3$ | $B_2 \\cap B_4$ | $B_3 \\cap B_4$ |\n",
    "|--------------|------------|------------|------------|------------|----------------|----------------|----------------|----------------|----------------|-------|\n",
    "| Size         | 5,| 5,| 5,| 5,| 4,| 4,| 5,| 5,| 4,| 4|"
   ]
  },
  {
   "cell_type": "markdown",
   "metadata": {},
   "source": [
    "| Intersection |$N \\cap B_1 \\cap B_2 $|$N \\cap B_1 \\cap B_3 $|$N \\cap B_1 \\cap B_4 $|$N \\cap B_2 \\cap B_3 $|$N \\cap B_2 \\cap B_4 $|$N \\cap B_3 \\cap B_4 $| $B_1 \\cap B_2 \\cap B_3$ | $B_1 \\cap B_2 \\cap B_4$ | $B_1 \\cap B_3 \\cap B_4$ | $B_2 \\cap B_3 \\cap B_4$ |\n",
    "|--------------|--------------|--------------|--------------|--------------|--------------|--------------|--------------|--------------|--------------|--------------|\n",
    "| Size         |     3,| 3,| 4,| 4,| 3,| 3,| 3,| 3,| 3,| 3|"
   ]
  },
  {
   "cell_type": "markdown",
   "metadata": {},
   "source": [
    "| Intersection | $N \\cap B_1 \\cap B_2 \\cap B_3 $ | $N \\cap B_1 \\cap B_2 \\cap B_4 $ | $N \\cap B_1 \\cap B_3 \\cap B_4 $ | $N \\cap B_2 \\cap B_3 \\cap B_4 $ |$B_1 \\cap B_2 \\cap B_3 \\cap B_4$ |\n",
    "|--------------|-------------------------|--------------|--------------|--------------|----|\n",
    "| Size         |   2,| 2,| 2,| 2,| 2|"
   ]
  },
  {
   "cell_type": "markdown",
   "metadata": {},
   "source": [
    "| Intersection | $N \\cap B_1 \\cap B_2 \\cap B_3 \\cap B_4$ |\n",
    "|--------------|-----------------------------------------|\n",
    "| Size         |        1,                                |"
   ]
  },
  {
   "cell_type": "code",
   "execution_count": null,
   "metadata": {},
   "outputs": [],
   "source": [
    "# Intersection lists for each cycle:\n",
    "#1342\n",
    "Intersection numbers: ((5, 5, 5, 5, 4, 5, 4, 4, 5, 4), (3, 4, 3, 3, 4, 3, 3, 3, 3, 3), (2, 2, 2, 2, 2), (1,))\n",
    "#1234\n",
    "Intersection numbers: ((5, 5, 5, 5, 4, 4, 5, 5, 4, 4), (3, 3, 4, 4, 3, 3, 3, 3, 3, 3), (2, 2, 2, 2, 2), (1,))\n",
    "#1423\n",
    "Intersection numbers: ((6, 6, 6, 6, 4, 5, 5, 5, 5, 4), (4, 5, 5, 5, 5, 4, 4, 4, 4, 4), (4, 4, 4, 4, 4), (4,))\n",
    "#1243\n",
    "Intersection numbers: ((5, 5, 5, 5, 4, 5, 4, 4, 5, 4), (3, 4, 3, 3, 4, 3, 3, 3, 3, 3), (2, 2, 2, 2, 2), (1,))\n",
    "#1324\n",
    "Intersection numbers: ((6, 6, 6, 6, 4, 5, 5, 5, 5, 4), (4, 5, 5, 5, 5, 4, 4, 4, 4, 4), (4, 4, 4, 4, 4), (4,))\n",
    "#1432\n",
    "Intersection numbers: ((5, 5, 5, 5, 4, 4, 5, 5, 4, 4), (3, 3, 4, 4, 3, 3, 3, 3, 3, 3), (2, 2, 2, 2, 2), (1,))"
   ]
  },
  {
   "cell_type": "markdown",
   "metadata": {
    "tags": []
   },
   "source": [
    "# Chip add from Codim 1 layer (patches Minimal cover of $\\sigma_{\\Gamma}(\\Gamma)$)"
   ]
  },
  {
   "cell_type": "code",
   "execution_count": 85,
   "metadata": {},
   "outputs": [],
   "source": [
    "def get_minipatch_ass(i,neck,subg1,subg2,subg3,subg4,breaks_min):\n",
    "    \n",
    "    \"\"\"\n",
    "    Input: neck,subg1,subg2,subg3,subg4 list in middle layer for each subgraph\n",
    "    \n",
    "    i: the ith term of neck\n",
    "    We are only after a single ti here so fix neck[i]\n",
    "    \n",
    "    Objective: \n",
    "    From ti we Chip-add to get mini-patch.The list ti will be an ass_lst for size checker    \n",
    "    \n",
    "    Output: an ordered list ti, of one element from each Neck,subg1,subg2,subg3,subg4\n",
    "    \"\"\"\n",
    "    neck_el=neck[i]\n",
    "    \n",
    "    for f1 in subg1:\n",
    "        for f2 in subg2:\n",
    "            for f3 in subg3:\n",
    "                for f4 in subg4:\n",
    "                    ass_lst=[neck_el,f1,f2,f3,f4]\n",
    "                    # print(size_checker(ass_lst,breaks_min)[1])\n",
    "                    if size_checker(ass_lst,breaks_min)[0]==len(neck): #will be 4 here or n in general\n",
    "                        x=ass_lst\n",
    "    return x"
   ]
  },
  {
   "cell_type": "code",
   "execution_count": 86,
   "metadata": {},
   "outputs": [],
   "source": [
    "def get_minipatch(ti,breaks_min):\n",
    "    \n",
    "    \"\"\"\n",
    "    Done\n",
    "    create mini patch set for sigma(\\Gamma) top level from ti\n",
    "    \"\"\"\n",
    "    minpatch=size_checker(ti,breaks_min)[1]\n",
    "    mp=set([tuple(b) for b in minpatch])\n",
    "    return mp"
   ]
  },
  {
   "cell_type": "code",
   "execution_count": 92,
   "metadata": {},
   "outputs": [],
   "source": [
    "def mini_patch_analysis(mp1,mp2,mp3,mp4):\n",
    "    \n",
    "    \"\"\"\n",
    "    DFN\n",
    "    Do inc_ex on mini patchs of an given I4 case\n",
    "    \"\"\"\n",
    "    \n",
    "    data=mp_intersect_counter(mp1,mp2,mp3,mp4)\n",
    "    print(mp_intersect_counter(mp1,mp2,mp3,mp4))\n",
    "\n",
    "    s1=len(mp1)+len(mp2)+len(mp3)+len(mp4)\n",
    "    s2=sum(data[0])\n",
    "    s3=sum(data[1])\n",
    "    s4=sum(data[2])\n",
    "    \n",
    "    total=len(union_patches(mp1,mp2,mp3,mp4))\n",
    "\n",
    "    print(f\"{total}={s1}-{s2}+{s3}-{s4}\")\n",
    "    return"
   ]
  },
  {
   "cell_type": "markdown",
   "metadata": {
    "tags": []
   },
   "source": [
    "## (1342)"
   ]
  },
  {
   "cell_type": "code",
   "execution_count": 94,
   "metadata": {},
   "outputs": [
    {
     "name": "stdout",
     "output_type": "stream",
     "text": [
      "((2, 2, 2, 2, 1, 2), (1, 1, 1, 1), (1,))\n",
      "8=16-11+4-1\n"
     ]
    }
   ],
   "source": [
    "# Main \n",
    "\n",
    "#Initialise\n",
    "neck,subg1,subg2,subg3,subg4=subgi(ass_lst1342,e1,e2,e3,e4,em)\n",
    "breaks_min=[em,e1,e2,e3,e4]\n",
    "\n",
    "#Assignments\n",
    "t1=get_minipatch_ass(0,neck,subg1,subg2,subg3,subg4,breaks_min)\n",
    "t2=get_minipatch_ass(1,neck,subg1,subg2,subg3,subg4,breaks_min)\n",
    "t3=get_minipatch_ass(2,neck,subg1,subg2,subg3,subg4,breaks_min)\n",
    "t4=get_minipatch_ass(3,neck,subg1,subg2,subg3,subg4,breaks_min)\n",
    "\n",
    "#Mini-patch sets\n",
    "mp1,mp2,mp3,mp4=get_minipatch(t1,breaks_min),get_minipatch(t2,breaks_min),get_minipatch(t3,breaks_min),get_minipatch(t4,breaks_min)\n",
    "\n",
    "#Analysis\n",
    "mini_patch_analysis(mp1,mp2,mp3,mp4)"
   ]
  },
  {
   "cell_type": "code",
   "execution_count": null,
   "metadata": {},
   "outputs": [],
   "source": [
    "print(f\"k(G)=n^2-4m+n ? \")"
   ]
  },
  {
   "cell_type": "markdown",
   "metadata": {},
   "source": [
    "Let $B_i$ be the mini-patch of $\\sigma_{\\Gamma}(\\Gamma)$ obtained by chip-adding from the set $t_i$ containing the ith element of the necklace set."
   ]
  },
  {
   "cell_type": "markdown",
   "metadata": {},
   "source": [
    "| Intersection | $B_1 \\cap B_2$ | $B_1 \\cap B_3$ | $B_1 \\cap B_4$ | $B_2 \\cap B_3$ | $B_2 \\cap B_4$ | $B_3 \\cap B_4$ |\n",
    "|--------------|------------|------------|------------|------------|----------------|----------------|\n",
    "| Size         |2,| 2,| 2,| 2,| 1,| 2|"
   ]
  },
  {
   "cell_type": "markdown",
   "metadata": {},
   "source": [
    "| Intersection | $B_1 \\cap B_2 \\cap B_3$ | $B_1 \\cap B_2 \\cap B_4$ | $B_1 \\cap B_3 \\cap B_4$ | $B_2 \\cap B_3 \\cap B_4$ |\n",
    "|--------------|--------------|--------------|--------------|--------------|\n",
    "| Size         |     1,| 1,| 1,| 1|"
   ]
  },
  {
   "cell_type": "markdown",
   "metadata": {},
   "source": [
    "| Intersection |$B_1 \\cap B_2 \\cap B_3 \\cap B_4$ |\n",
    "|--------------|-------------------------|\n",
    "| Size         |  1|"
   ]
  },
  {
   "cell_type": "markdown",
   "metadata": {
    "jp-MarkdownHeadingCollapsed": true,
    "tags": []
   },
   "source": [
    "## (1234)"
   ]
  },
  {
   "cell_type": "code",
   "execution_count": 95,
   "metadata": {},
   "outputs": [
    {
     "name": "stdout",
     "output_type": "stream",
     "text": [
      "((2, 2, 2, 2, 1, 2), (1, 1, 1, 1), (1,))\n",
      "8=16-11+4-1\n"
     ]
    }
   ],
   "source": [
    "# Main \n",
    "\n",
    "#Initialise\n",
    "neck,subg1,subg2,subg3,subg4=subgi(ass_lst1234,e1,e2,e3,e4,em)\n",
    "breaks_min=[em,e1,e2,e3,e4]\n",
    "\n",
    "#Assignments\n",
    "t1=get_minipatch_ass(0,neck,subg1,subg2,subg3,subg4,breaks_min)\n",
    "t2=get_minipatch_ass(1,neck,subg1,subg2,subg3,subg4,breaks_min)\n",
    "t3=get_minipatch_ass(2,neck,subg1,subg2,subg3,subg4,breaks_min)\n",
    "t4=get_minipatch_ass(3,neck,subg1,subg2,subg3,subg4,breaks_min)\n",
    "\n",
    "#Mini-patch sets\n",
    "mp1,mp2,mp3,mp4=get_minipatch(t1,breaks_min),get_minipatch(t2,breaks_min),get_minipatch(t3,breaks_min),get_minipatch(t4,breaks_min)\n",
    "\n",
    "#Analysis\n",
    "mini_patch_analysis(mp1,mp2,mp3,mp4)"
   ]
  },
  {
   "cell_type": "markdown",
   "metadata": {
    "jp-MarkdownHeadingCollapsed": true,
    "tags": []
   },
   "source": [
    "## (1423)"
   ]
  },
  {
   "cell_type": "code",
   "execution_count": 96,
   "metadata": {},
   "outputs": [
    {
     "name": "stdout",
     "output_type": "stream",
     "text": [
      "((2, 2, 2, 2, 2, 2), (1, 1, 1, 1), (0,))\n",
      "8=16-12+4-0\n"
     ]
    }
   ],
   "source": [
    "# Main \n",
    "\n",
    "#Initialise\n",
    "neck,subg1,subg2,subg3,subg4=subgi(ass_lst1423,e1,e2,e3,e4,em)\n",
    "breaks_min=[em,e1,e2,e3,e4]\n",
    "\n",
    "#Assignments\n",
    "t1=get_minipatch_ass(0,neck,subg1,subg2,subg3,subg4,breaks_min)\n",
    "t2=get_minipatch_ass(1,neck,subg1,subg2,subg3,subg4,breaks_min)\n",
    "t3=get_minipatch_ass(2,neck,subg1,subg2,subg3,subg4,breaks_min)\n",
    "t4=get_minipatch_ass(3,neck,subg1,subg2,subg3,subg4,breaks_min)\n",
    "\n",
    "#Mini-patch sets\n",
    "mp1,mp2,mp3,mp4=get_minipatch(t1,breaks_min),get_minipatch(t2,breaks_min),get_minipatch(t3,breaks_min),get_minipatch(t4,breaks_min)\n",
    "\n",
    "#Analysis\n",
    "mini_patch_analysis(mp1,mp2,mp3,mp4)"
   ]
  },
  {
   "cell_type": "markdown",
   "metadata": {
    "jp-MarkdownHeadingCollapsed": true,
    "tags": []
   },
   "source": [
    "## (1243)"
   ]
  },
  {
   "cell_type": "code",
   "execution_count": 97,
   "metadata": {},
   "outputs": [
    {
     "name": "stdout",
     "output_type": "stream",
     "text": [
      "((2, 1, 2, 2, 2, 2), (1, 1, 1, 1), (1,))\n",
      "8=16-11+4-1\n"
     ]
    }
   ],
   "source": [
    "# Main \n",
    "\n",
    "#Initialise\n",
    "neck,subg1,subg2,subg3,subg4=subgi(ass_lst1243,e1,e2,e3,e4,em)\n",
    "breaks_min=[em,e1,e2,e3,e4]\n",
    "\n",
    "#Assignments\n",
    "t1=get_minipatch_ass(0,neck,subg1,subg2,subg3,subg4,breaks_min)\n",
    "t2=get_minipatch_ass(1,neck,subg1,subg2,subg3,subg4,breaks_min)\n",
    "t3=get_minipatch_ass(2,neck,subg1,subg2,subg3,subg4,breaks_min)\n",
    "t4=get_minipatch_ass(3,neck,subg1,subg2,subg3,subg4,breaks_min)\n",
    "\n",
    "#Mini-patch sets\n",
    "mp1,mp2,mp3,mp4=get_minipatch(t1,breaks_min),get_minipatch(t2,breaks_min),get_minipatch(t3,breaks_min),get_minipatch(t4,breaks_min)\n",
    "\n",
    "#Analysis\n",
    "mini_patch_analysis(mp1,mp2,mp3,mp4)"
   ]
  },
  {
   "cell_type": "markdown",
   "metadata": {
    "jp-MarkdownHeadingCollapsed": true,
    "tags": []
   },
   "source": [
    "## (1324)"
   ]
  },
  {
   "cell_type": "code",
   "execution_count": 98,
   "metadata": {},
   "outputs": [
    {
     "name": "stdout",
     "output_type": "stream",
     "text": [
      "((2, 2, 2, 2, 2, 2), (1, 1, 1, 1), (0,))\n",
      "8=16-12+4-0\n"
     ]
    }
   ],
   "source": [
    "# Main \n",
    "\n",
    "#Initialise\n",
    "neck,subg1,subg2,subg3,subg4=subgi(ass_lst1324,e1,e2,e3,e4,em)\n",
    "breaks_min=[em,e1,e2,e3,e4]\n",
    "\n",
    "#Assignments\n",
    "t1=get_minipatch_ass(0,neck,subg1,subg2,subg3,subg4,breaks_min)\n",
    "t2=get_minipatch_ass(1,neck,subg1,subg2,subg3,subg4,breaks_min)\n",
    "t3=get_minipatch_ass(2,neck,subg1,subg2,subg3,subg4,breaks_min)\n",
    "t4=get_minipatch_ass(3,neck,subg1,subg2,subg3,subg4,breaks_min)\n",
    "\n",
    "#Mini-patch sets\n",
    "mp1,mp2,mp3,mp4=get_minipatch(t1,breaks_min),get_minipatch(t2,breaks_min),get_minipatch(t3,breaks_min),get_minipatch(t4,breaks_min)\n",
    "\n",
    "#Analysis\n",
    "mini_patch_analysis(mp1,mp2,mp3,mp4)"
   ]
  },
  {
   "cell_type": "markdown",
   "metadata": {
    "jp-MarkdownHeadingCollapsed": true,
    "tags": []
   },
   "source": [
    "## (1432)"
   ]
  },
  {
   "cell_type": "code",
   "execution_count": 99,
   "metadata": {},
   "outputs": [
    {
     "name": "stdout",
     "output_type": "stream",
     "text": [
      "((2, 1, 2, 2, 2, 2), (1, 1, 1, 1), (1,))\n",
      "8=16-11+4-1\n"
     ]
    }
   ],
   "source": [
    "# Main \n",
    "\n",
    "#Initialise\n",
    "neck,subg1,subg2,subg3,subg4=subgi(ass_lst1432,e1,e2,e3,e4,em)\n",
    "breaks_min=[em,e1,e2,e3,e4]\n",
    "\n",
    "#Assignments\n",
    "t1=get_minipatch_ass(0,neck,subg1,subg2,subg3,subg4,breaks_min)\n",
    "t2=get_minipatch_ass(1,neck,subg1,subg2,subg3,subg4,breaks_min)\n",
    "t3=get_minipatch_ass(2,neck,subg1,subg2,subg3,subg4,breaks_min)\n",
    "t4=get_minipatch_ass(3,neck,subg1,subg2,subg3,subg4,breaks_min)\n",
    "\n",
    "#Mini-patch sets\n",
    "mp1,mp2,mp3,mp4=get_minipatch(t1,breaks_min),get_minipatch(t2,breaks_min),get_minipatch(t3,breaks_min),get_minipatch(t4,breaks_min)\n",
    "\n",
    "#Analysis\n",
    "mini_patch_analysis(mp1,mp2,mp3,mp4)"
   ]
  },
  {
   "cell_type": "markdown",
   "metadata": {},
   "source": [
    "## Overall analysis"
   ]
  },
  {
   "cell_type": "code",
   "execution_count": null,
   "metadata": {},
   "outputs": [],
   "source": [
    "# 1342\n",
    "\n",
    "((2, 2, 2, 2, 1, 2), (1, 1, 1, 1), (1,))\n",
    "8=16-11+4-1\n",
    "\n",
    "# 1234\n",
    "((2, 2, 2, 2, 1, 2), (1, 1, 1, 1), (1,))\n",
    "8=16-11+4-1\n",
    "\n",
    "# 1423\n",
    "((2, 2, 2, 2, 2, 2), (1, 1, 1, 1), (0,))\n",
    "8=16-12+4-0\n",
    "\n",
    "# 1243\n",
    "((2, 1, 2, 2, 2, 2), (1, 1, 1, 1), (1,))\n",
    "8=16-11+4-1\n",
    "\n",
    "# 1324\n",
    "((2, 2, 2, 2, 2, 2), (1, 1, 1, 1), (0,))\n",
    "8=16-12+4-0\n",
    "\n",
    "# 1432\n",
    "((2, 1, 2, 2, 2, 2), (1, 1, 1, 1), (1,))\n",
    "8=16-11+4-1"
   ]
  },
  {
   "cell_type": "markdown",
   "metadata": {
    "tags": []
   },
   "source": [
    "# Chip adding from assignments"
   ]
  },
  {
   "cell_type": "code",
   "execution_count": 33,
   "metadata": {},
   "outputs": [],
   "source": [
    "#Break divisors for tree i: Correct labeling em=(v1,vm)\n",
    "\n",
    "G1=[[2,0,0,0],[1,1,0,0],[1,0,1,0],[0,1,1,0]]\n",
    "G2=[[1,1,0,0],[1,0,1,0],[0,1,1,0],[0,0,2,0]]\n",
    "G3=[[1,0,1,0],[1,0,0,1],[0,0,1,1],[0,0,2,0]]\n",
    "G4=[[2,0,0,0],[1,0,1,0],[1,0,0,1],[0,0,1,1]]\n",
    "G5=[[2,0,0,0],[1,1,0,0],[1,0,0,1],[0,1,0,1]]\n",
    "G6=[[1,0,0,1],[1,0,1,0],[0,1,0,1],[0,1,1,0]]\n",
    "G7=[[1,1,0,0],[1,0,1,0],[0,1,0,1],[0,0,1,1]]\n",
    "G8=[[0,0,2,0],[0,1,1,0],[0,1,0,1],[0,0,1,1]]\n",
    "\n",
    "breaks=[G1,G2,G3,G4,G5,G6,G7,G8]"
   ]
  },
  {
   "cell_type": "code",
   "execution_count": 56,
   "metadata": {},
   "outputs": [
    {
     "name": "stdout",
     "output_type": "stream",
     "text": [
      "(8, array([[ 0.,  1.,  0.,  1.],\n",
      "       [ 0.,  1.,  1.,  0.],\n",
      "       [ 1.,  0.,  0.,  1.],\n",
      "       [ 1.,  0.,  1.,  0.],\n",
      "       [ 1.,  1., -1.,  1.],\n",
      "       [ 1.,  1.,  0.,  0.],\n",
      "       [ 2.,  0.,  0.,  0.],\n",
      "       [ 2.,  1., -1.,  0.]]))\n"
     ]
    }
   ],
   "source": [
    "print(size_checker(ass_lst,breaks))"
   ]
  }
 ],
 "metadata": {
  "kernelspec": {
   "display_name": "Python 3 (ipykernel)",
   "language": "python",
   "name": "python3"
  },
  "language_info": {
   "codemirror_mode": {
    "name": "ipython",
    "version": 3
   },
   "file_extension": ".py",
   "mimetype": "text/x-python",
   "name": "python",
   "nbconvert_exporter": "python",
   "pygments_lexer": "ipython3",
   "version": "3.8.12"
  }
 },
 "nbformat": 4,
 "nbformat_minor": 4
}
