{
 "cells": [
  {
   "cell_type": "markdown",
   "metadata": {},
   "source": [
    "# Weak stability line bundle multidegrees for those with empty phi-polytope: "
   ]
  },
  {
   "cell_type": "code",
   "execution_count": 1,
   "metadata": {},
   "outputs": [],
   "source": [
    "import pickle\n",
    "import numpy as np"
   ]
  },
  {
   "cell_type": "code",
   "execution_count": 2,
   "metadata": {},
   "outputs": [],
   "source": [
    "def get_sig_lst(lbm):\n",
    "    sig_lst=[]\n",
    "    for d in lbm:\n",
    "        ld=[int(x) for x in d] # change numpy float to list of ints\n",
    "        n=len(ld)\n",
    "\n",
    "        dict_pairs=[] #to build dict for sandpiledivisors\n",
    "        for i in range(1,n+1):\n",
    "            if i ==1:\n",
    "                dict_pairs.append((i-1,ld[i-1]))\n",
    "            else:\n",
    "                dict_pairs.append((i,ld[i-1]))\n",
    "\n",
    "        d_dict=dict(dict_pairs)\n",
    "\n",
    "        sig_lst.append(SandpileDivisor(S,d_dict))\n",
    "    return sig_lst"
   ]
  },
  {
   "cell_type": "code",
   "execution_count": 3,
   "metadata": {},
   "outputs": [],
   "source": [
    "def return_to_list(d):\n",
    "    \"\"\"return divisor for sandpile back to list so can check those that are linearly equivelent.\"\"\"\n",
    "#     d={0: 0, 2: 0, 3: 1, 4: 0, 5: 0, 6: 0, 7: 1}\n",
    "    n=len(d)\n",
    "    ld_first=[d[0]]\n",
    "    ld_top=[d[i] for i in range(2,n+1)]\n",
    "    ld=ld_first+ld_top\n",
    "    return ld"
   ]
  },
  {
   "cell_type": "code",
   "execution_count": 4,
   "metadata": {},
   "outputs": [],
   "source": [
    "def lbm_csr(sig_lst):\n",
    "    lst=set([])\n",
    "    equivlent_pairs=[]\n",
    "    for item1 in sig_lst:\n",
    "        for item2 in sig_lst:\n",
    "            if item1==item2:\n",
    "                pass\n",
    "            else:\n",
    "                lst.add(item1.is_linearly_equivalent(item2))\n",
    "                if item1.is_linearly_equivalent(item2)==True:\n",
    "                    equivlent_pairs.append((return_to_list(item1),return_to_list(item2)))\n",
    "    #     print(\"All elements are chip-firing independant if only false below, else there exists a linearly dependant pair.\")\n",
    "    \n",
    "#     we record those pairs that are equivlent\n",
    "    rem_same_pairs_equivlent_pairs=[] # elements of equivlent_pairs that are same up to ordering\n",
    "    for i in equivlent_pairs:\n",
    "        if (i[1],i[0]) in rem_same_pairs_equivlent_pairs:\n",
    "            continue\n",
    "        else:\n",
    "            rem_same_pairs_equivlent_pairs.append(i)\n",
    "\n",
    "#     print(lst)\n",
    "    if len(lst)<2:\n",
    "        x=\"Independant\"\n",
    "    else:\n",
    "        x=\"Dependant\"\n",
    "        \n",
    "    for i in rem_same_pairs_equivlent_pairs:\n",
    "        print(i)\n",
    "    \n",
    "    return x,rem_same_pairs_equivlent_pairs\n",
    "#     return x,equivlent_pairs"
   ]
  },
  {
   "cell_type": "code",
   "execution_count": 5,
   "metadata": {},
   "outputs": [],
   "source": [
    "def main(data):\n",
    "    \"\"\"We check all lbm in data, i.e those that do not have a phi\"\"\"\n",
    "\n",
    "    Indys=[]\n",
    "    Dependors=[]\n",
    "\n",
    "    for index,lbm in enumerate(data):\n",
    "\n",
    "        sig_lst=get_sig_lst(lbm)\n",
    "        check=lbm_csr(sig_lst)\n",
    "        check=check[0]\n",
    "    #     print(index,check)\n",
    "\n",
    "        if check==\"Dependant\":\n",
    "            Dependors.append(index)\n",
    "        elif check==\"Independant\":\n",
    "            Indys.append(index)\n",
    "\n",
    "    print(f\"Total number of cases {len(data)}\")\n",
    "    print(f\"Number of cases that are Dependant {len(Dependors)}\")\n",
    "    print(f\"Number of cases that are Independant {len(Indys)}\")\n",
    "    return"
   ]
  },
  {
   "cell_type": "markdown",
   "metadata": {
    "jp-MarkdownHeadingCollapsed": true,
    "tags": []
   },
   "source": [
    "## G72"
   ]
  },
  {
   "cell_type": "code",
   "execution_count": 6,
   "metadata": {},
   "outputs": [],
   "source": [
    "pickle_in = open(r\"copy_lbm_data\\G72_phi_failcases_lbm.txt\", \"rb\")\n",
    "\n",
    "\"\"\"\n",
    "Total number of cases 240\n",
    "Number of cases that are Dependant 0\n",
    "Number of cases that are Independant 240\n",
    "\"\"\"\n",
    "G72_data = pickle.load(pickle_in)\n",
    "pickle_in.close()"
   ]
  },
  {
   "cell_type": "code",
   "execution_count": 7,
   "metadata": {},
   "outputs": [
    {
     "data": {
      "image/png": "[encoded data removed]",
      "text/plain": [
       "Graphics object consisting of 16 graphics primitives"
      ]
     },
     "metadata": {},
     "output_type": "display_data"
    }
   ],
   "source": [
    "g={0:{2:1,7:1},2:{0:1,3:1,7:1},3:{2:1,4:1},4:{3:1,5:1},5:{4:1,6:1},6:{5:1,7:1},7:{0:1,2:1,6:1}}\n",
    "S=Sandpile(g,0)\n",
    "# S.show(figsize=3, edge_labels=true)\n",
    "S.show(figsize=3)"
   ]
  },
  {
   "cell_type": "code",
   "execution_count": 8,
   "metadata": {},
   "outputs": [
    {
     "name": "stdout",
     "output_type": "stream",
     "text": [
      "240\n"
     ]
    }
   ],
   "source": [
    "print(len(G72_data))"
   ]
  },
  {
   "cell_type": "code",
   "execution_count": 9,
   "metadata": {},
   "outputs": [
    {
     "name": "stdout",
     "output_type": "stream",
     "text": [
      "Total number of cases 240\n",
      "Number of cases that are Dependant 0\n",
      "Number of cases that are Independant 240\n"
     ]
    }
   ],
   "source": [
    "main(G72_data)"
   ]
  },
  {
   "cell_type": "markdown",
   "metadata": {
    "jp-MarkdownHeadingCollapsed": true,
    "tags": []
   },
   "source": [
    "## G73"
   ]
  },
  {
   "cell_type": "code",
   "execution_count": 229,
   "metadata": {},
   "outputs": [
    {
     "name": "stdout",
     "output_type": "stream",
     "text": [
      "432\n"
     ]
    }
   ],
   "source": [
    "pickle_in = open(r\"copy_lbm_data\\G73_phi_failcases_lbm.txt\", \"rb\")\n",
    "\n",
    "\"\"\"\n",
    "Total number of cases 432\n",
    "Number of cases that are Dependant 0\n",
    "Number of cases that are Independant 432\n",
    "\"\"\"\n",
    "\n",
    "G73_data = pickle.load(pickle_in)\n",
    "pickle_in.close()\n",
    "\n",
    "print(len(G73_data))"
   ]
  },
  {
   "cell_type": "code",
   "execution_count": 233,
   "metadata": {},
   "outputs": [
    {
     "data": {
      "image/png": "[encoded data removed]",
      "text/plain": [
       "Graphics object consisting of 16 graphics primitives"
      ]
     },
     "metadata": {},
     "output_type": "display_data"
    }
   ],
   "source": [
    "g={0:{2:1,7:1},2:{0:1,3:1},3:{2:1,4:1,7:1},4:{3:1,5:1},5:{4:1,6:1},6:{5:1,7:1},7:{0:1,3:1,6:1}}\n",
    "S=Sandpile(g,0)\n",
    "# S.show(figsize=3, edge_labels=true)\n",
    "S.show(figsize=3)"
   ]
  },
  {
   "cell_type": "code",
   "execution_count": 231,
   "metadata": {},
   "outputs": [
    {
     "name": "stdout",
     "output_type": "stream",
     "text": [
      "Total number of cases 432\n",
      "Number of cases that are Dependant 0\n",
      "Number of cases that are Independant 432\n"
     ]
    }
   ],
   "source": [
    "main(G73_data)"
   ]
  },
  {
   "cell_type": "markdown",
   "metadata": {
    "jp-MarkdownHeadingCollapsed": true,
    "tags": []
   },
   "source": [
    "## G62"
   ]
  },
  {
   "cell_type": "code",
   "execution_count": 10,
   "metadata": {},
   "outputs": [
    {
     "name": "stdout",
     "output_type": "stream",
     "text": [
      "48\n"
     ]
    }
   ],
   "source": [
    "pickle_in = open(r\"copy_lbm_data\\G62_phi_failcases_lbm.txt\", \"rb\")\n",
    "\n",
    "\"\"\"\n",
    "Total number of cases 48\n",
    "Number of cases that are Dependant 0\n",
    "Number of cases that are Independant 48\n",
    "\"\"\"\n",
    "\n",
    "G62_data = pickle.load(pickle_in)\n",
    "pickle_in.close()\n",
    "\n",
    "print(len(G62_data))"
   ]
  },
  {
   "cell_type": "code",
   "execution_count": 11,
   "metadata": {},
   "outputs": [
    {
     "data": {
      "image/png": "[encoded data removed]",
      "text/plain": [
       "Graphics object consisting of 14 graphics primitives"
      ]
     },
     "metadata": {},
     "output_type": "display_data"
    }
   ],
   "source": [
    "g={0:{2:1,6:1},\n",
    "   2:{0:1,3:1,6:1},\n",
    "   3:{2:1,4:1},\n",
    "   4:{3:1,5:1},\n",
    "   5:{4:1,6:1},\n",
    "   6:{5:1,0:1,2:1}}\n",
    "S=Sandpile(g,0)\n",
    "# S.show(figsize=3, edge_labels=true)\n",
    "S.show(figsize=3)"
   ]
  },
  {
   "cell_type": "code",
   "execution_count": 12,
   "metadata": {},
   "outputs": [
    {
     "name": "stdout",
     "output_type": "stream",
     "text": [
      "Total number of cases 48\n",
      "Number of cases that are Dependant 0\n",
      "Number of cases that are Independant 48\n"
     ]
    }
   ],
   "source": [
    "main(G62_data)"
   ]
  },
  {
   "cell_type": "markdown",
   "metadata": {},
   "source": [
    "## G63"
   ]
  },
  {
   "cell_type": "code",
   "execution_count": 13,
   "metadata": {},
   "outputs": [
    {
     "name": "stdout",
     "output_type": "stream",
     "text": [
      "36\n"
     ]
    }
   ],
   "source": [
    "pickle_in = open(r\"copy_lbm_data\\G63_phi_failcases_lbm.txt\", \"rb\")\n",
    "\n",
    "\"\"\"\n",
    "Total number of cases 36\n",
    "Number of cases that are Dependant 0\n",
    "Number of cases that are Independant 36\n",
    "\"\"\"\n",
    "\n",
    "G63_data = pickle.load(pickle_in)\n",
    "pickle_in.close()\n",
    "\n",
    "print(len(G63_data))"
   ]
  },
  {
   "cell_type": "code",
   "execution_count": 14,
   "metadata": {},
   "outputs": [
    {
     "data": {
      "image/png": "[encoded data removed]",
      "text/plain": [
       "Graphics object consisting of 14 graphics primitives"
      ]
     },
     "metadata": {},
     "output_type": "display_data"
    }
   ],
   "source": [
    "g={0:{2:1,6:1},\n",
    "   2:{0:1,3:1,},\n",
    "   3:{2:1,4:1,6:1},\n",
    "   4:{3:1,5:1},\n",
    "   5:{4:1,6:1},\n",
    "   6:{5:1,0:1,3:1}}\n",
    "S=Sandpile(g,0)\n",
    "# S.show(figsize=3, edge_labels=true)\n",
    "S.show(figsize=3)"
   ]
  },
  {
   "cell_type": "code",
   "execution_count": 15,
   "metadata": {},
   "outputs": [
    {
     "name": "stdout",
     "output_type": "stream",
     "text": [
      "Total number of cases 36\n",
      "Number of cases that are Dependant 0\n",
      "Number of cases that are Independant 36\n"
     ]
    }
   ],
   "source": [
    "main(G63_data)"
   ]
  },
  {
   "cell_type": "markdown",
   "metadata": {},
   "source": [
    "# I3 test for depenant"
   ]
  },
  {
   "cell_type": "code",
   "execution_count": 208,
   "metadata": {},
   "outputs": [
    {
     "data": {
      "image/png": "[encoded data removed]",
      "text/plain": [
       "Graphics object consisting of 7 graphics primitives"
      ]
     },
     "metadata": {},
     "output_type": "display_data"
    }
   ],
   "source": [
    "I3_data=[[[0,0,0],[2,-1,-1],[-1,0,1]]]\n",
    "g={0:{2:1,3:1},2:{0:1,3:1},3:{0:1,2:1}}\n",
    "S=Sandpile(g,0)\n",
    "# S.show(figsize=3, edge_labels=true)\n",
    "S.show(figsize=3)"
   ]
  },
  {
   "cell_type": "code",
   "execution_count": 197,
   "metadata": {},
   "outputs": [
    {
     "data": {
      "text/plain": [
       "True"
      ]
     },
     "execution_count": 197,
     "metadata": {},
     "output_type": "execute_result"
    }
   ],
   "source": [
    "get_sig_lst(I3_data[0])\n",
    "\n",
    "item1={0: 0, 2: 0, 3: 0}\n",
    "item2={0: 2, 2: -1, 3: -1}\n",
    "\n",
    "item1=SandpileDivisor(S,item1)\n",
    "item2=SandpileDivisor(S,item2)\n",
    "\n",
    "item1.is_linearly_equivalent(item2)\n"
   ]
  },
  {
   "cell_type": "code",
   "execution_count": 210,
   "metadata": {},
   "outputs": [
    {
     "name": "stdout",
     "output_type": "stream",
     "text": [
      "True\n",
      "False\n",
      "True\n",
      "False\n",
      "False\n",
      "False\n",
      "{False, True}\n",
      "([0, 0, 0], [2, -1, -1])\n",
      "Total number of cases 1\n",
      "Number of cases that are Dependant 1\n",
      "Number of cases that are Independant 0\n"
     ]
    }
   ],
   "source": [
    "check=main(I3_data)"
   ]
  },
  {
   "cell_type": "markdown",
   "metadata": {},
   "source": [
    "# Checking complete set of representatives"
   ]
  },
  {
   "cell_type": "markdown",
   "metadata": {},
   "source": [
    "# G1 - non trivial assignment (assignment in degree 0)"
   ]
  },
  {
   "cell_type": "code",
   "execution_count": 16,
   "metadata": {},
   "outputs": [
    {
     "data": {
      "image/png": "[encoded data removed]",
      "text/plain": [
       "Graphics object consisting of 7 graphics primitives"
      ]
     },
     "metadata": {},
     "output_type": "display_data"
    }
   ],
   "source": [
    "# Each undirected edge cor to two opposite directed edges.\n",
    "# Vertex label 1 is swapped with 0\n",
    "g = {0:{3:2,2:1},2:{0:1,3:1},3:{0:2,2:1}}\n",
    "S=Sandpile(g,0)\n",
    "# S.show(figsize=3, edge_labels=true)\n",
    "S.show(figsize=3)\n"
   ]
  },
  {
   "cell_type": "code",
   "execution_count": 13,
   "metadata": {},
   "outputs": [],
   "source": [
    "# Assignment1: degree=-2\n",
    "\n",
    "# D1=SandpileDivisor(S,{0: 2, 2: -2, 3: 0})\n",
    "# D2=SandpileDivisor(S,{0: 1, 2: -2, 3: 1})\n",
    "# D3=SandpileDivisor(S,{0: 1, 2: -3, 3: 2})\n",
    "# D4=SandpileDivisor(S,{0: 2, 2: -3, 3: 1})\n",
    "# D5=SandpileDivisor(S,{0: 0, 2: -2, 3: 2})\n",
    "\n",
    "# Sigma:\n",
    "\n",
    "# [(1, 0, 1), (1, -1, 2), (0, 0, 2), (2, 0, 0), (2, -1, 1)]\n",
    "\n",
    "D1=SandpileDivisor(S,{0: 1, 2: 0, 3: 1})\n",
    "D2=SandpileDivisor(S,{0: 1, 2: -1, 3: 2})\n",
    "D3=SandpileDivisor(S,{0: 0, 2: 0, 3: 2})\n",
    "D4=SandpileDivisor(S,{0: 2, 2: 0, 3: 0})\n",
    "D5=SandpileDivisor(S,{0: 2, 2: -1, 3: 1})\n",
    "\n",
    "sig_lst=[D1,D2,D3,D4,D5]"
   ]
  },
  {
   "cell_type": "code",
   "execution_count": 16,
   "metadata": {},
   "outputs": [
    {
     "name": "stdout",
     "output_type": "stream",
     "text": [
      "Are elements of sigma linearly equivelent to each other?\n",
      "All elements are linearly independnat if only false below, else there exists a linearly dependant pair.\n",
      "{False}\n"
     ]
    }
   ],
   "source": [
    "print(\"Are elements of sigma linearly equivelent to each other?\") \n",
    "# print(D1.is_linearly_equivalent(D2))\n",
    "# print(D1.is_linearly_equivalent(D3))\n",
    "# print(D1.is_linearly_equivalent(D4))\n",
    "# print(D1.is_linearly_equivalent(D4))\n",
    "\n",
    "lst=set([])\n",
    "for item1 in sig_lst:\n",
    "    for item2 in sig_lst:\n",
    "        if item1==item2:\n",
    "            pass\n",
    "        else:\n",
    "            lst.add(item1.is_linearly_equivalent(item2))\n",
    "#             print(item1.is_linearly_equivalent(item2))\n",
    "print(\"All elements are linearly independnat if only false below, else there exists a linearly dependant pair.\")\n",
    "print(lst)"
   ]
  },
  {
   "cell_type": "markdown",
   "metadata": {},
   "source": [
    "# G_455 - (assignment in degree 0)"
   ]
  },
  {
   "cell_type": "code",
   "execution_count": 2,
   "metadata": {},
   "outputs": [
    {
     "data": {
      "image/png": "[encoded data removed]",
      "text/plain": [
       "Graphics object consisting of 10 graphics primitives"
      ]
     },
     "metadata": {},
     "output_type": "display_data"
    }
   ],
   "source": [
    "# Each undirected edge cor to two opposite directed edges.\n",
    "# Vertex label 1 is swapped with 0\n",
    "\n",
    "g = {0:{2:1,4:1},\n",
    "     2:{0:1,3:1,4:1},\n",
    "     3:{2:1,4:1},\n",
    "     4:{0:1,2:1,3:1}}\n",
    "\n",
    "S=Sandpile(g,0)\n",
    "# S.show(figsize=3, edge_labels=true)\n",
    "S.show(figsize=3)\n"
   ]
  },
  {
   "cell_type": "code",
   "execution_count": 23,
   "metadata": {},
   "outputs": [],
   "source": [
    "#Sigma 1# All indy returns false.\n",
    "\n",
    "#  [[ 0  1  0  1]\n",
    "#  [ 1  1  0  0]\n",
    "#  [ 0  1  1  0]\n",
    "#  [ 1  0  1  0]\n",
    "#  [ 0  2  0  0]\n",
    "#  [ 1  0  0  1]\n",
    "#  [ 1  1  1 -1]\n",
    "#  [ 0  0  1  1]]\n",
    "    \n",
    "# D1=SandpileDivisor(S,{0:0,2:1, 3:0, 4:1})\n",
    "# D2=SandpileDivisor(S,{0:1, 2:1, 3:0, 4:0})\n",
    "# D3=SandpileDivisor(S,{0:0, 2:1, 3:1, 4:0})\n",
    "# D4=SandpileDivisor(S,{0:1, 2:0, 3:1, 4:0})\n",
    "# D5=SandpileDivisor(S,{0:0, 2:2, 3:0, 4:0})\n",
    "# D6=SandpileDivisor(S,{0:1, 2:0, 3:0, 4:1})\n",
    "# D7=SandpileDivisor(S,{0:1, 2:1, 3:1, 4:-1})\n",
    "# D8=SandpileDivisor(S,{0:0, 2:0, 3:1, 4:1})\n",
    "\n",
    "\n",
    "# #Sigma 2# All indy returns false.\n",
    "\n",
    "#  [[ 0  1  0  1] \n",
    "#   [-1  2  0  1] \n",
    "#   [-1  1  0  2]\n",
    "#  [-1  1  1  1]\n",
    "#  [ 0  1  1  0]\n",
    "#  [ 0  2  0  0]\n",
    "#  [ 0  0  0  2]\n",
    "#  [ 0  0  1  1]]\n",
    "    \n",
    "# D1=SandpileDivisor(S,{0:0, 2:1, 3:0, 4:1})\n",
    "# D2=SandpileDivisor(S,{0:-1, 2:2, 3:0, 4:1})\n",
    "# D3=SandpileDivisor(S,{0:-1, 2:1, 3:0, 4:2})\n",
    "# D4=SandpileDivisor(S,{0:-1, 2:1, 3:1, 4:1})\n",
    "# D5=SandpileDivisor(S,{0:0, 2:1, 3:1, 4:0})\n",
    "# D6=SandpileDivisor(S,{0:0, 2:2, 3:0, 4:0})\n",
    "# D7=SandpileDivisor(S,{0:0, 2:0, 3:0, 4:2})\n",
    "# D8=SandpileDivisor(S,{0:0, 2:0, 3:1, 4:1})\n",
    "\n",
    "\n",
    "# #Sigma 3 # All indy returns false.\n",
    "\n",
    "#  [[0 1 0 1]\n",
    "#  [1 1 0 0]\n",
    "#  [0 1 1 0]\n",
    "#  [1 0 1 0]\n",
    "#  [0 2 0 0]\n",
    "#  [1 0 0 1]\n",
    "#  [0 0 0 2]\n",
    "#  [0 0 1 1]]\n",
    "    \n",
    "# D1=SandpileDivisor(S,{0:0, 2:1, 3:0, 4:1})\n",
    "# D2=SandpileDivisor(S,{0:1, 2:1, 3:0, 4:0})\n",
    "# D3=SandpileDivisor(S,{0:0, 2:1, 3:1, 4:0})\n",
    "# D4=SandpileDivisor(S,{0:1, 2:0, 3:1, 4:0})\n",
    "# D5=SandpileDivisor(S,{0:0, 2:2, 3:0, 4:0})\n",
    "# D6=SandpileDivisor(S,{0:1, 2:0, 3:0, 4:1})\n",
    "# D7=SandpileDivisor(S,{0:0, 2:0, 3:0, 4:2})\n",
    "# D8=SandpileDivisor(S,{0:0, 2:0, 3:1, 4:1})\n",
    "\n",
    "\n",
    "# #Sigma 4 # All indy returns false.\n",
    "\n",
    "#  [[ 0  1  0  1]\n",
    "#  [-1  2  1  0]\n",
    "#  [-1  2  0  1]\n",
    "#  [-1  1  1  1]\n",
    "#  [ 0  1  1  0]\n",
    "#  [ 0  2  1 -1]\n",
    "#  [ 0  2  0  0]\n",
    "#  [ 0  0  1  1]]\n",
    "    \n",
    "# D1=SandpileDivisor(S,{0:0, 2:1, 3:0, 4:1})\n",
    "# D2=SandpileDivisor(S,{0:-1, 2:2, 3:1, 4:0})\n",
    "# D3=SandpileDivisor(S,{0:-1, 2:2, 3:0, 4:1})\n",
    "# D4=SandpileDivisor(S,{0:-1, 2:1, 3:1, 4:1})\n",
    "# D5=SandpileDivisor(S,{0:0, 2:1, 3:1, 4:0})\n",
    "# D6=SandpileDivisor(S,{0:0, 2:2, 3:1, 4:-1})\n",
    "# D7=SandpileDivisor(S,{0:0, 2:2, 3:0, 4:0})\n",
    "# D8=SandpileDivisor(S,{0:0, 2:0, 3:1, 4:1})\n",
    "\n",
    "\n",
    "# #Sigma 5 # All indy returns false.\n",
    "\n",
    "#  [[ 0  1  0  1]\n",
    "#  [ 1  1  0  0]\n",
    "#  [ 0  1  1  0]\n",
    "#  [ 1  0  1  0]\n",
    "#  [ 0  2  1 -1]\n",
    "#  [ 0  2  0  0]\n",
    "#  [ 1  1  1 -1]\n",
    "#  [ 0  0  1  1]]\n",
    "    \n",
    "# D1=SandpileDivisor(S,{0:0, 2:1, 3:0, 4:1})\n",
    "# D2=SandpileDivisor(S,{0:1, 2:1, 3:0, 4:0})\n",
    "# D3=SandpileDivisor(S,{0:0, 2:1, 3:1, 4:0})\n",
    "# D4=SandpileDivisor(S,{0:1, 2:0, 3:1, 4:0})\n",
    "# D5=SandpileDivisor(S,{0:0, 2:2, 3:1, 4:-1})\n",
    "# D6=SandpileDivisor(S,{0:0, 2:2, 3:0, 4:0})\n",
    "# D7=SandpileDivisor(S,{0:1, 2:1, 3:1, 4:-1})\n",
    "# D8=SandpileDivisor(S,{0:0, 2:0, 3:1, 4:1})\n",
    "\n",
    "\n",
    "# #Sigma 6 # All indy, returns false.\n",
    "\n",
    "#  [[ 0  1  0  1]\n",
    "#  [-1  2  1  0]\n",
    "#  [-1  2  0  1]\n",
    "#  [-1  1  0  2]\n",
    "#  [-1  1  1  1]\n",
    "#  [ 0  1  1  0]\n",
    "#  [ 0  2  0  0]\n",
    "#  [ 0  0  1  1]]\n",
    "    \n",
    "# D1=SandpileDivisor(S,{0:0, 2:1, 3:0, 4:1})\n",
    "# D2=SandpileDivisor(S,{0:-1, 2:2, 3:1, 4:0})\n",
    "# D3=SandpileDivisor(S,{0:-1, 2:2, 3:0, 4:1})\n",
    "# D4=SandpileDivisor(S,{0:-1, 2:1, 3:0, 4:2})\n",
    "# D5=SandpileDivisor(S,{0:-1, 2:1, 3:1, 4:1})\n",
    "# D6=SandpileDivisor(S,{0:0, 2:1, 3:1, 4:0})\n",
    "# D7=SandpileDivisor(S,{0:0, 2:2, 3:0, 4:0})\n",
    "# D8=SandpileDivisor(S,{0:0, 2:0, 3:1, 4:1})\n",
    "    \n",
    "#End\n",
    "\n",
    "sig_lst=[D1,D2,D3,D4,D5,D6,D7,D8]"
   ]
  },
  {
   "cell_type": "code",
   "execution_count": 22,
   "metadata": {},
   "outputs": [
    {
     "name": "stdout",
     "output_type": "stream",
     "text": [
      "Are elements of sigma linearly equivelent to each other?\n",
      "All elements are chip-firing independant if only false below, else there exists a linearly dependant pair.\n",
      "{False, True}\n"
     ]
    }
   ],
   "source": [
    "print(\"Are elements of sigma linearly equivelent to each other?\") \n",
    "\n",
    "lst=set([])\n",
    "for item1 in sig_lst:\n",
    "    for item2 in sig_lst:\n",
    "        if item1==item2:\n",
    "            pass\n",
    "        else:\n",
    "            lst.add(item1.is_linearly_equivalent(item2))\n",
    "#             print(item1.is_linearly_equivalent(item2))\n",
    "print(\"All elements are chip-firing independant if only false below, else there exists a linearly dependant pair.\")\n",
    "print(lst)"
   ]
  },
  {
   "cell_type": "markdown",
   "metadata": {},
   "source": [
    "# G_456 - (assignment in degree 0)"
   ]
  },
  {
   "cell_type": "code",
   "execution_count": 25,
   "metadata": {},
   "outputs": [
    {
     "data": {
      "image/png": "[encoded data removed]",
      "text/plain": [
       "Graphics object consisting of 9 graphics primitives"
      ]
     },
     "metadata": {},
     "output_type": "display_data"
    }
   ],
   "source": [
    "# Each undirected edge cor to two opposite directed edges.\n",
    "# Vertex label 1 is swapped with 0\n",
    "\n",
    "g = {0:{2:1,4:2},\n",
    "     2:{0:1,3:1},\n",
    "     3:{2:1,4:1},\n",
    "     4:{0:2,3:1}}\n",
    "\n",
    "S=Sandpile(g,0)\n",
    "# S.show(figsize=3, edge_labels=true)\n",
    "S.show(figsize=3)"
   ]
  },
  {
   "cell_type": "code",
   "execution_count": 36,
   "metadata": {},
   "outputs": [],
   "source": [
    "#Sigma 1 # All indy, returns false.\n",
    "\n",
    "#  [[ 0  1  0  1]\n",
    "#  [ 1  1  0  0]\n",
    "#  [-1  1  0  2]\n",
    "#  [-1  1  1  1]\n",
    "#  [ 0  1  1  0]\n",
    "#  [ 1  0  1  0]\n",
    "#  [ 0  0  1  1]]\n",
    "    \n",
    "# D1=SandpileDivisor(S,{0:0, 2:1, 3:0, 4:1})\n",
    "# D2=SandpileDivisor(S,{0:1, 2:1, 3:0, 4:0})\n",
    "# D3=SandpileDivisor(S,{0:-1, 2:1, 3:0, 4:2})\n",
    "# D4=SandpileDivisor(S,{0:-1, 2:1, 3:1, 4:1})\n",
    "# D5=SandpileDivisor(S,{0:0, 2:1, 3:1, 4:0})\n",
    "# D6=SandpileDivisor(S,{0:1, 2:0, 3:1, 4:0})\n",
    "# D7=SandpileDivisor(S,{0:0, 2:0, 3:1, 4:1})\n",
    "\n",
    "\n",
    "# #Sigma 2 # All indy, returns false.\n",
    "\n",
    "#  [[ 0  1  0  1]\n",
    "#  [ 1  1  0  0]\n",
    "#  [-1  1  0  2]\n",
    "#  [ 1  0  1  0]\n",
    "#  [ 1  0  0  1]\n",
    "#  [ 0  0  0  2]\n",
    "#  [ 0  0  1  1]]\n",
    "\n",
    "    \n",
    "# D1=SandpileDivisor(S,{0:0, 2:1, 3:0, 4:1})\n",
    "# D2=SandpileDivisor(S,{0:1, 2:1, 3:0, 4:0})\n",
    "# D3=SandpileDivisor(S,{0:-1, 2:1, 3:0, 4:2})\n",
    "# D4=SandpileDivisor(S,{0:1, 2:0, 3:1, 4:0})\n",
    "# D5=SandpileDivisor(S,{0:1, 2:0, 3:0, 4:1})\n",
    "# D6=SandpileDivisor(S,{0:0, 2:0, 3:0, 4:2})\n",
    "# D7=SandpileDivisor(S,{0:0, 2:0, 3:1, 4:1})\n",
    "\n",
    "\n",
    "# #Sigma 3 # All indy, returns false.\n",
    "\n",
    "#  [[0 1 0 1]\n",
    "#  [1 1 0 0]\n",
    "#  [1 0 1 0]\n",
    "#  [2 0 0 0]\n",
    "#  [1 0 0 1]\n",
    "#  [0 0 0 2]\n",
    "#  [0 0 1 1]]\n",
    "\n",
    "    \n",
    "# D1=SandpileDivisor(S,{0:0, 2:1, 3:0, 4:1})\n",
    "# D2=SandpileDivisor(S,{0:1, 2:1, 3:0, 4:0})\n",
    "# D3=SandpileDivisor(S,{0:1, 2:0, 3:1, 4:0})\n",
    "# D4=SandpileDivisor(S,{0:2, 2:0, 3:0, 4:0})\n",
    "# D5=SandpileDivisor(S,{0:1, 2:0, 3:0, 4:1})\n",
    "# D6=SandpileDivisor(S,{0:0, 2:0, 3:0, 4:2})\n",
    "# D7=SandpileDivisor(S,{0:0, 2:0, 3:1, 4:1})\n",
    "\n",
    "\n",
    "# #Sigma 4 # All indy, returns false.\n",
    "\n",
    "#  [[ 0  1  0  1]\n",
    "#  [ 1  1  0  0]\n",
    "#  [-1  1  1  1]\n",
    "#  [ 0  1  1  0]\n",
    "#  [ 1  0  1  0]\n",
    "#  [ 1  1  1 -1]\n",
    "#  [ 0  0  1  1]]\n",
    "    \n",
    "# D1=SandpileDivisor(S,{0:0, 2:1, 3:0, 4:1})\n",
    "# D2=SandpileDivisor(S,{0:1, 2:1, 3:0, 4:0})\n",
    "# D3=SandpileDivisor(S,{0:-1, 2:1, 3:1, 4:1})\n",
    "# D4=SandpileDivisor(S,{0:0, 2:1, 3:1, 4:0})\n",
    "# D5=SandpileDivisor(S,{0:1, 2:0, 3:1, 4:0})\n",
    "# D6=SandpileDivisor(S,{0:1, 2:1, 3:1, 4:-1})\n",
    "# D7=SandpileDivisor(S,{0:0, 2:0, 3:1, 4:1})\n",
    "\n",
    "\n",
    "# #Sigma 5 # All indy, returns false.\n",
    "\n",
    "#  [[ 0  1  0  1]\n",
    "#  [ 1  1  0  0]\n",
    "#  [ 0  1  1  0]\n",
    "#  [ 1  0  1  0]\n",
    "#  [ 2  0  1 -1]\n",
    "#  [ 1  1  1 -1]\n",
    "#  [ 0  0  1  1]]\n",
    "    \n",
    "# D1=SandpileDivisor(S,{0:0, 2:1, 3:0, 4:1})\n",
    "# D2=SandpileDivisor(S,{0:1, 2:1, 3:0, 4:0})\n",
    "# D3=SandpileDivisor(S,{0:0, 2:1, 3:1, 4:0})\n",
    "# D4=SandpileDivisor(S,{0:1, 2:0, 3:1, 4:0})\n",
    "# D5=SandpileDivisor(S,{0:2, 2:0, 3:1, 4:-1})\n",
    "# D6=SandpileDivisor(S,{0:1, 2:1, 3:1, 4:-1})\n",
    "# D7=SandpileDivisor(S,{0:0, 2:0, 3:1, 4:1})\n",
    "\n",
    "\n",
    "# #Sigma 6 # All indy, returns false.\n",
    "\n",
    "#  [[ 0  1  0  1]\n",
    "#  [ 1  1  0  0]\n",
    "#  [ 1  0  1  0]\n",
    "#  [ 2  0  0  0]\n",
    "#  [ 1  0  0  1]\n",
    "#  [ 2  0  1 -1]\n",
    "#  [ 0  0  1  1]]\n",
    "\n",
    "    \n",
    "# D1=SandpileDivisor(S,{0:0, 2:1, 3:0, 4:1})\n",
    "# D2=SandpileDivisor(S,{0:1, 2:1, 3:0, 4:0})\n",
    "# D3=SandpileDivisor(S,{0:1, 2:0, 3:1, 4:0})\n",
    "# D4=SandpileDivisor(S,{0:2, 2:0, 3:0, 4:0})\n",
    "# D5=SandpileDivisor(S,{0:1, 2:0, 3:0, 4:1})\n",
    "# D6=SandpileDivisor(S,{0:2, 2:0, 3:1, 4:-1})\n",
    "# D7=SandpileDivisor(S,{0:0, 2:0, 3:1, 4:1})\n",
    "    \n",
    "# #End\n",
    "\n",
    "sig_lst=[D1,D2,D3,D4,D5,D6,D7]"
   ]
  },
  {
   "cell_type": "code",
   "execution_count": 37,
   "metadata": {},
   "outputs": [
    {
     "name": "stdout",
     "output_type": "stream",
     "text": [
      "Are elements of sigma linearly equivelent to each other?\n",
      "All elements are chip-firing independant if only false below, else there exists a linearly dependant pair.\n",
      "{False}\n"
     ]
    }
   ],
   "source": [
    "print(\"Are elements of sigma linearly equivelent to each other?\") \n",
    "\n",
    "lst=set([])\n",
    "for item1 in sig_lst:\n",
    "    for item2 in sig_lst:\n",
    "        if item1==item2:\n",
    "            pass\n",
    "        else:\n",
    "            lst.add(item1.is_linearly_equivalent(item2))\n",
    "#             print(item1.is_linearly_equivalent(item2))\n",
    "print(\"All elements are chip-firing independant if only false below, else there exists a linearly dependant pair.\")\n",
    "print(lst)"
   ]
  },
  {
   "cell_type": "markdown",
   "metadata": {},
   "source": [
    "# I_4 - Non trivial assignments."
   ]
  },
  {
   "cell_type": "code",
   "execution_count": 2,
   "metadata": {},
   "outputs": [
    {
     "data": {
      "image/png": "[encoded data removed]",
      "text/plain": [
       "Graphics object consisting of 9 graphics primitives"
      ]
     },
     "metadata": {},
     "output_type": "display_data"
    }
   ],
   "source": [
    "# Each undirected edge cor to two opposite directed edges.\n",
    "# Vertex label 1 is swapped with 0\n",
    "g = {0:{4:1,2:1},2:{0:1,3:1},3:{2:1,4:1},4:{3:1,0:1}}\n",
    "S=Sandpile(g,0)\n",
    "# S.show(figsize=3, edge_labels=true)\n",
    "S.show(figsize=3)\n"
   ]
  },
  {
   "cell_type": "code",
   "execution_count": 18,
   "metadata": {},
   "outputs": [],
   "source": [
    "# For I_4 I have 6 different sigmas\n",
    "\n",
    "# Function 1 #Divisors done #Output is False: Therefore chip-firing independant.\n",
    "\n",
    "#  [[ 0  0  0  1]\n",
    "#  [ 0  1  0  0]\n",
    "#  [ 1  0  0  0]\n",
    "#  [ 0  1 -1  1]]\n",
    "    \n",
    "# D1=SandpileDivisor(S,{0:0, 2:0, 3:0, 4:1})\n",
    "# D2=SandpileDivisor(S,{0:1, 2:1, 3:0, 4:0})\n",
    "# D3=SandpileDivisor(S,{0:1, 2:0, 3:0, 4:0})\n",
    "# D4=SandpileDivisor(S,{0:0, 2:1, 3:-1, 4:1})\n",
    "# sig_lst=[D1,D2,D3,D4]\n",
    "\n",
    "    \n",
    "# Function 2 #Divisors done #Output is False: Therefore chip-firing independant.\n",
    "\n",
    "#  [[0 0 0 1]\n",
    "#  [0 1 0 0]\n",
    "#  [0 0 1 0]\n",
    "#  [1 0 0 0]]\n",
    "\n",
    "# D1=SandpileDivisor(S,{0:0, 2:0, 3:0, 4:1})\n",
    "# D2=SandpileDivisor(S,{0:1, 2:1, 3:0, 4:0})\n",
    "# D3=SandpileDivisor(S,{0:0, 2:0, 3:1, 4:0})\n",
    "# D4=SandpileDivisor(S,{0:1, 2:0, 3:0, 4:0})\n",
    "# sig_lst=[D1,D2,D3,D4]\n",
    "\n",
    "# Function 3 #Output is False: Therefore chip-firing independant.\n",
    "\n",
    "#  [[ 0  1  0  0]\n",
    "#  [ 0  0  1  0]\n",
    "#  [ 1  0  1 -1]\n",
    "#  [ 1  0  0  0]]\n",
    "\n",
    "# D1=SandpileDivisor(S,{0:0, 2:1, 3:0, 4:0})\n",
    "# D2=SandpileDivisor(S,{0:1, 2:1, 3:1, 4:0})\n",
    "# D3=SandpileDivisor(S,{0:1, 2:0, 3:1, 4:-1})\n",
    "# D4=SandpileDivisor(S,{0:1, 2:0, 3:0, 4:0})\n",
    "# sig_lst=[D1,D2,D3,D4]\n",
    "\n",
    "# Function 4  #Output is False: Therefore chip-firing independant.\n",
    "\n",
    "#  [[ 0  1  0  0]\n",
    "#  [ 1  0  0  0]\n",
    "#  [ 1  1 -1  0]\n",
    "#  [ 0  1 -1  1]]\n",
    "\n",
    "# D1=SandpileDivisor(S,{0:0, 2:1, 3:0, 4:0})\n",
    "# D2=SandpileDivisor(S,{0:1, 2:0, 3:0, 4:0})\n",
    "# D3=SandpileDivisor(S,{0:1, 2:1, 3:-1, 4:0})\n",
    "# D4=SandpileDivisor(S,{0:0, 2:1, 3:-1, 4:1})\n",
    "# sig_lst=[D1,D2,D3,D4]\n",
    "\n",
    "# Function 5 #Output is False: Therefore chip-firing independant.\n",
    "\n",
    "#  [[ 0  1  0  0]\n",
    "#  [ 1  0  0  0]\n",
    "#  [ 1  1 -1  0]\n",
    "#  [ 1  1  0 -1]]\n",
    "\n",
    "# D1=SandpileDivisor(S,{0:0, 2:1, 3:0, 4:0})\n",
    "# D2=SandpileDivisor(S,{0:1, 2:0, 3:0, 4:0})\n",
    "# D3=SandpileDivisor(S,{0:1, 2:1, 3:-1, 4:0})\n",
    "# D4=SandpileDivisor(S,{0:1, 2:1, 3:0, 4:-1})\n",
    "# sig_lst=[D1,D2,D3,D4]\n",
    "    \n",
    "# Function 6 #Output is False: Therefore chip-firing independant.\n",
    "\n",
    "#  [[ 0  1  0  0]\n",
    "#  [ 1  0  0  0]\n",
    "#  [ 1  0  1 -1]\n",
    "#  [ 1  1  0 -1]]\n",
    "\n",
    "# D1=SandpileDivisor(S,{0:0, 2:1, 3:0, 4:0})\n",
    "# D2=SandpileDivisor(S,{0:1, 2:0, 3:0, 4:0})\n",
    "# D3=SandpileDivisor(S,{0:1, 2:0, 3:1, 4:-1})\n",
    "# D4=SandpileDivisor(S,{0:1, 2:1, 3:0, 4:1})\n",
    "# sig_lst=[D1,D2,D3,D4]\n",
    "\n"
   ]
  },
  {
   "cell_type": "code",
   "execution_count": 19,
   "metadata": {},
   "outputs": [
    {
     "name": "stdout",
     "output_type": "stream",
     "text": [
      "Are elements of sigma linearly equivelent to each other?\n",
      "All elements are chip-firing independant if only false below, else there exists a linearly dependant pair.\n",
      "{False}\n"
     ]
    }
   ],
   "source": [
    "print(\"Are elements of sigma linearly equivelent to each other?\") \n",
    "\n",
    "lst=set([])\n",
    "for item1 in sig_lst:\n",
    "    for item2 in sig_lst:\n",
    "        if item1==item2:\n",
    "            pass\n",
    "        else:\n",
    "            lst.add(item1.is_linearly_equivalent(item2))\n",
    "#             print(item1.is_linearly_equivalent(item2))\n",
    "print(\"All elements are chip-firing independant if only false below, else there exists a linearly dependant pair.\")\n",
    "print(lst)"
   ]
  },
  {
   "cell_type": "markdown",
   "metadata": {},
   "source": [
    "# A check for MainQ on I_4"
   ]
  },
  {
   "cell_type": "markdown",
   "metadata": {},
   "source": [
    "Want to check if subtracting elements of sigma where we have no ovelap, that the assingments are linearly equivelent to 0, this will give and example of disprove what I am trying."
   ]
  },
  {
   "cell_type": "code",
   "execution_count": 2,
   "metadata": {},
   "outputs": [
    {
     "data": {
      "image/png": "[encoded data removed]",
      "text/plain": [
       "Graphics object consisting of 9 graphics primitives"
      ]
     },
     "metadata": {},
     "output_type": "display_data"
    }
   ],
   "source": [
    "# Each undirected edge cor to two opposite directed edges.\n",
    "# Vertex label 1 is swapped with 0\n",
    "g = {0:{4:1,2:1},2:{0:1,3:1},3:{2:1,4:1},4:{3:1,0:1}}\n",
    "S=Sandpile(g,0)\n",
    "# S.show(figsize=3, edge_labels=true)\n",
    "S.show(figsize=3)\n"
   ]
  },
  {
   "cell_type": "code",
   "execution_count": 4,
   "metadata": {},
   "outputs": [],
   "source": [
    "# For I_4 \n",
    "\n",
    "D1=SandpileDivisor(S,{0:0, 2:0, 3:1, 4:-1})\n",
    "D2=SandpileDivisor(S,{0:0, 2:0, 3:0, 4:0})\n",
    "sig_lst=[D1,D2]\n"
   ]
  },
  {
   "cell_type": "code",
   "execution_count": 5,
   "metadata": {},
   "outputs": [
    {
     "name": "stdout",
     "output_type": "stream",
     "text": [
      "Are elements of sigma linearly equivelent to each other?\n",
      "All elements are chip-firing independant if only false below, else there exists a linearly dependant pair.\n",
      "{False}\n"
     ]
    }
   ],
   "source": [
    "print(\"Are elements of sigma linearly equivelent to each other?\") \n",
    "\n",
    "lst=set([])\n",
    "for item1 in sig_lst:\n",
    "    for item2 in sig_lst:\n",
    "        if item1==item2:\n",
    "            pass\n",
    "        else:\n",
    "            lst.add(item1.is_linearly_equivalent(item2))\n",
    "#             print(item1.is_linearly_equivalent(item2))\n",
    "print(\"All elements are chip-firing independant if only false below, else there exists a linearly dependant pair.\")\n",
    "print(lst)"
   ]
  },
  {
   "cell_type": "code",
   "execution_count": null,
   "metadata": {},
   "outputs": [],
   "source": []
  }
 ],
 "metadata": {
  "kernelspec": {
   "display_name": "Python 3 (ipykernel)",
   "language": "python",
   "name": "python3"
  },
  "language_info": {
   "codemirror_mode": {
    "name": "ipython",
    "version": 3
   },
   "file_extension": ".py",
   "mimetype": "text/x-python",
   "name": "python",
   "nbconvert_exporter": "python",
   "pygments_lexer": "ipython3",
   "version": "3.8.12"
  }
 },
 "nbformat": 4,
 "nbformat_minor": 4
}
