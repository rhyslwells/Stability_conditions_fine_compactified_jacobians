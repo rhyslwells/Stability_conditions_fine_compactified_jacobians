{
 "cells": [
  {
   "cell_type": "markdown",
   "id": "df1b6644-3929-4679-a4b9-7704665e1901",
   "metadata": {},
   "source": [
    " Want to produce a method to get $\\phi$ inequalities for trees. Using these I want to test them against $K_{33}$ and $GSym_{3}$."
   ]
  },
  {
   "cell_type": "code",
   "execution_count": 1,
   "id": "7582cc0c-4210-455d-b6c7-f81b1b60cf6c",
   "metadata": {},
   "outputs": [
    {
     "ename": "SyntaxError",
     "evalue": "invalid syntax (3134261474.py, line 1)",
     "output_type": "error",
     "traceback": [
      "\u001b[1;36m  File \u001b[1;32m\"C:\\Users\\RhysL\\AppData\\Local\\Temp\\ipykernel_97436\\3134261474.py\"\u001b[1;36m, line \u001b[1;32m1\u001b[0m\n\u001b[1;33m    pickle in lbm from breaks\u001b[0m\n\u001b[1;37m                  ^\u001b[0m\n\u001b[1;31mSyntaxError\u001b[0m\u001b[1;31m:\u001b[0m invalid syntax\n"
     ]
    }
   ],
   "source": [
    "pickle in lbm from breaks "
   ]
  },
  {
   "cell_type": "code",
   "execution_count": null,
   "id": "31939026-d62e-4a9e-9f7e-9cbad030e625",
   "metadata": {},
   "outputs": [],
   "source": [
    "phi_G62={\"1\":1,\"2\":1.5,\"3\":1,\"4\":1,\"5\":1,\"6\":1.5,\"12\":1.5,\"23\":1.5,\"34\":1,\"45\":1,\"56\":1.5,\"61\":1.5,\"123\":1.5,\"234\":1.5,\"345\":1,\"456\":1.5,\"561\":1.5,\"612\":1}\n",
    "\n",
    "phi_G63={\"1\":1,\"2\":1,\"3\":1.5,\"4\":1,\"5\":1,\"6\":1.5,\"12\":1,\"23\":1.5,\"34\":1.5,\"45\":1,\"56\":1.5,\"61\":1.5,\"123\":1.5,\"234\":1.5,\"345\":1.5,\"456\":1.5,\"561\":1.5,\"612\":1.5}"
   ]
  },
  {
   "cell_type": "code",
   "execution_count": 2,
   "id": "5738b8fb-4a45-4e7b-b135-540209d0fcb0",
   "metadata": {},
   "outputs": [
    {
     "name": "stdout",
     "output_type": "stream",
     "text": [
      "('1', '3')\n",
      "('1', '2')\n",
      "('4', '3')\n",
      "('4', '2')\n",
      "_______\n",
      "('1', '3', '7')\n",
      "('1', '3', '5')\n",
      "('1', '2', '7')\n",
      "('1', '2', '5')\n",
      "('4', '3', '7')\n",
      "('4', '3', '5')\n",
      "('4', '2', '7')\n",
      "('4', '2', '5')\n"
     ]
    }
   ],
   "source": [
    "a=(\"1\",\"4\")\n",
    "b=(\"3\",\"2\")\n",
    "c=(\"7\",\"5\")\n",
    "\n",
    "args=(a,b,c)\n",
    "\n",
    " \n",
    "p= [(x,y) for x in a for y in b]\n",
    "\n",
    "for i in p:\n",
    " \tprint(i)\n",
    " \n",
    "new=[(*prev,z) for prev in p for z in c]\n",
    "\n",
    "print(\"_______\")\n",
    "for j in new:\n",
    " \tprint(j)"
   ]
  },
  {
   "cell_type": "code",
   "execution_count": null,
   "id": "434a8f6c-4c58-4c64-8d7b-5e687088e42f",
   "metadata": {},
   "outputs": [],
   "source": []
  }
 ],
 "metadata": {
  "kernelspec": {
   "display_name": "Python 3 (ipykernel)",
   "language": "python",
   "name": "python3"
  },
  "language_info": {
   "codemirror_mode": {
    "name": "ipython",
    "version": 3
   },
   "file_extension": ".py",
   "mimetype": "text/x-python",
   "name": "python",
   "nbconvert_exporter": "python",
   "pygments_lexer": "ipython3",
   "version": "3.8.12"
  }
 },
 "nbformat": 4,
 "nbformat_minor": 5
}
