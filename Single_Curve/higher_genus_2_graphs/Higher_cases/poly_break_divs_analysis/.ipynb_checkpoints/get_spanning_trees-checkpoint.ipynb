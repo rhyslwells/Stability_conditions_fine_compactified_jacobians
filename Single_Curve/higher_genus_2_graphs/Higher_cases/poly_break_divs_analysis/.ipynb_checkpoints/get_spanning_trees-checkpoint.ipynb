{
 "cells": [
  {
   "cell_type": "code",
   "execution_count": 3,
   "metadata": {},
   "outputs": [],
   "source": [
    "import numpy as np\n",
    "import matplotlib.pyplot as plt\n",
    "import networkx as nx\n",
    "#See paper for Gi graphs."
   ]
  },
  {
   "cell_type": "code",
   "execution_count": 4,
   "metadata": {},
   "outputs": [],
   "source": [
    "def get_sp_trees(G): #Out: list of edges in spanning tree\n",
    "    all_trees=[]\n",
    "    for g in list(G.spanning_trees()):\n",
    "        edges_red=[]\n",
    "        edges=list(g.edges())\n",
    "        for edge in edges:\n",
    "            lst_ed=list(edge)\n",
    "            lst_ed.pop(lst_ed.index(None))\n",
    "            edges_red.append(lst_ed)\n",
    "        all_trees.append(edges_red)\n",
    "    return print(all_trees)"
   ]
  },
  {
   "cell_type": "markdown",
   "metadata": {},
   "source": [
    "080921\n",
    "\n",
    "Up to G1 to I will be copying the method for G1 and applying that to K_{3,3}, Petersen graph, and K_5 (To find cases where there is no phi). \n",
    "\n",
    "I will similarly do this for graphs G_348=(3,4,8), G_455=(4,5,5) and G_456=(4,5,6) \n",
    "\n",
    "I will then store the output and graph in a file in python for later calculations."
   ]
  },
  {
   "cell_type": "code",
   "execution_count": 5,
   "metadata": {},
   "outputs": [
    {
     "name": "stdout",
     "output_type": "stream",
     "text": [
      "[[['1', '4'], ['2', '4'], ['3', '4']], [['1', '4'], ['2', '3'], ['3', '4']], [['1', '4'], ['2', '3'], ['2', '4']], [['1', '3'], ['2', '4'], ['3', '4']], [['1', '3'], ['2', '3'], ['3', '4']], [['1', '3'], ['2', '3'], ['2', '4']], [['1', '3'], ['1', '4'], ['2', '4']], [['1', '3'], ['1', '4'], ['2', '3']], [['1', '2'], ['2', '4'], ['3', '4']], [['1', '2'], ['2', '3'], ['3', '4']], [['1', '2'], ['2', '3'], ['2', '4']], [['1', '2'], ['1', '4'], ['3', '4']], [['1', '2'], ['1', '4'], ['2', '3']], [['1', '2'], ['1', '3'], ['3', '4']], [['1', '2'], ['1', '3'], ['2', '4']], [['1', '2'], ['1', '3'], ['1', '4']]]\n",
      "Number of spanning trees:  16\n"
     ]
    }
   ],
   "source": [
    "G455_exedge=Graph([(\"1\",\"2\"),(\"2\",\"3\"),(\"3\",\"4\"),(\"4\",\"1\"),(\"1\",\"3\"),(\"2\",\"4\")], multiedges=True)\n",
    "get_sp_trees(G455_exedge)\n",
    "print(\"Number of spanning trees: \",len(list(G455_exedge.spanning_trees() )))"
   ]
  },
  {
   "cell_type": "code",
   "execution_count": 3,
   "metadata": {},
   "outputs": [
    {
     "name": "stdout",
     "output_type": "stream",
     "text": [
      "[[['1', '6'], ['2', '6'], ['3', '4'], ['3', '5'], ['3', '6']], [['1', '6'], ['2', '5'], ['2', '6'], ['3', '4'], ['3', '6']], [['1', '6'], ['2', '5'], ['3', '4'], ['3', '5'], ['3', '6']], [['1', '6'], ['2', '5'], ['2', '6'], ['3', '4'], ['3', '5']], [['1', '6'], ['2', '4'], ['2', '6'], ['3', '5'], ['3', '6']], [['1', '6'], ['2', '4'], ['2', '5'], ['2', '6'], ['3', '6']], [['1', '6'], ['2', '4'], ['2', '5'], ['3', '5'], ['3', '6']], [['1', '6'], ['2', '4'], ['2', '5'], ['2', '6'], ['3', '5']], [['1', '6'], ['2', '4'], ['3', '4'], ['3', '5'], ['3', '6']], [['1', '6'], ['2', '4'], ['2', '6'], ['3', '4'], ['3', '5']], [['1', '6'], ['2', '4'], ['2', '5'], ['3', '4'], ['3', '6']], [['1', '6'], ['2', '4'], ['2', '5'], ['2', '6'], ['3', '4']], [['1', '5'], ['2', '6'], ['3', '4'], ['3', '5'], ['3', '6']], [['1', '5'], ['2', '5'], ['2', '6'], ['3', '4'], ['3', '6']], [['1', '5'], ['2', '5'], ['3', '4'], ['3', '5'], ['3', '6']], [['1', '5'], ['2', '5'], ['2', '6'], ['3', '4'], ['3', '5']], [['1', '5'], ['2', '4'], ['2', '6'], ['3', '5'], ['3', '6']], [['1', '5'], ['2', '4'], ['2', '5'], ['2', '6'], ['3', '6']], [['1', '5'], ['2', '4'], ['2', '5'], ['3', '5'], ['3', '6']], [['1', '5'], ['2', '4'], ['2', '5'], ['2', '6'], ['3', '5']], [['1', '5'], ['2', '4'], ['3', '4'], ['3', '5'], ['3', '6']], [['1', '5'], ['2', '4'], ['2', '6'], ['3', '4'], ['3', '5']], [['1', '5'], ['2', '4'], ['2', '5'], ['3', '4'], ['3', '6']], [['1', '5'], ['2', '4'], ['2', '5'], ['2', '6'], ['3', '4']], [['1', '5'], ['1', '6'], ['2', '6'], ['3', '4'], ['3', '6']], [['1', '5'], ['1', '6'], ['2', '6'], ['3', '4'], ['3', '5']], [['1', '5'], ['1', '6'], ['2', '5'], ['3', '4'], ['3', '6']], [['1', '5'], ['1', '6'], ['2', '5'], ['3', '4'], ['3', '5']], [['1', '5'], ['1', '6'], ['2', '4'], ['2', '6'], ['3', '6']], [['1', '5'], ['1', '6'], ['2', '4'], ['2', '6'], ['3', '5']], [['1', '5'], ['1', '6'], ['2', '4'], ['2', '5'], ['3', '6']], [['1', '5'], ['1', '6'], ['2', '4'], ['2', '5'], ['3', '5']], [['1', '5'], ['1', '6'], ['2', '4'], ['3', '4'], ['3', '6']], [['1', '5'], ['1', '6'], ['2', '4'], ['2', '6'], ['3', '4']], [['1', '5'], ['1', '6'], ['2', '4'], ['3', '4'], ['3', '5']], [['1', '5'], ['1', '6'], ['2', '4'], ['2', '5'], ['3', '4']], [['1', '4'], ['2', '6'], ['3', '4'], ['3', '5'], ['3', '6']], [['1', '4'], ['2', '5'], ['2', '6'], ['3', '4'], ['3', '6']], [['1', '4'], ['2', '5'], ['3', '4'], ['3', '5'], ['3', '6']], [['1', '4'], ['2', '5'], ['2', '6'], ['3', '4'], ['3', '5']], [['1', '4'], ['2', '4'], ['2', '6'], ['3', '5'], ['3', '6']], [['1', '4'], ['2', '4'], ['2', '5'], ['2', '6'], ['3', '6']], [['1', '4'], ['2', '4'], ['2', '5'], ['3', '5'], ['3', '6']], [['1', '4'], ['2', '4'], ['2', '5'], ['2', '6'], ['3', '5']], [['1', '4'], ['2', '4'], ['3', '4'], ['3', '5'], ['3', '6']], [['1', '4'], ['2', '4'], ['2', '6'], ['3', '4'], ['3', '5']], [['1', '4'], ['2', '4'], ['2', '5'], ['3', '4'], ['3', '6']], [['1', '4'], ['2', '4'], ['2', '5'], ['2', '6'], ['3', '4']], [['1', '4'], ['1', '6'], ['2', '6'], ['3', '5'], ['3', '6']], [['1', '4'], ['1', '6'], ['2', '5'], ['2', '6'], ['3', '6']], [['1', '4'], ['1', '6'], ['2', '5'], ['3', '5'], ['3', '6']], [['1', '4'], ['1', '6'], ['2', '5'], ['2', '6'], ['3', '5']], [['1', '4'], ['1', '6'], ['2', '6'], ['3', '4'], ['3', '5']], [['1', '4'], ['1', '6'], ['2', '5'], ['2', '6'], ['3', '4']], [['1', '4'], ['1', '6'], ['2', '5'], ['3', '4'], ['3', '5']], [['1', '4'], ['1', '6'], ['2', '4'], ['3', '5'], ['3', '6']], [['1', '4'], ['1', '6'], ['2', '4'], ['2', '5'], ['3', '6']], [['1', '4'], ['1', '6'], ['2', '4'], ['2', '5'], ['3', '5']], [['1', '4'], ['1', '6'], ['2', '4'], ['3', '4'], ['3', '5']], [['1', '4'], ['1', '6'], ['2', '4'], ['2', '5'], ['3', '4']], [['1', '4'], ['1', '5'], ['2', '6'], ['3', '5'], ['3', '6']], [['1', '4'], ['1', '5'], ['2', '5'], ['2', '6'], ['3', '6']], [['1', '4'], ['1', '5'], ['2', '5'], ['3', '5'], ['3', '6']], [['1', '4'], ['1', '5'], ['2', '5'], ['2', '6'], ['3', '5']], [['1', '4'], ['1', '5'], ['2', '6'], ['3', '4'], ['3', '6']], [['1', '4'], ['1', '5'], ['2', '5'], ['3', '4'], ['3', '6']], [['1', '4'], ['1', '5'], ['2', '5'], ['2', '6'], ['3', '4']], [['1', '4'], ['1', '5'], ['2', '4'], ['2', '6'], ['3', '6']], [['1', '4'], ['1', '5'], ['2', '4'], ['3', '5'], ['3', '6']], [['1', '4'], ['1', '5'], ['2', '4'], ['2', '6'], ['3', '5']], [['1', '4'], ['1', '5'], ['2', '4'], ['3', '4'], ['3', '6']], [['1', '4'], ['1', '5'], ['2', '4'], ['2', '6'], ['3', '4']], [['1', '4'], ['1', '5'], ['1', '6'], ['2', '6'], ['3', '6']], [['1', '4'], ['1', '5'], ['1', '6'], ['2', '6'], ['3', '5']], [['1', '4'], ['1', '5'], ['1', '6'], ['2', '5'], ['3', '6']], [['1', '4'], ['1', '5'], ['1', '6'], ['2', '5'], ['3', '5']], [['1', '4'], ['1', '5'], ['1', '6'], ['2', '6'], ['3', '4']], [['1', '4'], ['1', '5'], ['1', '6'], ['2', '5'], ['3', '4']], [['1', '4'], ['1', '5'], ['1', '6'], ['2', '4'], ['3', '6']], [['1', '4'], ['1', '5'], ['1', '6'], ['2', '4'], ['3', '5']], [['1', '4'], ['1', '5'], ['1', '6'], ['2', '4'], ['3', '4']]]\n",
      "Number of spanning trees:  81\n"
     ]
    }
   ],
   "source": [
    "K_33= Graph([(\"1\",\"4\"),(\"1\",\"5\"),(\"1\",\"6\"),(\"2\",\"4\"),(\"2\",\"5\"),(\"2\",\"6\"),(\"3\",\"4\"),(\"3\",\"5\"),(\"3\",\"6\"),], multiedges=True)\n",
    "get_sp_trees(K_33)\n",
    "print(\"Number of spanning trees: \",len(list(K_33.spanning_trees() )))"
   ]
  },
  {
   "cell_type": "code",
   "execution_count": 26,
   "metadata": {},
   "outputs": [
    {
     "name": "stdout",
     "output_type": "stream",
     "text": [
      "[[['1', '5'], ['2', '5'], ['3', '5'], ['4', '5']], [['1', '5'], ['2', '5'], ['3', '4'], ['4', '5']], [['1', '5'], ['2', '5'], ['3', '4'], ['3', '5']], [['1', '5'], ['2', '4'], ['3', '5'], ['4', '5']], [['1', '5'], ['2', '4'], ['3', '4'], ['4', '5']], [['1', '5'], ['2', '4'], ['3', '4'], ['3', '5']], [['1', '5'], ['2', '4'], ['2', '5'], ['3', '5']], [['1', '5'], ['2', '4'], ['2', '5'], ['3', '4']], [['1', '5'], ['2', '3'], ['3', '5'], ['4', '5']], [['1', '5'], ['2', '3'], ['3', '4'], ['4', '5']], [['1', '5'], ['2', '3'], ['3', '4'], ['3', '5']], [['1', '5'], ['2', '3'], ['2', '5'], ['4', '5']], [['1', '5'], ['2', '3'], ['2', '5'], ['3', '4']], [['1', '5'], ['2', '3'], ['2', '4'], ['4', '5']], [['1', '5'], ['2', '3'], ['2', '4'], ['3', '5']], [['1', '5'], ['2', '3'], ['2', '4'], ['2', '5']], [['1', '4'], ['2', '5'], ['3', '5'], ['4', '5']], [['1', '4'], ['2', '5'], ['3', '4'], ['4', '5']], [['1', '4'], ['2', '5'], ['3', '4'], ['3', '5']], [['1', '4'], ['2', '4'], ['3', '5'], ['4', '5']], [['1', '4'], ['2', '4'], ['3', '4'], ['4', '5']], [['1', '4'], ['2', '4'], ['3', '4'], ['3', '5']], [['1', '4'], ['2', '4'], ['2', '5'], ['3', '5']], [['1', '4'], ['2', '4'], ['2', '5'], ['3', '4']], [['1', '4'], ['2', '3'], ['3', '5'], ['4', '5']], [['1', '4'], ['2', '3'], ['3', '4'], ['4', '5']], [['1', '4'], ['2', '3'], ['3', '4'], ['3', '5']], [['1', '4'], ['2', '3'], ['2', '5'], ['4', '5']], [['1', '4'], ['2', '3'], ['2', '5'], ['3', '4']], [['1', '4'], ['2', '3'], ['2', '4'], ['4', '5']], [['1', '4'], ['2', '3'], ['2', '4'], ['3', '5']], [['1', '4'], ['2', '3'], ['2', '4'], ['2', '5']], [['1', '4'], ['1', '5'], ['2', '5'], ['3', '5']], [['1', '4'], ['1', '5'], ['2', '5'], ['3', '4']], [['1', '4'], ['1', '5'], ['2', '4'], ['3', '5']], [['1', '4'], ['1', '5'], ['2', '4'], ['3', '4']], [['1', '4'], ['1', '5'], ['2', '3'], ['3', '5']], [['1', '4'], ['1', '5'], ['2', '3'], ['3', '4']], [['1', '4'], ['1', '5'], ['2', '3'], ['2', '5']], [['1', '4'], ['1', '5'], ['2', '3'], ['2', '4']], [['1', '3'], ['2', '5'], ['3', '5'], ['4', '5']], [['1', '3'], ['2', '5'], ['3', '4'], ['4', '5']], [['1', '3'], ['2', '5'], ['3', '4'], ['3', '5']], [['1', '3'], ['2', '4'], ['3', '5'], ['4', '5']], [['1', '3'], ['2', '4'], ['3', '4'], ['4', '5']], [['1', '3'], ['2', '4'], ['3', '4'], ['3', '5']], [['1', '3'], ['2', '4'], ['2', '5'], ['3', '5']], [['1', '3'], ['2', '4'], ['2', '5'], ['3', '4']], [['1', '3'], ['2', '3'], ['3', '5'], ['4', '5']], [['1', '3'], ['2', '3'], ['3', '4'], ['4', '5']], [['1', '3'], ['2', '3'], ['3', '4'], ['3', '5']], [['1', '3'], ['2', '3'], ['2', '5'], ['4', '5']], [['1', '3'], ['2', '3'], ['2', '5'], ['3', '4']], [['1', '3'], ['2', '3'], ['2', '4'], ['4', '5']], [['1', '3'], ['2', '3'], ['2', '4'], ['3', '5']], [['1', '3'], ['2', '3'], ['2', '4'], ['2', '5']], [['1', '3'], ['1', '5'], ['2', '5'], ['4', '5']], [['1', '3'], ['1', '5'], ['2', '5'], ['3', '4']], [['1', '3'], ['1', '5'], ['2', '4'], ['4', '5']], [['1', '3'], ['1', '5'], ['2', '4'], ['3', '4']], [['1', '3'], ['1', '5'], ['2', '4'], ['2', '5']], [['1', '3'], ['1', '5'], ['2', '3'], ['4', '5']], [['1', '3'], ['1', '5'], ['2', '3'], ['3', '4']], [['1', '3'], ['1', '5'], ['2', '3'], ['2', '4']], [['1', '3'], ['1', '4'], ['2', '5'], ['4', '5']], [['1', '3'], ['1', '4'], ['2', '5'], ['3', '5']], [['1', '3'], ['1', '4'], ['2', '4'], ['4', '5']], [['1', '3'], ['1', '4'], ['2', '4'], ['3', '5']], [['1', '3'], ['1', '4'], ['2', '4'], ['2', '5']], [['1', '3'], ['1', '4'], ['2', '3'], ['4', '5']], [['1', '3'], ['1', '4'], ['2', '3'], ['3', '5']], [['1', '3'], ['1', '4'], ['2', '3'], ['2', '5']], [['1', '3'], ['1', '4'], ['1', '5'], ['2', '5']], [['1', '3'], ['1', '4'], ['1', '5'], ['2', '4']], [['1', '3'], ['1', '4'], ['1', '5'], ['2', '3']], [['1', '2'], ['2', '5'], ['3', '5'], ['4', '5']], [['1', '2'], ['2', '5'], ['3', '4'], ['4', '5']], [['1', '2'], ['2', '5'], ['3', '4'], ['3', '5']], [['1', '2'], ['2', '4'], ['3', '5'], ['4', '5']], [['1', '2'], ['2', '4'], ['3', '4'], ['4', '5']], [['1', '2'], ['2', '4'], ['3', '4'], ['3', '5']], [['1', '2'], ['2', '4'], ['2', '5'], ['3', '5']], [['1', '2'], ['2', '4'], ['2', '5'], ['3', '4']], [['1', '2'], ['2', '3'], ['3', '5'], ['4', '5']], [['1', '2'], ['2', '3'], ['3', '4'], ['4', '5']], [['1', '2'], ['2', '3'], ['3', '4'], ['3', '5']], [['1', '2'], ['2', '3'], ['2', '5'], ['4', '5']], [['1', '2'], ['2', '3'], ['2', '5'], ['3', '4']], [['1', '2'], ['2', '3'], ['2', '4'], ['4', '5']], [['1', '2'], ['2', '3'], ['2', '4'], ['3', '5']], [['1', '2'], ['2', '3'], ['2', '4'], ['2', '5']], [['1', '2'], ['1', '5'], ['3', '5'], ['4', '5']], [['1', '2'], ['1', '5'], ['3', '4'], ['4', '5']], [['1', '2'], ['1', '5'], ['3', '4'], ['3', '5']], [['1', '2'], ['1', '5'], ['2', '4'], ['3', '5']], [['1', '2'], ['1', '5'], ['2', '4'], ['3', '4']], [['1', '2'], ['1', '5'], ['2', '3'], ['4', '5']], [['1', '2'], ['1', '5'], ['2', '3'], ['3', '4']], [['1', '2'], ['1', '5'], ['2', '3'], ['2', '4']], [['1', '2'], ['1', '4'], ['3', '5'], ['4', '5']], [['1', '2'], ['1', '4'], ['3', '4'], ['4', '5']], [['1', '2'], ['1', '4'], ['3', '4'], ['3', '5']], [['1', '2'], ['1', '4'], ['2', '5'], ['3', '5']], [['1', '2'], ['1', '4'], ['2', '5'], ['3', '4']], [['1', '2'], ['1', '4'], ['2', '3'], ['4', '5']], [['1', '2'], ['1', '4'], ['2', '3'], ['3', '5']], [['1', '2'], ['1', '4'], ['2', '3'], ['2', '5']], [['1', '2'], ['1', '4'], ['1', '5'], ['3', '5']], [['1', '2'], ['1', '4'], ['1', '5'], ['3', '4']], [['1', '2'], ['1', '4'], ['1', '5'], ['2', '3']], [['1', '2'], ['1', '3'], ['3', '5'], ['4', '5']], [['1', '2'], ['1', '3'], ['3', '4'], ['4', '5']], [['1', '2'], ['1', '3'], ['3', '4'], ['3', '5']], [['1', '2'], ['1', '3'], ['2', '5'], ['4', '5']], [['1', '2'], ['1', '3'], ['2', '5'], ['3', '4']], [['1', '2'], ['1', '3'], ['2', '4'], ['4', '5']], [['1', '2'], ['1', '3'], ['2', '4'], ['3', '5']], [['1', '2'], ['1', '3'], ['2', '4'], ['2', '5']], [['1', '2'], ['1', '3'], ['1', '5'], ['4', '5']], [['1', '2'], ['1', '3'], ['1', '5'], ['3', '4']], [['1', '2'], ['1', '3'], ['1', '5'], ['2', '4']], [['1', '2'], ['1', '3'], ['1', '4'], ['4', '5']], [['1', '2'], ['1', '3'], ['1', '4'], ['3', '5']], [['1', '2'], ['1', '3'], ['1', '4'], ['2', '5']], [['1', '2'], ['1', '3'], ['1', '4'], ['1', '5']]]\n"
     ]
    }
   ],
   "source": [
    "K_5= Graph([(\"1\",\"2\"),(\"1\",\"3\"),(\"1\",\"4\"),(\"1\",\"5\"),\n",
    "            (\"2\",\"3\"),(\"2\",\"4\"),(\"2\",\"5\"),\n",
    "            (\"3\",\"4\"),(\"3\",\"5\"),\n",
    "            (\"4\",\"5\")], multiedges=True)\n",
    "get_sp_trees(K_5)\n",
    "# print(\"Number of spanning trees: \",len(list(K_5.spanning_trees() ))) #125 "
   ]
  },
  {
   "cell_type": "code",
   "execution_count": null,
   "metadata": {},
   "outputs": [],
   "source": [
    "#Im skipping the petersen because there are 10 vertices and 2000 spanning trees."
   ]
  },
  {
   "cell_type": "code",
   "execution_count": 24,
   "metadata": {},
   "outputs": [
    {
     "name": "stdout",
     "output_type": "stream",
     "text": [
      "[[['1', '2'], ['2', '3']], [['1', '2'], ['2', '3']], [['1', '2'], ['2', '3']], [['1', '2'], ['2', '3']]]\n"
     ]
    }
   ],
   "source": [
    "G_345= Graph([(\"1\",\"2\"),(\"1\",\"2\"),(\"2\",\"3\"),(\"2\",\"3\")], multiedges=True)\n",
    "get_sp_trees(G_345)\n",
    "# print(\"Number of spanning trees: \",len(list(G_345.spanning_trees() ))) #4"
   ]
  },
  {
   "cell_type": "code",
   "execution_count": 23,
   "metadata": {},
   "outputs": [
    {
     "name": "stdout",
     "output_type": "stream",
     "text": [
      "[[['1', '4'], ['2', '3'], ['3', '4']], [['1', '4'], ['2', '4'], ['3', '4']], [['1', '4'], ['2', '3'], ['2', '4']], [['1', '2'], ['2', '3'], ['3', '4']], [['1', '2'], ['2', '4'], ['3', '4']], [['1', '2'], ['2', '3'], ['2', '4']], [['1', '2'], ['1', '4'], ['3', '4']], [['1', '2'], ['1', '4'], ['2', '3']]]\n",
      "Number of spanning trees:  8\n"
     ]
    }
   ],
   "source": [
    "G_455= Graph([(\"1\",\"2\"),(\"1\",\"4\"),(\"2\",\"3\"),(\"2\",\"4\"),(\"3\",\"4\")], multiedges=True)\n",
    "get_sp_trees(G_455)\n",
    "# print(\"Number of spanning trees: \",len(list(G_455.spanning_trees() ))) #4"
   ]
  },
  {
   "cell_type": "code",
   "execution_count": 22,
   "metadata": {},
   "outputs": [
    {
     "name": "stdout",
     "output_type": "stream",
     "text": [
      "[[['1', '4'], ['2', '3'], ['3', '4']], [['1', '4'], ['2', '3'], ['3', '4']], [['1', '2'], ['2', '3'], ['3', '4']], [['1', '2'], ['1', '4'], ['3', '4']], [['1', '2'], ['1', '4'], ['2', '3']], [['1', '2'], ['1', '4'], ['3', '4']], [['1', '2'], ['1', '4'], ['2', '3']]]\n",
      "Number of spanning trees:  7\n"
     ]
    }
   ],
   "source": [
    "G_456= Graph([(\"1\",\"2\"),(\"1\",\"4\"),(\"1\",\"4\"),(\"2\",\"3\"),(\"3\",\"4\")], multiedges=True)\n",
    "get_sp_trees(G_456)\n",
    "# print(\"Number of spanning trees: \",len(list(G_456.spanning_trees() ))) #4"
   ]
  },
  {
   "cell_type": "code",
   "execution_count": null,
   "metadata": {},
   "outputs": [],
   "source": [
    "------------------------------------------------------------------------------------------"
   ]
  },
  {
   "cell_type": "code",
   "execution_count": 18,
   "metadata": {},
   "outputs": [
    {
     "name": "stdout",
     "output_type": "stream",
     "text": [
      "[[['1', '3'], ['2', '3']], [['1', '3'], ['2', '3']], [['1', '2'], ['2', '3']], [['1', '2'], ['1', '3']], [['1', '2'], ['1', '3']]]\n",
      "Number of spanning trees:  5\n"
     ]
    }
   ],
   "source": [
    "G1 = Graph([(\"1\",\"2\"),(\"1\",\"3\"),(\"1\",\"3\"),(\"2\",\"3\")], multiedges=True)\n",
    "get_sp_trees(G1)\n",
    "#To visualise:\n",
    "    # G = nx.MultiGraph()\n",
    "    # vertices=[\"1\",\"2\",\"3\"]\n",
    "    # edges=[[\"1\",\"2\"],[\"1\",\"3\"],[\"2\",\"3\"],[\"1\",\"3\"]] #[[\"b\",\"c\"],[\"b\",\"a\"]]\n",
    "    # G.add_nodes_from(vertices)\n",
    "    # G.add_edges_from(edges)\n",
    "    # nx.draw(G)\n",
    "    # plt.show()\n",
    "print(\"Number of spanning trees: \",len(list(G1.spanning_trees() )))"
   ]
  },
  {
   "cell_type": "code",
   "execution_count": 22,
   "metadata": {},
   "outputs": [
    {
     "name": "stdout",
     "output_type": "stream",
     "text": [
      "Order of automorphism group: 2\n",
      "[(), ('1','3')]\n",
      "2\n",
      "2\n",
      "[Subgroup generated by [('1','3')] of (Permutation Group with generators [('1','3')]), Subgroup generated by [()] of (Permutation Group with generators [('1','3')])]\n"
     ]
    }
   ],
   "source": [
    "Aut=G1.automorphism_group()\n",
    "print(\"Order of automorphism group: {}\".format(Aut.order())) #all elements have order two.\n",
    "print(list(Aut))\n",
    "print(Aut.cardinality())\n",
    "# orbits = G1.automorphism_group(orbits=True)[-1]  # long time\n",
    "# G1.show(figsize=[5, 5], partition=orbits)  # long time\n",
    "print(Aut.order())\n",
    "print(Aut.normal_subgroups())"
   ]
  },
  {
   "cell_type": "code",
   "execution_count": 11,
   "metadata": {},
   "outputs": [
    {
     "name": "stdout",
     "output_type": "stream",
     "text": [
      "[[['1', '3'], ['2', '3']], [['1', '2'], ['2', '3']], [['1', '2'], ['1', '3']]]\n",
      "Number of spanning trees:  3\n"
     ]
    }
   ],
   "source": [
    "G2 = Graph([(\"1\",\"2\"),(\"1\",\"3\"),(\"2\",\"3\")], multiedges=True)\n",
    "get_sp_trees(G2)\n",
    "print(\"Number of spanning trees: \",len(list(G2.spanning_trees() )))"
   ]
  },
  {
   "cell_type": "code",
   "execution_count": 16,
   "metadata": {
    "collapsed": true
   },
   "outputs": [
    {
     "name": "stdout",
     "output_type": "stream",
     "text": [
      "Order of automorphism group: 6\n",
      "[(), ('1','2','3'), ('1','3','2'), ('2','3'), ('1','2'), ('1','3')]\n",
      "True\n"
     ]
    },
    {
     "data": {
      "image/png": "[encoded data removed]",
      "text/plain": [
       "Graphics object consisting of 7 graphics primitives"
      ]
     },
     "metadata": {},
     "output_type": "display_data"
    }
   ],
   "source": [
    "Aut=G2.automorphism_group()\n",
    "print(\"Order of automorphism group: {}\".format(Aut.order()))\n",
    "print(list(Aut))\n",
    "print(Aut.is_isomorphic(SymmetricGroup(3)))"
   ]
  },
  {
   "cell_type": "code",
   "execution_count": 20,
   "metadata": {},
   "outputs": [
    {
     "name": "stdout",
     "output_type": "stream",
     "text": [
      "[[['1', '2']], [['1', '2']]]\n",
      "Number of spanning trees:  2\n"
     ]
    }
   ],
   "source": [
    "G3 = Graph([(\"1\",\"2\"),(\"1\",\"2\")], multiedges=True)\n",
    "get_sp_trees(G3)\n",
    "print(\"Number of spanning trees: \",len(list(G3.spanning_trees() )))"
   ]
  },
  {
   "cell_type": "code",
   "execution_count": 22,
   "metadata": {},
   "outputs": [
    {
     "name": "stdout",
     "output_type": "stream",
     "text": [
      "[[['1', '2']], [['1', '2']], [['1', '2']]]\n",
      "Number of spanning trees:  3\n"
     ]
    }
   ],
   "source": [
    "G4 = Graph([(\"1\",\"2\"),(\"1\",\"2\"),(\"1\",\"2\")], multiedges=True)\n",
    "get_sp_trees(G4)\n",
    "print(\"Number of spanning trees: \",len(list(G4.spanning_trees() )))"
   ]
  },
  {
   "cell_type": "code",
   "execution_count": 23,
   "metadata": {},
   "outputs": [
    {
     "name": "stdout",
     "output_type": "stream",
     "text": [
      "[[['1', '3'], ['2', '3']], [['1', '3'], ['2', '3']], [['1', '2'], ['2', '3']], [['1', '2'], ['1', '3']], [['1', '2'], ['1', '3']], [['1', '2'], ['2', '3']], [['1', '2'], ['1', '3']], [['1', '2'], ['1', '3']]]\n",
      "Number of spanning trees:  8\n"
     ]
    }
   ],
   "source": [
    "G5 = Graph([(\"1\",\"2\"),(\"1\",\"3\"),(\"1\",\"3\"),(\"1\",\"2\"),(\"2\",\"3\")], multiedges=True)\n",
    "get_sp_trees(G5)\n",
    "print(\"Number of spanning trees: \",len(list(G5.spanning_trees() )))"
   ]
  },
  {
   "cell_type": "code",
   "execution_count": 24,
   "metadata": {},
   "outputs": [
    {
     "name": "stdout",
     "output_type": "stream",
     "text": [
      "[[['1', '3'], ['2', '3']], [['1', '3'], ['2', '3']], [['1', '3'], ['2', '3']], [['1', '2'], ['2', '3']], [['1', '2'], ['1', '3']], [['1', '2'], ['1', '3']], [['1', '2'], ['1', '3']]]\n",
      "Number of spanning trees:  7\n"
     ]
    }
   ],
   "source": [
    "G6 = Graph([(\"1\",\"2\"),(\"1\",\"3\"),(\"1\",\"3\"),(\"1\",\"3\"),(\"2\",\"3\")], multiedges=True)\n",
    "get_sp_trees(G6)\n",
    "print(\"Number of spanning trees: \",len(list(G6.spanning_trees() )))"
   ]
  },
  {
   "cell_type": "code",
   "execution_count": 25,
   "metadata": {},
   "outputs": [
    {
     "name": "stdout",
     "output_type": "stream",
     "text": [
      "[[['1', '2'], ['2', '3']], [['1', '2'], ['2', '3']], [['1', '2'], ['2', '3']], [['1', '2'], ['2', '3']]]\n",
      "Number of spanning trees:  4\n"
     ]
    }
   ],
   "source": [
    "G7 = Graph([(\"1\",\"2\"),(\"1\",\"2\"),(\"2\",\"3\"),(\"2\",\"3\")], multiedges=True)\n",
    "get_sp_trees(G7)\n",
    "print(\"Number of spanning trees: \",len(list(G7.spanning_trees() )))"
   ]
  },
  {
   "cell_type": "code",
   "execution_count": null,
   "metadata": {},
   "outputs": [],
   "source": [
    "#Notes----------------------------------------------------------#\n",
    "sage: g = graphs.HarriesWongGraph()\n",
    "sage: g.order()\n",
    "70\n",
    "sage: g.size()\n",
    "105\n",
    "sage: g.girth()\n",
    "10\n",
    "sage: g.diameter()\n",
    "6\n",
    "sage: orbits = g.automorphism_group(orbits=True)[-1]  # long time\n",
    "sage: g.show(figsize=[15, 15], partition=orbits)  # long time~"
   ]
  }
 ],
 "metadata": {
  "kernelspec": {
   "display_name": "SageMath 9.2",
   "language": "sage",
   "name": "sagemath"
  },
  "language_info": {
   "codemirror_mode": {
    "name": "ipython",
    "version": 3
   },
   "file_extension": ".py",
   "mimetype": "text/x-python",
   "name": "python",
   "nbconvert_exporter": "python",
   "pygments_lexer": "ipython3",
   "version": "3.7.7"
  }
 },
 "nbformat": 4,
 "nbformat_minor": 4
}
