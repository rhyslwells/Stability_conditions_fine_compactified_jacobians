{
 "cells": [
  {
   "cell_type": "markdown",
   "metadata": {},
   "source": [
    "# G1 - non trivial assignment (assignment in degree 0)"
   ]
  },
  {
   "cell_type": "code",
   "execution_count": 4,
   "metadata": {},
   "outputs": [
    {
     "data": {
      "image/png": "[encoded data removed]",
      "text/plain": [
       "Graphics object consisting of 7 graphics primitives"
      ]
     },
     "metadata": {},
     "output_type": "display_data"
    }
   ],
   "source": [
    "# Each undirected edge cor to two opposite directed edges.\n",
    "# Vertex label 1 is swapped with 0\n",
    "g = {0:{3:2,2:1},2:{0:1,3:1},3:{0:2,2:1}}\n",
    "S=Sandpile(g,0)\n",
    "# S.show(figsize=3, edge_labels=true)\n",
    "S.show(figsize=3)\n"
   ]
  },
  {
   "cell_type": "code",
   "execution_count": 13,
   "metadata": {},
   "outputs": [],
   "source": [
    "# Assignment1: degree=-2\n",
    "\n",
    "# D1=SandpileDivisor(S,{0: 2, 2: -2, 3: 0})\n",
    "# D2=SandpileDivisor(S,{0: 1, 2: -2, 3: 1})\n",
    "# D3=SandpileDivisor(S,{0: 1, 2: -3, 3: 2})\n",
    "# D4=SandpileDivisor(S,{0: 2, 2: -3, 3: 1})\n",
    "# D5=SandpileDivisor(S,{0: 0, 2: -2, 3: 2})\n",
    "\n",
    "# Sigma:\n",
    "\n",
    "# [(1, 0, 1), (1, -1, 2), (0, 0, 2), (2, 0, 0), (2, -1, 1)]\n",
    "\n",
    "D1=SandpileDivisor(S,{0: 1, 2: 0, 3: 1})\n",
    "D2=SandpileDivisor(S,{0: 1, 2: -1, 3: 2})\n",
    "D3=SandpileDivisor(S,{0: 0, 2: 0, 3: 2})\n",
    "D4=SandpileDivisor(S,{0: 2, 2: 0, 3: 0})\n",
    "D5=SandpileDivisor(S,{0: 2, 2: -1, 3: 1})\n",
    "\n",
    "sig_lst=[D1,D2,D3,D4,D5]"
   ]
  },
  {
   "cell_type": "code",
   "execution_count": 16,
   "metadata": {},
   "outputs": [
    {
     "name": "stdout",
     "output_type": "stream",
     "text": [
      "Are elements of sigma linearly equivelent to each other?\n",
      "All elements are linearly independnat if only false below, else there exists a linearly dependant pair.\n",
      "{False}\n"
     ]
    }
   ],
   "source": [
    "print(\"Are elements of sigma linearly equivelent to each other?\") \n",
    "# print(D1.is_linearly_equivalent(D2))\n",
    "# print(D1.is_linearly_equivalent(D3))\n",
    "# print(D1.is_linearly_equivalent(D4))\n",
    "# print(D1.is_linearly_equivalent(D4))\n",
    "\n",
    "lst=set([])\n",
    "for item1 in sig_lst:\n",
    "    for item2 in sig_lst:\n",
    "        if item1==item2:\n",
    "            pass\n",
    "        else:\n",
    "            lst.add(item1.is_linearly_equivalent(item2))\n",
    "#             print(item1.is_linearly_equivalent(item2))\n",
    "print(\"All elements are linearly independnat if only false below, else there exists a linearly dependant pair.\")\n",
    "print(lst)"
   ]
  },
  {
   "cell_type": "markdown",
   "metadata": {},
   "source": [
    "# G_455 - (assignment in degree 0)"
   ]
  },
  {
   "cell_type": "code",
   "execution_count": 2,
   "metadata": {},
   "outputs": [
    {
     "data": {
      "image/png": "[encoded data removed]",
      "text/plain": [
       "Graphics object consisting of 10 graphics primitives"
      ]
     },
     "metadata": {},
     "output_type": "display_data"
    }
   ],
   "source": [
    "# Each undirected edge cor to two opposite directed edges.\n",
    "# Vertex label 1 is swapped with 0\n",
    "\n",
    "g = {0:{2:1,4:1},\n",
    "     2:{0:1,3:1,4:1},\n",
    "     3:{2:1,4:1},\n",
    "     4:{0:1,2:1,3:1}}\n",
    "\n",
    "S=Sandpile(g,0)\n",
    "# S.show(figsize=3, edge_labels=true)\n",
    "S.show(figsize=3)\n"
   ]
  },
  {
   "cell_type": "code",
   "execution_count": 23,
   "metadata": {},
   "outputs": [],
   "source": [
    "#Sigma 1# All indy returns false.\n",
    "\n",
    "#  [[ 0  1  0  1]\n",
    "#  [ 1  1  0  0]\n",
    "#  [ 0  1  1  0]\n",
    "#  [ 1  0  1  0]\n",
    "#  [ 0  2  0  0]\n",
    "#  [ 1  0  0  1]\n",
    "#  [ 1  1  1 -1]\n",
    "#  [ 0  0  1  1]]\n",
    "    \n",
    "# D1=SandpileDivisor(S,{0:0,2:1, 3:0, 4:1})\n",
    "# D2=SandpileDivisor(S,{0:1, 2:1, 3:0, 4:0})\n",
    "# D3=SandpileDivisor(S,{0:0, 2:1, 3:1, 4:0})\n",
    "# D4=SandpileDivisor(S,{0:1, 2:0, 3:1, 4:0})\n",
    "# D5=SandpileDivisor(S,{0:0, 2:2, 3:0, 4:0})\n",
    "# D6=SandpileDivisor(S,{0:1, 2:0, 3:0, 4:1})\n",
    "# D7=SandpileDivisor(S,{0:1, 2:1, 3:1, 4:-1})\n",
    "# D8=SandpileDivisor(S,{0:0, 2:0, 3:1, 4:1})\n",
    "\n",
    "\n",
    "# #Sigma 2# All indy returns false.\n",
    "\n",
    "#  [[ 0  1  0  1] \n",
    "#   [-1  2  0  1] \n",
    "#   [-1  1  0  2]\n",
    "#  [-1  1  1  1]\n",
    "#  [ 0  1  1  0]\n",
    "#  [ 0  2  0  0]\n",
    "#  [ 0  0  0  2]\n",
    "#  [ 0  0  1  1]]\n",
    "    \n",
    "# D1=SandpileDivisor(S,{0:0, 2:1, 3:0, 4:1})\n",
    "# D2=SandpileDivisor(S,{0:-1, 2:2, 3:0, 4:1})\n",
    "# D3=SandpileDivisor(S,{0:-1, 2:1, 3:0, 4:2})\n",
    "# D4=SandpileDivisor(S,{0:-1, 2:1, 3:1, 4:1})\n",
    "# D5=SandpileDivisor(S,{0:0, 2:1, 3:1, 4:0})\n",
    "# D6=SandpileDivisor(S,{0:0, 2:2, 3:0, 4:0})\n",
    "# D7=SandpileDivisor(S,{0:0, 2:0, 3:0, 4:2})\n",
    "# D8=SandpileDivisor(S,{0:0, 2:0, 3:1, 4:1})\n",
    "\n",
    "\n",
    "# #Sigma 3 # All indy returns false.\n",
    "\n",
    "#  [[0 1 0 1]\n",
    "#  [1 1 0 0]\n",
    "#  [0 1 1 0]\n",
    "#  [1 0 1 0]\n",
    "#  [0 2 0 0]\n",
    "#  [1 0 0 1]\n",
    "#  [0 0 0 2]\n",
    "#  [0 0 1 1]]\n",
    "    \n",
    "# D1=SandpileDivisor(S,{0:0, 2:1, 3:0, 4:1})\n",
    "# D2=SandpileDivisor(S,{0:1, 2:1, 3:0, 4:0})\n",
    "# D3=SandpileDivisor(S,{0:0, 2:1, 3:1, 4:0})\n",
    "# D4=SandpileDivisor(S,{0:1, 2:0, 3:1, 4:0})\n",
    "# D5=SandpileDivisor(S,{0:0, 2:2, 3:0, 4:0})\n",
    "# D6=SandpileDivisor(S,{0:1, 2:0, 3:0, 4:1})\n",
    "# D7=SandpileDivisor(S,{0:0, 2:0, 3:0, 4:2})\n",
    "# D8=SandpileDivisor(S,{0:0, 2:0, 3:1, 4:1})\n",
    "\n",
    "\n",
    "# #Sigma 4 # All indy returns false.\n",
    "\n",
    "#  [[ 0  1  0  1]\n",
    "#  [-1  2  1  0]\n",
    "#  [-1  2  0  1]\n",
    "#  [-1  1  1  1]\n",
    "#  [ 0  1  1  0]\n",
    "#  [ 0  2  1 -1]\n",
    "#  [ 0  2  0  0]\n",
    "#  [ 0  0  1  1]]\n",
    "    \n",
    "# D1=SandpileDivisor(S,{0:0, 2:1, 3:0, 4:1})\n",
    "# D2=SandpileDivisor(S,{0:-1, 2:2, 3:1, 4:0})\n",
    "# D3=SandpileDivisor(S,{0:-1, 2:2, 3:0, 4:1})\n",
    "# D4=SandpileDivisor(S,{0:-1, 2:1, 3:1, 4:1})\n",
    "# D5=SandpileDivisor(S,{0:0, 2:1, 3:1, 4:0})\n",
    "# D6=SandpileDivisor(S,{0:0, 2:2, 3:1, 4:-1})\n",
    "# D7=SandpileDivisor(S,{0:0, 2:2, 3:0, 4:0})\n",
    "# D8=SandpileDivisor(S,{0:0, 2:0, 3:1, 4:1})\n",
    "\n",
    "\n",
    "# #Sigma 5 # All indy returns false.\n",
    "\n",
    "#  [[ 0  1  0  1]\n",
    "#  [ 1  1  0  0]\n",
    "#  [ 0  1  1  0]\n",
    "#  [ 1  0  1  0]\n",
    "#  [ 0  2  1 -1]\n",
    "#  [ 0  2  0  0]\n",
    "#  [ 1  1  1 -1]\n",
    "#  [ 0  0  1  1]]\n",
    "    \n",
    "# D1=SandpileDivisor(S,{0:0, 2:1, 3:0, 4:1})\n",
    "# D2=SandpileDivisor(S,{0:1, 2:1, 3:0, 4:0})\n",
    "# D3=SandpileDivisor(S,{0:0, 2:1, 3:1, 4:0})\n",
    "# D4=SandpileDivisor(S,{0:1, 2:0, 3:1, 4:0})\n",
    "# D5=SandpileDivisor(S,{0:0, 2:2, 3:1, 4:-1})\n",
    "# D6=SandpileDivisor(S,{0:0, 2:2, 3:0, 4:0})\n",
    "# D7=SandpileDivisor(S,{0:1, 2:1, 3:1, 4:-1})\n",
    "# D8=SandpileDivisor(S,{0:0, 2:0, 3:1, 4:1})\n",
    "\n",
    "\n",
    "# #Sigma 6 # All indy, returns false.\n",
    "\n",
    "#  [[ 0  1  0  1]\n",
    "#  [-1  2  1  0]\n",
    "#  [-1  2  0  1]\n",
    "#  [-1  1  0  2]\n",
    "#  [-1  1  1  1]\n",
    "#  [ 0  1  1  0]\n",
    "#  [ 0  2  0  0]\n",
    "#  [ 0  0  1  1]]\n",
    "    \n",
    "# D1=SandpileDivisor(S,{0:0, 2:1, 3:0, 4:1})\n",
    "# D2=SandpileDivisor(S,{0:-1, 2:2, 3:1, 4:0})\n",
    "# D3=SandpileDivisor(S,{0:-1, 2:2, 3:0, 4:1})\n",
    "# D4=SandpileDivisor(S,{0:-1, 2:1, 3:0, 4:2})\n",
    "# D5=SandpileDivisor(S,{0:-1, 2:1, 3:1, 4:1})\n",
    "# D6=SandpileDivisor(S,{0:0, 2:1, 3:1, 4:0})\n",
    "# D7=SandpileDivisor(S,{0:0, 2:2, 3:0, 4:0})\n",
    "# D8=SandpileDivisor(S,{0:0, 2:0, 3:1, 4:1})\n",
    "    \n",
    "#End\n",
    "\n",
    "sig_lst=[D1,D2,D3,D4,D5,D6,D7,D8]"
   ]
  },
  {
   "cell_type": "code",
   "execution_count": 22,
   "metadata": {},
   "outputs": [
    {
     "name": "stdout",
     "output_type": "stream",
     "text": [
      "Are elements of sigma linearly equivelent to each other?\n",
      "All elements are chip-firing independant if only false below, else there exists a linearly dependant pair.\n",
      "{False, True}\n"
     ]
    }
   ],
   "source": [
    "print(\"Are elements of sigma linearly equivelent to each other?\") \n",
    "\n",
    "lst=set([])\n",
    "for item1 in sig_lst:\n",
    "    for item2 in sig_lst:\n",
    "        if item1==item2:\n",
    "            pass\n",
    "        else:\n",
    "            lst.add(item1.is_linearly_equivalent(item2))\n",
    "#             print(item1.is_linearly_equivalent(item2))\n",
    "print(\"All elements are chip-firing independant if only false below, else there exists a linearly dependant pair.\")\n",
    "print(lst)"
   ]
  },
  {
   "cell_type": "markdown",
   "metadata": {},
   "source": [
    "# G_456 - (assignment in degree 0)"
   ]
  },
  {
   "cell_type": "code",
   "execution_count": 25,
   "metadata": {},
   "outputs": [
    {
     "data": {
      "image/png": "[encoded data removed]",
      "text/plain": [
       "Graphics object consisting of 9 graphics primitives"
      ]
     },
     "metadata": {},
     "output_type": "display_data"
    }
   ],
   "source": [
    "# Each undirected edge cor to two opposite directed edges.\n",
    "# Vertex label 1 is swapped with 0\n",
    "\n",
    "g = {0:{2:1,4:2},\n",
    "     2:{0:1,3:1},\n",
    "     3:{2:1,4:1},\n",
    "     4:{0:2,3:1}}\n",
    "\n",
    "S=Sandpile(g,0)\n",
    "# S.show(figsize=3, edge_labels=true)\n",
    "S.show(figsize=3)"
   ]
  },
  {
   "cell_type": "code",
   "execution_count": 36,
   "metadata": {},
   "outputs": [],
   "source": [
    "#Sigma 1 # All indy, returns false.\n",
    "\n",
    "#  [[ 0  1  0  1]\n",
    "#  [ 1  1  0  0]\n",
    "#  [-1  1  0  2]\n",
    "#  [-1  1  1  1]\n",
    "#  [ 0  1  1  0]\n",
    "#  [ 1  0  1  0]\n",
    "#  [ 0  0  1  1]]\n",
    "    \n",
    "# D1=SandpileDivisor(S,{0:0, 2:1, 3:0, 4:1})\n",
    "# D2=SandpileDivisor(S,{0:1, 2:1, 3:0, 4:0})\n",
    "# D3=SandpileDivisor(S,{0:-1, 2:1, 3:0, 4:2})\n",
    "# D4=SandpileDivisor(S,{0:-1, 2:1, 3:1, 4:1})\n",
    "# D5=SandpileDivisor(S,{0:0, 2:1, 3:1, 4:0})\n",
    "# D6=SandpileDivisor(S,{0:1, 2:0, 3:1, 4:0})\n",
    "# D7=SandpileDivisor(S,{0:0, 2:0, 3:1, 4:1})\n",
    "\n",
    "\n",
    "# #Sigma 2 # All indy, returns false.\n",
    "\n",
    "#  [[ 0  1  0  1]\n",
    "#  [ 1  1  0  0]\n",
    "#  [-1  1  0  2]\n",
    "#  [ 1  0  1  0]\n",
    "#  [ 1  0  0  1]\n",
    "#  [ 0  0  0  2]\n",
    "#  [ 0  0  1  1]]\n",
    "\n",
    "    \n",
    "# D1=SandpileDivisor(S,{0:0, 2:1, 3:0, 4:1})\n",
    "# D2=SandpileDivisor(S,{0:1, 2:1, 3:0, 4:0})\n",
    "# D3=SandpileDivisor(S,{0:-1, 2:1, 3:0, 4:2})\n",
    "# D4=SandpileDivisor(S,{0:1, 2:0, 3:1, 4:0})\n",
    "# D5=SandpileDivisor(S,{0:1, 2:0, 3:0, 4:1})\n",
    "# D6=SandpileDivisor(S,{0:0, 2:0, 3:0, 4:2})\n",
    "# D7=SandpileDivisor(S,{0:0, 2:0, 3:1, 4:1})\n",
    "\n",
    "\n",
    "# #Sigma 3 # All indy, returns false.\n",
    "\n",
    "#  [[0 1 0 1]\n",
    "#  [1 1 0 0]\n",
    "#  [1 0 1 0]\n",
    "#  [2 0 0 0]\n",
    "#  [1 0 0 1]\n",
    "#  [0 0 0 2]\n",
    "#  [0 0 1 1]]\n",
    "\n",
    "    \n",
    "# D1=SandpileDivisor(S,{0:0, 2:1, 3:0, 4:1})\n",
    "# D2=SandpileDivisor(S,{0:1, 2:1, 3:0, 4:0})\n",
    "# D3=SandpileDivisor(S,{0:1, 2:0, 3:1, 4:0})\n",
    "# D4=SandpileDivisor(S,{0:2, 2:0, 3:0, 4:0})\n",
    "# D5=SandpileDivisor(S,{0:1, 2:0, 3:0, 4:1})\n",
    "# D6=SandpileDivisor(S,{0:0, 2:0, 3:0, 4:2})\n",
    "# D7=SandpileDivisor(S,{0:0, 2:0, 3:1, 4:1})\n",
    "\n",
    "\n",
    "# #Sigma 4 # All indy, returns false.\n",
    "\n",
    "#  [[ 0  1  0  1]\n",
    "#  [ 1  1  0  0]\n",
    "#  [-1  1  1  1]\n",
    "#  [ 0  1  1  0]\n",
    "#  [ 1  0  1  0]\n",
    "#  [ 1  1  1 -1]\n",
    "#  [ 0  0  1  1]]\n",
    "    \n",
    "# D1=SandpileDivisor(S,{0:0, 2:1, 3:0, 4:1})\n",
    "# D2=SandpileDivisor(S,{0:1, 2:1, 3:0, 4:0})\n",
    "# D3=SandpileDivisor(S,{0:-1, 2:1, 3:1, 4:1})\n",
    "# D4=SandpileDivisor(S,{0:0, 2:1, 3:1, 4:0})\n",
    "# D5=SandpileDivisor(S,{0:1, 2:0, 3:1, 4:0})\n",
    "# D6=SandpileDivisor(S,{0:1, 2:1, 3:1, 4:-1})\n",
    "# D7=SandpileDivisor(S,{0:0, 2:0, 3:1, 4:1})\n",
    "\n",
    "\n",
    "# #Sigma 5 # All indy, returns false.\n",
    "\n",
    "#  [[ 0  1  0  1]\n",
    "#  [ 1  1  0  0]\n",
    "#  [ 0  1  1  0]\n",
    "#  [ 1  0  1  0]\n",
    "#  [ 2  0  1 -1]\n",
    "#  [ 1  1  1 -1]\n",
    "#  [ 0  0  1  1]]\n",
    "    \n",
    "# D1=SandpileDivisor(S,{0:0, 2:1, 3:0, 4:1})\n",
    "# D2=SandpileDivisor(S,{0:1, 2:1, 3:0, 4:0})\n",
    "# D3=SandpileDivisor(S,{0:0, 2:1, 3:1, 4:0})\n",
    "# D4=SandpileDivisor(S,{0:1, 2:0, 3:1, 4:0})\n",
    "# D5=SandpileDivisor(S,{0:2, 2:0, 3:1, 4:-1})\n",
    "# D6=SandpileDivisor(S,{0:1, 2:1, 3:1, 4:-1})\n",
    "# D7=SandpileDivisor(S,{0:0, 2:0, 3:1, 4:1})\n",
    "\n",
    "\n",
    "# #Sigma 6 # All indy, returns false.\n",
    "\n",
    "#  [[ 0  1  0  1]\n",
    "#  [ 1  1  0  0]\n",
    "#  [ 1  0  1  0]\n",
    "#  [ 2  0  0  0]\n",
    "#  [ 1  0  0  1]\n",
    "#  [ 2  0  1 -1]\n",
    "#  [ 0  0  1  1]]\n",
    "\n",
    "    \n",
    "# D1=SandpileDivisor(S,{0:0, 2:1, 3:0, 4:1})\n",
    "# D2=SandpileDivisor(S,{0:1, 2:1, 3:0, 4:0})\n",
    "# D3=SandpileDivisor(S,{0:1, 2:0, 3:1, 4:0})\n",
    "# D4=SandpileDivisor(S,{0:2, 2:0, 3:0, 4:0})\n",
    "# D5=SandpileDivisor(S,{0:1, 2:0, 3:0, 4:1})\n",
    "# D6=SandpileDivisor(S,{0:2, 2:0, 3:1, 4:-1})\n",
    "# D7=SandpileDivisor(S,{0:0, 2:0, 3:1, 4:1})\n",
    "    \n",
    "# #End\n",
    "\n",
    "sig_lst=[D1,D2,D3,D4,D5,D6,D7]"
   ]
  },
  {
   "cell_type": "code",
   "execution_count": 37,
   "metadata": {},
   "outputs": [
    {
     "name": "stdout",
     "output_type": "stream",
     "text": [
      "Are elements of sigma linearly equivelent to each other?\n",
      "All elements are chip-firing independant if only false below, else there exists a linearly dependant pair.\n",
      "{False}\n"
     ]
    }
   ],
   "source": [
    "print(\"Are elements of sigma linearly equivelent to each other?\") \n",
    "\n",
    "lst=set([])\n",
    "for item1 in sig_lst:\n",
    "    for item2 in sig_lst:\n",
    "        if item1==item2:\n",
    "            pass\n",
    "        else:\n",
    "            lst.add(item1.is_linearly_equivalent(item2))\n",
    "#             print(item1.is_linearly_equivalent(item2))\n",
    "print(\"All elements are chip-firing independant if only false below, else there exists a linearly dependant pair.\")\n",
    "print(lst)"
   ]
  },
  {
   "cell_type": "markdown",
   "metadata": {},
   "source": [
    "# I_4 - Non trivial assignments."
   ]
  },
  {
   "cell_type": "code",
   "execution_count": 2,
   "metadata": {},
   "outputs": [
    {
     "data": {
      "image/png": "[encoded data removed]",
      "text/plain": [
       "Graphics object consisting of 9 graphics primitives"
      ]
     },
     "metadata": {},
     "output_type": "display_data"
    }
   ],
   "source": [
    "# Each undirected edge cor to two opposite directed edges.\n",
    "# Vertex label 1 is swapped with 0\n",
    "g = {0:{4:1,2:1},2:{0:1,3:1},3:{2:1,4:1},4:{3:1,0:1}}\n",
    "S=Sandpile(g,0)\n",
    "# S.show(figsize=3, edge_labels=true)\n",
    "S.show(figsize=3)\n"
   ]
  },
  {
   "cell_type": "code",
   "execution_count": 18,
   "metadata": {},
   "outputs": [],
   "source": [
    "# For I_4 I have 6 different sigmas\n",
    "\n",
    "# Function 1 #Divisors done #Output is False: Therefore chip-firing independant.\n",
    "\n",
    "#  [[ 0  0  0  1]\n",
    "#  [ 0  1  0  0]\n",
    "#  [ 1  0  0  0]\n",
    "#  [ 0  1 -1  1]]\n",
    "    \n",
    "# D1=SandpileDivisor(S,{0:0, 2:0, 3:0, 4:1})\n",
    "# D2=SandpileDivisor(S,{0:1, 2:1, 3:0, 4:0})\n",
    "# D3=SandpileDivisor(S,{0:1, 2:0, 3:0, 4:0})\n",
    "# D4=SandpileDivisor(S,{0:0, 2:1, 3:-1, 4:1})\n",
    "# sig_lst=[D1,D2,D3,D4]\n",
    "\n",
    "    \n",
    "# Function 2 #Divisors done #Output is False: Therefore chip-firing independant.\n",
    "\n",
    "#  [[0 0 0 1]\n",
    "#  [0 1 0 0]\n",
    "#  [0 0 1 0]\n",
    "#  [1 0 0 0]]\n",
    "\n",
    "# D1=SandpileDivisor(S,{0:0, 2:0, 3:0, 4:1})\n",
    "# D2=SandpileDivisor(S,{0:1, 2:1, 3:0, 4:0})\n",
    "# D3=SandpileDivisor(S,{0:0, 2:0, 3:1, 4:0})\n",
    "# D4=SandpileDivisor(S,{0:1, 2:0, 3:0, 4:0})\n",
    "# sig_lst=[D1,D2,D3,D4]\n",
    "\n",
    "# Function 3 #Output is False: Therefore chip-firing independant.\n",
    "\n",
    "#  [[ 0  1  0  0]\n",
    "#  [ 0  0  1  0]\n",
    "#  [ 1  0  1 -1]\n",
    "#  [ 1  0  0  0]]\n",
    "\n",
    "# D1=SandpileDivisor(S,{0:0, 2:1, 3:0, 4:0})\n",
    "# D2=SandpileDivisor(S,{0:1, 2:1, 3:1, 4:0})\n",
    "# D3=SandpileDivisor(S,{0:1, 2:0, 3:1, 4:-1})\n",
    "# D4=SandpileDivisor(S,{0:1, 2:0, 3:0, 4:0})\n",
    "# sig_lst=[D1,D2,D3,D4]\n",
    "\n",
    "# Function 4  #Output is False: Therefore chip-firing independant.\n",
    "\n",
    "#  [[ 0  1  0  0]\n",
    "#  [ 1  0  0  0]\n",
    "#  [ 1  1 -1  0]\n",
    "#  [ 0  1 -1  1]]\n",
    "\n",
    "# D1=SandpileDivisor(S,{0:0, 2:1, 3:0, 4:0})\n",
    "# D2=SandpileDivisor(S,{0:1, 2:0, 3:0, 4:0})\n",
    "# D3=SandpileDivisor(S,{0:1, 2:1, 3:-1, 4:0})\n",
    "# D4=SandpileDivisor(S,{0:0, 2:1, 3:-1, 4:1})\n",
    "# sig_lst=[D1,D2,D3,D4]\n",
    "\n",
    "# Function 5 #Output is False: Therefore chip-firing independant.\n",
    "\n",
    "#  [[ 0  1  0  0]\n",
    "#  [ 1  0  0  0]\n",
    "#  [ 1  1 -1  0]\n",
    "#  [ 1  1  0 -1]]\n",
    "\n",
    "# D1=SandpileDivisor(S,{0:0, 2:1, 3:0, 4:0})\n",
    "# D2=SandpileDivisor(S,{0:1, 2:0, 3:0, 4:0})\n",
    "# D3=SandpileDivisor(S,{0:1, 2:1, 3:-1, 4:0})\n",
    "# D4=SandpileDivisor(S,{0:1, 2:1, 3:0, 4:-1})\n",
    "# sig_lst=[D1,D2,D3,D4]\n",
    "    \n",
    "# Function 6 #Output is False: Therefore chip-firing independant.\n",
    "\n",
    "#  [[ 0  1  0  0]\n",
    "#  [ 1  0  0  0]\n",
    "#  [ 1  0  1 -1]\n",
    "#  [ 1  1  0 -1]]\n",
    "\n",
    "# D1=SandpileDivisor(S,{0:0, 2:1, 3:0, 4:0})\n",
    "# D2=SandpileDivisor(S,{0:1, 2:0, 3:0, 4:0})\n",
    "# D3=SandpileDivisor(S,{0:1, 2:0, 3:1, 4:-1})\n",
    "# D4=SandpileDivisor(S,{0:1, 2:1, 3:0, 4:1})\n",
    "# sig_lst=[D1,D2,D3,D4]\n",
    "\n"
   ]
  },
  {
   "cell_type": "code",
   "execution_count": 19,
   "metadata": {},
   "outputs": [
    {
     "name": "stdout",
     "output_type": "stream",
     "text": [
      "Are elements of sigma linearly equivelent to each other?\n",
      "All elements are chip-firing independant if only false below, else there exists a linearly dependant pair.\n",
      "{False}\n"
     ]
    }
   ],
   "source": [
    "print(\"Are elements of sigma linearly equivelent to each other?\") \n",
    "\n",
    "lst=set([])\n",
    "for item1 in sig_lst:\n",
    "    for item2 in sig_lst:\n",
    "        if item1==item2:\n",
    "            pass\n",
    "        else:\n",
    "            lst.add(item1.is_linearly_equivalent(item2))\n",
    "#             print(item1.is_linearly_equivalent(item2))\n",
    "print(\"All elements are chip-firing independant if only false below, else there exists a linearly dependant pair.\")\n",
    "print(lst)"
   ]
  },
  {
   "cell_type": "markdown",
   "metadata": {},
   "source": [
    "# A check for MainQ on I_4"
   ]
  },
  {
   "cell_type": "markdown",
   "metadata": {},
   "source": [
    "Want to check if subtracting elements of sigma where we have no ovelap, that the assingments are linearly equivelent to 0, this will give and example of disprove what I am trying."
   ]
  },
  {
   "cell_type": "code",
   "execution_count": 2,
   "metadata": {},
   "outputs": [
    {
     "data": {
      "image/png": "[encoded data removed]",
      "text/plain": [
       "Graphics object consisting of 9 graphics primitives"
      ]
     },
     "metadata": {},
     "output_type": "display_data"
    }
   ],
   "source": [
    "# Each undirected edge cor to two opposite directed edges.\n",
    "# Vertex label 1 is swapped with 0\n",
    "g = {0:{4:1,2:1},2:{0:1,3:1},3:{2:1,4:1},4:{3:1,0:1}}\n",
    "S=Sandpile(g,0)\n",
    "# S.show(figsize=3, edge_labels=true)\n",
    "S.show(figsize=3)\n"
   ]
  },
  {
   "cell_type": "code",
   "execution_count": 4,
   "metadata": {},
   "outputs": [],
   "source": [
    "# For I_4 \n",
    "\n",
    "D1=SandpileDivisor(S,{0:0, 2:0, 3:1, 4:-1})\n",
    "D2=SandpileDivisor(S,{0:0, 2:0, 3:0, 4:0})\n",
    "sig_lst=[D1,D2]\n"
   ]
  },
  {
   "cell_type": "code",
   "execution_count": 5,
   "metadata": {},
   "outputs": [
    {
     "name": "stdout",
     "output_type": "stream",
     "text": [
      "Are elements of sigma linearly equivelent to each other?\n",
      "All elements are chip-firing independant if only false below, else there exists a linearly dependant pair.\n",
      "{False}\n"
     ]
    }
   ],
   "source": [
    "print(\"Are elements of sigma linearly equivelent to each other?\") \n",
    "\n",
    "lst=set([])\n",
    "for item1 in sig_lst:\n",
    "    for item2 in sig_lst:\n",
    "        if item1==item2:\n",
    "            pass\n",
    "        else:\n",
    "            lst.add(item1.is_linearly_equivalent(item2))\n",
    "#             print(item1.is_linearly_equivalent(item2))\n",
    "print(\"All elements are chip-firing independant if only false below, else there exists a linearly dependant pair.\")\n",
    "print(lst)"
   ]
  },
  {
   "cell_type": "code",
   "execution_count": null,
   "metadata": {},
   "outputs": [],
   "source": []
  }
 ],
 "metadata": {
  "kernelspec": {
   "display_name": "SageMath 9.2",
   "language": "sage",
   "name": "sagemath"
  },
  "language_info": {
   "codemirror_mode": {
    "name": "ipython",
    "version": 3
   },
   "file_extension": ".py",
   "mimetype": "text/x-python",
   "name": "python",
   "nbconvert_exporter": "python",
   "pygments_lexer": "ipython3",
   "version": "3.7.7"
  }
 },
 "nbformat": 4,
 "nbformat_minor": 4
}
