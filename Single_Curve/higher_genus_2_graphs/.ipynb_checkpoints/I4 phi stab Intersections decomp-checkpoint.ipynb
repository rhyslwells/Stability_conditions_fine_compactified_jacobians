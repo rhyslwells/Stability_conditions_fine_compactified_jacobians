{
 "cells": [
  {
   "cell_type": "markdown",
   "metadata": {},
   "source": [
    "For $\\phi$ stabilities, I want to display the cardinalities of the intersections."
   ]
  },
  {
   "cell_type": "code",
   "execution_count": 2,
   "metadata": {},
   "outputs": [],
   "source": [
    "from sympy import *\n",
    "from IPython.display import Image\n",
    "init_printing()"
   ]
  },
  {
   "cell_type": "code",
   "execution_count": 3,
   "metadata": {},
   "outputs": [],
   "source": [
    "# sigma data: vij denote where we add 1 on chip adding on T_i.\n",
    "\n",
    "v11,v12= Matrix([0,1,0,0]),Matrix([0,0,1,0])\n",
    "v21,v22= Matrix([0,0,1,0]),Matrix([0,0,0,1])\n",
    "v31,v32= Matrix([0,0,0,1]),Matrix([1,0,0,0])\n",
    "v41,v42= Matrix([1,0,0,0]),Matrix([0,1,0,0])"
   ]
  },
  {
   "cell_type": "code",
   "execution_count": 7,
   "metadata": {},
   "outputs": [],
   "source": [
    "#Checking the sizes of combinations of intersections of A_i\n",
    "\n",
    "def check_sizes(ass):\n",
    "    \n",
    "    print(\"Assignment:\")\n",
    "    for j in ass:\n",
    "        print(j,\"\\n\")\n",
    "\n",
    "    d1,d2,d3,d4=Matrix(ass[0]),Matrix(ass[1]),Matrix(ass[2]),Matrix(ass[3])\n",
    "\n",
    "    sig_d1=FiniteSet(d1+v11,d1+v12)\n",
    "    sig_d2=FiniteSet(d2+v21,d2+v22) \n",
    "    sig_d3=FiniteSet(d3+v31,d3+v32)\n",
    "    sig_d4=FiniteSet(d4+v41,d4+v42)\n",
    "\n",
    "    intersection1234=sig_d1.intersection(sig_d2).intersection(sig_d3).intersection(sig_d4)\n",
    "    \n",
    "#     print(\"The intersection of 4 A_i is: \",intersection1234,\"\\n\")\n",
    "\n",
    "    intersection123=sig_d1.intersection(sig_d2).intersection(sig_d3)\n",
    "    intersection124=sig_d1.intersection(sig_d2).intersection(sig_d4)\n",
    "    intersection134=sig_d1.intersection(sig_d3).intersection(sig_d4)\n",
    "    intersection234=sig_d2.intersection(sig_d3).intersection(sig_d4)\n",
    "\n",
    "    intersection12=sig_d1.intersection(sig_d2)\n",
    "    intersection13=sig_d1.intersection(sig_d3)\n",
    "    intersection14=sig_d1.intersection(sig_d4)\n",
    "\n",
    "    intersection23=sig_d2.intersection(sig_d3)\n",
    "    intersection24=sig_d2.intersection(sig_d4)\n",
    "    intersection34=sig_d3.intersection(sig_d4)\n",
    "\n",
    "    print(f\"intersection of 4 A_i terms: {len(intersection1234)}\")\n",
    "\n",
    "    print(f\"Combinations of intersection of 3 A_i terms: Labeled (A123,A124,A134,A234): {len(intersection123),len(intersection124),len(intersection134),len(intersection234)}\")\n",
    "\n",
    "    print(f\"Combinations of intersection of 2 A_i terms: Labeled (A12,A13,A14,A23,A24,A34):{len(intersection12),len(intersection13),len(intersection14),len(intersection23),len(intersection24),len(intersection34)}\")\n",
    "    \n",
    "    return"
   ]
  },
  {
   "cell_type": "code",
   "execution_count": 8,
   "metadata": {},
   "outputs": [],
   "source": [
    "#Assignments\n",
    "\n",
    "ass1=[[0,0,0,0],[-1,1,0,0],[-1,1,0,0],[-1,0,1,0]]\n",
    "\n",
    "ass2=[[0,0,0,0],[0,0,0,0],[-1,1,0,0],[-1,0,0,1]]\n",
    "\n",
    "ass3=[[0,0,0,0],[0,0,0,0],[0,0,0,0],[0,0,0,0]]\n",
    "\n",
    "ass4=[[0,0,0,0],[0,1,0,-1],[-1,1,1,-1],[-1,0,1,0]]\n",
    "\n",
    "ass5=[[0,0,0,0],[0,1,0,-1],[0,0,1,-1],[0,0,1,-1]]\n",
    "\n",
    "ass6=[[0,0,0,0],[1,0,0,-1],[0,0,1,-1],[0,0,0,0]]"
   ]
  },
  {
   "cell_type": "code",
   "execution_count": 9,
   "metadata": {},
   "outputs": [
    {
     "name": "stdout",
     "output_type": "stream",
     "text": [
      "Assignment:\n",
      "[0, 0, 0, 0] \n",
      "\n",
      "[-1, 1, 0, 0] \n",
      "\n",
      "[-1, 1, 0, 0] \n",
      "\n",
      "[-1, 0, 1, 0] \n",
      "\n",
      "intersection of 4 A_i terms: 0\n",
      "Combinations of intersection of 3 A_i terms: Labeled (A123,A124,A134,A234): (0, 0, 0, 0)\n",
      "Combinations of intersection of 2 A_i terms: Labeled (A12,A13,A14,A23,A24,A34):(0, 1, 1, 1, 1, 0)\n"
     ]
    }
   ],
   "source": [
    "check_sizes(ass1)"
   ]
  },
  {
   "cell_type": "code",
   "execution_count": 10,
   "metadata": {},
   "outputs": [
    {
     "name": "stdout",
     "output_type": "stream",
     "text": [
      "Assignment:\n",
      "[0, 0, 0, 0] \n",
      "\n",
      "[0, 0, 0, 0] \n",
      "\n",
      "[-1, 1, 0, 0] \n",
      "\n",
      "[-1, 0, 0, 1] \n",
      "\n",
      "intersection of 4 A_i terms: 0\n",
      "Combinations of intersection of 3 A_i terms: Labeled (A123,A124,A134,A234): (0, 0, 0, 0)\n",
      "Combinations of intersection of 2 A_i terms: Labeled (A12,A13,A14,A23,A24,A34):(1, 1, 0, 0, 1, 1)\n"
     ]
    }
   ],
   "source": [
    "check_sizes(ass2)"
   ]
  },
  {
   "cell_type": "code",
   "execution_count": 11,
   "metadata": {},
   "outputs": [
    {
     "name": "stdout",
     "output_type": "stream",
     "text": [
      "Assignment:\n",
      "[0, 0, 0, 0] \n",
      "\n",
      "[0, 0, 0, 0] \n",
      "\n",
      "[0, 0, 0, 0] \n",
      "\n",
      "[0, 0, 0, 0] \n",
      "\n",
      "intersection of 4 A_i terms: 0\n",
      "Combinations of intersection of 3 A_i terms: Labeled (A123,A124,A134,A234): (0, 0, 0, 0)\n",
      "Combinations of intersection of 2 A_i terms: Labeled (A12,A13,A14,A23,A24,A34):(1, 0, 1, 1, 0, 1)\n"
     ]
    }
   ],
   "source": [
    "check_sizes(ass3)"
   ]
  },
  {
   "cell_type": "code",
   "execution_count": 12,
   "metadata": {},
   "outputs": [
    {
     "name": "stdout",
     "output_type": "stream",
     "text": [
      "Assignment:\n",
      "[0, 0, 0, 0] \n",
      "\n",
      "[0, 1, 0, -1] \n",
      "\n",
      "[-1, 1, 1, -1] \n",
      "\n",
      "[-1, 0, 1, 0] \n",
      "\n",
      "intersection of 4 A_i terms: 0\n",
      "Combinations of intersection of 3 A_i terms: Labeled (A123,A124,A134,A234): (0, 0, 0, 0)\n",
      "Combinations of intersection of 2 A_i terms: Labeled (A12,A13,A14,A23,A24,A34):(1, 0, 1, 1, 0, 1)\n"
     ]
    }
   ],
   "source": [
    "check_sizes(ass4)"
   ]
  },
  {
   "cell_type": "code",
   "execution_count": 13,
   "metadata": {},
   "outputs": [
    {
     "name": "stdout",
     "output_type": "stream",
     "text": [
      "Assignment:\n",
      "[0, 0, 0, 0] \n",
      "\n",
      "[0, 1, 0, -1] \n",
      "\n",
      "[0, 0, 1, -1] \n",
      "\n",
      "[0, 0, 1, -1] \n",
      "\n",
      "intersection of 4 A_i terms: 0\n",
      "Combinations of intersection of 3 A_i terms: Labeled (A123,A124,A134,A234): (0, 0, 0, 0)\n",
      "Combinations of intersection of 2 A_i terms: Labeled (A12,A13,A14,A23,A24,A34):(1, 1, 0, 0, 1, 1)\n"
     ]
    }
   ],
   "source": [
    "check_sizes(ass5)"
   ]
  },
  {
   "cell_type": "code",
   "execution_count": 14,
   "metadata": {},
   "outputs": [
    {
     "name": "stdout",
     "output_type": "stream",
     "text": [
      "Assignment:\n",
      "[0, 0, 0, 0] \n",
      "\n",
      "[1, 0, 0, -1] \n",
      "\n",
      "[0, 0, 1, -1] \n",
      "\n",
      "[0, 0, 0, 0] \n",
      "\n",
      "intersection of 4 A_i terms: 0\n",
      "Combinations of intersection of 3 A_i terms: Labeled (A123,A124,A134,A234): (0, 0, 0, 0)\n",
      "Combinations of intersection of 2 A_i terms: Labeled (A12,A13,A14,A23,A24,A34):(0, 1, 1, 1, 1, 0)\n"
     ]
    }
   ],
   "source": [
    "check_sizes(ass6)"
   ]
  },
  {
   "cell_type": "code",
   "execution_count": null,
   "metadata": {},
   "outputs": [],
   "source": []
  }
 ],
 "metadata": {
  "kernelspec": {
   "display_name": "SageMath 9.2",
   "language": "sage",
   "name": "sagemath"
  },
  "language_info": {
   "codemirror_mode": {
    "name": "ipython",
    "version": 3
   },
   "file_extension": ".py",
   "mimetype": "text/x-python",
   "name": "python",
   "nbconvert_exporter": "python",
   "pygments_lexer": "ipython3",
   "version": "3.7.7"
  }
 },
 "nbformat": 4,
 "nbformat_minor": 4
}
