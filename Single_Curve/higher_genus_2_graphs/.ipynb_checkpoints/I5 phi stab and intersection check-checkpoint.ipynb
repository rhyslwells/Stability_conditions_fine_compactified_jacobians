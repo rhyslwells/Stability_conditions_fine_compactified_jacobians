{
 "cells": [
  {
   "cell_type": "markdown",
   "metadata": {},
   "source": [
    "# For $I_5$ want to check $|\\bigcap^{k} A_i|=0$ for $3\\le k \\le 5$"
   ]
  },
  {
   "cell_type": "code",
   "execution_count": 1,
   "metadata": {},
   "outputs": [],
   "source": [
    "from sympy import *\n",
    "from IPython.display import Image\n",
    "init_printing()"
   ]
  },
  {
   "cell_type": "code",
   "execution_count": null,
   "metadata": {},
   "outputs": [],
   "source": [
    "from sympy import *\n",
    "from collections import OrderedDict\n",
    "init_printing()\n",
    "#Symbols\n",
    "d11, d12, d13, d14 = symbols(\"d11, d12, d13,d14\", integer=True)"
   ]
  },
  {
   "cell_type": "code",
   "execution_count": null,
   "metadata": {},
   "outputs": [],
   "source": [
    "#Assignments:\n",
    "d1 = Matrix([0,0,0,0])\n",
    "\n",
    "# For sigma data\n",
    "\n",
    "v11= Matrix([0,1,0,0]) #For T_1\n",
    "v12= Matrix([0,0,1,0])\n",
    "\n",
    "v21= Matrix([0,0,1,0]) #For T_2\n",
    "v22= Matrix([0,0,0,1])\n",
    "\n",
    "v31= Matrix([0,0,0,1]) #For T_3\n",
    "v32= Matrix([1,0,0,0])\n",
    "\n",
    "v41= Matrix([1,0,0,0]) #For T_4\n",
    "v42= Matrix([0,1,0,0])\n",
    "\n",
    "sig_d1=FiniteSet(d1+v11,d1+v12)\n",
    "sig=sig_d1 #Change for Case 2) and 3)."
   ]
  },
  {
   "cell_type": "markdown",
   "metadata": {},
   "source": [
    "Do brute force to get the $24$ $\\sigma_{\\phi}$ "
   ]
  },
  {
   "cell_type": "code",
   "execution_count": 6,
   "metadata": {
    "scrolled": true
   },
   "outputs": [
    {
     "name": "stdout",
     "output_type": "stream",
     "text": [
      "243\n"
     ]
    }
   ],
   "source": [
    "d_lst=[-1,0,1] #Range of values from \\phi\n",
    "\n",
    "pre_ass=[]\n",
    "for a in d_lst:\n",
    "    for b in d_lst:\n",
    "        for c in d_lst:\n",
    "            for d in d_lst:\n",
    "                for e in d_lst:\n",
    "                    d=[a,b,c,d,e]\n",
    "                    pre_ass.append(d)\n",
    "print(len(pre_ass))"
   ]
  },
  {
   "cell_type": "code",
   "execution_count": null,
   "metadata": {},
   "outputs": [],
   "source": [
    "# Get Assignments list\n",
    "ass=[]\n",
    "for d1 in pre_ass:\n",
    "    for d2 in pre_ass:\n",
    "        for d3 in pre_ass:\n",
    "            for d4 in pre_ass:\n",
    "                    d=[[0,0,0,0],d1,d2,d3,d4]\n",
    "                    ass.append(d)\n",
    "print(len(pre_ass))                "
   ]
  },
  {
   "cell_type": "markdown",
   "metadata": {},
   "source": [
    "## Get $\\phi$ stabilities\n"
   ]
  },
  {
   "cell_type": "code",
   "execution_count": 2,
   "metadata": {},
   "outputs": [],
   "source": [
    "# sigma data: vij denote where we add 1 on chip adding on T_i.\n",
    "\n",
    "v11,v12= Matrix([0,1,0,0,0]),Matrix([0,0,1,0,0])\n",
    "\n",
    "v21,v22= Matrix([0,0,1,0,0]),Matrix([0,0,0,1,0])\n",
    "\n",
    "v31,v32= Matrix([0,0,0,1,0]),Matrix([0,0,0,0,1])\n",
    "\n",
    "v41,v42= Matrix([0,0,0,0,1]),Matrix([1,0,0,0,0])\n",
    "\n",
    "v51,v52= Matrix([1,0,0,0,0]),Matrix([0,1,0,0,0])\n"
   ]
  },
  {
   "cell_type": "markdown",
   "metadata": {
    "heading_collapsed": true
   },
   "source": [
    "## Check intersections"
   ]
  },
  {
   "cell_type": "code",
   "execution_count": 3,
   "metadata": {
    "hidden": true
   },
   "outputs": [],
   "source": [
    "#Checking the sizes of combinations of intersections of A_i\n",
    "\n",
    "def check_sizes(ass):\n",
    "    \n",
    "    print(\"Assignment:\")\n",
    "    for j in ass:\n",
    "        print(j,\"\\n\")\n",
    "\n",
    "    d1,d2,d3,d4=Matrix(ass[0]),Matrix(ass[1]),Matrix(ass[2]),Matrix(ass[3])\n",
    "\n",
    "    sig_d1=FiniteSet(d1+v11,d1+v12)\n",
    "    sig_d2=FiniteSet(d2+v21,d2+v22) \n",
    "    sig_d3=FiniteSet(d3+v31,d3+v32)\n",
    "    sig_d4=FiniteSet(d4+v41,d4+v42)\n",
    "\n",
    "    intersection1234=sig_d1.intersection(sig_d2).intersection(sig_d3).intersection(sig_d4)\n",
    "    \n",
    "#     print(\"The intersection of 4 A_i is: \",intersection1234,\"\\n\")\n",
    "\n",
    "    intersection123=sig_d1.intersection(sig_d2).intersection(sig_d3)\n",
    "    intersection124=sig_d1.intersection(sig_d2).intersection(sig_d4)\n",
    "    intersection134=sig_d1.intersection(sig_d3).intersection(sig_d4)\n",
    "    intersection234=sig_d2.intersection(sig_d3).intersection(sig_d4)\n",
    "\n",
    "    intersection12=sig_d1.intersection(sig_d2)\n",
    "    intersection13=sig_d1.intersection(sig_d3)\n",
    "    intersection14=sig_d1.intersection(sig_d4)\n",
    "\n",
    "    intersection23=sig_d2.intersection(sig_d3)\n",
    "    intersection24=sig_d2.intersection(sig_d4)\n",
    "    intersection34=sig_d3.intersection(sig_d4)\n",
    "\n",
    "    print(f\"intersection of 4 A_i terms: {len(intersection1234)}\")\n",
    "\n",
    "    print(f\"Combinations of intersection of 3 A_i terms: Labeled (A123,A124,A134,A234): {len(intersection123),len(intersection124),len(intersection134),len(intersection234)}\")\n",
    "\n",
    "    print(f\"Combinations of intersection of 2 A_i terms: Labeled (A12,A13,A14,A23,A24,A34):{len(intersection12),len(intersection13),len(intersection14),len(intersection23),len(intersection24),len(intersection34)}\")\n",
    "    \n",
    "    return"
   ]
  },
  {
   "cell_type": "markdown",
   "metadata": {
    "hidden": true
   },
   "source": [
    "For $\\phi$ stabilities, I want to display the cardinalities of the intersections."
   ]
  },
  {
   "cell_type": "code",
   "execution_count": 4,
   "metadata": {
    "hidden": true
   },
   "outputs": [],
   "source": [
    "#Assignments\n",
    "\n",
    "\n",
    "\n",
    "ass1=[[0,0,0,0],[-1,1,0,0],[-1,1,0,0],[-1,0,1,0]]\n",
    "\n",
    "ass2=[[0,0,0,0],[0,0,0,0],[-1,1,0,0],[-1,0,0,1]]\n",
    "\n",
    "ass3=[[0,0,0,0],[0,0,0,0],[0,0,0,0],[0,0,0,0]]\n",
    "\n",
    "ass4=[[0,0,0,0],[0,1,0,-1],[-1,1,1,-1],[-1,0,1,0]]\n",
    "\n",
    "ass5=[[0,0,0,0],[0,1,0,-1],[0,0,1,-1],[0,0,1,-1]]\n",
    "\n",
    "ass6=[[0,0,0,0],[1,0,0,-1],[0,0,1,-1],[0,0,0,0]]"
   ]
  },
  {
   "cell_type": "code",
   "execution_count": 6,
   "metadata": {
    "hidden": true
   },
   "outputs": [
    {
     "name": "stdout",
     "output_type": "stream",
     "text": [
      "Assignment:\n",
      "[0, 0, 0, 0] \n",
      "\n",
      "[-1, 1, 0, 0] \n",
      "\n",
      "[-1, 1, 0, 0] \n",
      "\n",
      "[-1, 0, 1, 0] \n",
      "\n",
      "intersection of 4 A_i terms: 0\n",
      "Combinations of intersection of 3 A_i terms: Labeled (A123,A124,A134,A234): (0, 0, 0, 0)\n",
      "Combinations of intersection of 2 A_i terms: Labeled (A12,A13,A14,A23,A24,A34):(0, 1, 1, 1, 1, 0)\n",
      "he\n"
     ]
    }
   ],
   "source": [
    "check_sizes(ass1)"
   ]
  }
 ],
 "metadata": {
  "hide_input": false,
  "kernelspec": {
   "display_name": "Python 3 (ipykernel)",
   "language": "python",
   "name": "python3"
  },
  "language_info": {
   "codemirror_mode": {
    "name": "ipython",
    "version": 3
   },
   "file_extension": ".py",
   "mimetype": "text/x-python",
   "name": "python",
   "nbconvert_exporter": "python",
   "pygments_lexer": "ipython3",
   "version": "3.8.12"
  },
  "latex_envs": {
   "LaTeX_envs_menu_present": true,
   "autoclose": false,
   "autocomplete": true,
   "bibliofile": "biblio.bib",
   "cite_by": "apalike",
   "current_citInitial": 1,
   "eqLabelWithNumbers": true,
   "eqNumInitial": 1,
   "hotkeys": {
    "equation": "Ctrl-E",
    "itemize": "Ctrl-I"
   },
   "labels_anchors": false,
   "latex_user_defs": false,
   "report_style_numbering": false,
   "user_envs_cfg": false
  },
  "toc": {
   "base_numbering": 1,
   "nav_menu": {},
   "number_sections": true,
   "sideBar": true,
   "skip_h1_title": false,
   "title_cell": "Table of Contents",
   "title_sidebar": "Contents",
   "toc_cell": false,
   "toc_position": {},
   "toc_section_display": true,
   "toc_window_display": false
  }
 },
 "nbformat": 4,
 "nbformat_minor": 4
}
